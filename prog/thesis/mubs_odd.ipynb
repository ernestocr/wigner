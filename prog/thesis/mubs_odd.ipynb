{
 "cells": [
  {
   "cell_type": "code",
   "execution_count": 73,
   "metadata": {},
   "outputs": [],
   "source": [
    "from sage.all import *\n",
    "from mubs_utils import testMubs, testMubs2, saveMubs\n",
    "import numpy as np"
   ]
  },
  {
   "cell_type": "code",
   "execution_count": 74,
   "metadata": {},
   "outputs": [],
   "source": [
    "%reload_ext line_profiler\n",
    "%reload_ext autoreload\n",
    "%autoreload 2"
   ]
  },
  {
   "attachments": {},
   "cell_type": "markdown",
   "metadata": {},
   "source": [
    "Quick check for dimension for one qutrit."
   ]
  },
  {
   "cell_type": "code",
   "execution_count": 75,
   "metadata": {},
   "outputs": [],
   "source": [
    "F = GF(3, 'x')\n",
    "\n",
    "mubs = [identity_matrix(3)]\n",
    "for m in F:\n",
    "    Bm = zero_matrix(SR, 3,3)\n",
    "    for j, v in enumerate(F):\n",
    "        for i, w in enumerate(F):\n",
    "            pwr = ( (1/F(2))*w**2*m + v*w).trace()\n",
    "            Bm[i,j] = exp(2*I*pi / 3)**Integer(lift(pwr)) * 1/sqrt(3)\n",
    "    mubs.append(Bm)"
   ]
  },
  {
   "cell_type": "code",
   "execution_count": 76,
   "metadata": {},
   "outputs": [
    {
     "name": "stdout",
     "output_type": "stream",
     "text": [
      "[1 0 0]\n",
      "[0 1 0]\n",
      "[0 0 1]\n",
      "---\n",
      "[                        1/3*sqrt(3)                         1/3*sqrt(3)                         1/3*sqrt(3)]\n",
      "[                        1/3*sqrt(3)       -1/6*sqrt(3)*(-I*sqrt(3) + 1) 1/3*sqrt(3)*(1/2*I*sqrt(3) - 1/2)^2]\n",
      "[                        1/3*sqrt(3) 1/3*sqrt(3)*(1/2*I*sqrt(3) - 1/2)^2       -1/6*sqrt(3)*(-I*sqrt(3) + 1)]\n",
      "---\n",
      "[                        1/3*sqrt(3)                         1/3*sqrt(3)                         1/3*sqrt(3)]\n",
      "[1/3*sqrt(3)*(1/2*I*sqrt(3) - 1/2)^2                         1/3*sqrt(3)       -1/6*sqrt(3)*(-I*sqrt(3) + 1)]\n",
      "[1/3*sqrt(3)*(1/2*I*sqrt(3) - 1/2)^2       -1/6*sqrt(3)*(-I*sqrt(3) + 1)                         1/3*sqrt(3)]\n",
      "---\n",
      "[                        1/3*sqrt(3)                         1/3*sqrt(3)                         1/3*sqrt(3)]\n",
      "[      -1/6*sqrt(3)*(-I*sqrt(3) + 1) 1/3*sqrt(3)*(1/2*I*sqrt(3) - 1/2)^2                         1/3*sqrt(3)]\n",
      "[      -1/6*sqrt(3)*(-I*sqrt(3) + 1)                         1/3*sqrt(3) 1/3*sqrt(3)*(1/2*I*sqrt(3) - 1/2)^2]\n",
      "---\n"
     ]
    }
   ],
   "source": [
    "for B in mubs:\n",
    "    print(B)\n",
    "    print('---')"
   ]
  },
  {
   "cell_type": "code",
   "execution_count": 77,
   "metadata": {},
   "outputs": [
    {
     "name": "stdout",
     "output_type": "stream",
     "text": [
      "Testing set 0\n",
      "Testing set 1\n",
      "Testing set 2\n",
      "Testing set 3\n"
     ]
    },
    {
     "data": {
      "text/plain": [
       "True"
      ]
     },
     "execution_count": 77,
     "metadata": {},
     "output_type": "execute_result"
    }
   ],
   "source": [
    "testMubs2(mubs)"
   ]
  },
  {
   "cell_type": "code",
   "execution_count": 78,
   "metadata": {},
   "outputs": [],
   "source": [
    "# saveMubs(mubs, 'MUBS/3-1-desarguesian')"
   ]
  },
  {
   "attachments": {},
   "cell_type": "markdown",
   "metadata": {},
   "source": [
    "Three qutrits example."
   ]
  },
  {
   "cell_type": "code",
   "execution_count": 79,
   "metadata": {},
   "outputs": [],
   "source": [
    "p = 3\n",
    "n = 3\n",
    "d = p**n"
   ]
  },
  {
   "cell_type": "code",
   "execution_count": 80,
   "metadata": {},
   "outputs": [
    {
     "data": {
      "text/plain": [
       "Finite Field in x of size 3^3"
      ]
     },
     "execution_count": 80,
     "metadata": {},
     "output_type": "execute_result"
    }
   ],
   "source": [
    "F = GF(d, 'x'); x = F.gen()\n",
    "F"
   ]
  },
  {
   "cell_type": "code",
   "execution_count": 81,
   "metadata": {},
   "outputs": [
    {
     "data": {
      "text/plain": [
       "x^3 + 2*x + 1"
      ]
     },
     "execution_count": 81,
     "metadata": {},
     "output_type": "execute_result"
    }
   ],
   "source": [
    "charpoly(x) # Conways poly again."
   ]
  },
  {
   "cell_type": "code",
   "execution_count": 82,
   "metadata": {},
   "outputs": [
    {
     "data": {
      "text/plain": [
       "[0,\n",
       " 1,\n",
       " x,\n",
       " x^2,\n",
       " x + 2,\n",
       " x^2 + 2*x,\n",
       " 2*x^2 + x + 2,\n",
       " x^2 + x + 1,\n",
       " x^2 + 2*x + 2,\n",
       " 2*x^2 + 2,\n",
       " x + 1,\n",
       " x^2 + x,\n",
       " x^2 + x + 2,\n",
       " x^2 + 2,\n",
       " 2,\n",
       " 2*x,\n",
       " 2*x^2,\n",
       " 2*x + 1,\n",
       " 2*x^2 + x,\n",
       " x^2 + 2*x + 1,\n",
       " 2*x^2 + 2*x + 2,\n",
       " 2*x^2 + x + 1,\n",
       " x^2 + 1,\n",
       " 2*x + 2,\n",
       " 2*x^2 + 2*x,\n",
       " 2*x^2 + 2*x + 1,\n",
       " 2*x^2 + 1]"
      ]
     },
     "execution_count": 82,
     "metadata": {},
     "output_type": "execute_result"
    }
   ],
   "source": [
    "FF = [F(0)] + [x**j for j in range(26)]\n",
    "FF"
   ]
  },
  {
   "attachments": {},
   "cell_type": "markdown",
   "metadata": {},
   "source": [
    "The order of `FF` is the same as Magma's ordering."
   ]
  },
  {
   "attachments": {},
   "cell_type": "markdown",
   "metadata": {},
   "source": [
    "Desarguesian spread."
   ]
  },
  {
   "cell_type": "code",
   "execution_count": 83,
   "metadata": {},
   "outputs": [],
   "source": [
    "two = F(2)"
   ]
  },
  {
   "cell_type": "code",
   "execution_count": 84,
   "metadata": {},
   "outputs": [],
   "source": [
    "mubs = [identity_matrix(d)]\n",
    "for m in FF:\n",
    "    Bm = zero_matrix(SR, d,d)\n",
    "    for j, v in enumerate(FF):\n",
    "        for i, w in enumerate(FF):\n",
    "            pwr = ( (1/two)*m*w**2 + v*w).trace()\n",
    "            # pwr = ( m*w**2 + v*w).trace()\n",
    "            Bm[i,j] = exp(2*I*pi / p)**Integer(pwr) * 1/sqrt(d)\n",
    "            # Bm[i,j] = Integer(pwr)\n",
    "    mubs.append(Bm)"
   ]
  },
  {
   "attachments": {},
   "cell_type": "markdown",
   "metadata": {},
   "source": [
    "The powers don't match with Andres because he forgot to divide by two. Let me just make sure he didn't use some other code by comparing the actual saved MUBs."
   ]
  },
  {
   "cell_type": "code",
   "execution_count": 85,
   "metadata": {},
   "outputs": [
    {
     "name": "stdout",
     "output_type": "stream",
     "text": [
      "Saved to MUBS/3-3-desarguesian3.npy\n"
     ]
    }
   ],
   "source": [
    "saveMubs(mubs, 'MUBS/3-3-desarguesian3.npy')"
   ]
  },
  {
   "cell_type": "code",
   "execution_count": 88,
   "metadata": {},
   "outputs": [
    {
     "data": {
      "text/plain": [
       "(756, 27)"
      ]
     },
     "execution_count": 88,
     "metadata": {},
     "output_type": "execute_result"
    }
   ],
   "source": [
    "mubs = np.concatenate([m.numpy(dtype='complex64') for m in mubs])\n",
    "mubs.shape"
   ]
  },
  {
   "cell_type": "code",
   "execution_count": 60,
   "metadata": {},
   "outputs": [],
   "source": [
    "from scipy.io import loadmat"
   ]
  },
  {
   "cell_type": "code",
   "execution_count": 61,
   "metadata": {},
   "outputs": [],
   "source": [
    "amubs = loadmat('MUBS/andres-MUBQT.mat')"
   ]
  },
  {
   "cell_type": "code",
   "execution_count": 62,
   "metadata": {},
   "outputs": [
    {
     "data": {
      "text/plain": [
       "(756, 27)"
      ]
     },
     "execution_count": 62,
     "metadata": {},
     "output_type": "execute_result"
    }
   ],
   "source": [
    "amubs = amubs['M1']\n",
    "amubs.shape"
   ]
  },
  {
   "cell_type": "code",
   "execution_count": 63,
   "metadata": {},
   "outputs": [
    {
     "data": {
      "text/plain": [
       "True"
      ]
     },
     "execution_count": 63,
     "metadata": {},
     "output_type": "execute_result"
    }
   ],
   "source": [
    "k = 1\n",
    "np.all(np.isclose(amubs[27*k:27*(k+1)], mubs[27*k:27*(k+1)]))"
   ]
  },
  {
   "cell_type": "code",
   "execution_count": 21,
   "metadata": {},
   "outputs": [],
   "source": [
    "import matplotlib.pyplot as plt"
   ]
  },
  {
   "cell_type": "code",
   "execution_count": 22,
   "metadata": {},
   "outputs": [
    {
     "data": {
      "text/plain": [
       "<matplotlib.image.AxesImage at 0x17910c9a0>"
      ]
     },
     "execution_count": 22,
     "metadata": {},
     "output_type": "execute_result"
    },
    {
     "data": {
      "image/png": "[encoded data removed]",
      "text/plain": [
       "<Figure size 640x480 with 2 Axes>"
      ]
     },
     "metadata": {},
     "output_type": "display_data"
    }
   ],
   "source": [
    "k = 5\n",
    "\n",
    "fig, axs = plt.subplots(1,2)\n",
    "axs[0].imshow(np.real(mubs[27*k:27*(k+1)]))\n",
    "axs[1].imshow(np.real(amubs[27*k:27*(k+1)]))"
   ]
  },
  {
   "attachments": {},
   "cell_type": "markdown",
   "metadata": {},
   "source": [
    "So no doubt that they are different. Next step is to check if they are MUBs."
   ]
  },
  {
   "cell_type": "code",
   "execution_count": 64,
   "metadata": {},
   "outputs": [
    {
     "data": {
      "text/plain": [
       "1.0"
      ]
     },
     "execution_count": 64,
     "metadata": {},
     "output_type": "execute_result"
    }
   ],
   "source": [
    "np.linalg.norm(mubs[27:54,7])"
   ]
  },
  {
   "cell_type": "code",
   "execution_count": 65,
   "metadata": {},
   "outputs": [
    {
     "data": {
      "text/plain": [
       "(756, 27)"
      ]
     },
     "execution_count": 65,
     "metadata": {},
     "output_type": "execute_result"
    }
   ],
   "source": [
    "mubs.shape"
   ]
  },
  {
   "cell_type": "code",
   "execution_count": 86,
   "metadata": {},
   "outputs": [],
   "source": [
    "def mubTest(mubs):\n",
    "    n, m = mubs.shape\n",
    "    h = n // 27\n",
    "    M = [mubs[27*k:27*(k+1)] for k in range(h)]\n",
    "    for i, B1 in enumerate(M):\n",
    "        for j, B2 in enumerate(M):\n",
    "            if i != j:\n",
    "                for s in range(27):\n",
    "                    for r in range(27):\n",
    "                        inp = np.abs(np.conj(B1[:,s]).T @ B2[:,r])**2\n",
    "                        if not np.isclose(inp, 1/27, rtol=1e-5):\n",
    "                            print(i, j, s, r, inp)\n",
    "                            raise Exception('Not MUBs!')\n",
    "        print('Set {} passed.'.format(i))"
   ]
  },
  {
   "cell_type": "code",
   "execution_count": 89,
   "metadata": {},
   "outputs": [
    {
     "name": "stdout",
     "output_type": "stream",
     "text": [
      "Set 0 passed.\n",
      "Set 1 passed.\n",
      "Set 2 passed.\n",
      "Set 3 passed.\n",
      "Set 4 passed.\n",
      "Set 5 passed.\n",
      "Set 6 passed.\n",
      "Set 7 passed.\n",
      "Set 8 passed.\n",
      "Set 9 passed.\n",
      "Set 10 passed.\n",
      "Set 11 passed.\n",
      "Set 12 passed.\n",
      "Set 13 passed.\n",
      "Set 14 passed.\n",
      "Set 15 passed.\n",
      "Set 16 passed.\n",
      "Set 17 passed.\n",
      "Set 18 passed.\n",
      "Set 19 passed.\n",
      "Set 20 passed.\n",
      "Set 21 passed.\n",
      "Set 22 passed.\n",
      "Set 23 passed.\n",
      "Set 24 passed.\n",
      "Set 25 passed.\n",
      "Set 26 passed.\n",
      "Set 27 passed.\n"
     ]
    }
   ],
   "source": [
    "mubTest(mubs)"
   ]
  },
  {
   "cell_type": "code",
   "execution_count": 68,
   "metadata": {},
   "outputs": [
    {
     "name": "stdout",
     "output_type": "stream",
     "text": [
      "Set 0 passed.\n",
      "1 11 0 0 1.0000000000000004\n"
     ]
    },
    {
     "ename": "Exception",
     "evalue": "Not MUBs!",
     "output_type": "error",
     "traceback": [
      "\u001b[0;31m---------------------------------------------------------------------------\u001b[0m",
      "\u001b[0;31mException\u001b[0m                                 Traceback (most recent call last)",
      "Cell \u001b[0;32mIn[68], line 1\u001b[0m\n\u001b[0;32m----> 1\u001b[0m mubTest(amubs)\n",
      "Cell \u001b[0;32mIn[66], line 13\u001b[0m, in \u001b[0;36mmubTest\u001b[0;34m(mubs)\u001b[0m\n\u001b[1;32m     11\u001b[0m                 \u001b[39mif\u001b[39;00m \u001b[39mnot\u001b[39;00m np\u001b[39m.\u001b[39misclose(inp, \u001b[39m1\u001b[39m\u001b[39m/\u001b[39m\u001b[39m27\u001b[39m, rtol\u001b[39m=\u001b[39m\u001b[39m1e-5\u001b[39m):\n\u001b[1;32m     12\u001b[0m                     \u001b[39mprint\u001b[39m(i, j, s, r, inp)\n\u001b[0;32m---> 13\u001b[0m                     \u001b[39mraise\u001b[39;00m \u001b[39mException\u001b[39;00m(\u001b[39m'\u001b[39m\u001b[39mNot MUBs!\u001b[39m\u001b[39m'\u001b[39m)\n\u001b[1;32m     14\u001b[0m \u001b[39mprint\u001b[39m(\u001b[39m'\u001b[39m\u001b[39mSet \u001b[39m\u001b[39m{}\u001b[39;00m\u001b[39m passed.\u001b[39m\u001b[39m'\u001b[39m\u001b[39m.\u001b[39mformat(i))\n",
      "\u001b[0;31mException\u001b[0m: Not MUBs!"
     ]
    }
   ],
   "source": [
    "mubTest(amubs)"
   ]
  },
  {
   "cell_type": "code",
   "execution_count": 69,
   "metadata": {},
   "outputs": [
    {
     "data": {
      "text/plain": [
       "array([0.19245009+0.j, 0.19245009+0.j, 0.19245009+0.j, 0.19245009+0.j,\n",
       "       0.19245009+0.j, 0.19245009+0.j, 0.19245009+0.j, 0.19245009+0.j,\n",
       "       0.19245009+0.j, 0.19245009+0.j, 0.19245009+0.j, 0.19245009+0.j,\n",
       "       0.19245009+0.j, 0.19245009+0.j, 0.19245009+0.j, 0.19245009+0.j,\n",
       "       0.19245009+0.j, 0.19245009+0.j, 0.19245009+0.j, 0.19245009+0.j,\n",
       "       0.19245009+0.j, 0.19245009+0.j, 0.19245009+0.j, 0.19245009+0.j,\n",
       "       0.19245009+0.j, 0.19245009+0.j, 0.19245009+0.j])"
      ]
     },
     "execution_count": 69,
     "metadata": {},
     "output_type": "execute_result"
    }
   ],
   "source": [
    "amubs[27*1:27*2,0]"
   ]
  },
  {
   "cell_type": "code",
   "execution_count": 70,
   "metadata": {},
   "outputs": [
    {
     "data": {
      "text/plain": [
       "array([0.19245009+0.j, 0.19245009+0.j, 0.19245009+0.j, 0.19245009+0.j,\n",
       "       0.19245009+0.j, 0.19245009+0.j, 0.19245009+0.j, 0.19245009+0.j,\n",
       "       0.19245009+0.j, 0.19245009+0.j, 0.19245009+0.j, 0.19245009+0.j,\n",
       "       0.19245009+0.j, 0.19245009+0.j, 0.19245009+0.j, 0.19245009+0.j,\n",
       "       0.19245009+0.j, 0.19245009+0.j, 0.19245009+0.j, 0.19245009+0.j,\n",
       "       0.19245009+0.j, 0.19245009+0.j, 0.19245009+0.j, 0.19245009+0.j,\n",
       "       0.19245009+0.j, 0.19245009+0.j, 0.19245009+0.j])"
      ]
     },
     "execution_count": 70,
     "metadata": {},
     "output_type": "execute_result"
    }
   ],
   "source": [
    "amubs[27*11:27*12,0]"
   ]
  },
  {
   "cell_type": "code",
   "execution_count": 71,
   "metadata": {},
   "outputs": [
    {
     "data": {
      "text/plain": [
       "True"
      ]
     },
     "execution_count": 71,
     "metadata": {},
     "output_type": "execute_result"
    }
   ],
   "source": [
    "np.all(amubs[27*1:27*2] == amubs[27*11:27*12])"
   ]
  },
  {
   "attachments": {},
   "cell_type": "markdown",
   "metadata": {},
   "source": [
    "Andres' set is not mutually unbiased, the set 1 and 11 share a same vector and their inner product squared is not $1/27$."
   ]
  },
  {
   "cell_type": "code",
   "execution_count": 72,
   "metadata": {},
   "outputs": [
    {
     "data": {
      "text/plain": [
       "1.0000000000000004"
      ]
     },
     "execution_count": 72,
     "metadata": {},
     "output_type": "execute_result"
    }
   ],
   "source": [
    "np.abs(np.conj(amubs[27*1:27*2,0]).T @ amubs[27*11:27*12,0])**2"
   ]
  },
  {
   "cell_type": "code",
   "execution_count": null,
   "metadata": {},
   "outputs": [],
   "source": [
    "# saveMubs(mubs, 'MUBS/3-3-desarguesian')\n",
    "# (np.load('MUBS/3-3-desarguesian.npy')).shape"
   ]
  },
  {
   "attachments": {},
   "cell_type": "markdown",
   "metadata": {},
   "source": [
    "So the Desarguesian spread of course produces MUBs. Too large to check with sagemaths low speeds. Now unto Kantor spread given by Alberts twisted fields. The operation is given by:\n",
    "$$w \\circ m = mw^9 + m^3 w^3.$$"
   ]
  },
  {
   "cell_type": "code",
   "execution_count": 189,
   "metadata": {},
   "outputs": [],
   "source": [
    "mubs = [identity_matrix(d)]\n",
    "for m in F:\n",
    "    Bm = zero_matrix(SR, d,d)\n",
    "    for j, v in enumerate(FF):\n",
    "        for i, w in enumerate(FF):\n",
    "            # pwr = ( w*(m*w**9 + m**3*w**3)/two + v*w ).trace()\n",
    "            # pwr = (w*(m*w**9 + m**3*w**3)).trace()\n",
    "            pwr = (w*m).trace()\n",
    "            # Bm[i,j] = exp(2*I*pi / p)**Integer(pwr) * 1/sqrt(d)\n",
    "            # Bm[i,j] = Integer(pwr)\n",
    "    mubs.append(Bm)"
   ]
  },
  {
   "cell_type": "code",
   "execution_count": 191,
   "metadata": {},
   "outputs": [
    {
     "name": "stdout",
     "output_type": "stream",
     "text": [
      "[0 0 0 0 0 0 0 0 0 0 0 0 0 0 0 0 0 0 0 0 0 0 0 0 0 0 0]\n",
      "[0 0 0 0 0 0 0 0 0 0 0 0 0 0 0 0 0 0 0 0 0 0 0 0 0 0 0]\n",
      "[2 2 2 2 2 2 2 2 2 2 2 2 2 2 2 2 2 2 2 2 2 2 2 2 2 2 2]\n",
      "[0 0 0 0 0 0 0 0 0 0 0 0 0 0 0 0 0 0 0 0 0 0 0 0 0 0 0]\n",
      "[2 2 2 2 2 2 2 2 2 2 2 2 2 2 2 2 2 2 2 2 2 2 2 2 2 2 2]\n",
      "[1 1 1 1 1 1 1 1 1 1 1 1 1 1 1 1 1 1 1 1 1 1 1 1 1 1 1]\n",
      "[2 2 2 2 2 2 2 2 2 2 2 2 2 2 2 2 2 2 2 2 2 2 2 2 2 2 2]\n",
      "[2 2 2 2 2 2 2 2 2 2 2 2 2 2 2 2 2 2 2 2 2 2 2 2 2 2 2]\n",
      "[1 1 1 1 1 1 1 1 1 1 1 1 1 1 1 1 1 1 1 1 1 1 1 1 1 1 1]\n",
      "[0 0 0 0 0 0 0 0 0 0 0 0 0 0 0 0 0 0 0 0 0 0 0 0 0 0 0]\n",
      "[2 2 2 2 2 2 2 2 2 2 2 2 2 2 2 2 2 2 2 2 2 2 2 2 2 2 2]\n",
      "[2 2 2 2 2 2 2 2 2 2 2 2 2 2 2 2 2 2 2 2 2 2 2 2 2 2 2]\n",
      "[2 2 2 2 2 2 2 2 2 2 2 2 2 2 2 2 2 2 2 2 2 2 2 2 2 2 2]\n",
      "[0 0 0 0 0 0 0 0 0 0 0 0 0 0 0 0 0 0 0 0 0 0 0 0 0 0 0]\n",
      "[0 0 0 0 0 0 0 0 0 0 0 0 0 0 0 0 0 0 0 0 0 0 0 0 0 0 0]\n",
      "[1 1 1 1 1 1 1 1 1 1 1 1 1 1 1 1 1 1 1 1 1 1 1 1 1 1 1]\n",
      "[0 0 0 0 0 0 0 0 0 0 0 0 0 0 0 0 0 0 0 0 0 0 0 0 0 0 0]\n",
      "[1 1 1 1 1 1 1 1 1 1 1 1 1 1 1 1 1 1 1 1 1 1 1 1 1 1 1]\n",
      "[2 2 2 2 2 2 2 2 2 2 2 2 2 2 2 2 2 2 2 2 2 2 2 2 2 2 2]\n",
      "[1 1 1 1 1 1 1 1 1 1 1 1 1 1 1 1 1 1 1 1 1 1 1 1 1 1 1]\n",
      "[1 1 1 1 1 1 1 1 1 1 1 1 1 1 1 1 1 1 1 1 1 1 1 1 1 1 1]\n",
      "[2 2 2 2 2 2 2 2 2 2 2 2 2 2 2 2 2 2 2 2 2 2 2 2 2 2 2]\n",
      "[0 0 0 0 0 0 0 0 0 0 0 0 0 0 0 0 0 0 0 0 0 0 0 0 0 0 0]\n",
      "[1 1 1 1 1 1 1 1 1 1 1 1 1 1 1 1 1 1 1 1 1 1 1 1 1 1 1]\n",
      "[1 1 1 1 1 1 1 1 1 1 1 1 1 1 1 1 1 1 1 1 1 1 1 1 1 1 1]\n",
      "[1 1 1 1 1 1 1 1 1 1 1 1 1 1 1 1 1 1 1 1 1 1 1 1 1 1 1]\n",
      "[0 0 0 0 0 0 0 0 0 0 0 0 0 0 0 0 0 0 0 0 0 0 0 0 0 0 0]\n"
     ]
    }
   ],
   "source": [
    "print(mubs[2])"
   ]
  },
  {
   "cell_type": "code",
   "execution_count": 193,
   "metadata": {},
   "outputs": [],
   "source": [
    "mubsk = np.load('MUBS/3-3-albert.npy')\n",
    "amubsk = loadmat('MUBS/andres-MUBKQT.mat')\n",
    "amubsk = amubsk['MUBKQT']"
   ]
  },
  {
   "cell_type": "code",
   "execution_count": 194,
   "metadata": {},
   "outputs": [
    {
     "data": {
      "text/plain": [
       "(756, 27)"
      ]
     },
     "execution_count": 194,
     "metadata": {},
     "output_type": "execute_result"
    }
   ],
   "source": [
    "amubsk.shape"
   ]
  },
  {
   "cell_type": "code",
   "execution_count": 217,
   "metadata": {},
   "outputs": [
    {
     "data": {
      "text/plain": [
       "dtype('complex128')"
      ]
     },
     "execution_count": 217,
     "metadata": {},
     "output_type": "execute_result"
    }
   ],
   "source": [
    "amubsk[27*k:27*(k+1)].dtype"
   ]
  },
  {
   "cell_type": "code",
   "execution_count": 234,
   "metadata": {},
   "outputs": [
    {
     "name": "stdout",
     "output_type": "stream",
     "text": [
      "0 True\n",
      "1 True\n",
      "2 True\n",
      "3 True\n",
      "4 True\n",
      "5 True\n",
      "6 True\n",
      "7 True\n",
      "8 True\n",
      "9 True\n",
      "10 True\n",
      "11 False\n",
      "12 True\n",
      "13 True\n",
      "14 True\n",
      "15 True\n",
      "16 True\n",
      "17 True\n",
      "18 True\n",
      "19 True\n",
      "20 True\n",
      "21 False\n",
      "22 True\n",
      "23 True\n",
      "24 True\n",
      "25 True\n",
      "26 True\n"
     ]
    }
   ],
   "source": [
    "for k in range(27):\n",
    "    print(k, np.all(np.isclose(amubsk[27*k:27*(k+1)], mubsk[27*k:27*(k+1)], rtol=1e-6)))"
   ]
  },
  {
   "cell_type": "code",
   "execution_count": 237,
   "metadata": {},
   "outputs": [
    {
     "data": {
      "text/plain": [
       "<matplotlib.image.AxesImage at 0x183917850>"
      ]
     },
     "execution_count": 237,
     "metadata": {},
     "output_type": "execute_result"
    },
    {
     "data": {
      "image/png": "[encoded data removed]",
      "text/plain": [
       "<Figure size 640x480 with 4 Axes>"
      ]
     },
     "metadata": {},
     "output_type": "display_data"
    }
   ],
   "source": [
    "k = 21\n",
    "\n",
    "fig, axs = plt.subplots(2,2)\n",
    "axs[0][0].imshow(np.real(mubsk[27*k:27*(k+1)]))\n",
    "axs[0][1].imshow(np.real(amubsk[27*k:27*(k+1)]))\n",
    "axs[1][0].imshow(np.imag(mubsk[27*k:27*(k+1)]))\n",
    "axs[1][1].imshow(np.imag(amubsk[27*k:27*(k+1)]))"
   ]
  },
  {
   "attachments": {},
   "cell_type": "markdown",
   "metadata": {},
   "source": [
    "They are mostly the same, but he seems to have some problem saving them because he repeats the 1, 11 and 21 set:"
   ]
  },
  {
   "cell_type": "code",
   "execution_count": 240,
   "metadata": {},
   "outputs": [
    {
     "data": {
      "text/plain": [
       "True"
      ]
     },
     "execution_count": 240,
     "metadata": {},
     "output_type": "execute_result"
    }
   ],
   "source": [
    "np.all(amubsk[27*1:27*2] == amubsk[27*11:27*12])"
   ]
  },
  {
   "cell_type": "code",
   "execution_count": 241,
   "metadata": {},
   "outputs": [
    {
     "data": {
      "text/plain": [
       "True"
      ]
     },
     "execution_count": 241,
     "metadata": {},
     "output_type": "execute_result"
    }
   ],
   "source": [
    "np.all(amubsk[27*1:27*2] == amubsk[27*21:27*22])"
   ]
  },
  {
   "cell_type": "code",
   "execution_count": null,
   "metadata": {},
   "outputs": [],
   "source": [
    "# saveMubs(mubs, 'MUBS/3-3-albert')\n",
    "# (np.load('MUBS/3-3-albert.npy')).shape"
   ]
  },
  {
   "cell_type": "code",
   "execution_count": null,
   "metadata": {},
   "outputs": [],
   "source": []
  }
 ],
 "metadata": {
  "kernelspec": {
   "display_name": "wigner",
   "language": "python",
   "name": "python3"
  },
  "language_info": {
   "codemirror_mode": {
    "name": "ipython",
    "version": 3
   },
   "file_extension": ".py",
   "mimetype": "text/x-python",
   "name": "python",
   "nbconvert_exporter": "python",
   "pygments_lexer": "ipython3",
   "version": "3.9.16"
  },
  "orig_nbformat": 4
 },
 "nbformat": 4,
 "nbformat_minor": 2
}
