{
 "cells": [
  {
   "cell_type": "code",
   "execution_count": 1,
   "metadata": {},
   "outputs": [],
   "source": [
    "from sage.all import *\n",
    "import numpy as np"
   ]
  },
  {
   "cell_type": "code",
   "execution_count": 2,
   "metadata": {},
   "outputs": [
    {
     "data": {
      "text/plain": [
       "[0, 1, 2]"
      ]
     },
     "execution_count": 2,
     "metadata": {},
     "output_type": "execute_result"
    }
   ],
   "source": [
    "F = GF(3)\n",
    "list(F)"
   ]
  },
  {
   "cell_type": "code",
   "execution_count": 3,
   "metadata": {},
   "outputs": [],
   "source": [
    "def DesarguesSpread(F):\n",
    "    lines = [[(F(0),u) for u in F]]\n",
    "    for m in F:\n",
    "        lines.append([(u, m*u) for u in F])\n",
    "    return lines"
   ]
  },
  {
   "cell_type": "code",
   "execution_count": 4,
   "metadata": {},
   "outputs": [],
   "source": [
    "def toInt(e):\n",
    "    return list(F).index(e)"
   ]
  },
  {
   "cell_type": "code",
   "execution_count": 39,
   "metadata": {},
   "outputs": [],
   "source": [
    "def npProj(v):\n",
    "    d = len(v)\n",
    "    return np.kron(v.reshape((d,1)), v.conj())"
   ]
  },
  {
   "cell_type": "code",
   "execution_count": 5,
   "metadata": {},
   "outputs": [
    {
     "data": {
      "text/plain": [
       "array([[ 1.        +0.j ,  0.        +0.j ,  0.        +0.j ],\n",
       "       [ 0.        +0.j ,  1.        +0.j ,  0.        +0.j ],\n",
       "       [ 0.        +0.j ,  0.        +0.j ,  1.        +0.j ],\n",
       "       [ 0.57735026+0.j ,  0.57735026+0.j ,  0.57735026+0.j ],\n",
       "       [ 0.57735026+0.j , -0.28867513+0.5j, -0.28867513-0.5j],\n",
       "       [ 0.57735026+0.j , -0.28867513-0.5j, -0.28867513+0.5j],\n",
       "       [ 0.57735026+0.j ,  0.57735026+0.j ,  0.57735026+0.j ],\n",
       "       [-0.28867513-0.5j,  0.57735026+0.j , -0.28867513+0.5j],\n",
       "       [-0.28867513-0.5j, -0.28867513+0.5j,  0.57735026+0.j ],\n",
       "       [ 0.57735026+0.j ,  0.57735026+0.j ,  0.57735026+0.j ],\n",
       "       [-0.28867513+0.5j, -0.28867513-0.5j,  0.57735026+0.j ],\n",
       "       [-0.28867513+0.5j,  0.57735026+0.j , -0.28867513-0.5j]],\n",
       "      dtype=complex64)"
      ]
     },
     "execution_count": 5,
     "metadata": {},
     "output_type": "execute_result"
    }
   ],
   "source": [
    "mubs = np.load('MUBS/3-1-desarguesian.npy')\n",
    "mubs"
   ]
  },
  {
   "cell_type": "code",
   "execution_count": 6,
   "metadata": {},
   "outputs": [
    {
     "data": {
      "text/plain": [
       "(12, 3)"
      ]
     },
     "execution_count": 6,
     "metadata": {},
     "output_type": "execute_result"
    }
   ],
   "source": [
    "mubs.shape"
   ]
  },
  {
   "cell_type": "code",
   "execution_count": 7,
   "metadata": {},
   "outputs": [],
   "source": [
    "# omega = exp(2*pi*I / 3)\n",
    "omega = np.exp(2*np.pi*1j / 3)"
   ]
  },
  {
   "cell_type": "code",
   "execution_count": 8,
   "metadata": {},
   "outputs": [],
   "source": [
    "X = np.array([\n",
    "    [0, 0, 1],\n",
    "    [1, 0, 0],\n",
    "    [0, 1, 0]\n",
    "])\n",
    "\n",
    "Z = np.diag([omega**i for i in range(3)])"
   ]
  },
  {
   "cell_type": "code",
   "execution_count": 10,
   "metadata": {},
   "outputs": [
    {
     "data": {
      "text/plain": [
       "array([[ 1. +0.j       ,  0. +0.j       ,  0. +0.j       ],\n",
       "       [ 0. +0.j       , -0.5+0.8660254j,  0. +0.j       ],\n",
       "       [ 0. +0.j       ,  0. +0.j       , -0.5-0.8660254j]])"
      ]
     },
     "execution_count": 10,
     "metadata": {},
     "output_type": "execute_result"
    }
   ],
   "source": [
    "Z"
   ]
  },
  {
   "cell_type": "code",
   "execution_count": 12,
   "metadata": {},
   "outputs": [],
   "source": [
    "def D(a,b):\n",
    "    return np.linalg.matrix_power(X, a) @ np.linalg.matrix_power(Z, b)"
   ]
  },
  {
   "attachments": {},
   "cell_type": "markdown",
   "metadata": {},
   "source": [
    "Translational covariance of $Q$."
   ]
  },
  {
   "cell_type": "code",
   "execution_count": 45,
   "metadata": {},
   "outputs": [
    {
     "data": {
      "text/plain": [
       "array([[ 0.33+0.j  , -0.17-0.29j, -0.17+0.29j],\n",
       "       [-0.17+0.29j,  0.33+0.j  , -0.17-0.29j],\n",
       "       [-0.17-0.29j, -0.17+0.29j,  0.33+0.j  ]], dtype=complex64)"
      ]
     },
     "execution_count": 45,
     "metadata": {},
     "output_type": "execute_result"
    }
   ],
   "source": [
    "npProj(mubs[3:6, 1]).round(2)"
   ]
  },
  {
   "cell_type": "code",
   "execution_count": 47,
   "metadata": {},
   "outputs": [
    {
     "data": {
      "text/plain": [
       "array([[ 0.33+0.j  , -0.17-0.29j, -0.17+0.29j],\n",
       "       [-0.17+0.29j,  0.33+0.j  , -0.17-0.29j],\n",
       "       [-0.17-0.29j, -0.17+0.29j,  0.33+0.j  ]])"
      ]
     },
     "execution_count": 47,
     "metadata": {},
     "output_type": "execute_result"
    }
   ],
   "source": [
    "(D(1,0) @ npProj(mubs[3:6,1]) @ D(1,0).conj().T).round(2)"
   ]
  },
  {
   "cell_type": "code",
   "execution_count": 63,
   "metadata": {},
   "outputs": [
    {
     "data": {
      "text/plain": [
       "array([[ 0.33+0.j  , -0.17-0.29j, -0.17+0.29j],\n",
       "       [-0.17+0.29j,  0.33+0.j  , -0.17-0.29j],\n",
       "       [-0.17-0.29j, -0.17+0.29j,  0.33+0.j  ]], dtype=complex64)"
      ]
     },
     "execution_count": 63,
     "metadata": {},
     "output_type": "execute_result"
    }
   ],
   "source": [
    "npProj(mubs[3:6, 1]).round(2)"
   ]
  },
  {
   "cell_type": "code",
   "execution_count": 62,
   "metadata": {},
   "outputs": [
    {
     "data": {
      "text/plain": [
       "array([[ 0.33-0.j  , -0.17-0.29j, -0.17+0.29j],\n",
       "       [-0.17+0.29j,  0.33+0.j  , -0.17-0.29j],\n",
       "       [-0.17-0.29j, -0.17+0.29j,  0.33+0.j  ]])"
      ]
     },
     "execution_count": 62,
     "metadata": {},
     "output_type": "execute_result"
    }
   ],
   "source": [
    "(D(2,1) @ npProj(mubs[3:6, 0]) @ D(2,1).conj().T).round(2)"
   ]
  },
  {
   "cell_type": "code",
   "execution_count": 67,
   "metadata": {},
   "outputs": [
    {
     "data": {
      "text/plain": [
       "(-0+0j)"
      ]
     },
     "execution_count": 67,
     "metadata": {},
     "output_type": "execute_result"
    }
   ],
   "source": [
    "D(0,1).trace().round()"
   ]
  },
  {
   "cell_type": "code",
   "execution_count": 12,
   "metadata": {},
   "outputs": [],
   "source": [
    "def A_lines(x,y):\n",
    "    bs = [y - m*x for m in F]\n",
    "    lines = [[(x, u) for u in F]]\n",
    "    for i, m in enumerate(F):\n",
    "        line = [(x, m*x + bs[i]) for x in F]\n",
    "        lines.append(line)\n",
    "    return lines\n",
    "    "
   ]
  },
  {
   "cell_type": "code",
   "execution_count": 13,
   "metadata": {},
   "outputs": [
    {
     "data": {
      "text/plain": [
       "[[(1, 0), (1, 1), (1, 2)],\n",
       " [(0, 1), (1, 1), (2, 1)],\n",
       " [(0, 0), (1, 1), (2, 2)],\n",
       " [(0, 2), (1, 1), (2, 0)]]"
      ]
     },
     "execution_count": 13,
     "metadata": {},
     "output_type": "execute_result"
    }
   ],
   "source": [
    "A_lines(F(1), F(1))"
   ]
  },
  {
   "cell_type": "code",
   "execution_count": 14,
   "metadata": {},
   "outputs": [],
   "source": [
    "import matplotlib.pyplot as plt\n",
    "\n",
    "def affineAx(F):\n",
    "    d = F.order()\n",
    "    fig, ax = plt.subplots(figsize=(3.5,3.5))\n",
    "\n",
    "    ax.set_xticks(range(d))\n",
    "    ax.set_yticks(range(d))\n",
    "\n",
    "    # labels = ['$' + str(e) + '$' for e in F]\n",
    "    # ax.set_xticklabels(labels)\n",
    "    # ax.set_yticklabels(labels)\n",
    "    \n",
    "    return fig, ax"
   ]
  },
  {
   "cell_type": "code",
   "execution_count": 15,
   "metadata": {},
   "outputs": [
    {
     "data": {
      "image/png": "[encoded data removed]",
      "text/plain": [
       "<Figure size 350x350 with 1 Axes>"
      ]
     },
     "metadata": {},
     "output_type": "display_data"
    }
   ],
   "source": [
    "fig, ax = affineAx(F)\n",
    "\n",
    "lines = A_lines(F(2), F(1))\n",
    "for i, line in enumerate(lines):\n",
    "    x, y = np.array(line).T\n",
    "    x = [toInt(e) for e in x]\n",
    "    y = [toInt(e) for e in y]\n",
    "\n",
    "    alpha = 0.5\n",
    "    # if i in [0,1,9,27]:\n",
    "    #     alpha = 0.9\n",
    "\n",
    "    ax.plot(\n",
    "        x, y,\n",
    "        marker='o',\n",
    "        linewidth=2,\n",
    "        markersize=9,\n",
    "        alpha=alpha\n",
    "    )"
   ]
  },
  {
   "cell_type": "code",
   "execution_count": 16,
   "metadata": {},
   "outputs": [],
   "source": [
    "MUBS = [identity_matrix(3)]\n",
    "for m in F:\n",
    "    Bm = zero_matrix(SR, 3,3)\n",
    "    for j, v in enumerate(F):\n",
    "        for i, w in enumerate(F):\n",
    "            pwr = ( (1/F(2))*w**2*m + v*w).trace()\n",
    "            Bm[i,j] = exp(2*I*pi / 3)**Integer(lift(pwr)) * 1/sqrt(3)\n",
    "    MUBS.append(Bm)"
   ]
  },
  {
   "cell_type": "code",
   "execution_count": 17,
   "metadata": {},
   "outputs": [
    {
     "data": {
      "text/plain": [
       "[                       0.577350269189626]\n",
       "[-0.288675134594813 + 0.500000000000000*I]\n",
       "[-0.288675134594813 + 0.500000000000000*I]"
      ]
     },
     "execution_count": 17,
     "metadata": {},
     "output_type": "execute_result"
    }
   ],
   "source": [
    "(MUBS[3][:,0]).n()"
   ]
  },
  {
   "cell_type": "code",
   "execution_count": 18,
   "metadata": {},
   "outputs": [
    {
     "data": {
      "text/plain": [
       "array([[ 1.        +0.j ,  0.        +0.j ,  0.        +0.j ],\n",
       "       [ 0.        +0.j ,  1.        +0.j ,  0.        +0.j ],\n",
       "       [ 0.        +0.j ,  0.        +0.j ,  1.        +0.j ],\n",
       "       [ 0.57735026+0.j ,  0.57735026+0.j ,  0.57735026+0.j ],\n",
       "       [ 0.57735026+0.j , -0.28867513+0.5j, -0.28867513-0.5j],\n",
       "       [ 0.57735026+0.j , -0.28867513-0.5j, -0.28867513+0.5j],\n",
       "       [ 0.57735026+0.j ,  0.57735026+0.j ,  0.57735026+0.j ],\n",
       "       [-0.28867513-0.5j,  0.57735026+0.j , -0.28867513+0.5j],\n",
       "       [-0.28867513-0.5j, -0.28867513+0.5j,  0.57735026+0.j ],\n",
       "       [ 0.57735026+0.j ,  0.57735026+0.j ,  0.57735026+0.j ],\n",
       "       [-0.28867513+0.5j, -0.28867513-0.5j,  0.57735026+0.j ],\n",
       "       [-0.28867513+0.5j,  0.57735026+0.j , -0.28867513-0.5j]],\n",
       "      dtype=complex64)"
      ]
     },
     "execution_count": 18,
     "metadata": {},
     "output_type": "execute_result"
    }
   ],
   "source": [
    "mubs"
   ]
  },
  {
   "cell_type": "code",
   "execution_count": 19,
   "metadata": {},
   "outputs": [],
   "source": [
    "def proj(v):\n",
    "    return v * transpose(conjugate(v))"
   ]
  },
  {
   "cell_type": "code",
   "execution_count": 20,
   "metadata": {},
   "outputs": [],
   "source": [
    "def npProj(v):\n",
    "    d = len(v)\n",
    "    return np.kron(v.reshape((d,1)), v.conj())"
   ]
  },
  {
   "cell_type": "code",
   "execution_count": 21,
   "metadata": {},
   "outputs": [],
   "source": [
    "def A(x, y, mubs):\n",
    "    d = F.order()\n",
    "    bs = [x] + [y - m*x for m in F]\n",
    "    bi = [toInt(b) for b in bs]\n",
    "    \n",
    "    op = np.zeros((d,d), dtype='complex64')\n",
    "    for k in range(d + 1):\n",
    "        B = mubs[3*k:3*(k+1),:]\n",
    "        p = npProj(B[:,bi[k]])\n",
    "        op += p\n",
    "        \n",
    "    return op - identity_matrix(d)"
   ]
  },
  {
   "cell_type": "code",
   "execution_count": 22,
   "metadata": {},
   "outputs": [],
   "source": [
    "op = A(F(1), F(1), mubs).round()"
   ]
  },
  {
   "cell_type": "code",
   "execution_count": 23,
   "metadata": {},
   "outputs": [
    {
     "name": "stdout",
     "output_type": "stream",
     "text": [
      "All point operators are self adjoint and unit trace!\n"
     ]
    }
   ],
   "source": [
    "# sanity check\n",
    "for x in F:\n",
    "    for y in F:\n",
    "        op = A(x,y, mubs).round()\n",
    "        if op.trace() != 1:\n",
    "            print(x,y)\n",
    "            raise Exception('Oops! Not unit trace')\n",
    "        if not np.all(op == op.conj().T):\n",
    "            print(x,y)\n",
    "            raise Exception('Oops! Not self-adjoint')\n",
    "print('All point operators are self adjoint and unit trace!')"
   ]
  },
  {
   "cell_type": "code",
   "execution_count": 24,
   "metadata": {},
   "outputs": [
    {
     "data": {
      "text/plain": [
       "array([[-0.+0.j,  0.+0.j, -0.+1.j],\n",
       "       [ 0.+0.j,  1.+0.j, -0.+0.j],\n",
       "       [-0.-1.j, -0.+0.j, -0.+0.j]])"
      ]
     },
     "execution_count": 24,
     "metadata": {},
     "output_type": "execute_result"
    }
   ],
   "source": [
    "A(F(1), F(1), mubs).round()"
   ]
  },
  {
   "cell_type": "code",
   "execution_count": 25,
   "metadata": {},
   "outputs": [],
   "source": [
    "def Wigner(rho, x, y):\n",
    "    d = F.order()\n",
    "    return (rho @ A(x, y, mubs)).trace() / d"
   ]
  },
  {
   "cell_type": "code",
   "execution_count": 26,
   "metadata": {},
   "outputs": [],
   "source": [
    "def WignerMatrix(rho):\n",
    "    W = np.zeros((3,3))\n",
    "    for i, x in enumerate(F):\n",
    "        for j, y in enumerate(F):\n",
    "            W[i,j] = np.real(Wigner(rho, x, y))\n",
    "    return np.rot90(W)"
   ]
  },
  {
   "cell_type": "code",
   "execution_count": 27,
   "metadata": {},
   "outputs": [],
   "source": [
    "s1 = np.array(proj(MUBS[0][:,0]).n())\n",
    "s2 = np.array(proj(MUBS[-1][:,0]).n())\n",
    "s3 = np.array(proj((MUBS[0][:,0] + MUBS[0][:,1]) / sqrt(2)).n())\n",
    "states = [s1,s2,s3]"
   ]
  },
  {
   "cell_type": "code",
   "execution_count": 28,
   "metadata": {},
   "outputs": [
    {
     "name": "stdout",
     "output_type": "stream",
     "text": [
      "0.9999996423721313\n",
      "0.9999996423721313\n",
      "0.9999996423721313\n"
     ]
    }
   ],
   "source": [
    "# sum should be equal to 1\n",
    "for s in states:\n",
    "    print(WignerMatrix(s1).sum())"
   ]
  },
  {
   "cell_type": "code",
   "execution_count": 29,
   "metadata": {},
   "outputs": [
    {
     "data": {
      "text/plain": [
       "array([[-0.   ,  0.333, -0.   ],\n",
       "       [-0.   , -0.   ,  0.333],\n",
       "       [ 0.333, -0.   , -0.   ]])"
      ]
     },
     "execution_count": 29,
     "metadata": {},
     "output_type": "execute_result"
    }
   ],
   "source": [
    "WignerMatrix(s2).round(3)"
   ]
  },
  {
   "cell_type": "code",
   "execution_count": 30,
   "metadata": {},
   "outputs": [],
   "source": [
    "import matplotlib as mpl\n",
    "from matplotlib import cm\n",
    "\n",
    "def plotWigner(M, rotate=True):\n",
    "    if rotate:\n",
    "        M = np.rot90(M, -1)\n",
    "\n",
    "    n = np.size(M)\n",
    "    xpos, ypos = np.meshgrid(range(M.shape[0]), range(M.shape[1]))\n",
    "    xpos = xpos.T.flatten() - 0.5\n",
    "    ypos = ypos.T.flatten() - 0.5\n",
    "    zpos = np.zeros(n)\n",
    "    dx = dy = 0.8 * np.ones(n)\n",
    "    dz = np.real(M.flatten())\n",
    "\n",
    "    z_min = min(dz)\n",
    "    z_max = max(dz)\n",
    "    if z_min == z_max:\n",
    "        z_min -= 0.1\n",
    "        z_max += 0.1\n",
    "\n",
    "    norm = mpl.colors.Normalize(z_min, z_max)\n",
    "    cmap = mpl.colormaps['viridis']\n",
    "    colors = cmap(norm(dz))\n",
    "\n",
    "    fig = plt.figure(figsize=(4.5, 3.5))\n",
    "    # ax = fig.add_subplot(projection='3d', azim=145, elev=35)\n",
    "    ax = fig.add_subplot(projection='3d', azim=-35, elev=35)\n",
    "\n",
    "    ax.bar3d(xpos, ypos, zpos, dx, dy, dz, color=colors)\n",
    "\n",
    "    # x axis\n",
    "    ax.axes.xaxis.set_major_locator(plt.IndexLocator(1, -0.5))\n",
    "\n",
    "    # y axis\n",
    "    ax.axes.yaxis.set_major_locator(plt.IndexLocator(1, -0.5))\n",
    "    # ax.invert_yaxis()\n",
    "\n",
    "    # z axis\n",
    "    ax.axes.zaxis.set_major_locator(plt.IndexLocator(1, 0.5))\n",
    "    ax.set_zlim3d([min(z_min, 0), z_max])\n",
    "\n",
    "    cax, kw = mpl.colorbar.make_axes(ax, shrink=.75, pad=.1)\n",
    "    mpl.colorbar.ColorbarBase(cax, cmap=cmap, norm=norm)\n",
    "\n",
    "    return fig, ax"
   ]
  },
  {
   "cell_type": "code",
   "execution_count": 39,
   "metadata": {},
   "outputs": [
    {
     "data": {
      "text/plain": [
       "(<Figure size 450x350 with 2 Axes>, <Axes3D: >)"
      ]
     },
     "execution_count": 39,
     "metadata": {},
     "output_type": "execute_result"
    }
   ],
   "source": [
    "plotWigner(WignerMatrix(s3))"
   ]
  },
  {
   "cell_type": "code",
   "execution_count": 34,
   "metadata": {},
   "outputs": [],
   "source": [
    "import matplotlib\n",
    "\n",
    "matplotlib.use(\"pgf\")\n",
    "matplotlib.rcParams.update({\n",
    "    \"pgf.texsystem\": \"pdflatex\",\n",
    "    'font.family': 'serif',\n",
    "    'text.usetex': True,\n",
    "    'pgf.rcfonts': False,\n",
    "})"
   ]
  },
  {
   "cell_type": "code",
   "execution_count": 40,
   "metadata": {},
   "outputs": [],
   "source": [
    "plt.savefig('../imgs/wigner-desargues-3-1-s3.pgf')"
   ]
  },
  {
   "cell_type": "code",
   "execution_count": 43,
   "metadata": {},
   "outputs": [
    {
     "data": {
      "text/plain": [
       "-5.960464477539063e-08"
      ]
     },
     "execution_count": 43,
     "metadata": {},
     "output_type": "execute_result"
    }
   ],
   "source": [
    "WignerMatrix(s3)[:,2].sum()"
   ]
  },
  {
   "attachments": {},
   "cell_type": "markdown",
   "metadata": {},
   "source": [
    "Redo using script `Wigner.py`."
   ]
  },
  {
   "cell_type": "code",
   "execution_count": 10,
   "metadata": {},
   "outputs": [],
   "source": [
    "from sage.all import *\n",
    "import numpy as np\n",
    "\n",
    "import Wigner as wg\n",
    "import matplotlib.pyplot as plt\n",
    "import matplotlib\n",
    "\n",
    "matplotlib.rcParams.update({\n",
    "    \"pgf.texsystem\": \"pdflatex\",\n",
    "    'font.family': 'serif',\n",
    "    'text.usetex': True,\n",
    "    'pgf.rcfonts': False,\n",
    "})"
   ]
  },
  {
   "cell_type": "code",
   "execution_count": 3,
   "metadata": {},
   "outputs": [
    {
     "data": {
      "text/plain": [
       "(12, 3)"
      ]
     },
     "execution_count": 3,
     "metadata": {},
     "output_type": "execute_result"
    }
   ],
   "source": [
    "mubs = np.load('MUBS/3-1-desarguesian.npy')\n",
    "mubs.shape"
   ]
  },
  {
   "cell_type": "code",
   "execution_count": 4,
   "metadata": {},
   "outputs": [
    {
     "data": {
      "text/plain": [
       "Finite Field of size 3"
      ]
     },
     "execution_count": 4,
     "metadata": {},
     "output_type": "execute_result"
    }
   ],
   "source": [
    "F = GF(3)\n",
    "F"
   ]
  },
  {
   "cell_type": "code",
   "execution_count": 5,
   "metadata": {},
   "outputs": [
    {
     "data": {
      "text/plain": [
       "<Wigner.Wigner at 0x1782996a0>"
      ]
     },
     "execution_count": 5,
     "metadata": {},
     "output_type": "execute_result"
    }
   ],
   "source": [
    "W = wg.Wigner(F, mubs)\n",
    "W"
   ]
  },
  {
   "cell_type": "code",
   "execution_count": 24,
   "metadata": {},
   "outputs": [],
   "source": [
    "def affineAx(F):\n",
    "    d = len(F)\n",
    "    fig, ax = plt.subplots(figsize=(3.5,3.5))\n",
    "\n",
    "    ax.set_xticks(range(d))\n",
    "    ax.set_yticks(range(d))\n",
    "\n",
    "    labels = ['$' + str(m) + '$' for m in F]\n",
    "    # ax.set_xticklabels(labels, rotation=45)\n",
    "    ax.set_yticklabels(labels)\n",
    "    \n",
    "    return fig, ax\n",
    "\n",
    "def plotAffine(F, lines):\n",
    "    fig, ax = affineAx(F)\n",
    "\n",
    "    for i, line in enumerate(lines):\n",
    "        x, y = np.array(line).T\n",
    "        x = [W.toInt(e) for e in x]\n",
    "        y = [W.toInt(e) for e in y]\n",
    "\n",
    "        alpha = 0.5\n",
    "        # if i in [0,1,2,4]:\n",
    "        #     alpha = 0.9\n",
    "\n",
    "        ax.plot(\n",
    "            x, y,\n",
    "            marker='o',\n",
    "            linewidth=2,\n",
    "            markersize=9,\n",
    "            alpha=alpha\n",
    "        )\n",
    "    \n",
    "    return fig, ax"
   ]
  },
  {
   "cell_type": "code",
   "execution_count": 33,
   "metadata": {},
   "outputs": [
    {
     "data": {
      "text/plain": [
       "(<Figure size 350x350 with 1 Axes>, <Axes: >)"
      ]
     },
     "execution_count": 33,
     "metadata": {},
     "output_type": "execute_result"
    },
    {
     "data": {
      "image/png": "[encoded data removed]",
      "text/plain": [
       "<Figure size 350x350 with 1 Axes>"
      ]
     },
     "metadata": {},
     "output_type": "display_data"
    }
   ],
   "source": [
    "plotAffine(F, W.PointLines(1,1))"
   ]
  },
  {
   "cell_type": "code",
   "execution_count": 46,
   "metadata": {},
   "outputs": [
    {
     "data": {
      "image/png": "[encoded data removed]",
      "text/plain": [
       "<Figure size 700x300 with 2 Axes>"
      ]
     },
     "metadata": {},
     "output_type": "display_data"
    }
   ],
   "source": [
    "fig, axs = plt.subplots(1, 2, figsize=(7, 3))\n",
    "for ax in axs:\n",
    "    ax.set_xticks(range(3))\n",
    "    ax.set_yticks(range(3))\n",
    "\n",
    "    labels = ['$' + str(m) + '$' for m in F]\n",
    "    # ax.set_xticklabels(labels, rotation=45)\n",
    "    ax.set_yticklabels(labels)\n",
    "\n",
    "points = [(1,1), (2,1)]\n",
    "spread = [W.PointLines(*p) for p in points]\n",
    "for i, ax in enumerate(axs):\n",
    "    lines = spread[i]\n",
    "    ax.set_xlabel('A' + str(points[i]))\n",
    "\n",
    "    for i, line in enumerate(lines):\n",
    "        x, y = np.array(line).T\n",
    "        x = [W.toInt(e) for e in x]\n",
    "        y = [W.toInt(e) for e in y]\n",
    "\n",
    "        alpha = 0.5\n",
    "        # if i in [0,1,2,4]:\n",
    "        #     alpha = 0.9\n",
    "\n",
    "        ax.plot(\n",
    "            x, y,\n",
    "            marker='o',\n",
    "            linewidth=2,\n",
    "            markersize=9,\n",
    "            alpha=alpha\n",
    "        )"
   ]
  },
  {
   "cell_type": "code",
   "execution_count": 55,
   "metadata": {},
   "outputs": [],
   "source": [
    "v1 = mubs[0:3, 0]\n",
    "v2 = mubs[9:12, 0]\n",
    "v3 = np.array([1,1,0])\n",
    "v3 = v3 / np.linalg.norm(v3)"
   ]
  },
  {
   "cell_type": "code",
   "execution_count": 50,
   "metadata": {},
   "outputs": [
    {
     "data": {
      "text/plain": [
       "array([[ 0.33, -0.  , -0.  ],\n",
       "       [ 0.33, -0.  , -0.  ],\n",
       "       [ 0.33, -0.  , -0.  ]])"
      ]
     },
     "execution_count": 50,
     "metadata": {},
     "output_type": "execute_result"
    }
   ],
   "source": [
    "W.WignerMatrix(W.npProj(v1)).round(2)"
   ]
  },
  {
   "cell_type": "code",
   "execution_count": 53,
   "metadata": {},
   "outputs": [
    {
     "data": {
      "text/plain": [
       "array([[-0.  ,  0.33, -0.  ],\n",
       "       [-0.  , -0.  ,  0.33],\n",
       "       [ 0.33, -0.  , -0.  ]])"
      ]
     },
     "execution_count": 53,
     "metadata": {},
     "output_type": "execute_result"
    }
   ],
   "source": [
    "W.WignerMatrix(W.npProj(v2)).round(2)"
   ]
  },
  {
   "cell_type": "code",
   "execution_count": 61,
   "metadata": {},
   "outputs": [
    {
     "data": {
      "text/plain": [
       "array([[ 0.17,  0.17, -0.17],\n",
       "       [ 0.17,  0.17, -0.17],\n",
       "       [ 0.17,  0.17,  0.33]])"
      ]
     },
     "execution_count": 61,
     "metadata": {},
     "output_type": "execute_result"
    }
   ],
   "source": [
    "Wv3 = W.WignerMatrix(W.npProj(v3))\n",
    "Wv3.round(2)"
   ]
  },
  {
   "cell_type": "code",
   "execution_count": 74,
   "metadata": {},
   "outputs": [
    {
     "data": {
      "text/plain": [
       "0.6666666427356914"
      ]
     },
     "execution_count": 74,
     "metadata": {},
     "output_type": "execute_result"
    }
   ],
   "source": [
    "np.abs(mubs[3:6,0].conj() @ v3)**2"
   ]
  },
  {
   "cell_type": "code",
   "execution_count": 75,
   "metadata": {},
   "outputs": [
    {
     "data": {
      "text/plain": [
       "0.666666527589162"
      ]
     },
     "execution_count": 75,
     "metadata": {},
     "output_type": "execute_result"
    }
   ],
   "source": [
    "sum(Wv3[2,:])"
   ]
  },
  {
   "cell_type": "code",
   "execution_count": null,
   "metadata": {},
   "outputs": [],
   "source": []
  }
 ],
 "metadata": {
  "kernelspec": {
   "display_name": "wigner",
   "language": "python",
   "name": "python3"
  },
  "language_info": {
   "codemirror_mode": {
    "name": "ipython",
    "version": 3
   },
   "file_extension": ".py",
   "mimetype": "text/x-python",
   "name": "python",
   "nbconvert_exporter": "python",
   "pygments_lexer": "ipython3",
   "version": "3.9.16"
  },
  "orig_nbformat": 4
 },
 "nbformat": 4,
 "nbformat_minor": 2
}
