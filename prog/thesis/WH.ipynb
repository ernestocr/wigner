{
 "cells": [
  {
   "cell_type": "code",
   "execution_count": 1,
   "metadata": {},
   "outputs": [],
   "source": [
    "from sage.all import *\n",
    "import numpy as np"
   ]
  },
  {
   "attachments": {},
   "cell_type": "markdown",
   "metadata": {},
   "source": [
    "We will quickly investigate some of the properties of the Weyl-Heisenberg group."
   ]
  },
  {
   "cell_type": "code",
   "execution_count": 9,
   "metadata": {},
   "outputs": [],
   "source": [
    "p = 2\n",
    "n = 1\n",
    "d = p**n"
   ]
  },
  {
   "cell_type": "code",
   "execution_count": 10,
   "metadata": {},
   "outputs": [],
   "source": [
    "def getXZ(d):\n",
    "    omega = exp(2*pi*I / d)\n",
    "    \n",
    "    X = Permutation(list(range(2,d+1)) + [1]).to_matrix()\n",
    "    Z = diagonal_matrix(SR, [omega**j for j in range(d)])\n",
    "\n",
    "    return X, Z"
   ]
  },
  {
   "cell_type": "code",
   "execution_count": 11,
   "metadata": {},
   "outputs": [],
   "source": [
    "X, Z = getXZ(2)"
   ]
  },
  {
   "attachments": {},
   "cell_type": "markdown",
   "metadata": {},
   "source": [
    "It is true that $X^p = Z^p = 1$."
   ]
  },
  {
   "cell_type": "code",
   "execution_count": 12,
   "metadata": {},
   "outputs": [
    {
     "data": {
      "text/plain": [
       "True"
      ]
     },
     "execution_count": 12,
     "metadata": {},
     "output_type": "execute_result"
    }
   ],
   "source": [
    "X**p == identity_matrix(d) and (Z**p) == identity_matrix(d)"
   ]
  },
  {
   "cell_type": "code",
   "execution_count": 24,
   "metadata": {},
   "outputs": [],
   "source": [
    "def D(a,b):\n",
    "    return X**a * Z**b"
   ]
  },
  {
   "cell_type": "code",
   "execution_count": 25,
   "metadata": {},
   "outputs": [
    {
     "name": "stdout",
     "output_type": "stream",
     "text": [
      "[1 0 0]\n",
      "[0 1 0]\n",
      "[0 0 1]\n"
     ]
    },
    {
     "ename": "Exception",
     "evalue": "Not full group",
     "output_type": "error",
     "traceback": [
      "\u001b[0;31m---------------------------------------------------------------------------\u001b[0m",
      "\u001b[0;31mException\u001b[0m                                 Traceback (most recent call last)",
      "Cell \u001b[0;32mIn[25], line 5\u001b[0m\n\u001b[1;32m      3\u001b[0m         \u001b[39mif\u001b[39;00m D(a,b)\u001b[39m*\u001b[39m\u001b[39m*\u001b[39m(p) \u001b[39m!=\u001b[39m identity_matrix(d):\n\u001b[1;32m      4\u001b[0m             \u001b[39mprint\u001b[39m(D(a,b))\n\u001b[0;32m----> 5\u001b[0m             \u001b[39mraise\u001b[39;00m \u001b[39mException\u001b[39;00m(\u001b[39m'\u001b[39m\u001b[39mNot full group\u001b[39m\u001b[39m'\u001b[39m)\n\u001b[1;32m      6\u001b[0m \u001b[39mprint\u001b[39m(\u001b[39m'\u001b[39m\u001b[39mFull group\u001b[39m\u001b[39m'\u001b[39m)\n",
      "\u001b[0;31mException\u001b[0m: Not full group"
     ]
    }
   ],
   "source": [
    "for a in range(d):\n",
    "    for b in range(d):\n",
    "        if D(a,b)**(p) != identity_matrix(d):\n",
    "            print(D(a,b))\n",
    "            raise Exception('Not full group')\n",
    "print('Full group')"
   ]
  },
  {
   "cell_type": "code",
   "execution_count": 15,
   "metadata": {},
   "outputs": [
    {
     "data": {
      "text/plain": [
       "[-1  0]\n",
       "[ 0 -1]"
      ]
     },
     "execution_count": 15,
     "metadata": {},
     "output_type": "execute_result"
    }
   ],
   "source": [
    "((X*Z)**p).apply_map(lambda x: x.full_simplify())"
   ]
  },
  {
   "cell_type": "code",
   "execution_count": 16,
   "metadata": {},
   "outputs": [
    {
     "data": {
      "text/plain": [
       "-1"
      ]
     },
     "execution_count": 16,
     "metadata": {},
     "output_type": "execute_result"
    }
   ],
   "source": [
    "X.det()"
   ]
  },
  {
   "cell_type": "code",
   "execution_count": 17,
   "metadata": {},
   "outputs": [
    {
     "data": {
      "text/plain": [
       "-1"
      ]
     },
     "execution_count": 17,
     "metadata": {},
     "output_type": "execute_result"
    }
   ],
   "source": [
    "Z.det().full_simplify()"
   ]
  },
  {
   "cell_type": "code",
   "execution_count": 20,
   "metadata": {},
   "outputs": [
    {
     "data": {
      "text/plain": [
       "[0 0 1]\n",
       "[1 0 0]\n",
       "[0 1 0]"
      ]
     },
     "execution_count": 20,
     "metadata": {},
     "output_type": "execute_result"
    }
   ],
   "source": [
    "X, Z = getXZ(3)\n",
    "X"
   ]
  },
  {
   "cell_type": "code",
   "execution_count": 45,
   "metadata": {},
   "outputs": [
    {
     "data": {
      "text/plain": [
       "[0, 1, x, x + 1, 2*x + 1, 2, 2*x, 2*x + 2, x + 2]"
      ]
     },
     "execution_count": 45,
     "metadata": {},
     "output_type": "execute_result"
    }
   ],
   "source": [
    "F = GF(3**2, 'x')\n",
    "x = F.gen();\n",
    "F = [F(0)] + [x**j for j in range(8)]\n",
    "F"
   ]
  },
  {
   "cell_type": "code",
   "execution_count": 54,
   "metadata": {},
   "outputs": [
    {
     "data": {
      "text/plain": [
       "x^2 + 2*x + 2"
      ]
     },
     "execution_count": 54,
     "metadata": {},
     "output_type": "execute_result"
    }
   ],
   "source": [
    "charpoly(x)"
   ]
  },
  {
   "attachments": {},
   "cell_type": "markdown",
   "metadata": {},
   "source": [
    "Let the field basis be $(1,x)$ and let the standard basis be indexed by the field."
   ]
  },
  {
   "cell_type": "code",
   "execution_count": 48,
   "metadata": {},
   "outputs": [],
   "source": [
    "omega = exp(2*pi*I / 3)"
   ]
  },
  {
   "cell_type": "code",
   "execution_count": 52,
   "metadata": {},
   "outputs": [
    {
     "data": {
      "text/plain": [
       "[                   1                    0                    0                    0                    0                    0                    0                    0                    0]\n",
       "[                   0 -1/2*I*sqrt(3) - 1/2                    0                    0                    0                    0                    0                    0                    0]\n",
       "[                   0                    0  1/2*I*sqrt(3) - 1/2                    0                    0                    0                    0                    0                    0]\n",
       "[                   0                    0                    0                    1                    0                    0                    0                    0                    0]\n",
       "[                   0                    0                    0                    0  1/2*I*sqrt(3) - 1/2                    0                    0                    0                    0]\n",
       "[                   0                    0                    0                    0                    0  1/2*I*sqrt(3) - 1/2                    0                    0                    0]\n",
       "[                   0                    0                    0                    0                    0                    0 -1/2*I*sqrt(3) - 1/2                    0                    0]\n",
       "[                   0                    0                    0                    0                    0                    0                    0                    1                    0]\n",
       "[                   0                    0                    0                    0                    0                    0                    0                    0 -1/2*I*sqrt(3) - 1/2]"
      ]
     },
     "execution_count": 52,
     "metadata": {},
     "output_type": "execute_result"
    }
   ],
   "source": [
    "diagonal_matrix(omega**(n.trace()) for n in F).apply_map(lambda t: t.full_simplify())"
   ]
  },
  {
   "cell_type": "code",
   "execution_count": null,
   "metadata": {},
   "outputs": [],
   "source": []
  }
 ],
 "metadata": {
  "kernelspec": {
   "display_name": "Python 3 (ipykernel)",
   "language": "python",
   "name": "python3"
  },
  "language_info": {
   "codemirror_mode": {
    "name": "ipython",
    "version": 3
   },
   "file_extension": ".py",
   "mimetype": "text/x-python",
   "name": "python",
   "nbconvert_exporter": "python",
   "pygments_lexer": "ipython3",
   "version": "3.9.16"
  }
 },
 "nbformat": 4,
 "nbformat_minor": 4
}
