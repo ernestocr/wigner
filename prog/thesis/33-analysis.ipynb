{
 "cells": [
  {
   "cell_type": "code",
   "execution_count": 1,
   "metadata": {},
   "outputs": [],
   "source": [
    "import numpy as np\n",
    "import matplotlib.pyplot as plt\n",
    "import Wigner as wg\n",
    "import mubs_utils as mu\n",
    "from sage.all import *"
   ]
  },
  {
   "cell_type": "code",
   "execution_count": 3,
   "metadata": {},
   "outputs": [],
   "source": [
    "p = 3\n",
    "n = 3\n",
    "d = p**n\n",
    "F = GF(d, 'x'); x = F.gen()"
   ]
  },
  {
   "cell_type": "code",
   "execution_count": 4,
   "metadata": {},
   "outputs": [
    {
     "data": {
      "text/plain": [
       "[0,\n",
       " 1,\n",
       " x,\n",
       " x^2,\n",
       " x + 2,\n",
       " x^2 + 2*x,\n",
       " 2*x^2 + x + 2,\n",
       " x^2 + x + 1,\n",
       " x^2 + 2*x + 2,\n",
       " 2*x^2 + 2,\n",
       " x + 1,\n",
       " x^2 + x,\n",
       " x^2 + x + 2,\n",
       " x^2 + 2,\n",
       " 2,\n",
       " 2*x,\n",
       " 2*x^2,\n",
       " 2*x + 1,\n",
       " 2*x^2 + x,\n",
       " x^2 + 2*x + 1,\n",
       " 2*x^2 + 2*x + 2,\n",
       " 2*x^2 + x + 1,\n",
       " x^2 + 1,\n",
       " 2*x + 2,\n",
       " 2*x^2 + 2*x,\n",
       " 2*x^2 + 2*x + 1,\n",
       " 2*x^2 + 1]"
      ]
     },
     "execution_count": 4,
     "metadata": {},
     "output_type": "execute_result"
    }
   ],
   "source": [
    "FF = [F(0)] + [x**j for j in range(26)]\n",
    "FF"
   ]
  },
  {
   "attachments": {},
   "cell_type": "markdown",
   "metadata": {},
   "source": [
    "First we import Kanat's standard and non-standard MUBs."
   ]
  },
  {
   "cell_type": "code",
   "execution_count": 5,
   "metadata": {},
   "outputs": [],
   "source": [
    "mubs  = np.load('MUBS/3-3-desarguesian.npy')\n",
    "mubsk = np.load('MUBS/3-3-albert.npy')"
   ]
  },
  {
   "attachments": {},
   "cell_type": "markdown",
   "metadata": {},
   "source": [
    "No we do a cross check to see if any vectors are shared between MUBs."
   ]
  },
  {
   "cell_type": "code",
   "execution_count": 6,
   "metadata": {},
   "outputs": [],
   "source": [
    "def toList(mubs):\n",
    "    return [mubs[d*k:d*(k+1)] for k in range(28)]"
   ]
  },
  {
   "attachments": {},
   "cell_type": "markdown",
   "metadata": {},
   "source": [
    "First let us see which bases are shared, we expect the first and second one to be the only ones."
   ]
  },
  {
   "cell_type": "code",
   "execution_count": 7,
   "metadata": {},
   "outputs": [
    {
     "name": "stdout",
     "output_type": "stream",
     "text": [
      "Base 0 and 0 are shared.\n",
      "Base 1 and 1 are shared.\n"
     ]
    }
   ],
   "source": [
    "def testBases(mubs1, mubs2):\n",
    "    mubs1 = toList(mubs1)\n",
    "    mubs2 = toList(mubs2)\n",
    "    for i, B1 in enumerate(mubs1):\n",
    "        for j, B2 in enumerate(mubs2):\n",
    "            if np.all(np.isclose(B1, B2, rtol=1e-5)):\n",
    "                print('Base {} and {} are shared.'.format(i,j))\n",
    "\n",
    "testBases(mubs, mubsk)"
   ]
  },
  {
   "attachments": {},
   "cell_type": "markdown",
   "metadata": {},
   "source": [
    "Now we have to test individual vectors. Super loop!"
   ]
  },
  {
   "cell_type": "code",
   "execution_count": 8,
   "metadata": {},
   "outputs": [],
   "source": [
    "def testVectors(mubs1, mubs2):\n",
    "    mubs1 = toList(mubs1)\n",
    "    mubs2 = toList(mubs2)\n",
    "    for i, B1 in enumerate(mubs1[2:]):\n",
    "        print('Testing base {}'.format(i+2))\n",
    "        for j, B2 in enumerate(mubs2[2:]):\n",
    "            for k in range(d):\n",
    "                v = B1[:,k]\n",
    "                for l in range(d):\n",
    "                    if np.all(np.isclose(v, B2[:,l])):\n",
    "                    # if np.all(v == B2[:,l]):\n",
    "                        print('Vector {} in base {} is shared by base {} at position {}'.format(\n",
    "                            k+2, i, j+2, l\n",
    "                        ))"
   ]
  },
  {
   "cell_type": "code",
   "execution_count": 9,
   "metadata": {},
   "outputs": [
    {
     "name": "stdout",
     "output_type": "stream",
     "text": [
      "Testing base 2\n",
      "Testing base 3\n",
      "Testing base 4\n",
      "Testing base 5\n",
      "Testing base 6\n",
      "Testing base 7\n",
      "Testing base 8\n",
      "Testing base 9\n",
      "Testing base 10\n",
      "Testing base 11\n",
      "Testing base 12\n",
      "Testing base 13\n",
      "Testing base 14\n",
      "Testing base 15\n",
      "Testing base 16\n",
      "Testing base 17\n",
      "Testing base 18\n",
      "Testing base 19\n",
      "Testing base 20\n",
      "Testing base 21\n",
      "Testing base 22\n",
      "Testing base 23\n",
      "Testing base 24\n",
      "Testing base 25\n",
      "Testing base 26\n",
      "Testing base 27\n"
     ]
    }
   ],
   "source": [
    "testVectors(mubs, mubsk)"
   ]
  },
  {
   "attachments": {},
   "cell_type": "markdown",
   "metadata": {},
   "source": [
    "So no vector from any base in the standard MUBs is found in any base of the non-standard MUBs. Now let's test the point operators."
   ]
  },
  {
   "cell_type": "code",
   "execution_count": 10,
   "metadata": {},
   "outputs": [],
   "source": [
    "wootters = wg.Wigner(FF, mubs)\n",
    "kantor   = wg.Wigner(FF, mubsk, op='albert')"
   ]
  },
  {
   "cell_type": "code",
   "execution_count": 11,
   "metadata": {},
   "outputs": [],
   "source": [
    "x = FF[15]\n",
    "y = FF[20]\n",
    "Aw = wootters.A(x, y)\n",
    "Ak = kantor.A(x, y)"
   ]
  },
  {
   "attachments": {},
   "cell_type": "markdown",
   "metadata": {},
   "source": [
    "Some sanity checking, the point operators should unit trace and self-adjoint."
   ]
  },
  {
   "cell_type": "code",
   "execution_count": 12,
   "metadata": {},
   "outputs": [
    {
     "data": {
      "text/plain": [
       "(1+0j)"
      ]
     },
     "execution_count": 12,
     "metadata": {},
     "output_type": "execute_result"
    }
   ],
   "source": [
    "Aw.trace().round(4)"
   ]
  },
  {
   "cell_type": "code",
   "execution_count": 13,
   "metadata": {},
   "outputs": [
    {
     "data": {
      "text/plain": [
       "(1+0j)"
      ]
     },
     "execution_count": 13,
     "metadata": {},
     "output_type": "execute_result"
    }
   ],
   "source": [
    "Ak.trace().round(4)"
   ]
  },
  {
   "cell_type": "code",
   "execution_count": 14,
   "metadata": {},
   "outputs": [
    {
     "data": {
      "text/plain": [
       "True"
      ]
     },
     "execution_count": 14,
     "metadata": {},
     "output_type": "execute_result"
    }
   ],
   "source": [
    "np.all(Aw == Aw.conj().T)"
   ]
  },
  {
   "cell_type": "code",
   "execution_count": 15,
   "metadata": {},
   "outputs": [
    {
     "data": {
      "text/plain": [
       "True"
      ]
     },
     "execution_count": 15,
     "metadata": {},
     "output_type": "execute_result"
    }
   ],
   "source": [
    "np.all(Ak == Ak.conj().T)"
   ]
  },
  {
   "attachments": {},
   "cell_type": "markdown",
   "metadata": {},
   "source": [
    "Now for some visual checks."
   ]
  },
  {
   "cell_type": "code",
   "execution_count": 16,
   "metadata": {},
   "outputs": [
    {
     "data": {
      "text/plain": [
       "<matplotlib.image.AxesImage at 0x17e0e0730>"
      ]
     },
     "execution_count": 16,
     "metadata": {},
     "output_type": "execute_result"
    },
    {
     "data": {
      "image/png": "[encoded data removed]",
      "text/plain": [
       "<Figure size 640x480 with 4 Axes>"
      ]
     },
     "metadata": {},
     "output_type": "display_data"
    }
   ],
   "source": [
    "fig, axs = plt.subplots(2, 2)\n",
    "axs[0][0].imshow(np.real(Aw), origin='lower')\n",
    "axs[0][1].imshow(np.imag(Aw), origin='lower')\n",
    "axs[1][0].imshow(np.real(Ak), origin='lower')\n",
    "axs[1][1].imshow(np.imag(Ak), origin='lower')"
   ]
  },
  {
   "cell_type": "code",
   "execution_count": 17,
   "metadata": {},
   "outputs": [
    {
     "data": {
      "text/plain": [
       "True"
      ]
     },
     "execution_count": 17,
     "metadata": {},
     "output_type": "execute_result"
    }
   ],
   "source": [
    "np.all((Aw - Ak).round(6) == np.zeros((d,d)))"
   ]
  },
  {
   "cell_type": "code",
   "execution_count": 18,
   "metadata": {},
   "outputs": [],
   "source": [
    "for x in FF:\n",
    "    for y in FF:\n",
    "        Aw = wootters.A(x, y).round(6)\n",
    "        Ak = kantor.A(x, y).round(6)\n",
    "        if not np.all(Aw == Ak):\n",
    "            print('Found differing point operators, at ({}, {})'.format(x, y))"
   ]
  },
  {
   "attachments": {},
   "cell_type": "markdown",
   "metadata": {},
   "source": [
    "So all the point operators are the same. Let's do a quick check with the other standard MUBs."
   ]
  },
  {
   "cell_type": "code",
   "execution_count": 19,
   "metadata": {},
   "outputs": [],
   "source": [
    "mubs  = np.load('MUBS/3-3-desarguesian2.npy')\n",
    "mubsk = np.load('MUBS/3-3-albert.npy')"
   ]
  },
  {
   "cell_type": "code",
   "execution_count": 20,
   "metadata": {},
   "outputs": [
    {
     "name": "stdout",
     "output_type": "stream",
     "text": [
      "Base 0 and 0 are shared.\n",
      "Base 1 and 1 are shared.\n"
     ]
    }
   ],
   "source": [
    "testBases(mubs, mubsk)"
   ]
  },
  {
   "cell_type": "code",
   "execution_count": 21,
   "metadata": {},
   "outputs": [
    {
     "name": "stdout",
     "output_type": "stream",
     "text": [
      "Testing base 2\n",
      "Testing base 3\n",
      "Testing base 4\n",
      "Testing base 5\n",
      "Testing base 6\n",
      "Testing base 7\n",
      "Testing base 8\n",
      "Testing base 9\n",
      "Testing base 10\n",
      "Testing base 11\n",
      "Testing base 12\n",
      "Testing base 13\n",
      "Testing base 14\n",
      "Testing base 15\n",
      "Testing base 16\n",
      "Testing base 17\n",
      "Testing base 18\n",
      "Testing base 19\n",
      "Testing base 20\n",
      "Testing base 21\n",
      "Testing base 22\n",
      "Testing base 23\n",
      "Testing base 24\n",
      "Testing base 25\n",
      "Testing base 26\n",
      "Testing base 27\n"
     ]
    }
   ],
   "source": [
    "testVectors(mubs, mubsk)"
   ]
  },
  {
   "attachments": {},
   "cell_type": "markdown",
   "metadata": {},
   "source": [
    "Again no repeated vectors at all!"
   ]
  },
  {
   "cell_type": "code",
   "execution_count": 22,
   "metadata": {},
   "outputs": [],
   "source": [
    "wootters = wg.Wigner(FF, mubs)\n",
    "kantor   = wg.Wigner(FF, mubsk, op='albert')"
   ]
  },
  {
   "cell_type": "code",
   "execution_count": 23,
   "metadata": {},
   "outputs": [],
   "source": [
    "x = FF[0]\n",
    "y = FF[0]\n",
    "Aw = wootters.A(x, y)\n",
    "Ak = kantor.A(x, y)"
   ]
  },
  {
   "cell_type": "code",
   "execution_count": 24,
   "metadata": {},
   "outputs": [
    {
     "data": {
      "text/plain": [
       "True"
      ]
     },
     "execution_count": 24,
     "metadata": {},
     "output_type": "execute_result"
    }
   ],
   "source": [
    "np.all(Aw.conj().T == Aw)"
   ]
  },
  {
   "cell_type": "code",
   "execution_count": 25,
   "metadata": {},
   "outputs": [
    {
     "data": {
      "text/plain": [
       "(0.9999932050704956+0j)"
      ]
     },
     "execution_count": 25,
     "metadata": {},
     "output_type": "execute_result"
    }
   ],
   "source": [
    "Aw.trace()"
   ]
  },
  {
   "cell_type": "code",
   "execution_count": 26,
   "metadata": {},
   "outputs": [
    {
     "data": {
      "text/plain": [
       "<matplotlib.image.AxesImage at 0x17e2c25b0>"
      ]
     },
     "execution_count": 26,
     "metadata": {},
     "output_type": "execute_result"
    },
    {
     "data": {
      "image/png": "[encoded data removed]",
      "text/plain": [
       "<Figure size 640x480 with 4 Axes>"
      ]
     },
     "metadata": {},
     "output_type": "display_data"
    }
   ],
   "source": [
    "fig, axs = plt.subplots(2, 2)\n",
    "axs[0][0].imshow(np.real(Aw))\n",
    "axs[0][1].imshow(np.imag(Aw))\n",
    "axs[1][0].imshow(np.real(Ak))\n",
    "axs[1][1].imshow(np.imag(Ak))"
   ]
  },
  {
   "attachments": {},
   "cell_type": "markdown",
   "metadata": {},
   "source": [
    "I get a repeated origin operator!"
   ]
  },
  {
   "cell_type": "code",
   "execution_count": 27,
   "metadata": {},
   "outputs": [],
   "source": [
    "x = FF[12]\n",
    "y = FF[18]\n",
    "Aw = wootters.A(x, y)\n",
    "Ak = kantor.A(x, y)"
   ]
  },
  {
   "cell_type": "code",
   "execution_count": 28,
   "metadata": {},
   "outputs": [
    {
     "data": {
      "text/plain": [
       "<matplotlib.image.AxesImage at 0x17e4544f0>"
      ]
     },
     "execution_count": 28,
     "metadata": {},
     "output_type": "execute_result"
    },
    {
     "data": {
      "image/png": "[encoded data removed]",
      "text/plain": [
       "<Figure size 640x480 with 4 Axes>"
      ]
     },
     "metadata": {},
     "output_type": "display_data"
    }
   ],
   "source": [
    "fig, axs = plt.subplots(2, 2)\n",
    "axs[0][0].imshow(np.real(Aw))\n",
    "axs[0][1].imshow(np.imag(Aw))\n",
    "axs[1][0].imshow(np.real(Ak))\n",
    "axs[1][1].imshow(np.imag(Ak))"
   ]
  },
  {
   "attachments": {},
   "cell_type": "markdown",
   "metadata": {},
   "source": [
    "Distinct non-origin point operators! Now suppose that $A_{\\mathcal W} = U A_{\\mathcal K}$ for some operator $U$. Is $U = A_{\\mathcal W} A_{\\mathcal K}^{-1}$ unitary?"
   ]
  },
  {
   "cell_type": "code",
   "execution_count": 29,
   "metadata": {},
   "outputs": [],
   "source": [
    "U = Aw @ np.linalg.inv(Ak)"
   ]
  },
  {
   "cell_type": "code",
   "execution_count": 30,
   "metadata": {},
   "outputs": [
    {
     "data": {
      "text/plain": [
       "<matplotlib.image.AxesImage at 0x17e341280>"
      ]
     },
     "execution_count": 30,
     "metadata": {},
     "output_type": "execute_result"
    },
    {
     "data": {
      "image/png": "[encoded data removed]",
      "text/plain": [
       "<Figure size 640x480 with 1 Axes>"
      ]
     },
     "metadata": {},
     "output_type": "display_data"
    }
   ],
   "source": [
    "plt.imshow(np.real(U))"
   ]
  },
  {
   "cell_type": "code",
   "execution_count": 31,
   "metadata": {},
   "outputs": [
    {
     "data": {
      "text/plain": [
       "<matplotlib.image.AxesImage at 0x17e5714c0>"
      ]
     },
     "execution_count": 31,
     "metadata": {},
     "output_type": "execute_result"
    },
    {
     "data": {
      "image/png": "[encoded data removed]",
      "text/plain": [
       "<Figure size 640x480 with 1 Axes>"
      ]
     },
     "metadata": {},
     "output_type": "display_data"
    }
   ],
   "source": [
    "plt.imshow(np.real((U @ U.conj().T)))"
   ]
  },
  {
   "attachments": {},
   "cell_type": "markdown",
   "metadata": {},
   "source": [
    "At leat numerically, $U$ is **not** unitary. How does the $U$ compare using distinct points?"
   ]
  },
  {
   "cell_type": "code",
   "execution_count": 32,
   "metadata": {},
   "outputs": [
    {
     "data": {
      "text/plain": [
       "<matplotlib.image.AxesImage at 0x17e5e5640>"
      ]
     },
     "execution_count": 32,
     "metadata": {},
     "output_type": "execute_result"
    },
    {
     "data": {
      "image/png": "[encoded data removed]",
      "text/plain": [
       "<Figure size 640x480 with 1 Axes>"
      ]
     },
     "metadata": {},
     "output_type": "display_data"
    }
   ],
   "source": [
    "x = FF[6]\n",
    "y = FF[23]\n",
    "Aw = wootters.A(x, y)\n",
    "Ak = kantor.A(x, y)\n",
    "\n",
    "U = Aw @ np.linalg.inv(Ak)\n",
    "\n",
    "plt.imshow(np.real(U))"
   ]
  },
  {
   "cell_type": "code",
   "execution_count": 33,
   "metadata": {},
   "outputs": [
    {
     "data": {
      "text/plain": [
       "<matplotlib.image.AxesImage at 0x17e651fa0>"
      ]
     },
     "execution_count": 33,
     "metadata": {},
     "output_type": "execute_result"
    },
    {
     "data": {
      "image/png": "[encoded data removed]",
      "text/plain": [
       "<Figure size 640x480 with 1 Axes>"
      ]
     },
     "metadata": {},
     "output_type": "display_data"
    }
   ],
   "source": [
    "plt.imshow(np.real(U @ U.conj().T))"
   ]
  },
  {
   "attachments": {},
   "cell_type": "markdown",
   "metadata": {},
   "source": [
    "Also not unitary."
   ]
  },
  {
   "cell_type": "code",
   "execution_count": null,
   "metadata": {},
   "outputs": [],
   "source": []
  }
 ],
 "metadata": {
  "kernelspec": {
   "display_name": "wigner",
   "language": "python",
   "name": "python3"
  },
  "language_info": {
   "codemirror_mode": {
    "name": "ipython",
    "version": 3
   },
   "file_extension": ".py",
   "mimetype": "text/x-python",
   "name": "python",
   "nbconvert_exporter": "python",
   "pygments_lexer": "ipython3",
   "version": "3.9.16"
  },
  "orig_nbformat": 4
 },
 "nbformat": 4,
 "nbformat_minor": 2
}
