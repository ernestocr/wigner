{
 "cells": [
  {
   "cell_type": "code",
   "execution_count": 126,
   "metadata": {},
   "outputs": [],
   "source": [
    "from sage.all import *\n",
    "reset()"
   ]
  },
  {
   "cell_type": "code",
   "execution_count": 127,
   "metadata": {},
   "outputs": [
    {
     "data": {
      "text/plain": [
       "Univariate Quotient Polynomial Ring in w over Ring of integers modulo 4 with modulus t^2 + t + 1"
      ]
     },
     "execution_count": 127,
     "metadata": {},
     "output_type": "execute_result"
    }
   ],
   "source": [
    "p = 2\n",
    "n = 2\n",
    "q = p**n\n",
    "\n",
    "# GR(4,2)\n",
    "R  = PolynomialRing(Integers(4), 't'); t = R.gen()\n",
    "GR = R.quotient(t**2+t+1, 'w'); w = GR.gen()\n",
    "GR"
   ]
  },
  {
   "cell_type": "code",
   "execution_count": 128,
   "metadata": {},
   "outputs": [
    {
     "data": {
      "text/plain": [
       "16"
      ]
     },
     "execution_count": 128,
     "metadata": {},
     "output_type": "execute_result"
    }
   ],
   "source": [
    "GR.cardinality()"
   ]
  },
  {
   "cell_type": "code",
   "execution_count": 129,
   "metadata": {},
   "outputs": [
    {
     "data": {
      "text/plain": [
       "[0,\n",
       " 1,\n",
       " 2,\n",
       " 3,\n",
       " w,\n",
       " w + 1,\n",
       " w + 2,\n",
       " w + 3,\n",
       " 2*w,\n",
       " 2*w + 1,\n",
       " 2*w + 2,\n",
       " 2*w + 3,\n",
       " 3*w,\n",
       " 3*w + 1,\n",
       " 3*w + 2,\n",
       " 3*w + 3]"
      ]
     },
     "execution_count": 129,
     "metadata": {},
     "output_type": "execute_result"
    }
   ],
   "source": [
    "list(GR)"
   ]
  },
  {
   "cell_type": "code",
   "execution_count": 130,
   "metadata": {},
   "outputs": [
    {
     "name": "stdout",
     "output_type": "stream",
     "text": [
      "Trace defined!\n"
     ]
    }
   ],
   "source": [
    "# def generalizedFrobenius(a, b):\n",
    "#     return a**2 + GR(2)*b**2\n",
    "\n",
    "def ringTrace(a, b):\n",
    "    s = GR(0)\n",
    "    for k in range(n):\n",
    "        s += a**(2**k) + GR(2)*b**(2**k)\n",
    "    return s \n",
    "\n",
    "for a in GR:\n",
    "    for b in GR:\n",
    "        if not ringTrace(a, b) == a + GR(2)*b + a**2 + GR(2)*b**2:\n",
    "            raise Error('Trace not well defined!')\n",
    "print('Trace defined!')"
   ]
  },
  {
   "attachments": {},
   "cell_type": "markdown",
   "metadata": {},
   "source": [
    "In this case the ring generator $w$ coincides with the $\\xi$."
   ]
  },
  {
   "cell_type": "code",
   "execution_count": 144,
   "metadata": {},
   "outputs": [
    {
     "data": {
      "text/plain": [
       "1"
      ]
     },
     "execution_count": 144,
     "metadata": {},
     "output_type": "execute_result"
    }
   ],
   "source": [
    "w**3"
   ]
  },
  {
   "cell_type": "code",
   "execution_count": 131,
   "metadata": {},
   "outputs": [
    {
     "data": {
      "text/plain": [
       "[0, 1, w, 3*w + 3]"
      ]
     },
     "execution_count": 131,
     "metadata": {},
     "output_type": "execute_result"
    }
   ],
   "source": [
    "T = [0] + [w**k for k in range((2**n - 2) + 1)]\n",
    "T"
   ]
  },
  {
   "cell_type": "code",
   "execution_count": 112,
   "metadata": {},
   "outputs": [],
   "source": [
    "def brute2adic(x):\n",
    "    for a in T:\n",
    "        for b in T:\n",
    "            if x == a + GR(2)*b:\n",
    "                return (a,b)"
   ]
  },
  {
   "cell_type": "code",
   "execution_count": 113,
   "metadata": {},
   "outputs": [],
   "source": [
    "mubs = [identity_matrix(q)]\n",
    "for m in T:\n",
    "    Bm = zero_matrix(SR, q, q)\n",
    "    for j, v in enumerate(T):\n",
    "        for i, w in enumerate(T):\n",
    "            a, b = brute2adic(w**2 * m + 2 * w * v)\n",
    "            pwr  = Integer(lift(ringTrace(a, b)))\n",
    "            # print(pwr)\n",
    "            Bm[i,j] = 1/sqrt(q) * I**pwr\n",
    "            # Bm[i,j] = I**pwr\n",
    "    mubs.append(Bm)"
   ]
  },
  {
   "cell_type": "code",
   "execution_count": 114,
   "metadata": {},
   "outputs": [
    {
     "name": "stdout",
     "output_type": "stream",
     "text": [
      "0\n",
      "[ 1/2  1/2  1/2  1/2]\n",
      "[ 1/2  1/2 -1/2 -1/2]\n",
      "[ 1/2 -1/2 -1/2  1/2]\n",
      "[ 1/2 -1/2  1/2 -1/2]\n",
      "\n",
      "\n",
      "1\n",
      "[   1/2    1/2    1/2    1/2]\n",
      "[  -1/2   -1/2    1/2    1/2]\n",
      "[-1/2*I  1/2*I  1/2*I -1/2*I]\n",
      "[-1/2*I  1/2*I -1/2*I  1/2*I]\n",
      "\n",
      "\n",
      "w\n",
      "[   1/2    1/2    1/2    1/2]\n",
      "[-1/2*I -1/2*I  1/2*I  1/2*I]\n",
      "[  -1/2    1/2    1/2   -1/2]\n",
      "[-1/2*I  1/2*I -1/2*I  1/2*I]\n",
      "\n",
      "\n",
      "3*w + 3\n",
      "[   1/2    1/2    1/2    1/2]\n",
      "[-1/2*I -1/2*I  1/2*I  1/2*I]\n",
      "[-1/2*I  1/2*I  1/2*I -1/2*I]\n",
      "[  -1/2    1/2   -1/2    1/2]\n",
      "\n",
      "\n"
     ]
    }
   ],
   "source": [
    "for i, m in enumerate(T):\n",
    "    print(m)\n",
    "    print(mubs[i+1])\n",
    "    print('\\n')"
   ]
  },
  {
   "cell_type": "code",
   "execution_count": 115,
   "metadata": {},
   "outputs": [],
   "source": [
    "def testMubs(mubs):\n",
    "    for B in mubs:\n",
    "        for V in mubs:\n",
    "            if B != V:\n",
    "                for j in range(4):\n",
    "                    for k in range(4):\n",
    "                        r = (transpose(B[:,j]) * V[:,k]).norm().abs()**2\n",
    "                        if r != 1/4:\n",
    "                            print(B)\n",
    "                            print(V)\n",
    "                            print(r)\n",
    "                            raise Exception('Not MUBs!')\n",
    "    return True"
   ]
  },
  {
   "cell_type": "code",
   "execution_count": 116,
   "metadata": {},
   "outputs": [
    {
     "data": {
      "text/plain": [
       "True"
      ]
     },
     "execution_count": 116,
     "metadata": {},
     "output_type": "execute_result"
    }
   ],
   "source": [
    "testMubs(mubs)"
   ]
  },
  {
   "attachments": {},
   "cell_type": "markdown",
   "metadata": {},
   "source": [
    "Now for five qubits, $\\mathcal H = \\mathbb C^{2^5}$."
   ]
  },
  {
   "cell_type": "code",
   "execution_count": 145,
   "metadata": {},
   "outputs": [],
   "source": [
    "reset()\n",
    "\n",
    "p = 2\n",
    "n = 5\n",
    "q = p**n"
   ]
  },
  {
   "cell_type": "code",
   "execution_count": 146,
   "metadata": {},
   "outputs": [
    {
     "data": {
      "text/plain": [
       "Finite Field in w of size 2^5"
      ]
     },
     "execution_count": 146,
     "metadata": {},
     "output_type": "execute_result"
    }
   ],
   "source": [
    "F = GF(2**5, 'w', repr='poly'); w = F.gen()\n",
    "F"
   ]
  },
  {
   "cell_type": "code",
   "execution_count": 147,
   "metadata": {},
   "outputs": [
    {
     "data": {
      "text/plain": [
       "x^5 + x^2 + 1"
      ]
     },
     "execution_count": 147,
     "metadata": {},
     "output_type": "execute_result"
    }
   ],
   "source": [
    "charpoly(w) # defaults to Conway polynomial"
   ]
  },
  {
   "cell_type": "code",
   "execution_count": 148,
   "metadata": {},
   "outputs": [],
   "source": [
    "# GR(4,5)\n",
    "R  = PolynomialRing(Integers(4), 't'); t = R.gen()"
   ]
  },
  {
   "cell_type": "code",
   "execution_count": 149,
   "metadata": {},
   "outputs": [
    {
     "data": {
      "text/plain": [
       "t^5 + t^2 + 1"
      ]
     },
     "execution_count": 149,
     "metadata": {},
     "output_type": "execute_result"
    }
   ],
   "source": [
    "factor(t**5 + t**2 + 1)"
   ]
  },
  {
   "cell_type": "code",
   "execution_count": 160,
   "metadata": {},
   "outputs": [
    {
     "data": {
      "text/plain": [
       "Univariate Quotient Polynomial Ring in alpha over Ring of integers modulo 4 with modulus t^5 + t^2 + 1"
      ]
     },
     "execution_count": 160,
     "metadata": {},
     "output_type": "execute_result"
    }
   ],
   "source": [
    "GR = R.quotient(t**5 + t**2 + 1, 'alpha'); alpha = GR.gen()\n",
    "GR"
   ]
  },
  {
   "cell_type": "code",
   "execution_count": 161,
   "metadata": {},
   "outputs": [
    {
     "data": {
      "text/plain": [
       "0"
      ]
     },
     "execution_count": 161,
     "metadata": {},
     "output_type": "execute_result"
    }
   ],
   "source": [
    "alpha**5 + alpha**2 + 1"
   ]
  },
  {
   "attachments": {},
   "cell_type": "markdown",
   "metadata": {},
   "source": [
    "Ring generator $\\alpha$ is not the multiplicative generator of the Teichmüller set as can be seen below:"
   ]
  },
  {
   "cell_type": "code",
   "execution_count": 162,
   "metadata": {},
   "outputs": [
    {
     "data": {
      "text/plain": [
       "2*alpha^3 + 2*alpha + 1"
      ]
     },
     "execution_count": 162,
     "metadata": {},
     "output_type": "execute_result"
    }
   ],
   "source": [
    "alpha**(2**5-1)"
   ]
  },
  {
   "attachments": {},
   "cell_type": "markdown",
   "metadata": {},
   "source": [
    "Andrés found the $2^5-1$-th primitive root of unity though:"
   ]
  },
  {
   "cell_type": "code",
   "execution_count": 163,
   "metadata": {},
   "outputs": [
    {
     "data": {
      "text/plain": [
       "1"
      ]
     },
     "execution_count": 163,
     "metadata": {},
     "output_type": "execute_result"
    }
   ],
   "source": [
    "xi = alpha**2 + 2*alpha + 1\n",
    "xi**(2**5-1)"
   ]
  },
  {
   "cell_type": "code",
   "execution_count": 164,
   "metadata": {},
   "outputs": [
    {
     "data": {
      "text/plain": [
       "32"
      ]
     },
     "execution_count": 164,
     "metadata": {},
     "output_type": "execute_result"
    }
   ],
   "source": [
    "T = [0] + [xi**k for k in range(2**n - 2 + 1)]\n",
    "len(T)"
   ]
  },
  {
   "cell_type": "code",
   "execution_count": 165,
   "metadata": {},
   "outputs": [
    {
     "data": {
      "text/plain": [
       "1"
      ]
     },
     "execution_count": 165,
     "metadata": {},
     "output_type": "execute_result"
    }
   ],
   "source": [
    "T[-1]*xi"
   ]
  },
  {
   "cell_type": "code",
   "execution_count": 166,
   "metadata": {},
   "outputs": [
    {
     "data": {
      "text/plain": [
       "[0,\n",
       " 1,\n",
       " alpha^2 + 2*alpha + 1,\n",
       " alpha^4 + 2*alpha^2 + 1,\n",
       " 3*alpha^4 + 3*alpha^3 + alpha^2 + alpha + 3,\n",
       " 2*alpha^4 + 3*alpha^3 + alpha^2 + 2,\n",
       " alpha^4 + 3*alpha^3 + 2*alpha + 3,\n",
       " 3*alpha^4 + 2*alpha^2 + 3*alpha + 2,\n",
       " alpha^4,\n",
       " alpha^4 + 3*alpha^3 + 2*alpha^2 + 3*alpha + 2,\n",
       " alpha^4 + alpha^3 + alpha^2 + 2*alpha + 1,\n",
       " 3*alpha^2 + 3*alpha + 2,\n",
       " 3*alpha^4 + alpha^3 + 3*alpha^2 + 3*alpha + 2,\n",
       " 3*alpha^3 + 3,\n",
       " 2*alpha^4 + 3*alpha^3 + 2*alpha,\n",
       " 3*alpha^3 + alpha^2 + 1,\n",
       " 3*alpha^4 + alpha^3 + 3*alpha^2 + 2*alpha + 2,\n",
       " 2*alpha^3 + 2*alpha^2 + 3*alpha + 3,\n",
       " 2*alpha^4 + alpha^3 + alpha^2 + alpha + 1,\n",
       " alpha^4 + 2*alpha^3 + 3*alpha^2 + alpha,\n",
       " alpha^2,\n",
       " alpha^4 + 2*alpha^3 + alpha^2,\n",
       " 2*alpha^4 + 3*alpha^3 + alpha^2 + 3*alpha,\n",
       " alpha^4 + 2*alpha^3 + alpha + 1,\n",
       " alpha^4 + 2*alpha^3 + 3*alpha^2 + 2*alpha + 1,\n",
       " alpha^3 + 3*alpha + 1,\n",
       " 2*alpha^4 + 2*alpha^2 + alpha,\n",
       " 3*alpha^3 + 3*alpha,\n",
       " 2*alpha^4 + 2*alpha^3 + 3*alpha^2 + 3*alpha + 1,\n",
       " alpha^4 + alpha^3 + 3*alpha + 3,\n",
       " 3*alpha^4 + 3*alpha^3 + 2*alpha^2,\n",
       " 3*alpha^4 + alpha^2 + alpha + 3]"
      ]
     },
     "execution_count": 166,
     "metadata": {},
     "output_type": "execute_result"
    }
   ],
   "source": [
    "T"
   ]
  },
  {
   "cell_type": "code",
   "execution_count": 167,
   "metadata": {},
   "outputs": [
    {
     "data": {
      "text/plain": [
       "alpha^2 + 2*alpha + 1"
      ]
     },
     "execution_count": 167,
     "metadata": {},
     "output_type": "execute_result"
    }
   ],
   "source": [
    "xi"
   ]
  },
  {
   "cell_type": "code",
   "execution_count": null,
   "metadata": {},
   "outputs": [],
   "source": []
  }
 ],
 "metadata": {
  "kernelspec": {
   "display_name": "wigner",
   "language": "python",
   "name": "python3"
  },
  "language_info": {
   "codemirror_mode": {
    "name": "ipython",
    "version": 3
   },
   "file_extension": ".py",
   "mimetype": "text/x-python",
   "name": "python",
   "nbconvert_exporter": "python",
   "pygments_lexer": "ipython3",
   "version": "3.9.16"
  },
  "orig_nbformat": 4
 },
 "nbformat": 4,
 "nbformat_minor": 2
}
