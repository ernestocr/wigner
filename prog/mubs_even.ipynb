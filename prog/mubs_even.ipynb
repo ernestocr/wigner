{
 "cells": [
  {
   "cell_type": "code",
   "execution_count": 39,
   "metadata": {},
   "outputs": [
    {
     "name": "stdout",
     "output_type": "stream",
     "text": [
      "The line_profiler extension is already loaded. To reload it, use:\n",
      "  %reload_ext line_profiler\n"
     ]
    }
   ],
   "source": [
    "%load_ext line_profiler"
   ]
  },
  {
   "cell_type": "code",
   "execution_count": 40,
   "metadata": {},
   "outputs": [],
   "source": [
    "import numpy as np\n",
    "from sage.all import *\n",
    "from mubs_utils import testMubs, saveMubs\n",
    "reset()"
   ]
  },
  {
   "cell_type": "code",
   "execution_count": 41,
   "metadata": {},
   "outputs": [
    {
     "data": {
      "text/plain": [
       "Univariate Quotient Polynomial Ring in w over Ring of integers modulo 4 with modulus t^2 + t + 1"
      ]
     },
     "execution_count": 41,
     "metadata": {},
     "output_type": "execute_result"
    }
   ],
   "source": [
    "p = 2\n",
    "n = 2\n",
    "q = p**n\n",
    "\n",
    "# GR(4,2)\n",
    "R  = PolynomialRing(Integers(4), 't'); t = R.gen()\n",
    "GR = R.quotient(t**2+t+1, 'w'); w = GR.gen()\n",
    "GR"
   ]
  },
  {
   "cell_type": "code",
   "execution_count": 42,
   "metadata": {},
   "outputs": [
    {
     "data": {
      "text/plain": [
       "16"
      ]
     },
     "execution_count": 42,
     "metadata": {},
     "output_type": "execute_result"
    }
   ],
   "source": [
    "GR.cardinality()"
   ]
  },
  {
   "cell_type": "code",
   "execution_count": 43,
   "metadata": {},
   "outputs": [
    {
     "data": {
      "text/plain": [
       "[0,\n",
       " 1,\n",
       " 2,\n",
       " 3,\n",
       " w,\n",
       " w + 1,\n",
       " w + 2,\n",
       " w + 3,\n",
       " 2*w,\n",
       " 2*w + 1,\n",
       " 2*w + 2,\n",
       " 2*w + 3,\n",
       " 3*w,\n",
       " 3*w + 1,\n",
       " 3*w + 2,\n",
       " 3*w + 3]"
      ]
     },
     "execution_count": 43,
     "metadata": {},
     "output_type": "execute_result"
    }
   ],
   "source": [
    "list(GR)"
   ]
  },
  {
   "cell_type": "code",
   "execution_count": 44,
   "metadata": {},
   "outputs": [
    {
     "name": "stdout",
     "output_type": "stream",
     "text": [
      "Trace defined!\n"
     ]
    }
   ],
   "source": [
    "# def generalizedFrobenius(a, b):\n",
    "#     return a**2 + GR(2)*b**2\n",
    "\n",
    "def ringTrace(a, b):\n",
    "    s = GR(0)\n",
    "    for k in range(n):\n",
    "        s += a**(2**k) + GR(2)*b**(2**k)\n",
    "    return s \n",
    "\n",
    "for a in GR:\n",
    "    for b in GR:\n",
    "        if not ringTrace(a, b) == a + GR(2)*b + a**2 + GR(2)*b**2:\n",
    "            raise Error('Trace not well defined!')\n",
    "print('Trace defined!')"
   ]
  },
  {
   "attachments": {},
   "cell_type": "markdown",
   "metadata": {},
   "source": [
    "In this case the ring generator $w$ coincides with the $\\xi$."
   ]
  },
  {
   "cell_type": "code",
   "execution_count": 45,
   "metadata": {},
   "outputs": [
    {
     "data": {
      "text/plain": [
       "1"
      ]
     },
     "execution_count": 45,
     "metadata": {},
     "output_type": "execute_result"
    }
   ],
   "source": [
    "w**3"
   ]
  },
  {
   "cell_type": "code",
   "execution_count": 46,
   "metadata": {},
   "outputs": [
    {
     "data": {
      "text/plain": [
       "[0, 1, w, 3*w + 3]"
      ]
     },
     "execution_count": 46,
     "metadata": {},
     "output_type": "execute_result"
    }
   ],
   "source": [
    "T = [0] + [w**k for k in range((2**n - 2) + 1)]\n",
    "T"
   ]
  },
  {
   "cell_type": "code",
   "execution_count": 47,
   "metadata": {},
   "outputs": [],
   "source": [
    "def brute2adic(x):\n",
    "    for a in T:\n",
    "        for b in T:\n",
    "            if x == a + GR(2)*b:\n",
    "                return (a,b)"
   ]
  },
  {
   "cell_type": "code",
   "execution_count": 48,
   "metadata": {},
   "outputs": [],
   "source": [
    "mubs = [identity_matrix(q)]\n",
    "for m in T:\n",
    "    Bm = zero_matrix(SR, q, q)\n",
    "    for j, v in enumerate(T):\n",
    "        for i, w in enumerate(T):\n",
    "            a, b = brute2adic(w**2 * m + 2 * w * v)\n",
    "            pwr  = Integer(lift(ringTrace(a, b)))\n",
    "            Bm[i,j] = 1/sqrt(q) * I**pwr\n",
    "    mubs.append(Bm)"
   ]
  },
  {
   "cell_type": "code",
   "execution_count": 49,
   "metadata": {},
   "outputs": [
    {
     "name": "stdout",
     "output_type": "stream",
     "text": [
      "0\n",
      "[ 1  1  1  1]\n",
      "[ 1  1 -1 -1]\n",
      "[ 1 -1 -1  1]\n",
      "[ 1 -1  1 -1]\n",
      "\n",
      "\n",
      "1\n",
      "[ 1  1  1  1]\n",
      "[-1 -1  1  1]\n",
      "[-I  I  I -I]\n",
      "[-I  I -I  I]\n",
      "\n",
      "\n",
      "w\n",
      "[ 1  1  1  1]\n",
      "[-I -I  I  I]\n",
      "[-1  1  1 -1]\n",
      "[-I  I -I  I]\n",
      "\n",
      "\n",
      "3*w + 3\n",
      "[ 1  1  1  1]\n",
      "[-I -I  I  I]\n",
      "[-I  I  I -I]\n",
      "[-1  1 -1  1]\n",
      "\n",
      "\n"
     ]
    }
   ],
   "source": [
    "for i, m in enumerate(T):\n",
    "    print(m)\n",
    "    print(mubs[i+1]*2)\n",
    "    print('\\n')"
   ]
  },
  {
   "cell_type": "code",
   "execution_count": 50,
   "metadata": {},
   "outputs": [
    {
     "name": "stdout",
     "output_type": "stream",
     "text": [
      "Saved to MUBS/2-2-desarguesian\n"
     ]
    }
   ],
   "source": [
    "from mubs_utils import saveMubs\n",
    "saveMubs(mubs, 'MUBS/2-2-desarguesian')"
   ]
  },
  {
   "cell_type": "code",
   "execution_count": 51,
   "metadata": {},
   "outputs": [],
   "source": [
    "def testMubs(mubs):\n",
    "    for B in mubs:\n",
    "        for V in mubs:\n",
    "            if B != V:\n",
    "                for j in range(4):\n",
    "                    for k in range(4):\n",
    "                        r = (transpose(B[:,j]) * V[:,k]).norm().abs()**2\n",
    "                        if r != 1/4:\n",
    "                            print(r)\n",
    "                            raise Exception('Not MUBs!')\n",
    "    return True"
   ]
  },
  {
   "cell_type": "code",
   "execution_count": 52,
   "metadata": {},
   "outputs": [
    {
     "data": {
      "text/plain": [
       "True"
      ]
     },
     "execution_count": 52,
     "metadata": {},
     "output_type": "execute_result"
    }
   ],
   "source": [
    "testMubs(mubs)"
   ]
  },
  {
   "attachments": {},
   "cell_type": "markdown",
   "metadata": {},
   "source": [
    "---\n",
    "Now for five qubits, $\\mathcal H = \\mathbb C^{2^5}$."
   ]
  },
  {
   "cell_type": "code",
   "execution_count": 53,
   "metadata": {},
   "outputs": [],
   "source": [
    "p = 2\n",
    "n = 5\n",
    "q = p**n"
   ]
  },
  {
   "cell_type": "code",
   "execution_count": 54,
   "metadata": {},
   "outputs": [
    {
     "data": {
      "text/plain": [
       "Finite Field in w of size 2^5"
      ]
     },
     "execution_count": 54,
     "metadata": {},
     "output_type": "execute_result"
    }
   ],
   "source": [
    "F = GF(2**5, 'w', repr='poly'); w = F.gen()\n",
    "F"
   ]
  },
  {
   "cell_type": "code",
   "execution_count": 55,
   "metadata": {},
   "outputs": [
    {
     "data": {
      "text/plain": [
       "x^5 + x^2 + 1"
      ]
     },
     "execution_count": 55,
     "metadata": {},
     "output_type": "execute_result"
    }
   ],
   "source": [
    "charpoly(w) # defaults to Conway polynomial"
   ]
  },
  {
   "cell_type": "code",
   "execution_count": 56,
   "metadata": {},
   "outputs": [],
   "source": [
    "# GR(4,5)\n",
    "R  = PolynomialRing(Integers(4), 't'); t = R.gen()"
   ]
  },
  {
   "cell_type": "code",
   "execution_count": 57,
   "metadata": {},
   "outputs": [
    {
     "data": {
      "text/plain": [
       "t^5 + t^2 + 1"
      ]
     },
     "execution_count": 57,
     "metadata": {},
     "output_type": "execute_result"
    }
   ],
   "source": [
    "factor(t**5 + t**2 + 1)"
   ]
  },
  {
   "cell_type": "code",
   "execution_count": 58,
   "metadata": {},
   "outputs": [
    {
     "data": {
      "text/plain": [
       "Univariate Quotient Polynomial Ring in alpha over Ring of integers modulo 4 with modulus t^5 + t^2 + 1"
      ]
     },
     "execution_count": 58,
     "metadata": {},
     "output_type": "execute_result"
    }
   ],
   "source": [
    "GR = R.quotient(t**5 + t**2 + 1, 'alpha'); alpha = GR.gen()\n",
    "GR"
   ]
  },
  {
   "cell_type": "code",
   "execution_count": 59,
   "metadata": {},
   "outputs": [
    {
     "data": {
      "text/plain": [
       "0"
      ]
     },
     "execution_count": 59,
     "metadata": {},
     "output_type": "execute_result"
    }
   ],
   "source": [
    "alpha**5 + alpha**2 + 1"
   ]
  },
  {
   "attachments": {},
   "cell_type": "markdown",
   "metadata": {},
   "source": [
    "Ring generator $\\alpha$ is not the multiplicative generator of the Teichmüller set as can be seen below:"
   ]
  },
  {
   "cell_type": "code",
   "execution_count": 60,
   "metadata": {},
   "outputs": [
    {
     "data": {
      "text/plain": [
       "2*alpha^3 + 2*alpha + 1"
      ]
     },
     "execution_count": 60,
     "metadata": {},
     "output_type": "execute_result"
    }
   ],
   "source": [
    "alpha**(2**5-1)"
   ]
  },
  {
   "attachments": {},
   "cell_type": "markdown",
   "metadata": {},
   "source": [
    "Andrés found the $2^5-1$-th primitive root of unity though:"
   ]
  },
  {
   "cell_type": "code",
   "execution_count": 61,
   "metadata": {},
   "outputs": [
    {
     "data": {
      "text/plain": [
       "1"
      ]
     },
     "execution_count": 61,
     "metadata": {},
     "output_type": "execute_result"
    }
   ],
   "source": [
    "xi = alpha**2 + 2*alpha + 1\n",
    "xi**(2**5-1)"
   ]
  },
  {
   "cell_type": "code",
   "execution_count": 62,
   "metadata": {},
   "outputs": [
    {
     "data": {
      "text/plain": [
       "32"
      ]
     },
     "execution_count": 62,
     "metadata": {},
     "output_type": "execute_result"
    }
   ],
   "source": [
    "T = [GR(0)] + [xi**k for k in range(2**n - 2 + 1)]\n",
    "len(T)"
   ]
  },
  {
   "cell_type": "code",
   "execution_count": 63,
   "metadata": {},
   "outputs": [
    {
     "data": {
      "text/plain": [
       "1"
      ]
     },
     "execution_count": 63,
     "metadata": {},
     "output_type": "execute_result"
    }
   ],
   "source": [
    "T[-1]*xi"
   ]
  },
  {
   "cell_type": "code",
   "execution_count": 64,
   "metadata": {},
   "outputs": [
    {
     "data": {
      "text/plain": [
       "[0,\n",
       " 1,\n",
       " alpha^2 + 2*alpha + 1,\n",
       " alpha^4 + 2*alpha^2 + 1,\n",
       " 3*alpha^4 + 3*alpha^3 + alpha^2 + alpha + 3,\n",
       " 2*alpha^4 + 3*alpha^3 + alpha^2 + 2,\n",
       " alpha^4 + 3*alpha^3 + 2*alpha + 3,\n",
       " 3*alpha^4 + 2*alpha^2 + 3*alpha + 2,\n",
       " alpha^4,\n",
       " alpha^4 + 3*alpha^3 + 2*alpha^2 + 3*alpha + 2,\n",
       " alpha^4 + alpha^3 + alpha^2 + 2*alpha + 1,\n",
       " 3*alpha^2 + 3*alpha + 2,\n",
       " 3*alpha^4 + alpha^3 + 3*alpha^2 + 3*alpha + 2,\n",
       " 3*alpha^3 + 3,\n",
       " 2*alpha^4 + 3*alpha^3 + 2*alpha,\n",
       " 3*alpha^3 + alpha^2 + 1,\n",
       " 3*alpha^4 + alpha^3 + 3*alpha^2 + 2*alpha + 2,\n",
       " 2*alpha^3 + 2*alpha^2 + 3*alpha + 3,\n",
       " 2*alpha^4 + alpha^3 + alpha^2 + alpha + 1,\n",
       " alpha^4 + 2*alpha^3 + 3*alpha^2 + alpha,\n",
       " alpha^2,\n",
       " alpha^4 + 2*alpha^3 + alpha^2,\n",
       " 2*alpha^4 + 3*alpha^3 + alpha^2 + 3*alpha,\n",
       " alpha^4 + 2*alpha^3 + alpha + 1,\n",
       " alpha^4 + 2*alpha^3 + 3*alpha^2 + 2*alpha + 1,\n",
       " alpha^3 + 3*alpha + 1,\n",
       " 2*alpha^4 + 2*alpha^2 + alpha,\n",
       " 3*alpha^3 + 3*alpha,\n",
       " 2*alpha^4 + 2*alpha^3 + 3*alpha^2 + 3*alpha + 1,\n",
       " alpha^4 + alpha^3 + 3*alpha + 3,\n",
       " 3*alpha^4 + 3*alpha^3 + 2*alpha^2,\n",
       " 3*alpha^4 + alpha^2 + alpha + 3]"
      ]
     },
     "execution_count": 64,
     "metadata": {},
     "output_type": "execute_result"
    }
   ],
   "source": [
    "T # coincides with Andre's MAGMA code."
   ]
  },
  {
   "cell_type": "code",
   "execution_count": 65,
   "metadata": {},
   "outputs": [
    {
     "data": {
      "text/plain": [
       "alpha^2 + 2*alpha + 1"
      ]
     },
     "execution_count": 65,
     "metadata": {},
     "output_type": "execute_result"
    }
   ],
   "source": [
    "xi"
   ]
  },
  {
   "cell_type": "code",
   "execution_count": 66,
   "metadata": {},
   "outputs": [],
   "source": [
    "def ringTrace(a, b):\n",
    "    s = GR(0)\n",
    "    for k in range(n):\n",
    "        s += a**(2**k) + GR(2)*b**(2**k)\n",
    "    return s "
   ]
  },
  {
   "cell_type": "code",
   "execution_count": 67,
   "metadata": {},
   "outputs": [],
   "source": [
    "def brute2adic(x):\n",
    "    for a in T:\n",
    "        for b in T:\n",
    "            if x == a + GR(2)*b:\n",
    "                return (a,b)"
   ]
  },
  {
   "cell_type": "code",
   "execution_count": 68,
   "metadata": {},
   "outputs": [],
   "source": [
    "def dumb2adic(x):\n",
    "    for b in T:\n",
    "        a = x - GR(2)*b\n",
    "        if a in T:\n",
    "            return (a,b)"
   ]
  },
  {
   "attachments": {},
   "cell_type": "markdown",
   "metadata": {},
   "source": [
    "Kantor mubs."
   ]
  },
  {
   "cell_type": "code",
   "execution_count": 69,
   "metadata": {},
   "outputs": [],
   "source": [
    "def createMubs(k=None):\n",
    "    mubs = [identity_matrix(q)]\n",
    "    for m in T[:k]:\n",
    "        Bm = zero_matrix(SR, q, q)\n",
    "        for j, v in enumerate(T):\n",
    "            for i, w in enumerate(T):\n",
    "                wom = m**2*w + m*ringTrace(w, 0) + ringTrace(m*w, 0)\n",
    "                a, b = dumb2adic(w * wom + GR(2) * w * v)\n",
    "                pwr  = Integer(lift(ringTrace(a, b)))\n",
    "                Bm[i,j] = 1/sqrt(q) * I**pwr\n",
    "        mubs.append(Bm)\n",
    "    return mubs"
   ]
  },
  {
   "cell_type": "code",
   "execution_count": 23,
   "metadata": {},
   "outputs": [
    {
     "name": "stdout",
     "output_type": "stream",
     "text": [
      "Timer unit: 1e-09 s\n",
      "\n",
      "Total time: 6.39752 s\n",
      "File: /var/folders/33/k06yq9x95jqcnbk_bh41j4qc0000gn/T/ipykernel_26513/2185357466.py\n",
      "Function: createMubs at line 1\n",
      "\n",
      "Line #      Hits         Time  Per Hit   % Time  Line Contents\n",
      "==============================================================\n",
      "     1                                           def createMubs(k=None):\n",
      "     2         1    2182000.0 2182000.0      0.0      mubs = [identity_matrix(q)]\n",
      "     3         2       5000.0   2500.0      0.0      for m in T[:k]:\n",
      "     4         2   18502000.0 9251000.0      0.3          Bm = zero_matrix(SR, q, q)\n",
      "     5        64      74000.0   1156.2      0.0          for j, v in enumerate(T):\n",
      "     6      2048    3646000.0   1780.3      0.1              for i, w in enumerate(T):\n",
      "     7      2048 2301636000.0 1123845.7     36.0                  wom = m**2*w + m*ringTrace(w, 0) + ringTrace(m*w, 0)\n",
      "     8      2048 2338481000.0 1141836.4     36.6                  a, b = dumb2adic(w * wom + GR(2) * w * v)\n",
      "     9      2048 1191788000.0 581927.7     18.6                  pwr  = Integer(lift(ringTrace(a, b)))\n",
      "    10      2048  541203000.0 264259.3      8.5                  Bm[i,j] = 1/sqrt(q) * I**pwr\n",
      "    11         2       5000.0   2500.0      0.0          mubs.append(Bm)\n",
      "    12         1          0.0      0.0      0.0      return mubs"
     ]
    }
   ],
   "source": [
    "%lprun -f createMubs createMubs(k=2)"
   ]
  },
  {
   "cell_type": "code",
   "execution_count": 70,
   "metadata": {},
   "outputs": [],
   "source": [
    "mubs = createMubs()"
   ]
  },
  {
   "cell_type": "code",
   "execution_count": 76,
   "metadata": {},
   "outputs": [],
   "source": [
    "from mubs_utils import saveMubs\n",
    "import numpy as np"
   ]
  },
  {
   "cell_type": "code",
   "execution_count": 74,
   "metadata": {},
   "outputs": [
    {
     "name": "stdout",
     "output_type": "stream",
     "text": [
      "Saved to MUBS/2-5-kantor\n"
     ]
    }
   ],
   "source": [
    "saveMubs(mubs, 'MUBS/2-5-kantor')"
   ]
  },
  {
   "cell_type": "code",
   "execution_count": 77,
   "metadata": {},
   "outputs": [
    {
     "data": {
      "text/plain": [
       "(1056, 32)"
      ]
     },
     "execution_count": 77,
     "metadata": {},
     "output_type": "execute_result"
    }
   ],
   "source": [
    "M = np.load('MUBS/2-5-kantor.npy')\n",
    "M.shape"
   ]
  },
  {
   "cell_type": "code",
   "execution_count": 89,
   "metadata": {},
   "outputs": [
    {
     "data": {
      "text/plain": [
       "0.03125"
      ]
     },
     "execution_count": 89,
     "metadata": {},
     "output_type": "execute_result"
    }
   ],
   "source": [
    "1/32"
   ]
  },
  {
   "cell_type": "code",
   "execution_count": 104,
   "metadata": {},
   "outputs": [
    {
     "data": {
      "text/plain": [
       "0.03125"
      ]
     },
     "execution_count": 104,
     "metadata": {},
     "output_type": "execute_result"
    }
   ],
   "source": [
    "k = 8\n",
    "np.round(np.abs(M[64:96,29] @ M[32*k:32*(k+1),15])**2, 5)"
   ]
  },
  {
   "attachments": {},
   "cell_type": "markdown",
   "metadata": {},
   "source": [
    "Desarguesian spread."
   ]
  },
  {
   "cell_type": "code",
   "execution_count": 105,
   "metadata": {},
   "outputs": [],
   "source": [
    "def createMubs(k=None):\n",
    "    mubs = [identity_matrix(q)]\n",
    "    for m in T[:k]:\n",
    "        Bm = zero_matrix(SR, q, q)\n",
    "        for j, v in enumerate(T):\n",
    "            for i, w in enumerate(T):\n",
    "                a, b = dumb2adic(w**2 * m + 2 * w * v)\n",
    "                pwr  = Integer(lift(ringTrace(a, b)))\n",
    "                Bm[i,j] = 1/sqrt(q) * I**pwr\n",
    "        mubs.append(Bm)\n",
    "    return mubs"
   ]
  },
  {
   "cell_type": "code",
   "execution_count": 106,
   "metadata": {},
   "outputs": [],
   "source": [
    "mubs = createMubs()"
   ]
  },
  {
   "cell_type": "code",
   "execution_count": 109,
   "metadata": {},
   "outputs": [
    {
     "name": "stdout",
     "output_type": "stream",
     "text": [
      "Saved to MUBS/2-5-desarguesian\n"
     ]
    }
   ],
   "source": [
    "saveMubs(mubs, 'MUBS/2-5-desarguesian')"
   ]
  },
  {
   "cell_type": "code",
   "execution_count": 111,
   "metadata": {},
   "outputs": [
    {
     "data": {
      "text/plain": [
       "(1056, 32)"
      ]
     },
     "execution_count": 111,
     "metadata": {},
     "output_type": "execute_result"
    }
   ],
   "source": [
    "M = np.load('MUBS/2-5-desarguesian.npy')\n",
    "M.shape"
   ]
  },
  {
   "cell_type": "code",
   "execution_count": 114,
   "metadata": {},
   "outputs": [
    {
     "data": {
      "text/plain": [
       "0.03125"
      ]
     },
     "execution_count": 114,
     "metadata": {},
     "output_type": "execute_result"
    }
   ],
   "source": [
    "k = 12\n",
    "np.round(np.abs(M[64:96,29] @ M[32*k:32*(k+1),0])**2, 5)"
   ]
  },
  {
   "cell_type": "code",
   "execution_count": null,
   "metadata": {},
   "outputs": [],
   "source": []
  }
 ],
 "metadata": {
  "kernelspec": {
   "display_name": "wigner",
   "language": "python",
   "name": "python3"
  },
  "language_info": {
   "codemirror_mode": {
    "name": "ipython",
    "version": 3
   },
   "file_extension": ".py",
   "mimetype": "text/x-python",
   "name": "python",
   "nbconvert_exporter": "python",
   "pygments_lexer": "ipython3",
   "version": "3.9.16"
  },
  "orig_nbformat": 4
 },
 "nbformat": 4,
 "nbformat_minor": 2
}
