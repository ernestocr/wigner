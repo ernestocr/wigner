{
 "cells": [
  {
   "cell_type": "code",
   "execution_count": 1,
   "metadata": {},
   "outputs": [],
   "source": [
    "import numpy as np\n",
    "import sympy as sp\n",
    "import galois"
   ]
  },
  {
   "cell_type": "markdown",
   "metadata": {},
   "source": [
    "Now lets do it for composite systems. We now consider a $p$-dimensional Hilbert space (for $p$ odd), and the tensor product of $e$ such such spaces $H = \\mathcal{H} \\otimes \\cdots \\otimes \\mathcal{H}$."
   ]
  },
  {
   "cell_type": "code",
   "execution_count": 33,
   "metadata": {},
   "outputs": [
    {
     "data": {
      "text/plain": [
       "GF([0, 1, 2, 3, 4, 5, 6, 7, 8], order=3^2)"
      ]
     },
     "execution_count": 33,
     "metadata": {},
     "output_type": "execute_result"
    }
   ],
   "source": [
    "p = 3 # odd characteristic only\n",
    "e = 2\n",
    "d = p**e\n",
    "F = galois.GF(d, irreducible_poly='x^2+x+2')\n",
    "# F = galois.GF(d)\n",
    "F.elements"
   ]
  },
  {
   "cell_type": "code",
   "execution_count": 34,
   "metadata": {},
   "outputs": [
    {
     "data": {
      "text/plain": [
       "Poly(x^2 + x + 2, GF(3))"
      ]
     },
     "execution_count": 34,
     "metadata": {},
     "output_type": "execute_result"
    }
   ],
   "source": [
    "F.irreducible_poly"
   ]
  },
  {
   "cell_type": "code",
   "execution_count": 35,
   "metadata": {},
   "outputs": [
    {
     "name": "stdout",
     "output_type": "stream",
     "text": [
      " Power   Polynomial   Vector   Integer \n",
      "------- ------------ -------- ---------\n",
      "   0         0        [0, 0]      0     \n",
      "  x^0        1        [0, 1]      1     \n",
      "  x^1        x        [1, 0]      3     \n",
      "  x^2      2x + 1     [2, 1]      7     \n",
      "  x^3      2x + 2     [2, 2]      8     \n",
      "  x^4        2        [0, 2]      2     \n",
      "  x^5        2x       [2, 0]      6     \n",
      "  x^6      x + 2      [1, 2]      5     \n",
      "  x^7      x + 1      [1, 1]      4     \n"
     ]
    }
   ],
   "source": [
    "print(F.repr_table())"
   ]
  },
  {
   "cell_type": "markdown",
   "metadata": {},
   "source": [
    "Define the characters $\\chi(\\alpha)$."
   ]
  },
  {
   "cell_type": "code",
   "execution_count": 36,
   "metadata": {},
   "outputs": [],
   "source": [
    "def lift(a):\n",
    "    return np.int64(np.array(a))\n",
    "\n",
    "def omega(a):\n",
    "    return sp.exp(sp.I * 2 * sp.pi * lift(a) / p)\n",
    "\n",
    "def chi(a):\n",
    "    return omega(a.field_trace())"
   ]
  },
  {
   "cell_type": "code",
   "execution_count": 37,
   "metadata": {},
   "outputs": [
    {
     "data": {
      "text/plain": [
       "True"
      ]
     },
     "execution_count": 37,
     "metadata": {},
     "output_type": "execute_result"
    }
   ],
   "source": [
    "chi(F.elements[1] + F.elements[2]) == chi(F.elements[1]) * chi(F.elements[2]) # sanity check"
   ]
  },
  {
   "cell_type": "markdown",
   "metadata": {},
   "source": [
    "We are working with $\\mathcal{H} \\otimes \\mathcal{H}$."
   ]
  },
  {
   "cell_type": "code",
   "execution_count": 38,
   "metadata": {},
   "outputs": [
    {
     "name": "stdout",
     "output_type": "stream",
     "text": [
      "0 [0 0]\n",
      "1 [0 1]\n",
      "2 [0 2]\n",
      "3 [1 0]\n",
      "4 [1 1]\n",
      "5 [1 2]\n",
      "6 [2 0]\n",
      "7 [2 1]\n",
      "8 [2 2]\n"
     ]
    }
   ],
   "source": [
    "for a in F.elements:\n",
    "    print(a, a.vector())"
   ]
  },
  {
   "cell_type": "markdown",
   "metadata": {},
   "source": [
    "Field element $m$ with index 6 has vector representation $(0,2)$ (in Vourdas notation), therefore the position state is given by\n",
    "$$|X; m\\rangle = |X; 0\\rangle \\otimes |X; 2\\rangle.$$\n",
    "This element corresponds to `sp.eye(p)[:,0]` $\\otimes$ `sp.eye(p)[:,2]` as opposed to `sp.eye(d)[:,6]`."
   ]
  },
  {
   "cell_type": "code",
   "execution_count": 39,
   "metadata": {},
   "outputs": [
    {
     "data": {
      "text/latex": [
       "$\\displaystyle \\left[\\begin{matrix}0\\\\0\\\\1\\\\0\\\\0\\\\0\\\\0\\\\0\\\\0\\end{matrix}\\right]$"
      ],
      "text/plain": [
       "[[0], [0], [1], [0], [0], [0], [0], [0], [0]]"
      ]
     },
     "execution_count": 39,
     "metadata": {},
     "output_type": "execute_result"
    }
   ],
   "source": [
    "sp.tensorproduct(sp.eye(p)[:,0], sp.eye(p)[:,2]).reshape(d,1)"
   ]
  },
  {
   "cell_type": "code",
   "execution_count": 40,
   "metadata": {},
   "outputs": [],
   "source": [
    "def posx(m):\n",
    "    # v = np.flip(np.array(m.vector()))\n",
    "    v = np.array(m.vector()) # should be flipped according to Vourdas!\n",
    "    x = sp.eye(1)\n",
    "    for j in v:\n",
    "        x = sp.tensorproduct(x, sp.eye(p)[:, j])\n",
    "    return sp.Matrix(x.reshape(d, 1))"
   ]
  },
  {
   "cell_type": "code",
   "execution_count": 41,
   "metadata": {},
   "outputs": [
    {
     "name": "stdout",
     "output_type": "stream",
     "text": [
      "0 [0 0] Matrix([[1], [0], [0], [0], [0], [0], [0], [0], [0]])\n",
      "1 [0 1] Matrix([[0], [1], [0], [0], [0], [0], [0], [0], [0]])\n",
      "2 [0 2] Matrix([[0], [0], [1], [0], [0], [0], [0], [0], [0]])\n",
      "3 [1 0] Matrix([[0], [0], [0], [1], [0], [0], [0], [0], [0]])\n",
      "4 [1 1] Matrix([[0], [0], [0], [0], [1], [0], [0], [0], [0]])\n",
      "5 [1 2] Matrix([[0], [0], [0], [0], [0], [1], [0], [0], [0]])\n",
      "6 [2 0] Matrix([[0], [0], [0], [0], [0], [0], [1], [0], [0]])\n",
      "7 [2 1] Matrix([[0], [0], [0], [0], [0], [0], [0], [1], [0]])\n",
      "8 [2 2] Matrix([[0], [0], [0], [0], [0], [0], [0], [0], [1]])\n"
     ]
    }
   ],
   "source": [
    "for m in F.elements:\n",
    "    print(m, m.vector(), posx(m))"
   ]
  },
  {
   "cell_type": "code",
   "execution_count": 42,
   "metadata": {},
   "outputs": [],
   "source": [
    "def tensorproduct(a, b):\n",
    "    return sp.ImmutableMatrix((sp.tensorproduct(a, b)).reshape(d, d))"
   ]
  },
  {
   "cell_type": "code",
   "execution_count": 43,
   "metadata": {},
   "outputs": [],
   "source": [
    "FF = sp.zeros(d, d)\n",
    "for m in F.elements:\n",
    "    for n in F.elements:\n",
    "        FF += chi(m * n) * tensorproduct(posx(m), sp.adjoint(posx(n)))\n",
    "FF = FF / sp.sqrt(d)"
   ]
  },
  {
   "cell_type": "code",
   "execution_count": 44,
   "metadata": {},
   "outputs": [
    {
     "data": {
      "text/latex": [
       "$\\displaystyle \\left[\\begin{matrix}1 & 0 & 0 & 0 & 0 & 0 & 0 & 0 & 0\\\\0 & 1 & 0 & 0 & 0 & 0 & 0 & 0 & 0\\\\0 & 0 & 1 & 0 & 0 & 0 & 0 & 0 & 0\\\\0 & 0 & 0 & 1 & 0 & 0 & 0 & 0 & 0\\\\0 & 0 & 0 & 0 & 1 & 0 & 0 & 0 & 0\\\\0 & 0 & 0 & 0 & 0 & 1 & 0 & 0 & 0\\\\0 & 0 & 0 & 0 & 0 & 0 & 1 & 0 & 0\\\\0 & 0 & 0 & 0 & 0 & 0 & 0 & 1 & 0\\\\0 & 0 & 0 & 0 & 0 & 0 & 0 & 0 & 1\\end{matrix}\\right]$"
      ],
      "text/plain": [
       "Matrix([\n",
       "[1, 0, 0, 0, 0, 0, 0, 0, 0],\n",
       "[0, 1, 0, 0, 0, 0, 0, 0, 0],\n",
       "[0, 0, 1, 0, 0, 0, 0, 0, 0],\n",
       "[0, 0, 0, 1, 0, 0, 0, 0, 0],\n",
       "[0, 0, 0, 0, 1, 0, 0, 0, 0],\n",
       "[0, 0, 0, 0, 0, 1, 0, 0, 0],\n",
       "[0, 0, 0, 0, 0, 0, 1, 0, 0],\n",
       "[0, 0, 0, 0, 0, 0, 0, 1, 0],\n",
       "[0, 0, 0, 0, 0, 0, 0, 0, 1]])"
      ]
     },
     "execution_count": 44,
     "metadata": {},
     "output_type": "execute_result"
    }
   ],
   "source": [
    "(FF * sp.adjoint(FF)).applyfunc(sp.nsimplify) # sanity check"
   ]
  },
  {
   "attachments": {},
   "cell_type": "markdown",
   "metadata": {},
   "source": [
    "Now we define the displacement operators. This is done directly, without the prime displacement operators."
   ]
  },
  {
   "cell_type": "code",
   "execution_count": 45,
   "metadata": {},
   "outputs": [],
   "source": [
    "def Z(a):\n",
    "    z = sp.zeros(d, d)\n",
    "    for n in F.elements:\n",
    "        z += chi(a * n) * tensorproduct(posx(n), sp.adjoint(posx(n)))\n",
    "    return z\n",
    "\n",
    "def X(b):\n",
    "    x = sp.zeros(d, d)\n",
    "    for n in F.elements:\n",
    "        p = FF * posx(n)\n",
    "        x += chi(-(b * n)) * tensorproduct(p, sp.adjoint(p))\n",
    "    return x.applyfunc(sp.nsimplify)"
   ]
  },
  {
   "cell_type": "code",
   "execution_count": 46,
   "metadata": {},
   "outputs": [
    {
     "name": "stdout",
     "output_type": "stream",
     "text": [
      "Property holds!\n"
     ]
    }
   ],
   "source": [
    "# sanity check\n",
    "for a in F.elements:\n",
    "    # if not (Z(a) * Z(a) == Z(a + a)):\n",
    "    if not (X(a) * X(a) == X(a + a)):\n",
    "        raise Exception('Property does not hold!')\n",
    "print('Property holds!')"
   ]
  },
  {
   "cell_type": "code",
   "execution_count": 47,
   "metadata": {},
   "outputs": [
    {
     "data": {
      "text/latex": [
       "$\\displaystyle \\left[\\begin{matrix}0\\\\1\\\\0\\\\0\\\\0\\\\0\\\\0\\\\0\\\\0\\end{matrix}\\right]$"
      ],
      "text/plain": [
       "Matrix([\n",
       "[0],\n",
       "[1],\n",
       "[0],\n",
       "[0],\n",
       "[0],\n",
       "[0],\n",
       "[0],\n",
       "[0],\n",
       "[0]])"
      ]
     },
     "execution_count": 47,
     "metadata": {},
     "output_type": "execute_result"
    }
   ],
   "source": [
    "X(F.elements[1]) * posx(F.elements[0])"
   ]
  },
  {
   "cell_type": "code",
   "execution_count": 48,
   "metadata": {},
   "outputs": [],
   "source": [
    "def D(a, b):\n",
    "    return chi(-(F.elements[2]**-1) * a*b) * Z(a) * X(b)"
   ]
  },
  {
   "cell_type": "code",
   "execution_count": 59,
   "metadata": {},
   "outputs": [
    {
     "data": {
      "text/latex": [
       "$\\displaystyle \\left[\\begin{matrix}0 & 0 & 1 & 0 & 0 & 0 & 0 & 0 & 0\\\\1 & 0 & 0 & 0 & 0 & 0 & 0 & 0 & 0\\\\0 & 1 & 0 & 0 & 0 & 0 & 0 & 0 & 0\\\\0 & 0 & 0 & 0 & 0 & 1 & 0 & 0 & 0\\\\0 & 0 & 0 & 1 & 0 & 0 & 0 & 0 & 0\\\\0 & 0 & 0 & 0 & 1 & 0 & 0 & 0 & 0\\\\0 & 0 & 0 & 0 & 0 & 0 & 0 & 0 & 1\\\\0 & 0 & 0 & 0 & 0 & 0 & 1 & 0 & 0\\\\0 & 0 & 0 & 0 & 0 & 0 & 0 & 1 & 0\\end{matrix}\\right]$"
      ],
      "text/plain": [
       "Matrix([\n",
       "[0, 0, 1, 0, 0, 0, 0, 0, 0],\n",
       "[1, 0, 0, 0, 0, 0, 0, 0, 0],\n",
       "[0, 1, 0, 0, 0, 0, 0, 0, 0],\n",
       "[0, 0, 0, 0, 0, 1, 0, 0, 0],\n",
       "[0, 0, 0, 1, 0, 0, 0, 0, 0],\n",
       "[0, 0, 0, 0, 1, 0, 0, 0, 0],\n",
       "[0, 0, 0, 0, 0, 0, 0, 0, 1],\n",
       "[0, 0, 0, 0, 0, 0, 1, 0, 0],\n",
       "[0, 0, 0, 0, 0, 0, 0, 1, 0]])"
      ]
     },
     "execution_count": 59,
     "metadata": {},
     "output_type": "execute_result"
    }
   ],
   "source": [
    "D(F.elements[0], F.elements[1])"
   ]
  },
  {
   "cell_type": "code",
   "execution_count": 50,
   "metadata": {},
   "outputs": [
    {
     "data": {
      "text/plain": [
       "True"
      ]
     },
     "execution_count": 50,
     "metadata": {},
     "output_type": "execute_result"
    }
   ],
   "source": [
    "b = F.elements[4]\n",
    "P = sp.zeros(d, d)\n",
    "for a in F.elements:\n",
    "    P += D(a,b)\n",
    "P = P / d\n",
    "# 'marginal property' check\n",
    "P.applyfunc(sp.nsimplify) == tensorproduct(posx(F.elements[2]**-1 * b), sp.adjoint(posx(-F.elements[2]**-1 * b)))"
   ]
  },
  {
   "cell_type": "markdown",
   "metadata": {},
   "source": [
    "Now we define the displaced parity operators. At the origin we have $P(0,0) = F^2$, for arbitrary points we have\n",
    "$$P(\\alpha,\\beta) = D(\\alpha,\\beta) P(0,0) D(\\alpha,\\beta)^* = D(2\\alpha,2\\beta)P(0,0).$$"
   ]
  },
  {
   "cell_type": "code",
   "execution_count": 51,
   "metadata": {},
   "outputs": [],
   "source": [
    "def P(a, b):\n",
    "    return (D(2*a, 2*b) * FF**2).applyfunc(sp.nsimplify)"
   ]
  },
  {
   "cell_type": "code",
   "execution_count": 52,
   "metadata": {},
   "outputs": [
    {
     "data": {
      "text/latex": [
       "$\\displaystyle \\left[\\begin{matrix}1 & 0 & 0 & 0 & 0 & 0 & 0 & 0 & 0\\\\0 & 1 & 0 & 0 & 0 & 0 & 0 & 0 & 0\\\\0 & 0 & 1 & 0 & 0 & 0 & 0 & 0 & 0\\\\0 & 0 & 0 & 1 & 0 & 0 & 0 & 0 & 0\\\\0 & 0 & 0 & 0 & 1 & 0 & 0 & 0 & 0\\\\0 & 0 & 0 & 0 & 0 & 1 & 0 & 0 & 0\\\\0 & 0 & 0 & 0 & 0 & 0 & 1 & 0 & 0\\\\0 & 0 & 0 & 0 & 0 & 0 & 0 & 1 & 0\\\\0 & 0 & 0 & 0 & 0 & 0 & 0 & 0 & 1\\end{matrix}\\right]$"
      ],
      "text/plain": [
       "Matrix([\n",
       "[1, 0, 0, 0, 0, 0, 0, 0, 0],\n",
       "[0, 1, 0, 0, 0, 0, 0, 0, 0],\n",
       "[0, 0, 1, 0, 0, 0, 0, 0, 0],\n",
       "[0, 0, 0, 1, 0, 0, 0, 0, 0],\n",
       "[0, 0, 0, 0, 1, 0, 0, 0, 0],\n",
       "[0, 0, 0, 0, 0, 1, 0, 0, 0],\n",
       "[0, 0, 0, 0, 0, 0, 1, 0, 0],\n",
       "[0, 0, 0, 0, 0, 0, 0, 1, 0],\n",
       "[0, 0, 0, 0, 0, 0, 0, 0, 1]])"
      ]
     },
     "execution_count": 52,
     "metadata": {},
     "output_type": "execute_result"
    }
   ],
   "source": [
    "P(F.elements[2], F.elements[1])**2 # sanity check"
   ]
  },
  {
   "cell_type": "code",
   "execution_count": 53,
   "metadata": {},
   "outputs": [
    {
     "data": {
      "text/plain": [
       "True"
      ]
     },
     "execution_count": 53,
     "metadata": {},
     "output_type": "execute_result"
    }
   ],
   "source": [
    "b = F.elements[6]\n",
    "proj = sp.zeros(d, d)\n",
    "for a in F.elements:\n",
    "    proj += P(a,b)\n",
    "proj = proj / d\n",
    "# 'marginal property' check\n",
    "proj.applyfunc(sp.nsimplify) == tensorproduct(posx(b), sp.adjoint(posx(b)))"
   ]
  },
  {
   "cell_type": "markdown",
   "metadata": {},
   "source": [
    "The displaced parity operators are enough to define the Wigner function for primer power dimension in the case $p > 2$. The Wigner function is defined for density operator $\\rho$ as\n",
    "$$W(\\alpha,\\beta) = \\text{Tr}[\\rho D(\\alpha,\\beta)].$$"
   ]
  },
  {
   "cell_type": "code",
   "execution_count": 54,
   "metadata": {},
   "outputs": [],
   "source": [
    "def W(rho):\n",
    "    w = sp.zeros(d, d)\n",
    "    for i, a in enumerate(F.elements):\n",
    "        for j, b in enumerate(F.elements):\n",
    "            w[i,j] = sp.trace(rho * P(a, b))\n",
    "    return w"
   ]
  },
  {
   "cell_type": "code",
   "execution_count": 55,
   "metadata": {},
   "outputs": [],
   "source": [
    "S = sp.Matrix(tensorproduct(posx(F.elements[2]), sp.adjoint(posx(F.elements[2]))))"
   ]
  },
  {
   "cell_type": "code",
   "execution_count": 56,
   "metadata": {},
   "outputs": [
    {
     "data": {
      "text/latex": [
       "$\\displaystyle \\left[\\begin{matrix}0 & 0 & 1 & 0 & 0 & 0 & 0 & 0 & 0\\\\0 & 0 & 1 & 0 & 0 & 0 & 0 & 0 & 0\\\\0 & 0 & 1 & 0 & 0 & 0 & 0 & 0 & 0\\\\0 & 0 & 1 & 0 & 0 & 0 & 0 & 0 & 0\\\\0 & 0 & 1 & 0 & 0 & 0 & 0 & 0 & 0\\\\0 & 0 & 1 & 0 & 0 & 0 & 0 & 0 & 0\\\\0 & 0 & 1 & 0 & 0 & 0 & 0 & 0 & 0\\\\0 & 0 & 1 & 0 & 0 & 0 & 0 & 0 & 0\\\\0 & 0 & 1 & 0 & 0 & 0 & 0 & 0 & 0\\end{matrix}\\right]$"
      ],
      "text/plain": [
       "Matrix([\n",
       "[0, 0, 1, 0, 0, 0, 0, 0, 0],\n",
       "[0, 0, 1, 0, 0, 0, 0, 0, 0],\n",
       "[0, 0, 1, 0, 0, 0, 0, 0, 0],\n",
       "[0, 0, 1, 0, 0, 0, 0, 0, 0],\n",
       "[0, 0, 1, 0, 0, 0, 0, 0, 0],\n",
       "[0, 0, 1, 0, 0, 0, 0, 0, 0],\n",
       "[0, 0, 1, 0, 0, 0, 0, 0, 0],\n",
       "[0, 0, 1, 0, 0, 0, 0, 0, 0],\n",
       "[0, 0, 1, 0, 0, 0, 0, 0, 0]])"
      ]
     },
     "execution_count": 56,
     "metadata": {},
     "output_type": "execute_result"
    }
   ],
   "source": [
    "W(S)"
   ]
  },
  {
   "cell_type": "code",
   "execution_count": 57,
   "metadata": {},
   "outputs": [
    {
     "data": {
      "text/latex": [
       "$\\displaystyle \\left[\\begin{matrix}0 & 0 & 0 & 0 & 0 & 0 & 0 & 0 & 0\\\\0 & 0 & 0 & 0 & 0 & 0 & 0 & 0 & 0\\\\1 & 1 & 1 & 1 & 1 & 1 & 1 & 1 & 1\\\\0 & 0 & 0 & 0 & 0 & 0 & 0 & 0 & 0\\\\0 & 0 & 0 & 0 & 0 & 0 & 0 & 0 & 0\\\\0 & 0 & 0 & 0 & 0 & 0 & 0 & 0 & 0\\\\0 & 0 & 0 & 0 & 0 & 0 & 0 & 0 & 0\\\\0 & 0 & 0 & 0 & 0 & 0 & 0 & 0 & 0\\\\0 & 0 & 0 & 0 & 0 & 0 & 0 & 0 & 0\\end{matrix}\\right]$"
      ],
      "text/plain": [
       "Matrix([\n",
       "[0, 0, 0, 0, 0, 0, 0, 0, 0],\n",
       "[0, 0, 0, 0, 0, 0, 0, 0, 0],\n",
       "[1, 1, 1, 1, 1, 1, 1, 1, 1],\n",
       "[0, 0, 0, 0, 0, 0, 0, 0, 0],\n",
       "[0, 0, 0, 0, 0, 0, 0, 0, 0],\n",
       "[0, 0, 0, 0, 0, 0, 0, 0, 0],\n",
       "[0, 0, 0, 0, 0, 0, 0, 0, 0],\n",
       "[0, 0, 0, 0, 0, 0, 0, 0, 0],\n",
       "[0, 0, 0, 0, 0, 0, 0, 0, 0]])"
      ]
     },
     "execution_count": 57,
     "metadata": {},
     "output_type": "execute_result"
    }
   ],
   "source": [
    "v = FF * posx(F.elements[2])\n",
    "S = sp.Matrix(tensorproduct(v, sp.adjoint(v)))\n",
    "W(S).applyfunc(sp.nsimplify)"
   ]
  },
  {
   "attachments": {},
   "cell_type": "markdown",
   "metadata": {},
   "source": [
    "Comparison using Vourdas' example ($d = 3$). It's the same!"
   ]
  },
  {
   "cell_type": "code",
   "execution_count": 31,
   "metadata": {},
   "outputs": [
    {
     "data": {
      "text/latex": [
       "$\\displaystyle \\left[\\begin{matrix}0.166666666666667 & 0.833333333333333 & 0.666666666666667\\\\-0.410683602522959 & -0.166666666666667 & 0.95534180126148\\\\0.744016935856292 & -0.166666666666667 & 0.377991532071854\\end{matrix}\\right]$"
      ],
      "text/plain": [
       "Matrix([\n",
       "[ 0.166666666666667,  0.833333333333333, 0.666666666666667],\n",
       "[-0.410683602522959, -0.166666666666667,  0.95534180126148],\n",
       "[ 0.744016935856292, -0.166666666666667, 0.377991532071854]])"
      ]
     },
     "execution_count": 31,
     "metadata": {},
     "output_type": "execute_result"
    }
   ],
   "source": [
    "# state = (sp.eye(d)[:,0] + sp.I*sp.eye(d)[:,1] + 2*sp.eye(d)[:,2])/sp.sqrt(6)\n",
    "# S = tensorproduct(state, sp.adjoint(state))\n",
    "# W(S).applyfunc(sp.nsimplify).applyfunc(sp.N)"
   ]
  },
  {
   "attachments": {},
   "cell_type": "markdown",
   "metadata": {},
   "source": [
    "Let's now use Vourdas' method to calculate the MUBs. We must calculate the symplectic transformations in the position basis."
   ]
  },
  {
   "cell_type": "markdown",
   "metadata": {},
   "source": []
  }
 ],
 "metadata": {
  "kernelspec": {
   "display_name": "wigner",
   "language": "python",
   "name": "python3"
  },
  "language_info": {
   "codemirror_mode": {
    "name": "ipython",
    "version": 3
   },
   "file_extension": ".py",
   "mimetype": "text/x-python",
   "name": "python",
   "nbconvert_exporter": "python",
   "pygments_lexer": "ipython3",
   "version": "3.10.10"
  },
  "orig_nbformat": 4
 },
 "nbformat": 4,
 "nbformat_minor": 2
}
