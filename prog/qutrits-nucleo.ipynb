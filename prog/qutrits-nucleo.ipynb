{
 "cells": [
  {
   "cell_type": "code",
   "execution_count": 31,
   "metadata": {},
   "outputs": [],
   "source": [
    "from sage.all import *"
   ]
  },
  {
   "cell_type": "code",
   "execution_count": 32,
   "metadata": {},
   "outputs": [
    {
     "data": {
      "text/plain": [
       "Finite Field in x of size 3^3"
      ]
     },
     "execution_count": 32,
     "metadata": {},
     "output_type": "execute_result"
    }
   ],
   "source": [
    "d = 3**3\n",
    "F = GF(d, 'x'); x = F.gen()\n",
    "F"
   ]
  },
  {
   "attachments": {},
   "cell_type": "markdown",
   "metadata": {},
   "source": [
    "Ordenamos el campo por potencias."
   ]
  },
  {
   "cell_type": "code",
   "execution_count": 33,
   "metadata": {},
   "outputs": [
    {
     "data": {
      "text/plain": [
       "27"
      ]
     },
     "execution_count": 33,
     "metadata": {},
     "output_type": "execute_result"
    }
   ],
   "source": [
    "FF = [F(0)] + [x**j for j in range(26)]\n",
    "len(FF)"
   ]
  },
  {
   "attachments": {},
   "cell_type": "markdown",
   "metadata": {},
   "source": [
    "Definimos las dos operaciones."
   ]
  },
  {
   "cell_type": "code",
   "execution_count": 34,
   "metadata": {},
   "outputs": [],
   "source": [
    "def desargues(w, m):\n",
    "    return m*w\n",
    "\n",
    "def albert(w, m):\n",
    "    return m*w**9 + m**3*w**3"
   ]
  },
  {
   "attachments": {},
   "cell_type": "markdown",
   "metadata": {},
   "source": [
    "Por definición tenemos que el operador puntual en el origen se puede expresar como\n",
    "$$\n",
    "A(0,0)\n",
    "= |e_0\\rangle \\langle e_0|\n",
    "+ \\sum_{m \\in \\mathbb F} |\\lambda_{m,0}\\rangle \\langle\\lambda_{m,0}|\n",
    "- I,\n",
    "$$\n",
    "donde\n",
    "$$\n",
    "|\\lambda_{m,0}\\rangle\n",
    "= \\frac{1}{\\sqrt{d}} \\sum_{w \\in \\mathbb F}\n",
    "\\omega^{\\text{tr}\\left(\\frac{1}{2} (w (w \\circ m))\\right)} |e_w\\rangle.\n",
    "$$\n",
    "Por lo tanto, si $\\circ$ es la operación estándar y $\\star$ la no estándar, entonces la igualdad\n",
    "$$\n",
    "\\sum_{m \\in \\mathbb F}\n",
    "\\left[\n",
    "    \\sum_{w,u \\in \\mathbb F}\n",
    "    \\omega^{\\text{tr}\\left(\\frac{1}{2} (w(w\\circ m) - u(u\\circ m))\\right)} |e_w\\rangle \\langle e_u|\n",
    "\\right]\n",
    "=\n",
    "\\sum_{m \\in \\mathbb F}\n",
    "\\left[\n",
    "    \\sum_{w,u \\in \\mathbb F}\n",
    "    \\omega^{\\text{tr}\\left(\\frac{1}{2} (w(w\\star m) - u(u\\star m))\\right)} |e_w\\rangle \\langle e_u|\n",
    "\\right],\n",
    "$$\n",
    "implica que los operadores puntuales serán los mismos. \"Probamos\" ésto utilizando el cálculo simbólico de SageMath, i.e., nunca requerimos a una evaluación númerica de las sumas."
   ]
  },
  {
   "cell_type": "code",
   "execution_count": 35,
   "metadata": {},
   "outputs": [],
   "source": [
    "E = identity_matrix(d)"
   ]
  },
  {
   "cell_type": "code",
   "execution_count": 36,
   "metadata": {},
   "outputs": [],
   "source": [
    "def proj(u, v):\n",
    "    return E * u.tensor_product(v.conjugate_transpose())"
   ]
  },
  {
   "cell_type": "code",
   "execution_count": 37,
   "metadata": {},
   "outputs": [
    {
     "data": {
      "text/plain": [
       "1/2*I*sqrt(3) - 1/2"
      ]
     },
     "execution_count": 37,
     "metadata": {},
     "output_type": "execute_result"
    }
   ],
   "source": [
    "omega = exp(2*pi*I / 3)\n",
    "omega"
   ]
  },
  {
   "attachments": {},
   "cell_type": "markdown",
   "metadata": {},
   "source": [
    "Podemos calcular los valores de la ecuación anterior de al menos dos maneras. Primero transcribiendo la ecuación exactamente, y la otra simplemente calculando el vector $|\\lambda_{m,0}\\rangle$ y luego proyectando."
   ]
  },
  {
   "cell_type": "code",
   "execution_count": 38,
   "metadata": {},
   "outputs": [],
   "source": [
    "m = FF[5] # por ejemplo\n",
    "\n",
    "op = zero_matrix(SR, d, d)\n",
    "for i, w in enumerate(FF):\n",
    "    for j, u in enumerate(FF):\n",
    "        pwr = (1/F(2)) * (w * desargues(w, m) - u * desargues(u, m))\n",
    "        op += omega**(pwr.trace()) * proj(E[:,i], E[:,j])\n",
    "op = op.apply_map(lambda t: t.full_simplify())"
   ]
  },
  {
   "cell_type": "code",
   "execution_count": 39,
   "metadata": {},
   "outputs": [],
   "source": [
    "v = zero_matrix(SR, d, 1)\n",
    "for i, w in enumerate(FF):\n",
    "    pwr = (1/F(2)) * (w * desargues(w, m))\n",
    "    v[i,0] = omega**(pwr.trace())\n",
    "op2 = proj(v, v).apply_map(lambda t: t.full_simplify())"
   ]
  },
  {
   "attachments": {},
   "cell_type": "markdown",
   "metadata": {},
   "source": [
    "Ambas nos dan lo mismo."
   ]
  },
  {
   "cell_type": "code",
   "execution_count": 40,
   "metadata": {},
   "outputs": [
    {
     "data": {
      "text/plain": [
       "True"
      ]
     },
     "execution_count": 40,
     "metadata": {},
     "output_type": "execute_result"
    }
   ],
   "source": [
    "op == op2"
   ]
  },
  {
   "attachments": {},
   "cell_type": "markdown",
   "metadata": {},
   "source": [
    "Ahora calculamos la suma completa a traves de todos los $m \\in \\mathbb F$. Para la operación estándar tenemos:"
   ]
  },
  {
   "cell_type": "code",
   "execution_count": 41,
   "metadata": {},
   "outputs": [],
   "source": [
    "op = zero_matrix(SR, d, d)\n",
    "for k, m in enumerate(FF):\n",
    "    v = zero_matrix(SR, d, 1)\n",
    "    for i, w in enumerate(FF):\n",
    "        pwr = (1/F(2)) * (w * desargues(w, m))\n",
    "        v[i,0] = omega**(pwr.trace())\n",
    "    op += proj(v, v)\n",
    "op = op.apply_map(lambda t: t.full_simplify() / d)"
   ]
  },
  {
   "cell_type": "code",
   "execution_count": 42,
   "metadata": {},
   "outputs": [
    {
     "name": "stdout",
     "output_type": "stream",
     "text": [
      "[1 0 0 0 0 0 0 0 0 0 0 0 0 0 0 0 0 0 0 0 0 0 0 0 0 0 0]\n",
      "[0 1 0 0 0 0 0 0 0 0 0 0 0 0 1 0 0 0 0 0 0 0 0 0 0 0 0]\n",
      "[0 0 1 0 0 0 0 0 0 0 0 0 0 0 0 1 0 0 0 0 0 0 0 0 0 0 0]\n",
      "[0 0 0 1 0 0 0 0 0 0 0 0 0 0 0 0 1 0 0 0 0 0 0 0 0 0 0]\n",
      "[0 0 0 0 1 0 0 0 0 0 0 0 0 0 0 0 0 1 0 0 0 0 0 0 0 0 0]\n",
      "[0 0 0 0 0 1 0 0 0 0 0 0 0 0 0 0 0 0 1 0 0 0 0 0 0 0 0]\n",
      "[0 0 0 0 0 0 1 0 0 0 0 0 0 0 0 0 0 0 0 1 0 0 0 0 0 0 0]\n",
      "[0 0 0 0 0 0 0 1 0 0 0 0 0 0 0 0 0 0 0 0 1 0 0 0 0 0 0]\n",
      "[0 0 0 0 0 0 0 0 1 0 0 0 0 0 0 0 0 0 0 0 0 1 0 0 0 0 0]\n",
      "[0 0 0 0 0 0 0 0 0 1 0 0 0 0 0 0 0 0 0 0 0 0 1 0 0 0 0]\n",
      "[0 0 0 0 0 0 0 0 0 0 1 0 0 0 0 0 0 0 0 0 0 0 0 1 0 0 0]\n",
      "[0 0 0 0 0 0 0 0 0 0 0 1 0 0 0 0 0 0 0 0 0 0 0 0 1 0 0]\n",
      "[0 0 0 0 0 0 0 0 0 0 0 0 1 0 0 0 0 0 0 0 0 0 0 0 0 1 0]\n",
      "[0 0 0 0 0 0 0 0 0 0 0 0 0 1 0 0 0 0 0 0 0 0 0 0 0 0 1]\n",
      "[0 1 0 0 0 0 0 0 0 0 0 0 0 0 1 0 0 0 0 0 0 0 0 0 0 0 0]\n",
      "[0 0 1 0 0 0 0 0 0 0 0 0 0 0 0 1 0 0 0 0 0 0 0 0 0 0 0]\n",
      "[0 0 0 1 0 0 0 0 0 0 0 0 0 0 0 0 1 0 0 0 0 0 0 0 0 0 0]\n",
      "[0 0 0 0 1 0 0 0 0 0 0 0 0 0 0 0 0 1 0 0 0 0 0 0 0 0 0]\n",
      "[0 0 0 0 0 1 0 0 0 0 0 0 0 0 0 0 0 0 1 0 0 0 0 0 0 0 0]\n",
      "[0 0 0 0 0 0 1 0 0 0 0 0 0 0 0 0 0 0 0 1 0 0 0 0 0 0 0]\n",
      "[0 0 0 0 0 0 0 1 0 0 0 0 0 0 0 0 0 0 0 0 1 0 0 0 0 0 0]\n",
      "[0 0 0 0 0 0 0 0 1 0 0 0 0 0 0 0 0 0 0 0 0 1 0 0 0 0 0]\n",
      "[0 0 0 0 0 0 0 0 0 1 0 0 0 0 0 0 0 0 0 0 0 0 1 0 0 0 0]\n",
      "[0 0 0 0 0 0 0 0 0 0 1 0 0 0 0 0 0 0 0 0 0 0 0 1 0 0 0]\n",
      "[0 0 0 0 0 0 0 0 0 0 0 1 0 0 0 0 0 0 0 0 0 0 0 0 1 0 0]\n",
      "[0 0 0 0 0 0 0 0 0 0 0 0 1 0 0 0 0 0 0 0 0 0 0 0 0 1 0]\n",
      "[0 0 0 0 0 0 0 0 0 0 0 0 0 1 0 0 0 0 0 0 0 0 0 0 0 0 1]\n"
     ]
    }
   ],
   "source": [
    "print(op)"
   ]
  },
  {
   "cell_type": "code",
   "execution_count": 43,
   "metadata": {},
   "outputs": [
    {
     "name": "stdout",
     "output_type": "stream",
     "text": [
      "[1 0 0 0 0 0 0 0 0 0 0 0 0 0 0 0 0 0 0 0 0 0 0 0 0 0 0]\n",
      "[0 0 0 0 0 0 0 0 0 0 0 0 0 0 1 0 0 0 0 0 0 0 0 0 0 0 0]\n",
      "[0 0 0 0 0 0 0 0 0 0 0 0 0 0 0 1 0 0 0 0 0 0 0 0 0 0 0]\n",
      "[0 0 0 0 0 0 0 0 0 0 0 0 0 0 0 0 1 0 0 0 0 0 0 0 0 0 0]\n",
      "[0 0 0 0 0 0 0 0 0 0 0 0 0 0 0 0 0 1 0 0 0 0 0 0 0 0 0]\n",
      "[0 0 0 0 0 0 0 0 0 0 0 0 0 0 0 0 0 0 1 0 0 0 0 0 0 0 0]\n",
      "[0 0 0 0 0 0 0 0 0 0 0 0 0 0 0 0 0 0 0 1 0 0 0 0 0 0 0]\n",
      "[0 0 0 0 0 0 0 0 0 0 0 0 0 0 0 0 0 0 0 0 1 0 0 0 0 0 0]\n",
      "[0 0 0 0 0 0 0 0 0 0 0 0 0 0 0 0 0 0 0 0 0 1 0 0 0 0 0]\n",
      "[0 0 0 0 0 0 0 0 0 0 0 0 0 0 0 0 0 0 0 0 0 0 1 0 0 0 0]\n",
      "[0 0 0 0 0 0 0 0 0 0 0 0 0 0 0 0 0 0 0 0 0 0 0 1 0 0 0]\n",
      "[0 0 0 0 0 0 0 0 0 0 0 0 0 0 0 0 0 0 0 0 0 0 0 0 1 0 0]\n",
      "[0 0 0 0 0 0 0 0 0 0 0 0 0 0 0 0 0 0 0 0 0 0 0 0 0 1 0]\n",
      "[0 0 0 0 0 0 0 0 0 0 0 0 0 0 0 0 0 0 0 0 0 0 0 0 0 0 1]\n",
      "[0 1 0 0 0 0 0 0 0 0 0 0 0 0 0 0 0 0 0 0 0 0 0 0 0 0 0]\n",
      "[0 0 1 0 0 0 0 0 0 0 0 0 0 0 0 0 0 0 0 0 0 0 0 0 0 0 0]\n",
      "[0 0 0 1 0 0 0 0 0 0 0 0 0 0 0 0 0 0 0 0 0 0 0 0 0 0 0]\n",
      "[0 0 0 0 1 0 0 0 0 0 0 0 0 0 0 0 0 0 0 0 0 0 0 0 0 0 0]\n",
      "[0 0 0 0 0 1 0 0 0 0 0 0 0 0 0 0 0 0 0 0 0 0 0 0 0 0 0]\n",
      "[0 0 0 0 0 0 1 0 0 0 0 0 0 0 0 0 0 0 0 0 0 0 0 0 0 0 0]\n",
      "[0 0 0 0 0 0 0 1 0 0 0 0 0 0 0 0 0 0 0 0 0 0 0 0 0 0 0]\n",
      "[0 0 0 0 0 0 0 0 1 0 0 0 0 0 0 0 0 0 0 0 0 0 0 0 0 0 0]\n",
      "[0 0 0 0 0 0 0 0 0 1 0 0 0 0 0 0 0 0 0 0 0 0 0 0 0 0 0]\n",
      "[0 0 0 0 0 0 0 0 0 0 1 0 0 0 0 0 0 0 0 0 0 0 0 0 0 0 0]\n",
      "[0 0 0 0 0 0 0 0 0 0 0 1 0 0 0 0 0 0 0 0 0 0 0 0 0 0 0]\n",
      "[0 0 0 0 0 0 0 0 0 0 0 0 1 0 0 0 0 0 0 0 0 0 0 0 0 0 0]\n",
      "[0 0 0 0 0 0 0 0 0 0 0 0 0 1 0 0 0 0 0 0 0 0 0 0 0 0 0]\n"
     ]
    }
   ],
   "source": [
    "# El operador puntual completo\n",
    "A = proj(E[:,0], E[:,0]) + op - E\n",
    "print(A)"
   ]
  },
  {
   "attachments": {},
   "cell_type": "markdown",
   "metadata": {},
   "source": [
    "Ahora para la operación no estándar."
   ]
  },
  {
   "cell_type": "code",
   "execution_count": 44,
   "metadata": {},
   "outputs": [],
   "source": [
    "op = zero_matrix(SR, d, d)\n",
    "for k, m in enumerate(FF):\n",
    "    v = zero_matrix(SR, d, 1)\n",
    "    for i, w in enumerate(FF):\n",
    "        pwr = (1/F(2)) * (w * albert(w, m))\n",
    "        v[i,0] = omega**(pwr.trace())\n",
    "    op += proj(v, v)\n",
    "op = op.apply_map(lambda t: t.full_simplify() / d)"
   ]
  },
  {
   "cell_type": "code",
   "execution_count": 45,
   "metadata": {},
   "outputs": [
    {
     "name": "stdout",
     "output_type": "stream",
     "text": [
      "[1 0 0 0 0 0 0 0 0 0 0 0 0 0 0 0 0 0 0 0 0 0 0 0 0 0 0]\n",
      "[0 1 0 0 0 0 0 0 0 0 0 0 0 0 1 0 0 0 0 0 0 0 0 0 0 0 0]\n",
      "[0 0 1 0 0 0 0 0 0 0 0 0 0 0 0 1 0 0 0 0 0 0 0 0 0 0 0]\n",
      "[0 0 0 1 0 0 0 0 0 0 0 0 0 0 0 0 1 0 0 0 0 0 0 0 0 0 0]\n",
      "[0 0 0 0 1 0 0 0 0 0 0 0 0 0 0 0 0 1 0 0 0 0 0 0 0 0 0]\n",
      "[0 0 0 0 0 1 0 0 0 0 0 0 0 0 0 0 0 0 1 0 0 0 0 0 0 0 0]\n",
      "[0 0 0 0 0 0 1 0 0 0 0 0 0 0 0 0 0 0 0 1 0 0 0 0 0 0 0]\n",
      "[0 0 0 0 0 0 0 1 0 0 0 0 0 0 0 0 0 0 0 0 1 0 0 0 0 0 0]\n",
      "[0 0 0 0 0 0 0 0 1 0 0 0 0 0 0 0 0 0 0 0 0 1 0 0 0 0 0]\n",
      "[0 0 0 0 0 0 0 0 0 1 0 0 0 0 0 0 0 0 0 0 0 0 1 0 0 0 0]\n",
      "[0 0 0 0 0 0 0 0 0 0 1 0 0 0 0 0 0 0 0 0 0 0 0 1 0 0 0]\n",
      "[0 0 0 0 0 0 0 0 0 0 0 1 0 0 0 0 0 0 0 0 0 0 0 0 1 0 0]\n",
      "[0 0 0 0 0 0 0 0 0 0 0 0 1 0 0 0 0 0 0 0 0 0 0 0 0 1 0]\n",
      "[0 0 0 0 0 0 0 0 0 0 0 0 0 1 0 0 0 0 0 0 0 0 0 0 0 0 1]\n",
      "[0 1 0 0 0 0 0 0 0 0 0 0 0 0 1 0 0 0 0 0 0 0 0 0 0 0 0]\n",
      "[0 0 1 0 0 0 0 0 0 0 0 0 0 0 0 1 0 0 0 0 0 0 0 0 0 0 0]\n",
      "[0 0 0 1 0 0 0 0 0 0 0 0 0 0 0 0 1 0 0 0 0 0 0 0 0 0 0]\n",
      "[0 0 0 0 1 0 0 0 0 0 0 0 0 0 0 0 0 1 0 0 0 0 0 0 0 0 0]\n",
      "[0 0 0 0 0 1 0 0 0 0 0 0 0 0 0 0 0 0 1 0 0 0 0 0 0 0 0]\n",
      "[0 0 0 0 0 0 1 0 0 0 0 0 0 0 0 0 0 0 0 1 0 0 0 0 0 0 0]\n",
      "[0 0 0 0 0 0 0 1 0 0 0 0 0 0 0 0 0 0 0 0 1 0 0 0 0 0 0]\n",
      "[0 0 0 0 0 0 0 0 1 0 0 0 0 0 0 0 0 0 0 0 0 1 0 0 0 0 0]\n",
      "[0 0 0 0 0 0 0 0 0 1 0 0 0 0 0 0 0 0 0 0 0 0 1 0 0 0 0]\n",
      "[0 0 0 0 0 0 0 0 0 0 1 0 0 0 0 0 0 0 0 0 0 0 0 1 0 0 0]\n",
      "[0 0 0 0 0 0 0 0 0 0 0 1 0 0 0 0 0 0 0 0 0 0 0 0 1 0 0]\n",
      "[0 0 0 0 0 0 0 0 0 0 0 0 1 0 0 0 0 0 0 0 0 0 0 0 0 1 0]\n",
      "[0 0 0 0 0 0 0 0 0 0 0 0 0 1 0 0 0 0 0 0 0 0 0 0 0 0 1]\n"
     ]
    }
   ],
   "source": [
    "print(op)"
   ]
  },
  {
   "attachments": {},
   "cell_type": "markdown",
   "metadata": {},
   "source": [
    "Son los mismos. Tiene sentido intentar demostrar que efectivamente lo son utlizando algunas de las propiedades de las sumas de Gauss, y también verificar éste proceso para otros puntos. Lo que sigue es el resumen que la había mandado el otro día, no hay nada nuevo."
   ]
  },
  {
   "attachments": {},
   "cell_type": "markdown",
   "metadata": {},
   "source": [
    "### Resultados\n",
    "\n",
    "1. Ningún vector de las MUBs estándar (salvo vectores de las primeras dos bases que se repiten) se encuentra en alguna base de las MUBs de Kantor. Ésto es el caso para las MUBs estándar con la fórmula de Klappenecker (sin el $1/2$) y con la fórmula de Kanat (con el $1/2$). Entonces, en teoría, las funciones de Wigner de un eigenestado de las MUBs estándar *no* corresponde a una linea de la cobertura no estándar, a pesar de que parecen permutaciones.\n",
    "\n",
    "2. En el caso de las MUBs estándar con la construcción de Kanat, los operadores puntuales son iguales a los de la construcción no estándar, por lo tanto sus funciones de Wigner también lo son. En el caso de la construcción estándar con la fórmula de Klappenecker, los operadores puntuales no son los mismos (salvo el del origen). Para investigar la posibilidad de que los operadores puntuales estuvieran relacionados por una transformación unitaria, calculé (numéricamente) la transformación $$U = A_{\\mathcal W} \\left(A_{\\mathcal K}\\right)^{-1},$$ donde los subíndices representan el operador puntual estándar y no estándar respectivamente. Resultó que $U$ **no** es unitaria en ninguno de los ejemplos que revisé.\n",
    "\n",
    "3. Ahora, quise estudiar un poco más a fondo lo que ocurría en el caso de las MUBs con la construcción de Kanat, en donde los operadores puntuales me salen iguales para la estándar y la no estándar, para asegurarme que no es cuestión de mi programación de la función de Wigner o el cálculo/guardado de las MUBs. La fórmula para los operadores puntuales en el origen se puede expresar como\n",
    "    $$\n",
    "    A(0,0)\n",
    "    = \\sum_{\\lambda \\ni (0,0)} Q(\\lambda) - I\n",
    "    = |e_0\\rangle \\langle e_0| + \\sum_{m \\in \\mathbb F} |\\lambda_{m,0}\\rangle \\langle\\lambda_{m,0}| - I\n",
    "    $$\n",
    "    donde $|e_0\\rangle$ es el primer vector de la base estándar, $|\\lambda_{m,0}\\rangle$ es el eigenestado asignado al rayo con pendiente $m \\in \\mathbb F$ y $I$ es la identidad. Por definición tenemos que\n",
    "    $$\n",
    "    |\\lambda_{m,0}\\rangle\n",
    "    = \\frac{1}{d} \\sum_{w \\in \\mathbb F}\n",
    "    \\omega^{\\text{tr}\\left(\\frac{1}{2} (w (w \\circ m))\\right)} |e_w\\rangle.\n",
    "    $$\n",
    "    Si $\\circ$ es la operación estándar $w \\circ m = wm$, y $\\star$ es la operación no estándar $w \\star m = m w^9 + m^3 w^3$, entonces si\n",
    "    $$\n",
    "    \\sum_{m \\in \\mathbb F} |\\lambda_{m,0}\\rangle \\langle\\lambda_{m,0}|\n",
    "    =\n",
    "    \\sum_{m \\in \\mathbb F}\n",
    "    \\left[\n",
    "        \\sum_{w,u \\in \\mathbb F}\n",
    "        \\omega^{\\text{tr}\\left(\\frac{1}{2} (w(w\\circ m) - u(u\\circ m))\\right)} |e_w\\rangle \\langle e_u|\n",
    "    \\right]\n",
    "    =\n",
    "    \\sum_{m \\in \\mathbb F}\n",
    "    \\left[\n",
    "        \\sum_{w,u \\in \\mathbb F}\n",
    "        \\omega^{\\text{tr}\\left(\\frac{1}{2} (w(w\\star m) - u(u\\star m))\\right)} |e_w\\rangle \\langle e_u|\n",
    "    \\right],\n",
    "    $$\n",
    "    se sigue que los operadores puntuales $A_{\\mathcal W}$ y $A_{\\mathcal K}$ serán iguales. No lo he podido demostrar aún, pero hice el cálculo simbólico en SageMath y efectivamente obtengo la misma matriz. Por lo tanto a pesar de que las MUBs no son iguales, el operador puntual del origen es el mismo y debe ser posible demostrarlo."
   ]
  },
  {
   "attachments": {},
   "cell_type": "markdown",
   "metadata": {},
   "source": []
  }
 ],
 "metadata": {
  "kernelspec": {
   "display_name": "wigner",
   "language": "python",
   "name": "python3"
  },
  "language_info": {
   "codemirror_mode": {
    "name": "ipython",
    "version": 3
   },
   "file_extension": ".py",
   "mimetype": "text/x-python",
   "name": "python",
   "nbconvert_exporter": "python",
   "pygments_lexer": "ipython3",
   "version": "3.9.16"
  },
  "orig_nbformat": 4
 },
 "nbformat": 4,
 "nbformat_minor": 2
}
