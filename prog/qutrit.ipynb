{
 "cells": [
  {
   "cell_type": "code",
   "execution_count": 1,
   "metadata": {},
   "outputs": [],
   "source": [
    "from sage.all import *\n",
    "import numpy as np\n",
    "import Wigner as wg\n",
    "\n",
    "import matplotlib.pyplot as plt"
   ]
  },
  {
   "cell_type": "code",
   "execution_count": 2,
   "metadata": {},
   "outputs": [],
   "source": [
    "mubs = np.load('MUBS/3-3-desarguesian.npy')\n",
    "mubs_kantor = np.load('MUBS/3-3-albert.npy')"
   ]
  },
  {
   "cell_type": "code",
   "execution_count": 4,
   "metadata": {},
   "outputs": [
    {
     "data": {
      "text/plain": [
       "Finite Field in a of size 3^3"
      ]
     },
     "execution_count": 4,
     "metadata": {},
     "output_type": "execute_result"
    }
   ],
   "source": [
    "F = GF(3**3, 'a'); a = F.gen()\n",
    "F"
   ]
  },
  {
   "cell_type": "code",
   "execution_count": 5,
   "metadata": {},
   "outputs": [
    {
     "data": {
      "text/plain": [
       "[0,\n",
       " 1,\n",
       " a,\n",
       " a^2,\n",
       " a + 2,\n",
       " a^2 + 2*a,\n",
       " 2*a^2 + a + 2,\n",
       " a^2 + a + 1,\n",
       " a^2 + 2*a + 2,\n",
       " 2*a^2 + 2,\n",
       " a + 1,\n",
       " a^2 + a,\n",
       " a^2 + a + 2,\n",
       " a^2 + 2,\n",
       " 2,\n",
       " 2*a,\n",
       " 2*a^2,\n",
       " 2*a + 1,\n",
       " 2*a^2 + a,\n",
       " a^2 + 2*a + 1,\n",
       " 2*a^2 + 2*a + 2,\n",
       " 2*a^2 + a + 1,\n",
       " a^2 + 1,\n",
       " 2*a + 2,\n",
       " 2*a^2 + 2*a,\n",
       " 2*a^2 + 2*a + 1,\n",
       " 2*a^2 + 1]"
      ]
     },
     "execution_count": 5,
     "metadata": {},
     "output_type": "execute_result"
    }
   ],
   "source": [
    "F = [F(0)] + [a**j for j in range(26)]\n",
    "F"
   ]
  },
  {
   "cell_type": "code",
   "execution_count": 27,
   "metadata": {},
   "outputs": [],
   "source": [
    "wootters = wg.Wigner(F, mubs)\n",
    "kantor   = wg.Wigner(F, mubs_kantor, op='albert')"
   ]
  },
  {
   "cell_type": "code",
   "execution_count": 28,
   "metadata": {},
   "outputs": [],
   "source": [
    "raysW = wootters.Spread()\n",
    "raysK = kantor.Spread()"
   ]
  },
  {
   "cell_type": "code",
   "execution_count": 29,
   "metadata": {},
   "outputs": [],
   "source": [
    "def SymplecticForm(alpha, beta):\n",
    "    a, b = alpha\n",
    "    c, d = beta\n",
    "    return (a*d - b*c).trace()"
   ]
  },
  {
   "cell_type": "code",
   "execution_count": 30,
   "metadata": {},
   "outputs": [],
   "source": [
    "def checkSpread(lines):\n",
    "    for k in range(len(lines)):\n",
    "        for alpha in lines[k]:\n",
    "            for beta in lines[k]:\n",
    "                s = SymplecticForm(alpha, beta)\n",
    "                if s != 0:\n",
    "                    print('Not totally isotropic!')\n",
    "                    print(alpha, beta)\n",
    "                    print(s)\n",
    "                    break\n",
    "        print('Ray {} is totally isotropic!'.format(k))"
   ]
  },
  {
   "cell_type": "code",
   "execution_count": 31,
   "metadata": {},
   "outputs": [
    {
     "name": "stdout",
     "output_type": "stream",
     "text": [
      "Ray 0 is totally isotropic!\n",
      "Ray 1 is totally isotropic!\n",
      "Ray 2 is totally isotropic!\n",
      "Ray 3 is totally isotropic!\n",
      "Ray 4 is totally isotropic!\n",
      "Ray 5 is totally isotropic!\n",
      "Ray 6 is totally isotropic!\n",
      "Ray 7 is totally isotropic!\n",
      "Ray 8 is totally isotropic!\n",
      "Ray 9 is totally isotropic!\n",
      "Ray 10 is totally isotropic!\n",
      "Ray 11 is totally isotropic!\n",
      "Ray 12 is totally isotropic!\n",
      "Ray 13 is totally isotropic!\n",
      "Ray 14 is totally isotropic!\n",
      "Ray 15 is totally isotropic!\n",
      "Ray 16 is totally isotropic!\n",
      "Ray 17 is totally isotropic!\n",
      "Ray 18 is totally isotropic!\n",
      "Ray 19 is totally isotropic!\n",
      "Ray 20 is totally isotropic!\n",
      "Ray 21 is totally isotropic!\n",
      "Ray 22 is totally isotropic!\n",
      "Ray 23 is totally isotropic!\n",
      "Ray 24 is totally isotropic!\n",
      "Ray 25 is totally isotropic!\n",
      "Ray 26 is totally isotropic!\n",
      "Ray 27 is totally isotropic!\n"
     ]
    }
   ],
   "source": [
    "checkSpread(raysW)"
   ]
  },
  {
   "cell_type": "code",
   "execution_count": 32,
   "metadata": {},
   "outputs": [
    {
     "name": "stdout",
     "output_type": "stream",
     "text": [
      "Ray 0 is totally isotropic!\n",
      "Ray 1 is totally isotropic!\n",
      "Ray 2 is totally isotropic!\n",
      "Ray 3 is totally isotropic!\n",
      "Ray 4 is totally isotropic!\n",
      "Ray 5 is totally isotropic!\n",
      "Ray 6 is totally isotropic!\n",
      "Ray 7 is totally isotropic!\n",
      "Ray 8 is totally isotropic!\n",
      "Ray 9 is totally isotropic!\n",
      "Ray 10 is totally isotropic!\n",
      "Ray 11 is totally isotropic!\n",
      "Ray 12 is totally isotropic!\n",
      "Ray 13 is totally isotropic!\n",
      "Ray 14 is totally isotropic!\n",
      "Ray 15 is totally isotropic!\n",
      "Ray 16 is totally isotropic!\n",
      "Ray 17 is totally isotropic!\n",
      "Ray 18 is totally isotropic!\n",
      "Ray 19 is totally isotropic!\n",
      "Ray 20 is totally isotropic!\n",
      "Ray 21 is totally isotropic!\n",
      "Ray 22 is totally isotropic!\n",
      "Ray 23 is totally isotropic!\n",
      "Ray 24 is totally isotropic!\n",
      "Ray 25 is totally isotropic!\n",
      "Ray 26 is totally isotropic!\n",
      "Ray 27 is totally isotropic!\n"
     ]
    }
   ],
   "source": [
    "checkSpread(raysK)"
   ]
  },
  {
   "cell_type": "code",
   "execution_count": 33,
   "metadata": {},
   "outputs": [
    {
     "data": {
      "text/plain": [
       "False"
      ]
     },
     "execution_count": 33,
     "metadata": {},
     "output_type": "execute_result"
    }
   ],
   "source": [
    "raysW == raysK"
   ]
  },
  {
   "cell_type": "code",
   "execution_count": 44,
   "metadata": {},
   "outputs": [],
   "source": [
    "for ray in raysK:\n",
    "    for point in ray:\n",
    "        count = 0\n",
    "        for line in raysK:\n",
    "            if point in line:\n",
    "                count += 1\n",
    "                break\n",
    "        if count > 1:\n",
    "            print('Point {} is in more than one line!'.format(point))"
   ]
  },
  {
   "cell_type": "code",
   "execution_count": 65,
   "metadata": {},
   "outputs": [],
   "source": [
    "def proj(v):\n",
    "    d = len(v)\n",
    "    v = v.reshape((d,1))\n",
    "    return np.kron(v, v.conj().T)"
   ]
  },
  {
   "cell_type": "code",
   "execution_count": 76,
   "metadata": {},
   "outputs": [
    {
     "data": {
      "text/plain": [
       "<matplotlib.image.AxesImage at 0x1754d4e20>"
      ]
     },
     "execution_count": 76,
     "metadata": {},
     "output_type": "execute_result"
    },
    {
     "data": {
      "image/png": "[encoded data removed]",
      "text/plain": [
       "<Figure size 640x480 with 3 Axes>"
      ]
     },
     "metadata": {},
     "output_type": "display_data"
    }
   ],
   "source": [
    "k = 10\n",
    "fig, (ax1, ax2, ax3) = plt.subplots(1,3)\n",
    "ax1.imshow(np.real(mubs[27*k:27*(k+1)]))\n",
    "ax2.imshow(np.real(mubs_kantor[27*k:27*(k+1)]))\n",
    "ax3.imshow(np.real(mubs[27*k:27*(k+1)] - mubs_kantor[27*k:27*(k+1)]))"
   ]
  },
  {
   "cell_type": "code",
   "execution_count": 113,
   "metadata": {},
   "outputs": [
    {
     "data": {
      "text/plain": [
       "<matplotlib.image.AxesImage at 0x1777d8730>"
      ]
     },
     "execution_count": 113,
     "metadata": {},
     "output_type": "execute_result"
    },
    {
     "data": {
      "image/png": "[encoded data removed]",
      "text/plain": [
       "<Figure size 640x480 with 2 Axes>"
      ]
     },
     "metadata": {},
     "output_type": "display_data"
    }
   ],
   "source": [
    "k = 10\n",
    "j = 0\n",
    "fig, (ax1, ax2) = plt.subplots(1,2)\n",
    "ax1.imshow(np.real(proj(mubs[27*k:27*(k+1), j])))\n",
    "ax2.imshow(np.real(proj(mubs_kantor[27*k:27*(k+1), j])))"
   ]
  },
  {
   "cell_type": "code",
   "execution_count": 104,
   "metadata": {},
   "outputs": [
    {
     "data": {
      "text/plain": [
       "<matplotlib.image.AxesImage at 0x1772af4f0>"
      ]
     },
     "execution_count": 104,
     "metadata": {},
     "output_type": "execute_result"
    },
    {
     "data": {
      "image/png": "[encoded data removed]",
      "text/plain": [
       "<Figure size 640x480 with 2 Axes>"
      ]
     },
     "metadata": {},
     "output_type": "display_data"
    }
   ],
   "source": [
    "j = 0\n",
    "m = 28\n",
    "Aw = np.zeros((27,27), dtype='complex64')\n",
    "Ak = np.zeros((27,27), dtype='complex64')\n",
    "for k in range(m):\n",
    "    Aw += proj(mubs[27*k:27*(k+1), j])\n",
    "    Ak += proj(mubs_kantor[27*k:27*(k+1), j])\n",
    "\n",
    "fig, (ax1, ax2) = plt.subplots(1,2)\n",
    "ax1.imshow(np.real(Aw))\n",
    "ax2.imshow(np.real(Ak))"
   ]
  },
  {
   "cell_type": "code",
   "execution_count": 114,
   "metadata": {},
   "outputs": [
    {
     "data": {
      "text/plain": [
       "<matplotlib.image.AxesImage at 0x1778a5040>"
      ]
     },
     "execution_count": 114,
     "metadata": {},
     "output_type": "execute_result"
    },
    {
     "data": {
      "image/png": "[encoded data removed]",
      "text/plain": [
       "<Figure size 640x480 with 2 Axes>"
      ]
     },
     "metadata": {},
     "output_type": "display_data"
    }
   ],
   "source": [
    "p = (F[20], F[15])\n",
    "fig, (ax1, ax2) = plt.subplots(1,2)\n",
    "ax1.imshow(np.imag(wootters.A(*p)))\n",
    "ax2.imshow(np.imag(kantor.A(*p)))"
   ]
  },
  {
   "cell_type": "code",
   "execution_count": null,
   "metadata": {},
   "outputs": [],
   "source": []
  }
 ],
 "metadata": {
  "kernelspec": {
   "display_name": "wigner",
   "language": "python",
   "name": "python3"
  },
  "language_info": {
   "codemirror_mode": {
    "name": "ipython",
    "version": 3
   },
   "file_extension": ".py",
   "mimetype": "text/x-python",
   "name": "python",
   "nbconvert_exporter": "python",
   "pygments_lexer": "ipython3",
   "version": "3.9.16"
  },
  "orig_nbformat": 4
 },
 "nbformat": 4,
 "nbformat_minor": 2
}
