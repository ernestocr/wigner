{
 "cells": [
  {
   "cell_type": "code",
   "execution_count": 1,
   "metadata": {},
   "outputs": [],
   "source": [
    "from sage.all import *\n",
    "import numpy as np\n",
    "import Wigner as wg\n",
    "\n",
    "import matplotlib.pyplot as plt"
   ]
  },
  {
   "cell_type": "code",
   "execution_count": 2,
   "metadata": {},
   "outputs": [],
   "source": [
    "mubs = np.load('MUBS/3-3-desarguesian.npy')\n",
    "mubsk = np.load('MUBS/3-3-albert.npy')"
   ]
  },
  {
   "cell_type": "code",
   "execution_count": 3,
   "metadata": {},
   "outputs": [
    {
     "data": {
      "text/plain": [
       "Finite Field in a of size 3^3"
      ]
     },
     "execution_count": 3,
     "metadata": {},
     "output_type": "execute_result"
    }
   ],
   "source": [
    "F = GF(3**3, 'a'); a = F.gen()\n",
    "F"
   ]
  },
  {
   "cell_type": "code",
   "execution_count": 4,
   "metadata": {},
   "outputs": [
    {
     "data": {
      "text/plain": [
       "[0,\n",
       " 1,\n",
       " a,\n",
       " a^2,\n",
       " a + 2,\n",
       " a^2 + 2*a,\n",
       " 2*a^2 + a + 2,\n",
       " a^2 + a + 1,\n",
       " a^2 + 2*a + 2,\n",
       " 2*a^2 + 2,\n",
       " a + 1,\n",
       " a^2 + a,\n",
       " a^2 + a + 2,\n",
       " a^2 + 2,\n",
       " 2,\n",
       " 2*a,\n",
       " 2*a^2,\n",
       " 2*a + 1,\n",
       " 2*a^2 + a,\n",
       " a^2 + 2*a + 1,\n",
       " 2*a^2 + 2*a + 2,\n",
       " 2*a^2 + a + 1,\n",
       " a^2 + 1,\n",
       " 2*a + 2,\n",
       " 2*a^2 + 2*a,\n",
       " 2*a^2 + 2*a + 1,\n",
       " 2*a^2 + 1]"
      ]
     },
     "execution_count": 4,
     "metadata": {},
     "output_type": "execute_result"
    }
   ],
   "source": [
    "FF = [F(0)] + [a**j for j in range(26)]\n",
    "FF"
   ]
  },
  {
   "cell_type": "code",
   "execution_count": 5,
   "metadata": {},
   "outputs": [],
   "source": [
    "wootters = wg.Wigner(FF, mubs)\n",
    "kantor   = wg.Wigner(FF, mubsk, op='albert')"
   ]
  },
  {
   "cell_type": "code",
   "execution_count": 6,
   "metadata": {},
   "outputs": [],
   "source": [
    "raysW = wootters.Spread()\n",
    "raysK = kantor.Spread()"
   ]
  },
  {
   "cell_type": "code",
   "execution_count": 7,
   "metadata": {},
   "outputs": [],
   "source": [
    "def SymplecticForm(alpha, beta):\n",
    "    a, b = alpha\n",
    "    c, d = beta\n",
    "    return (a*d - b*c).trace()"
   ]
  },
  {
   "cell_type": "code",
   "execution_count": 8,
   "metadata": {},
   "outputs": [],
   "source": [
    "def checkSpread(lines):\n",
    "    for k in range(len(lines)):\n",
    "        for alpha in lines[k]:\n",
    "            for beta in lines[k]:\n",
    "                s = SymplecticForm(alpha, beta)\n",
    "                if s != 0:\n",
    "                    print('Not totally isotropic!')\n",
    "                    print(alpha, beta)\n",
    "                    print(s)\n",
    "                    break\n",
    "        print('Ray {} is totally isotropic!'.format(k))"
   ]
  },
  {
   "cell_type": "code",
   "execution_count": 9,
   "metadata": {},
   "outputs": [
    {
     "name": "stdout",
     "output_type": "stream",
     "text": [
      "Ray 0 is totally isotropic!\n",
      "Ray 1 is totally isotropic!\n",
      "Ray 2 is totally isotropic!\n",
      "Ray 3 is totally isotropic!\n",
      "Ray 4 is totally isotropic!\n",
      "Ray 5 is totally isotropic!\n",
      "Ray 6 is totally isotropic!\n",
      "Ray 7 is totally isotropic!\n",
      "Ray 8 is totally isotropic!\n",
      "Ray 9 is totally isotropic!\n",
      "Ray 10 is totally isotropic!\n",
      "Ray 11 is totally isotropic!\n",
      "Ray 12 is totally isotropic!\n",
      "Ray 13 is totally isotropic!\n",
      "Ray 14 is totally isotropic!\n",
      "Ray 15 is totally isotropic!\n",
      "Ray 16 is totally isotropic!\n",
      "Ray 17 is totally isotropic!\n",
      "Ray 18 is totally isotropic!\n",
      "Ray 19 is totally isotropic!\n",
      "Ray 20 is totally isotropic!\n",
      "Ray 21 is totally isotropic!\n",
      "Ray 22 is totally isotropic!\n",
      "Ray 23 is totally isotropic!\n",
      "Ray 24 is totally isotropic!\n",
      "Ray 25 is totally isotropic!\n",
      "Ray 26 is totally isotropic!\n",
      "Ray 27 is totally isotropic!\n"
     ]
    }
   ],
   "source": [
    "checkSpread(raysW)"
   ]
  },
  {
   "cell_type": "code",
   "execution_count": 10,
   "metadata": {},
   "outputs": [
    {
     "name": "stdout",
     "output_type": "stream",
     "text": [
      "Ray 0 is totally isotropic!\n",
      "Ray 1 is totally isotropic!\n",
      "Ray 2 is totally isotropic!\n",
      "Ray 3 is totally isotropic!\n",
      "Ray 4 is totally isotropic!\n",
      "Ray 5 is totally isotropic!\n",
      "Ray 6 is totally isotropic!\n",
      "Ray 7 is totally isotropic!\n",
      "Ray 8 is totally isotropic!\n",
      "Ray 9 is totally isotropic!\n",
      "Ray 10 is totally isotropic!\n",
      "Ray 11 is totally isotropic!\n",
      "Ray 12 is totally isotropic!\n",
      "Ray 13 is totally isotropic!\n",
      "Ray 14 is totally isotropic!\n",
      "Ray 15 is totally isotropic!\n",
      "Ray 16 is totally isotropic!\n",
      "Ray 17 is totally isotropic!\n",
      "Ray 18 is totally isotropic!\n",
      "Ray 19 is totally isotropic!\n",
      "Ray 20 is totally isotropic!\n",
      "Ray 21 is totally isotropic!\n",
      "Ray 22 is totally isotropic!\n",
      "Ray 23 is totally isotropic!\n",
      "Ray 24 is totally isotropic!\n",
      "Ray 25 is totally isotropic!\n",
      "Ray 26 is totally isotropic!\n",
      "Ray 27 is totally isotropic!\n"
     ]
    }
   ],
   "source": [
    "checkSpread(raysK)"
   ]
  },
  {
   "cell_type": "code",
   "execution_count": 11,
   "metadata": {},
   "outputs": [
    {
     "data": {
      "text/plain": [
       "False"
      ]
     },
     "execution_count": 11,
     "metadata": {},
     "output_type": "execute_result"
    }
   ],
   "source": [
    "raysW == raysK"
   ]
  },
  {
   "cell_type": "code",
   "execution_count": 15,
   "metadata": {},
   "outputs": [],
   "source": [
    "def checkPartition(rays):\n",
    "    for i, ray in enumerate(rays):\n",
    "        for j, cmp in enumerate(rays):\n",
    "            if i == j:\n",
    "                continue\n",
    "            if len(set(raysW[0]) & set(raysW[1])) > 1:\n",
    "                print(i, j)\n",
    "                raise Exception('Intersection is not trivial!')\n",
    "    return true"
   ]
  },
  {
   "cell_type": "code",
   "execution_count": 16,
   "metadata": {},
   "outputs": [
    {
     "data": {
      "text/plain": [
       "True"
      ]
     },
     "execution_count": 16,
     "metadata": {},
     "output_type": "execute_result"
    }
   ],
   "source": [
    "checkPartition(raysW)"
   ]
  },
  {
   "cell_type": "code",
   "execution_count": 17,
   "metadata": {},
   "outputs": [
    {
     "data": {
      "text/plain": [
       "True"
      ]
     },
     "execution_count": 17,
     "metadata": {},
     "output_type": "execute_result"
    }
   ],
   "source": [
    "checkPartition(raysK)"
   ]
  },
  {
   "cell_type": "code",
   "execution_count": 18,
   "metadata": {},
   "outputs": [],
   "source": [
    "def proj(v):\n",
    "    d = len(v)\n",
    "    v = v.reshape((d,1))\n",
    "    return np.kron(v, v.conj().T)"
   ]
  },
  {
   "attachments": {},
   "cell_type": "markdown",
   "metadata": {},
   "source": [
    "Checking whole sets of MUBs."
   ]
  },
  {
   "cell_type": "code",
   "execution_count": 25,
   "metadata": {},
   "outputs": [
    {
     "data": {
      "text/plain": [
       "<matplotlib.image.AxesImage at 0x1783cb5e0>"
      ]
     },
     "execution_count": 25,
     "metadata": {},
     "output_type": "execute_result"
    },
    {
     "data": {
      "image/png": "[encoded data removed]",
      "text/plain": [
       "<Figure size 640x480 with 4 Axes>"
      ]
     },
     "metadata": {},
     "output_type": "display_data"
    }
   ],
   "source": [
    "k = 1\n",
    "fig, axs = plt.subplots(2,2)\n",
    "axs[0][0].imshow(np.real(mubs[27*k:27*(k+1)]))\n",
    "axs[0][1].imshow(np.imag(mubs[27*k:27*(k+1)]))\n",
    "# axs[0][2].imshow(np.abs(mubs[27*k:27*(k+1)]))\n",
    "axs[1][0].imshow(np.real(mubsk[27*k:27*(k+1)]))\n",
    "axs[1][1].imshow(np.imag(mubsk[27*k:27*(k+1)]))\n",
    "# axs[1][2].imshow(np.abs(mubsk[27*k:27*(k+1)]))"
   ]
  },
  {
   "attachments": {},
   "cell_type": "markdown",
   "metadata": {},
   "source": [
    "Checking individual vectors from each set."
   ]
  },
  {
   "cell_type": "code",
   "execution_count": 35,
   "metadata": {},
   "outputs": [
    {
     "data": {
      "text/plain": [
       "<matplotlib.image.AxesImage at 0x17933ef70>"
      ]
     },
     "execution_count": 35,
     "metadata": {},
     "output_type": "execute_result"
    },
    {
     "data": {
      "image/png": "[encoded data removed]",
      "text/plain": [
       "<Figure size 640x480 with 4 Axes>"
      ]
     },
     "metadata": {},
     "output_type": "display_data"
    }
   ],
   "source": [
    "k = 2\n",
    "j = 10\n",
    "fig, axs = plt.subplots(2,2)\n",
    "axs[0][0].imshow(np.real(proj(mubs[27*k:27*(k+1), j])))\n",
    "axs[0][1].imshow(np.imag(proj(mubs[27*k:27*(k+1), j])))\n",
    "axs[1][0].imshow(np.real(proj(mubsk[27*k:27*(k+1), j])))\n",
    "axs[1][1].imshow(np.imag(proj(mubsk[27*k:27*(k+1), j])))"
   ]
  },
  {
   "attachments": {},
   "cell_type": "markdown",
   "metadata": {},
   "source": [
    "So the MUBs are not equivalent in the sense that there is not a unitary transformation $U$ such that $\\mathcal B^{\\mathcal K} = U \\mathcal B U^\\dagger$. But what about permutations?"
   ]
  },
  {
   "cell_type": "code",
   "execution_count": 36,
   "metadata": {},
   "outputs": [],
   "source": [
    "mubs_list  = [mubs[27*k:27*(k+1)] for k in range(28)]\n",
    "mubsk_list = [mubsk[27*k:27*(k+1)] for k in range(28)]"
   ]
  },
  {
   "cell_type": "code",
   "execution_count": 44,
   "metadata": {},
   "outputs": [
    {
     "name": "stdout",
     "output_type": "stream",
     "text": [
      "Match: 0 and 0\n",
      "Match: 1 and 1\n"
     ]
    }
   ],
   "source": [
    "for i, B1 in enumerate(mubs_list):\n",
    "    for j, B2 in enumerate(mubsk_list):\n",
    "        if np.all(np.isclose(B1, B2, rtol=1e-5)):\n",
    "            print('Match: {} and {}'.format(i, j))"
   ]
  },
  {
   "attachments": {},
   "cell_type": "markdown",
   "metadata": {},
   "source": [
    "Other than the horizontal and vertical lines, no two sets of vectors are the same with respect to the matrix they form. So no permutations of the full matrices, but, we still cannot exclude the possibility that there are permutations in the vectors themselves."
   ]
  },
  {
   "cell_type": "code",
   "execution_count": null,
   "metadata": {},
   "outputs": [],
   "source": []
  },
  {
   "cell_type": "code",
   "execution_count": 17,
   "metadata": {},
   "outputs": [
    {
     "data": {
      "text/plain": [
       "<matplotlib.image.AxesImage at 0x17a5fe5e0>"
      ]
     },
     "execution_count": 17,
     "metadata": {},
     "output_type": "execute_result"
    },
    {
     "data": {
      "image/png": "[encoded data removed]",
      "text/plain": [
       "<Figure size 640x480 with 2 Axes>"
      ]
     },
     "metadata": {},
     "output_type": "display_data"
    }
   ],
   "source": [
    "j = 0\n",
    "m = 28\n",
    "Aw = np.zeros((27,27), dtype='complex64')\n",
    "Ak = np.zeros((27,27), dtype='complex64')\n",
    "for k in range(m):\n",
    "    Aw += proj(mubs[27*k:27*(k+1), j])\n",
    "    Ak += proj(mubs_kantor[27*k:27*(k+1), j])\n",
    "\n",
    "fig, (ax1, ax2) = plt.subplots(1,2)\n",
    "ax1.imshow(np.real(Aw))\n",
    "ax2.imshow(np.real(Ak))"
   ]
  },
  {
   "cell_type": "code",
   "execution_count": null,
   "metadata": {},
   "outputs": [],
   "source": []
  },
  {
   "cell_type": "code",
   "execution_count": 114,
   "metadata": {},
   "outputs": [
    {
     "data": {
      "text/plain": [
       "<matplotlib.image.AxesImage at 0x1778a5040>"
      ]
     },
     "execution_count": 114,
     "metadata": {},
     "output_type": "execute_result"
    },
    {
     "data": {
      "image/png": "[encoded data removed]",
      "text/plain": [
       "<Figure size 640x480 with 2 Axes>"
      ]
     },
     "metadata": {},
     "output_type": "display_data"
    }
   ],
   "source": [
    "p = (F[20], F[15])\n",
    "fig, (ax1, ax2) = plt.subplots(1,2)\n",
    "ax1.imshow(np.imag(wootters.A(*p)))\n",
    "ax2.imshow(np.imag(kantor.A(*p)))"
   ]
  },
  {
   "cell_type": "code",
   "execution_count": 20,
   "metadata": {},
   "outputs": [
    {
     "data": {
      "text/plain": [
       "[1, 3, 2]"
      ]
     },
     "execution_count": 20,
     "metadata": {},
     "output_type": "execute_result"
    }
   ],
   "source": [
    "np.permutation()"
   ]
  },
  {
   "cell_type": "code",
   "execution_count": null,
   "metadata": {},
   "outputs": [],
   "source": []
  }
 ],
 "metadata": {
  "kernelspec": {
   "display_name": "wigner",
   "language": "python",
   "name": "python3"
  },
  "language_info": {
   "codemirror_mode": {
    "name": "ipython",
    "version": 3
   },
   "file_extension": ".py",
   "mimetype": "text/x-python",
   "name": "python",
   "nbconvert_exporter": "python",
   "pygments_lexer": "ipython3",
   "version": "3.9.16"
  },
  "orig_nbformat": 4
 },
 "nbformat": 4,
 "nbformat_minor": 2
}
