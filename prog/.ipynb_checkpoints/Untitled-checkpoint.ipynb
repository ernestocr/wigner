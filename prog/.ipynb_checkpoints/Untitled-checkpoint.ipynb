{
 "cells": [
  {
   "cell_type": "markdown",
   "id": "921ca135",
   "metadata": {},
   "source": [
    "### Definiciones\n",
    "\n",
    "La función de discreta de Wigner es:\n",
    "\n",
    "$$\n",
    "W_\\alpha = Tr(\\hat{\\rho} \\hat{\\Delta}(\\alpha))\n",
    "$$\n",
    "\n",
    "donde los operadores puntuales son:\n",
    "\n",
    "$$\n",
    "\\hat{\\Delta}(\\alpha) = \\hat{D}(\\alpha) \\Pi \\hat{D}(\\alpha)^{-1},\n",
    "$$\n",
    "\n",
    "con\n",
    "\n",
    "$$\n",
    "\\hat{D}(\\alpha) = \\omega(-2^{-1}\\alpha_1 \\alpha_2) \\hat{Z}^{\\alpha_1} \\hat{X}^{\\alpha_2}.\n",
    "$$\n",
    "\n",
    "Los operadores $\\hat{Z}$ y $\\hat{X}$ son los clock y shift. \n",
    "\n",
    "Utilizando dichas definiciones podemos expresar al operador puntual como:\n",
    "\n",
    "$$\n",
    "\\hat{\\Delta}(\\alpha)\n",
    "= \\frac{1}{N} \\sum_{\\beta_1, \\beta_2} \\omega^{\\alpha_2 \\beta_1 - \\alpha_1 \\beta_2} \\omega^{\\beta_1 \\beta_2 / 2} \\hat{X}^{\\beta_1} \\hat{Z}^{\\beta_2}.\n",
    "$$"
   ]
  },
  {
   "cell_type": "markdown",
   "id": "373c9e98",
   "metadata": {},
   "source": [
    "### Ejemplo: Un qubit.\n",
    "\n",
    "La dimensión del espacio de Hilbert $\\mathcal H$ dos, por lo tanto el campo de Galois para armar el espacio de fase discreto sera $\\mathbb F_4$."
   ]
  },
  {
   "cell_type": "code",
   "execution_count": 35,
   "id": "c14663b8",
   "metadata": {},
   "outputs": [
    {
     "data": {
      "text/plain": [
       "<class 'sage.rings.finite_rings.finite_field_prime_modn.FiniteField_prime_modn_with_category'>"
      ]
     },
     "execution_count": 35,
     "metadata": {},
     "output_type": "execute_result"
    }
   ],
   "source": [
    "k.<a> = GF(2,2, repr=int); type(k)"
   ]
  },
  {
   "cell_type": "code",
   "execution_count": 36,
   "id": "8438ffe2",
   "metadata": {},
   "outputs": [
    {
     "name": "stdout",
     "output_type": "stream",
     "text": [
      "0\n",
      "1\n"
     ]
    }
   ],
   "source": [
    "for i, x in enumerate(k):\n",
    "    print(x)"
   ]
  },
  {
   "cell_type": "code",
   "execution_count": 37,
   "id": "d357a25e",
   "metadata": {},
   "outputs": [
    {
     "data": {
      "text/plain": [
       "Finite Field of size 2"
      ]
     },
     "execution_count": 37,
     "metadata": {},
     "output_type": "execute_result"
    }
   ],
   "source": [
    "k.base_ring()"
   ]
  },
  {
   "cell_type": "code",
   "execution_count": null,
   "id": "06e6c650",
   "metadata": {},
   "outputs": [],
   "source": []
  }
 ],
 "metadata": {
  "kernelspec": {
   "display_name": "SageMath 9.4",
   "language": "sage",
   "name": "sagemath"
  },
  "language_info": {
   "codemirror_mode": {
    "name": "ipython",
    "version": 3
   },
   "file_extension": ".py",
   "mimetype": "text/x-python",
   "name": "python",
   "nbconvert_exporter": "python",
   "pygments_lexer": "ipython3",
   "version": "3.9.9"
  }
 },
 "nbformat": 4,
 "nbformat_minor": 5
}
