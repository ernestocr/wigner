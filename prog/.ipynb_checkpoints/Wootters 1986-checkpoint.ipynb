{
 "cells": [
  {
   "cell_type": "markdown",
   "id": "b21fd3e9",
   "metadata": {},
   "source": [
    "### A Wigner-Function Formulation of Finite-State Quantum Mechanics - Wootters, 1986\n",
    "\n",
    "En su trabajo de 1986 Wootters introduce una versión discreta de la función Wigner para sistemas de dimensión finita. Wootters considera un sistema que tiene $N$ estados ortogonales, y construye un espacio de fase discreto para el caso en que $N$ es primo, a partir de la estructura de espacio vectorial de dimensión dos sobre un campo finito $\\mathbb Z_N$. Para $N$ compuesto, se considera un sistema compuesto por varios sub-sistemas de dimensión primo, correspondiente a la descomposición en factores primos de $N = n_1n_2 \\cdot n_k$, luego el espacio de fase discreto corresponde a un producto cartesiano de los espacios de fase para cada sub-sistema.\n",
    "\n",
    "La ventaja de éste primer intento de Wootters es su sencillez. La construcción es análoga al caso continuo, pues se definen los operadores puntuales sobre espacios de dimensión finita que satisfacen las propiedades análogas a los operadores puntuales en la caso continuo. De ahí solo es cuestión tomar la traza con la matriz de densidad de un estado para obtener la función de Wigner.\n",
    "\n",
    "La desventaja principal que vemos de éste método es que la función de Wigner para sistemas compuestos requiere de un producto cartesiano de los espacios de fase discretos, lo cual limita la utilidad de la representación del estado cuántico. En éste notebook buscamos replicar el trabajo de Wootters de 1986, en preparación de su versión más completa, donde se utilizan extensiones de Galois para representar sistemas compuestos (con sub-sistemas de tamaño primo $r$) en un solo espacio de fase de dos dimensiones.\n",
    "\n",
    "---\n",
    "\n",
    "Como primer ejemplo, consideremos el caso más sencillo: el de una partícula con spin-$1/2$. Para éste caso el espacio de Hilbert es $\\mathcal H = \\mathbb C^2$ y el espacio de fase discreto será $\\mathbb Z_2 \\times \\mathbb Z_2$."
   ]
  },
  {
   "cell_type": "code",
   "execution_count": 320,
   "id": "3f064570",
   "metadata": {},
   "outputs": [
    {
     "name": "stdout",
     "output_type": "stream",
     "text": [
      "Ring of integers modulo 2\n"
     ]
    }
   ],
   "source": [
    "reset()\n",
    "Z2 = Integers(2)\n",
    "z2 = list(Z2)\n",
    "print(Z2)"
   ]
  },
  {
   "cell_type": "markdown",
   "id": "97e2cc2d",
   "metadata": {},
   "source": [
    "Siguiendo a Wootters, los operadores puntuales están dados por la fórmula:\n",
    "\n",
    "$$\n",
    "\\hat{A}(a_1,a_2)\n",
    "= \\frac{1}{2} \\left[\n",
    "(-1)^{a_1} \\hat{\\sigma}_z + (-1)^{a_2} \\hat{\\sigma}_x + (-1)^{a_1+a_2} \\hat{\\sigma}_y + \\hat{I}\n",
    "\\right],\n",
    "$$\n",
    "\n",
    "donde $\\hat{\\sigma}_x, \\hat{\\sigma}_y$ y $\\hat{\\sigma}_z$ son los operadores de Pauli. Ésto es un caso particular de sistemas de dimensión dos, correspondiente a anillos de característica dos."
   ]
  },
  {
   "cell_type": "code",
   "execution_count": 321,
   "id": "39b1ed9c",
   "metadata": {},
   "outputs": [],
   "source": [
    "X  = Matrix(CDF, [[0,1],[1,0]])\n",
    "Y  = Matrix(CDF, [[0,-I],[I,0]])\n",
    "Z  = Matrix(CDF, [[1,0],[0,-1]])\n",
    "Id = Matrix(CDF, [[1,0],[0,1]])"
   ]
  },
  {
   "cell_type": "code",
   "execution_count": 322,
   "id": "4fc9c3e3",
   "metadata": {},
   "outputs": [],
   "source": [
    "def A(a1,a2):\n",
    "    return ( (-1)^a1*Z + (-1)^a2*X + (-1)^(a1+a2)*Y + Id )/2"
   ]
  },
  {
   "cell_type": "markdown",
   "id": "70708b5a",
   "metadata": {},
   "source": [
    "Los $N^2$ operadores puntuales forman una base para el espacio de operadores $\\mathcal M_{N \\times N}(\\mathbb C)$, por lo tanto toda matriz $N \\times N$ puede ser expresada en términos de los operadores, en particular, lo podemos hacer para la matriz de densidad $\\hat{\\rho}$:\n",
    "\n",
    "$$\n",
    "\\hat{\\rho}\n",
    "= \\sum_{\\alpha} W_\\alpha \\hat{A}(\\alpha).\n",
    "$$\n",
    "\n",
    "Dado que para cualesquiera dos puntos $\\alpha, \\beta \\in \\mathbb Z_N \\times \\mathbb Z_N$ tenemos\n",
    "\n",
    "$$\n",
    "\\text{Tr}(\\hat{A}_\\alpha \\hat{A}_\\beta)\n",
    "= N \\delta^\\alpha_\\beta,\n",
    "$$\n",
    "\n",
    "podemos obtener los coeficientes $W_\\alpha$, los cuales nos darán la función de Wigner discreta:\n",
    "\n",
    "$$\n",
    "\\text{Tr}(\\hat{\\rho} \\hat{A}_\\beta)\n",
    "= \\text{Tr}\\left(\n",
    "\\sum_{\\alpha} W_\\alpha \\hat{A}(\\alpha)\n",
    "\\hat{A}(\\beta)\n",
    "\\right)\n",
    "= \\sum_{\\alpha} W_\\alpha \\text{Tr}(\\hat{A}_\\alpha \\hat{A}_\\beta)\n",
    "= \\sum_{\\alpha} W_\\alpha N \\delta^\\alpha_\\beta\n",
    "= N W_\\beta,\n",
    "$$\n",
    "\n",
    "es decir la función de Wigner es $W_\\alpha = \\frac{1}{N} \\text{Tr}(\\hat{\\rho}\\hat{A}_\\alpha)$."
   ]
  },
  {
   "cell_type": "code",
   "execution_count": 323,
   "id": "8030e43a",
   "metadata": {},
   "outputs": [],
   "source": [
    "def Wigner(rho):\n",
    "    n = rho.nrows()\n",
    "    W = Matrix(CDF, n)\n",
    "    for i in Z2:\n",
    "        for j in Z2:\n",
    "            W[i,j] = (rho * A(i,j)).trace() / n\n",
    "    return W\n",
    "#     return Matrix(list(list(x) for x in zip(*W))[::-1]) # desplaza los elementos de W a la izquierda"
   ]
  },
  {
   "cell_type": "markdown",
   "id": "d08ee83e",
   "metadata": {},
   "source": [
    "Función de Wigner para el eigenestado de $\\hat{\\sigma}_z$ con $\\lambda = 1$:"
   ]
  },
  {
   "cell_type": "code",
   "execution_count": 324,
   "id": "ee5a3363",
   "metadata": {},
   "outputs": [
    {
     "data": {
      "text/plain": [
       "[0.5 0.5]\n",
       "[0.0 0.0]"
      ]
     },
     "execution_count": 324,
     "metadata": {},
     "output_type": "execute_result"
    }
   ],
   "source": [
    "v = vector([1,0])\n",
    "σz = v.tensor_product(conjugate(v))\n",
    "Wigner(σz)"
   ]
  },
  {
   "cell_type": "markdown",
   "id": "415e71b3",
   "metadata": {},
   "source": [
    "Función de Wigner para el eigenestado de $\\hat{\\sigma}_x$ con $\\lambda = 1$:"
   ]
  },
  {
   "cell_type": "code",
   "execution_count": 325,
   "id": "b5c9f35f",
   "metadata": {},
   "outputs": [
    {
     "data": {
      "text/plain": [
       "[0.5 0.0]\n",
       "[0.5 0.0]"
      ]
     },
     "execution_count": 325,
     "metadata": {},
     "output_type": "execute_result"
    }
   ],
   "source": [
    "v = vector([1/sqrt(2),1/sqrt(2)])\n",
    "σx = v.tensor_product(conjugate(v))\n",
    "Wigner(σx)"
   ]
  },
  {
   "cell_type": "markdown",
   "id": "def6c012",
   "metadata": {},
   "source": [
    "El eigenestado de $\\hat{\\sigma}_y$ con $\\lambda = 1$:"
   ]
  },
  {
   "cell_type": "code",
   "execution_count": 326,
   "id": "77901bca",
   "metadata": {
    "scrolled": true
   },
   "outputs": [
    {
     "data": {
      "text/plain": [
       "[0.5 0.0]\n",
       "[0.0 0.5]"
      ]
     },
     "execution_count": 326,
     "metadata": {},
     "output_type": "execute_result"
    }
   ],
   "source": [
    "v = vector([-I/sqrt(2),1/sqrt(2)])\n",
    "σy = v.tensor_product(conjugate(v))\n",
    "Wigner(σy)"
   ]
  },
  {
   "cell_type": "markdown",
   "id": "1b30fa46",
   "metadata": {},
   "source": [
    "El estado mixto $\\hat{\\rho} = \\hat{I} / 2$:"
   ]
  },
  {
   "cell_type": "code",
   "execution_count": 327,
   "id": "0066557e",
   "metadata": {},
   "outputs": [
    {
     "data": {
      "text/plain": [
       "[0.25 0.25]\n",
       "[0.25 0.25]"
      ]
     },
     "execution_count": 327,
     "metadata": {},
     "output_type": "execute_result"
    }
   ],
   "source": [
    "Wigner(matrix.identity(2)/2)"
   ]
  },
  {
   "cell_type": "markdown",
   "id": "3a1c8c4a",
   "metadata": {},
   "source": [
    "El $(+1)$-eigenestado de $(\\hat{\\sigma}_z + \\hat{\\sigma}_x) / \\sqrt 2$:"
   ]
  },
  {
   "cell_type": "code",
   "execution_count": 328,
   "id": "1abcec2b",
   "metadata": {},
   "outputs": [
    {
     "data": {
      "text/plain": [
       "[  0.6035533905932738   0.2500000000000001]\n",
       "[ 0.24999999999999994 -0.10355339059327377]"
      ]
     },
     "execution_count": 328,
     "metadata": {},
     "output_type": "execute_result"
    }
   ],
   "source": [
    "v = vector([1, sqrt(2) - 1])\n",
    "v = v / v.norm()\n",
    "vv = v.tensor_product(v)\n",
    "Wigner(vv)"
   ]
  },
  {
   "cell_type": "markdown",
   "id": "c44a3284",
   "metadata": {},
   "source": [
    "El $(-1)$-eigenestado de $(\\hat{\\sigma}_x + \\hat{\\sigma}_y + \\hat{\\sigma}_z)/\\sqrt 3$:"
   ]
  },
  {
   "cell_type": "code",
   "execution_count": 329,
   "id": "0790c166",
   "metadata": {
    "scrolled": true
   },
   "outputs": [
    {
     "data": {
      "text/plain": [
       "[-0.1830127018922193  0.3943375672974063]\n",
       "[ 0.3943375672974064  0.3943375672974064]"
      ]
     },
     "execution_count": 329,
     "metadata": {},
     "output_type": "execute_result"
    }
   ],
   "source": [
    "v = vector([1, -(1/2*I + 1/2)*sqrt(3) - 1/2*I - 1/2])\n",
    "v = v / v.norm()\n",
    "vv = v.tensor_product(conjugate(v))\n",
    "Wigner(vv)"
   ]
  },
  {
   "cell_type": "markdown",
   "id": "2394d6f3",
   "metadata": {},
   "source": [
    "Todos nuestros cálculos han funcionado correctamente! Rapidamente gráficamos las funciones de Wigner."
   ]
  },
  {
   "cell_type": "code",
   "execution_count": 330,
   "id": "fbf9628e",
   "metadata": {},
   "outputs": [],
   "source": [
    "import numpy as np\n",
    "import matplotlib.pyplot as plt\n",
    "\n",
    "import seaborn as sns\n",
    "\n",
    "sns.set(style='white')"
   ]
  },
  {
   "cell_type": "code",
   "execution_count": 331,
   "id": "e09c4ce7",
   "metadata": {},
   "outputs": [
    {
     "data": {
      "text/plain": [
       "<mpl_toolkits.mplot3d.art3d.Poly3DCollection object at 0x1f7559be0>"
      ]
     },
     "execution_count": 331,
     "metadata": {},
     "output_type": "execute_result"
    },
    {
     "data": {
      "image/png": "[encoded data removed]",
      "text/plain": [
       "<Figure size 864x216 with 4 Axes>"
      ]
     },
     "metadata": {},
     "output_type": "display_data"
    }
   ],
   "source": [
    "fig = plt.figure(figsize=(12,3))\n",
    "\n",
    "ax1 = fig.add_subplot(141, projection='3d')\n",
    "ax2 = fig.add_subplot(142, projection='3d')\n",
    "ax3 = fig.add_subplot(143, projection='3d')\n",
    "ax4 = fig.add_subplot(144, projection='3d')\n",
    "\n",
    "for ax in [ax1, ax2, ax3, ax4]:\n",
    "    ax.axes.set_xlim3d(left=0, right=2) \n",
    "    ax.axes.set_ylim3d(bottom=0, top=2) \n",
    "    ax.axes.set_zlim3d(bottom=-0.5, top=0.6) \n",
    "\n",
    "x = np.array([[i] * 2 for i in range(2)]).ravel()\n",
    "y = np.array([i for i in range(2)] * 2)\n",
    "z = np.zeros(2*2)\n",
    "dx = np.ones(2*2)\n",
    "dy = np.ones(2*2)\n",
    "\n",
    "dz = np.array(np.real(Wigner(σx))).ravel()\n",
    "ax1.bar3d(x, y, z, dx, dy, dz)\n",
    "\n",
    "dz = np.array(np.real(Wigner(σy))).ravel()\n",
    "ax2.bar3d(x, y, z, dx, dy, dz)\n",
    "\n",
    "dz = np.array(np.real(Wigner(σz))).ravel()\n",
    "ax3.bar3d(x, y, z, dx, dy, dz)\n",
    "\n",
    "dz = np.array(np.real(Wigner(vv))).ravel()\n",
    "ax4.bar3d(x, y, z, dx, dy, dz)"
   ]
  },
  {
   "cell_type": "code",
   "execution_count": 332,
   "id": "a7e06eb6",
   "metadata": {},
   "outputs": [
    {
     "data": {
      "text/plain": [
       "<AxesSubplot:>"
      ]
     },
     "execution_count": 332,
     "metadata": {},
     "output_type": "execute_result"
    },
    {
     "data": {
      "image/png": "[encoded data removed]",
      "text/plain": [
       "<Figure size 504x72 with 5 Axes>"
      ]
     },
     "metadata": {},
     "output_type": "display_data"
    }
   ],
   "source": [
    "fig = plt.figure(figsize=(7,1))\n",
    "ax1 = fig.add_subplot(141)\n",
    "ax2 = fig.add_subplot(142)\n",
    "ax3 = fig.add_subplot(143)\n",
    "ax4 = fig.add_subplot(144)\n",
    "\n",
    "sns.heatmap(np.real(Wigner(σx)), ax=ax1, cbar=False, vmin=-0.5, vmax=0.5, square=True)\n",
    "sns.heatmap(np.real(Wigner(σy)), ax=ax2, cbar=False, vmin=-0.5, vmax=0.5, square=True)\n",
    "sns.heatmap(np.real(Wigner(σz)), ax=ax3, cbar=False, vmin=-0.5, vmax=0.5, square=True)\n",
    "sns.heatmap(np.real(Wigner(vv)), ax=ax4, vmin=-0.5, vmax=0.5, square=True)"
   ]
  },
  {
   "cell_type": "markdown",
   "id": "ddb86cb3",
   "metadata": {},
   "source": [
    "Ahora vamos a construir la función de Wigner discreta siguiendo a Wootters para el caso $N > 2$ con $N$ primo. En éstos casos, los operadores puntuales están dados matricialmente por\n",
    "\n",
    "$$\n",
    "(A_\\alpha)_{kl}\n",
    "= \\delta^{2a_1}_{k+l} e^{(2\\pi i / N) a_2 (k - l)},\n",
    "$$\n",
    "\n",
    "donde las operaciones son módulo $N$."
   ]
  },
  {
   "cell_type": "code",
   "execution_count": 333,
   "id": "e946ee0e",
   "metadata": {},
   "outputs": [],
   "source": [
    "def kdelta(x,y):\n",
    "    if x == y:\n",
    "        return 1\n",
    "    return 0"
   ]
  },
  {
   "cell_type": "code",
   "execution_count": 334,
   "id": "aa66ad8c",
   "metadata": {},
   "outputs": [],
   "source": [
    "def A(a1, a2, N):\n",
    "    if N < 3:\n",
    "        raise Exception('N debe ser mayor que 2.')\n",
    "\n",
    "    A = Matrix(CDF, N)\n",
    "    ZN = Integers(N)\n",
    "    for k in ZN:\n",
    "        for l in ZN:\n",
    "            A[k, l] = kdelta(2*a1, k+l)*exp((2*pi*I / N)*Integer(a2*(k-l)))\n",
    "    return A"
   ]
  },
  {
   "cell_type": "code",
   "execution_count": 335,
   "id": "e6909075",
   "metadata": {},
   "outputs": [],
   "source": [
    "def Wigner(rho):\n",
    "    n = rho.nrows()\n",
    "    W = Matrix(CDF, n)\n",
    "    ZN = Integers(n)\n",
    "    for i in ZN:\n",
    "        for j in ZN:\n",
    "            W[i,j] = (rho * A(i,j,n)).trace() / n\n",
    "    return W\n",
    "#     return Matrix(list(list(x) for x in zip(*W))[::-1]) # desplaza los elementos de W a la izquierda"
   ]
  },
  {
   "cell_type": "markdown",
   "id": "4411bcf2",
   "metadata": {},
   "source": [
    "Nuestra función nos brinda la función de Wigner correcta para el estado completamente mixto $\\hat{I}/3$:"
   ]
  },
  {
   "cell_type": "code",
   "execution_count": 336,
   "id": "39a9cc4d",
   "metadata": {},
   "outputs": [
    {
     "data": {
      "text/plain": [
       "[0.1111111111111111 0.1111111111111111 0.1111111111111111]\n",
       "[0.1111111111111111 0.1111111111111111 0.1111111111111111]\n",
       "[0.1111111111111111 0.1111111111111111 0.1111111111111111]"
      ]
     },
     "execution_count": 336,
     "metadata": {},
     "output_type": "execute_result"
    }
   ],
   "source": [
    "Wigner(matrix.identity(CDF, 3)/3)"
   ]
  },
  {
   "cell_type": "markdown",
   "id": "aac4be6a",
   "metadata": {},
   "source": [
    "En el caso $N=2$ había una interpretación directa de los ejes respecto a los observables cuánticos. Para el caso $N > 2$ Wootters da interpretación a partir de los proyectores definidos a traves de las lineas del espacio de fase discreto. Específicamente, los eigenestados del observable del eje horizontal $\\hat{O}_1$ están definidos por los los $\\hat{P}_\\lambda$'s para la linea vertical $\\lambda$:\n",
    "\n",
    "$$\n",
    "\\hat{P}_\\lambda = \\frac{1}{N} \\sum_{\\alpha \\in \\lambda} \\hat{A}_\\alpha,\n",
    "$$\n",
    "\n",
    "y los eigenvalores asignados a éstas lineas verticales son los valores de $a_1$. Con ésto construímos el operador $\\hat{O}_1$ como\n",
    "\n",
    "$$\n",
    "\\hat{O}_1\n",
    "= \\frac{1}{N} \\sum_{\\alpha} a_1 \\hat{A}_\\alpha.\n",
    "$$\n",
    "\n",
    "Similarmente para eje vertical el observable correspondiente está dado por\n",
    "\n",
    "$$\n",
    "\\hat{O}_2\n",
    "= \\frac{1}{N} \\sum_{\\alpha} a_2 \\hat{A}_\\alpha.\n",
    "$$"
   ]
  },
  {
   "cell_type": "code",
   "execution_count": 337,
   "id": "52ebb2d2",
   "metadata": {},
   "outputs": [],
   "source": [
    "# proyector correspondiente a la linea diagonal del espacio de fase\n",
    "Z3 = Integers(3)\n",
    "p = Matrix(CDF, 3)\n",
    "for a in Z3:\n",
    "    p += A(a, a, 3) / 3"
   ]
  },
  {
   "cell_type": "code",
   "execution_count": 338,
   "id": "af37c540",
   "metadata": {},
   "outputs": [
    {
     "data": {
      "text/plain": [
       "[    0.3333333333333333                    0.0                    0.0]\n",
       "[                   0.0     0.3333333333333333 -1.850371707708594e-17]\n",
       "[                   0.0 -1.850371707708594e-17     0.3333333333333333]"
      ]
     },
     "execution_count": 338,
     "metadata": {},
     "output_type": "execute_result"
    }
   ],
   "source": [
    "Wigner(p)"
   ]
  },
  {
   "cell_type": "code",
   "execution_count": 339,
   "id": "68539412",
   "metadata": {},
   "outputs": [
    {
     "data": {
      "text/plain": [
       "<mpl_toolkits.mplot3d.art3d.Poly3DCollection object at 0x1f77ae430>"
      ]
     },
     "execution_count": 339,
     "metadata": {},
     "output_type": "execute_result"
    },
    {
     "data": {
      "image/png": "[encoded data removed]",
      "text/plain": [
       "<Figure size 576x288 with 1 Axes>"
      ]
     },
     "metadata": {},
     "output_type": "display_data"
    }
   ],
   "source": [
    "fig = plt.figure(figsize=(8,4))\n",
    "ax1 = fig.add_subplot(111, projection='3d')\n",
    "\n",
    "N = 3\n",
    "\n",
    "x = np.array([[i] * N for i in range(N)]).ravel()\n",
    "y = np.array([i for i in range(N)] * N)\n",
    "z = np.zeros(N*N)\n",
    "dx = np.ones(N*N)# / 1.05\n",
    "dy = np.ones(N*N)# / 1.05\n",
    "\n",
    "dz = np.array(np.real(Wigner(p))).ravel()\n",
    "ax1.bar3d(x, y, z, dx, dy, dz)"
   ]
  },
  {
   "cell_type": "code",
   "execution_count": null,
   "id": "1415cab6",
   "metadata": {},
   "outputs": [],
   "source": []
  }
 ],
 "metadata": {
  "kernelspec": {
   "display_name": "SageMath 9.4",
   "language": "sage",
   "name": "sagemath"
  },
  "language_info": {
   "codemirror_mode": {
    "name": "ipython",
    "version": 3
   },
   "file_extension": ".py",
   "mimetype": "text/x-python",
   "name": "python",
   "nbconvert_exporter": "python",
   "pygments_lexer": "ipython3",
   "version": "3.9.9"
  }
 },
 "nbformat": 4,
 "nbformat_minor": 5
}
