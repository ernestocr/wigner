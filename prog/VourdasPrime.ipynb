{
 "cells": [
  {
   "cell_type": "code",
   "execution_count": 1,
   "metadata": {},
   "outputs": [],
   "source": [
    "import numpy as np\n",
    "import sympy as sp\n",
    "import galois"
   ]
  },
  {
   "attachments": {},
   "cell_type": "markdown",
   "metadata": {},
   "source": [
    "Consider a quantum system with Hilbert space dimension odd $d$, and the finite ring $\\mathbb Z_d$. Vourdas' formalism does not work for even characteristic."
   ]
  },
  {
   "cell_type": "code",
   "execution_count": 2,
   "metadata": {},
   "outputs": [
    {
     "name": "stderr",
     "output_type": "stream",
     "text": [
      "OMP: Info #276: omp_set_nested routine deprecated, please use omp_set_max_active_levels instead.\n"
     ]
    },
    {
     "data": {
      "text/plain": [
       "GF([0, 1, 2], order=3)"
      ]
     },
     "execution_count": 2,
     "metadata": {},
     "output_type": "execute_result"
    }
   ],
   "source": [
    "d = 3 # odd\n",
    "\n",
    "F = galois.GF(d)\n",
    "F.elements"
   ]
  },
  {
   "attachments": {},
   "cell_type": "markdown",
   "metadata": {},
   "source": [
    "A few utilities and the definition of the $\\omega(\\alpha)$."
   ]
  },
  {
   "cell_type": "code",
   "execution_count": 3,
   "metadata": {},
   "outputs": [],
   "source": [
    "II = sp.eye(d)\n",
    "\n",
    "def tensorproduct(a, b):\n",
    "    return sp.ImmutableMatrix((sp.tensorproduct(a, b)).reshape(d, d))\n",
    "\n",
    "def lift(a):\n",
    "    return np.int64(np.array(a))\n",
    "\n",
    "def omega(a):\n",
    "    return sp.exp(sp.I * 2 * sp.pi * lift(a) / d)"
   ]
  },
  {
   "attachments": {},
   "cell_type": "markdown",
   "metadata": {},
   "source": [
    "Define the finite Fourier transform."
   ]
  },
  {
   "cell_type": "code",
   "execution_count": 4,
   "metadata": {},
   "outputs": [],
   "source": [
    "FF = sp.zeros(d, d)\n",
    "for m in F.elements:\n",
    "    for n in F.elements:\n",
    "        FF += omega(m * n) * tensorproduct(II[:, m], sp.adjoint(II[:, n]))\n",
    "FF = FF / sp.sqrt(d)"
   ]
  },
  {
   "cell_type": "code",
   "execution_count": 5,
   "metadata": {},
   "outputs": [
    {
     "data": {
      "text/latex": [
       "$\\displaystyle \\left[\\begin{matrix}\\frac{\\sqrt{3}}{3} & \\frac{\\sqrt{3}}{3} & \\frac{\\sqrt{3}}{3}\\\\\\frac{\\sqrt{3}}{3} & \\frac{\\sqrt{3} e^{\\frac{2 i \\pi}{3}}}{3} & \\frac{\\sqrt{3} e^{- \\frac{2 i \\pi}{3}}}{3}\\\\\\frac{\\sqrt{3}}{3} & \\frac{\\sqrt{3} e^{- \\frac{2 i \\pi}{3}}}{3} & \\frac{\\sqrt{3} e^{\\frac{2 i \\pi}{3}}}{3}\\end{matrix}\\right]$"
      ],
      "text/plain": [
       "Matrix([\n",
       "[sqrt(3)/3,                sqrt(3)/3,                sqrt(3)/3],\n",
       "[sqrt(3)/3,  sqrt(3)*exp(2*I*pi/3)/3, sqrt(3)*exp(-2*I*pi/3)/3],\n",
       "[sqrt(3)/3, sqrt(3)*exp(-2*I*pi/3)/3,  sqrt(3)*exp(2*I*pi/3)/3]])"
      ]
     },
     "execution_count": 5,
     "metadata": {},
     "output_type": "execute_result"
    }
   ],
   "source": [
    "FF"
   ]
  },
  {
   "cell_type": "code",
   "execution_count": 6,
   "metadata": {},
   "outputs": [
    {
     "data": {
      "text/latex": [
       "$\\displaystyle \\left[\\begin{matrix}1 & 0 & 0\\\\0 & 1 & 0\\\\0 & 0 & 1\\end{matrix}\\right]$"
      ],
      "text/plain": [
       "Matrix([\n",
       "[1, 0, 0],\n",
       "[0, 1, 0],\n",
       "[0, 0, 1]])"
      ]
     },
     "execution_count": 6,
     "metadata": {},
     "output_type": "execute_result"
    }
   ],
   "source": [
    "(FF * sp.adjoint(FF)).applyfunc(sp.nsimplify) # sanity check!"
   ]
  },
  {
   "cell_type": "code",
   "execution_count": 7,
   "metadata": {},
   "outputs": [
    {
     "data": {
      "text/latex": [
       "$\\displaystyle \\left[\\begin{matrix}1 & 0 & 0\\\\0 & 1 & 0\\\\0 & 0 & 1\\end{matrix}\\right]$"
      ],
      "text/plain": [
       "Matrix([\n",
       "[1, 0, 0],\n",
       "[0, 1, 0],\n",
       "[0, 0, 1]])"
      ]
     },
     "execution_count": 7,
     "metadata": {},
     "output_type": "execute_result"
    }
   ],
   "source": [
    "(FF**4).applyfunc(sp.nsimplify)"
   ]
  },
  {
   "attachments": {},
   "cell_type": "markdown",
   "metadata": {},
   "source": [
    "Define the basic translation operators $Z$ and $X$."
   ]
  },
  {
   "cell_type": "code",
   "execution_count": 8,
   "metadata": {},
   "outputs": [],
   "source": [
    "Z = sp.zeros(d, d)\n",
    "X = sp.zeros(d, d)\n",
    "for n in F.elements:\n",
    "    v = II[:, n]\n",
    "    fv = FF * v\n",
    "    Z += omega(n) * tensorproduct(v, sp.adjoint(v))\n",
    "    X += omega(-n) * tensorproduct(fv, sp.adjoint(fv))\n",
    "X = X.applyfunc(sp.nsimplify)"
   ]
  },
  {
   "cell_type": "code",
   "execution_count": 9,
   "metadata": {},
   "outputs": [
    {
     "data": {
      "text/latex": [
       "$\\displaystyle \\left[\\begin{matrix}1 & 0 & 0\\\\0 & e^{\\frac{2 i \\pi}{3}} & 0\\\\0 & 0 & e^{- \\frac{2 i \\pi}{3}}\\end{matrix}\\right]$"
      ],
      "text/plain": [
       "Matrix([\n",
       "[1,             0,              0],\n",
       "[0, exp(2*I*pi/3),              0],\n",
       "[0,             0, exp(-2*I*pi/3)]])"
      ]
     },
     "execution_count": 9,
     "metadata": {},
     "output_type": "execute_result"
    }
   ],
   "source": [
    "Z"
   ]
  },
  {
   "cell_type": "code",
   "execution_count": 10,
   "metadata": {},
   "outputs": [
    {
     "data": {
      "text/latex": [
       "$\\displaystyle \\left[\\begin{matrix}0 & 0 & 1\\\\1 & 0 & 0\\\\0 & 1 & 0\\end{matrix}\\right]$"
      ],
      "text/plain": [
       "Matrix([\n",
       "[0, 0, 1],\n",
       "[1, 0, 0],\n",
       "[0, 1, 0]])"
      ]
     },
     "execution_count": 10,
     "metadata": {},
     "output_type": "execute_result"
    }
   ],
   "source": [
    "X"
   ]
  },
  {
   "cell_type": "code",
   "execution_count": 11,
   "metadata": {},
   "outputs": [
    {
     "data": {
      "text/latex": [
       "$\\displaystyle \\left[\\begin{matrix}0\\\\0\\\\1\\end{matrix}\\right]$"
      ],
      "text/plain": [
       "Matrix([\n",
       "[0],\n",
       "[0],\n",
       "[1]])"
      ]
     },
     "execution_count": 11,
     "metadata": {},
     "output_type": "execute_result"
    }
   ],
   "source": [
    "(X**lift(F.elements[2])) * II[:,0] # sanity check"
   ]
  },
  {
   "attachments": {},
   "cell_type": "markdown",
   "metadata": {},
   "source": [
    "Now define the general displacement operators $D(\\alpha,\\beta)$. Notice, that for odd order, the inverse of the element $2$ exists."
   ]
  },
  {
   "cell_type": "code",
   "execution_count": 13,
   "metadata": {},
   "outputs": [],
   "source": [
    "def D(a, b):\n",
    "    return omega((-F.elements[2]**(-1)) * a * b) * (Z**lift(a)) * (X**lift(b))"
   ]
  },
  {
   "cell_type": "code",
   "execution_count": 14,
   "metadata": {},
   "outputs": [
    {
     "data": {
      "text/latex": [
       "$\\displaystyle \\left[\\begin{matrix}0 & 0 & 1\\\\1 & 0 & 0\\\\0 & 1 & 0\\end{matrix}\\right]$"
      ],
      "text/plain": [
       "Matrix([\n",
       "[0, 0, 1],\n",
       "[1, 0, 0],\n",
       "[0, 1, 0]])"
      ]
     },
     "execution_count": 14,
     "metadata": {},
     "output_type": "execute_result"
    }
   ],
   "source": [
    "D(F.elements[0], F.elements[1]) # sanity check"
   ]
  },
  {
   "cell_type": "code",
   "execution_count": 15,
   "metadata": {},
   "outputs": [
    {
     "data": {
      "text/latex": [
       "$\\displaystyle \\left[\\begin{matrix}0 & e^{- \\frac{2 i \\pi}{3}} & 0\\\\0 & 0 & 1\\\\e^{\\frac{2 i \\pi}{3}} & 0 & 0\\end{matrix}\\right]$"
      ],
      "text/plain": [
       "Matrix([\n",
       "[            0, exp(-2*I*pi/3), 0],\n",
       "[            0,              0, 1],\n",
       "[exp(2*I*pi/3),              0, 0]])"
      ]
     },
     "execution_count": 15,
     "metadata": {},
     "output_type": "execute_result"
    }
   ],
   "source": [
    "D(F.elements[1], F.elements[2])"
   ]
  },
  {
   "attachments": {},
   "cell_type": "markdown",
   "metadata": {},
   "source": [
    "From here, we can define the displaced parity operators and then the Wigner functions. No problema at all for odd dimensions."
   ]
  },
  {
   "cell_type": "code",
   "execution_count": 16,
   "metadata": {},
   "outputs": [],
   "source": [
    "P0 = (FF**2).applyfunc(sp.nsimplify)\n",
    "def P(a,b):\n",
    "    return D(F.elements[2]*a, F.elements[2]*b) * P0"
   ]
  },
  {
   "cell_type": "code",
   "execution_count": 17,
   "metadata": {},
   "outputs": [],
   "source": [
    "def Wigner(theta, a, b):\n",
    "    return sp.trace(theta * P(a,b))"
   ]
  },
  {
   "cell_type": "code",
   "execution_count": 18,
   "metadata": {},
   "outputs": [],
   "source": [
    "def W(theta):\n",
    "    w = sp.zeros(d, d)\n",
    "    for i, a in enumerate(F.elements):\n",
    "        for j, b in enumerate(F.elements):\n",
    "            w[i,j] = Wigner(theta, a, b)\n",
    "    return w"
   ]
  },
  {
   "cell_type": "code",
   "execution_count": 19,
   "metadata": {},
   "outputs": [],
   "source": [
    "state = (II[:,0] + sp.I*II[:,1] + 2*II[:,2])/sp.sqrt(6)\n",
    "S = tensorproduct(state, sp.adjoint(state))"
   ]
  },
  {
   "cell_type": "code",
   "execution_count": 20,
   "metadata": {},
   "outputs": [
    {
     "data": {
      "text/latex": [
       "$\\displaystyle \\left[\\begin{matrix}0.166666666666667 & 0.833333333333333 & 0.666666666666667\\\\-0.410683602522959 & -0.166666666666667 & 0.95534180126148\\\\0.744016935856292 & -0.166666666666667 & 0.377991532071854\\end{matrix}\\right]$"
      ],
      "text/plain": [
       "Matrix([\n",
       "[ 0.166666666666667,  0.833333333333333, 0.666666666666667],\n",
       "[-0.410683602522959, -0.166666666666667,  0.95534180126148],\n",
       "[ 0.744016935856292, -0.166666666666667, 0.377991532071854]])"
      ]
     },
     "execution_count": 20,
     "metadata": {},
     "output_type": "execute_result"
    }
   ],
   "source": [
    "W(S).applyfunc(sp.nsimplify).applyfunc(sp.N)"
   ]
  },
  {
   "attachments": {},
   "cell_type": "markdown",
   "metadata": {},
   "source": [
    "How about we try to construct those mutually unbiased bases? Vourdas uses the symplectic transformations he defines in chapter 4. Precisely, he defines $p$ mutually unbiased bases given by $$|\\mathbb X(\\nu); m\\rangle = S(0,-1|1,\\nu) |X; m\\rangle; \\quad v,m \\in \\mathbb Z_p.$$ Vourdas defines such transformations by their action on the operatros $X$ and $Z$. But we can use the position states to obtain the matrix representation of such unitary operators. In general we have for $\\mu,\\nu \\in [\\mathbb Z_d]^*$:\n",
    "$$\n",
    "\\langle X; r| S(\\kappa, \\lambda | \\mu, \\nu) |X; n\\rangle\n",
    "= \\frac{1}{d} G[-2^{-1} \\mu \\nu^{-1}; \\mathbb Z_d] \\times \\omega[2^{-1} \\lambda \\nu^{-1} n^2 + 2^{-1} \\mu^{-1} \\nu^{-1} (r\\nu -n)^2].\n",
    "$$\n",
    "Where $G[s, \\mathbb Z_d]$ is the Gauss sum:\n",
    "$$\n",
    "G[s; \\mathbb Z_d] = \\sum_{\\beta = 0}^{d-1} \\omega(s \\beta^2).\n",
    "$$\n",
    "So in particular\n",
    "\\begin{align*}\n",
    "\\langle X; r| S(0,-1|1,\\nu) |X; n\\rangle\n",
    "&= \\frac{1}{d} G[-2^{-1} \\nu^{-1}; \\mathbb Z_d] \\times \\omega[-2^{-1} \\nu^{-1} n^2 + 2^{-1} \\nu^{-1} (r\\nu - n)^2] \\\\\n",
    "&= \\frac{1}{d} G[-2^{-1} \\nu^{-1}; \\mathbb Z_d] \\times \\omega[-2^{-1} \\nu^{-1} \\left(n^2 - (r\\nu - n)^2\\right)] \\\\\n",
    "&= \\frac{1}{d} G[-2^{-1} \\nu^{-1}; \\mathbb Z_d] \\times \\omega[2^{-1} \\left(r^2\\nu - 2rn\\right)]\n",
    "\\end{align*}"
   ]
  },
  {
   "cell_type": "code",
   "execution_count": 21,
   "metadata": {},
   "outputs": [],
   "source": [
    "def GaussSum(a):\n",
    "    return sum([omega(a * beta**2) for beta in F.elements])"
   ]
  },
  {
   "cell_type": "code",
   "execution_count": 22,
   "metadata": {},
   "outputs": [],
   "source": [
    "def Symp(nu):\n",
    "    s = sp.zeros(d, d)\n",
    "    two = F.elements[2]\n",
    "    for i, r in enumerate(F.elements):\n",
    "        for j, n in enumerate(F.elements):\n",
    "            s[i,j] = GaussSum(-two**(-1) * nu**(-1)) * omega(two**(-1) * (r**2 * nu - two*r*n))\n",
    "    return s / d"
   ]
  },
  {
   "attachments": {},
   "cell_type": "markdown",
   "metadata": {},
   "source": [
    "The MUBs are then given by the identity matrix $I$, the Fourier transform $F$ and the two symplectic transformations $S(0,-1|1,1)$ and $S(0,-1|1,2)$."
   ]
  },
  {
   "cell_type": "code",
   "execution_count": 23,
   "metadata": {},
   "outputs": [],
   "source": [
    "# II\n",
    "# FF\n",
    "S1 = Symp(F.elements[1]).applyfunc(sp.nsimplify)\n",
    "S2 = Symp(F.elements[2]).applyfunc(sp.nsimplify)"
   ]
  },
  {
   "cell_type": "code",
   "execution_count": 28,
   "metadata": {},
   "outputs": [
    {
     "data": {
      "text/latex": [
       "$\\displaystyle \\left[\\begin{matrix}1 & 0 & 0\\\\0 & 1 & 0\\\\0 & 0 & 1\\end{matrix}\\right]$"
      ],
      "text/plain": [
       "Matrix([\n",
       "[1, 0, 0],\n",
       "[0, 1, 0],\n",
       "[0, 0, 1]])"
      ]
     },
     "execution_count": 28,
     "metadata": {},
     "output_type": "execute_result"
    }
   ],
   "source": [
    "II"
   ]
  },
  {
   "cell_type": "code",
   "execution_count": 29,
   "metadata": {},
   "outputs": [
    {
     "data": {
      "text/latex": [
       "$\\displaystyle \\left[\\begin{matrix}\\frac{\\sqrt{3}}{3} & \\frac{\\sqrt{3}}{3} & \\frac{\\sqrt{3}}{3}\\\\\\frac{\\sqrt{3}}{3} & \\frac{\\sqrt{3} e^{\\frac{2 i \\pi}{3}}}{3} & \\frac{\\sqrt{3} e^{- \\frac{2 i \\pi}{3}}}{3}\\\\\\frac{\\sqrt{3}}{3} & \\frac{\\sqrt{3} e^{- \\frac{2 i \\pi}{3}}}{3} & \\frac{\\sqrt{3} e^{\\frac{2 i \\pi}{3}}}{3}\\end{matrix}\\right]$"
      ],
      "text/plain": [
       "Matrix([\n",
       "[sqrt(3)/3,                sqrt(3)/3,                sqrt(3)/3],\n",
       "[sqrt(3)/3,  sqrt(3)*exp(2*I*pi/3)/3, sqrt(3)*exp(-2*I*pi/3)/3],\n",
       "[sqrt(3)/3, sqrt(3)*exp(-2*I*pi/3)/3,  sqrt(3)*exp(2*I*pi/3)/3]])"
      ]
     },
     "execution_count": 29,
     "metadata": {},
     "output_type": "execute_result"
    }
   ],
   "source": [
    "FF"
   ]
  },
  {
   "cell_type": "code",
   "execution_count": 27,
   "metadata": {},
   "outputs": [
    {
     "data": {
      "text/latex": [
       "$\\displaystyle \\left[\\begin{matrix}\\frac{\\sqrt{3} i}{3} & \\frac{\\sqrt{3} i}{3} & \\frac{\\sqrt{3} i}{3}\\\\\\frac{1}{2} - \\frac{\\sqrt{3} i}{6} & - \\frac{1}{2} - \\frac{\\sqrt{3} i}{6} & \\frac{\\sqrt{3} i}{3}\\\\\\frac{1}{2} - \\frac{\\sqrt{3} i}{6} & \\frac{\\sqrt{3} i}{3} & - \\frac{1}{2} - \\frac{\\sqrt{3} i}{6}\\end{matrix}\\right]$"
      ],
      "text/plain": [
       "Matrix([\n",
       "[      sqrt(3)*I/3,        sqrt(3)*I/3,        sqrt(3)*I/3],\n",
       "[1/2 - sqrt(3)*I/6, -1/2 - sqrt(3)*I/6,        sqrt(3)*I/3],\n",
       "[1/2 - sqrt(3)*I/6,        sqrt(3)*I/3, -1/2 - sqrt(3)*I/6]])"
      ]
     },
     "execution_count": 27,
     "metadata": {},
     "output_type": "execute_result"
    }
   ],
   "source": [
    "S1"
   ]
  },
  {
   "cell_type": "code",
   "execution_count": 30,
   "metadata": {},
   "outputs": [
    {
     "data": {
      "text/latex": [
       "$\\displaystyle \\left[\\begin{matrix}- \\frac{\\sqrt{3} i}{3} & - \\frac{\\sqrt{3} i}{3} & - \\frac{\\sqrt{3} i}{3}\\\\\\frac{1}{2} + \\frac{\\sqrt{3} i}{6} & - \\frac{\\sqrt{3} i}{3} & - \\frac{1}{2} + \\frac{\\sqrt{3} i}{6}\\\\\\frac{1}{2} + \\frac{\\sqrt{3} i}{6} & - \\frac{1}{2} + \\frac{\\sqrt{3} i}{6} & - \\frac{\\sqrt{3} i}{3}\\end{matrix}\\right]$"
      ],
      "text/plain": [
       "Matrix([\n",
       "[     -sqrt(3)*I/3,       -sqrt(3)*I/3,       -sqrt(3)*I/3],\n",
       "[1/2 + sqrt(3)*I/6,       -sqrt(3)*I/3, -1/2 + sqrt(3)*I/6],\n",
       "[1/2 + sqrt(3)*I/6, -1/2 + sqrt(3)*I/6,       -sqrt(3)*I/3]])"
      ]
     },
     "execution_count": 30,
     "metadata": {},
     "output_type": "execute_result"
    }
   ],
   "source": [
    "S2"
   ]
  },
  {
   "cell_type": "code",
   "execution_count": 24,
   "metadata": {},
   "outputs": [],
   "source": [
    "def verifyMUB(a,b):\n",
    "    return sp.Abs((sp.adjoint(a) * b)[0])"
   ]
  },
  {
   "cell_type": "code",
   "execution_count": 25,
   "metadata": {},
   "outputs": [
    {
     "data": {
      "text/latex": [
       "$\\displaystyle \\frac{\\sqrt{3}}{3}$"
      ],
      "text/plain": [
       "sqrt(3)/3"
      ]
     },
     "execution_count": 25,
     "metadata": {},
     "output_type": "execute_result"
    }
   ],
   "source": [
    "verifyMUB(FF[:,2], S1[:,0])"
   ]
  },
  {
   "attachments": {},
   "cell_type": "markdown",
   "metadata": {},
   "source": [
    "The computed Wigner function coincides with Vourdas' calculation and the symplectic transformations do indeed yield MUBs. All good for odd prime dimensions."
   ]
  },
  {
   "cell_type": "markdown",
   "metadata": {},
   "source": []
  }
 ],
 "metadata": {
  "kernelspec": {
   "display_name": "wigner",
   "language": "python",
   "name": "python3"
  },
  "language_info": {
   "codemirror_mode": {
    "name": "ipython",
    "version": 3
   },
   "file_extension": ".py",
   "mimetype": "text/x-python",
   "name": "python",
   "nbconvert_exporter": "python",
   "pygments_lexer": "ipython3",
   "version": "3.10.10"
  },
  "orig_nbformat": 4
 },
 "nbformat": 4,
 "nbformat_minor": 2
}
