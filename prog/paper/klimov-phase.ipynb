{
 "cells": [
  {
   "cell_type": "markdown",
   "id": "093da5ff-201b-488f-aee1-1d5c5c065ef6",
   "metadata": {},
   "source": [
    "Klimov phase."
   ]
  },
  {
   "cell_type": "code",
   "execution_count": 2,
   "id": "da85e0a6-1006-41f2-ac82-3b9d5f194b10",
   "metadata": {},
   "outputs": [],
   "source": [
    "%display latex"
   ]
  },
  {
   "cell_type": "markdown",
   "id": "8d78275a-0fac-4296-bdca-c8c1ff2bbfff",
   "metadata": {},
   "source": [
    "We are going to compute a solution to $$c_{\\kappa+\\alpha, \\mu} c_{\\kappa,\\mu}^* = c_{\\alpha,\\mu} \\chi(\\mu \\alpha \\kappa)$$ for the case of qubits. Klimov fix a basis in the field $GF(2^N)$, say, $\\{\\sigma_j\\}$, such that\n",
    "$$\n",
    "\\alpha = \\sum_j \\alpha_j \\sigma_j, \\quad a_j \\in \\mathbb Z_2.\n",
    "$$"
   ]
  },
  {
   "cell_type": "markdown",
   "id": "0e984255-4b79-4177-aa03-4c2c43d08703",
   "metadata": {},
   "source": [
    "From the recurrence relation and substituting $\\alpha = \\kappa$ we obtain:\n",
    "$$\n",
    "c_{0, \\mu} c_{\\kappa,\\mu}^* = c_{\\kappa,\\mu} \\chi(\\mu \\kappa^2)\n",
    "\\implies\n",
    "c_{\\kappa,\\mu}^2 = \\chi(\\mu \\kappa^2)\n",
    "\\implies\n",
    "c_{\\kappa,\\mu} = \\sqrt{\\chi(\\mu \\kappa^2)}\n",
    "$$\n",
    "We can solve this last equation for the $N$ basis elements $\\kappa = \\sigma_j$. Notice that we have two solutions for each $j$ because of the square root. This means that we have $2^N$ different solutions _sets_ for case $\\alpha = \\kappa$. Once we fix the signs of $c_{\\kappa,\\mu}$ for the basis elements, the rest of the coefficients $c_{\\kappa,\\mu}$ can be found by decomposing any element $\\kappa$ in a linear combination of the $\\sigma_j$. We have:\n",
    "$$\n",
    "\\begin{align*}\n",
    "c_{\\alpha,\\mu} = c_{\\sum_{j=1} a_j \\sigma_j,\\mu}\n",
    "&= c_{a_1 \\sigma_1,\\mu}c_{\\sum_{j=2} a_j \\sigma_j,\\mu}\\chi\\left(\\mu a_1 \\sigma_1 \\sum_{j=2} a_j \\sigma_j\\right) \\\\\n",
    "&= \\chi\\left(\\mu \\sum_{k=1}^{N-1} a_k \\sigma_k \\sum_{j=k+1}^N a_j \\sigma_j\\right) \\Pi_{l=1}^N c_{a_l \\sigma_l, \\mu}.\n",
    "\\end{align*}\n",
    "$$"
   ]
  },
  {
   "cell_type": "markdown",
   "id": "08004510-323d-4044-a328-c3f989dd1637",
   "metadata": {},
   "source": [
    "So the steps are quite simple. Choose a basis, select a sign for each of the $c_{\\sigma_j,\\mu}$ and then simply use this nasty formula to obtain the general solution. Let's verify the procedure with the example $GF(2^2)$."
   ]
  },
  {
   "cell_type": "code",
   "execution_count": 3,
   "id": "8eceae13-e1b3-4f30-b4f8-0f2bdff21e8f",
   "metadata": {},
   "outputs": [],
   "source": [
    "N = 2\n",
    "F = GF(2^N, 'x')\n",
    "x = F.gen()"
   ]
  },
  {
   "cell_type": "code",
   "execution_count": 4,
   "id": "dce22021-bf01-4e6f-b083-97f251305d70",
   "metadata": {},
   "outputs": [],
   "source": [
    "basis = [x, x^2]"
   ]
  },
  {
   "cell_type": "code",
   "execution_count": 11,
   "id": "b8b4a62f-9ed9-4710-94dc-6d7fdf6e4fdb",
   "metadata": {},
   "outputs": [],
   "source": [
    "chi = lambda k: exp(pi * I * int(k.trace()))"
   ]
  },
  {
   "cell_type": "code",
   "execution_count": 15,
   "id": "f9a2de9b-4024-4ca6-b7d2-1d41411b2ad2",
   "metadata": {},
   "outputs": [],
   "source": [
    "y = var('y')"
   ]
  },
  {
   "cell_type": "code",
   "execution_count": 18,
   "id": "537e6a40-c721-42d0-871d-dbd3f9e1d7f0",
   "metadata": {},
   "outputs": [
    {
     "data": {
      "text/html": [
       "<html>\\(\\displaystyle \\left[\\left[y = \\left(-i\\right), y = i\\right], \\left[y = \\left(-i\\right), y = i\\right]\\right]\\)</html>"
      ],
      "text/latex": [
       "$\\displaystyle \\left[\\left[y = \\left(-i\\right), y = i\\right], \\left[y = \\left(-i\\right), y = i\\right]\\right]$"
      ],
      "text/plain": [
       "[[y == -I, y == I], [y == -I, y == I]]"
      ]
     },
     "execution_count": 18,
     "metadata": {},
     "output_type": "execute_result"
    }
   ],
   "source": [
    "mu = x^3\n",
    "[solve([chi(mu * k^2) == y^2], y) for k in basis]"
   ]
  },
  {
   "cell_type": "markdown",
   "id": "aaee66c3-fca8-4e0e-8658-1a293578f80f",
   "metadata": {},
   "source": [
    "We can see we have two choices for $\\kappa = x$, and two choices for $\\kappa = x^2$, therefore we obtain four possible solution sets for the given $\\mu$. The solution for $\\kappa = 0$ is fixed to be $1$ and for the third element of the field $x^3$, we simply apply the ugly formula which we now verify:"
   ]
  },
  {
   "cell_type": "code",
   "execution_count": 24,
   "id": "049dd069-1603-4a34-9264-ee2437e6d44c",
   "metadata": {},
   "outputs": [],
   "source": [
    "components = lambda k: [(k * el).trace() for el in basis]"
   ]
  },
  {
   "cell_type": "code",
   "execution_count": 31,
   "id": "8997888d-278e-49c6-afaf-d0631db0c751",
   "metadata": {},
   "outputs": [
    {
     "data": {
      "text/html": [
       "<html>\\(\\displaystyle 1\\)</html>"
      ],
      "text/latex": [
       "$\\displaystyle 1$"
      ],
      "text/plain": [
       "1"
      ]
     },
     "execution_count": 31,
     "metadata": {},
     "output_type": "execute_result"
    }
   ],
   "source": [
    "basis_sols = [-I, I]\n",
    "coefs = components(x^3)\n",
    "\n",
    "s1 = 0\n",
    "for k in range(N-1):\n",
    "    s2 = sum([coefs[j] * basis[j] for j in range(k+1,N)])\n",
    "    s1 += coefs[k] * basis[k] * s2\n",
    "p1 = 1\n",
    "for sol in basis_sols:\n",
    "    p1 *= sol\n",
    "chi(s1) * p1"
   ]
  },
  {
   "cell_type": "markdown",
   "id": "a34d218c-9796-40f9-a296-8c8fe9966986",
   "metadata": {},
   "source": [
    "Just as in the case of the Carlos Muñoz's solution, we will try to fit the recurrence relation solutions for _curves_ more general than those of straight lines. Klimov states that the regular curves, that is curves of the form $\\beta = f(\\alpha)$ can always be transformed to the horizontal straight line. This is done by a symplectic operators $P_f$ such that\n",
    "$$P_f Z_\\alpha P_f^* \\sim Z_\\alpha X_{f(\\alpha)}.$$\n",
    "This operator is unitary and can be defined as:\n",
    "$$P_f = \\sum_\\kappa c_{\\kappa,f} |\\tilde \\kappa\\rangle \\langle\\tilde \\kappa|,$$\n",
    "where the coefficients $c_{\\kappa,f}$ satisfy the recurrence relation:\n",
    "$$c_{\\kappa,f} c_{\\kappa',f} = \\chi(\\kappa' f(\\kappa)) c_{\\kappa+\\kappa',f}, \\quad c_{0,f} = 1.$$\n",
    "\n",
    "This equation admits several solutions for the qubit case. I tried using Carlos' solution but it wouldn't work. Let us now try Klimov's solution."
   ]
  },
  {
   "cell_type": "markdown",
   "id": "37b086e7-4ca2-4615-a8da-b0aa8a929d8f",
   "metadata": {},
   "source": [
    "Suppose $\\kappa = \\kappa'$. Then\n",
    "$$c_{\\kappa,f}^2 = \\chi(\\kappa f(\\kappa)).$$\n",
    "Let's also assume that $f$ is biyective for the time being. Let us solve this equation for all of the basis elements. The curve in question is given by\n",
    "$$f_\\mu(\\alpha) = \\mu \\alpha + \\alpha^2 + \\alpha^4.$$\n",
    "We are now working with three qubits and so require the Galois field $GF(2^3)$."
   ]
  },
  {
   "cell_type": "code",
   "execution_count": 242,
   "id": "dcbbecac-1011-4624-83fd-7c5f530ed5de",
   "metadata": {},
   "outputs": [],
   "source": [
    "F = GF(2^3, 'x')\n",
    "x = F.gen()\n",
    "\n",
    "y = var('y')"
   ]
  },
  {
   "cell_type": "code",
   "execution_count": 243,
   "id": "c02ce68c-6e14-42f6-8306-f206b1c680cd",
   "metadata": {},
   "outputs": [],
   "source": [
    "basis = [x^3, x^5, x^6]\n",
    "\n",
    "def f(mu):\n",
    "    return lambda k: mu * k + k**2 + k**4"
   ]
  },
  {
   "cell_type": "code",
   "execution_count": 244,
   "id": "4e736389-76cb-4ea1-b8e9-58a842b2c7cb",
   "metadata": {},
   "outputs": [
    {
     "data": {
      "text/html": [
       "<html>\\(\\displaystyle \\left[\\left\\{y : i\\right\\}, \\left\\{y : 1\\right\\}, \\left\\{y : i\\right\\}\\right]\\)</html>"
      ],
      "text/latex": [
       "$\\displaystyle \\left[\\left\\{y : i\\right\\}, \\left\\{y : 1\\right\\}, \\left\\{y : i\\right\\}\\right]$"
      ],
      "text/plain": [
       "[{y: I}, {y: 1}, {y: I}]"
      ]
     },
     "execution_count": 244,
     "metadata": {},
     "output_type": "execute_result"
    }
   ],
   "source": [
    "mu = x\n",
    "sols = []\n",
    "\n",
    "for k in basis:\n",
    "    sol = solve(chi(k * f(mu)(k)) == y^2, y, solution_dict=True)\n",
    "    sols.append(sol[1]) # positive solutions only (choice)\n",
    "\n",
    "sols"
   ]
  },
  {
   "cell_type": "markdown",
   "id": "fd0e9b2f-73f9-4cb2-b44b-10453b76d5a5",
   "metadata": {},
   "source": [
    "Recall the formula used to compute the coefficients for arbitrary elements in the case of straight lines, that is for the map $f(\\alpha) = \\mu \\alpha$:\n",
    "$$\n",
    "c_{\\alpha,\\mu} = c_{\\sum_{j=1} a_j \\sigma_j,\\mu}\n",
    "= \\chi\\left(\\mu \\sum_{k=1}^{N-1} a_k \\sigma_k \\sum_{j=k+1}^N a_j \\sigma_j\\right) \\Pi_{l=1}^N c_{a_l \\sigma_l, \\mu}.\n",
    "$$\n",
    "\n",
    "Let's re-derive the general formula for $c_{\\kappa,f}$. Recall the recurrence relation:\n",
    "$$c_{\\kappa+\\kappa',f} = c_{\\kappa,f} c_{\\kappa',f} \\chi(\\kappa' f(\\kappa)).$$\n",
    "Let $\\alpha = \\sum_j a_j \\sigma_j$, then:\n",
    "$$\n",
    "\\begin{align*}\n",
    "c_{\\alpha,f}\n",
    "&= c_{\\sum_{j=1} a_j \\sigma_j, f} \\\\\n",
    "&= c_{a_1 \\sigma_1, f} c_{\\sum_{j=2} a_j \\sigma_j, f} \\chi\\left[\\left(\\sum_{j=2} a_j \\sigma_j\\right) f(a_1 \\sigma_1)\\right] \\\\\n",
    "&= c_{a_1 \\sigma_1, f} \\left\\{\n",
    "c_{a_2 \\sigma_2, f} c_{\\sum_{j=3} a_j \\sigma_j, f} \\chi\\left[\\left(\\sum_{j=3} a_j \\sigma_j\\right)f(a_2 \\sigma_2)\\right]\n",
    "\\right\\} \\chi\\left[\\left(\\sum_{j=2} a_j \\sigma_j\\right) f(a_1 \\sigma_1)\\right] \\\\\n",
    "&= c_{a_1 \\sigma_1, f}\n",
    "c_{a_2 \\sigma_2, f} c_{\\sum_{j=3} a_j \\sigma_j, f} \n",
    "\\chi\\left[\\left(\\sum_{j=3} a_j \\sigma_j\\right)f(a_2 \\sigma_2) + \\left(\\sum_{j=2} a_j \\sigma_j\\right) f(a_1 \\sigma_1)\\right] \\\\\n",
    "&= c_{a_1 \\sigma_1, f}\n",
    "c_{a_2 \\sigma_2, f} \\left\\{\n",
    "c_{a_3 \\sigma_3, f} c_{\\sum_{j=4} a_j \\sigma_j, f} \n",
    "\\chi\\left[\\left(\\sum_{j=4} a_j \\sigma_j\\right) f(a_3 \\sigma_3)\\right]\n",
    "\\right\\}\n",
    "\\chi\\left[\\left(\\sum_{j=3} a_j \\sigma_j\\right)f(a_2 \\sigma_2) + \\left(\\sum_{j=2} a_j \\sigma_j\\right) f(a_1 \\sigma_1)\\right] \\\\\n",
    "&= c_{a_1 \\sigma_1, f}\n",
    "c_{a_2 \\sigma_2, f} \n",
    "c_{a_3 \\sigma_3, f} c_{\\sum_{j=4} a_j \\sigma_j, f} \n",
    "\\chi\\left[\\left(\\sum_{j=4} a_j \\sigma_j\\right) f(a_3 \\sigma_3) + \\left(\\sum_{j=3} a_j \\sigma_j\\right)f(a_2 \\sigma_2) + \\left(\\sum_{j=2} a_j \\sigma_j\\right) f(a_1 \\sigma_1)\\right] \\\\\n",
    "&= \\prod_{j=1}^N c_{a_j \\sigma_j, f} \\chi\\left[\n",
    "a_N \\sigma_N f(a_{N-1} \\sigma_{N-1}) + \\left(\\sum_{j=N-1}^N a_j \\sigma_j\\right) f(a_{N-2} \\sigma_{N-2}) + \\dots + \\left(\\sum_{j=2} a_j \\sigma_j\\right) f(a_1 \\sigma_1)\n",
    "\\right] \\\\\n",
    "&= \\prod_{l=1}^N c_{a_l \\sigma_l, f} \\chi\\left[\n",
    "\\sum_{k=1}^{N-1} \\left(\\sum_{j=k+1}^N a_j \\sigma_j\\right) f(a_k \\sigma_k)\n",
    "\\right],\n",
    "\\quad a_d \\in \\mathbb Z_2, \\forall d = 1,...,N, \\quad c_{0,f} = 1.\n",
    "\\end{align*}\n",
    "$$"
   ]
  },
  {
   "cell_type": "markdown",
   "id": "3d4be585-5116-4442-8046-e425ef6a39d1",
   "metadata": {},
   "source": [
    "It would probably be cleaner if I did this recursively."
   ]
  },
  {
   "cell_type": "code",
   "execution_count": 245,
   "id": "b3322686-6eb4-4a1f-a964-c5252e0c54ac",
   "metadata": {},
   "outputs": [],
   "source": [
    "def basis_c(a, l, sols):\n",
    "    if a == 0:\n",
    "        return 1\n",
    "    return sols[l][y]"
   ]
  },
  {
   "cell_type": "code",
   "execution_count": 246,
   "id": "fab57cf0-b681-4576-89a6-61a5ac14a376",
   "metadata": {},
   "outputs": [],
   "source": [
    "def solve_basis(basis, curve):\n",
    "    sols = []\n",
    "    for k in basis:\n",
    "        sol = solve(chi(k * curve(k)) == y^2, y, solution_dict=True)\n",
    "        sols.append(sol[1]) # positive solutions only (choice)\n",
    "    return sols"
   ]
  },
  {
   "cell_type": "code",
   "execution_count": 247,
   "id": "82c4b40b-116b-4dde-9420-66c4e466d00b",
   "metadata": {},
   "outputs": [],
   "source": [
    "def c(alpha, curve, sols=None):\n",
    "    if not sols:\n",
    "        sols = solve_basis(basis, curve)\n",
    "    \n",
    "    # Expand alpha in the basis\n",
    "    comps = components(alpha)\n",
    "\n",
    "    # Apply the formula\n",
    "    s1 = 0\n",
    "    for k in range(N-1):\n",
    "        s2 = 0\n",
    "        for j in range(k+1, N):\n",
    "            s2 += comps[j] * basis[j]\n",
    "        s1 += s2 * curve(comps[k] * basis[k])\n",
    "        \n",
    "    return prod([basis_c(a, l, sols) for l, a in enumerate(comps)]) * chi(s1)"
   ]
  },
  {
   "cell_type": "markdown",
   "id": "186b65bb-abd5-4771-b53b-3d36cb0765fe",
   "metadata": {},
   "source": [
    "Let's verify the recurrence relation:"
   ]
  },
  {
   "cell_type": "code",
   "execution_count": 248,
   "id": "05efde35-e058-4d2c-aa3b-4983e9000580",
   "metadata": {},
   "outputs": [],
   "source": [
    "for mu in F:\n",
    "    curve = f(mu)\n",
    "    sols = solve_basis(basis, curve)\n",
    "    for k in F:\n",
    "        for kp in F:\n",
    "            lhs = c(k, curve, sols) * c(kp, curve, sols)\n",
    "            rhs = chi(kp * curve(k)) * c(k + kp, curve, sols)\n",
    "            if lhs != rhs:\n",
    "                raise Exception('Recurrence relation does not hold!', mu)"
   ]
  },
  {
   "cell_type": "markdown",
   "id": "580026d2-986f-4f30-9e37-09f415caf251",
   "metadata": {},
   "source": [
    "The recurrence relation holds for $f_\\mu$! So according to the paper, the $P_f$ operators should transform the standard basis into the curved basis. Before testing them out, we should be able to use this same method to generate the coefficients for $f_\\mu(\\alpha) = \\mu \\alpha$."
   ]
  },
  {
   "cell_type": "code",
   "execution_count": 249,
   "id": "5f551e43-2590-4c55-9d22-255f79326d83",
   "metadata": {},
   "outputs": [],
   "source": [
    "# for f(\\alpha) = \\mu \\alpha\n",
    "for mu in F:\n",
    "    curve = lambda t: mu * t\n",
    "    sols = solve_basis(basis, curve)\n",
    "    for k in F:\n",
    "        for kp in F:\n",
    "            lhs = c(k, curve, sols) * c(kp, curve, sols)\n",
    "            rhs = chi(kp * curve(k)) * c(k + kp, curve, sols)\n",
    "            if lhs != rhs:\n",
    "                raise Exception('Recurrence relation does not hold!', mu)"
   ]
  },
  {
   "cell_type": "markdown",
   "id": "d5fe756a-77ed-4bac-a968-14199cbd52a1",
   "metadata": {},
   "source": [
    "Works as well. But I have now realized that this probably won't work, and basically for the same reason as it doesn't work in the Galois ring construction. This solution requires an explicit solution for the basis and the given curve. That is to say, even when $\\mu \\xi = f_\\mu(\\xi)$, the actual calculation of the coefficients won't be the same as they depend on the curves themselves.\n",
    "\n",
    "For the time being let's calculate the rotation operators for both sets of curves. Recall that:\n",
    "$$\n",
    "P_f = \\sum_\\kappa c_{\\kappa,f} |\\tilde \\kappa\\rangle \\langle \\tilde\\kappa|.\n",
    "$$"
   ]
  },
  {
   "cell_type": "code",
   "execution_count": 156,
   "id": "f7474510-766c-4e35-9102-130ab7d9d7ce",
   "metadata": {},
   "outputs": [],
   "source": [
    "import numpy as np"
   ]
  },
  {
   "cell_type": "code",
   "execution_count": 191,
   "id": "ed37a309-37a2-4c0b-bd88-f4e6d8a87b6f",
   "metadata": {},
   "outputs": [],
   "source": [
    "def Proj(u, v=None):\n",
    "    if not v:\n",
    "        v = u\n",
    "    return np.outer(u, v.conj().T)\n",
    "\n",
    "Id = np.eye(2**N)\n",
    "\n",
    "def Fourier():\n",
    "    s = np.zeros((2**N, 2**N), dtype='complex128')\n",
    "    for i, a in enumerate(F):\n",
    "        for j, b in enumerate(F):\n",
    "            s[i,j] = chi(a * b) / np.sqrt(2**N)\n",
    "    return s\n",
    "FF = Fourier()\n",
    "\n",
    "def Z(a):\n",
    "    return np.diag([chi(a * k) for k in F])\n",
    "\n",
    "def X(b):\n",
    "    return FF.conj().T * Z(b) * FF\n",
    "\n",
    "# def D(a, b, p=1):\n",
    "#     return phi(a, b, p) * Z(a) * X(b)\n",
    "\n",
    "def V(xi, curve=None):\n",
    "    if not curve:\n",
    "        curve = lambda t: xi * t\n",
    "    sols = solve_basis(basis, curve)\n",
    "    \n",
    "    s = np.zeros((2**N, 2**N), dtype='complex128')\n",
    "    for i, k in enumerate(F):\n",
    "        s += complex(c(k, curve, sols)) * Proj(FF[:,i])\n",
    "    return s"
   ]
  },
  {
   "cell_type": "code",
   "execution_count": 250,
   "id": "0c160266-64a8-4672-801b-5ca720017816",
   "metadata": {},
   "outputs": [],
   "source": [
    "mubs306 = [FF] + [V(mu) for mu in F]"
   ]
  },
  {
   "cell_type": "code",
   "execution_count": 203,
   "id": "de1ba358-bea5-4c3e-8ca0-b8f91325dbaa",
   "metadata": {},
   "outputs": [],
   "source": [
    "from utils import checkMUBs"
   ]
  },
  {
   "cell_type": "code",
   "execution_count": 204,
   "id": "48840dbc-fdbd-4b57-89c6-f1dd3da0f70e",
   "metadata": {},
   "outputs": [
    {
     "name": "stdout",
     "output_type": "stream",
     "text": [
      "MUBs are good!\n"
     ]
    }
   ],
   "source": [
    "checkMUBs(mubs306)"
   ]
  },
  {
   "cell_type": "code",
   "execution_count": 251,
   "id": "682b2409-83d3-46d6-b3ea-0a1ff3b2e3b9",
   "metadata": {},
   "outputs": [],
   "source": [
    "mubs162 = [FF] + [V(mu, f(mu)) for mu in F]"
   ]
  },
  {
   "cell_type": "code",
   "execution_count": 206,
   "id": "e83d9e93-5ac6-4486-a63a-9dc315aa2971",
   "metadata": {},
   "outputs": [
    {
     "name": "stdout",
     "output_type": "stream",
     "text": [
      "MUBs are good!\n"
     ]
    }
   ],
   "source": [
    "checkMUBs(mubs162)"
   ]
  },
  {
   "cell_type": "markdown",
   "id": "81c74be4-7af7-4338-a1bc-c14040f8bea6",
   "metadata": {},
   "source": [
    "So now we have to verify that Sainz's formula does not work. The equations we want to verify are equations (40) to (42). Equation (40) gives us\n",
    "$$\n",
    "|\\langle \\psi_{\\mu, \\beta - \\mu \\alpha} | \\psi_\\kappa^{f_\\nu} \\rangle|^2\n",
    "= \\frac{1}{d} \\sum_\\xi c_{\\xi, f_\\nu(\\xi)} c_{\\xi, \\mu\\xi}^* \\chi(\\xi(-\\kappa+\\beta-\\mu\\alpha))\n",
    "\\delta_{\\mu\\xi, f_\\nu(\\xi)}.\n",
    "$$"
   ]
  },
  {
   "cell_type": "code",
   "execution_count": 252,
   "id": "2b7aed9a-253b-495e-ace8-e911ec65fc40",
   "metadata": {},
   "outputs": [
    {
     "data": {
      "text/html": [
       "<html>\\(\\displaystyle 0.24999999999999983\\)</html>"
      ],
      "text/latex": [
       "$\\displaystyle 0.24999999999999983$"
      ],
      "text/plain": [
       "0.24999999999999983"
      ]
     },
     "execution_count": 252,
     "metadata": {},
     "output_type": "execute_result"
    }
   ],
   "source": [
    "np.abs(mubs306[1][:,0].conj().T @ mubs162[1][:,5])**2"
   ]
  },
  {
   "cell_type": "code",
   "execution_count": 253,
   "id": "2fd0ed00-c03e-46bc-b4c4-a2a0150ad49d",
   "metadata": {},
   "outputs": [],
   "source": [
    "def toInt(k):\n",
    "    return list(F).index(k)"
   ]
  },
  {
   "cell_type": "code",
   "execution_count": 256,
   "id": "c41b0c69-ed3f-479c-960a-013ca25ee68f",
   "metadata": {},
   "outputs": [
    {
     "name": "stdout",
     "output_type": "stream",
     "text": [
      "Equation (40) is valid for all (a,b) and all curves!\n"
     ]
    }
   ],
   "source": [
    "# Verification of the equation (40).\n",
    "\n",
    "for s in F: \n",
    "    sols_curve = solve_basis(basis, f(s)) # basis solutions for f\n",
    "    \n",
    "    for mu in F:\n",
    "        sols_line = solve_basis(basis, lambda t: mu * t) # basis sols for lines\n",
    "        \n",
    "        for alpha in F:\n",
    "            for beta in F:\n",
    "                for k in F:    \n",
    "                    nu = beta - mu * alpha\n",
    "    \n",
    "                    psi_mu_nu = mubs306[toInt(mu)+1][:,toInt(nu)]\n",
    "                    psi_f_k = mubs162[toInt(s)+1][:,toInt(k)]\n",
    "    \n",
    "                    inp = abs(psi_mu_nu.conj().T @ psi_f_k)**2\n",
    "    \n",
    "                    ss = 0\n",
    "                    for xi in F:\n",
    "                        c_xif = complex(c(xi, f(s), sols_curve))\n",
    "                        c_ximu = complex(c(xi, lambda t: mu * t, sols_line))\n",
    "                        char = complex(chi(xi * (k + nu)))\n",
    "                        d = int(mu * xi == f(s)(xi))\n",
    "                        ss += c_xif * conjugate(c_ximu) * char * d / (2**N)\n",
    "\n",
    "                    if not np.isclose(inp, ss):\n",
    "                        print(np.round(inp, 3), np.round(ss, 3))\n",
    "                        raise Exception('No equality!', mu, nu, s, k)\n",
    "print('Equation (40) is valid for all (a,b) and all curves!')"
   ]
  },
  {
   "cell_type": "markdown",
   "id": "1ba88fe7-d4a7-4dce-a20a-16607304def6",
   "metadata": {},
   "source": [
    "As expected, equation (40) is valid. And now for the verification of (42):\n",
    "$$\n",
    "\\sum_\\mu |\\langle \\psi_{\\mu, \\beta - \\mu \\alpha} | \\psi_\\kappa^{f_\\nu} \\rangle|^2\n",
    "= 1 + \\frac{1}{d} \\sum_{\\xi \\in F^*} \\chi(\\xi(-\\kappa + \\beta - f_\\nu(\\alpha))),\n",
    "$$"
   ]
  },
  {
   "cell_type": "code",
   "execution_count": 270,
   "id": "a0f2fe26-2b55-4b78-aef8-94bf975ad4bb",
   "metadata": {},
   "outputs": [
    {
     "name": "stdout",
     "output_type": "stream",
     "text": [
      "1.625 (1.875+0j) 0 0\n"
     ]
    },
    {
     "ename": "Exception",
     "evalue": "Sums do not match!",
     "output_type": "error",
     "traceback": [
      "\u001b[0;31m---------------------------------------------------------------------------\u001b[0m",
      "\u001b[0;31mException\u001b[0m                                 Traceback (most recent call last)",
      "Cell \u001b[0;32mIn[270], line 23\u001b[0m\n\u001b[1;32m     21\u001b[0m \u001b[38;5;28;01mif\u001b[39;00m \u001b[38;5;129;01mnot\u001b[39;00m np\u001b[38;5;241m.\u001b[39misclose(inps, s42):\n\u001b[1;32m     22\u001b[0m     \u001b[38;5;28mprint\u001b[39m(np\u001b[38;5;241m.\u001b[39mround(inps, Integer(\u001b[38;5;241m4\u001b[39m)), np\u001b[38;5;241m.\u001b[39mround(s42, Integer(\u001b[38;5;241m4\u001b[39m)), s, k)\n\u001b[0;32m---> 23\u001b[0m     \u001b[38;5;28;01mraise\u001b[39;00m \u001b[38;5;167;01mException\u001b[39;00m(\u001b[38;5;124m'\u001b[39m\u001b[38;5;124mSums do not match!\u001b[39m\u001b[38;5;124m'\u001b[39m)\n",
      "\u001b[0;31mException\u001b[0m: Sums do not match!"
     ]
    }
   ],
   "source": [
    "# Equation (42)\n",
    "\n",
    "alpha = x\n",
    "beta  = x\n",
    "for s in F:\n",
    "    sols_curve = solve_basis(basis, f(s)) # basis solutions for f\n",
    "    for k in F:\n",
    "        inps = 0.0\n",
    "        for mu in F:\n",
    "            nu = beta - mu * alpha\n",
    "            # Inner product sum\n",
    "            psi_mu_nu = mubs306[toInt(mu)+1][:,toInt(nu)]\n",
    "            psi_f_k = mubs162[toInt(s)+1][:,toInt(k)]\n",
    "            inps += np.abs(psi_mu_nu.conj() @ psi_f_k)**2\n",
    "\n",
    "        # Right hand side of (42)\n",
    "        s42 = 1.0\n",
    "        for xi in list(F)[1:]:\n",
    "            s42 += complex(chi(xi * (k + beta + f(s)(alpha)))) / (2**N)\n",
    "    \n",
    "        if not np.isclose(inps, s42):\n",
    "            print(np.round(inps, 4), np.round(s42, 4), s, k)\n",
    "            raise Exception('Sums do not match!')"
   ]
  },
  {
   "cell_type": "markdown",
   "id": "00fd59b8-b4e9-41d2-bab9-6895c0d1a407",
   "metadata": {},
   "source": [
    "Let's write down this particular counter example. First recall that the right hand side of (40) is \n",
    "$$\\sum_\\mu \\left(\\frac{1}{d} \\sum_\\xi c_{\\xi, f_\\nu(\\xi)} c_{\\xi, \\mu\\xi}^* \\chi(\\xi(-\\kappa+\\beta-\\mu\\alpha))\n",
    "\\delta_{\\mu\\xi, f_\\nu(\\xi)}\\right),$$\n",
    "and the right hand side of (42) is given by:\n",
    "$$1 + \\frac{1}{d} \\sum_{\\xi \\in F^*} \\chi(\\xi(-\\kappa + \\beta - f_\\nu(\\alpha)))$$"
   ]
  },
  {
   "cell_type": "markdown",
   "id": "fff5630f-f236-4d1b-abc7-f7f05b4a9182",
   "metadata": {},
   "source": [
    "The faulty step in the proof is summing the first equation over all possible values of $\\mu$. Using the delta function, the only non-zero terms of the sum are when $\\mu \\xi = f_\\nu(\\xi)$, therefore one naively thinks that\n",
    "$$\n",
    "c_{\\xi, f_\\nu(\\xi)} = c_{\\xi, \\mu\\xi}.\n",
    "$$\n",
    "But this is not the case, since the actual _calculation_ of the coefficient depends on the curves, and not only the image of $\\xi$. Let $x$ be the generator of the field $GF(2^3)$ and consider the point $(\\alpha,\\beta) = (x,x)$, along with the curve parameters $\\nu = 0$ and $\\kappa = 0$. We are dealing with the vectors $|\\psi_{\\mu,\\beta-\\mu\\alpha}\\rangle = |\\psi_{0,x}\\rangle$ and $|\\psi_{\\kappa}^{f_\\nu}\\rangle = |\\psi_0^{f_0}\\rangle$."
   ]
  },
  {
   "cell_type": "code",
   "execution_count": 280,
   "id": "4a290b6b-9659-437c-a79d-cc4c833b1b60",
   "metadata": {},
   "outputs": [
    {
     "name": "stdout",
     "output_type": "stream",
     "text": [
      "0 \t 1 \t 1 \t -1\n"
     ]
    }
   ],
   "source": [
    "alpha = x\n",
    "beta = x\n",
    "nu = 0\n",
    "k = 0\n",
    "\n",
    "sols_curve = solve_basis(basis, f(nu))\n",
    "for mu in F:\n",
    "    line = lambda t: mu * t\n",
    "    sols_line = solve_basis(basis, line)\n",
    "    for xi in F:\n",
    "        if mu * xi == f(nu)(xi):\n",
    "            cmu = c(xi, line, sols_line)\n",
    "            cf  = c(xi, f(nu), sols_curve)\n",
    "            if cmu != cf:\n",
    "                print(mu, '\\t', xi, '\\t', cmu, '\\t', cf)"
   ]
  },
  {
   "cell_type": "markdown",
   "id": "5eae435d-4afb-4860-9746-40b9871f36ac",
   "metadata": {},
   "source": [
    "Notice that for $\\mu = 0$ and $\\xi = 1$, we have $\\mu \\xi = 0$ and $f_0(\\xi) = \\xi^2 + \\xi^4 = 0$, and so $\\delta_{\\mu\\xi, f_0(\\xi)} = 1$. But for the rotation coefficients we obtain:"
   ]
  },
  {
   "cell_type": "markdown",
   "id": "791bd9d6-1e88-431c-8c7e-b70068a5ba58",
   "metadata": {},
   "source": [
    "$$\n",
    "\\begin{align*}\n",
    "c_{1,0}\n",
    "&= \\chi\\left(0 \\cdot\\sum_{k=1}^{N-1} a_k \\sigma_k \\sum_{j=k+1}^N a_j \\sigma_j\\right) \\prod_{l=1}^N c_{a_l \\sigma_l, 0} \\\\\n",
    "&= \\prod_{l=1}^N c_{a_l \\sigma_l, 0}, \\quad a_l = Tr(1 \\cdot \\sigma_l).\n",
    "\\end{align*}\n",
    "$$"
   ]
  },
  {
   "cell_type": "code",
   "execution_count": 281,
   "id": "c46506a3-9ffd-43d8-ac71-59af12afc1c4",
   "metadata": {},
   "outputs": [
    {
     "data": {
      "text/html": [
       "<html>\\(\\displaystyle \\left[1, 1, 1\\right]\\)</html>"
      ],
      "text/latex": [
       "$\\displaystyle \\left[1, 1, 1\\right]$"
      ],
      "text/plain": [
       "[1, 1, 1]"
      ]
     },
     "execution_count": 281,
     "metadata": {},
     "output_type": "execute_result"
    }
   ],
   "source": [
    "components(F(1))"
   ]
  },
  {
   "cell_type": "markdown",
   "id": "d55b78fd-c26d-40f1-a074-b7e95f73ac8f",
   "metadata": {},
   "source": [
    "En la base elegida $\\xi = x^3 + x^5 + x^6$, es decir, $a_l = 1$ para todo $l$."
   ]
  },
  {
   "cell_type": "code",
   "execution_count": 282,
   "id": "d6aa2275-1b4b-467b-b542-0824a98c3077",
   "metadata": {},
   "outputs": [
    {
     "data": {
      "text/html": [
       "<html>\\(\\displaystyle \\left[\\left\\{y : 1\\right\\}, \\left\\{y : 1\\right\\}, \\left\\{y : 1\\right\\}\\right]\\)</html>"
      ],
      "text/latex": [
       "$\\displaystyle \\left[\\left\\{y : 1\\right\\}, \\left\\{y : 1\\right\\}, \\left\\{y : 1\\right\\}\\right]$"
      ],
      "text/plain": [
       "[{y: 1}, {y: 1}, {y: 1}]"
      ]
     },
     "execution_count": 282,
     "metadata": {},
     "output_type": "execute_result"
    }
   ],
   "source": [
    "solve_basis(basis, lambda t: F(0) * t)"
   ]
  },
  {
   "cell_type": "markdown",
   "id": "09e48f00-8669-4f49-b64d-9d08846df4b8",
   "metadata": {},
   "source": [
    "Las soluciones para la base y la recta parametrizada por $\\mu = 0$ es, (elegiendo las raíces positivas), $c_{x^3,0} = c_{x^5,0} = c_{x^6,0} = 1$. Por lo tanto\n",
    "$$\n",
    "\\prod_{l=1}^3 c_{a_l \\sigma_l,0}\n",
    "= c_{\\sigma_1,0} \\cdot c_{\\sigma_2,0} \\cdot c_{\\sigma_3,0}\n",
    "= c_{x^3,0} \\cdot c_{x^5,0} \\cdot c_{x^6,0}\n",
    "= 1.\n",
    "$$"
   ]
  },
  {
   "cell_type": "markdown",
   "id": "7307f40a-5f79-4e28-94d0-b8b3df4335f4",
   "metadata": {},
   "source": [
    "We now calculate $c_{1,f_0}$ choosing the same signs for the basis solutions.\n",
    "$$\n",
    "\\begin{align*}\n",
    "c_{1,f_0}\n",
    "&= \\prod_{l=1}^N c_{a_l \\sigma_l, f} \\chi\\left[\n",
    "\\sum_{k=1}^{N-1} \\left(\\sum_{j=k+1}^N a_j \\sigma_j\\right) f_0(a_k \\sigma_k)\n",
    "\\right], \\quad c_{0,f} = 1.\n",
    "\\end{align*}\n",
    "$$"
   ]
  },
  {
   "cell_type": "code",
   "execution_count": 287,
   "id": "2f7a30ab-f4f8-4080-8ac8-f71f3ddedb34",
   "metadata": {},
   "outputs": [
    {
     "data": {
      "text/html": [
       "<html>\\(\\displaystyle \\left[\\left\\{y : 1\\right\\}, \\left\\{y : 1\\right\\}, \\left\\{y : 1\\right\\}\\right]\\)</html>"
      ],
      "text/latex": [
       "$\\displaystyle \\left[\\left\\{y : 1\\right\\}, \\left\\{y : 1\\right\\}, \\left\\{y : 1\\right\\}\\right]$"
      ],
      "text/plain": [
       "[{y: 1}, {y: 1}, {y: 1}]"
      ]
     },
     "execution_count": 287,
     "metadata": {},
     "output_type": "execute_result"
    }
   ],
   "source": [
    "solve_basis(basis, f(F(0)))"
   ]
  },
  {
   "cell_type": "markdown",
   "id": "f24d265a-c9ae-45a9-b4b1-b6e2550553a0",
   "metadata": {},
   "source": [
    "Therefore $\\prod_{l=1}^N c_{a_l\\sigma_l,f} = 1$. On the other hand:"
   ]
  },
  {
   "cell_type": "code",
   "execution_count": 291,
   "id": "37a11908-b2c3-4c1f-b782-24f5d893d95b",
   "metadata": {},
   "outputs": [
    {
     "data": {
      "text/html": [
       "<html>\\(\\displaystyle \\left[x, x^{2} + x, x^{2}\\right]\\)</html>"
      ],
      "text/latex": [
       "$\\displaystyle \\left[x, x^{2} + x, x^{2}\\right]$"
      ],
      "text/plain": [
       "[x, x^2 + x, x^2]"
      ]
     },
     "execution_count": 291,
     "metadata": {},
     "output_type": "execute_result"
    }
   ],
   "source": [
    "[f(F(0))(k) for k in basis]"
   ]
  },
  {
   "cell_type": "markdown",
   "id": "1c8bab87-cec0-4d98-999c-db49d0f3b84b",
   "metadata": {},
   "source": [
    "And the argument of $\\chi$ can be easily calculated:\n",
    "$$\n",
    "\\begin{align*}\n",
    "\\sum_{k=1}^{2} \\left(\\sum_{j=k+1}^3 a_j \\sigma_j\\right) f_0(a_k \\sigma_k)\n",
    "&= \\left(\\sum_{j=2}^3 a_j \\sigma_j\\right) f_0(a_1 \\sigma_1) + \n",
    "\\left(\\sum_{j=3}^3 a_3 \\sigma_3\\right) f_0(a_2 \\sigma_2) \\\\\n",
    "&= \\left(a_2 \\sigma_2 + a_3 \\sigma_3\\right) f_0(a_1 \\sigma_1) + \n",
    "\\left(a_3 \\sigma_3\\right) f_0(a_2 \\sigma_2) \\\\\n",
    "&= (1 \\cdot x^5 + 1 \\cdot x^6) x + (1 \\cdot x^6)(x^2+x) \\\\\n",
    "&= x^6 + x^7 + x^8 + x^7 \\\\\n",
    "&= x^6 + x^8 \\\\\n",
    "&= x^2 + x + 1 \\\\\n",
    "&= x^5.\n",
    "\\end{align*}\n",
    "$$"
   ]
  },
  {
   "cell_type": "code",
   "execution_count": 297,
   "id": "6df3fb6a-d35d-43bf-bab3-c5131df5db4f",
   "metadata": {},
   "outputs": [
    {
     "data": {
      "text/html": [
       "<html>\\(\\displaystyle -1\\)</html>"
      ],
      "text/latex": [
       "$\\displaystyle -1$"
      ],
      "text/plain": [
       "-1"
      ]
     },
     "execution_count": 297,
     "metadata": {},
     "output_type": "execute_result"
    }
   ],
   "source": [
    "chi(x^5)"
   ]
  },
  {
   "cell_type": "markdown",
   "id": "7d53cc6c-db04-45fb-8d5d-7bfc58648336",
   "metadata": {},
   "source": [
    "But $\\chi(x^5) = -1$, so $c_{1,f_0} = (1)(-1) = -1 \\neq 1 = c_{1,0}$!"
   ]
  },
  {
   "cell_type": "markdown",
   "id": "408ec7e7-a4c6-4d6d-9b83-193bc538c628",
   "metadata": {},
   "source": [
    "---\n",
    "\n",
    "Now let's try something different. In the 2017 paper, Klimov states that the MUBs with factorization $(1,6,2)$ can be obtained _from_ the standard one by means of a transformation $P_f$, with the curve $f(\\alpha) = \\alpha + \\alpha^2 + \\alpha^4$. This corresponds to our curve $f_1$. Before trying anything else, let's see if we can obtain valid MUBs."
   ]
  },
  {
   "cell_type": "code",
   "execution_count": 299,
   "id": "d00d1781-04b2-4d45-94c1-62ad091c748d",
   "metadata": {},
   "outputs": [],
   "source": [
    "Pf = V(F(1), f(F(1)))"
   ]
  },
  {
   "cell_type": "code",
   "execution_count": 309,
   "id": "17b4d177-fcc5-4026-a855-94f955be45ca",
   "metadata": {},
   "outputs": [],
   "source": [
    "mubs162_2 = [mubs306[0]] + [Pf @ mubs306[j] for j in range(1, 2**N+1)]"
   ]
  },
  {
   "cell_type": "code",
   "execution_count": 311,
   "id": "1e4a5489-a42c-4ec7-b996-c28f4e81fe15",
   "metadata": {},
   "outputs": [
    {
     "name": "stdout",
     "output_type": "stream",
     "text": [
      "MUBs are good!\n"
     ]
    }
   ],
   "source": [
    "checkMUBs(mubs162_2)"
   ]
  },
  {
   "cell_type": "code",
   "execution_count": 320,
   "id": "7220d69b-8144-4e49-aa84-3c7b76289eec",
   "metadata": {},
   "outputs": [],
   "source": [
    "def Wootters(a, b):\n",
    "    op = Proj(FF[:, toInt(a)])\n",
    "    for xi in F:\n",
    "        for nu in F:\n",
    "            d = int(b == xi * a + nu)\n",
    "            v = mubs306[toInt(xi)+1][:, toInt(nu)]\n",
    "            op += d * Proj(v)\n",
    "    return op - Id\n",
    "\n",
    "def Wigner(state, a, b):\n",
    "    return (state @ Wootters(a, b)).trace()\n",
    "\n",
    "def WignerMatrix(state):    \n",
    "    W = np.zeros((2**N, 2**N), dtype='float64')\n",
    "    for i, a in enumerate(F):\n",
    "        for j, b in enumerate(F):\n",
    "            W[i, j] = real(\n",
    "                Wigner(state, a, b)\n",
    "            ) / 2**N\n",
    "    return W\n",
    "\n",
    "def WW(state, rnd=True):\n",
    "    return np.round(WignerMatrix(state), 3)"
   ]
  },
  {
   "cell_type": "code",
   "execution_count": 336,
   "id": "84cebcde-51fc-4a68-ab06-20616d17ad95",
   "metadata": {},
   "outputs": [
    {
     "data": {
      "text/html": [
       "<html>\\(\\displaystyle \\begin{array}{l}\n",
       "\\verb|[[|\\verb| |\\verb|0.031|\\verb| |\\verb|-0.031|\\verb|  |\\verb|0.031|\\verb|  |\\verb|0.031|\\verb|  |\\verb|0.094|\\verb|  |\\verb|0.031|\\verb| |\\verb|-0.031|\\verb| |\\verb|-0.031]|\\\\\n",
       "\\verb| |\\verb|[|\\verb| |\\verb|0.031|\\verb| |\\verb|-0.031|\\verb|  |\\verb|0.031|\\verb|  |\\verb|0.031|\\verb| |\\verb|-0.031|\\verb|  |\\verb|0.031|\\verb| |\\verb|-0.031|\\verb|  |\\verb|0.094]|\\\\\n",
       "\\verb| |\\verb|[-0.031|\\verb|  |\\verb|0.031|\\verb| |\\verb|-0.031|\\verb|  |\\verb|0.094|\\verb|  |\\verb|0.031|\\verb| |\\verb|-0.031|\\verb|  |\\verb|0.031|\\verb|  |\\verb|0.031]|\\\\\n",
       "\\verb| |\\verb|[|\\verb| |\\verb|0.031|\\verb| |\\verb|-0.031|\\verb|  |\\verb|0.031|\\verb|  |\\verb|0.031|\\verb|  |\\verb|0.094|\\verb|  |\\verb|0.031|\\verb| |\\verb|-0.031|\\verb| |\\verb|-0.031]|\\\\\n",
       "\\verb| |\\verb|[-0.031|\\verb|  |\\verb|0.031|\\verb|  |\\verb|0.094|\\verb| |\\verb|-0.031|\\verb|  |\\verb|0.031|\\verb| |\\verb|-0.031|\\verb|  |\\verb|0.031|\\verb|  |\\verb|0.031]|\\\\\n",
       "\\verb| |\\verb|[-0.031|\\verb|  |\\verb|0.031|\\verb| |\\verb|-0.031|\\verb|  |\\verb|0.094|\\verb|  |\\verb|0.031|\\verb| |\\verb|-0.031|\\verb|  |\\verb|0.031|\\verb|  |\\verb|0.031]|\\\\\n",
       "\\verb| |\\verb|[-0.031|\\verb|  |\\verb|0.031|\\verb|  |\\verb|0.094|\\verb| |\\verb|-0.031|\\verb|  |\\verb|0.031|\\verb| |\\verb|-0.031|\\verb|  |\\verb|0.031|\\verb|  |\\verb|0.031]|\\\\\n",
       "\\verb| |\\verb|[|\\verb| |\\verb|0.031|\\verb| |\\verb|-0.031|\\verb|  |\\verb|0.031|\\verb|  |\\verb|0.031|\\verb| |\\verb|-0.031|\\verb|  |\\verb|0.031|\\verb| |\\verb|-0.031|\\verb|  |\\verb|0.094]]|\n",
       "\\end{array}\\)</html>"
      ],
      "text/latex": [
       "$\\displaystyle \\begin{array}{l}\n",
       "\\verb|[[|\\verb| |\\verb|0.031|\\verb| |\\verb|-0.031|\\verb|  |\\verb|0.031|\\verb|  |\\verb|0.031|\\verb|  |\\verb|0.094|\\verb|  |\\verb|0.031|\\verb| |\\verb|-0.031|\\verb| |\\verb|-0.031]|\\\\\n",
       "\\verb| |\\verb|[|\\verb| |\\verb|0.031|\\verb| |\\verb|-0.031|\\verb|  |\\verb|0.031|\\verb|  |\\verb|0.031|\\verb| |\\verb|-0.031|\\verb|  |\\verb|0.031|\\verb| |\\verb|-0.031|\\verb|  |\\verb|0.094]|\\\\\n",
       "\\verb| |\\verb|[-0.031|\\verb|  |\\verb|0.031|\\verb| |\\verb|-0.031|\\verb|  |\\verb|0.094|\\verb|  |\\verb|0.031|\\verb| |\\verb|-0.031|\\verb|  |\\verb|0.031|\\verb|  |\\verb|0.031]|\\\\\n",
       "\\verb| |\\verb|[|\\verb| |\\verb|0.031|\\verb| |\\verb|-0.031|\\verb|  |\\verb|0.031|\\verb|  |\\verb|0.031|\\verb|  |\\verb|0.094|\\verb|  |\\verb|0.031|\\verb| |\\verb|-0.031|\\verb| |\\verb|-0.031]|\\\\\n",
       "\\verb| |\\verb|[-0.031|\\verb|  |\\verb|0.031|\\verb|  |\\verb|0.094|\\verb| |\\verb|-0.031|\\verb|  |\\verb|0.031|\\verb| |\\verb|-0.031|\\verb|  |\\verb|0.031|\\verb|  |\\verb|0.031]|\\\\\n",
       "\\verb| |\\verb|[-0.031|\\verb|  |\\verb|0.031|\\verb| |\\verb|-0.031|\\verb|  |\\verb|0.094|\\verb|  |\\verb|0.031|\\verb| |\\verb|-0.031|\\verb|  |\\verb|0.031|\\verb|  |\\verb|0.031]|\\\\\n",
       "\\verb| |\\verb|[-0.031|\\verb|  |\\verb|0.031|\\verb|  |\\verb|0.094|\\verb| |\\verb|-0.031|\\verb|  |\\verb|0.031|\\verb| |\\verb|-0.031|\\verb|  |\\verb|0.031|\\verb|  |\\verb|0.031]|\\\\\n",
       "\\verb| |\\verb|[|\\verb| |\\verb|0.031|\\verb| |\\verb|-0.031|\\verb|  |\\verb|0.031|\\verb|  |\\verb|0.031|\\verb| |\\verb|-0.031|\\verb|  |\\verb|0.031|\\verb| |\\verb|-0.031|\\verb|  |\\verb|0.094]]|\n",
       "\\end{array}$"
      ],
      "text/plain": [
       "array([[ 0.031, -0.031,  0.031,  0.031,  0.094,  0.031, -0.031, -0.031],\n",
       "       [ 0.031, -0.031,  0.031,  0.031, -0.031,  0.031, -0.031,  0.094],\n",
       "       [-0.031,  0.031, -0.031,  0.094,  0.031, -0.031,  0.031,  0.031],\n",
       "       [ 0.031, -0.031,  0.031,  0.031,  0.094,  0.031, -0.031, -0.031],\n",
       "       [-0.031,  0.031,  0.094, -0.031,  0.031, -0.031,  0.031,  0.031],\n",
       "       [-0.031,  0.031, -0.031,  0.094,  0.031, -0.031,  0.031,  0.031],\n",
       "       [-0.031,  0.031,  0.094, -0.031,  0.031, -0.031,  0.031,  0.031],\n",
       "       [ 0.031, -0.031,  0.031,  0.031, -0.031,  0.031, -0.031,  0.094]])"
      ]
     },
     "execution_count": 336,
     "metadata": {},
     "output_type": "execute_result"
    }
   ],
   "source": [
    "WW(Proj(mubs162_2[5][:,5]))"
   ]
  },
  {
   "cell_type": "code",
   "execution_count": 348,
   "id": "792b5bb9-bf3f-411c-91f9-1d23d492d7b5",
   "metadata": {},
   "outputs": [
    {
     "data": {
      "text/html": [
       "<html>\\(\\displaystyle \\mathrm{True}\\)</html>"
      ],
      "text/latex": [
       "$\\displaystyle \\mathrm{True}$"
      ],
      "text/plain": [
       "True"
      ]
     },
     "execution_count": 348,
     "metadata": {},
     "output_type": "execute_result"
    }
   ],
   "source": [
    "np.allclose(Pf @ Pf.conj().T, Id)"
   ]
  },
  {
   "cell_type": "code",
   "execution_count": 349,
   "id": "fa777f19-f654-4045-a814-fb1a73e9239b",
   "metadata": {},
   "outputs": [
    {
     "data": {
      "text/html": [
       "<html>\\(\\displaystyle 1.0\\)</html>"
      ],
      "text/latex": [
       "$\\displaystyle 1.0$"
      ],
      "text/plain": [
       "1.0"
      ]
     },
     "execution_count": 349,
     "metadata": {},
     "output_type": "execute_result"
    }
   ],
   "source": [
    "np.sum(WW(Proj(mubs162_2[5][:,5])))"
   ]
  },
  {
   "cell_type": "code",
   "execution_count": null,
   "id": "3ae810f8-4152-4890-8fd5-1cc67f89c298",
   "metadata": {},
   "outputs": [],
   "source": []
  }
 ],
 "metadata": {
  "kernelspec": {
   "display_name": "SageMath 9.8",
   "language": "sage",
   "name": "sagemath"
  },
  "language_info": {
   "codemirror_mode": {
    "name": "ipython",
    "version": 3
   },
   "file_extension": ".py",
   "mimetype": "text/x-python",
   "name": "python",
   "nbconvert_exporter": "python",
   "pygments_lexer": "ipython3",
   "version": "3.9.16"
  }
 },
 "nbformat": 4,
 "nbformat_minor": 5
}
