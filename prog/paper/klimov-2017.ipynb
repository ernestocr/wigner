{
 "cells": [
  {
   "cell_type": "code",
   "execution_count": 2,
   "id": "d76f1f63-ed48-4560-a323-8f9e3b3137e8",
   "metadata": {},
   "outputs": [],
   "source": [
    "%display latex"
   ]
  },
  {
   "cell_type": "markdown",
   "id": "8448aec1-9406-4c72-a796-5c337f3a3fb7",
   "metadata": {},
   "source": [
    "### Discrete phase-space structures and Wigner functions for N qubits\n",
    "\n",
    "We are going to use the direct solution for the rotation operator coefficients to compute the standard $(3,0,6)$ MUBs and the $(1,6,2)$ MUBs. We will do it in the same way as the example that the authors use so as to avoid _any_ discrepency."
   ]
  },
  {
   "cell_type": "markdown",
   "id": "b293a070-91e5-4375-9bd8-241045857175",
   "metadata": {},
   "source": [
    "To start off, we recall that the rotation operators for the rays $\\beta = \\mu \\alpha$ are computed from the a set of coefficients which satisfy the following recurrence relation\n",
    "$$c_{\\kappa+\\alpha, \\mu} c_{\\kappa,\\mu}^* = c_{\\alpha,\\mu} \\chi(\\mu \\alpha \\kappa).$$\n",
    "\n",
    "This equation does not have a unique solution for the case of qubits, so what the authors do is to first fix a basis in the field $GF(2^N)$, say, $\\{\\sigma_j\\}$, such that $\\alpha = \\sum_j a_j \\sigma_j$ where  $a_j \\in \\mathbb Z_2.$"
   ]
  },
  {
   "cell_type": "markdown",
   "id": "87e5520c-449a-4e93-b1f2-5110f642f521",
   "metadata": {},
   "source": [
    "Then substituting $\\alpha = \\kappa$ in the recurrence relation we obtain:\n",
    "$$\n",
    "c_{0, \\mu} c_{\\kappa,\\mu}^* = c_{\\kappa,\\mu} \\chi(\\mu \\kappa^2)\n",
    "\\implies\n",
    "c_{\\kappa,\\mu}^2 = \\chi(\\mu \\kappa^2)\n",
    "\\implies\n",
    "c_{\\kappa,\\mu} = \\sqrt{\\chi(\\mu \\kappa^2)}\n",
    "$$\n",
    "\n",
    "We can solve this last equation for the $N$ basis elements $\\kappa = \\sigma_j$. Notice that we have two solutions for each $j$ because of the square root. This means that we have $2^N$ different solutions _sets_ for case $\\alpha = \\kappa$. Once we **fix** the signs of $c_{\\kappa,\\mu}$ for the basis elements, the rest of the coefficients $c_{\\kappa,\\mu}$ can be found by decomposing any element $\\kappa$ in a linear combination of the $\\sigma_j$ and applying the recurrence relation:\n",
    "$$\n",
    "\\begin{align*}\n",
    "c_{\\alpha,\\mu} = c_{\\sum_{j=1} a_j \\sigma_j,\\mu}\n",
    "&= c_{a_1 \\sigma_1,\\mu}c_{\\sum_{j=2} a_j \\sigma_j,\\mu}\\chi\\left(\\mu a_1 \\sigma_1 \\sum_{j=2} a_j \\sigma_j\\right) \\\\\n",
    "&= \\chi\\left(\\mu \\sum_{k=1}^{N-1} a_k \\sigma_k \\sum_{j=k+1}^N a_j \\sigma_j\\right) \\Pi_{l=1}^N c_{a_l \\sigma_l, \\mu}.\n",
    "\\end{align*}\n",
    "$$"
   ]
  },
  {
   "cell_type": "markdown",
   "id": "e6303a82-7aeb-4cf0-9609-a4bb6be9393c",
   "metadata": {},
   "source": [
    "The same solution method can be used for _curves_ more general than those of straight lines. The authors state that the regular curves, that is curves of the form $\\beta = f(\\alpha)$ can always be transformed to the horizontal straight line. This is done by a symplectic operator $P_f$ such that\n",
    "$$P_f Z_\\alpha P_f^* \\sim Z_\\alpha X_{f(\\alpha)}.$$\n",
    "This operator is unitary and can be defined as:\n",
    "$$P_f = \\sum_\\kappa c_{\\kappa,f} |\\tilde \\kappa\\rangle \\langle\\tilde \\kappa|,$$\n",
    "where the coefficients $c_{\\kappa,f}$ satisfy the recurrence relation:\n",
    "$$c_{\\kappa,f} c_{\\kappa',f} = \\chi(\\kappa' f(\\kappa)) c_{\\kappa+\\kappa',f}, \\quad c_{0,f} = 1.$$"
   ]
  },
  {
   "cell_type": "markdown",
   "id": "5e7060f7-e0aa-49df-b8d1-0e7cc26f2609",
   "metadata": {},
   "source": [
    "Suppose $\\kappa = \\kappa'$. Then we have a similar non-uniquely solvable equation:\n",
    "$$\n",
    "c_{\\kappa,f}^2 = \\chi(\\kappa f(\\kappa))\n",
    "\\implies\n",
    "c_{\\kappa,f} = \\sqrt{\\chi(\\kappa f(\\kappa))}.\n",
    "$$"
   ]
  },
  {
   "cell_type": "markdown",
   "id": "99a11c07-d4e2-4a53-b8aa-a8c472b0f7ce",
   "metadata": {},
   "source": [
    "Let's re-derive the general formula for $c_{\\alpha,f}$. Let $\\alpha = \\sum_j a_j \\sigma_j$, then, after fixing a solution for the whole basis set, $\\{c_{\\sigma_j,f} : j = 1,...,N\\}$, we obtain:\n",
    "$$\n",
    "\\begin{align*}\n",
    "c_{\\alpha,f}\n",
    "&= c_{\\sum_{j=1} a_j \\sigma_j, f} \\\\\n",
    "&= c_{a_1 \\sigma_1, f} c_{\\sum_{j=2} a_j \\sigma_j, f} \\chi\\left[\\left(\\sum_{j=2} a_j \\sigma_j\\right) f(a_1 \\sigma_1)\\right] \\\\\n",
    "%&= c_{a_1 \\sigma_1, f} \\left\\{\n",
    "%c_{a_2 \\sigma_2, f} c_{\\sum_{j=3} a_j \\sigma_j, f} \\chi\\left[\\left(\\sum_{j=3} a_j \\sigma_j\\right)f(a_2 \\sigma_2)\\right]\n",
    "%\\right\\} \\chi\\left[\\left(\\sum_{j=2} a_j \\sigma_j\\right) f(a_1 \\sigma_1)\\right] \\\\\n",
    "&= c_{a_1 \\sigma_1, f}\n",
    "c_{a_2 \\sigma_2, f} c_{\\sum_{j=3} a_j \\sigma_j, f} \n",
    "\\chi\\left[\\left(\\sum_{j=3} a_j \\sigma_j\\right)f(a_2 \\sigma_2) + \\left(\\sum_{j=2} a_j \\sigma_j\\right) f(a_1 \\sigma_1)\\right] \\\\\n",
    "%&= c_{a_1 \\sigma_1, f}\n",
    "%c_{a_2 \\sigma_2, f} \\left\\{\n",
    "%c_{a_3 \\sigma_3, f} c_{\\sum_{j=4} a_j \\sigma_j, f} \n",
    "%\\chi\\left[\\left(\\sum_{j=4} a_j \\sigma_j\\right) f(a_3 \\sigma_3)\\right]\n",
    "%\\right\\}\n",
    "%\\chi\\left[\\left(\\sum_{j=3} a_j \\sigma_j\\right)f(a_2 \\sigma_2) + \\left(\\sum_{j=2} a_j \\sigma_j\\right) f(a_1 \\sigma_1)\\right] \\\\\n",
    "%&= c_{a_1 \\sigma_1, f}\n",
    "%c_{a_2 \\sigma_2, f} \n",
    "%c_{a_3 \\sigma_3, f} c_{\\sum_{j=4} a_j \\sigma_j, f} \n",
    "%\\chi\\left[\\left(\\sum_{j=4} a_j \\sigma_j\\right) f(a_3 \\sigma_3) + \\left(\\sum_{j=3} a_j \\sigma_j%\\right)f(a_2 \\sigma_2) + \\left(\\sum_{j=2} a_j \\sigma_j\\right) f(a_1 \\sigma_1)\\right] \\\\\n",
    "&= \\prod_{j=1}^N c_{a_j \\sigma_j, f} \\chi\\left[\n",
    "a_N \\sigma_N f(a_{N-1} \\sigma_{N-1}) + \\left(\\sum_{j=N-1}^N a_j \\sigma_j\\right) f(a_{N-2} \\sigma_{N-2}) + \\dots + \\left(\\sum_{j=2} a_j \\sigma_j\\right) f(a_1 \\sigma_1)\n",
    "\\right] \\\\\n",
    "&= \\prod_{l=1}^N c_{a_l \\sigma_l, f} \\chi\\left[\n",
    "\\sum_{k=1}^{N-1} \\left(\\sum_{j=k+1}^N a_j \\sigma_j\\right) f(a_k \\sigma_k)\n",
    "\\right],\n",
    "\\quad c_{0,f} = 1.\n",
    "\\end{align*}\n",
    "$$"
   ]
  },
  {
   "cell_type": "markdown",
   "id": "4988678c-b937-4d52-95cc-98605596ef91",
   "metadata": {},
   "source": [
    "The solution is very similar to the ray coefficients, just the slope $\\mu$ doesn't factor out and we must calculate the $f(a_k \\sigma_k)$ individually. \n",
    "\n",
    "So now we know how to calculate the rotation operator coefficients for the rays and for any appropriate curve $f$. As long as the coefficients satisfy the recurrence relation, the Wigner function will satisfy the tomographic property."
   ]
  },
  {
   "cell_type": "markdown",
   "id": "a0d117a8-1f40-472c-98df-26dc3e4c21fe",
   "metadata": {},
   "source": [
    "To obtain the standard set of MUBs, all we have to do is apply the rotation operators (parametrized by some $\\lambda$) to the computational basis, i.e., \n",
    "$$|\\psi_{\\lambda,\\kappa}\\rangle = P_{f=\\lambda \\alpha} |\\kappa\\rangle.$$\n",
    "\n",
    "This means that we must construct $2^N$ rotation operators to obtain the complete set of standard MUBs."
   ]
  },
  {
   "cell_type": "markdown",
   "id": "1b506b07-50a6-4306-8b54-854585361ed4",
   "metadata": {},
   "source": [
    "The authors state that we can actually obtain sets of MUBs corresponding to curves directly from the standard set, by applying a single rotation operator $P_f$. These rotated bases naturally preserve the unbiasedness of the standard set:\n",
    "$$\n",
    "|\\psi_{\\lambda, \\kappa}^f\\rangle\n",
    "= P_f |\\psi_{\\lambda, \\kappa}\\rangle,\n",
    "\\quad\n",
    "|\\tilde\\kappa^f\\rangle = P_f |\\tilde \\kappa\\rangle.\n",
    "$$\n",
    "It is stated that the states $|\\psi_{\\lambda, \\kappa}^f\\rangle$ are the eigenstates of commuting sets $\\{Z_\\tau X_{\\lambda \\tau + f(\\tau)}\\}$ while $|\\tilde\\kappa^f\\rangle$ are the eigenstates of $X_{\\kappa}$, so the Fourier matrix (or scalar-multiple of) should still be a member of the rotated MUBs."
   ]
  },
  {
   "cell_type": "markdown",
   "id": "2f69a5f6-d486-41ee-909c-348bcc348ab0",
   "metadata": {},
   "source": [
    "Now we move onto the examples. The authors calculate Wigner functions for four distinct sets of MUBs, the distinction is in the factorization properties. The $(1,6,2)$ factorization can be obtained by a single rotation $P_f$ using the curve $f(\\alpha) = \\alpha + \\alpha^2 + \\alpha^4$. For an explicit construction of the rotation operators the authors chose the particular solution where the coefficients corresponding to the basis are all positive, $c_{\\sigma_j, f} = + \\sqrt{\\chi(\\sigma_j f(\\sigma_j))}$."
   ]
  },
  {
   "cell_type": "markdown",
   "id": "28b581b8-b4fb-495f-8dc6-a31ac2124e71",
   "metadata": {},
   "source": [
    "Let's setup of the system of three qubits."
   ]
  },
  {
   "cell_type": "code",
   "execution_count": 3,
   "id": "21850d61-9b28-4bca-bf77-3a2b9331ad17",
   "metadata": {},
   "outputs": [],
   "source": [
    "N = 3\n",
    "F = GF(2^3, 'x')\n",
    "x = F.gen()"
   ]
  },
  {
   "cell_type": "code",
   "execution_count": 4,
   "id": "320b53b1-5c97-4c84-9421-e80b25a72b82",
   "metadata": {},
   "outputs": [],
   "source": [
    "basis = [x^3, x^5, x^6] # self-dual basis"
   ]
  },
  {
   "cell_type": "code",
   "execution_count": 5,
   "id": "aefd3bff-e9dc-418f-b8b7-d840b7e23a5e",
   "metadata": {},
   "outputs": [],
   "source": [
    "# express an element as a linear combination of the basis\n",
    "components = lambda k: [(k * el).trace() for el in basis]\n",
    "\n",
    "# additive group character\n",
    "chi = lambda k: exp(pi * I * int(k.trace()))"
   ]
  },
  {
   "cell_type": "code",
   "execution_count": 6,
   "id": "430f9e44-c3d7-4f04-9219-cb9602e88403",
   "metadata": {},
   "outputs": [],
   "source": [
    "y = var('y')\n",
    "\n",
    "# compute the coefficients for the basis elements,\n",
    "# we CHOOSE the all positive solutions.\n",
    "def solve_basis(basis, curve):\n",
    "    sols = []\n",
    "    for k in basis:\n",
    "        sol = solve(chi(k * curve(k)) == y^2, y, solution_dict=True)\n",
    "        sols.append(sol[1]) # positive solutions only (choice)\n",
    "    return sols"
   ]
  },
  {
   "cell_type": "code",
   "execution_count": 7,
   "id": "44d2aaef-17a1-4578-abb2-90ba4f8165a9",
   "metadata": {},
   "outputs": [],
   "source": [
    "# after computing the solutions we can simply\n",
    "# get them for each basis element.\n",
    "def basis_c(a, l, sols):\n",
    "    if a == 0:\n",
    "        return 1\n",
    "    return sols[l][y]"
   ]
  },
  {
   "cell_type": "code",
   "execution_count": 8,
   "id": "389cad7f-7f3c-4de7-a7f4-dea0aa8aeb6b",
   "metadata": {},
   "outputs": [],
   "source": [
    "# Compute an arbitrary coefficient c_{\\alpha,f} for a \n",
    "# given curve f using the general formula.\n",
    "def c(alpha, curve, sols=None):\n",
    "    if not sols:\n",
    "        sols = solve_basis(basis, curve)\n",
    "    \n",
    "    # Expand alpha in the basis\n",
    "    comps = components(alpha)\n",
    "\n",
    "    # Apply the formula\n",
    "    s1 = 0\n",
    "    for k in range(N-1):\n",
    "        s2 = 0\n",
    "        for j in range(k+1, N):\n",
    "            s2 += comps[j] * basis[j]\n",
    "        s1 += s2 * curve(comps[k] * basis[k])\n",
    "        \n",
    "    return chi(s1) * prod([basis_c(a, l, sols) for l, a in enumerate(comps)])"
   ]
  },
  {
   "cell_type": "markdown",
   "id": "d85a0f2f-0440-49ce-8853-48bf91e08b8f",
   "metadata": {},
   "source": [
    "Verification of the recurrence relation for the straight lines:"
   ]
  },
  {
   "cell_type": "code",
   "execution_count": 9,
   "id": "7c395b94-787a-4701-9d95-615ca5ad44ea",
   "metadata": {},
   "outputs": [
    {
     "name": "stdout",
     "output_type": "stream",
     "text": [
      "Recurrence relation holds!\n"
     ]
    }
   ],
   "source": [
    "for mu in F:\n",
    "    curve = lambda t: mu * t # \\beta = \\mu \\alpha\n",
    "    sols = solve_basis(basis, curve)\n",
    "    for k in F:\n",
    "        for kp in F:\n",
    "            lhs = c(k, curve, sols) * c(kp, curve, sols)\n",
    "            rhs = chi(kp * curve(k)) * c(k + kp, curve, sols)\n",
    "            if lhs != rhs:\n",
    "                raise Exception('Recurrence relation does not hold!', mu)\n",
    "print('Recurrence relation holds!')"
   ]
  },
  {
   "cell_type": "markdown",
   "id": "eb84ce5b-2331-40a5-847b-b66d28d1bebe",
   "metadata": {},
   "source": [
    "Now for the curve $f$:"
   ]
  },
  {
   "cell_type": "code",
   "execution_count": 10,
   "id": "2e0be5f1-47ba-4c49-897a-ae7428d1c1d7",
   "metadata": {},
   "outputs": [
    {
     "name": "stdout",
     "output_type": "stream",
     "text": [
      "Recurrence relation holds!\n"
     ]
    }
   ],
   "source": [
    "for mu in F:\n",
    "    curve = lambda t: t + t^2 + t^4\n",
    "    sols = solve_basis(basis, curve)\n",
    "    for k in F:\n",
    "        for kp in F:\n",
    "            lhs = c(k, curve, sols) * c(kp, curve, sols)\n",
    "            rhs = chi(kp * curve(k)) * c(k + kp, curve, sols)\n",
    "            if lhs != rhs:\n",
    "                raise Exception('Recurrence relation does not hold!', mu)\n",
    "print('Recurrence relation holds!')"
   ]
  },
  {
   "cell_type": "markdown",
   "id": "08b3105e-937c-491e-b177-70571c6e68e1",
   "metadata": {},
   "source": [
    "The recurrence relation holds for both cases. Now we create the sets of MUBs. First we use the $2^N$ rotation operators parametrized by the slope $\\lambda$ to obtain the standard $(3,0,6)$ set. To start off we must compute the Fourier basis which consists of the eigenstates of the operators $X_\\tau$."
   ]
  },
  {
   "cell_type": "code",
   "execution_count": 11,
   "id": "a405431e-4b9f-489d-9c0b-09e7fa8a6229",
   "metadata": {},
   "outputs": [],
   "source": [
    "import numpy as np\n",
    "from utils import checkMUBs"
   ]
  },
  {
   "cell_type": "code",
   "execution_count": 12,
   "id": "5a108220-9a05-4c4a-b8c0-9e16696162d9",
   "metadata": {},
   "outputs": [],
   "source": [
    "def Proj(u, v=None):\n",
    "    if not v:\n",
    "        v = u\n",
    "    return np.outer(u, v.conj().T)\n",
    "\n",
    "Id = np.eye(2**N)\n",
    "\n",
    "def Fourier():\n",
    "    s = np.zeros((2**N, 2**N), dtype='complex128')\n",
    "    for i, a in enumerate(F):\n",
    "        for j, b in enumerate(F):\n",
    "            s[i,j] = complex(chi(a * b)) / np.sqrt(2**N)\n",
    "    return s\n",
    "FF = Fourier()"
   ]
  },
  {
   "cell_type": "markdown",
   "id": "1b5ee3e6-05fe-4943-a793-6c88f58f99b6",
   "metadata": {},
   "source": [
    "Now that we have the Fourier basis $|\\tilde\\kappa\\rangle$ we can now compute the rotation operators for a given set of coefficients."
   ]
  },
  {
   "cell_type": "code",
   "execution_count": 13,
   "id": "09bbebdf-6d2f-4d5a-b72d-fd8161a656bf",
   "metadata": {},
   "outputs": [],
   "source": [
    "def V(curve):\n",
    "    sols = solve_basis(basis, curve)\n",
    "    \n",
    "    s = np.zeros((2**N, 2**N), dtype='complex128')\n",
    "    for i, k in enumerate(F):\n",
    "        s += complex(c(k, curve, sols)) * Proj(FF[:,i])\n",
    "    return s"
   ]
  },
  {
   "cell_type": "code",
   "execution_count": 14,
   "id": "912d9292-e2d1-4ddc-8f37-e8456469ead8",
   "metadata": {},
   "outputs": [],
   "source": [
    "mubs306 = [FF] + [V(lambda t: mu * t) for mu in F]"
   ]
  },
  {
   "cell_type": "code",
   "execution_count": 15,
   "id": "1225a903-b3dc-44f1-a03b-190057412784",
   "metadata": {},
   "outputs": [
    {
     "name": "stdout",
     "output_type": "stream",
     "text": [
      "MUBs are good!\n"
     ]
    }
   ],
   "source": [
    "checkMUBs(mubs306)"
   ]
  },
  {
   "cell_type": "markdown",
   "id": "2860e34c-cdf6-49a3-8f39-24684b395af6",
   "metadata": {},
   "source": [
    "So we have obtained the standard set and everything checks out. We now compute the rotation operator $P_f$ and apply it to each basis from the standard set, recalling that:\n",
    "$$\n",
    "|\\psi_{\\lambda, \\kappa}^f\\rangle\n",
    "= P_f |\\psi_{\\lambda, \\kappa}\\rangle,\n",
    "\\quad\n",
    "|\\tilde\\kappa^f\\rangle = P_f |\\tilde \\kappa\\rangle.\n",
    "$$"
   ]
  },
  {
   "cell_type": "code",
   "execution_count": 16,
   "id": "2b3eddb6-5834-40b5-b613-2fa2b316bf0a",
   "metadata": {},
   "outputs": [],
   "source": [
    "Pf = V(lambda t: t + t^2 + t^4)"
   ]
  },
  {
   "cell_type": "code",
   "execution_count": 17,
   "id": "c5bf951d-ac4e-431b-b258-f66bae087beb",
   "metadata": {},
   "outputs": [],
   "source": [
    "mubs162 = [Pf @ m for m in mubs306]"
   ]
  },
  {
   "cell_type": "code",
   "execution_count": 18,
   "id": "a67e0432-192a-4b75-a72b-5c5613aad11e",
   "metadata": {},
   "outputs": [
    {
     "name": "stdout",
     "output_type": "stream",
     "text": [
      "MUBs are good!\n"
     ]
    }
   ],
   "source": [
    "checkMUBs(mubs162)"
   ]
  },
  {
   "cell_type": "markdown",
   "id": "9fa0d25c-8a38-4022-a294-1b8692f65e68",
   "metadata": {},
   "source": [
    "Ok! So we have obtained both complete sets of MUBs and everything seems fine. Let's create a Wigner function for the straight lines, we will employ the basic definition:\n",
    "$$\n",
    "w(\\alpha,\\beta)\n",
    "= |\\tilde\\alpha\\rangle \\langle\\tilde\\alpha|\n",
    "+ \\sum_{\\xi,\\nu} \\delta_{\\beta,\\xi\\alpha+\\nu}\n",
    "|\\psi_{\\xi,\\nu}\\rangle \\langle\\psi_{\\xi,\\nu}|\n",
    "- I,\n",
    "$$\n",
    "where $|\\psi_{\\xi,\\nu}\\rangle = P_{f=\\xi \\alpha} |\\nu\\rangle$.\n"
   ]
  },
  {
   "cell_type": "code",
   "execution_count": 19,
   "id": "f3d57659-054f-4439-84bf-d0f02d9afc3c",
   "metadata": {},
   "outputs": [],
   "source": [
    "def toInt(k):\n",
    "    return list(F).index(k)\n",
    "\n",
    "def Wootters(a, b):\n",
    "    op = Proj(mubs306[0][:, toInt(a)])\n",
    "    for xi in F:\n",
    "        for nu in F:\n",
    "            d = int(b == xi * a + nu)\n",
    "            v = mubs306[toInt(xi)+1][:, toInt(nu)]\n",
    "            op += d * Proj(v)\n",
    "    return op - Id\n",
    "\n",
    "def WignerMatrix(state):    \n",
    "    W = np.zeros((2**N, 2**N), dtype='float64')\n",
    "    for i, a in enumerate(F):\n",
    "        for j, b in enumerate(F):\n",
    "            W[i, j] = real(\n",
    "                (state @ Wootters(a, b)).trace()\n",
    "            ) / 2**N\n",
    "    return W\n",
    "\n",
    "# shortcut\n",
    "def WW(state, rnd=3):\n",
    "    return np.round(WignerMatrix(Proj(state)), rnd)"
   ]
  },
  {
   "cell_type": "code",
   "execution_count": 20,
   "id": "af40a028-8bf3-4b92-99c7-81ae5923b24e",
   "metadata": {},
   "outputs": [
    {
     "data": {
      "text/html": [
       "<html>\\(\\displaystyle \\begin{array}{l}\n",
       "\\verb|[[|\\verb| |\\verb|0.094|\\verb|  |\\verb|0.031|\\verb|  |\\verb|0.031|\\verb| |\\verb|-0.031|\\verb| |\\verb|-0.031|\\verb|  |\\verb|0.031|\\verb| |\\verb|-0.031|\\verb|  |\\verb|0.031]|\\\\\n",
       "\\verb| |\\verb|[-0.031|\\verb|  |\\verb|0.031|\\verb|  |\\verb|0.031|\\verb| |\\verb|-0.031|\\verb|  |\\verb|0.094|\\verb|  |\\verb|0.031|\\verb| |\\verb|-0.031|\\verb|  |\\verb|0.031]|\\\\\n",
       "\\verb| |\\verb|[|\\verb| |\\verb|0.031|\\verb| |\\verb|-0.031|\\verb| |\\verb|-0.031|\\verb|  |\\verb|0.031|\\verb|  |\\verb|0.031|\\verb|  |\\verb|0.094|\\verb|  |\\verb|0.031|\\verb| |\\verb|-0.031]|\\\\\n",
       "\\verb| |\\verb|[|\\verb| |\\verb|0.031|\\verb| |\\verb|-0.031|\\verb|  |\\verb|0.094|\\verb|  |\\verb|0.031|\\verb|  |\\verb|0.031|\\verb| |\\verb|-0.031|\\verb|  |\\verb|0.031|\\verb| |\\verb|-0.031]|\\\\\n",
       "\\verb| |\\verb|[|\\verb| |\\verb|0.031|\\verb| |\\verb|-0.031|\\verb| |\\verb|-0.031|\\verb|  |\\verb|0.031|\\verb|  |\\verb|0.031|\\verb| |\\verb|-0.031|\\verb|  |\\verb|0.031|\\verb|  |\\verb|0.094]|\\\\\n",
       "\\verb| |\\verb|[-0.031|\\verb|  |\\verb|0.031|\\verb|  |\\verb|0.031|\\verb|  |\\verb|0.094|\\verb| |\\verb|-0.031|\\verb|  |\\verb|0.031|\\verb| |\\verb|-0.031|\\verb|  |\\verb|0.031]|\\\\\n",
       "\\verb| |\\verb|[-0.031|\\verb|  |\\verb|0.031|\\verb|  |\\verb|0.031|\\verb| |\\verb|-0.031|\\verb| |\\verb|-0.031|\\verb|  |\\verb|0.031|\\verb|  |\\verb|0.094|\\verb|  |\\verb|0.031]|\\\\\n",
       "\\verb| |\\verb|[|\\verb| |\\verb|0.031|\\verb|  |\\verb|0.094|\\verb| |\\verb|-0.031|\\verb|  |\\verb|0.031|\\verb|  |\\verb|0.031|\\verb| |\\verb|-0.031|\\verb|  |\\verb|0.031|\\verb| |\\verb|-0.031]]|\n",
       "\\end{array}\\)</html>"
      ],
      "text/latex": [
       "$\\displaystyle \\begin{array}{l}\n",
       "\\verb|[[|\\verb| |\\verb|0.094|\\verb|  |\\verb|0.031|\\verb|  |\\verb|0.031|\\verb| |\\verb|-0.031|\\verb| |\\verb|-0.031|\\verb|  |\\verb|0.031|\\verb| |\\verb|-0.031|\\verb|  |\\verb|0.031]|\\\\\n",
       "\\verb| |\\verb|[-0.031|\\verb|  |\\verb|0.031|\\verb|  |\\verb|0.031|\\verb| |\\verb|-0.031|\\verb|  |\\verb|0.094|\\verb|  |\\verb|0.031|\\verb| |\\verb|-0.031|\\verb|  |\\verb|0.031]|\\\\\n",
       "\\verb| |\\verb|[|\\verb| |\\verb|0.031|\\verb| |\\verb|-0.031|\\verb| |\\verb|-0.031|\\verb|  |\\verb|0.031|\\verb|  |\\verb|0.031|\\verb|  |\\verb|0.094|\\verb|  |\\verb|0.031|\\verb| |\\verb|-0.031]|\\\\\n",
       "\\verb| |\\verb|[|\\verb| |\\verb|0.031|\\verb| |\\verb|-0.031|\\verb|  |\\verb|0.094|\\verb|  |\\verb|0.031|\\verb|  |\\verb|0.031|\\verb| |\\verb|-0.031|\\verb|  |\\verb|0.031|\\verb| |\\verb|-0.031]|\\\\\n",
       "\\verb| |\\verb|[|\\verb| |\\verb|0.031|\\verb| |\\verb|-0.031|\\verb| |\\verb|-0.031|\\verb|  |\\verb|0.031|\\verb|  |\\verb|0.031|\\verb| |\\verb|-0.031|\\verb|  |\\verb|0.031|\\verb|  |\\verb|0.094]|\\\\\n",
       "\\verb| |\\verb|[-0.031|\\verb|  |\\verb|0.031|\\verb|  |\\verb|0.031|\\verb|  |\\verb|0.094|\\verb| |\\verb|-0.031|\\verb|  |\\verb|0.031|\\verb| |\\verb|-0.031|\\verb|  |\\verb|0.031]|\\\\\n",
       "\\verb| |\\verb|[-0.031|\\verb|  |\\verb|0.031|\\verb|  |\\verb|0.031|\\verb| |\\verb|-0.031|\\verb| |\\verb|-0.031|\\verb|  |\\verb|0.031|\\verb|  |\\verb|0.094|\\verb|  |\\verb|0.031]|\\\\\n",
       "\\verb| |\\verb|[|\\verb| |\\verb|0.031|\\verb|  |\\verb|0.094|\\verb| |\\verb|-0.031|\\verb|  |\\verb|0.031|\\verb|  |\\verb|0.031|\\verb| |\\verb|-0.031|\\verb|  |\\verb|0.031|\\verb| |\\verb|-0.031]]|\n",
       "\\end{array}$"
      ],
      "text/plain": [
       "array([[ 0.094,  0.031,  0.031, -0.031, -0.031,  0.031, -0.031,  0.031],\n",
       "       [-0.031,  0.031,  0.031, -0.031,  0.094,  0.031, -0.031,  0.031],\n",
       "       [ 0.031, -0.031, -0.031,  0.031,  0.031,  0.094,  0.031, -0.031],\n",
       "       [ 0.031, -0.031,  0.094,  0.031,  0.031, -0.031,  0.031, -0.031],\n",
       "       [ 0.031, -0.031, -0.031,  0.031,  0.031, -0.031,  0.031,  0.094],\n",
       "       [-0.031,  0.031,  0.031,  0.094, -0.031,  0.031, -0.031,  0.031],\n",
       "       [-0.031,  0.031,  0.031, -0.031, -0.031,  0.031,  0.094,  0.031],\n",
       "       [ 0.031,  0.094, -0.031,  0.031,  0.031, -0.031,  0.031, -0.031]])"
      ]
     },
     "execution_count": 20,
     "metadata": {},
     "output_type": "execute_result"
    }
   ],
   "source": [
    "state = mubs162[4][:,0]\n",
    "WW(state)"
   ]
  },
  {
   "cell_type": "markdown",
   "id": "a4a8c0f1-02e4-4ab9-bbd6-be0f930b047d",
   "metadata": {},
   "source": [
    "As we can see, the Wigner function for an arbitrary vector $|\\psi_{\\lambda,\\kappa}^f\\rangle$ from the $(1,6,2)$ is **not** non-negative. I suspect what goes wrong is the coefficients do not \"cancel\" out when a straight line and a curve intersect, since the calculation of the coefficients depend on the curve and not just on the image of the element."
   ]
  },
  {
   "cell_type": "code",
   "execution_count": 21,
   "id": "210aeee4-dc97-4792-a548-d692e45342c1",
   "metadata": {},
   "outputs": [],
   "source": [
    "import matplotlib.pyplot as plt"
   ]
  },
  {
   "cell_type": "code",
   "execution_count": 22,
   "id": "30d70316-861a-4ea0-8f31-d147378d2c26",
   "metadata": {},
   "outputs": [
    {
     "data": {
      "text/html": [
       "<html>\\(\\displaystyle \\verb|AxesImage(size=(8,|\\verb| |\\verb|8))|\\)</html>"
      ],
      "text/latex": [
       "$\\displaystyle \\verb|AxesImage(size=(8,|\\verb| |\\verb|8))|$"
      ],
      "text/plain": [
       "<matplotlib.image.AxesImage object at 0x177dfbeb0>"
      ]
     },
     "execution_count": 22,
     "metadata": {},
     "output_type": "execute_result"
    },
    {
     "data": {
      "image/png": "[encoded data removed]",
      "text/plain": [
       "<Figure size 640x480 with 1 Axes>"
      ]
     },
     "metadata": {},
     "output_type": "display_data"
    }
   ],
   "source": [
    "state = (Id[:,0]+Id[:,-1])/np.sqrt(2)\n",
    "plt.imshow(WW(state), origin='lower')"
   ]
  },
  {
   "cell_type": "markdown",
   "id": "86be719f-c2c7-4562-b853-2a0fab2055a4",
   "metadata": {},
   "source": [
    "---\n",
    "\n",
    "Now I'm going to investigate where it goes wrong. I am following a \"proof\" that I'm doing step by step, verifying by computational means the validity of each step."
   ]
  },
  {
   "cell_type": "code",
   "execution_count": 142,
   "id": "61859d30-e007-4f2a-89f3-bf96dd5fbb6e",
   "metadata": {},
   "outputs": [],
   "source": [
    "# <psi_{xi,nu}|F|k> = c_{k,xi}^* chi(nu k) / sqrt(d)\n",
    "for k in F:\n",
    "    for xi in F:\n",
    "        sols = solve_basis(basis, lambda t: xi * t)\n",
    "        for nu in F:\n",
    "            inp = mubs306[toInt(xi)+1][:,toInt(nu)].conj().T @ FF[:,toInt(k)]\n",
    "            expr = conjugate(c(k, lambda t: xi * t, sols)) * chi(nu * k) / np.sqrt(2**N)\n",
    "            if not np.isclose(inp, complex(expr)):\n",
    "                print(k, inp, complex(expr))\n",
    "                raise Exception('Expression is not valid!')"
   ]
  },
  {
   "cell_type": "markdown",
   "id": "9a46b8fc-c08e-4b8a-bc55-a2a66cd2bd5d",
   "metadata": {},
   "source": [
    "So far the expression $\\langle \\psi_{\\xi,\\nu}|\\tilde \\kappa\\rangle = c_{\\kappa,\\xi}^* \\chi(\\nu \\kappa) / \\sqrt{2^N}$ verifies for all basis elements. Now let's verify the expression:\n",
    "$$\n",
    "\\braket{\\psi_{\\xi,\\nu}|\\psi_{\\xi',\\nu'}^f}\n",
    "= \\frac{1}{d} \\sum_{\\kappa}^{} c_{\\kappa,f} c_{\\kappa,\\xi}^* c_{\\kappa,\\xi'} \\chi(\\kappa(\\nu+\\nu'))\n",
    "$$"
   ]
  },
  {
   "cell_type": "code",
   "execution_count": 154,
   "id": "c923385b-fe9c-4993-9abc-eee7a02a7f28",
   "metadata": {},
   "outputs": [],
   "source": [
    "sols_f = solve_basis(basis, lambda t: t + t**2 + t**4)\n",
    "\n",
    "for xi in F:\n",
    "    sols_xi = solve_basis(basis, lambda t: xi * t)\n",
    "\n",
    "    for xip in F:\n",
    "        sols_xip = solve_basis(basis, lambda t: xip * t)\n",
    "        \n",
    "        for nu in F:\n",
    "            for nup in F:\n",
    "\n",
    "                psi_xi_nu = mubs306[toInt(xi)+1][:,toInt(nu)]\n",
    "                psi_f_xip_nup = mubs162[toInt(xip)+1][:,toInt(nup)]\n",
    "                \n",
    "                inp = psi_xi_nu.conj().T @ psi_f_xip_nup\n",
    "                \n",
    "                expr = 0\n",
    "                for k in F:\n",
    "                    c_kf = c(k, lambda t: t + t**2 + t**4, sols_f)\n",
    "                    c_kxi = c(k, lambda t: xi * t, sols_xi)\n",
    "                    c_kxip = c(k, lambda t: xip * t, sols_xip)\n",
    "                    char = complex(chi(k * (nu + nup)))\n",
    "                    expr += c_kf * conjugate(c_kxi) * c_kxip * char / 2**N\n",
    "\n",
    "                if not np.isclose(inp, complex(expr)):\n",
    "                    print(inp, complex(expr))\n",
    "                    raise Exception('Expression not valid!')"
   ]
  },
  {
   "cell_type": "markdown",
   "id": "420e002b-3609-4c7e-a790-4f1899b65316",
   "metadata": {},
   "source": [
    "Now for the squared modulus expression."
   ]
  },
  {
   "cell_type": "code",
   "execution_count": 206,
   "id": "2c1a6022-80ee-400b-a571-283390e4d920",
   "metadata": {},
   "outputs": [],
   "source": [
    "f = lambda t: t + t**2 + t**4\n",
    "sols_f = solve_basis(basis, f)\n",
    "\n",
    "for xi in F:\n",
    "    sols_xi = solve_basis(basis, lambda t: xi * t)\n",
    "    for xip in F:\n",
    "        sols_xip = solve_basis(basis, lambda t: xip * t)\n",
    "        for nu in F:\n",
    "            for nup in F:\n",
    "                psi_xi_nu = mubs306[toInt(xi)+1][:,toInt(nu)]\n",
    "                psi_f_xip_nup = mubs162[toInt(xip)+1][:,toInt(nup)]\n",
    "                inp = np.abs(psi_xi_nu.conj().T @ psi_f_xip_nup)**2\n",
    "                \n",
    "                s = 0\n",
    "                for k in F:\n",
    "                    for kp in F:\n",
    "                        c_k_f = c(k, f, sols_f)\n",
    "                        c_kp_f = c(kp, f, sols_f)\n",
    "                        c_k_xip = c(k, lambda t: xip * t, sols_xip)\n",
    "                        c_kp_xip = c(kp, lambda t: xip * t, sols_xip)\n",
    "                        c_k_xi = c(k, lambda t: xi * t, sols_xi)\n",
    "                        c_kp_xi = c(kp, lambda t: xi * t, sols_xi)\n",
    "                        char = chi((k + kp) * (nu + nup))\n",
    "                        s += (conjugate(c_k_f) * c_kp_f *\n",
    "                              conjugate(c_k_xip) * c_kp_xip * \n",
    "                              conjugate(c_kp_xi) * c_k_xi * char) / ((2**N)**2)\n",
    "                    \n",
    "                \n",
    "                if not np.isclose(inp, float(s)):\n",
    "                    print(xi, xip, nu, nup, inp, float(s))\n",
    "                    raise Exception"
   ]
  },
  {
   "cell_type": "markdown",
   "id": "95e810ea-6a04-4051-9c08-76a3ed45ccba",
   "metadata": {},
   "source": [
    "In the squared modulus expression we use a property of the recurrence relation. For the ray operators we have\n",
    "$$\n",
    "c_{\\kappa,\\xi}^* c_{\\kappa',\\xi} = \\chi(\\kappa \\xi(\\kappa+\\kappa')) c_{\\kappa+\\kappa',\\xi}\n",
    "$$\n",
    "and for the curve operators we have\n",
    "$$\n",
    "c_{\\kappa,f}^* c_{\\kappa',f} = \\chi(\\kappa f(\\kappa+\\kappa')) c_{\\kappa+\\kappa',f}.\n",
    "$$"
   ]
  },
  {
   "cell_type": "code",
   "execution_count": 209,
   "id": "f180897b-7c0b-427c-8ec9-0f22b45de7aa",
   "metadata": {},
   "outputs": [
    {
     "name": "stdout",
     "output_type": "stream",
     "text": [
      "Works for rays!\n",
      "Works for rotated rays!\n"
     ]
    }
   ],
   "source": [
    "# Recurrence relation involving conjugation\n",
    "\n",
    "for xi in F:\n",
    "    f = lambda t: xi * t\n",
    "    sols_f = solve_basis(basis, f)\n",
    "    \n",
    "    for k in F:\n",
    "        for kp in F:\n",
    "            lhs = conjugate(c(k, f, sols_f)) * c(kp, f, sols_f)\n",
    "            rhs = c(k + kp, f, sols_f) * chi(k * f(k + kp))\n",
    "            if lhs != rhs:\n",
    "                print(lhs, rhs)\n",
    "                raise Exception('Expression not valid!')\n",
    "print('Works for rays!')\n",
    "\n",
    "f = lambda t: t + t**2 + t**4\n",
    "sols_f = solve_basis(basis, f)\n",
    "for k in F:\n",
    "    for kp in F:\n",
    "        lhs = conjugate(c(k, f, sols_f)) * c(kp, f, sols_f)\n",
    "        rhs = c(k + kp, f, sols_f) * chi(k * f(k + kp))\n",
    "        if lhs != rhs:\n",
    "            print(lhs, rhs)\n",
    "            raise Exception('Expression not valid!')\n",
    "print('Works for rotated rays!')"
   ]
  },
  {
   "cell_type": "markdown",
   "id": "1463cc08-1f60-4b73-8591-14cc67428920",
   "metadata": {},
   "source": [
    "Intermediate step right before the distasteful change of variables. In this step we re-express some of the coefficients making use of the recurrence relation which we just verified."
   ]
  },
  {
   "cell_type": "code",
   "execution_count": 220,
   "id": "a4e0c4c6-4191-4a11-b59f-da5d377d400b",
   "metadata": {},
   "outputs": [],
   "source": [
    "f = lambda t: t + t**2 + t**4\n",
    "sols_f = solve_basis(basis, f)\n",
    "\n",
    "for xi in F:\n",
    "    sols_xi = solve_basis(basis, lambda t: xi * t)\n",
    "    for xip in F:\n",
    "        sols_xip = solve_basis(basis, lambda t: xip * t)\n",
    "        for nu in F:\n",
    "            for nup in F:\n",
    "                psi_xi_nu = mubs306[toInt(xi)+1][:,toInt(nu)]\n",
    "                psi_f_xip_nup = mubs162[toInt(xip)+1][:,toInt(nup)]\n",
    "                inp = np.abs(psi_xi_nu.conj().T @ psi_f_xip_nup)**2\n",
    "                \n",
    "                s = 0.0\n",
    "                for k in F:\n",
    "                    for kp in F:\n",
    "                        c_f = c(k + kp, f, sols_f)\n",
    "                        char_f = chi(k * f(k + kp))\n",
    "                        \n",
    "                        c_xip = c(k + kp, lambda t: xip * t, sols_xip)\n",
    "                        char_xip = chi(k * xip * (k + kp))\n",
    "                        \n",
    "                        c_xi = c(k + kp, lambda t: xi * t, sols_xi)\n",
    "                        char_xi = chi(kp * xi * (k + kp))\n",
    "                        \n",
    "                        char = chi((k + kp) * (nu + nup))\n",
    "                        s += (\n",
    "                            char_f * char_xip * char_xi * char * c_f * c_xip * c_xi\n",
    "                        ) / ((2**N)**2)\n",
    "                    \n",
    "                \n",
    "                if not np.isclose(inp, float(s)):\n",
    "                    print(xi, xip, nu, nup, inp, float(s))\n",
    "                    raise Exception"
   ]
  },
  {
   "cell_type": "markdown",
   "id": "fbebf314-4a7b-42e0-9d0f-de4eb6758d3c",
   "metadata": {},
   "source": [
    "All is good up till now, the proof advances by a suspicious change of variables. I will verify this step at least computionally. The equation to verify is:\n",
    "$$\n",
    "\\left|\\braket{\\psi_{\\xi,\\nu}|\\psi_{\\xi',\\nu'}^f}\\right|^2\n",
    "=\n",
    "\\frac{1}{d} \\sum_{\\eta}^{}\n",
    "\\chi\\left( \\eta(\\nu+\\nu') \\right)\n",
    "c_{\\eta,f}c_{\\eta,\\xi'}c_{\\eta,\\xi}^*\n",
    "\\delta_{f(\\eta), (\\xi+\\xi')\\eta}.\n",
    "$$"
   ]
  },
  {
   "cell_type": "code",
   "execution_count": 223,
   "id": "280f8cc4-601e-4589-8e1c-0253151213fb",
   "metadata": {},
   "outputs": [],
   "source": [
    "f = lambda t: t + t**2 + t**4\n",
    "sols_f = solve_basis(basis, f)\n",
    "\n",
    "for xi in F:\n",
    "    sols_xi = solve_basis(basis, lambda t: xi * t)\n",
    "    for xip in F:\n",
    "        sols_xip = solve_basis(basis, lambda t: xip * t)\n",
    "        for nu in F:\n",
    "            for nup in F:\n",
    "                psi_xi_nu = mubs306[toInt(xi)+1][:,toInt(nu)]\n",
    "                psi_f_xip_nup = mubs162[toInt(xip)+1][:,toInt(nup)]\n",
    "                inp = np.abs(psi_xi_nu.conj().T @ psi_f_xip_nup)**2\n",
    "                \n",
    "                s = 0\n",
    "                for eta in F:\n",
    "                    char = chi(eta * (nu + nup))\n",
    "                    c_eta_f = c(eta, f, sols_f)\n",
    "                    c_eta_xip = c(eta, lambda t: xip * t, sols_xip)\n",
    "                    c_eta_xi = c(eta, lambda t: xi * t, sols_xi)\n",
    "                    d = int(f(eta) == ((xi + xip) * eta))\n",
    "                    s += (char * c_eta_f * c_eta_xip * conjugate(c_eta_xi) * d) / (2**N)\n",
    "                \n",
    "                if not np.isclose(inp, float(s)):\n",
    "                    print(xi, xip, nu, nup, inp, float(s))\n",
    "                    raise Exception"
   ]
  },
  {
   "cell_type": "markdown",
   "id": "ff7a9f57-819d-4cfa-902c-35ac9931a426",
   "metadata": {},
   "source": [
    "So the change of variables y consequent simplification works! We use the appropriate delta functions to arrive the expression for the sum over $\\nu$:\n",
    "$$\n",
    "\\sum_{\\xi,\\nu} \\delta_{\\beta,\\xi\\alpha+\\nu}\n",
    "\\left|\\braket{\\psi_{\\xi,\\nu}|\\psi_{\\xi',\\nu'}^f}\\right|^2\n",
    "= \\frac{1}{d}\n",
    "\\left(\n",
    "\\sum_{\\xi,\\eta}^{}\n",
    "\\chi\\left( \\eta(\\beta - \\xi\\alpha+\\nu') \\right)\n",
    "c_{\\eta,f}c_{\\eta,\\xi'}c_{\\eta,\\xi}^*\n",
    "\\delta_{f(\\eta), (\\xi+\\xi')\\eta}\\right).\n",
    "$$\n",
    "We now verifty this equation."
   ]
  },
  {
   "cell_type": "code",
   "execution_count": 226,
   "id": "e056aeed-a9d5-4de5-9d2c-a80997720024",
   "metadata": {},
   "outputs": [
    {
     "name": "stdout",
     "output_type": "stream",
     "text": [
      "Sum is fine for all possible combinations!\n"
     ]
    }
   ],
   "source": [
    "f = lambda t: t + t**2 + t**4\n",
    "sols_f = solve_basis(basis, f)\n",
    "\n",
    "for alpha in F:\n",
    "    for beta in F:\n",
    "        for xip in F:\n",
    "            sols_xip = solve_basis(basis, lambda t: xip * t)\n",
    "            for nup in F:\n",
    "                lhs = 0\n",
    "                rhs = 0\n",
    "                for xi in F:\n",
    "                    sols_xi = solve_basis(basis, lambda t: xi * t)\n",
    "                    for nu in F:\n",
    "                        psi_xi_nu = mubs306[toInt(xi)+1][:,toInt(nu)]\n",
    "                        psi_f_xip_nup = mubs162[toInt(xip)+1][:,toInt(nup)]\n",
    "                        d = int(beta == xi * alpha + nu)\n",
    "                        lhs += d * np.abs(psi_xi_nu.conj().T @ psi_f_xip_nup)**2\n",
    "                            \n",
    "                    for eta in F:\n",
    "                        char = chi(eta * (beta - xi * alpha + nup))\n",
    "                        c_eta_f = c(eta, f, sols_f)\n",
    "                        c_eta_xip = c(eta, lambda t: xip * t, sols_xip)\n",
    "                        c_eta_xi = c(eta, lambda t: xi * t, sols_xi)\n",
    "                        d = int(f(eta) == (xi + xip) * eta)\n",
    "                        rhs += (char * c_eta_f * c_eta_xip * conjugate(c_eta_xi) * d) / (2**N)\n",
    "                    \n",
    "                if not np.isclose(lhs, float(rhs)):\n",
    "                    print(lhs, rhs)\n",
    "                    raise Exception\n",
    "print('Sum is fine for all possible combinations!')"
   ]
  },
  {
   "cell_type": "markdown",
   "id": "ec34bb2d-3cb9-490a-a0fa-65ea1b1e4d0e",
   "metadata": {},
   "source": [
    "The next equations are the ones I am suspect of but this one sill might work. We use the delta function in the previous equation to sum over $\\xi$. The substitution does not worry me much, it is the simplification in the next equation that I think won't work. The equation to verify is:\n",
    "$$\n",
    "\\sum_{\\xi,\\nu}^{} \n",
    "\\delta_{\\beta,\\xi\\alpha+\\nu}\n",
    "\\left|\n",
    "\\braket{\\psi_{\\xi,\\nu}|\\psi_{\\xi',\\nu'}^f}\n",
    "\\right|^2\n",
    "= 1 + \\frac{1}{d} \\sum_{\\eta \\in F^*}^{} \n",
    "\\chi\\left[\n",
    "  \\eta(\\beta + \\xi'\\alpha + \\nu' + f(\\alpha))\n",
    "\\right] \n",
    "c_{\\eta,f} c_{\\eta,\\xi'}\n",
    "c_{\\eta,\\eta^{-1}f(\\eta) + \\xi'}^*. \n",
    "$$"
   ]
  },
  {
   "cell_type": "code",
   "execution_count": 234,
   "id": "da987802-b9b1-4d2a-b130-7ab35a998678",
   "metadata": {},
   "outputs": [
    {
     "name": "stdout",
     "output_type": "stream",
     "text": [
      "Sum is fine for all possible combinations!\n"
     ]
    }
   ],
   "source": [
    "f = lambda t: t + t**2 + t**4\n",
    "sols_f = solve_basis(basis, f)\n",
    "\n",
    "for alpha in F:\n",
    "    for beta in F:\n",
    "        for xip in F:\n",
    "            sols_xip = solve_basis(basis, lambda t: xip * t)\n",
    "            for nup in F:\n",
    "                lhs = 0\n",
    "                for xi in F:\n",
    "                    sols_xi = solve_basis(basis, lambda t: xi * t)\n",
    "                    for nu in F:\n",
    "                        psi_xi_nu = mubs306[toInt(xi)+1][:,toInt(nu)]\n",
    "                        psi_f_xip_nup = mubs162[toInt(xip)+1][:,toInt(nup)]\n",
    "                        d = int(beta == xi * alpha + nu)\n",
    "                        lhs += d * np.abs(psi_xi_nu.conj().T @ psi_f_xip_nup)**2\n",
    "                \n",
    "                rhs = 1\n",
    "                for eta in list(F)[1:]:\n",
    "                    char = chi(eta * (beta + xip * alpha + nup + f(alpha)))\n",
    "                    c_eta_f = c(eta, f, sols_f)\n",
    "                    c_eta_xip = c(eta, lambda t: xip * t, sols_xip)\n",
    "                    c_eta_inv = c(eta, lambda t: ((1/eta) * f(eta) + xip) * t)\n",
    "                    rhs += (char * c_eta_f * c_eta_xip * conjugate(c_eta_inv)) / (2**N)\n",
    "\n",
    "                if not np.isclose(lhs, float(rhs)):\n",
    "                    print(lhs, float(rhs))\n",
    "                    raise Exception\n",
    "print('Sum is fine for all possible combinations!')"
   ]
  },
  {
   "cell_type": "markdown",
   "id": "60a0c59d-daf0-4bc1-8bd0-f446e3b44611",
   "metadata": {},
   "source": [
    "Next equation to verify is the one I don't believe works because of the *way* the coefficients are calculated, but maybe with Klimov's method we can bypass the problem. The verification of this equation is equivalent to verification of the following for an appropraite $f$ and a given $\\xi'$:\n",
    "$$\n",
    "c_{\\eta,f} c_{\\eta,\\xi'} c_{\\eta,\\eta^{-1}f(\\eta) + \\xi'}^* = 1,\n",
    "\\quad\n",
    "\\text{for all } \\eta \\in F^*.\n",
    "$$"
   ]
  },
  {
   "cell_type": "code",
   "execution_count": 24,
   "id": "5348ed61-4cce-4baf-ac7d-094ba4966f97",
   "metadata": {},
   "outputs": [
    {
     "name": "stdout",
     "output_type": "stream",
     "text": [
      "x x + 1 I I 1 -1 1\n"
     ]
    },
    {
     "ename": "Exception",
     "evalue": "",
     "output_type": "error",
     "traceback": [
      "\u001b[0;31m---------------------------------------------------------------------------\u001b[0m",
      "\u001b[0;31mException\u001b[0m                                 Traceback (most recent call last)",
      "Cell \u001b[0;32mIn[24], line 16\u001b[0m\n\u001b[1;32m     14\u001b[0m \u001b[38;5;28;01mif\u001b[39;00m lhs \u001b[38;5;241m!=\u001b[39m rhs:\n\u001b[1;32m     15\u001b[0m     \u001b[38;5;28mprint\u001b[39m(xip, eta, c_eta_f, c_eta_xip, c_eta_inv, lhs, rhs)\n\u001b[0;32m---> 16\u001b[0m     \u001b[38;5;28;01mraise\u001b[39;00m \u001b[38;5;167;01mException\u001b[39;00m\n",
      "\u001b[0;31mException\u001b[0m: "
     ]
    }
   ],
   "source": [
    "f = lambda t: t + t**2 + t**4\n",
    "sols_f = solve_basis(basis, f)\n",
    "\n",
    "xip = x\n",
    "sols_xip = solve_basis(basis, lambda t: xip * t)\n",
    "\n",
    "for eta in list(F)[1:]:\n",
    "    c_eta_f = c(eta, f, sols_f)\n",
    "    c_eta_xip = c(eta, lambda t: xip * t, sols_xip)\n",
    "    c_eta_inv = c(eta, lambda t: ((1/eta) * f(eta) + xip) * t)\n",
    "    \n",
    "    lhs = c_eta_f * c_eta_xip\n",
    "    rhs = c_eta_inv\n",
    "    if lhs != rhs:\n",
    "        print(xip, eta, c_eta_f, c_eta_xip, c_eta_inv, lhs, rhs)\n",
    "        raise Exception"
   ]
  },
  {
   "cell_type": "code",
   "execution_count": null,
   "id": "42f20010-c85e-43b9-b52b-232f47b1b87f",
   "metadata": {},
   "outputs": [],
   "source": []
  },
  {
   "cell_type": "markdown",
   "id": "199d41fd-b778-453d-86d8-28a058892125",
   "metadata": {},
   "source": [
    "So the problem stems from the fact the ray and curve coefficients are intrinsicly calculated in a distinct manner. An so even when, in this case, $\\xi = \\eta^{-1}f(\\eta) + \\xi'$ so that $f(\\eta) = (\\xi + \\xi')\\eta$, the coefficients $c_{\\eta,f}$ and $c_{\\eta,\\xi} = c_{\\eta,\\eta^{-1}f(\\eta) + \\xi'}$ are not always the same. One is calculated using the curve $f$ and the other is calculated as a ray. \n",
    "\n",
    "To simplify things let's check for the case $\\xi' = 0$. And so the equation to verify is:\n",
    "$$\n",
    "c_{\\eta,f} c_{\\eta,\\eta^{-1}f(\\eta)}^* = 1.\n",
    "$$"
   ]
  },
  {
   "cell_type": "code",
   "execution_count": 24,
   "id": "100fc5a0-ea67-4e84-a5ba-4aa73f909203",
   "metadata": {},
   "outputs": [
    {
     "data": {
      "text/html": [
       "<html>\\(\\displaystyle \\left[\\left(1, 1\\right), \\left(1, 1\\right), \\left(i, i\\right), \\left(1, 1\\right), \\left(i, i\\right), \\left(i, i\\right), \\left(i, -i\\right)\\right]\\)</html>"
      ],
      "text/latex": [
       "$\\displaystyle \\left[\\left(1, 1\\right), \\left(1, 1\\right), \\left(i, i\\right), \\left(1, 1\\right), \\left(i, i\\right), \\left(i, i\\right), \\left(i, -i\\right)\\right]$"
      ],
      "text/plain": [
       "[(1, 1), (1, 1), (I, I), (1, 1), (I, I), (I, I), (I, -I)]"
      ]
     },
     "execution_count": 24,
     "metadata": {},
     "output_type": "execute_result"
    }
   ],
   "source": [
    "f = lambda t: t + t**2 + t**4\n",
    "xip = F(0)\n",
    "\n",
    "[(c(eta, f), c(eta, lambda t: (eta**-1 * f(eta) + xip) * t)) for eta in list(F)[1:]]"
   ]
  },
  {
   "cell_type": "markdown",
   "id": "1a733f4a-9682-4cef-92f4-7deb00db1f39",
   "metadata": {},
   "source": [
    "It fails in particular for $\\eta = 1$. Let's see:"
   ]
  },
  {
   "cell_type": "code",
   "execution_count": 28,
   "id": "8f227211-31fa-4d81-9ef5-1e40cafd75e4",
   "metadata": {},
   "outputs": [
    {
     "data": {
      "text/html": [
       "<html>\\(\\displaystyle i\\)</html>"
      ],
      "text/latex": [
       "$\\displaystyle i$"
      ],
      "text/plain": [
       "I"
      ]
     },
     "execution_count": 28,
     "metadata": {},
     "output_type": "execute_result"
    }
   ],
   "source": [
    "c(F(1), f)"
   ]
  },
  {
   "cell_type": "code",
   "execution_count": 32,
   "id": "3d77817e-dadb-4c50-8315-3c7b7dba3dcb",
   "metadata": {},
   "outputs": [
    {
     "data": {
      "text/html": [
       "<html>\\(\\displaystyle -i\\)</html>"
      ],
      "text/latex": [
       "$\\displaystyle -i$"
      ],
      "text/plain": [
       "-I"
      ]
     },
     "execution_count": 32,
     "metadata": {},
     "output_type": "execute_result"
    }
   ],
   "source": [
    "c(F(1), lambda t: F(1)**(-1) * f(F(1)) * t)"
   ]
  },
  {
   "cell_type": "code",
   "execution_count": 35,
   "id": "2cec6933-9da4-48f4-9500-f9960966b85b",
   "metadata": {},
   "outputs": [
    {
     "data": {
      "text/html": [
       "<html>\\(\\displaystyle \\left[1, 1, 1\\right]\\)</html>"
      ],
      "text/latex": [
       "$\\displaystyle \\left[1, 1, 1\\right]$"
      ],
      "text/plain": [
       "[1, 1, 1]"
      ]
     },
     "execution_count": 35,
     "metadata": {},
     "output_type": "execute_result"
    }
   ],
   "source": [
    "components(F(1))"
   ]
  },
  {
   "cell_type": "markdown",
   "id": "f74f1d95-f9cf-4f7d-9646-58f28798f964",
   "metadata": {},
   "source": [
    "For $\\eta = 1$, we have $\\eta = x^3 + x^5 + x^6$ and so its components are $a_k = 1$ for $k = 1,2,3$."
   ]
  },
  {
   "cell_type": "markdown",
   "id": "3903d480-ab6a-4dd5-a558-81ad5b46326a",
   "metadata": {},
   "source": [
    "$$\n",
    "\\begin{align*}\n",
    "c_{\\eta,f}\n",
    "= c_{1,f}\n",
    "&= \n",
    "\\chi\\left[\n",
    "\\sum_{k=1}^{N-1} \\left(\\sum_{j=k+1}^N a_j \\sigma_j\\right) f(a_k \\sigma_k)\n",
    "\\right]\n",
    "\\prod_{l=1}^N c_{a_l \\sigma_l, f}, \\\\\n",
    "&= \\chi\\left[\n",
    "\\sum_{k=1}^{N-1} \\left(\\sum_{j=k+1}^N \\sigma_j\\right) f(\\sigma_k)\n",
    "\\right]\n",
    "\\prod_{l=1}^N c_{\\sigma_l, f} \\\\\n",
    "&= \\chi\\left[\n",
    "\\sum_{k=1}^{N-1} \\left(\\sum_{j=k+1}^N \\sigma_j\\right) f(\\sigma_k)\n",
    "\\right] (-i)\n",
    "\\end{align*}\n",
    "$$"
   ]
  },
  {
   "cell_type": "markdown",
   "id": "dbf668d5-c423-4aed-824b-614952758832",
   "metadata": {},
   "source": [
    "$$\n",
    "\\begin{align*}\n",
    "c_{\\eta,\\eta^{-1}f(\\eta)}\n",
    "= \n",
    "c_{1,1^{-1}f(1)}\n",
    "= c_{1,1}\n",
    "&= \n",
    "\\chi\\left[\n",
    "\\sum_{k=1}^{N-1} \\left(\\sum_{j=k+1}^N a_j \\sigma_j\\right) a_k \\sigma_k\n",
    "\\right]\n",
    "\\prod_{l=1}^N c_{a_l \\sigma_l, 1}, \\\\\n",
    "&= \\chi\\left[\n",
    "\\sum_{k=1}^{N-1} \\left(\\sum_{j=k+1}^N \\sigma_j\\right) \\sigma_k\n",
    "\\right]\n",
    "\\prod_{l=1}^N c_{\\sigma_l, 1} \\\\\n",
    "&= \\chi\\left[\n",
    "\\sum_{k=1}^{N-1} \\left(\\sum_{j=k+1}^N \\sigma_j\\right) \\sigma_k\n",
    "\\right]\n",
    "(-i)\n",
    "\\end{align*} \n",
    "$$"
   ]
  },
  {
   "cell_type": "code",
   "execution_count": 44,
   "id": "dd9c68b3-c181-4767-a7ab-858fc569dfbe",
   "metadata": {},
   "outputs": [
    {
     "data": {
      "text/html": [
       "<html>\\(\\displaystyle \\left[\\left\\{y : i\\right\\}, \\left\\{y : i\\right\\}, \\left\\{y : i\\right\\}\\right]\\)</html>"
      ],
      "text/latex": [
       "$\\displaystyle \\left[\\left\\{y : i\\right\\}, \\left\\{y : i\\right\\}, \\left\\{y : i\\right\\}\\right]$"
      ],
      "text/plain": [
       "[{y: I}, {y: I}, {y: I}]"
      ]
     },
     "execution_count": 44,
     "metadata": {},
     "output_type": "execute_result"
    }
   ],
   "source": [
    "solve_basis(basis, f)"
   ]
  },
  {
   "cell_type": "code",
   "execution_count": 67,
   "id": "664cabce-5150-43c7-a756-c346d308b874",
   "metadata": {},
   "outputs": [
    {
     "data": {
      "text/html": [
       "<html>\\(\\displaystyle \\left[-1, -1, -1\\right]\\)</html>"
      ],
      "text/latex": [
       "$\\displaystyle \\left[-1, -1, -1\\right]$"
      ],
      "text/plain": [
       "[-1, -1, -1]"
      ]
     },
     "execution_count": 67,
     "metadata": {},
     "output_type": "execute_result"
    }
   ],
   "source": [
    "[chi(k * f(k)) for k in basis]"
   ]
  },
  {
   "cell_type": "code",
   "execution_count": 45,
   "id": "ea2e5c83-0634-4650-a243-d1dfafa2b0e9",
   "metadata": {},
   "outputs": [
    {
     "data": {
      "text/html": [
       "<html>\\(\\displaystyle \\left[\\left\\{y : i\\right\\}, \\left\\{y : i\\right\\}, \\left\\{y : i\\right\\}\\right]\\)</html>"
      ],
      "text/latex": [
       "$\\displaystyle \\left[\\left\\{y : i\\right\\}, \\left\\{y : i\\right\\}, \\left\\{y : i\\right\\}\\right]$"
      ],
      "text/plain": [
       "[{y: I}, {y: I}, {y: I}]"
      ]
     },
     "execution_count": 45,
     "metadata": {},
     "output_type": "execute_result"
    }
   ],
   "source": [
    "solve_basis(basis, lambda t: t)"
   ]
  },
  {
   "cell_type": "code",
   "execution_count": 68,
   "id": "8297f6fa-e6fb-4483-a4a9-d58f649065bd",
   "metadata": {},
   "outputs": [
    {
     "data": {
      "text/html": [
       "<html>\\(\\displaystyle \\left[-1, -1, -1\\right]\\)</html>"
      ],
      "text/latex": [
       "$\\displaystyle \\left[-1, -1, -1\\right]$"
      ],
      "text/plain": [
       "[-1, -1, -1]"
      ]
     },
     "execution_count": 68,
     "metadata": {},
     "output_type": "execute_result"
    }
   ],
   "source": [
    "[chi(F(1) * k^2) for k in basis]"
   ]
  },
  {
   "cell_type": "code",
   "execution_count": 47,
   "id": "83ac2cd0-42a6-4da1-9c78-ac46bdad29e6",
   "metadata": {},
   "outputs": [
    {
     "data": {
      "text/html": [
       "<html>\\(\\displaystyle \\left[1, 1, 1\\right]\\)</html>"
      ],
      "text/latex": [
       "$\\displaystyle \\left[1, 1, 1\\right]$"
      ],
      "text/plain": [
       "[1, 1, 1]"
      ]
     },
     "execution_count": 47,
     "metadata": {},
     "output_type": "execute_result"
    }
   ],
   "source": [
    "[f(k) for k in basis]"
   ]
  },
  {
   "cell_type": "code",
   "execution_count": 102,
   "id": "c59664a9-0b1c-4acf-a203-969fd003567a",
   "metadata": {},
   "outputs": [
    {
     "data": {
      "text/html": [
       "<html>\\(\\displaystyle 0\\)</html>"
      ],
      "text/latex": [
       "$\\displaystyle 0$"
      ],
      "text/plain": [
       "0"
      ]
     },
     "execution_count": 102,
     "metadata": {},
     "output_type": "execute_result"
    }
   ],
   "source": [
    "s1 = 0\n",
    "for k in range(N-1):\n",
    "    s2 = 0\n",
    "    for j in range(k+1, N):\n",
    "        s2 += basis[j]\n",
    "    s1 += s2 * basis[k]\n",
    "s1"
   ]
  },
  {
   "cell_type": "code",
   "execution_count": 103,
   "id": "c6db2247-fcb1-4172-a76c-bd3dc8e254da",
   "metadata": {},
   "outputs": [
    {
     "data": {
      "text/html": [
       "<html>\\(\\displaystyle 0\\)</html>"
      ],
      "text/latex": [
       "$\\displaystyle 0$"
      ],
      "text/plain": [
       "0"
      ]
     },
     "execution_count": 103,
     "metadata": {},
     "output_type": "execute_result"
    }
   ],
   "source": [
    "x^3 * (x^5 + x^6) + x^5 * x^6"
   ]
  },
  {
   "cell_type": "code",
   "execution_count": 93,
   "id": "aa8f3354-6448-4f54-a5b3-8e24f947578f",
   "metadata": {},
   "outputs": [
    {
     "data": {
      "text/html": [
       "<html>\\(\\displaystyle x^{2} + x + 1\\)</html>"
      ],
      "text/latex": [
       "$\\displaystyle x^{2} + x + 1$"
      ],
      "text/plain": [
       "x^2 + x + 1"
      ]
     },
     "execution_count": 93,
     "metadata": {},
     "output_type": "execute_result"
    }
   ],
   "source": [
    "s1 = 0\n",
    "for k in range(N-1):\n",
    "    s2 = 0\n",
    "    for j in range(k+1, N):\n",
    "        s2 += basis[j]\n",
    "    s1 += s2 * f(basis[k])\n",
    "s1"
   ]
  },
  {
   "cell_type": "code",
   "execution_count": null,
   "id": "a5b73f52-4348-48ea-87fe-cc1c4452fe14",
   "metadata": {},
   "outputs": [],
   "source": [
    "x"
   ]
  }
 ],
 "metadata": {
  "kernelspec": {
   "display_name": "SageMath 9.8",
   "language": "sage",
   "name": "sagemath"
  },
  "language_info": {
   "codemirror_mode": {
    "name": "ipython",
    "version": 3
   },
   "file_extension": ".py",
   "mimetype": "text/x-python",
   "name": "python",
   "nbconvert_exporter": "python",
   "pygments_lexer": "ipython3",
   "version": "3.9.16"
  }
 },
 "nbformat": 4,
 "nbformat_minor": 5
}
