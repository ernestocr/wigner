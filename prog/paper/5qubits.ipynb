{
 "cells": [
  {
   "cell_type": "markdown",
   "id": "5e7f653d-0802-46fe-8ff5-ef6b1975e666",
   "metadata": {},
   "source": [
    "### Five qubit MUBs\n",
    "\n",
    "Using the desarguesian spread and Kantors inequivalent set of MUBs. The setting a 5 qubit system $\\mathcal H = (\\mathbb C^2)^{\\otimes 5} \\cong \\mathbb C^{32}$."
   ]
  },
  {
   "cell_type": "code",
   "execution_count": 105,
   "id": "988206c0-39f9-4569-90fb-04b5c7d7f02d",
   "metadata": {},
   "outputs": [],
   "source": [
    "import numpy as np\n",
    "from utils import checkMUBs"
   ]
  },
  {
   "cell_type": "code",
   "execution_count": 106,
   "id": "a3f6d66a-1cda-4bec-af1f-549961ded3ce",
   "metadata": {},
   "outputs": [],
   "source": [
    "p = 2\n",
    "N = 5\n",
    "\n",
    "F = GF(p**N, 'x')\n",
    "x = F.gen()"
   ]
  },
  {
   "cell_type": "code",
   "execution_count": 107,
   "id": "bdb71989-8600-4721-aea3-cb047f39c422",
   "metadata": {},
   "outputs": [
    {
     "data": {
      "text/plain": [
       "x^5 + x^2 + 1"
      ]
     },
     "execution_count": 107,
     "metadata": {},
     "output_type": "execute_result"
    }
   ],
   "source": [
    "charpoly(x) # defaults to Conway polynomial"
   ]
  },
  {
   "cell_type": "code",
   "execution_count": 141,
   "id": "44d996ed-f3de-4018-9ea2-6ad6bcd3bc0d",
   "metadata": {},
   "outputs": [],
   "source": [
    "# GR(4,5)\n",
    "R = PolynomialRing(Integers(4), 't')\n",
    "t = R.gen()"
   ]
  },
  {
   "cell_type": "code",
   "execution_count": 160,
   "id": "e4b3d8cd-4891-4621-bc95-8a9552813d0b",
   "metadata": {},
   "outputs": [
    {
     "data": {
      "text/plain": [
       "t^5 + 3*t^3 + 2*t + 3"
      ]
     },
     "execution_count": 160,
     "metadata": {},
     "output_type": "execute_result"
    }
   ],
   "source": [
    "factor(t**5 + 3*t**3 + 2*t + 3)"
   ]
  },
  {
   "cell_type": "code",
   "execution_count": 161,
   "id": "674425b2-1575-425f-91b2-ff2d4259707b",
   "metadata": {
    "scrolled": true
   },
   "outputs": [
    {
     "data": {
      "text/plain": [
       "Univariate Quotient Polynomial Ring in w over Ring of integers modulo 4 with modulus t^5 + 3*t^2 + 2*t + 3"
      ]
     },
     "execution_count": 161,
     "metadata": {},
     "output_type": "execute_result"
    }
   ],
   "source": [
    "GR = R.quotient(t**5 + 3*t**2 + 2*t + 3, 'w')\n",
    "w = GR.gen()\n",
    "GR"
   ]
  },
  {
   "cell_type": "code",
   "execution_count": 174,
   "id": "7c72c5e7-09c4-4ba8-87f5-f064d328c4df",
   "metadata": {},
   "outputs": [
    {
     "data": {
      "text/plain": [
       "0"
      ]
     },
     "execution_count": 174,
     "metadata": {},
     "output_type": "execute_result"
    }
   ],
   "source": [
    "w**5 + 3*w**2 + 2*w + 3"
   ]
  },
  {
   "cell_type": "code",
   "execution_count": 175,
   "id": "362dc617-7e3b-4be3-b49f-7fdca29c05ee",
   "metadata": {},
   "outputs": [
    {
     "data": {
      "text/plain": [
       "0"
      ]
     },
     "execution_count": 175,
     "metadata": {},
     "output_type": "execute_result"
    }
   ],
   "source": [
    "w**(2**5-1) - 1"
   ]
  },
  {
   "cell_type": "code",
   "execution_count": 176,
   "id": "2dde647b-a15e-40dd-8680-f738689194ff",
   "metadata": {},
   "outputs": [],
   "source": [
    "T = [GR(0)] + [w**j for j in range(1, 2**N-1)] + [GR(1)]\n",
    "\n",
    "def toInt(k):\n",
    "    return list(F).index(k)\n",
    "\n",
    "def TeichLift(k):\n",
    "    return T[toInt(k)]\n",
    "hat = TeichLift # shortcut\n",
    "\n",
    "def TSqrt(k):\n",
    "    for m in T:\n",
    "        if m**2 == k:\n",
    "            return m\n",
    "    raise Exception('Root not found!')"
   ]
  },
  {
   "cell_type": "code",
   "execution_count": 177,
   "id": "36644b79-28a2-41fe-960e-739d5a42b09c",
   "metadata": {},
   "outputs": [],
   "source": [
    "for a in F:\n",
    "    for b in F:\n",
    "        if hat(a * b) != hat(a) * hat(b):\n",
    "            raise Exception('Lift of multiplication is wrong!')"
   ]
  },
  {
   "cell_type": "code",
   "execution_count": 179,
   "id": "5229ddd4-0308-4764-80b1-e284d85003d3",
   "metadata": {},
   "outputs": [],
   "source": [
    "for a in F:\n",
    "    for b in F:\n",
    "        h_sum = hat(a + b)\n",
    "        sum_h = hat(a) + hat(b) + GR(2) * TSqrt(hat(a * b))\n",
    "        if h_sum != sum_h:\n",
    "            raise Exception('Lift is wrong!')"
   ]
  },
  {
   "cell_type": "code",
   "execution_count": 180,
   "id": "36d75514-446e-4293-b3c8-87a7ba19f4d7",
   "metadata": {},
   "outputs": [],
   "source": [
    "def chi(k):\n",
    "    return np.exp(np.pi * 1j * int(k.trace()))\n",
    "\n",
    "def Proj(u, v=None):\n",
    "    if v is None:\n",
    "        v = u\n",
    "    return np.outer(u, v.conj().T)\n",
    "\n",
    "Id = np.eye(2**N)\n",
    "\n",
    "def Fourier():\n",
    "    s = np.zeros((2**N, 2**N), dtype='complex128')\n",
    "    for i, a in enumerate(F):\n",
    "        for j, b in enumerate(F):\n",
    "            s[i,j] = chi(a * b) / np.sqrt(2**N)\n",
    "    return s\n",
    "FF = Fourier()\n",
    "\n",
    "def Z(a):\n",
    "    return np.diag([chi(a * k) for k in F])\n",
    "\n",
    "def X(b):\n",
    "    return FF.conj().T @ Z(b) @ FF\n",
    "\n",
    "# SageMath handles the 2-adic decomposition to define the trace.\n",
    "def phi(a, b):\n",
    "    if not isinstance(a, type(w)):\n",
    "        a = hat(a)\n",
    "    if not isinstance(b, type(w)):\n",
    "        b = hat(b)\n",
    "\n",
    "    return (1j)**(int( (a * b).trace() ))\n",
    "\n",
    "def D(a, b):\n",
    "    return phi(a, b) * Z(a) @ X(b)"
   ]
  },
  {
   "cell_type": "code",
   "execution_count": 181,
   "id": "d2d6a48f-9eda-4c12-b803-57b5f4e0eb31",
   "metadata": {},
   "outputs": [],
   "source": [
    "# Definiion of the rotation operators for the Desarguesian spread.\n",
    "# The function gives the full basis corresponding to a given parameter \\mu.\n",
    "def V(mu):\n",
    "    s = np.zeros((2**N, 2**N), dtype='complex128')\n",
    "    for i, k in enumerate(F):\n",
    "        s += phi(k, mu * k) * Proj(FF[:, i])\n",
    "    return s\n",
    "\n",
    "# We can obtain the whole set of MUBs, ordered\n",
    "# by the field elements in the following way:\n",
    "mubsStd = [FF] + [V(mu) for mu in F]"
   ]
  },
  {
   "cell_type": "code",
   "execution_count": 182,
   "id": "42c72669-3118-4940-8b79-99d835bb0a52",
   "metadata": {},
   "outputs": [
    {
     "name": "stdout",
     "output_type": "stream",
     "text": [
      "MUBs are good!\n"
     ]
    }
   ],
   "source": [
    "checkMUBs(mubsStd)"
   ]
  },
  {
   "cell_type": "code",
   "execution_count": 195,
   "id": "a625c343-57f8-4d58-b447-e527ce85c1ea",
   "metadata": {},
   "outputs": [
    {
     "data": {
      "text/plain": [
       "0"
      ]
     },
     "execution_count": 195,
     "metadata": {},
     "output_type": "execute_result"
    }
   ],
   "source": [
    "x.trace()"
   ]
  },
  {
   "cell_type": "code",
   "execution_count": 199,
   "id": "89a8bf9c-5821-44e6-9258-cbe3ff151bac",
   "metadata": {},
   "outputs": [],
   "source": [
    "def FieldTrace(k):\n",
    "    return sum([k**(2**j) for j in range(N)])\n",
    "\n",
    "def HatFieldTrace(k):\n",
    "    return sum([hat(k**(2**j)) for j in range(N)])"
   ]
  },
  {
   "cell_type": "code",
   "execution_count": 198,
   "id": "c27d73ed-c63e-41bf-969b-4c407b0187da",
   "metadata": {},
   "outputs": [],
   "source": [
    "for k in F:\n",
    "    if k.trace() != FieldTrace(k):\n",
    "        raise Exception('Trace ill-defined.', k)"
   ]
  },
  {
   "cell_type": "markdown",
   "id": "8a0d0c55-f9f4-4551-9863-2a2f0ab8ff65",
   "metadata": {},
   "source": [
    "Recall the definition of the trace in the field extension:\n",
    "$$\n",
    "Tr(x) = \n",
    "$$"
   ]
  },
  {
   "cell_type": "code",
   "execution_count": 210,
   "id": "85303ad5-e72a-4a05-aec2-294777a05512",
   "metadata": {},
   "outputs": [],
   "source": [
    "# Kantor's MUBs\n",
    "def VK(mu):\n",
    "    s = np.zeros((2**N, 2**N), dtype='complex128')\n",
    "    # f = lambda k: mu**2 * k + mu * k.trace() + (mu * k).trace()\n",
    "    f_hat = lambda k: hat(mu**2 * k) + hat(mu) * HatFieldTrace(k) + HatFieldTrace(mu * k)\n",
    "    for i, k in enumerate(F):\n",
    "        s += phi(k, f_hat(k)) * Proj(FF[:, i])\n",
    "    return s"
   ]
  },
  {
   "cell_type": "code",
   "execution_count": 211,
   "id": "71fcc20b-2726-4864-9c16-942e9b112186",
   "metadata": {},
   "outputs": [],
   "source": [
    "mubsK = [FF] + [VK(mu) for mu in F]"
   ]
  },
  {
   "cell_type": "code",
   "execution_count": 212,
   "id": "b1f18ec8-06ea-4011-ac48-d8c8379f6a74",
   "metadata": {},
   "outputs": [
    {
     "name": "stdout",
     "output_type": "stream",
     "text": [
      "MUBs are good!\n"
     ]
    }
   ],
   "source": [
    "checkMUBs(mubsK)"
   ]
  },
  {
   "cell_type": "markdown",
   "id": "e84ac31d-5eba-4225-b4da-0180a8eda4cf",
   "metadata": {},
   "source": [
    "Defining the Wigner functions."
   ]
  },
  {
   "cell_type": "code",
   "execution_count": 223,
   "id": "0db57176-da49-440b-98f1-81e0706f757f",
   "metadata": {},
   "outputs": [],
   "source": [
    "# Wootters kernel for Desarguesian spread\n",
    "def Wootters(a, b):\n",
    "    op = Proj(mubsStd[0][:, toInt(a)]) # Fourier basis\n",
    "    for xi in F:\n",
    "        # for nu in F:\n",
    "        #     d = float(b == xi * a + nu)\n",
    "        #     op += d * Proj(mubsStd[toInt(xi)+1][:,toInt(nu)])\n",
    "        nu = b - xi * a\n",
    "        op += Proj(mubsStd[toInt(xi)+1][:,toInt(nu)])\n",
    "    return op - Id\n",
    "\n",
    "# Definition of the Wigner function\n",
    "def Wigner(state, a, b, kernel):\n",
    "    return (state @ kernel(a, b)).trace()\n",
    "\n",
    "def WignerMatrix(state, kernel):\n",
    "    W = np.zeros((2**N, 2**N))\n",
    "    for i, a in enumerate(F):\n",
    "        for j, b in enumerate(F):\n",
    "            W[i, j] = np.real(Wigner(state, a, b, kernel)) / (2**N)\n",
    "    return W\n",
    "\n",
    "# shortcut\n",
    "def WW(state, approx=True, kernel=Wootters):\n",
    "    w = WignerMatrix(Proj(state), kernel)\n",
    "    if approx:\n",
    "        return np.round(w, 3)\n",
    "    return w\n",
    "\n",
    "# Sum the Wigner function along a given curve\n",
    "def Prob(w, curve):\n",
    "    s = 0\n",
    "    for i, a in enumerate(F):\n",
    "        for j, b in enumerate(F):\n",
    "            s += w[i,j] * float(b == curve(a))\n",
    "    return s"
   ]
  },
  {
   "cell_type": "code",
   "execution_count": 221,
   "id": "1909c6e2-4e16-48eb-bc61-f795550e6e5f",
   "metadata": {},
   "outputs": [],
   "source": [
    "# Wootters kernel for Kantor's spread\n",
    "def Kantor(a, b):\n",
    "    op = Proj(mubsK[0][:, toInt(a)]) # Fourier basis\n",
    "    for xi in F:\n",
    "        nu = b - (xi**2 * a + xi * a.trace() + (xi * a).trace())\n",
    "        op += Proj(mubsK[toInt(xi)+1][:,toInt(nu)])\n",
    "    return op - Id"
   ]
  },
  {
   "cell_type": "markdown",
   "id": "66feb359-51a1-4ab9-8331-f5509a44caac",
   "metadata": {},
   "source": [
    "Testing the Wigner function."
   ]
  },
  {
   "cell_type": "code",
   "execution_count": 222,
   "id": "d97fc9b8-cda8-47cc-9bff-a91ab18952c5",
   "metadata": {},
   "outputs": [],
   "source": [
    "# Kernel and Wigner function testing\n",
    "\n",
    "from utils import checkPhasePointOperators\n",
    "\n",
    "class TestSuite:\n",
    "\n",
    "    def __init__(self):\n",
    "        pass\n",
    "\n",
    "    def run(self):\n",
    "        self.RotationOperators()\n",
    "        self.RotationCoefficients()\n",
    "        self.KernelProperties()\n",
    "        self.TomographicProperties()\n",
    "        self.Covariance()\n",
    "\n",
    "        print('All tests have passed successfully!')\n",
    "\n",
    "    def RotationOperators(self):\n",
    "        try:\n",
    "            for mu in F:\n",
    "                for alpha in F:\n",
    "                    v_op = V(mu)\n",
    "                    z_op = Z(alpha)\n",
    "                    rot_op = v_op @ z_op @ v_op.conj().T\n",
    "                    disp = D(alpha, mu * alpha)\n",
    "                    if not np.all(np.isclose(rot_op, disp)):\n",
    "                        raise Exception('Rotation failed!') \n",
    "        finally:\n",
    "            print('Rotation operators work!')\n",
    "\n",
    "    def RotationCoefficients(self):\n",
    "        try:\n",
    "            for mu in F:\n",
    "                for k in F:\n",
    "                    for a in F:\n",
    "                        c_k = phi(k, k * mu)\n",
    "                        c_a = phi(a, a * mu)\n",
    "                        c_ak = phi(k + a, (k + a) * mu)\n",
    "                        char = chi(mu * a * k)\n",
    "                        if not np.isclose(c_k * c_a, c_ak * char):\n",
    "                            raise Exception(\n",
    "                                'Recurrence relation does not hold!',\n",
    "                            mu, k, a)\n",
    "        finally:\n",
    "            print('Recurrence relation holds for chosen phase!')\n",
    "\n",
    "    def KernelProperties(self):\n",
    "        ops = []\n",
    "        for a in F:\n",
    "            for b in F:\n",
    "                ops.append(Wootters(a, b))\n",
    "        \n",
    "        checkPhasePointOperators(ops)\n",
    "        \n",
    "        if np.all(np.isclose(sum(ops) / 2**N, Id)):\n",
    "            print('Kernel is normalized!')\n",
    "\n",
    "    def TomographicProperties(self):\n",
    "        try:\n",
    "            # Vertical and horizontal lines\n",
    "            for nu in F:\n",
    "                op = np.zeros((2**N, 2**N), dtype='complex128')\n",
    "                for a in F:\n",
    "                    op += Wootters(a, nu)\n",
    "                if not np.all(np.isclose(op / 2**N, Proj(Id[:, toInt(nu)]))):\n",
    "                    raise Exception('Error with Z eigenbasis!')\n",
    "                \n",
    "                op = np.zeros((2**N, 2**N), dtype='complex128')\n",
    "                for b in F:\n",
    "                    op += Wootters(nu, b)\n",
    "                if not np.all(np.isclose(op / 2**N, Proj(FF[:, toInt(nu)]))):\n",
    "                    raise Exception('Error with X eigenbasis!')\n",
    "                \n",
    "            # Arbitrary curve\n",
    "            for mu in F:\n",
    "                for nu in F:\n",
    "                    op = np.zeros((2**N, 2**N), dtype='complex128')\n",
    "                    for a in F:\n",
    "                        for b in F:\n",
    "                            op += Wootters(a, b) * float(b == mu * a + nu)\n",
    "                    v = mubsStd[toInt(mu)+1][:,toInt(nu)]\n",
    "                    if not np.all(np.isclose(op / 2**N, Proj(v))):\n",
    "                        raise Exception('Error with Z_a X_f(a) eigenbasis!')\n",
    "        finally:\n",
    "            print('Tomographic properties hold!')\n",
    "    \n",
    "    def Covariance(self, verbose=False):\n",
    "        try:\n",
    "            count = 0\n",
    "            for k in F:\n",
    "                for l in F:\n",
    "                    for a in F:\n",
    "                        for b in F:\n",
    "                            disp = D(k, l)\n",
    "                            disp_op = disp @ Wootters(a, b) @ disp.conj().T\n",
    "                            if not np.all(np.isclose(disp_op, Wootters(a+k, b+l))):\n",
    "                                raise Exception('Not covariant', a, b, k, l)\n",
    "                            if verbose:\n",
    "                                if count % 10000 == 0:\n",
    "                                    print('Checked {} possibilities.'.format(count))\n",
    "                            count += 1\n",
    "        finally:\n",
    "            print('Kernel is covariant!')\n",
    "\n",
    "    # Testing tomographic probabilities\n",
    "\n",
    "    def TestProb(self, state):\n",
    "        w = WW(state, approx=False)\n",
    "        for mu in F:\n",
    "            for nu in F:\n",
    "                wigner_prob = Prob(w, lambda t: mu * t + nu)\n",
    "                trans_prob  = abs(\n",
    "                    state.conj() @ mubsStd[toInt(mu)+1][:,toInt(nu)]\n",
    "                )**2\n",
    "                if not np.isclose(wigner_prob, trans_prob):\n",
    "                    raise Exception(\n",
    "                        'Probabilities do not match!',\n",
    "                        mu, nu, wigner_prob, trans_prob\n",
    "                    )\n",
    "        print('Probabilities are correct!')"
   ]
  },
  {
   "cell_type": "code",
   "execution_count": 220,
   "id": "14d41bb6-3d16-42c9-9353-393e3f149b2a",
   "metadata": {
    "scrolled": true
   },
   "outputs": [
    {
     "name": "stdout",
     "output_type": "stream",
     "text": [
      "Rotation operators work!\n",
      "Recurrence relation holds for chosen phase!\n",
      "Operators are self-adjoint and unit trace!\n",
      "Operators are orthonormal!\n",
      "Kernel is normalized!\n",
      "Tomographic properties hold!\n",
      "Kernel is covariant!\n",
      "All tests have passed successfully!\n"
     ]
    }
   ],
   "source": [
    "test = TestSuite()\n",
    "test.run()"
   ]
  },
  {
   "cell_type": "code",
   "execution_count": 226,
   "id": "da93d665-01ea-4132-9f0e-b59d435df2e7",
   "metadata": {},
   "outputs": [],
   "source": [
    "import matplotlib.pyplot as plt"
   ]
  },
  {
   "cell_type": "code",
   "execution_count": 235,
   "id": "0fe8f6e9-17ab-4b07-80d5-e1232a0693f9",
   "metadata": {},
   "outputs": [
    {
     "data": {
      "text/plain": [
       "<matplotlib.image.AxesImage object at 0x176c9e670>"
      ]
     },
     "execution_count": 235,
     "metadata": {},
     "output_type": "execute_result"
    },
    {
     "data": {
      "image/png": "[encoded data removed]",
      "text/plain": [
       "<Figure size 640x480 with 1 Axes>"
      ]
     },
     "metadata": {},
     "output_type": "display_data"
    }
   ],
   "source": [
    "plt.imshow(WW(mubsStd[6][:,0], kernel=Kantor), origin='lower')"
   ]
  },
  {
   "cell_type": "markdown",
   "id": "082748ff-91b2-4e59-b053-502a273535bb",
   "metadata": {},
   "source": [
    "No luck!"
   ]
  },
  {
   "cell_type": "code",
   "execution_count": 243,
   "id": "0810cf04-1322-46e2-b2af-3f789d5fca24",
   "metadata": {},
   "outputs": [],
   "source": [
    "def f(mu):\n",
    "    return lambda k: mu**2 * k + mu * k.trace() + (mu * k).trace()\n",
    "\n",
    "def f_hat(mu):\n",
    "    return lambda k: hat(mu**2 * k) + hat(mu) * HatFieldTrace(k) + HatFieldTrace(mu * k)"
   ]
  },
  {
   "cell_type": "code",
   "execution_count": 246,
   "id": "1182830f-8e56-4dac-8ce8-317361115cc0",
   "metadata": {},
   "outputs": [
    {
     "name": "stdout",
     "output_type": "stream",
     "text": [
      "Tested 0 possibilities.\n",
      "Tested 1000 possibilities.\n",
      "Tested 2000 possibilities.\n",
      "Tested 3000 possibilities.\n",
      "Tested 4000 possibilities.\n",
      "Tested 5000 possibilities.\n",
      "Tested 6000 possibilities.\n",
      "Tested 7000 possibilities.\n",
      "Tested 8000 possibilities.\n",
      "Tested 9000 possibilities.\n",
      "Tested 10000 possibilities.\n",
      "Tested 11000 possibilities.\n",
      "Tested 12000 possibilities.\n",
      "Tested 13000 possibilities.\n",
      "Tested 14000 possibilities.\n",
      "Tested 15000 possibilities.\n",
      "Tested 16000 possibilities.\n",
      "Tested 17000 possibilities.\n",
      "Tested 18000 possibilities.\n",
      "Tested 19000 possibilities.\n",
      "Tested 20000 possibilities.\n",
      "Tested 21000 possibilities.\n",
      "Tested 22000 possibilities.\n",
      "Tested 23000 possibilities.\n",
      "Tested 24000 possibilities.\n",
      "Tested 25000 possibilities.\n",
      "Tested 26000 possibilities.\n",
      "Tested 27000 possibilities.\n",
      "Tested 28000 possibilities.\n",
      "Tested 29000 possibilities.\n",
      "Tested 30000 possibilities.\n",
      "Tested 31000 possibilities.\n",
      "Tested 32000 possibilities.\n",
      "Equation (40) is valid for all (a,b) and all curves!\n"
     ]
    }
   ],
   "source": [
    "# Verification of the equation (40).\n",
    "count = 0\n",
    "for alpha in F:\n",
    "    for beta in F:\n",
    "        for s in list(F)[:1]:        \n",
    "            for k in list(F)[:1]:\n",
    "                for mu in F:\n",
    "                    nu = beta - mu * alpha\n",
    "    \n",
    "                    psi_mu_nu = mubsStd[toInt(mu)+1][:,toInt(nu)]\n",
    "                    psi_f_k = mubsK[toInt(s)+1][:,toInt(k)]\n",
    "    \n",
    "                    inp = np.abs(psi_mu_nu.conj() @ psi_f_k)**2\n",
    "    \n",
    "                    ss = 0\n",
    "                    for xi in F:\n",
    "                        c_xif = phi(xi, f_hat(s)(xi))\n",
    "                        c_ximu = phi(xi, xi * mu)\n",
    "                        char = chi(xi * (-k + nu))\n",
    "                        d = int(mu * xi == f(s)(xi))\n",
    "                        ss += c_xif * conjugate(c_ximu) * char * d / (2**N)\n",
    "\n",
    "\n",
    "                    if count % 1000 == 0:\n",
    "                        print('Tested {} possibilities.'.format(count))\n",
    "                    count += 1\n",
    "                        \n",
    "                    if not np.isclose(inp, ss):\n",
    "                        raise Exception('No equality!', mu, nu, s, k)\n",
    "print('Equation (40) is valid for all (a,b) and all curves!')"
   ]
  },
  {
   "cell_type": "markdown",
   "id": "9a8b4dbc-d658-46de-b31d-c637eca4a28b",
   "metadata": {},
   "source": [
    "Now for the bad part..."
   ]
  },
  {
   "cell_type": "code",
   "execution_count": 239,
   "id": "c27da19d-c218-41f1-84cb-df178a77945d",
   "metadata": {},
   "outputs": [
    {
     "name": "stdout",
     "output_type": "stream",
     "text": [
      "1.0937 (1.0938+0j) (0.9688+0j) x 0\n"
     ]
    },
    {
     "ename": "Exception",
     "evalue": "Sums do not match!",
     "output_type": "error",
     "traceback": [
      "\u001b[0;31m---------------------------------------------------------------------------\u001b[0m",
      "\u001b[0;31mException\u001b[0m                                 Traceback (most recent call last)",
      "Cell \u001b[0;32mIn[239], line 33\u001b[0m\n\u001b[1;32m     31\u001b[0m \u001b[38;5;28;01mif\u001b[39;00m \u001b[38;5;129;01mnot\u001b[39;00m np\u001b[38;5;241m.\u001b[39misclose(inps, s42):\n\u001b[1;32m     32\u001b[0m     \u001b[38;5;28mprint\u001b[39m(np\u001b[38;5;241m.\u001b[39mround(inps, Integer(\u001b[38;5;241m4\u001b[39m)), np\u001b[38;5;241m.\u001b[39mround(s40, Integer(\u001b[38;5;241m4\u001b[39m)), np\u001b[38;5;241m.\u001b[39mround(s42, Integer(\u001b[38;5;241m4\u001b[39m)), s, k)\n\u001b[0;32m---> 33\u001b[0m     \u001b[38;5;28;01mraise\u001b[39;00m \u001b[38;5;167;01mException\u001b[39;00m(\u001b[38;5;124m'\u001b[39m\u001b[38;5;124mSums do not match!\u001b[39m\u001b[38;5;124m'\u001b[39m)\n",
      "\u001b[0;31mException\u001b[0m: Sums do not match!"
     ]
    }
   ],
   "source": [
    "# Equation (42)\n",
    "\n",
    "alpha = x\n",
    "beta  = x\n",
    "for s in F:\n",
    "    for k in F:\n",
    "        inps = 0\n",
    "        s40 = 0\n",
    "        for mu in F:\n",
    "            nu = beta - mu * alpha\n",
    "\n",
    "            # Inner product sum\n",
    "            psi_mu_nu = mubsStd[toInt(mu)+1][:,toInt(nu)]\n",
    "            psi_f_k = mubsK[toInt(s)+1][:,toInt(k)]\n",
    "\n",
    "            inps += np.abs(psi_mu_nu.conj() @ psi_f_k)**2\n",
    "\n",
    "            # Right hand side of (40)\n",
    "            for xi in F:\n",
    "                c_xif = phi(hat(xi), f_hat(s)(xi))\n",
    "                c_ximu = phi(xi, mu * xi)\n",
    "                char = chi(xi * (-k + beta - mu * alpha))\n",
    "                d = int(mu * xi == f(s)(xi))\n",
    "                s40 += c_xif * conjugate(c_ximu) * char * d / (2**N)\n",
    "\n",
    "        # Right hand side of (42)\n",
    "        s42 = 1\n",
    "        for xi in list(F)[1:]:\n",
    "            s42 += chi(xi * (k + beta + f(s)(alpha))) / (2**N)\n",
    "        \n",
    "        if not np.isclose(inps, s42):\n",
    "            print(np.round(inps, 4), np.round(s40, 4), np.round(s42, 4), s, k)\n",
    "            raise Exception('Sums do not match!')"
   ]
  },
  {
   "cell_type": "markdown",
   "id": "842b03ac-3a97-4194-afbf-1624362dd0b0",
   "metadata": {},
   "source": [
    "So it seems to all stem from the fact that $\\widehat{f_\\mu(x)} \\neq f_{\\hat\\mu}(\\hat x)$ for all $x \\in F$. Is this true for all presemifield operations? Recall the definition of Kantor's presemifield operation:\n",
    "$$\n",
    "\\begin{align*}\n",
    "\\mu \\circ x = f_\\mu(x)\n",
    "&= \\mu^2 x + \\mu \\, Tr(x) + Tr(\\mu x) \\\\\n",
    "&= \\mu^2 x + \\mu \\, \\sum_{i=0}^{N-1} x^{2^i} + \\sum_{j=0}^{N-1} (\\mu x)^{2^j}\n",
    "\\end{align*}\n",
    "$$\n",
    "According to Kanat we can extend the multiplication of a presemifield $(F,+,\\circ)$ to the Teichmüller in the following manner, for the multiplication given by:\n",
    "$$\n",
    "x \\circ y = \\sum a_{ij} x^{2^i} y^{2^j},\n",
    "$$\n",
    "the multiplication in $\\mathcal T$ is given by:\n",
    "$$\n",
    "\\hat x \\circ \\hat y = \\sum \\hat a_{ij} \\hat x^{2^i} \\hat y^{2^j}.\n",
    "$$\n",
    "We can clearly see that $\\hat x \\circ \\hat y \\neq \\widehat{x \\circ y}$."
   ]
  },
  {
   "cell_type": "code",
   "execution_count": 251,
   "id": "709e08ad-62c4-4825-90a7-067b48976e5e",
   "metadata": {},
   "outputs": [
    {
     "ename": "Exception",
     "evalue": "('f_hat is not equal to hat_f!', x, x^2)",
     "output_type": "error",
     "traceback": [
      "\u001b[0;31m---------------------------------------------------------------------------\u001b[0m",
      "\u001b[0;31mException\u001b[0m                                 Traceback (most recent call last)",
      "Cell \u001b[0;32mIn[251], line 9\u001b[0m\n\u001b[1;32m      7\u001b[0m \u001b[38;5;28;01mfor\u001b[39;00m k \u001b[38;5;129;01min\u001b[39;00m F:\n\u001b[1;32m      8\u001b[0m     \u001b[38;5;28;01mif\u001b[39;00m hat(f(mu)(k)) \u001b[38;5;241m!=\u001b[39m f_hat(mu)(k):\n\u001b[0;32m----> 9\u001b[0m         \u001b[38;5;28;01mraise\u001b[39;00m \u001b[38;5;167;01mException\u001b[39;00m(\u001b[38;5;124m'\u001b[39m\u001b[38;5;124mf_hat is not equal to hat_f!\u001b[39m\u001b[38;5;124m'\u001b[39m, mu, k)\n",
      "\u001b[0;31mException\u001b[0m: ('f_hat is not equal to hat_f!', x, x^2)"
     ]
    }
   ],
   "source": [
    "# def f(mu):\n",
    "#     return lambda k: mu**2 * k + mu * k.trace() + (mu * k).trace()\n",
    "\n",
    "# def f_hat(mu):\n",
    "#     return lambda k: hat(mu**2 * k) + hat(mu) * HatFieldTrace(k) + HatFieldTrace(mu * k)\n",
    "for mu in F:\n",
    "    for k in F:\n",
    "        if hat(f(mu)(k)) != f_hat(mu)(k):\n",
    "            raise Exception('f_hat is not equal to hat_f!', mu, k)"
   ]
  },
  {
   "cell_type": "code",
   "execution_count": 256,
   "id": "370a086d-8219-4307-be26-41d506653666",
   "metadata": {},
   "outputs": [
    {
     "data": {
      "text/plain": [
       "w^4 + 2*w^2 + 1"
      ]
     },
     "execution_count": 256,
     "metadata": {},
     "output_type": "execute_result"
    }
   ],
   "source": [
    "hat(f(x)(x^2))"
   ]
  },
  {
   "cell_type": "code",
   "execution_count": 255,
   "id": "92621202-0d9b-492b-b74d-7a9277b23dca",
   "metadata": {},
   "outputs": [
    {
     "data": {
      "text/plain": [
       "w^4 + 3"
      ]
     },
     "execution_count": 255,
     "metadata": {},
     "output_type": "execute_result"
    }
   ],
   "source": [
    "f_hat(x)(x^2)"
   ]
  },
  {
   "cell_type": "markdown",
   "id": "62286288-c1c2-4994-8692-3abac8f91328",
   "metadata": {},
   "source": [
    "An example where $\\widehat{\\mu \\circ \\kappa} \\neq \\hat \\mu \\circ \\hat \\kappa$ is given by $\\mu = x$ and $\\kappa = x^2$. In this case $x \\circ x^2 = x^4 + 1$ which lifted to $\\mathcal T$ is equal to $w^4 + 2w^2 + 1$, while $\\hat x \\circ \\widehat{x^2} = w^4 + 3$. So even when $\\mu \\xi = f_\\mu(\\xi)$ in equation (40), it is not so that the phases will be the same. And so the proof seems to be invalid even for presemifield operations. \n",
    "\n",
    "A question that is bothering me is _why_ is the lifted multiplication is the form mentioned by Kannat? Empirically it can be seen that simply lifting the evaluation does not generate MUBs, so it is a special reason."
   ]
  },
  {
   "cell_type": "code",
   "execution_count": null,
   "id": "5a7c2024-ef22-49bf-82a8-b3a0ee40346b",
   "metadata": {},
   "outputs": [],
   "source": []
  }
 ],
 "metadata": {
  "kernelspec": {
   "display_name": "SageMath 9.8",
   "language": "sage",
   "name": "sagemath"
  },
  "language_info": {
   "codemirror_mode": {
    "name": "ipython",
    "version": 3
   },
   "file_extension": ".py",
   "mimetype": "text/x-python",
   "name": "python",
   "nbconvert_exporter": "python",
   "pygments_lexer": "ipython3",
   "version": "3.9.16"
  }
 },
 "nbformat": 4,
 "nbformat_minor": 5
}
