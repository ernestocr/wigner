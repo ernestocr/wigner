{
 "cells": [
  {
   "cell_type": "markdown",
   "id": "5e7f653d-0802-46fe-8ff5-ef6b1975e666",
   "metadata": {},
   "source": [
    "### Five qubit MUBs\n",
    "\n",
    "Using the desarguesian spread and Kantors inequivalent set."
   ]
  },
  {
   "cell_type": "code",
   "execution_count": 1,
   "id": "a3f6d66a-1cda-4bec-af1f-549961ded3ce",
   "metadata": {},
   "outputs": [],
   "source": [
    "p = 2\n",
    "N = 5\n",
    "\n",
    "F = GF(p^N, 'x', repr='poly')\n",
    "x = F.gen()"
   ]
  },
  {
   "cell_type": "code",
   "execution_count": 2,
   "id": "bdb71989-8600-4721-aea3-cb047f39c422",
   "metadata": {},
   "outputs": [
    {
     "data": {
      "text/plain": [
       "x^5 + x^2 + 1"
      ]
     },
     "execution_count": 2,
     "metadata": {},
     "output_type": "execute_result"
    }
   ],
   "source": [
    "charpoly(x) # defaults to Conway polynomial"
   ]
  },
  {
   "cell_type": "code",
   "execution_count": 3,
   "id": "44d996ed-f3de-4018-9ea2-6ad6bcd3bc0d",
   "metadata": {},
   "outputs": [],
   "source": [
    "# GR(4,5)\n",
    "R = PolynomialRing(Integers(4), 't')\n",
    "t = R.gen()"
   ]
  },
  {
   "cell_type": "code",
   "execution_count": 4,
   "id": "e4b3d8cd-4891-4621-bc95-8a9552813d0b",
   "metadata": {},
   "outputs": [
    {
     "data": {
      "text/plain": [
       "t^5 + t^2 + 1"
      ]
     },
     "execution_count": 4,
     "metadata": {},
     "output_type": "execute_result"
    }
   ],
   "source": [
    "factor(t^5 + t^2 + 1)"
   ]
  },
  {
   "cell_type": "code",
   "execution_count": 5,
   "id": "674425b2-1575-425f-91b2-ff2d4259707b",
   "metadata": {},
   "outputs": [
    {
     "data": {
      "text/plain": [
       "Univariate Quotient Polynomial Ring in w over Ring of integers modulo 4 with modulus t^5 + t^2 + 1"
      ]
     },
     "execution_count": 5,
     "metadata": {},
     "output_type": "execute_result"
    }
   ],
   "source": [
    "GR = R.quotient(t^5 + t^2 + 1, 'w')\n",
    "w = GR.gen()\n",
    "GR"
   ]
  },
  {
   "cell_type": "markdown",
   "id": "10ebf278-a405-4a74-8429-3e6d6375327b",
   "metadata": {},
   "source": [
    "Field generator is not the Teichmüller generator, this is one is though:"
   ]
  },
  {
   "cell_type": "code",
   "execution_count": 7,
   "id": "38c1de8b-db56-467d-87ed-da36499c074e",
   "metadata": {},
   "outputs": [
    {
     "data": {
      "text/plain": [
       "1"
      ]
     },
     "execution_count": 7,
     "metadata": {},
     "output_type": "execute_result"
    }
   ],
   "source": [
    "xi = w^2 + 2*w + 1\n",
    "xi^(2^5-1)"
   ]
  },
  {
   "cell_type": "code",
   "execution_count": 33,
   "id": "2dde647b-a15e-40dd-8680-f738689194ff",
   "metadata": {},
   "outputs": [],
   "source": [
    "T = [GR(0)] + [xi^j for j in range(1, 2^N-1)] + [GR(1)]"
   ]
  },
  {
   "cell_type": "code",
   "execution_count": 24,
   "id": "36d75514-446e-4293-b3c8-87a7ba19f4d7",
   "metadata": {},
   "outputs": [],
   "source": [
    "def Proj(u, v=None):\n",
    "    if not v:\n",
    "        v = u\n",
    "    u = matrix(u).transpose()\n",
    "    v = matrix(v).transpose()\n",
    "    return u.tensor_product(v.conjugate_transpose())\n",
    "\n",
    "Id = identity_matrix(SR, 2^N)\n",
    "\n",
    "def toInt(k):\n",
    "    return list(F).index(k)\n",
    "\n",
    "def chi(k):\n",
    "    return exp(2 * pi * I * int(k.trace()) / 2)"
   ]
  },
  {
   "cell_type": "code",
   "execution_count": 34,
   "id": "bb006650-848d-444f-a5b8-4c810e493026",
   "metadata": {},
   "outputs": [],
   "source": [
    "def TeichLift(k):\n",
    "    return T[toInt(k)]\n",
    "hat = TeichLift"
   ]
  },
  {
   "cell_type": "code",
   "execution_count": 35,
   "id": "1251f875-b70d-44af-ac6e-d93afd4bd9e5",
   "metadata": {},
   "outputs": [],
   "source": [
    "for a in F:\n",
    "    for b in F:\n",
    "        if hat(a * b) != hat(a) * hat(b):\n",
    "            raise Exception('Not multiplicative group homomorphism!')"
   ]
  },
  {
   "cell_type": "code",
   "execution_count": 36,
   "id": "7284bcd1-cafe-4db8-8152-b659054281de",
   "metadata": {},
   "outputs": [],
   "source": [
    "def Fourier():\n",
    "    s = zero_matrix(SR, 2^N, 2^N)\n",
    "    for i, a in enumerate(F):\n",
    "        for j, b in enumerate(F):\n",
    "            s[i,j] = chi(a * b) / sqrt(2^N)\n",
    "    return s\n",
    "FF = Fourier()\n",
    "\n",
    "def Z(a):\n",
    "    return diagonal_matrix([chi(a * k) for k in F])\n",
    "\n",
    "def X(b):\n",
    "    return FF.conjugate_transpose() * Z(b) * FF"
   ]
  },
  {
   "cell_type": "code",
   "execution_count": 28,
   "id": "d05dffa6-3a73-495a-bd6e-9cdc53f1579c",
   "metadata": {},
   "outputs": [],
   "source": [
    "def phi(tau, nu):\n",
    "    return (I)^(int((tau * nu).trace()))\n",
    "\n",
    "def D(a, b):\n",
    "    return phi(hat(a), hat(b)) * Z(a) * X(b)\n",
    "\n",
    "def V(mu):\n",
    "    s = zero_matrix(SR, 2^N, 2^N)\n",
    "    for i, k in enumerate(F):\n",
    "        s += phi(hat(k), hat(k) * hat(mu)) * Proj(vector(FF[:,i]))\n",
    "    return s"
   ]
  },
  {
   "cell_type": "code",
   "execution_count": 39,
   "id": "85303ad5-e72a-4a05-aec2-294777a05512",
   "metadata": {},
   "outputs": [],
   "source": [
    "# Kantor's MUBs\n",
    "def VK(mu):\n",
    "    s = zero_matrix(SR, 2^N, 2^N)\n",
    "    m = hat(mu)\n",
    "    curve = lambda k: m^2 * k + m * k.trace() + (m * k).trace()\n",
    "    for i, k in enumerate(F):\n",
    "        s += phi(hat(k), curve(hat(k))) * Proj(vector(FF[:,i]))\n",
    "    return s"
   ]
  },
  {
   "cell_type": "code",
   "execution_count": 29,
   "id": "0477103d-3ed6-4e91-a04a-204261af925f",
   "metadata": {},
   "outputs": [],
   "source": [
    "# Orthonormality\n",
    "def isOrthonormal(m):\n",
    "    return m.conjugate_transpose() * m == Id\n",
    "\n",
    "# MUBs\n",
    "def isMUB(m1, m2):\n",
    "    m = (\n",
    "        m1.conjugate_transpose() * m2\n",
    "    ).apply_map(lambda t: abs(t)^2)\n",
    "    return m == ones_matrix(2^N, 2^N) / (2^N)\n",
    "\n",
    "def checkMUBs(mubs):\n",
    "    if type(mubs) != list:\n",
    "        mubs_list = []\n",
    "        for i in range(2^N+1):\n",
    "            mubs_list.append(mubs[(i*2^N):(i+1)*2^N,:])\n",
    "    else:\n",
    "        mubs_list = mubs\n",
    "            \n",
    "    for i in range(2^N+1):\n",
    "        for j in range(2^N+1):\n",
    "            if i == j:\n",
    "                if not isOrthonormal(mubs_list[i]):\n",
    "                    raise Exception(\n",
    "                        'Encountered a basis that is not orthonormal!',\n",
    "                        i\n",
    "                    )\n",
    "            else:\n",
    "                if not isMUB(mubs_list[i], mubs_list[j]):\n",
    "                    raise Exception(\n",
    "                        'Encountered non-MUB pairs of basis!',\n",
    "                        i, j\n",
    "                    )\n",
    "    return True"
   ]
  },
  {
   "cell_type": "code",
   "execution_count": 50,
   "id": "6883bb1f-3414-4820-9beb-a6b64a8639bd",
   "metadata": {},
   "outputs": [],
   "source": [
    "mubsStd = [FF] + [VK(mu) for mu in F]"
   ]
  },
  {
   "cell_type": "code",
   "execution_count": 51,
   "id": "19752cc9-3fb0-4df0-a8ee-e956c20f99a4",
   "metadata": {},
   "outputs": [
    {
     "ename": "Exception",
     "evalue": "('Encountered non-MUB pairs of basis!', 1, 2)",
     "output_type": "error",
     "traceback": [
      "\u001b[0;31m---------------------------------------------------------------------------\u001b[0m",
      "\u001b[0;31mException\u001b[0m                                 Traceback (most recent call last)",
      "Cell \u001b[0;32mIn[51], line 1\u001b[0m\n\u001b[0;32m----> 1\u001b[0m \u001b[43mcheckMUBs\u001b[49m\u001b[43m(\u001b[49m\u001b[43mmubsStd\u001b[49m\u001b[43m)\u001b[49m\n",
      "Cell \u001b[0;32mIn[29], line 30\u001b[0m, in \u001b[0;36mcheckMUBs\u001b[0;34m(mubs)\u001b[0m\n\u001b[1;32m     28\u001b[0m         \u001b[38;5;28;01melse\u001b[39;00m:\n\u001b[1;32m     29\u001b[0m             \u001b[38;5;28;01mif\u001b[39;00m \u001b[38;5;129;01mnot\u001b[39;00m isMUB(mubs_list[i], mubs_list[j]):\n\u001b[0;32m---> 30\u001b[0m                 \u001b[38;5;28;01mraise\u001b[39;00m \u001b[38;5;167;01mException\u001b[39;00m(\n\u001b[1;32m     31\u001b[0m                     \u001b[38;5;124m'\u001b[39m\u001b[38;5;124mEncountered non-MUB pairs of basis!\u001b[39m\u001b[38;5;124m'\u001b[39m,\n\u001b[1;32m     32\u001b[0m                     i, j\n\u001b[1;32m     33\u001b[0m                 )\n\u001b[1;32m     34\u001b[0m \u001b[38;5;28;01mreturn\u001b[39;00m \u001b[38;5;28;01mTrue\u001b[39;00m\n",
      "\u001b[0;31mException\u001b[0m: ('Encountered non-MUB pairs of basis!', 1, 2)"
     ]
    }
   ],
   "source": [
    "checkMUBs(mubsStd)"
   ]
  },
  {
   "cell_type": "code",
   "execution_count": null,
   "id": "79144c9d-35f0-4d74-814c-6a94fb7804c3",
   "metadata": {},
   "outputs": [],
   "source": []
  },
  {
   "cell_type": "code",
   "execution_count": null,
   "id": "0db57176-da49-440b-98f1-81e0706f757f",
   "metadata": {},
   "outputs": [],
   "source": []
  }
 ],
 "metadata": {
  "kernelspec": {
   "display_name": "SageMath 9.8",
   "language": "sage",
   "name": "sagemath"
  },
  "language_info": {
   "codemirror_mode": {
    "name": "ipython",
    "version": 3
   },
   "file_extension": ".py",
   "mimetype": "text/x-python",
   "name": "python",
   "nbconvert_exporter": "python",
   "pygments_lexer": "ipython3",
   "version": "3.9.16"
  }
 },
 "nbformat": 4,
 "nbformat_minor": 5
}
