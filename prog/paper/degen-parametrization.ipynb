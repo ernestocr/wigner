{
 "cells": [
  {
   "cell_type": "code",
   "execution_count": 1,
   "id": "714385be-e803-4cce-89c9-c1d74d0c664f",
   "metadata": {},
   "outputs": [],
   "source": [
    "%display latex"
   ]
  },
  {
   "cell_type": "code",
   "execution_count": 11,
   "id": "9cdadc95-b6f0-45af-9f1a-0b32535ead96",
   "metadata": {},
   "outputs": [],
   "source": [
    "N = 3\n",
    "F = GF(2^N, 'x')\n",
    "x = F.gen()"
   ]
  },
  {
   "cell_type": "code",
   "execution_count": 12,
   "id": "bb791f10-578f-47da-b7a0-2f92edbeeb75",
   "metadata": {},
   "outputs": [],
   "source": [
    "basis = [x^3, x^5, x^6]"
   ]
  },
  {
   "cell_type": "code",
   "execution_count": 13,
   "id": "f0634b82-5bad-4596-b111-7829e1f7da18",
   "metadata": {},
   "outputs": [],
   "source": [
    "curve = [\n",
    "    (F(0),F(0)), (x^4,F(0)), (x^4,x^5), (x^3,x^7),\n",
    "    (x^3,x^4), (x^6,x^4), (x^6,x^7), (F(0),x^5)\n",
    "]"
   ]
  },
  {
   "cell_type": "code",
   "execution_count": 14,
   "id": "7850c773-5fe3-491e-9ced-acecc5e8df76",
   "metadata": {},
   "outputs": [
    {
     "data": {
      "text/html": [
       "<html>\\(\\displaystyle 8\\)</html>"
      ],
      "text/latex": [
       "$\\displaystyle 8$"
      ],
      "text/plain": [
       "8"
      ]
     },
     "execution_count": 14,
     "metadata": {},
     "output_type": "execute_result"
    }
   ],
   "source": [
    "len(curve)"
   ]
  },
  {
   "cell_type": "code",
   "execution_count": 15,
   "id": "dc6e5189-5154-4ff6-9cda-ed13b042c9bd",
   "metadata": {},
   "outputs": [],
   "source": [
    "for p1 in curve:\n",
    "    for p2 in curve:\n",
    "        p3 = (p1[0] + p2[0], p1[1] + p2[1])\n",
    "        if p3 not in curve:\n",
    "            raise Exception"
   ]
  },
  {
   "cell_type": "code",
   "execution_count": 17,
   "id": "555609a6-ea9c-478b-8a99-751cb5c9c4b6",
   "metadata": {},
   "outputs": [],
   "source": [
    "def toInt(k):\n",
    "    return list(F).index(k)"
   ]
  },
  {
   "cell_type": "code",
   "execution_count": 18,
   "id": "9082c4e2-def1-47d7-a2a0-1d110bde0220",
   "metadata": {},
   "outputs": [],
   "source": [
    "def graph(pts):\n",
    "    m = zero_matrix(SR, 2^N, 2^N)\n",
    "    for p in pts:\n",
    "        m[toInt(p[0]), toInt(p[1])] = 1\n",
    "    return m"
   ]
  },
  {
   "cell_type": "code",
   "execution_count": 19,
   "id": "c70186e3-c35f-4689-9560-df424bb7f665",
   "metadata": {},
   "outputs": [
    {
     "data": {
      "text/html": [
       "<html>\\(\\displaystyle \\left(\\begin{array}{rrrrrrrr}\n",
       "1 & 0 & 0 & 0 & 0 & 1 & 0 & 0 \\\\\n",
       "0 & 0 & 0 & 0 & 0 & 0 & 0 & 0 \\\\\n",
       "0 & 0 & 0 & 0 & 0 & 0 & 0 & 0 \\\\\n",
       "0 & 0 & 0 & 0 & 1 & 0 & 0 & 1 \\\\\n",
       "1 & 0 & 0 & 0 & 0 & 1 & 0 & 0 \\\\\n",
       "0 & 0 & 0 & 0 & 0 & 0 & 0 & 0 \\\\\n",
       "0 & 0 & 0 & 0 & 1 & 0 & 0 & 1 \\\\\n",
       "0 & 0 & 0 & 0 & 0 & 0 & 0 & 0\n",
       "\\end{array}\\right)\\)</html>"
      ],
      "text/latex": [
       "$\\displaystyle \\left(\\begin{array}{rrrrrrrr}\n",
       "1 & 0 & 0 & 0 & 0 & 1 & 0 & 0 \\\\\n",
       "0 & 0 & 0 & 0 & 0 & 0 & 0 & 0 \\\\\n",
       "0 & 0 & 0 & 0 & 0 & 0 & 0 & 0 \\\\\n",
       "0 & 0 & 0 & 0 & 1 & 0 & 0 & 1 \\\\\n",
       "1 & 0 & 0 & 0 & 0 & 1 & 0 & 0 \\\\\n",
       "0 & 0 & 0 & 0 & 0 & 0 & 0 & 0 \\\\\n",
       "0 & 0 & 0 & 0 & 1 & 0 & 0 & 1 \\\\\n",
       "0 & 0 & 0 & 0 & 0 & 0 & 0 & 0\n",
       "\\end{array}\\right)$"
      ],
      "text/plain": [
       "[1 0 0 0 0 1 0 0]\n",
       "[0 0 0 0 0 0 0 0]\n",
       "[0 0 0 0 0 0 0 0]\n",
       "[0 0 0 0 1 0 0 1]\n",
       "[1 0 0 0 0 1 0 0]\n",
       "[0 0 0 0 0 0 0 0]\n",
       "[0 0 0 0 1 0 0 1]\n",
       "[0 0 0 0 0 0 0 0]"
      ]
     },
     "execution_count": 19,
     "metadata": {},
     "output_type": "execute_result"
    }
   ],
   "source": [
    "graph(curve)"
   ]
  },
  {
   "cell_type": "code",
   "execution_count": 38,
   "id": "cfa08dfa-352f-42f3-955d-a4d3ca6bec99",
   "metadata": {},
   "outputs": [],
   "source": [
    "def components(k):\n",
    "    return vector([(k * b).trace() for b in basis])"
   ]
  },
  {
   "cell_type": "code",
   "execution_count": 39,
   "id": "f0531b18-72f6-4fd8-96d8-a66976815283",
   "metadata": {},
   "outputs": [],
   "source": [
    "def assemble(v):\n",
    "    s = 0\n",
    "    for i, b in enumerate(basis):\n",
    "        s += v[i] * b\n",
    "    return s"
   ]
  },
  {
   "cell_type": "code",
   "execution_count": 40,
   "id": "1a7e8c82-221f-47dc-becc-8f2c7aeb14aa",
   "metadata": {},
   "outputs": [],
   "source": [
    "for k in F:\n",
    "    if assemble(components(k)) != k:\n",
    "        raise Exception"
   ]
  },
  {
   "cell_type": "code",
   "execution_count": 47,
   "id": "1cb1b6a1-ff48-43c2-bbd4-2c2e4d15b9a1",
   "metadata": {},
   "outputs": [],
   "source": [
    "test = Set()"
   ]
  },
  {
   "cell_type": "code",
   "execution_count": 49,
   "id": "e2065f8f-8f43-41bc-bc6e-e674f271d702",
   "metadata": {},
   "outputs": [
    {
     "data": {
      "text/html": [
       "<html>\\(\\displaystyle \\verb|&lt;class|\\verb| |\\verb|'sage.sets.set.Set_object_enumerated_with_category'>|\\)</html>"
      ],
      "text/latex": [
       "$\\displaystyle \\verb|<class|\\verb| |\\verb|'sage.sets.set.Set_object_enumerated_with_category'>|$"
      ],
      "text/plain": [
       "<class 'sage.sets.set.Set_object_enumerated_with_category'>"
      ]
     },
     "execution_count": 49,
     "metadata": {},
     "output_type": "execute_result"
    }
   ],
   "source": [
    "type(test)"
   ]
  },
  {
   "cell_type": "code",
   "execution_count": 51,
   "id": "96756282-0e8e-4d43-84cb-63b95422ef71",
   "metadata": {},
   "outputs": [],
   "source": [
    "test = set()"
   ]
  },
  {
   "cell_type": "code",
   "execution_count": 52,
   "id": "ce59f3ae-4ade-4740-ba1a-cdd41ac4ae7b",
   "metadata": {},
   "outputs": [
    {
     "data": {
      "text/html": [
       "<html>\\(\\displaystyle \\verb|&lt;class|\\verb| |\\verb|'set'>|\\)</html>"
      ],
      "text/latex": [
       "$\\displaystyle \\verb|<class|\\verb| |\\verb|'set'>|$"
      ],
      "text/plain": [
       "<class 'set'>"
      ]
     },
     "execution_count": 52,
     "metadata": {},
     "output_type": "execute_result"
    }
   ],
   "source": [
    "type(test)"
   ]
  },
  {
   "cell_type": "code",
   "execution_count": 53,
   "id": "a79e3891-4101-4f36-bebe-a8019645455b",
   "metadata": {},
   "outputs": [],
   "source": [
    "test.add(x)"
   ]
  },
  {
   "cell_type": "code",
   "execution_count": 54,
   "id": "b9ae5f6c-1afd-4f1d-a005-dfb50e92a353",
   "metadata": {},
   "outputs": [
    {
     "data": {
      "text/html": [
       "<html>\\(\\displaystyle \\verb|{x}|\\)</html>"
      ],
      "text/latex": [
       "$\\displaystyle \\verb|{x}|$"
      ],
      "text/plain": [
       "{x}"
      ]
     },
     "execution_count": 54,
     "metadata": {},
     "output_type": "execute_result"
    }
   ],
   "source": [
    "test"
   ]
  },
  {
   "cell_type": "code",
   "execution_count": 101,
   "id": "0f0ddb7d-e0d6-4ae1-8486-51bfdc4ff808",
   "metadata": {},
   "outputs": [
    {
     "name": "stdout",
     "output_type": "stream",
     "text": [
      "42 42\n"
     ]
    }
   ],
   "source": [
    "M_alpha = []\n",
    "good_alphas = []\n",
    "for M in Matrix(Integers(2), 3, 3).parent():\n",
    "    alphas = []\n",
    "    for tau in F:\n",
    "        v = components(tau)\n",
    "        alphas.append(assemble(M * v))\n",
    "    if set(alphas) == set([p[0] for p in curve]):\n",
    "        good_alphas.append(alphas)\n",
    "        M_alpha.append(M)\n",
    "\n",
    "M_beta = []\n",
    "good_betas = []\n",
    "for M in Matrix(Integers(2), 3, 3).parent():\n",
    "    betas = []\n",
    "    for tau in F:\n",
    "        v = components(tau)\n",
    "        betas.append(assemble(M * v))\n",
    "    if set(betas) == set([p[1] for p in curve]):\n",
    "        good_betas.append(betas)\n",
    "        M_beta.append(M)\n",
    "\n",
    "print(len(good_alphas), len(good_betas))"
   ]
  },
  {
   "cell_type": "code",
   "execution_count": 102,
   "id": "b967e7ac-a3fe-4ab6-81e8-bebbb353ea30",
   "metadata": {},
   "outputs": [
    {
     "data": {
      "text/html": [
       "<html>\\(\\displaystyle 168\\)</html>"
      ],
      "text/latex": [
       "$\\displaystyle 168$"
      ],
      "text/plain": [
       "168"
      ]
     },
     "execution_count": 102,
     "metadata": {},
     "output_type": "execute_result"
    }
   ],
   "source": [
    "Ms = []\n",
    "params = []\n",
    "for i, alphas in enumerate(good_alphas):\n",
    "    for j, betas in enumerate(good_betas):\n",
    "        param = list(zip(alphas, betas))\n",
    "        if set(param) == set(curve):\n",
    "            params.append(param)\n",
    "            Ms.append((M_alpha[i], M_beta[j]))\n",
    "len(params)"
   ]
  },
  {
   "cell_type": "code",
   "execution_count": 103,
   "id": "fa589679-dd20-4918-8386-b3f24adadf46",
   "metadata": {},
   "outputs": [
    {
     "data": {
      "text/html": [
       "<html>\\(\\displaystyle \\left[\\left(0, 0\\right), \\left(x^{2} + 1, 1\\right), \\left(x^{2} + x, 0\\right), \\left(x + 1, x^{2} + x\\right), \\left(x + 1, 1\\right), \\left(x^{2} + 1, x^{2} + x\\right), \\left(0, x^{2} + x + 1\\right), \\left(x^{2} + x, x^{2} + x + 1\\right)\\right]\\)</html>"
      ],
      "text/latex": [
       "$\\displaystyle \\left[\\left(0, 0\\right), \\left(x^{2} + 1, 1\\right), \\left(x^{2} + x, 0\\right), \\left(x + 1, x^{2} + x\\right), \\left(x + 1, 1\\right), \\left(x^{2} + 1, x^{2} + x\\right), \\left(0, x^{2} + x + 1\\right), \\left(x^{2} + x, x^{2} + x + 1\\right)\\right]$"
      ],
      "text/plain": [
       "[(0, 0),\n",
       " (x^2 + 1, 1),\n",
       " (x^2 + x, 0),\n",
       " (x + 1, x^2 + x),\n",
       " (x + 1, 1),\n",
       " (x^2 + 1, x^2 + x),\n",
       " (0, x^2 + x + 1),\n",
       " (x^2 + x, x^2 + x + 1)]"
      ]
     },
     "execution_count": 103,
     "metadata": {},
     "output_type": "execute_result"
    }
   ],
   "source": [
    "params[0]"
   ]
  },
  {
   "cell_type": "code",
   "execution_count": 104,
   "id": "ab32503b-4d68-47a5-b62f-024d41f51675",
   "metadata": {},
   "outputs": [
    {
     "data": {
      "text/html": [
       "<html>\\(\\displaystyle \\left[\\left(0, 0\\right), \\left(x^{2} + x, 0\\right), \\left(x^{2} + x, x^{2} + x + 1\\right), \\left(x + 1, 1\\right), \\left(x + 1, x^{2} + x\\right), \\left(x^{2} + 1, x^{2} + x\\right), \\left(x^{2} + 1, 1\\right), \\left(0, x^{2} + x + 1\\right)\\right]\\)</html>"
      ],
      "text/latex": [
       "$\\displaystyle \\left[\\left(0, 0\\right), \\left(x^{2} + x, 0\\right), \\left(x^{2} + x, x^{2} + x + 1\\right), \\left(x + 1, 1\\right), \\left(x + 1, x^{2} + x\\right), \\left(x^{2} + 1, x^{2} + x\\right), \\left(x^{2} + 1, 1\\right), \\left(0, x^{2} + x + 1\\right)\\right]$"
      ],
      "text/plain": [
       "[(0, 0),\n",
       " (x^2 + x, 0),\n",
       " (x^2 + x, x^2 + x + 1),\n",
       " (x + 1, 1),\n",
       " (x + 1, x^2 + x),\n",
       " (x^2 + 1, x^2 + x),\n",
       " (x^2 + 1, 1),\n",
       " (0, x^2 + x + 1)]"
      ]
     },
     "execution_count": 104,
     "metadata": {},
     "output_type": "execute_result"
    }
   ],
   "source": [
    "curve"
   ]
  },
  {
   "cell_type": "code",
   "execution_count": 105,
   "id": "daf2afa7-b403-47a7-9dd7-23a351b1a051",
   "metadata": {},
   "outputs": [],
   "source": [
    "b = list()\n",
    "for p in params:\n",
    "    if p not in b:\n",
    "        b.append(p)"
   ]
  },
  {
   "cell_type": "code",
   "execution_count": 106,
   "id": "2d644d0b-8336-4770-8493-f9ed16bd279d",
   "metadata": {},
   "outputs": [
    {
     "data": {
      "text/html": [
       "<html>\\(\\displaystyle 168\\)</html>"
      ],
      "text/latex": [
       "$\\displaystyle 168$"
      ],
      "text/plain": [
       "168"
      ]
     },
     "execution_count": 106,
     "metadata": {},
     "output_type": "execute_result"
    }
   ],
   "source": [
    "len(b)"
   ]
  },
  {
   "cell_type": "code",
   "execution_count": 107,
   "id": "81d8ff75-e746-4964-a9ff-9cc38fca9b04",
   "metadata": {},
   "outputs": [
    {
     "data": {
      "text/html": [
       "<html>\\(\\displaystyle 168\\)</html>"
      ],
      "text/latex": [
       "$\\displaystyle 168$"
      ],
      "text/plain": [
       "168"
      ]
     },
     "execution_count": 107,
     "metadata": {},
     "output_type": "execute_result"
    }
   ],
   "source": [
    "len(Ms)"
   ]
  },
  {
   "cell_type": "code",
   "execution_count": 111,
   "id": "22da918e-2021-4ce6-b989-d4d30aaf03ea",
   "metadata": {},
   "outputs": [
    {
     "data": {
      "text/html": [
       "<html>\\(\\displaystyle \\left(\\begin{array}{rrr}\n",
       "1 & 0 & 0 \\\\\n",
       "0 & 0 & 0 \\\\\n",
       "0 & 1 & 0\n",
       "\\end{array}\\right)\\)</html>"
      ],
      "text/latex": [
       "$\\displaystyle \\left(\\begin{array}{rrr}\n",
       "1 & 0 & 0 \\\\\n",
       "0 & 0 & 0 \\\\\n",
       "0 & 1 & 0\n",
       "\\end{array}\\right)$"
      ],
      "text/plain": [
       "[1 0 0]\n",
       "[0 0 0]\n",
       "[0 1 0]"
      ]
     },
     "execution_count": 111,
     "metadata": {},
     "output_type": "execute_result"
    }
   ],
   "source": [
    "Ms[0][0]"
   ]
  },
  {
   "cell_type": "code",
   "execution_count": 112,
   "id": "60df673d-1f9d-4caa-9366-c42e31c40671",
   "metadata": {},
   "outputs": [
    {
     "data": {
      "text/html": [
       "<html>\\(\\displaystyle \\left(\\begin{array}{rrr}\n",
       "1 & 1 & 0 \\\\\n",
       "0 & 0 & 1 \\\\\n",
       "1 & 1 & 0\n",
       "\\end{array}\\right)\\)</html>"
      ],
      "text/latex": [
       "$\\displaystyle \\left(\\begin{array}{rrr}\n",
       "1 & 1 & 0 \\\\\n",
       "0 & 0 & 1 \\\\\n",
       "1 & 1 & 0\n",
       "\\end{array}\\right)$"
      ],
      "text/plain": [
       "[1 1 0]\n",
       "[0 0 1]\n",
       "[1 1 0]"
      ]
     },
     "execution_count": 112,
     "metadata": {},
     "output_type": "execute_result"
    }
   ],
   "source": [
    "Ms[0][1]"
   ]
  },
  {
   "cell_type": "code",
   "execution_count": 113,
   "id": "e1b7508a-1f6c-494d-bb21-c71c7820690c",
   "metadata": {},
   "outputs": [
    {
     "data": {
      "text/html": [
       "<html>\\(\\displaystyle \\left[0, x^{2} + 1, x + 1, x + 1, x^{2} + x, 0, x^{2} + 1, x^{2} + x\\right]\\)</html>"
      ],
      "text/latex": [
       "$\\displaystyle \\left[0, x^{2} + 1, x + 1, x + 1, x^{2} + x, 0, x^{2} + 1, x^{2} + x\\right]$"
      ],
      "text/plain": [
       "[0, x^2 + 1, x + 1, x + 1, x^2 + x, 0, x^2 + 1, x^2 + x]"
      ]
     },
     "execution_count": 113,
     "metadata": {},
     "output_type": "execute_result"
    }
   ],
   "source": [
    "[(tau * x^3).trace() * x^3 + (tau * x^6).trace() * x^6 for tau in F]"
   ]
  },
  {
   "cell_type": "code",
   "execution_count": 114,
   "id": "5ba6fecc-f715-487b-8037-a9ca2ee7128a",
   "metadata": {},
   "outputs": [
    {
     "data": {
      "text/html": [
       "<html>\\(\\displaystyle \\left[0, x^{2} + x, x^{2} + x, x + 1, x + 1, x^{2} + 1, x^{2} + 1, 0\\right]\\)</html>"
      ],
      "text/latex": [
       "$\\displaystyle \\left[0, x^{2} + x, x^{2} + x, x + 1, x + 1, x^{2} + 1, x^{2} + 1, 0\\right]$"
      ],
      "text/plain": [
       "[0, x^2 + x, x^2 + x, x + 1, x + 1, x^2 + 1, x^2 + 1, 0]"
      ]
     },
     "execution_count": 114,
     "metadata": {},
     "output_type": "execute_result"
    }
   ],
   "source": [
    "[p[0] for p in curve]"
   ]
  },
  {
   "cell_type": "code",
   "execution_count": 123,
   "id": "9bb151dc-2df5-42a8-8b0b-f653e8ed2be5",
   "metadata": {},
   "outputs": [],
   "source": [
    "tau = var('tau')"
   ]
  },
  {
   "cell_type": "code",
   "execution_count": 126,
   "id": "db5ff364-c300-489c-bf71-6bddcbd79f7d",
   "metadata": {},
   "outputs": [
    {
     "data": {
      "text/html": [
       "<html>\\(\\displaystyle \\left(\\left(\\begin{array}{rrr}\n",
       "0 & 1 & 1 \\\\\n",
       "0 & 0 & 0 \\\\\n",
       "1 & 1 & 1\n",
       "\\end{array}\\right), \\left(\\begin{array}{rrr}\n",
       "1 & 0 & 0 \\\\\n",
       "1 & 0 & 1 \\\\\n",
       "1 & 0 & 0\n",
       "\\end{array}\\right)\\right)\\)</html>"
      ],
      "text/latex": [
       "$\\displaystyle \\left(\\left(\\begin{array}{rrr}\n",
       "0 & 1 & 1 \\\\\n",
       "0 & 0 & 0 \\\\\n",
       "1 & 1 & 1\n",
       "\\end{array}\\right), \\left(\\begin{array}{rrr}\n",
       "1 & 0 & 0 \\\\\n",
       "1 & 0 & 1 \\\\\n",
       "1 & 0 & 0\n",
       "\\end{array}\\right)\\right)$"
      ],
      "text/plain": [
       "(\n",
       "[0 1 1]  [1 0 0]\n",
       "[0 0 0]  [1 0 1]\n",
       "[1 1 1], [1 0 0]\n",
       ")"
      ]
     },
     "execution_count": 126,
     "metadata": {},
     "output_type": "execute_result"
    }
   ],
   "source": [
    "Ms[-1]"
   ]
  },
  {
   "cell_type": "markdown",
   "id": "2fde5f2e-6df5-4ce1-8479-000fc3fb6258",
   "metadata": {},
   "source": [
    "Better way..."
   ]
  },
  {
   "cell_type": "markdown",
   "id": "be17477c-d445-46d4-8a8f-c7a16b551ca5",
   "metadata": {},
   "source": [
    "We can build any of the 168 parametrizations by selecting three generating elements of the curve, $p_1,p_2,p_3 \\in \\gamma$ and using the following expression:\n",
    "$$\n",
    "(\\alpha(\\tau), \\beta(\\tau))\n",
    "= Tr(\\tau x^3) p_1 + Tr(\\tau x^5) p_2 + Tr(\\tau x^6) p_3.\n",
    "$$"
   ]
  },
  {
   "cell_type": "markdown",
   "id": "ba022bb2-29d4-4ac9-beed-0e5c16a89055",
   "metadata": {},
   "source": [
    "To find the generating elements of the curve we can select two distinct points and then select a third one that is distinct from the first two and is also not equal to their sum."
   ]
  },
  {
   "cell_type": "code",
   "execution_count": 318,
   "id": "2da93ec0-b085-46a1-b758-c6cdb71cd7d7",
   "metadata": {},
   "outputs": [
    {
     "data": {
      "text/html": [
       "<html>\\(\\displaystyle \\left[\\left(0, 0\\right), \\left(x^{2} + x, 0\\right), \\left(x^{2} + x, x^{2} + x + 1\\right), \\left(x + 1, 1\\right), \\left(x + 1, x^{2} + x\\right), \\left(x^{2} + 1, x^{2} + x\\right), \\left(x^{2} + 1, 1\\right), \\left(0, x^{2} + x + 1\\right)\\right]\\)</html>"
      ],
      "text/latex": [
       "$\\displaystyle \\left[\\left(0, 0\\right), \\left(x^{2} + x, 0\\right), \\left(x^{2} + x, x^{2} + x + 1\\right), \\left(x + 1, 1\\right), \\left(x + 1, x^{2} + x\\right), \\left(x^{2} + 1, x^{2} + x\\right), \\left(x^{2} + 1, 1\\right), \\left(0, x^{2} + x + 1\\right)\\right]$"
      ],
      "text/plain": [
       "[(0, 0),\n",
       " (x^2 + x, 0),\n",
       " (x^2 + x, x^2 + x + 1),\n",
       " (x + 1, 1),\n",
       " (x + 1, x^2 + x),\n",
       " (x^2 + 1, x^2 + x),\n",
       " (x^2 + 1, 1),\n",
       " (0, x^2 + x + 1)]"
      ]
     },
     "execution_count": 318,
     "metadata": {},
     "output_type": "execute_result"
    }
   ],
   "source": [
    "curve"
   ]
  },
  {
   "cell_type": "markdown",
   "id": "ea3bdb3f-8a4d-471b-92b9-5fe7196f6397",
   "metadata": {},
   "source": [
    "For example we choose the following points:\n",
    "$$\n",
    "p_1 = (x^2+x,0), \\quad\n",
    "p_2 = (x+1,1), \\quad\n",
    "p_3 = (x^2+x,x^2+x+1).\n",
    "$$"
   ]
  },
  {
   "cell_type": "code",
   "execution_count": 319,
   "id": "89c6945f-7e81-4248-8fee-15b1b2b869b2",
   "metadata": {},
   "outputs": [],
   "source": [
    "def gamma(tau, gens):\n",
    "    comps = components(tau)\n",
    "    p = vector([F(0), F(0)])\n",
    "    for i, g in enumerate(gens):\n",
    "        p += comps[i] * g\n",
    "    return tuple(p)"
   ]
  },
  {
   "cell_type": "code",
   "execution_count": 320,
   "id": "5848124c-1a21-42a4-b73c-e261eb0e084e",
   "metadata": {},
   "outputs": [],
   "source": [
    "gens = [vector([x^2+x,F(0)]), vector([x+1,F(1)]), vector([x^2+x,x^2+x+1])]"
   ]
  },
  {
   "cell_type": "code",
   "execution_count": 321,
   "id": "2c894a94-d3a7-4faa-a78a-0dd02fd62429",
   "metadata": {},
   "outputs": [
    {
     "data": {
      "text/html": [
       "<html>\\(\\displaystyle \\left[\\left(0, 0\\right), \\left(x^{2} + 1, x^{2} + x\\right), \\left(x^{2} + 1, 1\\right), \\left(x^{2} + x, 0\\right), \\left(0, x^{2} + x + 1\\right), \\left(x + 1, 1\\right), \\left(x^{2} + x, x^{2} + x + 1\\right), \\left(x + 1, x^{2} + x\\right)\\right]\\)</html>"
      ],
      "text/latex": [
       "$\\displaystyle \\left[\\left(0, 0\\right), \\left(x^{2} + 1, x^{2} + x\\right), \\left(x^{2} + 1, 1\\right), \\left(x^{2} + x, 0\\right), \\left(0, x^{2} + x + 1\\right), \\left(x + 1, 1\\right), \\left(x^{2} + x, x^{2} + x + 1\\right), \\left(x + 1, x^{2} + x\\right)\\right]$"
      ],
      "text/plain": [
       "[(0, 0),\n",
       " (x^2 + 1, x^2 + x),\n",
       " (x^2 + 1, 1),\n",
       " (x^2 + x, 0),\n",
       " (0, x^2 + x + 1),\n",
       " (x + 1, 1),\n",
       " (x^2 + x, x^2 + x + 1),\n",
       " (x + 1, x^2 + x)]"
      ]
     },
     "execution_count": 321,
     "metadata": {},
     "output_type": "execute_result"
    }
   ],
   "source": [
    "[gamma(tau, gens) for tau in F]"
   ]
  },
  {
   "cell_type": "code",
   "execution_count": 322,
   "id": "cbeabf44-0f27-4319-a803-77531a8fa5e2",
   "metadata": {},
   "outputs": [],
   "source": [
    "def powers(pts):\n",
    "    return [(toInt(p[0]), toInt(p[1])) for p in pts]"
   ]
  },
  {
   "cell_type": "code",
   "execution_count": 323,
   "id": "5eb5a295-9cc7-4328-b1b2-bc1a574e8852",
   "metadata": {},
   "outputs": [
    {
     "data": {
      "text/html": [
       "<html>\\(\\displaystyle \\left[\\left(0, 0\\right), \\left(6, 4\\right), \\left(6, 7\\right), \\left(4, 0\\right), \\left(0, 5\\right), \\left(3, 7\\right), \\left(4, 5\\right), \\left(3, 4\\right)\\right]\\)</html>"
      ],
      "text/latex": [
       "$\\displaystyle \\left[\\left(0, 0\\right), \\left(6, 4\\right), \\left(6, 7\\right), \\left(4, 0\\right), \\left(0, 5\\right), \\left(3, 7\\right), \\left(4, 5\\right), \\left(3, 4\\right)\\right]$"
      ],
      "text/plain": [
       "[(0, 0), (6, 4), (6, 7), (4, 0), (0, 5), (3, 7), (4, 5), (3, 4)]"
      ]
     },
     "execution_count": 323,
     "metadata": {},
     "output_type": "execute_result"
    }
   ],
   "source": [
    "powers([gamma(tau, gens) for tau in F])"
   ]
  },
  {
   "cell_type": "code",
   "execution_count": 253,
   "id": "a2d0b2fc-fd43-47ab-9247-ebcdf38c776d",
   "metadata": {},
   "outputs": [],
   "source": [
    "def listminus(rs, notrs):\n",
    "    res = []\n",
    "    for s in rs:\n",
    "        if s not in notrs:\n",
    "            res.append(s)\n",
    "    return(res)\n",
    "\n",
    "generators = []\n",
    "set1 = listminus(curve,[(F(0),F(0))])\n",
    "for p1 in set1:\n",
    "    set2 = listminus(set1,[p1])\n",
    "    for p2 in set2:\n",
    "        set3 = listminus(set2, [p2, (p1[0]+p2[0],p1[1]+p2[1])])\n",
    "        for p3 in set3:\n",
    "            generators.append([vector(p1), vector(p2), vector(p3)])"
   ]
  },
  {
   "cell_type": "code",
   "execution_count": 257,
   "id": "d862a54c-ca1c-42ed-bce7-5f1791afc9ed",
   "metadata": {},
   "outputs": [
    {
     "data": {
      "text/html": [
       "<html>\\(\\displaystyle 168\\)</html>"
      ],
      "text/latex": [
       "$\\displaystyle 168$"
      ],
      "text/plain": [
       "168"
      ]
     },
     "execution_count": 257,
     "metadata": {},
     "output_type": "execute_result"
    }
   ],
   "source": [
    "len(generators)"
   ]
  },
  {
   "cell_type": "code",
   "execution_count": 262,
   "id": "6f4e661d-c43f-4d19-8e1c-4c20cb54614d",
   "metadata": {},
   "outputs": [],
   "source": [
    "for c in [[gamma(tau, gen) for tau in F] for gen in generators]:\n",
    "    if set(c) != set(curve):\n",
    "        raise Exception"
   ]
  },
  {
   "cell_type": "code",
   "execution_count": 266,
   "id": "7f8c1fd9-3916-4755-8849-302a7571b601",
   "metadata": {},
   "outputs": [],
   "source": [
    "y = var('y')\n",
    "\n",
    "# compute the coefficients for the basis elements,\n",
    "def solve_basis(basis, curve):\n",
    "    sols = []\n",
    "    for k in basis:\n",
    "        sol = solve(chi(k * curve(k)) == y^2, y, solution_dict=True)\n",
    "        sols.append(sol[1]) # positive solutions only (choice)\n",
    "    return sols\n",
    "\n",
    "# after computing the solutions we can simply\n",
    "# get them for each basis element.\n",
    "def basis_c(a, l, sols):\n",
    "    if a == 0:\n",
    "        return 1\n",
    "    return sols[l][y]\n",
    "\n",
    "# Compute an arbitrary coefficient c_{\\alpha,f} for a \n",
    "# given curve f using the general formula.\n",
    "def c(alpha, curve, sols=None):\n",
    "    if not sols:\n",
    "        sols = solve_basis(basis, curve)\n",
    "    \n",
    "    # Expand alpha in the basis\n",
    "    comps = components(alpha)\n",
    "\n",
    "    # Apply the formula\n",
    "    s1 = 0\n",
    "    for k in range(N-1):\n",
    "        s2 = 0\n",
    "        for j in range(k+1, N):\n",
    "            s2 += comps[j] * basis[j]\n",
    "        s1 += s2 * curve(comps[k] * basis[k])\n",
    "        \n",
    "    return chi(s1) * prod([basis_c(a, l, sols) for l, a in enumerate(comps)])\n",
    "\n",
    "def sign_perm(sols, perm=None):\n",
    "    if perm:\n",
    "        for k, sol in enumerate(sols):\n",
    "            sols[k][y] = perm[k] * sols[k][y]\n",
    "    return sols\n",
    "\n",
    "def ray(mu):\n",
    "    return lambda t: mu * t\n",
    "\n",
    "def PS(curve, perms):\n",
    "    phase_space = zero_matrix(SR, 2^N, 2^N)\n",
    "    phase_space[0,:] = 1 # vertical line\n",
    "    for j, mu in enumerate(F): # iterate through the curve parametr\n",
    "        # same sign choice for a fixed curve parameter\n",
    "        sols = sign_perm(solve_basis(basis, curve(mu)), perms[j])\n",
    "        for i, a in enumerate(F):\n",
    "            # loop through alpha to obtain coefficient and\n",
    "            # corresponding point\n",
    "            coeff = c(a, curve(mu), sols)\n",
    "            b = curve(mu)(a)\n",
    "            phase_space[i, toInt(b)] = coeff\n",
    "    return phase_space"
   ]
  },
  {
   "cell_type": "code",
   "execution_count": 267,
   "id": "90433e9f-8ed1-47ba-be99-cf690efa1782",
   "metadata": {},
   "outputs": [
    {
     "data": {
      "text/html": [
       "<html>\\(\\displaystyle \\left(\\begin{array}{rrrrrrrr}\n",
       "1 & 1 & 1 & 1 & 1 & 1 & 1 & 1 \\\\\n",
       "1 & -1 & -i & 1 & -i & i & i & -1 \\\\\n",
       "1 & -i & -1 & i & -i & i & 1 & -1 \\\\\n",
       "1 & 1 & i & i & i & 1 & 1 & i \\\\\n",
       "1 & -i & -i & i & -1 & 1 & i & -1 \\\\\n",
       "1 & i & i & 1 & 1 & i & 1 & i \\\\\n",
       "1 & i & 1 & 1 & i & 1 & i & i \\\\\n",
       "1 & -1 & -1 & i & -1 & i & i & -i\n",
       "\\end{array}\\right)\\)</html>"
      ],
      "text/latex": [
       "$\\displaystyle \\left(\\begin{array}{rrrrrrrr}\n",
       "1 & 1 & 1 & 1 & 1 & 1 & 1 & 1 \\\\\n",
       "1 & -1 & -i & 1 & -i & i & i & -1 \\\\\n",
       "1 & -i & -1 & i & -i & i & 1 & -1 \\\\\n",
       "1 & 1 & i & i & i & 1 & 1 & i \\\\\n",
       "1 & -i & -i & i & -1 & 1 & i & -1 \\\\\n",
       "1 & i & i & 1 & 1 & i & 1 & i \\\\\n",
       "1 & i & 1 & 1 & i & 1 & i & i \\\\\n",
       "1 & -1 & -1 & i & -1 & i & i & -i\n",
       "\\end{array}\\right)$"
      ],
      "text/plain": [
       "[ 1  1  1  1  1  1  1  1]\n",
       "[ 1 -1 -I  1 -I  I  I -1]\n",
       "[ 1 -I -1  I -I  I  1 -1]\n",
       "[ 1  1  I  I  I  1  1  I]\n",
       "[ 1 -I -I  I -1  1  I -1]\n",
       "[ 1  I  I  1  1  I  1  I]\n",
       "[ 1  I  1  1  I  1  I  I]\n",
       "[ 1 -1 -1  I -1  I  I -I]"
      ]
     },
     "execution_count": 267,
     "metadata": {},
     "output_type": "execute_result"
    }
   ],
   "source": [
    "ps = PS(ray, [[1,1,1]] * 8)\n",
    "ps"
   ]
  },
  {
   "cell_type": "code",
   "execution_count": 268,
   "id": "1a2e5da9-7f8b-40e7-8d46-29b7f4b196fd",
   "metadata": {},
   "outputs": [],
   "source": [
    "def Proj(u, v=None):\n",
    "    if not v:\n",
    "        v = u\n",
    "    return u.tensor_product(v.conjugate_transpose())\n",
    "\n",
    "Id = identity_matrix(2^N)\n",
    "\n",
    "def Fourier():\n",
    "    s = zero_matrix(SR, 2^N, 2^N)\n",
    "    for i, a in enumerate(F):\n",
    "        for j, b in enumerate(F):\n",
    "            s[i,j] = chi(a * b) / sqrt(2^N)\n",
    "    return s\n",
    "FF = Fourier()\n",
    "\n",
    "def phi(a, b):\n",
    "    return ps[toInt(a), toInt(b)]\n",
    "\n",
    "def Z(a):\n",
    "    return diagonal_matrix([chi(a * k) for k in F])\n",
    "\n",
    "def X(b):\n",
    "    return FF.conjugate_transpose() * Z(b) * FF\n",
    "\n",
    "def D(a, b):\n",
    "    return phi(a, b) * Z(a) * X(b)"
   ]
  },
  {
   "cell_type": "code",
   "execution_count": 269,
   "id": "a0e1337a-53ec-428a-97fc-e1ad3446b4bd",
   "metadata": {},
   "outputs": [],
   "source": [
    "k = 0\n",
    "for t1 in F:\n",
    "    for t2 in F:\n",
    "        p1 = gamma(t1, generators[k])\n",
    "        p2 = gamma(t2, generators[k])\n",
    "        d1 = D(*p1)\n",
    "        d2 = D(*p2)\n",
    "        d3 = D(*(vector(p1) + vector(p2)))\n",
    "        if d1 * d2 != d3:\n",
    "            raise Exception"
   ]
  },
  {
   "cell_type": "code",
   "execution_count": 306,
   "id": "7b5438f4-76f9-4ce6-9332-ca04e7924e08",
   "metadata": {},
   "outputs": [],
   "source": [
    "def eig_proj(k, j):\n",
    "    eig = zero_matrix(SR, 2^N, 2^N)\n",
    "    for tau in F:\n",
    "        eig += chi(tau * k) * D(*gamma(tau, generators[j])) / 2^N\n",
    "    return eig"
   ]
  },
  {
   "cell_type": "code",
   "execution_count": 308,
   "id": "4a4f518d-aa24-4c85-b30f-03671770017e",
   "metadata": {},
   "outputs": [],
   "source": [
    "eig = eig_proj(F(0), 123)"
   ]
  },
  {
   "cell_type": "code",
   "execution_count": 309,
   "id": "96885657-3b7a-44a2-b65f-cee8f3534dfc",
   "metadata": {},
   "outputs": [
    {
     "data": {
      "text/html": [
       "<html>\\(\\displaystyle \\mathrm{True}\\)</html>"
      ],
      "text/latex": [
       "$\\displaystyle \\mathrm{True}$"
      ],
      "text/plain": [
       "True"
      ]
     },
     "execution_count": 309,
     "metadata": {},
     "output_type": "execute_result"
    }
   ],
   "source": [
    "dop = D(*gamma(x, generators[0]))\n",
    "dop * eig * dop.conjugate_transpose() == eig"
   ]
  },
  {
   "cell_type": "code",
   "execution_count": 311,
   "id": "12010ec8-6d45-4796-b48a-7124e1381ad3",
   "metadata": {},
   "outputs": [],
   "source": [
    "for tau in F:\n",
    "    for k in F:\n",
    "        eig = eig_proj(k, 123)\n",
    "        dop = D(*gamma(x, generators[0]))\n",
    "        if dop * eig * dop.conjugate_transpose() != eig:\n",
    "            raise Exception"
   ]
  },
  {
   "cell_type": "code",
   "execution_count": 312,
   "id": "6cabe3dc-1e08-4323-a0da-abe0ae4f4e55",
   "metadata": {},
   "outputs": [
    {
     "name": "stdout",
     "output_type": "stream",
     "text": [
      "[   1/4      0      0      0  1/4*I    1/4      0  1/4*I]\n",
      "[     0      0      0      0      0      0      0      0]\n",
      "[     0      0      0      0      0      0      0      0]\n",
      "[     0      0      0      0      0      0      0      0]\n",
      "[-1/4*I      0      0      0    1/4 -1/4*I      0    1/4]\n",
      "[   1/4      0      0      0  1/4*I    1/4      0  1/4*I]\n",
      "[     0      0      0      0      0      0      0      0]\n",
      "[-1/4*I      0      0      0    1/4 -1/4*I      0    1/4] \n",
      "\n",
      "[     0      0      0      0      0      0      0      0]\n",
      "[     0    1/4  1/4*I -1/4*I      0      0   -1/4      0]\n",
      "[     0 -1/4*I    1/4   -1/4      0      0  1/4*I      0]\n",
      "[     0  1/4*I   -1/4    1/4      0      0 -1/4*I      0]\n",
      "[     0      0      0      0      0      0      0      0]\n",
      "[     0      0      0      0      0      0      0      0]\n",
      "[     0   -1/4 -1/4*I  1/4*I      0      0    1/4      0]\n",
      "[     0      0      0      0      0      0      0      0] \n",
      "\n",
      "[     0      0      0      0      0      0      0      0]\n",
      "[     0    1/4  1/4*I  1/4*I      0      0    1/4      0]\n",
      "[     0 -1/4*I    1/4    1/4      0      0 -1/4*I      0]\n",
      "[     0 -1/4*I    1/4    1/4      0      0 -1/4*I      0]\n",
      "[     0      0      0      0      0      0      0      0]\n",
      "[     0      0      0      0      0      0      0      0]\n",
      "[     0    1/4  1/4*I  1/4*I      0      0    1/4      0]\n",
      "[     0      0      0      0      0      0      0      0] \n",
      "\n",
      "[   1/4      0      0      0 -1/4*I    1/4      0 -1/4*I]\n",
      "[     0      0      0      0      0      0      0      0]\n",
      "[     0      0      0      0      0      0      0      0]\n",
      "[     0      0      0      0      0      0      0      0]\n",
      "[ 1/4*I      0      0      0    1/4  1/4*I      0    1/4]\n",
      "[   1/4      0      0      0 -1/4*I    1/4      0 -1/4*I]\n",
      "[     0      0      0      0      0      0      0      0]\n",
      "[ 1/4*I      0      0      0    1/4  1/4*I      0    1/4] \n",
      "\n",
      "[   1/4      0      0      0  1/4*I   -1/4      0 -1/4*I]\n",
      "[     0      0      0      0      0      0      0      0]\n",
      "[     0      0      0      0      0      0      0      0]\n",
      "[     0      0      0      0      0      0      0      0]\n",
      "[-1/4*I      0      0      0    1/4  1/4*I      0   -1/4]\n",
      "[  -1/4      0      0      0 -1/4*I    1/4      0  1/4*I]\n",
      "[     0      0      0      0      0      0      0      0]\n",
      "[ 1/4*I      0      0      0   -1/4 -1/4*I      0    1/4] \n",
      "\n",
      "[     0      0      0      0      0      0      0      0]\n",
      "[     0    1/4 -1/4*I -1/4*I      0      0    1/4      0]\n",
      "[     0  1/4*I    1/4    1/4      0      0  1/4*I      0]\n",
      "[     0  1/4*I    1/4    1/4      0      0  1/4*I      0]\n",
      "[     0      0      0      0      0      0      0      0]\n",
      "[     0      0      0      0      0      0      0      0]\n",
      "[     0    1/4 -1/4*I -1/4*I      0      0    1/4      0]\n",
      "[     0      0      0      0      0      0      0      0] \n",
      "\n",
      "[   1/4      0      0      0 -1/4*I   -1/4      0  1/4*I]\n",
      "[     0      0      0      0      0      0      0      0]\n",
      "[     0      0      0      0      0      0      0      0]\n",
      "[     0      0      0      0      0      0      0      0]\n",
      "[ 1/4*I      0      0      0    1/4 -1/4*I      0   -1/4]\n",
      "[  -1/4      0      0      0  1/4*I    1/4      0 -1/4*I]\n",
      "[     0      0      0      0      0      0      0      0]\n",
      "[-1/4*I      0      0      0   -1/4  1/4*I      0    1/4] \n",
      "\n",
      "[     0      0      0      0      0      0      0      0]\n",
      "[     0    1/4 -1/4*I  1/4*I      0      0   -1/4      0]\n",
      "[     0  1/4*I    1/4   -1/4      0      0 -1/4*I      0]\n",
      "[     0 -1/4*I   -1/4    1/4      0      0  1/4*I      0]\n",
      "[     0      0      0      0      0      0      0      0]\n",
      "[     0      0      0      0      0      0      0      0]\n",
      "[     0   -1/4  1/4*I -1/4*I      0      0    1/4      0]\n",
      "[     0      0      0      0      0      0      0      0] \n",
      "\n"
     ]
    }
   ],
   "source": [
    "for k in F:\n",
    "    print(eig_proj(k, 123), '\\n')"
   ]
  },
  {
   "cell_type": "code",
   "execution_count": 303,
   "id": "668698b4-a580-4ccf-bcc7-eae2bb93b2b1",
   "metadata": {},
   "outputs": [
    {
     "data": {
      "text/html": [
       "<html>\\(\\displaystyle \\newcommand{\\Bold}[1]{\\mathbf{#1}}\\Bold{C}^{64}\\)</html>"
      ],
      "text/latex": [
       "$\\displaystyle \\newcommand{\\Bold}[1]{\\mathbf{#1}}\\Bold{C}^{64}$"
      ],
      "text/plain": [
       "Vector space of dimension 64 over Complex Field with 53 bits of precision"
      ]
     },
     "execution_count": 303,
     "metadata": {},
     "output_type": "execute_result"
    }
   ],
   "source": [
    "V = CC^64\n",
    "V"
   ]
  },
  {
   "cell_type": "code",
   "execution_count": 313,
   "id": "251988b3-2ae6-4841-bb8f-21eec008cb3a",
   "metadata": {},
   "outputs": [
    {
     "data": {
      "text/html": [
       "<html>\\(\\displaystyle \\left[\\right]\\)</html>"
      ],
      "text/latex": [
       "$\\displaystyle \\left[\\right]$"
      ],
      "text/plain": [
       "[\n",
       "\n",
       "]"
      ]
     },
     "execution_count": 313,
     "metadata": {},
     "output_type": "execute_result"
    }
   ],
   "source": [
    "V.linear_dependence([vector(eig_proj(k, 123).list()) for k in F])"
   ]
  },
  {
   "cell_type": "code",
   "execution_count": null,
   "id": "7eda4a90-ae9d-4027-a72a-afc1b98df87e",
   "metadata": {},
   "outputs": [],
   "source": []
  }
 ],
 "metadata": {
  "kernelspec": {
   "display_name": "SageMath 9.8",
   "language": "sage",
   "name": "sagemath"
  },
  "language_info": {
   "codemirror_mode": {
    "name": "ipython",
    "version": 3
   },
   "file_extension": ".py",
   "mimetype": "text/x-python",
   "name": "python",
   "nbconvert_exporter": "python",
   "pygments_lexer": "ipython3",
   "version": "3.9.16"
  }
 },
 "nbformat": 4,
 "nbformat_minor": 5
}
