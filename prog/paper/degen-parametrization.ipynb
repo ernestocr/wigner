{
 "cells": [
  {
   "cell_type": "code",
   "execution_count": 2,
   "id": "714385be-e803-4cce-89c9-c1d74d0c664f",
   "metadata": {},
   "outputs": [],
   "source": [
    "%display latex"
   ]
  },
  {
   "cell_type": "code",
   "execution_count": 3,
   "id": "9cdadc95-b6f0-45af-9f1a-0b32535ead96",
   "metadata": {},
   "outputs": [],
   "source": [
    "N = 3\n",
    "F = GF(2^N, 'x')\n",
    "x = F.gen()"
   ]
  },
  {
   "cell_type": "code",
   "execution_count": 4,
   "id": "bb791f10-578f-47da-b7a0-2f92edbeeb75",
   "metadata": {},
   "outputs": [],
   "source": [
    "basis = [x^3, x^5, x^6]"
   ]
  },
  {
   "cell_type": "code",
   "execution_count": 8,
   "id": "555609a6-ea9c-478b-8a99-751cb5c9c4b6",
   "metadata": {},
   "outputs": [],
   "source": [
    "def toInt(k):\n",
    "    return list(F).index(k)"
   ]
  },
  {
   "cell_type": "code",
   "execution_count": 9,
   "id": "9082c4e2-def1-47d7-a2a0-1d110bde0220",
   "metadata": {},
   "outputs": [],
   "source": [
    "def graph(pts):\n",
    "    m = zero_matrix(SR, 2^N, 2^N)\n",
    "    for p in pts:\n",
    "        m[toInt(p[0]), toInt(p[1])] = 1\n",
    "    return m"
   ]
  },
  {
   "cell_type": "markdown",
   "id": "172c66b4-29cf-4f01-958e-9fa1232726eb",
   "metadata": {},
   "source": [
    "The exceptional curve in question is given by \n",
    "$$\n",
    "\\gamma = \\{\n",
    "(0, 0), (\\sigma^4, 0), (\\sigma^4, \\sigma^5), \n",
    "(\\sigma^3, \\sigma^7), (\\sigma^3, \\sigma^4), (\\sigma^6, \\sigma^4), \n",
    "(\\sigma^6, \\sigma^7), (0, \\sigma^5)\n",
    "\\}.\n",
    "$$"
   ]
  },
  {
   "cell_type": "code",
   "execution_count": 10,
   "id": "f0634b82-5bad-4596-b111-7829e1f7da18",
   "metadata": {},
   "outputs": [],
   "source": [
    "curve = [\n",
    "    (F(0),F(0)), (x^4,F(0)), (x^4,x^5), (x^3,x^7),\n",
    "    (x^3,x^4), (x^6,x^4), (x^6,x^7), (F(0),x^5)\n",
    "]"
   ]
  },
  {
   "cell_type": "code",
   "execution_count": 11,
   "id": "7850c773-5fe3-491e-9ced-acecc5e8df76",
   "metadata": {},
   "outputs": [
    {
     "data": {
      "text/html": [
       "<html>\\(\\displaystyle 8\\)</html>"
      ],
      "text/latex": [
       "$\\displaystyle 8$"
      ],
      "text/plain": [
       "8"
      ]
     },
     "execution_count": 11,
     "metadata": {},
     "output_type": "execute_result"
    }
   ],
   "source": [
    "len(curve)"
   ]
  },
  {
   "cell_type": "code",
   "execution_count": 13,
   "id": "c70186e3-c35f-4689-9560-df424bb7f665",
   "metadata": {},
   "outputs": [
    {
     "data": {
      "text/html": [
       "<html>\\(\\displaystyle \\left(\\begin{array}{rrrrrrrr}\n",
       "1 & 0 & 0 & 0 & 0 & 1 & 0 & 0 \\\\\n",
       "0 & 0 & 0 & 0 & 0 & 0 & 0 & 0 \\\\\n",
       "0 & 0 & 0 & 0 & 0 & 0 & 0 & 0 \\\\\n",
       "0 & 0 & 0 & 0 & 1 & 0 & 0 & 1 \\\\\n",
       "1 & 0 & 0 & 0 & 0 & 1 & 0 & 0 \\\\\n",
       "0 & 0 & 0 & 0 & 0 & 0 & 0 & 0 \\\\\n",
       "0 & 0 & 0 & 0 & 1 & 0 & 0 & 1 \\\\\n",
       "0 & 0 & 0 & 0 & 0 & 0 & 0 & 0\n",
       "\\end{array}\\right)\\)</html>"
      ],
      "text/latex": [
       "$\\displaystyle \\left(\\begin{array}{rrrrrrrr}\n",
       "1 & 0 & 0 & 0 & 0 & 1 & 0 & 0 \\\\\n",
       "0 & 0 & 0 & 0 & 0 & 0 & 0 & 0 \\\\\n",
       "0 & 0 & 0 & 0 & 0 & 0 & 0 & 0 \\\\\n",
       "0 & 0 & 0 & 0 & 1 & 0 & 0 & 1 \\\\\n",
       "1 & 0 & 0 & 0 & 0 & 1 & 0 & 0 \\\\\n",
       "0 & 0 & 0 & 0 & 0 & 0 & 0 & 0 \\\\\n",
       "0 & 0 & 0 & 0 & 1 & 0 & 0 & 1 \\\\\n",
       "0 & 0 & 0 & 0 & 0 & 0 & 0 & 0\n",
       "\\end{array}\\right)$"
      ],
      "text/plain": [
       "[1 0 0 0 0 1 0 0]\n",
       "[0 0 0 0 0 0 0 0]\n",
       "[0 0 0 0 0 0 0 0]\n",
       "[0 0 0 0 1 0 0 1]\n",
       "[1 0 0 0 0 1 0 0]\n",
       "[0 0 0 0 0 0 0 0]\n",
       "[0 0 0 0 1 0 0 1]\n",
       "[0 0 0 0 0 0 0 0]"
      ]
     },
     "execution_count": 13,
     "metadata": {},
     "output_type": "execute_result"
    }
   ],
   "source": [
    "graph(curve)"
   ]
  },
  {
   "cell_type": "markdown",
   "id": "b7a5bb4a-1265-471c-bebf-dd3157c2a1b6",
   "metadata": {},
   "source": [
    "We know that this curve is closed under addition and commutative, i.e.,\n",
    "$$\n",
    "Tr(\\alpha \\beta') = Tr(\\alpha' \\beta),\n",
    "\\quad\n",
    "\\forall (\\alpha,\\beta), (\\alpha',\\beta') \\in \\gamma.\n",
    "$$"
   ]
  },
  {
   "cell_type": "code",
   "execution_count": 12,
   "id": "dc6e5189-5154-4ff6-9cda-ed13b042c9bd",
   "metadata": {},
   "outputs": [],
   "source": [
    "# closed under addition\n",
    "for p1 in curve:\n",
    "    for p2 in curve:\n",
    "        p3 = (p1[0] + p2[0], p1[1] + p2[1])\n",
    "        if p3 not in curve:\n",
    "            raise Exception"
   ]
  },
  {
   "cell_type": "code",
   "execution_count": 16,
   "id": "75db44dd-dc54-4699-8eef-06f15ce6080f",
   "metadata": {},
   "outputs": [],
   "source": [
    "# commutativity\n",
    "for p1 in curve:\n",
    "    for p2 in curve:\n",
    "        if (p1[0] * p2[1]).trace() != (p1[1] * p2[0]).trace():\n",
    "            raise Exception(p1, p2)"
   ]
  },
  {
   "cell_type": "markdown",
   "id": "f99fc798-84ec-4d16-ac96-dfeeffd18c64",
   "metadata": {},
   "source": [
    "The following method involves finding all the linear transformations from the field $F$ to the curve that preserve the additivity condition. This is brute force, although later we define it in a simple manner:"
   ]
  },
  {
   "cell_type": "code",
   "execution_count": 17,
   "id": "cfa08dfa-352f-42f3-955d-a4d3ca6bec99",
   "metadata": {},
   "outputs": [],
   "source": [
    "def components(k):\n",
    "    return vector([(k * b).trace() for b in basis])"
   ]
  },
  {
   "cell_type": "code",
   "execution_count": 18,
   "id": "f0531b18-72f6-4fd8-96d8-a66976815283",
   "metadata": {},
   "outputs": [],
   "source": [
    "def assemble(v):\n",
    "    s = 0\n",
    "    for i, b in enumerate(basis):\n",
    "        s += v[i] * b\n",
    "    return s"
   ]
  },
  {
   "cell_type": "code",
   "execution_count": 19,
   "id": "1a7e8c82-221f-47dc-becc-8f2c7aeb14aa",
   "metadata": {},
   "outputs": [],
   "source": [
    "for k in F:\n",
    "    if assemble(components(k)) != k:\n",
    "        raise Exception"
   ]
  },
  {
   "cell_type": "code",
   "execution_count": 20,
   "id": "0f0ddb7d-e0d6-4ae1-8486-51bfdc4ff808",
   "metadata": {},
   "outputs": [
    {
     "name": "stdout",
     "output_type": "stream",
     "text": [
      "42 42\n"
     ]
    }
   ],
   "source": [
    "M_alpha = []\n",
    "good_alphas = []\n",
    "for M in Matrix(Integers(2), 3, 3).parent():\n",
    "    alphas = []\n",
    "    for tau in F:\n",
    "        v = components(tau)\n",
    "        alphas.append(assemble(M * v))\n",
    "    if set(alphas) == set([p[0] for p in curve]):\n",
    "        good_alphas.append(alphas)\n",
    "        M_alpha.append(M)\n",
    "\n",
    "M_beta = []\n",
    "good_betas = []\n",
    "for M in Matrix(Integers(2), 3, 3).parent():\n",
    "    betas = []\n",
    "    for tau in F:\n",
    "        v = components(tau)\n",
    "        betas.append(assemble(M * v))\n",
    "    if set(betas) == set([p[1] for p in curve]):\n",
    "        good_betas.append(betas)\n",
    "        M_beta.append(M)\n",
    "\n",
    "print(len(good_alphas), len(good_betas))"
   ]
  },
  {
   "cell_type": "code",
   "execution_count": 21,
   "id": "b967e7ac-a3fe-4ab6-81e8-bebbb353ea30",
   "metadata": {},
   "outputs": [
    {
     "data": {
      "text/html": [
       "<html>\\(\\displaystyle 168\\)</html>"
      ],
      "text/latex": [
       "$\\displaystyle 168$"
      ],
      "text/plain": [
       "168"
      ]
     },
     "execution_count": 21,
     "metadata": {},
     "output_type": "execute_result"
    }
   ],
   "source": [
    "Ms = []\n",
    "params = []\n",
    "for i, alphas in enumerate(good_alphas):\n",
    "    for j, betas in enumerate(good_betas):\n",
    "        param = list(zip(alphas, betas))\n",
    "        if set(param) == set(curve):\n",
    "            params.append(param)\n",
    "            Ms.append((M_alpha[i], M_beta[j]))\n",
    "len(params)"
   ]
  },
  {
   "cell_type": "code",
   "execution_count": 22,
   "id": "fa589679-dd20-4918-8386-b3f24adadf46",
   "metadata": {},
   "outputs": [
    {
     "data": {
      "text/html": [
       "<html>\\(\\displaystyle \\left[\\left(0, 0\\right), \\left(x^{2} + 1, 1\\right), \\left(x^{2} + x, 0\\right), \\left(x + 1, x^{2} + x\\right), \\left(x + 1, 1\\right), \\left(x^{2} + 1, x^{2} + x\\right), \\left(0, x^{2} + x + 1\\right), \\left(x^{2} + x, x^{2} + x + 1\\right)\\right]\\)</html>"
      ],
      "text/latex": [
       "$\\displaystyle \\left[\\left(0, 0\\right), \\left(x^{2} + 1, 1\\right), \\left(x^{2} + x, 0\\right), \\left(x + 1, x^{2} + x\\right), \\left(x + 1, 1\\right), \\left(x^{2} + 1, x^{2} + x\\right), \\left(0, x^{2} + x + 1\\right), \\left(x^{2} + x, x^{2} + x + 1\\right)\\right]$"
      ],
      "text/plain": [
       "[(0, 0),\n",
       " (x^2 + 1, 1),\n",
       " (x^2 + x, 0),\n",
       " (x + 1, x^2 + x),\n",
       " (x + 1, 1),\n",
       " (x^2 + 1, x^2 + x),\n",
       " (0, x^2 + x + 1),\n",
       " (x^2 + x, x^2 + x + 1)]"
      ]
     },
     "execution_count": 22,
     "metadata": {},
     "output_type": "execute_result"
    }
   ],
   "source": [
    "params[0]"
   ]
  },
  {
   "cell_type": "code",
   "execution_count": 23,
   "id": "ab32503b-4d68-47a5-b62f-024d41f51675",
   "metadata": {},
   "outputs": [
    {
     "data": {
      "text/html": [
       "<html>\\(\\displaystyle \\left[\\left(0, 0\\right), \\left(x^{2} + x, 0\\right), \\left(x^{2} + x, x^{2} + x + 1\\right), \\left(x + 1, 1\\right), \\left(x + 1, x^{2} + x\\right), \\left(x^{2} + 1, x^{2} + x\\right), \\left(x^{2} + 1, 1\\right), \\left(0, x^{2} + x + 1\\right)\\right]\\)</html>"
      ],
      "text/latex": [
       "$\\displaystyle \\left[\\left(0, 0\\right), \\left(x^{2} + x, 0\\right), \\left(x^{2} + x, x^{2} + x + 1\\right), \\left(x + 1, 1\\right), \\left(x + 1, x^{2} + x\\right), \\left(x^{2} + 1, x^{2} + x\\right), \\left(x^{2} + 1, 1\\right), \\left(0, x^{2} + x + 1\\right)\\right]$"
      ],
      "text/plain": [
       "[(0, 0),\n",
       " (x^2 + x, 0),\n",
       " (x^2 + x, x^2 + x + 1),\n",
       " (x + 1, 1),\n",
       " (x + 1, x^2 + x),\n",
       " (x^2 + 1, x^2 + x),\n",
       " (x^2 + 1, 1),\n",
       " (0, x^2 + x + 1)]"
      ]
     },
     "execution_count": 23,
     "metadata": {},
     "output_type": "execute_result"
    }
   ],
   "source": [
    "curve"
   ]
  },
  {
   "cell_type": "markdown",
   "id": "2fde5f2e-6df5-4ce1-8479-000fc3fb6258",
   "metadata": {},
   "source": [
    "It works, but there is a better way..."
   ]
  },
  {
   "cell_type": "markdown",
   "id": "be17477c-d445-46d4-8a8f-c7a16b551ca5",
   "metadata": {},
   "source": [
    "We can build any of the 168 parametrizations by selecting three generating elements of the curve, $p_1,p_2,p_3 \\in \\gamma$ and using the following expression:\n",
    "$$\n",
    "(\\alpha(\\tau), \\beta(\\tau))\n",
    "= Tr(\\tau x^3) p_1 + Tr(\\tau x^5) p_2 + Tr(\\tau x^6) p_3.\n",
    "$$"
   ]
  },
  {
   "cell_type": "markdown",
   "id": "ba022bb2-29d4-4ac9-beed-0e5c16a89055",
   "metadata": {},
   "source": [
    "To find the generating elements of the curve we can select two distinct points and then select a third one that is distinct from the first two and is also not equal to their sum."
   ]
  },
  {
   "cell_type": "code",
   "execution_count": 33,
   "id": "2da93ec0-b085-46a1-b758-c6cdb71cd7d7",
   "metadata": {},
   "outputs": [
    {
     "data": {
      "text/html": [
       "<html>\\(\\displaystyle \\left[\\left(0, 0\\right), \\left(x^{2} + x, 0\\right), \\left(x^{2} + x, x^{2} + x + 1\\right), \\left(x + 1, 1\\right), \\left(x + 1, x^{2} + x\\right), \\left(x^{2} + 1, x^{2} + x\\right), \\left(x^{2} + 1, 1\\right), \\left(0, x^{2} + x + 1\\right)\\right]\\)</html>"
      ],
      "text/latex": [
       "$\\displaystyle \\left[\\left(0, 0\\right), \\left(x^{2} + x, 0\\right), \\left(x^{2} + x, x^{2} + x + 1\\right), \\left(x + 1, 1\\right), \\left(x + 1, x^{2} + x\\right), \\left(x^{2} + 1, x^{2} + x\\right), \\left(x^{2} + 1, 1\\right), \\left(0, x^{2} + x + 1\\right)\\right]$"
      ],
      "text/plain": [
       "[(0, 0),\n",
       " (x^2 + x, 0),\n",
       " (x^2 + x, x^2 + x + 1),\n",
       " (x + 1, 1),\n",
       " (x + 1, x^2 + x),\n",
       " (x^2 + 1, x^2 + x),\n",
       " (x^2 + 1, 1),\n",
       " (0, x^2 + x + 1)]"
      ]
     },
     "execution_count": 33,
     "metadata": {},
     "output_type": "execute_result"
    }
   ],
   "source": [
    "curve"
   ]
  },
  {
   "cell_type": "markdown",
   "id": "ea3bdb3f-8a4d-471b-92b9-5fe7196f6397",
   "metadata": {},
   "source": [
    "For example we choose the following points:\n",
    "$$\n",
    "p_1 = (x^2+x,0), \\quad\n",
    "p_2 = (x+1,1), \\quad\n",
    "p_3 = (x^2+x,x^2+x+1).\n",
    "$$"
   ]
  },
  {
   "cell_type": "code",
   "execution_count": 34,
   "id": "89c6945f-7e81-4248-8fee-15b1b2b869b2",
   "metadata": {},
   "outputs": [],
   "source": [
    "def gamma(tau, gens):\n",
    "    comps = components(tau)\n",
    "    p = vector([F(0), F(0)])\n",
    "    for i, g in enumerate(gens):\n",
    "        p += comps[i] * g\n",
    "    return tuple(p)"
   ]
  },
  {
   "cell_type": "code",
   "execution_count": 35,
   "id": "5848124c-1a21-42a4-b73c-e261eb0e084e",
   "metadata": {},
   "outputs": [],
   "source": [
    "gens = [vector([x^2+x,F(0)]), vector([x+1,F(1)]), vector([x^2+x,x^2+x+1])]"
   ]
  },
  {
   "cell_type": "code",
   "execution_count": 37,
   "id": "2c894a94-d3a7-4faa-a78a-0dd02fd62429",
   "metadata": {},
   "outputs": [
    {
     "data": {
      "text/html": [
       "<html>\\(\\displaystyle \\left[\\left(0, 0\\right), \\left(x^{2} + 1, x^{2} + x\\right), \\left(x^{2} + 1, 1\\right), \\left(x^{2} + x, 0\\right), \\left(0, x^{2} + x + 1\\right), \\left(x + 1, 1\\right), \\left(x^{2} + x, x^{2} + x + 1\\right), \\left(x + 1, x^{2} + x\\right)\\right]\\)</html>"
      ],
      "text/latex": [
       "$\\displaystyle \\left[\\left(0, 0\\right), \\left(x^{2} + 1, x^{2} + x\\right), \\left(x^{2} + 1, 1\\right), \\left(x^{2} + x, 0\\right), \\left(0, x^{2} + x + 1\\right), \\left(x + 1, 1\\right), \\left(x^{2} + x, x^{2} + x + 1\\right), \\left(x + 1, x^{2} + x\\right)\\right]$"
      ],
      "text/plain": [
       "[(0, 0),\n",
       " (x^2 + 1, x^2 + x),\n",
       " (x^2 + 1, 1),\n",
       " (x^2 + x, 0),\n",
       " (0, x^2 + x + 1),\n",
       " (x + 1, 1),\n",
       " (x^2 + x, x^2 + x + 1),\n",
       " (x + 1, x^2 + x)]"
      ]
     },
     "execution_count": 37,
     "metadata": {},
     "output_type": "execute_result"
    }
   ],
   "source": [
    "[gamma(tau, gens) for tau in F]"
   ]
  },
  {
   "cell_type": "code",
   "execution_count": 39,
   "id": "cbeabf44-0f27-4319-a803-77531a8fa5e2",
   "metadata": {},
   "outputs": [],
   "source": [
    "def powers(pts):\n",
    "    return [(toInt(p[0]), toInt(p[1])) for p in pts]"
   ]
  },
  {
   "cell_type": "code",
   "execution_count": 40,
   "id": "5eb5a295-9cc7-4328-b1b2-bc1a574e8852",
   "metadata": {},
   "outputs": [
    {
     "data": {
      "text/html": [
       "<html>\\(\\displaystyle \\left[\\left(0, 0\\right), \\left(6, 4\\right), \\left(6, 7\\right), \\left(4, 0\\right), \\left(0, 5\\right), \\left(3, 7\\right), \\left(4, 5\\right), \\left(3, 4\\right)\\right]\\)</html>"
      ],
      "text/latex": [
       "$\\displaystyle \\left[\\left(0, 0\\right), \\left(6, 4\\right), \\left(6, 7\\right), \\left(4, 0\\right), \\left(0, 5\\right), \\left(3, 7\\right), \\left(4, 5\\right), \\left(3, 4\\right)\\right]$"
      ],
      "text/plain": [
       "[(0, 0), (6, 4), (6, 7), (4, 0), (0, 5), (3, 7), (4, 5), (3, 4)]"
      ]
     },
     "execution_count": 40,
     "metadata": {},
     "output_type": "execute_result"
    }
   ],
   "source": [
    "powers([gamma(tau, gens) for tau in F])"
   ]
  },
  {
   "cell_type": "code",
   "execution_count": 42,
   "id": "2ba2a06a-2d4d-4b8a-8158-0cb9f3ddd79d",
   "metadata": {},
   "outputs": [
    {
     "data": {
      "text/html": [
       "<html>\\(\\displaystyle \\mathrm{True}\\)</html>"
      ],
      "text/latex": [
       "$\\displaystyle \\mathrm{True}$"
      ],
      "text/plain": [
       "True"
      ]
     },
     "execution_count": 42,
     "metadata": {},
     "output_type": "execute_result"
    }
   ],
   "source": [
    "set(curve) == set([gamma(tau, gens) for tau in F])"
   ]
  },
  {
   "cell_type": "markdown",
   "id": "0285538c-c210-4657-9e20-caa4a3705e46",
   "metadata": {},
   "source": [
    "So our example of parametrization works fine. The following is code that Jorge created to obtain all the possible generators and from there test that each parametrization is correct. "
   ]
  },
  {
   "cell_type": "code",
   "execution_count": 51,
   "id": "a2d0b2fc-fd43-47ab-9247-ebcdf38c776d",
   "metadata": {},
   "outputs": [],
   "source": [
    "def listminus(rs, notrs):\n",
    "    res = []\n",
    "    for s in rs:\n",
    "        if s not in notrs:\n",
    "            res.append(s)\n",
    "    return(res)\n",
    "\n",
    "generators = []\n",
    "set1 = listminus(curve,[(F(0),F(0))])\n",
    "for p1 in set1:\n",
    "    set2 = listminus(set1,[p1])\n",
    "    for p2 in set2:\n",
    "        set3 = listminus(set2, [p2, (p1[0]+p2[0],p1[1]+p2[1])])\n",
    "        for p3 in set3:\n",
    "            generators.append([vector(p1), vector(p2), vector(p3)])"
   ]
  },
  {
   "cell_type": "code",
   "execution_count": 52,
   "id": "d862a54c-ca1c-42ed-bce7-5f1791afc9ed",
   "metadata": {},
   "outputs": [
    {
     "data": {
      "text/html": [
       "<html>\\(\\displaystyle 168\\)</html>"
      ],
      "text/latex": [
       "$\\displaystyle 168$"
      ],
      "text/plain": [
       "168"
      ]
     },
     "execution_count": 52,
     "metadata": {},
     "output_type": "execute_result"
    }
   ],
   "source": [
    "len(generators)"
   ]
  },
  {
   "cell_type": "code",
   "execution_count": 53,
   "id": "6f4e661d-c43f-4d19-8e1c-4c20cb54614d",
   "metadata": {},
   "outputs": [],
   "source": [
    "for c in [[gamma(tau, gen) for tau in F] for gen in generators]:\n",
    "    if set(c) != set(curve):\n",
    "        raise Exception"
   ]
  },
  {
   "cell_type": "markdown",
   "id": "82f78d0f-ed6d-47ba-9ab4-ee6150e5b100",
   "metadata": {},
   "source": [
    "The paramtrization idea works perfectly. The following is confirmation that we can form the Wigner kernel using the displacement expression now that we have have a paramtrization of the degenerate curve. Using this expression we can obtain all eigenvectors and I later test that it does create an eigenbasis of the displacement operators indexed by the elements of the curve."
   ]
  },
  {
   "cell_type": "code",
   "execution_count": 54,
   "id": "7f8c1fd9-3916-4755-8849-302a7571b601",
   "metadata": {},
   "outputs": [],
   "source": [
    "chi = lambda k: exp(pi * I * int(k.trace()))\n",
    "\n",
    "y = var('y')\n",
    "\n",
    "# compute the coefficients for the basis elements,\n",
    "def solve_basis(basis, curve):\n",
    "    sols = []\n",
    "    for k in basis:\n",
    "        sol = solve(chi(k * curve(k)) == y^2, y, solution_dict=True)\n",
    "        sols.append(sol[1]) # positive solutions only (choice)\n",
    "    return sols\n",
    "\n",
    "# after computing the solutions we can simply\n",
    "# get them for each basis element.\n",
    "def basis_c(a, l, sols):\n",
    "    if a == 0:\n",
    "        return 1\n",
    "    return sols[l][y]\n",
    "\n",
    "# Compute an arbitrary coefficient c_{\\alpha,f} for a \n",
    "# given curve f using the general formula.\n",
    "def c(alpha, curve, sols=None):\n",
    "    if not sols:\n",
    "        sols = solve_basis(basis, curve)\n",
    "    \n",
    "    # Expand alpha in the basis\n",
    "    comps = components(alpha)\n",
    "\n",
    "    # Apply the formula\n",
    "    s1 = 0\n",
    "    for k in range(N-1):\n",
    "        s2 = 0\n",
    "        for j in range(k+1, N):\n",
    "            s2 += comps[j] * basis[j]\n",
    "        s1 += s2 * curve(comps[k] * basis[k])\n",
    "        \n",
    "    return chi(s1) * prod([basis_c(a, l, sols) for l, a in enumerate(comps)])\n",
    "\n",
    "def sign_perm(sols, perm=None):\n",
    "    if perm:\n",
    "        for k, sol in enumerate(sols):\n",
    "            sols[k][y] = perm[k] * sols[k][y]\n",
    "    return sols\n",
    "\n",
    "def ray(mu):\n",
    "    return lambda t: mu * t\n",
    "\n",
    "def PS(curve, perms):\n",
    "    phase_space = zero_matrix(SR, 2^N, 2^N)\n",
    "    phase_space[0,:] = 1 # vertical line\n",
    "    for j, mu in enumerate(F): # iterate through the curve parametr\n",
    "        # same sign choice for a fixed curve parameter\n",
    "        sols = sign_perm(solve_basis(basis, curve(mu)), perms[j])\n",
    "        for i, a in enumerate(F):\n",
    "            # loop through alpha to obtain coefficient and\n",
    "            # corresponding point\n",
    "            coeff = c(a, curve(mu), sols)\n",
    "            b = curve(mu)(a)\n",
    "            phase_space[i, toInt(b)] = coeff\n",
    "    return phase_space"
   ]
  },
  {
   "cell_type": "code",
   "execution_count": 55,
   "id": "90433e9f-8ed1-47ba-be99-cf690efa1782",
   "metadata": {},
   "outputs": [
    {
     "data": {
      "text/html": [
       "<html>\\(\\displaystyle \\left(\\begin{array}{rrrrrrrr}\n",
       "1 & 1 & 1 & 1 & 1 & 1 & 1 & 1 \\\\\n",
       "1 & -1 & -i & 1 & -i & i & i & -1 \\\\\n",
       "1 & -i & -1 & i & -i & i & 1 & -1 \\\\\n",
       "1 & 1 & i & i & i & 1 & 1 & i \\\\\n",
       "1 & -i & -i & i & -1 & 1 & i & -1 \\\\\n",
       "1 & i & i & 1 & 1 & i & 1 & i \\\\\n",
       "1 & i & 1 & 1 & i & 1 & i & i \\\\\n",
       "1 & -1 & -1 & i & -1 & i & i & -i\n",
       "\\end{array}\\right)\\)</html>"
      ],
      "text/latex": [
       "$\\displaystyle \\left(\\begin{array}{rrrrrrrr}\n",
       "1 & 1 & 1 & 1 & 1 & 1 & 1 & 1 \\\\\n",
       "1 & -1 & -i & 1 & -i & i & i & -1 \\\\\n",
       "1 & -i & -1 & i & -i & i & 1 & -1 \\\\\n",
       "1 & 1 & i & i & i & 1 & 1 & i \\\\\n",
       "1 & -i & -i & i & -1 & 1 & i & -1 \\\\\n",
       "1 & i & i & 1 & 1 & i & 1 & i \\\\\n",
       "1 & i & 1 & 1 & i & 1 & i & i \\\\\n",
       "1 & -1 & -1 & i & -1 & i & i & -i\n",
       "\\end{array}\\right)$"
      ],
      "text/plain": [
       "[ 1  1  1  1  1  1  1  1]\n",
       "[ 1 -1 -I  1 -I  I  I -1]\n",
       "[ 1 -I -1  I -I  I  1 -1]\n",
       "[ 1  1  I  I  I  1  1  I]\n",
       "[ 1 -I -I  I -1  1  I -1]\n",
       "[ 1  I  I  1  1  I  1  I]\n",
       "[ 1  I  1  1  I  1  I  I]\n",
       "[ 1 -1 -1  I -1  I  I -I]"
      ]
     },
     "execution_count": 55,
     "metadata": {},
     "output_type": "execute_result"
    }
   ],
   "source": [
    "ps = PS(ray, [[1,1,1]] * 8)\n",
    "ps"
   ]
  },
  {
   "cell_type": "code",
   "execution_count": 56,
   "id": "1a2e5da9-7f8b-40e7-8d46-29b7f4b196fd",
   "metadata": {},
   "outputs": [],
   "source": [
    "def Proj(u, v=None):\n",
    "    if not v:\n",
    "        v = u\n",
    "    return u.tensor_product(v.conjugate_transpose())\n",
    "\n",
    "Id = identity_matrix(2^N)\n",
    "\n",
    "def Fourier():\n",
    "    s = zero_matrix(SR, 2^N, 2^N)\n",
    "    for i, a in enumerate(F):\n",
    "        for j, b in enumerate(F):\n",
    "            s[i,j] = chi(a * b) / sqrt(2^N)\n",
    "    return s\n",
    "FF = Fourier()\n",
    "\n",
    "def phi(a, b):\n",
    "    return ps[toInt(a), toInt(b)]\n",
    "\n",
    "def Z(a):\n",
    "    return diagonal_matrix([chi(a * k) for k in F])\n",
    "\n",
    "def X(b):\n",
    "    return FF.conjugate_transpose() * Z(b) * FF\n",
    "\n",
    "def D(a, b):\n",
    "    return phi(a, b) * Z(a) * X(b)"
   ]
  },
  {
   "cell_type": "code",
   "execution_count": 57,
   "id": "a0e1337a-53ec-428a-97fc-e1ad3446b4bd",
   "metadata": {},
   "outputs": [],
   "source": [
    "# Testing that a parametrization gives us \n",
    "# the abelian property. Of course this works\n",
    "# because we already know that the curve is abelian!\n",
    "k = 0\n",
    "for t1 in F:\n",
    "    for t2 in F:\n",
    "        p1 = gamma(t1, generators[k])\n",
    "        p2 = gamma(t2, generators[k])\n",
    "        d1 = D(*p1)\n",
    "        d2 = D(*p2)\n",
    "        d3 = D(*(vector(p1) + vector(p2)))\n",
    "        if d1 * d2 != d3:\n",
    "            raise Exception"
   ]
  },
  {
   "cell_type": "markdown",
   "id": "494798f6-ee0e-4d63-a7bc-4c4604bd94a6",
   "metadata": {},
   "source": [
    "The following expression produces the projection operator corresponding to the $\\kappa$-th eigenvector of the eigenbasis of the displacements operatos corresponding to $\\gamma$. "
   ]
  },
  {
   "cell_type": "code",
   "execution_count": 58,
   "id": "7b5438f4-76f9-4ce6-9332-ca04e7924e08",
   "metadata": {},
   "outputs": [],
   "source": [
    "def eig_proj(k, j):\n",
    "    eig = zero_matrix(SR, 2^N, 2^N)\n",
    "    for tau in F:\n",
    "        eig += chi(tau * k) * D(*gamma(tau, generators[j])) / 2^N\n",
    "    return eig"
   ]
  },
  {
   "cell_type": "code",
   "execution_count": 59,
   "id": "4a4f518d-aa24-4c85-b30f-03671770017e",
   "metadata": {},
   "outputs": [],
   "source": [
    "eig = eig_proj(F(0), 123)"
   ]
  },
  {
   "cell_type": "code",
   "execution_count": 60,
   "id": "96885657-3b7a-44a2-b65f-cee8f3534dfc",
   "metadata": {},
   "outputs": [
    {
     "data": {
      "text/html": [
       "<html>\\(\\displaystyle \\mathrm{True}\\)</html>"
      ],
      "text/latex": [
       "$\\displaystyle \\mathrm{True}$"
      ],
      "text/plain": [
       "True"
      ]
     },
     "execution_count": 60,
     "metadata": {},
     "output_type": "execute_result"
    }
   ],
   "source": [
    "# testing that it is an eigenvector\n",
    "dop = D(*gamma(x, generators[0]))\n",
    "dop * eig * dop.conjugate_transpose() == eig"
   ]
  },
  {
   "cell_type": "code",
   "execution_count": 61,
   "id": "12010ec8-6d45-4796-b48a-7124e1381ad3",
   "metadata": {},
   "outputs": [],
   "source": [
    "# testing that they all are eigenvectors\n",
    "# of the D's.\n",
    "for tau in F:\n",
    "    for k in F:\n",
    "        eig = eig_proj(k, 123)\n",
    "        dop = D(*gamma(tau, generators[0]))\n",
    "        if dop * eig * dop.conjugate_transpose() != eig:\n",
    "            raise Exception"
   ]
  },
  {
   "cell_type": "code",
   "execution_count": 62,
   "id": "6cabe3dc-1e08-4323-a0da-abe0ae4f4e55",
   "metadata": {},
   "outputs": [
    {
     "name": "stdout",
     "output_type": "stream",
     "text": [
      "[   1/4      0      0      0  1/4*I    1/4      0  1/4*I]\n",
      "[     0      0      0      0      0      0      0      0]\n",
      "[     0      0      0      0      0      0      0      0]\n",
      "[     0      0      0      0      0      0      0      0]\n",
      "[-1/4*I      0      0      0    1/4 -1/4*I      0    1/4]\n",
      "[   1/4      0      0      0  1/4*I    1/4      0  1/4*I]\n",
      "[     0      0      0      0      0      0      0      0]\n",
      "[-1/4*I      0      0      0    1/4 -1/4*I      0    1/4] \n",
      "\n",
      "[     0      0      0      0      0      0      0      0]\n",
      "[     0    1/4  1/4*I -1/4*I      0      0   -1/4      0]\n",
      "[     0 -1/4*I    1/4   -1/4      0      0  1/4*I      0]\n",
      "[     0  1/4*I   -1/4    1/4      0      0 -1/4*I      0]\n",
      "[     0      0      0      0      0      0      0      0]\n",
      "[     0      0      0      0      0      0      0      0]\n",
      "[     0   -1/4 -1/4*I  1/4*I      0      0    1/4      0]\n",
      "[     0      0      0      0      0      0      0      0] \n",
      "\n",
      "[     0      0      0      0      0      0      0      0]\n",
      "[     0    1/4  1/4*I  1/4*I      0      0    1/4      0]\n",
      "[     0 -1/4*I    1/4    1/4      0      0 -1/4*I      0]\n",
      "[     0 -1/4*I    1/4    1/4      0      0 -1/4*I      0]\n",
      "[     0      0      0      0      0      0      0      0]\n",
      "[     0      0      0      0      0      0      0      0]\n",
      "[     0    1/4  1/4*I  1/4*I      0      0    1/4      0]\n",
      "[     0      0      0      0      0      0      0      0] \n",
      "\n",
      "[   1/4      0      0      0 -1/4*I    1/4      0 -1/4*I]\n",
      "[     0      0      0      0      0      0      0      0]\n",
      "[     0      0      0      0      0      0      0      0]\n",
      "[     0      0      0      0      0      0      0      0]\n",
      "[ 1/4*I      0      0      0    1/4  1/4*I      0    1/4]\n",
      "[   1/4      0      0      0 -1/4*I    1/4      0 -1/4*I]\n",
      "[     0      0      0      0      0      0      0      0]\n",
      "[ 1/4*I      0      0      0    1/4  1/4*I      0    1/4] \n",
      "\n",
      "[   1/4      0      0      0  1/4*I   -1/4      0 -1/4*I]\n",
      "[     0      0      0      0      0      0      0      0]\n",
      "[     0      0      0      0      0      0      0      0]\n",
      "[     0      0      0      0      0      0      0      0]\n",
      "[-1/4*I      0      0      0    1/4  1/4*I      0   -1/4]\n",
      "[  -1/4      0      0      0 -1/4*I    1/4      0  1/4*I]\n",
      "[     0      0      0      0      0      0      0      0]\n",
      "[ 1/4*I      0      0      0   -1/4 -1/4*I      0    1/4] \n",
      "\n",
      "[     0      0      0      0      0      0      0      0]\n",
      "[     0    1/4 -1/4*I -1/4*I      0      0    1/4      0]\n",
      "[     0  1/4*I    1/4    1/4      0      0  1/4*I      0]\n",
      "[     0  1/4*I    1/4    1/4      0      0  1/4*I      0]\n",
      "[     0      0      0      0      0      0      0      0]\n",
      "[     0      0      0      0      0      0      0      0]\n",
      "[     0    1/4 -1/4*I -1/4*I      0      0    1/4      0]\n",
      "[     0      0      0      0      0      0      0      0] \n",
      "\n",
      "[   1/4      0      0      0 -1/4*I   -1/4      0  1/4*I]\n",
      "[     0      0      0      0      0      0      0      0]\n",
      "[     0      0      0      0      0      0      0      0]\n",
      "[     0      0      0      0      0      0      0      0]\n",
      "[ 1/4*I      0      0      0    1/4 -1/4*I      0   -1/4]\n",
      "[  -1/4      0      0      0  1/4*I    1/4      0 -1/4*I]\n",
      "[     0      0      0      0      0      0      0      0]\n",
      "[-1/4*I      0      0      0   -1/4  1/4*I      0    1/4] \n",
      "\n",
      "[     0      0      0      0      0      0      0      0]\n",
      "[     0    1/4 -1/4*I  1/4*I      0      0   -1/4      0]\n",
      "[     0  1/4*I    1/4   -1/4      0      0 -1/4*I      0]\n",
      "[     0 -1/4*I   -1/4    1/4      0      0  1/4*I      0]\n",
      "[     0      0      0      0      0      0      0      0]\n",
      "[     0      0      0      0      0      0      0      0]\n",
      "[     0   -1/4  1/4*I -1/4*I      0      0    1/4      0]\n",
      "[     0      0      0      0      0      0      0      0] \n",
      "\n"
     ]
    }
   ],
   "source": [
    "for k in F:\n",
    "    print(eig_proj(k, 123), '\\n')"
   ]
  },
  {
   "cell_type": "code",
   "execution_count": 63,
   "id": "668698b4-a580-4ccf-bcc7-eae2bb93b2b1",
   "metadata": {},
   "outputs": [
    {
     "data": {
      "text/html": [
       "<html>\\(\\displaystyle \\newcommand{\\Bold}[1]{\\mathbf{#1}}\\Bold{C}^{64}\\)</html>"
      ],
      "text/latex": [
       "$\\displaystyle \\newcommand{\\Bold}[1]{\\mathbf{#1}}\\Bold{C}^{64}$"
      ],
      "text/plain": [
       "Vector space of dimension 64 over Complex Field with 53 bits of precision"
      ]
     },
     "execution_count": 63,
     "metadata": {},
     "output_type": "execute_result"
    }
   ],
   "source": [
    "V = CC^64\n",
    "V"
   ]
  },
  {
   "cell_type": "code",
   "execution_count": 64,
   "id": "251988b3-2ae6-4841-bb8f-21eec008cb3a",
   "metadata": {},
   "outputs": [
    {
     "data": {
      "text/html": [
       "<html>\\(\\displaystyle \\left[\\right]\\)</html>"
      ],
      "text/latex": [
       "$\\displaystyle \\left[\\right]$"
      ],
      "text/plain": [
       "[\n",
       "\n",
       "]"
      ]
     },
     "execution_count": 64,
     "metadata": {},
     "output_type": "execute_result"
    }
   ],
   "source": [
    "V.linear_dependence([vector(eig_proj(k, 123).list()) for k in F])"
   ]
  },
  {
   "cell_type": "markdown",
   "id": "bbe7fe3b-491c-4562-b9fb-a4f88e21aa31",
   "metadata": {},
   "source": [
    "The set of eigenvectors is an eigenbasis. The Wigner function should give us delta functions since the displacement operators have matching phases with the rays."
   ]
  },
  {
   "cell_type": "code",
   "execution_count": 77,
   "id": "7eda4a90-ae9d-4027-a72a-afc1b98df87e",
   "metadata": {},
   "outputs": [],
   "source": [
    "def Wigner(a, b):\n",
    "    op = zero_matrix(SR, 2^N, 2^N)\n",
    "    for ga in F:\n",
    "        for de in F:\n",
    "            op += chi(ga * b + de * a) * D(ga, de)\n",
    "    return op / 2^N"
   ]
  },
  {
   "cell_type": "code",
   "execution_count": 84,
   "id": "f132bdd0-7962-4d7d-a645-17f655440098",
   "metadata": {},
   "outputs": [],
   "source": [
    "def WignerMatrix(state, kernels=None):\n",
    "    m = zero_matrix(SR, 2^N, 2^N)\n",
    "    for a in F:\n",
    "        for b in F:\n",
    "            if kernels:\n",
    "                kernel = kernels[toInt(a)][toInt(b)]\n",
    "            else:\n",
    "                kernel = Wigner(a, b)\n",
    "            m[toInt(a), toInt(b)] = (kernel * state).trace() / 2^N\n",
    "    return m"
   ]
  },
  {
   "cell_type": "code",
   "execution_count": 97,
   "id": "75dbcefd-c35d-4255-93d7-db78803c6a4f",
   "metadata": {},
   "outputs": [],
   "source": [
    "kernels = []\n",
    "for a in F: \n",
    "    row = [Wigner(a, b) for b in F]\n",
    "    kernels.append(row)"
   ]
  },
  {
   "cell_type": "code",
   "execution_count": 101,
   "id": "f84d3491-f683-48ea-8ae6-9de0bbb4cb5e",
   "metadata": {},
   "outputs": [
    {
     "data": {
      "text/html": [
       "<html>\\(\\displaystyle \\left(\\begin{array}{rrrrrrrr}\n",
       "\\frac{1}{8} & 0 & 0 & 0 & 0 & \\frac{1}{8} & 0 & 0 \\\\\n",
       "0 & 0 & 0 & 0 & 0 & 0 & 0 & 0 \\\\\n",
       "0 & 0 & 0 & 0 & 0 & 0 & 0 & 0 \\\\\n",
       "0 & 0 & 0 & 0 & \\frac{1}{8} & 0 & 0 & \\frac{1}{8} \\\\\n",
       "\\frac{1}{8} & 0 & 0 & 0 & 0 & \\frac{1}{8} & 0 & 0 \\\\\n",
       "0 & 0 & 0 & 0 & 0 & 0 & 0 & 0 \\\\\n",
       "0 & 0 & 0 & 0 & \\frac{1}{8} & 0 & 0 & \\frac{1}{8} \\\\\n",
       "0 & 0 & 0 & 0 & 0 & 0 & 0 & 0\n",
       "\\end{array}\\right)\\)</html>"
      ],
      "text/latex": [
       "$\\displaystyle \\left(\\begin{array}{rrrrrrrr}\n",
       "\\frac{1}{8} & 0 & 0 & 0 & 0 & \\frac{1}{8} & 0 & 0 \\\\\n",
       "0 & 0 & 0 & 0 & 0 & 0 & 0 & 0 \\\\\n",
       "0 & 0 & 0 & 0 & 0 & 0 & 0 & 0 \\\\\n",
       "0 & 0 & 0 & 0 & \\frac{1}{8} & 0 & 0 & \\frac{1}{8} \\\\\n",
       "\\frac{1}{8} & 0 & 0 & 0 & 0 & \\frac{1}{8} & 0 & 0 \\\\\n",
       "0 & 0 & 0 & 0 & 0 & 0 & 0 & 0 \\\\\n",
       "0 & 0 & 0 & 0 & \\frac{1}{8} & 0 & 0 & \\frac{1}{8} \\\\\n",
       "0 & 0 & 0 & 0 & 0 & 0 & 0 & 0\n",
       "\\end{array}\\right)$"
      ],
      "text/plain": [
       "[1/8   0   0   0   0 1/8   0   0]\n",
       "[  0   0   0   0   0   0   0   0]\n",
       "[  0   0   0   0   0   0   0   0]\n",
       "[  0   0   0   0 1/8   0   0 1/8]\n",
       "[1/8   0   0   0   0 1/8   0   0]\n",
       "[  0   0   0   0   0   0   0   0]\n",
       "[  0   0   0   0 1/8   0   0 1/8]\n",
       "[  0   0   0   0   0   0   0   0]"
      ]
     },
     "execution_count": 101,
     "metadata": {},
     "output_type": "execute_result"
    }
   ],
   "source": [
    "WignerMatrix(eig_proj(0, 0), kernels)"
   ]
  },
  {
   "cell_type": "code",
   "execution_count": 106,
   "id": "641f8398-f274-4b70-a339-d7861cacafcb",
   "metadata": {},
   "outputs": [
    {
     "name": "stdout",
     "output_type": "stream",
     "text": [
      "[1/8   0   0   0   0 1/8   0   0]\n",
      "[  0   0   0   0   0   0   0   0]\n",
      "[  0   0   0   0   0   0   0   0]\n",
      "[  0   0   0   0 1/8   0   0 1/8]\n",
      "[1/8   0   0   0   0 1/8   0   0]\n",
      "[  0   0   0   0   0   0   0   0]\n",
      "[  0   0   0   0 1/8   0   0 1/8]\n",
      "[  0   0   0   0   0   0   0   0] \n",
      "\n",
      "[  0   0   0   0   0   0   0   0]\n",
      "[  0   0   0   0 1/8   0   0 1/8]\n",
      "[  0   0   0   0 1/8   0   0 1/8]\n",
      "[  0   0   0   0   0   0   0   0]\n",
      "[  0   0   0   0   0   0   0   0]\n",
      "[1/8   0   0   0   0 1/8   0   0]\n",
      "[  0   0   0   0   0   0   0   0]\n",
      "[1/8   0   0   0   0 1/8   0   0] \n",
      "\n",
      "[  0 1/8   0   0   0   0 1/8   0]\n",
      "[  0   0   0   0   0   0   0   0]\n",
      "[  0   0   0   0   0   0   0   0]\n",
      "[  0   0 1/8 1/8   0   0   0   0]\n",
      "[  0 1/8   0   0   0   0 1/8   0]\n",
      "[  0   0   0   0   0   0   0   0]\n",
      "[  0   0 1/8 1/8   0   0   0   0]\n",
      "[  0   0   0   0   0   0   0   0] \n",
      "\n",
      "[  0   0   0   0   0   0   0   0]\n",
      "[  0 1/8   0   0   0   0 1/8   0]\n",
      "[  0 1/8   0   0   0   0 1/8   0]\n",
      "[  0   0   0   0   0   0   0   0]\n",
      "[  0   0   0   0   0   0   0   0]\n",
      "[  0   0 1/8 1/8   0   0   0   0]\n",
      "[  0   0   0   0   0   0   0   0]\n",
      "[  0   0 1/8 1/8   0   0   0   0] \n",
      "\n",
      "[  0   0   0   0   0   0   0   0]\n",
      "[  0   0 1/8 1/8   0   0   0   0]\n",
      "[  0   0 1/8 1/8   0   0   0   0]\n",
      "[  0   0   0   0   0   0   0   0]\n",
      "[  0   0   0   0   0   0   0   0]\n",
      "[  0 1/8   0   0   0   0 1/8   0]\n",
      "[  0   0   0   0   0   0   0   0]\n",
      "[  0 1/8   0   0   0   0 1/8   0] \n",
      "\n",
      "[  0   0   0   0   0   0   0   0]\n",
      "[1/8   0   0   0   0 1/8   0   0]\n",
      "[1/8   0   0   0   0 1/8   0   0]\n",
      "[  0   0   0   0   0   0   0   0]\n",
      "[  0   0   0   0   0   0   0   0]\n",
      "[  0   0   0   0 1/8   0   0 1/8]\n",
      "[  0   0   0   0   0   0   0   0]\n",
      "[  0   0   0   0 1/8   0   0 1/8] \n",
      "\n",
      "[  0   0   0   0 1/8   0   0 1/8]\n",
      "[  0   0   0   0   0   0   0   0]\n",
      "[  0   0   0   0   0   0   0   0]\n",
      "[1/8   0   0   0   0 1/8   0   0]\n",
      "[  0   0   0   0 1/8   0   0 1/8]\n",
      "[  0   0   0   0   0   0   0   0]\n",
      "[1/8   0   0   0   0 1/8   0   0]\n",
      "[  0   0   0   0   0   0   0   0] \n",
      "\n",
      "[  0   0 1/8 1/8   0   0   0   0]\n",
      "[  0   0   0   0   0   0   0   0]\n",
      "[  0   0   0   0   0   0   0   0]\n",
      "[  0 1/8   0   0   0   0 1/8   0]\n",
      "[  0   0 1/8 1/8   0   0   0   0]\n",
      "[  0   0   0   0   0   0   0   0]\n",
      "[  0 1/8   0   0   0   0 1/8   0]\n",
      "[  0   0   0   0   0   0   0   0] \n",
      "\n"
     ]
    }
   ],
   "source": [
    "for k in F:\n",
    "    print(WignerMatrix(eig_proj(k, 0), kernels), '\\n')"
   ]
  },
  {
   "cell_type": "markdown",
   "id": "59723ee9-a0d8-4b64-8d2e-fa134f06421b",
   "metadata": {},
   "source": [
    "We obtain delta functions as we wanted!"
   ]
  },
  {
   "cell_type": "markdown",
   "id": "89ea49bc-8113-49ae-af77-d99441c355f7",
   "metadata": {},
   "source": [
    "Now, Sainz found a parametrization in a simpler expression, where she basically fit the parameters of a general curve to the points of the degenerate curve in question:\n",
    "$$\n",
    "\\alpha(\\tau) = \\sigma \\tau^2 + \\sigma^4 \\tau^4,\n",
    "\\quad\n",
    "\\beta(\\tau) = \\sigma \\tau + \\sigma^2 \\tau^4.\n",
    "$$\n",
    "First we test that this curve is an actual parametrization."
   ]
  },
  {
   "cell_type": "code",
   "execution_count": 113,
   "id": "0371f1cd-37b4-4be6-ac65-ecd9f9100141",
   "metadata": {},
   "outputs": [
    {
     "data": {
      "text/html": [
       "<html>\\(\\displaystyle \\left[\\left(0, 0\\right), \\left(1, 1\\right), \\left(0, 0\\right), \\left(x^{2} + 1, x^{2} + x + 1\\right), \\left(1, 1\\right), \\left(x^{2} + 1, x^{2} + x + 1\\right), \\left(x^{2}, x^{2} + x\\right), \\left(x^{2}, x^{2} + x\\right)\\right]\\)</html>"
      ],
      "text/latex": [
       "$\\displaystyle \\left[\\left(0, 0\\right), \\left(1, 1\\right), \\left(0, 0\\right), \\left(x^{2} + 1, x^{2} + x + 1\\right), \\left(1, 1\\right), \\left(x^{2} + 1, x^{2} + x + 1\\right), \\left(x^{2}, x^{2} + x\\right), \\left(x^{2}, x^{2} + x\\right)\\right]$"
      ],
      "text/plain": [
       "[(0, 0),\n",
       " (1, 1),\n",
       " (0, 0),\n",
       " (x^2 + 1, x^2 + x + 1),\n",
       " (1, 1),\n",
       " (x^2 + 1, x^2 + x + 1),\n",
       " (x^2, x^2 + x),\n",
       " (x^2, x^2 + x)]"
      ]
     },
     "execution_count": 113,
     "metadata": {},
     "output_type": "execute_result"
    }
   ],
   "source": [
    "sainz = [(x*t^2 + x^4*t^4, x*t + x^2*t^4) for t in F]\n",
    "sainz"
   ]
  },
  {
   "cell_type": "code",
   "execution_count": 109,
   "id": "3b324911-c624-4498-a802-0351e989ef6c",
   "metadata": {},
   "outputs": [
    {
     "data": {
      "text/html": [
       "<html>\\(\\displaystyle \\mathrm{False}\\)</html>"
      ],
      "text/latex": [
       "$\\displaystyle \\mathrm{False}$"
      ],
      "text/plain": [
       "False"
      ]
     },
     "execution_count": 109,
     "metadata": {},
     "output_type": "execute_result"
    }
   ],
   "source": [
    "set(sainz) == set(curve)"
   ]
  },
  {
   "cell_type": "code",
   "execution_count": 114,
   "id": "ea59971b-3a89-4957-9595-526db4440e00",
   "metadata": {},
   "outputs": [
    {
     "data": {
      "text/html": [
       "<html>\\(\\displaystyle \\left[\\left(0, 0\\right), \\left(x^{2} + 1, x^{2} + x\\right), \\left(0, x^{2} + x + 1\\right), \\left(x^{2} + x, 0\\right), \\left(x^{2} + 1, 1\\right), \\left(x^{2} + x, x^{2} + x + 1\\right), \\left(x + 1, 1\\right), \\left(x + 1, x^{2} + x\\right)\\right]\\)</html>"
      ],
      "text/latex": [
       "$\\displaystyle \\left[\\left(0, 0\\right), \\left(x^{2} + 1, x^{2} + x\\right), \\left(0, x^{2} + x + 1\\right), \\left(x^{2} + x, 0\\right), \\left(x^{2} + 1, 1\\right), \\left(x^{2} + x, x^{2} + x + 1\\right), \\left(x + 1, 1\\right), \\left(x + 1, x^{2} + x\\right)\\right]$"
      ],
      "text/plain": [
       "[(0, 0),\n",
       " (x^2 + 1, x^2 + x),\n",
       " (0, x^2 + x + 1),\n",
       " (x^2 + x, 0),\n",
       " (x^2 + 1, 1),\n",
       " (x^2 + x, x^2 + x + 1),\n",
       " (x + 1, 1),\n",
       " (x + 1, x^2 + x)]"
      ]
     },
     "execution_count": 114,
     "metadata": {},
     "output_type": "execute_result"
    }
   ],
   "source": [
    "ern = [gamma(tau, generators[0]) for tau in F]\n",
    "ern"
   ]
  },
  {
   "cell_type": "code",
   "execution_count": 115,
   "id": "97a08005-b596-4a7f-bd56-292b0ced621b",
   "metadata": {},
   "outputs": [
    {
     "data": {
      "text/html": [
       "<html>\\(\\displaystyle \\mathrm{True}\\)</html>"
      ],
      "text/latex": [
       "$\\displaystyle \\mathrm{True}$"
      ],
      "text/plain": [
       "True"
      ]
     },
     "execution_count": 115,
     "metadata": {},
     "output_type": "execute_result"
    }
   ],
   "source": [
    "set(ern) == set(curve)"
   ]
  },
  {
   "cell_type": "markdown",
   "id": "9544eb48-8fae-41e2-9736-bca881cd063c",
   "metadata": {},
   "source": [
    "So first of all her parametrization does not work. So now let's find a better expression for our parametrization. For starters, given a set of generators of the curve, $x = (x_1,x_2), y = (y_1,y_2)$ and $z = (z_1,z_2)$, we can obtain a parametrization of and additive curve in the following way:\n",
    "$$\n",
    "\\alpha(\\tau) = Tr(\\tau \\sigma^3) x_1 + Tr(\\tau \\sigma^5) y_1 + Tr(\\tau \\sigma^6) z_1,\n",
    "\\quad\n",
    "\\beta(\\tau) = Tr(\\tau \\sigma^3) x_2 + Tr(\\tau \\sigma^5) y_2 + Tr(\\tau \\sigma^6) z_2.\n",
    "$$"
   ]
  },
  {
   "cell_type": "code",
   "execution_count": 132,
   "id": "803ca4ed-cc3e-4d7a-a4df-70c6891a5d83",
   "metadata": {},
   "outputs": [
    {
     "data": {
      "text/html": [
       "<html>\\(\\displaystyle \\left[\\left(x^{2} + x,\\,0\\right), \\left(x + 1,\\,1\\right), \\left(x^{2} + x,\\,x^{2} + x + 1\\right)\\right]\\)</html>"
      ],
      "text/latex": [
       "$\\displaystyle \\left[\\left(x^{2} + x,\\,0\\right), \\left(x + 1,\\,1\\right), \\left(x^{2} + x,\\,x^{2} + x + 1\\right)\\right]$"
      ],
      "text/plain": [
       "[(x^2 + x, 0), (x + 1, 1), (x^2 + x, x^2 + x + 1)]"
      ]
     },
     "execution_count": 132,
     "metadata": {},
     "output_type": "execute_result"
    }
   ],
   "source": [
    "# let's choose this generator to comply with the pdf I sent Klimov\n",
    "g = [vector([x^4,F(0)]), vector([x^3,x^7]), vector([x^4,x^5])]\n",
    "g"
   ]
  },
  {
   "cell_type": "code",
   "execution_count": 133,
   "id": "5a534cf3-b383-44b5-a075-2fc9aca75a97",
   "metadata": {},
   "outputs": [
    {
     "data": {
      "text/html": [
       "<html>\\(\\displaystyle \\mathrm{True}\\)</html>"
      ],
      "text/latex": [
       "$\\displaystyle \\mathrm{True}$"
      ],
      "text/plain": [
       "True"
      ]
     },
     "execution_count": 133,
     "metadata": {},
     "output_type": "execute_result"
    }
   ],
   "source": [
    "set([gamma(tau, g) for tau in F]) == set(curve)"
   ]
  },
  {
   "cell_type": "code",
   "execution_count": 136,
   "id": "e838a51a-d85d-464c-9404-c9c39e6933c3",
   "metadata": {},
   "outputs": [
    {
     "data": {
      "text/html": [
       "<html>\\(\\displaystyle \\left[\\left(0, 0\\right), \\left(6, 4\\right), \\left(6, 7\\right), \\left(4, 0\\right), \\left(0, 5\\right), \\left(3, 7\\right), \\left(4, 5\\right), \\left(3, 4\\right)\\right]\\)</html>"
      ],
      "text/latex": [
       "$\\displaystyle \\left[\\left(0, 0\\right), \\left(6, 4\\right), \\left(6, 7\\right), \\left(4, 0\\right), \\left(0, 5\\right), \\left(3, 7\\right), \\left(4, 5\\right), \\left(3, 4\\right)\\right]$"
      ],
      "text/plain": [
       "[(0, 0), (6, 4), (6, 7), (4, 0), (0, 5), (3, 7), (4, 5), (3, 4)]"
      ]
     },
     "execution_count": 136,
     "metadata": {},
     "output_type": "execute_result"
    }
   ],
   "source": [
    "powers([gamma(tau, g) for tau in F])"
   ]
  },
  {
   "cell_type": "markdown",
   "id": "33126527-94f6-42bd-8f18-e3f3b66d4d22",
   "metadata": {},
   "source": [
    "Now I'm going to try to use SageMath to simplify the expresion for the $\\alpha$ and $\\beta$ components of this particular paramtrization:"
   ]
  },
  {
   "cell_type": "code",
   "execution_count": 141,
   "id": "3305bef9-c26a-4a82-9182-a796981656f7",
   "metadata": {},
   "outputs": [
    {
     "data": {
      "text/html": [
       "<html>\\(\\displaystyle 0\\)</html>"
      ],
      "text/latex": [
       "$\\displaystyle 0$"
      ],
      "text/plain": [
       "0"
      ]
     },
     "execution_count": 141,
     "metadata": {},
     "output_type": "execute_result"
    }
   ],
   "source": [
    "g[0][0] * x^3 + g[1][0] * x^5 + g[2][0] * x^6"
   ]
  },
  {
   "cell_type": "code",
   "execution_count": 142,
   "id": "c2735ae1-830d-4401-9c86-c1dbd5ba1d62",
   "metadata": {},
   "outputs": [
    {
     "data": {
      "text/html": [
       "<html>\\(\\displaystyle x\\)</html>"
      ],
      "text/latex": [
       "$\\displaystyle x$"
      ],
      "text/plain": [
       "x"
      ]
     },
     "execution_count": 142,
     "metadata": {},
     "output_type": "execute_result"
    }
   ],
   "source": [
    "g[0][0] * x^6 + g[1][0] * x^3 + g[2][0] * x^5"
   ]
  },
  {
   "cell_type": "code",
   "execution_count": 143,
   "id": "e6a311a5-9302-409b-878d-6b0c9b04f2ac",
   "metadata": {},
   "outputs": [
    {
     "data": {
      "text/html": [
       "<html>\\(\\displaystyle 1\\)</html>"
      ],
      "text/latex": [
       "$\\displaystyle 1$"
      ],
      "text/plain": [
       "1"
      ]
     },
     "execution_count": 143,
     "metadata": {},
     "output_type": "execute_result"
    }
   ],
   "source": [
    "g[0][0] * x^5 + g[1][0] * x^6 + g[2][0] * x^3"
   ]
  },
  {
   "cell_type": "markdown",
   "id": "1af3f568-a535-43b4-8f91-70ac55320086",
   "metadata": {},
   "source": [
    "So the expression for the first component is given by $\\alpha(\\tau) = \\sigma \\tau^2 + \\tau^4.$\n",
    "Let's verify:"
   ]
  },
  {
   "cell_type": "code",
   "execution_count": 149,
   "id": "22164d0d-bc36-463c-ab84-9db5a83e201d",
   "metadata": {},
   "outputs": [],
   "source": [
    "for tau in F:\n",
    "    if gamma(tau, g)[0] != x * tau^2 + tau^4:\n",
    "        raise Exception(tau)"
   ]
  },
  {
   "cell_type": "code",
   "execution_count": 153,
   "id": "566dc059-e1ea-4026-a488-a35e854e845b",
   "metadata": {},
   "outputs": [
    {
     "data": {
      "text/html": [
       "<html>\\(\\displaystyle 1\\)</html>"
      ],
      "text/latex": [
       "$\\displaystyle 1$"
      ],
      "text/plain": [
       "1"
      ]
     },
     "execution_count": 153,
     "metadata": {},
     "output_type": "execute_result"
    }
   ],
   "source": [
    "g[0][1] * x^3 + g[1][1] * x^5 + g[2][1] * x^6"
   ]
  },
  {
   "cell_type": "code",
   "execution_count": 154,
   "id": "c918df02-db2a-44d0-9af0-30936cd47261",
   "metadata": {},
   "outputs": [
    {
     "data": {
      "text/html": [
       "<html>\\(\\displaystyle 0\\)</html>"
      ],
      "text/latex": [
       "$\\displaystyle 0$"
      ],
      "text/plain": [
       "0"
      ]
     },
     "execution_count": 154,
     "metadata": {},
     "output_type": "execute_result"
    }
   ],
   "source": [
    "g[0][1] * x^6 + g[1][1] * x^3 + g[2][1] * x^5"
   ]
  },
  {
   "cell_type": "code",
   "execution_count": 155,
   "id": "91f8bad1-628e-4aa6-8ab7-926a173e478d",
   "metadata": {},
   "outputs": [
    {
     "data": {
      "text/html": [
       "<html>\\(\\displaystyle x^{2} + x + 1\\)</html>"
      ],
      "text/latex": [
       "$\\displaystyle x^{2} + x + 1$"
      ],
      "text/plain": [
       "x^2 + x + 1"
      ]
     },
     "execution_count": 155,
     "metadata": {},
     "output_type": "execute_result"
    }
   ],
   "source": [
    "g[0][1] * x^5 + g[1][1] * x^6 + g[2][1] * x^3"
   ]
  },
  {
   "cell_type": "markdown",
   "id": "b1daee60-6eea-439e-b65c-7c1fd4f744d7",
   "metadata": {},
   "source": [
    "The expression for the second component is $\\beta(\\tau) = \\tau + \\sigma^5 \\tau^4$. Let's verify:"
   ]
  },
  {
   "cell_type": "code",
   "execution_count": 158,
   "id": "9649c701-f611-4a2e-92fa-133203b2ffd3",
   "metadata": {},
   "outputs": [],
   "source": [
    "for tau in F:\n",
    "    if gamma(tau, g)[1] != tau + x^5 * tau^4:\n",
    "        raise Exception(tau)"
   ]
  },
  {
   "cell_type": "markdown",
   "id": "af826d80-fdb8-4eec-a13c-916b80bded4b",
   "metadata": {},
   "source": [
    "So an actually valid parametrization is given by:\n",
    "$$\n",
    "\\alpha(\\tau) = \\sigma \\tau^2 + \\tau^4,\n",
    "\\quad\n",
    "\\beta(\\tau) = \\tau + \\sigma^5 \\tau^4.\n",
    "$$"
   ]
  },
  {
   "cell_type": "code",
   "execution_count": 159,
   "id": "5a2c69fb-4afa-4fef-ae88-01dc0ec72747",
   "metadata": {},
   "outputs": [],
   "source": [
    "ern_param = lambda t: (x * t^2 + t^4, t + x^5 * t^4)"
   ]
  },
  {
   "cell_type": "code",
   "execution_count": 161,
   "id": "e69d14af-1a26-4616-8ab4-805c317ba87b",
   "metadata": {},
   "outputs": [
    {
     "data": {
      "text/html": [
       "<html>\\(\\displaystyle \\mathrm{True}\\)</html>"
      ],
      "text/latex": [
       "$\\displaystyle \\mathrm{True}$"
      ],
      "text/plain": [
       "True"
      ]
     },
     "execution_count": 161,
     "metadata": {},
     "output_type": "execute_result"
    }
   ],
   "source": [
    "set([ern_param(tau) for tau in F]) == set(curve)"
   ]
  },
  {
   "cell_type": "code",
   "execution_count": 167,
   "id": "8a6079ed-e50b-489e-b189-dd6c2a6ecfbe",
   "metadata": {},
   "outputs": [],
   "source": [
    "# additivity of the curve\n",
    "for t1 in F:\n",
    "    for t2 in F:\n",
    "        if ern_param(t1)[0] + ern_param(t2)[0] != ern_param(t1+t2)[0]:\n",
    "            raise Exception\n",
    "        if ern_param(t1)[1] + ern_param(t2)[1] != ern_param(t1+t2)[1]:\n",
    "            raise Exception"
   ]
  },
  {
   "cell_type": "code",
   "execution_count": 169,
   "id": "8beadcd6-bcef-4644-8f3c-b4cdb82f31b2",
   "metadata": {},
   "outputs": [],
   "source": [
    "# commutativity condition\n",
    "for t1 in F:\n",
    "    p1 = ern_param(t1)\n",
    "    p2 = ern_param(t2)\n",
    "    for t2 in F:\n",
    "        if (p1[0] * p2[1]).trace() != (p1[1] * p2[0]).trace():\n",
    "            raise Exception"
   ]
  },
  {
   "cell_type": "markdown",
   "id": "9782e226-48ae-420d-aeef-0e662d8ee424",
   "metadata": {},
   "source": [
    "Now I am interested in the following property:\n",
    "$$\n",
    "\\chi(\\alpha(\\tau) \\kappa) = \\chi(\\alpha(\\kappa) \\tau),\n",
    "$$\n",
    "for all $\\tau \\in F$ and an *arbitrary* $\\kappa$, we ask the same for the second component."
   ]
  },
  {
   "cell_type": "code",
   "execution_count": 170,
   "id": "43c25631-9cf0-4c57-b79a-1b51fee3e9a1",
   "metadata": {},
   "outputs": [
    {
     "ename": "Exception",
     "evalue": "(x, x^2)",
     "output_type": "error",
     "traceback": [
      "\u001b[0;31m---------------------------------------------------------------------------\u001b[0m",
      "\u001b[0;31mException\u001b[0m                                 Traceback (most recent call last)",
      "Cell \u001b[0;32mIn[170], line 4\u001b[0m\n\u001b[1;32m      2\u001b[0m \u001b[38;5;28;01mfor\u001b[39;00m beta \u001b[38;5;129;01min\u001b[39;00m F:\n\u001b[1;32m      3\u001b[0m     \u001b[38;5;28;01mif\u001b[39;00m (gamma(tau, g)[Integer(\u001b[38;5;241m0\u001b[39m)] \u001b[38;5;241m*\u001b[39m beta)\u001b[38;5;241m.\u001b[39mtrace() \u001b[38;5;241m!=\u001b[39m (gamma(beta, g)[Integer(\u001b[38;5;241m0\u001b[39m)] \u001b[38;5;241m*\u001b[39m tau)\u001b[38;5;241m.\u001b[39mtrace():\n\u001b[0;32m----> 4\u001b[0m         \u001b[38;5;28;01mraise\u001b[39;00m \u001b[38;5;167;01mException\u001b[39;00m(tau, beta)\n",
      "\u001b[0;31mException\u001b[0m: (x, x^2)"
     ]
    }
   ],
   "source": [
    "for tau in F:\n",
    "    for beta in F:\n",
    "        if (gamma(tau, g)[0] * beta).trace() != (gamma(beta, g)[0] * tau).trace():\n",
    "            raise Exception(tau, beta)"
   ]
  },
  {
   "cell_type": "code",
   "execution_count": 173,
   "id": "ea18cdd0-e319-4676-91bd-d8c10b489787",
   "metadata": {},
   "outputs": [
    {
     "data": {
      "text/html": [
       "<html>\\(\\displaystyle x\\)</html>"
      ],
      "text/latex": [
       "$\\displaystyle x$"
      ],
      "text/plain": [
       "x"
      ]
     },
     "execution_count": 173,
     "metadata": {},
     "output_type": "execute_result"
    }
   ],
   "source": [
    "gamma(x, g)[0] * x^2"
   ]
  },
  {
   "cell_type": "code",
   "execution_count": 174,
   "id": "21d0557a-41ef-41f0-93a1-cac4b68e2fa7",
   "metadata": {},
   "outputs": [
    {
     "data": {
      "text/html": [
       "<html>\\(\\displaystyle 1\\)</html>"
      ],
      "text/latex": [
       "$\\displaystyle 1$"
      ],
      "text/plain": [
       "1"
      ]
     },
     "execution_count": 174,
     "metadata": {},
     "output_type": "execute_result"
    }
   ],
   "source": [
    "gamma(x^2, g)[0] * x"
   ]
  },
  {
   "cell_type": "markdown",
   "id": "a03d8306-9ab7-4c53-b095-0c1ff701eac2",
   "metadata": {},
   "source": [
    "So as Klimov states, the property does not hold for the *whole* field. "
   ]
  },
  {
   "cell_type": "markdown",
   "id": "b57c11cc-3898-4123-9dfe-b1c2d16982fe",
   "metadata": {},
   "source": [
    "Let's recap, we have a valid parametrization of our doubly degerenate curve:\n",
    "$$\n",
    "\\alpha(\\tau) = \\sigma \\tau^2 + \\tau^4,\n",
    "\\quad\n",
    "\\beta(\\tau) = \\tau + \\sigma^5 \\tau^4.\n",
    "$$\n",
    "\n",
    "This curve can be expressed analytically by the following equation:\n",
    "$$\n",
    "\\sigma^5 \\beta + \\beta^2 = \\sigma^6 \\alpha + \\sigma^2 \\alpha^2,\n",
    "$$\n",
    "for $\\alpha,\\beta$ that satisfy the structural equations:\n",
    "$$\n",
    "Tr(\\sigma^4\\beta) = 0,\n",
    "\\quad\n",
    "Tr(\\sigma^5 \\alpha) = 0.\n",
    "$$"
   ]
  },
  {
   "cell_type": "code",
   "execution_count": 183,
   "id": "938ee1af-4f1f-4261-aa0d-ceb25f7f00c4",
   "metadata": {},
   "outputs": [],
   "source": [
    "# verify that the parametrization satisfies\n",
    "# the equation:\n",
    "for tau in F:\n",
    "    p = gamma(tau, g)\n",
    "    alpha, beta = p\n",
    "    if x^5 * beta + beta^2 != x^6 * alpha + x^2 * alpha^2:\n",
    "        raise Exception"
   ]
  },
  {
   "cell_type": "code",
   "execution_count": 184,
   "id": "981177f5-c6f1-42f6-a50a-2600f42d0729",
   "metadata": {},
   "outputs": [],
   "source": [
    "# verify that the parametrization satisfies\n",
    "# the structural equations:\n",
    "for tau in F:\n",
    "    p = gamma(tau, g)\n",
    "    alpha, beta = p\n",
    "    if (x^4 * beta).trace() != 0:\n",
    "        raise Exception\n",
    "    if (x^5 * alpha).trace() != 0:\n",
    "        raise Exception"
   ]
  },
  {
   "cell_type": "markdown",
   "id": "7b62d655-ecaf-4d2d-b963-f69d44bb31c0",
   "metadata": {},
   "source": [
    "So the trace property does not hold for all values of the field. The parametrization obviosly satisfies the curve equation and the structural equations, the later give us an admisible set of points, so, what is the relation between the trace property and the admisible set?"
   ]
  },
  {
   "cell_type": "code",
   "execution_count": null,
   "id": "ae2df2b2-e1bd-4e47-9cae-33e46738330c",
   "metadata": {},
   "outputs": [],
   "source": []
  }
 ],
 "metadata": {
  "kernelspec": {
   "display_name": "SageMath 9.8",
   "language": "sage",
   "name": "sagemath"
  },
  "language_info": {
   "codemirror_mode": {
    "name": "ipython",
    "version": 3
   },
   "file_extension": ".py",
   "mimetype": "text/x-python",
   "name": "python",
   "nbconvert_exporter": "python",
   "pygments_lexer": "ipython3",
   "version": "3.9.16"
  }
 },
 "nbformat": 4,
 "nbformat_minor": 5
}
