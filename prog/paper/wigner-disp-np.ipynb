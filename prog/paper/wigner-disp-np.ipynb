{
 "cells": [
  {
   "cell_type": "code",
   "execution_count": 1,
   "id": "e5f9bc75-b1dd-4d1a-848f-79bdd6ec71a1",
   "metadata": {},
   "outputs": [],
   "source": [
    "%display latex"
   ]
  },
  {
   "cell_type": "code",
   "execution_count": 2,
   "id": "fd170f69-109b-4bd7-aaa9-9e2a832ebcca",
   "metadata": {},
   "outputs": [],
   "source": [
    "import numpy as np"
   ]
  },
  {
   "cell_type": "code",
   "execution_count": 3,
   "id": "d02b2b10-2a06-47ef-aefb-430d230989ef",
   "metadata": {},
   "outputs": [],
   "source": [
    "N = 3\n",
    "F = GF(2^3, 'x')\n",
    "x = F.gen()"
   ]
  },
  {
   "cell_type": "code",
   "execution_count": 25,
   "id": "23342dcb-f60f-4bbd-9120-d7be7a07ef23",
   "metadata": {},
   "outputs": [],
   "source": [
    "# additive group character\n",
    "chi = lambda k: np.exp(np.pi * 1j * int(k.trace()))\n",
    "\n",
    "def toInt(k):\n",
    "    return list(F).index(k)"
   ]
  },
  {
   "cell_type": "code",
   "execution_count": 26,
   "id": "f2daf40c-95e4-46b4-b650-53ea6e8ab1f3",
   "metadata": {},
   "outputs": [],
   "source": [
    "def Proj(u, v=None):\n",
    "    if not v:\n",
    "        v = u\n",
    "    return np.outer(u, v.conj().T)\n",
    "\n",
    "Id = np.eye(2^N)\n",
    "\n",
    "def Fourier():\n",
    "    s = np.zeros((2^N, 2^N), dtype='complex128')\n",
    "    for i, a in enumerate(F):\n",
    "        for j, b in enumerate(F):\n",
    "            s[i,j] = chi(a * b) / np.sqrt(2^N)\n",
    "    return s\n",
    "FF = Fourier()"
   ]
  },
  {
   "cell_type": "code",
   "execution_count": 27,
   "id": "b94efb03-1cad-4bb9-b029-b49faacb758a",
   "metadata": {},
   "outputs": [],
   "source": [
    "ps = np.load('phase_space.npy')"
   ]
  },
  {
   "cell_type": "code",
   "execution_count": 32,
   "id": "906d3a32-6491-4429-96b2-b38786100a9c",
   "metadata": {},
   "outputs": [],
   "source": [
    "def phi(a, b):\n",
    "    return ps[toInt(a), toInt(b)]\n",
    "\n",
    "def Z(a):\n",
    "    return np.diag([chi(a * k) for k in F])\n",
    "\n",
    "def X(b):\n",
    "    return FF.conj().T @ Z(b) @ FF\n",
    "\n",
    "def D(a, b):\n",
    "    return phi(a, b) * (Z(a) @ X(b))"
   ]
  },
  {
   "cell_type": "markdown",
   "id": "ec406aa0-ac0d-4a82-8f34-86732f737314",
   "metadata": {},
   "source": [
    "The displacement operators should be trace orthogonal, null trace, unitary and hermititan."
   ]
  },
  {
   "cell_type": "code",
   "execution_count": 49,
   "id": "61f7e784-47d6-470a-a40f-5543f1d29b07",
   "metadata": {},
   "outputs": [],
   "source": [
    "# trace orthogonal\n",
    "for a in F:\n",
    "    for b in F:\n",
    "        D1 = D(a, b)\n",
    "        for c in F:\n",
    "            for d in F:\n",
    "                D2 = D(c, d)\n",
    "                tr = (D1 @ D2.conj().T).trace()\n",
    "                dl = int(a == c) * int(b == d)\n",
    "                if not np.isclose(tr, (2^N) * dl):\n",
    "                    raise Exception(tr, dl, a, b, c, d)"
   ]
  },
  {
   "cell_type": "code",
   "execution_count": 50,
   "id": "1f99cafc-85a4-453d-9f75-17472adec7ba",
   "metadata": {},
   "outputs": [],
   "source": [
    "# null trace\n",
    "for a in F:\n",
    "    for b in F:\n",
    "        if a != 0 and b != 0:\n",
    "            d = D(a, b)\n",
    "            if not np.isclose(d.trace(), 0):\n",
    "                raise Exception(a, b)"
   ]
  },
  {
   "cell_type": "code",
   "execution_count": 53,
   "id": "c1eb390c-58c9-4e77-9655-18e04b1d3249",
   "metadata": {},
   "outputs": [],
   "source": [
    "# hermitian\n",
    "for a in F:\n",
    "    for b in F:\n",
    "        d = D(a, b)\n",
    "        if not np.allclose(d, d.conj().T):\n",
    "            raise Exception(a,b)"
   ]
  },
  {
   "cell_type": "code",
   "execution_count": 54,
   "id": "0d4c2331-7af7-4307-ac8d-5c28e2547b51",
   "metadata": {},
   "outputs": [],
   "source": [
    "# unitarity\n",
    "for a in F:\n",
    "    for b in F:\n",
    "        d = D(a,b)\n",
    "        if not np.allclose(d @ d.conj().T, Id):\n",
    "            raise Exception"
   ]
  },
  {
   "cell_type": "code",
   "execution_count": 58,
   "id": "416f77f4-243a-4771-8c4e-db72c950d6d7",
   "metadata": {},
   "outputs": [
    {
     "data": {
      "text/html": [
       "<html>\\(\\displaystyle \\left[\\left(0, 0\\right), \\left(x^{2} + x, 0\\right), \\left(x^{2} + x, x^{2} + x + 1\\right), \\left(x + 1, 1\\right), \\left(x + 1, x^{2} + x\\right), \\left(x^{2} + 1, x^{2} + x\\right), \\left(x^{2} + 1, 1\\right), \\left(0, x^{2} + x + 1\\right)\\right]\\)</html>"
      ],
      "text/latex": [
       "$\\displaystyle \\left[\\left(0, 0\\right), \\left(x^{2} + x, 0\\right), \\left(x^{2} + x, x^{2} + x + 1\\right), \\left(x + 1, 1\\right), \\left(x + 1, x^{2} + x\\right), \\left(x^{2} + 1, x^{2} + x\\right), \\left(x^{2} + 1, 1\\right), \\left(0, x^{2} + x + 1\\right)\\right]$"
      ],
      "text/plain": [
       "[(0, 0),\n",
       " (x^2 + x, 0),\n",
       " (x^2 + x, x^2 + x + 1),\n",
       " (x + 1, 1),\n",
       " (x + 1, x^2 + x),\n",
       " (x^2 + 1, x^2 + x),\n",
       " (x^2 + 1, 1),\n",
       " (0, x^2 + x + 1)]"
      ]
     },
     "execution_count": 58,
     "metadata": {},
     "output_type": "execute_result"
    }
   ],
   "source": [
    "points = [(F(0),F(0)), (x^4,F(0)), (x^4,x^5), (x^3,x^7), (x^3,x^4), (x^6,x^4), (x^6,x^7), (F(0),x^5)]\n",
    "points"
   ]
  },
  {
   "cell_type": "code",
   "execution_count": 61,
   "id": "ac1ddf9f-faf9-4c6b-8130-f569fac5de53",
   "metadata": {},
   "outputs": [],
   "source": [
    "op = np.zeros((2^N, 2^N), dtype='complex128')\n",
    "for j, tau in enumerate(F):\n",
    "    op += D(*points[j])\n",
    "eig_state = op / 2^N"
   ]
  },
  {
   "cell_type": "code",
   "execution_count": 62,
   "id": "9a2733ff-7230-4494-acd3-946eadc2ac95",
   "metadata": {},
   "outputs": [],
   "source": [
    "def Wigner(alpha, beta):\n",
    "    wigner_kernel = np.zeros((2^N, 2^N), dtype='complex128')\n",
    "    for j, ga in enumerate(F):\n",
    "        for k, de in enumerate(F):\n",
    "            char = chi(ga * beta + de * alpha)\n",
    "            wigner_kernel += char * D(ga, de) / 2^N\n",
    "    return wigner_kernel"
   ]
  },
  {
   "cell_type": "code",
   "execution_count": 96,
   "id": "64a096d0-cf90-43d2-90e6-73cc874304fd",
   "metadata": {},
   "outputs": [],
   "source": [
    "def WignerMatrix(state):\n",
    "    m = np.zeros((2^N, 2^N), dtype='float64')\n",
    "    for i, a in enumerate(F):\n",
    "        for j, b in enumerate(F):\n",
    "            m[i, j] = np.real((Wigner(a, b) @ state).trace())\n",
    "    return m / 2^N"
   ]
  },
  {
   "cell_type": "code",
   "execution_count": 97,
   "id": "93f53d3b-8e87-4a96-a66b-515d4ee61916",
   "metadata": {},
   "outputs": [],
   "source": [
    "w = WignerMatrix(eig_state)"
   ]
  },
  {
   "cell_type": "code",
   "execution_count": 98,
   "id": "5a3b1954-e9f0-47d7-a80d-93e493f7dd84",
   "metadata": {},
   "outputs": [
    {
     "data": {
      "text/html": [
       "<html>\\(\\displaystyle \\begin{array}{l}\n",
       "\\verb|[[|\\verb| |\\verb|0.125|\\verb| |\\verb|-0.|\\verb|    |\\verb|-0.|\\verb|    |\\verb|-0.|\\verb|    |\\verb|-0.|\\verb|     |\\verb|0.125|\\verb| |\\verb|-0.|\\verb|     |\\verb|0.|\\verb|   |\\verb|]|\\\\\n",
       "\\verb| |\\verb|[|\\verb| |\\verb|0.|\\verb|    |\\verb|-0.|\\verb|    |\\verb|-0.|\\verb|     |\\verb|0.|\\verb|     |\\verb|0.|\\verb|    |\\verb|-0.|\\verb|     |\\verb|0.|\\verb|     |\\verb|0.|\\verb|   |\\verb|]|\\\\\n",
       "\\verb| |\\verb|[|\\verb| |\\verb|0.|\\verb|    |\\verb|-0.|\\verb|    |\\verb|-0.|\\verb|     |\\verb|0.|\\verb|    |\\verb|-0.|\\verb|    |\\verb|-0.|\\verb|     |\\verb|0.|\\verb|     |\\verb|0.|\\verb|   |\\verb|]|\\\\\n",
       "\\verb| |\\verb|[|\\verb| |\\verb|0.|\\verb|     |\\verb|0.|\\verb|     |\\verb|0.|\\verb|     |\\verb|0.|\\verb|     |\\verb|0.125|\\verb|  |\\verb|0.|\\verb|     |\\verb|0.|\\verb|     |\\verb|0.125]|\\\\\n",
       "\\verb| |\\verb|[|\\verb| |\\verb|0.125|\\verb| |\\verb|-0.|\\verb|    |\\verb|-0.|\\verb|    |\\verb|-0.|\\verb|    |\\verb|-0.|\\verb|     |\\verb|0.125|\\verb| |\\verb|-0.|\\verb|     |\\verb|0.|\\verb|   |\\verb|]|\\\\\n",
       "\\verb| |\\verb|[|\\verb| |\\verb|0.|\\verb|     |\\verb|0.|\\verb|     |\\verb|0.|\\verb|    |\\verb|-0.|\\verb|    |\\verb|-0.|\\verb|     |\\verb|0.|\\verb|    |\\verb|-0.|\\verb|    |\\verb|-0.|\\verb|   |\\verb|]|\\\\\n",
       "\\verb| |\\verb|[|\\verb| |\\verb|0.|\\verb|     |\\verb|0.|\\verb|    |\\verb|-0.|\\verb|    |\\verb|-0.|\\verb|     |\\verb|0.125|\\verb|  |\\verb|0.|\\verb|     |\\verb|0.|\\verb|     |\\verb|0.125]|\\\\\n",
       "\\verb| |\\verb|[|\\verb| |\\verb|0.|\\verb|    |\\verb|-0.|\\verb|     |\\verb|0.|\\verb|    |\\verb|-0.|\\verb|     |\\verb|0.|\\verb|     |\\verb|0.|\\verb|    |\\verb|-0.|\\verb|    |\\verb|-0.|\\verb|   |\\verb|]]|\n",
       "\\end{array}\\)</html>"
      ],
      "text/latex": [
       "$\\displaystyle \\begin{array}{l}\n",
       "\\verb|[[|\\verb| |\\verb|0.125|\\verb| |\\verb|-0.|\\verb|    |\\verb|-0.|\\verb|    |\\verb|-0.|\\verb|    |\\verb|-0.|\\verb|     |\\verb|0.125|\\verb| |\\verb|-0.|\\verb|     |\\verb|0.|\\verb|   |\\verb|]|\\\\\n",
       "\\verb| |\\verb|[|\\verb| |\\verb|0.|\\verb|    |\\verb|-0.|\\verb|    |\\verb|-0.|\\verb|     |\\verb|0.|\\verb|     |\\verb|0.|\\verb|    |\\verb|-0.|\\verb|     |\\verb|0.|\\verb|     |\\verb|0.|\\verb|   |\\verb|]|\\\\\n",
       "\\verb| |\\verb|[|\\verb| |\\verb|0.|\\verb|    |\\verb|-0.|\\verb|    |\\verb|-0.|\\verb|     |\\verb|0.|\\verb|    |\\verb|-0.|\\verb|    |\\verb|-0.|\\verb|     |\\verb|0.|\\verb|     |\\verb|0.|\\verb|   |\\verb|]|\\\\\n",
       "\\verb| |\\verb|[|\\verb| |\\verb|0.|\\verb|     |\\verb|0.|\\verb|     |\\verb|0.|\\verb|     |\\verb|0.|\\verb|     |\\verb|0.125|\\verb|  |\\verb|0.|\\verb|     |\\verb|0.|\\verb|     |\\verb|0.125]|\\\\\n",
       "\\verb| |\\verb|[|\\verb| |\\verb|0.125|\\verb| |\\verb|-0.|\\verb|    |\\verb|-0.|\\verb|    |\\verb|-0.|\\verb|    |\\verb|-0.|\\verb|     |\\verb|0.125|\\verb| |\\verb|-0.|\\verb|     |\\verb|0.|\\verb|   |\\verb|]|\\\\\n",
       "\\verb| |\\verb|[|\\verb| |\\verb|0.|\\verb|     |\\verb|0.|\\verb|     |\\verb|0.|\\verb|    |\\verb|-0.|\\verb|    |\\verb|-0.|\\verb|     |\\verb|0.|\\verb|    |\\verb|-0.|\\verb|    |\\verb|-0.|\\verb|   |\\verb|]|\\\\\n",
       "\\verb| |\\verb|[|\\verb| |\\verb|0.|\\verb|     |\\verb|0.|\\verb|    |\\verb|-0.|\\verb|    |\\verb|-0.|\\verb|     |\\verb|0.125|\\verb|  |\\verb|0.|\\verb|     |\\verb|0.|\\verb|     |\\verb|0.125]|\\\\\n",
       "\\verb| |\\verb|[|\\verb| |\\verb|0.|\\verb|    |\\verb|-0.|\\verb|     |\\verb|0.|\\verb|    |\\verb|-0.|\\verb|     |\\verb|0.|\\verb|     |\\verb|0.|\\verb|    |\\verb|-0.|\\verb|    |\\verb|-0.|\\verb|   |\\verb|]]|\n",
       "\\end{array}$"
      ],
      "text/plain": [
       "array([[ 0.125, -0.   , -0.   , -0.   , -0.   ,  0.125, -0.   ,  0.   ],\n",
       "       [ 0.   , -0.   , -0.   ,  0.   ,  0.   , -0.   ,  0.   ,  0.   ],\n",
       "       [ 0.   , -0.   , -0.   ,  0.   , -0.   , -0.   ,  0.   ,  0.   ],\n",
       "       [ 0.   ,  0.   ,  0.   ,  0.   ,  0.125,  0.   ,  0.   ,  0.125],\n",
       "       [ 0.125, -0.   , -0.   , -0.   , -0.   ,  0.125, -0.   ,  0.   ],\n",
       "       [ 0.   ,  0.   ,  0.   , -0.   , -0.   ,  0.   , -0.   , -0.   ],\n",
       "       [ 0.   ,  0.   , -0.   , -0.   ,  0.125,  0.   ,  0.   ,  0.125],\n",
       "       [ 0.   , -0.   ,  0.   , -0.   ,  0.   ,  0.   , -0.   , -0.   ]])"
      ]
     },
     "execution_count": 98,
     "metadata": {},
     "output_type": "execute_result"
    }
   ],
   "source": [
    "np.round(w, 3)"
   ]
  },
  {
   "cell_type": "code",
   "execution_count": 99,
   "id": "0834576e-5d47-4747-afcb-2639f0ebdb92",
   "metadata": {},
   "outputs": [],
   "source": [
    "import scipy"
   ]
  },
  {
   "cell_type": "code",
   "execution_count": 100,
   "id": "4c1a35bb-5c21-4b0d-bd91-86cebee2735d",
   "metadata": {},
   "outputs": [],
   "source": [
    "mub090 = scipy.io.loadmat('andres/mub090.mat')"
   ]
  },
  {
   "cell_type": "code",
   "execution_count": 101,
   "id": "bd02deab-c298-45b2-af91-f24dddd4015b",
   "metadata": {},
   "outputs": [
    {
     "data": {
      "text/html": [
       "<html>\\(\\displaystyle \\verb|dict_keys(['__header__',|\\verb| |\\verb|'__version__',|\\verb| |\\verb|'__globals__',|\\verb| |\\verb|'MUB090'])|\\)</html>"
      ],
      "text/latex": [
       "$\\displaystyle \\verb|dict_keys(['__header__',|\\verb| |\\verb|'__version__',|\\verb| |\\verb|'__globals__',|\\verb| |\\verb|'MUB090'])|$"
      ],
      "text/plain": [
       "dict_keys(['__header__', '__version__', '__globals__', 'MUB090'])"
      ]
     },
     "execution_count": 101,
     "metadata": {},
     "output_type": "execute_result"
    }
   ],
   "source": [
    "mub090.keys()"
   ]
  },
  {
   "cell_type": "code",
   "execution_count": 102,
   "id": "373bd431-a408-43e2-9d11-bb53c395c134",
   "metadata": {},
   "outputs": [
    {
     "data": {
      "text/html": [
       "<html>\\(\\displaystyle \\left(72, 8\\right)\\)</html>"
      ],
      "text/latex": [
       "$\\displaystyle \\left(72, 8\\right)$"
      ],
      "text/plain": [
       "(72, 8)"
      ]
     },
     "execution_count": 102,
     "metadata": {},
     "output_type": "execute_result"
    }
   ],
   "source": [
    "mubs = mub090['MUB090']\n",
    "mubs.shape"
   ]
  },
  {
   "cell_type": "code",
   "execution_count": 134,
   "id": "17d3d543-1edf-4cd4-994a-771ce1a4b205",
   "metadata": {},
   "outputs": [],
   "source": [
    "k = 2\n",
    "s = Proj(mubs[8*k:8*(k+1),0])"
   ]
  },
  {
   "cell_type": "code",
   "execution_count": 135,
   "id": "3f7f0931-7317-4fd0-8a5f-cd8dc4f18c4d",
   "metadata": {},
   "outputs": [
    {
     "data": {
      "text/html": [
       "<html>\\(\\displaystyle \\begin{array}{l}\n",
       "\\verb|[[-0.|\\verb|     |\\verb|0.|\\verb|    |\\verb|-0.|\\verb|     |\\verb|0.125|\\verb| |\\verb|-0.|\\verb|    |\\verb|-0.|\\verb|    |\\verb|-0.|\\verb|     |\\verb|0.|\\verb|   |\\verb|]|\\\\\n",
       "\\verb| |\\verb|[-0.|\\verb|    |\\verb|-0.|\\verb|     |\\verb|0.|\\verb|     |\\verb|0.125|\\verb| |\\verb|-0.|\\verb|     |\\verb|0.|\\verb|     |\\verb|0.|\\verb|    |\\verb|-0.|\\verb|   |\\verb|]|\\\\\n",
       "\\verb| |\\verb|[|\\verb| |\\verb|0.125|\\verb|  |\\verb|0.|\\verb|    |\\verb|-0.|\\verb|    |\\verb|-0.|\\verb|     |\\verb|0.|\\verb|    |\\verb|-0.|\\verb|    |\\verb|-0.|\\verb|    |\\verb|-0.|\\verb|   |\\verb|]|\\\\\n",
       "\\verb| |\\verb|[|\\verb| |\\verb|0.125|\\verb|  |\\verb|0.|\\verb|     |\\verb|0.|\\verb|    |\\verb|-0.|\\verb|     |\\verb|0.|\\verb|     |\\verb|0.|\\verb|    |\\verb|-0.|\\verb|    |\\verb|-0.|\\verb|   |\\verb|]|\\\\\n",
       "\\verb| |\\verb|[|\\verb| |\\verb|0.125|\\verb| |\\verb|-0.|\\verb|    |\\verb|-0.|\\verb|    |\\verb|-0.|\\verb|    |\\verb|-0.|\\verb|    |\\verb|-0.|\\verb|    |\\verb|-0.|\\verb|    |\\verb|-0.|\\verb|   |\\verb|]|\\\\\n",
       "\\verb| |\\verb|[|\\verb| |\\verb|0.|\\verb|    |\\verb|-0.|\\verb|    |\\verb|-0.|\\verb|     |\\verb|0.125|\\verb| |\\verb|-0.|\\verb|    |\\verb|-0.|\\verb|     |\\verb|0.|\\verb|     |\\verb|0.|\\verb|   |\\verb|]|\\\\\n",
       "\\verb| |\\verb|[|\\verb| |\\verb|0.|\\verb|    |\\verb|-0.|\\verb|     |\\verb|0.|\\verb|     |\\verb|0.125|\\verb| |\\verb|-0.|\\verb|    |\\verb|-0.|\\verb|    |\\verb|-0.|\\verb|    |\\verb|-0.|\\verb|   |\\verb|]|\\\\\n",
       "\\verb| |\\verb|[|\\verb| |\\verb|0.125|\\verb| |\\verb|-0.|\\verb|     |\\verb|0.|\\verb|    |\\verb|-0.|\\verb|     |\\verb|0.|\\verb|     |\\verb|0.|\\verb|    |\\verb|-0.|\\verb|    |\\verb|-0.|\\verb|   |\\verb|]]|\n",
       "\\end{array}\\)</html>"
      ],
      "text/latex": [
       "$\\displaystyle \\begin{array}{l}\n",
       "\\verb|[[-0.|\\verb|     |\\verb|0.|\\verb|    |\\verb|-0.|\\verb|     |\\verb|0.125|\\verb| |\\verb|-0.|\\verb|    |\\verb|-0.|\\verb|    |\\verb|-0.|\\verb|     |\\verb|0.|\\verb|   |\\verb|]|\\\\\n",
       "\\verb| |\\verb|[-0.|\\verb|    |\\verb|-0.|\\verb|     |\\verb|0.|\\verb|     |\\verb|0.125|\\verb| |\\verb|-0.|\\verb|     |\\verb|0.|\\verb|     |\\verb|0.|\\verb|    |\\verb|-0.|\\verb|   |\\verb|]|\\\\\n",
       "\\verb| |\\verb|[|\\verb| |\\verb|0.125|\\verb|  |\\verb|0.|\\verb|    |\\verb|-0.|\\verb|    |\\verb|-0.|\\verb|     |\\verb|0.|\\verb|    |\\verb|-0.|\\verb|    |\\verb|-0.|\\verb|    |\\verb|-0.|\\verb|   |\\verb|]|\\\\\n",
       "\\verb| |\\verb|[|\\verb| |\\verb|0.125|\\verb|  |\\verb|0.|\\verb|     |\\verb|0.|\\verb|    |\\verb|-0.|\\verb|     |\\verb|0.|\\verb|     |\\verb|0.|\\verb|    |\\verb|-0.|\\verb|    |\\verb|-0.|\\verb|   |\\verb|]|\\\\\n",
       "\\verb| |\\verb|[|\\verb| |\\verb|0.125|\\verb| |\\verb|-0.|\\verb|    |\\verb|-0.|\\verb|    |\\verb|-0.|\\verb|    |\\verb|-0.|\\verb|    |\\verb|-0.|\\verb|    |\\verb|-0.|\\verb|    |\\verb|-0.|\\verb|   |\\verb|]|\\\\\n",
       "\\verb| |\\verb|[|\\verb| |\\verb|0.|\\verb|    |\\verb|-0.|\\verb|    |\\verb|-0.|\\verb|     |\\verb|0.125|\\verb| |\\verb|-0.|\\verb|    |\\verb|-0.|\\verb|     |\\verb|0.|\\verb|     |\\verb|0.|\\verb|   |\\verb|]|\\\\\n",
       "\\verb| |\\verb|[|\\verb| |\\verb|0.|\\verb|    |\\verb|-0.|\\verb|     |\\verb|0.|\\verb|     |\\verb|0.125|\\verb| |\\verb|-0.|\\verb|    |\\verb|-0.|\\verb|    |\\verb|-0.|\\verb|    |\\verb|-0.|\\verb|   |\\verb|]|\\\\\n",
       "\\verb| |\\verb|[|\\verb| |\\verb|0.125|\\verb| |\\verb|-0.|\\verb|     |\\verb|0.|\\verb|    |\\verb|-0.|\\verb|     |\\verb|0.|\\verb|     |\\verb|0.|\\verb|    |\\verb|-0.|\\verb|    |\\verb|-0.|\\verb|   |\\verb|]]|\n",
       "\\end{array}$"
      ],
      "text/plain": [
       "array([[-0.   ,  0.   , -0.   ,  0.125, -0.   , -0.   , -0.   ,  0.   ],\n",
       "       [-0.   , -0.   ,  0.   ,  0.125, -0.   ,  0.   ,  0.   , -0.   ],\n",
       "       [ 0.125,  0.   , -0.   , -0.   ,  0.   , -0.   , -0.   , -0.   ],\n",
       "       [ 0.125,  0.   ,  0.   , -0.   ,  0.   ,  0.   , -0.   , -0.   ],\n",
       "       [ 0.125, -0.   , -0.   , -0.   , -0.   , -0.   , -0.   , -0.   ],\n",
       "       [ 0.   , -0.   , -0.   ,  0.125, -0.   , -0.   ,  0.   ,  0.   ],\n",
       "       [ 0.   , -0.   ,  0.   ,  0.125, -0.   , -0.   , -0.   , -0.   ],\n",
       "       [ 0.125, -0.   ,  0.   , -0.   ,  0.   ,  0.   , -0.   , -0.   ]])"
      ]
     },
     "execution_count": 135,
     "metadata": {},
     "output_type": "execute_result"
    }
   ],
   "source": [
    "np.round(WignerMatrix(s), 3)"
   ]
  },
  {
   "cell_type": "markdown",
   "id": "9e1c9a36-c75c-4315-b591-852a9c3d870c",
   "metadata": {},
   "source": [
    "For $k = 2$ (third MUB indexing from 0) we obtain delta functions."
   ]
  },
  {
   "cell_type": "code",
   "execution_count": null,
   "id": "361a6abb-fd79-4fb1-b169-e1f8324f9bb3",
   "metadata": {},
   "outputs": [],
   "source": []
  }
 ],
 "metadata": {
  "kernelspec": {
   "display_name": "SageMath 9.8",
   "language": "sage",
   "name": "sagemath"
  },
  "language_info": {
   "codemirror_mode": {
    "name": "ipython",
    "version": 3
   },
   "file_extension": ".py",
   "mimetype": "text/x-python",
   "name": "python",
   "nbconvert_exporter": "python",
   "pygments_lexer": "ipython3",
   "version": "3.9.16"
  }
 },
 "nbformat": 4,
 "nbformat_minor": 5
}
