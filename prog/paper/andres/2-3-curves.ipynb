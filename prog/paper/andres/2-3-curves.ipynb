{
 "cells": [
  {
   "cell_type": "code",
   "execution_count": 1,
   "id": "9aaa8621-0e4c-4e65-b4db-1ed7a11fd45a",
   "metadata": {},
   "outputs": [],
   "source": [
    "%display latex"
   ]
  },
  {
   "cell_type": "code",
   "execution_count": 2,
   "id": "669e4fef-7581-4a58-9833-80d15c8f1606",
   "metadata": {},
   "outputs": [],
   "source": [
    "N = 3\n",
    "F = GF(2^3, 'x')\n",
    "x = F.gen()"
   ]
  },
  {
   "cell_type": "code",
   "execution_count": 3,
   "id": "c20f54af-753a-4c73-9d8f-4d3182edf3de",
   "metadata": {},
   "outputs": [],
   "source": [
    "basis = [x^3, x^5, x^6]"
   ]
  },
  {
   "cell_type": "code",
   "execution_count": 82,
   "id": "588b76d6-5764-4b6e-88cb-6b0827382f80",
   "metadata": {},
   "outputs": [],
   "source": [
    "toInt = lambda k: list(F).index(k)"
   ]
  },
  {
   "cell_type": "code",
   "execution_count": 83,
   "id": "0e19d7df-6e01-4259-be1f-1a46cb56accd",
   "metadata": {},
   "outputs": [],
   "source": [
    "def graph(points):\n",
    "    m = zero_matrix(SR, 2^N)\n",
    "    for p in points:\n",
    "        m[toInt(p[0]), toInt(p[1])] = 1\n",
    "    return m"
   ]
  },
  {
   "cell_type": "markdown",
   "id": "32e36c35-355e-44b0-b36b-a6b75604d0d4",
   "metadata": {},
   "source": [
    "We will use this notebook to study the classification of curves in phase space given by $\\Gamma = F \\oplus F$ where $F = GF(2^3)$."
   ]
  },
  {
   "cell_type": "markdown",
   "id": "67f113a8-deb7-446b-8669-bf72cb4c3271",
   "metadata": {},
   "source": [
    "A generic additive commutative curve over $F$ is given by:\n",
    "$$\n",
    "\\alpha = \\alpha_0 \\kappa + \\alpha_1 \\kappa^2 + \\alpha_2 \\kappa^4,\n",
    "\\quad\n",
    "\\beta = \\beta_0 \\kappa + \\beta_1 \\kappa^2 + \\beta_2 \\kappa^4.\n",
    "$$\n",
    "The authors state that a classification stemming from the parametric definition is cumbersome since they must determine the rank of their $W_{\\vec\\alpha}$ and $W_{\\vec\\beta}$ matrices, find the structural equations and check the nonsingularity condition. The difficulty likes in the fact that there is no one-to-one correspondence between the parametric form of a curve and points in the discrete phase space, i.e., the same curve can be defined by different parametric equations.\n",
    "\n",
    "And so they take another route, by constructing all the possible exceptional curves by imposing \\textit{ab initio} the nonsingularity and comutativity conditions."
   ]
  },
  {
   "cell_type": "markdown",
   "id": "183bbe00-d9c1-4020-b1ba-155da9e54d82",
   "metadata": {},
   "source": [
    "Recall that $\\alpha$ or $\\beta$ are degenerate if their values don't run throught the whole field. In $F$ there exist two types of exceptional curves: (i) doubly degenerate in both directions, (ii) doubly degenrate in one direction and quadruply degenerate in the other."
   ]
  },
  {
   "cell_type": "markdown",
   "id": "810d202b-9f2d-4457-84b2-ff0dc70e8150",
   "metadata": {},
   "source": [
    "For case (i), any exceptional curve can be represented as a union of two lines:\n",
    "$$\n",
    "\\beta^{(1)} = \\beta_1 \\alpha_1^{-1}\\alpha,\n",
    "\\quad\n",
    "\\beta^{(2)} = \\beta_1 (\\alpha_1^{-1}\\alpha + 1),\n",
    "$$\n",
    "where\n",
    "$$\n",
    "\\beta_1 = \\frac{1}{\\alpha_1+\\alpha_2} + \\frac{1}{\\alpha_1} + \\frac{1}{\\alpha_2},\n",
    "$$\n",
    "and the admissible values of $\\alpha$ are $0,\\alpha_1,\\alpha_2$ and $\\alpha_1+\\alpha_2$."
   ]
  },
  {
   "cell_type": "markdown",
   "id": "5e99efb5-80fd-4ec2-8c87-0f8d61dde7eb",
   "metadata": {},
   "source": [
    "For a fixed set $\\{\\alpha_1,\\alpha_2\\}$ the following exceptional curve is defined:\n",
    "$$\n",
    "(0,0), (\\alpha_1,0), (\\alpha_1,\\beta_2), (\\alpha_2,\\beta_1(\\alpha_1^{-1}\\alpha_2 +1)), (\\alpha_2,\\beta_1\\alpha_1^{-1}\\alpha_2),(\\alpha_1+\\alpha_2,\\beta_1\\alpha_1^{-1}\\alpha_2),(\\alpha_1+\\alpha_2,\\beta_1(\\alpha_1^{-1}\\alpha_2+1)),(0,\\beta_1).\n",
    "$$"
   ]
  },
  {
   "cell_type": "code",
   "execution_count": 4,
   "id": "a91596c7-bbbb-4a77-a60e-f19ccbad4eed",
   "metadata": {},
   "outputs": [],
   "source": [
    "def ExceptionalCurve(a1, a2):\n",
    "    b1 = 1/(a1+a2) + 1/a1 + 1/a2\n",
    "    return [\n",
    "        (F(0), F(0)),\n",
    "        (a1, F(0)),\n",
    "        (a1, b1),\n",
    "        (a2, b1 * (a1^-1 * a2 + F(1))),\n",
    "        (a2, b1 * a1^-1 * a2),\n",
    "        (a1 + a2, b1 * a1^-1 * a2),\n",
    "        (a1 + a2, b1 * (a1^-1 * a2 + 1)),\n",
    "        (F(0), b1)\n",
    "    ]"
   ]
  },
  {
   "cell_type": "markdown",
   "id": "63ddc48f-780f-46cf-ae6b-5487f1afeec1",
   "metadata": {},
   "source": [
    "Example for $\\alpha_1 = \\sigma^4$ and $\\alpha_2 = \\sigma^3$ which produces the set of points in equation 5.19 of the Annals paper."
   ]
  },
  {
   "cell_type": "code",
   "execution_count": 6,
   "id": "6fd7eb43-f41c-4e6d-8832-42e9fe91d55c",
   "metadata": {},
   "outputs": [
    {
     "data": {
      "text/html": [
       "<html>\\(\\displaystyle \\left[\\left(0, 0\\right), \\left(x^{2} + x, 0\\right), \\left(x^{2} + x, x^{2} + x + 1\\right), \\left(x + 1, 1\\right), \\left(x + 1, x^{2} + x\\right), \\left(x^{2} + 1, x^{2} + x\\right), \\left(x^{2} + 1, 1\\right), \\left(0, x^{2} + x + 1\\right)\\right]\\)</html>"
      ],
      "text/latex": [
       "$\\displaystyle \\left[\\left(0, 0\\right), \\left(x^{2} + x, 0\\right), \\left(x^{2} + x, x^{2} + x + 1\\right), \\left(x + 1, 1\\right), \\left(x + 1, x^{2} + x\\right), \\left(x^{2} + 1, x^{2} + x\\right), \\left(x^{2} + 1, 1\\right), \\left(0, x^{2} + x + 1\\right)\\right]$"
      ],
      "text/plain": [
       "[(0, 0),\n",
       " (x^2 + x, 0),\n",
       " (x^2 + x, x^2 + x + 1),\n",
       " (x + 1, 1),\n",
       " (x + 1, x^2 + x),\n",
       " (x^2 + 1, x^2 + x),\n",
       " (x^2 + 1, 1),\n",
       " (0, x^2 + x + 1)]"
      ]
     },
     "execution_count": 6,
     "metadata": {},
     "output_type": "execute_result"
    }
   ],
   "source": [
    "ExceptionalCurve(x^4, x^3)"
   ]
  },
  {
   "cell_type": "code",
   "execution_count": 7,
   "id": "53ec0131-ed15-4272-afa3-c46a59fbe20e",
   "metadata": {},
   "outputs": [
    {
     "data": {
      "text/html": [
       "<html>\\(\\displaystyle \\left[\\left(0, 0\\right), \\left(x^{2} + x, 0\\right), \\left(x^{2} + x, x^{2} + x + 1\\right), \\left(x + 1, 1\\right), \\left(x + 1, x^{2} + x\\right), \\left(x^{2} + 1, x^{2} + x\\right), \\left(x^{2} + 1, 1\\right), \\left(0, x^{2} + x + 1\\right)\\right]\\)</html>"
      ],
      "text/latex": [
       "$\\displaystyle \\left[\\left(0, 0\\right), \\left(x^{2} + x, 0\\right), \\left(x^{2} + x, x^{2} + x + 1\\right), \\left(x + 1, 1\\right), \\left(x + 1, x^{2} + x\\right), \\left(x^{2} + 1, x^{2} + x\\right), \\left(x^{2} + 1, 1\\right), \\left(0, x^{2} + x + 1\\right)\\right]$"
      ],
      "text/plain": [
       "[(0, 0),\n",
       " (x^2 + x, 0),\n",
       " (x^2 + x, x^2 + x + 1),\n",
       " (x + 1, 1),\n",
       " (x + 1, x^2 + x),\n",
       " (x^2 + 1, x^2 + x),\n",
       " (x^2 + 1, 1),\n",
       " (0, x^2 + x + 1)]"
      ]
     },
     "execution_count": 7,
     "metadata": {},
     "output_type": "execute_result"
    }
   ],
   "source": [
    "points = [(F(0),F(0)), (x^4,F(0)), (x^4,x^5), (x^3,x^7), (x^3,x^4), (x^6,x^4), (x^6,x^7), (F(0),x^5)]\n",
    "points # 5.19"
   ]
  },
  {
   "cell_type": "markdown",
   "id": "9c944702-6506-4995-8355-4cfc84608d7e",
   "metadata": {},
   "source": [
    "Ok so now we have a way to produce the exceptional curves for the case (i). There are supposedly 21 of these due to the permutational symmetry between $\\alpha_2$ and $\\alpha_1 + \\alpha_2$. We construct the curves given a fixed set $\\{\\alpha_1,\\alpha_2\\}$, there are $8^2 = 64$ of these sets, but we cannot use $\\alpha_1 = 0, \\alpha_2 = 0$ or any combination such that $\\alpha_1 + \\alpha_2$. So in reality we have $7 \\cdot 6 = 42$ possible curves. The mentioned symmetry must reduce this amount to 21."
   ]
  },
  {
   "cell_type": "code",
   "execution_count": 43,
   "id": "db993bd7-6c0f-47a5-bfe2-9f64cb54c9b8",
   "metadata": {},
   "outputs": [],
   "source": [
    "curves = []\n",
    "for a1 in list(F)[1:]:\n",
    "    for a2 in list(F)[1:]:\n",
    "        if a1 != a2:\n",
    "            curves.append(ExceptionalCurve(a1, a2))"
   ]
  },
  {
   "cell_type": "code",
   "execution_count": 44,
   "id": "a27b9f83-ebd1-4239-ad6a-55f9b2aecc48",
   "metadata": {},
   "outputs": [
    {
     "data": {
      "text/html": [
       "<html>\\(\\displaystyle 42\\)</html>"
      ],
      "text/latex": [
       "$\\displaystyle 42$"
      ],
      "text/plain": [
       "42"
      ]
     },
     "execution_count": 44,
     "metadata": {},
     "output_type": "execute_result"
    }
   ],
   "source": [
    "len(curves)"
   ]
  },
  {
   "cell_type": "code",
   "execution_count": 45,
   "id": "fa6a8c44-a9cb-4d05-9bef-8e5dfe755860",
   "metadata": {},
   "outputs": [],
   "source": [
    "new_curves = []\n",
    "for curve in curves:\n",
    "    curve.sort()\n",
    "    if curve not in new_curves:\n",
    "        new_curves.append(curve)"
   ]
  },
  {
   "cell_type": "code",
   "execution_count": 52,
   "id": "8172b006-8eae-418e-9e50-a7ad58599207",
   "metadata": {},
   "outputs": [
    {
     "data": {
      "text/html": [
       "<html>\\(\\displaystyle \\mathrm{True}\\)</html>"
      ],
      "text/latex": [
       "$\\displaystyle \\mathrm{True}$"
      ],
      "text/plain": [
       "True"
      ]
     },
     "execution_count": 52,
     "metadata": {},
     "output_type": "execute_result"
    }
   ],
   "source": [
    "points in new_curves"
   ]
  },
  {
   "cell_type": "code",
   "execution_count": 54,
   "id": "0f9d8b7c-b437-4e83-ac03-d5fa76bff95b",
   "metadata": {},
   "outputs": [
    {
     "data": {
      "text/html": [
       "<html>\\(\\displaystyle 10\\)</html>"
      ],
      "text/latex": [
       "$\\displaystyle 10$"
      ],
      "text/plain": [
       "10"
      ]
     },
     "execution_count": 54,
     "metadata": {},
     "output_type": "execute_result"
    }
   ],
   "source": [
    "new_curves.index(points)"
   ]
  },
  {
   "cell_type": "code",
   "execution_count": 57,
   "id": "ccfc3da5-5f20-4fe3-bf0a-05190769546a",
   "metadata": {},
   "outputs": [],
   "source": [
    "def checkAdditivity(points):\n",
    "    for p1 in points:\n",
    "        for p2 in points:\n",
    "            p3 = (p1[0] + p2[0], p1[1] + p2[1])\n",
    "            if p3 not in points:\n",
    "                raise Exception\n",
    "    return True"
   ]
  },
  {
   "cell_type": "code",
   "execution_count": 60,
   "id": "89b2cc52-bea6-4434-8803-395fb3c60a89",
   "metadata": {},
   "outputs": [],
   "source": [
    "for curve in new_curves:\n",
    "    if not checkAdditivity(curve):\n",
    "        raise Exception"
   ]
  },
  {
   "cell_type": "code",
   "execution_count": 61,
   "id": "72daf148-5bed-4e9f-b67a-b05ba761b8b1",
   "metadata": {},
   "outputs": [],
   "source": [
    "def ExcCurvesCaseI():\n",
    "    def ExceptionalCurve(a1, a2):\n",
    "        b1 = 1/(a1+a2) + 1/a1 + 1/a2\n",
    "        return [\n",
    "            (F(0), F(0)),\n",
    "            (a1, F(0)),\n",
    "            (a1, b1),\n",
    "            (a2, b1 * (a1^-1 * a2 + F(1))),\n",
    "            (a2, b1 * a1^-1 * a2),\n",
    "            (a1 + a2, b1 * a1^-1 * a2),\n",
    "            (a1 + a2, b1 * (a1^-1 * a2 + 1)),\n",
    "            (F(0), b1)\n",
    "        ]\n",
    "        \n",
    "    curves = []\n",
    "    for a1 in list(F)[1:]:\n",
    "        for a2 in list(F)[1:]:\n",
    "            if a1 != a2:\n",
    "                curves.append(ExceptionalCurve(a1, a2))\n",
    "    \n",
    "    curves_uniq = []\n",
    "    for curve in curves:\n",
    "        curve.sort()\n",
    "        if curve not in curves_uniq:\n",
    "            curves_uniq.append(curve)\n",
    "\n",
    "    return curves_uniq"
   ]
  },
  {
   "cell_type": "markdown",
   "id": "619d0a82-d6dc-4c75-8fd7-4e50fff7e35e",
   "metadata": {},
   "source": [
    "Now we compute the exceptional curves of case (ii), where the $\\alpha$ coordinate is doubly degenerate but $\\beta$ is quadrupaly degenerate. Then the coordinate $\\beta$ takes only two values: $0$ and $\\delta$, while the admissible values of $\\alpha$ are $0,\\alpha_1,\\alpha_2$ and $\\alpha_1+\\alpha_2$, so such a curve has the form\n",
    "$$\n",
    "\\beta^{(1)} = f(\\alpha),\n",
    "\\quad\n",
    "\\beta^{(2)} = f(\\alpha) + \\delta,\n",
    "$$\n",
    "where\n",
    "$$\n",
    "f(\\alpha)\n",
    "= \\frac{\\delta}{\\alpha_2(\\alpha_1+\\alpha_2)} (\\alpha_1 \\alpha + \\alpha^2),\n",
    "$$\n",
    "and $\\delta$ satisfies $tr(\\delta \\alpha_{1,2}) = 0$, which leads to $\\delta = \\beta_1$."
   ]
  },
  {
   "cell_type": "markdown",
   "id": "8e44cd0b-d89b-41f3-86a2-42ce1cbc3ee5",
   "metadata": {},
   "source": [
    "Explicitly, the points of such a curve are:\n",
    "$$\n",
    "(0,0),(\\alpha_1,0),(\\alpha_2,0),(\\alpha_1+\\alpha_2,0),(\\alpha_1,\\delta),(\\alpha_2,\\delta),(\\alpha_1+\\alpha_2,\\delta),(0,\\delta),\n",
    "$$\n",
    "so there are seven different curves of this type due to permutational symmetry between $\\alpha_1,\\alpha_2$ and $\\alpha_1+\\alpha_2$."
   ]
  },
  {
   "cell_type": "code",
   "execution_count": 63,
   "id": "48e9b054-43e5-46d1-a713-01b87b9d28fa",
   "metadata": {},
   "outputs": [
    {
     "name": "stdout",
     "output_type": "stream",
     "text": [
      "0\n",
      "x^2 + 1\n"
     ]
    }
   ],
   "source": [
    "a1 = x^3\n",
    "a2 = x^5\n",
    "for k in F:\n",
    "    if (k * a1).trace() == 0 and (k * a2).trace() == 0:\n",
    "        print(k)"
   ]
  },
  {
   "cell_type": "code",
   "execution_count": 64,
   "id": "932507bf-1bff-4904-a383-3eada7b2f0d5",
   "metadata": {},
   "outputs": [
    {
     "data": {
      "text/html": [
       "<html>\\(\\displaystyle x^{2} + 1\\)</html>"
      ],
      "text/latex": [
       "$\\displaystyle x^{2} + 1$"
      ],
      "text/plain": [
       "x^2 + 1"
      ]
     },
     "execution_count": 64,
     "metadata": {},
     "output_type": "execute_result"
    }
   ],
   "source": [
    "x^6"
   ]
  },
  {
   "cell_type": "code",
   "execution_count": 70,
   "id": "b9f289b1-df9e-42d3-94ea-07c54ec6f600",
   "metadata": {},
   "outputs": [],
   "source": [
    "def ExceptionalCurveII(a1, a2):\n",
    "    delta = None\n",
    "    for k in F:\n",
    "        if (k * a1).trace() == 0 and (k * a2).trace() == 0 and k != F(0):\n",
    "            delta = k\n",
    "            break\n",
    "    return [\n",
    "        (F(0), F(0)),\n",
    "        (a1, F(0)),\n",
    "        (a2, F(0)),\n",
    "        (a1 + a2, F(0)),\n",
    "        (a1, delta),\n",
    "        (a2, delta),\n",
    "        (a1 + a2, delta),\n",
    "        (F(0), delta)\n",
    "    ]"
   ]
  },
  {
   "cell_type": "code",
   "execution_count": 71,
   "id": "713a9e49-c8ab-49ad-8f85-87ae70b2135b",
   "metadata": {},
   "outputs": [
    {
     "data": {
      "text/html": [
       "<html>\\(\\displaystyle \\left[\\left(0, 0\\right), \\left(x + 1, 0\\right), \\left(x^{2} + x + 1, 0\\right), \\left(x^{2}, 0\\right), \\left(x + 1, x^{2} + 1\\right), \\left(x^{2} + x + 1, x^{2} + 1\\right), \\left(x^{2}, x^{2} + 1\\right), \\left(0, x^{2} + 1\\right)\\right]\\)</html>"
      ],
      "text/latex": [
       "$\\displaystyle \\left[\\left(0, 0\\right), \\left(x + 1, 0\\right), \\left(x^{2} + x + 1, 0\\right), \\left(x^{2}, 0\\right), \\left(x + 1, x^{2} + 1\\right), \\left(x^{2} + x + 1, x^{2} + 1\\right), \\left(x^{2}, x^{2} + 1\\right), \\left(0, x^{2} + 1\\right)\\right]$"
      ],
      "text/plain": [
       "[(0, 0),\n",
       " (x + 1, 0),\n",
       " (x^2 + x + 1, 0),\n",
       " (x^2, 0),\n",
       " (x + 1, x^2 + 1),\n",
       " (x^2 + x + 1, x^2 + 1),\n",
       " (x^2, x^2 + 1),\n",
       " (0, x^2 + 1)]"
      ]
     },
     "execution_count": 71,
     "metadata": {},
     "output_type": "execute_result"
    }
   ],
   "source": [
    "ExceptionalCurveII(x^3, x^5)"
   ]
  },
  {
   "cell_type": "code",
   "execution_count": 72,
   "id": "f6d8ed8a-715d-4b23-8ed1-63714922d33e",
   "metadata": {},
   "outputs": [
    {
     "data": {
      "text/html": [
       "<html>\\(\\displaystyle \\left[\\left(0, 0\\right), \\left(x + 1, 0\\right), \\left(x^{2} + x + 1, 0\\right), \\left(x^{2}, 0\\right), \\left(x + 1, x^{2} + 1\\right), \\left(x^{2} + x + 1, x^{2} + 1\\right), \\left(x^{2}, x^{2} + 1\\right), \\left(0, x^{2} + 1\\right)\\right]\\)</html>"
      ],
      "text/latex": [
       "$\\displaystyle \\left[\\left(0, 0\\right), \\left(x + 1, 0\\right), \\left(x^{2} + x + 1, 0\\right), \\left(x^{2}, 0\\right), \\left(x + 1, x^{2} + 1\\right), \\left(x^{2} + x + 1, x^{2} + 1\\right), \\left(x^{2}, x^{2} + 1\\right), \\left(0, x^{2} + 1\\right)\\right]$"
      ],
      "text/plain": [
       "[(0, 0),\n",
       " (x + 1, 0),\n",
       " (x^2 + x + 1, 0),\n",
       " (x^2, 0),\n",
       " (x + 1, x^2 + 1),\n",
       " (x^2 + x + 1, x^2 + 1),\n",
       " (x^2, x^2 + 1),\n",
       " (0, x^2 + 1)]"
      ]
     },
     "execution_count": 72,
     "metadata": {},
     "output_type": "execute_result"
    }
   ],
   "source": [
    "points2 = [(F(0),F(0)), (x^3,F(0)), (x^5,F(0)), (x^2,F(0)), (x^3,x^6), (x^5,x^6), (x^2,x^6), (F(0),x^6)]\n",
    "points2"
   ]
  },
  {
   "cell_type": "code",
   "execution_count": 73,
   "id": "61b99df3-061b-449b-a60c-acf6a07c3f64",
   "metadata": {},
   "outputs": [
    {
     "data": {
      "text/html": [
       "<html>\\(\\displaystyle \\mathrm{True}\\)</html>"
      ],
      "text/latex": [
       "$\\displaystyle \\mathrm{True}$"
      ],
      "text/plain": [
       "True"
      ]
     },
     "execution_count": 73,
     "metadata": {},
     "output_type": "execute_result"
    }
   ],
   "source": [
    "ExceptionalCurveII(x^3, x^5) == points2"
   ]
  },
  {
   "cell_type": "markdown",
   "id": "fc9aa14e-5e28-4008-babd-238e46f72f73",
   "metadata": {},
   "source": [
    "We can now form all of the exceptional curves from case (II). Given that $\\delta$ is fixed for a given $\\alpha_1$ and $\\alpha_2$, we have a maximum of $7 \\cdot 6 = 42$ curves again but this time it should reduce to only seven curves given the permutational symmetry."
   ]
  },
  {
   "cell_type": "code",
   "execution_count": 75,
   "id": "3ed2615f-d6c3-41a9-951a-b87d807d6da0",
   "metadata": {},
   "outputs": [],
   "source": [
    "def ExcCurvesCaseII():\n",
    "    def ExceptionalCurveII(a1, a2):\n",
    "        delta = None\n",
    "        for k in F:\n",
    "            if (k * a1).trace() == 0 and (k * a2).trace() == 0 and k != F(0):\n",
    "                delta = k\n",
    "                break\n",
    "        return [\n",
    "            (F(0), F(0)),\n",
    "            (a1, F(0)),\n",
    "            (a2, F(0)),\n",
    "            (a1 + a2, F(0)),\n",
    "            (a1, delta),\n",
    "            (a2, delta),\n",
    "            (a1 + a2, delta),\n",
    "            (F(0), delta)\n",
    "        ]\n",
    "\n",
    "    curves = []\n",
    "    for a1 in list(F)[1:]:\n",
    "        for a2 in list(F)[1:]:\n",
    "            if a1 != a2:\n",
    "                curves.append(ExceptionalCurveII(a1, a2))\n",
    "    \n",
    "    curves_uniq = []\n",
    "    for curve in curves:\n",
    "        curve.sort()\n",
    "        if curve not in curves_uniq:\n",
    "            curves_uniq.append(curve)\n",
    "\n",
    "    return curves_uniq"
   ]
  },
  {
   "cell_type": "code",
   "execution_count": 76,
   "id": "f60948bb-cce4-4f7d-ab00-294d0c6d3e74",
   "metadata": {},
   "outputs": [
    {
     "data": {
      "text/html": [
       "<html>\\(\\displaystyle 7\\)</html>"
      ],
      "text/latex": [
       "$\\displaystyle 7$"
      ],
      "text/plain": [
       "7"
      ]
     },
     "execution_count": 76,
     "metadata": {},
     "output_type": "execute_result"
    }
   ],
   "source": [
    "len(ExcCurvesCaseII())"
   ]
  },
  {
   "cell_type": "markdown",
   "id": "58fb052d-3c3a-40be-b0d4-a9d6ea481d34",
   "metadata": {},
   "source": [
    "---\n",
    "Now we move all the way down to the factorization schemes for bundles of curves in phase space. A generic regular curve always has one of the following forms:\n",
    "$$\n",
    "\\beta = \\phi_0 \\alpha + \\phi^2 \\alpha^2 + \\phi \\alpha^4,\n",
    "\\quad\n",
    "\\alpha = \\psi_0 \\beta + \\psi^2 \\beta^2 + \\psi \\beta^4,\n",
    "$$\n",
    "for $\\alpha$ and $\\beta$ curves respectively. We get 100 different regular curves. There are 21 doubly degenerated curves of the form (5.18) and 7 exceptional curves of the form (5.24), which are quadruply degenerate in one direction and doubly in the other. We have already seen which curves are abelian in the exceptional case."
   ]
  },
  {
   "cell_type": "markdown",
   "id": "56ddcfdd-5a28-41b2-8fa6-b5e1a579cf51",
   "metadata": {},
   "source": [
    "Four bundles of nine curves each\n",
    "$$\n",
    "\\beta = \\phi_0 \\alpha + \\phi^2 \\alpha^2 + \\phi \\alpha^4,\n",
    "\\quad \n",
    "\\alpha = 0,\n",
    "$$\n",
    "where $\\phi_0 \\in GF(2^3)$ and $tr(\\phi) = 0$, have the factorization structure $(3,0,6)$. The choice $\\phi = 0$ leads to the ray structure. \n",
    "\n",
    "All other bundles with $tr(\\phi) = 0$ can be generated from the bundle with $\\phi = 0$ by applying local transformations."
   ]
  },
  {
   "cell_type": "code",
   "execution_count": 95,
   "id": "10c80547-b66f-480a-9943-ac1f79cc67fe",
   "metadata": {},
   "outputs": [],
   "source": [
    "# other 306 bundles that can be obtained from the rays\n",
    "# by location transformations\n",
    "curves306 = [[(F(0),k) for k in F]]\n",
    "phi = x # 0, x, x^2 and x^4\n",
    "for phi0 in F:\n",
    "    curves306.append([\n",
    "        (k, phi0 * k + phi^2 * k^2 + phi * k^4) for k in F\n",
    "    ])"
   ]
  },
  {
   "cell_type": "markdown",
   "id": "17405945-a75b-4549-8557-2de360989f2e",
   "metadata": {},
   "source": [
    "Another four bundles of nine curves\n",
    "$$\n",
    "\\beta = \\phi_0 \\alpha + \\phi^2 \\alpha^2 + \\phi \\alpha^4,\n",
    "\\quad \n",
    "\\alpha = 0,\n",
    "$$\n",
    "where $\\phi_0 \\in GF(2^3)$ and $tr(\\phi) = 1$ generate all the structures $(1,6,2)$. All the bundles with $tr(\\phi) = 1$ can be obtained from the bundle with $\\phi = 1$ by some local transformations."
   ]
  },
  {
   "cell_type": "code",
   "execution_count": 94,
   "id": "c47c3a63-8594-4bc6-88ba-0c73ae766eb3",
   "metadata": {},
   "outputs": [
    {
     "name": "stdout",
     "output_type": "stream",
     "text": [
      "x + 1\n",
      "x^2 + x + 1\n",
      "x^2 + 1\n",
      "1\n"
     ]
    }
   ],
   "source": [
    "for k in F:\n",
    "    if k.trace() == 1:\n",
    "        print(k)"
   ]
  },
  {
   "cell_type": "code",
   "execution_count": 97,
   "id": "6b571761-cc92-4e7e-a627-15e7b32b6ef3",
   "metadata": {},
   "outputs": [],
   "source": [
    "# other 306 bundles that can be obtained from the rays\n",
    "# by location transformations\n",
    "curves162 = [[(F(0),k) for k in F]]\n",
    "fi = F(1) # 1, x+1, x^2+x+1, x^2+1\n",
    "for phi0 in F:\n",
    "    curves162.append([\n",
    "        (k, phi0 * k + fi^2 * k^2 + fi * k^4) for k in F\n",
    "    ])"
   ]
  },
  {
   "cell_type": "markdown",
   "id": "94454703-edf3-4a41-bef0-9b450027daaa",
   "metadata": {},
   "source": [
    "It is possible to obtain one more type of bundles with different factorization structure and constituted only by regular curves. This is done by forming seperate subsets of non-intersecting curves and adding the $\\alpha = 0$ curve. All of the sets of curves have the factorization structure $(2,3,4)$. One example of such a type of bundle is:\n",
    "$$\n",
    "\\begin{align}\n",
    "\\alpha &= 0, \\\\\n",
    "\\beta &= 0 \\\\\n",
    "\\beta &= \\sigma^6 \\alpha + \\sigma^3 \\alpha^2 + \\sigma^5 \\alpha^4, \\\\\n",
    "\\beta &= \\sigma^2 \\alpha + \\sigma^5 \\alpha^2 + \\sigma^6 \\alpha^4, \\\\\n",
    "\\beta &= \\sigma^4 \\alpha + \\sigma^3 \\alpha^2 + \\sigma^5 \\alpha^4 \\\\\n",
    "\\beta &= \\sigma^3 \\alpha, \\\\\n",
    "\\beta &= \\sigma^5 \\alpha + \\sigma^5 \\alpha^2 + \\sigma^6 \\alpha^4 \\\\\n",
    "\\beta &= \\sigma \\alpha + \\sigma^2 \\alpha^2 + \\sigma \\alpha^4 \\\\\n",
    "\\beta &= \\alpha + \\sigma^2 \\alpha^2 + \\sigma \\alpha^4.\n",
    "\\end{align}\n",
    "$$"
   ]
  },
  {
   "cell_type": "code",
   "execution_count": 100,
   "id": "8a351236-1ae7-45a8-a045-bbe9056aa38e",
   "metadata": {},
   "outputs": [],
   "source": [
    "curves234_map = [\n",
    "    lambda k: F(0),\n",
    "    lambda k: x^6 * k + x^3 * k^2 + x^5 * k^4,\n",
    "    lambda k: x^2 * k + x^5 * k^2 + x^6 * k^4,\n",
    "    lambda k: x^4 * k + x^3 * k^2 + x^5 * k^4,\n",
    "    lambda k: x^3 * k,\n",
    "    lambda k: x^5 * k + x^5 * k^2 + x^6 * k^4,\n",
    "    lambda k: x * k + x^2 * k^2 + x * k^4,\n",
    "    lambda k: k + x^2 * k^2 + x * k^4\n",
    "]\n",
    "curves234 = [[(F(0),k) for k in F]]\n",
    "curves234 = curves234 + [[(k,curve(k)) for k in F] for curve in curves234_map]"
   ]
  },
  {
   "cell_type": "markdown",
   "id": "1a90f887-f5a3-4f59-ba0f-23b4d31b6992",
   "metadata": {},
   "source": [
    "And finally there is one more type of bundles with the structure $(0,9,0)$. Such bundles always coantin exceptional curves. One example of those bundles is given by the 6 regular curves:\n",
    "$$\n",
    "\\begin{align*}\n",
    "\\alpha &= \\sigma^2 \\beta + \\sigma^3 \\beta^2 + \\sigma^5 \\beta^4 \\\\\n",
    "\\beta &= \\sigma^2 \\alpha + \\sigma^3 \\alpha^2 + \\sigma^5 \\alpha^4 \\\\\n",
    "\\alpha &= \\beta + \\sigma^6 \\beta^2 + \\sigma^3 \\beta^4 \\\\\n",
    "\\alpha &= \\sigma^3 \\beta^2 + \\sigma^5 \\beta^4,\n",
    "\\alpha &= \\sigma^6 \\beta + \\sigma^3 \\beta^2 + \\sigma^5 \\beta^4 \\\\\n",
    "\\beta &= \\sigma^6 \\alpha^2 + \\sigma^3 \\alpha^4 \\\\\n",
    "\\beta &= \\alpha + \\sigma^3 \\alpha^2 + \\sigma^5 \\alpha^4.\n",
    "\\end{align*}\n",
    "$$\n",
    "and 2 exceptional curves:\n",
    "$$\n",
    "\\begin{align*}\n",
    "\\beta^2 + \\sigma^5 \\beta = \\sigma^2 \\alpha^2 + \\sigma^6 \\alpha,\n",
    "\\quad tr(\\sigma^4 \\beta) = 0, \\quad tr(\\sigma^5\\alpha) = 0,\\\\\n",
    "\\beta^2 + \\sigma^2 \\beta = \\sigma^6 \\alpha^2 + \\sigma^5 \\alpha, \n",
    "\\quad tr(\\sigma^6 \\beta) = 0, \\quad tr(\\sigma^2 \\alpha) = 0.\n",
    "\\end{align*}\n",
    "$$"
   ]
  },
  {
   "cell_type": "code",
   "execution_count": 125,
   "id": "de9e1ba3-adb8-41f0-a395-8d8add656488",
   "metadata": {},
   "outputs": [],
   "source": [
    "# regular curves\n",
    "curves090 = [\n",
    "    [(x^2 * b + x^3 * b^2 + x^5 * b^4, b) for b in F],\n",
    "    [(a, x^2 * a + x^3 * a^2 + x^5 * a^4) for a in F],\n",
    "    [(b + x^6 * b^2 + x^3 * b^4, b) for b in F],\n",
    "    [(x^3 * b^2 + x^5 * b^4, b) for b in F],\n",
    "    [(x^6 * b + x^3 * b^2 + x^5 * b^4, b) for b in F],\n",
    "    [(a, x^6 * a^2 + x^3 * a^4) for a in F],\n",
    "    [(a, a + x^3 * a^2 + x^5 * a^4) for a in F]\n",
    "]\n",
    "\n",
    "degen_1 = []\n",
    "for a in F:\n",
    "    for b in F:\n",
    "        if b^2 + x^5 * b == x^2 * a^2 + x^6 * a:\n",
    "            if (x^4 * b).trace() == 0:\n",
    "                if (x^5 * a).trace() == 0:\n",
    "                    degen_1.append((a,b))\n",
    "\n",
    "degen_2 = []\n",
    "for a in F:\n",
    "    for b in F:\n",
    "        if b^2 + x^2 * b == x^6 * a^2 + x^5 * a:\n",
    "            if (x^6 * b).trace() == 0:\n",
    "                if (x^2 * a).trace() == 0:\n",
    "                    degen_2.append((a,b))\n",
    "\n",
    "curves090 = curves090 + [degen_1] + [degen_2]"
   ]
  },
  {
   "cell_type": "code",
   "execution_count": null,
   "id": "ce86bc6d-7042-4a4e-8644-b9d50b7fc9dc",
   "metadata": {},
   "outputs": [],
   "source": []
  }
 ],
 "metadata": {
  "kernelspec": {
   "display_name": "SageMath 9.8",
   "language": "sage",
   "name": "sagemath"
  },
  "language_info": {
   "codemirror_mode": {
    "name": "ipython",
    "version": 3
   },
   "file_extension": ".py",
   "mimetype": "text/x-python",
   "name": "python",
   "nbconvert_exporter": "python",
   "pygments_lexer": "ipython3",
   "version": "3.9.16"
  }
 },
 "nbformat": 4,
 "nbformat_minor": 5
}
