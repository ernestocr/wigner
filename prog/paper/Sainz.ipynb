{
 "cells": [
  {
   "cell_type": "code",
   "execution_count": 1,
   "id": "e2bb4d64-fb49-40b0-b0d7-0f19ad7f0002",
   "metadata": {},
   "outputs": [],
   "source": [
    "%display latex"
   ]
  },
  {
   "cell_type": "code",
   "execution_count": 2,
   "id": "12bebf52-fbb9-4e64-b696-3852ea611e28",
   "metadata": {},
   "outputs": [],
   "source": [
    "import matplotlib\n",
    "import matplotlib.pyplot as plt\n",
    "matplotlib.rcParams['figure.figsize'] = [2, 2]"
   ]
  },
  {
   "cell_type": "code",
   "execution_count": 3,
   "id": "4633fd1a-34a2-4714-b2d1-5dceda7ded77",
   "metadata": {},
   "outputs": [],
   "source": [
    "N = 3\n",
    "d = 2**N\n",
    "F = GF(d, 'x')\n",
    "x = F.gen()"
   ]
  },
  {
   "cell_type": "code",
   "execution_count": 116,
   "id": "efa12cbc-af36-4045-95f3-5fc249682114",
   "metadata": {},
   "outputs": [
    {
     "data": {
      "text/html": [
       "<html>\\(\\displaystyle x^{3} + x + 1\\)</html>"
      ],
      "text/latex": [
       "$\\displaystyle x^{3} + x + 1$"
      ],
      "text/plain": [
       "x^3 + x + 1"
      ]
     },
     "execution_count": 116,
     "metadata": {},
     "output_type": "execute_result"
    }
   ],
   "source": [
    "x.charpoly()"
   ]
  },
  {
   "cell_type": "code",
   "execution_count": 5,
   "id": "2341624f-3a74-4efb-8cee-e6ed36d7329e",
   "metadata": {},
   "outputs": [],
   "source": [
    "def Proj(u, v=None):\n",
    "    # Expects vectors\n",
    "    if not v:\n",
    "        v = u\n",
    "    u = matrix(u).transpose()\n",
    "    v = matrix(v).transpose()\n",
    "    return u.tensor_product(v.conjugate_transpose())\n",
    "\n",
    "Id = identity_matrix(SR, 2**N)\n",
    "\n",
    "def toInt(k):\n",
    "    return list(F).index(k)\n",
    "\n",
    "def chi(k):\n",
    "    return exp(2 * pi * I * int(k.trace()) / 2)"
   ]
  },
  {
   "cell_type": "code",
   "execution_count": 6,
   "id": "eea0100c-3f6e-4c45-b7c1-26539c5f9564",
   "metadata": {},
   "outputs": [],
   "source": [
    "def Fourier():\n",
    "    s = zero_matrix(SR, 2**N, 2**N)\n",
    "    for i, a in enumerate(F):\n",
    "        for j, b in enumerate(F):\n",
    "            s[i,j] = chi(a * b) / sqrt(2^N)\n",
    "    return s\n",
    "FF = Fourier()\n",
    "\n",
    "def Z(a):\n",
    "    return diagonal_matrix([chi(a * k) for k in F])\n",
    "\n",
    "def X(b):\n",
    "    return FF.conjugate_transpose() * Z(b) * FF"
   ]
  },
  {
   "cell_type": "markdown",
   "id": "a41f955c-43d8-419c-8bf6-adb38d597363",
   "metadata": {},
   "source": [
    "The construction of the rotation operators supposedly proceeds in the same manner as for the straight lines. But instead of having curves given by $\\beta = \\xi \\alpha$ we have curves given by a parametrized function $f_\\mu$ that satisfies some, until now, unkown conditions. The rotation parameters are again diagonal in the conjugate basis:\n",
    "$$\n",
    "V_{f_\\mu}\n",
    "= \\sum_{\\kappa} c_{f_\\mu,\\alpha} |\\tilde\\kappa\\rangle \\langle\\tilde\\kappa|,\n",
    "$$\n",
    "and\n",
    "$$\n",
    "V_{f_\\mu} Z_\\alpha V_{f_\\mu}^* = c_{f_\\mu,\\alpha} Z_\\alpha X_{f_\\mu(\\alpha)}.\n",
    "$$\n",
    "This leads once more to a recurrence relation supposedly of the form:\n",
    "$$\n",
    "c_{\\alpha+\\kappa,f_\\mu} c_{\\kappa,f_\\mu}^*\n",
    "= c_{\\alpha,f_\\mu} \\chi[-\\kappa f_\\mu(\\alpha)]\n",
    "= c_{\\alpha,f_\\mu} \\chi[\\kappa f_\\mu(\\alpha)].\n",
    "$$\n",
    "\n",
    "For now we want to replicate Muñoz's phase using the Galois ring method that Sainz uses, i.e., we will try to get the rotation operators $V_\\xi$ in the case of straight lines."
   ]
  },
  {
   "cell_type": "markdown",
   "id": "d84412df-b943-4dea-ae71-db97ee05f34e",
   "metadata": {},
   "source": [
    "So the method consists first of lifting the group character of the field to the Galois ring. In this case we are are interested in the Galois ring $GR(4,N)$ where $N$ is the number qubits."
   ]
  },
  {
   "cell_type": "code",
   "execution_count": 7,
   "id": "33597950-020b-4cbb-9b9b-d3c055fda0cc",
   "metadata": {},
   "outputs": [],
   "source": [
    "R = PolynomialRing(Integers(4), 't')\n",
    "t = R.gen()"
   ]
  },
  {
   "cell_type": "code",
   "execution_count": 8,
   "id": "b21534a5-4bf6-4264-a0db-1830fcc17119",
   "metadata": {},
   "outputs": [
    {
     "data": {
      "text/html": [
       "<html>\\(\\displaystyle (t^{3} + 2 t^{2} + t + 3)\\)</html>"
      ],
      "text/latex": [
       "$\\displaystyle (t^{3} + 2 t^{2} + t + 3)$"
      ],
      "text/plain": [
       "t^3 + 2*t^2 + t + 3"
      ]
     },
     "execution_count": 8,
     "metadata": {},
     "output_type": "execute_result"
    }
   ],
   "source": [
    "poly = t^3 + 2*t^2 + t - 1\n",
    "factor(poly)"
   ]
  },
  {
   "cell_type": "code",
   "execution_count": 9,
   "id": "36e9ae43-3103-489e-aa14-8c8b71a449e6",
   "metadata": {},
   "outputs": [
    {
     "data": {
      "text/html": [
       "<html>\\(\\displaystyle t^{7} + 3\\)</html>"
      ],
      "text/latex": [
       "$\\displaystyle t^{7} + 3$"
      ],
      "text/plain": [
       "t^7 + 3"
      ]
     },
     "execution_count": 9,
     "metadata": {},
     "output_type": "execute_result"
    }
   ],
   "source": [
    "poly * (t^3 - t^2 + 2*t - 1) * (t-1)"
   ]
  },
  {
   "cell_type": "markdown",
   "id": "06d1f056-e88e-4f0b-b850-27fa6908b55a",
   "metadata": {},
   "source": [
    "The polynomial `poly` is irreducible in $\\mathbb Z_4$ and so we can construct a Galois ring much in the same maner as the Galois field extensions, that is by taking the quotient of the generated ideal of the polynomial."
   ]
  },
  {
   "cell_type": "markdown",
   "id": "dc57548c-82cd-4503-b3a6-12ec5d6c09ff",
   "metadata": {},
   "source": [
    "Using the specific polynomial is advantageous since the root of $t^3 + 2t^2 + t - 1$ is a $7$-th root of unity in $GR(4,3)$. The $(p^r-1)$-th primitive roots of unity can be used to express any element in the Galois ring in the so called $p$-adic representation."
   ]
  },
  {
   "cell_type": "code",
   "execution_count": 10,
   "id": "f1cc6f4c-db68-410c-8241-64fd5b02450b",
   "metadata": {},
   "outputs": [
    {
     "data": {
      "text/html": [
       "<html>\\(\\displaystyle \\newcommand{\\ZZ}{\\Bold{Z}}\\newcommand{\\Bold}[1]{\\mathbf{#1}}\\ZZ/4\\ZZ[t]/\\left(t^{3} + 2 t^{2} + t + 3\\right)\\ZZ/4\\ZZ[t]\\)</html>"
      ],
      "text/latex": [
       "$\\displaystyle \\newcommand{\\ZZ}{\\Bold{Z}}\\newcommand{\\Bold}[1]{\\mathbf{#1}}\\ZZ/4\\ZZ[t]/\\left(t^{3} + 2 t^{2} + t + 3\\right)\\ZZ/4\\ZZ[t]$"
      ],
      "text/plain": [
       "Univariate Quotient Polynomial Ring in w over Ring of integers modulo 4 with modulus t^3 + 2*t^2 + t + 3"
      ]
     },
     "execution_count": 10,
     "metadata": {},
     "output_type": "execute_result"
    }
   ],
   "source": [
    "GR = R.quotient(poly, 'w')\n",
    "w = GR.gen()\n",
    "GR"
   ]
  },
  {
   "cell_type": "code",
   "execution_count": 11,
   "id": "2d1a344f-8eff-41b5-b327-2998cfe37642",
   "metadata": {},
   "outputs": [
    {
     "data": {
      "text/html": [
       "<html>\\(\\displaystyle 64\\)</html>"
      ],
      "text/latex": [
       "$\\displaystyle 64$"
      ],
      "text/plain": [
       "64"
      ]
     },
     "execution_count": 11,
     "metadata": {},
     "output_type": "execute_result"
    }
   ],
   "source": [
    "GR.cardinality()"
   ]
  },
  {
   "cell_type": "markdown",
   "id": "dcaf378d-c05e-41f5-95f1-aea5a4112143",
   "metadata": {},
   "source": [
    "Using the chosen polynomial, the ring generator can be used as the Teichmüller set $\\mathcal T$ generator:"
   ]
  },
  {
   "cell_type": "code",
   "execution_count": 12,
   "id": "9cc34da1-af45-4b59-bd5c-bb290f072d4b",
   "metadata": {},
   "outputs": [
    {
     "data": {
      "text/html": [
       "<html>\\(\\displaystyle 1\\)</html>"
      ],
      "text/latex": [
       "$\\displaystyle 1$"
      ],
      "text/plain": [
       "1"
      ]
     },
     "execution_count": 12,
     "metadata": {},
     "output_type": "execute_result"
    }
   ],
   "source": [
    "w^(2^N-1)"
   ]
  },
  {
   "cell_type": "code",
   "execution_count": 13,
   "id": "bef2c87f-f3a7-4b04-8ab3-591d62f988df",
   "metadata": {},
   "outputs": [],
   "source": [
    "T = [GR(0)] + [w**j for j in range(1, 2**N - 1)] + [GR(1)]"
   ]
  },
  {
   "cell_type": "code",
   "execution_count": 14,
   "id": "5ffda928-4cec-4fbe-89bb-720b6ad8e24a",
   "metadata": {},
   "outputs": [
    {
     "data": {
      "text/html": [
       "<html>\\(\\displaystyle 8\\)</html>"
      ],
      "text/latex": [
       "$\\displaystyle 8$"
      ],
      "text/plain": [
       "8"
      ]
     },
     "execution_count": 14,
     "metadata": {},
     "output_type": "execute_result"
    }
   ],
   "source": [
    "len(T)"
   ]
  },
  {
   "cell_type": "markdown",
   "id": "000365ef-8094-4ec7-a6f9-db9e76353cb8",
   "metadata": {},
   "source": [
    "In our exmaple the Teichmüller set $\\mathcal T$ is isomorphic to the finite field $GF(2^3)$. The mapping from the field to $\\mathcal T$ is called the *Teichmüller lift*, denoted by $\\alpha \\mapsto \\hat{\\alpha}$. As the structure is multiplicative, we assume that the lift is done by matching powers of the generating elements. The generator of the finite field $x$ is mapped to $w$ and so follow the powers."
   ]
  },
  {
   "cell_type": "code",
   "execution_count": 15,
   "id": "0bcbd902-3c92-42a1-aaed-573bf5ed97e4",
   "metadata": {},
   "outputs": [
    {
     "data": {
      "text/html": [
       "<html>\\(\\displaystyle \\left[0, w, w^{2}, 2 w^{2} + 3 w + 1, 3 w^{2} + 3 w + 2, w^{2} + 3 w + 3, w^{2} + 2 w + 1, 1\\right]\\)</html>"
      ],
      "text/latex": [
       "$\\displaystyle \\left[0, w, w^{2}, 2 w^{2} + 3 w + 1, 3 w^{2} + 3 w + 2, w^{2} + 3 w + 3, w^{2} + 2 w + 1, 1\\right]$"
      ],
      "text/plain": [
       "[0, w, w^2, 2*w^2 + 3*w + 1, 3*w^2 + 3*w + 2, w^2 + 3*w + 3, w^2 + 2*w + 1, 1]"
      ]
     },
     "execution_count": 15,
     "metadata": {},
     "output_type": "execute_result"
    }
   ],
   "source": [
    "T"
   ]
  },
  {
   "cell_type": "code",
   "execution_count": 16,
   "id": "ed34d2ac-876c-4749-a397-a682bed2405b",
   "metadata": {},
   "outputs": [
    {
     "data": {
      "text/html": [
       "<html>\\(\\displaystyle \\left[0, x, x^{2}, x + 1, x^{2} + x, x^{2} + x + 1, x^{2} + 1, 1\\right]\\)</html>"
      ],
      "text/latex": [
       "$\\displaystyle \\left[0, x, x^{2}, x + 1, x^{2} + x, x^{2} + x + 1, x^{2} + 1, 1\\right]$"
      ],
      "text/plain": [
       "[0, x, x^2, x + 1, x^2 + x, x^2 + x + 1, x^2 + 1, 1]"
      ]
     },
     "execution_count": 16,
     "metadata": {},
     "output_type": "execute_result"
    }
   ],
   "source": [
    "list(F)"
   ]
  },
  {
   "cell_type": "code",
   "execution_count": 17,
   "id": "2ba81d17-0dbe-4a53-b2d8-bec5d63159ae",
   "metadata": {},
   "outputs": [],
   "source": [
    "def TeichLift(k):\n",
    "    return T[toInt(k)]"
   ]
  },
  {
   "cell_type": "markdown",
   "id": "ee67a441-26d6-4e3b-bfc4-1cdf3855412c",
   "metadata": {},
   "source": [
    "Let's quickly verify that the map is indeed a multiplicative group homomorphism."
   ]
  },
  {
   "cell_type": "code",
   "execution_count": 18,
   "id": "9d35335b-e904-4cca-98a7-3feb985e44d4",
   "metadata": {},
   "outputs": [],
   "source": [
    "for k in F:\n",
    "    for l in F:\n",
    "        if TeichLift(k * l) != TeichLift(k) * TeichLift(l):\n",
    "            raise Exception('Not a homomorphism!')"
   ]
  },
  {
   "cell_type": "markdown",
   "id": "72fc414b-02df-4300-bb98-07e7d00fb37e",
   "metadata": {},
   "source": [
    "It is easy to verify that addition does not map trivially:"
   ]
  },
  {
   "cell_type": "code",
   "execution_count": 19,
   "id": "1188b4c6-bf33-485e-9bcf-e4cacf90b879",
   "metadata": {},
   "outputs": [
    {
     "data": {
      "text/html": [
       "<html>\\(\\displaystyle \\mathrm{False}\\)</html>"
      ],
      "text/latex": [
       "$\\displaystyle \\mathrm{False}$"
      ],
      "text/plain": [
       "False"
      ]
     },
     "execution_count": 19,
     "metadata": {},
     "output_type": "execute_result"
    }
   ],
   "source": [
    "TeichLift(x + 1) == TeichLift(x) + TeichLift(1)"
   ]
  },
  {
   "cell_type": "markdown",
   "id": "5cd53944-963b-41c9-86ae-a6ed978e86c3",
   "metadata": {},
   "source": [
    "For this first example we consider the function $f_\\mu(\\alpha) = \\mu \\alpha$. And so according to Sainz the phase that solves the rotation coefficients recurrence equation is given by:\n",
    "$$\n",
    "\\phi(\\alpha, f_\\mu(\\alpha))\n",
    "= c_{\\alpha,f_\\mu}\n",
    "= (i)^{Tr(\\hat \\alpha f_{\\hat\\mu}(\\hat \\alpha))}\n",
    "= (i)^{Tr(\\hat\\mu\\hat\\alpha^2)},\n",
    "$$\n",
    "where the trace function leaves the ring $\\mathbb Z_4$ invariant. We note several differences with Muñoz's method. First the Hadamard bit counting function is probably doing the same thing as the trace function here, but in Muñoz's coefficient the square root of the product is used, as well as the root $-i$. This produces  MUBs that appear distinct, but are probably related by permutations and global phases."
   ]
  },
  {
   "cell_type": "code",
   "execution_count": 20,
   "id": "f7df61f1-e82e-4a8e-9518-46f351046513",
   "metadata": {},
   "outputs": [],
   "source": [
    "def RingTrace(a, b):\n",
    "    s = GR(0)\n",
    "    for k in range(N):\n",
    "        s += a**(2**k) + GR(2)*b**(2**k)\n",
    "    return s \n",
    "\n",
    "# to evaluate the trace in the ring we need\n",
    "# to use the p-adic representation of the elements\n",
    "# of the Teichmüller.\n",
    "def Dumb2adic(x):\n",
    "    for b in T:\n",
    "        # a = x - GR(2)*b\n",
    "        # if a in T:\n",
    "        #     return (a,b)\n",
    "        for a in T:\n",
    "            if x == (a + GR(2) * b):\n",
    "                return (a,b)"
   ]
  },
  {
   "cell_type": "code",
   "execution_count": 21,
   "id": "31e0e2b3-e92b-47e9-b4b4-c96103ec36b7",
   "metadata": {},
   "outputs": [],
   "source": [
    "for k in T:\n",
    "    if k.trace() != RingTrace(*Dumb2adic(k)):\n",
    "        raise Exception('Difference in trace implementation.')"
   ]
  },
  {
   "cell_type": "markdown",
   "id": "9eda484e-ef81-42eb-9608-fa86f35f6b45",
   "metadata": {},
   "source": [
    "Oops, just realized SageMath took care of the trace function!"
   ]
  },
  {
   "cell_type": "code",
   "execution_count": 22,
   "id": "b08be469-d63a-4f97-b51d-18fb36f9087d",
   "metadata": {},
   "outputs": [],
   "source": [
    "# phase defined by the rotation coeffs\n",
    "def phi(tau, nu):\n",
    "    a, b = Dumb2adic(TeichLift(tau) * TeichLift(nu))\n",
    "    return (I)^(int(RingTrace(a, b)))\n",
    "\n",
    "def D(a, b):\n",
    "    return phi(a, b) * Z(a) * X(b)"
   ]
  },
  {
   "cell_type": "markdown",
   "id": "585678c1-ebc6-4099-989e-91be08d686f6",
   "metadata": {},
   "source": [
    "Now for the rotation operators $V_\\mu$."
   ]
  },
  {
   "cell_type": "code",
   "execution_count": 23,
   "id": "34a92479-4fff-40b3-82e8-351427b9637b",
   "metadata": {},
   "outputs": [],
   "source": [
    "def V(mu):\n",
    "    s = zero_matrix(SR, 2^N, 2^N)\n",
    "    for i, k in enumerate(F):\n",
    "        s += phi(k, mu * k) * Proj(vector(FF[:,i]))\n",
    "    return s"
   ]
  },
  {
   "cell_type": "markdown",
   "id": "e22f2993-3ec5-46a1-9a7f-d3121ce878fa",
   "metadata": {},
   "source": [
    "Now let's verify that the bases created by the rotation operators are MUBs."
   ]
  },
  {
   "cell_type": "code",
   "execution_count": 24,
   "id": "d68a10f0-fde3-44af-891f-261365a21c23",
   "metadata": {},
   "outputs": [],
   "source": [
    "# Orthonormality\n",
    "def isOrthonormal(m):\n",
    "    return m.conjugate_transpose() * m == Id\n",
    "\n",
    "# MUBs\n",
    "def isMUB(m1, m2):\n",
    "    m = (\n",
    "        m1.conjugate_transpose() * m2\n",
    "    ).apply_map(lambda t: abs(t)^2)\n",
    "    return m == ones_matrix(2^N, 2^N) / (2^N)\n",
    "\n",
    "def checkMUBs(mubs):\n",
    "    if type(mubs) != list:\n",
    "        mubs_list = []\n",
    "        for i in range(2^N+1):\n",
    "            mubs_list.append(mubs[(i*2^N):(i+1)*2^N,:])\n",
    "    else:\n",
    "        mubs_list = mubs\n",
    "            \n",
    "    for i in range(2^N+1):\n",
    "        for j in range(2^N+1):\n",
    "            if i == j:\n",
    "                if not isOrthonormal(mubs_list[i]):\n",
    "                    raise Exception(\n",
    "                        'Encountered a basis that is not orthonormal!',\n",
    "                        i\n",
    "                    )\n",
    "            else:\n",
    "                if not isMUB(mubs_list[i], mubs_list[j]):\n",
    "                    raise Exception(\n",
    "                        'Encountered non-MUB pairs of basis!',\n",
    "                        i, j\n",
    "                    )\n",
    "    return True"
   ]
  },
  {
   "cell_type": "code",
   "execution_count": 25,
   "id": "17bd10ad-2e1b-4001-b4a4-67e80a9469f5",
   "metadata": {},
   "outputs": [
    {
     "data": {
      "text/html": [
       "<html>\\(\\displaystyle \\mathrm{True}\\)</html>"
      ],
      "text/latex": [
       "$\\displaystyle \\mathrm{True}$"
      ],
      "text/plain": [
       "True"
      ]
     },
     "execution_count": 25,
     "metadata": {},
     "output_type": "execute_result"
    }
   ],
   "source": [
    "mubs = [FF] + [V(k) for k in F]\n",
    "checkMUBs(mubs)"
   ]
  },
  {
   "cell_type": "markdown",
   "id": "24ff57cb-5df7-4fba-bfde-e0c58b42c767",
   "metadata": {},
   "source": [
    "Ok, so somehow it worked."
   ]
  },
  {
   "cell_type": "markdown",
   "id": "1dceca40-c293-47ed-a1ae-4cb935fc8b06",
   "metadata": {},
   "source": [
    "A quick check reveals that these are not the same as Muñoz's MUBs. It's kinda of hard to brute force check the differences, they could be permutations, sign changes or actually distinct MUBs. So let's at least see if we can get a Wigner function."
   ]
  },
  {
   "cell_type": "code",
   "execution_count": 26,
   "id": "a717b0fe-985e-4946-8d5d-fa50cd47fd38",
   "metadata": {},
   "outputs": [],
   "source": [
    "# This monomial form is trivial for straight lines,\n",
    "# which is the case we are analyzing right now.\n",
    "def Delta(a, b):\n",
    "    s = zero_matrix(SR, 2^N, 2^N)\n",
    "    for gamma in F:\n",
    "        for delta in F:\n",
    "            s += chi(a * delta + b * gamma) * D(gamma, delta) / 2^N\n",
    "    return s"
   ]
  },
  {
   "cell_type": "code",
   "execution_count": 27,
   "id": "143d5c88-4318-42ad-9189-6e614314c04b",
   "metadata": {},
   "outputs": [
    {
     "data": {
      "text/html": [
       "<html>\\(\\displaystyle \\left(\\begin{array}{rrrrrrrr}\n",
       "8 & 0 & 0 & 0 & 0 & 0 & 0 & 0 \\\\\n",
       "0 & 8 & 0 & 0 & 0 & 0 & 0 & 0 \\\\\n",
       "0 & 0 & 8 & 0 & 0 & 0 & 0 & 0 \\\\\n",
       "0 & 0 & 0 & 8 & 0 & 0 & 0 & 0 \\\\\n",
       "0 & 0 & 0 & 0 & 8 & 0 & 0 & 0 \\\\\n",
       "0 & 0 & 0 & 0 & 0 & 8 & 0 & 0 \\\\\n",
       "0 & 0 & 0 & 0 & 0 & 0 & 8 & 0 \\\\\n",
       "0 & 0 & 0 & 0 & 0 & 0 & 0 & 8\n",
       "\\end{array}\\right)\\)</html>"
      ],
      "text/latex": [
       "$\\displaystyle \\left(\\begin{array}{rrrrrrrr}\n",
       "8 & 0 & 0 & 0 & 0 & 0 & 0 & 0 \\\\\n",
       "0 & 8 & 0 & 0 & 0 & 0 & 0 & 0 \\\\\n",
       "0 & 0 & 8 & 0 & 0 & 0 & 0 & 0 \\\\\n",
       "0 & 0 & 0 & 8 & 0 & 0 & 0 & 0 \\\\\n",
       "0 & 0 & 0 & 0 & 8 & 0 & 0 & 0 \\\\\n",
       "0 & 0 & 0 & 0 & 0 & 8 & 0 & 0 \\\\\n",
       "0 & 0 & 0 & 0 & 0 & 0 & 8 & 0 \\\\\n",
       "0 & 0 & 0 & 0 & 0 & 0 & 0 & 8\n",
       "\\end{array}\\right)$"
      ],
      "text/plain": [
       "[8 0 0 0 0 0 0 0]\n",
       "[0 8 0 0 0 0 0 0]\n",
       "[0 0 8 0 0 0 0 0]\n",
       "[0 0 0 8 0 0 0 0]\n",
       "[0 0 0 0 8 0 0 0]\n",
       "[0 0 0 0 0 8 0 0]\n",
       "[0 0 0 0 0 0 8 0]\n",
       "[0 0 0 0 0 0 0 8]"
      ]
     },
     "execution_count": 27,
     "metadata": {},
     "output_type": "execute_result"
    }
   ],
   "source": [
    "# 'normalization'\n",
    "op = zero_matrix(SR, 2^N, 2^N)\n",
    "for a in F:\n",
    "    for b in F:\n",
    "        op += Delta(a, b)\n",
    "op"
   ]
  },
  {
   "cell_type": "code",
   "execution_count": 28,
   "id": "47e1f868-706a-4110-930a-1d03669668c6",
   "metadata": {},
   "outputs": [
    {
     "data": {
      "text/html": [
       "<html>\\(\\displaystyle \\mathrm{True}\\)</html>"
      ],
      "text/latex": [
       "$\\displaystyle \\mathrm{True}$"
      ],
      "text/plain": [
       "True"
      ]
     },
     "execution_count": 28,
     "metadata": {},
     "output_type": "execute_result"
    }
   ],
   "source": [
    "# Hermitian for the appropriate phase\n",
    "Delta(x^3,x) == Delta(x^3,x).conjugate_transpose()"
   ]
  },
  {
   "cell_type": "code",
   "execution_count": 29,
   "id": "cbe032f0-2d91-4c1f-a710-e4d3ee4b4018",
   "metadata": {},
   "outputs": [
    {
     "data": {
      "text/html": [
       "<html>\\(\\displaystyle 0\\)</html>"
      ],
      "text/latex": [
       "$\\displaystyle 0$"
      ],
      "text/plain": [
       "0"
      ]
     },
     "execution_count": 29,
     "metadata": {},
     "output_type": "execute_result"
    }
   ],
   "source": [
    "# Hilbert-Schmidt orthonormality\n",
    "(Delta(1,x^2) * Delta(x,x^2+1).conjugate_transpose()).trace() / 2^N"
   ]
  },
  {
   "cell_type": "code",
   "execution_count": 30,
   "id": "dfa8377e-839c-4cd1-aff1-bc0ee83ecfee",
   "metadata": {},
   "outputs": [
    {
     "data": {
      "text/html": [
       "<html>\\(\\displaystyle 1\\)</html>"
      ],
      "text/latex": [
       "$\\displaystyle 1$"
      ],
      "text/plain": [
       "1"
      ]
     },
     "execution_count": 30,
     "metadata": {},
     "output_type": "execute_result"
    }
   ],
   "source": [
    "# Hilbert-Schmidt orthonormality\n",
    "(Delta(x,x^2+1) * Delta(x,x^2+1).conjugate_transpose()).trace() / 2^N"
   ]
  },
  {
   "cell_type": "code",
   "execution_count": 31,
   "id": "4f8c4564-e80f-44cb-a66f-b302a1181629",
   "metadata": {},
   "outputs": [
    {
     "data": {
      "text/html": [
       "<html>\\(\\displaystyle \\mathrm{True}\\)</html>"
      ],
      "text/latex": [
       "$\\displaystyle \\mathrm{True}$"
      ],
      "text/plain": [
       "True"
      ]
     },
     "execution_count": 31,
     "metadata": {},
     "output_type": "execute_result"
    }
   ],
   "source": [
    "# Covariance\n",
    "D(x, 1) * Delta(x^2, x) * D(x, 1).conjugate_transpose() == Delta(x^2+x,x+1)"
   ]
  },
  {
   "cell_type": "code",
   "execution_count": 32,
   "id": "c86909b1-4c26-4f1e-b900-42fb2bd1a455",
   "metadata": {},
   "outputs": [],
   "source": [
    "for k in F:\n",
    "    for l in F:\n",
    "        trans_op = D(k,l) * Delta(x^2, x+1) * D(k,l).conjugate_transpose()\n",
    "        if trans_op != Delta(x^2 + k, x+1 + l):\n",
    "            raise Exception('Not translationally covariant')"
   ]
  },
  {
   "cell_type": "markdown",
   "id": "51caf050-745b-46b8-8dad-1c1503c5b5d4",
   "metadata": {},
   "source": [
    "The displacement kernel satisfies all the properties for the straight lines."
   ]
  },
  {
   "cell_type": "code",
   "execution_count": 108,
   "id": "7ca0274e-0119-4c83-8c13-86b057ae0f96",
   "metadata": {},
   "outputs": [],
   "source": [
    "def Wigner(state, a, b, kernel=Delta):\n",
    "    return (state * kernel(a, b)).trace()\n",
    "\n",
    "def WignerMatrix(state, kernel=Delta):\n",
    "    W = zero_matrix(SR, 2^N, 2^N)\n",
    "    for i, a in enumerate(F):\n",
    "        for j, b in enumerate(F):\n",
    "            W[i, j] = real(Wigner(state, a, b, kernel)) / 2^N\n",
    "    return W"
   ]
  },
  {
   "cell_type": "code",
   "execution_count": 109,
   "id": "1a727447-da37-46ca-b076-953b7a9ccabf",
   "metadata": {},
   "outputs": [],
   "source": [
    "def Wootters(a, b):\n",
    "    op = Proj(FF[:, toInt(a)]) # Fourier basis\n",
    "    for xi in F:\n",
    "        for nu in F:\n",
    "            d = int(b == xi * a + nu)\n",
    "            v = mubs[toInt(xi)+1][:, toInt(nu)] \n",
    "            op += d * Proj(vector(v))\n",
    "    return op - Id"
   ]
  },
  {
   "cell_type": "code",
   "execution_count": 35,
   "id": "ff40dd8b-2f4f-4b0e-8d4d-5779fc560229",
   "metadata": {},
   "outputs": [],
   "source": [
    "W = WignerMatrix(Proj(vector(V(F(1))[:,0])), kernel=Wootters)"
   ]
  },
  {
   "cell_type": "code",
   "execution_count": 36,
   "id": "ce10d43c-f780-4e6b-ab3e-56bf0aa918a6",
   "metadata": {},
   "outputs": [
    {
     "data": {
      "text/html": [
       "<html>\\(\\displaystyle \\verb|AxesImage(size=(8,|\\verb| |\\verb|8))|\\)</html>"
      ],
      "text/latex": [
       "$\\displaystyle \\verb|AxesImage(size=(8,|\\verb| |\\verb|8))|$"
      ],
      "text/plain": [
       "<matplotlib.image.AxesImage object at 0x179c25b80>"
      ]
     },
     "execution_count": 36,
     "metadata": {},
     "output_type": "execute_result"
    },
    {
     "data": {
      "image/png": "[encoded data removed]",
      "text/plain": [
       "<Figure size 200x200 with 1 Axes>"
      ]
     },
     "metadata": {},
     "output_type": "display_data"
    }
   ],
   "source": [
    "plt.imshow(W.transpose().apply_map(lambda t: float(t)), origin='lower')"
   ]
  },
  {
   "cell_type": "code",
   "execution_count": 37,
   "id": "3b279d0a-8252-440b-ba91-dc9be37d143a",
   "metadata": {},
   "outputs": [],
   "source": [
    "ghz = vector(Id[:,0] + Id[:,-1])/sqrt(2)\n",
    "W = WignerMatrix(Proj(ghz), kernel=Wootters).apply_map(lambda t: float(t))"
   ]
  },
  {
   "cell_type": "code",
   "execution_count": 38,
   "id": "289c1917-7b1c-4b7f-8d0e-195e6a40efe7",
   "metadata": {},
   "outputs": [
    {
     "data": {
      "text/html": [
       "<html>\\(\\displaystyle \\verb|AxesImage(size=(8,|\\verb| |\\verb|8))|\\)</html>"
      ],
      "text/latex": [
       "$\\displaystyle \\verb|AxesImage(size=(8,|\\verb| |\\verb|8))|$"
      ],
      "text/plain": [
       "<matplotlib.image.AxesImage object at 0x179db71f0>"
      ]
     },
     "execution_count": 38,
     "metadata": {},
     "output_type": "execute_result"
    },
    {
     "data": {
      "image/png": "[encoded data removed]",
      "text/plain": [
       "<Figure size 200x200 with 1 Axes>"
      ]
     },
     "metadata": {},
     "output_type": "display_data"
    }
   ],
   "source": [
    "plt.imshow(W.transpose(), origin='lower')"
   ]
  },
  {
   "cell_type": "markdown",
   "id": "79a30e27-fcc7-46c1-9d6e-91060780ef3d",
   "metadata": {},
   "source": [
    "---\n",
    "So now the idea is to use Sainz phase but for curves instead of straight lines. The curves that we will use are the ones that Andres found. They correspond to distinct factorization schemes. I tried using the $(1,6,2)$ MUBs but they did not work. \n",
    "$$\n",
    "\\begin{align*}\n",
    "\\alpha &= 0 \\\\\n",
    "f_0(\\alpha) &= \\mu \\alpha^2 + \\mu \\alpha^4 \\\\\n",
    "f_\\mu(\\alpha) &= \\mu \\alpha + \\mu \\alpha^2 + \\mu \\alpha^4 \\\\\n",
    "f_{\\mu^2}(\\alpha) &= \\mu^2 \\alpha + \\mu \\alpha^2 + \\mu \\alpha^4 \\\\\n",
    "f_{\\mu^3}(\\alpha) &= \\mu^3 \\alpha + \\mu \\alpha^2 + \\mu \\alpha^4 \\\\\n",
    "f_{\\mu^4}(\\alpha) &= \\mu^4 \\alpha + \\mu \\alpha^2 + \\mu \\alpha^4 \\\\\n",
    "f_{\\mu^5}(\\alpha) &= \\mu^5 \\alpha + \\mu \\alpha^2 + \\mu \\alpha^4 \\\\\n",
    "f_{\\mu^6}(\\alpha) &= \\mu^6 \\alpha + \\mu \\alpha^2 + \\mu \\alpha^4 \\\\\n",
    "f_1(\\alpha) &= \\alpha + \\mu \\alpha^2 + \\mu \\alpha^4\n",
    "\\end{align*}\n",
    "$$\n",
    "Notice that the general form of the curves is $f_\\mu(\\alpha) = \\mu \\alpha + x \\alpha^2 + x \\alpha^4$ where $x$ is the field generator and $\\mu = x^k$ for some $k$."
   ]
  },
  {
   "cell_type": "markdown",
   "id": "13183f26-4de3-4df1-b0c8-42a7bdc7765e",
   "metadata": {},
   "source": [
    "After verifying that the curves are ok, we can obtain Sainz's phase  by:\n",
    "$$\n",
    "\\phi(\\alpha, f_\\mu(\\alpha))\n",
    "= c_{\\alpha,f_\\mu}\n",
    "= (i)^{Tr(\\hat \\alpha f_{\\hat\\mu}(\\hat \\alpha))}\n",
    "%= (i)^{Tr(\\hat \\alpha (\\hat \\mu \\hat \\alpha +  \\hat x \\hat \\alpha^2 + \\hat x \\hat \\alpha^4))}\n",
    "%= (i)^{Tr(\\hat \\mu \\hat \\alpha^2 +  \\hat x \\hat \\alpha^3 + \\hat x \\hat \\alpha^5)},\n",
    "$$"
   ]
  },
  {
   "cell_type": "code",
   "execution_count": 118,
   "id": "7cfb130c-ffd3-43ab-894c-b3023bdcfcca",
   "metadata": {},
   "outputs": [],
   "source": [
    "def phi2(tau, nu):\n",
    "    # a, b = Dumb2adic(tau * nu)\n",
    "    # return (I)^(int(RingTrace(a, b)))\n",
    "    return I^(int((tau * nu).trace()))\n",
    "\n",
    "# \\mu is the function parameter and x is the generator.\n",
    "# The lifting operator ^ : F -> T is a multiplicative group\n",
    "# homomorphism so ^(x * k) = ^x * ^k.\n",
    "# Addition must be done inside T.\n",
    "def V2(mu):\n",
    "    s = zero_matrix(SR, 2^N, 2^N)\n",
    "    curve = lambda k: TeichLift(mu * k) + TeichLift(x * k^2) + TeichLift(x * k^4) # 162\n",
    "    for i, k in enumerate(F):\n",
    "        a = TeichLift(k)\n",
    "        s += phi2(a, curve(k)) * Proj(vector(FF[:,i]))\n",
    "    return s"
   ]
  },
  {
   "cell_type": "code",
   "execution_count": 42,
   "id": "81dde09f-e055-473a-a409-413b2b4b9648",
   "metadata": {},
   "outputs": [
    {
     "data": {
      "text/html": [
       "<html>\\(\\displaystyle \\mathrm{True}\\)</html>"
      ],
      "text/latex": [
       "$\\displaystyle \\mathrm{True}$"
      ],
      "text/plain": [
       "True"
      ]
     },
     "execution_count": 42,
     "metadata": {},
     "output_type": "execute_result"
    }
   ],
   "source": [
    "mubs = [FF] + [V2(k) for k in F]\n",
    "checkMUBs(mubs)"
   ]
  },
  {
   "cell_type": "markdown",
   "id": "ba19cdba-0cdb-4a9e-8b66-ce455b3e3221",
   "metadata": {},
   "source": [
    "For some reason that I don't understand, this method with the given curves do produce MUBs. But upon construction of the displacement operators and the Wigner kernel we obtain unsatisfactory results. \n",
    "\n",
    "For starters we see that these curves don't even generate totally isotropic subspaces:"
   ]
  },
  {
   "cell_type": "code",
   "execution_count": 43,
   "id": "f0c94979-0b02-4c63-ad7c-175aa1a397e8",
   "metadata": {},
   "outputs": [
    {
     "ename": "Exception",
     "evalue": "('Not isotropic!', 0)",
     "output_type": "error",
     "traceback": [
      "\u001b[0;31m---------------------------------------------------------------------------\u001b[0m",
      "\u001b[0;31mException\u001b[0m                                 Traceback (most recent call last)",
      "Cell \u001b[0;32mIn[43], line 27\u001b[0m\n\u001b[1;32m     25\u001b[0m c \u001b[38;5;241m=\u001b[39m p1[Integer(\u001b[38;5;241m0\u001b[39m)] \u001b[38;5;241m*\u001b[39m p2[Integer(\u001b[38;5;241m1\u001b[39m)] \u001b[38;5;241m-\u001b[39m p1[Integer(\u001b[38;5;241m1\u001b[39m)] \u001b[38;5;241m*\u001b[39m p2[Integer(\u001b[38;5;241m0\u001b[39m)]\n\u001b[1;32m     26\u001b[0m \u001b[38;5;28;01mif\u001b[39;00m c\u001b[38;5;241m.\u001b[39mtrace() \u001b[38;5;241m!=\u001b[39m Integer(\u001b[38;5;241m0\u001b[39m):\n\u001b[0;32m---> 27\u001b[0m     \u001b[38;5;28;01mraise\u001b[39;00m \u001b[38;5;167;01mException\u001b[39;00m(\u001b[38;5;124m'\u001b[39m\u001b[38;5;124mNot isotropic!\u001b[39m\u001b[38;5;124m'\u001b[39m, j)\n",
      "\u001b[0;31mException\u001b[0m: ('Not isotropic!', 0)"
     ]
    }
   ],
   "source": [
    "# (1,6,2)\n",
    "curves = [\n",
    "    lambda a: x * a^2 + x * a^4,\n",
    "    lambda a: x * a + x * a^2 + x * a^4,\n",
    "    lambda a: x^2 * a + x * a^2 + x * a^4,\n",
    "    lambda a: x^3 * a + x * a^2 + x * a^4,\n",
    "    lambda a: x^4 * a + x * a^2 + x * a^4,\n",
    "    lambda a: x^5 * a + x * a^2 + x * a^4,\n",
    "    lambda a: x^6 * a + x * a^2 + x * a^4,\n",
    "    lambda a: a + x * a^2 + x * a^4,\n",
    "    lambda a: a + a^2 + a^4\n",
    "]\n",
    "\n",
    "for j, curve in enumerate(curves):\n",
    "    subspace = [(a, curve(a)) for a in F]\n",
    "    # The curves are subspaces\n",
    "    for p1 in subspace:\n",
    "        for p2 in subspace:\n",
    "            if (p1[0] + p2[0], p1[1] + p2[1]) not in subspace:\n",
    "                raise Exception('Curve is not a subspace.', j)\n",
    "    \n",
    "    # The curves are not abelian\n",
    "    for p1 in subspace:\n",
    "        for p2 in subspace:\n",
    "            c = p1[0] * p2[1] - p1[1] * p2[0]\n",
    "            if c.trace() != 0:\n",
    "                raise Exception('Not isotropic!', j)"
   ]
  },
  {
   "cell_type": "markdown",
   "id": "ff28fc06-8b61-4f77-a879-64063bf0ae79",
   "metadata": {},
   "source": [
    "$V_\\mu$ corresponds to the curve $\\beta = f(\\alpha) = \\mu \\alpha + x \\alpha^2 + x \\alpha^4$. And so the operators of the form $D(\\alpha, \\mu \\alpha + x \\alpha^2 + x \\alpha^4)$ for all $\\alpha \\in GF(2^3)$ should commute and should leave $V_\\mu$ invariant."
   ]
  },
  {
   "cell_type": "code",
   "execution_count": 44,
   "id": "af7b3e14-64de-4dbe-8a25-cedb7beaec4d",
   "metadata": {},
   "outputs": [],
   "source": [
    "def D2(a, b):\n",
    "    return phi2(TeichLift(a), TeichLift(b)) * Z(a) * X(b)"
   ]
  },
  {
   "cell_type": "code",
   "execution_count": 45,
   "id": "4844a347-a313-4b1d-8f8a-e91e7e3271c9",
   "metadata": {},
   "outputs": [
    {
     "ename": "Exception",
     "evalue": "('Non-commuting operators in same curve!', x^2, x + 1)",
     "output_type": "error",
     "traceback": [
      "\u001b[0;31m---------------------------------------------------------------------------\u001b[0m",
      "\u001b[0;31mException\u001b[0m                                 Traceback (most recent call last)",
      "Cell \u001b[0;32mIn[45], line 6\u001b[0m\n\u001b[1;32m      4\u001b[0m \u001b[38;5;28;01mfor\u001b[39;00m l \u001b[38;5;129;01min\u001b[39;00m F:\n\u001b[1;32m      5\u001b[0m     \u001b[38;5;28;01mif\u001b[39;00m D2(a, c(a)) \u001b[38;5;241m*\u001b[39m D2(l, c(l)) \u001b[38;5;241m!=\u001b[39m D2(l, c(l)) \u001b[38;5;241m*\u001b[39m D2(a, c(a)):\n\u001b[0;32m----> 6\u001b[0m         \u001b[38;5;28;01mraise\u001b[39;00m \u001b[38;5;167;01mException\u001b[39;00m(\u001b[38;5;124m'\u001b[39m\u001b[38;5;124mNon-commuting operators in same curve!\u001b[39m\u001b[38;5;124m'\u001b[39m, a, l)\n",
      "\u001b[0;31mException\u001b[0m: ('Non-commuting operators in same curve!', x^2, x + 1)"
     ]
    }
   ],
   "source": [
    "mu = 0\n",
    "c = lambda a: mu * a + x * a^2 + x * a^4\n",
    "for a in F:\n",
    "    for l in F:\n",
    "        if D2(a, c(a)) * D2(l, c(l)) != D2(l, c(l)) * D2(a, c(a)):\n",
    "            raise Exception('Non-commuting operators in same curve!', a, l)"
   ]
  },
  {
   "cell_type": "markdown",
   "id": "c82da64f-5813-4c39-8ac8-cfe9e04f1bb2",
   "metadata": {},
   "source": [
    "So we found non commuting operators when labelel by these curves. For example for $\\mu = 0$, the curve is $f(\\alpha) = x \\alpha^2 + x \\alpha^4$ and this is not an isotropic curve since the points $(x^2,f(x^2))$ and $(x+1, f(x+1))$ do not nullify the symplectic form."
   ]
  },
  {
   "cell_type": "code",
   "execution_count": 46,
   "id": "e24b2539-7511-4860-ac2a-596f8bdf148e",
   "metadata": {},
   "outputs": [
    {
     "data": {
      "text/html": [
       "<html>\\(\\displaystyle 1\\)</html>"
      ],
      "text/latex": [
       "$\\displaystyle 1$"
      ],
      "text/plain": [
       "1"
      ]
     },
     "execution_count": 46,
     "metadata": {},
     "output_type": "execute_result"
    }
   ],
   "source": [
    "(x^2 * c(x+1) - (x+1) * c(x^2)).trace()"
   ]
  },
  {
   "cell_type": "markdown",
   "id": "f49de146-f9b7-4078-92d5-ca58ff949142",
   "metadata": {},
   "source": [
    "What baffles me is that the rotation operators constructed from these curves do in fact produce MUBs. Although this may explain why the kernel doesn't transform correctly under the displacement operators since some vectors of some MUBs *won't* be eigenvectors of some operator.\n",
    "\n",
    "The second MUB corresponds to the first curve where $\\mu = 0$, and we can clearly see that it's first column vector is *not* an eigenvector of the displacement operator $D(x^2, f(x^2))$:"
   ]
  },
  {
   "cell_type": "code",
   "execution_count": 47,
   "id": "fcf9108a-b6c4-4a40-826d-b89a10f7b2fc",
   "metadata": {},
   "outputs": [
    {
     "data": {
      "text/html": [
       "<html>\\(\\displaystyle \\left(\\begin{array}{rrrrrrrr}\n",
       "-\\frac{1}{4} i + \\frac{1}{4} & -\\frac{1}{4} i + \\frac{1}{4} & \\frac{1}{2} i & -\\frac{1}{4} i - \\frac{1}{4} & \\frac{1}{2} & 0 & 0 & \\frac{1}{4} i + \\frac{1}{4}\n",
       "\\end{array}\\right)\\)</html>"
      ],
      "text/latex": [
       "$\\displaystyle \\left(\\begin{array}{rrrrrrrr}\n",
       "-\\frac{1}{4} i + \\frac{1}{4} & -\\frac{1}{4} i + \\frac{1}{4} & \\frac{1}{2} i & -\\frac{1}{4} i - \\frac{1}{4} & \\frac{1}{2} & 0 & 0 & \\frac{1}{4} i + \\frac{1}{4}\n",
       "\\end{array}\\right)$"
      ],
      "text/plain": [
       "[-1/4*I + 1/4 -1/4*I + 1/4        1/2*I -1/4*I - 1/4          1/2            0            0  1/4*I + 1/4]"
      ]
     },
     "execution_count": 47,
     "metadata": {},
     "output_type": "execute_result"
    }
   ],
   "source": [
    "mubs[1][:,0].transpose()"
   ]
  },
  {
   "cell_type": "code",
   "execution_count": 48,
   "id": "3596e93f-9547-4f3b-8c1c-eb0b96c10778",
   "metadata": {},
   "outputs": [
    {
     "data": {
      "text/html": [
       "<html>\\(\\displaystyle \\left(\\begin{array}{rrrrrrrr}\n",
       "-\\frac{1}{4} i + \\frac{1}{4} & -\\frac{1}{4} i + \\frac{1}{4} & 0 & -\\frac{1}{4} i - \\frac{1}{4} & 0 & \\frac{1}{2} & \\frac{1}{2} i & \\frac{1}{4} i + \\frac{1}{4}\n",
       "\\end{array}\\right)\\)</html>"
      ],
      "text/latex": [
       "$\\displaystyle \\left(\\begin{array}{rrrrrrrr}\n",
       "-\\frac{1}{4} i + \\frac{1}{4} & -\\frac{1}{4} i + \\frac{1}{4} & 0 & -\\frac{1}{4} i - \\frac{1}{4} & 0 & \\frac{1}{2} & \\frac{1}{2} i & \\frac{1}{4} i + \\frac{1}{4}\n",
       "\\end{array}\\right)$"
      ],
      "text/plain": [
       "[-1/4*I + 1/4 -1/4*I + 1/4            0 -1/4*I - 1/4            0          1/2        1/2*I  1/4*I + 1/4]"
      ]
     },
     "execution_count": 48,
     "metadata": {},
     "output_type": "execute_result"
    }
   ],
   "source": [
    "(D2(x^2, c(x^2)) * mubs[1][:,0]).transpose()"
   ]
  },
  {
   "cell_type": "markdown",
   "id": "3f6fa955-2dba-415c-8911-da965b52c4e2",
   "metadata": {},
   "source": [
    "So now I will actually try with the $(2,3,4)$ curves:\n",
    "$$\n",
    "\\begin{align*}\n",
    "\\alpha &= 0 \\\\\n",
    "\\beta &= 0 \\\\\n",
    "f(\\alpha) &= x^6 \\alpha + x^3 \\alpha^2 + x^5 \\alpha^4 \\\\\n",
    "f(\\alpha) &= x^2 \\alpha + x^5 \\alpha^2 + x^6 \\alpha^4 \\\\\n",
    "f(\\alpha) &= x^4 \\alpha + x^3 \\alpha^2 + x^5 \\alpha^4 \\\\\n",
    "f(\\alpha) &= x^3 \\alpha \\\\\n",
    "f(\\alpha) &= x^5 \\alpha + x^5 \\alpha^2 + x^6 \\alpha^4 \\\\\n",
    "f(\\alpha) &= x \\alpha +  x^2 \\alpha^2 + x \\alpha^4 \\\\\n",
    "f(\\alpha) &= \\alpha + x^2 \\alpha^2 + x \\alpha^4\n",
    "\\end{align*}\n",
    "$$\n",
    "\n",
    "I can't see a simple way of parametrizing these curves with one parameter, and so the parameter $\\mu$ will simply pick out a curve given some order."
   ]
  },
  {
   "cell_type": "code",
   "execution_count": 50,
   "id": "8107f511-618f-4d71-b28e-707eb6d8a119",
   "metadata": {},
   "outputs": [],
   "source": [
    "# (2,3,4)\n",
    "# curves = [\n",
    "#     lambda a: 0,\n",
    "#     lambda a: x^6 * a + x^3 * a^2 + x^5 * a^4,\n",
    "#     lambda a: x^2 * a + x^5 * a^2 + x^6 * a^4,\n",
    "#     lambda a: x^4 * a + x^3 * a^2 + x^5 * a^4,\n",
    "#     lambda a: x^3 * a,\n",
    "#     lambda a: x^5 * a + x^5 * a^2 + x^6 * a^4,\n",
    "#     lambda a: x * a + x^2 * a^2 + x * a^4,\n",
    "#     lambda a: a + x^2 * a^2 + x * a^4\n",
    "# ]\n",
    "\n",
    "# We have to lift the curves to the Teichmüller set, \n",
    "# thankfully ^x = w\n",
    "curves_T = [\n",
    "    lambda a: 0,\n",
    "    lambda a: w^6 * a + w^3 * a^2 + w^5 * a^4,\n",
    "    lambda a: w^2 * a + w^5 * a^2 + w^6 * a^4,\n",
    "    lambda a: w^4 * a + w^3 * a^2 + w^5 * a^4,\n",
    "    lambda a: w^3 * a,\n",
    "    lambda a: w^5 * a + w^5 * a^2 + w^6 * a^4,\n",
    "    lambda a: w * a + w^2 * a^2 + w * a^4,\n",
    "    lambda a: a + w^2 * a^2 + w * a^4\n",
    "]\n",
    "\n",
    "def phi2(tau, nu):\n",
    "    # a, b = Dumb2adic(tau * nu)\n",
    "    # return (I)^(int(RingTrace(a, b)))\n",
    "    return I^(int((tau * nu).trace()))\n",
    "\n",
    "def D2(a, b):\n",
    "    return phi2(TeichLift(a), TeichLift(b)) * Z(a) * X(b)\n",
    "\n",
    "# \\mu is the function parameter and x is the generator.\n",
    "# The lifting operator ^ : F -> T is a multiplicative group\n",
    "# homomorphism so ^(x * k) = ^x * ^k.\n",
    "# Addition must be done inside T.\n",
    "def V2(mu):\n",
    "    s = zero_matrix(SR, 2^N, 2^N)\n",
    "    curve = curves_T[toInt(mu)]\n",
    "    # curve = lambda k: TeichLift(mu * k) + TeichLift(x * k^2) + TeichLift(x * k^4) # 162\n",
    "    # curve = lambda k: TeichLift(mu * k) # straight lines\n",
    "    for i, k in enumerate(F):\n",
    "        a = TeichLift(k)\n",
    "        s += phi2(a, curve(a)) * Proj(vector(FF[:,i]))\n",
    "    return s"
   ]
  },
  {
   "cell_type": "code",
   "execution_count": 51,
   "id": "c2f2288e-1124-43d4-841e-a73f15121c47",
   "metadata": {},
   "outputs": [
    {
     "data": {
      "text/html": [
       "<html>\\(\\displaystyle \\mathrm{True}\\)</html>"
      ],
      "text/latex": [
       "$\\displaystyle \\mathrm{True}$"
      ],
      "text/plain": [
       "True"
      ]
     },
     "execution_count": 51,
     "metadata": {},
     "output_type": "execute_result"
    }
   ],
   "source": [
    "mubs = [FF] + [V2(k) for k in F]\n",
    "checkMUBs(mubs)"
   ]
  },
  {
   "cell_type": "markdown",
   "id": "6c7f78ad-e51e-415e-a53b-3391e47c06e1",
   "metadata": {},
   "source": [
    "So once again we have MUBs. Let's just make sure that the basis are actually eigenvectors of the corresponding displacement operators and other sanity checks."
   ]
  },
  {
   "cell_type": "code",
   "execution_count": 52,
   "id": "53df0d0f-533b-4374-8d0c-b54def90a656",
   "metadata": {},
   "outputs": [
    {
     "data": {
      "text/html": [
       "<html>\\(\\displaystyle \\left(\\begin{array}{rrrrrrrr}\n",
       "-i + 1 & -i + 1 & i + 1 & i + 1 & -i - 1 & -i + 1 & i - 1 & i + 1 \\\\\n",
       "-i + 1 & -i + 1 & -i - 1 & i + 1 & i + 1 & i - 1 & -i + 1 & i + 1 \\\\\n",
       "i + 1 & -i - 1 & -i + 1 & -i + 1 & -i + 1 & i + 1 & i + 1 & i - 1 \\\\\n",
       "i + 1 & i + 1 & -i + 1 & -i + 1 & i - 1 & i + 1 & -i - 1 & -i + 1 \\\\\n",
       "-i - 1 & i + 1 & -i + 1 & i - 1 & -i + 1 & i + 1 & i + 1 & -i + 1 \\\\\n",
       "-i + 1 & i - 1 & i + 1 & i + 1 & i + 1 & -i + 1 & -i + 1 & -i - 1 \\\\\n",
       "i - 1 & -i + 1 & i + 1 & -i - 1 & i + 1 & -i + 1 & -i + 1 & i + 1 \\\\\n",
       "i + 1 & i + 1 & i - 1 & -i + 1 & -i + 1 & -i - 1 & i + 1 & -i + 1\n",
       "\\end{array}\\right)\\)</html>"
      ],
      "text/latex": [
       "$\\displaystyle \\left(\\begin{array}{rrrrrrrr}\n",
       "-i + 1 & -i + 1 & i + 1 & i + 1 & -i - 1 & -i + 1 & i - 1 & i + 1 \\\\\n",
       "-i + 1 & -i + 1 & -i - 1 & i + 1 & i + 1 & i - 1 & -i + 1 & i + 1 \\\\\n",
       "i + 1 & -i - 1 & -i + 1 & -i + 1 & -i + 1 & i + 1 & i + 1 & i - 1 \\\\\n",
       "i + 1 & i + 1 & -i + 1 & -i + 1 & i - 1 & i + 1 & -i - 1 & -i + 1 \\\\\n",
       "-i - 1 & i + 1 & -i + 1 & i - 1 & -i + 1 & i + 1 & i + 1 & -i + 1 \\\\\n",
       "-i + 1 & i - 1 & i + 1 & i + 1 & i + 1 & -i + 1 & -i + 1 & -i - 1 \\\\\n",
       "i - 1 & -i + 1 & i + 1 & -i - 1 & i + 1 & -i + 1 & -i + 1 & i + 1 \\\\\n",
       "i + 1 & i + 1 & i - 1 & -i + 1 & -i + 1 & -i - 1 & i + 1 & -i + 1\n",
       "\\end{array}\\right)$"
      ],
      "text/plain": [
       "[-I + 1 -I + 1  I + 1  I + 1 -I - 1 -I + 1  I - 1  I + 1]\n",
       "[-I + 1 -I + 1 -I - 1  I + 1  I + 1  I - 1 -I + 1  I + 1]\n",
       "[ I + 1 -I - 1 -I + 1 -I + 1 -I + 1  I + 1  I + 1  I - 1]\n",
       "[ I + 1  I + 1 -I + 1 -I + 1  I - 1  I + 1 -I - 1 -I + 1]\n",
       "[-I - 1  I + 1 -I + 1  I - 1 -I + 1  I + 1  I + 1 -I + 1]\n",
       "[-I + 1  I - 1  I + 1  I + 1  I + 1 -I + 1 -I + 1 -I - 1]\n",
       "[ I - 1 -I + 1  I + 1 -I - 1  I + 1 -I + 1 -I + 1  I + 1]\n",
       "[ I + 1  I + 1  I - 1 -I + 1 -I + 1 -I - 1  I + 1 -I + 1]"
      ]
     },
     "execution_count": 52,
     "metadata": {},
     "output_type": "execute_result"
    }
   ],
   "source": [
    "mubs[2] * 4"
   ]
  },
  {
   "cell_type": "code",
   "execution_count": 53,
   "id": "405e2c5e-a218-4ba8-ae15-bdfdca92adca",
   "metadata": {},
   "outputs": [
    {
     "data": {
      "text/html": [
       "<html>\\(\\displaystyle \\mathrm{True}\\)</html>"
      ],
      "text/latex": [
       "$\\displaystyle \\mathrm{True}$"
      ],
      "text/plain": [
       "True"
      ]
     },
     "execution_count": 53,
     "metadata": {},
     "output_type": "execute_result"
    }
   ],
   "source": [
    "andres_mubs2 = FF * diagonal_matrix([1,-1,I,I,I,1,1,-I]) * FF.conjugate_transpose()\n",
    "andres_mubs2[:,2] == mubs[2][:,0]"
   ]
  },
  {
   "cell_type": "markdown",
   "id": "f753dd5a-ebd0-4890-8ed3-361972834a54",
   "metadata": {},
   "source": [
    "A quick check reveals that these are actually the same MUBs as the ones Andres obtained except for permutations!"
   ]
  },
  {
   "cell_type": "markdown",
   "id": "032880ee-9a56-400b-829e-d0dd55f9e6f1",
   "metadata": {},
   "source": [
    "Now let's create Wootters' Wigner kernel for these curves and test its properties."
   ]
  },
  {
   "cell_type": "code",
   "execution_count": 54,
   "id": "01da1701-b48e-48a3-a952-dc388cf439e2",
   "metadata": {},
   "outputs": [],
   "source": [
    "curves = [\n",
    "    lambda a: 0,\n",
    "    lambda a: x^6 * a + x^3 * a^2 + x^5 * a^4,\n",
    "    lambda a: x^2 * a + x^5 * a^2 + x^6 * a^4,\n",
    "    lambda a: x^4 * a + x^3 * a^2 + x^5 * a^4,\n",
    "    lambda a: x^3 * a,\n",
    "    lambda a: x^5 * a + x^5 * a^2 + x^6 * a^4,\n",
    "    lambda a: x * a + x^2 * a^2 + x * a^4,\n",
    "    lambda a: a + x^2 * a^2 + x * a^4\n",
    "]\n",
    "\n",
    "def Wootters2(a, b):\n",
    "    op = Proj(vector(FF[:, toInt(a)]))\n",
    "    for xi in F:\n",
    "        for nu in F:\n",
    "            d = int(b == curves[toInt(xi)](a) + nu)\n",
    "            v = mubs[toInt(xi)+1][:, toInt(nu)]\n",
    "            op += d * Proj(vector(v))\n",
    "    return op - Id"
   ]
  },
  {
   "cell_type": "code",
   "execution_count": 55,
   "id": "8ba560d1-c059-4ea7-9008-5630791d251a",
   "metadata": {},
   "outputs": [
    {
     "data": {
      "text/html": [
       "<html>\\(\\displaystyle \\left(\\begin{array}{rrrrrrrr}\n",
       "1 & 0 & 0 & 0 & 0 & 0 & 0 & 0 \\\\\n",
       "0 & 1 & 0 & 0 & 0 & 0 & 0 & 0 \\\\\n",
       "0 & 0 & 1 & 0 & 0 & 0 & 0 & 0 \\\\\n",
       "0 & 0 & 0 & 1 & 0 & 0 & 0 & 0 \\\\\n",
       "0 & 0 & 0 & 0 & 1 & 0 & 0 & 0 \\\\\n",
       "0 & 0 & 0 & 0 & 0 & 1 & 0 & 0 \\\\\n",
       "0 & 0 & 0 & 0 & 0 & 0 & 1 & 0 \\\\\n",
       "0 & 0 & 0 & 0 & 0 & 0 & 0 & 1\n",
       "\\end{array}\\right)\\)</html>"
      ],
      "text/latex": [
       "$\\displaystyle \\left(\\begin{array}{rrrrrrrr}\n",
       "1 & 0 & 0 & 0 & 0 & 0 & 0 & 0 \\\\\n",
       "0 & 1 & 0 & 0 & 0 & 0 & 0 & 0 \\\\\n",
       "0 & 0 & 1 & 0 & 0 & 0 & 0 & 0 \\\\\n",
       "0 & 0 & 0 & 1 & 0 & 0 & 0 & 0 \\\\\n",
       "0 & 0 & 0 & 0 & 1 & 0 & 0 & 0 \\\\\n",
       "0 & 0 & 0 & 0 & 0 & 1 & 0 & 0 \\\\\n",
       "0 & 0 & 0 & 0 & 0 & 0 & 1 & 0 \\\\\n",
       "0 & 0 & 0 & 0 & 0 & 0 & 0 & 1\n",
       "\\end{array}\\right)$"
      ],
      "text/plain": [
       "[1 0 0 0 0 0 0 0]\n",
       "[0 1 0 0 0 0 0 0]\n",
       "[0 0 1 0 0 0 0 0]\n",
       "[0 0 0 1 0 0 0 0]\n",
       "[0 0 0 0 1 0 0 0]\n",
       "[0 0 0 0 0 1 0 0]\n",
       "[0 0 0 0 0 0 1 0]\n",
       "[0 0 0 0 0 0 0 1]"
      ]
     },
     "execution_count": 55,
     "metadata": {},
     "output_type": "execute_result"
    }
   ],
   "source": [
    "# The Wootters kernel is normalized\n",
    "op = zero_matrix(SR, 2^N, 2^N)\n",
    "for a in F:\n",
    "    for b in F:\n",
    "        op += Wootters2(a, b)\n",
    "op / 8"
   ]
  },
  {
   "cell_type": "code",
   "execution_count": 66,
   "id": "1aa1c0ef-c8fa-49ca-ac22-03cf0dda922c",
   "metadata": {},
   "outputs": [],
   "source": [
    "# hermitian\n",
    "for a in F:\n",
    "    for b in F:\n",
    "        if Wootters2(a, b) != Wootters2(a, b).conjugate_transpose():\n",
    "            raise Exception('Not Hermitian!')"
   ]
  },
  {
   "cell_type": "code",
   "execution_count": 68,
   "id": "98552f93-9609-4182-946e-a2b88bd614f6",
   "metadata": {},
   "outputs": [
    {
     "data": {
      "text/html": [
       "<html>\\(\\displaystyle 0\\)</html>"
      ],
      "text/latex": [
       "$\\displaystyle 0$"
      ],
      "text/plain": [
       "0"
      ]
     },
     "execution_count": 68,
     "metadata": {},
     "output_type": "execute_result"
    }
   ],
   "source": [
    "# Hilbert-Schmidt orthogonality\n",
    "(Wootters2(x^5 + 1, x + 1) * Wootters2(x, x + 1).conjugate_transpose()).trace() / 2^N"
   ]
  },
  {
   "cell_type": "code",
   "execution_count": 70,
   "id": "721dc385-077e-462f-99a4-bd0103dce72f",
   "metadata": {},
   "outputs": [],
   "source": [
    "# Covariance\n",
    "alpha = x^3\n",
    "beta  = 0\n",
    "for a in F:\n",
    "    for b in F:\n",
    "        if D2(a, b) * Wootters2(alpha, beta) * D2(a, b).conjugate_transpose() != Wootters2(alpha + a, beta + b):\n",
    "            raise Exception('Not translationally covariant for ({}, {})!'.format(alpha, beta))"
   ]
  },
  {
   "cell_type": "code",
   "execution_count": 60,
   "id": "5dfebe24-7199-486d-90db-9073897e1bc5",
   "metadata": {},
   "outputs": [],
   "source": [
    "ghz = vector(Id[:,0] + Id[:,-1])/sqrt(2)\n",
    "W = WignerMatrix(Proj(ghz), kernel=Wootters2).apply_map(lambda t: float(t))"
   ]
  },
  {
   "cell_type": "code",
   "execution_count": 61,
   "id": "29ab4e8d-e2bb-48b0-9b6f-97c97a2e69f1",
   "metadata": {},
   "outputs": [
    {
     "data": {
      "text/html": [
       "<html>\\(\\displaystyle \\verb|AxesImage(size=(8,|\\verb| |\\verb|8))|\\)</html>"
      ],
      "text/latex": [
       "$\\displaystyle \\verb|AxesImage(size=(8,|\\verb| |\\verb|8))|$"
      ],
      "text/plain": [
       "<matplotlib.image.AxesImage object at 0x173fabd90>"
      ]
     },
     "execution_count": 61,
     "metadata": {},
     "output_type": "execute_result"
    },
    {
     "data": {
      "image/png": "[encoded data removed]",
      "text/plain": [
       "<Figure size 200x200 with 1 Axes>"
      ]
     },
     "metadata": {},
     "output_type": "display_data"
    }
   ],
   "source": [
    "plt.imshow(W.transpose(), origin='lower')"
   ]
  },
  {
   "cell_type": "code",
   "execution_count": 62,
   "id": "e5c346c8-0ed0-4ef5-ae87-af30d68ebd1b",
   "metadata": {},
   "outputs": [
    {
     "data": {
      "text/html": [
       "<html>\\(\\displaystyle \\verb|AxesImage(size=(8,|\\verb| |\\verb|8))|\\)</html>"
      ],
      "text/latex": [
       "$\\displaystyle \\verb|AxesImage(size=(8,|\\verb| |\\verb|8))|$"
      ],
      "text/plain": [
       "<matplotlib.image.AxesImage object at 0x17d3ddf10>"
      ]
     },
     "execution_count": 62,
     "metadata": {},
     "output_type": "execute_result"
    },
    {
     "data": {
      "image/png": "[encoded data removed]",
      "text/plain": [
       "<Figure size 200x200 with 1 Axes>"
      ]
     },
     "metadata": {},
     "output_type": "display_data"
    }
   ],
   "source": [
    "W = WignerMatrix(Proj(vector(mubs[3][:,0])), kernel=Wootters2).apply_map(lambda t: float(t))\n",
    "plt.imshow(W.transpose(), origin='lower')"
   ]
  },
  {
   "cell_type": "markdown",
   "id": "58cc8dfa-c9b6-4569-848b-ffa1029f2168",
   "metadata": {},
   "source": [
    "Now for the moment of truth, the test of *universality*. We must locate an eigenvector of one set of MUBs that is *not* in the other set. This should be easy to do since the straight lines MUBs do not produce bi-factorizable states, while the $(2,3,4)$ has three sets of this type."
   ]
  },
  {
   "cell_type": "code",
   "execution_count": 90,
   "id": "0527338d-94c0-4ccc-874b-2c985b1717e4",
   "metadata": {},
   "outputs": [
    {
     "data": {
      "text/html": [
       "<html>\\(\\displaystyle \\verb|AxesImage(size=(8,|\\verb| |\\verb|8))|\\)</html>"
      ],
      "text/latex": [
       "$\\displaystyle \\verb|AxesImage(size=(8,|\\verb| |\\verb|8))|$"
      ],
      "text/plain": [
       "<matplotlib.image.AxesImage object at 0x181678190>"
      ]
     },
     "execution_count": 90,
     "metadata": {},
     "output_type": "execute_result"
    },
    {
     "data": {
      "image/png": "[encoded data removed]",
      "text/plain": [
       "<Figure size 200x200 with 1 Axes>"
      ]
     },
     "metadata": {},
     "output_type": "display_data"
    }
   ],
   "source": [
    "# recall that V is the straight line rotation operator\n",
    "W = WignerMatrix(Proj(vector(V(x+1)[:,7])), kernel=Wootters2).apply_map(lambda t: float(t))\n",
    "plt.imshow(W.transpose(), origin='lower')"
   ]
  },
  {
   "cell_type": "markdown",
   "id": "057ce52b-6ecd-4925-80be-ed548af72708",
   "metadata": {},
   "source": [
    "Let's find out how many vectors from the straight line MUBs are *not* present (modulo phase) in the $(2,3,4)$ MUBs."
   ]
  },
  {
   "cell_type": "code",
   "execution_count": 71,
   "id": "d29e8606-a963-481b-9698-d1bfa1c82076",
   "metadata": {},
   "outputs": [],
   "source": [
    "mubs306 = [FF] + [V(k) for k in F]\n",
    "mubs234 = [FF] + [V2(k) for k in F]"
   ]
  },
  {
   "cell_type": "code",
   "execution_count": 72,
   "id": "142c34fd-35be-42b9-9312-24fd88ae1ac2",
   "metadata": {},
   "outputs": [
    {
     "data": {
      "text/html": [
       "<html>\\(\\displaystyle \\mathrm{True}\\)</html>"
      ],
      "text/latex": [
       "$\\displaystyle \\mathrm{True}$"
      ],
      "text/plain": [
       "True"
      ]
     },
     "execution_count": 72,
     "metadata": {},
     "output_type": "execute_result"
    }
   ],
   "source": [
    "checkMUBs(mubs306)\n",
    "checkMUBs(mubs234)"
   ]
  },
  {
   "cell_type": "code",
   "execution_count": 74,
   "id": "a4ff54b2-ee90-42a3-9990-3ac361f594fa",
   "metadata": {},
   "outputs": [
    {
     "name": "stdout",
     "output_type": "stream",
     "text": [
      "MUB 0 of 306 is completely in 234\n",
      "MUB 1 of 306 is completely in 234\n",
      "MUB 4 of 306 is completely in 234\n"
     ]
    }
   ],
   "source": [
    "for i, b in enumerate(mubs306):\n",
    "    if b in mubs234:\n",
    "        print('MUB {} of 306 is completely in 234'.format(i))"
   ]
  },
  {
   "cell_type": "code",
   "execution_count": 77,
   "id": "2f11200e-8bcc-47c0-afc0-2105bbf5d747",
   "metadata": {},
   "outputs": [],
   "source": [
    "set_diff = []\n",
    "for b1 in mubs306:\n",
    "    for i in range(2^N):\n",
    "        v1 = b1[:,i]\n",
    "        set_diff.append(v1)\n",
    "        \n",
    "        for b2 in mubs234:\n",
    "            for j in range(2^N):\n",
    "                v2 = b2[:,j]\n",
    "                if v1 == v2 or v1 == I * v2 or v1 == (-I) * v2 or v1 == (-1) * v2:\n",
    "                    set_diff.pop(-1)\n",
    "                    break\n",
    "            else:\n",
    "                continue\n",
    "            break"
   ]
  },
  {
   "cell_type": "code",
   "execution_count": 80,
   "id": "fe42f502-a963-4e8b-9488-f66ff5827288",
   "metadata": {},
   "outputs": [
    {
     "data": {
      "text/html": [
       "<html>\\(\\displaystyle 48\\)</html>"
      ],
      "text/latex": [
       "$\\displaystyle 48$"
      ],
      "text/plain": [
       "48"
      ]
     },
     "execution_count": 80,
     "metadata": {},
     "output_type": "execute_result"
    }
   ],
   "source": [
    "len(set_diff)"
   ]
  },
  {
   "cell_type": "code",
   "execution_count": 92,
   "id": "9eddd39f-1604-4263-9d19-417b64a285aa",
   "metadata": {},
   "outputs": [
    {
     "data": {
      "text/html": [
       "<html>\\(\\displaystyle \\verb|AxesImage(size=(8,|\\verb| |\\verb|8))|\\)</html>"
      ],
      "text/latex": [
       "$\\displaystyle \\verb|AxesImage(size=(8,|\\verb| |\\verb|8))|$"
      ],
      "text/plain": [
       "<matplotlib.image.AxesImage object at 0x18190f610>"
      ]
     },
     "execution_count": 92,
     "metadata": {},
     "output_type": "execute_result"
    },
    {
     "data": {
      "image/png": "[encoded data removed]",
      "text/plain": [
       "<Figure size 200x200 with 1 Axes>"
      ]
     },
     "metadata": {},
     "output_type": "display_data"
    }
   ],
   "source": [
    "W = WignerMatrix(Proj(vector(set_diff[36])), kernel=Wootters2).apply_map(lambda t: float(t))\n",
    "plt.imshow(W.transpose(), origin='lower')"
   ]
  },
  {
   "cell_type": "markdown",
   "id": "d0f2e55a-9673-48ed-8c67-3396ec5ddf06",
   "metadata": {},
   "source": [
    "No universality! What about for stabilizer states."
   ]
  },
  {
   "cell_type": "code",
   "execution_count": 114,
   "id": "5a28481b-be3a-4826-9e29-264b968817c4",
   "metadata": {},
   "outputs": [
    {
     "data": {
      "text/html": [
       "<html>\\(\\displaystyle \\verb|AxesImage(size=(8,|\\verb| |\\verb|8))|\\)</html>"
      ],
      "text/latex": [
       "$\\displaystyle \\verb|AxesImage(size=(8,|\\verb| |\\verb|8))|$"
      ],
      "text/plain": [
       "<matplotlib.image.AxesImage object at 0x184a6b070>"
      ]
     },
     "execution_count": 114,
     "metadata": {},
     "output_type": "execute_result"
    },
    {
     "data": {
      "image/png": "[encoded data removed]",
      "text/plain": [
       "<Figure size 200x200 with 1 Axes>"
      ]
     },
     "metadata": {},
     "output_type": "display_data"
    }
   ],
   "source": [
    "W = WignerMatrix(Proj(vector(mubs306[5][:,0])), kernel=Wootters2).apply_map(lambda t: float(t))\n",
    "plt.imshow(W.transpose(), origin='lower')"
   ]
  },
  {
   "cell_type": "code",
   "execution_count": 115,
   "id": "d01f0915-f615-4821-aa0d-b2a95d82fd83",
   "metadata": {},
   "outputs": [
    {
     "data": {
      "text/html": [
       "<html>\\(\\displaystyle \\left(\\begin{array}{rrrrrrrr}\n",
       "-0.03125 & -0.03125 & 0.03125 & 0.03125 & 0.03125 & -0.03125 & 0.09375 & 0.03125 \\\\\n",
       "-0.03125 & 0.09375 & 0.03125 & 0.03125 & 0.03125 & -0.03125 & -0.03125 & 0.03125 \\\\\n",
       "0.09375 & -0.03125 & 0.03125 & 0.03125 & 0.03125 & -0.03125 & -0.03125 & 0.03125 \\\\\n",
       "0.03125 & 0.03125 & 0.09375 & -0.03125 & -0.03125 & 0.03125 & 0.03125 & -0.03125 \\\\\n",
       "-0.03125 & -0.03125 & 0.03125 & 0.03125 & 0.03125 & 0.09375 & -0.03125 & 0.03125 \\\\\n",
       "0.03125 & 0.03125 & -0.03125 & -0.03125 & -0.03125 & 0.03125 & 0.03125 & 0.09375 \\\\\n",
       "0.03125 & 0.03125 & -0.03125 & -0.03125 & 0.09375 & 0.03125 & 0.03125 & -0.03125 \\\\\n",
       "0.03125 & 0.03125 & -0.03125 & 0.09375 & -0.03125 & 0.03125 & 0.03125 & -0.03125\n",
       "\\end{array}\\right)\\)</html>"
      ],
      "text/latex": [
       "$\\displaystyle \\left(\\begin{array}{rrrrrrrr}\n",
       "-0.03125 & -0.03125 & 0.03125 & 0.03125 & 0.03125 & -0.03125 & 0.09375 & 0.03125 \\\\\n",
       "-0.03125 & 0.09375 & 0.03125 & 0.03125 & 0.03125 & -0.03125 & -0.03125 & 0.03125 \\\\\n",
       "0.09375 & -0.03125 & 0.03125 & 0.03125 & 0.03125 & -0.03125 & -0.03125 & 0.03125 \\\\\n",
       "0.03125 & 0.03125 & 0.09375 & -0.03125 & -0.03125 & 0.03125 & 0.03125 & -0.03125 \\\\\n",
       "-0.03125 & -0.03125 & 0.03125 & 0.03125 & 0.03125 & 0.09375 & -0.03125 & 0.03125 \\\\\n",
       "0.03125 & 0.03125 & -0.03125 & -0.03125 & -0.03125 & 0.03125 & 0.03125 & 0.09375 \\\\\n",
       "0.03125 & 0.03125 & -0.03125 & -0.03125 & 0.09375 & 0.03125 & 0.03125 & -0.03125 \\\\\n",
       "0.03125 & 0.03125 & -0.03125 & 0.09375 & -0.03125 & 0.03125 & 0.03125 & -0.03125\n",
       "\\end{array}\\right)$"
      ],
      "text/plain": [
       "[-0.03125 -0.03125  0.03125  0.03125  0.03125 -0.03125  0.09375  0.03125]\n",
       "[-0.03125  0.09375  0.03125  0.03125  0.03125 -0.03125 -0.03125  0.03125]\n",
       "[ 0.09375 -0.03125  0.03125  0.03125  0.03125 -0.03125 -0.03125  0.03125]\n",
       "[ 0.03125  0.03125  0.09375 -0.03125 -0.03125  0.03125  0.03125 -0.03125]\n",
       "[-0.03125 -0.03125  0.03125  0.03125  0.03125  0.09375 -0.03125  0.03125]\n",
       "[ 0.03125  0.03125 -0.03125 -0.03125 -0.03125  0.03125  0.03125  0.09375]\n",
       "[ 0.03125  0.03125 -0.03125 -0.03125  0.09375  0.03125  0.03125 -0.03125]\n",
       "[ 0.03125  0.03125 -0.03125  0.09375 -0.03125  0.03125  0.03125 -0.03125]"
      ]
     },
     "execution_count": 115,
     "metadata": {},
     "output_type": "execute_result"
    }
   ],
   "source": [
    "W"
   ]
  },
  {
   "cell_type": "markdown",
   "id": "e1104d11-78f4-48e3-bee1-43e8c5558bfe",
   "metadata": {},
   "source": [
    "No luck! What about the other way around? Use the $(3,0,6)$ kernel and see what Wigner function we get for the $(2,3,4)$ vectors."
   ]
  },
  {
   "cell_type": "code",
   "execution_count": 113,
   "id": "2b995125-d0bb-4a47-86e3-c77c28c4f3d0",
   "metadata": {},
   "outputs": [
    {
     "data": {
      "text/html": [
       "<html>\\(\\displaystyle \\verb|AxesImage(size=(8,|\\verb| |\\verb|8))|\\)</html>"
      ],
      "text/latex": [
       "$\\displaystyle \\verb|AxesImage(size=(8,|\\verb| |\\verb|8))|$"
      ],
      "text/plain": [
       "<matplotlib.image.AxesImage object at 0x184a633a0>"
      ]
     },
     "execution_count": 113,
     "metadata": {},
     "output_type": "execute_result"
    },
    {
     "data": {
      "image/png": "[encoded data removed]",
      "text/plain": [
       "<Figure size 200x200 with 1 Axes>"
      ]
     },
     "metadata": {},
     "output_type": "display_data"
    }
   ],
   "source": [
    "W = WignerMatrix(Proj(vector(mubs234[2][:,5])), kernel=Wootters).apply_map(lambda t: float(t))\n",
    "plt.imshow(W.transpose(), origin='lower')"
   ]
  },
  {
   "cell_type": "markdown",
   "id": "63eccafa-8b83-44e5-8da2-b36acc24d36c",
   "metadata": {},
   "source": [
    "All of the MUBs from the $(2,3,4)$ sets have non-negative Wigner functions under the $(3,0,6)$ kernel. What makes this kernel special? And how does it affect Dr. Sainz notion of universality?"
   ]
  },
  {
   "cell_type": "code",
   "execution_count": 123,
   "id": "cd4a0d8f-f9ac-41d5-a701-538b94f919f3",
   "metadata": {},
   "outputs": [],
   "source": [
    "def abs_inp(u, v):\n",
    "    u = vector(u)\n",
    "    v = vector(v)\n",
    "    return abs(u.conjugate() * v)^2"
   ]
  },
  {
   "cell_type": "code",
   "execution_count": 134,
   "id": "ae007359-b312-48dd-9ae8-758656363f42",
   "metadata": {},
   "outputs": [],
   "source": [
    "import numpy as np"
   ]
  },
  {
   "cell_type": "code",
   "execution_count": 148,
   "id": "27242afb-0c20-4070-8923-c20b1a1463fd",
   "metadata": {},
   "outputs": [],
   "source": [
    "mubs306n = [np.array(m, dtype='complex128') for m in mubs306]\n",
    "mubs234n = [np.array(m, dtype='complex128') for m in mubs234]"
   ]
  },
  {
   "cell_type": "code",
   "execution_count": null,
   "id": "815d9a10-9280-419b-855d-6370b4b9a86a",
   "metadata": {},
   "outputs": [],
   "source": []
  },
  {
   "cell_type": "code",
   "execution_count": 179,
   "id": "4c247387-63f1-4c4d-b79d-f6e43ec20901",
   "metadata": {},
   "outputs": [
    {
     "data": {
      "text/html": [
       "<html>\\(\\displaystyle \\verb|&lt;matplotlib.colorbar.Colorbar|\\verb| |\\verb|object|\\verb| |\\verb|at|\\verb| |\\verb|0x186f80ee0>|\\)</html>"
      ],
      "text/latex": [
       "$\\displaystyle \\verb|<matplotlib.colorbar.Colorbar|\\verb| |\\verb|object|\\verb| |\\verb|at|\\verb| |\\verb|0x186f80ee0>|$"
      ],
      "text/plain": [
       "<matplotlib.colorbar.Colorbar object at 0x186f80ee0>"
      ]
     },
     "execution_count": 179,
     "metadata": {},
     "output_type": "execute_result"
    },
    {
     "data": {
      "image/png": "[encoded data removed]",
      "text/plain": [
       "<Figure size 200x200 with 2 Axes>"
      ]
     },
     "metadata": {},
     "output_type": "display_data"
    }
   ],
   "source": [
    "plt.imshow(np.abs(mubs306n[6].conj().T @ mubs234n[2])**2)\n",
    "plt.colorbar()"
   ]
  },
  {
   "cell_type": "code",
   "execution_count": null,
   "id": "8aa8e2bd-6af9-4a2f-aca4-4ac765574ad4",
   "metadata": {},
   "outputs": [],
   "source": []
  }
 ],
 "metadata": {
  "kernelspec": {
   "display_name": "SageMath 9.8",
   "language": "sage",
   "name": "sagemath"
  },
  "language_info": {
   "codemirror_mode": {
    "name": "ipython",
    "version": 3
   },
   "file_extension": ".py",
   "mimetype": "text/x-python",
   "name": "python",
   "nbconvert_exporter": "python",
   "pygments_lexer": "ipython3",
   "version": "3.9.16"
  }
 },
 "nbformat": 4,
 "nbformat_minor": 5
}
