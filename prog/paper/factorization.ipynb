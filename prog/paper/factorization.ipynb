{
 "cells": [
  {
   "cell_type": "code",
   "execution_count": 4,
   "id": "7015d942-bb32-485d-9639-c255c331eb2c",
   "metadata": {},
   "outputs": [],
   "source": [
    "%display latex"
   ]
  },
  {
   "cell_type": "code",
   "execution_count": 5,
   "id": "c8d3e912-7afb-4346-abe1-46bda23a13d5",
   "metadata": {},
   "outputs": [],
   "source": [
    "N = 3\n",
    "F = GF(2^3, 'x')\n",
    "x = F.gen()\n",
    "\n",
    "basis = [x^3, x^5, x^6] # self-dual basis\n",
    "\n",
    "# express an element as a linear combination of the basis\n",
    "components = lambda k: [(k * el).trace() for el in basis]\n",
    "\n",
    "# additive group character\n",
    "chi = lambda k: exp(pi * I * int(k.trace()))\n",
    "\n",
    "def toInt(k):\n",
    "    return list(F).index(k)"
   ]
  },
  {
   "cell_type": "code",
   "execution_count": 6,
   "id": "7042808c-e201-4023-aac1-9b8b528c0575",
   "metadata": {},
   "outputs": [],
   "source": [
    "def powers(pts):\n",
    "    return [(toInt(p[0]), toInt(p[1])) for p in pts]"
   ]
  },
  {
   "cell_type": "code",
   "execution_count": 11,
   "id": "327ecbed-35b5-4e75-84a0-32fb1cafaa35",
   "metadata": {},
   "outputs": [],
   "source": [
    "def factorCurve(curve):\n",
    "    return [(components(a), components(curve(a))) for a in basis]"
   ]
  },
  {
   "cell_type": "code",
   "execution_count": 13,
   "id": "32104a16-b3a9-4f31-9b8f-226c7ede0298",
   "metadata": {},
   "outputs": [],
   "source": [
    "def decomposePoint(p):\n",
    "    acomps = components(p[0])\n",
    "    bcomps = components(p[1])\n",
    "    s = ''\n",
    "    for i in range(N):\n",
    "        if acomps[i] == 0 and bcomps[i] == 0:\n",
    "            s += '1'\n",
    "        elif acomps[i] == 1 and bcomps[i] == 0:\n",
    "            s += 'Z'\n",
    "        elif acomps[i] == 0 and bcomps[i] == 1:\n",
    "            s += 'X'\n",
    "        else:\n",
    "            s += 'Y'\n",
    "    return s\n",
    "\n",
    "def decomposePoints(points):\n",
    "    return [decomposePoint(p) for p in points]"
   ]
  },
  {
   "cell_type": "code",
   "execution_count": 14,
   "id": "5e7b1fcf-0c44-44fc-a5f3-40ab1945235a",
   "metadata": {},
   "outputs": [],
   "source": [
    "def Pts(curve):\n",
    "    return [(k, curve(k)) for k in F]"
   ]
  },
  {
   "cell_type": "markdown",
   "id": "0c7c8ff6-82ad-43ce-a297-05ec35e0d10c",
   "metadata": {},
   "source": [
    "Pauli matrices."
   ]
  },
  {
   "cell_type": "code",
   "execution_count": 38,
   "id": "d51c3c74-3462-443e-a136-3291a8dd4a97",
   "metadata": {},
   "outputs": [],
   "source": [
    "sx = Matrix([[0,1],[1,0]])\n",
    "sz = Matrix([[1,0],[0,-1]])\n",
    "sy = I * sx * sz"
   ]
  },
  {
   "cell_type": "markdown",
   "id": "6d2e4c79-d745-4967-b7b1-0d823f096563",
   "metadata": {},
   "source": [
    "Let's see the factorization of the $(3,0,6)$ abelian curves. First we have the curve given by\n",
    "$$\n",
    "\\beta = \\sigma \\alpha + \\sigma^2 \\alpha^2 + \\sigma \\alpha^4.\n",
    "$$"
   ]
  },
  {
   "cell_type": "code",
   "execution_count": 7,
   "id": "7dafb3df-1577-49b0-a1b9-f77dc63791a3",
   "metadata": {},
   "outputs": [],
   "source": [
    "curve = lambda a: x * a + x^2 * a^2 + x * a^4"
   ]
  },
  {
   "cell_type": "code",
   "execution_count": 8,
   "id": "a29b614a-94d6-4f4c-9e60-7e144b8d5a01",
   "metadata": {},
   "outputs": [
    {
     "data": {
      "text/html": [
       "<html>\\(\\displaystyle \\left[\\left(0, 0\\right), \\left(x, x^{2} + 1\\right), \\left(x^{2}, x\\right), \\left(x + 1, 1\\right), \\left(x^{2} + x, x^{2} + x + 1\\right), \\left(x^{2} + x + 1, x + 1\\right), \\left(x^{2} + 1, x^{2} + x\\right), \\left(1, x^{2}\\right)\\right]\\)</html>"
      ],
      "text/latex": [
       "$\\displaystyle \\left[\\left(0, 0\\right), \\left(x, x^{2} + 1\\right), \\left(x^{2}, x\\right), \\left(x + 1, 1\\right), \\left(x^{2} + x, x^{2} + x + 1\\right), \\left(x^{2} + x + 1, x + 1\\right), \\left(x^{2} + 1, x^{2} + x\\right), \\left(1, x^{2}\\right)\\right]$"
      ],
      "text/plain": [
       "[(0, 0),\n",
       " (x, x^2 + 1),\n",
       " (x^2, x),\n",
       " (x + 1, 1),\n",
       " (x^2 + x, x^2 + x + 1),\n",
       " (x^2 + x + 1, x + 1),\n",
       " (x^2 + 1, x^2 + x),\n",
       " (1, x^2)]"
      ]
     },
     "execution_count": 8,
     "metadata": {},
     "output_type": "execute_result"
    }
   ],
   "source": [
    "[(a, curve(a)) for a in F]"
   ]
  },
  {
   "cell_type": "code",
   "execution_count": 9,
   "id": "94adb643-e83d-430d-a820-741816c2864e",
   "metadata": {},
   "outputs": [
    {
     "data": {
      "text/html": [
       "<html>\\(\\displaystyle \\left[\\left(0, 0\\right), \\left(1, 6\\right), \\left(2, 1\\right), \\left(3, 7\\right), \\left(4, 5\\right), \\left(5, 3\\right), \\left(6, 4\\right), \\left(7, 2\\right)\\right]\\)</html>"
      ],
      "text/latex": [
       "$\\displaystyle \\left[\\left(0, 0\\right), \\left(1, 6\\right), \\left(2, 1\\right), \\left(3, 7\\right), \\left(4, 5\\right), \\left(5, 3\\right), \\left(6, 4\\right), \\left(7, 2\\right)\\right]$"
      ],
      "text/plain": [
       "[(0, 0), (1, 6), (2, 1), (3, 7), (4, 5), (5, 3), (6, 4), (7, 2)]"
      ]
     },
     "execution_count": 9,
     "metadata": {},
     "output_type": "execute_result"
    }
   ],
   "source": [
    "powers([(a, curve(a)) for a in F])"
   ]
  },
  {
   "cell_type": "code",
   "execution_count": 10,
   "id": "3a73a11e-dcab-4085-a125-00d963d9b8fc",
   "metadata": {},
   "outputs": [
    {
     "data": {
      "text/html": [
       "<html>\\(\\displaystyle \\left[\\left(3, 7\\right), \\left(5, 3\\right), \\left(6, 4\\right)\\right]\\)</html>"
      ],
      "text/latex": [
       "$\\displaystyle \\left[\\left(3, 7\\right), \\left(5, 3\\right), \\left(6, 4\\right)\\right]$"
      ],
      "text/plain": [
       "[(3, 7), (5, 3), (6, 4)]"
      ]
     },
     "execution_count": 10,
     "metadata": {},
     "output_type": "execute_result"
    }
   ],
   "source": [
    "powers([(a, curve(a)) for a in basis])"
   ]
  },
  {
   "cell_type": "code",
   "execution_count": 12,
   "id": "31392110-05a3-4bfa-8674-50350138ecc0",
   "metadata": {},
   "outputs": [
    {
     "data": {
      "text/html": [
       "<html>\\(\\displaystyle \\left[\\left(\\left[1, 0, 0\\right], \\left[1, 1, 1\\right]\\right), \\left(\\left[0, 1, 0\\right], \\left[1, 0, 0\\right]\\right), \\left(\\left[0, 0, 1\\right], \\left[1, 0, 1\\right]\\right)\\right]\\)</html>"
      ],
      "text/latex": [
       "$\\displaystyle \\left[\\left(\\left[1, 0, 0\\right], \\left[1, 1, 1\\right]\\right), \\left(\\left[0, 1, 0\\right], \\left[1, 0, 0\\right]\\right), \\left(\\left[0, 0, 1\\right], \\left[1, 0, 1\\right]\\right)\\right]$"
      ],
      "text/plain": [
       "[([1, 0, 0], [1, 1, 1]), ([0, 1, 0], [1, 0, 0]), ([0, 0, 1], [1, 0, 1])]"
      ]
     },
     "execution_count": 12,
     "metadata": {},
     "output_type": "execute_result"
    }
   ],
   "source": [
    "factorCurve(curve)"
   ]
  },
  {
   "cell_type": "code",
   "execution_count": 16,
   "id": "22d86991-ceec-4aa7-ad7a-284a3b6c858c",
   "metadata": {},
   "outputs": [
    {
     "data": {
      "text/html": [
       "<html>\\(\\displaystyle \\left[\\verb|YXX|, \\verb|XZ1|, \\verb|X1Y|\\right]\\)</html>"
      ],
      "text/latex": [
       "$\\displaystyle \\left[\\verb|YXX|, \\verb|XZ1|, \\verb|X1Y|\\right]$"
      ],
      "text/plain": [
       "['YXX', 'XZ1', 'X1Y']"
      ]
     },
     "execution_count": 16,
     "metadata": {},
     "output_type": "execute_result"
    }
   ],
   "source": [
    "decomposePoints([(k,curve(k)) for k in basis])"
   ]
  },
  {
   "cell_type": "markdown",
   "id": "a3fe9e23-b101-409e-854d-2205a0af71c4",
   "metadata": {},
   "source": [
    "The factorization of this curve is $\\{3\\}$, it is not factorizable.\n",
    "\n",
    "Now for the curve:\n",
    "$$\n",
    "\\beta = \\sigma^2 \\alpha + \\sigma^2 \\alpha^2 + \\sigma \\alpha^4.\n",
    "$$"
   ]
  },
  {
   "cell_type": "code",
   "execution_count": 20,
   "id": "b0f1616d-67cd-45e3-acf9-03cd45f3bbe4",
   "metadata": {},
   "outputs": [],
   "source": [
    "curve = lambda a: x^2 * a + x^2 * a^2 + x * a^4"
   ]
  },
  {
   "cell_type": "code",
   "execution_count": 21,
   "id": "92fd3680-0d7c-4d7d-bdf1-f7c78845b858",
   "metadata": {},
   "outputs": [
    {
     "data": {
      "text/html": [
       "<html>\\(\\displaystyle \\left[\\left(3, 0\\right), \\left(5, 5\\right), \\left(6, 6\\right)\\right]\\)</html>"
      ],
      "text/latex": [
       "$\\displaystyle \\left[\\left(3, 0\\right), \\left(5, 5\\right), \\left(6, 6\\right)\\right]$"
      ],
      "text/plain": [
       "[(3, 0), (5, 5), (6, 6)]"
      ]
     },
     "execution_count": 21,
     "metadata": {},
     "output_type": "execute_result"
    }
   ],
   "source": [
    "powers([(a,curve(a)) for a in basis])"
   ]
  },
  {
   "cell_type": "code",
   "execution_count": 22,
   "id": "91d8a49b-8aec-40be-80b5-8607d266c597",
   "metadata": {},
   "outputs": [
    {
     "data": {
      "text/html": [
       "<html>\\(\\displaystyle \\left[\\left(\\left[1, 0, 0\\right], \\left[0, 0, 0\\right]\\right), \\left(\\left[0, 1, 0\\right], \\left[0, 1, 0\\right]\\right), \\left(\\left[0, 0, 1\\right], \\left[0, 0, 1\\right]\\right)\\right]\\)</html>"
      ],
      "text/latex": [
       "$\\displaystyle \\left[\\left(\\left[1, 0, 0\\right], \\left[0, 0, 0\\right]\\right), \\left(\\left[0, 1, 0\\right], \\left[0, 1, 0\\right]\\right), \\left(\\left[0, 0, 1\\right], \\left[0, 0, 1\\right]\\right)\\right]$"
      ],
      "text/plain": [
       "[([1, 0, 0], [0, 0, 0]), ([0, 1, 0], [0, 1, 0]), ([0, 0, 1], [0, 0, 1])]"
      ]
     },
     "execution_count": 22,
     "metadata": {},
     "output_type": "execute_result"
    }
   ],
   "source": [
    "factorCurve(curve)"
   ]
  },
  {
   "cell_type": "code",
   "execution_count": 24,
   "id": "8f5130e2-7519-4055-bf91-f3d1b6bf4a85",
   "metadata": {},
   "outputs": [
    {
     "data": {
      "text/html": [
       "<html>\\(\\displaystyle \\left[\\verb|Z11|, \\verb|1Y1|, \\verb|11Y|\\right]\\)</html>"
      ],
      "text/latex": [
       "$\\displaystyle \\left[\\verb|Z11|, \\verb|1Y1|, \\verb|11Y|\\right]$"
      ],
      "text/plain": [
       "['Z11', '1Y1', '11Y']"
      ]
     },
     "execution_count": 24,
     "metadata": {},
     "output_type": "execute_result"
    }
   ],
   "source": [
    "decomposePoints([(k,curve(k)) for k in basis])"
   ]
  },
  {
   "cell_type": "markdown",
   "id": "9087c7c3-8186-4fdb-891e-341b2475eeea",
   "metadata": {},
   "source": [
    "It is easy to see that this factorization is $\\{1,1,1\\}$.\n",
    "\n",
    "Now for the curve:\n",
    "$$\n",
    "\\beta = \\sigma^3 \\alpha + \\sigma^2 \\alpha^2 + \\sigma \\alpha^4.\n",
    "$$"
   ]
  },
  {
   "cell_type": "code",
   "execution_count": 25,
   "id": "d7269433-49ec-4f6c-b0cb-72964885190a",
   "metadata": {},
   "outputs": [],
   "source": [
    "curve = lambda a: x^3 * a + x^2 * a^2 + x * a^4"
   ]
  },
  {
   "cell_type": "code",
   "execution_count": 26,
   "id": "8fb3536e-8bd6-444f-83ac-57a02c87cf6c",
   "metadata": {},
   "outputs": [
    {
     "data": {
      "text/html": [
       "<html>\\(\\displaystyle \\left[\\left(3, 1\\right), \\left(5, 2\\right), \\left(6, 3\\right)\\right]\\)</html>"
      ],
      "text/latex": [
       "$\\displaystyle \\left[\\left(3, 1\\right), \\left(5, 2\\right), \\left(6, 3\\right)\\right]$"
      ],
      "text/plain": [
       "[(3, 1), (5, 2), (6, 3)]"
      ]
     },
     "execution_count": 26,
     "metadata": {},
     "output_type": "execute_result"
    }
   ],
   "source": [
    "powers([(a,curve(a)) for a in basis])"
   ]
  },
  {
   "cell_type": "code",
   "execution_count": 27,
   "id": "7fe15cd6-ff84-4dd7-ade5-0738992a9355",
   "metadata": {},
   "outputs": [
    {
     "data": {
      "text/html": [
       "<html>\\(\\displaystyle \\left[\\left(\\left[1, 0, 0\\right], \\left[0, 1, 1\\right]\\right), \\left(\\left[0, 1, 0\\right], \\left[1, 1, 0\\right]\\right), \\left(\\left[0, 0, 1\\right], \\left[1, 0, 0\\right]\\right)\\right]\\)</html>"
      ],
      "text/latex": [
       "$\\displaystyle \\left[\\left(\\left[1, 0, 0\\right], \\left[0, 1, 1\\right]\\right), \\left(\\left[0, 1, 0\\right], \\left[1, 1, 0\\right]\\right), \\left(\\left[0, 0, 1\\right], \\left[1, 0, 0\\right]\\right)\\right]$"
      ],
      "text/plain": [
       "[([1, 0, 0], [0, 1, 1]), ([0, 1, 0], [1, 1, 0]), ([0, 0, 1], [1, 0, 0])]"
      ]
     },
     "execution_count": 27,
     "metadata": {},
     "output_type": "execute_result"
    }
   ],
   "source": [
    "factorCurve(curve)"
   ]
  },
  {
   "cell_type": "code",
   "execution_count": 32,
   "id": "d3a48348-7235-4206-87ec-7849d9503be4",
   "metadata": {},
   "outputs": [
    {
     "data": {
      "text/html": [
       "<html>\\(\\displaystyle \\left[\\verb|Y11|, \\verb|1Z1|, \\verb|11Z|\\right]\\)</html>"
      ],
      "text/latex": [
       "$\\displaystyle \\left[\\verb|Y11|, \\verb|1Z1|, \\verb|11Z|\\right]$"
      ],
      "text/plain": [
       "['Y11', '1Z1', '11Z']"
      ]
     },
     "execution_count": 32,
     "metadata": {},
     "output_type": "execute_result"
    }
   ],
   "source": [
    "decomposePoints([(k,curve(k)) for k in basis])"
   ]
  },
  {
   "cell_type": "markdown",
   "id": "4ce05949-053e-4848-ae7c-233f8a58b864",
   "metadata": {},
   "source": [
    "This curve has factorization $\\{3\\}$. Now for the last curve:\n",
    "$$\n",
    "\\beta = \\sigma^6 \\alpha + \\sigma^2 \\alpha^2 + \\sigma \\alpha^4.\n",
    "$$"
   ]
  },
  {
   "cell_type": "code",
   "execution_count": 33,
   "id": "28d2be88-c5d8-4633-a2c6-51de0c189746",
   "metadata": {},
   "outputs": [],
   "source": [
    "curve = lambda a: x^6 * a + x^2 * a^2 + x * a^4"
   ]
  },
  {
   "cell_type": "code",
   "execution_count": 34,
   "id": "6db244a7-9d93-49ab-975b-72f490e0eb49",
   "metadata": {},
   "outputs": [
    {
     "data": {
      "text/html": [
       "<html>\\(\\displaystyle \\left[\\left(3, 3\\right), \\left(5, 0\\right), \\left(6, 0\\right)\\right]\\)</html>"
      ],
      "text/latex": [
       "$\\displaystyle \\left[\\left(3, 3\\right), \\left(5, 0\\right), \\left(6, 0\\right)\\right]$"
      ],
      "text/plain": [
       "[(3, 3), (5, 0), (6, 0)]"
      ]
     },
     "execution_count": 34,
     "metadata": {},
     "output_type": "execute_result"
    }
   ],
   "source": [
    "powers([(a,curve(a)) for a in basis])"
   ]
  },
  {
   "cell_type": "code",
   "execution_count": 35,
   "id": "8051263f-acfb-449e-a90c-a905bac3d575",
   "metadata": {},
   "outputs": [
    {
     "data": {
      "text/html": [
       "<html>\\(\\displaystyle \\left[\\left(\\left[1, 0, 0\\right], \\left[1, 0, 0\\right]\\right), \\left(\\left[0, 1, 0\\right], \\left[0, 0, 0\\right]\\right), \\left(\\left[0, 0, 1\\right], \\left[0, 0, 0\\right]\\right)\\right]\\)</html>"
      ],
      "text/latex": [
       "$\\displaystyle \\left[\\left(\\left[1, 0, 0\\right], \\left[1, 0, 0\\right]\\right), \\left(\\left[0, 1, 0\\right], \\left[0, 0, 0\\right]\\right), \\left(\\left[0, 0, 1\\right], \\left[0, 0, 0\\right]\\right)\\right]$"
      ],
      "text/plain": [
       "[([1, 0, 0], [1, 0, 0]), ([0, 1, 0], [0, 0, 0]), ([0, 0, 1], [0, 0, 0])]"
      ]
     },
     "execution_count": 35,
     "metadata": {},
     "output_type": "execute_result"
    }
   ],
   "source": [
    "factorCurve(curve)"
   ]
  },
  {
   "cell_type": "code",
   "execution_count": 36,
   "id": "36e7b171-9e90-418d-ba05-49c4c829c380",
   "metadata": {},
   "outputs": [
    {
     "data": {
      "text/html": [
       "<html>\\(\\displaystyle \\left[\\verb|Y11|, \\verb|1Z1|, \\verb|11Z|\\right]\\)</html>"
      ],
      "text/latex": [
       "$\\displaystyle \\left[\\verb|Y11|, \\verb|1Z1|, \\verb|11Z|\\right]$"
      ],
      "text/plain": [
       "['Y11', '1Z1', '11Z']"
      ]
     },
     "execution_count": 36,
     "metadata": {},
     "output_type": "execute_result"
    }
   ],
   "source": [
    "decomposePoints([(k,curve(k)) for k in basis])"
   ]
  },
  {
   "cell_type": "markdown",
   "id": "42d55d17-702d-4d5e-b764-974063c06717",
   "metadata": {},
   "source": [
    "This last curve has factorization $\\{1,1,1\\}$."
   ]
  },
  {
   "cell_type": "markdown",
   "id": "d0cd839f-42e7-4d7a-9663-90d8442c69d3",
   "metadata": {},
   "source": [
    "Now for the the $(1,6,2)$ curves for $(\\phi = \\sigma^3)$. We only have two, first:\n",
    "$$\n",
    "\\beta = \\sigma^6 \\alpha^2 + \\sigma^3 \\alpha^4.\n",
    "$$"
   ]
  },
  {
   "cell_type": "code",
   "execution_count": 43,
   "id": "2354dbea-3f0c-4091-ac9a-ae2e17ed1d43",
   "metadata": {},
   "outputs": [
    {
     "data": {
      "text/html": [
       "<html>\\(\\displaystyle \\left[\\left(3, 6\\right), \\left(5, 0\\right), \\left(6, 3\\right)\\right]\\)</html>"
      ],
      "text/latex": [
       "$\\displaystyle \\left[\\left(3, 6\\right), \\left(5, 0\\right), \\left(6, 3\\right)\\right]$"
      ],
      "text/plain": [
       "[(3, 6), (5, 0), (6, 3)]"
      ]
     },
     "execution_count": 43,
     "metadata": {},
     "output_type": "execute_result"
    }
   ],
   "source": [
    "curve = lambda a: x^6 * a^2 + x^3 * a^4\n",
    "powers([(a, curve(a)) for a in basis])"
   ]
  },
  {
   "cell_type": "code",
   "execution_count": 47,
   "id": "3b02eb6a-54d0-4525-bd29-243abcb62bbe",
   "metadata": {},
   "outputs": [
    {
     "data": {
      "text/html": [
       "<html>\\(\\displaystyle \\left[\\left(\\left[1, 0, 0\\right], \\left[0, 0, 1\\right]\\right), \\left(\\left[0, 1, 0\\right], \\left[0, 0, 0\\right]\\right), \\left(\\left[0, 0, 1\\right], \\left[1, 0, 0\\right]\\right)\\right]\\)</html>"
      ],
      "text/latex": [
       "$\\displaystyle \\left[\\left(\\left[1, 0, 0\\right], \\left[0, 0, 1\\right]\\right), \\left(\\left[0, 1, 0\\right], \\left[0, 0, 0\\right]\\right), \\left(\\left[0, 0, 1\\right], \\left[1, 0, 0\\right]\\right)\\right]$"
      ],
      "text/plain": [
       "[([1, 0, 0], [0, 0, 1]), ([0, 1, 0], [0, 0, 0]), ([0, 0, 1], [1, 0, 0])]"
      ]
     },
     "execution_count": 47,
     "metadata": {},
     "output_type": "execute_result"
    }
   ],
   "source": [
    "factorCurve(curve)"
   ]
  },
  {
   "cell_type": "markdown",
   "id": "2f043b84-e7aa-4b82-a2cb-95170bd5f94b",
   "metadata": {},
   "source": [
    "We obtain a factorization of $\\{3\\}$. \n",
    "\n",
    "Now for the curve:\n",
    "$$\n",
    "\\beta = \\alpha + \\sigma^6 \\alpha^2 + \\sigma^3 \\alpha^4.\n",
    "$$"
   ]
  },
  {
   "cell_type": "code",
   "execution_count": 35,
   "id": "006ac1f0-1aff-4496-86fc-49606e2fecf1",
   "metadata": {},
   "outputs": [
    {
     "data": {
      "text/html": [
       "<html>\\(\\displaystyle \\left[\\left(3, 4\\right), \\left(5, 5\\right), \\left(6, 4\\right)\\right]\\)</html>"
      ],
      "text/latex": [
       "$\\displaystyle \\left[\\left(3, 4\\right), \\left(5, 5\\right), \\left(6, 4\\right)\\right]$"
      ],
      "text/plain": [
       "[(3, 4), (5, 5), (6, 4)]"
      ]
     },
     "execution_count": 35,
     "metadata": {},
     "output_type": "execute_result"
    }
   ],
   "source": [
    "curve = lambda a: a + x^6 * a^2 + x^3 * a^4\n",
    "powers([(a, curve(a)) for a in basis])"
   ]
  },
  {
   "cell_type": "code",
   "execution_count": 36,
   "id": "69174880-3053-42a1-b1b9-6eb527d37761",
   "metadata": {},
   "outputs": [
    {
     "data": {
      "text/html": [
       "<html>\\(\\displaystyle \\left[\\left(\\left[1, 0, 0\\right], \\left[1, 0, 1\\right]\\right), \\left(\\left[0, 1, 0\\right], \\left[0, 1, 0\\right]\\right), \\left(\\left[0, 0, 1\\right], \\left[1, 0, 1\\right]\\right)\\right]\\)</html>"
      ],
      "text/latex": [
       "$\\displaystyle \\left[\\left(\\left[1, 0, 0\\right], \\left[1, 0, 1\\right]\\right), \\left(\\left[0, 1, 0\\right], \\left[0, 1, 0\\right]\\right), \\left(\\left[0, 0, 1\\right], \\left[1, 0, 1\\right]\\right)\\right]$"
      ],
      "text/plain": [
       "[([1, 0, 0], [1, 0, 1]), ([0, 1, 0], [0, 1, 0]), ([0, 0, 1], [1, 0, 1])]"
      ]
     },
     "execution_count": 36,
     "metadata": {},
     "output_type": "execute_result"
    }
   ],
   "source": [
    "factorCurve(curve)"
   ]
  },
  {
   "cell_type": "markdown",
   "id": "f52ad3a9-2430-4da7-a9b4-6efb2ba8f1d3",
   "metadata": {},
   "source": [
    "Again we obtain a non-factorizable curve $\\{3\\}$."
   ]
  },
  {
   "cell_type": "markdown",
   "id": "490f6d89-c3ca-49b0-99c0-77f23e402a91",
   "metadata": {},
   "source": [
    "Finally we study the $(2,3,4)$ factorization curves. We only have one such non-trivial abelian curve:\n",
    "$$\n",
    "\\beta = \\sigma \\alpha + \\sigma^2 \\alpha^2 + \\sigma \\alpha^4.\n",
    "$$\n",
    "But this curve belongs to the first set of $(3,0,6)$ abelian curves, which we found was not factorizable $\\{3\\}$."
   ]
  },
  {
   "cell_type": "code",
   "execution_count": 44,
   "id": "52c563d4-7a3c-4a11-9356-b2239660238e",
   "metadata": {},
   "outputs": [],
   "source": [
    "pts090_3 = [(x^3,x^6), (x^5,F(0)), (x^6,x^3)]"
   ]
  },
  {
   "cell_type": "code",
   "execution_count": 45,
   "id": "809e9055-6c41-4971-8ee3-da4a97d5dd63",
   "metadata": {},
   "outputs": [
    {
     "data": {
      "text/html": [
       "<html>\\(\\displaystyle \\left[\\left(3, 6\\right), \\left(5, 0\\right), \\left(6, 3\\right)\\right]\\)</html>"
      ],
      "text/latex": [
       "$\\displaystyle \\left[\\left(3, 6\\right), \\left(5, 0\\right), \\left(6, 3\\right)\\right]$"
      ],
      "text/plain": [
       "[(3, 6), (5, 0), (6, 3)]"
      ]
     },
     "execution_count": 45,
     "metadata": {},
     "output_type": "execute_result"
    }
   ],
   "source": [
    "powers(pts090_3)"
   ]
  },
  {
   "cell_type": "code",
   "execution_count": 46,
   "id": "511e1798-5528-4305-a40d-c9d4808bae22",
   "metadata": {},
   "outputs": [
    {
     "data": {
      "text/html": [
       "<html>\\(\\displaystyle \\left[\\left(\\left[1, 0, 0\\right], \\left[0, 0, 1\\right]\\right), \\left(\\left[0, 1, 0\\right], \\left[0, 0, 0\\right]\\right), \\left(\\left[0, 0, 1\\right], \\left[1, 0, 0\\right]\\right)\\right]\\)</html>"
      ],
      "text/latex": [
       "$\\displaystyle \\left[\\left(\\left[1, 0, 0\\right], \\left[0, 0, 1\\right]\\right), \\left(\\left[0, 1, 0\\right], \\left[0, 0, 0\\right]\\right), \\left(\\left[0, 0, 1\\right], \\left[1, 0, 0\\right]\\right)\\right]$"
      ],
      "text/plain": [
       "[([1, 0, 0], [0, 0, 1]), ([0, 1, 0], [0, 0, 0]), ([0, 0, 1], [1, 0, 0])]"
      ]
     },
     "execution_count": 46,
     "metadata": {},
     "output_type": "execute_result"
    }
   ],
   "source": [
    "[(components(a), components(curve(a))) for a, b in pts090_3]"
   ]
  },
  {
   "cell_type": "code",
   "execution_count": null,
   "id": "45293cd5-60cf-42de-a64f-53a1d3cbd04e",
   "metadata": {},
   "outputs": [],
   "source": []
  }
 ],
 "metadata": {
  "kernelspec": {
   "display_name": "SageMath 9.8",
   "language": "sage",
   "name": "sagemath"
  },
  "language_info": {
   "codemirror_mode": {
    "name": "ipython",
    "version": 3
   },
   "file_extension": ".py",
   "mimetype": "text/x-python",
   "name": "python",
   "nbconvert_exporter": "python",
   "pygments_lexer": "ipython3",
   "version": "3.9.16"
  }
 },
 "nbformat": 4,
 "nbformat_minor": 5
}
