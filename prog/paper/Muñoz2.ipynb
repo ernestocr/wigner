{
 "cells": [
  {
   "cell_type": "code",
   "execution_count": 1,
   "id": "7205aa03-0a03-4d79-a4cf-bf93abc55cc8",
   "metadata": {},
   "outputs": [],
   "source": [
    "%display latex"
   ]
  },
  {
   "cell_type": "code",
   "execution_count": 2,
   "id": "e2c40622-e834-4771-b381-2d172091c70a",
   "metadata": {},
   "outputs": [],
   "source": [
    "%load_ext autoreload\n",
    "%autoreload 2"
   ]
  },
  {
   "cell_type": "markdown",
   "id": "843074e3-b6ed-4143-acb0-a49c2f7fb60b",
   "metadata": {},
   "source": [
    "Must modify the code in `rotations.py` directly to get change system dimension."
   ]
  },
  {
   "cell_type": "code",
   "execution_count": 3,
   "id": "a17225cf-1f1c-458c-bf68-81b91ae66891",
   "metadata": {},
   "outputs": [],
   "source": [
    "from rotations import *\n",
    "import matplotlib\n",
    "import matplotlib.pyplot as plt\n",
    "\n",
    "matplotlib.rcParams['figure.figsize'] = [2, 2]"
   ]
  },
  {
   "cell_type": "code",
   "execution_count": 4,
   "id": "d23e089e-795b-4d31-908f-992cc4d604ed",
   "metadata": {},
   "outputs": [
    {
     "data": {
      "text/html": [
       "<html>\\(\\displaystyle \\newcommand{\\Bold}[1]{\\mathbf{#1}}\\Bold{F}_{2^{3}}\\)</html>"
      ],
      "text/latex": [
       "$\\displaystyle \\newcommand{\\Bold}[1]{\\mathbf{#1}}\\Bold{F}_{2^{3}}$"
      ],
      "text/plain": [
       "Finite Field in x of size 2^3"
      ]
     },
     "execution_count": 4,
     "metadata": {},
     "output_type": "execute_result"
    }
   ],
   "source": [
    "F"
   ]
  },
  {
   "cell_type": "code",
   "execution_count": 5,
   "id": "6912daae-641d-4e22-bb1d-ac9a28e6d07a",
   "metadata": {},
   "outputs": [
    {
     "data": {
      "text/html": [
       "<html>\\(\\displaystyle \\left[x + 1, x^{2} + x + 1, x^{2} + 1\\right]\\)</html>"
      ],
      "text/latex": [
       "$\\displaystyle \\left[x + 1, x^{2} + x + 1, x^{2} + 1\\right]$"
      ],
      "text/plain": [
       "[x + 1, x^2 + x + 1, x^2 + 1]"
      ]
     },
     "execution_count": 5,
     "metadata": {},
     "output_type": "execute_result"
    }
   ],
   "source": [
    "BASIS"
   ]
  },
  {
   "cell_type": "code",
   "execution_count": 6,
   "id": "ea7e03d4-5e70-47c7-9e68-ae39f69e0ef1",
   "metadata": {},
   "outputs": [],
   "source": [
    "# check that base is self-dual\n",
    "for k in BASIS:\n",
    "    for l in BASIS:\n",
    "        if k == l:\n",
    "            if (k * l).trace() != 1:\n",
    "                raise Exception('Not self-dual!')\n",
    "        else:\n",
    "            if (k * l).trace() != 0:\n",
    "                raise Exception('Not self-dual!')"
   ]
  },
  {
   "cell_type": "markdown",
   "id": "c0efb5a2-15a5-452a-91e4-771da963ec34",
   "metadata": {},
   "source": [
    "Quick checking. First we verify that the rotation operators do indeed give us MUBs."
   ]
  },
  {
   "cell_type": "code",
   "execution_count": 7,
   "id": "5a5718aa-094d-4904-8a50-a34cb0c7d6b6",
   "metadata": {},
   "outputs": [],
   "source": [
    "# Orthonormality\n",
    "def isOrthonormal(m):\n",
    "    return m.conjugate_transpose() * m == Id\n",
    "\n",
    "# MUBs\n",
    "def isMUB(m1, m2):\n",
    "    m = (\n",
    "        m1.conjugate_transpose() * m2\n",
    "    ).apply_map(lambda t: abs(t)^2)\n",
    "    return m == ones_matrix(2^N, 2^N) / (2^N)\n",
    "\n",
    "def checkMUBs(mubs):\n",
    "    if type(mubs) != list:\n",
    "        mubs_list = []\n",
    "        for i in range(2^N+1):\n",
    "            mubs_list.append(mubs[(i*2^N):(i+1)*2^N,:])\n",
    "    else:\n",
    "        mubs_list = mubs\n",
    "            \n",
    "    for i in range(2^N+1):\n",
    "        for j in range(2^N+1):\n",
    "            if i == j:\n",
    "                if not isOrthonormal(mubs_list[i]):\n",
    "                    raise Exception(\n",
    "                        'Encountered a basis that is not orthonormal!',\n",
    "                        i\n",
    "                    )\n",
    "            else:\n",
    "                if not isMUB(mubs_list[i], mubs_list[j]):\n",
    "                    raise Exception(\n",
    "                        'Encountered non-MUB pairs of basis!',\n",
    "                        i, j\n",
    "                    )\n",
    "    return True"
   ]
  },
  {
   "cell_type": "code",
   "execution_count": 8,
   "id": "ab2c6ab0-2213-4972-98c9-a578562d5252",
   "metadata": {},
   "outputs": [
    {
     "data": {
      "text/html": [
       "<html>\\(\\displaystyle \\mathrm{True}\\)</html>"
      ],
      "text/latex": [
       "$\\displaystyle \\mathrm{True}$"
      ],
      "text/plain": [
       "True"
      ]
     },
     "execution_count": 8,
     "metadata": {},
     "output_type": "execute_result"
    }
   ],
   "source": [
    "checkMUBs(mubs)"
   ]
  },
  {
   "cell_type": "markdown",
   "id": "fdb878e7-f719-4217-9ebb-4bff8ceb805e",
   "metadata": {},
   "source": [
    "Now let's test the kernels."
   ]
  },
  {
   "cell_type": "code",
   "execution_count": 16,
   "id": "a4fcb660-8a4a-46b3-9b0d-3b15981b0df3",
   "metadata": {},
   "outputs": [
    {
     "data": {
      "text/html": [
       "<html>\\(\\displaystyle \\mathrm{True}\\)</html>"
      ],
      "text/latex": [
       "$\\displaystyle \\mathrm{True}$"
      ],
      "text/plain": [
       "True"
      ]
     },
     "execution_count": 16,
     "metadata": {},
     "output_type": "execute_result"
    }
   ],
   "source": [
    "# 'normalization'\n",
    "op = zero_matrix(SR, 2^N, 2^N)\n",
    "for a in F:\n",
    "    for b in F:\n",
    "        op += Delta(a, b)\n",
    "op == Id * 2^N"
   ]
  },
  {
   "cell_type": "code",
   "execution_count": 17,
   "id": "17f2edd4-3652-439f-bf0f-473ebccbc210",
   "metadata": {},
   "outputs": [
    {
     "data": {
      "text/html": [
       "<html>\\(\\displaystyle \\mathrm{True}\\)</html>"
      ],
      "text/latex": [
       "$\\displaystyle \\mathrm{True}$"
      ],
      "text/plain": [
       "True"
      ]
     },
     "execution_count": 17,
     "metadata": {},
     "output_type": "execute_result"
    }
   ],
   "source": [
    "# Covariance\n",
    "D(x, x) * Delta(1, 1) * D(x, x).conjugate_transpose() == Delta(x+1,x+1)"
   ]
  },
  {
   "cell_type": "code",
   "execution_count": 20,
   "id": "5a1bd5fa-ada5-4860-aa47-c50ca2e3c72d",
   "metadata": {},
   "outputs": [
    {
     "data": {
      "text/html": [
       "<html>\\(\\displaystyle \\mathrm{True}\\)</html>"
      ],
      "text/latex": [
       "$\\displaystyle \\mathrm{True}$"
      ],
      "text/plain": [
       "True"
      ]
     },
     "execution_count": 20,
     "metadata": {},
     "output_type": "execute_result"
    }
   ],
   "source": [
    "# Hermitian for the appropriate phase\n",
    "Delta(x^3,x) == Delta(x^3,x).conjugate_transpose()"
   ]
  },
  {
   "cell_type": "code",
   "execution_count": 21,
   "id": "061b507a-b820-4197-b489-5d49544c49ad",
   "metadata": {},
   "outputs": [
    {
     "data": {
      "text/html": [
       "<html>\\(\\displaystyle 0\\)</html>"
      ],
      "text/latex": [
       "$\\displaystyle 0$"
      ],
      "text/plain": [
       "0"
      ]
     },
     "execution_count": 21,
     "metadata": {},
     "output_type": "execute_result"
    }
   ],
   "source": [
    "# Hilbert-Schmidt orthonormality\n",
    "(D(x^4,x^2) * D(x,x^2).conjugate_transpose()).trace()"
   ]
  },
  {
   "cell_type": "markdown",
   "id": "9da9fd73-80cb-431e-8f1b-38c497624f46",
   "metadata": {},
   "source": [
    "Now we can use and test the actual Wigner function."
   ]
  },
  {
   "cell_type": "code",
   "execution_count": 22,
   "id": "ab2dfa75-4970-4814-b6e9-d6753353da6f",
   "metadata": {},
   "outputs": [
    {
     "data": {
      "text/html": [
       "<html>\\(\\displaystyle \\left(\\begin{array}{rrrrrrrr}\n",
       "0 & 0 & 0 & 0 & 0 & 0 & 0 & \\frac{1}{8} \\\\\n",
       "0 & 0 & 0 & 0 & 0 & 0 & \\frac{1}{8} & 0 \\\\\n",
       "0 & 0 & 0 & 0 & 0 & \\frac{1}{8} & 0 & 0 \\\\\n",
       "0 & 0 & 0 & 0 & \\frac{1}{8} & 0 & 0 & 0 \\\\\n",
       "0 & 0 & 0 & \\frac{1}{8} & 0 & 0 & 0 & 0 \\\\\n",
       "0 & 0 & \\frac{1}{8} & 0 & 0 & 0 & 0 & 0 \\\\\n",
       "0 & \\frac{1}{8} & 0 & 0 & 0 & 0 & 0 & 0 \\\\\n",
       "\\frac{1}{8} & 0 & 0 & 0 & 0 & 0 & 0 & 0\n",
       "\\end{array}\\right)\\)</html>"
      ],
      "text/latex": [
       "$\\displaystyle \\left(\\begin{array}{rrrrrrrr}\n",
       "0 & 0 & 0 & 0 & 0 & 0 & 0 & \\frac{1}{8} \\\\\n",
       "0 & 0 & 0 & 0 & 0 & 0 & \\frac{1}{8} & 0 \\\\\n",
       "0 & 0 & 0 & 0 & 0 & \\frac{1}{8} & 0 & 0 \\\\\n",
       "0 & 0 & 0 & 0 & \\frac{1}{8} & 0 & 0 & 0 \\\\\n",
       "0 & 0 & 0 & \\frac{1}{8} & 0 & 0 & 0 & 0 \\\\\n",
       "0 & 0 & \\frac{1}{8} & 0 & 0 & 0 & 0 & 0 \\\\\n",
       "0 & \\frac{1}{8} & 0 & 0 & 0 & 0 & 0 & 0 \\\\\n",
       "\\frac{1}{8} & 0 & 0 & 0 & 0 & 0 & 0 & 0\n",
       "\\end{array}\\right)$"
      ],
      "text/plain": [
       "[  0   0   0   0   0   0   0 1/8]\n",
       "[  0   0   0   0   0   0 1/8   0]\n",
       "[  0   0   0   0   0 1/8   0   0]\n",
       "[  0   0   0   0 1/8   0   0   0]\n",
       "[  0   0   0 1/8   0   0   0   0]\n",
       "[  0   0 1/8   0   0   0   0   0]\n",
       "[  0 1/8   0   0   0   0   0   0]\n",
       "[1/8   0   0   0   0   0   0   0]"
      ]
     },
     "execution_count": 22,
     "metadata": {},
     "output_type": "execute_result"
    }
   ],
   "source": [
    "w = WignerMatrix(Proj(vector(V(F(1))[:,0])))\n",
    "w # very slow using the displacement kernel"
   ]
  },
  {
   "cell_type": "markdown",
   "id": "f8c248bc-aa91-4943-844a-a1aacab684d2",
   "metadata": {},
   "source": [
    "Let's verify that the two kernels are equal."
   ]
  },
  {
   "cell_type": "code",
   "execution_count": 23,
   "id": "bead2eba-bd98-47bc-a002-56a3693e5659",
   "metadata": {},
   "outputs": [],
   "source": [
    "# this takes a while 'cause SageMath is slow...\n",
    "for k in F:\n",
    "    for l in F:\n",
    "        if Wootters(k,l) != Delta(k,l):\n",
    "            raise Exception('Not the same!')"
   ]
  },
  {
   "cell_type": "code",
   "execution_count": 32,
   "id": "c4487948-87fa-4907-a53c-5742c7ee726a",
   "metadata": {},
   "outputs": [
    {
     "data": {
      "text/html": [
       "<html>\\(\\displaystyle \\left(\\begin{array}{rrrrrrrr}\n",
       "0 & 0 & 0 & 0 & 0 & \\frac{1}{8} & 0 & 0 \\\\\n",
       "0 & 0 & 0 & \\frac{1}{8} & 0 & 0 & 0 & 0 \\\\\n",
       "0 & 0 & 0 & 0 & 0 & 0 & 0 & \\frac{1}{8} \\\\\n",
       "\\frac{1}{8} & 0 & 0 & 0 & 0 & 0 & 0 & 0 \\\\\n",
       "0 & 0 & 0 & 0 & 0 & 0 & \\frac{1}{8} & 0 \\\\\n",
       "0 & \\frac{1}{8} & 0 & 0 & 0 & 0 & 0 & 0 \\\\\n",
       "0 & 0 & \\frac{1}{8} & 0 & 0 & 0 & 0 & 0 \\\\\n",
       "0 & 0 & 0 & 0 & \\frac{1}{8} & 0 & 0 & 0\n",
       "\\end{array}\\right)\\)</html>"
      ],
      "text/latex": [
       "$\\displaystyle \\left(\\begin{array}{rrrrrrrr}\n",
       "0 & 0 & 0 & 0 & 0 & \\frac{1}{8} & 0 & 0 \\\\\n",
       "0 & 0 & 0 & \\frac{1}{8} & 0 & 0 & 0 & 0 \\\\\n",
       "0 & 0 & 0 & 0 & 0 & 0 & 0 & \\frac{1}{8} \\\\\n",
       "\\frac{1}{8} & 0 & 0 & 0 & 0 & 0 & 0 & 0 \\\\\n",
       "0 & 0 & 0 & 0 & 0 & 0 & \\frac{1}{8} & 0 \\\\\n",
       "0 & \\frac{1}{8} & 0 & 0 & 0 & 0 & 0 & 0 \\\\\n",
       "0 & 0 & \\frac{1}{8} & 0 & 0 & 0 & 0 & 0 \\\\\n",
       "0 & 0 & 0 & 0 & \\frac{1}{8} & 0 & 0 & 0\n",
       "\\end{array}\\right)$"
      ],
      "text/plain": [
       "[  0   0   0   0   0 1/8   0   0]\n",
       "[  0   0   0 1/8   0   0   0   0]\n",
       "[  0   0   0   0   0   0   0 1/8]\n",
       "[1/8   0   0   0   0   0   0   0]\n",
       "[  0   0   0   0   0   0 1/8   0]\n",
       "[  0 1/8   0   0   0   0   0   0]\n",
       "[  0   0 1/8   0   0   0   0   0]\n",
       "[  0   0   0   0 1/8   0   0   0]"
      ]
     },
     "execution_count": 32,
     "metadata": {},
     "output_type": "execute_result"
    }
   ],
   "source": [
    "WignerMatrix(Proj(vector(mubs[-1][:,4])), kernel=Wootters)"
   ]
  },
  {
   "cell_type": "code",
   "execution_count": 33,
   "id": "8967f265-89fe-4522-bb83-79be8f7e78d8",
   "metadata": {},
   "outputs": [],
   "source": [
    "def eldiv(A, B):\n",
    "    return A.parent()([a/b for a, b in zip(A.list(), B.list())])"
   ]
  },
  {
   "cell_type": "code",
   "execution_count": 34,
   "id": "f45ef07a-0c87-4ee2-825b-6756b83d9c83",
   "metadata": {},
   "outputs": [
    {
     "data": {
      "text/html": [
       "<html>\\(\\displaystyle \\left(8,\\,0,\\,0,\\,0,\\,0,\\,0,\\,0,\\,0\\right)\\)</html>"
      ],
      "text/latex": [
       "$\\displaystyle \\left(8,\\,0,\\,0,\\,0,\\,0,\\,0,\\,0,\\,0\\right)$"
      ],
      "text/plain": [
       "(8, 0, 0, 0, 0, 0, 0, 0)"
      ]
     },
     "execution_count": 34,
     "metadata": {},
     "output_type": "execute_result"
    }
   ],
   "source": [
    "# For the X operators we know that the \n",
    "# eigenbasis is the Fourier matrix.\n",
    "s = zero_vector(SR, 2^N)\n",
    "for k in F:\n",
    "    s += sum(eldiv(D(0,k) * FF, FF)) / 2^N\n",
    "s"
   ]
  },
  {
   "cell_type": "code",
   "execution_count": 35,
   "id": "d4c2a31f-5719-40fb-ac43-5b614c2409e6",
   "metadata": {},
   "outputs": [],
   "source": [
    "def findStabilizer(base, m):\n",
    "    s = zero_vector(SR, 2^N)\n",
    "    for k in F:\n",
    "        s += sum(eldiv(D(k, m * k) * base, base)) / 2^N\n",
    "    return s"
   ]
  },
  {
   "cell_type": "code",
   "execution_count": 42,
   "id": "35e57099-9c22-4e21-8343-6f43c0433cdc",
   "metadata": {},
   "outputs": [
    {
     "data": {
      "text/html": [
       "<html>\\(\\displaystyle \\left(8,\\,0,\\,0,\\,0,\\,0,\\,0,\\,0,\\,0\\right)\\)</html>"
      ],
      "text/latex": [
       "$\\displaystyle \\left(8,\\,0,\\,0,\\,0,\\,0,\\,0,\\,0,\\,0\\right)$"
      ],
      "text/plain": [
       "(8, 0, 0, 0, 0, 0, 0, 0)"
      ]
     },
     "execution_count": 42,
     "metadata": {},
     "output_type": "execute_result"
    }
   ],
   "source": [
    "findStabilizer(mubs[-1], F(1))"
   ]
  },
  {
   "cell_type": "markdown",
   "id": "e7a53de2-8a60-419e-ad9b-0e23c33ea82c",
   "metadata": {},
   "source": [
    "Again the first vector of each base is a stabilizer state. For example consider the states associated to the diagonal line:\n",
    "$$\n",
    "\\{Z_\\alpha X_{\\alpha}\\}, \\quad \\alpha \\in F.\n",
    "$$\n",
    "The rotation operators is $V_1$."
   ]
  },
  {
   "cell_type": "code",
   "execution_count": 60,
   "id": "f1b10ece-defc-44ae-a3ec-a7cad2f5a26f",
   "metadata": {},
   "outputs": [
    {
     "data": {
      "text/html": [
       "<html>\\(\\displaystyle \\left(\\begin{array}{rrrrrrrr}\n",
       "1 & -1 & 1 & 1 & -1 & 1 & -1 & -1 \\\\\n",
       "1 & -1 & 1 & 1 & -1 & 1 & -1 & -1 \\\\\n",
       "1 & -1 & 1 & 1 & -1 & 1 & -1 & -1 \\\\\n",
       "1 & -1 & 1 & 1 & -1 & 1 & -1 & -1 \\\\\n",
       "1 & -1 & 1 & 1 & -1 & 1 & -1 & -1 \\\\\n",
       "1 & -1 & 1 & 1 & -1 & 1 & -1 & -1 \\\\\n",
       "1 & -1 & 1 & 1 & -1 & 1 & -1 & -1 \\\\\n",
       "1 & -1 & 1 & 1 & -1 & 1 & -1 & -1\n",
       "\\end{array}\\right)\\)</html>"
      ],
      "text/latex": [
       "$\\displaystyle \\left(\\begin{array}{rrrrrrrr}\n",
       "1 & -1 & 1 & 1 & -1 & 1 & -1 & -1 \\\\\n",
       "1 & -1 & 1 & 1 & -1 & 1 & -1 & -1 \\\\\n",
       "1 & -1 & 1 & 1 & -1 & 1 & -1 & -1 \\\\\n",
       "1 & -1 & 1 & 1 & -1 & 1 & -1 & -1 \\\\\n",
       "1 & -1 & 1 & 1 & -1 & 1 & -1 & -1 \\\\\n",
       "1 & -1 & 1 & 1 & -1 & 1 & -1 & -1 \\\\\n",
       "1 & -1 & 1 & 1 & -1 & 1 & -1 & -1 \\\\\n",
       "1 & -1 & 1 & 1 & -1 & 1 & -1 & -1\n",
       "\\end{array}\\right)$"
      ],
      "text/plain": [
       "[ 1 -1  1  1 -1  1 -1 -1]\n",
       "[ 1 -1  1  1 -1  1 -1 -1]\n",
       "[ 1 -1  1  1 -1  1 -1 -1]\n",
       "[ 1 -1  1  1 -1  1 -1 -1]\n",
       "[ 1 -1  1  1 -1  1 -1 -1]\n",
       "[ 1 -1  1  1 -1  1 -1 -1]\n",
       "[ 1 -1  1  1 -1  1 -1 -1]\n",
       "[ 1 -1  1  1 -1  1 -1 -1]"
      ]
     },
     "execution_count": 60,
     "metadata": {},
     "output_type": "execute_result"
    }
   ],
   "source": [
    "eldiv(D(x^6,x^6) * mubs[-1], mubs[-1])"
   ]
  },
  {
   "cell_type": "code",
   "execution_count": 132,
   "id": "ba60344d-94ad-4d9c-b72e-54216e7617b2",
   "metadata": {},
   "outputs": [],
   "source": [
    "ghz = vector(Id[:,0] + Id[:,-1])/sqrt(2)\n",
    "w = WignerMatrix(Proj(ghz), kernel=Wootters).apply_map(lambda t: float(t))"
   ]
  },
  {
   "cell_type": "code",
   "execution_count": 133,
   "id": "b5322575-da3f-49d4-8568-dc9768ac278c",
   "metadata": {},
   "outputs": [],
   "source": [
    "wf = w.transpose()"
   ]
  },
  {
   "cell_type": "code",
   "execution_count": 134,
   "id": "b90383c6-b1a4-43ed-9f7a-8ea49cbf579e",
   "metadata": {},
   "outputs": [
    {
     "data": {
      "text/html": [
       "<html>\\(\\displaystyle \\verb|AxesImage(size=(8,|\\verb| |\\verb|8))|\\)</html>"
      ],
      "text/latex": [
       "$\\displaystyle \\verb|AxesImage(size=(8,|\\verb| |\\verb|8))|$"
      ],
      "text/plain": [
       "<matplotlib.image.AxesImage object at 0x184215400>"
      ]
     },
     "execution_count": 134,
     "metadata": {},
     "output_type": "execute_result"
    },
    {
     "data": {
      "image/png": "[encoded data removed]",
      "text/plain": [
       "<Figure size 200x200 with 1 Axes>"
      ]
     },
     "metadata": {},
     "output_type": "display_data"
    }
   ],
   "source": [
    "plt.imshow(wf, origin='lower')"
   ]
  },
  {
   "cell_type": "code",
   "execution_count": 137,
   "id": "fd436fd5-73c3-45d1-88d1-7e3681d6bd90",
   "metadata": {},
   "outputs": [],
   "source": [
    "w = WignerMatrix(Proj(vector(mubs[3][:,0])), kernel=Wootters).transpose()"
   ]
  },
  {
   "cell_type": "code",
   "execution_count": 138,
   "id": "b6ddf70a-b3e0-4142-a96e-aeaae5294111",
   "metadata": {},
   "outputs": [
    {
     "data": {
      "text/html": [
       "<html>\\(\\displaystyle \\verb|AxesImage(size=(8,|\\verb| |\\verb|8))|\\)</html>"
      ],
      "text/latex": [
       "$\\displaystyle \\verb|AxesImage(size=(8,|\\verb| |\\verb|8))|$"
      ],
      "text/plain": [
       "<matplotlib.image.AxesImage object at 0x183ca45b0>"
      ]
     },
     "execution_count": 138,
     "metadata": {},
     "output_type": "execute_result"
    },
    {
     "data": {
      "image/png": "[encoded data removed]",
      "text/plain": [
       "<Figure size 200x200 with 1 Axes>"
      ]
     },
     "metadata": {},
     "output_type": "display_data"
    }
   ],
   "source": [
    "plt.imshow(w.apply_map(lambda t: float(t)), origin='lower')"
   ]
  },
  {
   "cell_type": "code",
   "execution_count": null,
   "id": "0be5d3d8-8a42-4296-9a03-c853764f301a",
   "metadata": {},
   "outputs": [],
   "source": []
  }
 ],
 "metadata": {
  "kernelspec": {
   "display_name": "SageMath 9.8",
   "language": "sage",
   "name": "sagemath"
  },
  "language_info": {
   "codemirror_mode": {
    "name": "ipython",
    "version": 3
   },
   "file_extension": ".py",
   "mimetype": "text/x-python",
   "name": "python",
   "nbconvert_exporter": "python",
   "pygments_lexer": "ipython3",
   "version": "3.9.16"
  }
 },
 "nbformat": 4,
 "nbformat_minor": 5
}
