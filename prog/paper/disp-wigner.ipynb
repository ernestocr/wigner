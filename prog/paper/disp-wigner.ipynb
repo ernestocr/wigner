{
 "cells": [
  {
   "cell_type": "code",
   "execution_count": 1,
   "id": "7ce2aba3-01f1-4a13-9059-84760aae6a74",
   "metadata": {},
   "outputs": [],
   "source": [
    "%display latex"
   ]
  },
  {
   "cell_type": "code",
   "execution_count": 2,
   "id": "fd5fd1b3-e670-47fb-98a8-51224e1a76ea",
   "metadata": {},
   "outputs": [],
   "source": [
    "N = 3\n",
    "F = GF(2^3, 'x')\n",
    "x = F.gen()\n",
    "\n",
    "# N = 2\n",
    "# F = GF(2^N, 'x')\n",
    "# x = F.gen()"
   ]
  },
  {
   "cell_type": "code",
   "execution_count": 3,
   "id": "0e4ecccd-04d8-4648-8e2b-5e577d06af62",
   "metadata": {},
   "outputs": [],
   "source": [
    "basis = [x^3, x^5, x^6] # self-dual basis\n",
    "# basis = [x, x+1]"
   ]
  },
  {
   "cell_type": "code",
   "execution_count": 4,
   "id": "79ca3ebb-943d-49e4-93a0-fd16a2f44769",
   "metadata": {},
   "outputs": [],
   "source": [
    "# express an element as a linear combination of the basis\n",
    "components = lambda k: [(k * el).trace() for el in basis]\n",
    "\n",
    "# additive group character\n",
    "chi = lambda k: exp(pi * I * int(k.trace()))"
   ]
  },
  {
   "cell_type": "code",
   "execution_count": 5,
   "id": "565f559e-47ba-447b-8e51-0ff64122fca4",
   "metadata": {},
   "outputs": [],
   "source": [
    "y = var('y')\n",
    "\n",
    "# compute the coefficients for the basis elements,\n",
    "def solve_basis(basis, curve):\n",
    "    sols = []\n",
    "    for k in basis:\n",
    "        sol = solve(chi(k * curve(k)) == y^2, y, solution_dict=True)\n",
    "        sols.append(sol[1]) # positive solutions only (choice)\n",
    "    return sols"
   ]
  },
  {
   "cell_type": "code",
   "execution_count": 6,
   "id": "f8ec54ae-7536-4aa7-a168-1187dc40415a",
   "metadata": {},
   "outputs": [],
   "source": [
    "# after computing the solutions we can simply\n",
    "# get them for each basis element.\n",
    "def basis_c(a, l, sols):\n",
    "    if a == 0:\n",
    "        return 1\n",
    "    return sols[l][y]"
   ]
  },
  {
   "cell_type": "code",
   "execution_count": 7,
   "id": "a56c34cb-a032-4fa1-83ea-2c5376f669ec",
   "metadata": {},
   "outputs": [],
   "source": [
    "# Compute an arbitrary coefficient c_{\\alpha,f} for a \n",
    "# given curve f using the general formula.\n",
    "def c(alpha, curve, sols=None):\n",
    "    if not sols:\n",
    "        sols = solve_basis(basis, curve)\n",
    "    \n",
    "    # Expand alpha in the basis\n",
    "    comps = components(alpha)\n",
    "\n",
    "    # Apply the formula\n",
    "    s1 = 0\n",
    "    for k in range(N-1):\n",
    "        s2 = 0\n",
    "        for j in range(k+1, N):\n",
    "            s2 += comps[j] * basis[j]\n",
    "        s1 += s2 * curve(comps[k] * basis[k])\n",
    "        \n",
    "    return chi(s1) * prod([basis_c(a, l, sols) for l, a in enumerate(comps)])"
   ]
  },
  {
   "cell_type": "code",
   "execution_count": 8,
   "id": "6e225cf2-07d4-4101-be92-64ce21b5d0bc",
   "metadata": {},
   "outputs": [],
   "source": [
    "def sign_perm(sols, perm=None):\n",
    "    if perm:\n",
    "        for k, sol in enumerate(sols):\n",
    "            sols[k][y] = perm[k] * sols[k][y]\n",
    "    return sols"
   ]
  },
  {
   "cell_type": "markdown",
   "id": "a3349f79-3a00-457c-948f-45e2591ea999",
   "metadata": {},
   "source": [
    "Verification of the recurrence relation for the straight lines:"
   ]
  },
  {
   "cell_type": "code",
   "execution_count": 9,
   "id": "a5a3e138-8d1a-4512-a3f2-29d46e653e5c",
   "metadata": {},
   "outputs": [
    {
     "name": "stdout",
     "output_type": "stream",
     "text": [
      "Recurrence relation holds!\n"
     ]
    }
   ],
   "source": [
    "for mu in F:\n",
    "    curve = lambda t: mu * t # \\beta = \\mu \\alpha\n",
    "    sols = sign_perm(solve_basis(basis, curve), [-1,-1,-1])\n",
    "    for k in F:\n",
    "        for kp in F:\n",
    "            lhs = c(k, curve, sols) * c(kp, curve, sols)\n",
    "            rhs = chi(kp * curve(k)) * c(k + kp, curve, sols)\n",
    "            if lhs != rhs:\n",
    "                raise Exception('Recurrence relation does not hold!', mu)\n",
    "print('Recurrence relation holds!')"
   ]
  },
  {
   "cell_type": "markdown",
   "id": "044ae29b-dcaf-4396-ae20-30e5ef0ac42a",
   "metadata": {},
   "source": [
    "Now for the curve $f$:"
   ]
  },
  {
   "cell_type": "code",
   "execution_count": 10,
   "id": "9d2a68c0-edb8-46d0-9a39-ed6b1e69be99",
   "metadata": {},
   "outputs": [
    {
     "name": "stdout",
     "output_type": "stream",
     "text": [
      "Recurrence relation holds!\n"
     ]
    }
   ],
   "source": [
    "for mu in F:\n",
    "    curve = lambda t: mu * t + x^3 * t^2 + x^5 * t^4\n",
    "    sols = sign_perm(solve_basis(basis, curve), [1,-1,1])\n",
    "    for k in F:\n",
    "        for kp in F:\n",
    "            lhs = c(k, curve, sols) * c(kp, curve, sols)\n",
    "            rhs = chi(kp * curve(k)) * c(k + kp, curve, sols)\n",
    "            if lhs != rhs:\n",
    "                raise Exception('Recurrence relation does not hold!', mu)\n",
    "print('Recurrence relation holds!')"
   ]
  },
  {
   "cell_type": "markdown",
   "id": "38e95790-cff9-493a-b7c0-66a08339f223",
   "metadata": {},
   "source": [
    "So the calculation of the coefficients seem to hold fine. Now let's try to calculate this discrete phase space structure."
   ]
  },
  {
   "cell_type": "code",
   "execution_count": 11,
   "id": "7b10e278-590c-4979-bac3-256137ddecd0",
   "metadata": {},
   "outputs": [],
   "source": [
    "def ray(mu):\n",
    "    return lambda t: mu * t"
   ]
  },
  {
   "cell_type": "code",
   "execution_count": 12,
   "id": "6f587172-2f9b-4bab-862b-3b27ea77767c",
   "metadata": {},
   "outputs": [],
   "source": [
    "def f(phi0): \n",
    "    return lambda t: phi0 * t + x^3 * t^2 + x^5 * t^4"
   ]
  },
  {
   "cell_type": "markdown",
   "id": "01e59536-0881-4b72-88e1-125f2152d57c",
   "metadata": {},
   "source": [
    "The point $(\\alpha,\\mu \\alpha)$ corresponds to coefficient $c_{\\alpha,\\mu}$, so we can loop throught the curve parameters $\\mu$, calculate the coefficients and assign them to the point $(\\alpha, f_\\mu(\\alpha))$ in phase space."
   ]
  },
  {
   "cell_type": "code",
   "execution_count": 14,
   "id": "6ad7d314-29fa-4610-8824-5ce232013722",
   "metadata": {},
   "outputs": [],
   "source": [
    "def toInt(k):\n",
    "    return list(F).index(k)"
   ]
  },
  {
   "cell_type": "code",
   "execution_count": 15,
   "id": "83961e04-e6f5-4114-b92f-974d538d3e3d",
   "metadata": {},
   "outputs": [],
   "source": [
    "def all_perms():\n",
    "    perms = []\n",
    "    for i in [1,-1]:\n",
    "        for j in [1,-1]:\n",
    "            for k in [1,-1]:\n",
    "                perms.append([i,j,k])\n",
    "    return perms"
   ]
  },
  {
   "cell_type": "code",
   "execution_count": 16,
   "id": "17cac0e5-adbc-4d31-8155-507a4dce2ac5",
   "metadata": {},
   "outputs": [],
   "source": [
    "def PS(curve, perms):\n",
    "    phase_space = zero_matrix(SR, 2^N, 2^N)\n",
    "    phase_space[0,:] = 1 # vertical line\n",
    "    for j, mu in enumerate(F): # iterate through the curve parametr\n",
    "        # same sign choice for a fixed curve parameter\n",
    "        sols = sign_perm(solve_basis(basis, curve(mu)), perms[j])\n",
    "        for i, a in enumerate(F):\n",
    "            # loop through alpha to obtain coefficient and\n",
    "            # corresponding point\n",
    "            coeff = c(a, curve(mu), sols)\n",
    "            b = curve(mu)(a)\n",
    "            phase_space[i, toInt(b)] = coeff\n",
    "    return phase_space"
   ]
  },
  {
   "cell_type": "code",
   "execution_count": 75,
   "id": "1b233f70-5ad3-4ee2-8902-73b6fdaf1204",
   "metadata": {},
   "outputs": [
    {
     "data": {
      "text/html": [
       "<html>\\(\\displaystyle \\left(\\begin{array}{rrrrrrrr}\n",
       "1 & 1 & 1 & 1 & 1 & 1 & 1 & 1 \\\\\n",
       "-1 & 1 & i & -1 & i & -i & -i & 1 \\\\\n",
       "-1 & i & 1 & -i & i & -i & -1 & 1 \\\\\n",
       "1 & 1 & i & i & i & 1 & 1 & i \\\\\n",
       "1 & -i & -i & i & -1 & 1 & i & -1 \\\\\n",
       "-1 & -i & -i & -1 & -1 & -i & -1 & -i \\\\\n",
       "1 & i & 1 & 1 & i & 1 & i & i \\\\\n",
       "-1 & 1 & 1 & -i & 1 & -i & -i & i\n",
       "\\end{array}\\right)\\)</html>"
      ],
      "text/latex": [
       "$\\displaystyle \\left(\\begin{array}{rrrrrrrr}\n",
       "1 & 1 & 1 & 1 & 1 & 1 & 1 & 1 \\\\\n",
       "-1 & 1 & i & -1 & i & -i & -i & 1 \\\\\n",
       "-1 & i & 1 & -i & i & -i & -1 & 1 \\\\\n",
       "1 & 1 & i & i & i & 1 & 1 & i \\\\\n",
       "1 & -i & -i & i & -1 & 1 & i & -1 \\\\\n",
       "-1 & -i & -i & -1 & -1 & -i & -1 & -i \\\\\n",
       "1 & i & 1 & 1 & i & 1 & i & i \\\\\n",
       "-1 & 1 & 1 & -i & 1 & -i & -i & i\n",
       "\\end{array}\\right)$"
      ],
      "text/plain": [
       "[ 1  1  1  1  1  1  1  1]\n",
       "[-1  1  I -1  I -I -I  1]\n",
       "[-1  I  1 -I  I -I -1  1]\n",
       "[ 1  1  I  I  I  1  1  I]\n",
       "[ 1 -I -I  I -1  1  I -1]\n",
       "[-1 -I -I -1 -1 -I -1 -I]\n",
       "[ 1  I  1  1  I  1  I  I]\n",
       "[-1  1  1 -I  1 -I -I  I]"
      ]
     },
     "execution_count": 75,
     "metadata": {},
     "output_type": "execute_result"
    }
   ],
   "source": [
    "PS(ray, [[1,-1,1]] * 8) # all positive solutions"
   ]
  },
  {
   "cell_type": "code",
   "execution_count": 78,
   "id": "8d99ec5b-d3d7-4d20-9281-58b8254a66b8",
   "metadata": {},
   "outputs": [
    {
     "data": {
      "text/html": [
       "<html>\\(\\displaystyle \\left(\\begin{array}{rrrrrrrr}\n",
       "1 & 1 & 1 & 1 & 1 & 1 & 1 & 1 \\\\\n",
       "1 & -1 & i & 1 & i & -i & -i & -1 \\\\\n",
       "1 & i & -1 & -i & i & -i & 1 & -1 \\\\\n",
       "-1 & -1 & -i & -i & -i & -1 & -1 & -i \\\\\n",
       "1 & i & i & -i & -1 & 1 & -i & -1 \\\\\n",
       "-1 & -i & -i & -1 & -1 & -i & -1 & -i \\\\\n",
       "-1 & -i & -1 & -1 & -i & -1 & -i & -i \\\\\n",
       "-1 & -1 & 1 & i & -1 & i & -i & i\n",
       "\\end{array}\\right)\\)</html>"
      ],
      "text/latex": [
       "$\\displaystyle \\left(\\begin{array}{rrrrrrrr}\n",
       "1 & 1 & 1 & 1 & 1 & 1 & 1 & 1 \\\\\n",
       "1 & -1 & i & 1 & i & -i & -i & -1 \\\\\n",
       "1 & i & -1 & -i & i & -i & 1 & -1 \\\\\n",
       "-1 & -1 & -i & -i & -i & -1 & -1 & -i \\\\\n",
       "1 & i & i & -i & -1 & 1 & -i & -1 \\\\\n",
       "-1 & -i & -i & -1 & -1 & -i & -1 & -i \\\\\n",
       "-1 & -i & -1 & -1 & -i & -1 & -i & -i \\\\\n",
       "-1 & -1 & 1 & i & -1 & i & -i & i\n",
       "\\end{array}\\right)$"
      ],
      "text/plain": [
       "[ 1  1  1  1  1  1  1  1]\n",
       "[ 1 -1  I  1  I -I -I -1]\n",
       "[ 1  I -1 -I  I -I  1 -1]\n",
       "[-1 -1 -I -I -I -1 -1 -I]\n",
       "[ 1  I  I -I -1  1 -I -1]\n",
       "[-1 -I -I -1 -1 -I -1 -I]\n",
       "[-1 -I -1 -1 -I -1 -I -I]\n",
       "[-1 -1  1  I -1  I -I  I]"
      ]
     },
     "execution_count": 78,
     "metadata": {},
     "output_type": "execute_result"
    }
   ],
   "source": [
    "PS(f, [[-1,-1,-1]] * 8) "
   ]
  },
  {
   "cell_type": "markdown",
   "id": "b2542346-7e0b-40b8-bb29-735051684ddf",
   "metadata": {},
   "source": [
    "We have 8 possible sign permutations for each of the 8 curve parameters, so we have $8^8$ possible phase space structures! Of course there is a high number of repeated structures given that the multiplicative term in the general coefficient function can only actually take on 4 possible values. We ignore these details for practicality."
   ]
  },
  {
   "cell_type": "code",
   "execution_count": 30,
   "id": "fdaed6f9-67b5-40ac-860d-90e7fe17a063",
   "metadata": {},
   "outputs": [
    {
     "data": {
      "text/html": [
       "<html>\\(\\displaystyle \\left(\\begin{array}{rrrrrrrr}\n",
       "8 & 0 & 0 & 0 & 0 & 0 & 0 & 0 \\\\\n",
       "1 & 8 & 2 & 3 & 4 & 5 & 6 & 7 \\\\\n",
       "1 & 7 & 8 & 2 & 3 & 4 & 5 & 6 \\\\\n",
       "1 & 6 & 7 & 8 & 2 & 3 & 4 & 5 \\\\\n",
       "1 & 5 & 6 & 7 & 8 & 2 & 3 & 4 \\\\\n",
       "1 & 4 & 5 & 6 & 7 & 8 & 2 & 3 \\\\\n",
       "1 & 3 & 4 & 5 & 6 & 7 & 8 & 2 \\\\\n",
       "1 & 2 & 3 & 4 & 5 & 6 & 7 & 8\n",
       "\\end{array}\\right)\\)</html>"
      ],
      "text/latex": [
       "$\\displaystyle \\left(\\begin{array}{rrrrrrrr}\n",
       "8 & 0 & 0 & 0 & 0 & 0 & 0 & 0 \\\\\n",
       "1 & 8 & 2 & 3 & 4 & 5 & 6 & 7 \\\\\n",
       "1 & 7 & 8 & 2 & 3 & 4 & 5 & 6 \\\\\n",
       "1 & 6 & 7 & 8 & 2 & 3 & 4 & 5 \\\\\n",
       "1 & 5 & 6 & 7 & 8 & 2 & 3 & 4 \\\\\n",
       "1 & 4 & 5 & 6 & 7 & 8 & 2 & 3 \\\\\n",
       "1 & 3 & 4 & 5 & 6 & 7 & 8 & 2 \\\\\n",
       "1 & 2 & 3 & 4 & 5 & 6 & 7 & 8\n",
       "\\end{array}\\right)$"
      ],
      "text/plain": [
       "[8 0 0 0 0 0 0 0]\n",
       "[1 8 2 3 4 5 6 7]\n",
       "[1 7 8 2 3 4 5 6]\n",
       "[1 6 7 8 2 3 4 5]\n",
       "[1 5 6 7 8 2 3 4]\n",
       "[1 4 5 6 7 8 2 3]\n",
       "[1 3 4 5 6 7 8 2]\n",
       "[1 2 3 4 5 6 7 8]"
      ]
     },
     "execution_count": 30,
     "metadata": {},
     "output_type": "execute_result"
    }
   ],
   "source": [
    "# Rays plane\n",
    "# Curve plane\n",
    "m = zero_matrix(SR, 8, 8)\n",
    "for j, mu in enumerate(F):\n",
    "    for i, a in enumerate(F):\n",
    "        b = ray(mu)(a)\n",
    "        m[i, toInt(b)] = j+1\n",
    "m"
   ]
  },
  {
   "cell_type": "code",
   "execution_count": 31,
   "id": "40994127-05ba-42b2-a328-cf76c5696c0c",
   "metadata": {},
   "outputs": [
    {
     "data": {
      "text/html": [
       "<html>\\(\\displaystyle x\\)</html>"
      ],
      "text/latex": [
       "$\\displaystyle x$"
      ],
      "text/plain": [
       "x"
      ]
     },
     "execution_count": 31,
     "metadata": {},
     "output_type": "execute_result"
    }
   ],
   "source": [
    "list(F)[1]"
   ]
  },
  {
   "cell_type": "code",
   "execution_count": 32,
   "id": "516dd508-e801-4f13-8d51-0266eb864fab",
   "metadata": {},
   "outputs": [
    {
     "data": {
      "text/html": [
       "<html>\\(\\displaystyle -i\\)</html>"
      ],
      "text/latex": [
       "$\\displaystyle -i$"
      ],
      "text/plain": [
       "-I"
      ]
     },
     "execution_count": 32,
     "metadata": {},
     "output_type": "execute_result"
    }
   ],
   "source": [
    "c(x, ray(x))"
   ]
  },
  {
   "cell_type": "code",
   "execution_count": 29,
   "id": "c4c095f8-d137-4e6e-80ca-3d4f65b80ba2",
   "metadata": {},
   "outputs": [
    {
     "data": {
      "text/html": [
       "<html>\\(\\displaystyle \\left(\\begin{array}{rrrrrrrr}\n",
       "8 & 0 & 0 & 0 & 0 & 0 & 0 & 0 \\\\\n",
       "3 & 7 & 5 & 1 & 6 & 2 & 4 & 8 \\\\\n",
       "8 & 3 & 1 & 4 & 7 & 2 & 6 & 5 \\\\\n",
       "3 & 4 & 8 & 7 & 5 & 1 & 6 & 2 \\\\\n",
       "2 & 3 & 7 & 6 & 4 & 1 & 5 & 8 \\\\\n",
       "6 & 3 & 8 & 1 & 2 & 5 & 7 & 4 \\\\\n",
       "1 & 3 & 4 & 5 & 6 & 7 & 8 & 2 \\\\\n",
       "3 & 5 & 1 & 6 & 2 & 4 & 8 & 7\n",
       "\\end{array}\\right)\\)</html>"
      ],
      "text/latex": [
       "$\\displaystyle \\left(\\begin{array}{rrrrrrrr}\n",
       "8 & 0 & 0 & 0 & 0 & 0 & 0 & 0 \\\\\n",
       "3 & 7 & 5 & 1 & 6 & 2 & 4 & 8 \\\\\n",
       "8 & 3 & 1 & 4 & 7 & 2 & 6 & 5 \\\\\n",
       "3 & 4 & 8 & 7 & 5 & 1 & 6 & 2 \\\\\n",
       "2 & 3 & 7 & 6 & 4 & 1 & 5 & 8 \\\\\n",
       "6 & 3 & 8 & 1 & 2 & 5 & 7 & 4 \\\\\n",
       "1 & 3 & 4 & 5 & 6 & 7 & 8 & 2 \\\\\n",
       "3 & 5 & 1 & 6 & 2 & 4 & 8 & 7\n",
       "\\end{array}\\right)$"
      ],
      "text/plain": [
       "[8 0 0 0 0 0 0 0]\n",
       "[3 7 5 1 6 2 4 8]\n",
       "[8 3 1 4 7 2 6 5]\n",
       "[3 4 8 7 5 1 6 2]\n",
       "[2 3 7 6 4 1 5 8]\n",
       "[6 3 8 1 2 5 7 4]\n",
       "[1 3 4 5 6 7 8 2]\n",
       "[3 5 1 6 2 4 8 7]"
      ]
     },
     "execution_count": 29,
     "metadata": {},
     "output_type": "execute_result"
    }
   ],
   "source": [
    "# Curve plane\n",
    "m = zero_matrix(SR, 8, 8)\n",
    "for j, mu in enumerate(F):\n",
    "    for i, a in enumerate(F):\n",
    "        b = f(mu)(a)\n",
    "        m[i, toInt(b)] = j+1\n",
    "m"
   ]
  },
  {
   "cell_type": "code",
   "execution_count": 24,
   "id": "9d32dafe-37ec-45b1-b999-1588d099c382",
   "metadata": {},
   "outputs": [
    {
     "data": {
      "text/html": [
       "<html>\\(\\displaystyle x^{2} + x\\)</html>"
      ],
      "text/latex": [
       "$\\displaystyle x^{2} + x$"
      ],
      "text/plain": [
       "x^2 + x"
      ]
     },
     "execution_count": 24,
     "metadata": {},
     "output_type": "execute_result"
    }
   ],
   "source": [
    "list(F)[4]"
   ]
  },
  {
   "cell_type": "code",
   "execution_count": 25,
   "id": "f06d88f2-9dce-465c-846a-e93b1f06c190",
   "metadata": {},
   "outputs": [
    {
     "data": {
      "text/html": [
       "<html>\\(\\displaystyle i\\)</html>"
      ],
      "text/latex": [
       "$\\displaystyle i$"
      ],
      "text/plain": [
       "I"
      ]
     },
     "execution_count": 25,
     "metadata": {},
     "output_type": "execute_result"
    }
   ],
   "source": [
    "c(x, f(x^2+x))"
   ]
  },
  {
   "cell_type": "code",
   "execution_count": 36,
   "id": "b4bd4e2f-6e8e-4a5a-8c6c-3cc309195438",
   "metadata": {},
   "outputs": [
    {
     "data": {
      "text/html": [
       "<html>\\(\\displaystyle \\mathrm{True}\\)</html>"
      ],
      "text/latex": [
       "$\\displaystyle \\mathrm{True}$"
      ],
      "text/plain": [
       "True"
      ]
     },
     "execution_count": 36,
     "metadata": {},
     "output_type": "execute_result"
    }
   ],
   "source": [
    "ray(x)(x) == f(x^2+x)(x)"
   ]
  },
  {
   "cell_type": "code",
   "execution_count": 37,
   "id": "f555a438-0d8a-4786-bc0c-3262e8ecc6a0",
   "metadata": {},
   "outputs": [
    {
     "data": {
      "text/html": [
       "<html>\\(\\displaystyle x^{2}\\)</html>"
      ],
      "text/latex": [
       "$\\displaystyle x^{2}$"
      ],
      "text/plain": [
       "x^2"
      ]
     },
     "execution_count": 37,
     "metadata": {},
     "output_type": "execute_result"
    }
   ],
   "source": [
    "f(x^2+x)(x)"
   ]
  },
  {
   "cell_type": "code",
   "execution_count": 56,
   "id": "1648326b-87f1-48e4-99a3-641e6e5cb866",
   "metadata": {},
   "outputs": [],
   "source": [
    "from itertools import product"
   ]
  },
  {
   "cell_type": "code",
   "execution_count": 69,
   "id": "00aac115-383f-4d31-837a-47c4705e434d",
   "metadata": {},
   "outputs": [
    {
     "data": {
      "text/html": [
       "<html>\\(\\displaystyle 16777216\\)</html>"
      ],
      "text/latex": [
       "$\\displaystyle 16777216$"
      ],
      "text/plain": [
       "16777216"
      ]
     },
     "execution_count": 69,
     "metadata": {},
     "output_type": "execute_result"
    }
   ],
   "source": [
    "len(list(product(all_perms(), repeat=8)))"
   ]
  },
  {
   "cell_type": "code",
   "execution_count": 74,
   "id": "b24f7453-f2cd-42b5-8e9e-b7c62f5ef50e",
   "metadata": {},
   "outputs": [
    {
     "name": "stdout",
     "output_type": "stream",
     "text": [
      "Computed 100 ray coefficient matrices\n",
      "Computed 200 ray coefficient matrices\n",
      "Computed 300 ray coefficient matrices\n",
      "Computed 400 ray coefficient matrices\n",
      "Computed 500 ray coefficient matrices\n",
      "Computed 600 ray coefficient matrices\n",
      "Computed 700 ray coefficient matrices\n",
      "Computed 800 ray coefficient matrices\n",
      "Computed 900 ray coefficient matrices\n",
      "Computed 1000 ray coefficient matrices\n",
      "Computed 1100 ray coefficient matrices\n",
      "Computed 1200 ray coefficient matrices\n",
      "Computed 1300 ray coefficient matrices\n",
      "Computed 1400 ray coefficient matrices\n",
      "Computed 1500 ray coefficient matrices\n",
      "Computed 1600 ray coefficient matrices\n"
     ]
    },
    {
     "ename": "KeyboardInterrupt",
     "evalue": "",
     "output_type": "error",
     "traceback": [
      "\u001b[0;31m---------------------------------------------------------------------------\u001b[0m",
      "\u001b[0;31mKeyboardInterrupt\u001b[0m                         Traceback (most recent call last)",
      "Cell \u001b[0;32mIn[74], line 4\u001b[0m\n\u001b[1;32m      2\u001b[0m \u001b[38;5;28;01mfor\u001b[39;00m perm1 \u001b[38;5;129;01min\u001b[39;00m product(all_perms(), repeat\u001b[38;5;241m=\u001b[39mInteger(\u001b[38;5;241m8\u001b[39m)):\n\u001b[1;32m      3\u001b[0m     \u001b[38;5;28;01mfor\u001b[39;00m perm2 \u001b[38;5;129;01min\u001b[39;00m product(all_perms(), repeat\u001b[38;5;241m=\u001b[39mInteger(\u001b[38;5;241m8\u001b[39m)):\n\u001b[0;32m----> 4\u001b[0m         \u001b[38;5;28;01mif\u001b[39;00m \u001b[43mPS\u001b[49m\u001b[43m(\u001b[49m\u001b[43mray\u001b[49m\u001b[43m,\u001b[49m\u001b[43m \u001b[49m\u001b[43mperm1\u001b[49m\u001b[43m)\u001b[49m \u001b[38;5;241m==\u001b[39m PS(f, perm2):\n\u001b[1;32m      5\u001b[0m             \u001b[38;5;28mprint\u001b[39m(\u001b[38;5;124m'\u001b[39m\u001b[38;5;124mMatch!\u001b[39m\u001b[38;5;124m'\u001b[39m, perm1, perm2)\n\u001b[1;32m      6\u001b[0m             \u001b[38;5;28;01mbreak\u001b[39;00m\n",
      "Cell \u001b[0;32mIn[16], line 12\u001b[0m, in \u001b[0;36mPS\u001b[0;34m(curve, perms)\u001b[0m\n\u001b[1;32m     10\u001b[0m         coeff \u001b[38;5;241m=\u001b[39m c(a, curve(mu), sols)\n\u001b[1;32m     11\u001b[0m         b \u001b[38;5;241m=\u001b[39m curve(mu)(a)\n\u001b[0;32m---> 12\u001b[0m         \u001b[43mphase_space\u001b[49m\u001b[43m[\u001b[49m\u001b[43mi\u001b[49m\u001b[43m,\u001b[49m\u001b[43m \u001b[49m\u001b[43mtoInt\u001b[49m\u001b[43m(\u001b[49m\u001b[43mb\u001b[49m\u001b[43m)\u001b[49m\u001b[43m]\u001b[49m \u001b[38;5;241m=\u001b[39m coeff\n\u001b[1;32m     13\u001b[0m \u001b[38;5;28;01mreturn\u001b[39;00m phase_space\n",
      "File \u001b[0;32msrc/cysignals/signals.pyx:310\u001b[0m, in \u001b[0;36mcysignals.signals.python_check_interrupt\u001b[0;34m()\u001b[0m\n",
      "\u001b[0;31mKeyboardInterrupt\u001b[0m: "
     ]
    }
   ],
   "source": [
    "count = 0\n",
    "for perm1 in product(all_perms(), repeat=8):\n",
    "    for perm2 in product(all_perms(), repeat=8):\n",
    "        if PS(ray, perm1) == PS(f, perm2):\n",
    "            print('Match!', perm1, perm2)\n",
    "            break\n",
    "        count += 1\n",
    "        if count % 100 == 0:\n",
    "            print('Computed {} curve coefficient matrices'.format(count))"
   ]
  },
  {
   "cell_type": "code",
   "execution_count": null,
   "id": "5e7e4a70-2026-4e94-af29-bfd705549117",
   "metadata": {},
   "outputs": [],
   "source": []
  }
 ],
 "metadata": {
  "kernelspec": {
   "display_name": "SageMath 9.8",
   "language": "sage",
   "name": "sagemath"
  },
  "language_info": {
   "codemirror_mode": {
    "name": "ipython",
    "version": 3
   },
   "file_extension": ".py",
   "mimetype": "text/x-python",
   "name": "python",
   "nbconvert_exporter": "python",
   "pygments_lexer": "ipython3",
   "version": "3.9.16"
  }
 },
 "nbformat": 4,
 "nbformat_minor": 5
}
