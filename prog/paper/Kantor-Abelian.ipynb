{
 "cells": [
  {
   "cell_type": "code",
   "execution_count": 1,
   "id": "9c656b18-c4d2-454e-a57d-001d930b4d18",
   "metadata": {},
   "outputs": [],
   "source": [
    "%display latex"
   ]
  },
  {
   "cell_type": "code",
   "execution_count": 3,
   "id": "1baa827e-4ee0-4550-b2f0-96d626788e4a",
   "metadata": {},
   "outputs": [],
   "source": [
    "N = 5\n",
    "F = GF(2^N, 'x')\n",
    "x = F.gen()"
   ]
  },
  {
   "cell_type": "code",
   "execution_count": 39,
   "id": "bff75d8f-b2c8-44e3-85c5-296447b099cb",
   "metadata": {},
   "outputs": [],
   "source": [
    "# How did I find this basis? Jungnickel's paper and brute force...\n",
    "basis = [x^3, x^5, x^11, x^22, x^24]"
   ]
  },
  {
   "cell_type": "code",
   "execution_count": 41,
   "id": "ca82f948-28f4-4d31-a5eb-ac6d857be47a",
   "metadata": {},
   "outputs": [],
   "source": [
    "def checkSelfDual(basis):\n",
    "    for a in basis:\n",
    "        for b in basis:\n",
    "            if a == b:\n",
    "                if (a * b).trace() != F(1):\n",
    "                    raise Exception(a,b)\n",
    "            else:\n",
    "                if (a * b).trace() != F(0):\n",
    "                    raise Exception(a,b)"
   ]
  },
  {
   "cell_type": "code",
   "execution_count": 42,
   "id": "a7be1346-f33f-46c1-804f-2d5944cc524f",
   "metadata": {},
   "outputs": [],
   "source": [
    "checkSelfDual(basis)"
   ]
  },
  {
   "cell_type": "code",
   "execution_count": 43,
   "id": "f7fe039e-2432-48f6-a8be-93bd7d4cf1a5",
   "metadata": {},
   "outputs": [],
   "source": [
    "# express an element as a linear combination of the basis\n",
    "components = lambda k: [(k * el).trace() for el in basis]\n",
    "\n",
    "# additive group character\n",
    "chi = lambda k: exp(pi * I * int(k.trace()))\n",
    "\n",
    "def toInt(k):\n",
    "    return list(F).index(k)"
   ]
  },
  {
   "cell_type": "code",
   "execution_count": 44,
   "id": "c381193c-9d15-4083-877a-3200c84b2558",
   "metadata": {},
   "outputs": [],
   "source": [
    "y = var('y')\n",
    "\n",
    "# compute the coefficients for the basis elements,\n",
    "def solve_basis(basis, curve):\n",
    "    sols = []\n",
    "    for k in basis:\n",
    "        sol = solve(chi(k * curve(k)) == y^2, y, solution_dict=True)\n",
    "        sols.append(sol[1]) # positive solutions only (choice)\n",
    "    return sols"
   ]
  },
  {
   "cell_type": "code",
   "execution_count": 45,
   "id": "ee5a7614-88ae-4312-abb7-c13b5a2eab0e",
   "metadata": {},
   "outputs": [],
   "source": [
    "# after computing the solutions we can simply\n",
    "# get them for each basis element.\n",
    "def basis_c(a, l, sols):\n",
    "    if a == 0:\n",
    "        return 1\n",
    "    return sols[l][y]"
   ]
  },
  {
   "cell_type": "code",
   "execution_count": 46,
   "id": "8b03f9fd-94fa-41b5-89ea-94f849665739",
   "metadata": {},
   "outputs": [],
   "source": [
    "# Compute an arbitrary coefficient c_{\\alpha,f} for a \n",
    "# given curve f using the general formula.\n",
    "def c(alpha, curve, sols=None):\n",
    "    if not sols:\n",
    "        sols = solve_basis(basis, curve)\n",
    "    \n",
    "    # Expand alpha in the basis\n",
    "    comps = components(alpha)\n",
    "\n",
    "    # Apply the formula\n",
    "    s1 = 0\n",
    "    for k in range(N-1):\n",
    "        s2 = 0\n",
    "        for j in range(k+1, N):\n",
    "            s2 += comps[j] * basis[j]\n",
    "        s1 += s2 * curve(comps[k] * basis[k])\n",
    "        \n",
    "    return chi(s1) * prod([basis_c(a, l, sols) for l, a in enumerate(comps)])"
   ]
  },
  {
   "cell_type": "code",
   "execution_count": 47,
   "id": "7ee5e634-3f02-4dad-81f9-68b8017f104c",
   "metadata": {},
   "outputs": [],
   "source": [
    "def sign_perm(sols, perm=None):\n",
    "    if perm:\n",
    "        for k, sol in enumerate(sols):\n",
    "            sols[k][y] = perm[k] * sols[k][y]\n",
    "    return sols"
   ]
  },
  {
   "cell_type": "code",
   "execution_count": 48,
   "id": "918e8cd2-41f1-49f8-833a-d2e5671d2843",
   "metadata": {},
   "outputs": [
    {
     "name": "stdout",
     "output_type": "stream",
     "text": [
      "Recurrence relation holds!\n"
     ]
    }
   ],
   "source": [
    "for mu in F:\n",
    "    curve = lambda t: mu * t # \\beta = \\mu \\alpha\n",
    "    sols = sign_perm(solve_basis(basis, curve), [1,1,1,1,1])\n",
    "    for k in F:\n",
    "        for kp in F:\n",
    "            lhs = c(k, curve, sols) * c(kp, curve, sols)\n",
    "            rhs = chi(kp * curve(k)) * c(k + kp, curve, sols)\n",
    "            if lhs != rhs:\n",
    "                raise Exception('Recurrence relation does not hold!', mu)\n",
    "print('Recurrence relation holds!')"
   ]
  },
  {
   "cell_type": "code",
   "execution_count": 49,
   "id": "3ebe8d25-531c-4278-a1e3-3711a6448817",
   "metadata": {},
   "outputs": [],
   "source": [
    "def ray(mu):\n",
    "    return lambda t: mu * t"
   ]
  },
  {
   "cell_type": "code",
   "execution_count": 50,
   "id": "f2dd1a10-868c-4d0c-9769-f0fc463bfec7",
   "metadata": {},
   "outputs": [],
   "source": [
    "def PS(curve, perms):\n",
    "    phase_space = zero_matrix(SR, 2^N, 2^N)\n",
    "    phase_space[0,:] = 1 # vertical line\n",
    "    for j, mu in enumerate(F): # iterate through the curve parametr\n",
    "        # same sign choice for a fixed curve parameter\n",
    "        sols = sign_perm(solve_basis(basis, curve(mu)), perms[j])\n",
    "        for i, a in enumerate(F):\n",
    "            # loop through alpha to obtain coefficient and\n",
    "            # corresponding point\n",
    "            coeff = c(a, curve(mu), sols)\n",
    "            b = curve(mu)(a)\n",
    "            phase_space[i, toInt(b)] = coeff\n",
    "    return phase_space"
   ]
  },
  {
   "cell_type": "code",
   "execution_count": 52,
   "id": "76aba360-0eac-4ae5-a6c7-74d8a82e56a6",
   "metadata": {},
   "outputs": [
    {
     "data": {
      "text/html": [
       "<html>\\(\\displaystyle \\left(\\begin{array}{rrrrrrrrrrrrrrrrrrrrrrrrrrrrrrrr}\n",
       "1 & 1 & 1 & 1 & 1 & 1 & 1 & 1 & 1 & 1 & 1 & 1 & 1 & 1 & 1 & 1 & 1 & 1 & 1 & 1 & 1 & 1 & 1 & 1 & 1 & 1 & 1 & 1 & 1 & 1 & 1 & 1 \\\\\n",
       "1 & -1 & -i & 1 & i & -i & -1 & -1 & i & -i & i & -i & i & -1 & 1 & -1 & -i & i & 1 & -i & i & -i & 1 & i & 1 & -i & -1 & 1 & 1 & -1 & i & -1 \\\\\n",
       "1 & -i & 1 & -i & i & 1 & -1 & -i & i & i & -i & i & -1 & 1 & -1 & i & -i & 1 & -i & i & i & 1 & i & -1 & -i & -1 & 1 & -1 & -1 & -i & -1 & 1 \\\\\n",
       "1 & 1 & i & i & 1 & 1 & i & i & i & i & i & 1 & 1 & 1 & i & i & 1 & i & i & i & 1 & i & 1 & i & 1 & 1 & 1 & 1 & i & 1 & 1 & i \\\\\n",
       "1 & -i & i & 1 & -1 & i & i & i & -i & i & 1 & 1 & -1 & -i & -i & -1 & i & -i & -i & -1 & -i & -1 & i & 1 & 1 & 1 & -1 & i & 1 & -1 & -i & -1 \\\\\n",
       "1 & i & 1 & 1 & i & i & i & i & i & 1 & 1 & 1 & i & i & 1 & i & i & i & 1 & i & 1 & i & 1 & 1 & 1 & 1 & i & 1 & 1 & i & 1 & i \\\\\n",
       "1 & 1 & -1 & -i & i & i & -i & i & -1 & -1 & 1 & i & i & 1 & i & -i & -i & -1 & -i & -1 & i & 1 & 1 & -1 & -1 & i & -1 & 1 & -i & 1 & -i & -i \\\\\n",
       "1 & -1 & i & i & -i & i & i & 1 & 1 & -1 & -i & -i & -1 & -i & -i & i & 1 & i & 1 & i & 1 & 1 & 1 & 1 & -i & 1 & 1 & -i & -1 & i & -i & 1 \\\\\n",
       "1 & i & i & -i & i & -i & -1 & -1 & -1 & -i & -i & 1 & -i & -i & i & -1 & i & -1 & -i & -1 & 1 & -1 & 1 & i & 1 & 1 & -i & 1 & i & i & 1 & -1 \\\\\n",
       "1 & i & i & i & i & -1 & -1 & -1 & -i & -i & 1 & i & i & -i & -1 & i & -1 & i & -1 & 1 & -1 & -1 & i & -1 & -1 & i & 1 & -i & i & -1 & -1 & i \\\\\n",
       "1 & -i & -i & -i & 1 & -1 & -1 & i & -i & 1 & -i & -i & -i & 1 & -i & 1 & i & 1 & 1 & -1 & 1 & i & 1 & 1 & -i & 1 & i & -i & 1 & -1 & -i & -i \\\\\n",
       "1 & i & i & 1 & 1 & 1 & i & i & 1 & i & i & i & 1 & i & 1 & i & 1 & 1 & 1 & 1 & i & 1 & 1 & i & 1 & i & i & 1 & 1 & i & i & i \\\\\n",
       "1 & -i & -1 & -1 & 1 & -i & i & 1 & i & -i & -i & 1 & -i & -1 & i & 1 & 1 & -1 & -1 & i & 1 & -1 & -i & -1 & -i & i & -1 & 1 & i & -i & i & i \\\\\n",
       "1 & 1 & 1 & 1 & i & -i & -1 & -i & -i & -i & 1 & i & 1 & -i & -1 & 1 & -1 & 1 & -i & 1 & -1 & -i & 1 & -i & -i & 1 & 1 & -i & i & -i & -i & i \\\\\n",
       "1 & 1 & -1 & i & i & 1 & -i & -i & i & -1 & -i & 1 & i & 1 & -1 & -1 & 1 & i & -1 & -1 & -i & -1 & i & -i & 1 & 1 & -i & i & i & -i & -i & -1 \\\\\n",
       "1 & -1 & -i & i & 1 & -i & -i & -i & -1 & i & 1 & i & 1 & 1 & -1 & 1 & i & -1 & 1 & i & -1 & -i & i & 1 & -1 & -i & -i & i & i & -i & -1 & -1 \\\\\n",
       "1 & i & i & 1 & -i & -i & i & -1 & -i & 1 & i & 1 & -1 & -1 & 1 & i & -1 & -1 & -i & -1 & i & -i & 1 & 1 & -i & i & i & -i & -i & -1 & 1 & -1 \\\\\n",
       "1 & i & -1 & -i & -i & -i & 1 & -i & 1 & i & -1 & 1 & 1 & -1 & -i & -1 & 1 & -i & 1 & i & i & -1 & -1 & i & -i & -i & i & i & 1 & -1 & -1 & i \\\\\n",
       "1 & 1 & i & -i & i & 1 & i & -1 & i & 1 & 1 & -1 & -1 & -i & -1 & 1 & -i & -1 & -i & -i & -1 & 1 & i & i & i & -i & i & 1 & -1 & -1 & -i & -i \\\\\n",
       "1 & i & -i & i & 1 & -i & -1 & -i & 1 & 1 & 1 & 1 & -i & 1 & -1 & -i & -1 & i & i & 1 & -1 & -i & -i & i & i & i & 1 & 1 & 1 & -i & i & 1 \\\\\n",
       "1 & i & -i & 1 & -i & -1 & -i & -1 & -1 & -1 & 1 & -i & -1 & 1 & -i & 1 & -i & -i & -1 & 1 & -i & i & i & i & i & -1 & 1 & 1 & i & i & -1 & i \\\\\n",
       "1 & i & -1 & i & -1 & i & 1 & 1 & -1 & -1 & i & 1 & -1 & i & -1 & -i & -i & 1 & 1 & -i & -i & -i & i & -i & 1 & -1 & 1 & -i & i & -1 & -i & i \\\\\n",
       "1 & 1 & i & 1 & i & 1 & 1 & 1 & 1 & i & 1 & 1 & i & 1 & i & i & 1 & 1 & i & i & i & i & i & 1 & 1 & 1 & i & i & 1 & i & i & i \\\\\n",
       "1 & i & -1 & i & 1 & 1 & -1 & -1 & i & -1 & -1 & i & 1 & i & -i & -1 & 1 & i & -i & -i & -i & -i & 1 & -1 & 1 & i & -i & 1 & i & -i & -i & -1 \\\\\n",
       "1 & 1 & i & 1 & 1 & 1 & 1 & i & 1 & 1 & i & 1 & i & i & 1 & 1 & i & i & i & i & i & 1 & 1 & 1 & i & i & 1 & i & i & i & 1 & i \\\\\n",
       "1 & -i & -1 & 1 & 1 & 1 & i & -1 & 1 & i & -1 & -i & -i & -1 & 1 & i & -i & i & i & i & -1 & 1 & 1 & i & -i & -1 & -i & -i & i & -1 & -i & -1 \\\\\n",
       "1 & -1 & -1 & -1 & -1 & -i & 1 & -1 & -i & 1 & -i & i & -1 & -1 & -i & i & -i & i & i & 1 & 1 & -1 & i & i & 1 & i & -i & i & 1 & -i & 1 & -i \\\\\n",
       "1 & 1 & -1 & 1 & i & 1 & 1 & -i & 1 & i & i & 1 & -1 & i & i & -i & i & -i & -1 & -1 & -1 & -i & -i & 1 & -i & -i & i & -1 & i & -1 & -i & -1 \\\\\n",
       "1 & 1 & -1 & i & 1 & 1 & -i & -1 & i & i & -1 & 1 & -i & -i & -i & i & i & -1 & -1 & -1 & i & -i & 1 & -i & i & -i & 1 & -i & -1 & i & 1 & -1 \\\\\n",
       "1 & -1 & i & -1 & -1 & i & -1 & -i & -i & 1 & 1 & -i & i & i & i & i & 1 & 1 & -1 & i & -i & 1 & -i & -i & -i & -1 & i & -1 & -i & 1 & 1 & -1 \\\\\n",
       "1 & i & -1 & 1 & i & 1 & -i & -i & 1 & -1 & -i & i & i & i & -i & -1 & 1 & 1 & -i & -i & -1 & -i & i & -i & 1 & i & -1 & i & 1 & -1 & -1 & -1 \\\\\n",
       "1 & 1 & 1 & -i & 1 & i & -i & -1 & 1 & i & i & -i & -i & -i & -1 & -1 & 1 & -i & i & -1 & i & -i & -i & -1 & -i & -1 & -i & -1 & -1 & -1 & -1 & i\n",
       "\\end{array}\\right)\\)</html>"
      ],
      "text/latex": [
       "$\\displaystyle \\left(\\begin{array}{rrrrrrrrrrrrrrrrrrrrrrrrrrrrrrrr}\n",
       "1 & 1 & 1 & 1 & 1 & 1 & 1 & 1 & 1 & 1 & 1 & 1 & 1 & 1 & 1 & 1 & 1 & 1 & 1 & 1 & 1 & 1 & 1 & 1 & 1 & 1 & 1 & 1 & 1 & 1 & 1 & 1 \\\\\n",
       "1 & -1 & -i & 1 & i & -i & -1 & -1 & i & -i & i & -i & i & -1 & 1 & -1 & -i & i & 1 & -i & i & -i & 1 & i & 1 & -i & -1 & 1 & 1 & -1 & i & -1 \\\\\n",
       "1 & -i & 1 & -i & i & 1 & -1 & -i & i & i & -i & i & -1 & 1 & -1 & i & -i & 1 & -i & i & i & 1 & i & -1 & -i & -1 & 1 & -1 & -1 & -i & -1 & 1 \\\\\n",
       "1 & 1 & i & i & 1 & 1 & i & i & i & i & i & 1 & 1 & 1 & i & i & 1 & i & i & i & 1 & i & 1 & i & 1 & 1 & 1 & 1 & i & 1 & 1 & i \\\\\n",
       "1 & -i & i & 1 & -1 & i & i & i & -i & i & 1 & 1 & -1 & -i & -i & -1 & i & -i & -i & -1 & -i & -1 & i & 1 & 1 & 1 & -1 & i & 1 & -1 & -i & -1 \\\\\n",
       "1 & i & 1 & 1 & i & i & i & i & i & 1 & 1 & 1 & i & i & 1 & i & i & i & 1 & i & 1 & i & 1 & 1 & 1 & 1 & i & 1 & 1 & i & 1 & i \\\\\n",
       "1 & 1 & -1 & -i & i & i & -i & i & -1 & -1 & 1 & i & i & 1 & i & -i & -i & -1 & -i & -1 & i & 1 & 1 & -1 & -1 & i & -1 & 1 & -i & 1 & -i & -i \\\\\n",
       "1 & -1 & i & i & -i & i & i & 1 & 1 & -1 & -i & -i & -1 & -i & -i & i & 1 & i & 1 & i & 1 & 1 & 1 & 1 & -i & 1 & 1 & -i & -1 & i & -i & 1 \\\\\n",
       "1 & i & i & -i & i & -i & -1 & -1 & -1 & -i & -i & 1 & -i & -i & i & -1 & i & -1 & -i & -1 & 1 & -1 & 1 & i & 1 & 1 & -i & 1 & i & i & 1 & -1 \\\\\n",
       "1 & i & i & i & i & -1 & -1 & -1 & -i & -i & 1 & i & i & -i & -1 & i & -1 & i & -1 & 1 & -1 & -1 & i & -1 & -1 & i & 1 & -i & i & -1 & -1 & i \\\\\n",
       "1 & -i & -i & -i & 1 & -1 & -1 & i & -i & 1 & -i & -i & -i & 1 & -i & 1 & i & 1 & 1 & -1 & 1 & i & 1 & 1 & -i & 1 & i & -i & 1 & -1 & -i & -i \\\\\n",
       "1 & i & i & 1 & 1 & 1 & i & i & 1 & i & i & i & 1 & i & 1 & i & 1 & 1 & 1 & 1 & i & 1 & 1 & i & 1 & i & i & 1 & 1 & i & i & i \\\\\n",
       "1 & -i & -1 & -1 & 1 & -i & i & 1 & i & -i & -i & 1 & -i & -1 & i & 1 & 1 & -1 & -1 & i & 1 & -1 & -i & -1 & -i & i & -1 & 1 & i & -i & i & i \\\\\n",
       "1 & 1 & 1 & 1 & i & -i & -1 & -i & -i & -i & 1 & i & 1 & -i & -1 & 1 & -1 & 1 & -i & 1 & -1 & -i & 1 & -i & -i & 1 & 1 & -i & i & -i & -i & i \\\\\n",
       "1 & 1 & -1 & i & i & 1 & -i & -i & i & -1 & -i & 1 & i & 1 & -1 & -1 & 1 & i & -1 & -1 & -i & -1 & i & -i & 1 & 1 & -i & i & i & -i & -i & -1 \\\\\n",
       "1 & -1 & -i & i & 1 & -i & -i & -i & -1 & i & 1 & i & 1 & 1 & -1 & 1 & i & -1 & 1 & i & -1 & -i & i & 1 & -1 & -i & -i & i & i & -i & -1 & -1 \\\\\n",
       "1 & i & i & 1 & -i & -i & i & -1 & -i & 1 & i & 1 & -1 & -1 & 1 & i & -1 & -1 & -i & -1 & i & -i & 1 & 1 & -i & i & i & -i & -i & -1 & 1 & -1 \\\\\n",
       "1 & i & -1 & -i & -i & -i & 1 & -i & 1 & i & -1 & 1 & 1 & -1 & -i & -1 & 1 & -i & 1 & i & i & -1 & -1 & i & -i & -i & i & i & 1 & -1 & -1 & i \\\\\n",
       "1 & 1 & i & -i & i & 1 & i & -1 & i & 1 & 1 & -1 & -1 & -i & -1 & 1 & -i & -1 & -i & -i & -1 & 1 & i & i & i & -i & i & 1 & -1 & -1 & -i & -i \\\\\n",
       "1 & i & -i & i & 1 & -i & -1 & -i & 1 & 1 & 1 & 1 & -i & 1 & -1 & -i & -1 & i & i & 1 & -1 & -i & -i & i & i & i & 1 & 1 & 1 & -i & i & 1 \\\\\n",
       "1 & i & -i & 1 & -i & -1 & -i & -1 & -1 & -1 & 1 & -i & -1 & 1 & -i & 1 & -i & -i & -1 & 1 & -i & i & i & i & i & -1 & 1 & 1 & i & i & -1 & i \\\\\n",
       "1 & i & -1 & i & -1 & i & 1 & 1 & -1 & -1 & i & 1 & -1 & i & -1 & -i & -i & 1 & 1 & -i & -i & -i & i & -i & 1 & -1 & 1 & -i & i & -1 & -i & i \\\\\n",
       "1 & 1 & i & 1 & i & 1 & 1 & 1 & 1 & i & 1 & 1 & i & 1 & i & i & 1 & 1 & i & i & i & i & i & 1 & 1 & 1 & i & i & 1 & i & i & i \\\\\n",
       "1 & i & -1 & i & 1 & 1 & -1 & -1 & i & -1 & -1 & i & 1 & i & -i & -1 & 1 & i & -i & -i & -i & -i & 1 & -1 & 1 & i & -i & 1 & i & -i & -i & -1 \\\\\n",
       "1 & 1 & i & 1 & 1 & 1 & 1 & i & 1 & 1 & i & 1 & i & i & 1 & 1 & i & i & i & i & i & 1 & 1 & 1 & i & i & 1 & i & i & i & 1 & i \\\\\n",
       "1 & -i & -1 & 1 & 1 & 1 & i & -1 & 1 & i & -1 & -i & -i & -1 & 1 & i & -i & i & i & i & -1 & 1 & 1 & i & -i & -1 & -i & -i & i & -1 & -i & -1 \\\\\n",
       "1 & -1 & -1 & -1 & -1 & -i & 1 & -1 & -i & 1 & -i & i & -1 & -1 & -i & i & -i & i & i & 1 & 1 & -1 & i & i & 1 & i & -i & i & 1 & -i & 1 & -i \\\\\n",
       "1 & 1 & -1 & 1 & i & 1 & 1 & -i & 1 & i & i & 1 & -1 & i & i & -i & i & -i & -1 & -1 & -1 & -i & -i & 1 & -i & -i & i & -1 & i & -1 & -i & -1 \\\\\n",
       "1 & 1 & -1 & i & 1 & 1 & -i & -1 & i & i & -1 & 1 & -i & -i & -i & i & i & -1 & -1 & -1 & i & -i & 1 & -i & i & -i & 1 & -i & -1 & i & 1 & -1 \\\\\n",
       "1 & -1 & i & -1 & -1 & i & -1 & -i & -i & 1 & 1 & -i & i & i & i & i & 1 & 1 & -1 & i & -i & 1 & -i & -i & -i & -1 & i & -1 & -i & 1 & 1 & -1 \\\\\n",
       "1 & i & -1 & 1 & i & 1 & -i & -i & 1 & -1 & -i & i & i & i & -i & -1 & 1 & 1 & -i & -i & -1 & -i & i & -i & 1 & i & -1 & i & 1 & -1 & -1 & -1 \\\\\n",
       "1 & 1 & 1 & -i & 1 & i & -i & -1 & 1 & i & i & -i & -i & -i & -1 & -1 & 1 & -i & i & -1 & i & -i & -i & -1 & -i & -1 & -i & -1 & -1 & -1 & -1 & i\n",
       "\\end{array}\\right)$"
      ],
      "text/plain": [
       "32 x 32 dense matrix over Symbolic Ring (use the '.str()' method to see the entries)"
      ]
     },
     "execution_count": 52,
     "metadata": {},
     "output_type": "execute_result"
    }
   ],
   "source": [
    "ps = PS(ray, [[1,1,1,1,1]] * 32)\n",
    "ps"
   ]
  },
  {
   "cell_type": "markdown",
   "id": "8f1ac8af-cb6d-4aca-b063-af30611f6f74",
   "metadata": {},
   "source": [
    "Kantor's spread which is not isomorphic to the Desarguesian spread is given by the opperation:\n",
    "$$\n",
    "\\alpha = 0,\n",
    "\\quad\n",
    "\\beta = m^2 \\alpha + m T(\\alpha) + T(m\\alpha),\n",
    "$$\n",
    "for $m \\in GF(2^5)$ and $T$ is the field trace function."
   ]
  },
  {
   "cell_type": "code",
   "execution_count": 53,
   "id": "c3582384-40fc-4a4d-8ac2-7d17dea80db7",
   "metadata": {},
   "outputs": [],
   "source": [
    "def Kantor(m):\n",
    "    return lambda a: m^2 * a + m * a.trace() + (m * a).trace()"
   ]
  },
  {
   "cell_type": "markdown",
   "id": "bdc22ddb-e189-4c23-b829-55f1e5e8a1bf",
   "metadata": {},
   "source": [
    "Let's verify that this operation produces an affine plane, i.e., each line is a subspace and there is no non-trivial intersection between lines."
   ]
  },
  {
   "cell_type": "code",
   "execution_count": 58,
   "id": "844a15b1-1f8e-4655-bab6-f6cbe85b4bab",
   "metadata": {},
   "outputs": [],
   "source": [
    "def checkAdditivity(points):\n",
    "    for a1, b1 in points:\n",
    "        for a2, b2 in points:\n",
    "            if (a1 + a2, b1 + b2) not in points:\n",
    "                raise Exception('Not additive!')"
   ]
  },
  {
   "cell_type": "code",
   "execution_count": 59,
   "id": "d15036da-82db-4e44-ba52-8f82a4c0387f",
   "metadata": {},
   "outputs": [],
   "source": [
    "for m in F:\n",
    "    points = [(a, Kantor(m)(a)) for a in F]\n",
    "    checkAdditivity(points)"
   ]
  },
  {
   "cell_type": "code",
   "execution_count": 60,
   "id": "ebb881a5-ab74-4e85-9a95-1a363fbb7d18",
   "metadata": {},
   "outputs": [],
   "source": [
    "for m1 in F:\n",
    "    for m2 in F:\n",
    "        if m1 != m2:\n",
    "            curve1 = [(a, Kantor(m1)(a)) for a in F]\n",
    "            curve2 = [(a, Kantor(m2)(a)) for a in F]\n",
    "            if len(list(set(curve1) & set(curve2))) != 1:\n",
    "                raise Exception('Found non-trivial intersection!')"
   ]
  },
  {
   "cell_type": "markdown",
   "id": "a832c316-2e39-47da-8121-c99dc8f67184",
   "metadata": {},
   "source": [
    "So it is defined perfectly. Now let's test to see if any of the curves are abelian given our choice of phase space $\\Gamma$."
   ]
  },
  {
   "cell_type": "code",
   "execution_count": 61,
   "id": "1c82f90d-947d-4592-9502-580c78344f83",
   "metadata": {},
   "outputs": [],
   "source": [
    "def Proj(u, v=None):\n",
    "    if not v:\n",
    "        v = u\n",
    "    return u.tensor_product(v.conjugate_transpose())\n",
    "\n",
    "Id = identity_matrix(2^N)\n",
    "\n",
    "def Fourier():\n",
    "    s = zero_matrix(SR, 2^N, 2^N)\n",
    "    for i, a in enumerate(F):\n",
    "        for j, b in enumerate(F):\n",
    "            s[i,j] = chi(a * b) / sqrt(2^N)\n",
    "    return s\n",
    "FF = Fourier()"
   ]
  },
  {
   "cell_type": "code",
   "execution_count": 62,
   "id": "d8a8becd-22b7-4c5c-b91d-a4e0752c7013",
   "metadata": {},
   "outputs": [],
   "source": [
    "def phi(a, b):\n",
    "    return ps[toInt(a), toInt(b)]\n",
    "\n",
    "def Z(a):\n",
    "    return diagonal_matrix([chi(a * k) for k in F])\n",
    "\n",
    "def X(b):\n",
    "    return FF.conjugate_transpose() * Z(b) * FF\n",
    "\n",
    "def D(a, b):\n",
    "    return phi(a, b) * Z(a) * X(b)"
   ]
  },
  {
   "cell_type": "code",
   "execution_count": 103,
   "id": "47d8f9a0-cd99-4d35-89e4-7f26a3567390",
   "metadata": {},
   "outputs": [],
   "source": [
    "def testCurve(points):\n",
    "    for p1 in points:\n",
    "        for p2 in points:\n",
    "            p_op = D(p1[0], p1[1]) @ D(p2[0], p2[1])\n",
    "            s_op = D(p1[0] + p2[0], p1[1] + p2[1]) # assuming additivity\n",
    "            if not np.allclose(p_op, s_op):\n",
    "                raise Exception(p1, p2)\n",
    "    return True"
   ]
  },
  {
   "cell_type": "markdown",
   "id": "91433118-028d-442d-8992-6ec69ef98e42",
   "metadata": {},
   "source": [
    "Takes way too long, time to bring `numpy`."
   ]
  },
  {
   "cell_type": "code",
   "execution_count": 104,
   "id": "47782396-7cf0-45e9-a034-f1a8f82e8e74",
   "metadata": {},
   "outputs": [],
   "source": [
    "import numpy as np"
   ]
  },
  {
   "cell_type": "code",
   "execution_count": 105,
   "id": "1dbd0293-e44e-44dd-bf8f-42650ae0302d",
   "metadata": {},
   "outputs": [],
   "source": [
    "chi = lambda k: np.exp(np.pi * 1j * int(k.trace()))\n",
    "\n",
    "def Proj(u, v=None):\n",
    "    if not v:\n",
    "        v = u\n",
    "    return np.outer(u, v.conj().T)\n",
    "\n",
    "Id = np.eye(2^N)\n",
    "\n",
    "def Fourier():\n",
    "    s = np.zeros((2^N, 2^N), dtype='complex128')\n",
    "    for i, a in enumerate(F):\n",
    "        for j, b in enumerate(F):\n",
    "            s[i,j] = chi(a * b) / np.sqrt(2^N)\n",
    "    return s\n",
    "FF = Fourier()\n",
    "\n",
    "def phi(a, b):\n",
    "    return complex(ps[toInt(a), toInt(b)])\n",
    "\n",
    "def Z(a):\n",
    "    return np.diag([chi(a * k) for k in F])\n",
    "\n",
    "def X(b):\n",
    "    return FF.conj().T @ Z(b) @ FF\n",
    "\n",
    "def D(a, b):\n",
    "    return phi(a, b) * Z(a) @ X(b)"
   ]
  },
  {
   "cell_type": "code",
   "execution_count": 106,
   "id": "3b0cd4e4-1703-4be9-8232-1b81abd4a1fa",
   "metadata": {},
   "outputs": [
    {
     "data": {
      "text/html": [
       "<html>\\(\\displaystyle \\mathrm{True}\\)</html>"
      ],
      "text/latex": [
       "$\\displaystyle \\mathrm{True}$"
      ],
      "text/plain": [
       "True"
      ]
     },
     "execution_count": 106,
     "metadata": {},
     "output_type": "execute_result"
    }
   ],
   "source": [
    "points = [(a, Kantor(F(0))(a)) for a in F]\n",
    "testCurve(points)"
   ]
  },
  {
   "cell_type": "code",
   "execution_count": 107,
   "id": "f7e9831d-7833-4c48-bc19-3b71595c3376",
   "metadata": {},
   "outputs": [
    {
     "name": "stdout",
     "output_type": "stream",
     "text": [
      "Testing with m = 0\n",
      "0 abelian\n",
      "Testing with m = x\n",
      "Testing with m = x^2\n",
      "Testing with m = x^3\n",
      "Testing with m = x^4\n",
      "Testing with m = x^2 + 1\n",
      "Testing with m = x^3 + x\n",
      "Testing with m = x^4 + x^2\n",
      "Testing with m = x^3 + x^2 + 1\n",
      "Testing with m = x^4 + x^3 + x\n",
      "Testing with m = x^4 + 1\n",
      "Testing with m = x^2 + x + 1\n",
      "Testing with m = x^3 + x^2 + x\n",
      "Testing with m = x^4 + x^3 + x^2\n",
      "Testing with m = x^4 + x^3 + x^2 + 1\n",
      "Testing with m = x^4 + x^3 + x^2 + x + 1\n",
      "Testing with m = x^4 + x^3 + x + 1\n",
      "Testing with m = x^4 + x + 1\n",
      "Testing with m = x + 1\n",
      "Testing with m = x^2 + x\n",
      "Testing with m = x^3 + x^2\n",
      "Testing with m = x^4 + x^3\n",
      "Testing with m = x^4 + x^2 + 1\n",
      "Testing with m = x^3 + x^2 + x + 1\n",
      "Testing with m = x^4 + x^3 + x^2 + x\n",
      "Testing with m = x^4 + x^3 + 1\n",
      "Testing with m = x^4 + x^2 + x + 1\n",
      "Testing with m = x^3 + x + 1\n",
      "Testing with m = x^4 + x^2 + x\n",
      "Testing with m = x^3 + 1\n",
      "Testing with m = x^4 + x\n",
      "Testing with m = 1\n",
      "1 abelian\n"
     ]
    }
   ],
   "source": [
    "for m in F:\n",
    "    print('Testing with m = {}'.format(m))\n",
    "    points = [(a, Kantor(m)(a)) for a in F]\n",
    "    try:\n",
    "        testCurve(points)\n",
    "        print(m, 'abelian')\n",
    "    except:\n",
    "        continue"
   ]
  },
  {
   "cell_type": "markdown",
   "id": "082e9029-6174-469e-a70e-d05563996e95",
   "metadata": {},
   "source": [
    "No non-trivial abelian curves found! Does this have to do with the fact that the affine planes are not inequivalent?"
   ]
  },
  {
   "cell_type": "code",
   "execution_count": 108,
   "id": "cdcf91ed-9f09-4ee5-ade1-618bd43846f0",
   "metadata": {},
   "outputs": [
    {
     "ename": "Exception",
     "evalue": "((x, x^3), (x^4, x^3 + x + 1))",
     "output_type": "error",
     "traceback": [
      "\u001b[0;31m---------------------------------------------------------------------------\u001b[0m",
      "\u001b[0;31mException\u001b[0m                                 Traceback (most recent call last)",
      "Cell \u001b[0;32mIn[108], line 1\u001b[0m\n\u001b[0;32m----> 1\u001b[0m \u001b[43mtestCurve\u001b[49m\u001b[43m(\u001b[49m\u001b[43m[\u001b[49m\u001b[43m(\u001b[49m\u001b[43ma\u001b[49m\u001b[43m,\u001b[49m\u001b[43mKantor\u001b[49m\u001b[43m(\u001b[49m\u001b[43mx\u001b[49m\u001b[43m)\u001b[49m\u001b[43m(\u001b[49m\u001b[43ma\u001b[49m\u001b[43m)\u001b[49m\u001b[43m)\u001b[49m\u001b[43m \u001b[49m\u001b[38;5;28;43;01mfor\u001b[39;49;00m\u001b[43m \u001b[49m\u001b[43ma\u001b[49m\u001b[43m \u001b[49m\u001b[38;5;129;43;01min\u001b[39;49;00m\u001b[43m \u001b[49m\u001b[43mF\u001b[49m\u001b[43m]\u001b[49m\u001b[43m)\u001b[49m\n",
      "Cell \u001b[0;32mIn[103], line 7\u001b[0m, in \u001b[0;36mtestCurve\u001b[0;34m(points)\u001b[0m\n\u001b[1;32m      5\u001b[0m         s_op \u001b[38;5;241m=\u001b[39m D(p1[Integer(\u001b[38;5;241m0\u001b[39m)] \u001b[38;5;241m+\u001b[39m p2[Integer(\u001b[38;5;241m0\u001b[39m)], p1[Integer(\u001b[38;5;241m1\u001b[39m)] \u001b[38;5;241m+\u001b[39m p2[Integer(\u001b[38;5;241m1\u001b[39m)]) \u001b[38;5;66;03m# assuming additivity\u001b[39;00m\n\u001b[1;32m      6\u001b[0m         \u001b[38;5;28;01mif\u001b[39;00m \u001b[38;5;129;01mnot\u001b[39;00m np\u001b[38;5;241m.\u001b[39mallclose(p_op, s_op):\n\u001b[0;32m----> 7\u001b[0m             \u001b[38;5;28;01mraise\u001b[39;00m \u001b[38;5;167;01mException\u001b[39;00m(p1, p2)\n\u001b[1;32m      8\u001b[0m \u001b[38;5;28;01mreturn\u001b[39;00m \u001b[38;5;28;01mTrue\u001b[39;00m\n",
      "\u001b[0;31mException\u001b[0m: ((x, x^3), (x^4, x^3 + x + 1))"
     ]
    }
   ],
   "source": [
    "testCurve([(a,Kantor(x)(a)) for a in F])"
   ]
  },
  {
   "cell_type": "code",
   "execution_count": null,
   "id": "4a5aefb3-08ec-4f37-9620-e4b7e9ebd2ea",
   "metadata": {},
   "outputs": [],
   "source": []
  }
 ],
 "metadata": {
  "kernelspec": {
   "display_name": "SageMath 9.8",
   "language": "sage",
   "name": "sagemath"
  },
  "language_info": {
   "codemirror_mode": {
    "name": "ipython",
    "version": 3
   },
   "file_extension": ".py",
   "mimetype": "text/x-python",
   "name": "python",
   "nbconvert_exporter": "python",
   "pygments_lexer": "ipython3",
   "version": "3.9.16"
  }
 },
 "nbformat": 4,
 "nbformat_minor": 5
}
