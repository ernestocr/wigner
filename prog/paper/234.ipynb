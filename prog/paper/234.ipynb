{
 "cells": [
  {
   "cell_type": "markdown",
   "id": "e63d7828-8633-4ced-b5c6-f7822df8cdb2",
   "metadata": {},
   "source": [
    "### (2,3,4) curves\n",
    "\n",
    "We will use the $(2,3,4)$ factorization curves to create a Wigner kernel. According to Sainz these curves can't be used to generate MUBs using Kanat's method, but it seems to me that they can."
   ]
  },
  {
   "cell_type": "code",
   "execution_count": 1,
   "id": "2deaa235-a906-45a0-bb59-0dd26ee2d779",
   "metadata": {},
   "outputs": [],
   "source": [
    "%display latex\n",
    "\n",
    "import matplotlib\n",
    "import matplotlib.pyplot as plt\n",
    "matplotlib.rcParams['figure.figsize'] = [2, 2]"
   ]
  },
  {
   "cell_type": "code",
   "execution_count": 2,
   "id": "9cfc9d11-40a8-4a7b-b146-d6af6463a996",
   "metadata": {},
   "outputs": [],
   "source": [
    "N = 3\n",
    "d = 2**N\n",
    "F = GF(d, 'x')\n",
    "x = F.gen()"
   ]
  },
  {
   "cell_type": "code",
   "execution_count": 3,
   "id": "41138360-fae5-48a1-81b1-e8f9298c901e",
   "metadata": {},
   "outputs": [],
   "source": [
    "def Proj(u, v=None):\n",
    "    # Expects vectors\n",
    "    if not v:\n",
    "        v = u\n",
    "    u = matrix(u).transpose()\n",
    "    v = matrix(v).transpose()\n",
    "    return u.tensor_product(v.conjugate_transpose())\n",
    "\n",
    "Id = identity_matrix(SR, 2**N)\n",
    "\n",
    "def toInt(k):\n",
    "    return list(F).index(k)\n",
    "\n",
    "def chi(k):\n",
    "    return exp(2 * pi * I * int(k.trace()) / 2)"
   ]
  },
  {
   "cell_type": "code",
   "execution_count": 4,
   "id": "9f9174c4-a423-4525-b550-7c6d78920451",
   "metadata": {},
   "outputs": [],
   "source": [
    "R = PolynomialRing(Integers(4), 't')\n",
    "t = R.gen()"
   ]
  },
  {
   "cell_type": "code",
   "execution_count": 5,
   "id": "9f9e1b34-8351-4e46-8008-521957c51868",
   "metadata": {},
   "outputs": [
    {
     "data": {
      "text/html": [
       "<html>\\(\\displaystyle (t^{3} + 2 t^{2} + t + 3)\\)</html>"
      ],
      "text/latex": [
       "$\\displaystyle (t^{3} + 2 t^{2} + t + 3)$"
      ],
      "text/plain": [
       "t^3 + 2*t^2 + t + 3"
      ]
     },
     "execution_count": 5,
     "metadata": {},
     "output_type": "execute_result"
    }
   ],
   "source": [
    "poly = t^3 + 2*t^2 + t - 1\n",
    "factor(poly)"
   ]
  },
  {
   "cell_type": "code",
   "execution_count": 7,
   "id": "e746e417-9bf7-412a-9596-572143f341e6",
   "metadata": {},
   "outputs": [
    {
     "data": {
      "text/html": [
       "<html>\\(\\displaystyle \\newcommand{\\ZZ}{\\Bold{Z}}\\newcommand{\\Bold}[1]{\\mathbf{#1}}\\ZZ/4\\ZZ[t]/\\left(t^{3} + 2 t^{2} + t + 3\\right)\\ZZ/4\\ZZ[t]\\)</html>"
      ],
      "text/latex": [
       "$\\displaystyle \\newcommand{\\ZZ}{\\Bold{Z}}\\newcommand{\\Bold}[1]{\\mathbf{#1}}\\ZZ/4\\ZZ[t]/\\left(t^{3} + 2 t^{2} + t + 3\\right)\\ZZ/4\\ZZ[t]$"
      ],
      "text/plain": [
       "Univariate Quotient Polynomial Ring in w over Ring of integers modulo 4 with modulus t^3 + 2*t^2 + t + 3"
      ]
     },
     "execution_count": 7,
     "metadata": {},
     "output_type": "execute_result"
    }
   ],
   "source": [
    "GR = R.quotient(poly, 'w')\n",
    "w = GR.gen()\n",
    "GR"
   ]
  },
  {
   "cell_type": "code",
   "execution_count": 8,
   "id": "dec38fd1-6bd9-4c8d-93c9-49d534b16814",
   "metadata": {},
   "outputs": [],
   "source": [
    "T = [GR(0)] + [w**j for j in range(1, 2**N - 1)] + [GR(1)]"
   ]
  },
  {
   "cell_type": "code",
   "execution_count": 234,
   "id": "bb006650-848d-444f-a5b8-4c810e493026",
   "metadata": {},
   "outputs": [],
   "source": [
    "def TeichLift(k):\n",
    "    return T[toInt(k)]\n",
    "\n",
    "hat = TeichLift"
   ]
  },
  {
   "cell_type": "code",
   "execution_count": 12,
   "id": "7284bcd1-cafe-4db8-8152-b659054281de",
   "metadata": {},
   "outputs": [],
   "source": [
    "def Fourier():\n",
    "    s = zero_matrix(SR, 2**N, 2**N)\n",
    "    for i, a in enumerate(F):\n",
    "        for j, b in enumerate(F):\n",
    "            s[i,j] = chi(a * b) / sqrt(2^N)\n",
    "    return s\n",
    "FF = Fourier()\n",
    "\n",
    "def Z(a):\n",
    "    return diagonal_matrix([chi(a * k) for k in F])\n",
    "\n",
    "def X(b):\n",
    "    return FF.conjugate_transpose() * Z(b) * FF"
   ]
  },
  {
   "cell_type": "markdown",
   "id": "0d22a3f3-7cd8-4215-9c5c-d2acee89696b",
   "metadata": {},
   "source": [
    "The chosen curves aren't parametrized by a single parameter and so it would seem the Galois ring method would not be applicable. In reality all that is needed that the subspaces generated the curves are totally isotropic. The curves are\n",
    "$$\n",
    "\\begin{align*}\n",
    "    f_0(\\alpha) &= 0, \\\\\n",
    "    f_x(\\alpha) &= x^6 \\alpha + x^3 \\alpha^2 + x^5 \\alpha^4, \\\\\n",
    "    f_{x^2}(\\alpha) &= x^2 \\alpha + x^5 \\alpha^2 + x^6 \\alpha^4, \\\\\n",
    "    f_{x^3}(\\alpha) &= x^4 \\alpha + x^3 \\alpha^2 + x^5 \\alpha^4, \\\\\n",
    "    f_{x^4}(\\alpha) &= x^3 \\alpha, \\\\\n",
    "    f_{x^5}(\\alpha) &= x^5 \\alpha + x^5 \\alpha^2 + x^6 \\alpha^4, \\\\\n",
    "    f_{x^6}(\\alpha) &= x \\alpha + x^2 \\alpha^2 + x \\alpha^4, \\\\\n",
    "    f_{1}(\\alpha) &= \\alpha + x^2 \\alpha^2 + x \\alpha^4.\n",
    "\\end{align*}\n",
    "$$\n",
    "Where $x$ is a generator of the field. The immediate question is how to order the curves. I have kept the order in which Andres sent them to me, and so I simply label each curve by an element of the field according to its index."
   ]
  },
  {
   "cell_type": "code",
   "execution_count": 16,
   "id": "93e996bb-18f5-4a39-81da-922de8b702b7",
   "metadata": {},
   "outputs": [],
   "source": [
    "curves = [\n",
    "    lambda a: 0,\n",
    "    lambda a: x^6 * a + x^3 * a^2 + x^5 * a^4,\n",
    "    lambda a: x^2 * a + x^5 * a^2 + x^6 * a^4,\n",
    "    lambda a: x^4 * a + x^3 * a^2 + x^5 * a^4,\n",
    "    lambda a: x^3 * a,\n",
    "    lambda a: x^5 * a + x^5 * a^2 + x^6 * a^4,\n",
    "    lambda a: x * a + x^2 * a^2 + x * a^4,\n",
    "    lambda a: a + x^2 * a^2 + x * a^4\n",
    "]"
   ]
  },
  {
   "cell_type": "code",
   "execution_count": 17,
   "id": "98a1bfd6-f7a6-4fc3-a266-6f2b4b2d770a",
   "metadata": {},
   "outputs": [],
   "source": [
    "# We have to lift the curves to the Teichmüller set, \n",
    "# thankfully ^x = w\n",
    "curves_T = [\n",
    "    lambda a: 0,\n",
    "    lambda a: w^6 * a + w^3 * a^2 + w^5 * a^4,\n",
    "    lambda a: w^2 * a + w^5 * a^2 + w^6 * a^4,\n",
    "    lambda a: w^4 * a + w^3 * a^2 + w^5 * a^4,\n",
    "    lambda a: w^3 * a,\n",
    "    lambda a: w^5 * a + w^5 * a^2 + w^6 * a^4,\n",
    "    lambda a: w * a + w^2 * a^2 + w * a^4,\n",
    "    lambda a: a + w^2 * a^2 + w * a^4\n",
    "]"
   ]
  },
  {
   "cell_type": "markdown",
   "id": "dcb2f918-6bc6-4e21-aece-fca5d420e7d5",
   "metadata": {},
   "source": [
    "Let's see if the subspaces generated by the curves are totally isotropic."
   ]
  },
  {
   "cell_type": "code",
   "execution_count": 18,
   "id": "2616183e-027a-441d-9c26-18482de3feac",
   "metadata": {},
   "outputs": [],
   "source": [
    "for j, curve in enumerate(curves):\n",
    "    subspace = [(a, curve(a)) for a in F]\n",
    "    # The curves are subspaces\n",
    "    for p1 in subspace:\n",
    "        for p2 in subspace:\n",
    "            if (p1[0] + p2[0], p1[1] + p2[1]) not in subspace:\n",
    "                raise Exception('Curve is not a subspace.', j)\n",
    "    \n",
    "    # The curves are not abelian\n",
    "    for p1 in subspace:\n",
    "        for p2 in subspace:\n",
    "            c = p1[0] * p2[1] - p1[1] * p2[0]\n",
    "            if c.trace() != 0:\n",
    "                raise Exception('Not isotropic!', j)"
   ]
  },
  {
   "cell_type": "markdown",
   "id": "a6bf0c2d-a343-4f58-b376-40b3e00a98c9",
   "metadata": {},
   "source": [
    "In her proof, the only thing required of the $f$ is that for all elements of the field\n",
    "$$\n",
    "\\chi(\\xi f(\\alpha)) = \\chi(\\alpha f(\\xi)),\n",
    "$$\n",
    "where $\\chi$ is the additive group character $\\chi(\\kappa) = \\omega^{tr(\\kappa)}$ where $\\omega$ is a primitive root of unity. This equality is true if and only if\n",
    "$$\n",
    "tr(\\xi f(\\alpha)) = tr(\\alpha f(\\xi)).\n",
    "$$\n",
    "This is true for symplectic presemifields, that is to say, presemifield operations that generate a symplectic spread. In our case the curves aren't generated by a single parameter and so can't really be seen as a binary operation and hence as a presemifield. Even so, we can test that each curve satisfies this property:"
   ]
  },
  {
   "cell_type": "code",
   "execution_count": 44,
   "id": "21735c0b-cf56-4e71-9b57-a06811da8794",
   "metadata": {},
   "outputs": [],
   "source": [
    "for c in curves:\n",
    "    for alpha in F:\n",
    "        for xi in F:\n",
    "            if (alpha * c(xi)).trace() != (xi * c(alpha)).trace():\n",
    "                raise Exception('Property does not hold for curve {}'.format(c))"
   ]
  },
  {
   "cell_type": "markdown",
   "id": "1963493e-7f72-4e15-84e6-fa888ab9b1db",
   "metadata": {},
   "source": [
    "The same property should hold for the Teichmüller set according to Kanat."
   ]
  },
  {
   "cell_type": "code",
   "execution_count": 45,
   "id": "ae8a357b-6141-4cc1-b4ea-96caf76be9da",
   "metadata": {},
   "outputs": [],
   "source": [
    "for c in curves_T:\n",
    "    for alpha in T:\n",
    "        for xi in T:\n",
    "            if (alpha * c(xi)).trace() != (xi * c(alpha)).trace():\n",
    "                raise Exception('Property does not hold for curve {}'.format(c))"
   ]
  },
  {
   "cell_type": "markdown",
   "id": "20e323b0-57b9-49a3-b9e0-658ba7a41d36",
   "metadata": {},
   "source": [
    "Following Sainz's proof there doesn't seem to be a reason why these curves can't be used to construct the appropriate rotation operators. But before moving on let's check to see if the curves generate an affine plain, at least in the sense that the curves only intersect at the origin."
   ]
  },
  {
   "cell_type": "code",
   "execution_count": 73,
   "id": "74b470dc-d22d-46e1-907e-02880460d616",
   "metadata": {},
   "outputs": [],
   "source": [
    "subspaces = [[(k, f(k)) for k in F] for f in curves]\n",
    "for i, s1 in enumerate(subspaces):\n",
    "    for j, s2 in enumerate(subspaces):\n",
    "        if i != j:\n",
    "            cap = list(set(s1) & set(s2))\n",
    "            if cap != [(F(0), F(0))]:\n",
    "                raise Exception('Non trivial intersection!', i, j, cap)"
   ]
  },
  {
   "cell_type": "markdown",
   "id": "462dc239-1214-46e4-9ad5-e09a6eda8316",
   "metadata": {},
   "source": [
    "All is well, this means that at a single point, there will only be $2^N+1$ curves that pass through it:"
   ]
  },
  {
   "cell_type": "code",
   "execution_count": 78,
   "id": "9d8bf020-ba47-4eb9-bcd8-bf756c162c3b",
   "metadata": {},
   "outputs": [],
   "source": [
    "for alpha in F:\n",
    "    for beta in F:\n",
    "        cnt = 0\n",
    "        for f in curves:\n",
    "            for nu in F:\n",
    "                if beta == f(alpha) + nu:\n",
    "                    cnt += 1\n",
    "        if cnt != 8:\n",
    "            raise Exception('More curves passed through the point ({}, {})!'.format(alpha, beta))"
   ]
  },
  {
   "cell_type": "code",
   "execution_count": 285,
   "id": "4bbae4f5-f7ab-4fb4-8825-ed619d093127",
   "metadata": {},
   "outputs": [],
   "source": [
    "# x is the generator.\n",
    "# The lifting operator ^ : F -> T is a multiplicative group\n",
    "# homomorphism so ^(x * k) = ^x * ^k.\n",
    "\n",
    "def phi(tau, nu):\n",
    "    return (I)^(int((tau * nu).trace()))\n",
    "\n",
    "def D(a, b):\n",
    "    return phi(hat(a), hat(b)) * Z(a) * X(b)\n",
    "\n",
    "def V(mu):\n",
    "    s = zero_matrix(SR, 2^N, 2^N)\n",
    "    curve = curves_T[toInt(mu)]\n",
    "    for i, k in enumerate(F):\n",
    "        a = TeichLift(k)\n",
    "        s += phi(a, curve(a)) * Proj(vector(FF[:,i]))\n",
    "    return s"
   ]
  },
  {
   "cell_type": "code",
   "execution_count": 230,
   "id": "394f0476-7d31-41da-9786-0b0f9762cf53",
   "metadata": {},
   "outputs": [],
   "source": [
    "for k in F:\n",
    "    if V(x)[:,toInt(k)] != (V(x) * X(k) * Id[:,0]):\n",
    "        raise Exception('Ordering is not right!')"
   ]
  },
  {
   "cell_type": "code",
   "execution_count": 36,
   "id": "fe0dc3eb-ad94-4ae5-87fc-9405c6cdef56",
   "metadata": {},
   "outputs": [],
   "source": [
    "# Orthonormality\n",
    "def isOrthonormal(m):\n",
    "    return m.conjugate_transpose() * m == Id\n",
    "\n",
    "# MUBs\n",
    "def isMUB(m1, m2):\n",
    "    m = (\n",
    "        m1.conjugate_transpose() * m2\n",
    "    ).apply_map(lambda t: abs(t)^2)\n",
    "    return m == ones_matrix(2^N, 2^N) / (2^N)\n",
    "\n",
    "def checkMUBs(mubs):\n",
    "    if type(mubs) != list:\n",
    "        mubs_list = []\n",
    "        for i in range(2^N+1):\n",
    "            mubs_list.append(mubs[(i*2^N):(i+1)*2^N,:])\n",
    "    else:\n",
    "        mubs_list = mubs\n",
    "            \n",
    "    for i in range(2^N+1):\n",
    "        for j in range(2^N+1):\n",
    "            if i == j:\n",
    "                if not isOrthonormal(mubs_list[i]):\n",
    "                    raise Exception(\n",
    "                        'Encountered a basis that is not orthonormal!',\n",
    "                        i\n",
    "                    )\n",
    "            else:\n",
    "                if not isMUB(mubs_list[i], mubs_list[j]):\n",
    "                    raise Exception(\n",
    "                        'Encountered non-MUB pairs of basis!',\n",
    "                        i, j\n",
    "                    )\n",
    "    return True"
   ]
  },
  {
   "cell_type": "code",
   "execution_count": 37,
   "id": "f5c0906b-f0ab-4182-bfeb-556a146fa092",
   "metadata": {},
   "outputs": [
    {
     "data": {
      "text/html": [
       "<html>\\(\\displaystyle \\mathrm{True}\\)</html>"
      ],
      "text/latex": [
       "$\\displaystyle \\mathrm{True}$"
      ],
      "text/plain": [
       "True"
      ]
     },
     "execution_count": 37,
     "metadata": {},
     "output_type": "execute_result"
    }
   ],
   "source": [
    "mubs = [FF] + [V(mu) for mu in F]\n",
    "checkMUBs(mubs)"
   ]
  },
  {
   "cell_type": "markdown",
   "id": "a90c5f39-863b-425a-8a89-95fbc9cf129b",
   "metadata": {},
   "source": [
    "We can see that we do indeed obtain valid MUBs. Now let's review Sainz's proof that we obtain delta functions when the kernel constructed from one set of MUBs is used to obtain the Wigner function of a state coming from some other set of MUBs. The central step is the evaluation of the following inner product:\n",
    "$$\n",
    "\\langle \\psi^\\mu_\\nu | \\psi^{f_x}_\\kappa \\rangle,\n",
    "$$\n",
    "where $|\\psi^\\mu_\\nu\\rangle$ is the eigenvector associated to the straight line parametrized by $\\mu$ and that passes the origin at $\\nu$, while $|\\psi^{f_x}_\\kappa\\rangle$ is the state associated to the curve $f_x$ that passes the origin at $\\kappa$.\n",
    "\n",
    "First a quick check that \n",
    "$$\n",
    "\\sum_{\\kappa} \\chi(\\xi \\kappa) = 2^N \\delta_{\\xi,0}.\n",
    "$$"
   ]
  },
  {
   "cell_type": "code",
   "execution_count": 50,
   "id": "078e70d1-5132-4910-bdeb-0873d73456cc",
   "metadata": {},
   "outputs": [
    {
     "data": {
      "text/html": [
       "<html>\\(\\displaystyle \\left[8, 0, 0, 0, 0, 0, 0, 0\\right]\\)</html>"
      ],
      "text/latex": [
       "$\\displaystyle \\left[8, 0, 0, 0, 0, 0, 0, 0\\right]$"
      ],
      "text/plain": [
       "[8, 0, 0, 0, 0, 0, 0, 0]"
      ]
     },
     "execution_count": 50,
     "metadata": {},
     "output_type": "execute_result"
    }
   ],
   "source": [
    "[sum([chi(xi * k) for k in F]) for xi in F]"
   ]
  },
  {
   "cell_type": "markdown",
   "id": "43f57f95-7f03-407a-b908-00233974753e",
   "metadata": {},
   "source": [
    "An important step in the calculation of the inner product is the use the of the rotation operator coefficients recurence properties, in particular:\n",
    "$$\n",
    "c_{\\eta, f_x(\\eta)} c_{\\eta', f_x(\\eta')}\n",
    "= c_{\\eta-\\eta', f_x(\\eta) - f_x(\\eta')} \\chi\\left(-\\eta' f_x(\\eta - \\eta')\\right).\n",
    "$$\n",
    "Let's see if this holds for the Galois ring induced phase:\n",
    "$$\n",
    "c_{\\eta, f_x(\\eta)} = \\Phi(\\eta, f_x(\\eta)) = \\omega^{tr(\\hat{\\eta} f_x(\\hat{\\eta})}.\n",
    "$$"
   ]
  },
  {
   "cell_type": "code",
   "execution_count": 59,
   "id": "ed6efd19-0202-4309-9980-225663884834",
   "metadata": {},
   "outputs": [],
   "source": [
    "hat = TeichLift # for notation\n",
    "for j, f in enumerate(curves):\n",
    "    for eta in F:\n",
    "        for etap in F:\n",
    "            f_hat = curves_T[j]\n",
    "            l = phi(hat(eta), f_hat(hat(eta))) * phi(hat(etap), f_hat(hat(etap))).conjugate()\n",
    "            r = phi(hat(eta + etap), f_hat(hat(eta + etap))) * chi(etap * f(eta + etap))\n",
    "            if l != r:\n",
    "                raise Exception('Recurrence property is not satisfied!', j, eta, etap)"
   ]
  },
  {
   "cell_type": "markdown",
   "id": "2d472c60-f750-4b0c-9fd4-da110f6e2630",
   "metadata": {},
   "source": [
    "So the recurrence relation is satisfied appropriately and the curves satisfy the isotropic property which means Sainz's proof should be applicable. In order to computationally verify the proof we need to calculate the standard set of MUBs."
   ]
  },
  {
   "cell_type": "code",
   "execution_count": 79,
   "id": "a9ffac22-aa8e-4833-841e-2df424012594",
   "metadata": {},
   "outputs": [],
   "source": [
    "def VW(mu):\n",
    "    s = zero_matrix(SR, 2^N, 2^N)\n",
    "    for i, k in enumerate(F):\n",
    "        s += phi(TeichLift(k), TeichLift(mu * k)) * Proj(vector(FF[:,i]))\n",
    "    return s"
   ]
  },
  {
   "cell_type": "code",
   "execution_count": 81,
   "id": "aa2cf701-bfb2-443a-bd8d-7b08450ef399",
   "metadata": {},
   "outputs": [
    {
     "data": {
      "text/html": [
       "<html>\\(\\displaystyle \\mathrm{True}\\)</html>"
      ],
      "text/latex": [
       "$\\displaystyle \\mathrm{True}$"
      ],
      "text/plain": [
       "True"
      ]
     },
     "execution_count": 81,
     "metadata": {},
     "output_type": "execute_result"
    }
   ],
   "source": [
    "mubs306 = [FF] + [VW(mu) for mu in F]\n",
    "checkMUBs(mubs306)"
   ]
  },
  {
   "cell_type": "markdown",
   "id": "a0e9b012-837d-449b-8de2-2b54bbd63e59",
   "metadata": {},
   "source": [
    "For a given point $(\\alpha,\\beta)$ we need to compute which lines are incident to it, and then obtain the associated states $|\\psi_\\nu^\\mu\\rangle$, where $\\mu$ and $\\nu$ parametrize the line."
   ]
  },
  {
   "cell_type": "code",
   "execution_count": 173,
   "id": "1de998d8-bf40-42dd-8d05-653dc14dfa99",
   "metadata": {},
   "outputs": [],
   "source": [
    "def getStateFromMu(a, b, mu, M=mubs306):\n",
    "    # non-Fourier states\n",
    "    nu = b - a * mu\n",
    "    return M[toInt(mu) + 1][:, toInt(nu)]"
   ]
  },
  {
   "cell_type": "code",
   "execution_count": 174,
   "id": "3eccf841-defe-4ee4-bc42-61d61b1a940c",
   "metadata": {},
   "outputs": [],
   "source": [
    "def getStateFromCurve(curve_param, nu, M=mubs):\n",
    "    # non-Fourier states\n",
    "    return M[toInt(curve_param) + 1][:, toInt(nu)]"
   ]
  },
  {
   "cell_type": "markdown",
   "id": "f98ea551-b57a-465c-81fa-af7ed223451e",
   "metadata": {},
   "source": [
    "According the calculation we have:\n",
    "$$\n",
    "|\\langle \\psi_\\nu^\\mu | \\psi_\\kappa^{f_x}\\rangle|^2\n",
    "= \\frac{1}{d} \\sum_{\\xi} c_{\\xi, f_x(\\xi)} c_{\\xi, \\xi\\mu}^* \\chi(\\xi(\\kappa + \\beta + \\mu\\alpha))\n",
    "\\delta_{\\mu\\xi, f_x(\\xi)}.\n",
    "$$\n",
    "\n",
    "Let's verify this."
   ]
  },
  {
   "cell_type": "code",
   "execution_count": 175,
   "id": "ca8e6c3b-3e24-4624-87b0-7155c5814819",
   "metadata": {},
   "outputs": [],
   "source": [
    "def inp(u, v):\n",
    "    u = vector(u)\n",
    "    v = vector(v)\n",
    "    return u.conjugate() * v"
   ]
  },
  {
   "cell_type": "code",
   "execution_count": 179,
   "id": "99129b6b-6f2b-4890-a062-f9041020e4f6",
   "metadata": {},
   "outputs": [],
   "source": [
    "hat = TeichLift\n",
    "def Sainz(a, b, mu, curve_param, k):\n",
    "    s = 0\n",
    "    for xi in F:\n",
    "        curve_idx = toInt(curve_param)\n",
    "        if mu * xi == curves[curve_idx](xi):\n",
    "            c_mu = phi(hat(xi), hat(xi * mu)).conjugate()\n",
    "            c_fx = phi(hat(xi), curves_T[curve_idx](hat(xi)))\n",
    "            char = chi(xi * (k + b + mu * a))\n",
    "            s += c_mu * c_fx * char / 2^N\n",
    "    return s"
   ]
  },
  {
   "cell_type": "code",
   "execution_count": 195,
   "id": "b375a90b-4ae3-4626-80c3-d3031a94a7bb",
   "metadata": {},
   "outputs": [],
   "source": [
    "# this takes a while, but it will verify this part\n",
    "# of the proof.\n",
    "\n",
    "for alpha in F:\n",
    "    for beta in F:\n",
    "        for curve_param in F:\n",
    "            for kappa in F:\n",
    "                for mu in F:\n",
    "                    u = getStateFromMu(alpha, beta, mu)\n",
    "                    v = getStateFromCurve(curve_param, kappa)\n",
    "                    \n",
    "                    if abs(inp(u, v))**2 != Sainz(alpha, beta, mu, curve_param, kappa):\n",
    "                        raise Exception(\n",
    "                            'Inner products do not match!',\n",
    "                            alpha, beta, mu, curve_param, kappa\n",
    "                        )"
   ]
  },
  {
   "cell_type": "markdown",
   "id": "6b3f49ed-6187-427c-8413-390971f04379",
   "metadata": {},
   "source": [
    "All is well with that part! Now onto the final important part of the proof. Summing over $\\mu \\in F$ should give us:\n",
    "$$\n",
    "\\sum_\\mu\n",
    "|\\langle \\psi_\\nu^\\mu | \\psi_\\kappa^{f_x}\\rangle|^2\n",
    "= 1 + \\frac{1}{d} \\sum_{\\xi \\in F} \\chi(\\xi(\\kappa + \\beta + f_x(\\alpha))) - \\frac{1}{d}\n",
    "= 1 - \\frac{1}{d} + \\delta_{\\kappa, \\beta + f_x(\\alpha)}.\n",
    "$$"
   ]
  },
  {
   "cell_type": "code",
   "execution_count": 222,
   "id": "ac2a0df9-b469-42e8-b1c9-69c9792e153a",
   "metadata": {},
   "outputs": [
    {
     "data": {
      "text/html": [
       "<html>\\(\\displaystyle \\left(\\frac{3}{8}, \\frac{7}{8}\\right)\\)</html>"
      ],
      "text/latex": [
       "$\\displaystyle \\left(\\frac{3}{8}, \\frac{7}{8}\\right)$"
      ],
      "text/plain": [
       "(3/8, 7/8)"
      ]
     },
     "execution_count": 222,
     "metadata": {},
     "output_type": "execute_result"
    }
   ],
   "source": [
    "alpha = x + 1\n",
    "beta  = x\n",
    "curve_param = x^2\n",
    "kappa = x\n",
    "\n",
    "v = getStateFromCurve(curve_param, kappa)\n",
    "\n",
    "l = 0\n",
    "for mu in F:\n",
    "    u = getStateFromMu(alpha, beta, mu)\n",
    "    l += abs(inp(u, v))^2\n",
    "\n",
    "r = 7/8 + int(kappa == beta - curves[toInt(curve_param)](alpha))\n",
    "\n",
    "l, r"
   ]
  },
  {
   "cell_type": "markdown",
   "id": "241ff1b8-4192-4912-b11e-82bf793e4782",
   "metadata": {},
   "source": [
    "And it's not working..."
   ]
  },
  {
   "cell_type": "markdown",
   "id": "2cb57a03-3bf2-4965-a045-01a616141a1b",
   "metadata": {},
   "source": [
    "I can construct the Wigner kernel just as well. And in fact it satisfies all of the Stratonovich-Weyl properties."
   ]
  },
  {
   "cell_type": "code",
   "execution_count": 256,
   "id": "c8280231-59d4-47f3-883c-f72ec87a5121",
   "metadata": {},
   "outputs": [],
   "source": [
    "def Wootters(a, b):\n",
    "    op = Proj(vector(FF[:, toInt(a)]))\n",
    "    for xi in F:\n",
    "        nu = b - curves[toInt(xi)](a)\n",
    "        v = V(xi)[:, toInt(nu)]\n",
    "        op += Proj(vector(v))\n",
    "    return op - Id"
   ]
  },
  {
   "cell_type": "code",
   "execution_count": 257,
   "id": "44b6e32e-9f0b-40ac-a1ca-8130d93738e7",
   "metadata": {},
   "outputs": [],
   "source": [
    "for a in F:\n",
    "    for b in F:\n",
    "        op = Wootters(a,b)\n",
    "        if op != op.conjugate_transpose():\n",
    "            raise Exception('Not self-adjoint.')"
   ]
  },
  {
   "cell_type": "code",
   "execution_count": 258,
   "id": "6220452b-f1a9-42e7-abf4-e98855b1a6f0",
   "metadata": {},
   "outputs": [],
   "source": [
    "for a in F:\n",
    "    for b in F:\n",
    "        if Wootters(a, b).trace() != 1:\n",
    "            raise Exception('Not unit trace.')"
   ]
  },
  {
   "cell_type": "code",
   "execution_count": 250,
   "id": "17c2b2d6-7ae6-402b-8611-c06d017522e7",
   "metadata": {},
   "outputs": [],
   "source": [
    "for a in F:\n",
    "    for b in F:\n",
    "        op1 = Wootters(a, b)\n",
    "        for k in F:\n",
    "            for l in F:\n",
    "                op2 = Wootters(k, l)\n",
    "                if (op1 * op2.conjugate_transpose()).trace() != 2^N * int(a == k) * int(b == l):\n",
    "                    raise Exception('Not trace orthogonal.')"
   ]
  },
  {
   "cell_type": "code",
   "execution_count": 288,
   "id": "50929047-9d25-477e-bb0f-4ea32aa3471c",
   "metadata": {},
   "outputs": [],
   "source": [
    "k = x\n",
    "l = 1\n",
    "for a in F:\n",
    "    for b in F:\n",
    "        if D(k,l) * Wootters(a, b) * D(k,l).conjugate_transpose() != Wootters(a+k, b+l):\n",
    "            raise Exception('Not covariant.')"
   ]
  },
  {
   "cell_type": "code",
   "execution_count": 259,
   "id": "b854b92f-54e4-4b30-a985-5154dd903a87",
   "metadata": {},
   "outputs": [],
   "source": [
    "def WignerMatrix(state):\n",
    "    op = zero_matrix(SR, 2^N, 2^N)\n",
    "    for i, a in enumerate(F):\n",
    "        for j, b in enumerate(F):\n",
    "            op[i, j] = (state * Wootters(a, b)).trace() / 2^N\n",
    "    return op"
   ]
  },
  {
   "cell_type": "code",
   "execution_count": 280,
   "id": "f034be60-f559-4f5a-864f-504288afb473",
   "metadata": {},
   "outputs": [
    {
     "data": {
      "text/html": [
       "<html>\\(\\displaystyle \\left(\\begin{array}{rrrrrrrr}\n",
       "-\\frac{1}{32} & \\frac{1}{32} & \\frac{1}{32} & \\frac{1}{32} & -\\frac{1}{32} & -\\frac{1}{32} & \\frac{1}{32} & \\frac{3}{32} \\\\\n",
       "\\frac{1}{32} & -\\frac{1}{32} & \\frac{3}{32} & -\\frac{1}{32} & \\frac{1}{32} & \\frac{1}{32} & -\\frac{1}{32} & \\frac{1}{32} \\\\\n",
       "\\frac{3}{32} & \\frac{1}{32} & \\frac{1}{32} & \\frac{1}{32} & -\\frac{1}{32} & -\\frac{1}{32} & \\frac{1}{32} & -\\frac{1}{32} \\\\\n",
       "\\frac{1}{32} & -\\frac{1}{32} & -\\frac{1}{32} & \\frac{3}{32} & \\frac{1}{32} & \\frac{1}{32} & -\\frac{1}{32} & \\frac{1}{32} \\\\\n",
       "\\frac{1}{32} & -\\frac{1}{32} & -\\frac{1}{32} & -\\frac{1}{32} & \\frac{1}{32} & \\frac{1}{32} & \\frac{3}{32} & \\frac{1}{32} \\\\\n",
       "\\frac{1}{32} & \\frac{3}{32} & -\\frac{1}{32} & -\\frac{1}{32} & \\frac{1}{32} & \\frac{1}{32} & -\\frac{1}{32} & \\frac{1}{32} \\\\\n",
       "-\\frac{1}{32} & \\frac{1}{32} & \\frac{1}{32} & \\frac{1}{32} & -\\frac{1}{32} & \\frac{3}{32} & \\frac{1}{32} & -\\frac{1}{32} \\\\\n",
       "-\\frac{1}{32} & \\frac{1}{32} & \\frac{1}{32} & \\frac{1}{32} & \\frac{3}{32} & -\\frac{1}{32} & \\frac{1}{32} & -\\frac{1}{32}\n",
       "\\end{array}\\right)\\)</html>"
      ],
      "text/latex": [
       "$\\displaystyle \\left(\\begin{array}{rrrrrrrr}\n",
       "-\\frac{1}{32} & \\frac{1}{32} & \\frac{1}{32} & \\frac{1}{32} & -\\frac{1}{32} & -\\frac{1}{32} & \\frac{1}{32} & \\frac{3}{32} \\\\\n",
       "\\frac{1}{32} & -\\frac{1}{32} & \\frac{3}{32} & -\\frac{1}{32} & \\frac{1}{32} & \\frac{1}{32} & -\\frac{1}{32} & \\frac{1}{32} \\\\\n",
       "\\frac{3}{32} & \\frac{1}{32} & \\frac{1}{32} & \\frac{1}{32} & -\\frac{1}{32} & -\\frac{1}{32} & \\frac{1}{32} & -\\frac{1}{32} \\\\\n",
       "\\frac{1}{32} & -\\frac{1}{32} & -\\frac{1}{32} & \\frac{3}{32} & \\frac{1}{32} & \\frac{1}{32} & -\\frac{1}{32} & \\frac{1}{32} \\\\\n",
       "\\frac{1}{32} & -\\frac{1}{32} & -\\frac{1}{32} & -\\frac{1}{32} & \\frac{1}{32} & \\frac{1}{32} & \\frac{3}{32} & \\frac{1}{32} \\\\\n",
       "\\frac{1}{32} & \\frac{3}{32} & -\\frac{1}{32} & -\\frac{1}{32} & \\frac{1}{32} & \\frac{1}{32} & -\\frac{1}{32} & \\frac{1}{32} \\\\\n",
       "-\\frac{1}{32} & \\frac{1}{32} & \\frac{1}{32} & \\frac{1}{32} & -\\frac{1}{32} & \\frac{3}{32} & \\frac{1}{32} & -\\frac{1}{32} \\\\\n",
       "-\\frac{1}{32} & \\frac{1}{32} & \\frac{1}{32} & \\frac{1}{32} & \\frac{3}{32} & -\\frac{1}{32} & \\frac{1}{32} & -\\frac{1}{32}\n",
       "\\end{array}\\right)$"
      ],
      "text/plain": [
       "[-1/32  1/32  1/32  1/32 -1/32 -1/32  1/32  3/32]\n",
       "[ 1/32 -1/32  3/32 -1/32  1/32  1/32 -1/32  1/32]\n",
       "[ 3/32  1/32  1/32  1/32 -1/32 -1/32  1/32 -1/32]\n",
       "[ 1/32 -1/32 -1/32  3/32  1/32  1/32 -1/32  1/32]\n",
       "[ 1/32 -1/32 -1/32 -1/32  1/32  1/32  3/32  1/32]\n",
       "[ 1/32  3/32 -1/32 -1/32  1/32  1/32 -1/32  1/32]\n",
       "[-1/32  1/32  1/32  1/32 -1/32  3/32  1/32 -1/32]\n",
       "[-1/32  1/32  1/32  1/32  3/32 -1/32  1/32 -1/32]"
      ]
     },
     "execution_count": 280,
     "metadata": {},
     "output_type": "execute_result"
    }
   ],
   "source": [
    "wf = WignerMatrix(Proj(vector(mubs306[6][:,0])))\n",
    "wf"
   ]
  },
  {
   "cell_type": "code",
   "execution_count": null,
   "id": "cb729e10-dfd1-4ca2-a811-ad02c915f154",
   "metadata": {},
   "outputs": [],
   "source": []
  }
 ],
 "metadata": {
  "kernelspec": {
   "display_name": "SageMath 9.8",
   "language": "sage",
   "name": "sagemath"
  },
  "language_info": {
   "codemirror_mode": {
    "name": "ipython",
    "version": 3
   },
   "file_extension": ".py",
   "mimetype": "text/x-python",
   "name": "python",
   "nbconvert_exporter": "python",
   "pygments_lexer": "ipython3",
   "version": "3.9.16"
  }
 },
 "nbformat": 4,
 "nbformat_minor": 5
}
