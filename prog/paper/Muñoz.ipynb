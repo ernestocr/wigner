{
 "cells": [
  {
   "cell_type": "code",
   "execution_count": 1,
   "id": "37c4e3af-4a30-40a8-8655-c67ebbb4b770",
   "metadata": {},
   "outputs": [],
   "source": [
    "%display latex"
   ]
  },
  {
   "cell_type": "markdown",
   "id": "a862f2dd-e366-4c8f-8857-e3508d5d30e4",
   "metadata": {},
   "source": [
    "### Discrete phase-space mappings, tomographic condition and permutation invariance\n",
    "\n",
    "In the article they generalize the Wigner function a bit to other phase-space cuasi-distributions. Such maps can be refined by imposing additional structure other than the satisfaction of the Stratonovich-Weyl criteria, e.g., one possible condition could be the marginal reduction, i.e. that summing the image of the density matrix in the phase space along a set of points associated with a given state one obtains the probability distribution in this state. This requirement gives a clear geometric interpretation of the discrete map and is also known as a *tomographic condition*."
   ]
  },
  {
   "cell_type": "markdown",
   "id": "4020ff4b-0357-4ae6-b930-14a56419387e",
   "metadata": {},
   "source": [
    "They consider the $2^N$ dimensional Hilbert space whose basis is labeled by the Galois extension $GF(2^N)$. The discrete phase-space is a $2^N \\times 2^N$ grid whose points are pairs of elements of the field extension. These points label a monomial operational basis $Z_\\alpha X_\\beta$ given by\n",
    "$$\n",
    "Z_\\alpha = \\sum_\\kappa \\chi(\\alpha\\kappa) |\\kappa\\rangle \\langle\\kappa|,\n",
    "\\quad\n",
    "X_\\beta = \\sum_\\kappa |\\kappa + \\beta\\rangle \\langle\\kappa|,\n",
    "$$\n",
    "where $\\chi(\\alpha) = (-1)^{Tr(\\alpha)}$ and the field trace is given by\n",
    "$$\n",
    "Tr(\\alpha) = \\sum_{i=1}^{N-1} \\alpha^{2^i}.\n",
    "$$\n",
    "These monomials generate the Pauli group $\\mathcal P^N$ over a system of $N$ qubits, which satisfy the commutation relation\n",
    "$$\n",
    "Z_\\alpha X_\\beta = \\chi(\\alpha\\beta) X_\\beta Z_\\alpha.\n",
    "$$"
   ]
  },
  {
   "cell_type": "markdown",
   "id": "c8ca962c-05fb-4a98-9130-5a37a112d46c",
   "metadata": {},
   "source": [
    "Importantly, they choose a self-dual basis $\\{\\theta_1,\\ldots,\\theta_N\\}$ of the field extension which allows us to express elements of $GF(2^N)$ as vectors over the field $\\mathbb Z_2$. The basis is self-dual in the sense that $Tr(\\theta_i \\theta_j) = \\delta_{ij}$. In this manner we have:\n",
    "$$\n",
    "\\alpha = \\sum_{i=1}^N a_i \\theta_i, \\quad a_i = Tr(\\theta_i \\alpha) \\in \\mathbb Z_2.$$"
   ]
  },
  {
   "cell_type": "markdown",
   "id": "615143f4-13b9-4cf9-ae9c-58ca0cc1736d",
   "metadata": {},
   "source": [
    "Using this basis we can form an isomorphism between the tensor product space and the Hilbert space previously defined. That is, we can associate $Z_\\alpha$ and $X_\\beta$ with $N$-particle operators:\n",
    "$$\n",
    "Z_\\alpha = \\sigma_z^{a_1} \\otimes \\cdots \\otimes \\sigma_z^{a_N},\n",
    "\\quad\n",
    "X_\\beta = \\sigma_x^{b_1} \\otimes \\cdots \\otimes \\sigma_x^{b_N},\n",
    "$$\n",
    "where $\\sigma_z$ and $\\sigma_x$ are the Pauli matrices:\n",
    "$$\n",
    "\\sigma_z = |0\\rangle \\langle 0| - |1\\rangle \\langle 1|,\n",
    "\\quad\n",
    "\\sigma_x = |0\\rangle \\langle 1| + |1\\rangle \\langle 0|.\n",
    "$$\n",
    "For geometric reasons, we can associate the axes of the discrete phase-space with the complementary observables $Z_\\alpha$ and $X_\\beta$."
   ]
  },
  {
   "cell_type": "markdown",
   "id": "986f89bf-f6bc-4a8f-bddd-51fefd7faad1",
   "metadata": {},
   "source": [
    "Now they define an $s$-parametrized set of quasi-distrubtions that satisfy the Stratanovich-Weyl criteria through the following injective map:\n",
    "$$\n",
    "W_f^{(s)}(\\alpha,\\beta)\n",
    "= Tr[\\hat f \\Delta^{(s)}(\\alpha,\\beta)].\n",
    "$$\n",
    "The \"inverse\" map is given by\n",
    "$$\n",
    "\\hat f = \\frac{1}{2^N} \\sum_{\\alpha,\\beta} W_f^{(s)}(\\alpha,\\beta) \\Delta^{(-s)}(\\alpha,\\beta).\n",
    "$$"
   ]
  },
  {
   "cell_type": "markdown",
   "id": "48d700c5-2489-458f-bcaf-90e09903bde9",
   "metadata": {},
   "source": [
    "In this case, they seem to be using the classic definition, the kernel is given by:\n",
    "$$\n",
    "\\Delta^{(s)}(\\alpha,\\beta)\n",
    "= \\frac{1}{2^N} \\sum_{\\gamma,\\delta} \\chi(\\alpha\\delta+\\beta\\gamma)\n",
    "(\\langle \\xi|D(\\gamma,\\delta) |\\xi \\rangle)^{-s} D(\\gamma,\\delta),\n",
    "$$\n",
    "where $D(\\gamma,\\delta)$ is a *displacemente operator* defined as\n",
    "$$\n",
    "D(\\gamma,\\delta)\n",
    "= \\phi(\\gamma,\\delta) Z_\\gamma X_\\delta,\n",
    "$$\n",
    "where the function $\\phi$ must satisfy\n",
    "$$\n",
    "\\phi(\\gamma, \\delta) \\phi^*(\\gamma, \\delta) = 1,\n",
    "\\quad\n",
    "\\phi(0, \\delta) = \\phi(\\gamma, 0) = 1,\n",
    "$$\n",
    "in order that the displacement operators are unitary. The inclusion of a *fiducial* state $|\\xi\\rangle$ is such that the inner product does not vanish. A fiducial state is a quantum state that can be easily produced."
   ]
  },
  {
   "cell_type": "markdown",
   "id": "d9deac99-f7b1-4d72-8fb2-da95ee5b2eae",
   "metadata": {},
   "source": [
    "Defined in this manner, the kernel is normalized and covariant. If the phase $\\phi$ satisfies $\\phi^2(\\gamma,\\delta) = \\chi(\\gamma\\delta)$ then the kernel is also Hermitian. In addition, the kernel forms a Hilbert-Schimidt orthonormal basis:\n",
    "$$\n",
    "Tr\\left(\n",
    "\\Delta^{(s)}(\\alpha,\\beta) \\Delta^{(-s)}(\\alpha,\\beta)\n",
    "\\right) \n",
    "= 2^N \\delta_{\\alpha,\\alpha'} \\delta_{\\beta,\\beta'}.\n",
    "$$"
   ]
  },
  {
   "cell_type": "markdown",
   "id": "8ebdae49-416c-4100-b630-ac453d523fe5",
   "metadata": {},
   "source": [
    "The authors mentioned problems arising from a lack of ordering of the Galois field which make the use of quasi-distributions in the discrete case a bit useless for many particles. The proposed solution is to use a set of measurements that is restricted to symmetric observables, i.e., invariant under permutations.\n",
    "\n",
    "So the idea is to construct permutation-invariant $s = \\pm 1$ mappings. First they define (permutation) invariants constructed on the phase space coordinates $(\\alpha,\\beta)$ (what does this mean?):\n",
    "$$\n",
    "h(\\alpha) = \\sum_{i=0}^N a_i,\n",
    "\\quad\n",
    "h(\\beta) = \\sum_{i=0}^N b_i,\n",
    "\\quad\n",
    "h(\\alpha+\\beta) = \\sum_{i=0}^N (a_i + b_i),\n",
    "$$\n",
    "where the sum is done modulo 2. Notice that $0 \\leq h(\\kappa) \\leq N$.\n",
    "\n",
    "After talking about the $Q$-function they immediately transition to a covariant Wigner mapping, becuase it is the appropriate state representation that \"sees\" interference patterns, this would be the case of $s=0$.\n",
    "\n",
    "Now they consider Wootter's construction using lines in phase-space. Something I had not noticed is that the kernel as defined above only guarantees that summing the Wigner function along the axes $\\alpha=0$ and $\\beta=0$ leads to correct projections on the logical and conjugate basis. The requirement that this works for *any* line is an additional condition. It is called the *tomographic condition* and it restricts the phase of the displacement. It is noted that the $\\pm 1$ kernels do not depend on the phase. "
   ]
  },
  {
   "cell_type": "markdown",
   "id": "4cfbb50c-af5b-4a76-a8e5-24d354ea5785",
   "metadata": {},
   "source": [
    "Without saying much they turn to the construction of the eigenstates $\\{|\\psi_\\nu^\\xi\\rangle\\}$ of a commuting set $\\{X_{\\xi\\alpha} Z_\\alpha\\}$ associated to the line $\\beta = \\xi\\alpha + \\nu$. They state that a convenient construction is by the use of the rotation operator $V_\\xi$,\n",
    "$$\n",
    "V_\\xi Z_\\alpha V_\\xi^* \\sim Z_\\alpha X_{\\xi\\alpha},\n",
    "\\quad\n",
    "[V_\\xi,X_\\nu] = 0,\n",
    "\\quad\n",
    "V_0 = I,\n",
    "$$\n",
    "so that $|\\psi_\\nu^\\xi\\rangle = V_\\xi X_\\nu |0\\rangle$. The rotation operator expanded in the conjugate basis $|\\tilde\\kappa\\rangle$ has the form\n",
    "$$\n",
    "V_\\xi = \\sum_{\\kappa} c_{\\kappa,\\xi} |\\tilde\\kappa\\rangle\\langle\\tilde\\kappa|,\n",
    "\\quad\n",
    "c_{0,\\xi} = 1,\n",
    "$$\n",
    "where the coefficients $c_{\\kappa,\\xi}$ satisfy the non-linear recurrence equation\n",
    "$$\n",
    "c_{\\kappa+\\alpha,\\xi} c_{\\kappa,\\xi}^* = \\chi(\\xi\\alpha\\kappa) c_{\\alpha,\\xi},\n",
    "$$\n",
    "which assures that two vectors created from different slopes $\\xi \\neq \\xi'$ satisfy the unbiased condition $|\\langle\\psi_\\nu^\\xi|\\psi_\\nu^{\\xi'}\\rangle|^2$, and so that the rotation of $Z_\\alpha$ gives us $c_{\\alpha,\\xi} Z_\\alpha X_{\\alpha\\xi}$."
   ]
  },
  {
   "cell_type": "markdown",
   "id": "2c9cc4ff-edf1-401f-86e0-0fa50e030fd2",
   "metadata": {},
   "source": [
    "The rotation operators do not form an abelian group and $V_\\xi^2 = X_{\\xi^{2^{N-1}}}$. And now the good part, they mention that a *possible* solution of the recurrence relation is given by\n",
    "$$\n",
    "c_{\\alpha,\\xi} = (-i)^{h(\\alpha^p \\xi^{p/2})},\n",
    "\\quad p = 1,2,4,8,\\ldots,2^{N-1}.\n",
    "$$\n",
    "Let's verify it:\n",
    "$$\n",
    "\\begin{align*}\n",
    "c_{\\kappa+\\alpha,\\xi} c_{\\kappa,\\xi}^*\n",
    "&= (-i)^{h((\\kappa+\\alpha)^p \\xi^{p/2})} (-i)^{h(\\kappa^p \\xi^{p/2})} \\\\\n",
    "&= (-i)^{h((\\kappa+\\alpha)^p \\xi^{p/2}) + h(\\kappa^p \\xi^{p/2})} \\\\\n",
    "&= \n",
    "\\end{align*}\n",
    "$$\n",
    "on the other hand\n",
    "$$\n",
    "\\begin{align*}\n",
    "\\chi(\\xi\\alpha\\kappa) c_{\\alpha,\\xi}\n",
    "&= (-1)^{Tr(\\xi\\alpha\\kappa)} (-i)^{h(\\alpha^p \\xi^{p/2})} \\\\\n",
    "&= \n",
    "\\end{align*}\n",
    "$$"
   ]
  },
  {
   "cell_type": "markdown",
   "id": "e81c4eca-d19d-4228-8e4b-3f186ec5bef2",
   "metadata": {},
   "source": [
    "The imposition of the tomographic condition\n",
    "$$\n",
    "\\frac{1}{2^N} \\sum_{\\alpha,\\beta} W_\\rho^{(0)}(\\alpha,\\beta) \\delta_{\\beta,\\xi\\alpha+\\mu} = \n",
    "\\langle \\psi_\\nu^\\xi | \\rho | \\psi_\\nu^\\xi \\rangle,\n",
    "$$\n",
    "gives us a relationship between the coefficients of the rotation operator and the phase of the displacement operator\n",
    "$$\n",
    "\\phi(\\tau,\\nu) = c_{\\tau, \\tau^{-1}\\nu}.\n",
    "$$\n",
    "With this phase, the symbol of the state $|\\psi_\\nu^\\xi\\rangle$ is just a straigh line: ...\n",
    "\n",
    "While the kernel $\\Delta^{(0)}(\\alpha,\\beta)$ acquires the form of a sum of projectors on the lines crossing at the phase-space point $(\\alpha,\\beta)$:\n",
    "$$\n",
    "\\Delta^{(0)}(\\alpha,\\beta)\n",
    "= |\\tilde\\alpha\\rangle\\langle\\tilde\\alpha|\n",
    "+ \\sum_{\\xi,\\nu} \\delta_{\\beta,\\xi\\alpha+\\nu}\n",
    "|\\psi_\\nu^\\xi\\rangle\\langle\\psi_\\nu^\\xi| - I.\n",
    "$$"
   ]
  },
  {
   "cell_type": "markdown",
   "id": "855fff35-1130-4343-91d9-4f26d2ac661c",
   "metadata": {},
   "source": [
    "The particular solution of the rotation coefficients solutions leads to the phase\n",
    "$$\n",
    "\\phi(\\alpha,\\beta)\n",
    "= c_{\\alpha,\\alpha^{-1}\\beta} \n",
    "= (-i)^{h(\\alpha^{p/2}\\beta^{p/2})},\n",
    "\\quad p = 1,2,4,8,...,2^{N-1}.\n",
    "$$\n",
    "\n",
    "Now time to code. \n",
    "\n",
    "(Everything seemed fine for two qubits.)"
   ]
  },
  {
   "cell_type": "code",
   "execution_count": 402,
   "id": "5f313076-da29-4079-9f92-61795ceef826",
   "metadata": {},
   "outputs": [
    {
     "data": {
      "text/html": [
       "<html>\\(\\displaystyle \\left[0, x, x + 1, 1\\right]\\)</html>"
      ],
      "text/latex": [
       "$\\displaystyle \\left[0, x, x + 1, 1\\right]$"
      ],
      "text/plain": [
       "[0, x, x + 1, 1]"
      ]
     },
     "execution_count": 402,
     "metadata": {},
     "output_type": "execute_result"
    }
   ],
   "source": [
    "N = 2\n",
    "F = GF(2**N, 'x')\n",
    "x = F.gen()\n",
    "\n",
    "list(F)"
   ]
  },
  {
   "cell_type": "code",
   "execution_count": 403,
   "id": "72b48bee-34ea-48e7-848b-d30d19fca590",
   "metadata": {},
   "outputs": [
    {
     "data": {
      "text/html": [
       "<html>\\(\\displaystyle x^{2} + x + 1\\)</html>"
      ],
      "text/latex": [
       "$\\displaystyle x^{2} + x + 1$"
      ],
      "text/plain": [
       "x^2 + x + 1"
      ]
     },
     "execution_count": 403,
     "metadata": {},
     "output_type": "execute_result"
    }
   ],
   "source": [
    "x.minimal_polynomial()"
   ]
  },
  {
   "cell_type": "code",
   "execution_count": 404,
   "id": "14aab5ce-bdb0-45ef-b87e-2cc8f775ef71",
   "metadata": {},
   "outputs": [],
   "source": [
    "def Proj(u, v=None):\n",
    "    if not v:\n",
    "        v = u\n",
    "    u = matrix(u).transpose()\n",
    "    v = matrix(v).transpose()\n",
    "    return u.tensor_product(v.conjugate_transpose())"
   ]
  },
  {
   "cell_type": "code",
   "execution_count": 405,
   "id": "082549f3-34bc-4838-9737-440d48c50c61",
   "metadata": {},
   "outputs": [],
   "source": [
    "Id = identity_matrix(SR, 2**N)"
   ]
  },
  {
   "cell_type": "code",
   "execution_count": 406,
   "id": "0199f445-7180-4cb7-86b9-66a931e719dd",
   "metadata": {},
   "outputs": [],
   "source": [
    "def toInt(k):\n",
    "    return list(F).index(k)\n",
    "\n",
    "def chi(k):\n",
    "    return exp(2 * pi * I * int(k.trace()) / 2)"
   ]
  },
  {
   "cell_type": "code",
   "execution_count": 407,
   "id": "63a792e4-e60e-4555-8636-c38199fca474",
   "metadata": {},
   "outputs": [],
   "source": [
    "def Fourier():\n",
    "    s = zero_matrix(SR, 2**N, 2**N)\n",
    "    for i, a in enumerate(F):\n",
    "        for j, b in enumerate(F):\n",
    "            s[i,j] = chi(a * b) / sqrt(2**N)\n",
    "    return s\n",
    "FF = Fourier()\n",
    "\n",
    "def Z(a):\n",
    "    return diagonal_matrix([chi(a * k) for k in F])\n",
    "\n",
    "def X(b):\n",
    "    return FF.conjugate_transpose() * Z(b) * FF\n",
    "\n",
    "# def X(b):\n",
    "#     s = zero_matrix(SR, 2**N, 2**N)\n",
    "#     for k in F:\n",
    "#         s += Proj(Id[:,toInt(b+k)], Id[:,toInt(k)])\n",
    "#     return s"
   ]
  },
  {
   "cell_type": "code",
   "execution_count": 410,
   "id": "c810250e-2eda-4a25-8d16-7ae21d5891f3",
   "metadata": {},
   "outputs": [],
   "source": [
    "basis = [x,x+1] # selected self dual basis (N=2)\n",
    "# basis = [x^3, x^5, x^6]\n",
    "def components(k):\n",
    "    return vector([(k * m).trace() for m in basis])"
   ]
  },
  {
   "cell_type": "code",
   "execution_count": 411,
   "id": "6cd05359-8dd0-42c2-b83b-f13a4cd0afcf",
   "metadata": {},
   "outputs": [],
   "source": [
    "# check that base is self-dual\n",
    "for k in basis:\n",
    "    for l in basis:\n",
    "        if k == l:\n",
    "            if (k * l).trace() != 1:\n",
    "                raise Exception('Not self-dual!')\n",
    "        else:\n",
    "            if (k * l).trace() != 0:\n",
    "                raise Exception('Not self-dual!')"
   ]
  },
  {
   "cell_type": "code",
   "execution_count": 412,
   "id": "39a6e9dc-7170-4664-97a0-c32ef9600f63",
   "metadata": {},
   "outputs": [],
   "source": [
    "# define the Hadamard metric\n",
    "def h(k):\n",
    "    return sum([int(bit) for bit in components(k)])"
   ]
  },
  {
   "cell_type": "code",
   "execution_count": 413,
   "id": "6560d197-c7ca-4558-9aed-b09e68b45c9d",
   "metadata": {},
   "outputs": [],
   "source": [
    "# recurrence relation solution\n",
    "def c(alpha, xi, p=1):\n",
    "    return (-I)^(h(alpha^p * sqrt(xi)^p))"
   ]
  },
  {
   "cell_type": "code",
   "execution_count": 414,
   "id": "1b534f53-9cc4-4e6d-8b96-1cd7c3c2cf1e",
   "metadata": {},
   "outputs": [],
   "source": [
    "# phase defined by the rotation coeffs\n",
    "def phi(tau, nu, p=1):\n",
    "    t = type(F(0))\n",
    "    if type(tau) != t:\n",
    "        tau = F(tau)\n",
    "    if type(nu) != t:\n",
    "        nu = F(nu)\n",
    "        \n",
    "    if tau == F(0):\n",
    "        return 1\n",
    "    return c(tau, tau^-1 * nu, p)\n",
    "\n",
    "def D(a, b, p=1):\n",
    "    return phi(a, b, p) * Z(a) * X(b)"
   ]
  },
  {
   "cell_type": "code",
   "execution_count": 415,
   "id": "07f63220-17c4-4813-ba74-c48e25045acf",
   "metadata": {},
   "outputs": [
    {
     "data": {
      "text/html": [
       "<html>\\(\\displaystyle \\left(\\begin{array}{rrrr}\n",
       "1 & 1 & 1 & 1 \\\\\n",
       "1 & -1 & 1 & -1 \\\\\n",
       "1 & 1 & -1 & -1 \\\\\n",
       "1 & -1 & -1 & 1\n",
       "\\end{array}\\right)\\)</html>"
      ],
      "text/latex": [
       "$\\displaystyle \\left(\\begin{array}{rrrr}\n",
       "1 & 1 & 1 & 1 \\\\\n",
       "1 & -1 & 1 & -1 \\\\\n",
       "1 & 1 & -1 & -1 \\\\\n",
       "1 & -1 & -1 & 1\n",
       "\\end{array}\\right)$"
      ],
      "text/plain": [
       "[ 1  1  1  1]\n",
       "[ 1 -1  1 -1]\n",
       "[ 1  1 -1 -1]\n",
       "[ 1 -1 -1  1]"
      ]
     },
     "execution_count": 415,
     "metadata": {},
     "output_type": "execute_result"
    }
   ],
   "source": [
    "# the Fourier matrix gives us the eigenbasis\n",
    "# of the X(b) operators\n",
    "FF * sqrt(2^N)"
   ]
  },
  {
   "cell_type": "code",
   "execution_count": 416,
   "id": "32be917e-9bf8-4823-b9ee-144bef726ced",
   "metadata": {},
   "outputs": [],
   "source": [
    "def V(xi, p=1):\n",
    "    s = zero_matrix(SR, 2^N, 2^N)\n",
    "    for i, k in enumerate(F):\n",
    "        s += c(k, xi, p) * Proj(FF[:,i])\n",
    "    return s"
   ]
  },
  {
   "cell_type": "markdown",
   "id": "b791020c-be49-4b42-8d6a-f0485684c3f8",
   "metadata": {},
   "source": [
    "The eigenstates $\\{\\psi_\\nu^\\xi\\}$ of the commuting sets $\\{X_{\\xi\\alpha} Z_\\alpha\\}$ can be obtained as\n",
    "$$\n",
    "|\\psi_\\nu^\\xi \\rangle = V_\\xi X_\\nu |0\\rangle.\n",
    "$$\n",
    "Notice that if we maintain the chosen field order, the $V_\\xi$ gives us the whole eigenbasis. Let's check that they are orthornormal and mutually unbiased."
   ]
  },
  {
   "cell_type": "code",
   "execution_count": 417,
   "id": "f405182d-186d-46c1-92f4-b6a89132bf96",
   "metadata": {},
   "outputs": [],
   "source": [
    "# Orthonormality\n",
    "def isOrthonormal(m):\n",
    "    return m.conjugate_transpose() * m == Id\n",
    "\n",
    "# MUBs\n",
    "def isMUB(m1, m2):\n",
    "    m = (\n",
    "        m1.conjugate_transpose() * m2\n",
    "    ).apply_map(lambda t: abs(t)^2)\n",
    "    return m == ones_matrix(2^N, 2^N) / (2^N)\n",
    "\n",
    "def checkMUBs(mubs):\n",
    "    if type(mubs) != list:\n",
    "        mubs_list = []\n",
    "        for i in range(2^N+1):\n",
    "            mubs_list.append(mubs[(i*2^N):(i+1)*2^N,:])\n",
    "    else:\n",
    "        mubs_list = mubs\n",
    "            \n",
    "    for i in range(2^N+1):\n",
    "        for j in range(2^N+1):\n",
    "            if i == j:\n",
    "                if not isOrthonormal(mubs_list[i]):\n",
    "                    raise Exception(\n",
    "                        'Encountered a basis that is not orthonormal!',\n",
    "                        i\n",
    "                    )\n",
    "            else:\n",
    "                if not isMUB(mubs_list[i], mubs_list[j]):\n",
    "                    raise Exception(\n",
    "                        'Encountered non-MUB pairs of basis!',\n",
    "                        i, j\n",
    "                    )\n",
    "    return True"
   ]
  },
  {
   "cell_type": "code",
   "execution_count": 418,
   "id": "9dce0f4b-78cf-4afd-a7f6-bf86ed9f1b9f",
   "metadata": {},
   "outputs": [
    {
     "data": {
      "text/html": [
       "<html>\\(\\displaystyle \\mathrm{True}\\)</html>"
      ],
      "text/latex": [
       "$\\displaystyle \\mathrm{True}$"
      ],
      "text/plain": [
       "True"
      ]
     },
     "execution_count": 418,
     "metadata": {},
     "output_type": "execute_result"
    }
   ],
   "source": [
    "mubs = [FF] + [V(k, p=1) for k in F]\n",
    "checkMUBs(mubs)"
   ]
  },
  {
   "cell_type": "markdown",
   "id": "14dddd40-cf60-424b-8152-b8f431c86c55",
   "metadata": {},
   "source": [
    "So for two and three qubits we have MUBs! Also the change of $p$ doesn't seem to have an effect for some reason. Let's study the eigenvalues now."
   ]
  },
  {
   "cell_type": "code",
   "execution_count": 419,
   "id": "a1be1155-aef0-42e0-ae36-dba80df20dae",
   "metadata": {},
   "outputs": [
    {
     "data": {
      "text/html": [
       "<html>\\(\\displaystyle \\left(\\begin{array}{rrrr}\n",
       "0 & 1 & 0 & 0 \\\\\n",
       "1 & 0 & 0 & 0 \\\\\n",
       "0 & 0 & 0 & -1 \\\\\n",
       "0 & 0 & -1 & 0\n",
       "\\end{array}\\right)\\)</html>"
      ],
      "text/latex": [
       "$\\displaystyle \\left(\\begin{array}{rrrr}\n",
       "0 & 1 & 0 & 0 \\\\\n",
       "1 & 0 & 0 & 0 \\\\\n",
       "0 & 0 & 0 & -1 \\\\\n",
       "0 & 0 & -1 & 0\n",
       "\\end{array}\\right)$"
      ],
      "text/plain": [
       "[ 0  1  0  0]\n",
       "[ 1  0  0  0]\n",
       "[ 0  0  0 -1]\n",
       "[ 0  0 -1  0]"
      ]
     },
     "execution_count": 419,
     "metadata": {},
     "output_type": "execute_result"
    }
   ],
   "source": [
    "(Z(x^2) * X(x^4) * V(x^2) * 4) / (V(x^2) * 4)"
   ]
  },
  {
   "cell_type": "markdown",
   "id": "2c3570d9-7724-4232-9360-7222e8d3aaad",
   "metadata": {},
   "source": [
    "It appears that using the exact *recipe* provides us with a way to look at the eigenvalues quite directly. No imaginary phase appears anymore."
   ]
  },
  {
   "cell_type": "markdown",
   "id": "0b62e652-efa5-460b-afb9-9e7930b3b3e1",
   "metadata": {},
   "source": [
    "Let's define the Wigner function using the displacemente operators and using Wootters kernel, according the authors they should be the same."
   ]
  },
  {
   "cell_type": "code",
   "execution_count": 420,
   "id": "79f7da26-9668-4d67-a065-d2780c216e85",
   "metadata": {},
   "outputs": [],
   "source": [
    "def Delta(a, b):\n",
    "    s = zero_matrix(SR, 2^N, 2^N)\n",
    "    for gamma in F:\n",
    "        for delta in F:\n",
    "            s += chi(a * delta + b * gamma) * D(gamma, delta) / 2^N\n",
    "    return s"
   ]
  },
  {
   "cell_type": "markdown",
   "id": "1c89ffc3-ea06-4a40-8c6f-86cb5176f73a",
   "metadata": {},
   "source": [
    "Let's verify that it satisfies the appropriate conditions. Remember our displacement operators are already multiplied by the adequate phase."
   ]
  },
  {
   "cell_type": "code",
   "execution_count": 421,
   "id": "ff4d9eda-2faf-4d03-8a92-cb7e752fba03",
   "metadata": {},
   "outputs": [
    {
     "data": {
      "text/html": [
       "<html>\\(\\displaystyle \\left(\\begin{array}{rrrr}\n",
       "4 & 0 & 0 & 0 \\\\\n",
       "0 & 4 & 0 & 0 \\\\\n",
       "0 & 0 & 4 & 0 \\\\\n",
       "0 & 0 & 0 & 4\n",
       "\\end{array}\\right)\\)</html>"
      ],
      "text/latex": [
       "$\\displaystyle \\left(\\begin{array}{rrrr}\n",
       "4 & 0 & 0 & 0 \\\\\n",
       "0 & 4 & 0 & 0 \\\\\n",
       "0 & 0 & 4 & 0 \\\\\n",
       "0 & 0 & 0 & 4\n",
       "\\end{array}\\right)$"
      ],
      "text/plain": [
       "[4 0 0 0]\n",
       "[0 4 0 0]\n",
       "[0 0 4 0]\n",
       "[0 0 0 4]"
      ]
     },
     "execution_count": 421,
     "metadata": {},
     "output_type": "execute_result"
    }
   ],
   "source": [
    "# 'normalization'\n",
    "op = zero_matrix(SR, 2^N, 2^N)\n",
    "for a in F:\n",
    "    for b in F:\n",
    "        op += Delta(a, b)\n",
    "op"
   ]
  },
  {
   "cell_type": "code",
   "execution_count": 425,
   "id": "6278ace3-029f-4743-bf86-4a1f07012127",
   "metadata": {},
   "outputs": [
    {
     "data": {
      "text/html": [
       "<html>\\(\\displaystyle \\mathrm{True}\\)</html>"
      ],
      "text/latex": [
       "$\\displaystyle \\mathrm{True}$"
      ],
      "text/plain": [
       "True"
      ]
     },
     "execution_count": 425,
     "metadata": {},
     "output_type": "execute_result"
    }
   ],
   "source": [
    "# Covariance\n",
    "D(x, x) * Delta(1, 1) * D(x, x).conjugate_transpose() == Delta(x+1,x+1)"
   ]
  },
  {
   "cell_type": "code",
   "execution_count": 424,
   "id": "dfe106c8-3b1c-4b63-900b-6210ade8085a",
   "metadata": {},
   "outputs": [
    {
     "data": {
      "text/html": [
       "<html>\\(\\displaystyle \\mathrm{True}\\)</html>"
      ],
      "text/latex": [
       "$\\displaystyle \\mathrm{True}$"
      ],
      "text/plain": [
       "True"
      ]
     },
     "execution_count": 424,
     "metadata": {},
     "output_type": "execute_result"
    }
   ],
   "source": [
    "# Hermitian for the appropriate phase\n",
    "Delta(x^3,x) == Delta(x^3,x).conjugate_transpose()"
   ]
  },
  {
   "cell_type": "code",
   "execution_count": 427,
   "id": "a0eef8e8-9ae1-43eb-a00c-2f2950f728fa",
   "metadata": {},
   "outputs": [
    {
     "data": {
      "text/html": [
       "<html>\\(\\displaystyle 0\\)</html>"
      ],
      "text/latex": [
       "$\\displaystyle 0$"
      ],
      "text/plain": [
       "0"
      ]
     },
     "execution_count": 427,
     "metadata": {},
     "output_type": "execute_result"
    }
   ],
   "source": [
    "# Hilbert-Schmidt orthonormality\n",
    "(D(1,x^2) * D(x,x^2).conjugate_transpose()).trace()"
   ]
  },
  {
   "cell_type": "markdown",
   "id": "879d56aa-6781-4ff5-b1bc-17c7b681a532",
   "metadata": {},
   "source": [
    "Ok, so for the chosen phase/rotation coefficients, the displacement based kernel satisfies the required properties. Which means we can easily define the Wigner function now."
   ]
  },
  {
   "cell_type": "code",
   "execution_count": 536,
   "id": "8cd95778-57f2-4989-a420-5af7f8fbfd3c",
   "metadata": {},
   "outputs": [],
   "source": [
    "def Wigner(state, a, b, kernel=Delta):\n",
    "    return (state * kernel(a, b)).trace()\n",
    "\n",
    "def WignerMatrix(state, kernel=Delta):\n",
    "    W = zero_matrix(SR, 2^N, 2^N)\n",
    "    for i, a in enumerate(F):\n",
    "        for j, b in enumerate(F):\n",
    "            W[i, j] = real(Wigner(state, a, b, kernel)) / 2^N\n",
    "    return W.matrix_from_rows(range(2^N-1,-1,-1))"
   ]
  },
  {
   "cell_type": "code",
   "execution_count": 537,
   "id": "39e58335-e77c-4d66-abe6-6db90a1c2a56",
   "metadata": {},
   "outputs": [
    {
     "data": {
      "text/html": [
       "<html>\\(\\displaystyle \\left(\\begin{array}{rrrr}\n",
       "0 & 0 & 0 & \\frac{1}{4} \\\\\n",
       "0 & 0 & \\frac{1}{4} & 0 \\\\\n",
       "0 & \\frac{1}{4} & 0 & 0 \\\\\n",
       "\\frac{1}{4} & 0 & 0 & 0\n",
       "\\end{array}\\right)\\)</html>"
      ],
      "text/latex": [
       "$\\displaystyle \\left(\\begin{array}{rrrr}\n",
       "0 & 0 & 0 & \\frac{1}{4} \\\\\n",
       "0 & 0 & \\frac{1}{4} & 0 \\\\\n",
       "0 & \\frac{1}{4} & 0 & 0 \\\\\n",
       "\\frac{1}{4} & 0 & 0 & 0\n",
       "\\end{array}\\right)$"
      ],
      "text/plain": [
       "[  0   0   0 1/4]\n",
       "[  0   0 1/4   0]\n",
       "[  0 1/4   0   0]\n",
       "[1/4   0   0   0]"
      ]
     },
     "execution_count": 537,
     "metadata": {},
     "output_type": "execute_result"
    }
   ],
   "source": [
    "w = WignerMatrix(Proj(vector(V(F(1))[:,0])))\n",
    "w"
   ]
  },
  {
   "cell_type": "code",
   "execution_count": 538,
   "id": "cc92809b-09c6-451f-82f5-443dc4cdf59b",
   "metadata": {},
   "outputs": [],
   "source": [
    "def Wootters(a, b):\n",
    "    op = Proj(FF[:, toInt(a)])\n",
    "    for xi in F:\n",
    "        for nu in F:\n",
    "            d = int(b == xi * a + nu)\n",
    "            v = mubs[toInt(xi)+1][:, toInt(nu)]\n",
    "            op += d * Proj(vector(v))\n",
    "    return op - Id"
   ]
  },
  {
   "cell_type": "markdown",
   "id": "247b5fa5-7b9e-4375-8929-ac3e634311f4",
   "metadata": {},
   "source": [
    "Let's compare both kernels."
   ]
  },
  {
   "cell_type": "code",
   "execution_count": 543,
   "id": "cffe717d-fbbb-4eee-b0f0-7b3b6ed7281a",
   "metadata": {},
   "outputs": [],
   "source": [
    "# this takes a while cause SageMath is slow...\n",
    "for k in F:\n",
    "    for l in F:\n",
    "        if Wootters(k,l) != Delta(k,l):\n",
    "            raise Exception('Not the same!')"
   ]
  },
  {
   "cell_type": "code",
   "execution_count": 547,
   "id": "4dfbe236-a98e-49c4-9e96-141e9196ed87",
   "metadata": {},
   "outputs": [
    {
     "data": {
      "text/html": [
       "<html>\\(\\displaystyle \\left(\\begin{array}{rrrr}\n",
       "\\frac{1}{4} & 0 & 0 & 0 \\\\\n",
       "0 & \\frac{1}{4} & 0 & 0 \\\\\n",
       "0 & 0 & \\frac{1}{4} & 0 \\\\\n",
       "0 & 0 & 0 & \\frac{1}{4}\n",
       "\\end{array}\\right)\\)</html>"
      ],
      "text/latex": [
       "$\\displaystyle \\left(\\begin{array}{rrrr}\n",
       "\\frac{1}{4} & 0 & 0 & 0 \\\\\n",
       "0 & \\frac{1}{4} & 0 & 0 \\\\\n",
       "0 & 0 & \\frac{1}{4} & 0 \\\\\n",
       "0 & 0 & 0 & \\frac{1}{4}\n",
       "\\end{array}\\right)$"
      ],
      "text/plain": [
       "[1/4   0   0   0]\n",
       "[  0 1/4   0   0]\n",
       "[  0   0 1/4   0]\n",
       "[  0   0   0 1/4]"
      ]
     },
     "execution_count": 547,
     "metadata": {},
     "output_type": "execute_result"
    }
   ],
   "source": [
    "w = WignerMatrix(Proj(vector(V(1)[:,3])), kernel=Wootters)\n",
    "w"
   ]
  },
  {
   "cell_type": "code",
   "execution_count": 550,
   "id": "30c458e6-2853-4ee5-aa9d-8cc06b03ffce",
   "metadata": {},
   "outputs": [
    {
     "data": {
      "text/html": [
       "<html>\\(\\displaystyle \\left(\\begin{array}{rrrr}\n",
       "\\frac{1}{8} & \\frac{1}{8} & \\frac{1}{8} & \\frac{1}{8} \\\\\n",
       "\\frac{1}{8} & -\\frac{1}{8} & -\\frac{1}{8} & \\frac{1}{8} \\\\\n",
       "\\frac{1}{8} & -\\frac{1}{8} & -\\frac{1}{8} & \\frac{1}{8} \\\\\n",
       "\\frac{1}{8} & \\frac{1}{8} & \\frac{1}{8} & \\frac{1}{8}\n",
       "\\end{array}\\right)\\)</html>"
      ],
      "text/latex": [
       "$\\displaystyle \\left(\\begin{array}{rrrr}\n",
       "\\frac{1}{8} & \\frac{1}{8} & \\frac{1}{8} & \\frac{1}{8} \\\\\n",
       "\\frac{1}{8} & -\\frac{1}{8} & -\\frac{1}{8} & \\frac{1}{8} \\\\\n",
       "\\frac{1}{8} & -\\frac{1}{8} & -\\frac{1}{8} & \\frac{1}{8} \\\\\n",
       "\\frac{1}{8} & \\frac{1}{8} & \\frac{1}{8} & \\frac{1}{8}\n",
       "\\end{array}\\right)$"
      ],
      "text/plain": [
       "[ 1/8  1/8  1/8  1/8]\n",
       "[ 1/8 -1/8 -1/8  1/8]\n",
       "[ 1/8 -1/8 -1/8  1/8]\n",
       "[ 1/8  1/8  1/8  1/8]"
      ]
     },
     "execution_count": 550,
     "metadata": {},
     "output_type": "execute_result"
    }
   ],
   "source": [
    "# A GHZ state\n",
    "WignerMatrix(Proj(vector(Id[:,0] + Id[:,3])/sqrt(2)), kernel=Wootters)"
   ]
  },
  {
   "cell_type": "markdown",
   "id": "d050e194-34f8-45c1-a3b2-f2fbe6684cf6",
   "metadata": {},
   "source": [
    "To find stabilizer states we have to find a common $+1$ eigenvector of all the displacement operators labelled by a line."
   ]
  },
  {
   "cell_type": "code",
   "execution_count": 561,
   "id": "e2d86848-20e8-45c8-96b4-7c7d42b0d4a9",
   "metadata": {},
   "outputs": [],
   "source": [
    "def eldiv(A, B):\n",
    "    return A.parent()([a/b for a, b in zip(A.list(), B.list())])"
   ]
  },
  {
   "cell_type": "code",
   "execution_count": 575,
   "id": "388bbc9e-7e92-4f35-bbf1-8bb30f99d612",
   "metadata": {},
   "outputs": [
    {
     "data": {
      "text/html": [
       "<html>\\(\\displaystyle \\left(4,\\,0,\\,0,\\,0\\right)\\)</html>"
      ],
      "text/latex": [
       "$\\displaystyle \\left(4,\\,0,\\,0,\\,0\\right)$"
      ],
      "text/plain": [
       "(4, 0, 0, 0)"
      ]
     },
     "execution_count": 575,
     "metadata": {},
     "output_type": "execute_result"
    }
   ],
   "source": [
    "# For the X operators we know that the \n",
    "# eigenbasis is the Fourier matrix.\n",
    "s = zero_vector(SR, 2^N)\n",
    "for k in F:\n",
    "    s += sum(eldiv(D(0,k) * FF, FF)) / 2^N\n",
    "s"
   ]
  },
  {
   "cell_type": "markdown",
   "id": "fd58e8b0-82e6-4469-9572-56588155e89c",
   "metadata": {},
   "source": [
    "We can see from the above calculation that there is only one stabilizer defined in the strict sense."
   ]
  },
  {
   "cell_type": "code",
   "execution_count": 585,
   "id": "5d70b738-6017-4212-a53d-6b453ba31e3f",
   "metadata": {},
   "outputs": [],
   "source": [
    "def findStabilizer(base, m):\n",
    "    s = zero_vector(SR, 2^N)\n",
    "    for k in F:\n",
    "        s += sum(eldiv(D(k, m * k) * base, base)) / 2^N\n",
    "    return s"
   ]
  },
  {
   "cell_type": "code",
   "execution_count": 598,
   "id": "7b782b57-4ce0-4490-ac34-17fe65c0dd4e",
   "metadata": {},
   "outputs": [
    {
     "data": {
      "text/html": [
       "<html>\\(\\displaystyle \\left(4,\\,0,\\,0,\\,0\\right)\\)</html>"
      ],
      "text/latex": [
       "$\\displaystyle \\left(4,\\,0,\\,0,\\,0\\right)$"
      ],
      "text/plain": [
       "(4, 0, 0, 0)"
      ]
     },
     "execution_count": 598,
     "metadata": {},
     "output_type": "execute_result"
    }
   ],
   "source": [
    "findStabilizer(mubs[4], 1)"
   ]
  },
  {
   "cell_type": "markdown",
   "id": "18672316-126b-4d96-8566-b97ee74a5380",
   "metadata": {},
   "source": [
    "Stabilizers found (two qubits):\n",
    "- First vector of the Fourier basis\n",
    "- First vector of the $Z_\\alpha$ basis\n",
    "- First vector of the $Z_\\alpha X_{x \\alpha}$ basis\n",
    "- First vector of the $Z_\\alpha X_{x^2 \\alpha}$ basis\n",
    "- First vector of the $Z_\\alpha X_\\alpha$ basis\n",
    "\n",
    "So in this formulation, all of the first vectors of the MUBs correspond to stabilizer states. And of course these will have non-negative Wigner functions."
   ]
  },
  {
   "cell_type": "code",
   "execution_count": 617,
   "id": "bb38c035-e0a3-440e-a493-b4bc048ec804",
   "metadata": {},
   "outputs": [
    {
     "data": {
      "text/html": [
       "<html>\\(\\displaystyle \\left(\\begin{array}{rrrr}\n",
       "0 & 0 & 0 & \\frac{1}{4} \\\\\n",
       "0 & 0 & \\frac{1}{4} & 0 \\\\\n",
       "0 & \\frac{1}{4} & 0 & 0 \\\\\n",
       "\\frac{1}{4} & 0 & 0 & 0\n",
       "\\end{array}\\right)\\)</html>"
      ],
      "text/latex": [
       "$\\displaystyle \\left(\\begin{array}{rrrr}\n",
       "0 & 0 & 0 & \\frac{1}{4} \\\\\n",
       "0 & 0 & \\frac{1}{4} & 0 \\\\\n",
       "0 & \\frac{1}{4} & 0 & 0 \\\\\n",
       "\\frac{1}{4} & 0 & 0 & 0\n",
       "\\end{array}\\right)$"
      ],
      "text/plain": [
       "[  0   0   0 1/4]\n",
       "[  0   0 1/4   0]\n",
       "[  0 1/4   0   0]\n",
       "[1/4   0   0   0]"
      ]
     },
     "execution_count": 617,
     "metadata": {},
     "output_type": "execute_result"
    }
   ],
   "source": [
    "WignerMatrix(Proj(vector(mubs[4][:,0])), kernel=Wootters)"
   ]
  },
  {
   "cell_type": "code",
   "execution_count": null,
   "id": "f8faa228-6700-43f2-b7ec-59de01e75d4a",
   "metadata": {},
   "outputs": [],
   "source": []
  }
 ],
 "metadata": {
  "kernelspec": {
   "display_name": "SageMath 9.8",
   "language": "sage",
   "name": "sagemath"
  },
  "language_info": {
   "codemirror_mode": {
    "name": "ipython",
    "version": 3
   },
   "file_extension": ".py",
   "mimetype": "text/x-python",
   "name": "python",
   "nbconvert_exporter": "python",
   "pygments_lexer": "ipython3",
   "version": "3.9.16"
  }
 },
 "nbformat": 4,
 "nbformat_minor": 5
}
