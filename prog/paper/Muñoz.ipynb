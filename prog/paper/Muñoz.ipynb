{
 "cells": [
  {
   "cell_type": "code",
   "execution_count": 1,
   "id": "37c4e3af-4a30-40a8-8655-c67ebbb4b770",
   "metadata": {},
   "outputs": [],
   "source": [
    "%display latex"
   ]
  },
  {
   "cell_type": "markdown",
   "id": "a862f2dd-e366-4c8f-8857-e3508d5d30e4",
   "metadata": {},
   "source": [
    "### Discrete phase-space mappings, tomographic condition and permutation invariance\n",
    "\n",
    "In the article they generalize the Wigner function a bit to other phase-space cuasi-distributions. Such maps can be refined by imposing additional structure other than the satisfaction of the Stratonovich-Weyl criteria, e.g., one possible condition could be the marginal reduction, i.e. that summing the image of the density matrix in the phase space along a set of points associated with a given state one obtains the probability distribution in this state. This requirement gives a clear geometric interpretation of the discrete map and is also known as a *tomographic condition*."
   ]
  },
  {
   "cell_type": "markdown",
   "id": "4020ff4b-0357-4ae6-b930-14a56419387e",
   "metadata": {},
   "source": [
    "They consider the $2^N$ dimensional Hilbert space whose basis is labeled by the Galois extension $GF(2^N)$. The discrete phase-space is a $2^N \\times 2^N$ grid whose points are pairs of elements of the field extension. These points label a monomial operational basis $Z_\\alpha X_\\beta$ given by\n",
    "$$\n",
    "Z_\\alpha = \\sum_\\kappa \\chi(\\alpha\\kappa) |\\kappa\\rangle \\langle\\kappa|,\n",
    "\\quad\n",
    "X_\\beta = \\sum_\\kappa |\\kappa + \\beta\\rangle \\langle\\kappa|,\n",
    "$$\n",
    "where $\\chi(\\alpha) = (-1)^{Tr(\\alpha)}$ and the field trace is given by\n",
    "$$\n",
    "Tr(\\alpha) = \\sum_{i=0}^{N-1} \\alpha^{2^i}.\n",
    "$$\n",
    "These monomials generate the Pauli group $\\mathcal P^N$ over a system of $N$ qubits, which satisfy the commutation relation\n",
    "$$\n",
    "Z_\\alpha X_\\beta = \\chi(\\alpha\\beta) X_\\beta Z_\\alpha.\n",
    "$$"
   ]
  },
  {
   "cell_type": "markdown",
   "id": "c8ca962c-05fb-4a98-9130-5a37a112d46c",
   "metadata": {},
   "source": [
    "Importantly, they choose a self-dual basis $\\{\\theta_1,\\ldots,\\theta_N\\}$ of the field extension which allows us to express elements of $GF(2^N)$ as vectors over the field $\\mathbb Z_2$. The basis is self-dual in the sense that $Tr(\\theta_i \\theta_j) = \\delta_{ij}$. In this manner we have:\n",
    "$$\n",
    "\\alpha = \\sum_{i=1}^N a_i \\theta_i, \\quad a_i = Tr(\\theta_i \\alpha) \\in \\mathbb Z_2.$$"
   ]
  },
  {
   "cell_type": "markdown",
   "id": "615143f4-13b9-4cf9-ae9c-58ca0cc1736d",
   "metadata": {},
   "source": [
    "Using this basis we can form an isomorphism between the tensor product space and the Hilbert space previously defined. That is, we can associate $Z_\\alpha$ and $X_\\beta$ with $N$-particle operators:\n",
    "$$\n",
    "Z_\\alpha = \\sigma_z^{a_1} \\otimes \\cdots \\otimes \\sigma_z^{a_N},\n",
    "\\quad\n",
    "X_\\beta = \\sigma_x^{b_1} \\otimes \\cdots \\otimes \\sigma_x^{b_N},\n",
    "$$\n",
    "where $\\sigma_z$ and $\\sigma_x$ are the Pauli matrices:\n",
    "$$\n",
    "\\sigma_z = |0\\rangle \\langle 0| - |1\\rangle \\langle 1|,\n",
    "\\quad\n",
    "\\sigma_x = |0\\rangle \\langle 1| + |1\\rangle \\langle 0|.\n",
    "$$\n",
    "For geometric reasons, we can associate the axes of the discrete phase-space with the complementary observables $Z_\\alpha$ and $X_\\beta$."
   ]
  },
  {
   "cell_type": "markdown",
   "id": "986f89bf-f6bc-4a8f-bddd-51fefd7faad1",
   "metadata": {},
   "source": [
    "Now they define an $s$-parametrized set of quasi-distrubtions that satisfy the Stratanovich-Weyl criteria through the following injective map:\n",
    "$$\n",
    "W_f^{(s)}(\\alpha,\\beta)\n",
    "= Tr[\\hat f \\Delta^{(s)}(\\alpha,\\beta)].\n",
    "$$\n",
    "The \"inverse\" map is given by\n",
    "$$\n",
    "\\hat f = \\frac{1}{2^N} \\sum_{\\alpha,\\beta} W_f^{(s)}(\\alpha,\\beta) \\Delta^{(-s)}(\\alpha,\\beta).\n",
    "$$"
   ]
  },
  {
   "cell_type": "markdown",
   "id": "48d700c5-2489-458f-bcaf-90e09903bde9",
   "metadata": {},
   "source": [
    "In this case, they seem to be using the classic definition, the kernel is given by:\n",
    "$$\n",
    "\\Delta^{(s)}(\\alpha,\\beta)\n",
    "= \\frac{1}{2^N} \\sum_{\\gamma,\\delta} \\chi(\\alpha\\delta+\\beta\\gamma)\n",
    "(\\langle \\xi|D(\\gamma,\\delta) |\\xi \\rangle)^{-s} D(\\gamma,\\delta),\n",
    "$$\n",
    "where $D(\\gamma,\\delta)$ is a *displacemente operator* defined as\n",
    "$$\n",
    "D(\\gamma,\\delta)\n",
    "= \\phi(\\gamma,\\delta) Z_\\gamma X_\\delta,\n",
    "$$\n",
    "where the function $\\phi$ must satisfy\n",
    "$$\n",
    "\\phi(\\gamma, \\delta) \\phi^*(\\gamma, \\delta) = 1,\n",
    "\\quad\n",
    "\\phi(0, \\delta) = \\phi(\\gamma, 0) = 1,\n",
    "$$\n",
    "in order that the displacement operators are unitary. The inclusion of a *fiducial* state $|\\xi\\rangle$ is such that the inner product does not vanish. A fiducial state is a quantum state that can be easily produced."
   ]
  },
  {
   "cell_type": "markdown",
   "id": "d9deac99-f7b1-4d72-8fb2-da95ee5b2eae",
   "metadata": {},
   "source": [
    "Defined in this manner, the kernel is normalized and covariant. If the phase $\\phi$ satisfies $\\phi^2(\\gamma,\\delta) = \\chi(\\gamma\\delta)$ then the kernel is also Hermitian. In addition, the kernel forms a Hilbert-Schimidt orthonormal basis:\n",
    "$$\n",
    "Tr\\left(\n",
    "\\Delta^{(s)}(\\alpha,\\beta) \\Delta^{(-s)}(\\alpha,\\beta)\n",
    "\\right) \n",
    "= 2^N \\delta_{\\alpha,\\alpha'} \\delta_{\\beta,\\beta'}.\n",
    "$$"
   ]
  },
  {
   "cell_type": "markdown",
   "id": "8ebdae49-416c-4100-b630-ac453d523fe5",
   "metadata": {},
   "source": [
    "---\n",
    "\n",
    "The authors mentioned problems arising from a lack of ordering of the Galois field which make the use of quasi-distributions in the discrete case a bit useless for many particles. The proposed solution is to use a set of measurements that is restricted to symmetric observables, i.e., invariant under permutations.\n",
    "\n",
    "So the idea is to construct permutation-invariant $s = \\pm 1$ mappings. First they define (permutation) invariants constructed on the phase space coordinates $(\\alpha,\\beta)$ (what does this mean?):\n",
    "$$\n",
    "h(\\alpha) = \\sum_{i=0}^N a_i,\n",
    "\\quad\n",
    "h(\\beta) = \\sum_{i=0}^N b_i,\n",
    "\\quad\n",
    "h(\\alpha+\\beta) = \\sum_{i=0}^N (a_i + b_i),\n",
    "$$\n",
    "where the sum is done modulo 2. Notice that $0 \\leq h(\\kappa) \\leq N$.\n",
    "<!-- $$\n",
    "h(\\alpha+\\beta)\n",
    "= \\sum_{i=0}^N Tr((\\alpha + \\beta)\\theta_i)\n",
    "= \\sum_{i=0}^N (Tr(\\alpha \\theta_i) + Tr(\\beta\\theta_i))\n",
    "$$ -->"
   ]
  },
  {
   "cell_type": "code",
   "execution_count": 2,
   "id": "5f313076-da29-4079-9f92-61795ceef826",
   "metadata": {},
   "outputs": [
    {
     "data": {
      "text/html": [
       "<html>\\(\\displaystyle \\left[0, x, x + 1, 1\\right]\\)</html>"
      ],
      "text/latex": [
       "$\\displaystyle \\left[0, x, x + 1, 1\\right]$"
      ],
      "text/plain": [
       "[0, x, x + 1, 1]"
      ]
     },
     "execution_count": 2,
     "metadata": {},
     "output_type": "execute_result"
    }
   ],
   "source": [
    "N = 2\n",
    "F = GF(2**N, 'x')\n",
    "x = F.gen()\n",
    "\n",
    "list(F)"
   ]
  },
  {
   "cell_type": "code",
   "execution_count": 3,
   "id": "72b48bee-34ea-48e7-848b-d30d19fca590",
   "metadata": {},
   "outputs": [
    {
     "data": {
      "text/html": [
       "<html>\\(\\displaystyle x^{2} + x + 1\\)</html>"
      ],
      "text/latex": [
       "$\\displaystyle x^{2} + x + 1$"
      ],
      "text/plain": [
       "x^2 + x + 1"
      ]
     },
     "execution_count": 3,
     "metadata": {},
     "output_type": "execute_result"
    }
   ],
   "source": [
    "x.minimal_polynomial()"
   ]
  },
  {
   "cell_type": "code",
   "execution_count": 4,
   "id": "c810250e-2eda-4a25-8d16-7ae21d5891f3",
   "metadata": {},
   "outputs": [],
   "source": [
    "basis = [x,x+1] # selected self dual basis (N=2)\n",
    "# basis = [x^3, x^5, x^6]\n",
    "def components(k):\n",
    "    return vector([(k * m).trace() for m in basis])"
   ]
  },
  {
   "cell_type": "code",
   "execution_count": 5,
   "id": "6cd05359-8dd0-42c2-b83b-f13a4cd0afcf",
   "metadata": {},
   "outputs": [],
   "source": [
    "# check that base is self-dual\n",
    "for k in basis:\n",
    "    for l in basis:\n",
    "        if k == l:\n",
    "            if (k * l).trace() != 1:\n",
    "                raise Exception('Not self-dual!')\n",
    "        else:\n",
    "            if (k * l).trace() != 0:\n",
    "                raise Exception('Not self-dual!')"
   ]
  },
  {
   "cell_type": "code",
   "execution_count": 6,
   "id": "39a6e9dc-7170-4664-97a0-c32ef9600f63",
   "metadata": {},
   "outputs": [],
   "source": [
    "# define the Hadamard metric\n",
    "def h(k):\n",
    "    return sum([int(bit) for bit in components(k)])"
   ]
  },
  {
   "cell_type": "markdown",
   "id": "4cfbb50c-af5b-4a76-a8e5-24d354ea5785",
   "metadata": {},
   "source": [
    "After talking about the $Q$-function they immediately transition to a covariant Wigner mapping, becuase it is the appropriate state representation that \"sees\" interference patterns, this would be the case of $s=0$.\n",
    "\n",
    "Now they consider Wootter's construction using lines in phase-space. Something I had not noticed is that the kernel as defined above only guarantees that summing the Wigner function along the axes $\\alpha=0$ and $\\beta=0$ leads to correct projections on the logical and conjugate basis. The requirement that this works for *any* line is an additional condition. It is called the *tomographic condition* and it restricts the phase of the displacement. It is noted that the $\\pm 1$ kernels do not depend on the phase. \n",
    "\n",
    "Without saying much they turn to the construction of the eigenstates $\\{|\\psi_\\nu^\\xi\\rangle\\}$ of a commuting set $\\{X_{\\xi\\alpha} Z_\\alpha\\}$ associated to the line $\\beta = \\xi\\alpha + \\nu$. They state that a convenient construction is by the use of the rotation operator $V_\\xi$,\n",
    "$$\n",
    "V_\\xi Z_\\alpha V_\\xi^* \\sim Z_\\alpha X_{\\xi\\alpha},\n",
    "\\quad\n",
    "[V_\\xi,X_\\nu] = 0,\n",
    "\\quad\n",
    "V_0 = I,\n",
    "$$\n",
    "so that $|\\psi_\\nu^\\xi\\rangle = V_\\xi X_\\nu |0\\rangle$. The rotation operator expanded in the conjugate basis $|\\tilde\\kappa\\rangle$ has the form\n",
    "$$\n",
    "V_\\xi = \\sum_{\\kappa} c_{\\kappa,\\xi} |\\tilde\\kappa\\rangle\\langle\\tilde\\kappa|,\n",
    "\\quad\n",
    "c_{0,\\xi} = 1,\n",
    "$$\n",
    "where the coefficients $c_{\\kappa,\\xi}$ satisfy the non-linear recurrence equation\n",
    "$$\n",
    "c_{\\kappa+\\alpha,\\xi} c_{\\kappa,\\xi}^* = \\chi(\\xi\\alpha\\kappa) c_{\\alpha,\\xi},\n",
    "$$\n",
    "which assures that two vectors created from different slopes $\\xi \\neq \\xi'$ satisfy the unbiased condition $|\\langle\\psi_\\nu^\\xi|\\psi_\\nu^{\\xi'}\\rangle|^2$, and so that the rotation of $Z_\\alpha$ gives us $c_{\\alpha,\\xi} Z_\\alpha X_{\\alpha\\xi}$."
   ]
  },
  {
   "cell_type": "markdown",
   "id": "2c9cc4ff-edf1-401f-86e0-0fa50e030fd2",
   "metadata": {},
   "source": [
    "The rotation operators do not form an abelian group and $V_\\xi^2 = X_{\\xi^{2^{N-1}}}$. And now the good part, they mention that a *possible* solution of the recurrence relation is given by\n",
    "$$\n",
    "c_{\\alpha,\\xi} = (-i)^{h(\\alpha^p \\xi^{p/2})},\n",
    "\\quad p = 1,2,4,8,\\ldots,2^{N-1}.\n",
    "$$\n",
    "Let's verify it:\n",
    "$$\n",
    "\\begin{align*}\n",
    "c_{\\kappa+\\alpha,\\xi} c_{\\kappa,\\xi}^*\n",
    "&= (-i)^{h((\\kappa+\\alpha)^p \\xi^{p/2})} (-i)^{-h(\\kappa^p \\xi^{p/2})} \\\\\n",
    "&= (-i)^{h(\\kappa^p \\xi^{p/2} +\\alpha^p \\xi^{p/2})} (-i)^{-h(\\kappa^p \\xi^{p/2})}\n",
    "\\end{align*}\n",
    "$$\n",
    "on the other hand\n",
    "$$\n",
    "\\begin{align*}\n",
    "\\chi(\\xi\\alpha\\kappa) c_{\\alpha,\\xi}\n",
    "&= (-1)^{Tr(\\xi\\alpha\\kappa)} (-i)^{h(\\alpha^p \\xi^{p/2})} \\\\\n",
    "&= (-i)^{2 Tr(\\xi\\alpha\\kappa)} (-i)^{h(\\alpha^p \\xi^{p/2})} \\\\\n",
    "&= (-i)^{2 Tr(\\xi\\alpha\\kappa) + h(\\alpha^p \\xi^{p/2})}\n",
    "\\end{align*}.\n",
    "$$\n",
    "Now, we can prove (I only verified computationally) that:\n",
    "$$\n",
    "h((\\kappa +\\alpha))\n",
    "= 2 Tr(\\alpha\\kappa) + h(\\alpha) + h(\\kappa) \\mod 4,\n",
    "$$\n",
    "and so\n",
    "$$\n",
    "h((\\kappa+\\alpha)^p \\xi^{p/2}) = h(\\kappa^p \\xi^{p/2}) + h(\\alpha^p \\xi^{p/2}) + 2 Tr((\\alpha \\kappa)^p \\xi^p) \\mod 4.\n",
    "$$\n",
    "But $Tr(\\alpha^p) = Tr(\\alpha)$ for all $\\alpha \\in F$, and so\n",
    "$$\n",
    "h(\\kappa^p \\xi^{p/2} +\\alpha^p \\xi^{p/2}) - h(\\kappa^p \\xi^{p/2})\n",
    "= h(\\alpha^p \\xi^{p/2}) + 2 Tr(\\alpha \\kappa \\xi) \\mod 4.\n",
    "$$\n",
    "This concludes the proof."
   ]
  },
  {
   "cell_type": "code",
   "execution_count": 7,
   "id": "10e9fa7a-e37a-430d-a0eb-8ce90d7cfcc7",
   "metadata": {},
   "outputs": [],
   "source": [
    "# verification of the sum rule for the h function\n",
    "for a in F:\n",
    "    for k in F:\n",
    "        hsum = h(k + a)\n",
    "        sumh = (h(a) + h(k) + 2 * int((a * k).trace())) % 4\n",
    "        if hsum != sumh:\n",
    "            raise Exception('Not valid!', a, k, hsum, sumh)"
   ]
  },
  {
   "cell_type": "code",
   "execution_count": 8,
   "id": "0199f445-7180-4cb7-86b9-66a931e719dd",
   "metadata": {},
   "outputs": [],
   "source": [
    "def toInt(k):\n",
    "    return list(F).index(k)\n",
    "\n",
    "def chi(k):\n",
    "    return exp(2 * pi * I * int(k.trace()) / 2)"
   ]
  },
  {
   "cell_type": "code",
   "execution_count": 9,
   "id": "de7d18c3-e5f0-4c96-8e59-d61605a78546",
   "metadata": {},
   "outputs": [],
   "source": [
    "# recurrence relation solution\n",
    "def c(alpha, xi, p=1):\n",
    "    return (-I)^(h(alpha^p * sqrt(xi)^p))"
   ]
  },
  {
   "cell_type": "code",
   "execution_count": 10,
   "id": "0a5e3002-0d2b-4de4-a150-39a72696d8c6",
   "metadata": {},
   "outputs": [
    {
     "name": "stdout",
     "output_type": "stream",
     "text": [
      "Recurrence relation holds for p = 1.\n"
     ]
    }
   ],
   "source": [
    "# verification of the recurrence relation\n",
    "p = 1\n",
    "for k in F:\n",
    "    for a in F:\n",
    "        for xi in F:\n",
    "            if c(k + a, xi) * conjugate(c(k, xi)) != chi(xi * a * k) * c(a, xi):\n",
    "                raise Exception('Recurrence relation does not hold!')\n",
    "print('Recurrence relation holds for p = {}.'.format(p))"
   ]
  },
  {
   "cell_type": "markdown",
   "id": "e81c4eca-d19d-4228-8e4b-3f186ec5bef2",
   "metadata": {},
   "source": [
    "The imposition of the tomographic condition\n",
    "$$\n",
    "\\frac{1}{2^N} \\sum_{\\alpha,\\beta} W_\\rho^{(0)}(\\alpha,\\beta) \\delta_{\\beta,\\xi\\alpha+\\mu} = \n",
    "\\langle \\psi_\\nu^\\xi | \\rho | \\psi_\\nu^\\xi \\rangle,\n",
    "$$\n",
    "gives us a relationship between the coefficients of the rotation operator and the phase of the displacement operator\n",
    "$$\n",
    "\\phi(\\tau,\\nu) = c_{\\tau, \\tau^{-1}\\nu}.\n",
    "$$\n",
    "With this phase, the symbol of the state $|\\psi_\\nu^\\xi\\rangle$ is just a straigh line: ...\n",
    "\n",
    "While the kernel $\\Delta^{(0)}(\\alpha,\\beta)$ acquires the form of a sum of projectors on the lines crossing at the phase-space point $(\\alpha,\\beta)$:\n",
    "$$\n",
    "\\Delta^{(0)}(\\alpha,\\beta)\n",
    "= |\\tilde\\alpha\\rangle\\langle\\tilde\\alpha|\n",
    "+ \\sum_{\\xi,\\nu} \\delta_{\\beta,\\xi\\alpha+\\nu}\n",
    "|\\psi_\\nu^\\xi\\rangle\\langle\\psi_\\nu^\\xi| - I.\n",
    "$$"
   ]
  },
  {
   "cell_type": "markdown",
   "id": "855fff35-1130-4343-91d9-4f26d2ac661c",
   "metadata": {},
   "source": [
    "The particular solution of the rotation coefficients solutions leads to the phase\n",
    "$$\n",
    "\\phi(\\alpha,\\beta)\n",
    "= c_{\\alpha,\\alpha^{-1}\\beta} \n",
    "= (-i)^{h(\\alpha^{p/2}\\beta^{p/2})},\n",
    "\\quad p = 1,2,4,8,...,2^{N-1}.\n",
    "$$\n",
    "And in the particularly symmetric (how?) case of $p = 1$ we obtain:\n",
    "$$\n",
    "\\phi(\\alpha, \\beta)\n",
    "= c_{\\alpha,\\alpha^{-1}\\beta} \n",
    "= (-i)^{h(\\sqrt{\\alpha\\beta})}.\n",
    "$$\n",
    "\n",
    "Now time to code. \n",
    "\n",
    "(Everything seemed fine for two qubits.)"
   ]
  },
  {
   "cell_type": "code",
   "execution_count": 11,
   "id": "6a47aa5b-5fe6-4ba2-adb1-4ba9c212a532",
   "metadata": {},
   "outputs": [],
   "source": [
    "# phase defined by the rotation coeffs\n",
    "def phi(tau, nu, p=1):\n",
    "    t = type(F(0))\n",
    "    if type(tau) != t:\n",
    "        tau = F(tau)\n",
    "    if type(nu) != t:\n",
    "        nu = F(nu)\n",
    "        \n",
    "    if tau == F(0):\n",
    "        return 1\n",
    "    return c(tau, tau^-1 * nu, p)"
   ]
  },
  {
   "cell_type": "markdown",
   "id": "5ec46dad-48fa-404a-8434-a7269fdb4683",
   "metadata": {},
   "source": [
    "Now we can define the Pauli operators and the rotation operators."
   ]
  },
  {
   "cell_type": "code",
   "execution_count": 12,
   "id": "14aab5ce-bdb0-45ef-b87e-2cc8f775ef71",
   "metadata": {},
   "outputs": [],
   "source": [
    "def Proj(u, v=None):\n",
    "    if not v:\n",
    "        v = u\n",
    "    u = matrix(u).transpose()\n",
    "    v = matrix(v).transpose()\n",
    "    return u.tensor_product(v.conjugate_transpose())\n",
    "\n",
    "Id = identity_matrix(SR, 2**N)"
   ]
  },
  {
   "cell_type": "code",
   "execution_count": 13,
   "id": "63a792e4-e60e-4555-8636-c38199fca474",
   "metadata": {},
   "outputs": [],
   "source": [
    "def Fourier():\n",
    "    s = zero_matrix(SR, 2**N, 2**N)\n",
    "    for i, a in enumerate(F):\n",
    "        for j, b in enumerate(F):\n",
    "            s[i,j] = chi(a * b) / sqrt(2**N)\n",
    "    return s\n",
    "FF = Fourier()\n",
    "\n",
    "def Z(a):\n",
    "    return diagonal_matrix([chi(a * k) for k in F])\n",
    "\n",
    "def X(b):\n",
    "    return FF.conjugate_transpose() * Z(b) * FF\n",
    "\n",
    "def D(a, b, p=1):\n",
    "    return phi(a, b, p) * Z(a) * X(b)\n",
    "\n",
    "def V(xi, p=1):\n",
    "    s = zero_matrix(SR, 2^N, 2^N)\n",
    "    for i, k in enumerate(F):\n",
    "        s += c(k, xi, p) * Proj(FF[:,i])\n",
    "    return s"
   ]
  },
  {
   "cell_type": "markdown",
   "id": "b3adb5e5-1185-4472-a249-9c193a5850d4",
   "metadata": {},
   "source": [
    "As we've mentioned, everything up till now has been in the context of the lines of the discrete phase space. First of all, we can obtain MUBs via the rotation operators as long as the rotation coefficients satisfy the recurrence relation. The author's state that there are multiple solutions. How different is there proposed solution with the Galois ring method of the coding theory authors? By defining the Wigner function using the displacement operators and imposing the tomographic condition one obtains the relation between the phase and the rotation coefficients seen before:\n",
    "$$\\phi(\\tau, \\nu) = c_{\\tau, \\tau^{-1}\\nu}.$$\n",
    "Using the displacement definition of the Wigner function leads to \"delta functions\" for the states $|\\psi_\\nu^\\xi\\rangle$:\n",
    "$$W_{|\\psi_\\nu^\\xi\\rangle}(\\alpha,\\beta) = \\delta_{\\beta, \\xi \\alpha + \\nu}.$$\n",
    "And the displacement operators kernel can be re-written as the Wootters' version we are well used to.\n",
    "\n",
    "---\n",
    "\n",
    "Now, can this phase be used for _arbitrary_ curves? Klimov seems adamant that all that is needed is that the rotation coeffcients satisfy the recurrence relation. So it should be straight-forward to verify computionally if this is the case. We recall the recurrence relation:\n",
    "$$\n",
    "c_{\\kappa+\\alpha,\\xi} = \\chi(\\xi\\alpha\\kappa) c_{\\alpha,\\xi} c_{\\kappa,\\xi},\n",
    "$$\n",
    "And we will be working with the $(1,6,2)$ factorization curves, which do _not_ form a presemifield operation. To what extent this becomes a limiting factor we shall find out, the curves take the form:\n",
    "$$f_\\mu(\\alpha) = \\mu \\alpha + \\alpha^2 + \\alpha^4, \\quad \\mu \\in F^*.$$\n",
    "Muñoz's solution for the recurrence relation is \n",
    "$$\n",
    "c_{\\alpha,\\xi} = (-i)^{h(\\alpha^p \\xi^{p/2})},\n",
    "\\quad p = 1,2,4,8,\\ldots,2^{N-1}.\n",
    "$$\n",
    "So what if we simply substitute $\\xi = f_\\mu(\\alpha)$?"
   ]
  },
  {
   "cell_type": "code",
   "execution_count": 14,
   "id": "dababa5f-11db-4fe1-959b-4f7b904f035c",
   "metadata": {},
   "outputs": [],
   "source": [
    "def f(mu):\n",
    "    return lambda k: mu * k + k**2 + k**4"
   ]
  },
  {
   "cell_type": "code",
   "execution_count": 15,
   "id": "e417f402-542f-4379-837c-25d5d9e519b8",
   "metadata": {},
   "outputs": [
    {
     "ename": "Exception",
     "evalue": "('Recurrence relation does not hold!', x, x, x)",
     "output_type": "error",
     "traceback": [
      "\u001b[0;31m---------------------------------------------------------------------------\u001b[0m",
      "\u001b[0;31mException\u001b[0m                                 Traceback (most recent call last)",
      "Cell \u001b[0;32mIn[15], line 11\u001b[0m\n\u001b[1;32m      9\u001b[0m             char \u001b[38;5;241m=\u001b[39m chi(f(mu)(a) \u001b[38;5;241m*\u001b[39m k)\n\u001b[1;32m     10\u001b[0m             \u001b[38;5;28;01mif\u001b[39;00m cka \u001b[38;5;241m!=\u001b[39m char \u001b[38;5;241m*\u001b[39m ca \u001b[38;5;241m*\u001b[39m ck:\n\u001b[0;32m---> 11\u001b[0m                 \u001b[38;5;28;01mraise\u001b[39;00m \u001b[38;5;167;01mException\u001b[39;00m(\u001b[38;5;124m'\u001b[39m\u001b[38;5;124mRecurrence relation does not hold!\u001b[39m\u001b[38;5;124m'\u001b[39m, mu, k, a)\n\u001b[1;32m     12\u001b[0m \u001b[38;5;28mprint\u001b[39m(\u001b[38;5;124m'\u001b[39m\u001b[38;5;124mRecurrence relation holds for p = \u001b[39m\u001b[38;5;132;01m{}\u001b[39;00m\u001b[38;5;124m.\u001b[39m\u001b[38;5;124m'\u001b[39m\u001b[38;5;241m.\u001b[39mformat(p))\n",
      "\u001b[0;31mException\u001b[0m: ('Recurrence relation does not hold!', x, x, x)"
     ]
    }
   ],
   "source": [
    "# verification of the recurrence relation\n",
    "p = 1\n",
    "for k in F:\n",
    "    for a in F:\n",
    "        for mu in F:\n",
    "            cka = c(k + a, f(mu)(k + a))\n",
    "            ca  = c(a, f(mu)(a))\n",
    "            ck  = c(k, f(mu)(k))\n",
    "            char = chi(f(mu)(a) * k)\n",
    "            if cka != char * ca * ck:\n",
    "                raise Exception('Recurrence relation does not hold!', mu, k, a)\n",
    "print('Recurrence relation holds for p = {}.'.format(p))"
   ]
  },
  {
   "cell_type": "code",
   "execution_count": null,
   "id": "33136138-ce89-406a-ae60-d649d184d103",
   "metadata": {},
   "outputs": [],
   "source": []
  }
 ],
 "metadata": {
  "kernelspec": {
   "display_name": "SageMath 9.8",
   "language": "sage",
   "name": "sagemath"
  },
  "language_info": {
   "codemirror_mode": {
    "name": "ipython",
    "version": 3
   },
   "file_extension": ".py",
   "mimetype": "text/x-python",
   "name": "python",
   "nbconvert_exporter": "python",
   "pygments_lexer": "ipython3",
   "version": "3.9.16"
  }
 },
 "nbformat": 4,
 "nbformat_minor": 5
}
