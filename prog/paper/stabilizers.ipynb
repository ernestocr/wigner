{
 "cells": [
  {
   "cell_type": "markdown",
   "id": "8021ecdc",
   "metadata": {},
   "source": [
    "### Finding stabilizer states \n",
    "\n",
    "Trying to figure out which MUBs are stabilizer states. I'm starting with the (3,0,6) mubs."
   ]
  },
  {
   "cell_type": "code",
   "execution_count": 1,
   "id": "9c4f1bb7",
   "metadata": {},
   "outputs": [],
   "source": [
    "%display latex"
   ]
  },
  {
   "cell_type": "code",
   "execution_count": 2,
   "id": "914300af",
   "metadata": {},
   "outputs": [],
   "source": [
    "# Three qubits\n",
    "p = 2\n",
    "n = 3\n",
    "d = p**n\n",
    "\n",
    "# Galois field\n",
    "FF = GF(d, 'x')\n",
    "x  = FF.gen()"
   ]
  },
  {
   "cell_type": "markdown",
   "id": "440bc269",
   "metadata": {},
   "source": [
    "Construct Fourier operator."
   ]
  },
  {
   "cell_type": "code",
   "execution_count": 3,
   "id": "72d16177",
   "metadata": {},
   "outputs": [],
   "source": [
    "def omega(x):\n",
    "    return exp(I * 2 * pi * int(x.trace()) / p)\n",
    "\n",
    "# P_f = F (Fourier matrix)\n",
    "F = zero_matrix(SR, d, d)\n",
    "for i, m in enumerate(FF):\n",
    "    for j, n in enumerate(FF):\n",
    "        F[i,j] = omega(m * n) / sqrt(d)\n",
    "\n",
    "def Pn(diag):\n",
    "    # m = diagonal_matrix(diag)\n",
    "    # return F * m * F.conjugate_transpose()\n",
    "    m = diagonal_matrix(diag)\n",
    "    return F * m * F.conjugate_transpose()"
   ]
  },
  {
   "cell_type": "markdown",
   "id": "051b7367",
   "metadata": {},
   "source": [
    "Construct the displacement operators $D(\\alpha,\\beta)$."
   ]
  },
  {
   "cell_type": "code",
   "execution_count": 4,
   "id": "eb5cb3a9",
   "metadata": {},
   "outputs": [],
   "source": [
    "def Z(a):\n",
    "    return diagonal_matrix([omega(a * n) for n in FF])"
   ]
  },
  {
   "cell_type": "code",
   "execution_count": 5,
   "id": "5d1d96e2",
   "metadata": {},
   "outputs": [],
   "source": [
    "def X(b):\n",
    "    x = zero_matrix(SR, d, d)\n",
    "    for i, m in enumerate(FF):\n",
    "        for j, n in enumerate(FF):\n",
    "            if m == n + b:\n",
    "                x[i,j] = 1\n",
    "    return x"
   ]
  },
  {
   "cell_type": "code",
   "execution_count": 6,
   "id": "ee027672",
   "metadata": {},
   "outputs": [],
   "source": [
    "def D(a,b):\n",
    "    phase = 1\n",
    "    return phase * Z(a) * X(b)"
   ]
  },
  {
   "cell_type": "code",
   "execution_count": 7,
   "id": "a927a63a",
   "metadata": {},
   "outputs": [
    {
     "data": {
      "text/html": [
       "<html>\\(\\displaystyle \\left(\\begin{array}{rrrrrrrr}\n",
       "0 & 0 & 0 & 0 & 0 & 0 & 0 & 1 \\\\\n",
       "0 & 0 & 0 & 1 & 0 & 0 & 0 & 0 \\\\\n",
       "0 & 0 & 0 & 0 & 0 & 0 & 1 & 0 \\\\\n",
       "0 & -1 & 0 & 0 & 0 & 0 & 0 & 0 \\\\\n",
       "0 & 0 & 0 & 0 & 0 & 1 & 0 & 0 \\\\\n",
       "0 & 0 & 0 & 0 & -1 & 0 & 0 & 0 \\\\\n",
       "0 & 0 & -1 & 0 & 0 & 0 & 0 & 0 \\\\\n",
       "-1 & 0 & 0 & 0 & 0 & 0 & 0 & 0\n",
       "\\end{array}\\right)\\)</html>"
      ],
      "text/latex": [
       "$\\displaystyle \\left(\\begin{array}{rrrrrrrr}\n",
       "0 & 0 & 0 & 0 & 0 & 0 & 0 & 1 \\\\\n",
       "0 & 0 & 0 & 1 & 0 & 0 & 0 & 0 \\\\\n",
       "0 & 0 & 0 & 0 & 0 & 0 & 1 & 0 \\\\\n",
       "0 & -1 & 0 & 0 & 0 & 0 & 0 & 0 \\\\\n",
       "0 & 0 & 0 & 0 & 0 & 1 & 0 & 0 \\\\\n",
       "0 & 0 & 0 & 0 & -1 & 0 & 0 & 0 \\\\\n",
       "0 & 0 & -1 & 0 & 0 & 0 & 0 & 0 \\\\\n",
       "-1 & 0 & 0 & 0 & 0 & 0 & 0 & 0\n",
       "\\end{array}\\right)$"
      ],
      "text/plain": [
       "[ 0  0  0  0  0  0  0  1]\n",
       "[ 0  0  0  1  0  0  0  0]\n",
       "[ 0  0  0  0  0  0  1  0]\n",
       "[ 0 -1  0  0  0  0  0  0]\n",
       "[ 0  0  0  0  0  1  0  0]\n",
       "[ 0  0  0  0 -1  0  0  0]\n",
       "[ 0  0 -1  0  0  0  0  0]\n",
       "[-1  0  0  0  0  0  0  0]"
      ]
     },
     "execution_count": 7,
     "metadata": {},
     "output_type": "execute_result"
    }
   ],
   "source": [
    "D(1,1)"
   ]
  },
  {
   "cell_type": "markdown",
   "id": "a5c49c43",
   "metadata": {},
   "source": [
    "Generate the MUBs using Andre's method."
   ]
  },
  {
   "cell_type": "code",
   "execution_count": 8,
   "id": "67cf5139",
   "metadata": {},
   "outputs": [],
   "source": [
    "# \\alpha = 0\n",
    "p1 = F\n",
    "\n",
    "# \\beta = 0\n",
    "p2 = identity_matrix(d)\n",
    "\n",
    "# \\beta = f(\\alpha) = \\sigma \\alpha\n",
    "p3 = Pn([1, -I, I, I, 1, 1, I, -1])\n",
    "\n",
    "# \\beta = f(\\alpha) = \\sigma^2 \\alpha\n",
    "p4 = Pn([1, 1, -I, 1, I, I, I, -1])\n",
    "\n",
    "# \\beta = f(\\alpha) = \\sigma^3 \\alpha\n",
    "p5 = Pn([1, -I, I, 1, -1, I, 1, I])\n",
    "\n",
    "# \\beta = f(\\alpha) = \\sigma^4 \\alpha\n",
    "p6 = Pn([1, I, 1, I, -I, I, 1, -1])\n",
    "\n",
    "# \\beta = f(\\alpha) = \\sigma^5 \\alpha\n",
    "p7 = Pn([1, I, -1, 1, -I, 1, I, I])\n",
    "\n",
    "# \\beta = f(\\alpha) = \\sigma^6 \\alpha\n",
    "p8 = Pn([1, -1, -I, I, I, 1, 1, I])\n",
    "\n",
    "# \\beta = f(\\alpha) = \\alpha\n",
    "p9 = Pn([1, -1, -1, I, -1, I, I, -I])"
   ]
  },
  {
   "cell_type": "code",
   "execution_count": 9,
   "id": "bc0c8d2e",
   "metadata": {},
   "outputs": [
    {
     "data": {
      "text/html": [
       "<html>\\(\\displaystyle \\left(\\begin{array}{rrrrrrrr}\n",
       "i + 1 & -i - 1 & i - 1 & -i + 1 & -i + 1 & i + 1 & i + 1 & -i + 1 \\\\\n",
       "-i - 1 & i + 1 & -i + 1 & -i + 1 & i - 1 & i + 1 & i + 1 & -i + 1 \\\\\n",
       "i - 1 & -i + 1 & i + 1 & i + 1 & -i - 1 & -i + 1 & -i + 1 & i + 1 \\\\\n",
       "-i + 1 & -i + 1 & i + 1 & i + 1 & i + 1 & i - 1 & -i + 1 & -i - 1 \\\\\n",
       "-i + 1 & i - 1 & -i - 1 & i + 1 & i + 1 & -i + 1 & -i + 1 & i + 1 \\\\\n",
       "i + 1 & i + 1 & -i + 1 & i - 1 & -i + 1 & i + 1 & -i - 1 & -i + 1 \\\\\n",
       "i + 1 & i + 1 & -i + 1 & -i + 1 & -i + 1 & -i - 1 & i + 1 & i - 1 \\\\\n",
       "-i + 1 & -i + 1 & i + 1 & -i - 1 & i + 1 & -i + 1 & i - 1 & i + 1\n",
       "\\end{array}\\right)\\)</html>"
      ],
      "text/latex": [
       "$\\displaystyle \\left(\\begin{array}{rrrrrrrr}\n",
       "i + 1 & -i - 1 & i - 1 & -i + 1 & -i + 1 & i + 1 & i + 1 & -i + 1 \\\\\n",
       "-i - 1 & i + 1 & -i + 1 & -i + 1 & i - 1 & i + 1 & i + 1 & -i + 1 \\\\\n",
       "i - 1 & -i + 1 & i + 1 & i + 1 & -i - 1 & -i + 1 & -i + 1 & i + 1 \\\\\n",
       "-i + 1 & -i + 1 & i + 1 & i + 1 & i + 1 & i - 1 & -i + 1 & -i - 1 \\\\\n",
       "-i + 1 & i - 1 & -i - 1 & i + 1 & i + 1 & -i + 1 & -i + 1 & i + 1 \\\\\n",
       "i + 1 & i + 1 & -i + 1 & i - 1 & -i + 1 & i + 1 & -i - 1 & -i + 1 \\\\\n",
       "i + 1 & i + 1 & -i + 1 & -i + 1 & -i + 1 & -i - 1 & i + 1 & i - 1 \\\\\n",
       "-i + 1 & -i + 1 & i + 1 & -i - 1 & i + 1 & -i + 1 & i - 1 & i + 1\n",
       "\\end{array}\\right)$"
      ],
      "text/plain": [
       "[ I + 1 -I - 1  I - 1 -I + 1 -I + 1  I + 1  I + 1 -I + 1]\n",
       "[-I - 1  I + 1 -I + 1 -I + 1  I - 1  I + 1  I + 1 -I + 1]\n",
       "[ I - 1 -I + 1  I + 1  I + 1 -I - 1 -I + 1 -I + 1  I + 1]\n",
       "[-I + 1 -I + 1  I + 1  I + 1  I + 1  I - 1 -I + 1 -I - 1]\n",
       "[-I + 1  I - 1 -I - 1  I + 1  I + 1 -I + 1 -I + 1  I + 1]\n",
       "[ I + 1  I + 1 -I + 1  I - 1 -I + 1  I + 1 -I - 1 -I + 1]\n",
       "[ I + 1  I + 1 -I + 1 -I + 1 -I + 1 -I - 1  I + 1  I - 1]\n",
       "[-I + 1 -I + 1  I + 1 -I - 1  I + 1 -I + 1  I - 1  I + 1]"
      ]
     },
     "execution_count": 9,
     "metadata": {},
     "output_type": "execute_result"
    }
   ],
   "source": [
    "p3 * 4"
   ]
  },
  {
   "cell_type": "markdown",
   "id": "7313d943",
   "metadata": {},
   "source": [
    "Now setup the rays."
   ]
  },
  {
   "cell_type": "code",
   "execution_count": 10,
   "id": "9fdfc161",
   "metadata": {},
   "outputs": [],
   "source": [
    "# \\alpha = 0\n",
    "c1 = [(FF(0), k) for k in FF]\n",
    "\n",
    "# \\beta = 0\n",
    "c2 = [(k, FF(0)) for k in FF]\n",
    "\n",
    "# \\beta = f(\\alpha) = \\sigma \\alpha \n",
    "c3 = [(k, x * k) for k in FF]\n",
    "\n",
    "# \\beta = f(\\alpha) = \\sigma^2 \\alpha\n",
    "c4 = [(k, x**2 * k) for k in FF]\n",
    "\n",
    "# \\beta = f(\\alpha) = \\sigma^3 \\alpha\n",
    "c5 = [(k, x**3 * k) for k in FF]\n",
    "\n",
    "# \\beta = f(\\alpha) = \\sigma^4 \\alpha\n",
    "c6 = [(k, x**4 * k) for k in FF]\n",
    "\n",
    "# \\beta = f(\\alpha) = \\sigma^5 \\alpha\n",
    "c7 = [(k, x**5 * k) for k in FF]\n",
    "\n",
    "# \\beta = f(\\alpha) = \\sigma^6 \\alpha\n",
    "c8 = [(k, x**6 * k) for k in FF]\n",
    "\n",
    "# \\beta = f(\\alpha) = \\alpha\n",
    "c9 = [(k, k) for k in FF]"
   ]
  },
  {
   "cell_type": "code",
   "execution_count": 11,
   "id": "761f274c",
   "metadata": {},
   "outputs": [
    {
     "data": {
      "text/html": [
       "<html>\\(\\displaystyle \\left(\\begin{array}{rrrrrrrr}\n",
       "1 & 1 & -1 & -1 & -1 & 1 & 1 & -1 \\\\\n",
       "1 & 1 & 1 & -1 & 1 & -1 & -1 & -1 \\\\\n",
       "1 & -1 & -1 & 1 & 1 & -1 & 1 & -1 \\\\\n",
       "1 & 1 & 1 & 1 & 1 & 1 & 1 & 1 \\\\\n",
       "1 & -1 & 1 & 1 & -1 & 1 & -1 & -1 \\\\\n",
       "1 & -1 & 1 & -1 & -1 & -1 & 1 & 1 \\\\\n",
       "1 & -1 & -1 & -1 & 1 & 1 & -1 & 1 \\\\\n",
       "1 & 1 & -1 & 1 & -1 & -1 & -1 & 1\n",
       "\\end{array}\\right)\\)</html>"
      ],
      "text/latex": [
       "$\\displaystyle \\left(\\begin{array}{rrrrrrrr}\n",
       "1 & 1 & -1 & -1 & -1 & 1 & 1 & -1 \\\\\n",
       "1 & 1 & 1 & -1 & 1 & -1 & -1 & -1 \\\\\n",
       "1 & -1 & -1 & 1 & 1 & -1 & 1 & -1 \\\\\n",
       "1 & 1 & 1 & 1 & 1 & 1 & 1 & 1 \\\\\n",
       "1 & -1 & 1 & 1 & -1 & 1 & -1 & -1 \\\\\n",
       "1 & -1 & 1 & -1 & -1 & -1 & 1 & 1 \\\\\n",
       "1 & -1 & -1 & -1 & 1 & 1 & -1 & 1 \\\\\n",
       "1 & 1 & -1 & 1 & -1 & -1 & -1 & 1\n",
       "\\end{array}\\right)$"
      ],
      "text/plain": [
       "[ 1  1 -1 -1 -1  1  1 -1]\n",
       "[ 1  1  1 -1  1 -1 -1 -1]\n",
       "[ 1 -1 -1  1  1 -1  1 -1]\n",
       "[ 1  1  1  1  1  1  1  1]\n",
       "[ 1 -1  1  1 -1  1 -1 -1]\n",
       "[ 1 -1  1 -1 -1 -1  1  1]\n",
       "[ 1 -1 -1 -1  1  1 -1  1]\n",
       "[ 1  1 -1  1 -1 -1 -1  1]"
      ]
     },
     "execution_count": 11,
     "metadata": {},
     "output_type": "execute_result"
    }
   ],
   "source": [
    "ops = [D(a,b) for a, b in c1]\n",
    "ops[3] * p1 * sqrt(d)"
   ]
  },
  {
   "cell_type": "code",
   "execution_count": 12,
   "id": "7177360f",
   "metadata": {},
   "outputs": [
    {
     "data": {
      "text/html": [
       "<html>\\(\\displaystyle \\left(\\begin{array}{rrrrrrrr}\n",
       "1 & 1 & 1 & 1 & 1 & 1 & 1 & 1 \\\\\n",
       "1 & 1 & -1 & 1 & -1 & -1 & -1 & 1 \\\\\n",
       "1 & -1 & 1 & -1 & -1 & -1 & 1 & 1 \\\\\n",
       "1 & 1 & -1 & -1 & -1 & 1 & 1 & -1 \\\\\n",
       "1 & -1 & -1 & -1 & 1 & 1 & -1 & 1 \\\\\n",
       "1 & -1 & -1 & 1 & 1 & -1 & 1 & -1 \\\\\n",
       "1 & -1 & 1 & 1 & -1 & 1 & -1 & -1 \\\\\n",
       "1 & 1 & 1 & -1 & 1 & -1 & -1 & -1\n",
       "\\end{array}\\right)\\)</html>"
      ],
      "text/latex": [
       "$\\displaystyle \\left(\\begin{array}{rrrrrrrr}\n",
       "1 & 1 & 1 & 1 & 1 & 1 & 1 & 1 \\\\\n",
       "1 & 1 & -1 & 1 & -1 & -1 & -1 & 1 \\\\\n",
       "1 & -1 & 1 & -1 & -1 & -1 & 1 & 1 \\\\\n",
       "1 & 1 & -1 & -1 & -1 & 1 & 1 & -1 \\\\\n",
       "1 & -1 & -1 & -1 & 1 & 1 & -1 & 1 \\\\\n",
       "1 & -1 & -1 & 1 & 1 & -1 & 1 & -1 \\\\\n",
       "1 & -1 & 1 & 1 & -1 & 1 & -1 & -1 \\\\\n",
       "1 & 1 & 1 & -1 & 1 & -1 & -1 & -1\n",
       "\\end{array}\\right)$"
      ],
      "text/plain": [
       "[ 1  1  1  1  1  1  1  1]\n",
       "[ 1  1 -1  1 -1 -1 -1  1]\n",
       "[ 1 -1  1 -1 -1 -1  1  1]\n",
       "[ 1  1 -1 -1 -1  1  1 -1]\n",
       "[ 1 -1 -1 -1  1  1 -1  1]\n",
       "[ 1 -1 -1  1  1 -1  1 -1]\n",
       "[ 1 -1  1  1 -1  1 -1 -1]\n",
       "[ 1  1  1 -1  1 -1 -1 -1]"
      ]
     },
     "execution_count": 12,
     "metadata": {},
     "output_type": "execute_result"
    }
   ],
   "source": [
    "p1 * sqrt(d)"
   ]
  },
  {
   "cell_type": "markdown",
   "id": "491eae1b",
   "metadata": {},
   "source": [
    "We can see that we have two eigenvalues (as we should), $-1$ and $+1$, four of each. These are trivial cases though because they are shared basis between sets of MUBs. Let's look at a non trivial case."
   ]
  },
  {
   "cell_type": "code",
   "execution_count": 13,
   "id": "fc0d5df0",
   "metadata": {},
   "outputs": [
    {
     "data": {
      "text/html": [
       "<html>\\(\\displaystyle \\left(\\begin{array}{rrrrrrrr}\n",
       "i + 1 & i - 1 & -i - 1 & -i + 1 & i - 1 & i - 1 & i + 1 & i + 1 \\\\\n",
       "-i + 1 & -i - 1 & -i + 1 & -i - 1 & i + 1 & -i - 1 & -i + 1 & i - 1 \\\\\n",
       "i + 1 & -i + 1 & -i - 1 & -i + 1 & -i + 1 & i - 1 & -i - 1 & -i - 1 \\\\\n",
       "-i + 1 & i + 1 & i - 1 & i + 1 & i + 1 & -i - 1 & i - 1 & i - 1 \\\\\n",
       "i - 1 & -i - 1 & i - 1 & i + 1 & i + 1 & i + 1 & -i + 1 & i - 1 \\\\\n",
       "-i + 1 & -i - 1 & i - 1 & i + 1 & -i - 1 & -i - 1 & -i + 1 & -i + 1 \\\\\n",
       "i + 1 & i - 1 & i + 1 & i - 1 & -i + 1 & i - 1 & i + 1 & -i - 1 \\\\\n",
       "-i - 1 & i - 1 & -i - 1 & -i + 1 & -i + 1 & -i + 1 & i + 1 & -i - 1\n",
       "\\end{array}\\right)\\)</html>"
      ],
      "text/latex": [
       "$\\displaystyle \\left(\\begin{array}{rrrrrrrr}\n",
       "i + 1 & i - 1 & -i - 1 & -i + 1 & i - 1 & i - 1 & i + 1 & i + 1 \\\\\n",
       "-i + 1 & -i - 1 & -i + 1 & -i - 1 & i + 1 & -i - 1 & -i + 1 & i - 1 \\\\\n",
       "i + 1 & -i + 1 & -i - 1 & -i + 1 & -i + 1 & i - 1 & -i - 1 & -i - 1 \\\\\n",
       "-i + 1 & i + 1 & i - 1 & i + 1 & i + 1 & -i - 1 & i - 1 & i - 1 \\\\\n",
       "i - 1 & -i - 1 & i - 1 & i + 1 & i + 1 & i + 1 & -i + 1 & i - 1 \\\\\n",
       "-i + 1 & -i - 1 & i - 1 & i + 1 & -i - 1 & -i - 1 & -i + 1 & -i + 1 \\\\\n",
       "i + 1 & i - 1 & i + 1 & i - 1 & -i + 1 & i - 1 & i + 1 & -i - 1 \\\\\n",
       "-i - 1 & i - 1 & -i - 1 & -i + 1 & -i + 1 & -i + 1 & i + 1 & -i - 1\n",
       "\\end{array}\\right)$"
      ],
      "text/plain": [
       "[ I + 1  I - 1 -I - 1 -I + 1  I - 1  I - 1  I + 1  I + 1]\n",
       "[-I + 1 -I - 1 -I + 1 -I - 1  I + 1 -I - 1 -I + 1  I - 1]\n",
       "[ I + 1 -I + 1 -I - 1 -I + 1 -I + 1  I - 1 -I - 1 -I - 1]\n",
       "[-I + 1  I + 1  I - 1  I + 1  I + 1 -I - 1  I - 1  I - 1]\n",
       "[ I - 1 -I - 1  I - 1  I + 1  I + 1  I + 1 -I + 1  I - 1]\n",
       "[-I + 1 -I - 1  I - 1  I + 1 -I - 1 -I - 1 -I + 1 -I + 1]\n",
       "[ I + 1  I - 1  I + 1  I - 1 -I + 1  I - 1  I + 1 -I - 1]\n",
       "[-I - 1  I - 1 -I - 1 -I + 1 -I + 1 -I + 1  I + 1 -I - 1]"
      ]
     },
     "execution_count": 13,
     "metadata": {},
     "output_type": "execute_result"
    }
   ],
   "source": [
    "ops = [D(a,b) for a, b in c5]\n",
    "ops[5] * p5 * 4 * I"
   ]
  },
  {
   "cell_type": "code",
   "execution_count": 14,
   "id": "9e437fe3",
   "metadata": {},
   "outputs": [
    {
     "data": {
      "text/html": [
       "<html>\\(\\displaystyle \\left(\\begin{array}{rrrrrrrr}\n",
       "i + 1 & -i + 1 & i + 1 & -i + 1 & i - 1 & -i + 1 & i + 1 & -i - 1 \\\\\n",
       "-i + 1 & i + 1 & i - 1 & -i - 1 & i + 1 & i + 1 & -i + 1 & -i + 1 \\\\\n",
       "i + 1 & i - 1 & i + 1 & -i + 1 & -i + 1 & -i + 1 & -i - 1 & i + 1 \\\\\n",
       "-i + 1 & -i - 1 & -i + 1 & i + 1 & i + 1 & i + 1 & i - 1 & -i + 1 \\\\\n",
       "i - 1 & i + 1 & -i + 1 & i + 1 & i + 1 & -i - 1 & -i + 1 & -i + 1 \\\\\n",
       "-i + 1 & i + 1 & -i + 1 & i + 1 & -i - 1 & i + 1 & -i + 1 & i - 1 \\\\\n",
       "i + 1 & -i + 1 & -i - 1 & i - 1 & -i + 1 & -i + 1 & i + 1 & i + 1 \\\\\n",
       "-i - 1 & -i + 1 & i + 1 & -i + 1 & -i + 1 & i - 1 & i + 1 & i + 1\n",
       "\\end{array}\\right)\\)</html>"
      ],
      "text/latex": [
       "$\\displaystyle \\left(\\begin{array}{rrrrrrrr}\n",
       "i + 1 & -i + 1 & i + 1 & -i + 1 & i - 1 & -i + 1 & i + 1 & -i - 1 \\\\\n",
       "-i + 1 & i + 1 & i - 1 & -i - 1 & i + 1 & i + 1 & -i + 1 & -i + 1 \\\\\n",
       "i + 1 & i - 1 & i + 1 & -i + 1 & -i + 1 & -i + 1 & -i - 1 & i + 1 \\\\\n",
       "-i + 1 & -i - 1 & -i + 1 & i + 1 & i + 1 & i + 1 & i - 1 & -i + 1 \\\\\n",
       "i - 1 & i + 1 & -i + 1 & i + 1 & i + 1 & -i - 1 & -i + 1 & -i + 1 \\\\\n",
       "-i + 1 & i + 1 & -i + 1 & i + 1 & -i - 1 & i + 1 & -i + 1 & i - 1 \\\\\n",
       "i + 1 & -i + 1 & -i - 1 & i - 1 & -i + 1 & -i + 1 & i + 1 & i + 1 \\\\\n",
       "-i - 1 & -i + 1 & i + 1 & -i + 1 & -i + 1 & i - 1 & i + 1 & i + 1\n",
       "\\end{array}\\right)$"
      ],
      "text/plain": [
       "[ I + 1 -I + 1  I + 1 -I + 1  I - 1 -I + 1  I + 1 -I - 1]\n",
       "[-I + 1  I + 1  I - 1 -I - 1  I + 1  I + 1 -I + 1 -I + 1]\n",
       "[ I + 1  I - 1  I + 1 -I + 1 -I + 1 -I + 1 -I - 1  I + 1]\n",
       "[-I + 1 -I - 1 -I + 1  I + 1  I + 1  I + 1  I - 1 -I + 1]\n",
       "[ I - 1  I + 1 -I + 1  I + 1  I + 1 -I - 1 -I + 1 -I + 1]\n",
       "[-I + 1  I + 1 -I + 1  I + 1 -I - 1  I + 1 -I + 1  I - 1]\n",
       "[ I + 1 -I + 1 -I - 1  I - 1 -I + 1 -I + 1  I + 1  I + 1]\n",
       "[-I - 1 -I + 1  I + 1 -I + 1 -I + 1  I - 1  I + 1  I + 1]"
      ]
     },
     "execution_count": 14,
     "metadata": {},
     "output_type": "execute_result"
    }
   ],
   "source": [
    "p5 * 4"
   ]
  },
  {
   "cell_type": "markdown",
   "id": "d2e47305",
   "metadata": {},
   "source": [
    "So there seems to be that wretched phase which muddles the view. By multiplying $D(a,b) P_5$ by $i$ we obtain a clearer picture."
   ]
  },
  {
   "cell_type": "code",
   "execution_count": 15,
   "id": "f918b433",
   "metadata": {},
   "outputs": [
    {
     "data": {
      "text/html": [
       "<html>\\(\\displaystyle \\left(\\begin{array}{rrrrrrrr}\n",
       "0 & 2 i - 2 & -2 i - 2 & 0 & 0 & 2 i - 2 & 0 & 2 i + 2 \\\\\n",
       "0 & -2 i - 2 & -2 i + 2 & 0 & 0 & -2 i - 2 & 0 & 2 i - 2 \\\\\n",
       "0 & -2 i + 2 & -2 i - 2 & 0 & 0 & 2 i - 2 & 0 & -2 i - 2 \\\\\n",
       "0 & 2 i + 2 & 2 i - 2 & 0 & 0 & -2 i - 2 & 0 & 2 i - 2 \\\\\n",
       "0 & -2 i - 2 & 2 i - 2 & 0 & 0 & 2 i + 2 & 0 & 2 i - 2 \\\\\n",
       "0 & -2 i - 2 & 2 i - 2 & 0 & 0 & -2 i - 2 & 0 & -2 i + 2 \\\\\n",
       "0 & 2 i - 2 & 2 i + 2 & 0 & 0 & 2 i - 2 & 0 & -2 i - 2 \\\\\n",
       "0 & 2 i - 2 & -2 i - 2 & 0 & 0 & -2 i + 2 & 0 & -2 i - 2\n",
       "\\end{array}\\right)\\)</html>"
      ],
      "text/latex": [
       "$\\displaystyle \\left(\\begin{array}{rrrrrrrr}\n",
       "0 & 2 i - 2 & -2 i - 2 & 0 & 0 & 2 i - 2 & 0 & 2 i + 2 \\\\\n",
       "0 & -2 i - 2 & -2 i + 2 & 0 & 0 & -2 i - 2 & 0 & 2 i - 2 \\\\\n",
       "0 & -2 i + 2 & -2 i - 2 & 0 & 0 & 2 i - 2 & 0 & -2 i - 2 \\\\\n",
       "0 & 2 i + 2 & 2 i - 2 & 0 & 0 & -2 i - 2 & 0 & 2 i - 2 \\\\\n",
       "0 & -2 i - 2 & 2 i - 2 & 0 & 0 & 2 i + 2 & 0 & 2 i - 2 \\\\\n",
       "0 & -2 i - 2 & 2 i - 2 & 0 & 0 & -2 i - 2 & 0 & -2 i + 2 \\\\\n",
       "0 & 2 i - 2 & 2 i + 2 & 0 & 0 & 2 i - 2 & 0 & -2 i - 2 \\\\\n",
       "0 & 2 i - 2 & -2 i - 2 & 0 & 0 & -2 i + 2 & 0 & -2 i - 2\n",
       "\\end{array}\\right)$"
      ],
      "text/plain": [
       "[       0  2*I - 2 -2*I - 2        0        0  2*I - 2        0  2*I + 2]\n",
       "[       0 -2*I - 2 -2*I + 2        0        0 -2*I - 2        0  2*I - 2]\n",
       "[       0 -2*I + 2 -2*I - 2        0        0  2*I - 2        0 -2*I - 2]\n",
       "[       0  2*I + 2  2*I - 2        0        0 -2*I - 2        0  2*I - 2]\n",
       "[       0 -2*I - 2  2*I - 2        0        0  2*I + 2        0  2*I - 2]\n",
       "[       0 -2*I - 2  2*I - 2        0        0 -2*I - 2        0 -2*I + 2]\n",
       "[       0  2*I - 2  2*I + 2        0        0  2*I - 2        0 -2*I - 2]\n",
       "[       0  2*I - 2 -2*I - 2        0        0 -2*I + 2        0 -2*I - 2]"
      ]
     },
     "execution_count": 15,
     "metadata": {},
     "output_type": "execute_result"
    }
   ],
   "source": [
    "((I * ops[5]) * p5 * 4) - (p5 * 4)"
   ]
  },
  {
   "cell_type": "markdown",
   "id": "b5e2323b",
   "metadata": {},
   "source": [
    "In this manner we can clearly see the $+1$ vectors. So for a concrete example, the fifth vector from the $P_5$ base is a $+1$-eigenvector of the displacement operators corresponding to the curve $\\beta = x^3 \\alpha$. For it to be a stabilizer state it must be a $+1$-eigenvector *for all* of the operators in the commuting class."
   ]
  },
  {
   "cell_type": "code",
   "execution_count": 16,
   "id": "f076dc4c",
   "metadata": {},
   "outputs": [
    {
     "name": "stdout",
     "output_type": "stream",
     "text": [
      "+1-eigenvector for phase 1.\n",
      "+1-eigenvector for phase I.\n",
      "+1-eigenvector for phase I.\n",
      "+1-eigenvector for phase 1.\n",
      "+1-eigenvector for phase 1.\n",
      "+1-eigenvector for phase I.\n",
      "+1-eigenvector for phase -1.\n",
      "+1-eigenvector for phase -I.\n"
     ]
    }
   ],
   "source": [
    "v = p5[:,-2] * 4\n",
    "for op in ops:\n",
    "    for p in [1,-1,I,-I]:\n",
    "        t = p * op * v - v\n",
    "        if t == zero_matrix(SR, d, 1):\n",
    "            print('+1-eigenvector for phase {}.'.format(p))\n",
    "            break"
   ]
  },
  {
   "cell_type": "markdown",
   "id": "4d7ee8e3",
   "metadata": {},
   "source": [
    "Unfortunately to check this we need the appropiate phases for each displacemente operator in the commuting group. In order to do this we have to go in the Galois ring..."
   ]
  },
  {
   "cell_type": "code",
   "execution_count": null,
   "id": "6272fa54",
   "metadata": {},
   "outputs": [],
   "source": []
  }
 ],
 "metadata": {
  "kernelspec": {
   "display_name": "SageMath 9.8",
   "language": "sage",
   "name": "sagemath"
  },
  "language_info": {
   "codemirror_mode": {
    "name": "ipython",
    "version": 3
   },
   "file_extension": ".py",
   "mimetype": "text/x-python",
   "name": "python",
   "nbconvert_exporter": "python",
   "pygments_lexer": "ipython3",
   "version": "3.9.16"
  }
 },
 "nbformat": 4,
 "nbformat_minor": 5
}
