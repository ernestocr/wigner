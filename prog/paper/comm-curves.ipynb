{
 "cells": [
  {
   "cell_type": "code",
   "execution_count": 1,
   "id": "868b3802-712f-4596-9e86-98c5a3e92b8b",
   "metadata": {},
   "outputs": [],
   "source": [
    "%display latex"
   ]
  },
  {
   "cell_type": "code",
   "execution_count": 2,
   "id": "1c2c43f8-9238-448a-8442-de87e3f07ff1",
   "metadata": {},
   "outputs": [],
   "source": [
    "N = 3\n",
    "F = GF(2^3, 'x')\n",
    "x = F.gen()"
   ]
  },
  {
   "cell_type": "code",
   "execution_count": 3,
   "id": "a9e0b3ee-8fa2-4178-b738-1b257e78ecee",
   "metadata": {},
   "outputs": [],
   "source": [
    "basis = [x^3, x^5, x^6] # self-dual basis"
   ]
  },
  {
   "cell_type": "code",
   "execution_count": 4,
   "id": "3d36847c-6c3c-4d26-be61-afc93393d8aa",
   "metadata": {},
   "outputs": [],
   "source": [
    "# express an element as a linear combination of the basis\n",
    "components = lambda k: [(k * el).trace() for el in basis]\n",
    "\n",
    "# additive group character\n",
    "chi = lambda k: exp(pi * I * int(k.trace()))\n",
    "\n",
    "def toInt(k):\n",
    "    return list(F).index(k)"
   ]
  },
  {
   "cell_type": "code",
   "execution_count": 5,
   "id": "4651a2f5-9261-4b09-a29d-ff5ea5ee91d3",
   "metadata": {},
   "outputs": [],
   "source": [
    "y = var('y')\n",
    "\n",
    "# compute the coefficients for the basis elements,\n",
    "def solve_basis(basis, curve):\n",
    "    sols = []\n",
    "    for k in basis:\n",
    "        sol = solve(chi(k * curve(k)) == y^2, y, solution_dict=True)\n",
    "        sols.append(sol[1]) # positive solutions only (choice)\n",
    "    return sols"
   ]
  },
  {
   "cell_type": "code",
   "execution_count": 6,
   "id": "0cc1c139-5e12-4ac5-85db-3b23b98567dd",
   "metadata": {},
   "outputs": [],
   "source": [
    "# after computing the solutions we can simply\n",
    "# get them for each basis element.\n",
    "def basis_c(a, l, sols):\n",
    "    if a == 0:\n",
    "        return 1\n",
    "    return sols[l][y]"
   ]
  },
  {
   "cell_type": "code",
   "execution_count": 7,
   "id": "3c30a006-db39-463b-ba5a-ca636f176e33",
   "metadata": {},
   "outputs": [],
   "source": [
    "# Compute an arbitrary coefficient c_{\\alpha,f} for a \n",
    "# given curve f using the general formula.\n",
    "def c(alpha, curve, sols=None):\n",
    "    if not sols:\n",
    "        sols = solve_basis(basis, curve)\n",
    "    \n",
    "    # Expand alpha in the basis\n",
    "    comps = components(alpha)\n",
    "\n",
    "    # Apply the formula\n",
    "    s1 = 0\n",
    "    for k in range(N-1):\n",
    "        s2 = 0\n",
    "        for j in range(k+1, N):\n",
    "            s2 += comps[j] * basis[j]\n",
    "        s1 += s2 * curve(comps[k] * basis[k])\n",
    "        \n",
    "    return chi(s1) * prod([basis_c(a, l, sols) for l, a in enumerate(comps)])"
   ]
  },
  {
   "cell_type": "code",
   "execution_count": 8,
   "id": "b270194d-5ae5-4733-83e6-c8a3133d2640",
   "metadata": {},
   "outputs": [],
   "source": [
    "def sign_perm(sols, perm=None):\n",
    "    if perm:\n",
    "        for k, sol in enumerate(sols):\n",
    "            sols[k][y] = perm[k] * sols[k][y]\n",
    "    return sols"
   ]
  },
  {
   "cell_type": "code",
   "execution_count": 9,
   "id": "19bc7888-f3c3-4e23-b1ca-dc0f1356ac75",
   "metadata": {},
   "outputs": [
    {
     "name": "stdout",
     "output_type": "stream",
     "text": [
      "Recurrence relation holds!\n"
     ]
    }
   ],
   "source": [
    "for mu in F:\n",
    "    curve = lambda t: mu * t # \\beta = \\mu \\alpha\n",
    "    sols = sign_perm(solve_basis(basis, curve), [1,1,1])\n",
    "    for k in F:\n",
    "        for kp in F:\n",
    "            lhs = c(k, curve, sols) * c(kp, curve, sols)\n",
    "            rhs = chi(kp * curve(k)) * c(k + kp, curve, sols)\n",
    "            if lhs != rhs:\n",
    "                raise Exception('Recurrence relation does not hold!', mu)\n",
    "print('Recurrence relation holds!')"
   ]
  },
  {
   "cell_type": "code",
   "execution_count": 10,
   "id": "cb5e79ab-c8ce-49ed-a2b9-8d844dded904",
   "metadata": {},
   "outputs": [],
   "source": [
    "def ray(mu):\n",
    "    return lambda t: mu * t"
   ]
  },
  {
   "cell_type": "code",
   "execution_count": 11,
   "id": "8a1a2641-ea35-41d1-a687-290e860896ea",
   "metadata": {},
   "outputs": [],
   "source": [
    "def PS(curve, perms):\n",
    "    phase_space = zero_matrix(SR, 2^N, 2^N)\n",
    "    phase_space[0,:] = 1 # vertical line\n",
    "    for j, mu in enumerate(F): # iterate through the curve parametr\n",
    "        # same sign choice for a fixed curve parameter\n",
    "        sols = sign_perm(solve_basis(basis, curve(mu)), perms[j])\n",
    "        for i, a in enumerate(F):\n",
    "            # loop through alpha to obtain coefficient and\n",
    "            # corresponding point\n",
    "            coeff = c(a, curve(mu), sols)\n",
    "            b = curve(mu)(a)\n",
    "            phase_space[i, toInt(b)] = coeff\n",
    "    return phase_space"
   ]
  },
  {
   "cell_type": "code",
   "execution_count": 12,
   "id": "d1dd061c-fa9b-4b0f-9817-20ffcfcb47ad",
   "metadata": {},
   "outputs": [
    {
     "data": {
      "text/html": [
       "<html>\\(\\displaystyle \\left(\\begin{array}{rrrrrrrr}\n",
       "1 & 1 & 1 & 1 & 1 & 1 & 1 & 1 \\\\\n",
       "1 & -1 & -i & 1 & -i & i & i & -1 \\\\\n",
       "1 & -i & -1 & i & -i & i & 1 & -1 \\\\\n",
       "1 & 1 & i & i & i & 1 & 1 & i \\\\\n",
       "1 & -i & -i & i & -1 & 1 & i & -1 \\\\\n",
       "1 & i & i & 1 & 1 & i & 1 & i \\\\\n",
       "1 & i & 1 & 1 & i & 1 & i & i \\\\\n",
       "1 & -1 & -1 & i & -1 & i & i & -i\n",
       "\\end{array}\\right)\\)</html>"
      ],
      "text/latex": [
       "$\\displaystyle \\left(\\begin{array}{rrrrrrrr}\n",
       "1 & 1 & 1 & 1 & 1 & 1 & 1 & 1 \\\\\n",
       "1 & -1 & -i & 1 & -i & i & i & -1 \\\\\n",
       "1 & -i & -1 & i & -i & i & 1 & -1 \\\\\n",
       "1 & 1 & i & i & i & 1 & 1 & i \\\\\n",
       "1 & -i & -i & i & -1 & 1 & i & -1 \\\\\n",
       "1 & i & i & 1 & 1 & i & 1 & i \\\\\n",
       "1 & i & 1 & 1 & i & 1 & i & i \\\\\n",
       "1 & -1 & -1 & i & -1 & i & i & -i\n",
       "\\end{array}\\right)$"
      ],
      "text/plain": [
       "[ 1  1  1  1  1  1  1  1]\n",
       "[ 1 -1 -I  1 -I  I  I -1]\n",
       "[ 1 -I -1  I -I  I  1 -1]\n",
       "[ 1  1  I  I  I  1  1  I]\n",
       "[ 1 -I -I  I -1  1  I -1]\n",
       "[ 1  I  I  1  1  I  1  I]\n",
       "[ 1  I  1  1  I  1  I  I]\n",
       "[ 1 -1 -1  I -1  I  I -I]"
      ]
     },
     "execution_count": 12,
     "metadata": {},
     "output_type": "execute_result"
    }
   ],
   "source": [
    "ps = PS(ray, [[1,1,1]] * 8)\n",
    "ps"
   ]
  },
  {
   "cell_type": "code",
   "execution_count": 13,
   "id": "3f89e834-5891-4e7b-8b6c-04e6e6567e3f",
   "metadata": {},
   "outputs": [],
   "source": [
    "def Proj(u, v=None):\n",
    "    if not v:\n",
    "        v = u\n",
    "    return u.tensor_product(v.conjugate_transpose())\n",
    "\n",
    "Id = identity_matrix(2^N)\n",
    "\n",
    "def Fourier():\n",
    "    s = zero_matrix(SR, 2^N, 2^N)\n",
    "    for i, a in enumerate(F):\n",
    "        for j, b in enumerate(F):\n",
    "            s[i,j] = chi(a * b) / sqrt(2^N)\n",
    "    return s\n",
    "FF = Fourier()"
   ]
  },
  {
   "cell_type": "code",
   "execution_count": 14,
   "id": "ea83acef-8ebf-4dd3-8736-2530f8e72d0c",
   "metadata": {},
   "outputs": [],
   "source": [
    "def phi(a, b):\n",
    "    return ps[toInt(a), toInt(b)]\n",
    "\n",
    "def Z(a):\n",
    "    return diagonal_matrix([chi(a * k) for k in F])\n",
    "\n",
    "def X(b):\n",
    "    return FF.conjugate_transpose() * Z(b) * FF\n",
    "\n",
    "def D(a, b):\n",
    "    return phi(a, b) * Z(a) * X(b)"
   ]
  },
  {
   "cell_type": "markdown",
   "id": "14c302ed-ff12-481f-b13c-5c0ad9e9250b",
   "metadata": {},
   "source": [
    "The displacement operators should be trace orthogonal, null trace, unitary and hermititan."
   ]
  },
  {
   "cell_type": "code",
   "execution_count": 15,
   "id": "61f7e784-47d6-470a-a40f-5543f1d29b07",
   "metadata": {},
   "outputs": [],
   "source": [
    "# trace orthogonal\n",
    "for a in F:\n",
    "    for b in F:\n",
    "        D1 = D(a, b)\n",
    "        for c in F:\n",
    "            for d in F:\n",
    "                D2 = D(c, d)\n",
    "                tr = (D1 * D2.conjugate_transpose()).trace()\n",
    "                dl = int(a == c) * int(b == d)\n",
    "                if tr != (2^N) * dl:\n",
    "                    raise Exception"
   ]
  },
  {
   "cell_type": "code",
   "execution_count": 16,
   "id": "1f99cafc-85a4-453d-9f75-17472adec7ba",
   "metadata": {},
   "outputs": [],
   "source": [
    "# null trace\n",
    "for a in F:\n",
    "    for b in F:\n",
    "        if a != 0 and b != 0:\n",
    "            d = D(a, b)\n",
    "            if d.trace() != 0:\n",
    "                raise Exception(a, b)"
   ]
  },
  {
   "cell_type": "code",
   "execution_count": 17,
   "id": "c1eb390c-58c9-4e77-9655-18e04b1d3249",
   "metadata": {},
   "outputs": [],
   "source": [
    "# hermitian\n",
    "for a in F:\n",
    "    for b in F:\n",
    "        d = D(a, b)\n",
    "        if d != d.conjugate_transpose():\n",
    "            raise Exception"
   ]
  },
  {
   "cell_type": "code",
   "execution_count": 18,
   "id": "0d4c2331-7af7-4307-ac8d-5c28e2547b51",
   "metadata": {},
   "outputs": [],
   "source": [
    "# unitarity\n",
    "for a in F:\n",
    "    for b in F:\n",
    "        d = D(a,b)\n",
    "        if d * d.conjugate_transpose() != Id:\n",
    "            raise Exception"
   ]
  },
  {
   "cell_type": "code",
   "execution_count": 19,
   "id": "a220cd03-cf43-4f3a-b026-0a2ed44b868a",
   "metadata": {},
   "outputs": [],
   "source": [
    "def graph(points):\n",
    "    m = zero_matrix(SR, 2^N)\n",
    "    for p in points:\n",
    "        m[toInt(p[0]), toInt(p[1])] = 1\n",
    "    return m"
   ]
  },
  {
   "cell_type": "markdown",
   "id": "8774b441-6fc1-4416-be86-34723a835f04",
   "metadata": {},
   "source": [
    "The property that we want to test is the following:\n",
    "$$\n",
    "D(\\alpha_1,f(\\alpha_1)) D(\\alpha_2,f(\\alpha_2))\n",
    "= D(\\alpha_1+\\alpha_2, f(\\alpha_1+\\alpha_2))\n",
    "= D(\\alpha_1+\\alpha_2, f(\\alpha_1)+f(\\alpha_2)),\n",
    "$$\n",
    "for a given curve $f$ and all $\\alpha \\in F$. Or for a set of points which gives a curve $\\{\\alpha,\\beta\\}$:\n",
    "$$\n",
    "D(\\alpha_1,\\beta_1) D(\\alpha_2,\\beta_2)\n",
    "= D(\\alpha_1+\\alpha_2, \\beta_1 + \\beta_2).\n",
    "$$"
   ]
  },
  {
   "cell_type": "code",
   "execution_count": 20,
   "id": "eef79980-3209-4560-bcc0-3aa7761362c6",
   "metadata": {},
   "outputs": [],
   "source": [
    "def testCurve(points):\n",
    "    for p1 in points:\n",
    "        for p2 in points:\n",
    "            p_op = D(p1[0], p1[1]) * D(p2[0], p2[1])\n",
    "            s_op = D(p1[0] + p2[0], p1[1] + p2[1]) # assuming additivity\n",
    "            if p_op != s_op:\n",
    "                raise Exception(p1, p2)\n",
    "    return True"
   ]
  },
  {
   "cell_type": "code",
   "execution_count": 21,
   "id": "ead508b7-11da-4d6b-9b5d-ccc2d21d936b",
   "metadata": {},
   "outputs": [],
   "source": [
    "for mu in F:\n",
    "    if not testCurve([(k, mu * k) for k in F]):\n",
    "        raise Exception(mu)"
   ]
  },
  {
   "cell_type": "markdown",
   "id": "0e2cb705-e08e-4c31-9238-cc600b63b60e",
   "metadata": {},
   "source": [
    "The property holds for all the rays, as it should of course."
   ]
  },
  {
   "cell_type": "markdown",
   "id": "0d9884d0-56e2-4645-bd20-f52874765c60",
   "metadata": {},
   "source": [
    "Now let's identify all of the family of curves that are valid for three qubits. But first let's test this example of an exceptional curve (equation 5.19 from Annals):\n",
    "$$\n",
    "(0,0), (\\sigma^4,0), (\\sigma^4, \\sigma^5), (\\sigma^3, \\sigma^7), (\\sigma^3, \\sigma^4), (\\sigma^6, \\sigma^4), (\\sigma^6, \\sigma^7), (0, \\sigma^5)\n",
    "$$\n",
    "This curve can be obtained by the equation:\n",
    "$$\n",
    "\\beta^2 + \\sigma^5 \\beta = \\sigma^6 \\alpha + \\sigma^2 \\alpha^2,\n",
    "$$\n",
    "and the structural equations:\n",
    "$$\n",
    "\\sigma^6 \\alpha + \\sigma^4 \\alpha^2 + \\alpha^4 = 0,\n",
    "\\quad\n",
    "\\sigma^2 \\beta + \\sigma^6 \\beta^2 + \\beta^4 = 0.\n",
    "$$"
   ]
  },
  {
   "cell_type": "code",
   "execution_count": 311,
   "id": "ba1bfdf7-1304-4009-a782-e49709545d24",
   "metadata": {},
   "outputs": [
    {
     "data": {
      "text/html": [
       "<html>\\(\\displaystyle \\left[\\left(0, 0\\right), \\left(x^{2} + x, 0\\right), \\left(x^{2} + x, x^{2} + x + 1\\right), \\left(x + 1, 1\\right), \\left(x + 1, x^{2} + x\\right), \\left(x^{2} + 1, x^{2} + x\\right), \\left(x^{2} + 1, 1\\right), \\left(0, x^{2} + x + 1\\right)\\right]\\)</html>"
      ],
      "text/latex": [
       "$\\displaystyle \\left[\\left(0, 0\\right), \\left(x^{2} + x, 0\\right), \\left(x^{2} + x, x^{2} + x + 1\\right), \\left(x + 1, 1\\right), \\left(x + 1, x^{2} + x\\right), \\left(x^{2} + 1, x^{2} + x\\right), \\left(x^{2} + 1, 1\\right), \\left(0, x^{2} + x + 1\\right)\\right]$"
      ],
      "text/plain": [
       "[(0, 0),\n",
       " (x^2 + x, 0),\n",
       " (x^2 + x, x^2 + x + 1),\n",
       " (x + 1, 1),\n",
       " (x + 1, x^2 + x),\n",
       " (x^2 + 1, x^2 + x),\n",
       " (x^2 + 1, 1),\n",
       " (0, x^2 + x + 1)]"
      ]
     },
     "execution_count": 311,
     "metadata": {},
     "output_type": "execute_result"
    }
   ],
   "source": [
    "points = [(F(0),F(0)), (x^4,F(0)), (x^4,x^5), (x^3,x^7), (x^3,x^4), (x^6,x^4), (x^6,x^7), (F(0),x^5)]\n",
    "points"
   ]
  },
  {
   "cell_type": "code",
   "execution_count": 330,
   "id": "a4f75ada-303c-4c51-9c49-db4805b54577",
   "metadata": {},
   "outputs": [],
   "source": [
    "points_from_eq = []\n",
    "for a in F:\n",
    "    for b in F:\n",
    "        if b^2 + x^5 * b == x^6 * a + x^2 * a^2:\n",
    "            if x^6 * a + x^4 * a^2 + a^4 == F(0):\n",
    "                if x^2 * b + x^6 * b^2 + b^4 == F(0):\n",
    "                    points_from_eq.append((a,b))"
   ]
  },
  {
   "cell_type": "code",
   "execution_count": 331,
   "id": "3012c12b-5111-4679-9926-d4898e2a2e57",
   "metadata": {},
   "outputs": [
    {
     "data": {
      "text/html": [
       "<html>\\(\\displaystyle \\left[\\left(0, 0\\right), \\left(0, x^{2} + x + 1\\right), \\left(x + 1, x^{2} + x\\right), \\left(x + 1, 1\\right), \\left(x^{2} + x, 0\\right), \\left(x^{2} + x, x^{2} + x + 1\\right), \\left(x^{2} + 1, x^{2} + x\\right), \\left(x^{2} + 1, 1\\right)\\right]\\)</html>"
      ],
      "text/latex": [
       "$\\displaystyle \\left[\\left(0, 0\\right), \\left(0, x^{2} + x + 1\\right), \\left(x + 1, x^{2} + x\\right), \\left(x + 1, 1\\right), \\left(x^{2} + x, 0\\right), \\left(x^{2} + x, x^{2} + x + 1\\right), \\left(x^{2} + 1, x^{2} + x\\right), \\left(x^{2} + 1, 1\\right)\\right]$"
      ],
      "text/plain": [
       "[(0, 0),\n",
       " (0, x^2 + x + 1),\n",
       " (x + 1, x^2 + x),\n",
       " (x + 1, 1),\n",
       " (x^2 + x, 0),\n",
       " (x^2 + x, x^2 + x + 1),\n",
       " (x^2 + 1, x^2 + x),\n",
       " (x^2 + 1, 1)]"
      ]
     },
     "execution_count": 331,
     "metadata": {},
     "output_type": "execute_result"
    }
   ],
   "source": [
    "points_from_eq"
   ]
  },
  {
   "cell_type": "code",
   "execution_count": 332,
   "id": "30e4a10b-28db-44eb-a480-59b681093a75",
   "metadata": {},
   "outputs": [
    {
     "data": {
      "text/html": [
       "<html>\\(\\displaystyle \\mathrm{True}\\)</html>"
      ],
      "text/latex": [
       "$\\displaystyle \\mathrm{True}$"
      ],
      "text/plain": [
       "True"
      ]
     },
     "execution_count": 332,
     "metadata": {},
     "output_type": "execute_result"
    }
   ],
   "source": [
    "set(points) == set(points_from_eq)"
   ]
  },
  {
   "cell_type": "markdown",
   "id": "72a40334-984e-4088-8ddb-bd76e4225f8b",
   "metadata": {},
   "source": [
    "Just to be sure this curve is additive:"
   ]
  },
  {
   "cell_type": "code",
   "execution_count": 325,
   "id": "702d6548-9ebe-44ea-acef-f89130d12c25",
   "metadata": {},
   "outputs": [],
   "source": [
    "def checkAdditivity(points):\n",
    "    for p1 in points:\n",
    "        for p2 in points:\n",
    "            p3 = (p1[0] + p2[0], p1[1] + p2[1])\n",
    "            if p3 not in points:\n",
    "                raise Exception\n",
    "    return True\n",
    "\n",
    "def checkIsotropy(points):\n",
    "    for p1 in points:\n",
    "        for p2 in points:\n",
    "            if (p1[0]*p2[1] - p1[1]*p2[0]).trace() != 0:\n",
    "                raise Exception\n",
    "    return True"
   ]
  },
  {
   "cell_type": "code",
   "execution_count": 313,
   "id": "8c4a5c5f-58dd-450c-81dd-e8d4219577f5",
   "metadata": {},
   "outputs": [
    {
     "data": {
      "text/html": [
       "<html>\\(\\displaystyle \\mathrm{True}\\)</html>"
      ],
      "text/latex": [
       "$\\displaystyle \\mathrm{True}$"
      ],
      "text/plain": [
       "True"
      ]
     },
     "execution_count": 313,
     "metadata": {},
     "output_type": "execute_result"
    }
   ],
   "source": [
    "checkAdditivity(points)"
   ]
  },
  {
   "cell_type": "code",
   "execution_count": 326,
   "id": "6821fe05-acb9-4901-9458-ecb265af2ad5",
   "metadata": {},
   "outputs": [
    {
     "data": {
      "text/html": [
       "<html>\\(\\displaystyle \\mathrm{True}\\)</html>"
      ],
      "text/latex": [
       "$\\displaystyle \\mathrm{True}$"
      ],
      "text/plain": [
       "True"
      ]
     },
     "execution_count": 326,
     "metadata": {},
     "output_type": "execute_result"
    }
   ],
   "source": [
    "checkIsotropy(points)"
   ]
  },
  {
   "cell_type": "code",
   "execution_count": 327,
   "id": "87cee971-533b-4892-b594-08d163a81f02",
   "metadata": {},
   "outputs": [
    {
     "data": {
      "text/html": [
       "<html>\\(\\displaystyle \\left(\\begin{array}{rrrrrrrr}\n",
       "1 & 0 & 0 & 0 & 0 & 1 & 0 & 0 \\\\\n",
       "0 & 0 & 0 & 0 & 0 & 0 & 0 & 0 \\\\\n",
       "0 & 0 & 0 & 0 & 0 & 0 & 0 & 0 \\\\\n",
       "0 & 0 & 0 & 0 & 1 & 0 & 0 & 1 \\\\\n",
       "1 & 0 & 0 & 0 & 0 & 1 & 0 & 0 \\\\\n",
       "0 & 0 & 0 & 0 & 0 & 0 & 0 & 0 \\\\\n",
       "0 & 0 & 0 & 0 & 1 & 0 & 0 & 1 \\\\\n",
       "0 & 0 & 0 & 0 & 0 & 0 & 0 & 0\n",
       "\\end{array}\\right)\\)</html>"
      ],
      "text/latex": [
       "$\\displaystyle \\left(\\begin{array}{rrrrrrrr}\n",
       "1 & 0 & 0 & 0 & 0 & 1 & 0 & 0 \\\\\n",
       "0 & 0 & 0 & 0 & 0 & 0 & 0 & 0 \\\\\n",
       "0 & 0 & 0 & 0 & 0 & 0 & 0 & 0 \\\\\n",
       "0 & 0 & 0 & 0 & 1 & 0 & 0 & 1 \\\\\n",
       "1 & 0 & 0 & 0 & 0 & 1 & 0 & 0 \\\\\n",
       "0 & 0 & 0 & 0 & 0 & 0 & 0 & 0 \\\\\n",
       "0 & 0 & 0 & 0 & 1 & 0 & 0 & 1 \\\\\n",
       "0 & 0 & 0 & 0 & 0 & 0 & 0 & 0\n",
       "\\end{array}\\right)$"
      ],
      "text/plain": [
       "[1 0 0 0 0 1 0 0]\n",
       "[0 0 0 0 0 0 0 0]\n",
       "[0 0 0 0 0 0 0 0]\n",
       "[0 0 0 0 1 0 0 1]\n",
       "[1 0 0 0 0 1 0 0]\n",
       "[0 0 0 0 0 0 0 0]\n",
       "[0 0 0 0 1 0 0 1]\n",
       "[0 0 0 0 0 0 0 0]"
      ]
     },
     "execution_count": 327,
     "metadata": {},
     "output_type": "execute_result"
    }
   ],
   "source": [
    "graph(points)"
   ]
  },
  {
   "cell_type": "markdown",
   "id": "90e5376c-21f3-4f00-a726-de653e666db1",
   "metadata": {},
   "source": [
    "And now we test to see if the set of displacement operators are closed under our rule:"
   ]
  },
  {
   "cell_type": "code",
   "execution_count": 315,
   "id": "ab6583af-65ba-40a1-892a-e4ba93992705",
   "metadata": {},
   "outputs": [
    {
     "data": {
      "text/html": [
       "<html>\\(\\displaystyle \\mathrm{True}\\)</html>"
      ],
      "text/latex": [
       "$\\displaystyle \\mathrm{True}$"
      ],
      "text/plain": [
       "True"
      ]
     },
     "execution_count": 315,
     "metadata": {},
     "output_type": "execute_result"
    }
   ],
   "source": [
    "testCurve(points)"
   ]
  },
  {
   "cell_type": "markdown",
   "id": "b2082ed4-fd42-4d04-aacd-600560ac408a",
   "metadata": {},
   "source": [
    "For example the points $(\\sigma^6,\\sigma^4)$ and $(\\sigma^3,\\sigma^7)$ give us the following operators:"
   ]
  },
  {
   "cell_type": "code",
   "execution_count": 316,
   "id": "3264dc00-cd57-4ed2-a3fa-9631c94aa6fe",
   "metadata": {},
   "outputs": [
    {
     "data": {
      "text/html": [
       "<html>\\(\\displaystyle i\\)</html>"
      ],
      "text/latex": [
       "$\\displaystyle i$"
      ],
      "text/plain": [
       "I"
      ]
     },
     "execution_count": 316,
     "metadata": {},
     "output_type": "execute_result"
    }
   ],
   "source": [
    "phi(x^6,x^4)"
   ]
  },
  {
   "cell_type": "code",
   "execution_count": 317,
   "id": "07a17cd2-2c89-4d23-b9f5-97b4e6336866",
   "metadata": {},
   "outputs": [
    {
     "data": {
      "text/html": [
       "<html>\\(\\displaystyle \\left(\\begin{array}{rrrrrrrr}\n",
       "0 & 0 & 0 & 0 & i & 0 & 0 & 0 \\\\\n",
       "0 & 0 & -i & 0 & 0 & 0 & 0 & 0 \\\\\n",
       "0 & i & 0 & 0 & 0 & 0 & 0 & 0 \\\\\n",
       "0 & 0 & 0 & 0 & 0 & 0 & i & 0 \\\\\n",
       "-i & 0 & 0 & 0 & 0 & 0 & 0 & 0 \\\\\n",
       "0 & 0 & 0 & 0 & 0 & 0 & 0 & i \\\\\n",
       "0 & 0 & 0 & -i & 0 & 0 & 0 & 0 \\\\\n",
       "0 & 0 & 0 & 0 & 0 & -i & 0 & 0\n",
       "\\end{array}\\right)\\)</html>"
      ],
      "text/latex": [
       "$\\displaystyle \\left(\\begin{array}{rrrrrrrr}\n",
       "0 & 0 & 0 & 0 & i & 0 & 0 & 0 \\\\\n",
       "0 & 0 & -i & 0 & 0 & 0 & 0 & 0 \\\\\n",
       "0 & i & 0 & 0 & 0 & 0 & 0 & 0 \\\\\n",
       "0 & 0 & 0 & 0 & 0 & 0 & i & 0 \\\\\n",
       "-i & 0 & 0 & 0 & 0 & 0 & 0 & 0 \\\\\n",
       "0 & 0 & 0 & 0 & 0 & 0 & 0 & i \\\\\n",
       "0 & 0 & 0 & -i & 0 & 0 & 0 & 0 \\\\\n",
       "0 & 0 & 0 & 0 & 0 & -i & 0 & 0\n",
       "\\end{array}\\right)$"
      ],
      "text/plain": [
       "[ 0  0  0  0  I  0  0  0]\n",
       "[ 0  0 -I  0  0  0  0  0]\n",
       "[ 0  I  0  0  0  0  0  0]\n",
       "[ 0  0  0  0  0  0  I  0]\n",
       "[-I  0  0  0  0  0  0  0]\n",
       "[ 0  0  0  0  0  0  0  I]\n",
       "[ 0  0  0 -I  0  0  0  0]\n",
       "[ 0  0  0  0  0 -I  0  0]"
      ]
     },
     "execution_count": 317,
     "metadata": {},
     "output_type": "execute_result"
    }
   ],
   "source": [
    "D(x^6,x^4)"
   ]
  },
  {
   "cell_type": "code",
   "execution_count": 318,
   "id": "04106f81-316f-4a60-801a-f123a400cfc4",
   "metadata": {},
   "outputs": [
    {
     "data": {
      "text/html": [
       "<html>\\(\\displaystyle i\\)</html>"
      ],
      "text/latex": [
       "$\\displaystyle i$"
      ],
      "text/plain": [
       "I"
      ]
     },
     "execution_count": 318,
     "metadata": {},
     "output_type": "execute_result"
    }
   ],
   "source": [
    "phi(x^3,x^7)"
   ]
  },
  {
   "cell_type": "code",
   "execution_count": 319,
   "id": "011dfc38-47df-43c0-b104-587b62bdab2c",
   "metadata": {},
   "outputs": [
    {
     "data": {
      "text/html": [
       "<html>\\(\\displaystyle \\left(\\begin{array}{rrrrrrrr}\n",
       "0 & 0 & 0 & 0 & 0 & 0 & 0 & i \\\\\n",
       "0 & 0 & 0 & i & 0 & 0 & 0 & 0 \\\\\n",
       "0 & 0 & 0 & 0 & 0 & 0 & -i & 0 \\\\\n",
       "0 & -i & 0 & 0 & 0 & 0 & 0 & 0 \\\\\n",
       "0 & 0 & 0 & 0 & 0 & -i & 0 & 0 \\\\\n",
       "0 & 0 & 0 & 0 & i & 0 & 0 & 0 \\\\\n",
       "0 & 0 & i & 0 & 0 & 0 & 0 & 0 \\\\\n",
       "-i & 0 & 0 & 0 & 0 & 0 & 0 & 0\n",
       "\\end{array}\\right)\\)</html>"
      ],
      "text/latex": [
       "$\\displaystyle \\left(\\begin{array}{rrrrrrrr}\n",
       "0 & 0 & 0 & 0 & 0 & 0 & 0 & i \\\\\n",
       "0 & 0 & 0 & i & 0 & 0 & 0 & 0 \\\\\n",
       "0 & 0 & 0 & 0 & 0 & 0 & -i & 0 \\\\\n",
       "0 & -i & 0 & 0 & 0 & 0 & 0 & 0 \\\\\n",
       "0 & 0 & 0 & 0 & 0 & -i & 0 & 0 \\\\\n",
       "0 & 0 & 0 & 0 & i & 0 & 0 & 0 \\\\\n",
       "0 & 0 & i & 0 & 0 & 0 & 0 & 0 \\\\\n",
       "-i & 0 & 0 & 0 & 0 & 0 & 0 & 0\n",
       "\\end{array}\\right)$"
      ],
      "text/plain": [
       "[ 0  0  0  0  0  0  0  I]\n",
       "[ 0  0  0  I  0  0  0  0]\n",
       "[ 0  0  0  0  0  0 -I  0]\n",
       "[ 0 -I  0  0  0  0  0  0]\n",
       "[ 0  0  0  0  0 -I  0  0]\n",
       "[ 0  0  0  0  I  0  0  0]\n",
       "[ 0  0  I  0  0  0  0  0]\n",
       "[-I  0  0  0  0  0  0  0]"
      ]
     },
     "execution_count": 319,
     "metadata": {},
     "output_type": "execute_result"
    }
   ],
   "source": [
    "D(x^3,x^7)"
   ]
  },
  {
   "cell_type": "markdown",
   "id": "723f89f9-492c-4330-92df-d1f52e372ff8",
   "metadata": {},
   "source": [
    "Their product is:"
   ]
  },
  {
   "cell_type": "code",
   "execution_count": 320,
   "id": "980b50ce-f109-499c-993a-c5ee29f6e377",
   "metadata": {},
   "outputs": [
    {
     "data": {
      "text/html": [
       "<html>\\(\\displaystyle \\left(\\begin{array}{rrrrrrrr}\n",
       "0 & 0 & 0 & 0 & 0 & 1 & 0 & 0 \\\\\n",
       "0 & 0 & 0 & 0 & 0 & 0 & -1 & 0 \\\\\n",
       "0 & 0 & 0 & -1 & 0 & 0 & 0 & 0 \\\\\n",
       "0 & 0 & -1 & 0 & 0 & 0 & 0 & 0 \\\\\n",
       "0 & 0 & 0 & 0 & 0 & 0 & 0 & 1 \\\\\n",
       "1 & 0 & 0 & 0 & 0 & 0 & 0 & 0 \\\\\n",
       "0 & -1 & 0 & 0 & 0 & 0 & 0 & 0 \\\\\n",
       "0 & 0 & 0 & 0 & 1 & 0 & 0 & 0\n",
       "\\end{array}\\right)\\)</html>"
      ],
      "text/latex": [
       "$\\displaystyle \\left(\\begin{array}{rrrrrrrr}\n",
       "0 & 0 & 0 & 0 & 0 & 1 & 0 & 0 \\\\\n",
       "0 & 0 & 0 & 0 & 0 & 0 & -1 & 0 \\\\\n",
       "0 & 0 & 0 & -1 & 0 & 0 & 0 & 0 \\\\\n",
       "0 & 0 & -1 & 0 & 0 & 0 & 0 & 0 \\\\\n",
       "0 & 0 & 0 & 0 & 0 & 0 & 0 & 1 \\\\\n",
       "1 & 0 & 0 & 0 & 0 & 0 & 0 & 0 \\\\\n",
       "0 & -1 & 0 & 0 & 0 & 0 & 0 & 0 \\\\\n",
       "0 & 0 & 0 & 0 & 1 & 0 & 0 & 0\n",
       "\\end{array}\\right)$"
      ],
      "text/plain": [
       "[ 0  0  0  0  0  1  0  0]\n",
       "[ 0  0  0  0  0  0 -1  0]\n",
       "[ 0  0  0 -1  0  0  0  0]\n",
       "[ 0  0 -1  0  0  0  0  0]\n",
       "[ 0  0  0  0  0  0  0  1]\n",
       "[ 1  0  0  0  0  0  0  0]\n",
       "[ 0 -1  0  0  0  0  0  0]\n",
       "[ 0  0  0  0  1  0  0  0]"
      ]
     },
     "execution_count": 320,
     "metadata": {},
     "output_type": "execute_result"
    }
   ],
   "source": [
    "D(x^6,x^4) * D(x^3,x^7)"
   ]
  },
  {
   "cell_type": "markdown",
   "id": "818b397a-0272-4cf6-9050-4f2f3c16e46f",
   "metadata": {},
   "source": [
    "And the operator given by the sum of their components is:"
   ]
  },
  {
   "cell_type": "code",
   "execution_count": 321,
   "id": "c0869995-ec49-449b-b698-fe8071128589",
   "metadata": {},
   "outputs": [
    {
     "data": {
      "text/html": [
       "<html>\\(\\displaystyle \\left(\\begin{array}{rrrrrrrr}\n",
       "0 & 0 & 0 & 0 & 0 & 1 & 0 & 0 \\\\\n",
       "0 & 0 & 0 & 0 & 0 & 0 & -1 & 0 \\\\\n",
       "0 & 0 & 0 & -1 & 0 & 0 & 0 & 0 \\\\\n",
       "0 & 0 & -1 & 0 & 0 & 0 & 0 & 0 \\\\\n",
       "0 & 0 & 0 & 0 & 0 & 0 & 0 & 1 \\\\\n",
       "1 & 0 & 0 & 0 & 0 & 0 & 0 & 0 \\\\\n",
       "0 & -1 & 0 & 0 & 0 & 0 & 0 & 0 \\\\\n",
       "0 & 0 & 0 & 0 & 1 & 0 & 0 & 0\n",
       "\\end{array}\\right)\\)</html>"
      ],
      "text/latex": [
       "$\\displaystyle \\left(\\begin{array}{rrrrrrrr}\n",
       "0 & 0 & 0 & 0 & 0 & 1 & 0 & 0 \\\\\n",
       "0 & 0 & 0 & 0 & 0 & 0 & -1 & 0 \\\\\n",
       "0 & 0 & 0 & -1 & 0 & 0 & 0 & 0 \\\\\n",
       "0 & 0 & -1 & 0 & 0 & 0 & 0 & 0 \\\\\n",
       "0 & 0 & 0 & 0 & 0 & 0 & 0 & 1 \\\\\n",
       "1 & 0 & 0 & 0 & 0 & 0 & 0 & 0 \\\\\n",
       "0 & -1 & 0 & 0 & 0 & 0 & 0 & 0 \\\\\n",
       "0 & 0 & 0 & 0 & 1 & 0 & 0 & 0\n",
       "\\end{array}\\right)$"
      ],
      "text/plain": [
       "[ 0  0  0  0  0  1  0  0]\n",
       "[ 0  0  0  0  0  0 -1  0]\n",
       "[ 0  0  0 -1  0  0  0  0]\n",
       "[ 0  0 -1  0  0  0  0  0]\n",
       "[ 0  0  0  0  0  0  0  1]\n",
       "[ 1  0  0  0  0  0  0  0]\n",
       "[ 0 -1  0  0  0  0  0  0]\n",
       "[ 0  0  0  0  1  0  0  0]"
      ]
     },
     "execution_count": 321,
     "metadata": {},
     "output_type": "execute_result"
    }
   ],
   "source": [
    "D(x^6+x^3,x^4+x^7)"
   ]
  },
  {
   "cell_type": "markdown",
   "id": "f8ddde8a-b96a-4de3-bb49-2576130d7cb2",
   "metadata": {},
   "source": [
    "And as we can see they are equal:"
   ]
  },
  {
   "cell_type": "code",
   "execution_count": 322,
   "id": "41d4696a-db95-45f0-9acf-b56186e05dd8",
   "metadata": {},
   "outputs": [
    {
     "data": {
      "text/html": [
       "<html>\\(\\displaystyle \\mathrm{True}\\)</html>"
      ],
      "text/latex": [
       "$\\displaystyle \\mathrm{True}$"
      ],
      "text/plain": [
       "True"
      ]
     },
     "execution_count": 322,
     "metadata": {},
     "output_type": "execute_result"
    }
   ],
   "source": [
    "D(x^6,x^4) * D(x^3,x^7) == D(x^6+x^3,x^4+x^7)"
   ]
  },
  {
   "cell_type": "markdown",
   "id": "31a7f685-0dfb-4a56-b35e-03461d817016",
   "metadata": {},
   "source": [
    "---\n",
    "Let me try to calculate the eigenstates. According to the document Klimov sent me we should be able to obtain the eigenstates by summing over the displacement operators indexed by the points of the curve. Seems strange because we are using the phases of rays but...:\n",
    "$$\n",
    "\\ket{\\psi_\\kappa^{\\alpha,\\beta}} \\bra{\\psi_\\kappa^{\\alpha,\\beta}}\n",
    "= \\frac{1}{2^N} \\sum_{\\tau} \\chi(\\kappa\\tau) D(\\alpha(\\tau), \\beta(\\tau)).\n",
    "$$"
   ]
  },
  {
   "cell_type": "markdown",
   "id": "cb9e2c4a-1bc0-4ce9-8bf6-6bef4ea78be7",
   "metadata": {},
   "source": [
    "So in order to calculate the eigenvectors I need to calculate the parametric form of the points, which I don't know how to do. But, what if I assume the the points given above are each indexed by a certain value of $\\tau$ and just sum over all of them?"
   ]
  },
  {
   "cell_type": "code",
   "execution_count": 338,
   "id": "d41f0527-4ee7-42e4-aea8-633f91a944ed",
   "metadata": {},
   "outputs": [],
   "source": [
    "def StateFromCurve(curve):\n",
    "    op = zero_matrix(SR, 2^N, 2^N)\n",
    "    for j, tau in enumerate(F):\n",
    "        op += D(*curve[j])\n",
    "    return op / 2^N"
   ]
  },
  {
   "cell_type": "code",
   "execution_count": 335,
   "id": "91069376-a212-4eb8-8a1d-d2526f589c6a",
   "metadata": {},
   "outputs": [],
   "source": [
    "def checkState(state):\n",
    "    if state.trace() != 1:\n",
    "        raise Exception('Not unit trace.')\n",
    "    if state != state.conjugate_transpose():\n",
    "        raise Exception('Not self-adjoint.')\n",
    "    return True"
   ]
  },
  {
   "cell_type": "markdown",
   "id": "52e0220f-6e3f-4e7b-8a06-069420ec034c",
   "metadata": {},
   "source": [
    "We continue with Klimov's calculations, now for the Wigner kernel for the straight lines:\n",
    "$$\n",
    "w(\\alpha,\\beta)\n",
    "= \\frac{1}{2^N} \\sum_{\\gamma,\\delta} \\chi(\\gamma\\beta + \\delta\\alpha) \\phi(\\gamma,\\delta) Z_\\gamma X_\\delta.\n",
    "$$"
   ]
  },
  {
   "cell_type": "code",
   "execution_count": 339,
   "id": "9a2733ff-7230-4494-acd3-946eadc2ac95",
   "metadata": {},
   "outputs": [],
   "source": [
    "def Wigner(alpha, beta):\n",
    "    wigner_kernel = zero_matrix(SR, 2^N, 2^N)\n",
    "    for j, ga in enumerate(F):\n",
    "        for k, de in enumerate(F):\n",
    "            char = chi(ga * beta + de * alpha)\n",
    "            wigner_kernel += char * D(ga, de) / 2^N\n",
    "    return wigner_kernel"
   ]
  },
  {
   "cell_type": "code",
   "execution_count": 162,
   "id": "64a096d0-cf90-43d2-90e6-73cc874304fd",
   "metadata": {},
   "outputs": [],
   "source": [
    "def WignerMatrix(state):\n",
    "    m = zero_matrix(SR, 2^N, 2^N)\n",
    "    for i, a in enumerate(F):\n",
    "        for j, b in enumerate(F):\n",
    "            m[i, j] = (Wigner(a, b) * state).trace()\n",
    "    return m / 2^N"
   ]
  },
  {
   "cell_type": "code",
   "execution_count": 336,
   "id": "62f33ed3-2488-4ffa-b908-b264e928f83b",
   "metadata": {},
   "outputs": [
    {
     "data": {
      "text/html": [
       "<html>\\(\\displaystyle \\mathrm{True}\\)</html>"
      ],
      "text/latex": [
       "$\\displaystyle \\mathrm{True}$"
      ],
      "text/plain": [
       "True"
      ]
     },
     "execution_count": 336,
     "metadata": {},
     "output_type": "execute_result"
    }
   ],
   "source": [
    "eig_state = StateFromCurve(points)\n",
    "checkState(state)"
   ]
  },
  {
   "cell_type": "code",
   "execution_count": 337,
   "id": "6fe1e96c-7c46-43d2-b0d2-4af61d65f01f",
   "metadata": {},
   "outputs": [
    {
     "data": {
      "text/html": [
       "<html>\\(\\displaystyle \\left(\\begin{array}{rrrrrrrr}\n",
       "\\frac{1}{4} & 0 & 0 & 0 & \\frac{1}{4} i & \\frac{1}{4} & 0 & \\frac{1}{4} i \\\\\n",
       "0 & 0 & 0 & 0 & 0 & 0 & 0 & 0 \\\\\n",
       "0 & 0 & 0 & 0 & 0 & 0 & 0 & 0 \\\\\n",
       "0 & 0 & 0 & 0 & 0 & 0 & 0 & 0 \\\\\n",
       "-\\frac{1}{4} i & 0 & 0 & 0 & \\frac{1}{4} & -\\frac{1}{4} i & 0 & \\frac{1}{4} \\\\\n",
       "\\frac{1}{4} & 0 & 0 & 0 & \\frac{1}{4} i & \\frac{1}{4} & 0 & \\frac{1}{4} i \\\\\n",
       "0 & 0 & 0 & 0 & 0 & 0 & 0 & 0 \\\\\n",
       "-\\frac{1}{4} i & 0 & 0 & 0 & \\frac{1}{4} & -\\frac{1}{4} i & 0 & \\frac{1}{4}\n",
       "\\end{array}\\right)\\)</html>"
      ],
      "text/latex": [
       "$\\displaystyle \\left(\\begin{array}{rrrrrrrr}\n",
       "\\frac{1}{4} & 0 & 0 & 0 & \\frac{1}{4} i & \\frac{1}{4} & 0 & \\frac{1}{4} i \\\\\n",
       "0 & 0 & 0 & 0 & 0 & 0 & 0 & 0 \\\\\n",
       "0 & 0 & 0 & 0 & 0 & 0 & 0 & 0 \\\\\n",
       "0 & 0 & 0 & 0 & 0 & 0 & 0 & 0 \\\\\n",
       "-\\frac{1}{4} i & 0 & 0 & 0 & \\frac{1}{4} & -\\frac{1}{4} i & 0 & \\frac{1}{4} \\\\\n",
       "\\frac{1}{4} & 0 & 0 & 0 & \\frac{1}{4} i & \\frac{1}{4} & 0 & \\frac{1}{4} i \\\\\n",
       "0 & 0 & 0 & 0 & 0 & 0 & 0 & 0 \\\\\n",
       "-\\frac{1}{4} i & 0 & 0 & 0 & \\frac{1}{4} & -\\frac{1}{4} i & 0 & \\frac{1}{4}\n",
       "\\end{array}\\right)$"
      ],
      "text/plain": [
       "[   1/4      0      0      0  1/4*I    1/4      0  1/4*I]\n",
       "[     0      0      0      0      0      0      0      0]\n",
       "[     0      0      0      0      0      0      0      0]\n",
       "[     0      0      0      0      0      0      0      0]\n",
       "[-1/4*I      0      0      0    1/4 -1/4*I      0    1/4]\n",
       "[   1/4      0      0      0  1/4*I    1/4      0  1/4*I]\n",
       "[     0      0      0      0      0      0      0      0]\n",
       "[-1/4*I      0      0      0    1/4 -1/4*I      0    1/4]"
      ]
     },
     "execution_count": 337,
     "metadata": {},
     "output_type": "execute_result"
    }
   ],
   "source": [
    "eig_state"
   ]
  },
  {
   "cell_type": "code",
   "execution_count": 125,
   "id": "93f53d3b-8e87-4a96-a66b-515d4ee61916",
   "metadata": {},
   "outputs": [
    {
     "data": {
      "text/html": [
       "<html>\\(\\displaystyle \\left(\\begin{array}{rrrrrrrr}\n",
       "\\frac{1}{8} & 0 & 0 & 0 & 0 & \\frac{1}{8} & 0 & 0 \\\\\n",
       "0 & 0 & 0 & 0 & 0 & 0 & 0 & 0 \\\\\n",
       "0 & 0 & 0 & 0 & 0 & 0 & 0 & 0 \\\\\n",
       "0 & 0 & 0 & 0 & \\frac{1}{8} & 0 & 0 & \\frac{1}{8} \\\\\n",
       "\\frac{1}{8} & 0 & 0 & 0 & 0 & \\frac{1}{8} & 0 & 0 \\\\\n",
       "0 & 0 & 0 & 0 & 0 & 0 & 0 & 0 \\\\\n",
       "0 & 0 & 0 & 0 & \\frac{1}{8} & 0 & 0 & \\frac{1}{8} \\\\\n",
       "0 & 0 & 0 & 0 & 0 & 0 & 0 & 0\n",
       "\\end{array}\\right)\\)</html>"
      ],
      "text/latex": [
       "$\\displaystyle \\left(\\begin{array}{rrrrrrrr}\n",
       "\\frac{1}{8} & 0 & 0 & 0 & 0 & \\frac{1}{8} & 0 & 0 \\\\\n",
       "0 & 0 & 0 & 0 & 0 & 0 & 0 & 0 \\\\\n",
       "0 & 0 & 0 & 0 & 0 & 0 & 0 & 0 \\\\\n",
       "0 & 0 & 0 & 0 & \\frac{1}{8} & 0 & 0 & \\frac{1}{8} \\\\\n",
       "\\frac{1}{8} & 0 & 0 & 0 & 0 & \\frac{1}{8} & 0 & 0 \\\\\n",
       "0 & 0 & 0 & 0 & 0 & 0 & 0 & 0 \\\\\n",
       "0 & 0 & 0 & 0 & \\frac{1}{8} & 0 & 0 & \\frac{1}{8} \\\\\n",
       "0 & 0 & 0 & 0 & 0 & 0 & 0 & 0\n",
       "\\end{array}\\right)$"
      ],
      "text/plain": [
       "[1/8   0   0   0   0 1/8   0   0]\n",
       "[  0   0   0   0   0   0   0   0]\n",
       "[  0   0   0   0   0   0   0   0]\n",
       "[  0   0   0   0 1/8   0   0 1/8]\n",
       "[1/8   0   0   0   0 1/8   0   0]\n",
       "[  0   0   0   0   0   0   0   0]\n",
       "[  0   0   0   0 1/8   0   0 1/8]\n",
       "[  0   0   0   0   0   0   0   0]"
      ]
     },
     "execution_count": 125,
     "metadata": {},
     "output_type": "execute_result"
    }
   ],
   "source": [
    "w = WignerMatrix(eig_state)\n",
    "w"
   ]
  },
  {
   "cell_type": "code",
   "execution_count": 340,
   "id": "33f8a69d-c017-487c-8e13-e4449a0dd0ae",
   "metadata": {},
   "outputs": [],
   "source": [
    "# is eig_state and eigen state for all ops?\n",
    "for p in points:\n",
    "    if D(*p) * eig_state * D(*p).conjugate_transpose() != eig_state:\n",
    "        raise Exception"
   ]
  },
  {
   "cell_type": "code",
   "execution_count": 135,
   "id": "c9094d09-467d-4359-878b-865819db9eb0",
   "metadata": {},
   "outputs": [],
   "source": [
    "# # For external use\n",
    "# import numpy as np\n",
    "# np.save('phase_space.npy', ps.n().numpy())"
   ]
  },
  {
   "cell_type": "markdown",
   "id": "2b819537-8435-430d-86a7-af72fd555079",
   "metadata": {},
   "source": [
    "So we have seen that the particular curve given by (5.19) is an abelian curve in order established sense. It is a particular case of 21 exceptional curves that are doubly degenerate, case (i) in the Annals paper. We now wish to see how many of these curves are also abelian."
   ]
  },
  {
   "cell_type": "code",
   "execution_count": 341,
   "id": "39ea9339-e221-4c9d-a2c8-0fa2e7b56e84",
   "metadata": {},
   "outputs": [],
   "source": [
    "def ExcCurvesCaseI():\n",
    "    def ExceptionalCurve(a1, a2):\n",
    "        b1 = 1/(a1+a2) + 1/a1 + 1/a2\n",
    "        return [\n",
    "            (F(0), F(0)),\n",
    "            (a1, F(0)),\n",
    "            (a1, b1),\n",
    "            (a2, b1 * (a1^-1 * a2 + F(1))),\n",
    "            (a2, b1 * a1^-1 * a2),\n",
    "            (a1 + a2, b1 * a1^-1 * a2),\n",
    "            (a1 + a2, b1 * (a1^-1 * a2 + 1)),\n",
    "            (F(0), b1)\n",
    "        ]\n",
    "        \n",
    "    curves = []\n",
    "    for a1 in list(F)[1:]:\n",
    "        for a2 in list(F)[1:]:\n",
    "            if a1 != a2:\n",
    "                curves.append(ExceptionalCurve(a1, a2))\n",
    "    \n",
    "    curves_uniq = []\n",
    "    for curve in curves:\n",
    "        curve.sort()\n",
    "        if curve not in curves_uniq:\n",
    "            curves_uniq.append(curve)\n",
    "\n",
    "    return curves_uniq"
   ]
  },
  {
   "cell_type": "code",
   "execution_count": 342,
   "id": "c120c298-f5df-403d-915e-bfedc2c6b106",
   "metadata": {},
   "outputs": [
    {
     "data": {
      "text/html": [
       "<html>\\(\\displaystyle 21\\)</html>"
      ],
      "text/latex": [
       "$\\displaystyle 21$"
      ],
      "text/plain": [
       "21"
      ]
     },
     "execution_count": 342,
     "metadata": {},
     "output_type": "execute_result"
    }
   ],
   "source": [
    "curves = ExcCurvesCaseI()\n",
    "len(curves)"
   ]
  },
  {
   "cell_type": "code",
   "execution_count": 348,
   "id": "0389f73e-e8ee-45c5-96bb-2a5a86be1a87",
   "metadata": {},
   "outputs": [],
   "source": [
    "for j, curve in enumerate(curves):\n",
    "    checkAdditivity(curve)\n",
    "    checkIsotropy(curve)"
   ]
  },
  {
   "cell_type": "code",
   "execution_count": 343,
   "id": "d9b86bb5-6ab8-4616-9f83-d82fefcf5d0c",
   "metadata": {},
   "outputs": [
    {
     "data": {
      "text/html": [
       "<html>\\(\\displaystyle \\mathrm{True}\\)</html>"
      ],
      "text/latex": [
       "$\\displaystyle \\mathrm{True}$"
      ],
      "text/plain": [
       "True"
      ]
     },
     "execution_count": 343,
     "metadata": {},
     "output_type": "execute_result"
    }
   ],
   "source": [
    "testCurve(curves[10]) # the 10th curve corresponds to the example 5.19"
   ]
  },
  {
   "cell_type": "code",
   "execution_count": 349,
   "id": "91dabf1b-88a1-4eb5-91d2-8136e6c44e63",
   "metadata": {},
   "outputs": [
    {
     "name": "stdout",
     "output_type": "stream",
     "text": [
      "Testing curve #0...\n",
      "Testing curve #1...\n",
      "Testing curve #2...\n",
      "ABELIAN\n",
      "Testing curve #3...\n",
      "Testing curve #4...\n",
      "ABELIAN\n",
      "Testing curve #5...\n",
      "Testing curve #6...\n",
      "ABELIAN\n",
      "Testing curve #7...\n",
      "Testing curve #8...\n",
      "Testing curve #9...\n",
      "Testing curve #10...\n",
      "ABELIAN\n",
      "Testing curve #11...\n",
      "Testing curve #12...\n",
      "Testing curve #13...\n",
      "Testing curve #14...\n",
      "ABELIAN\n",
      "Testing curve #15...\n",
      "Testing curve #16...\n",
      "ABELIAN\n",
      "Testing curve #17...\n",
      "Testing curve #18...\n",
      "Testing curve #19...\n",
      "Testing curve #20...\n"
     ]
    }
   ],
   "source": [
    "for j, curve in enumerate(curves):\n",
    "    print('Testing curve #{}...'.format(j))\n",
    "    try:\n",
    "        testCurve(curve)\n",
    "        print('ABELIAN')\n",
    "    except:\n",
    "        continue"
   ]
  },
  {
   "cell_type": "code",
   "execution_count": 350,
   "id": "4fb55268-0400-4fc8-9fd5-9e5c27da6e4c",
   "metadata": {},
   "outputs": [
    {
     "data": {
      "text/html": [
       "<html>\\(\\displaystyle \\left[\\left(0, 0\\right), \\left(0, x + 1\\right), \\left(x, 0\\right), \\left(x, x + 1\\right), \\left(x^{2} + 1, 1\\right), \\left(x^{2} + 1, x\\right), \\left(x^{2} + x + 1, 1\\right), \\left(x^{2} + x + 1, x\\right)\\right]\\)</html>"
      ],
      "text/latex": [
       "$\\displaystyle \\left[\\left(0, 0\\right), \\left(0, x + 1\\right), \\left(x, 0\\right), \\left(x, x + 1\\right), \\left(x^{2} + 1, 1\\right), \\left(x^{2} + 1, x\\right), \\left(x^{2} + x + 1, 1\\right), \\left(x^{2} + x + 1, x\\right)\\right]$"
      ],
      "text/plain": [
       "[(0, 0),\n",
       " (0, x + 1),\n",
       " (x, 0),\n",
       " (x, x + 1),\n",
       " (x^2 + 1, 1),\n",
       " (x^2 + 1, x),\n",
       " (x^2 + x + 1, 1),\n",
       " (x^2 + x + 1, x)]"
      ]
     },
     "execution_count": 350,
     "metadata": {},
     "output_type": "execute_result"
    }
   ],
   "source": [
    "curves[2]"
   ]
  },
  {
   "cell_type": "code",
   "execution_count": 351,
   "id": "4a282e7c-2728-4d3d-9e0e-262394942af6",
   "metadata": {},
   "outputs": [
    {
     "data": {
      "text/html": [
       "<html>\\(\\displaystyle \\left(\\begin{array}{rrrrrrrr}\n",
       "1 & 0 & 0 & 1 & 0 & 0 & 0 & 0 \\\\\n",
       "1 & 0 & 0 & 1 & 0 & 0 & 0 & 0 \\\\\n",
       "0 & 0 & 0 & 0 & 0 & 0 & 0 & 0 \\\\\n",
       "0 & 0 & 0 & 0 & 0 & 0 & 0 & 0 \\\\\n",
       "0 & 0 & 0 & 0 & 0 & 0 & 0 & 0 \\\\\n",
       "0 & 1 & 0 & 0 & 0 & 0 & 0 & 1 \\\\\n",
       "0 & 1 & 0 & 0 & 0 & 0 & 0 & 1 \\\\\n",
       "0 & 0 & 0 & 0 & 0 & 0 & 0 & 0\n",
       "\\end{array}\\right)\\)</html>"
      ],
      "text/latex": [
       "$\\displaystyle \\left(\\begin{array}{rrrrrrrr}\n",
       "1 & 0 & 0 & 1 & 0 & 0 & 0 & 0 \\\\\n",
       "1 & 0 & 0 & 1 & 0 & 0 & 0 & 0 \\\\\n",
       "0 & 0 & 0 & 0 & 0 & 0 & 0 & 0 \\\\\n",
       "0 & 0 & 0 & 0 & 0 & 0 & 0 & 0 \\\\\n",
       "0 & 0 & 0 & 0 & 0 & 0 & 0 & 0 \\\\\n",
       "0 & 1 & 0 & 0 & 0 & 0 & 0 & 1 \\\\\n",
       "0 & 1 & 0 & 0 & 0 & 0 & 0 & 1 \\\\\n",
       "0 & 0 & 0 & 0 & 0 & 0 & 0 & 0\n",
       "\\end{array}\\right)$"
      ],
      "text/plain": [
       "[1 0 0 1 0 0 0 0]\n",
       "[1 0 0 1 0 0 0 0]\n",
       "[0 0 0 0 0 0 0 0]\n",
       "[0 0 0 0 0 0 0 0]\n",
       "[0 0 0 0 0 0 0 0]\n",
       "[0 1 0 0 0 0 0 1]\n",
       "[0 1 0 0 0 0 0 1]\n",
       "[0 0 0 0 0 0 0 0]"
      ]
     },
     "execution_count": 351,
     "metadata": {},
     "output_type": "execute_result"
    }
   ],
   "source": [
    "graph(curves[2])"
   ]
  },
  {
   "cell_type": "code",
   "execution_count": 352,
   "id": "e7c42de9-851e-4ace-aada-d0b5e7e2df5d",
   "metadata": {},
   "outputs": [
    {
     "data": {
      "text/html": [
       "<html>\\(\\displaystyle \\left(\\begin{array}{rrrrrrrr}\n",
       "\\frac{1}{4} & 0 & \\frac{1}{4} i & 0 & 0 & 0 & \\frac{1}{4} & \\frac{1}{4} i \\\\\n",
       "0 & 0 & 0 & 0 & 0 & 0 & 0 & 0 \\\\\n",
       "-\\frac{1}{4} i & 0 & \\frac{1}{4} & 0 & 0 & 0 & -\\frac{1}{4} i & \\frac{1}{4} \\\\\n",
       "0 & 0 & 0 & 0 & 0 & 0 & 0 & 0 \\\\\n",
       "0 & 0 & 0 & 0 & 0 & 0 & 0 & 0 \\\\\n",
       "0 & 0 & 0 & 0 & 0 & 0 & 0 & 0 \\\\\n",
       "\\frac{1}{4} & 0 & \\frac{1}{4} i & 0 & 0 & 0 & \\frac{1}{4} & \\frac{1}{4} i \\\\\n",
       "-\\frac{1}{4} i & 0 & \\frac{1}{4} & 0 & 0 & 0 & -\\frac{1}{4} i & \\frac{1}{4}\n",
       "\\end{array}\\right)\\)</html>"
      ],
      "text/latex": [
       "$\\displaystyle \\left(\\begin{array}{rrrrrrrr}\n",
       "\\frac{1}{4} & 0 & \\frac{1}{4} i & 0 & 0 & 0 & \\frac{1}{4} & \\frac{1}{4} i \\\\\n",
       "0 & 0 & 0 & 0 & 0 & 0 & 0 & 0 \\\\\n",
       "-\\frac{1}{4} i & 0 & \\frac{1}{4} & 0 & 0 & 0 & -\\frac{1}{4} i & \\frac{1}{4} \\\\\n",
       "0 & 0 & 0 & 0 & 0 & 0 & 0 & 0 \\\\\n",
       "0 & 0 & 0 & 0 & 0 & 0 & 0 & 0 \\\\\n",
       "0 & 0 & 0 & 0 & 0 & 0 & 0 & 0 \\\\\n",
       "\\frac{1}{4} & 0 & \\frac{1}{4} i & 0 & 0 & 0 & \\frac{1}{4} & \\frac{1}{4} i \\\\\n",
       "-\\frac{1}{4} i & 0 & \\frac{1}{4} & 0 & 0 & 0 & -\\frac{1}{4} i & \\frac{1}{4}\n",
       "\\end{array}\\right)$"
      ],
      "text/plain": [
       "[   1/4      0  1/4*I      0      0      0    1/4  1/4*I]\n",
       "[     0      0      0      0      0      0      0      0]\n",
       "[-1/4*I      0    1/4      0      0      0 -1/4*I    1/4]\n",
       "[     0      0      0      0      0      0      0      0]\n",
       "[     0      0      0      0      0      0      0      0]\n",
       "[     0      0      0      0      0      0      0      0]\n",
       "[   1/4      0  1/4*I      0      0      0    1/4  1/4*I]\n",
       "[-1/4*I      0    1/4      0      0      0 -1/4*I    1/4]"
      ]
     },
     "execution_count": 352,
     "metadata": {},
     "output_type": "execute_result"
    }
   ],
   "source": [
    "state = StateFromCurve(curves[4])\n",
    "state"
   ]
  },
  {
   "cell_type": "code",
   "execution_count": 353,
   "id": "20a4e64a-f540-451e-bf0a-44019fe0f54e",
   "metadata": {},
   "outputs": [
    {
     "data": {
      "text/html": [
       "<html>\\(\\displaystyle \\mathrm{True}\\)</html>"
      ],
      "text/latex": [
       "$\\displaystyle \\mathrm{True}$"
      ],
      "text/plain": [
       "True"
      ]
     },
     "execution_count": 353,
     "metadata": {},
     "output_type": "execute_result"
    }
   ],
   "source": [
    "checkState(state)"
   ]
  },
  {
   "cell_type": "code",
   "execution_count": 169,
   "id": "86d86aa8-46de-47d5-ac9f-3069dbb3d281",
   "metadata": {},
   "outputs": [
    {
     "data": {
      "text/html": [
       "<html>\\(\\displaystyle \\left(\\begin{array}{rrrrrrrr}\n",
       "\\frac{1}{8} & 0 & 0 & 0 & 0 & 0 & \\frac{1}{8} & 0 \\\\\n",
       "0 & 0 & 0 & 0 & 0 & 0 & 0 & 0 \\\\\n",
       "\\frac{1}{8} & 0 & 0 & 0 & 0 & 0 & \\frac{1}{8} & 0 \\\\\n",
       "0 & 0 & \\frac{1}{8} & 0 & 0 & 0 & 0 & \\frac{1}{8} \\\\\n",
       "0 & 0 & 0 & 0 & 0 & 0 & 0 & 0 \\\\\n",
       "0 & 0 & \\frac{1}{8} & 0 & 0 & 0 & 0 & \\frac{1}{8} \\\\\n",
       "0 & 0 & 0 & 0 & 0 & 0 & 0 & 0 \\\\\n",
       "0 & 0 & 0 & 0 & 0 & 0 & 0 & 0\n",
       "\\end{array}\\right)\\)</html>"
      ],
      "text/latex": [
       "$\\displaystyle \\left(\\begin{array}{rrrrrrrr}\n",
       "\\frac{1}{8} & 0 & 0 & 0 & 0 & 0 & \\frac{1}{8} & 0 \\\\\n",
       "0 & 0 & 0 & 0 & 0 & 0 & 0 & 0 \\\\\n",
       "\\frac{1}{8} & 0 & 0 & 0 & 0 & 0 & \\frac{1}{8} & 0 \\\\\n",
       "0 & 0 & \\frac{1}{8} & 0 & 0 & 0 & 0 & \\frac{1}{8} \\\\\n",
       "0 & 0 & 0 & 0 & 0 & 0 & 0 & 0 \\\\\n",
       "0 & 0 & \\frac{1}{8} & 0 & 0 & 0 & 0 & \\frac{1}{8} \\\\\n",
       "0 & 0 & 0 & 0 & 0 & 0 & 0 & 0 \\\\\n",
       "0 & 0 & 0 & 0 & 0 & 0 & 0 & 0\n",
       "\\end{array}\\right)$"
      ],
      "text/plain": [
       "[1/8   0   0   0   0   0 1/8   0]\n",
       "[  0   0   0   0   0   0   0   0]\n",
       "[1/8   0   0   0   0   0 1/8   0]\n",
       "[  0   0 1/8   0   0   0   0 1/8]\n",
       "[  0   0   0   0   0   0   0   0]\n",
       "[  0   0 1/8   0   0   0   0 1/8]\n",
       "[  0   0   0   0   0   0   0   0]\n",
       "[  0   0   0   0   0   0   0   0]"
      ]
     },
     "execution_count": 169,
     "metadata": {},
     "output_type": "execute_result"
    }
   ],
   "source": [
    "WignerMatrix(state)"
   ]
  },
  {
   "cell_type": "markdown",
   "id": "31aa35eb-59a9-4c5e-8da4-0e57c1836297",
   "metadata": {},
   "source": [
    "Now for the case (II) exceptional curves. There are seven of these. The following is given by example 5.25 from the annals."
   ]
  },
  {
   "cell_type": "code",
   "execution_count": 354,
   "id": "74dcd612-70d4-4fce-8329-c510d7db999e",
   "metadata": {},
   "outputs": [
    {
     "data": {
      "text/html": [
       "<html>\\(\\displaystyle \\left[\\left(0, 0\\right), \\left(x + 1, 0\\right), \\left(x^{2} + x + 1, 0\\right), \\left(x^{2}, 0\\right), \\left(x + 1, x^{2} + 1\\right), \\left(x^{2} + x + 1, x^{2} + 1\\right), \\left(x^{2}, x^{2} + 1\\right), \\left(0, x^{2} + 1\\right)\\right]\\)</html>"
      ],
      "text/latex": [
       "$\\displaystyle \\left[\\left(0, 0\\right), \\left(x + 1, 0\\right), \\left(x^{2} + x + 1, 0\\right), \\left(x^{2}, 0\\right), \\left(x + 1, x^{2} + 1\\right), \\left(x^{2} + x + 1, x^{2} + 1\\right), \\left(x^{2}, x^{2} + 1\\right), \\left(0, x^{2} + 1\\right)\\right]$"
      ],
      "text/plain": [
       "[(0, 0),\n",
       " (x + 1, 0),\n",
       " (x^2 + x + 1, 0),\n",
       " (x^2, 0),\n",
       " (x + 1, x^2 + 1),\n",
       " (x^2 + x + 1, x^2 + 1),\n",
       " (x^2, x^2 + 1),\n",
       " (0, x^2 + 1)]"
      ]
     },
     "execution_count": 354,
     "metadata": {},
     "output_type": "execute_result"
    }
   ],
   "source": [
    "points2 = [(F(0),F(0)), (x^3,F(0)), (x^5,F(0)), (x^2,F(0)), (x^3,x^6), (x^5,x^6), (x^2,x^6), (F(0),x^6)]\n",
    "points2"
   ]
  },
  {
   "cell_type": "code",
   "execution_count": 474,
   "id": "4b58b11c-e057-41f7-95a9-388f92f1c0ff",
   "metadata": {},
   "outputs": [
    {
     "data": {
      "text/html": [
       "<html>\\(\\displaystyle \\left[\\left(0, 0\\right), \\left(3, 0\\right), \\left(5, 0\\right), \\left(2, 0\\right), \\left(3, 6\\right), \\left(5, 6\\right), \\left(2, 6\\right), \\left(0, 6\\right)\\right]\\)</html>"
      ],
      "text/latex": [
       "$\\displaystyle \\left[\\left(0, 0\\right), \\left(3, 0\\right), \\left(5, 0\\right), \\left(2, 0\\right), \\left(3, 6\\right), \\left(5, 6\\right), \\left(2, 6\\right), \\left(0, 6\\right)\\right]$"
      ],
      "text/plain": [
       "[(0, 0), (3, 0), (5, 0), (2, 0), (3, 6), (5, 6), (2, 6), (0, 6)]"
      ]
     },
     "execution_count": 474,
     "metadata": {},
     "output_type": "execute_result"
    }
   ],
   "source": [
    "powers(points2)"
   ]
  },
  {
   "cell_type": "code",
   "execution_count": 475,
   "id": "3a8c5209-1cbb-4b42-8222-1054010c0892",
   "metadata": {},
   "outputs": [
    {
     "data": {
      "text/html": [
       "<html>\\(\\displaystyle \\mathrm{True}\\)</html>"
      ],
      "text/latex": [
       "$\\displaystyle \\mathrm{True}$"
      ],
      "text/plain": [
       "True"
      ]
     },
     "execution_count": 475,
     "metadata": {},
     "output_type": "execute_result"
    }
   ],
   "source": [
    "checkAdditivity(points2)\n",
    "checkIsotropy(points2)"
   ]
  },
  {
   "cell_type": "code",
   "execution_count": 476,
   "id": "2046c402-bba1-4541-b9f6-4b589fdc921f",
   "metadata": {},
   "outputs": [
    {
     "data": {
      "text/html": [
       "<html>\\(\\displaystyle \\mathrm{True}\\)</html>"
      ],
      "text/latex": [
       "$\\displaystyle \\mathrm{True}$"
      ],
      "text/plain": [
       "True"
      ]
     },
     "execution_count": 476,
     "metadata": {},
     "output_type": "execute_result"
    }
   ],
   "source": [
    "testCurve(points2)"
   ]
  },
  {
   "cell_type": "code",
   "execution_count": 477,
   "id": "fd02f871-b835-4b72-9bfb-9bb4a47d11ee",
   "metadata": {},
   "outputs": [
    {
     "data": {
      "text/html": [
       "<html>\\(\\displaystyle \\left(\\begin{array}{rrrrrrrr}\n",
       "1 & 0 & 0 & 0 & 0 & 0 & 1 & 0 \\\\\n",
       "0 & 0 & 0 & 0 & 0 & 0 & 0 & 0 \\\\\n",
       "1 & 0 & 0 & 0 & 0 & 0 & 1 & 0 \\\\\n",
       "1 & 0 & 0 & 0 & 0 & 0 & 1 & 0 \\\\\n",
       "0 & 0 & 0 & 0 & 0 & 0 & 0 & 0 \\\\\n",
       "1 & 0 & 0 & 0 & 0 & 0 & 1 & 0 \\\\\n",
       "0 & 0 & 0 & 0 & 0 & 0 & 0 & 0 \\\\\n",
       "0 & 0 & 0 & 0 & 0 & 0 & 0 & 0\n",
       "\\end{array}\\right)\\)</html>"
      ],
      "text/latex": [
       "$\\displaystyle \\left(\\begin{array}{rrrrrrrr}\n",
       "1 & 0 & 0 & 0 & 0 & 0 & 1 & 0 \\\\\n",
       "0 & 0 & 0 & 0 & 0 & 0 & 0 & 0 \\\\\n",
       "1 & 0 & 0 & 0 & 0 & 0 & 1 & 0 \\\\\n",
       "1 & 0 & 0 & 0 & 0 & 0 & 1 & 0 \\\\\n",
       "0 & 0 & 0 & 0 & 0 & 0 & 0 & 0 \\\\\n",
       "1 & 0 & 0 & 0 & 0 & 0 & 1 & 0 \\\\\n",
       "0 & 0 & 0 & 0 & 0 & 0 & 0 & 0 \\\\\n",
       "0 & 0 & 0 & 0 & 0 & 0 & 0 & 0\n",
       "\\end{array}\\right)$"
      ],
      "text/plain": [
       "[1 0 0 0 0 0 1 0]\n",
       "[0 0 0 0 0 0 0 0]\n",
       "[1 0 0 0 0 0 1 0]\n",
       "[1 0 0 0 0 0 1 0]\n",
       "[0 0 0 0 0 0 0 0]\n",
       "[1 0 0 0 0 0 1 0]\n",
       "[0 0 0 0 0 0 0 0]\n",
       "[0 0 0 0 0 0 0 0]"
      ]
     },
     "execution_count": 477,
     "metadata": {},
     "output_type": "execute_result"
    }
   ],
   "source": [
    "graph(points2)"
   ]
  },
  {
   "cell_type": "code",
   "execution_count": 173,
   "id": "9fa7c5dc-4c5c-43ea-9867-52d66e0ebd05",
   "metadata": {},
   "outputs": [
    {
     "data": {
      "text/html": [
       "<html>\\(\\displaystyle \\left(\\begin{array}{rrrrrrrr}\n",
       "\\frac{1}{8} & 0 & 0 & 0 & 0 & 0 & \\frac{1}{8} & 0 \\\\\n",
       "0 & 0 & 0 & 0 & 0 & 0 & 0 & 0 \\\\\n",
       "\\frac{1}{8} & 0 & 0 & 0 & 0 & 0 & \\frac{1}{8} & 0 \\\\\n",
       "\\frac{1}{8} & 0 & 0 & 0 & 0 & 0 & \\frac{1}{8} & 0 \\\\\n",
       "0 & 0 & 0 & 0 & 0 & 0 & 0 & 0 \\\\\n",
       "\\frac{1}{8} & 0 & 0 & 0 & 0 & 0 & \\frac{1}{8} & 0 \\\\\n",
       "0 & 0 & 0 & 0 & 0 & 0 & 0 & 0 \\\\\n",
       "0 & 0 & 0 & 0 & 0 & 0 & 0 & 0\n",
       "\\end{array}\\right)\\)</html>"
      ],
      "text/latex": [
       "$\\displaystyle \\left(\\begin{array}{rrrrrrrr}\n",
       "\\frac{1}{8} & 0 & 0 & 0 & 0 & 0 & \\frac{1}{8} & 0 \\\\\n",
       "0 & 0 & 0 & 0 & 0 & 0 & 0 & 0 \\\\\n",
       "\\frac{1}{8} & 0 & 0 & 0 & 0 & 0 & \\frac{1}{8} & 0 \\\\\n",
       "\\frac{1}{8} & 0 & 0 & 0 & 0 & 0 & \\frac{1}{8} & 0 \\\\\n",
       "0 & 0 & 0 & 0 & 0 & 0 & 0 & 0 \\\\\n",
       "\\frac{1}{8} & 0 & 0 & 0 & 0 & 0 & \\frac{1}{8} & 0 \\\\\n",
       "0 & 0 & 0 & 0 & 0 & 0 & 0 & 0 \\\\\n",
       "0 & 0 & 0 & 0 & 0 & 0 & 0 & 0\n",
       "\\end{array}\\right)$"
      ],
      "text/plain": [
       "[1/8   0   0   0   0   0 1/8   0]\n",
       "[  0   0   0   0   0   0   0   0]\n",
       "[1/8   0   0   0   0   0 1/8   0]\n",
       "[1/8   0   0   0   0   0 1/8   0]\n",
       "[  0   0   0   0   0   0   0   0]\n",
       "[1/8   0   0   0   0   0 1/8   0]\n",
       "[  0   0   0   0   0   0   0   0]\n",
       "[  0   0   0   0   0   0   0   0]"
      ]
     },
     "execution_count": 173,
     "metadata": {},
     "output_type": "execute_result"
    }
   ],
   "source": [
    "WignerMatrix(StateFromCurve(points2))"
   ]
  },
  {
   "cell_type": "markdown",
   "id": "188c26d3-32d3-44ab-a878-697154a08e16",
   "metadata": {},
   "source": [
    "Now we test all seven of these curves."
   ]
  },
  {
   "cell_type": "code",
   "execution_count": 359,
   "id": "25a1299a-fd5c-46e2-91a2-f82fc9ba6f63",
   "metadata": {},
   "outputs": [],
   "source": [
    "def ExcCurvesCaseII():\n",
    "    def ExceptionalCurveII(a1, a2):\n",
    "        delta = None\n",
    "        for k in F:\n",
    "            if (k * a1).trace() == 0 and (k * a2).trace() == 0 and k != F(0):\n",
    "                delta = k\n",
    "                break\n",
    "        return [\n",
    "            (F(0), F(0)),\n",
    "            (a1, F(0)),\n",
    "            (a2, F(0)),\n",
    "            (a1 + a2, F(0)),\n",
    "            (a1, delta),\n",
    "            (a2, delta),\n",
    "            (a1 + a2, delta),\n",
    "            (F(0), delta)\n",
    "        ]\n",
    "\n",
    "    curves = []\n",
    "    for a1 in list(F)[1:]:\n",
    "        for a2 in list(F)[1:]:\n",
    "            if a1 != a2:\n",
    "                curves.append(ExceptionalCurveII(a1, a2))\n",
    "    \n",
    "    curves_uniq = []\n",
    "    for curve in curves:\n",
    "        curve.sort()\n",
    "        if curve not in curves_uniq:\n",
    "            curves_uniq.append(curve)\n",
    "\n",
    "    return curves_uniq"
   ]
  },
  {
   "cell_type": "code",
   "execution_count": 360,
   "id": "1dc5c6ba-c77f-49c3-b92c-dc7ba8711631",
   "metadata": {},
   "outputs": [
    {
     "name": "stdout",
     "output_type": "stream",
     "text": [
      "Curve #2 is abelian.\n",
      "Curve #3 is abelian.\n",
      "Curve #5 is abelian.\n"
     ]
    }
   ],
   "source": [
    "curvesII = ExcCurvesCaseII()\n",
    "for j, curve in enumerate(curvesII):\n",
    "    checkAdditivity(curve)\n",
    "    checkIsotropy(curve)\n",
    "    try:\n",
    "        testCurve(curve)\n",
    "        print('Curve #{} is abelian.'.format(j))\n",
    "    except:\n",
    "        continue"
   ]
  },
  {
   "cell_type": "code",
   "execution_count": 511,
   "id": "3e894275-81a2-4248-8779-4b9c8c58447b",
   "metadata": {},
   "outputs": [
    {
     "data": {
      "text/html": [
       "<html>\\(\\displaystyle \\left[\\left(0, 0\\right), \\left(0, x + 1\\right), \\left(x, 0\\right), \\left(x, x + 1\\right), \\left(x^{2} + 1, 0\\right), \\left(x^{2} + 1, x + 1\\right), \\left(x^{2} + x + 1, 0\\right), \\left(x^{2} + x + 1, x + 1\\right)\\right]\\)</html>"
      ],
      "text/latex": [
       "$\\displaystyle \\left[\\left(0, 0\\right), \\left(0, x + 1\\right), \\left(x, 0\\right), \\left(x, x + 1\\right), \\left(x^{2} + 1, 0\\right), \\left(x^{2} + 1, x + 1\\right), \\left(x^{2} + x + 1, 0\\right), \\left(x^{2} + x + 1, x + 1\\right)\\right]$"
      ],
      "text/plain": [
       "[(0, 0),\n",
       " (0, x + 1),\n",
       " (x, 0),\n",
       " (x, x + 1),\n",
       " (x^2 + 1, 0),\n",
       " (x^2 + 1, x + 1),\n",
       " (x^2 + x + 1, 0),\n",
       " (x^2 + x + 1, x + 1)]"
      ]
     },
     "execution_count": 511,
     "metadata": {},
     "output_type": "execute_result"
    }
   ],
   "source": [
    "curvesII[2]"
   ]
  },
  {
   "cell_type": "code",
   "execution_count": 512,
   "id": "015287ec-0e0d-42a3-b361-b86769f648d6",
   "metadata": {},
   "outputs": [
    {
     "data": {
      "text/html": [
       "<html>\\(\\displaystyle \\left[\\left(0, 0\\right), \\left(0, 6\\right), \\left(3, 0\\right), \\left(3, 6\\right), \\left(2, 0\\right), \\left(2, 6\\right), \\left(5, 0\\right), \\left(5, 6\\right)\\right]\\)</html>"
      ],
      "text/latex": [
       "$\\displaystyle \\left[\\left(0, 0\\right), \\left(0, 6\\right), \\left(3, 0\\right), \\left(3, 6\\right), \\left(2, 0\\right), \\left(2, 6\\right), \\left(5, 0\\right), \\left(5, 6\\right)\\right]$"
      ],
      "text/plain": [
       "[(0, 0), (0, 6), (3, 0), (3, 6), (2, 0), (2, 6), (5, 0), (5, 6)]"
      ]
     },
     "execution_count": 512,
     "metadata": {},
     "output_type": "execute_result"
    }
   ],
   "source": [
    "powers(curvesII[3]) # example 5.25"
   ]
  },
  {
   "cell_type": "code",
   "execution_count": 513,
   "id": "e993f685-933f-448a-81e1-8342a7da3673",
   "metadata": {},
   "outputs": [
    {
     "data": {
      "text/html": [
       "<html>\\(\\displaystyle \\mathrm{True}\\)</html>"
      ],
      "text/latex": [
       "$\\displaystyle \\mathrm{True}$"
      ],
      "text/plain": [
       "True"
      ]
     },
     "execution_count": 513,
     "metadata": {},
     "output_type": "execute_result"
    }
   ],
   "source": [
    "testCurve(curvesII[3])"
   ]
  },
  {
   "cell_type": "code",
   "execution_count": 363,
   "id": "8d9ec678-23e1-42f3-a98f-c8226b19bf04",
   "metadata": {},
   "outputs": [
    {
     "data": {
      "text/html": [
       "<html>\\(\\displaystyle \\left[\\left(0, 0\\right), \\left(0, x^{2} + x + 1\\right), \\left(x + 1, 0\\right), \\left(x + 1, x^{2} + x + 1\\right), \\left(x^{2} + 1, 0\\right), \\left(x^{2} + 1, x^{2} + x + 1\\right), \\left(x^{2} + x, 0\\right), \\left(x^{2} + x, x^{2} + x + 1\\right)\\right]\\)</html>"
      ],
      "text/latex": [
       "$\\displaystyle \\left[\\left(0, 0\\right), \\left(0, x^{2} + x + 1\\right), \\left(x + 1, 0\\right), \\left(x + 1, x^{2} + x + 1\\right), \\left(x^{2} + 1, 0\\right), \\left(x^{2} + 1, x^{2} + x + 1\\right), \\left(x^{2} + x, 0\\right), \\left(x^{2} + x, x^{2} + x + 1\\right)\\right]$"
      ],
      "text/plain": [
       "[(0, 0),\n",
       " (0, x^2 + x + 1),\n",
       " (x + 1, 0),\n",
       " (x + 1, x^2 + x + 1),\n",
       " (x^2 + 1, 0),\n",
       " (x^2 + 1, x^2 + x + 1),\n",
       " (x^2 + x, 0),\n",
       " (x^2 + x, x^2 + x + 1)]"
      ]
     },
     "execution_count": 363,
     "metadata": {},
     "output_type": "execute_result"
    }
   ],
   "source": [
    "curvesII[5]"
   ]
  },
  {
   "cell_type": "code",
   "execution_count": 183,
   "id": "6d6ab964-072a-40b0-ac42-62df482fa9d2",
   "metadata": {},
   "outputs": [
    {
     "data": {
      "text/html": [
       "<html>\\(\\displaystyle \\left(\\begin{array}{rrrrrrrr}\n",
       "\\frac{1}{8} & 0 & 0 & \\frac{1}{8} & 0 & 0 & 0 & 0 \\\\\n",
       "\\frac{1}{8} & 0 & 0 & \\frac{1}{8} & 0 & 0 & 0 & 0 \\\\\n",
       "0 & 0 & 0 & 0 & 0 & 0 & 0 & 0 \\\\\n",
       "0 & 0 & 0 & 0 & 0 & 0 & 0 & 0 \\\\\n",
       "0 & 0 & 0 & 0 & 0 & 0 & 0 & 0 \\\\\n",
       "\\frac{1}{8} & 0 & 0 & \\frac{1}{8} & 0 & 0 & 0 & 0 \\\\\n",
       "\\frac{1}{8} & 0 & 0 & \\frac{1}{8} & 0 & 0 & 0 & 0 \\\\\n",
       "0 & 0 & 0 & 0 & 0 & 0 & 0 & 0\n",
       "\\end{array}\\right)\\)</html>"
      ],
      "text/latex": [
       "$\\displaystyle \\left(\\begin{array}{rrrrrrrr}\n",
       "\\frac{1}{8} & 0 & 0 & \\frac{1}{8} & 0 & 0 & 0 & 0 \\\\\n",
       "\\frac{1}{8} & 0 & 0 & \\frac{1}{8} & 0 & 0 & 0 & 0 \\\\\n",
       "0 & 0 & 0 & 0 & 0 & 0 & 0 & 0 \\\\\n",
       "0 & 0 & 0 & 0 & 0 & 0 & 0 & 0 \\\\\n",
       "0 & 0 & 0 & 0 & 0 & 0 & 0 & 0 \\\\\n",
       "\\frac{1}{8} & 0 & 0 & \\frac{1}{8} & 0 & 0 & 0 & 0 \\\\\n",
       "\\frac{1}{8} & 0 & 0 & \\frac{1}{8} & 0 & 0 & 0 & 0 \\\\\n",
       "0 & 0 & 0 & 0 & 0 & 0 & 0 & 0\n",
       "\\end{array}\\right)$"
      ],
      "text/plain": [
       "[1/8   0   0 1/8   0   0   0   0]\n",
       "[1/8   0   0 1/8   0   0   0   0]\n",
       "[  0   0   0   0   0   0   0   0]\n",
       "[  0   0   0   0   0   0   0   0]\n",
       "[  0   0   0   0   0   0   0   0]\n",
       "[1/8   0   0 1/8   0   0   0   0]\n",
       "[1/8   0   0 1/8   0   0   0   0]\n",
       "[  0   0   0   0   0   0   0   0]"
      ]
     },
     "execution_count": 183,
     "metadata": {},
     "output_type": "execute_result"
    }
   ],
   "source": [
    "WignerMatrix(StateFromCurve(curvesII[2]))"
   ]
  },
  {
   "cell_type": "code",
   "execution_count": 184,
   "id": "9690fca8-8db6-421e-ad50-3494cc115f1a",
   "metadata": {},
   "outputs": [
    {
     "data": {
      "text/html": [
       "<html>\\(\\displaystyle \\left(\\begin{array}{rrrrrrrr}\n",
       "\\frac{1}{8} & 0 & 0 & 0 & 0 & \\frac{1}{8} & 0 & 0 \\\\\n",
       "0 & 0 & 0 & 0 & 0 & 0 & 0 & 0 \\\\\n",
       "0 & 0 & 0 & 0 & 0 & 0 & 0 & 0 \\\\\n",
       "\\frac{1}{8} & 0 & 0 & 0 & 0 & \\frac{1}{8} & 0 & 0 \\\\\n",
       "\\frac{1}{8} & 0 & 0 & 0 & 0 & \\frac{1}{8} & 0 & 0 \\\\\n",
       "0 & 0 & 0 & 0 & 0 & 0 & 0 & 0 \\\\\n",
       "\\frac{1}{8} & 0 & 0 & 0 & 0 & \\frac{1}{8} & 0 & 0 \\\\\n",
       "0 & 0 & 0 & 0 & 0 & 0 & 0 & 0\n",
       "\\end{array}\\right)\\)</html>"
      ],
      "text/latex": [
       "$\\displaystyle \\left(\\begin{array}{rrrrrrrr}\n",
       "\\frac{1}{8} & 0 & 0 & 0 & 0 & \\frac{1}{8} & 0 & 0 \\\\\n",
       "0 & 0 & 0 & 0 & 0 & 0 & 0 & 0 \\\\\n",
       "0 & 0 & 0 & 0 & 0 & 0 & 0 & 0 \\\\\n",
       "\\frac{1}{8} & 0 & 0 & 0 & 0 & \\frac{1}{8} & 0 & 0 \\\\\n",
       "\\frac{1}{8} & 0 & 0 & 0 & 0 & \\frac{1}{8} & 0 & 0 \\\\\n",
       "0 & 0 & 0 & 0 & 0 & 0 & 0 & 0 \\\\\n",
       "\\frac{1}{8} & 0 & 0 & 0 & 0 & \\frac{1}{8} & 0 & 0 \\\\\n",
       "0 & 0 & 0 & 0 & 0 & 0 & 0 & 0\n",
       "\\end{array}\\right)$"
      ],
      "text/plain": [
       "[1/8   0   0   0   0 1/8   0   0]\n",
       "[  0   0   0   0   0   0   0   0]\n",
       "[  0   0   0   0   0   0   0   0]\n",
       "[1/8   0   0   0   0 1/8   0   0]\n",
       "[1/8   0   0   0   0 1/8   0   0]\n",
       "[  0   0   0   0   0   0   0   0]\n",
       "[1/8   0   0   0   0 1/8   0   0]\n",
       "[  0   0   0   0   0   0   0   0]"
      ]
     },
     "execution_count": 184,
     "metadata": {},
     "output_type": "execute_result"
    }
   ],
   "source": [
    "WignerMatrix(StateFromCurve(curvesII[5]))"
   ]
  },
  {
   "cell_type": "markdown",
   "id": "63989730-b2cf-461e-b99b-c82714e87a17",
   "metadata": {},
   "source": [
    "---\n",
    "Getting the curves from the $(0,9,0)$ factorization using the equation and the structural equations."
   ]
  },
  {
   "cell_type": "code",
   "execution_count": 365,
   "id": "bdea395a-2df0-49b7-a9a4-b4043befccd7",
   "metadata": {},
   "outputs": [
    {
     "data": {
      "text/html": [
       "<html>\\(\\displaystyle \\left[\\left(0, 0\\right), \\left(0, x^{2} + x + 1\\right), \\left(x + 1, x^{2} + x\\right), \\left(x + 1, 1\\right), \\left(x^{2} + x, 0\\right), \\left(x^{2} + x, x^{2} + x + 1\\right), \\left(x^{2} + 1, x^{2} + x\\right), \\left(x^{2} + 1, 1\\right)\\right]\\)</html>"
      ],
      "text/latex": [
       "$\\displaystyle \\left[\\left(0, 0\\right), \\left(0, x^{2} + x + 1\\right), \\left(x + 1, x^{2} + x\\right), \\left(x + 1, 1\\right), \\left(x^{2} + x, 0\\right), \\left(x^{2} + x, x^{2} + x + 1\\right), \\left(x^{2} + 1, x^{2} + x\\right), \\left(x^{2} + 1, 1\\right)\\right]$"
      ],
      "text/plain": [
       "[(0, 0),\n",
       " (0, x^2 + x + 1),\n",
       " (x + 1, x^2 + x),\n",
       " (x + 1, 1),\n",
       " (x^2 + x, 0),\n",
       " (x^2 + x, x^2 + x + 1),\n",
       " (x^2 + 1, x^2 + x),\n",
       " (x^2 + 1, 1)]"
      ]
     },
     "execution_count": 365,
     "metadata": {},
     "output_type": "execute_result"
    }
   ],
   "source": [
    "pts = []\n",
    "for a in F:\n",
    "    for b in F:\n",
    "        if b^2 + x^5 * b == x^2 * a^2 + x^6 * a:\n",
    "            if (x^4 * b).trace() == 0:\n",
    "                if (x^5 * a).trace() == 0:\n",
    "                    pts.append((a, b))\n",
    "pts"
   ]
  },
  {
   "cell_type": "code",
   "execution_count": 366,
   "id": "8b6bfa2f-fb23-44f3-a748-c7d46f071822",
   "metadata": {},
   "outputs": [],
   "source": [
    "for pt in pts:\n",
    "    if pt not in points:\n",
    "        raise Exception"
   ]
  },
  {
   "cell_type": "code",
   "execution_count": 367,
   "id": "276a31fe-9903-4c59-a078-f32efab30ae7",
   "metadata": {},
   "outputs": [
    {
     "data": {
      "text/html": [
       "<html>\\(\\displaystyle \\left[\\left(0, 0\\right), \\left(0, x^{2}\\right), \\left(x^{2}, x + 1\\right), \\left(x^{2}, x^{2} + x + 1\\right), \\left(x^{2} + 1, 0\\right), \\left(x^{2} + 1, x^{2}\\right), \\left(1, x + 1\\right), \\left(1, x^{2} + x + 1\\right)\\right]\\)</html>"
      ],
      "text/latex": [
       "$\\displaystyle \\left[\\left(0, 0\\right), \\left(0, x^{2}\\right), \\left(x^{2}, x + 1\\right), \\left(x^{2}, x^{2} + x + 1\\right), \\left(x^{2} + 1, 0\\right), \\left(x^{2} + 1, x^{2}\\right), \\left(1, x + 1\\right), \\left(1, x^{2} + x + 1\\right)\\right]$"
      ],
      "text/plain": [
       "[(0, 0),\n",
       " (0, x^2),\n",
       " (x^2, x + 1),\n",
       " (x^2, x^2 + x + 1),\n",
       " (x^2 + 1, 0),\n",
       " (x^2 + 1, x^2),\n",
       " (1, x + 1),\n",
       " (1, x^2 + x + 1)]"
      ]
     },
     "execution_count": 367,
     "metadata": {},
     "output_type": "execute_result"
    }
   ],
   "source": [
    "pts = []\n",
    "for a in F:\n",
    "    for b in F:\n",
    "        if b^2 + x^2 * b == x^6 * a^2 + x^5 * a:\n",
    "            if (x^6 * b).trace() == 0:\n",
    "                if (x^2 * a).trace() == 0:\n",
    "                    pts.append((a,b))\n",
    "pts"
   ]
  },
  {
   "cell_type": "code",
   "execution_count": 204,
   "id": "8e65b17e-2b67-4076-a617-b70dd456c970",
   "metadata": {
    "collapsed": true,
    "jupyter": {
     "outputs_hidden": true
    }
   },
   "outputs": [
    {
     "name": "stdout",
     "output_type": "stream",
     "text": [
      "0 \t [(0, 0), (0, 1), (x, 0), (x, 1), (x^2, x), (x^2, x + 1), (x^2 + x, x), (x^2 + x, x + 1)]\n",
      "1 \t [(0, 0), (0, x), (1, 1), (1, x + 1), (x, 0), (x, x), (x + 1, 1), (x + 1, x + 1)]\n",
      "2 \t [(0, 0), (0, x + 1), (x, 0), (x, x + 1), (x^2 + 1, 1), (x^2 + 1, x), (x^2 + x + 1, 1), (x^2 + x + 1, x)]\n",
      "3 \t [(0, 0), (0, 1), (x, x^2), (x, x^2 + 1), (x^2, 0), (x^2, 1), (x^2 + x, x^2), (x^2 + x, x^2 + 1)]\n",
      "4 \t [(0, 0), (0, x^2 + 1), (x + 1, 1), (x + 1, x^2), (x^2, 0), (x^2, x^2 + 1), (x^2 + x + 1, 1), (x^2 + x + 1, x^2)]\n",
      "5 \t [(0, 0), (0, x^2), (1, 1), (1, x^2 + 1), (x^2, 0), (x^2, x^2), (x^2 + 1, 1), (x^2 + 1, x^2 + 1)]\n",
      "6 \t [(0, 0), (0, x), (1, x^2 + 1), (1, x^2 + x + 1), (x, x^2 + 1), (x, x^2 + x + 1), (x + 1, 0), (x + 1, x)]\n",
      "7 \t [(0, 0), (0, x^2 + 1), (x + 1, 0), (x + 1, x^2 + 1), (x^2, x), (x^2, x^2 + x + 1), (x^2 + x + 1, x), (x^2 + x + 1, x^2 + x + 1)]\n",
      "8 \t [(0, 0), (0, x^2 + x + 1), (x + 1, 0), (x + 1, x^2 + x + 1), (x^2 + 1, x), (x^2 + 1, x^2 + 1), (x^2 + x, x), (x^2 + x, x^2 + 1)]\n",
      "9 \t [(0, 0), (0, 1), (x, x^2 + x), (x, x^2 + x + 1), (x^2, x^2 + x), (x^2, x^2 + x + 1), (x^2 + x, 0), (x^2 + x, 1)]\n",
      "10 \t [(0, 0), (0, x^2 + x + 1), (x + 1, 1), (x + 1, x^2 + x), (x^2 + 1, 1), (x^2 + 1, x^2 + x), (x^2 + x, 0), (x^2 + x, x^2 + x + 1)]\n",
      "11 \t [(0, 0), (0, x^2 + x), (1, 1), (1, x^2 + x + 1), (x^2 + x, 0), (x^2 + x, x^2 + x), (x^2 + x + 1, 1), (x^2 + x + 1, x^2 + x + 1)]\n",
      "12 \t [(0, 0), (0, x + 1), (x, x^2 + 1), (x, x^2 + x), (x^2 + 1, x^2 + 1), (x^2 + 1, x^2 + x), (x^2 + x + 1, 0), (x^2 + x + 1, x + 1)]\n",
      "13 \t [(0, 0), (0, x^2 + 1), (x + 1, x + 1), (x + 1, x^2 + x), (x^2, x + 1), (x^2, x^2 + x), (x^2 + x + 1, 0), (x^2 + x + 1, x^2 + 1)]\n",
      "14 \t [(0, 0), (0, x^2 + x), (1, x + 1), (1, x^2 + 1), (x^2 + x, x + 1), (x^2 + x, x^2 + 1), (x^2 + x + 1, 0), (x^2 + x + 1, x^2 + x)]\n",
      "15 \t [(0, 0), (0, x + 1), (x, x^2), (x, x^2 + x + 1), (x^2 + 1, 0), (x^2 + 1, x + 1), (x^2 + x + 1, x^2), (x^2 + x + 1, x^2 + x + 1)]\n",
      "16 \t [(0, 0), (0, x^2), (1, x + 1), (1, x^2 + x + 1), (x^2, x + 1), (x^2, x^2 + x + 1), (x^2 + 1, 0), (x^2 + 1, x^2)]\n",
      "17 \t [(0, 0), (0, x^2 + x + 1), (x + 1, x + 1), (x + 1, x^2), (x^2 + 1, 0), (x^2 + 1, x^2 + x + 1), (x^2 + x, x + 1), (x^2 + x, x^2)]\n",
      "18 \t [(0, 0), (0, x), (1, 0), (1, x), (x, x^2), (x, x^2 + x), (x + 1, x^2), (x + 1, x^2 + x)]\n",
      "19 \t [(0, 0), (0, x^2), (1, 0), (1, x^2), (x^2, x), (x^2, x^2 + x), (x^2 + 1, x), (x^2 + 1, x^2 + x)]\n",
      "20 \t [(0, 0), (0, x^2 + x), (1, 0), (1, x^2 + x), (x^2 + x, x), (x^2 + x, x^2), (x^2 + x + 1, x), (x^2 + x + 1, x^2)]\n"
     ]
    }
   ],
   "source": [
    "for j, curve in enumerate(curves):\n",
    "    print(j, '\\t', curve)"
   ]
  },
  {
   "cell_type": "code",
   "execution_count": 368,
   "id": "9df71b5a-c624-475d-90b3-7d116235a41b",
   "metadata": {},
   "outputs": [
    {
     "data": {
      "text/html": [
       "<html>\\(\\displaystyle \\left[\\left(0, 0\\right), \\left(0, x^{2}\\right), \\left(1, x + 1\\right), \\left(1, x^{2} + x + 1\\right), \\left(x^{2}, x + 1\\right), \\left(x^{2}, x^{2} + x + 1\\right), \\left(x^{2} + 1, 0\\right), \\left(x^{2} + 1, x^{2}\\right)\\right]\\)</html>"
      ],
      "text/latex": [
       "$\\displaystyle \\left[\\left(0, 0\\right), \\left(0, x^{2}\\right), \\left(1, x + 1\\right), \\left(1, x^{2} + x + 1\\right), \\left(x^{2}, x + 1\\right), \\left(x^{2}, x^{2} + x + 1\\right), \\left(x^{2} + 1, 0\\right), \\left(x^{2} + 1, x^{2}\\right)\\right]$"
      ],
      "text/plain": [
       "[(0, 0),\n",
       " (0, x^2),\n",
       " (1, x + 1),\n",
       " (1, x^2 + x + 1),\n",
       " (x^2, x + 1),\n",
       " (x^2, x^2 + x + 1),\n",
       " (x^2 + 1, 0),\n",
       " (x^2 + 1, x^2)]"
      ]
     },
     "execution_count": 368,
     "metadata": {},
     "output_type": "execute_result"
    }
   ],
   "source": [
    "curves[16]"
   ]
  },
  {
   "cell_type": "code",
   "execution_count": 369,
   "id": "2d4b49d9-b457-4996-94d5-ef84fa7cd5cd",
   "metadata": {},
   "outputs": [
    {
     "data": {
      "text/html": [
       "<html>\\(\\displaystyle \\mathrm{True}\\)</html>"
      ],
      "text/latex": [
       "$\\displaystyle \\mathrm{True}$"
      ],
      "text/plain": [
       "True"
      ]
     },
     "execution_count": 369,
     "metadata": {},
     "output_type": "execute_result"
    }
   ],
   "source": [
    "testCurve(curves[16])"
   ]
  },
  {
   "cell_type": "code",
   "execution_count": 370,
   "id": "f1f885e7-a6de-4a8d-ac18-1aa0c4b5ee20",
   "metadata": {},
   "outputs": [
    {
     "data": {
      "text/html": [
       "<html>\\(\\displaystyle \\left(\\begin{array}{rrrrrrrr}\n",
       "\\frac{1}{4} & 0 & \\frac{1}{4} & \\frac{1}{4} i & 0 & \\frac{1}{4} i & 0 & 0 \\\\\n",
       "0 & 0 & 0 & 0 & 0 & 0 & 0 & 0 \\\\\n",
       "\\frac{1}{4} & 0 & \\frac{1}{4} & \\frac{1}{4} i & 0 & \\frac{1}{4} i & 0 & 0 \\\\\n",
       "-\\frac{1}{4} i & 0 & -\\frac{1}{4} i & \\frac{1}{4} & 0 & \\frac{1}{4} & 0 & 0 \\\\\n",
       "0 & 0 & 0 & 0 & 0 & 0 & 0 & 0 \\\\\n",
       "-\\frac{1}{4} i & 0 & -\\frac{1}{4} i & \\frac{1}{4} & 0 & \\frac{1}{4} & 0 & 0 \\\\\n",
       "0 & 0 & 0 & 0 & 0 & 0 & 0 & 0 \\\\\n",
       "0 & 0 & 0 & 0 & 0 & 0 & 0 & 0\n",
       "\\end{array}\\right)\\)</html>"
      ],
      "text/latex": [
       "$\\displaystyle \\left(\\begin{array}{rrrrrrrr}\n",
       "\\frac{1}{4} & 0 & \\frac{1}{4} & \\frac{1}{4} i & 0 & \\frac{1}{4} i & 0 & 0 \\\\\n",
       "0 & 0 & 0 & 0 & 0 & 0 & 0 & 0 \\\\\n",
       "\\frac{1}{4} & 0 & \\frac{1}{4} & \\frac{1}{4} i & 0 & \\frac{1}{4} i & 0 & 0 \\\\\n",
       "-\\frac{1}{4} i & 0 & -\\frac{1}{4} i & \\frac{1}{4} & 0 & \\frac{1}{4} & 0 & 0 \\\\\n",
       "0 & 0 & 0 & 0 & 0 & 0 & 0 & 0 \\\\\n",
       "-\\frac{1}{4} i & 0 & -\\frac{1}{4} i & \\frac{1}{4} & 0 & \\frac{1}{4} & 0 & 0 \\\\\n",
       "0 & 0 & 0 & 0 & 0 & 0 & 0 & 0 \\\\\n",
       "0 & 0 & 0 & 0 & 0 & 0 & 0 & 0\n",
       "\\end{array}\\right)$"
      ],
      "text/plain": [
       "[   1/4      0    1/4  1/4*I      0  1/4*I      0      0]\n",
       "[     0      0      0      0      0      0      0      0]\n",
       "[   1/4      0    1/4  1/4*I      0  1/4*I      0      0]\n",
       "[-1/4*I      0 -1/4*I    1/4      0    1/4      0      0]\n",
       "[     0      0      0      0      0      0      0      0]\n",
       "[-1/4*I      0 -1/4*I    1/4      0    1/4      0      0]\n",
       "[     0      0      0      0      0      0      0      0]\n",
       "[     0      0      0      0      0      0      0      0]"
      ]
     },
     "execution_count": 370,
     "metadata": {},
     "output_type": "execute_result"
    }
   ],
   "source": [
    "state = StateFromCurve(curves[16])\n",
    "state"
   ]
  },
  {
   "cell_type": "code",
   "execution_count": 371,
   "id": "ba9160a2-7d6f-4b0e-b1b3-4e2eca4adf54",
   "metadata": {},
   "outputs": [],
   "source": [
    "k = x\n",
    "state_k = X(k) * state * X(k).conjugate_transpose()"
   ]
  },
  {
   "cell_type": "code",
   "execution_count": 219,
   "id": "f0e50761-c37f-4295-acf7-e323efd638ba",
   "metadata": {},
   "outputs": [
    {
     "data": {
      "text/html": [
       "<html>\\(\\displaystyle \\left(\\begin{array}{rrrrrrrr}\n",
       "0 & \\frac{1}{8} & 0 & 0 & \\frac{1}{8} & 0 & 0 & 0 \\\\\n",
       "0 & 0 & 0 & 0 & 0 & 0 & 0 & 0 \\\\\n",
       "0 & 0 & 0 & 0 & 0 & 0 & \\frac{1}{8} & \\frac{1}{8} \\\\\n",
       "0 & 0 & 0 & 0 & 0 & 0 & 0 & 0 \\\\\n",
       "0 & 0 & 0 & 0 & 0 & 0 & 0 & 0 \\\\\n",
       "0 & 0 & 0 & 0 & 0 & 0 & 0 & 0 \\\\\n",
       "0 & \\frac{1}{8} & 0 & 0 & \\frac{1}{8} & 0 & 0 & 0 \\\\\n",
       "0 & 0 & 0 & 0 & 0 & 0 & \\frac{1}{8} & \\frac{1}{8}\n",
       "\\end{array}\\right)\\)</html>"
      ],
      "text/latex": [
       "$\\displaystyle \\left(\\begin{array}{rrrrrrrr}\n",
       "0 & \\frac{1}{8} & 0 & 0 & \\frac{1}{8} & 0 & 0 & 0 \\\\\n",
       "0 & 0 & 0 & 0 & 0 & 0 & 0 & 0 \\\\\n",
       "0 & 0 & 0 & 0 & 0 & 0 & \\frac{1}{8} & \\frac{1}{8} \\\\\n",
       "0 & 0 & 0 & 0 & 0 & 0 & 0 & 0 \\\\\n",
       "0 & 0 & 0 & 0 & 0 & 0 & 0 & 0 \\\\\n",
       "0 & 0 & 0 & 0 & 0 & 0 & 0 & 0 \\\\\n",
       "0 & \\frac{1}{8} & 0 & 0 & \\frac{1}{8} & 0 & 0 & 0 \\\\\n",
       "0 & 0 & 0 & 0 & 0 & 0 & \\frac{1}{8} & \\frac{1}{8}\n",
       "\\end{array}\\right)$"
      ],
      "text/plain": [
       "[  0 1/8   0   0 1/8   0   0   0]\n",
       "[  0   0   0   0   0   0   0   0]\n",
       "[  0   0   0   0   0   0 1/8 1/8]\n",
       "[  0   0   0   0   0   0   0   0]\n",
       "[  0   0   0   0   0   0   0   0]\n",
       "[  0   0   0   0   0   0   0   0]\n",
       "[  0 1/8   0   0 1/8   0   0   0]\n",
       "[  0   0   0   0   0   0 1/8 1/8]"
      ]
     },
     "execution_count": 219,
     "metadata": {},
     "output_type": "execute_result"
    }
   ],
   "source": [
    "WignerMatrix(state_k)"
   ]
  },
  {
   "cell_type": "code",
   "execution_count": 372,
   "id": "ecbe8dbd-838a-40ac-81ff-95d99c2e2b24",
   "metadata": {},
   "outputs": [],
   "source": [
    "# checking if we have valid eigenvectors\n",
    "state = StateFromCurve(curves[16])\n",
    "for pt in curves[16]:\n",
    "    dop = D(*pt)\n",
    "    for k in F:\n",
    "        trans_state = X(k) * state * X(k).conjugate_transpose()\n",
    "        if dop * trans_state * dop.conjugate_transpose() != trans_state:\n",
    "            raise Exception"
   ]
  },
  {
   "cell_type": "markdown",
   "id": "07db4578-103b-40f5-ada4-73a32c995fae",
   "metadata": {},
   "source": [
    "---\n",
    "BUNDLES"
   ]
  },
  {
   "cell_type": "code",
   "execution_count": 373,
   "id": "7089b0c9-8e7e-47c8-937a-b92130f9ffc5",
   "metadata": {},
   "outputs": [],
   "source": [
    "def testCurveSet(curves):\n",
    "    for j, curve in enumerate(curves):\n",
    "        print('Testing curve #{}...'.format(j))\n",
    "        try:\n",
    "            testCurve(curve)\n",
    "            print('ABELIAN.')\n",
    "        except:\n",
    "            continue"
   ]
  },
  {
   "cell_type": "markdown",
   "id": "2c6f5ff7-0d6e-4b76-8269-c016a8fd57cf",
   "metadata": {},
   "source": [
    "First we test the $(3,0,6)$ type bundles."
   ]
  },
  {
   "cell_type": "code",
   "execution_count": 423,
   "id": "f44a77ae-ad05-4c9d-8f05-db20e5512b7d",
   "metadata": {},
   "outputs": [],
   "source": [
    "# other 306 bundles that can be obtained from the rays\n",
    "# by location transformations\n",
    "curves306 = [[(F(0),k) for k in F]]\n",
    "fi = x # 0, x, x^2 and x^4\n",
    "for phi0 in F:\n",
    "    curves306.append([\n",
    "        (k, phi0 * k + fi^2 * k^2 + fi * k^4) for k in F\n",
    "    ])"
   ]
  },
  {
   "cell_type": "code",
   "execution_count": 488,
   "id": "cd4ffa80-fc99-4866-bbb9-fa157db0f1d4",
   "metadata": {},
   "outputs": [
    {
     "data": {
      "text/html": [
       "<html>\\(\\displaystyle \\mathrm{True}\\)</html>"
      ],
      "text/latex": [
       "$\\displaystyle \\mathrm{True}$"
      ],
      "text/plain": [
       "True"
      ]
     },
     "execution_count": 488,
     "metadata": {},
     "output_type": "execute_result"
    }
   ],
   "source": [
    "testCurve(curves306[2])"
   ]
  },
  {
   "cell_type": "code",
   "execution_count": 492,
   "id": "58071555-96b8-4512-b21e-551d0c0a6f2b",
   "metadata": {},
   "outputs": [
    {
     "name": "stdout",
     "output_type": "stream",
     "text": [
      "1\n",
      "I\n",
      "-I\n",
      "I\n",
      "1\n",
      "1\n",
      "I\n",
      "-1\n"
     ]
    }
   ],
   "source": [
    "for p in curves306[2]:\n",
    "    print(ps[toInt(p[0]), toInt(p[1])])"
   ]
  },
  {
   "cell_type": "code",
   "execution_count": 424,
   "id": "45bf1c27-fdf2-4fcd-b91f-3458a05a0e89",
   "metadata": {},
   "outputs": [],
   "source": [
    "for curve in curves306:\n",
    "    checkAdditivity(curve)\n",
    "    checkIsotropy(curve)"
   ]
  },
  {
   "cell_type": "code",
   "execution_count": 425,
   "id": "ace496ce-8d92-4de2-b4d2-e1fe68be9087",
   "metadata": {},
   "outputs": [
    {
     "name": "stdout",
     "output_type": "stream",
     "text": [
      "Testing curve #0...\n",
      "ABELIAN.\n",
      "Testing curve #1...\n",
      "Testing curve #2...\n",
      "ABELIAN.\n",
      "Testing curve #3...\n",
      "ABELIAN.\n",
      "Testing curve #4...\n",
      "ABELIAN.\n",
      "Testing curve #5...\n",
      "Testing curve #6...\n",
      "Testing curve #7...\n",
      "ABELIAN.\n",
      "Testing curve #8...\n"
     ]
    }
   ],
   "source": [
    "testCurveSet(curves306)"
   ]
  },
  {
   "cell_type": "code",
   "execution_count": 431,
   "id": "bf0bf1b4-c211-40e4-8d86-86ae66bba7ba",
   "metadata": {},
   "outputs": [],
   "source": [
    "def powers(pts):\n",
    "    return [(toInt(p[0]), toInt(p[1])) for p in pts]"
   ]
  },
  {
   "cell_type": "code",
   "execution_count": 440,
   "id": "31358dcc-1862-4f68-942f-28c249b0a4ed",
   "metadata": {},
   "outputs": [
    {
     "data": {
      "text/html": [
       "<html>\\(\\displaystyle \\left[\\left(0, 0\\right), \\left(1, 0\\right), \\left(2, 3\\right), \\left(3, 3\\right), \\left(4, 3\\right), \\left(5, 0\\right), \\left(6, 0\\right), \\left(7, 3\\right)\\right]\\)</html>"
      ],
      "text/latex": [
       "$\\displaystyle \\left[\\left(0, 0\\right), \\left(1, 0\\right), \\left(2, 3\\right), \\left(3, 3\\right), \\left(4, 3\\right), \\left(5, 0\\right), \\left(6, 0\\right), \\left(7, 3\\right)\\right]$"
      ],
      "text/plain": [
       "[(0, 0), (1, 0), (2, 3), (3, 3), (4, 3), (5, 0), (6, 0), (7, 3)]"
      ]
     },
     "execution_count": 440,
     "metadata": {},
     "output_type": "execute_result"
    }
   ],
   "source": [
    "powers(curves306[7])"
   ]
  },
  {
   "cell_type": "code",
   "execution_count": 441,
   "id": "b42a891d-f6e9-4d52-8cf3-842a563fca32",
   "metadata": {},
   "outputs": [
    {
     "data": {
      "text/html": [
       "<html>\\(\\displaystyle \\left[\\left(0, 0\\right), \\left(x, 0\\right), \\left(x^{2}, x + 1\\right), \\left(x + 1, x + 1\\right), \\left(x^{2} + x, x + 1\\right), \\left(x^{2} + x + 1, 0\\right), \\left(x^{2} + 1, 0\\right), \\left(1, x + 1\\right)\\right]\\)</html>"
      ],
      "text/latex": [
       "$\\displaystyle \\left[\\left(0, 0\\right), \\left(x, 0\\right), \\left(x^{2}, x + 1\\right), \\left(x + 1, x + 1\\right), \\left(x^{2} + x, x + 1\\right), \\left(x^{2} + x + 1, 0\\right), \\left(x^{2} + 1, 0\\right), \\left(1, x + 1\\right)\\right]$"
      ],
      "text/plain": [
       "[(0, 0),\n",
       " (x, 0),\n",
       " (x^2, x + 1),\n",
       " (x + 1, x + 1),\n",
       " (x^2 + x, x + 1),\n",
       " (x^2 + x + 1, 0),\n",
       " (x^2 + 1, 0),\n",
       " (1, x + 1)]"
      ]
     },
     "execution_count": 441,
     "metadata": {},
     "output_type": "execute_result"
    }
   ],
   "source": [
    "curves306[7]"
   ]
  },
  {
   "cell_type": "code",
   "execution_count": 439,
   "id": "3e97b729-ec28-4ff1-ad99-236cbd589417",
   "metadata": {},
   "outputs": [
    {
     "data": {
      "text/html": [
       "<html>\\(\\displaystyle \\left(\\begin{array}{rrrrrrrr}\n",
       "1 & 0 & 0 & 0 & 0 & 0 & 0 & 0 \\\\\n",
       "1 & 0 & 0 & 0 & 0 & 0 & 0 & 0 \\\\\n",
       "0 & 0 & 0 & 1 & 0 & 0 & 0 & 0 \\\\\n",
       "0 & 0 & 0 & 1 & 0 & 0 & 0 & 0 \\\\\n",
       "0 & 0 & 0 & 1 & 0 & 0 & 0 & 0 \\\\\n",
       "1 & 0 & 0 & 0 & 0 & 0 & 0 & 0 \\\\\n",
       "1 & 0 & 0 & 0 & 0 & 0 & 0 & 0 \\\\\n",
       "0 & 0 & 0 & 1 & 0 & 0 & 0 & 0\n",
       "\\end{array}\\right)\\)</html>"
      ],
      "text/latex": [
       "$\\displaystyle \\left(\\begin{array}{rrrrrrrr}\n",
       "1 & 0 & 0 & 0 & 0 & 0 & 0 & 0 \\\\\n",
       "1 & 0 & 0 & 0 & 0 & 0 & 0 & 0 \\\\\n",
       "0 & 0 & 0 & 1 & 0 & 0 & 0 & 0 \\\\\n",
       "0 & 0 & 0 & 1 & 0 & 0 & 0 & 0 \\\\\n",
       "0 & 0 & 0 & 1 & 0 & 0 & 0 & 0 \\\\\n",
       "1 & 0 & 0 & 0 & 0 & 0 & 0 & 0 \\\\\n",
       "1 & 0 & 0 & 0 & 0 & 0 & 0 & 0 \\\\\n",
       "0 & 0 & 0 & 1 & 0 & 0 & 0 & 0\n",
       "\\end{array}\\right)$"
      ],
      "text/plain": [
       "[1 0 0 0 0 0 0 0]\n",
       "[1 0 0 0 0 0 0 0]\n",
       "[0 0 0 1 0 0 0 0]\n",
       "[0 0 0 1 0 0 0 0]\n",
       "[0 0 0 1 0 0 0 0]\n",
       "[1 0 0 0 0 0 0 0]\n",
       "[1 0 0 0 0 0 0 0]\n",
       "[0 0 0 1 0 0 0 0]"
      ]
     },
     "execution_count": 439,
     "metadata": {},
     "output_type": "execute_result"
    }
   ],
   "source": [
    "graph(curves306[7])"
   ]
  },
  {
   "cell_type": "code",
   "execution_count": 398,
   "id": "dbd40a57-10cc-4d52-8068-217ba59f9752",
   "metadata": {},
   "outputs": [
    {
     "data": {
      "text/html": [
       "<html>\\(\\displaystyle \\mathrm{True}\\)</html>"
      ],
      "text/latex": [
       "$\\displaystyle \\mathrm{True}$"
      ],
      "text/plain": [
       "True"
      ]
     },
     "execution_count": 398,
     "metadata": {},
     "output_type": "execute_result"
    }
   ],
   "source": [
    "state = StateFromCurve(curves306[3])\n",
    "checkState(state)"
   ]
  },
  {
   "cell_type": "code",
   "execution_count": 378,
   "id": "4237c53c-fa6d-40d4-99f9-8ac3866bbaea",
   "metadata": {},
   "outputs": [
    {
     "data": {
      "text/html": [
       "<html>\\(\\displaystyle \\left(\\begin{array}{rrrrrrrr}\n",
       "\\frac{1}{8} & 0 & 0 & 0 & 0 & 0 & 0 & 0 \\\\\n",
       "0 & 0 & 0 & 0 & 0 & 0 & \\frac{1}{8} & 0 \\\\\n",
       "0 & \\frac{1}{8} & 0 & 0 & 0 & 0 & 0 & 0 \\\\\n",
       "0 & 0 & 0 & 0 & 0 & 0 & 0 & \\frac{1}{8} \\\\\n",
       "0 & 0 & 0 & 0 & 0 & \\frac{1}{8} & 0 & 0 \\\\\n",
       "0 & 0 & 0 & \\frac{1}{8} & 0 & 0 & 0 & 0 \\\\\n",
       "0 & 0 & 0 & 0 & \\frac{1}{8} & 0 & 0 & 0 \\\\\n",
       "0 & 0 & \\frac{1}{8} & 0 & 0 & 0 & 0 & 0\n",
       "\\end{array}\\right)\\)</html>"
      ],
      "text/latex": [
       "$\\displaystyle \\left(\\begin{array}{rrrrrrrr}\n",
       "\\frac{1}{8} & 0 & 0 & 0 & 0 & 0 & 0 & 0 \\\\\n",
       "0 & 0 & 0 & 0 & 0 & 0 & \\frac{1}{8} & 0 \\\\\n",
       "0 & \\frac{1}{8} & 0 & 0 & 0 & 0 & 0 & 0 \\\\\n",
       "0 & 0 & 0 & 0 & 0 & 0 & 0 & \\frac{1}{8} \\\\\n",
       "0 & 0 & 0 & 0 & 0 & \\frac{1}{8} & 0 & 0 \\\\\n",
       "0 & 0 & 0 & \\frac{1}{8} & 0 & 0 & 0 & 0 \\\\\n",
       "0 & 0 & 0 & 0 & \\frac{1}{8} & 0 & 0 & 0 \\\\\n",
       "0 & 0 & \\frac{1}{8} & 0 & 0 & 0 & 0 & 0\n",
       "\\end{array}\\right)$"
      ],
      "text/plain": [
       "[1/8   0   0   0   0   0   0   0]\n",
       "[  0   0   0   0   0   0 1/8   0]\n",
       "[  0 1/8   0   0   0   0   0   0]\n",
       "[  0   0   0   0   0   0   0 1/8]\n",
       "[  0   0   0   0   0 1/8   0   0]\n",
       "[  0   0   0 1/8   0   0   0   0]\n",
       "[  0   0   0   0 1/8   0   0   0]\n",
       "[  0   0 1/8   0   0   0   0   0]"
      ]
     },
     "execution_count": 378,
     "metadata": {},
     "output_type": "execute_result"
    }
   ],
   "source": [
    "WignerMatrix(state)"
   ]
  },
  {
   "cell_type": "markdown",
   "id": "6d206ef0-a9c5-4686-a61d-6fd8da4ad9db",
   "metadata": {},
   "source": [
    "So for some $(3,0,6)$ type sets we do actually obtain some abelian curves."
   ]
  },
  {
   "cell_type": "code",
   "execution_count": 397,
   "id": "b7552b94-25c8-4539-83b0-9c9e05fe2505",
   "metadata": {},
   "outputs": [
    {
     "data": {
      "text/html": [
       "<html>\\(\\displaystyle \\left(\\begin{array}{rrrrrrrr}\n",
       "8 & 0 & 0 & 0 & 0 & 0 & 0 & 0 \\\\\n",
       "7 & 3 & 6 & 8 & 5 & 4 & 2 & 1 \\\\\n",
       "6 & 2 & 5 & 7 & 4 & 3 & 8 & 1 \\\\\n",
       "3 & 4 & 8 & 7 & 5 & 1 & 6 & 2 \\\\\n",
       "1 & 5 & 6 & 7 & 8 & 2 & 3 & 4 \\\\\n",
       "7 & 5 & 4 & 2 & 1 & 3 & 6 & 8 \\\\\n",
       "7 & 8 & 5 & 4 & 2 & 1 & 3 & 6 \\\\\n",
       "5 & 3 & 2 & 7 & 1 & 8 & 4 & 6\n",
       "\\end{array}\\right)\\)</html>"
      ],
      "text/latex": [
       "$\\displaystyle \\left(\\begin{array}{rrrrrrrr}\n",
       "8 & 0 & 0 & 0 & 0 & 0 & 0 & 0 \\\\\n",
       "7 & 3 & 6 & 8 & 5 & 4 & 2 & 1 \\\\\n",
       "6 & 2 & 5 & 7 & 4 & 3 & 8 & 1 \\\\\n",
       "3 & 4 & 8 & 7 & 5 & 1 & 6 & 2 \\\\\n",
       "1 & 5 & 6 & 7 & 8 & 2 & 3 & 4 \\\\\n",
       "7 & 5 & 4 & 2 & 1 & 3 & 6 & 8 \\\\\n",
       "7 & 8 & 5 & 4 & 2 & 1 & 3 & 6 \\\\\n",
       "5 & 3 & 2 & 7 & 1 & 8 & 4 & 6\n",
       "\\end{array}\\right)$"
      ],
      "text/plain": [
       "[8 0 0 0 0 0 0 0]\n",
       "[7 3 6 8 5 4 2 1]\n",
       "[6 2 5 7 4 3 8 1]\n",
       "[3 4 8 7 5 1 6 2]\n",
       "[1 5 6 7 8 2 3 4]\n",
       "[7 5 4 2 1 3 6 8]\n",
       "[7 8 5 4 2 1 3 6]\n",
       "[5 3 2 7 1 8 4 6]"
      ]
     },
     "execution_count": 397,
     "metadata": {},
     "output_type": "execute_result"
    }
   ],
   "source": [
    "# affine plane\n",
    "graph_mat = zero_matrix(SR, 2^N, 2^N)\n",
    "for j, curve in enumerate(curves306):\n",
    "    for pt in curve:\n",
    "        graph_mat[toInt(pt[0]), toInt(pt[1])] = j\n",
    "graph_mat"
   ]
  },
  {
   "cell_type": "markdown",
   "id": "25800a07-d7a4-45d1-a762-77d9fe23a960",
   "metadata": {},
   "source": [
    "Now we test the $(1,6,2)$ bundle."
   ]
  },
  {
   "cell_type": "code",
   "execution_count": 458,
   "id": "c884dc76-4cf5-4887-be69-40c956817c31",
   "metadata": {},
   "outputs": [],
   "source": [
    "# other 162 bundles that can be obtained from the rays\n",
    "# by location transformations\n",
    "curves162 = [[(F(0),k) for k in F]]\n",
    "fi = x^3 # 1, x+1, x^2+x+1, x^2+1\n",
    "for phi0 in F:\n",
    "    curves162.append([\n",
    "        (k, phi0 * k + fi^2 * k^2 + fi * k^4) for k in F\n",
    "    ])"
   ]
  },
  {
   "cell_type": "code",
   "execution_count": 459,
   "id": "38de83f8-7abe-4ff7-a0f5-7a3cc7e66bfa",
   "metadata": {},
   "outputs": [],
   "source": [
    "for curve in curves162:\n",
    "    checkAdditivity(curve)\n",
    "    checkIsotropy(curve)"
   ]
  },
  {
   "cell_type": "code",
   "execution_count": 460,
   "id": "27447e5d-a2cd-4643-9b4c-1948ae8bf7e9",
   "metadata": {},
   "outputs": [
    {
     "name": "stdout",
     "output_type": "stream",
     "text": [
      "Testing curve #0...\n",
      "ABELIAN.\n",
      "Testing curve #1...\n",
      "ABELIAN.\n",
      "Testing curve #2...\n",
      "Testing curve #3...\n",
      "Testing curve #4...\n",
      "Testing curve #5...\n",
      "Testing curve #6...\n",
      "Testing curve #7...\n",
      "Testing curve #8...\n",
      "ABELIAN.\n"
     ]
    }
   ],
   "source": [
    "testCurveSet(curves162)"
   ]
  },
  {
   "cell_type": "code",
   "execution_count": 468,
   "id": "e8da355b-66e6-460c-bb90-1554b94fa310",
   "metadata": {},
   "outputs": [
    {
     "data": {
      "text/html": [
       "<html>\\(\\displaystyle \\left[\\left(0, 0\\right), \\left(1, 7\\right), \\left(2, 7\\right), \\left(3, 4\\right), \\left(4, 0\\right), \\left(5, 5\\right), \\left(6, 4\\right), \\left(7, 5\\right)\\right]\\)</html>"
      ],
      "text/latex": [
       "$\\displaystyle \\left[\\left(0, 0\\right), \\left(1, 7\\right), \\left(2, 7\\right), \\left(3, 4\\right), \\left(4, 0\\right), \\left(5, 5\\right), \\left(6, 4\\right), \\left(7, 5\\right)\\right]$"
      ],
      "text/plain": [
       "[(0, 0), (1, 7), (2, 7), (3, 4), (4, 0), (5, 5), (6, 4), (7, 5)]"
      ]
     },
     "execution_count": 468,
     "metadata": {},
     "output_type": "execute_result"
    }
   ],
   "source": [
    "powers([(k, F(1) * k + fi^2 * k^2 + fi * k^4) for k in F])"
   ]
  },
  {
   "cell_type": "code",
   "execution_count": 469,
   "id": "eec3b258-897c-4581-9b1b-e06370fe3463",
   "metadata": {},
   "outputs": [
    {
     "data": {
      "text/html": [
       "<html>\\(\\displaystyle \\left[\\left(0, 0\\right), \\left(x, 1\\right), \\left(x^{2}, 1\\right), \\left(x + 1, x^{2} + x\\right), \\left(x^{2} + x, 0\\right), \\left(x^{2} + x + 1, x^{2} + x + 1\\right), \\left(x^{2} + 1, x^{2} + x\\right), \\left(1, x^{2} + x + 1\\right)\\right]\\)</html>"
      ],
      "text/latex": [
       "$\\displaystyle \\left[\\left(0, 0\\right), \\left(x, 1\\right), \\left(x^{2}, 1\\right), \\left(x + 1, x^{2} + x\\right), \\left(x^{2} + x, 0\\right), \\left(x^{2} + x + 1, x^{2} + x + 1\\right), \\left(x^{2} + 1, x^{2} + x\\right), \\left(1, x^{2} + x + 1\\right)\\right]$"
      ],
      "text/plain": [
       "[(0, 0),\n",
       " (x, 1),\n",
       " (x^2, 1),\n",
       " (x + 1, x^2 + x),\n",
       " (x^2 + x, 0),\n",
       " (x^2 + x + 1, x^2 + x + 1),\n",
       " (x^2 + 1, x^2 + x),\n",
       " (1, x^2 + x + 1)]"
      ]
     },
     "execution_count": 469,
     "metadata": {},
     "output_type": "execute_result"
    }
   ],
   "source": [
    "[(k, F(1) * k + fi^2 * k^2 + fi * k^4) for k in F]"
   ]
  },
  {
   "cell_type": "code",
   "execution_count": 470,
   "id": "4e5e9ed3-525c-4a36-ba6d-45136931a128",
   "metadata": {},
   "outputs": [
    {
     "data": {
      "text/html": [
       "<html>\\(\\displaystyle \\mathrm{True}\\)</html>"
      ],
      "text/latex": [
       "$\\displaystyle \\mathrm{True}$"
      ],
      "text/plain": [
       "True"
      ]
     },
     "execution_count": 470,
     "metadata": {},
     "output_type": "execute_result"
    }
   ],
   "source": [
    "testCurve([(k, F(1) * k + fi^2 * k^2 + fi * k^4) for k in F])"
   ]
  },
  {
   "cell_type": "code",
   "execution_count": 473,
   "id": "3ed36205-8533-4891-b116-6f2f8d4319fa",
   "metadata": {},
   "outputs": [
    {
     "data": {
      "text/html": [
       "<html>\\(\\displaystyle \\mathrm{True}\\)</html>"
      ],
      "text/latex": [
       "$\\displaystyle \\mathrm{True}$"
      ],
      "text/plain": [
       "True"
      ]
     },
     "execution_count": 473,
     "metadata": {},
     "output_type": "execute_result"
    }
   ],
   "source": [
    "(x^3)^2 == x^6"
   ]
  },
  {
   "cell_type": "markdown",
   "id": "4379be8b-0a0a-4701-9ed3-090b06aaed8a",
   "metadata": {},
   "source": [
    "Now we test the $(2,3,4)$ bundle."
   ]
  },
  {
   "cell_type": "code",
   "execution_count": 478,
   "id": "6cb1e726-38d1-4e00-810c-c56a4fad9161",
   "metadata": {},
   "outputs": [],
   "source": [
    "curves234_map = [\n",
    "    lambda k: F(0),\n",
    "    lambda k: x^6 * k + x^3 * k^2 + x^5 * k^4,\n",
    "    lambda k: x^2 * k + x^5 * k^2 + x^6 * k^4,\n",
    "    lambda k: x^4 * k + x^3 * k^2 + x^5 * k^4,\n",
    "    lambda k: x^3 * k,\n",
    "    lambda k: x^5 * k + x^5 * k^2 + x^6 * k^4,\n",
    "    lambda k: x * k + x^2 * k^2 + x * k^4,\n",
    "    lambda k: k + x^2 * k^2 + x * k^4\n",
    "]\n",
    "curves234 = [[(F(0),k) for k in F]]\n",
    "curves234 = curves234 + [[(k,curve(k)) for k in F] for curve in curves234_map]"
   ]
  },
  {
   "cell_type": "code",
   "execution_count": 479,
   "id": "0fd09d25-f03c-465d-bdac-749f032b984f",
   "metadata": {},
   "outputs": [],
   "source": [
    "for curve in curves234:\n",
    "    checkAdditivity(curve)\n",
    "    checkIsotropy(curve)"
   ]
  },
  {
   "cell_type": "code",
   "execution_count": 480,
   "id": "c314bf65-a3fa-4d04-b08f-bfdfe128c24c",
   "metadata": {},
   "outputs": [
    {
     "name": "stdout",
     "output_type": "stream",
     "text": [
      "Testing curve #0...\n",
      "ABELIAN.\n",
      "Testing curve #1...\n",
      "ABELIAN.\n",
      "Testing curve #2...\n",
      "Testing curve #3...\n",
      "Testing curve #4...\n",
      "Testing curve #5...\n",
      "ABELIAN.\n",
      "Testing curve #6...\n",
      "Testing curve #7...\n",
      "ABELIAN.\n",
      "Testing curve #8...\n"
     ]
    }
   ],
   "source": [
    "testCurveSet(curves234)"
   ]
  },
  {
   "cell_type": "code",
   "execution_count": 483,
   "id": "ec2f76b1-3c8a-4448-aea4-f0e68da9ffa8",
   "metadata": {},
   "outputs": [
    {
     "data": {
      "text/html": [
       "<html>\\(\\displaystyle \\left[\\left(0, 0\\right), \\left(x, x^{2} + 1\\right), \\left(x^{2}, x\\right), \\left(x + 1, 1\\right), \\left(x^{2} + x, x^{2} + x + 1\\right), \\left(x^{2} + x + 1, x + 1\\right), \\left(x^{2} + 1, x^{2} + x\\right), \\left(1, x^{2}\\right)\\right]\\)</html>"
      ],
      "text/latex": [
       "$\\displaystyle \\left[\\left(0, 0\\right), \\left(x, x^{2} + 1\\right), \\left(x^{2}, x\\right), \\left(x + 1, 1\\right), \\left(x^{2} + x, x^{2} + x + 1\\right), \\left(x^{2} + x + 1, x + 1\\right), \\left(x^{2} + 1, x^{2} + x\\right), \\left(1, x^{2}\\right)\\right]$"
      ],
      "text/plain": [
       "[(0, 0),\n",
       " (x, x^2 + 1),\n",
       " (x^2, x),\n",
       " (x + 1, 1),\n",
       " (x^2 + x, x^2 + x + 1),\n",
       " (x^2 + x + 1, x + 1),\n",
       " (x^2 + 1, x^2 + x),\n",
       " (1, x^2)]"
      ]
     },
     "execution_count": 483,
     "metadata": {},
     "output_type": "execute_result"
    }
   ],
   "source": [
    "[(k, curves234_map[-2](k)) for k in F]"
   ]
  },
  {
   "cell_type": "code",
   "execution_count": 485,
   "id": "07ffbae9-e566-4070-b114-f4d29ce5a927",
   "metadata": {},
   "outputs": [
    {
     "data": {
      "text/html": [
       "<html>\\(\\displaystyle \\left[\\left(0, 0\\right), \\left(1, 6\\right), \\left(2, 1\\right), \\left(3, 7\\right), \\left(4, 5\\right), \\left(5, 3\\right), \\left(6, 4\\right), \\left(7, 2\\right)\\right]\\)</html>"
      ],
      "text/latex": [
       "$\\displaystyle \\left[\\left(0, 0\\right), \\left(1, 6\\right), \\left(2, 1\\right), \\left(3, 7\\right), \\left(4, 5\\right), \\left(5, 3\\right), \\left(6, 4\\right), \\left(7, 2\\right)\\right]$"
      ],
      "text/plain": [
       "[(0, 0), (1, 6), (2, 1), (3, 7), (4, 5), (5, 3), (6, 4), (7, 2)]"
      ]
     },
     "execution_count": 485,
     "metadata": {},
     "output_type": "execute_result"
    }
   ],
   "source": [
    "powers([(k, curves234_map[-2](k)) for k in F])"
   ]
  },
  {
   "cell_type": "code",
   "execution_count": 406,
   "id": "de574b1c-6562-4cab-986b-aedd24ed73ed",
   "metadata": {},
   "outputs": [
    {
     "data": {
      "text/html": [
       "<html>\\(\\displaystyle \\left(\\begin{array}{rrrrrrrr}\n",
       "\\frac{1}{8} & 0 & 0 & 0 & 0 & 0 & 0 & 0 \\\\\n",
       "0 & 0 & 0 & 0 & \\frac{1}{8} & 0 & 0 & 0 \\\\\n",
       "0 & 0 & 0 & 0 & 0 & \\frac{1}{8} & 0 & 0 \\\\\n",
       "0 & 0 & 0 & 0 & 0 & 0 & \\frac{1}{8} & 0 \\\\\n",
       "0 & 0 & 0 & 0 & 0 & 0 & 0 & \\frac{1}{8} \\\\\n",
       "0 & \\frac{1}{8} & 0 & 0 & 0 & 0 & 0 & 0 \\\\\n",
       "0 & 0 & \\frac{1}{8} & 0 & 0 & 0 & 0 & 0 \\\\\n",
       "0 & 0 & 0 & \\frac{1}{8} & 0 & 0 & 0 & 0\n",
       "\\end{array}\\right)\\)</html>"
      ],
      "text/latex": [
       "$\\displaystyle \\left(\\begin{array}{rrrrrrrr}\n",
       "\\frac{1}{8} & 0 & 0 & 0 & 0 & 0 & 0 & 0 \\\\\n",
       "0 & 0 & 0 & 0 & \\frac{1}{8} & 0 & 0 & 0 \\\\\n",
       "0 & 0 & 0 & 0 & 0 & \\frac{1}{8} & 0 & 0 \\\\\n",
       "0 & 0 & 0 & 0 & 0 & 0 & \\frac{1}{8} & 0 \\\\\n",
       "0 & 0 & 0 & 0 & 0 & 0 & 0 & \\frac{1}{8} \\\\\n",
       "0 & \\frac{1}{8} & 0 & 0 & 0 & 0 & 0 & 0 \\\\\n",
       "0 & 0 & \\frac{1}{8} & 0 & 0 & 0 & 0 & 0 \\\\\n",
       "0 & 0 & 0 & \\frac{1}{8} & 0 & 0 & 0 & 0\n",
       "\\end{array}\\right)$"
      ],
      "text/plain": [
       "[1/8   0   0   0   0   0   0   0]\n",
       "[  0   0   0   0 1/8   0   0   0]\n",
       "[  0   0   0   0   0 1/8   0   0]\n",
       "[  0   0   0   0   0   0 1/8   0]\n",
       "[  0   0   0   0   0   0   0 1/8]\n",
       "[  0 1/8   0   0   0   0   0   0]\n",
       "[  0   0 1/8   0   0   0   0   0]\n",
       "[  0   0   0 1/8   0   0   0   0]"
      ]
     },
     "execution_count": 406,
     "metadata": {},
     "output_type": "execute_result"
    }
   ],
   "source": [
    "WignerMatrix(StateFromCurve(curves234[5]))"
   ]
  },
  {
   "cell_type": "markdown",
   "id": "a532c9eb-13f9-4254-b658-7565330326d8",
   "metadata": {},
   "source": [
    "Now we test $(0,9,0)$ curves."
   ]
  },
  {
   "cell_type": "code",
   "execution_count": 486,
   "id": "89397c27-551f-47c6-a9e3-50af7003b2be",
   "metadata": {},
   "outputs": [],
   "source": [
    "# regular curves\n",
    "curves090 = [\n",
    "    [(x^2 * b + x^3 * b^2 + x^5 * b^4, b) for b in F],\n",
    "    [(a, x^2 * a + x^3 * a^2 + x^5 * a^4) for a in F],\n",
    "    [(b + x^6 * b^2 + x^3 * b^4, b) for b in F],\n",
    "    [(x^3 * b^2 + x^5 * b^4, b) for b in F],\n",
    "    [(x^6 * b + x^3 * b^2 + x^5 * b^4, b) for b in F],\n",
    "    [(a, x^6 * a^2 + x^3 * a^4) for a in F],\n",
    "    [(a, a + x^3 * a^2 + x^5 * a^4) for a in F]\n",
    "]\n",
    "\n",
    "degen_1 = []\n",
    "for a in F:\n",
    "    for b in F:\n",
    "        if b^2 + x^5 * b == x^2 * a^2 + x^6 * a:\n",
    "            if (x^4 * b).trace() == 0:\n",
    "                if (x^5 * a).trace() == 0:\n",
    "                    degen_1.append((a,b))\n",
    "\n",
    "degen_2 = []\n",
    "for a in F:\n",
    "    for b in F:\n",
    "        if b^2 + x^2 * b == x^6 * a^2 + x^5 * a:\n",
    "            if (x^6 * b).trace() == 0:\n",
    "                if (x^2 * a).trace() == 0:\n",
    "                    degen_2.append((a,b))\n",
    "\n",
    "curves090 = curves090 + [degen_1] + [degen_2]"
   ]
  },
  {
   "cell_type": "code",
   "execution_count": 487,
   "id": "553db4b2-5428-4941-bb8b-8028d5d536d7",
   "metadata": {},
   "outputs": [],
   "source": [
    "for curve in curves090:\n",
    "    checkAdditivity(curve)\n",
    "    checkIsotropy(curve)"
   ]
  },
  {
   "cell_type": "code",
   "execution_count": 497,
   "id": "4fc79c92-841e-45ef-8a1d-e1972a40ecc9",
   "metadata": {},
   "outputs": [],
   "source": [
    "for curve1 in curves090:\n",
    "    for curve2 in curves090:\n",
    "        if curve1 != curve2:\n",
    "            if len(list(set(curve1) & set(curve2))) != 1:\n",
    "                raise Exception('Found non-trivial intersection!')"
   ]
  },
  {
   "cell_type": "code",
   "execution_count": 498,
   "id": "1673c7fc-5069-432d-800b-6bd2bff46592",
   "metadata": {},
   "outputs": [
    {
     "name": "stdout",
     "output_type": "stream",
     "text": [
      "Testing curve #0...\n",
      "Testing curve #1...\n",
      "Testing curve #2...\n",
      "ABELIAN.\n",
      "Testing curve #3...\n",
      "ABELIAN.\n",
      "Testing curve #4...\n",
      "Testing curve #5...\n",
      "ABELIAN.\n",
      "Testing curve #6...\n",
      "ABELIAN.\n",
      "Testing curve #7...\n",
      "ABELIAN.\n",
      "Testing curve #8...\n",
      "ABELIAN.\n"
     ]
    }
   ],
   "source": [
    "testCurveSet(curves090)"
   ]
  },
  {
   "cell_type": "code",
   "execution_count": 509,
   "id": "15e940d7-f56e-4f7a-9bb3-18098126f099",
   "metadata": {},
   "outputs": [
    {
     "data": {
      "text/html": [
       "<html>\\(\\displaystyle \\left[\\left(0, 0\\right), \\left(0, 2\\right), \\left(2, 3\\right), \\left(2, 5\\right), \\left(6, 0\\right), \\left(6, 2\\right), \\left(7, 3\\right), \\left(7, 5\\right)\\right]\\)</html>"
      ],
      "text/latex": [
       "$\\displaystyle \\left[\\left(0, 0\\right), \\left(0, 2\\right), \\left(2, 3\\right), \\left(2, 5\\right), \\left(6, 0\\right), \\left(6, 2\\right), \\left(7, 3\\right), \\left(7, 5\\right)\\right]$"
      ],
      "text/plain": [
       "[(0, 0), (0, 2), (2, 3), (2, 5), (6, 0), (6, 2), (7, 3), (7, 5)]"
      ]
     },
     "execution_count": 509,
     "metadata": {},
     "output_type": "execute_result"
    }
   ],
   "source": [
    "powers(curves090[8])"
   ]
  },
  {
   "cell_type": "code",
   "execution_count": 411,
   "id": "62872ded-cbda-443b-be8c-0396d761007a",
   "metadata": {},
   "outputs": [
    {
     "data": {
      "text/html": [
       "<html>\\(\\displaystyle \\left(\\begin{array}{rrrrrrrr}\n",
       "\\frac{1}{8} & 0 & \\frac{1}{8} & 0 & 0 & 0 & 0 & 0 \\\\\n",
       "0 & 0 & 0 & 0 & 0 & 0 & 0 & 0 \\\\\n",
       "0 & 0 & 0 & \\frac{1}{8} & 0 & \\frac{1}{8} & 0 & 0 \\\\\n",
       "0 & 0 & 0 & 0 & 0 & 0 & 0 & 0 \\\\\n",
       "0 & 0 & 0 & 0 & 0 & 0 & 0 & 0 \\\\\n",
       "0 & 0 & 0 & 0 & 0 & 0 & 0 & 0 \\\\\n",
       "\\frac{1}{8} & 0 & \\frac{1}{8} & 0 & 0 & 0 & 0 & 0 \\\\\n",
       "0 & 0 & 0 & \\frac{1}{8} & 0 & \\frac{1}{8} & 0 & 0\n",
       "\\end{array}\\right)\\)</html>"
      ],
      "text/latex": [
       "$\\displaystyle \\left(\\begin{array}{rrrrrrrr}\n",
       "\\frac{1}{8} & 0 & \\frac{1}{8} & 0 & 0 & 0 & 0 & 0 \\\\\n",
       "0 & 0 & 0 & 0 & 0 & 0 & 0 & 0 \\\\\n",
       "0 & 0 & 0 & \\frac{1}{8} & 0 & \\frac{1}{8} & 0 & 0 \\\\\n",
       "0 & 0 & 0 & 0 & 0 & 0 & 0 & 0 \\\\\n",
       "0 & 0 & 0 & 0 & 0 & 0 & 0 & 0 \\\\\n",
       "0 & 0 & 0 & 0 & 0 & 0 & 0 & 0 \\\\\n",
       "\\frac{1}{8} & 0 & \\frac{1}{8} & 0 & 0 & 0 & 0 & 0 \\\\\n",
       "0 & 0 & 0 & \\frac{1}{8} & 0 & \\frac{1}{8} & 0 & 0\n",
       "\\end{array}\\right)$"
      ],
      "text/plain": [
       "[1/8   0 1/8   0   0   0   0   0]\n",
       "[  0   0   0   0   0   0   0   0]\n",
       "[  0   0   0 1/8   0 1/8   0   0]\n",
       "[  0   0   0   0   0   0   0   0]\n",
       "[  0   0   0   0   0   0   0   0]\n",
       "[  0   0   0   0   0   0   0   0]\n",
       "[1/8   0 1/8   0   0   0   0   0]\n",
       "[  0   0   0 1/8   0 1/8   0   0]"
      ]
     },
     "execution_count": 411,
     "metadata": {},
     "output_type": "execute_result"
    }
   ],
   "source": [
    "WignerMatrix(StateFromCurve(curves090[-1]))"
   ]
  },
  {
   "cell_type": "code",
   "execution_count": 412,
   "id": "b7448d95-a667-40e0-a687-71448570d898",
   "metadata": {},
   "outputs": [
    {
     "data": {
      "text/html": [
       "<html>\\(\\displaystyle \\left(\\begin{array}{rrrrrrrr}\n",
       "1 & 0 & 0 & 0 & 1 & 0 & 0 & 0 \\\\\n",
       "0 & 0 & 0 & 0 & 0 & 0 & 0 & 0 \\\\\n",
       "0 & 0 & 0 & 0 & 0 & 0 & 0 & 0 \\\\\n",
       "0 & 0 & 0 & 0 & 0 & 0 & 0 & 0 \\\\\n",
       "0 & 0 & 0 & 1 & 0 & 0 & 1 & 0 \\\\\n",
       "0 & 0 & 0 & 0 & 0 & 1 & 0 & 1 \\\\\n",
       "0 & 0 & 0 & 0 & 0 & 0 & 0 & 0 \\\\\n",
       "0 & 1 & 1 & 0 & 0 & 0 & 0 & 0\n",
       "\\end{array}\\right)\\)</html>"
      ],
      "text/latex": [
       "$\\displaystyle \\left(\\begin{array}{rrrrrrrr}\n",
       "1 & 0 & 0 & 0 & 1 & 0 & 0 & 0 \\\\\n",
       "0 & 0 & 0 & 0 & 0 & 0 & 0 & 0 \\\\\n",
       "0 & 0 & 0 & 0 & 0 & 0 & 0 & 0 \\\\\n",
       "0 & 0 & 0 & 0 & 0 & 0 & 0 & 0 \\\\\n",
       "0 & 0 & 0 & 1 & 0 & 0 & 1 & 0 \\\\\n",
       "0 & 0 & 0 & 0 & 0 & 1 & 0 & 1 \\\\\n",
       "0 & 0 & 0 & 0 & 0 & 0 & 0 & 0 \\\\\n",
       "0 & 1 & 1 & 0 & 0 & 0 & 0 & 0\n",
       "\\end{array}\\right)$"
      ],
      "text/plain": [
       "[1 0 0 0 1 0 0 0]\n",
       "[0 0 0 0 0 0 0 0]\n",
       "[0 0 0 0 0 0 0 0]\n",
       "[0 0 0 0 0 0 0 0]\n",
       "[0 0 0 1 0 0 1 0]\n",
       "[0 0 0 0 0 1 0 1]\n",
       "[0 0 0 0 0 0 0 0]\n",
       "[0 1 1 0 0 0 0 0]"
      ]
     },
     "execution_count": 412,
     "metadata": {},
     "output_type": "execute_result"
    }
   ],
   "source": [
    "graph(curves090[2])"
   ]
  },
  {
   "cell_type": "code",
   "execution_count": 416,
   "id": "b5945a26-1892-47db-9856-8f52d0db4fc4",
   "metadata": {},
   "outputs": [
    {
     "data": {
      "text/html": [
       "<html>\\(\\displaystyle 0\\)</html>"
      ],
      "text/latex": [
       "$\\displaystyle 0$"
      ],
      "text/plain": [
       "0"
      ]
     },
     "execution_count": 416,
     "metadata": {},
     "output_type": "execute_result"
    }
   ],
   "source": [
    "x^4 + x^6 * (x^4)^2 + x^3 * (x^4)^4"
   ]
  },
  {
   "cell_type": "code",
   "execution_count": 413,
   "id": "b5decf4a-94df-40b0-8d81-d63c141ed405",
   "metadata": {},
   "outputs": [
    {
     "data": {
      "text/html": [
       "<html>\\(\\displaystyle \\left(\\begin{array}{rrrrrrrr}\n",
       "1 & 0 & 0 & 0 & 0 & 0 & 1 & 0 \\\\\n",
       "0 & 0 & 0 & 0 & 0 & 0 & 0 & 0 \\\\\n",
       "0 & 0 & 1 & 0 & 0 & 0 & 0 & 1 \\\\\n",
       "0 & 1 & 0 & 0 & 0 & 1 & 0 & 0 \\\\\n",
       "0 & 0 & 0 & 0 & 0 & 0 & 0 & 0 \\\\\n",
       "0 & 0 & 0 & 1 & 1 & 0 & 0 & 0 \\\\\n",
       "0 & 0 & 0 & 0 & 0 & 0 & 0 & 0 \\\\\n",
       "0 & 0 & 0 & 0 & 0 & 0 & 0 & 0\n",
       "\\end{array}\\right)\\)</html>"
      ],
      "text/latex": [
       "$\\displaystyle \\left(\\begin{array}{rrrrrrrr}\n",
       "1 & 0 & 0 & 0 & 0 & 0 & 1 & 0 \\\\\n",
       "0 & 0 & 0 & 0 & 0 & 0 & 0 & 0 \\\\\n",
       "0 & 0 & 1 & 0 & 0 & 0 & 0 & 1 \\\\\n",
       "0 & 1 & 0 & 0 & 0 & 1 & 0 & 0 \\\\\n",
       "0 & 0 & 0 & 0 & 0 & 0 & 0 & 0 \\\\\n",
       "0 & 0 & 0 & 1 & 1 & 0 & 0 & 0 \\\\\n",
       "0 & 0 & 0 & 0 & 0 & 0 & 0 & 0 \\\\\n",
       "0 & 0 & 0 & 0 & 0 & 0 & 0 & 0\n",
       "\\end{array}\\right)$"
      ],
      "text/plain": [
       "[1 0 0 0 0 0 1 0]\n",
       "[0 0 0 0 0 0 0 0]\n",
       "[0 0 1 0 0 0 0 1]\n",
       "[0 1 0 0 0 1 0 0]\n",
       "[0 0 0 0 0 0 0 0]\n",
       "[0 0 0 1 1 0 0 0]\n",
       "[0 0 0 0 0 0 0 0]\n",
       "[0 0 0 0 0 0 0 0]"
      ]
     },
     "execution_count": 413,
     "metadata": {},
     "output_type": "execute_result"
    }
   ],
   "source": [
    "graph(curves090[3])"
   ]
  },
  {
   "cell_type": "code",
   "execution_count": 414,
   "id": "db2747a8-cb3f-4918-89e7-8c3854dd8913",
   "metadata": {},
   "outputs": [
    {
     "data": {
      "text/html": [
       "<html>\\(\\displaystyle \\left(\\begin{array}{rrrrrrrr}\n",
       "1 & 0 & 0 & 0 & 0 & 0 & 0 & 0 \\\\\n",
       "0 & 0 & 0 & 0 & 0 & 0 & 0 & 1 \\\\\n",
       "1 & 0 & 0 & 0 & 0 & 0 & 0 & 0 \\\\\n",
       "0 & 0 & 1 & 0 & 0 & 0 & 0 & 0 \\\\\n",
       "0 & 0 & 0 & 0 & 0 & 0 & 0 & 1 \\\\\n",
       "0 & 0 & 1 & 0 & 0 & 0 & 0 & 0 \\\\\n",
       "0 & 0 & 0 & 0 & 0 & 0 & 1 & 0 \\\\\n",
       "0 & 0 & 0 & 0 & 0 & 0 & 1 & 0\n",
       "\\end{array}\\right)\\)</html>"
      ],
      "text/latex": [
       "$\\displaystyle \\left(\\begin{array}{rrrrrrrr}\n",
       "1 & 0 & 0 & 0 & 0 & 0 & 0 & 0 \\\\\n",
       "0 & 0 & 0 & 0 & 0 & 0 & 0 & 1 \\\\\n",
       "1 & 0 & 0 & 0 & 0 & 0 & 0 & 0 \\\\\n",
       "0 & 0 & 1 & 0 & 0 & 0 & 0 & 0 \\\\\n",
       "0 & 0 & 0 & 0 & 0 & 0 & 0 & 1 \\\\\n",
       "0 & 0 & 1 & 0 & 0 & 0 & 0 & 0 \\\\\n",
       "0 & 0 & 0 & 0 & 0 & 0 & 1 & 0 \\\\\n",
       "0 & 0 & 0 & 0 & 0 & 0 & 1 & 0\n",
       "\\end{array}\\right)$"
      ],
      "text/plain": [
       "[1 0 0 0 0 0 0 0]\n",
       "[0 0 0 0 0 0 0 1]\n",
       "[1 0 0 0 0 0 0 0]\n",
       "[0 0 1 0 0 0 0 0]\n",
       "[0 0 0 0 0 0 0 1]\n",
       "[0 0 1 0 0 0 0 0]\n",
       "[0 0 0 0 0 0 1 0]\n",
       "[0 0 0 0 0 0 1 0]"
      ]
     },
     "execution_count": 414,
     "metadata": {},
     "output_type": "execute_result"
    }
   ],
   "source": [
    "graph(curves090[6])"
   ]
  },
  {
   "cell_type": "code",
   "execution_count": null,
   "id": "e0287aca-310d-42a7-941f-4a50bf7bdeb2",
   "metadata": {},
   "outputs": [],
   "source": []
  }
 ],
 "metadata": {
  "kernelspec": {
   "display_name": "SageMath 9.8",
   "language": "sage",
   "name": "sagemath"
  },
  "language_info": {
   "codemirror_mode": {
    "name": "ipython",
    "version": 3
   },
   "file_extension": ".py",
   "mimetype": "text/x-python",
   "name": "python",
   "nbconvert_exporter": "python",
   "pygments_lexer": "ipython3",
   "version": "3.9.16"
  }
 },
 "nbformat": 4,
 "nbformat_minor": 5
}
