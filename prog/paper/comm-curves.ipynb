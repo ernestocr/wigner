{
 "cells": [
  {
   "cell_type": "code",
   "execution_count": 1,
   "id": "868b3802-712f-4596-9e86-98c5a3e92b8b",
   "metadata": {},
   "outputs": [],
   "source": [
    "%display latex"
   ]
  },
  {
   "cell_type": "code",
   "execution_count": 2,
   "id": "1c2c43f8-9238-448a-8442-de87e3f07ff1",
   "metadata": {},
   "outputs": [],
   "source": [
    "N = 3\n",
    "F = GF(2^3, 'x')\n",
    "x = F.gen()"
   ]
  },
  {
   "cell_type": "code",
   "execution_count": 3,
   "id": "a9e0b3ee-8fa2-4178-b738-1b257e78ecee",
   "metadata": {},
   "outputs": [],
   "source": [
    "basis = [x^3, x^5, x^6] # self-dual basis"
   ]
  },
  {
   "cell_type": "code",
   "execution_count": 4,
   "id": "3d36847c-6c3c-4d26-be61-afc93393d8aa",
   "metadata": {},
   "outputs": [],
   "source": [
    "# express an element as a linear combination of the basis\n",
    "components = lambda k: [(k * el).trace() for el in basis]\n",
    "\n",
    "# additive group character\n",
    "chi = lambda k: exp(pi * I * int(k.trace()))\n",
    "\n",
    "def toInt(k):\n",
    "    return list(F).index(k)"
   ]
  },
  {
   "cell_type": "code",
   "execution_count": 5,
   "id": "4651a2f5-9261-4b09-a29d-ff5ea5ee91d3",
   "metadata": {},
   "outputs": [],
   "source": [
    "y = var('y')\n",
    "\n",
    "# compute the coefficients for the basis elements,\n",
    "def solve_basis(basis, curve):\n",
    "    sols = []\n",
    "    for k in basis:\n",
    "        sol = solve(chi(k * curve(k)) == y^2, y, solution_dict=True)\n",
    "        sols.append(sol[1]) # positive solutions only (choice)\n",
    "    return sols"
   ]
  },
  {
   "cell_type": "code",
   "execution_count": 6,
   "id": "0cc1c139-5e12-4ac5-85db-3b23b98567dd",
   "metadata": {},
   "outputs": [],
   "source": [
    "# after computing the solutions we can simply\n",
    "# get them for each basis element.\n",
    "def basis_c(a, l, sols):\n",
    "    if a == 0:\n",
    "        return 1\n",
    "    return sols[l][y]"
   ]
  },
  {
   "cell_type": "code",
   "execution_count": 7,
   "id": "3c30a006-db39-463b-ba5a-ca636f176e33",
   "metadata": {},
   "outputs": [],
   "source": [
    "# Compute an arbitrary coefficient c_{\\alpha,f} for a \n",
    "# given curve f using the general formula.\n",
    "def c(alpha, curve, sols=None):\n",
    "    if not sols:\n",
    "        sols = solve_basis(basis, curve)\n",
    "    \n",
    "    # Expand alpha in the basis\n",
    "    comps = components(alpha)\n",
    "\n",
    "    # Apply the formula\n",
    "    s1 = 0\n",
    "    for k in range(N-1):\n",
    "        s2 = 0\n",
    "        for j in range(k+1, N):\n",
    "            s2 += comps[j] * basis[j]\n",
    "        s1 += s2 * curve(comps[k] * basis[k])\n",
    "        \n",
    "    return chi(s1) * prod([basis_c(a, l, sols) for l, a in enumerate(comps)])"
   ]
  },
  {
   "cell_type": "code",
   "execution_count": 8,
   "id": "b270194d-5ae5-4733-83e6-c8a3133d2640",
   "metadata": {},
   "outputs": [],
   "source": [
    "def sign_perm(sols, perm=None):\n",
    "    if perm:\n",
    "        for k, sol in enumerate(sols):\n",
    "            sols[k][y] = perm[k] * sols[k][y]\n",
    "    return sols"
   ]
  },
  {
   "cell_type": "code",
   "execution_count": 9,
   "id": "19bc7888-f3c3-4e23-b1ca-dc0f1356ac75",
   "metadata": {},
   "outputs": [
    {
     "name": "stdout",
     "output_type": "stream",
     "text": [
      "Recurrence relation holds!\n"
     ]
    }
   ],
   "source": [
    "for mu in F:\n",
    "    curve = lambda t: mu * t # \\beta = \\mu \\alpha\n",
    "    sols = sign_perm(solve_basis(basis, curve), [1,1,1])\n",
    "    for k in F:\n",
    "        for kp in F:\n",
    "            lhs = c(k, curve, sols) * c(kp, curve, sols)\n",
    "            rhs = chi(kp * curve(k)) * c(k + kp, curve, sols)\n",
    "            if lhs != rhs:\n",
    "                raise Exception('Recurrence relation does not hold!', mu)\n",
    "print('Recurrence relation holds!')"
   ]
  },
  {
   "cell_type": "code",
   "execution_count": 10,
   "id": "cb5e79ab-c8ce-49ed-a2b9-8d844dded904",
   "metadata": {},
   "outputs": [],
   "source": [
    "def ray(mu):\n",
    "    return lambda t: mu * t"
   ]
  },
  {
   "cell_type": "code",
   "execution_count": 11,
   "id": "8a1a2641-ea35-41d1-a687-290e860896ea",
   "metadata": {},
   "outputs": [],
   "source": [
    "def PS(curve, perms):\n",
    "    phase_space = zero_matrix(SR, 2^N, 2^N)\n",
    "    phase_space[0,:] = 1 # vertical line\n",
    "    for j, mu in enumerate(F): # iterate through the curve parametr\n",
    "        # same sign choice for a fixed curve parameter\n",
    "        sols = sign_perm(solve_basis(basis, curve(mu)), perms[j])\n",
    "        for i, a in enumerate(F):\n",
    "            # loop through alpha to obtain coefficient and\n",
    "            # corresponding point\n",
    "            coeff = c(a, curve(mu), sols)\n",
    "            b = curve(mu)(a)\n",
    "            phase_space[i, toInt(b)] = coeff\n",
    "    return phase_space"
   ]
  },
  {
   "cell_type": "code",
   "execution_count": 12,
   "id": "d1dd061c-fa9b-4b0f-9817-20ffcfcb47ad",
   "metadata": {},
   "outputs": [
    {
     "data": {
      "text/html": [
       "<html>\\(\\displaystyle \\left(\\begin{array}{rrrrrrrr}\n",
       "1 & 1 & 1 & 1 & 1 & 1 & 1 & 1 \\\\\n",
       "1 & -1 & -i & 1 & -i & i & i & -1 \\\\\n",
       "1 & -i & -1 & i & -i & i & 1 & -1 \\\\\n",
       "1 & 1 & i & i & i & 1 & 1 & i \\\\\n",
       "1 & -i & -i & i & -1 & 1 & i & -1 \\\\\n",
       "1 & i & i & 1 & 1 & i & 1 & i \\\\\n",
       "1 & i & 1 & 1 & i & 1 & i & i \\\\\n",
       "1 & -1 & -1 & i & -1 & i & i & -i\n",
       "\\end{array}\\right)\\)</html>"
      ],
      "text/latex": [
       "$\\displaystyle \\left(\\begin{array}{rrrrrrrr}\n",
       "1 & 1 & 1 & 1 & 1 & 1 & 1 & 1 \\\\\n",
       "1 & -1 & -i & 1 & -i & i & i & -1 \\\\\n",
       "1 & -i & -1 & i & -i & i & 1 & -1 \\\\\n",
       "1 & 1 & i & i & i & 1 & 1 & i \\\\\n",
       "1 & -i & -i & i & -1 & 1 & i & -1 \\\\\n",
       "1 & i & i & 1 & 1 & i & 1 & i \\\\\n",
       "1 & i & 1 & 1 & i & 1 & i & i \\\\\n",
       "1 & -1 & -1 & i & -1 & i & i & -i\n",
       "\\end{array}\\right)$"
      ],
      "text/plain": [
       "[ 1  1  1  1  1  1  1  1]\n",
       "[ 1 -1 -I  1 -I  I  I -1]\n",
       "[ 1 -I -1  I -I  I  1 -1]\n",
       "[ 1  1  I  I  I  1  1  I]\n",
       "[ 1 -I -I  I -1  1  I -1]\n",
       "[ 1  I  I  1  1  I  1  I]\n",
       "[ 1  I  1  1  I  1  I  I]\n",
       "[ 1 -1 -1  I -1  I  I -I]"
      ]
     },
     "execution_count": 12,
     "metadata": {},
     "output_type": "execute_result"
    }
   ],
   "source": [
    "ps = PS(ray, [[1,1,1]] * 8)\n",
    "ps"
   ]
  },
  {
   "cell_type": "markdown",
   "id": "12516773-d2ea-4af0-a554-bb4f39a0dcc0",
   "metadata": {},
   "source": [
    "Now let's form the displacement operators."
   ]
  },
  {
   "cell_type": "code",
   "execution_count": 13,
   "id": "3f89e834-5891-4e7b-8b6c-04e6e6567e3f",
   "metadata": {},
   "outputs": [],
   "source": [
    "def Proj(u, v=None):\n",
    "    if not v:\n",
    "        v = u\n",
    "    return u.tensor_product(v.conjugate_tranpose())\n",
    "\n",
    "Id = identity_matrix(2^N)\n",
    "\n",
    "def Fourier():\n",
    "    s = zero_matrix(SR, 2^N, 2^N)\n",
    "    for i, a in enumerate(F):\n",
    "        for j, b in enumerate(F):\n",
    "            s[i,j] = chi(a * b) / sqrt(2^N)\n",
    "    return s\n",
    "FF = Fourier()"
   ]
  },
  {
   "cell_type": "code",
   "execution_count": 21,
   "id": "ea83acef-8ebf-4dd3-8736-2530f8e72d0c",
   "metadata": {},
   "outputs": [],
   "source": [
    "def phi(a, b):\n",
    "    return ps[toInt(a), toInt(b)]\n",
    "\n",
    "def Z(a):\n",
    "    return diagonal_matrix([chi(a * k) for k in F])\n",
    "\n",
    "def X(b):\n",
    "    return FF.conjugate_transpose() * Z(b) * FF\n",
    "\n",
    "def D(a, b):\n",
    "    return phi(a, b) * Z(a) * X(b)"
   ]
  },
  {
   "cell_type": "markdown",
   "id": "14c302ed-ff12-481f-b13c-5c0ad9e9250b",
   "metadata": {},
   "source": [
    "The displacement operators should be trace orthogonal, null trace, unitary and hermititan."
   ]
  },
  {
   "cell_type": "code",
   "execution_count": 22,
   "id": "61f7e784-47d6-470a-a40f-5543f1d29b07",
   "metadata": {},
   "outputs": [],
   "source": [
    "# trace orthogonal\n",
    "for a in F:\n",
    "    for b in F:\n",
    "        D1 = D(a, b)\n",
    "        for c in F:\n",
    "            for d in F:\n",
    "                D2 = D(c, d)\n",
    "                tr = (D1 * D2.conjugate_transpose()).trace()\n",
    "                dl = int(a == c) * int(b == d)\n",
    "                if tr != (2^N) * dl:\n",
    "                    raise Exception"
   ]
  },
  {
   "cell_type": "code",
   "execution_count": 23,
   "id": "1f99cafc-85a4-453d-9f75-17472adec7ba",
   "metadata": {},
   "outputs": [],
   "source": [
    "# null trace\n",
    "for a in F:\n",
    "    for b in F:\n",
    "        if a != 0 and b != 0:\n",
    "            d = D(a, b)\n",
    "            if d.trace() != 0:\n",
    "                raise Exception(a, b)"
   ]
  },
  {
   "cell_type": "code",
   "execution_count": 24,
   "id": "c1eb390c-58c9-4e77-9655-18e04b1d3249",
   "metadata": {},
   "outputs": [],
   "source": [
    "# hermitian\n",
    "for a in F:\n",
    "    for b in F:\n",
    "        d = D(a, b)\n",
    "        if d != d.conjugate_transpose():\n",
    "            raise Exception"
   ]
  },
  {
   "cell_type": "code",
   "execution_count": 25,
   "id": "0d4c2331-7af7-4307-ac8d-5c28e2547b51",
   "metadata": {},
   "outputs": [],
   "source": [
    "# unitarity\n",
    "for a in F:\n",
    "    for b in F:\n",
    "        d = D(a,b)\n",
    "        if d * d.conjugate_transpose() != Id:\n",
    "            raise Exception"
   ]
  },
  {
   "cell_type": "code",
   "execution_count": 26,
   "id": "a220cd03-cf43-4f3a-b026-0a2ed44b868a",
   "metadata": {},
   "outputs": [],
   "source": [
    "def graph(points):\n",
    "    m = zero_matrix(SR, 2^N)\n",
    "    for p in points:\n",
    "        m[toInt(p[0]), toInt(p[1])] = 1\n",
    "    return m"
   ]
  },
  {
   "cell_type": "markdown",
   "id": "8774b441-6fc1-4416-be86-34723a835f04",
   "metadata": {},
   "source": [
    "The property that we want to test is the following:\n",
    "$$\n",
    "D(\\alpha_1,f(\\alpha_1)) D(\\alpha_2,f(\\alpha_2))\n",
    "= D(\\alpha_1+\\alpha_2, f(\\alpha_1+\\alpha_2))\n",
    "= D(\\alpha_1+\\alpha_2, f(\\alpha_1)+f(\\alpha_2)),\n",
    "$$\n",
    "for a given curve $f$ and all $\\alpha \\in F$. Or for a set of points which gives a curve $\\{\\alpha,\\beta\\}$:\n",
    "$$\n",
    "D(\\alpha_1,\\beta_1) D(\\alpha_2,\\beta_2)\n",
    "= D(\\alpha_1+\\alpha_2, \\beta_1 + \\beta_2).\n",
    "$$"
   ]
  },
  {
   "cell_type": "code",
   "execution_count": 27,
   "id": "eef79980-3209-4560-bcc0-3aa7761362c6",
   "metadata": {},
   "outputs": [],
   "source": [
    "def testCurve(points):\n",
    "    for p1 in points:\n",
    "        for p2 in points:\n",
    "            p_op = D(p1[0], p1[1]) * D(p2[0], p2[1])\n",
    "            s_op = D(p1[0] + p2[0], p1[1] + p2[1]) # assuming additivity\n",
    "            if p_op != s_op:\n",
    "                raise Exception(p1, p2)\n",
    "    return True"
   ]
  },
  {
   "cell_type": "code",
   "execution_count": 28,
   "id": "ead508b7-11da-4d6b-9b5d-ccc2d21d936b",
   "metadata": {},
   "outputs": [],
   "source": [
    "for mu in F:\n",
    "    if not testCurve([(k, mu * k) for k in F]):\n",
    "        raise Exception(mu)"
   ]
  },
  {
   "cell_type": "markdown",
   "id": "0e2cb705-e08e-4c31-9238-cc600b63b60e",
   "metadata": {},
   "source": [
    "The property holds for all the rays, as it should of course."
   ]
  },
  {
   "cell_type": "markdown",
   "id": "0d9884d0-56e2-4645-bd20-f52874765c60",
   "metadata": {},
   "source": [
    "Now let's identify all of the family of curves that are valid for three qubits. But first let's test this example of an exceptional curve (equation 5.19 from Annals):\n",
    "$$\n",
    "(0,0), (\\sigma^4,0), (\\sigma^4, \\sigma^5), (\\sigma^3, \\sigma^7), (\\sigma^3, \\sigma^4), (\\sigma^6, \\sigma^4), (\\sigma^6, \\sigma^7), (0, \\sigma^5)\n",
    "$$\n",
    "This curve can be obtained by the equation:\n",
    "$$\n",
    "\\beta^2 + \\sigma^5 \\beta = \\sigma^6 \\alpha + \\sigma^2 \\alpha^2.\n",
    "$$"
   ]
  },
  {
   "cell_type": "code",
   "execution_count": 29,
   "id": "ba1bfdf7-1304-4009-a782-e49709545d24",
   "metadata": {},
   "outputs": [
    {
     "data": {
      "text/html": [
       "<html>\\(\\displaystyle \\left[\\left(0, 0\\right), \\left(x^{2} + x, 0\\right), \\left(x^{2} + x, x^{2} + x + 1\\right), \\left(x + 1, 1\\right), \\left(x + 1, x^{2} + x\\right), \\left(x^{2} + 1, x^{2} + x\\right), \\left(x^{2} + 1, 1\\right), \\left(0, x^{2} + x + 1\\right)\\right]\\)</html>"
      ],
      "text/latex": [
       "$\\displaystyle \\left[\\left(0, 0\\right), \\left(x^{2} + x, 0\\right), \\left(x^{2} + x, x^{2} + x + 1\\right), \\left(x + 1, 1\\right), \\left(x + 1, x^{2} + x\\right), \\left(x^{2} + 1, x^{2} + x\\right), \\left(x^{2} + 1, 1\\right), \\left(0, x^{2} + x + 1\\right)\\right]$"
      ],
      "text/plain": [
       "[(0, 0),\n",
       " (x^2 + x, 0),\n",
       " (x^2 + x, x^2 + x + 1),\n",
       " (x + 1, 1),\n",
       " (x + 1, x^2 + x),\n",
       " (x^2 + 1, x^2 + x),\n",
       " (x^2 + 1, 1),\n",
       " (0, x^2 + x + 1)]"
      ]
     },
     "execution_count": 29,
     "metadata": {},
     "output_type": "execute_result"
    }
   ],
   "source": [
    "points = [(F(0),F(0)), (x^4,F(0)), (x^4,x^5), (x^3,x^7), (x^3,x^4), (x^6,x^4), (x^6,x^7), (F(0),x^5)]\n",
    "points"
   ]
  },
  {
   "cell_type": "markdown",
   "id": "72a40334-984e-4088-8ddb-bd76e4225f8b",
   "metadata": {},
   "source": [
    "Just to be sure this curve is additive:"
   ]
  },
  {
   "cell_type": "code",
   "execution_count": 30,
   "id": "702d6548-9ebe-44ea-acef-f89130d12c25",
   "metadata": {},
   "outputs": [],
   "source": [
    "def checkAdditivity(points):\n",
    "    for p1 in points:\n",
    "        for p2 in points:\n",
    "            p3 = (p1[0] + p2[0], p1[1] + p2[1])\n",
    "            if p3 not in points:\n",
    "                raise Exception\n",
    "    return True"
   ]
  },
  {
   "cell_type": "code",
   "execution_count": 31,
   "id": "8c4a5c5f-58dd-450c-81dd-e8d4219577f5",
   "metadata": {},
   "outputs": [
    {
     "data": {
      "text/html": [
       "<html>\\(\\displaystyle \\mathrm{True}\\)</html>"
      ],
      "text/latex": [
       "$\\displaystyle \\mathrm{True}$"
      ],
      "text/plain": [
       "True"
      ]
     },
     "execution_count": 31,
     "metadata": {},
     "output_type": "execute_result"
    }
   ],
   "source": [
    "checkAdditivity(points)"
   ]
  },
  {
   "cell_type": "code",
   "execution_count": 34,
   "id": "87cee971-533b-4892-b594-08d163a81f02",
   "metadata": {},
   "outputs": [
    {
     "data": {
      "text/html": [
       "<html>\\(\\displaystyle \\left(\\begin{array}{rrrrrrrr}\n",
       "1 & 0 & 0 & 0 & 0 & 1 & 0 & 0 \\\\\n",
       "0 & 0 & 0 & 0 & 0 & 0 & 0 & 0 \\\\\n",
       "0 & 0 & 0 & 0 & 0 & 0 & 0 & 0 \\\\\n",
       "0 & 0 & 0 & 0 & 1 & 0 & 0 & 1 \\\\\n",
       "1 & 0 & 0 & 0 & 0 & 1 & 0 & 0 \\\\\n",
       "0 & 0 & 0 & 0 & 0 & 0 & 0 & 0 \\\\\n",
       "0 & 0 & 0 & 0 & 1 & 0 & 0 & 1 \\\\\n",
       "0 & 0 & 0 & 0 & 0 & 0 & 0 & 0\n",
       "\\end{array}\\right)\\)</html>"
      ],
      "text/latex": [
       "$\\displaystyle \\left(\\begin{array}{rrrrrrrr}\n",
       "1 & 0 & 0 & 0 & 0 & 1 & 0 & 0 \\\\\n",
       "0 & 0 & 0 & 0 & 0 & 0 & 0 & 0 \\\\\n",
       "0 & 0 & 0 & 0 & 0 & 0 & 0 & 0 \\\\\n",
       "0 & 0 & 0 & 0 & 1 & 0 & 0 & 1 \\\\\n",
       "1 & 0 & 0 & 0 & 0 & 1 & 0 & 0 \\\\\n",
       "0 & 0 & 0 & 0 & 0 & 0 & 0 & 0 \\\\\n",
       "0 & 0 & 0 & 0 & 1 & 0 & 0 & 1 \\\\\n",
       "0 & 0 & 0 & 0 & 0 & 0 & 0 & 0\n",
       "\\end{array}\\right)$"
      ],
      "text/plain": [
       "[1 0 0 0 0 1 0 0]\n",
       "[0 0 0 0 0 0 0 0]\n",
       "[0 0 0 0 0 0 0 0]\n",
       "[0 0 0 0 1 0 0 1]\n",
       "[1 0 0 0 0 1 0 0]\n",
       "[0 0 0 0 0 0 0 0]\n",
       "[0 0 0 0 1 0 0 1]\n",
       "[0 0 0 0 0 0 0 0]"
      ]
     },
     "execution_count": 34,
     "metadata": {},
     "output_type": "execute_result"
    }
   ],
   "source": [
    "graph(points)"
   ]
  },
  {
   "cell_type": "markdown",
   "id": "90e5376c-21f3-4f00-a726-de653e666db1",
   "metadata": {},
   "source": [
    "And now we test to see if the set of displacement operators are closed under our rule:"
   ]
  },
  {
   "cell_type": "code",
   "execution_count": 35,
   "id": "ab6583af-65ba-40a1-892a-e4ba93992705",
   "metadata": {},
   "outputs": [
    {
     "data": {
      "text/html": [
       "<html>\\(\\displaystyle \\mathrm{True}\\)</html>"
      ],
      "text/latex": [
       "$\\displaystyle \\mathrm{True}$"
      ],
      "text/plain": [
       "True"
      ]
     },
     "execution_count": 35,
     "metadata": {},
     "output_type": "execute_result"
    }
   ],
   "source": [
    "testCurve(points)"
   ]
  },
  {
   "cell_type": "markdown",
   "id": "b2082ed4-fd42-4d04-aacd-600560ac408a",
   "metadata": {},
   "source": [
    "For example the points $(\\sigma^6,\\sigma^4)$ and $(\\sigma^3,\\sigma^7)$ give us the following operators:"
   ]
  },
  {
   "cell_type": "code",
   "execution_count": 48,
   "id": "3264dc00-cd57-4ed2-a3fa-9631c94aa6fe",
   "metadata": {},
   "outputs": [
    {
     "data": {
      "text/html": [
       "<html>\\(\\displaystyle i\\)</html>"
      ],
      "text/latex": [
       "$\\displaystyle i$"
      ],
      "text/plain": [
       "I"
      ]
     },
     "execution_count": 48,
     "metadata": {},
     "output_type": "execute_result"
    }
   ],
   "source": [
    "phi(x^6,x^4)"
   ]
  },
  {
   "cell_type": "code",
   "execution_count": 52,
   "id": "07a17cd2-2c89-4d23-b9f5-97b4e6336866",
   "metadata": {},
   "outputs": [
    {
     "data": {
      "text/html": [
       "<html>\\(\\displaystyle \\left(\\begin{array}{rrrrrrrr}\n",
       "0 & 0 & 0 & 0 & i & 0 & 0 & 0 \\\\\n",
       "0 & 0 & -i & 0 & 0 & 0 & 0 & 0 \\\\\n",
       "0 & i & 0 & 0 & 0 & 0 & 0 & 0 \\\\\n",
       "0 & 0 & 0 & 0 & 0 & 0 & i & 0 \\\\\n",
       "-i & 0 & 0 & 0 & 0 & 0 & 0 & 0 \\\\\n",
       "0 & 0 & 0 & 0 & 0 & 0 & 0 & i \\\\\n",
       "0 & 0 & 0 & -i & 0 & 0 & 0 & 0 \\\\\n",
       "0 & 0 & 0 & 0 & 0 & -i & 0 & 0\n",
       "\\end{array}\\right)\\)</html>"
      ],
      "text/latex": [
       "$\\displaystyle \\left(\\begin{array}{rrrrrrrr}\n",
       "0 & 0 & 0 & 0 & i & 0 & 0 & 0 \\\\\n",
       "0 & 0 & -i & 0 & 0 & 0 & 0 & 0 \\\\\n",
       "0 & i & 0 & 0 & 0 & 0 & 0 & 0 \\\\\n",
       "0 & 0 & 0 & 0 & 0 & 0 & i & 0 \\\\\n",
       "-i & 0 & 0 & 0 & 0 & 0 & 0 & 0 \\\\\n",
       "0 & 0 & 0 & 0 & 0 & 0 & 0 & i \\\\\n",
       "0 & 0 & 0 & -i & 0 & 0 & 0 & 0 \\\\\n",
       "0 & 0 & 0 & 0 & 0 & -i & 0 & 0\n",
       "\\end{array}\\right)$"
      ],
      "text/plain": [
       "[ 0  0  0  0  I  0  0  0]\n",
       "[ 0  0 -I  0  0  0  0  0]\n",
       "[ 0  I  0  0  0  0  0  0]\n",
       "[ 0  0  0  0  0  0  I  0]\n",
       "[-I  0  0  0  0  0  0  0]\n",
       "[ 0  0  0  0  0  0  0  I]\n",
       "[ 0  0  0 -I  0  0  0  0]\n",
       "[ 0  0  0  0  0 -I  0  0]"
      ]
     },
     "execution_count": 52,
     "metadata": {},
     "output_type": "execute_result"
    }
   ],
   "source": [
    "D(x^6,x^4)"
   ]
  },
  {
   "cell_type": "code",
   "execution_count": 53,
   "id": "04106f81-316f-4a60-801a-f123a400cfc4",
   "metadata": {},
   "outputs": [
    {
     "data": {
      "text/html": [
       "<html>\\(\\displaystyle i\\)</html>"
      ],
      "text/latex": [
       "$\\displaystyle i$"
      ],
      "text/plain": [
       "I"
      ]
     },
     "execution_count": 53,
     "metadata": {},
     "output_type": "execute_result"
    }
   ],
   "source": [
    "phi(x^3,x^7)"
   ]
  },
  {
   "cell_type": "code",
   "execution_count": 54,
   "id": "011dfc38-47df-43c0-b104-587b62bdab2c",
   "metadata": {},
   "outputs": [
    {
     "data": {
      "text/html": [
       "<html>\\(\\displaystyle \\left(\\begin{array}{rrrrrrrr}\n",
       "0 & 0 & 0 & 0 & 0 & 0 & 0 & i \\\\\n",
       "0 & 0 & 0 & i & 0 & 0 & 0 & 0 \\\\\n",
       "0 & 0 & 0 & 0 & 0 & 0 & -i & 0 \\\\\n",
       "0 & -i & 0 & 0 & 0 & 0 & 0 & 0 \\\\\n",
       "0 & 0 & 0 & 0 & 0 & -i & 0 & 0 \\\\\n",
       "0 & 0 & 0 & 0 & i & 0 & 0 & 0 \\\\\n",
       "0 & 0 & i & 0 & 0 & 0 & 0 & 0 \\\\\n",
       "-i & 0 & 0 & 0 & 0 & 0 & 0 & 0\n",
       "\\end{array}\\right)\\)</html>"
      ],
      "text/latex": [
       "$\\displaystyle \\left(\\begin{array}{rrrrrrrr}\n",
       "0 & 0 & 0 & 0 & 0 & 0 & 0 & i \\\\\n",
       "0 & 0 & 0 & i & 0 & 0 & 0 & 0 \\\\\n",
       "0 & 0 & 0 & 0 & 0 & 0 & -i & 0 \\\\\n",
       "0 & -i & 0 & 0 & 0 & 0 & 0 & 0 \\\\\n",
       "0 & 0 & 0 & 0 & 0 & -i & 0 & 0 \\\\\n",
       "0 & 0 & 0 & 0 & i & 0 & 0 & 0 \\\\\n",
       "0 & 0 & i & 0 & 0 & 0 & 0 & 0 \\\\\n",
       "-i & 0 & 0 & 0 & 0 & 0 & 0 & 0\n",
       "\\end{array}\\right)$"
      ],
      "text/plain": [
       "[ 0  0  0  0  0  0  0  I]\n",
       "[ 0  0  0  I  0  0  0  0]\n",
       "[ 0  0  0  0  0  0 -I  0]\n",
       "[ 0 -I  0  0  0  0  0  0]\n",
       "[ 0  0  0  0  0 -I  0  0]\n",
       "[ 0  0  0  0  I  0  0  0]\n",
       "[ 0  0  I  0  0  0  0  0]\n",
       "[-I  0  0  0  0  0  0  0]"
      ]
     },
     "execution_count": 54,
     "metadata": {},
     "output_type": "execute_result"
    }
   ],
   "source": [
    "D(x^3,x^7)"
   ]
  },
  {
   "cell_type": "markdown",
   "id": "723f89f9-492c-4330-92df-d1f52e372ff8",
   "metadata": {},
   "source": [
    "Their product is:"
   ]
  },
  {
   "cell_type": "code",
   "execution_count": 55,
   "id": "980b50ce-f109-499c-993a-c5ee29f6e377",
   "metadata": {},
   "outputs": [
    {
     "data": {
      "text/html": [
       "<html>\\(\\displaystyle \\left(\\begin{array}{rrrrrrrr}\n",
       "0 & 0 & 0 & 0 & 0 & 1 & 0 & 0 \\\\\n",
       "0 & 0 & 0 & 0 & 0 & 0 & -1 & 0 \\\\\n",
       "0 & 0 & 0 & -1 & 0 & 0 & 0 & 0 \\\\\n",
       "0 & 0 & -1 & 0 & 0 & 0 & 0 & 0 \\\\\n",
       "0 & 0 & 0 & 0 & 0 & 0 & 0 & 1 \\\\\n",
       "1 & 0 & 0 & 0 & 0 & 0 & 0 & 0 \\\\\n",
       "0 & -1 & 0 & 0 & 0 & 0 & 0 & 0 \\\\\n",
       "0 & 0 & 0 & 0 & 1 & 0 & 0 & 0\n",
       "\\end{array}\\right)\\)</html>"
      ],
      "text/latex": [
       "$\\displaystyle \\left(\\begin{array}{rrrrrrrr}\n",
       "0 & 0 & 0 & 0 & 0 & 1 & 0 & 0 \\\\\n",
       "0 & 0 & 0 & 0 & 0 & 0 & -1 & 0 \\\\\n",
       "0 & 0 & 0 & -1 & 0 & 0 & 0 & 0 \\\\\n",
       "0 & 0 & -1 & 0 & 0 & 0 & 0 & 0 \\\\\n",
       "0 & 0 & 0 & 0 & 0 & 0 & 0 & 1 \\\\\n",
       "1 & 0 & 0 & 0 & 0 & 0 & 0 & 0 \\\\\n",
       "0 & -1 & 0 & 0 & 0 & 0 & 0 & 0 \\\\\n",
       "0 & 0 & 0 & 0 & 1 & 0 & 0 & 0\n",
       "\\end{array}\\right)$"
      ],
      "text/plain": [
       "[ 0  0  0  0  0  1  0  0]\n",
       "[ 0  0  0  0  0  0 -1  0]\n",
       "[ 0  0  0 -1  0  0  0  0]\n",
       "[ 0  0 -1  0  0  0  0  0]\n",
       "[ 0  0  0  0  0  0  0  1]\n",
       "[ 1  0  0  0  0  0  0  0]\n",
       "[ 0 -1  0  0  0  0  0  0]\n",
       "[ 0  0  0  0  1  0  0  0]"
      ]
     },
     "execution_count": 55,
     "metadata": {},
     "output_type": "execute_result"
    }
   ],
   "source": [
    "D(x^6,x^4) * D(x^3,x^7)"
   ]
  },
  {
   "cell_type": "markdown",
   "id": "818b397a-0272-4cf6-9050-4f2f3c16e46f",
   "metadata": {},
   "source": [
    "And the operator given by the sum of their components is:"
   ]
  },
  {
   "cell_type": "code",
   "execution_count": 58,
   "id": "c0869995-ec49-449b-b698-fe8071128589",
   "metadata": {},
   "outputs": [
    {
     "data": {
      "text/html": [
       "<html>\\(\\displaystyle \\left(\\begin{array}{rrrrrrrr}\n",
       "0 & 0 & 0 & 0 & 0 & 1 & 0 & 0 \\\\\n",
       "0 & 0 & 0 & 0 & 0 & 0 & -1 & 0 \\\\\n",
       "0 & 0 & 0 & -1 & 0 & 0 & 0 & 0 \\\\\n",
       "0 & 0 & -1 & 0 & 0 & 0 & 0 & 0 \\\\\n",
       "0 & 0 & 0 & 0 & 0 & 0 & 0 & 1 \\\\\n",
       "1 & 0 & 0 & 0 & 0 & 0 & 0 & 0 \\\\\n",
       "0 & -1 & 0 & 0 & 0 & 0 & 0 & 0 \\\\\n",
       "0 & 0 & 0 & 0 & 1 & 0 & 0 & 0\n",
       "\\end{array}\\right)\\)</html>"
      ],
      "text/latex": [
       "$\\displaystyle \\left(\\begin{array}{rrrrrrrr}\n",
       "0 & 0 & 0 & 0 & 0 & 1 & 0 & 0 \\\\\n",
       "0 & 0 & 0 & 0 & 0 & 0 & -1 & 0 \\\\\n",
       "0 & 0 & 0 & -1 & 0 & 0 & 0 & 0 \\\\\n",
       "0 & 0 & -1 & 0 & 0 & 0 & 0 & 0 \\\\\n",
       "0 & 0 & 0 & 0 & 0 & 0 & 0 & 1 \\\\\n",
       "1 & 0 & 0 & 0 & 0 & 0 & 0 & 0 \\\\\n",
       "0 & -1 & 0 & 0 & 0 & 0 & 0 & 0 \\\\\n",
       "0 & 0 & 0 & 0 & 1 & 0 & 0 & 0\n",
       "\\end{array}\\right)$"
      ],
      "text/plain": [
       "[ 0  0  0  0  0  1  0  0]\n",
       "[ 0  0  0  0  0  0 -1  0]\n",
       "[ 0  0  0 -1  0  0  0  0]\n",
       "[ 0  0 -1  0  0  0  0  0]\n",
       "[ 0  0  0  0  0  0  0  1]\n",
       "[ 1  0  0  0  0  0  0  0]\n",
       "[ 0 -1  0  0  0  0  0  0]\n",
       "[ 0  0  0  0  1  0  0  0]"
      ]
     },
     "execution_count": 58,
     "metadata": {},
     "output_type": "execute_result"
    }
   ],
   "source": [
    "D(x^6+x^3,x^4+x^7)"
   ]
  },
  {
   "cell_type": "markdown",
   "id": "f8ddde8a-b96a-4de3-bb49-2576130d7cb2",
   "metadata": {},
   "source": [
    "And as we can see they are equal:"
   ]
  },
  {
   "cell_type": "code",
   "execution_count": 59,
   "id": "41d4696a-db95-45f0-9acf-b56186e05dd8",
   "metadata": {},
   "outputs": [
    {
     "data": {
      "text/html": [
       "<html>\\(\\displaystyle \\mathrm{True}\\)</html>"
      ],
      "text/latex": [
       "$\\displaystyle \\mathrm{True}$"
      ],
      "text/plain": [
       "True"
      ]
     },
     "execution_count": 59,
     "metadata": {},
     "output_type": "execute_result"
    }
   ],
   "source": [
    "D(x^6,x^4) * D(x^3,x^7) == D(x^6+x^3,x^4+x^7)"
   ]
  },
  {
   "cell_type": "code",
   "execution_count": 46,
   "id": "231bdc9d-7aeb-4260-8d28-53381f65a5b6",
   "metadata": {},
   "outputs": [],
   "source": [
    "# for p1 in points:\n",
    "#     for p2 in points:\n",
    "#         print(D(p1[0],p1[1]) * D(p2[0], p2[1]) - D(p1[0] + p2[0], p1[1] + p2[1]))"
   ]
  },
  {
   "cell_type": "markdown",
   "id": "1cb25280-7e6c-4d0a-a859-adcea97d4a6d",
   "metadata": {},
   "source": [
    "---\n",
    "Now let's begin testing some other curves. Let's study the curve:\n",
    "$$\n",
    "\\beta = \\sigma^6 \\alpha + \\sigma^3 \\alpha^2 + \\sigma^5 \\alpha^4.\n",
    "$$"
   ]
  },
  {
   "cell_type": "code",
   "execution_count": 43,
   "id": "bff46885-ae92-4304-92ad-e21edbb461da",
   "metadata": {},
   "outputs": [
    {
     "ename": "Exception",
     "evalue": "((x^2, x^2 + x), (x + 1, x + 1))",
     "output_type": "error",
     "traceback": [
      "\u001b[0;31m---------------------------------------------------------------------------\u001b[0m",
      "\u001b[0;31mException\u001b[0m                                 Traceback (most recent call last)",
      "Cell \u001b[0;32mIn[43], line 2\u001b[0m\n\u001b[1;32m      1\u001b[0m curve \u001b[38;5;241m=\u001b[39m \u001b[38;5;28;01mlambda\u001b[39;00m t: x\u001b[38;5;241m*\u001b[39m\u001b[38;5;241m*\u001b[39mInteger(\u001b[38;5;241m6\u001b[39m) \u001b[38;5;241m*\u001b[39m t \u001b[38;5;241m+\u001b[39m x\u001b[38;5;241m*\u001b[39m\u001b[38;5;241m*\u001b[39mInteger(\u001b[38;5;241m3\u001b[39m) \u001b[38;5;241m*\u001b[39m t\u001b[38;5;241m*\u001b[39m\u001b[38;5;241m*\u001b[39mInteger(\u001b[38;5;241m2\u001b[39m) \u001b[38;5;241m+\u001b[39m x\u001b[38;5;241m*\u001b[39m\u001b[38;5;241m*\u001b[39mInteger(\u001b[38;5;241m5\u001b[39m) \u001b[38;5;241m*\u001b[39m t\u001b[38;5;241m*\u001b[39m\u001b[38;5;241m*\u001b[39mInteger(\u001b[38;5;241m4\u001b[39m)\n\u001b[0;32m----> 2\u001b[0m \u001b[43mtestCurve\u001b[49m\u001b[43m(\u001b[49m\u001b[43m[\u001b[49m\u001b[43m(\u001b[49m\u001b[43mk\u001b[49m\u001b[43m,\u001b[49m\u001b[43m \u001b[49m\u001b[43mcurve\u001b[49m\u001b[43m(\u001b[49m\u001b[43mk\u001b[49m\u001b[43m)\u001b[49m\u001b[43m)\u001b[49m\u001b[43m \u001b[49m\u001b[38;5;28;43;01mfor\u001b[39;49;00m\u001b[43m \u001b[49m\u001b[43mk\u001b[49m\u001b[43m \u001b[49m\u001b[38;5;129;43;01min\u001b[39;49;00m\u001b[43m \u001b[49m\u001b[43mF\u001b[49m\u001b[43m]\u001b[49m\u001b[43m)\u001b[49m\n",
      "Cell \u001b[0;32mIn[27], line 7\u001b[0m, in \u001b[0;36mtestCurve\u001b[0;34m(points)\u001b[0m\n\u001b[1;32m      5\u001b[0m         s_op \u001b[38;5;241m=\u001b[39m D(p1[Integer(\u001b[38;5;241m0\u001b[39m)] \u001b[38;5;241m+\u001b[39m p2[Integer(\u001b[38;5;241m0\u001b[39m)], p1[Integer(\u001b[38;5;241m1\u001b[39m)] \u001b[38;5;241m+\u001b[39m p2[Integer(\u001b[38;5;241m1\u001b[39m)]) \u001b[38;5;66;03m# assuming additivity\u001b[39;00m\n\u001b[1;32m      6\u001b[0m         \u001b[38;5;28;01mif\u001b[39;00m p_op \u001b[38;5;241m!=\u001b[39m s_op:\n\u001b[0;32m----> 7\u001b[0m             \u001b[38;5;28;01mraise\u001b[39;00m \u001b[38;5;167;01mException\u001b[39;00m(p1, p2)\n\u001b[1;32m      8\u001b[0m \u001b[38;5;28;01mreturn\u001b[39;00m \u001b[38;5;28;01mTrue\u001b[39;00m\n",
      "\u001b[0;31mException\u001b[0m: ((x^2, x^2 + x), (x + 1, x + 1))"
     ]
    }
   ],
   "source": [
    "curve = lambda t: x^6 * t + x^3 * t^2 + x^5 * t^4\n",
    "testCurve([(k, curve(k)) for k in F])"
   ]
  },
  {
   "cell_type": "code",
   "execution_count": 60,
   "id": "e064ae98-af16-4cd0-a538-9fd642174a27",
   "metadata": {},
   "outputs": [
    {
     "data": {
      "text/html": [
       "<html>\\(\\displaystyle \\left[0, x, x^{2}, x + 1, x^{2} + x, x^{2} + x + 1, x^{2} + 1, 1\\right]\\)</html>"
      ],
      "text/latex": [
       "$\\displaystyle \\left[0, x, x^{2}, x + 1, x^{2} + x, x^{2} + x + 1, x^{2} + 1, 1\\right]$"
      ],
      "text/plain": [
       "[0, x, x^2, x + 1, x^2 + x, x^2 + x + 1, x^2 + 1, 1]"
      ]
     },
     "execution_count": 60,
     "metadata": {},
     "output_type": "execute_result"
    }
   ],
   "source": [
    "list(F)"
   ]
  },
  {
   "cell_type": "code",
   "execution_count": 63,
   "id": "d48cbf65-66d1-42b7-b59f-b129b50e8e26",
   "metadata": {},
   "outputs": [
    {
     "data": {
      "text/html": [
       "<html>\\(\\displaystyle \\left(x^{2}, x^{2} + x\\right)\\)</html>"
      ],
      "text/latex": [
       "$\\displaystyle \\left(x^{2}, x^{2} + x\\right)$"
      ],
      "text/plain": [
       "(x^2, x^2 + x)"
      ]
     },
     "execution_count": 63,
     "metadata": {},
     "output_type": "execute_result"
    }
   ],
   "source": [
    "p1 = (x^2,x^4)\n",
    "p1"
   ]
  },
  {
   "cell_type": "code",
   "execution_count": 64,
   "id": "3793af8d-bbac-455e-a5e5-5e1fed9ed15b",
   "metadata": {},
   "outputs": [
    {
     "data": {
      "text/html": [
       "<html>\\(\\displaystyle \\left(x + 1, x + 1\\right)\\)</html>"
      ],
      "text/latex": [
       "$\\displaystyle \\left(x + 1, x + 1\\right)$"
      ],
      "text/plain": [
       "(x + 1, x + 1)"
      ]
     },
     "execution_count": 64,
     "metadata": {},
     "output_type": "execute_result"
    }
   ],
   "source": [
    "p2 = (x^3,x^3)\n",
    "p2"
   ]
  },
  {
   "cell_type": "code",
   "execution_count": 65,
   "id": "328ace1b-01b1-4789-a665-86b73c4ded71",
   "metadata": {},
   "outputs": [
    {
     "data": {
      "text/html": [
       "<html>\\(\\displaystyle \\left(x^{2} + x + 1, x^{2} + 1\\right)\\)</html>"
      ],
      "text/latex": [
       "$\\displaystyle \\left(x^{2} + x + 1, x^{2} + 1\\right)$"
      ],
      "text/plain": [
       "(x^2 + x + 1, x^2 + 1)"
      ]
     },
     "execution_count": 65,
     "metadata": {},
     "output_type": "execute_result"
    }
   ],
   "source": [
    "p3 = (p1[0] + p2[0], p1[1] + p2[1])\n",
    "p3"
   ]
  },
  {
   "cell_type": "code",
   "execution_count": 67,
   "id": "1cce6070-a42c-4abe-8279-fe948107e908",
   "metadata": {},
   "outputs": [
    {
     "data": {
      "text/html": [
       "<html>\\(\\displaystyle \\left(\\begin{array}{rrrrrrrr}\n",
       "0 & 0 & 0 & 0 & 0 & 0 & -1 & 0 \\\\\n",
       "0 & 0 & 0 & 0 & 0 & 1 & 0 & 0 \\\\\n",
       "0 & 0 & 0 & 0 & 0 & 0 & 0 & 1 \\\\\n",
       "0 & 0 & 0 & 0 & -1 & 0 & 0 & 0 \\\\\n",
       "0 & 0 & 0 & -1 & 0 & 0 & 0 & 0 \\\\\n",
       "0 & 1 & 0 & 0 & 0 & 0 & 0 & 0 \\\\\n",
       "-1 & 0 & 0 & 0 & 0 & 0 & 0 & 0 \\\\\n",
       "0 & 0 & 1 & 0 & 0 & 0 & 0 & 0\n",
       "\\end{array}\\right)\\)</html>"
      ],
      "text/latex": [
       "$\\displaystyle \\left(\\begin{array}{rrrrrrrr}\n",
       "0 & 0 & 0 & 0 & 0 & 0 & -1 & 0 \\\\\n",
       "0 & 0 & 0 & 0 & 0 & 1 & 0 & 0 \\\\\n",
       "0 & 0 & 0 & 0 & 0 & 0 & 0 & 1 \\\\\n",
       "0 & 0 & 0 & 0 & -1 & 0 & 0 & 0 \\\\\n",
       "0 & 0 & 0 & -1 & 0 & 0 & 0 & 0 \\\\\n",
       "0 & 1 & 0 & 0 & 0 & 0 & 0 & 0 \\\\\n",
       "-1 & 0 & 0 & 0 & 0 & 0 & 0 & 0 \\\\\n",
       "0 & 0 & 1 & 0 & 0 & 0 & 0 & 0\n",
       "\\end{array}\\right)$"
      ],
      "text/plain": [
       "[ 0  0  0  0  0  0 -1  0]\n",
       "[ 0  0  0  0  0  1  0  0]\n",
       "[ 0  0  0  0  0  0  0  1]\n",
       "[ 0  0  0  0 -1  0  0  0]\n",
       "[ 0  0  0 -1  0  0  0  0]\n",
       "[ 0  1  0  0  0  0  0  0]\n",
       "[-1  0  0  0  0  0  0  0]\n",
       "[ 0  0  1  0  0  0  0  0]"
      ]
     },
     "execution_count": 67,
     "metadata": {},
     "output_type": "execute_result"
    }
   ],
   "source": [
    "D(*p1) * D(*p2)"
   ]
  },
  {
   "cell_type": "code",
   "execution_count": 69,
   "id": "8186f5d6-e5bf-4693-a946-f9558dad9853",
   "metadata": {},
   "outputs": [
    {
     "data": {
      "text/html": [
       "<html>\\(\\displaystyle \\left(\\begin{array}{rrrrrrrr}\n",
       "0 & 0 & 0 & 0 & 0 & 0 & 1 & 0 \\\\\n",
       "0 & 0 & 0 & 0 & 0 & -1 & 0 & 0 \\\\\n",
       "0 & 0 & 0 & 0 & 0 & 0 & 0 & -1 \\\\\n",
       "0 & 0 & 0 & 0 & 1 & 0 & 0 & 0 \\\\\n",
       "0 & 0 & 0 & 1 & 0 & 0 & 0 & 0 \\\\\n",
       "0 & -1 & 0 & 0 & 0 & 0 & 0 & 0 \\\\\n",
       "1 & 0 & 0 & 0 & 0 & 0 & 0 & 0 \\\\\n",
       "0 & 0 & -1 & 0 & 0 & 0 & 0 & 0\n",
       "\\end{array}\\right)\\)</html>"
      ],
      "text/latex": [
       "$\\displaystyle \\left(\\begin{array}{rrrrrrrr}\n",
       "0 & 0 & 0 & 0 & 0 & 0 & 1 & 0 \\\\\n",
       "0 & 0 & 0 & 0 & 0 & -1 & 0 & 0 \\\\\n",
       "0 & 0 & 0 & 0 & 0 & 0 & 0 & -1 \\\\\n",
       "0 & 0 & 0 & 0 & 1 & 0 & 0 & 0 \\\\\n",
       "0 & 0 & 0 & 1 & 0 & 0 & 0 & 0 \\\\\n",
       "0 & -1 & 0 & 0 & 0 & 0 & 0 & 0 \\\\\n",
       "1 & 0 & 0 & 0 & 0 & 0 & 0 & 0 \\\\\n",
       "0 & 0 & -1 & 0 & 0 & 0 & 0 & 0\n",
       "\\end{array}\\right)$"
      ],
      "text/plain": [
       "[ 0  0  0  0  0  0  1  0]\n",
       "[ 0  0  0  0  0 -1  0  0]\n",
       "[ 0  0  0  0  0  0  0 -1]\n",
       "[ 0  0  0  0  1  0  0  0]\n",
       "[ 0  0  0  1  0  0  0  0]\n",
       "[ 0 -1  0  0  0  0  0  0]\n",
       "[ 1  0  0  0  0  0  0  0]\n",
       "[ 0  0 -1  0  0  0  0  0]"
      ]
     },
     "execution_count": 69,
     "metadata": {},
     "output_type": "execute_result"
    }
   ],
   "source": [
    "D(*p3)"
   ]
  },
  {
   "cell_type": "code",
   "execution_count": 71,
   "id": "6dafe222-fbb8-470b-9a50-1e5588dc67e9",
   "metadata": {},
   "outputs": [
    {
     "data": {
      "text/html": [
       "<html>\\(\\displaystyle \\mathrm{True}\\)</html>"
      ],
      "text/latex": [
       "$\\displaystyle \\mathrm{True}$"
      ],
      "text/plain": [
       "True"
      ]
     },
     "execution_count": 71,
     "metadata": {},
     "output_type": "execute_result"
    }
   ],
   "source": [
    "curve(x^2) == x^4"
   ]
  },
  {
   "cell_type": "code",
   "execution_count": 72,
   "id": "55925fc1-9753-4821-8000-6ce89d56a931",
   "metadata": {},
   "outputs": [
    {
     "data": {
      "text/html": [
       "<html>\\(\\displaystyle \\mathrm{True}\\)</html>"
      ],
      "text/latex": [
       "$\\displaystyle \\mathrm{True}$"
      ],
      "text/plain": [
       "True"
      ]
     },
     "execution_count": 72,
     "metadata": {},
     "output_type": "execute_result"
    }
   ],
   "source": [
    "curve(x^3) == x^3"
   ]
  },
  {
   "cell_type": "code",
   "execution_count": null,
   "id": "836b6060-17b5-4794-aa44-a45e76b83221",
   "metadata": {},
   "outputs": [],
   "source": []
  }
 ],
 "metadata": {
  "kernelspec": {
   "display_name": "SageMath 9.8",
   "language": "sage",
   "name": "sagemath"
  },
  "language_info": {
   "codemirror_mode": {
    "name": "ipython",
    "version": 3
   },
   "file_extension": ".py",
   "mimetype": "text/x-python",
   "name": "python",
   "nbconvert_exporter": "python",
   "pygments_lexer": "ipython3",
   "version": "3.9.16"
  }
 },
 "nbformat": 4,
 "nbformat_minor": 5
}
