{
 "cells": [
  {
   "cell_type": "code",
   "execution_count": 1,
   "metadata": {},
   "outputs": [],
   "source": [
    "from sage.all import *\n",
    "import numpy as np"
   ]
  },
  {
   "attachments": {},
   "cell_type": "markdown",
   "metadata": {},
   "source": [
    "We will quickly investigate some of the properties of the Weyl-Heisenberg group."
   ]
  },
  {
   "cell_type": "code",
   "execution_count": 130,
   "metadata": {},
   "outputs": [],
   "source": [
    "p = 2\n",
    "n = 1\n",
    "d = p**n\n",
    "\n",
    "omega = exp(2*pi*I / d)\n",
    "omega\n",
    "\n",
    "Z = diagonal_matrix(SR, [omega**j for j in range(d)])\n",
    "X = Permutation(list(range(2,d+1)) + [1]).to_matrix()"
   ]
  },
  {
   "attachments": {},
   "cell_type": "markdown",
   "metadata": {},
   "source": [
    "It is true that $X^p = Z^p = 1$."
   ]
  },
  {
   "cell_type": "code",
   "execution_count": 131,
   "metadata": {},
   "outputs": [
    {
     "data": {
      "text/plain": [
       "True"
      ]
     },
     "execution_count": 131,
     "metadata": {},
     "output_type": "execute_result"
    }
   ],
   "source": [
    "X**p == identity_matrix(d) and (Z**p) == identity_matrix(d)"
   ]
  },
  {
   "cell_type": "code",
   "execution_count": 132,
   "metadata": {},
   "outputs": [],
   "source": [
    "def D(a,b):\n",
    "    return X**a * Z**b"
   ]
  },
  {
   "cell_type": "code",
   "execution_count": 139,
   "metadata": {},
   "outputs": [
    {
     "name": "stdout",
     "output_type": "stream",
     "text": [
      "[ 0 -1]\n",
      "[ 1  0]\n"
     ]
    },
    {
     "ename": "Exception",
     "evalue": "Not full group",
     "output_type": "error",
     "traceback": [
      "\u001b[0;31m---------------------------------------------------------------------------\u001b[0m",
      "\u001b[0;31mException\u001b[0m                                 Traceback (most recent call last)",
      "Cell \u001b[0;32mIn[139], line 5\u001b[0m\n\u001b[1;32m      3\u001b[0m         \u001b[39mif\u001b[39;00m D(a,b)\u001b[39m*\u001b[39m\u001b[39m*\u001b[39m(p) \u001b[39m!=\u001b[39m identity_matrix(d):\n\u001b[1;32m      4\u001b[0m             \u001b[39mprint\u001b[39m(D(a,b))\n\u001b[0;32m----> 5\u001b[0m             \u001b[39mraise\u001b[39;00m \u001b[39mException\u001b[39;00m(\u001b[39m'\u001b[39m\u001b[39mNot full group\u001b[39m\u001b[39m'\u001b[39m)\n\u001b[1;32m      6\u001b[0m \u001b[39mprint\u001b[39m(\u001b[39m'\u001b[39m\u001b[39mFull group\u001b[39m\u001b[39m'\u001b[39m)\n",
      "\u001b[0;31mException\u001b[0m: Not full group"
     ]
    }
   ],
   "source": [
    "for a in range(d):\n",
    "    for b in range(d):\n",
    "        if D(a,b)**(p) != identity_matrix(d):\n",
    "            print(D(a,b))\n",
    "            raise Exception('Not full group')\n",
    "print('Full group')"
   ]
  },
  {
   "cell_type": "code",
   "execution_count": 140,
   "metadata": {},
   "outputs": [
    {
     "data": {
      "text/plain": [
       "[-1  0]\n",
       "[ 0 -1]"
      ]
     },
     "execution_count": 140,
     "metadata": {},
     "output_type": "execute_result"
    }
   ],
   "source": [
    "((X*Z)**p).apply_map(lambda x: x.full_simplify())"
   ]
  },
  {
   "cell_type": "code",
   "execution_count": 141,
   "metadata": {},
   "outputs": [
    {
     "data": {
      "text/plain": [
       "-1"
      ]
     },
     "execution_count": 141,
     "metadata": {},
     "output_type": "execute_result"
    }
   ],
   "source": [
    "X.det()"
   ]
  },
  {
   "cell_type": "code",
   "execution_count": 142,
   "metadata": {},
   "outputs": [
    {
     "data": {
      "text/plain": [
       "-1"
      ]
     },
     "execution_count": 142,
     "metadata": {},
     "output_type": "execute_result"
    }
   ],
   "source": [
    "Z.det().full_simplify()"
   ]
  },
  {
   "cell_type": "code",
   "execution_count": 143,
   "metadata": {},
   "outputs": [
    {
     "data": {
      "text/plain": [
       "array([[ 1. +0.j ,  0. +0.j ,  0. +0.j ,  0. +0.j ],\n",
       "       [ 0. +0.j ,  1. +0.j ,  0. +0.j ,  0. +0.j ],\n",
       "       [ 0. +0.j ,  0. +0.j ,  1. +0.j ,  0. +0.j ],\n",
       "       [ 0. +0.j ,  0. +0.j ,  0. +0.j ,  1. +0.j ],\n",
       "       [ 0.5+0.j ,  0.5+0.j ,  0.5+0.j ,  0.5+0.j ],\n",
       "       [ 0.5+0.j ,  0.5+0.j , -0.5+0.j , -0.5+0.j ],\n",
       "       [ 0.5+0.j , -0.5+0.j , -0.5+0.j ,  0.5+0.j ],\n",
       "       [ 0.5+0.j , -0.5+0.j ,  0.5+0.j , -0.5+0.j ],\n",
       "       [ 0.5+0.j ,  0.5+0.j ,  0.5+0.j ,  0.5+0.j ],\n",
       "       [-0.5+0.j , -0.5+0.j ,  0.5+0.j ,  0.5+0.j ],\n",
       "       [ 0. -0.5j,  0. +0.5j,  0. +0.5j,  0. -0.5j],\n",
       "       [ 0. -0.5j,  0. +0.5j,  0. -0.5j,  0. +0.5j],\n",
       "       [ 0.5+0.j ,  0.5+0.j ,  0.5+0.j ,  0.5+0.j ],\n",
       "       [ 0. -0.5j,  0. -0.5j,  0. +0.5j,  0. +0.5j],\n",
       "       [-0.5+0.j ,  0.5+0.j ,  0.5+0.j , -0.5+0.j ],\n",
       "       [ 0. -0.5j,  0. +0.5j,  0. -0.5j,  0. +0.5j],\n",
       "       [ 0.5+0.j ,  0.5+0.j ,  0.5+0.j ,  0.5+0.j ],\n",
       "       [ 0. -0.5j,  0. -0.5j,  0. +0.5j,  0. +0.5j],\n",
       "       [ 0. -0.5j,  0. +0.5j,  0. +0.5j,  0. -0.5j],\n",
       "       [-0.5+0.j ,  0.5+0.j , -0.5+0.j ,  0.5+0.j ]], dtype=complex64)"
      ]
     },
     "execution_count": 143,
     "metadata": {},
     "output_type": "execute_result"
    }
   ],
   "source": [
    "mubs = np.load('MUBS/2-2-desarguesian.npy')\n",
    "mubs"
   ]
  },
  {
   "cell_type": "code",
   "execution_count": 159,
   "metadata": {},
   "outputs": [
    {
     "data": {
      "text/plain": [
       "True"
      ]
     },
     "execution_count": 159,
     "metadata": {},
     "output_type": "execute_result"
    }
   ],
   "source": [
    "v = mubs[4:8,0]\n",
    "def proj(v):\n",
    "    return np.kron(v.reshape((4,1)), v.conj())\n",
    "Q = proj(v)\n",
    "np.all(Q.conj().T == Q)"
   ]
  },
  {
   "cell_type": "code",
   "execution_count": 166,
   "metadata": {},
   "outputs": [],
   "source": [
    "A = np.zeros((4,4), dtype='complex64')\n",
    "for i in range(5):\n",
    "    A += proj(mubs[4*i:4*(i+1), 0])\n",
    "A = A - np.eye(4)"
   ]
  },
  {
   "cell_type": "code",
   "execution_count": 167,
   "metadata": {},
   "outputs": [
    {
     "data": {
      "text/plain": [
       "array([[1. +0.j , 0. +0.5j, 0. +0.5j, 0. +0.5j],\n",
       "       [0. -0.5j, 0. +0.j , 0.5+0.j , 0.5+0.j ],\n",
       "       [0. -0.5j, 0.5+0.j , 0. +0.j , 0.5+0.j ],\n",
       "       [0. -0.5j, 0.5+0.j , 0.5+0.j , 0. +0.j ]])"
      ]
     },
     "execution_count": 167,
     "metadata": {},
     "output_type": "execute_result"
    }
   ],
   "source": [
    "A.round(2)"
   ]
  },
  {
   "cell_type": "code",
   "execution_count": 168,
   "metadata": {},
   "outputs": [
    {
     "data": {
      "text/plain": [
       "(1+0j)"
      ]
     },
     "execution_count": 168,
     "metadata": {},
     "output_type": "execute_result"
    }
   ],
   "source": [
    "A.trace()"
   ]
  },
  {
   "cell_type": "code",
   "execution_count": null,
   "metadata": {},
   "outputs": [],
   "source": []
  }
 ],
 "metadata": {
  "kernelspec": {
   "display_name": "wigner",
   "language": "python",
   "name": "python3"
  },
  "language_info": {
   "codemirror_mode": {
    "name": "ipython",
    "version": 3
   },
   "file_extension": ".py",
   "mimetype": "text/x-python",
   "name": "python",
   "nbconvert_exporter": "python",
   "pygments_lexer": "ipython3",
   "version": "3.9.16"
  },
  "orig_nbformat": 4
 },
 "nbformat": 4,
 "nbformat_minor": 2
}
