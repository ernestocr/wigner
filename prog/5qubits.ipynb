{
 "cells": [
  {
   "cell_type": "code",
   "execution_count": 1,
   "id": "e8216ec3-6ac9-450f-928e-de39f7e85868",
   "metadata": {},
   "outputs": [],
   "source": [
    "%display latex"
   ]
  },
  {
   "cell_type": "code",
   "execution_count": 165,
   "id": "bc2971ff-98d4-48ed-bf4e-728bdc8f3711",
   "metadata": {},
   "outputs": [],
   "source": [
    "import numpy as np\n",
    "from sage.all import *\n",
    "from mubs_utils import testMubs, saveMubs"
   ]
  },
  {
   "cell_type": "markdown",
   "id": "0d3618d7-3672-4960-9e24-2535e72ad470",
   "metadata": {},
   "source": [
    "First we define all the necessary data. We are working with five qubits, therefore $\\mathcal H = \\mathbb (C^{2})^{\\otimes n}$. We need a field of 32 elements, $F$, which we will fix the order by powers of a generating element."
   ]
  },
  {
   "cell_type": "code",
   "execution_count": 301,
   "id": "375827ad-b525-45ff-af8d-fad6647e6216",
   "metadata": {},
   "outputs": [],
   "source": [
    "p = 2\n",
    "n = 5\n",
    "d = p**n"
   ]
  },
  {
   "cell_type": "code",
   "execution_count": 167,
   "id": "ea5d8550-0333-4b44-93e8-a9af6ebb9cd2",
   "metadata": {},
   "outputs": [],
   "source": [
    "F = GF(d, 'a')\n",
    "a = F.gen()\n",
    "F = [F(0)] + [a**i for i in range(d-1)]"
   ]
  },
  {
   "cell_type": "markdown",
   "id": "5ebeb4f0-afe8-47c9-9796-a674868fe4ea",
   "metadata": {},
   "source": [
    "In order to solve Sainz's phase equation or to construct the eigenvectors following Kanat, we must do the pertinent calculations in the Galois ring $GR(4,5)$ of 1,024 elements. To do this we find an irreducible polynomial over the ring of integers modulo 4, then take the quotient:"
   ]
  },
  {
   "cell_type": "code",
   "execution_count": 168,
   "id": "f83e2670-dbce-4870-9cd8-862b26a1485a",
   "metadata": {},
   "outputs": [],
   "source": [
    "R = PolynomialRing(Integers(4), 't'); t = R.gen()"
   ]
  },
  {
   "cell_type": "markdown",
   "id": "0054f926-68e6-4fab-af6c-8ad3dbed7893",
   "metadata": {},
   "source": [
    "The irreducible polynomial chosen is:"
   ]
  },
  {
   "cell_type": "code",
   "execution_count": 169,
   "id": "4d813657-724d-4244-869e-3a6067af79cd",
   "metadata": {},
   "outputs": [
    {
     "data": {
      "text/html": [
       "<html>\\(\\displaystyle (t^{5} + t^{2} + 1)\\)</html>"
      ],
      "text/latex": [
       "$\\displaystyle (t^{5} + t^{2} + 1)$"
      ],
      "text/plain": [
       "t^5 + t^2 + 1"
      ]
     },
     "execution_count": 169,
     "metadata": {},
     "output_type": "execute_result"
    }
   ],
   "source": [
    "factor(t**5 + t**2 + 1)"
   ]
  },
  {
   "cell_type": "code",
   "execution_count": 170,
   "id": "d9a0ad4e-ee12-44aa-afcc-809de93c0a46",
   "metadata": {},
   "outputs": [
    {
     "data": {
      "text/html": [
       "<html>\\(\\displaystyle \\newcommand{\\ZZ}{\\Bold{Z}}\\newcommand{\\Bold}[1]{\\mathbf{#1}}\\ZZ/4\\ZZ[t]/\\left(t^{5} + t^{2} + 1\\right)\\ZZ/4\\ZZ[t]\\)</html>"
      ],
      "text/latex": [
       "$\\displaystyle \\newcommand{\\ZZ}{\\Bold{Z}}\\newcommand{\\Bold}[1]{\\mathbf{#1}}\\ZZ/4\\ZZ[t]/\\left(t^{5} + t^{2} + 1\\right)\\ZZ/4\\ZZ[t]$"
      ],
      "text/plain": [
       "Univariate Quotient Polynomial Ring in x over Ring of integers modulo 4 with modulus t^5 + t^2 + 1"
      ]
     },
     "execution_count": 170,
     "metadata": {},
     "output_type": "execute_result"
    }
   ],
   "source": [
    "GR = R.quotient(t**5 + t**2 + 1, 'x'); x = GR.gen()\n",
    "GR"
   ]
  },
  {
   "cell_type": "markdown",
   "id": "4bff03c2-8fdf-44ee-bbdd-24084ac1c9b7",
   "metadata": {},
   "source": [
    "The element $x$ is a generator of the Galois ring which is given by a root of the polynomial:"
   ]
  },
  {
   "cell_type": "code",
   "execution_count": 171,
   "id": "ddfccf48-b9f9-4d77-a798-4863cdbf85d4",
   "metadata": {},
   "outputs": [
    {
     "data": {
      "text/html": [
       "<html>\\(\\displaystyle 0\\)</html>"
      ],
      "text/latex": [
       "$\\displaystyle 0$"
      ],
      "text/plain": [
       "0"
      ]
     },
     "execution_count": 171,
     "metadata": {},
     "output_type": "execute_result"
    }
   ],
   "source": [
    "x**5 + x**2 + 1 # verify that the poly does factor"
   ]
  },
  {
   "cell_type": "markdown",
   "id": "e122f97d-9f52-495e-82e6-721b673609e5",
   "metadata": {},
   "source": [
    "It is important to note the ring generator does not generate the multiplicative cyclic subgroup of $GR(4,5)$, as can be seen by taking its $31$st power:"
   ]
  },
  {
   "cell_type": "code",
   "execution_count": 172,
   "id": "12fa011a-7d40-47f7-8d42-be34a9d46e71",
   "metadata": {},
   "outputs": [
    {
     "data": {
      "text/html": [
       "<html>\\(\\displaystyle 2 x^{3} + 2 x + 1\\)</html>"
      ],
      "text/latex": [
       "$\\displaystyle 2 x^{3} + 2 x + 1$"
      ],
      "text/plain": [
       "2*x^3 + 2*x + 1"
      ]
     },
     "execution_count": 172,
     "metadata": {},
     "output_type": "execute_result"
    }
   ],
   "source": [
    "# the ring generator is NOT the multiplicative group generator\n",
    "x**(2**5-1)"
   ]
  },
  {
   "cell_type": "markdown",
   "id": "dfd0c56d-21de-4288-9c15-16e1caba74de",
   "metadata": {},
   "source": [
    "Dr. Andres found the generator we are looking for:"
   ]
  },
  {
   "cell_type": "code",
   "execution_count": 173,
   "id": "01b78a2f-ce67-4e20-8cf6-26d7c22021a0",
   "metadata": {},
   "outputs": [
    {
     "data": {
      "text/html": [
       "<html>\\(\\displaystyle 1\\)</html>"
      ],
      "text/latex": [
       "$\\displaystyle 1$"
      ],
      "text/plain": [
       "1"
      ]
     },
     "execution_count": 173,
     "metadata": {},
     "output_type": "execute_result"
    }
   ],
   "source": [
    "# Don't know how but this works.\n",
    "xi = x**2 + 2*x + 1\n",
    "xi**(2**5-1)"
   ]
  },
  {
   "cell_type": "markdown",
   "id": "8f9b6812-97af-4f59-a6f8-6d115a23f508",
   "metadata": {},
   "source": [
    "We construct the Teichmüller $\\mathcal T$ as the union of $\\{0\\}$ and a cyclic subgroup of $GR(4,5)$ of size $2^5-1$ which is isomorphic to $F^*$. We can obtain this set using the generator $\\xi$:"
   ]
  },
  {
   "cell_type": "code",
   "execution_count": 174,
   "id": "c735a7d7-8287-456a-b5b1-9231b183c8e7",
   "metadata": {},
   "outputs": [
    {
     "data": {
      "text/html": [
       "<html>\\(\\displaystyle 32\\)</html>"
      ],
      "text/latex": [
       "$\\displaystyle 32$"
      ],
      "text/plain": [
       "32"
      ]
     },
     "execution_count": 174,
     "metadata": {},
     "output_type": "execute_result"
    }
   ],
   "source": [
    "T = [GR(0)] + [xi**k for k in range(2**n - 2 + 1)]\n",
    "len(T)"
   ]
  },
  {
   "cell_type": "markdown",
   "id": "54c0fa80-d2e2-4120-b610-cf459e57eb7c",
   "metadata": {},
   "source": [
    "Every element of the Teichmüller set can be given a $2$-adic representation, i.e., for $x \\in \\mathcal T$ we can find elements $a,b \\in \\mathcal T$ such that $x = a + 2b$. "
   ]
  },
  {
   "cell_type": "markdown",
   "id": "8bcff28c-4eb0-47f7-8f37-ad6c4ccb3a58",
   "metadata": {},
   "source": [
    "The ring trace is then defined as\n",
    "$$Tr(x) = a + a^2 + ... + a^{2^{r-1}} + 2(b + b^2 + ... + b^{2^{r-1}})$$\n",
    "for $x = a + 2b$ and $r = 5$."
   ]
  },
  {
   "cell_type": "markdown",
   "id": "898454ed-b5d9-4402-ac18-2afb74834960",
   "metadata": {},
   "source": [
    "The set $\\mathcal T$ is isomorphic to the finite field $F$. The mapping the achieves this is called the Teichmüller lift and we assume that it is given by the power order, that is to say the generator of $F$ is mapped to the generator of $\\mathcal T$. In this case\n",
    "$$a \\mapsto \\xi = x^2 + 2x + 1,$$\n",
    "where $a$ is the generator of the field $F$ and $x$ is the generator of the ring."
   ]
  },
  {
   "cell_type": "code",
   "execution_count": 175,
   "id": "3512263d-5ec4-4032-81eb-41586bafc322",
   "metadata": {},
   "outputs": [],
   "source": [
    "def ringTrace(a, b):\n",
    "    s = GR(0)\n",
    "    for k in range(n):\n",
    "        s += a**(2**k) + GR(2)*b**(2**k)\n",
    "    return s "
   ]
  },
  {
   "cell_type": "code",
   "execution_count": 176,
   "id": "f6453df7-1cf1-440a-8113-adbe93377929",
   "metadata": {},
   "outputs": [],
   "source": [
    "# To use the ring trace as defined previously we\n",
    "# must decompose x into its 2-adic representation.\n",
    "def brute2adic(x):\n",
    "    for a in T:\n",
    "        for b in T:\n",
    "            if x == a + GR(2)*b:\n",
    "                return (a,b)\n",
    "\n",
    "# This one is slightly faster\n",
    "def dumb2adic(x):\n",
    "    for b in T:\n",
    "        a = x - GR(2)*b\n",
    "        if a in T:\n",
    "            return (a,b)"
   ]
  },
  {
   "cell_type": "markdown",
   "id": "e54c3ad6-72f9-4cd7-a438-bf361a62a84d",
   "metadata": {},
   "source": [
    "Now let's get in the phase space construction. First of all we have to setup the generators of the Pauli group:\n",
    "$$\n",
    "Z_\\alpha = \\sum_{\\kappa} \\chi(\\kappa \\alpha) |\\kappa\\rangle \\langle\\kappa|,\n",
    "\\quad\n",
    "X_\\beta  = \\sum_{\\kappa} |\\kappa + \\beta\\rangle \\langle \\kappa|.\n",
    "$$\n",
    "\n",
    "Here we see our first parting point in methodology. The physicists (Vourdas, Klimov) have used the ordering $Z_\\alpha X_\\beta$ whereas the mathematicians have chosen $X_\\alpha Z_\\beta$ (Kanat, Kantor). Since these operators don't commute we have to take into account the ordering even though we know that:\n",
    "$$\n",
    "Z_\\alpha X_\\beta = \\chi(\\alpha\\beta) X_\\beta Z_\\alpha,\n",
    "$$\n",
    "especially since we consider the phase space to be a grid $F \\oplus F$, where the points $(\\alpha,\\beta)$ label the operators. With the first ordering, the operators corresponding to the horizontal ray $(\\alpha, 0)$ are the $Z_\\alpha$ operators, whereas for the second ordering the ray corresponds to the $X_\\alpha$ operators. For the first ordering the computational basis will be assigned to the horizontal lines, while the Fourier basis will be vertical. This works well with the rotation operators viewpoint of the curves in phase space. As all the regular curves can be obtained by \"rotation\" operators from the horizontal curves, in other words there exists $V_{f}$ such that $V_{f}Z_\\alpha V_{f}^\\dagger = Z_\\alpha X_{f(\\alpha)}$, ignoring phase."
   ]
  },
  {
   "cell_type": "markdown",
   "id": "dc84e115-e987-4c3e-b92e-f2badf3ae894",
   "metadata": {},
   "source": [
    "The additive character $\\chi(\\alpha) = \\omega^{\\alpha}$ where $\\omega = e^{2\\pi i / p}$ is primitive $p$-root of the $\\mathbb C$. In this case ($p = 2$) we have:"
   ]
  },
  {
   "cell_type": "code",
   "execution_count": 177,
   "id": "7b1ed249-73f0-4ad4-80cd-2b6b2163304a",
   "metadata": {},
   "outputs": [
    {
     "data": {
      "text/html": [
       "<html>\\(\\displaystyle -1\\)</html>"
      ],
      "text/latex": [
       "$\\displaystyle -1$"
      ],
      "text/plain": [
       "-1"
      ]
     },
     "execution_count": 177,
     "metadata": {},
     "output_type": "execute_result"
    }
   ],
   "source": [
    "exp(2*pi*I/2)"
   ]
  },
  {
   "cell_type": "markdown",
   "id": "bc19b595-2585-4bc5-b066-05c9ea63712e",
   "metadata": {},
   "source": [
    "I'm going to define the displacement operators as Sainz does, that means we will use the physicists order:\n",
    "$$D(\\alpha,\\beta) = \\Phi(\\alpha,\\beta) Z(\\alpha) X(\\beta).$$"
   ]
  },
  {
   "cell_type": "code",
   "execution_count": 178,
   "id": "2467109f-3177-4cc0-af16-fef4faef8ece",
   "metadata": {},
   "outputs": [],
   "source": [
    "def Chi(x):\n",
    "    return exp(2*pi*I/2 * Integer(x.trace()))"
   ]
  },
  {
   "cell_type": "code",
   "execution_count": 423,
   "id": "f4fcf433-bffb-4f72-ad3f-b492965c7cff",
   "metadata": {},
   "outputs": [],
   "source": [
    "# Define the Fourier operator\n",
    "FF = zero_matrix(SR, d, d)\n",
    "for i, m in enumerate(F):\n",
    "    for j, n in enumerate(F):\n",
    "        FF[i,j] = Chi(m * n) / sqrt(d)"
   ]
  },
  {
   "cell_type": "code",
   "execution_count": 185,
   "id": "35e09878-4921-4077-948b-66bcf1a869e0",
   "metadata": {},
   "outputs": [],
   "source": [
    "# The Z operator is diagonal in the standard basis\n",
    "def Z(a):\n",
    "    return diagonal_matrix([Chi(a * b) for b in F])"
   ]
  },
  {
   "cell_type": "code",
   "execution_count": 186,
   "id": "cdf27b74-0a1c-4430-9b4a-908130801af7",
   "metadata": {},
   "outputs": [],
   "source": [
    "# The X operator is just a permutation matrix\n",
    "def X(b):\n",
    "    return FF.conjugate_transpose() * Z(b) * FF"
   ]
  },
  {
   "cell_type": "code",
   "execution_count": 194,
   "id": "428503c5-1704-4ae8-984e-0199268e972c",
   "metadata": {},
   "outputs": [],
   "source": [
    "def D(a,b):\n",
    "    phase = 1\n",
    "    return phase * Z(a) * X(b)"
   ]
  },
  {
   "cell_type": "code",
   "execution_count": 195,
   "id": "1175377f-5d54-44bf-94dc-467a196ae6bd",
   "metadata": {},
   "outputs": [
    {
     "data": {
      "text/html": [
       "<html>\\(\\displaystyle \\mathrm{True}\\)</html>"
      ],
      "text/latex": [
       "$\\displaystyle \\mathrm{True}$"
      ],
      "text/plain": [
       "True"
      ]
     },
     "execution_count": 195,
     "metadata": {},
     "output_type": "execute_result"
    }
   ],
   "source": [
    "D(F[3], F[4]) * D(F[3], F[4]).conjugate_transpose() == identity_matrix(d)"
   ]
  },
  {
   "cell_type": "code",
   "execution_count": 201,
   "id": "b671960a-61d8-4d5c-b608-a65b7634847b",
   "metadata": {},
   "outputs": [
    {
     "data": {
      "text/html": [
       "<html>\\(\\displaystyle 32\\)</html>"
      ],
      "text/latex": [
       "$\\displaystyle 32$"
      ],
      "text/plain": [
       "32"
      ]
     },
     "execution_count": 201,
     "metadata": {},
     "output_type": "execute_result"
    }
   ],
   "source": [
    "curves = [lambda t: a**i * t for i in range(d)]\n",
    "len(curves)"
   ]
  },
  {
   "cell_type": "code",
   "execution_count": 209,
   "id": "56226b2b-5de8-452f-b6b7-d5c616238391",
   "metadata": {},
   "outputs": [],
   "source": [
    "ray = [(t, curves[12](t)) for t in F]"
   ]
  },
  {
   "cell_type": "code",
   "execution_count": 217,
   "id": "6c090f04-376b-4136-a6be-8d2d7e3d6d7a",
   "metadata": {},
   "outputs": [],
   "source": [
    "# check commutativity\n",
    "for p1 in ray:\n",
    "    for p2 in ray:\n",
    "        if D(*p1) * D(*p2) != D(*p2) * D(*p1):\n",
    "            raise Exception('Operators do not commute!')"
   ]
  },
  {
   "cell_type": "markdown",
   "id": "d538c069-e537-439c-82c4-73649b83069b",
   "metadata": {},
   "source": [
    "At least for $p = 2$, it seems that the operators all commute using the standard rays, nothing seems affected by ignoring phases. What would happen if we added the corresponding phase?\n",
    "\n",
    "Well, since $Z(\\alpha)X(\\beta)$ and $Z(\\alpha')X(\\beta')$ commute for all $(\\alpha,\\beta), (\\alpha',\\beta')$ in a given ray, then\n",
    "$$\n",
    "\\begin{align}\n",
    "D(\\alpha,\\beta) D(\\alpha',\\beta') - D(\\alpha',\\beta')D(\\alpha,\\beta) &=\n",
    "\\Phi(\\alpha,\\beta) \\Phi(\\alpha',\\beta') Z(\\alpha)X(\\beta) Z(\\alpha')X(\\beta') -\n",
    "\\Phi(\\alpha,\\beta) \\Phi(\\alpha',\\beta') Z(\\alpha')X(\\beta') Z(\\alpha)X(\\beta) \\\\\n",
    "&= \\Phi(\\alpha,\\beta) \\Phi(\\alpha',\\beta') \\left[\n",
    "Z(\\alpha)X(\\beta) Z(\\alpha')X(\\beta') - Z(\\alpha')X(\\beta') Z(\\alpha)X(\\beta)\n",
    "\\right] \\\\\n",
    "&= 0.\n",
    "\\end{align}\n",
    "$$"
   ]
  },
  {
   "cell_type": "markdown",
   "id": "e7e490ab-3a91-4df3-a640-b9f0df272a01",
   "metadata": {},
   "source": [
    "So the phase changes nothing, the sets of commuting operators will remain commuting independently of the phase chosen. But what about their simultaneous set of eigenvectors? Well the set of commuting operators $\\{Z(\\alpha)X(\\mu \\alpha)\\}$ share a unique eigenbasis $\\{|\\psi^\\mu_\\nu\\rangle\\}$, i.e., \n",
    "$$\n",
    "Z(\\alpha)X(\\mu \\alpha) |\\psi^\\mu_\\nu\\rangle = \\lambda |\\psi^\\mu_\\nu\\rangle,\n",
    "\\quad \\forall \\alpha \\in F.\n",
    "$$"
   ]
  },
  {
   "cell_type": "markdown",
   "id": "f55fbad5-2e32-44a9-9f92-4090502d00a7",
   "metadata": {},
   "source": [
    "Now these states are mutually unbiased with respect to other curves parametrized by $\\mu$. But recall that the whole Pauli group is of order $2^{2n+1}$, which in this case is 2,048, while the subset parametrized by the phase space is of size $2^{2n}$, which is 1,024. So how does the particular selection of Pauli operators without phase affect the eigenvalues? Let's say $|\\psi^\\mu_\\nu\\rangle$ is en eigenvector of $Z(\\alpha)X(\\mu\\alpha)$, then\n",
    "$$\n",
    "D(\\alpha,\\beta) |\\psi^\\mu_\\nu\\rangle = \\Phi(\\alpha,\\beta) \\lambda |\\psi^\\mu_\\nu\\rangle.\n",
    "$$"
   ]
  },
  {
   "cell_type": "markdown",
   "id": "50ab0dcb-54ca-495a-8c0d-1877b68eaedf",
   "metadata": {},
   "source": [
    "So the eigenvalue is affected by the phase of $D(\\alpha,\\beta)$, how can we identify the $+1$-eigenvector? Especially since in order to construct the set of MUBs we end up actually using a bigger group than the Pauli group, by considering phases $\\{1,-1,i,-i\\}$ and not just those generated by the group character, i.e., $\\{1,-1\\}$. It seems that we will end up with eigenvectors whose eigenvalues are not just $+1$ and $-1$. Do we still only consider $+1$-eigenvectors, or should we consider $i$-eigenvectors as well?"
   ]
  },
  {
   "cell_type": "markdown",
   "id": "d3df5ff9-6563-44bd-b9e0-bfcb993331e2",
   "metadata": {},
   "source": [
    "Let's see an example. We know that the standard basis is an eigenbasis of the $Z(\\alpha)$ operators."
   ]
  },
  {
   "cell_type": "code",
   "execution_count": 237,
   "id": "5369154c-853d-41c2-a6b0-6383876a6baf",
   "metadata": {},
   "outputs": [
    {
     "name": "stdout",
     "output_type": "stream",
     "text": [
      "0 is stabilizer\n"
     ]
    }
   ],
   "source": [
    "for i in range(d):\n",
    "    s = identity_matrix(d)[:,i]\n",
    "    stab = True\n",
    "    for k in F:\n",
    "        if Z(k)[:,i] != s:\n",
    "            stab = False\n",
    "            break\n",
    "    if stab:\n",
    "        print(i, 'is stabilizer')"
   ]
  },
  {
   "cell_type": "markdown",
   "id": "102754be-0863-4386-bde2-3df5fe2a3511",
   "metadata": {},
   "source": [
    "As we can see, the only stabilizer for the set $\\{Z(\\alpha)\\}$ is the vector $|0\\rangle$. The brute force code used here can be used for any MUBs. But we first have to construct the MUBs."
   ]
  },
  {
   "cell_type": "markdown",
   "id": "9234be72-c761-4927-8202-c682c6244109",
   "metadata": {},
   "source": [
    "I will now attempt to construct the full set of MUBs for 5 qubits following the physicists way. The main idea is to start with operators corresponding to the horizontal axis or the vertical one, and to define a operator that transforms those operators into a complete set of commuting operators. We associate the verticals lines $\\alpha = 0$ with the set $\\{X(\\beta)\\}$ and the horizontal lines $\\beta = 0$ with the set $\\{Z(\\alpha)\\}$. The rest of the curves are defined via some bijective function $\\beta = f_\\mu(\\alpha)$ such that $f_{\\mu=0}(\\alpha) = 0$ for all $\\alpha$, i.e., the curves cross the origin. These curves are associated to the sets $\\{Z(\\alpha)X(f_\\mu(\\alpha))\\}$."
   ]
  },
  {
   "cell_type": "markdown",
   "id": "c2336345-4108-4e5f-bc5e-f8b1e3d3e740",
   "metadata": {},
   "source": [
    "These curves can be constructed from the $Z(\\alpha)$ operators via the rotation operators $V_{f_\\mu}$ which are diagonal in the Fourier basis (why?):\n",
    "$$\n",
    "V_{f_\\mu} = \\sum_{\\kappa} c_{\\kappa, f_\\mu} |\\tilde \\kappa\\rangle \\langle\\tilde \\kappa|.\n",
    "$$"
   ]
  },
  {
   "cell_type": "markdown",
   "id": "cb56c568-2155-4d05-a41c-b26a4ea22c69",
   "metadata": {},
   "source": [
    "The coefficients are restrained such that $c_{0,f_\\mu} = 1$ and\n",
    "$$\n",
    "V_{f_\\mu} Z(\\alpha) V_{f_\\mu}^\\dagger = e^{i \\phi(\\alpha,f_\\mu(\\alpha))} Z(\\alpha) X(f_\\mu(\\alpha)).\n",
    "$$\n",
    "\n",
    "Given this restriction and the explicit definition of $V_{f_\\mu}$, we can observe that:\n",
    "\n",
    "$$\n",
    "\\begin{align}\n",
    "V_{f_\\mu} Z(\\alpha) V_{f_\\mu}^\\dagger \n",
    "&= \\left(\\sum_{\\ell} c_{\\ell, f_\\mu} |\\tilde \\ell\\rangle \\langle\\tilde \\ell|\\right)\n",
    "Z(\\alpha) \\left(\\sum_{\\kappa} c_{\\kappa, f_\\mu} |\\tilde \\kappa\\rangle \\langle\\tilde \\kappa|\\right)^\\dagger \\\\\n",
    "&= \\sum_{\\ell,\\kappa} c_{\\ell, f_\\mu} c_{\\kappa, f_\\mu}^* |\\tilde \\ell\\rangle \\langle\\tilde \\ell| Z(\\alpha) |\\tilde \\kappa\\rangle \\langle\\tilde \\kappa| \\\\\n",
    "&= \\sum_{\\ell,\\kappa} c_{\\ell, f_\\mu} c_{\\kappa, f_\\mu}^* |\\tilde \\ell\\rangle \\langle\\tilde \\ell| \\widetilde{\\kappa+\\alpha}\\rangle \\langle\\tilde \\kappa| \\\\\n",
    "&= \\sum_{\\kappa} c_{\\kappa + \\alpha, f_\\mu} c_{\\kappa, f_\\mu}^* |\\widetilde{\\kappa+\\alpha}\\rangle\\langle\\tilde \\kappa|,\n",
    "\\end{align}\n",
    "$$\n",
    "and\n",
    "$$\n",
    "e^{i \\phi(\\alpha,f_\\mu(\\alpha))} Z(\\alpha) X(f_\\mu(\\alpha))\n",
    "= e^{i \\phi(\\alpha,f_\\mu(\\alpha))} Z(\\alpha) \\sum_{\\kappa} \\chi(-f_\\mu(\\alpha) \\kappa) |\\tilde \\kappa\\rangle\\langle\\tilde \\kappa|\n",
    "= e^{i \\phi(\\alpha,f_\\mu(\\alpha))} \\sum_{\\kappa} \\chi(-f_\\mu(\\alpha) \\kappa) |\\widetilde{\\kappa + \\alpha}\\rangle \\langle \\tilde\\kappa|,\n",
    "$$\n",
    "so that\n",
    "$$\n",
    "c_{\\kappa+\\alpha,f_\\mu} c_{\\kappa,f_\\mu}^* = e^{i \\phi(\\alpha,f_\\mu(\\alpha))} \\chi(-f_\\mu(\\alpha)\\kappa).\n",
    "$$"
   ]
  },
  {
   "cell_type": "markdown",
   "id": "5246fe5e-6cb1-48ee-bbb4-9a2b32d9f174",
   "metadata": {},
   "source": [
    "And so as long as we can solve this equation, we can find the rotation operators that transform $Z(\\alpha)$ into some phase multiple of $Z(\\alpha)X(f_\\mu(\\alpha))$. Consider the case $\\kappa = -\\alpha$, then on the left hand side we have\n",
    "$c_{0,f_\\mu} c_{-\\alpha,f_\\mu}^* = c_{-\\alpha,f_\\mu}^*$, and on the right we have $\\chi(f_\\mu(\\alpha)\\alpha))$, so the equation reads:\n",
    "$$\n",
    "c_{-\\alpha,f_\\mu}^* = e^{i\\phi(\\alpha,f_\\mu(\\alpha))}\\chi(f_\\mu(\\alpha)\\alpha)).\n",
    "$$"
   ]
  },
  {
   "cell_type": "markdown",
   "id": "940779f6-c9f3-4b85-86a3-1e001a9bd8b4",
   "metadata": {},
   "source": [
    "IF $c_{\\alpha,f_\\mu} = e^{i\\phi(\\alpha,f_\\mu(\\alpha))}$, then we obtain\n",
    "$$\n",
    "1 = c_{\\alpha,f_\\mu} c_{-\\alpha,f_\\mu} \\chi(\\alpha f_\\mu(\\alpha)).\n",
    "$$"
   ]
  },
  {
   "cell_type": "markdown",
   "id": "c3dde47c-07a2-4f23-98bd-790335e755bf",
   "metadata": {},
   "source": [
    "According to Sainz, a solution to this equation for odd characteristic is given by $c_{\\alpha,f_\\mu} = \\chi(-2^{-1} \\alpha f_\\mu(\\alpha))$. Let's see (we assume as she did that $f_\\mu(-\\alpha) = -f_\\mu(\\alpha)$ always):\n",
    "$$\n",
    "\\begin{align}\n",
    "c_{\\alpha,f_\\mu} c_{-\\alpha,f_\\mu} \\chi(\\alpha f_\\mu(\\alpha))\n",
    "&= \\chi(-2^{-1} \\alpha f_\\mu(\\alpha)) \\chi(2^{-1} \\alpha f_\\mu(-\\alpha)) \\chi(\\alpha f_\\mu(\\alpha)) \\\\\n",
    "&= \\chi(-2^{-1} \\alpha f_\\mu(\\alpha)) \\chi(-2^{-1} \\alpha f_\\mu(\\alpha)) \\chi(\\alpha f_\\mu(\\alpha)) \\\\\n",
    "&= \\chi(-\\alpha f_\\mu(\\alpha)) \\chi(\\alpha f_\\mu(\\alpha)) \\\\\n",
    "&= 1.\n",
    "\\end{align}\n",
    "$$"
   ]
  },
  {
   "cell_type": "markdown",
   "id": "281dff01-935a-4364-9358-eb3cab8aec88",
   "metadata": {},
   "source": [
    "What is this condition on $f_\\mu$? Assume that the mapping is \"additive\", i.e., $f_\\mu(\\alpha + \\beta) = f_\\mu(\\alpha) + f_\\mu(\\beta)$ (notice that presemifield operations satisfy this condition). It follows immediatly if $f_\\mu$ is linear of course. Maybe not so trivial..."
   ]
  },
  {
   "cell_type": "markdown",
   "id": "997b0dcb-c781-4487-b16f-921ed41cc544",
   "metadata": {},
   "source": [
    "How about we construct a rotation operator and verify the mathematical claims? Except for characteristic two it is not so trivial!"
   ]
  },
  {
   "cell_type": "markdown",
   "id": "5caed67a-d504-46ff-8b9e-f9665a29b86d",
   "metadata": {},
   "source": [
    "According to Sainz the coefficients are now determined by the equation\n",
    "$$\n",
    "\\Phi(\\alpha,f_\\mu(\\alpha))^2 = c_{\\alpha,f_\\mu}^2 = \\chi[-\\alpha \\beta].\n",
    "$$\n",
    "She states that a solution can be found by lifting the operations to the Teichmüller\n",
    "$$\n",
    "\\Phi(\\alpha,f_\\mu(\\alpha)) = c_{\\alpha,f_\\mu} = \\omega(\\hat \\alpha f_{\\hat \\mu}(\\hat \\alpha)),\n",
    "$$\n",
    "where $\\omega(\\hat \\alpha) = i^{Tr(\\hat \\alpha)}$ but the trace is taken in the Galois ring."
   ]
  },
  {
   "cell_type": "code",
   "execution_count": 241,
   "id": "d094fb1a-a31b-4827-ab4a-9468473e1dfd",
   "metadata": {},
   "outputs": [],
   "source": [
    "# Must be in power order\n",
    "def Lift(a):\n",
    "    return T[F.index(a)]"
   ]
  },
  {
   "cell_type": "code",
   "execution_count": 442,
   "id": "3adc2bc8-e949-4388-9cf6-da53c18a8e96",
   "metadata": {},
   "outputs": [],
   "source": [
    "# Sainz's phase for Wootters' curves\n",
    "def Phi(u,v):\n",
    "    uhat = Lift(u)\n",
    "    vhat = Lift(v)\n",
    "    a, b = dumb2adic(uhat * (uhat * vhat))\n",
    "    pwr  = lift(ringTrace(a, b))\n",
    "    return I**Integer(pwr)"
   ]
  },
  {
   "cell_type": "code",
   "execution_count": 447,
   "id": "78d63816-b884-44c9-ad26-58fb9d438beb",
   "metadata": {},
   "outputs": [],
   "source": [
    "def D(u,v):\n",
    "    phase = Phi(u,v)\n",
    "    # phase = 1\n",
    "    return phase * Z(u) * X(v)"
   ]
  },
  {
   "cell_type": "markdown",
   "id": "ce9204a6-a64e-483f-9e1b-21a2506cae28",
   "metadata": {},
   "source": [
    "First how do we obtain the Fourier basis projections $|\\tilde \\kappa\\rangle\\langle\\tilde \\kappa|$?"
   ]
  },
  {
   "cell_type": "markdown",
   "id": "a820cd25-7d6b-4675-948d-0758649b66e0",
   "metadata": {},
   "source": [
    "### Finding stabilizer states using Kanat's construcction.\n",
    "\n",
    "We know that a vector $v$ is a stabilizer state if there is a subset $\\mathcal S$ of the Pauli group with $|\\mathcal S| = d$ such that $v$ is a simultaneous $+1$-eigenvector of all of the elements of $\\mathcal S$.\n",
    "\n",
    "We know that each totally isotropic subspace of $F \\oplus F$ gives us a complete set of commuting Pauli operators, and so a complete set of simultaneous eigenvectors.\n",
    "\n",
    "In Kanat's paper we have that the vector\n",
    "$$d_{m,v} = \\sum_{w \\in F} \\omega^{Tr(\\hat w (\\hat w \\circ \\hat m) + 2 \\hat w \\hat v)} e_w$$\n",
    "is an eigenvector of the operator $D_{u,u\\circ m} = X_u Z_{u \\circ m}$ with eigenvalue\n",
    "$$\\omega^{Tr(2 \\hat u \\hat v - \\hat u (\\hat u \\circ \\hat m))}.$$\n",
    "\n",
    "So an eigenvector $d_{m,v}$ is a $+1$-eigenvector of $D_{u,u\\circ m}$ if\n",
    "$$Tr(2 \\hat u \\hat v - \\hat u (\\hat u \\circ \\hat m)) = 0.$$ Therefore $d_{m,v}$ is a stabilizer state if this last equation is satisfied *for all* $u \\in F$."
   ]
  },
  {
   "cell_type": "code",
   "execution_count": 62,
   "id": "06bc4281-ce8a-4714-afd5-43d21046c0ff",
   "metadata": {},
   "outputs": [],
   "source": [
    "def Kantor(w, m):\n",
    "    return m**2*w + m*ringTrace(w, 0) + ringTrace(m*w, 0)"
   ]
  },
  {
   "cell_type": "code",
   "execution_count": 74,
   "id": "2e61be30-f7f5-4f2f-a85c-3515d2a433d1",
   "metadata": {},
   "outputs": [
    {
     "name": "stdout",
     "output_type": "stream",
     "text": [
      "0 0\n"
     ]
    }
   ],
   "source": [
    "for m in T:\n",
    "    for i, v in enumerate(T):\n",
    "        s = True\n",
    "        for j, u in enumerate(T):\n",
    "            # a, b = dumb2adic(GR(2) * u * v - u * (Kantor(u, m)))\n",
    "            a, b = dumb2adic(GR(2) * u * v - u * (u * m))\n",
    "            if ringTrace(a, b) != GR(0):\n",
    "                s = False\n",
    "                break\n",
    "        if s == True:\n",
    "            print(m,v)"
   ]
  },
  {
   "cell_type": "markdown",
   "id": "97b1c15b-13d3-4f68-8a14-8a0bc2034d5c",
   "metadata": {},
   "source": [
    "No luck trying this, let's create the standard MUBs for 5 qubits and see if we're lucky by using Sainz phase."
   ]
  },
  {
   "cell_type": "code",
   "execution_count": 259,
   "id": "b20f9288-be25-4abb-a97d-c4621849794d",
   "metadata": {},
   "outputs": [],
   "source": [
    "def createMubs(k=None):\n",
    "    mubs = [identity_matrix(d)]\n",
    "    for m in T[:k]:\n",
    "        Bm = zero_matrix(SR, d, d)\n",
    "        for j, v in enumerate(T):\n",
    "            for i, w in enumerate(T):\n",
    "                # wom = m**2*w + m*ringTrace(w, 0) + ringTrace(m*w, 0)\n",
    "                wom = m * w\n",
    "                a, b = dumb2adic(w * wom + GR(2) * w * v)\n",
    "                pwr  = Integer(lift(ringTrace(a, b)))\n",
    "                Bm[i,j] = 1/sqrt(d) * I**pwr\n",
    "        mubs.append(Bm)\n",
    "    return mubs"
   ]
  },
  {
   "cell_type": "code",
   "execution_count": 260,
   "id": "511cab76-1571-4b49-ad68-173495e9a56c",
   "metadata": {},
   "outputs": [],
   "source": [
    "mubs = createMubs()"
   ]
  },
  {
   "cell_type": "markdown",
   "id": "4e46fb82-e61f-4d2c-b31a-3633a9c7a163",
   "metadata": {},
   "source": [
    "By definition, the phase for the vertical line operators $X(\\beta)$ is equal to 1. A quick glance shows that the only vector from the Fourier basis that is a stabilizer is the first column:"
   ]
  },
  {
   "cell_type": "code",
   "execution_count": 330,
   "id": "05cac162-5162-43b3-966f-f4be2501b946",
   "metadata": {},
   "outputs": [],
   "source": [
    "for i in range(1, d):\n",
    "    m = mubs[1] - X(F[i]) * mubs[1]\n",
    "    if m[:,0] != zero_matrix(d,1):\n",
    "        raise Exception('Not stabilizer.')"
   ]
  },
  {
   "cell_type": "markdown",
   "id": "82aa4ca3-ee22-4a14-9641-38973716b041",
   "metadata": {},
   "source": [
    "So we have two stabilizers so far from the standard MUBs. Let's check the diagonal."
   ]
  },
  {
   "cell_type": "code",
   "execution_count": 493,
   "id": "f88d57d0-671a-4511-8b69-37befce04703",
   "metadata": {},
   "outputs": [
    {
     "data": {
      "text/html": [
       "<html>\\(\\displaystyle \\mathrm{True}\\)</html>"
      ],
      "text/latex": [
       "$\\displaystyle \\mathrm{True}$"
      ],
      "text/plain": [
       "True"
      ]
     },
     "execution_count": 493,
     "metadata": {},
     "output_type": "execute_result"
    }
   ],
   "source": [
    "(mubs[6].conjugate_transpose() * mubs[14]).apply_map(lambda t: abs(t)**2) == ones_matrix(d,d)/32"
   ]
  },
  {
   "cell_type": "code",
   "execution_count": 508,
   "id": "f46fad52-de94-4e8f-82b6-9ef757afdb90",
   "metadata": {},
   "outputs": [
    {
     "data": {
      "text/html": [
       "<html>\\(\\displaystyle \\left[i, 0, 0, 0, 0, 0, 0, 0, 0, 0, 0, 0, 0, 0, 0, 0, 0, 0, 0, 0, 0, 0, 0, 0, 0, 0, 0, 0, 0, 0, 0, 0\\right]\\)</html>"
      ],
      "text/latex": [
       "$\\displaystyle \\left[i, 0, 0, 0, 0, 0, 0, 0, 0, 0, 0, 0, 0, 0, 0, 0, 0, 0, 0, 0, 0, 0, 0, 0, 0, 0, 0, 0, 0, 0, 0, 0\\right]$"
      ],
      "text/plain": [
       "[I,\n",
       " 0,\n",
       " 0,\n",
       " 0,\n",
       " 0,\n",
       " 0,\n",
       " 0,\n",
       " 0,\n",
       " 0,\n",
       " 0,\n",
       " 0,\n",
       " 0,\n",
       " 0,\n",
       " 0,\n",
       " 0,\n",
       " 0,\n",
       " 0,\n",
       " 0,\n",
       " 0,\n",
       " 0,\n",
       " 0,\n",
       " 0,\n",
       " 0,\n",
       " 0,\n",
       " 0,\n",
       " 0,\n",
       " 0,\n",
       " 0,\n",
       " 0,\n",
       " 0,\n",
       " 0,\n",
       " 0]"
      ]
     },
     "execution_count": 508,
     "metadata": {},
     "output_type": "execute_result"
    }
   ],
   "source": [
    "((D(F[10],F[10]) * mubs[2][:,10]) / mubs[2][:,10]).diagonal()"
   ]
  },
  {
   "cell_type": "code",
   "execution_count": null,
   "id": "c1ad811d-dc10-455d-bee9-cef8699c0eb7",
   "metadata": {},
   "outputs": [],
   "source": []
  }
 ],
 "metadata": {
  "kernelspec": {
   "display_name": "SageMath 9.8",
   "language": "sage",
   "name": "sagemath"
  },
  "language_info": {
   "codemirror_mode": {
    "name": "ipython",
    "version": 3
   },
   "file_extension": ".py",
   "mimetype": "text/x-python",
   "name": "python",
   "nbconvert_exporter": "python",
   "pygments_lexer": "ipython3",
   "version": "3.9.16"
  }
 },
 "nbformat": 4,
 "nbformat_minor": 5
}
