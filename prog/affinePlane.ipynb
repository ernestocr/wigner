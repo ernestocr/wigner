{
 "cells": [
  {
   "cell_type": "code",
   "execution_count": 1,
   "metadata": {},
   "outputs": [],
   "source": [
    "from sage.all import *\n",
    "import numpy as np\n",
    "import matplotlib.pyplot as plt\n",
    "\n",
    "import matplotlib"
   ]
  },
  {
   "cell_type": "code",
   "execution_count": 2,
   "metadata": {},
   "outputs": [],
   "source": [
    "def DesarguesSpread(F):\n",
    "    lines = [[(F(0),u) for u in F]]\n",
    "    for m in F:\n",
    "        lines.append([(u, m*u) for u in F])\n",
    "    return lines\n",
    "\n",
    "def KantorSpread(F):\n",
    "    lines = [[(F(0), u) for u in F]]\n",
    "    for m in F:\n",
    "        lines.append(\n",
    "            [(u, m**2 * u + m * u.trace() + (m * u).trace()) for u in F]\n",
    "        )\n",
    "    return lines\n",
    "\n",
    "def AlbertSpread(F):\n",
    "    lines = [[(F(0), u) for u in F]]\n",
    "    for m in F:\n",
    "        lines.append(\n",
    "            [(u, m*u**9 + m**3*u**3) for u in F]\n",
    "        )\n",
    "    return lines"
   ]
  },
  {
   "cell_type": "code",
   "execution_count": 3,
   "metadata": {},
   "outputs": [],
   "source": [
    "def toInt(e):\n",
    "    return list(F).index(e)"
   ]
  },
  {
   "cell_type": "code",
   "execution_count": 19,
   "metadata": {},
   "outputs": [],
   "source": [
    "def affineAx(F):\n",
    "    d = F.order()\n",
    "    fig, ax = plt.subplots(figsize=(3.5,3.5))\n",
    "\n",
    "    ax.set_xticks(range(d))\n",
    "    ax.set_yticks(range(d))\n",
    "\n",
    "    # labels = ['$' + str(e) + '$' for e in F]\n",
    "    # ax.set_xticklabels(labels)\n",
    "    # ax.set_yticklabels(labels)\n",
    "    \n",
    "    return fig, ax"
   ]
  },
  {
   "cell_type": "code",
   "execution_count": 5,
   "metadata": {},
   "outputs": [],
   "source": [
    "F = GF(3, 'a', repr='poly')\n",
    "a = F.gen()"
   ]
  },
  {
   "cell_type": "code",
   "execution_count": 6,
   "metadata": {},
   "outputs": [],
   "source": [
    "lines = DesarguesSpread(F)\n",
    "# lines = KantorSpread(F)\n",
    "# lines = AlbertSpread(F)"
   ]
  },
  {
   "cell_type": "code",
   "execution_count": 20,
   "metadata": {},
   "outputs": [],
   "source": [
    "fig, ax = affineAx(F)\n",
    "\n",
    "for i, line in enumerate(lines):\n",
    "    x, y = np.array(line).T\n",
    "    x = [toInt(e) for e in x]\n",
    "    y = [toInt(e) for e in y]\n",
    "\n",
    "    alpha = 0.5\n",
    "    # if i in [0,1,9,27]:\n",
    "    #     alpha = 0.9\n",
    "\n",
    "    ax.plot(\n",
    "        x, y,\n",
    "        marker='o',\n",
    "        linewidth=2,\n",
    "        markersize=9,\n",
    "        alpha=alpha\n",
    "    )"
   ]
  },
  {
   "cell_type": "code",
   "execution_count": 17,
   "metadata": {},
   "outputs": [],
   "source": [
    "matplotlib.use(\"pgf\")\n",
    "matplotlib.rcParams.update({\n",
    "    \"pgf.texsystem\": \"pdflatex\",\n",
    "    'font.family': 'serif',\n",
    "    'text.usetex': True,\n",
    "    'pgf.rcfonts': False,\n",
    "})"
   ]
  },
  {
   "cell_type": "code",
   "execution_count": 21,
   "metadata": {},
   "outputs": [],
   "source": [
    "plt.savefig('../imgs/affine-desargues-3-1.pgf')"
   ]
  },
  {
   "cell_type": "code",
   "execution_count": 12,
   "metadata": {},
   "outputs": [],
   "source": [
    "def symplecticForm(a, b):\n",
    "    a1, a2 = a\n",
    "    b1, b2 = b\n",
    "    return (a1 * b2 - a2 * b1).trace()"
   ]
  },
  {
   "cell_type": "code",
   "execution_count": 27,
   "metadata": {},
   "outputs": [],
   "source": [
    "# brute force check that each line is an isotropic subspace\n",
    "k = 22\n",
    "for a in lines[k]:\n",
    "    for b in lines[k]:\n",
    "        if symplecticForm(a, b) != 0:\n",
    "            print(a, b)\n",
    "            raise Exception('Not isotropic!')"
   ]
  },
  {
   "attachments": {},
   "cell_type": "markdown",
   "metadata": {},
   "source": [
    "So each line of the spread is totally isotropic with respect to the symplectic spread. Translation of the line by a point *in* the line leaves the line invariante. The corresponding displacmente operator must leave the eigenvector (assigned to the line) invariant as well, i.e., it must be an eigenvector. So to a line $\\{(u,u \\circ m) : u \\in F\\}$ we assign an eigenvector of the displacement operators $D(u, u \\circ m)$."
   ]
  },
  {
   "cell_type": "code",
   "execution_count": 28,
   "metadata": {},
   "outputs": [],
   "source": [
    "import numpy as np"
   ]
  },
  {
   "cell_type": "code",
   "execution_count": 29,
   "metadata": {},
   "outputs": [],
   "source": [
    "mubs = np.load('MUBS/3-3-albert.npy')"
   ]
  },
  {
   "cell_type": "code",
   "execution_count": 31,
   "metadata": {},
   "outputs": [
    {
     "data": {
      "text/plain": [
       "(756, 27)"
      ]
     },
     "execution_count": 31,
     "metadata": {},
     "output_type": "execute_result"
    }
   ],
   "source": [
    "mubs.shape"
   ]
  },
  {
   "attachments": {},
   "cell_type": "markdown",
   "metadata": {},
   "source": [
    "So the eigenvectors $b_{m,v}$, for all $v \\in F$ correspond to the line $\\{(u,u\\circ m) : u \\in F\\}$, and is are eigenvectors of the operators $D(u, u \\circ m)$ for all $u \\in F$."
   ]
  },
  {
   "cell_type": "code",
   "execution_count": null,
   "metadata": {},
   "outputs": [],
   "source": []
  }
 ],
 "metadata": {
  "kernelspec": {
   "display_name": "wigner",
   "language": "python",
   "name": "python3"
  },
  "language_info": {
   "codemirror_mode": {
    "name": "ipython",
    "version": 3
   },
   "file_extension": ".py",
   "mimetype": "text/x-python",
   "name": "python",
   "nbconvert_exporter": "python",
   "pygments_lexer": "ipython3",
   "version": "3.9.16"
  },
  "orig_nbformat": 4
 },
 "nbformat": 4,
 "nbformat_minor": 2
}
