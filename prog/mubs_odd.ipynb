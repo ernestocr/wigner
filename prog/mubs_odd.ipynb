{
 "cells": [
  {
   "cell_type": "code",
   "execution_count": 9,
   "metadata": {},
   "outputs": [],
   "source": [
    "from sage.all import *\n",
    "from mubs_utils import testMubs, testMubs2, saveMubs\n",
    "import numpy as np"
   ]
  },
  {
   "cell_type": "code",
   "execution_count": 2,
   "metadata": {},
   "outputs": [],
   "source": [
    "%reload_ext line_profiler\n",
    "%reload_ext autoreload\n",
    "%autoreload 2"
   ]
  },
  {
   "cell_type": "markdown",
   "metadata": {},
   "source": [
    "Quick check for dimension for one qutrit."
   ]
  },
  {
   "cell_type": "code",
   "execution_count": 3,
   "metadata": {},
   "outputs": [],
   "source": [
    "F = GF(3, 'x')\n",
    "\n",
    "mubs = [identity_matrix(3)]\n",
    "for m in F:\n",
    "    Bm = zero_matrix(SR, 3,3)\n",
    "    for j, v in enumerate(F):\n",
    "        for i, w in enumerate(F):\n",
    "            pwr = ( (1/F(2))*w**2*m + v*w).trace()\n",
    "            Bm[i,j] = exp(2*I*pi / 3)**Integer(lift(pwr)) * 1/sqrt(3)\n",
    "    mubs.append(Bm)"
   ]
  },
  {
   "cell_type": "code",
   "execution_count": 4,
   "metadata": {},
   "outputs": [
    {
     "name": "stdout",
     "output_type": "stream",
     "text": [
      "Testing set 0\n",
      "Testing set 1\n",
      "Testing set 2\n",
      "Testing set 3\n"
     ]
    },
    {
     "data": {
      "text/plain": [
       "True"
      ]
     },
     "execution_count": 4,
     "metadata": {},
     "output_type": "execute_result"
    }
   ],
   "source": [
    "testMubs2(mubs)"
   ]
  },
  {
   "attachments": {},
   "cell_type": "markdown",
   "metadata": {},
   "source": [
    "Three qutrits example."
   ]
  },
  {
   "cell_type": "code",
   "execution_count": 5,
   "metadata": {},
   "outputs": [],
   "source": [
    "p = 3\n",
    "n = 3\n",
    "d = p**n"
   ]
  },
  {
   "cell_type": "code",
   "execution_count": 6,
   "metadata": {},
   "outputs": [
    {
     "data": {
      "text/plain": [
       "Finite Field in x of size 3^3"
      ]
     },
     "execution_count": 6,
     "metadata": {},
     "output_type": "execute_result"
    }
   ],
   "source": [
    "F = GF(d, 'x'); x = F.gen()\n",
    "F"
   ]
  },
  {
   "cell_type": "code",
   "execution_count": 7,
   "metadata": {},
   "outputs": [
    {
     "data": {
      "text/plain": [
       "x^3 + 2*x + 1"
      ]
     },
     "execution_count": 7,
     "metadata": {},
     "output_type": "execute_result"
    }
   ],
   "source": [
    "charpoly(x) # Conways poly again."
   ]
  },
  {
   "attachments": {},
   "cell_type": "markdown",
   "metadata": {},
   "source": [
    "Desarguesian spread."
   ]
  },
  {
   "cell_type": "code",
   "execution_count": 8,
   "metadata": {},
   "outputs": [],
   "source": [
    "mubs = [identity_matrix(d)]\n",
    "for m in F:\n",
    "    Bm = zero_matrix(SR, d,d)\n",
    "    for j, v in enumerate(F):\n",
    "        for i, w in enumerate(F):\n",
    "            pwr = ( (1/F(2))*w**2*m + v*w).trace()\n",
    "            Bm[i,j] = exp(2*I*pi / p)**Integer(lift(pwr)) * 1/sqrt(d)\n",
    "    mubs.append(Bm)"
   ]
  },
  {
   "cell_type": "code",
   "execution_count": 10,
   "metadata": {},
   "outputs": [
    {
     "name": "stdout",
     "output_type": "stream",
     "text": [
      "Testing set 0\n",
      "Testing set 1\n"
     ]
    },
    {
     "data": {
      "text/plain": [
       "True"
      ]
     },
     "execution_count": 10,
     "metadata": {},
     "output_type": "execute_result"
    }
   ],
   "source": [
    "testMubs2(mubs[21:23])"
   ]
  },
  {
   "cell_type": "code",
   "execution_count": 11,
   "metadata": {},
   "outputs": [
    {
     "name": "stdout",
     "output_type": "stream",
     "text": [
      "Saved to MUBS/3-3-desarguesian\n"
     ]
    },
    {
     "data": {
      "text/plain": [
       "(756, 27)"
      ]
     },
     "execution_count": 11,
     "metadata": {},
     "output_type": "execute_result"
    }
   ],
   "source": [
    "saveMubs(mubs, 'MUBS/3-3-desarguesian')\n",
    "(np.load('MUBS/3-3-desarguesian.npy')).shape"
   ]
  },
  {
   "attachments": {},
   "cell_type": "markdown",
   "metadata": {},
   "source": [
    "So the Desarguesian spread of course produces MUBs. Too large to check with sagemaths low speeds. Now unto Kantor spread given by Alberts twisted fields. The operation is given by:\n",
    "$$w \\circ m = mw^9 + m^3 w^3.$$"
   ]
  },
  {
   "cell_type": "code",
   "execution_count": 12,
   "metadata": {},
   "outputs": [],
   "source": [
    "mubs = [identity_matrix(d)]\n",
    "for m in F:\n",
    "    Bm = zero_matrix(SR, d,d)\n",
    "    for j, v in enumerate(F):\n",
    "        for i, w in enumerate(F):\n",
    "            pwr = ( (1/F(2))*w*(m*w**9+m**3*w**3) + v*w).trace()\n",
    "            Bm[i,j] = exp(2*I*pi / p)**Integer(lift(pwr)) * 1/sqrt(d)\n",
    "    mubs.append(Bm)"
   ]
  },
  {
   "cell_type": "code",
   "execution_count": 13,
   "metadata": {},
   "outputs": [
    {
     "name": "stdout",
     "output_type": "stream",
     "text": [
      "Testing set 0\n",
      "Testing set 1\n"
     ]
    },
    {
     "data": {
      "text/plain": [
       "True"
      ]
     },
     "execution_count": 13,
     "metadata": {},
     "output_type": "execute_result"
    }
   ],
   "source": [
    "testMubs(mubs[:2])"
   ]
  },
  {
   "attachments": {},
   "cell_type": "markdown",
   "metadata": {},
   "source": [
    "Good enough."
   ]
  },
  {
   "cell_type": "code",
   "execution_count": 14,
   "metadata": {},
   "outputs": [
    {
     "name": "stdout",
     "output_type": "stream",
     "text": [
      "Saved to MUBS/3-3-albert\n"
     ]
    },
    {
     "data": {
      "text/plain": [
       "(756, 27)"
      ]
     },
     "execution_count": 14,
     "metadata": {},
     "output_type": "execute_result"
    }
   ],
   "source": [
    "saveMubs(mubs, 'MUBS/3-3-albert')\n",
    "(np.load('MUBS/3-3-albert.npy')).shape"
   ]
  },
  {
   "cell_type": "code",
   "execution_count": null,
   "metadata": {},
   "outputs": [],
   "source": []
  }
 ],
 "metadata": {
  "kernelspec": {
   "display_name": "wigner",
   "language": "python",
   "name": "python3"
  },
  "language_info": {
   "codemirror_mode": {
    "name": "ipython",
    "version": 3
   },
   "file_extension": ".py",
   "mimetype": "text/x-python",
   "name": "python",
   "nbconvert_exporter": "python",
   "pygments_lexer": "ipython3",
   "version": "3.9.16"
  },
  "orig_nbformat": 4
 },
 "nbformat": 4,
 "nbformat_minor": 2
}
