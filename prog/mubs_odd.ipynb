{
 "cells": [
  {
   "cell_type": "code",
   "execution_count": 1,
   "metadata": {},
   "outputs": [],
   "source": [
    "from sage.all import *\n",
    "from mubs_utils import testMubs, testMubs2, saveMubs\n",
    "import numpy as np"
   ]
  },
  {
   "cell_type": "code",
   "execution_count": 2,
   "metadata": {},
   "outputs": [],
   "source": [
    "%reload_ext line_profiler\n",
    "%reload_ext autoreload\n",
    "%autoreload 2"
   ]
  },
  {
   "attachments": {},
   "cell_type": "markdown",
   "metadata": {},
   "source": [
    "Quick check for dimension for one qutrit."
   ]
  },
  {
   "cell_type": "code",
   "execution_count": 3,
   "metadata": {},
   "outputs": [],
   "source": [
    "F = GF(3, 'x')\n",
    "\n",
    "mubs = [identity_matrix(3)]\n",
    "for m in F:\n",
    "    Bm = zero_matrix(SR, 3,3)\n",
    "    for j, v in enumerate(F):\n",
    "        for i, w in enumerate(F):\n",
    "            pwr = ( (1/F(2))*w**2*m + v*w).trace()\n",
    "            Bm[i,j] = exp(2*I*pi / 3)**Integer(lift(pwr)) * 1/sqrt(3)\n",
    "    mubs.append(Bm)"
   ]
  },
  {
   "cell_type": "code",
   "execution_count": 4,
   "metadata": {},
   "outputs": [
    {
     "name": "stdout",
     "output_type": "stream",
     "text": [
      "[1 0 0]\n",
      "[0 1 0]\n",
      "[0 0 1]\n",
      "---\n",
      "[                        1/3*sqrt(3)                         1/3*sqrt(3)                         1/3*sqrt(3)]\n",
      "[                        1/3*sqrt(3)       -1/6*sqrt(3)*(-I*sqrt(3) + 1) 1/3*sqrt(3)*(1/2*I*sqrt(3) - 1/2)^2]\n",
      "[                        1/3*sqrt(3) 1/3*sqrt(3)*(1/2*I*sqrt(3) - 1/2)^2       -1/6*sqrt(3)*(-I*sqrt(3) + 1)]\n",
      "---\n",
      "[                        1/3*sqrt(3)                         1/3*sqrt(3)                         1/3*sqrt(3)]\n",
      "[1/3*sqrt(3)*(1/2*I*sqrt(3) - 1/2)^2                         1/3*sqrt(3)       -1/6*sqrt(3)*(-I*sqrt(3) + 1)]\n",
      "[1/3*sqrt(3)*(1/2*I*sqrt(3) - 1/2)^2       -1/6*sqrt(3)*(-I*sqrt(3) + 1)                         1/3*sqrt(3)]\n",
      "---\n",
      "[                        1/3*sqrt(3)                         1/3*sqrt(3)                         1/3*sqrt(3)]\n",
      "[      -1/6*sqrt(3)*(-I*sqrt(3) + 1) 1/3*sqrt(3)*(1/2*I*sqrt(3) - 1/2)^2                         1/3*sqrt(3)]\n",
      "[      -1/6*sqrt(3)*(-I*sqrt(3) + 1)                         1/3*sqrt(3) 1/3*sqrt(3)*(1/2*I*sqrt(3) - 1/2)^2]\n",
      "---\n"
     ]
    }
   ],
   "source": [
    "for B in mubs:\n",
    "    print(B)\n",
    "    print('---')"
   ]
  },
  {
   "cell_type": "code",
   "execution_count": 5,
   "metadata": {},
   "outputs": [
    {
     "name": "stdout",
     "output_type": "stream",
     "text": [
      "Testing set 0\n",
      "Testing set 1\n",
      "Testing set 2\n",
      "Testing set 3\n"
     ]
    },
    {
     "data": {
      "text/plain": [
       "True"
      ]
     },
     "execution_count": 5,
     "metadata": {},
     "output_type": "execute_result"
    }
   ],
   "source": [
    "testMubs2(mubs)"
   ]
  },
  {
   "cell_type": "code",
   "execution_count": 6,
   "metadata": {},
   "outputs": [],
   "source": [
    "# saveMubs(mubs, 'MUBS/3-1-desarguesian')"
   ]
  },
  {
   "attachments": {},
   "cell_type": "markdown",
   "metadata": {},
   "source": [
    "Three qutrits example."
   ]
  },
  {
   "cell_type": "code",
   "execution_count": 7,
   "metadata": {},
   "outputs": [],
   "source": [
    "p = 3\n",
    "n = 3\n",
    "d = p**n"
   ]
  },
  {
   "cell_type": "code",
   "execution_count": 8,
   "metadata": {},
   "outputs": [
    {
     "data": {
      "text/plain": [
       "Finite Field in x of size 3^3"
      ]
     },
     "execution_count": 8,
     "metadata": {},
     "output_type": "execute_result"
    }
   ],
   "source": [
    "F = GF(d, 'x'); x = F.gen()\n",
    "F"
   ]
  },
  {
   "cell_type": "code",
   "execution_count": 9,
   "metadata": {},
   "outputs": [
    {
     "data": {
      "text/plain": [
       "x^3 + 2*x + 1"
      ]
     },
     "execution_count": 9,
     "metadata": {},
     "output_type": "execute_result"
    }
   ],
   "source": [
    "charpoly(x) # Conways poly again."
   ]
  },
  {
   "cell_type": "code",
   "execution_count": 10,
   "metadata": {},
   "outputs": [
    {
     "data": {
      "text/plain": [
       "[0,\n",
       " 1,\n",
       " x,\n",
       " x^2,\n",
       " x + 2,\n",
       " x^2 + 2*x,\n",
       " 2*x^2 + x + 2,\n",
       " x^2 + x + 1,\n",
       " x^2 + 2*x + 2,\n",
       " 2*x^2 + 2,\n",
       " x + 1,\n",
       " x^2 + x,\n",
       " x^2 + x + 2,\n",
       " x^2 + 2,\n",
       " 2,\n",
       " 2*x,\n",
       " 2*x^2,\n",
       " 2*x + 1,\n",
       " 2*x^2 + x,\n",
       " x^2 + 2*x + 1,\n",
       " 2*x^2 + 2*x + 2,\n",
       " 2*x^2 + x + 1,\n",
       " x^2 + 1,\n",
       " 2*x + 2,\n",
       " 2*x^2 + 2*x,\n",
       " 2*x^2 + 2*x + 1,\n",
       " 2*x^2 + 1]"
      ]
     },
     "execution_count": 10,
     "metadata": {},
     "output_type": "execute_result"
    }
   ],
   "source": [
    "F = [F(0)] + [x**j for j in range(26)]\n",
    "F"
   ]
  },
  {
   "attachments": {},
   "cell_type": "markdown",
   "metadata": {},
   "source": [
    "Desarguesian spread."
   ]
  },
  {
   "cell_type": "code",
   "execution_count": 11,
   "metadata": {},
   "outputs": [],
   "source": [
    "two = F[1]+F[1]"
   ]
  },
  {
   "cell_type": "code",
   "execution_count": 15,
   "metadata": {},
   "outputs": [],
   "source": [
    "mubs = [identity_matrix(d)]\n",
    "for m in F:\n",
    "    Bm = zero_matrix(SR, d,d)\n",
    "    for j, v in enumerate(F):\n",
    "        for i, w in enumerate(F):\n",
    "            pwr = ( (1/two)*w*w*m + v*w).trace()\n",
    "            Bm[i,j] = exp(2*I*pi / p)**Integer(pwr) * 1/sqrt(d)\n",
    "    mubs.append(Bm)"
   ]
  },
  {
   "cell_type": "code",
   "execution_count": 16,
   "metadata": {},
   "outputs": [
    {
     "name": "stdout",
     "output_type": "stream",
     "text": [
      "Testing set 0\n",
      "Testing set 1\n",
      "Testing set 2\n",
      "Testing set 3\n",
      "Testing set 4\n",
      "Testing set 5\n"
     ]
    },
    {
     "data": {
      "text/plain": [
       "True"
      ]
     },
     "execution_count": 16,
     "metadata": {},
     "output_type": "execute_result"
    }
   ],
   "source": [
    "testMubs2(mubs[15:21])"
   ]
  },
  {
   "cell_type": "code",
   "execution_count": null,
   "metadata": {},
   "outputs": [],
   "source": [
    "# saveMubs(mubs, 'MUBS/3-3-desarguesian')\n",
    "# (np.load('MUBS/3-3-desarguesian.npy')).shape"
   ]
  },
  {
   "attachments": {},
   "cell_type": "markdown",
   "metadata": {},
   "source": [
    "So the Desarguesian spread of course produces MUBs. Too large to check with sagemaths low speeds. Now unto Kantor spread given by Alberts twisted fields. The operation is given by:\n",
    "$$w \\circ m = mw^9 + m^3 w^3.$$"
   ]
  },
  {
   "cell_type": "code",
   "execution_count": null,
   "metadata": {},
   "outputs": [],
   "source": [
    "mubs = [identity_matrix(d)]\n",
    "for m in F:\n",
    "    Bm = zero_matrix(SR, d,d)\n",
    "    for j, v in enumerate(F):\n",
    "        for i, w in enumerate(F):\n",
    "            pwr = ((1/two)*w*(m*w**9 + m**3*w**3) + v*w).trace()\n",
    "            Bm[i,j] = exp(2*I*pi / p)**Integer(lift(pwr)) * 1/sqrt(d)\n",
    "    mubs.append(Bm)"
   ]
  },
  {
   "cell_type": "code",
   "execution_count": null,
   "metadata": {},
   "outputs": [],
   "source": [
    "testMubs(mubs[10:12])"
   ]
  },
  {
   "attachments": {},
   "cell_type": "markdown",
   "metadata": {},
   "source": [
    "Good enough."
   ]
  },
  {
   "cell_type": "code",
   "execution_count": null,
   "metadata": {},
   "outputs": [],
   "source": [
    "saveMubs(mubs, 'MUBS/3-3-albert')\n",
    "(np.load('MUBS/3-3-albert.npy')).shape"
   ]
  },
  {
   "cell_type": "code",
   "execution_count": null,
   "metadata": {},
   "outputs": [],
   "source": []
  }
 ],
 "metadata": {
  "kernelspec": {
   "display_name": "wigner",
   "language": "python",
   "name": "python3"
  },
  "language_info": {
   "codemirror_mode": {
    "name": "ipython",
    "version": 3
   },
   "file_extension": ".py",
   "mimetype": "text/x-python",
   "name": "python",
   "nbconvert_exporter": "python",
   "pygments_lexer": "ipython3",
   "version": "3.9.16"
  },
  "orig_nbformat": 4
 },
 "nbformat": 4,
 "nbformat_minor": 2
}
