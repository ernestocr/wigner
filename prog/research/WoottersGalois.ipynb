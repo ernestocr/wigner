{
 "cells": [
  {
   "cell_type": "code",
   "execution_count": 4,
   "metadata": {},
   "outputs": [],
   "source": [
    "import numpy as np\n",
    "import galois\n",
    "import sympy as sp"
   ]
  },
  {
   "cell_type": "code",
   "execution_count": 2,
   "metadata": {},
   "outputs": [
    {
     "name": "stderr",
     "output_type": "stream",
     "text": [
      "OMP: Info #276: omp_set_nested routine deprecated, please use omp_set_max_active_levels instead.\n"
     ]
    },
    {
     "data": {
      "text/plain": [
       "GF([0, 1, 2, 3, 4, 5, 6, 7, 8], order=3^2)"
      ]
     },
     "execution_count": 2,
     "metadata": {},
     "output_type": "execute_result"
    }
   ],
   "source": [
    "p = 3 \n",
    "e = 2\n",
    "d = p**e\n",
    "F = galois.GF(d, irreducible_poly='x^2+x+2')\n",
    "# F = galois.GF(d)\n",
    "F.elements"
   ]
  },
  {
   "attachments": {},
   "cell_type": "markdown",
   "metadata": {},
   "source": [
    "First step is to check if the displacement operators are the same as the translation operators. First we have to define the generalized Pauli matrices. Wootters doesn't actually say how, but they are constructed as follows:"
   ]
  },
  {
   "cell_type": "code",
   "execution_count": 18,
   "metadata": {},
   "outputs": [],
   "source": [
    "II = sp.eye(p)\n",
    "\n",
    "def tensorproduct(a, b):\n",
    "    l = len(a)\n",
    "    return sp.ImmutableMatrix((sp.tensorproduct(a, b)).reshape(l, l))\n",
    "\n",
    "def lift(a):\n",
    "    return np.int64(np.array(a))\n",
    "\n",
    "def omega(a):\n",
    "    return sp.exp(sp.I * 2 * sp.pi * lift(a) / p)"
   ]
  },
  {
   "cell_type": "code",
   "execution_count": 22,
   "metadata": {},
   "outputs": [],
   "source": [
    "FF = sp.zeros(p, p)\n",
    "for m in range(p):\n",
    "    for n in range(3):\n",
    "        FF += omega(F.elements[m] * F.elements[n]) * tensorproduct(II[:, m], sp.adjoint(II[:, n]))\n",
    "FF = FF / sp.sqrt(p)"
   ]
  },
  {
   "cell_type": "code",
   "execution_count": 24,
   "metadata": {},
   "outputs": [],
   "source": [
    "Z = sp.zeros(p, p)\n",
    "X = sp.zeros(p, p)\n",
    "for n in range(p):\n",
    "    v = II[:, n]\n",
    "    fv = FF * v\n",
    "    Z += omega(F.elements[n]) * tensorproduct(v, sp.adjoint(v))\n",
    "    X += omega(-F.elements[n]) * tensorproduct(fv, sp.adjoint(fv))\n",
    "X = X.applyfunc(sp.nsimplify)"
   ]
  },
  {
   "cell_type": "code",
   "execution_count": 25,
   "metadata": {},
   "outputs": [
    {
     "data": {
      "text/latex": [
       "$\\displaystyle \\left[\\begin{matrix}0 & 0 & 1\\\\1 & 0 & 0\\\\0 & 1 & 0\\end{matrix}\\right]$"
      ],
      "text/plain": [
       "Matrix([\n",
       "[0, 0, 1],\n",
       "[1, 0, 0],\n",
       "[0, 1, 0]])"
      ]
     },
     "execution_count": 25,
     "metadata": {},
     "output_type": "execute_result"
    }
   ],
   "source": [
    "X"
   ]
  },
  {
   "cell_type": "code",
   "execution_count": 26,
   "metadata": {},
   "outputs": [
    {
     "data": {
      "text/latex": [
       "$\\displaystyle \\left[\\begin{matrix}1 & 0 & 0\\\\0 & e^{\\frac{2 i \\pi}{3}} & 0\\\\0 & 0 & e^{- \\frac{2 i \\pi}{3}}\\end{matrix}\\right]$"
      ],
      "text/plain": [
       "Matrix([\n",
       "[1,             0,              0],\n",
       "[0, exp(2*I*pi/3),              0],\n",
       "[0,             0, exp(-2*I*pi/3)]])"
      ]
     },
     "execution_count": 26,
     "metadata": {},
     "output_type": "execute_result"
    }
   ],
   "source": [
    "Z"
   ]
  },
  {
   "attachments": {},
   "cell_type": "markdown",
   "metadata": {},
   "source": [
    "Now Wootters creates the displacement operators using tensor products of the generalized Pauli matrices. First we must obtain a basis decomposition of the phase point $(\\alpha,\\beta)$."
   ]
  },
  {
   "cell_type": "code",
   "execution_count": 148,
   "metadata": {},
   "outputs": [
    {
     "data": {
      "text/plain": [
       "GF([1, 3], order=3^2)"
      ]
     },
     "execution_count": 148,
     "metadata": {},
     "output_type": "execute_result"
    }
   ],
   "source": [
    "basis = F([F.primitive_element**i for i in range(e)])\n",
    "basis"
   ]
  },
  {
   "cell_type": "code",
   "execution_count": 149,
   "metadata": {},
   "outputs": [
    {
     "data": {
      "text/plain": [
       "GF([[2, 2],\n",
       "    [2, 0]], order=3^2)"
      ]
     },
     "execution_count": 149,
     "metadata": {},
     "output_type": "execute_result"
    }
   ],
   "source": [
    "g = F.Zeros((e,e))\n",
    "for i in range(e):\n",
    "    for j in range(e):\n",
    "        g[i,j] = (F.primitive_element**(i+j)).field_trace()\n",
    "g"
   ]
  },
  {
   "cell_type": "code",
   "execution_count": 150,
   "metadata": {},
   "outputs": [
    {
     "data": {
      "text/plain": [
       "GF([[0, 2],\n",
       "    [2, 1]], order=3^2)"
      ]
     },
     "execution_count": 150,
     "metadata": {},
     "output_type": "execute_result"
    }
   ],
   "source": [
    "G = np.linalg.inv(g)\n",
    "G"
   ]
  },
  {
   "cell_type": "code",
   "execution_count": 151,
   "metadata": {},
   "outputs": [
    {
     "data": {
      "text/plain": [
       "GF([6, 5], order=3^2)"
      ]
     },
     "execution_count": 151,
     "metadata": {},
     "output_type": "execute_result"
    }
   ],
   "source": [
    "dual_basis = G @ basis\n",
    "dual_basis"
   ]
  },
  {
   "cell_type": "code",
   "execution_count": 152,
   "metadata": {},
   "outputs": [
    {
     "name": "stdout",
     "output_type": "stream",
     "text": [
      "[3 1] [5 6]\n"
     ]
    }
   ],
   "source": [
    "basis = basis[::-1]\n",
    "dual_basis = dual_basis[::-1]\n",
    "print(basis, dual_basis)"
   ]
  },
  {
   "cell_type": "code",
   "execution_count": 157,
   "metadata": {},
   "outputs": [],
   "source": [
    "# sanity check\n",
    "for i, a in enumerate(basis):\n",
    "    for j, b in enumerate(dual_basis):\n",
    "        if not (a*b).field_trace() == (i == j):\n",
    "            raise Exception('Not dual basis!')"
   ]
  },
  {
   "cell_type": "code",
   "execution_count": 196,
   "metadata": {},
   "outputs": [
    {
     "data": {
      "text/plain": [
       "GF([3, 1], order=3^2)"
      ]
     },
     "execution_count": 196,
     "metadata": {},
     "output_type": "execute_result"
    }
   ],
   "source": [
    "F.elements[8] * dual_basis"
   ]
  },
  {
   "attachments": {},
   "cell_type": "markdown",
   "metadata": {},
   "source": [
    "Los operadores de traslación están dados: $$T(x,y) = X^{x_1} Z^{y_1} \\otimes \\cdots \\otimes X^{x_n} Z^{y_n}$$ donde las potencias de $X$ son los componentes de $x$ respecto a la base y las potencias de $Z$ son los componentes duales de $y$."
   ]
  },
  {
   "cell_type": "code",
   "execution_count": 158,
   "metadata": {},
   "outputs": [],
   "source": [
    "def components(x, basis):\n",
    "    return F([(x * be).field_trace() for be in basis])"
   ]
  },
  {
   "cell_type": "code",
   "execution_count": 201,
   "metadata": {},
   "outputs": [
    {
     "data": {
      "text/plain": [
       "[GF([1, 1], order=3^2), GF([1, 1], order=3^2)]"
      ]
     },
     "execution_count": 201,
     "metadata": {},
     "output_type": "execute_result"
    }
   ],
   "source": [
    "[components(x, dual_basis) for x in F([4,4])]"
   ]
  },
  {
   "cell_type": "code",
   "execution_count": 208,
   "metadata": {},
   "outputs": [],
   "source": [
    "from sympy.physics.quantum.matrixutils import matrix_tensor_product\n",
    "from sympy.physics.quantum import TensorProduct\n",
    "\n",
    "def T(x, y):\n",
    "    xs = components(x, dual_basis)\n",
    "    ys = components(y, dual_basis)\n",
    "    t  = sp.eye(1)\n",
    "    for i in range(e):\n",
    "        t = matrix_tensor_product(t, X**lift(xs[i]) * Z**lift(ys[i]))\n",
    "        # t = TensorProduct(t, X**lift(xs[i]) * Z**lift(ys[i]))\n",
    "    return t"
   ]
  },
  {
   "cell_type": "code",
   "execution_count": 217,
   "metadata": {},
   "outputs": [
    {
     "data": {
      "text/latex": [
       "$\\displaystyle \\left[\\begin{matrix}0 & 0 & 0 & 0 & 0 & 0 & 0 & 0 & 0\\\\0 & 0 & 0 & 0 & 0 & 0 & 0 & 0 & 0\\\\0 & 0 & 0 & 0 & 0 & 0 & 0 & 0 & 0\\\\0 & 0 & 0 & 0 & 0 & 0 & 0 & 0 & 0\\\\0 & 0 & 0 & 0 & 0 & 0 & 0 & 0 & 0\\\\0 & 0 & 0 & 0 & 0 & 0 & 0 & 0 & 0\\\\0 & 0 & 0 & 0 & 0 & 0 & 0 & 0 & 0\\\\0 & 0 & 0 & 0 & 0 & 0 & 0 & 0 & 0\\\\0 & 0 & 0 & 0 & 0 & 0 & 0 & 0 & 0\\end{matrix}\\right]$"
      ],
      "text/plain": [
       "Matrix([\n",
       "[0, 0, 0, 0, 0, 0, 0, 0, 0],\n",
       "[0, 0, 0, 0, 0, 0, 0, 0, 0],\n",
       "[0, 0, 0, 0, 0, 0, 0, 0, 0],\n",
       "[0, 0, 0, 0, 0, 0, 0, 0, 0],\n",
       "[0, 0, 0, 0, 0, 0, 0, 0, 0],\n",
       "[0, 0, 0, 0, 0, 0, 0, 0, 0],\n",
       "[0, 0, 0, 0, 0, 0, 0, 0, 0],\n",
       "[0, 0, 0, 0, 0, 0, 0, 0, 0],\n",
       "[0, 0, 0, 0, 0, 0, 0, 0, 0]])"
      ]
     },
     "execution_count": 217,
     "metadata": {},
     "output_type": "execute_result"
    }
   ],
   "source": [
    "point = F([F.elements[1], F.elements[2]])\n",
    "t1 = T(*(3*point))\n",
    "t2 = T(*(4*point))\n",
    "((t1 * t2) - (t2 * t1)).applyfunc(sp.nsimplify)"
   ]
  },
  {
   "cell_type": "code",
   "execution_count": 218,
   "metadata": {},
   "outputs": [
    {
     "data": {
      "text/latex": [
       "$\\displaystyle \\left[\\begin{matrix}0 & 0 & e^{\\frac{2 i \\pi}{3}} & 0 & 0 & 0 & 0 & 0 & 0\\\\1 & 0 & 0 & 0 & 0 & 0 & 0 & 0 & 0\\\\0 & e^{- \\frac{2 i \\pi}{3}} & 0 & 0 & 0 & 0 & 0 & 0 & 0\\\\0 & 0 & 0 & 0 & 0 & e^{\\frac{2 i \\pi}{3}} & 0 & 0 & 0\\\\0 & 0 & 0 & 1 & 0 & 0 & 0 & 0 & 0\\\\0 & 0 & 0 & 0 & e^{- \\frac{2 i \\pi}{3}} & 0 & 0 & 0 & 0\\\\0 & 0 & 0 & 0 & 0 & 0 & 0 & 0 & e^{\\frac{2 i \\pi}{3}}\\\\0 & 0 & 0 & 0 & 0 & 0 & 1 & 0 & 0\\\\0 & 0 & 0 & 0 & 0 & 0 & 0 & e^{- \\frac{2 i \\pi}{3}} & 0\\end{matrix}\\right]$"
      ],
      "text/plain": [
       "Matrix([\n",
       "[0,              0, exp(2*I*pi/3), 0,              0,             0, 0,              0,             0],\n",
       "[1,              0,             0, 0,              0,             0, 0,              0,             0],\n",
       "[0, exp(-2*I*pi/3),             0, 0,              0,             0, 0,              0,             0],\n",
       "[0,              0,             0, 0,              0, exp(2*I*pi/3), 0,              0,             0],\n",
       "[0,              0,             0, 1,              0,             0, 0,              0,             0],\n",
       "[0,              0,             0, 0, exp(-2*I*pi/3),             0, 0,              0,             0],\n",
       "[0,              0,             0, 0,              0,             0, 0,              0, exp(2*I*pi/3)],\n",
       "[0,              0,             0, 0,              0,             0, 1,              0,             0],\n",
       "[0,              0,             0, 0,              0,             0, 0, exp(-2*I*pi/3),             0]])"
      ]
     },
     "execution_count": 218,
     "metadata": {},
     "output_type": "execute_result"
    }
   ],
   "source": [
    "T(F.elements[1], F.elements[2])"
   ]
  },
  {
   "cell_type": "code",
   "execution_count": null,
   "metadata": {},
   "outputs": [],
   "source": []
  }
 ],
 "metadata": {
  "kernelspec": {
   "display_name": "wigner",
   "language": "python",
   "name": "python3"
  },
  "language_info": {
   "codemirror_mode": {
    "name": "ipython",
    "version": 3
   },
   "file_extension": ".py",
   "mimetype": "text/x-python",
   "name": "python",
   "nbconvert_exporter": "python",
   "pygments_lexer": "ipython3",
   "version": "3.10.10"
  },
  "orig_nbformat": 4
 },
 "nbformat": 4,
 "nbformat_minor": 2
}
