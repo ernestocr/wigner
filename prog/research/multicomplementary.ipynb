{
 "cells": [
  {
   "attachments": {},
   "cell_type": "markdown",
   "metadata": {},
   "source": [
    "### Multicomplementary operators via finite Fourier transform\n",
    "\n",
    "Klimov, Soto and de Guise."
   ]
  },
  {
   "cell_type": "code",
   "execution_count": null,
   "metadata": {},
   "outputs": [],
   "source": [
    "import numpy as np\n",
    "import galois\n",
    "from sympy import *"
   ]
  },
  {
   "cell_type": "code",
   "execution_count": 78,
   "metadata": {},
   "outputs": [
    {
     "data": {
      "text/plain": [
       "GF([  0,   1,   α, α^3, α^2, α^6, α^4, α^5], order=2^3)"
      ]
     },
     "execution_count": 78,
     "metadata": {},
     "output_type": "execute_result"
    }
   ],
   "source": [
    "p = 2\n",
    "n = 3\n",
    "GF = galois.GF(p**n)\n",
    "GF.repr(\"power\")\n",
    "GF.elements"
   ]
  },
  {
   "attachments": {},
   "cell_type": "markdown",
   "metadata": {},
   "source": [
    "Introduce the additive characters, which have the form:\n",
    "$$\n",
    "\\chi(\\theta) = \\exp\\left(2\\pi i / p \\cdot \\text{tr}(\\theta)\\right).\n",
    "$$"
   ]
  },
  {
   "cell_type": "code",
   "execution_count": 79,
   "metadata": {},
   "outputs": [],
   "source": [
    "def Chi(x):\n",
    "    return exp(2*pi*I / p * np.array(x.field_trace()))"
   ]
  },
  {
   "cell_type": "code",
   "execution_count": null,
   "metadata": {},
   "outputs": [],
   "source": [
    "from sympy.physics.quantum import TensorProduct"
   ]
  },
  {
   "attachments": {},
   "cell_type": "markdown",
   "metadata": {},
   "source": [
    "The diagonal operators with respect to the Galois field labeled basis are given by:\n",
    "$$\n",
    "Z_q\n",
    "= |0\\rangle \\langle 0| + \\sum_{k=1}^{d-1} \\chi(\\alpha^{q+k}) |\\alpha^k\\rangle \\langle \\alpha^k|,\n",
    "\\quad \n",
    "q = 0,\\ldots,d-1\n",
    "$$"
   ]
  },
  {
   "cell_type": "code",
   "execution_count": 80,
   "metadata": {},
   "outputs": [],
   "source": [
    "def Z(q):\n",
    "    a  = GF.primitive_element\n",
    "    id = eye(p**n)\n",
    "    Z = TensorProduct(id[:,0], transpose(id[:,0]))\n",
    "    for k in range(1, p**n):\n",
    "        proj = TensorProduct(id[:,k], adjoint(id[:,k]))\n",
    "        Z = Z + Chi(a**(q+k)) * proj \n",
    "    return Z"
   ]
  },
  {
   "cell_type": "code",
   "execution_count": 81,
   "metadata": {},
   "outputs": [
    {
     "data": {
      "text/latex": [
       "$\\displaystyle \\left[\\begin{matrix}1 & 0 & 0 & 0 & 0 & 0 & 0 & 0\\\\0 & 1 & 0 & 0 & 0 & 0 & 0 & 0\\\\0 & 0 & 1 & 0 & 0 & 0 & 0 & 0\\\\0 & 0 & 0 & -1 & 0 & 0 & 0 & 0\\\\0 & 0 & 0 & 0 & 1 & 0 & 0 & 0\\\\0 & 0 & 0 & 0 & 0 & -1 & 0 & 0\\\\0 & 0 & 0 & 0 & 0 & 0 & -1 & 0\\\\0 & 0 & 0 & 0 & 0 & 0 & 0 & -1\\end{matrix}\\right]$"
      ],
      "text/plain": [
       "Matrix([\n",
       "[1, 0, 0,  0, 0,  0,  0,  0],\n",
       "[0, 1, 0,  0, 0,  0,  0,  0],\n",
       "[0, 0, 1,  0, 0,  0,  0,  0],\n",
       "[0, 0, 0, -1, 0,  0,  0,  0],\n",
       "[0, 0, 0,  0, 1,  0,  0,  0],\n",
       "[0, 0, 0,  0, 0, -1,  0,  0],\n",
       "[0, 0, 0,  0, 0,  0, -1,  0],\n",
       "[0, 0, 0,  0, 0,  0,  0, -1]])"
      ]
     },
     "execution_count": 81,
     "metadata": {},
     "output_type": "execute_result"
    }
   ],
   "source": [
    "Z(0)"
   ]
  },
  {
   "attachments": {},
   "cell_type": "markdown",
   "metadata": {},
   "source": [
    "The finite Fourier transform $F$, when expressed in the basis $|\\alpha^k\\rangle$ is of the form\n",
    "$$\n",
    "F\n",
    "= \\frac{1}{\\sqrt{d}}\n",
    "\\left[\n",
    "|0\\rangle \\langle 0| + \n",
    "\\sum_{k,k'=1}^{d-1} \\chi(\\alpha^{k'+k}) |\\alpha^{k'}\\rangle \\langle \\alpha^k|\n",
    "+ \\sum_{k=1}^{d-1} (|0\\rangle \\langle \\alpha^k| + |\\alpha^k\\rangle \\langle 0|)\n",
    "\\right]\n",
    "$$"
   ]
  },
  {
   "cell_type": "code",
   "execution_count": 82,
   "metadata": {},
   "outputs": [],
   "source": [
    "def FF(d):\n",
    "    a = GF.primitive_element\n",
    "    id = eye(p**n)\n",
    "    F = TensorProduct(id[:,0], transpose(id[:,0])) \n",
    "    for k in np.arange(1, d):\n",
    "        for j in np.arange(1, d):\n",
    "            x = Chi(a**(j+k))\n",
    "            F = F + x * TensorProduct(id[:,j], adjoint(id[:,k]))\n",
    "        F = F + TensorProduct(id[:,0], adjoint(id[:,k]))\n",
    "        F = F + TensorProduct(id[:,k], adjoint(id[:,0]))\n",
    "    return F / sqrt(d)"
   ]
  },
  {
   "cell_type": "code",
   "execution_count": 83,
   "metadata": {},
   "outputs": [
    {
     "data": {
      "text/latex": [
       "$\\displaystyle \\left[\\begin{matrix}\\frac{\\sqrt{2}}{4} & \\frac{\\sqrt{2}}{4} & \\frac{\\sqrt{2}}{4} & \\frac{\\sqrt{2}}{4} & \\frac{\\sqrt{2}}{4} & \\frac{\\sqrt{2}}{4} & \\frac{\\sqrt{2}}{4} & \\frac{\\sqrt{2}}{4}\\\\\\frac{\\sqrt{2}}{4} & \\frac{\\sqrt{2}}{4} & - \\frac{\\sqrt{2}}{4} & \\frac{\\sqrt{2}}{4} & - \\frac{\\sqrt{2}}{4} & - \\frac{\\sqrt{2}}{4} & - \\frac{\\sqrt{2}}{4} & \\frac{\\sqrt{2}}{4}\\\\\\frac{\\sqrt{2}}{4} & - \\frac{\\sqrt{2}}{4} & \\frac{\\sqrt{2}}{4} & - \\frac{\\sqrt{2}}{4} & - \\frac{\\sqrt{2}}{4} & - \\frac{\\sqrt{2}}{4} & \\frac{\\sqrt{2}}{4} & \\frac{\\sqrt{2}}{4}\\\\\\frac{\\sqrt{2}}{4} & \\frac{\\sqrt{2}}{4} & - \\frac{\\sqrt{2}}{4} & - \\frac{\\sqrt{2}}{4} & - \\frac{\\sqrt{2}}{4} & \\frac{\\sqrt{2}}{4} & \\frac{\\sqrt{2}}{4} & - \\frac{\\sqrt{2}}{4}\\\\\\frac{\\sqrt{2}}{4} & - \\frac{\\sqrt{2}}{4} & - \\frac{\\sqrt{2}}{4} & - \\frac{\\sqrt{2}}{4} & \\frac{\\sqrt{2}}{4} & \\frac{\\sqrt{2}}{4} & - \\frac{\\sqrt{2}}{4} & \\frac{\\sqrt{2}}{4}\\\\\\frac{\\sqrt{2}}{4} & - \\frac{\\sqrt{2}}{4} & - \\frac{\\sqrt{2}}{4} & \\frac{\\sqrt{2}}{4} & \\frac{\\sqrt{2}}{4} & - \\frac{\\sqrt{2}}{4} & \\frac{\\sqrt{2}}{4} & - \\frac{\\sqrt{2}}{4}\\\\\\frac{\\sqrt{2}}{4} & - \\frac{\\sqrt{2}}{4} & \\frac{\\sqrt{2}}{4} & \\frac{\\sqrt{2}}{4} & - \\frac{\\sqrt{2}}{4} & \\frac{\\sqrt{2}}{4} & - \\frac{\\sqrt{2}}{4} & - \\frac{\\sqrt{2}}{4}\\\\\\frac{\\sqrt{2}}{4} & \\frac{\\sqrt{2}}{4} & \\frac{\\sqrt{2}}{4} & - \\frac{\\sqrt{2}}{4} & \\frac{\\sqrt{2}}{4} & - \\frac{\\sqrt{2}}{4} & - \\frac{\\sqrt{2}}{4} & - \\frac{\\sqrt{2}}{4}\\end{matrix}\\right]$"
      ],
      "text/plain": [
       "Matrix([\n",
       "[sqrt(2)/4,  sqrt(2)/4,  sqrt(2)/4,  sqrt(2)/4,  sqrt(2)/4,  sqrt(2)/4,  sqrt(2)/4,  sqrt(2)/4],\n",
       "[sqrt(2)/4,  sqrt(2)/4, -sqrt(2)/4,  sqrt(2)/4, -sqrt(2)/4, -sqrt(2)/4, -sqrt(2)/4,  sqrt(2)/4],\n",
       "[sqrt(2)/4, -sqrt(2)/4,  sqrt(2)/4, -sqrt(2)/4, -sqrt(2)/4, -sqrt(2)/4,  sqrt(2)/4,  sqrt(2)/4],\n",
       "[sqrt(2)/4,  sqrt(2)/4, -sqrt(2)/4, -sqrt(2)/4, -sqrt(2)/4,  sqrt(2)/4,  sqrt(2)/4, -sqrt(2)/4],\n",
       "[sqrt(2)/4, -sqrt(2)/4, -sqrt(2)/4, -sqrt(2)/4,  sqrt(2)/4,  sqrt(2)/4, -sqrt(2)/4,  sqrt(2)/4],\n",
       "[sqrt(2)/4, -sqrt(2)/4, -sqrt(2)/4,  sqrt(2)/4,  sqrt(2)/4, -sqrt(2)/4,  sqrt(2)/4, -sqrt(2)/4],\n",
       "[sqrt(2)/4, -sqrt(2)/4,  sqrt(2)/4,  sqrt(2)/4, -sqrt(2)/4,  sqrt(2)/4, -sqrt(2)/4, -sqrt(2)/4],\n",
       "[sqrt(2)/4,  sqrt(2)/4,  sqrt(2)/4, -sqrt(2)/4,  sqrt(2)/4, -sqrt(2)/4, -sqrt(2)/4, -sqrt(2)/4]])"
      ]
     },
     "execution_count": 83,
     "metadata": {},
     "output_type": "execute_result"
    }
   ],
   "source": [
    "FF(p**n)"
   ]
  },
  {
   "attachments": {},
   "cell_type": "markdown",
   "metadata": {},
   "source": [
    "Recall that the matrices $X_q$ are obtained by the finite Fourier transform, i.e., $X_q = F^* Z_q F$."
   ]
  },
  {
   "cell_type": "code",
   "execution_count": null,
   "metadata": {},
   "outputs": [],
   "source": [
    "def X(q):\n",
    "    f = FF(p**n)\n",
    "    return adjoint(f) * Z(q) * f"
   ]
  },
  {
   "cell_type": "code",
   "execution_count": 77,
   "metadata": {},
   "outputs": [
    {
     "data": {
      "text/latex": [
       "$\\displaystyle \\left[\\begin{matrix}0 & 0 & 1 & 0\\\\0 & 0 & 0 & 1\\\\1 & 0 & 0 & 0\\\\0 & 1 & 0 & 0\\end{matrix}\\right]$"
      ],
      "text/plain": [
       "Matrix([\n",
       "[0, 0, 1, 0],\n",
       "[0, 0, 0, 1],\n",
       "[1, 0, 0, 0],\n",
       "[0, 1, 0, 0]])"
      ]
     },
     "execution_count": 77,
     "metadata": {},
     "output_type": "execute_result"
    }
   ],
   "source": [
    "X(2)"
   ]
  },
  {
   "attachments": {},
   "cell_type": "markdown",
   "metadata": {},
   "source": [
    "The separation of the matrices is given by \n",
    "$$\n",
    "\\{Z_q\\},  \\quad q = 0,\\ldots,d-2,\n",
    "$$\n",
    "$$\n",
    "\\{X_qZ_{q+r}\\}, \\quad q, r = 0,\\ldots,d-2.\n",
    "$$"
   ]
  },
  {
   "cell_type": "code",
   "execution_count": 72,
   "metadata": {},
   "outputs": [
    {
     "data": {
      "text/plain": [
       "[(-4,\n",
       "  1,\n",
       "  [Matrix([\n",
       "   [-1],\n",
       "   [-1],\n",
       "   [ 1],\n",
       "   [ 1]])]),\n",
       " (-2,\n",
       "  1,\n",
       "  [Matrix([\n",
       "   [1],\n",
       "   [1],\n",
       "   [1],\n",
       "   [1]])]),\n",
       " (2,\n",
       "  1,\n",
       "  [Matrix([\n",
       "   [-1],\n",
       "   [ 1],\n",
       "   [-1],\n",
       "   [ 1]])]),\n",
       " (4,\n",
       "  1,\n",
       "  [Matrix([\n",
       "   [ 1],\n",
       "   [-1],\n",
       "   [-1],\n",
       "   [ 1]])])]"
      ]
     },
     "execution_count": 72,
     "metadata": {},
     "output_type": "execute_result"
    }
   ],
   "source": [
    "t = np.random.randint(-10, 10)\n",
    "s = np.random.randint(-10, 10)\n",
    "m = X(0) + t*X(1) + s*X(2)\n",
    "m.eigenvects()"
   ]
  },
  {
   "cell_type": "code",
   "execution_count": null,
   "metadata": {},
   "outputs": [],
   "source": []
  }
 ],
 "metadata": {
  "kernelspec": {
   "display_name": "wigner",
   "language": "python",
   "name": "python3"
  },
  "language_info": {
   "codemirror_mode": {
    "name": "ipython",
    "version": 3
   },
   "file_extension": ".py",
   "mimetype": "text/x-python",
   "name": "python",
   "nbconvert_exporter": "python",
   "pygments_lexer": "ipython3",
   "version": "3.10.10"
  },
  "orig_nbformat": 4
 },
 "nbformat": 4,
 "nbformat_minor": 2
}
