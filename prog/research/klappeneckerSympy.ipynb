{
 "cells": [
  {
   "attachments": {},
   "cell_type": "markdown",
   "metadata": {},
   "source": [
    "# Constructions of mutually unbiased bases.\n",
    "## Andreas Klappenecker and Martin Röttler\n",
    "\n",
    "Klappenecker presents two different constructions of MUBs for the case of odd prime power dimensions. And for the case of even prime power dimension, he uses exponentials sums over Galois `rings`."
   ]
  },
  {
   "attachments": {},
   "cell_type": "markdown",
   "metadata": {},
   "source": [
    "Let $\\mathbb F_q$ be a finite field with odd characteristic $p$. Define for each $x \\in \\mathbb F_q$ the additive character $\\mathbb F_q \\to \\mathbb C^{\\times}$ by\n",
    "\n",
    "$$\n",
    "y \\mapsto \\omega_p^{\\text{tr}(xy)},\n",
    "$$\n",
    "where $\\omega_p = \\exp(2\\pi i / p)$. Assume some order of the elements of the finite field."
   ]
  },
  {
   "attachments": {},
   "cell_type": "markdown",
   "metadata": {},
   "source": [
    "**Theorem** Let $\\mathbb F_q$ be the finite field with odd characteristic $p$. Denote $B_a = \\{v_{a,b} | b \\in \\mathbb F_q\\}$ the set of vectors given by\n",
    "\n",
    "$$\n",
    "v_{a,b} = q^{-1/2} \\left(\\omega_p^{\\text{tr}(ax^2+bx)}\\right)_{x \\in \\mathbb F_q}.\n",
    "$$\n",
    "\n",
    "The standard basis and the sets $B_a$, with $a \\in \\mathbb F_q$, form a set of $q+1$ mutually unbiased bases of $\\mathbb C^q$."
   ]
  },
  {
   "cell_type": "code",
   "execution_count": 2,
   "metadata": {},
   "outputs": [
    {
     "ename": "SystemError",
     "evalue": "initialization of _internal failed without raising an exception",
     "output_type": "error",
     "traceback": [
      "\u001b[0;31m---------------------------------------------------------------------------\u001b[0m",
      "\u001b[0;31mSystemError\u001b[0m                               Traceback (most recent call last)",
      "Cell \u001b[0;32mIn[2], line 3\u001b[0m\n\u001b[1;32m      1\u001b[0m \u001b[39mimport\u001b[39;00m \u001b[39mnumpy\u001b[39;00m \u001b[39mas\u001b[39;00m \u001b[39mnp\u001b[39;00m\n\u001b[1;32m      2\u001b[0m \u001b[39mimport\u001b[39;00m \u001b[39msympy\u001b[39;00m \u001b[39mas\u001b[39;00m \u001b[39msp\u001b[39;00m\n\u001b[0;32m----> 3\u001b[0m \u001b[39mimport\u001b[39;00m \u001b[39mgalois\u001b[39;00m\n\u001b[1;32m      5\u001b[0m p \u001b[39m=\u001b[39m \u001b[39m3\u001b[39m\n\u001b[1;32m      6\u001b[0m n \u001b[39m=\u001b[39m \u001b[39m1\u001b[39m\n",
      "File \u001b[0;32m/opt/miniconda3/envs/wigner/lib/python3.10/site-packages/galois/__init__.py:20\u001b[0m\n\u001b[1;32m     14\u001b[0m     warnings\u001b[39m.\u001b[39mwarn(\n\u001b[1;32m     15\u001b[0m         \u001b[39m\"\u001b[39m\u001b[39mAn error occurred during package install where setuptools_scm failed to create a _version.py file.\u001b[39m\u001b[39m\"\u001b[39m\n\u001b[1;32m     16\u001b[0m         \u001b[39m\"\u001b[39m\u001b[39mDefaulting version to 0.0.0.\u001b[39m\u001b[39m\"\u001b[39m\n\u001b[1;32m     17\u001b[0m     )\n\u001b[1;32m     19\u001b[0m \u001b[39m# Import class/functions from nested private modules\u001b[39;00m\n\u001b[0;32m---> 20\u001b[0m \u001b[39mfrom\u001b[39;00m \u001b[39m.\u001b[39;00m\u001b[39m_domains\u001b[39;00m \u001b[39mimport\u001b[39;00m \u001b[39m*\u001b[39m\n\u001b[1;32m     21\u001b[0m \u001b[39mfrom\u001b[39;00m \u001b[39m.\u001b[39;00m\u001b[39m_polys\u001b[39;00m \u001b[39mimport\u001b[39;00m \u001b[39m*\u001b[39m  \u001b[39m# Needs to be imported before _fields\u001b[39;00m\n\u001b[1;32m     22\u001b[0m \u001b[39mfrom\u001b[39;00m \u001b[39m.\u001b[39;00m\u001b[39m_fields\u001b[39;00m \u001b[39mimport\u001b[39;00m \u001b[39m*\u001b[39m\n",
      "File \u001b[0;32m/opt/miniconda3/envs/wigner/lib/python3.10/site-packages/galois/_domains/__init__.py:4\u001b[0m\n\u001b[1;32m      1\u001b[0m \u001b[39m\"\"\"\u001b[39;00m\n\u001b[1;32m      2\u001b[0m \u001b[39mA subpackage containing abstract base classes for arrays over Galois fields or rings.\u001b[39;00m\n\u001b[1;32m      3\u001b[0m \u001b[39m\"\"\"\u001b[39;00m\n\u001b[0;32m----> 4\u001b[0m \u001b[39mfrom\u001b[39;00m \u001b[39m.\u001b[39;00m\u001b[39m_array\u001b[39;00m \u001b[39mimport\u001b[39;00m \u001b[39m*\u001b[39m\n",
      "File \u001b[0;32m/opt/miniconda3/envs/wigner/lib/python3.10/site-packages/galois/_domains/_array.py:16\u001b[0m\n\u001b[1;32m     14\u001b[0m \u001b[39mfrom\u001b[39;00m \u001b[39m.\u001b[39;00m\u001b[39m.\u001b[39;00m\u001b[39m_helper\u001b[39;00m \u001b[39mimport\u001b[39;00m export, verify_isinstance, verify_literal\n\u001b[1;32m     15\u001b[0m \u001b[39mfrom\u001b[39;00m \u001b[39m.\u001b[39;00m\u001b[39m.\u001b[39;00m\u001b[39mtyping\u001b[39;00m \u001b[39mimport\u001b[39;00m ArrayLike, DTypeLike, ElementLike, IterableLike, ShapeLike\n\u001b[0;32m---> 16\u001b[0m \u001b[39mfrom\u001b[39;00m \u001b[39m.\u001b[39;00m\u001b[39m_function\u001b[39;00m \u001b[39mimport\u001b[39;00m FunctionMixin\n\u001b[1;32m     17\u001b[0m \u001b[39mfrom\u001b[39;00m \u001b[39m.\u001b[39;00m\u001b[39m_linalg\u001b[39;00m \u001b[39mimport\u001b[39;00m LinalgFunctionMixin\n\u001b[1;32m     18\u001b[0m \u001b[39mfrom\u001b[39;00m \u001b[39m.\u001b[39;00m\u001b[39m_lookup\u001b[39;00m \u001b[39mimport\u001b[39;00m UFuncMixin\n",
      "File \u001b[0;32m/opt/miniconda3/envs/wigner/lib/python3.10/site-packages/galois/_domains/_function.py:9\u001b[0m\n\u001b[1;32m      5\u001b[0m \u001b[39mfrom\u001b[39;00m \u001b[39m__future__\u001b[39;00m \u001b[39mimport\u001b[39;00m annotations\n\u001b[1;32m      7\u001b[0m \u001b[39mfrom\u001b[39;00m \u001b[39mtyping\u001b[39;00m \u001b[39mimport\u001b[39;00m TYPE_CHECKING, Callable, Type\n\u001b[0;32m----> 9\u001b[0m \u001b[39mimport\u001b[39;00m \u001b[39mnumba\u001b[39;00m\n\u001b[1;32m     10\u001b[0m \u001b[39mimport\u001b[39;00m \u001b[39mnumpy\u001b[39;00m \u001b[39mas\u001b[39;00m \u001b[39mnp\u001b[39;00m\n\u001b[1;32m     11\u001b[0m \u001b[39mfrom\u001b[39;00m \u001b[39mnumba\u001b[39;00m \u001b[39mimport\u001b[39;00m int64\n",
      "File \u001b[0;32m/opt/miniconda3/envs/wigner/lib/python3.10/site-packages/numba/__init__.py:42\u001b[0m\n\u001b[1;32m     38\u001b[0m \u001b[39mfrom\u001b[39;00m \u001b[39mnumba\u001b[39;00m\u001b[39m.\u001b[39;00m\u001b[39mcore\u001b[39;00m\u001b[39m.\u001b[39;00m\u001b[39mdecorators\u001b[39;00m \u001b[39mimport\u001b[39;00m (cfunc, generated_jit, jit, njit, stencil,\n\u001b[1;32m     39\u001b[0m                                    jit_module)\n\u001b[1;32m     41\u001b[0m \u001b[39m# Re-export vectorize decorators and the thread layer querying function\u001b[39;00m\n\u001b[0;32m---> 42\u001b[0m \u001b[39mfrom\u001b[39;00m \u001b[39mnumba\u001b[39;00m\u001b[39m.\u001b[39;00m\u001b[39mnp\u001b[39;00m\u001b[39m.\u001b[39;00m\u001b[39mufunc\u001b[39;00m \u001b[39mimport\u001b[39;00m (vectorize, guvectorize, threading_layer,\n\u001b[1;32m     43\u001b[0m                             get_num_threads, set_num_threads,\n\u001b[1;32m     44\u001b[0m                             set_parallel_chunksize, get_parallel_chunksize,\n\u001b[1;32m     45\u001b[0m                             get_thread_id)\n\u001b[1;32m     47\u001b[0m \u001b[39m# Re-export Numpy helpers\u001b[39;00m\n\u001b[1;32m     48\u001b[0m \u001b[39mfrom\u001b[39;00m \u001b[39mnumba\u001b[39;00m\u001b[39m.\u001b[39;00m\u001b[39mnp\u001b[39;00m\u001b[39m.\u001b[39;00m\u001b[39mnumpy_support\u001b[39;00m \u001b[39mimport\u001b[39;00m carray, farray, from_dtype\n",
      "File \u001b[0;32m/opt/miniconda3/envs/wigner/lib/python3.10/site-packages/numba/np/ufunc/__init__.py:3\u001b[0m\n\u001b[1;32m      1\u001b[0m \u001b[39m# -*- coding: utf-8 -*-\u001b[39;00m\n\u001b[0;32m----> 3\u001b[0m \u001b[39mfrom\u001b[39;00m \u001b[39mnumba\u001b[39;00m\u001b[39m.\u001b[39;00m\u001b[39mnp\u001b[39;00m\u001b[39m.\u001b[39;00m\u001b[39mufunc\u001b[39;00m\u001b[39m.\u001b[39;00m\u001b[39mdecorators\u001b[39;00m \u001b[39mimport\u001b[39;00m Vectorize, GUVectorize, vectorize, guvectorize\n\u001b[1;32m      4\u001b[0m \u001b[39mfrom\u001b[39;00m \u001b[39mnumba\u001b[39;00m\u001b[39m.\u001b[39;00m\u001b[39mnp\u001b[39;00m\u001b[39m.\u001b[39;00m\u001b[39mufunc\u001b[39;00m\u001b[39m.\u001b[39;00m\u001b[39m_internal\u001b[39;00m \u001b[39mimport\u001b[39;00m PyUFunc_None, PyUFunc_Zero, PyUFunc_One\n\u001b[1;32m      5\u001b[0m \u001b[39mfrom\u001b[39;00m \u001b[39mnumba\u001b[39;00m\u001b[39m.\u001b[39;00m\u001b[39mnp\u001b[39;00m\u001b[39m.\u001b[39;00m\u001b[39mufunc\u001b[39;00m \u001b[39mimport\u001b[39;00m _internal, array_exprs\n",
      "File \u001b[0;32m/opt/miniconda3/envs/wigner/lib/python3.10/site-packages/numba/np/ufunc/decorators.py:3\u001b[0m\n\u001b[1;32m      1\u001b[0m \u001b[39mimport\u001b[39;00m \u001b[39minspect\u001b[39;00m\n\u001b[0;32m----> 3\u001b[0m \u001b[39mfrom\u001b[39;00m \u001b[39mnumba\u001b[39;00m\u001b[39m.\u001b[39;00m\u001b[39mnp\u001b[39;00m\u001b[39m.\u001b[39;00m\u001b[39mufunc\u001b[39;00m \u001b[39mimport\u001b[39;00m _internal\n\u001b[1;32m      4\u001b[0m \u001b[39mfrom\u001b[39;00m \u001b[39mnumba\u001b[39;00m\u001b[39m.\u001b[39;00m\u001b[39mnp\u001b[39;00m\u001b[39m.\u001b[39;00m\u001b[39mufunc\u001b[39;00m\u001b[39m.\u001b[39;00m\u001b[39mparallel\u001b[39;00m \u001b[39mimport\u001b[39;00m ParallelUFuncBuilder, ParallelGUFuncBuilder\n\u001b[1;32m      6\u001b[0m \u001b[39mfrom\u001b[39;00m \u001b[39mnumba\u001b[39;00m\u001b[39m.\u001b[39;00m\u001b[39mcore\u001b[39;00m\u001b[39m.\u001b[39;00m\u001b[39mregistry\u001b[39;00m \u001b[39mimport\u001b[39;00m DelayedRegistry\n",
      "\u001b[0;31mSystemError\u001b[0m: initialization of _internal failed without raising an exception"
     ]
    }
   ],
   "source": [
    "import numpy as np\n",
    "import sympy as sp\n",
    "import galois\n",
    "\n",
    "p = 3\n",
    "n = 1\n",
    "q = p**n\n",
    "\n",
    "# GF = galois.GF(q, irreducible_poly='x^2+x+2')\n",
    "GF = galois.GF(q)\n",
    "# print(GF.repr_table())"
   ]
  },
  {
   "cell_type": "code",
   "execution_count": 11,
   "metadata": {},
   "outputs": [],
   "source": [
    "B = [sp.eye(q)]\n",
    "for a in GF.elements:\n",
    "    Ba = sp.zeros(q, q)\n",
    "    for j, b in enumerate(GF.elements):\n",
    "        for i, x in enumerate(GF.elements):\n",
    "            Ba[i, j] = sp.exp(2 * sp.pi * sp.I * (a * x**2 + b * x).field_trace() / p)\n",
    "    B.append((Ba / sp.sqrt(q)).applyfunc(sp.nsimplify))"
   ]
  },
  {
   "cell_type": "code",
   "execution_count": 8,
   "metadata": {},
   "outputs": [
    {
     "data": {
      "text/latex": [
       "$\\displaystyle \\frac{1}{3}$"
      ],
      "text/plain": [
       "1/3"
      ]
     },
     "execution_count": 8,
     "metadata": {},
     "output_type": "execute_result"
    }
   ],
   "source": [
    "sp.Abs((sp.transpose(B[1][:,0]) * B[2][:,2])[0,0])"
   ]
  },
  {
   "attachments": {},
   "cell_type": "markdown",
   "metadata": {},
   "source": [
    "For even prime powers, Klappenecker and Martin mention that there proof (using Gauss sums) does not work in even characteristic. But it turns out that exponential sums over Galois rings serve as a substitute.\n",
    "\n",
    "Let $\\mathbb Z_4$ denote the residue class ring of integers modulo $4$. Denote $\\langle 2 \\rangle$ the ideal generated by $2$ in $\\mathbb Z_4[x]$. Let $h(x)$ be a monic basic primitive polynomial of degree $n$. The ring $GR(4,n) = \\mathbb Z_4[x] / \\langle h(x) \\rangle$ is called the Galois ring of degree $n$ over $\\mathbb Z_4$. Such a ring has $4^n$ elements. Any element $r \\in GR(4,n)$ can be uniquely written in the form $r = a + 2b$, where $a, b \\in \\mathcal T_n = \\{0,1,\\xi,\\ldots,\\xi^{2^n-2}\\}$.\n",
    "\n",
    "The automorphism $\\sigma: GR(4,n) \\to GR(4,n)$ defined by $\\sigma(a+2b) = a^2 + 2b^2$ is called the Frobenius automorphism. This map leaves the elements of the ring $\\mathbb Z_4$ fixed. All automorphisms of $GR(4,n)$ are of the form $\\sigma^k$ for some integer $k \\geq 0$. Define the trace map $\\text{tr} : GR(4,n) \\to \\mathbb Z_4$ as\n",
    "\n",
    "$$\n",
    "\\text{tr}(x) = \\sum_{k=0}^{n-1} \\sigma^k(x).\n",
    "$$\n",
    "\n",
    "**Theorem.** Let $GR(4,n)$ be a finite Galois ring with Teichmüller set $\\mathcal T_n$. For $a \\in \\mathcal T_n$, denote by $M_a = \\{v_{a,b} | b \\in \\mathcal T_n\\}$ the set of vectors given by\n",
    "\n",
    "$$\n",
    "v_{a,b}\n",
    "= 2^{-n / 2} \\left(\n",
    "    \\exp\\left(2\\pi i / 4 \\cdot \\text{tr}((a+2b)x)\\right)\n",
    "\\right)_{x \\in \\mathcal T_n}.\n",
    "$$\n",
    "\n",
    "The standard basis and the sets $M_a$, with $a \\in \\mathcal T_n$, form a set of $2^n + 1$ mutually unbiased bases in $\\mathbb C^{2^n}$."
   ]
  },
  {
   "cell_type": "code",
   "execution_count": 3,
   "metadata": {},
   "outputs": [
    {
     "ename": "ImportError",
     "evalue": "cannot import name QQ",
     "output_type": "error",
     "traceback": [
      "\u001b[0;31m---------------------------------------------------------------------------\u001b[0m",
      "\u001b[0;31mImportError\u001b[0m                               Traceback (most recent call last)",
      "Cell \u001b[0;32mIn[3], line 1\u001b[0m\n\u001b[0;32m----> 1\u001b[0m \u001b[39mfrom\u001b[39;00m \u001b[39msage\u001b[39;00m\u001b[39m.\u001b[39;00m\u001b[39marith\u001b[39;00m\u001b[39m.\u001b[39;00m\u001b[39mmisc\u001b[39;00m \u001b[39mimport\u001b[39;00m kronecker\n\u001b[1;32m      2\u001b[0m kronecker(\u001b[39m1\u001b[39m,\u001b[39m2\u001b[39m)\n",
      "File \u001b[0;32m/opt/miniconda3/envs/wigner/lib/python3.10/site-packages/sage/arith/misc.py:29\u001b[0m\n\u001b[1;32m     26\u001b[0m \u001b[39mfrom\u001b[39;00m \u001b[39msage\u001b[39;00m\u001b[39m.\u001b[39;00m\u001b[39mstructure\u001b[39;00m\u001b[39m.\u001b[39;00m\u001b[39melement\u001b[39;00m \u001b[39mimport\u001b[39;00m parent\n\u001b[1;32m     27\u001b[0m \u001b[39mfrom\u001b[39;00m \u001b[39msage\u001b[39;00m\u001b[39m.\u001b[39;00m\u001b[39mstructure\u001b[39;00m\u001b[39m.\u001b[39;00m\u001b[39mcoerce\u001b[39;00m \u001b[39mimport\u001b[39;00m py_scalar_to_element\n\u001b[0;32m---> 29\u001b[0m \u001b[39mfrom\u001b[39;00m \u001b[39msage\u001b[39;00m\u001b[39m.\u001b[39;00m\u001b[39mrings\u001b[39;00m\u001b[39m.\u001b[39;00m\u001b[39mrational_field\u001b[39;00m \u001b[39mimport\u001b[39;00m QQ\n\u001b[1;32m     30\u001b[0m \u001b[39mfrom\u001b[39;00m \u001b[39msage\u001b[39;00m\u001b[39m.\u001b[39;00m\u001b[39mrings\u001b[39;00m\u001b[39m.\u001b[39;00m\u001b[39minteger_ring\u001b[39;00m \u001b[39mimport\u001b[39;00m ZZ\n\u001b[1;32m     31\u001b[0m \u001b[39mfrom\u001b[39;00m \u001b[39msage\u001b[39;00m\u001b[39m.\u001b[39;00m\u001b[39mrings\u001b[39;00m\u001b[39m.\u001b[39;00m\u001b[39minteger\u001b[39;00m \u001b[39mimport\u001b[39;00m Integer, GCD_list\n",
      "File \u001b[0;32m/opt/miniconda3/envs/wigner/lib/python3.10/site-packages/sage/rings/rational_field.py:57\u001b[0m\n\u001b[1;32m      1\u001b[0m \u001b[39mr\u001b[39m\u001b[39m\"\"\"\u001b[39;00m\n\u001b[1;32m      2\u001b[0m \u001b[39mField `\\QQ` of Rational Numbers\u001b[39;00m\n\u001b[1;32m      3\u001b[0m \n\u001b[0;32m   (...)\u001b[0m\n\u001b[1;32m     54\u001b[0m \n\u001b[1;32m     55\u001b[0m \u001b[39m\"\"\"\u001b[39;00m\n\u001b[0;32m---> 57\u001b[0m \u001b[39mfrom\u001b[39;00m \u001b[39m.\u001b[39;00m\u001b[39mrational\u001b[39;00m \u001b[39mimport\u001b[39;00m Rational\n\u001b[1;32m     58\u001b[0m \u001b[39mfrom\u001b[39;00m \u001b[39m.\u001b[39;00m\u001b[39minteger\u001b[39;00m \u001b[39mimport\u001b[39;00m Integer\n\u001b[1;32m     60\u001b[0m ZZ \u001b[39m=\u001b[39m \u001b[39mNone\u001b[39;00m\n",
      "File \u001b[0;32m/opt/miniconda3/envs/wigner/lib/python3.10/site-packages/sage/rings/rational.pyx:95\u001b[0m, in \u001b[0;36minit sage.rings.rational (build/cythonized/sage/rings/rational.cpp:40531)\u001b[0;34m()\u001b[0m\n\u001b[1;32m     93\u001b[0m \n\u001b[1;32m     94\u001b[0m \n\u001b[0;32m---> 95\u001b[0m import sage.rings.real_mpfr\n\u001b[1;32m     96\u001b[0m import sage.rings.real_double\n\u001b[1;32m     97\u001b[0m from libc.stdint cimport uint64_t\n",
      "File \u001b[0;32m/opt/miniconda3/envs/wigner/lib/python3.10/site-packages/sage/rings/real_mpfr.pyx:158\u001b[0m, in \u001b[0;36minit sage.rings.real_mpfr (build/cythonized/sage/rings/real_mpfr.c:47722)\u001b[0;34m()\u001b[0m\n\u001b[1;32m    156\u001b[0m cdef ZZ, QQ, RDF\n\u001b[1;32m    157\u001b[0m from .integer_ring import ZZ\n\u001b[0;32m--> 158\u001b[0m from .rational_field import QQ\n\u001b[1;32m    159\u001b[0m from .real_double import RDF\n\u001b[1;32m    160\u001b[0m from .real_double cimport RealDoubleElement\n",
      "\u001b[0;31mImportError\u001b[0m: cannot import name QQ"
     ]
    }
   ],
   "source": [
    "from sage.arith.misc import kronecker\n",
    "kronecker(1,2)"
   ]
  },
  {
   "cell_type": "code",
   "execution_count": null,
   "metadata": {},
   "outputs": [],
   "source": []
  }
 ],
 "metadata": {
  "kernelspec": {
   "display_name": "wigner",
   "language": "python",
   "name": "python3"
  },
  "language_info": {
   "codemirror_mode": {
    "name": "ipython",
    "version": 3
   },
   "file_extension": ".py",
   "mimetype": "text/x-python",
   "name": "python",
   "nbconvert_exporter": "python",
   "pygments_lexer": "ipython3",
   "version": "3.10.10"
  },
  "orig_nbformat": 4
 },
 "nbformat": 4,
 "nbformat_minor": 2
}
