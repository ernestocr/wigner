{
 "cells": [
  {
   "cell_type": "markdown",
   "id": "921ca135",
   "metadata": {},
   "source": [
    "### La función de Wigner discreta - Wootters (2003)\n",
    "\n",
    "En el notebook anterior, programos el método de Wootters que formuló en 1986 de una función de Wigner discreta. El método funciona muy, pero tiene la desventaja de que a sistemas cuánticos compuestos le corresponde un producto cartesiano de espacios de fase discretos, lo cual perjudica la visualización de éste representación. En el 2003 Wootters explica como expresar un sistema de $n$ qubits mediante una función de Wigner sobre un espacio de fase plano, $2^n \\times 2^n$. Dicho espacio está basado en campos finitos de tamaño $2^n$ y su construcción nos produce naturalmente a un conjunto completo de $2^n+1$ bases mutuamente insesgadas.\n",
    "\n",
    "El objetivo principal de Wootters es mostrar una representación del estado cuántico como una función real sobre el espacio de fase, no la versión continua cuyos ejes reprsentan la posición y el momentum, si no un espacio discreto cuyos ejes se asocian a un par de bases conjugadas para el espacio de estados finito.\n",
    "\n",
    "Si hacemos tres tipos de mediciones de un qubit los cuales son mutuamente conjugados, i.e. cada eigenvector de cada medición es una combinación lineal equitativa de los eigenvectores de las otras mediciones, entonces cada medición distinta nos brinda información que es lo mas independiente posible a la información de otras mediciones.\n",
    "\n",
    "En un espacio vectorial complejo de dimensión $N$, existe a lo mucho $N+1$ bases mutuamente insesgadas. Si $N$ es una potencia de un número primo entonces existen $N+1$ bases mutuamente insesgadas. Para todo $N$ que no es una potencia de un primo, no se sabe si existen las $N+1$ bases mutuamente insesgadas. El método de Wootters para la construcción de una función de Wigner discreta nos genera un conjunto completo de bases mutuamente insesgadas para $N$ potencia de un primo.\n",
    "\n",
    "Wooters inicia repasando las propiedades de la función de Wigner en el caso continuo. Principalmente su similutd con una distribución de probabilidad sobre el espacio de fase y la propiedad de que las integrales en cierta dirección del espacio de fase nos genera las distribuciones probabilísticas correctas de un operador asociado con esa dirección. Otra propiedad que Wootters intenta presevar al pasar a lo discreto, es la covarianza traslacional de la función de Wigner.\n",
    "\n",
    "Se puede utilizar la relación entre la función de Wigner y las distribuciones probabilísticas como una base del método para la determinación del estado cuántico de una partícula uni-dimensional, dado un conjunto de partículas preparadas en el mismo estado $\\hat{\\rho}$. Para cada dirección en el espacio de fase, es decir para que estriación, se realiza una medición sobre un subconjunto del ensamble correspondiente a esa estriación. Tal medición siempre puede ser representada por un operador $a \\hat{q} + b \\hat{p}$ y la distribución observada para dicho operador se puede obtener integrando la función de Wigner sobre la dirección correspondiente. Integrando sobre todas las direcciones del espacio de fase es posible reconstruir a la función de Wigner.\n",
    "\n",
    "Con ésto preámbulo, Wootters se pregunta ¿las mediciones que se usan para determinar el estado de uno o dos qubits pueden ser obtenidas a partir de una descripción del espacio de fase discreto?\n",
    "\n",
    "---"
   ]
  },
  {
   "cell_type": "markdown",
   "id": "b58795e5",
   "metadata": {},
   "source": [
    "Primero consideremos el caso de un solo qubit, imaginado como una partícula con spin-1/2. El eje horizontal del espacio de fase corresponde al componente $z$ del spin que tomas los valores $\\uparrow$ y $\\downarrow$. El eje vertical representa el componente $x$ del spin con sus dos valores $\\rightarrow$ y $\\leftarrow$, de ésta manera el espacio de fase discreto corresponde a cuatro puntos. Para darle un significado geométrico al concepto de linea en éste espacio, también correspondemos los ejes con dos variables $q$ y $p$ que toman los valores 0 y 1, interpretados como elementos de $\\mathbb Z_2$.\n",
    "\n",
    "Una linea el espacio de fase es el conjunto de puntos que satisfacen la ecuación $aq + bp = c$ para $a,b,c \\in \\mathbb Z_2$. Existen exactamente tres conjuntos ($N+1$) de lineas paralelas, es decir, 3 estriaciones. Análogo al caso continuo, cada estriación será asociado con una medición (operador) y cada linea será asociado con un resultado de la medición. Luego definiremos la función de Wigner sobre éste espacio de fase, la cual representará un qubit por cuatro números reales. Ésta función tendrá la propiedad que la suma sobre cualquier linea es igual a la probabilidad del resultado de una medición asociado a esa linea."
   ]
  },
  {
   "cell_type": "markdown",
   "id": "b67bf1ac",
   "metadata": {},
   "source": [
    "La pregunta inmediata es ¿qué medición, o mejor dicho, qué base ortogonal será asociada a cada estriación? Al asignar un significado a las bases hemos dado una asociación de bases con las estriaciones horizontales y verticales de manera implícita: las lineas verticales están asociadas a los estados $|\\uparrow\\rangle$ y $|\\downarrow\\rangle$, mientras que las lineas horizontales se asocian con los estados $|\\rightarrow\\rangle$ y $|\\leftarrow\\rangle$. Así que solo nos falta asociar las estriación diagonal.\n",
    "\n",
    "El concepto crucial para fijar la base restante, es el concepto de la traslación en el espacio de fase, la cual es simplemente la adición de un vector $(q_0,p_0)$ a cada punto del espacio de fase.\n",
    "\n",
    "Observamos que una traslación por el vector $(1,0)$ intercambia los estados $\\uparrow$ y $\\downarrow$ y preserva los estados $\\rightarrow$ y $\\leftarrow$. Físicamente ésto corresponde a una rotación del spin de 180 grados sobre el eje $x$ en la esfera de Bloch, la cual se representa mediante el operador $\\sigma_x$. Por lo tanto asociamos una traslación $(1,0)$ en el espacio discreto con el operador $\\sigma_x$ en el espacio de Hilbert, y lo denotamos $H$. Similarmente una traslación vertical debe ser asociada con el operador $\\sigma_z$ denotado $V$.\n",
    "\n",
    "Queremos que nuestra función de Wigner $W$ sea covariante a la traslación, como en el caso continuo. Por ejemplo si cambiamos a un estado $\\hat{\\rho}$ al aplicar $H$, entonces queremos $W$ cambie de acuerdo a una traslación, es decir queremos que los valores de $W$ se intercambien horizontalmente. Para lograr la covarianza, requerimos que la base asociada a las lineas horizontales sean los eigenvectores de $H$, los cuales cuales son precisamente $|\\rightarrow\\rangle$ y $|\\leftarrow\\rangle$. (Nada nuevo hasta ahorita).\n",
    "\n",
    "Pero éste requisito de covarianza traslacional sí nos brinda información nueva en el caso de las lineas diagonales. En el espacio de fase, las lineas diagonales son invariantes a bajo un traslación vertical y horizontal combinada. Por lo tanto la base asociada a las lineas diagonales serán la base de eigenvectores de $VH$. Pero $VH = \\sigma_z \\sigma_x = i \\sigma_y$, y los eigenestados de $\\sigma_y$ constituyen nuestra tercer base. Por lo tanto hemos iniciado con dos bases conjugadas, sobre direcciones $z$ y $x$ y la construcción inmediatamente produce una tercer base, sobre la dirección $y$.\n",
    "\n",
    "Existe una ambigüedad que no se ha clarificado, los operadores de traslación nos dice que base asociar con las lineas diagonales, pero no nos dice que vector de la base asociar a cada linea. Ambas elecciones son igualmente naturales. Elegimos de manera arbitraria el +1 eigenestado de $\\sigma_y$ con la linea $\\{(0,0),(1,1)\\}$ y por default el -1 eigenestado con la linea $\\{(0,1),(1,0)\\}$. Con ésta elección, la función de Wigner queda determinada por el requesito de que su suma sobre cualquiera de éstas lineas es igual a la probabilidad de los resultados de las medición asociado a esa linea.\n",
    "\n",
    "Wootters comenta que para el caso de un qubit, ésta descripción en el espacio de fase no es nueva y fue propuesta esencialemente y similarmente por Feynman, Wooters y Cohen y Scully. Wootters aporta una generalización a dos qubits."
   ]
  },
  {
   "cell_type": "markdown",
   "id": "4ed50ca1",
   "metadata": {},
   "source": [
    "---\n",
    "\n",
    "El espacio de Hilbert de dos qubits es de dimensión $N = 4$, por lo tanto el espacio de fase de éste sistema será un arreglo de $4 \\times 4$ puntos. De nuevo imaginado un qubit como una partícula con spin-1/2, asociamos el eje horizontal con los estados $\\uparrow \\uparrow$, $\\uparrow \\downarrow$, $\\downarrow \\uparrow$ y $\\downarrow \\downarrow$. Similarmente asociamos el eje vertical con los estados $\\rightarrow \\rightarrow$, $\\rightarrow \\leftarrow$, $\\leftarrow \\rightarrow$ y $\\leftarrow \\leftarrow$.\n",
    "\n",
    "La elección de los números asociados a los ejes es la aportación de Wootters. Wootters asocia los ejes con las variables $q$ y $p$ las cuales toman valores de un campo finito de cuatro elements $\\mathbb F_4 = \\{0,1,\\omega,\\omega^2\\}$."
   ]
  },
  {
   "cell_type": "code",
   "execution_count": 7,
   "id": "74524412",
   "metadata": {},
   "outputs": [
    {
     "data": {
      "text/plain": [
       "[0, w, w + 1, 1]"
      ]
     },
     "execution_count": 7,
     "metadata": {},
     "output_type": "execute_result"
    }
   ],
   "source": [
    "Z4.<w> = GF(2^2)\n",
    "z4 = list(Z4)\n",
    "z4"
   ]
  },
  {
   "cell_type": "code",
   "execution_count": 15,
   "id": "cab920ef",
   "metadata": {},
   "outputs": [
    {
     "data": {
      "text/plain": [
       "True"
      ]
     },
     "execution_count": 15,
     "metadata": {},
     "output_type": "execute_result"
    }
   ],
   "source": [
    "z4[3] + z4[3] == z4[1] + z4[1]"
   ]
  },
  {
   "cell_type": "code",
   "execution_count": 16,
   "id": "ab0c535b",
   "metadata": {},
   "outputs": [
    {
     "data": {
      "text/plain": [
       "True"
      ]
     },
     "execution_count": 16,
     "metadata": {},
     "output_type": "execute_result"
    }
   ],
   "source": [
    "z4[1]^2 == z4[1] + z4[3]"
   ]
  },
  {
   "cell_type": "markdown",
   "id": "34477213",
   "metadata": {},
   "source": [
    "La aritmética de los cuatro elementos del campo tiene sentido físico para un par de partículas con spin-1/2. Por ejemplo una traslación por el elemento $(1,0)$ intercambia las primeras dos columnas y las últimas dos columnas."
   ]
  },
  {
   "cell_type": "code",
   "execution_count": 21,
   "id": "b62fdb98",
   "metadata": {},
   "outputs": [
    {
     "name": "stdout",
     "output_type": "stream",
     "text": [
      "(1, 0)\n",
      "(0, 0)\n",
      "(w + 1, 0)\n",
      "(w, 0)\n"
     ]
    }
   ],
   "source": [
    "t = vector(Z4, [1,0])\n",
    "print(vector(Z4, [0,0]) + t) # 1era columna\n",
    "print(vector(Z4, [1,0]) + t) # 2da columna\n",
    "print(vector(Z4, [w,0]) + t) # 3era columna\n",
    "print(vector(Z4, [w+1,0]) + t) # 4ta columna"
   ]
  },
  {
   "cell_type": "markdown",
   "id": "aceabbea",
   "metadata": {},
   "source": [
    "Siguiendo la asignación de los ejes con los estados del spin, ésto corresponde a una acción que *no* afecta al primer qubit:\n",
    "\n",
    "$$\n",
    "\\uparrow \\uparrow \\mapsto \\uparrow \\downarrow,\n",
    "\\quad\n",
    "\\uparrow \\downarrow \\mapsto \\uparrow \\uparrow,\n",
    "\\quad\n",
    "\\downarrow \\uparrow \\mapsto \\downarrow \\downarrow,\n",
    "\\quad\n",
    "\\downarrow \\downarrow \\mapsto \\downarrow \\uparrow.\n",
    "$$\n",
    "\n",
    "Físicamente ésto corresponde a rotaciones de la segunda partícula de 180 grados alrededor del eje $x$. Todas las traslaciones de éste espacio de fase tiene interpretaciones físicas similares. De éstas interpretaciones podemos obtener directamente operadores unitarios de traslación correspondientes a las traslaciones en el espacio de fase.\n",
    "\n",
    "Por ejemplo, la traslación horizontal mencionado se asocia con el operador $I \\otimes \\sigma_x$, y lo denotamos por $H_1$. Para el caso de dos qubits existe cuatro operadores de traslación *básicos*:\n",
    "\n",
    "$$\n",
    "\\begin{align*}\n",
    "H_1 &= I \\otimes \\sigma_x \\\\\n",
    "H_\\omega &= \\sigma_x \\otimes I \\\\\n",
    "V_1 &= I \\otimes \\sigma_z \\\\\n",
    "V_\\omega &= \\sigma_z \\otimes I\n",
    "\\end{align*}\n",
    "$$"
   ]
  },
  {
   "cell_type": "code",
   "execution_count": 22,
   "id": "044f688d",
   "metadata": {},
   "outputs": [
    {
     "name": "stdout",
     "output_type": "stream",
     "text": [
      "(w, 0)\n",
      "(w + 1, 0)\n",
      "(0, 0)\n",
      "(1, 0)\n"
     ]
    }
   ],
   "source": [
    "t = vector(Z4, [w,0])\n",
    "print(vector(Z4, [0,0]) + t) # 1era columna\n",
    "print(vector(Z4, [1,0]) + t) # 2da columna\n",
    "print(vector(Z4, [w,0]) + t) # 3era columna\n",
    "print(vector(Z4, [w+1,0]) + t) # 4ta columna"
   ]
  },
  {
   "cell_type": "markdown",
   "id": "08de3b06",
   "metadata": {},
   "source": [
    "Todas las traslaciones se pueden obtener de combinaciones lineales de éstas cuatro. Por ejemplo la traslación $(1,\\omega^2)$ puede se descompuesta en una traslación horizontal por 1, una traslación vertical por $\\omega$ seguida por una traslación vertical por 1. Ésta traslación naturalmente se asocia a\n",
    "\n",
    "$$\n",
    "H_1 V_\\omega V_1 = -i \\sigma_z \\otimes \\sigma_y.\n",
    "$$\n",
    "\n",
    "---\n",
    "\n",
    "De nuevo la noción de una estriación es parte crucial de la construcción. Para el caso de dos qubits, existen exactamente cinco estrías. Sin la noción de campo, la aritmética de las lineas paralelas puede producir lineas que se intersectan en más de un punto.\n",
    "\n",
    "Para definir la función de Wigner es necesario asociar una base ortogonal a cada estría. Como ejemplo, Wootters considera al estría que contiene a la linea \n",
    "\n",
    "$$\n",
    "\\lambda\n",
    "= \\{ (0,0), (1,\\omega), (\\omega, \\omega^2), (\\omega^2, 1)\n",
    "\\},\n",
    "$$\n",
    "\n",
    "la cual es invariante bajo los vectores $(1,\\omega), (\\omega,\\omega^2)$ y $(\\omega^2,1)$."
   ]
  },
  {
   "cell_type": "code",
   "execution_count": 40,
   "id": "b5b92239",
   "metadata": {},
   "outputs": [
    {
     "name": "stdout",
     "output_type": "stream",
     "text": [
      "La linea es invariante.\n"
     ]
    }
   ],
   "source": [
    "# probando la invarianza de la linea \\lambda\n",
    "# bajo las traslaciones mencionadas.\n",
    "\n",
    "points = [[0,0], [1,w], [w,w^2], [w^2,1]]\n",
    "line   = [vector(Z4, p) for p in points]\n",
    "\n",
    "for t in line:\n",
    "    for p in line:\n",
    "        if not (p + t in line):\n",
    "            raise Exception('No hay invarianza!')\n",
    "print('La linea es invariante.')"
   ]
  },
  {
   "cell_type": "markdown",
   "id": "551eb1a9",
   "metadata": {},
   "source": [
    "Hay que obtener los operadores asociados a las traslaciones. La traslación $(1,\\omega)$ se puede obtener con una traslación $(1,0)$ y una $(0,\\omega)$, lo que corresponde con el operador $H_1 V_\\omega$. Similarmente, a $(\\omega,\\omega^2)$ le corresponde $H_\\omega V_\\omega V_1$, y para $(\\omega^2,1)$ tenemos $H_\\omega H_1 V_1$. Nos gustaría obtener una sola eigenbase para los tres operadores, la cual corresponderá con las lineas de la estría. Podemos verificar que los tres operadores mencionados conmutan uno a uno, por lo tanto es posible hacer una diagonalización simultánea, dándonos una base que además es única."
   ]
  },
  {
   "cell_type": "code",
   "execution_count": 48,
   "id": "c0f2055b",
   "metadata": {},
   "outputs": [],
   "source": [
    "# las matrices de Pauli en la rep. estándar\n",
    "# y la matriz de identidad.\n",
    "σx = Matrix(CDF, [[0,1],[1,0]])\n",
    "σy = Matrix(CDF, [[0,-I],[I,0]])\n",
    "σz = Matrix(CDF, [[1,0],[0,-1]])\n",
    "Id = Matrix(CDF, [[1,0],[0,1]])\n",
    "\n",
    "# los operadores H_1, H_w, V_1, V_w\n",
    "H1 = Id.tensor_product(σx)\n",
    "Hw = σx.tensor_product(Id)\n",
    "V1 = Id.tensor_product(σz)\n",
    "Vw = σz.tensor_product(Id)"
   ]
  },
  {
   "cell_type": "code",
   "execution_count": 49,
   "id": "a526c60b",
   "metadata": {},
   "outputs": [
    {
     "name": "stdout",
     "output_type": "stream",
     "text": [
      "Los operadores conmutan.\n"
     ]
    }
   ],
   "source": [
    "# verificación de la conmutatividad\n",
    "# de los operadores de traslación mencionados.\n",
    "\n",
    "T1 = H1 * Vw\n",
    "T2 = Hw * Vw * V1\n",
    "T3 = Hw * H1 * V1\n",
    "\n",
    "for T in [T1, T2, T3]:\n",
    "    for O in [T1, T2, T3]:\n",
    "        if T*O != O*T:\n",
    "            raise Exception('No conmutan!')\n",
    "print('Los operadores conmutan.')"
   ]
  },
  {
   "cell_type": "markdown",
   "id": "1d6ea17d",
   "metadata": {},
   "source": [
    "Wootters hace la diagonalización simultánea de los operadores y obtiene la base de eigenvectores:\n",
    "\n",
    "$$\n",
    "\\frac{1}{2} \n",
    "\\begin{pmatrix}\n",
    "1 \\\\ 1 \\\\ i \\\\ -i\n",
    "\\end{pmatrix},\n",
    "\\quad\n",
    "\\frac{1}{2} \n",
    "\\begin{pmatrix}\n",
    "1 \\\\ 1 \\\\ -i \\\\ i\n",
    "\\end{pmatrix},\n",
    "\\quad\n",
    "\\frac{1}{2} \n",
    "\\begin{pmatrix}\n",
    "1 \\\\ -1 \\\\ i \\\\ i\n",
    "\\end{pmatrix},\n",
    "\\quad\n",
    "\\frac{1}{2} \n",
    "\\begin{pmatrix}\n",
    "1 \\\\ -1 \\\\ -i \\\\ -i\n",
    "\\end{pmatrix}.\n",
    "$$\n",
    "\n",
    "SageMath no es particularmente útil para éstas cosas porque no nos permite diagonalizar matrices cuyas entradas no son de una campo con representación exacta computacionalmente ($\\mathbb C$ en éste caso). Así que verificamos que efectivamente forman una base y son eigenvectores de las tres matrices de traslación a mano."
   ]
  },
  {
   "cell_type": "code",
   "execution_count": 80,
   "id": "02eeb62b",
   "metadata": {},
   "outputs": [],
   "source": [
    "e1 = vector([1,1,I,-I])/2\n",
    "e2 = vector([1,1,-I,I])/2\n",
    "e3 = vector([1,-1,I,I])/2\n",
    "e4 = vector([1,-1,-I,-I])/2"
   ]
  },
  {
   "cell_type": "code",
   "execution_count": 96,
   "id": "c7856b6c",
   "metadata": {},
   "outputs": [
    {
     "data": {
      "text/plain": [
       "[\n",
       "\n",
       "]"
      ]
     },
     "execution_count": 96,
     "metadata": {},
     "output_type": "execute_result"
    }
   ],
   "source": [
    "# independencia lineal de la base.\n",
    "V = CC^4\n",
    "V.linear_dependence([e1, e2, e3, e4])"
   ]
  },
  {
   "cell_type": "markdown",
   "id": "1bb6bdef",
   "metadata": {},
   "source": [
    "De la *misma* manera encontramos las bases asociadas a las otras cuatro estrías, las cuales son mutuamente insesgadas. Wootters menciona que éstas bases son $ZZ, XX, YY$, *belle* y *beau*. Por lo tanto las mediciones que nos imaginamos para la determinación de un estado provienen del espacio de fase, justo como sucede en el caso continuo (?)."
   ]
  },
  {
   "cell_type": "markdown",
   "id": "cd547e07",
   "metadata": {},
   "source": [
    "Recapitulando el método tenemos:\n",
    "- Dos bases conjugadas se eligen para asociar con la estría vertical y horizontal.\n",
    "- De ésta asignación obtenemos un conjunto de operadores unitarios que corresponden a las traslaciones básicas.\n",
    "- Cada estría define un conjunto de traslaciones en el espacio de fase que preservan las lineas de la estría las cuales se pueden expresar mediante la composición de traslaciones básicas.\n",
    "- Los eigenvectores simultáneos correspondiente a los operadores unitarios corresopndientes a las traslaciones, constituyen una base que asociamos con la estría."
   ]
  },
  {
   "cell_type": "markdown",
   "id": "7d6cc990",
   "metadata": {},
   "source": [
    "---\n",
    "\n",
    "Aunque ya tenemos una correspondencia entre estrías del espacio de fase y bases mutuamente insesgadas, aun no hemos especificado que vector de cada base se asocia a cada linea de su respectiva estría. No hay una manera única de hacer ésta elección, pero las elecciones no son completamente arbitrarias debido al requerimiento de que la función de Wigner sea covariante bajo traslaciones.\n",
    "\n",
    "La idea es asignar un vector a una linea y luego obtener el resto de las asignaciones mediante traslaciones. Eligiendo una linea podemos obtener el resto de las lineas de la estría mediante una traslación, y hacemos la correspondencia entre vectores de la base bajo los operadores de traslación.\n",
    "\n",
    "Despues de que cada linea sea asignada un vector de la base correspondiente, la definición de Wigner queda completamente determinada por el requisito de que la suma de $W$ sobre cualquier linea del espacio de fase es igual a la probabilidad del resultado de medición asociado a esa linea. En otras palabras, la probabilidad de que un estado $\\hat{\\rho}$ se encuentra en un estado $|\\psi\\rangle$ es igual a la suma de $W$ sobre la linea en el espacio de fase que corresponde a $|\\psi\\rangle$."
   ]
  },
  {
   "cell_type": "code",
   "execution_count": 205,
   "id": "71182413",
   "metadata": {},
   "outputs": [],
   "source": [
    "import matplotlib.pyplot as plt\n",
    "import numpy as np\n",
    "import seaborn as sns\n",
    "\n",
    "sns.set(style='white')"
   ]
  },
  {
   "cell_type": "code",
   "execution_count": 284,
   "id": "cf0a0876",
   "metadata": {},
   "outputs": [],
   "source": [
    "# por alguna razón Sage ordena como [0,w,w^2,1]\n",
    "z4 = list(Z4)\n",
    "z4 = [z4[0], z4[3], z4[1], z4[2]]\n",
    "\n",
    "def ray(q,p):\n",
    "    if (q,p) == (0,0):\n",
    "        raise Exception('Debe ser un punto distinto de cero.')\n",
    "    return [vector(Z4, [k*q, k*p]) for k in z4]\n",
    "\n",
    "def toLine(r):\n",
    "    return [(z4.index(q), z4.index(p)) for q, p in r]"
   ]
  },
  {
   "cell_type": "code",
   "execution_count": 295,
   "id": "cfdec706",
   "metadata": {},
   "outputs": [
    {
     "data": {
      "image/png": "[encoded data removed]",
      "text/plain": [
       "<Figure size 864x864 with 20 Axes>"
      ]
     },
     "metadata": {},
     "output_type": "display_data"
    }
   ],
   "source": [
    "fig, axes = plt.subplots(figsize=(12,12),\n",
    "                         nrows=5, ncols=4,\n",
    "                         sharex=True, sharey=True)\n",
    "\n",
    "plt.setp(axes,\n",
    "         xticks=[0,1,2,3],\n",
    "         xticklabels=[r'0', r'1', r'$\\omega$', r'$\\omega^2$'],\n",
    "         yticks=[0,1,2,3],\n",
    "         yticklabels=[r'0', r'1', r'$\\omega$', r'$\\omega^2$'])\n",
    "\n",
    "points = np.array([0,1,2,3], dtype=np.int64)\n",
    "points = np.array([(x,y) for x in points for y in points])\n",
    "\n",
    "for grp in axes:\n",
    "    for ax in grp:\n",
    "        ax.set_box_aspect(1)\n",
    "#         ax.set_frame_on(False)\n",
    "        ax.scatter(*zip(*points)) # phase space\n",
    "\n",
    "# como automatizamos ésto?\n",
    "ray1 = ray(0,1)\n",
    "ray2 = ray(1,w)\n",
    "ray3 = ray(1,1) \n",
    "ray4 = ray(w,1)\n",
    "ray5 = ray(1,0)\n",
    "\n",
    "size = 150.0\n",
    "\n",
    "for i,k in enumerate(z4):\n",
    "    line = [p + vector(Z4, [k,0]) for p in ray1]\n",
    "    axes[0][i].scatter(*zip(*toLine(line)), s = size, c='red')\n",
    "\n",
    "for i,k in enumerate(z4):\n",
    "    line = [p + vector(Z4, [k,0]) for p in ray2]\n",
    "    axes[1][i].scatter(*zip(*toLine(line)), s = size, c='red')\n",
    "\n",
    "for i,k in enumerate(z4):\n",
    "    line = [p + vector(Z4, [k,0]) for p in ray3]\n",
    "    axes[2][i].scatter(*zip(*toLine(line)), s = size, c='red')\n",
    "\n",
    "for i,k in enumerate(z4):\n",
    "    line = [p + vector(Z4, [k,0]) for p in ray4]\n",
    "    axes[3][i].scatter(*zip(*toLine(line)), s = size, c='red')\n",
    "\n",
    "for i,k in enumerate(z4):\n",
    "    line = [p + vector(Z4, [0,k]) for p in ray5]\n",
    "    axes[4][i].scatter(*zip(*toLine(line)), s = size, c='red')"
   ]
  },
  {
   "cell_type": "markdown",
   "id": "232e0f97",
   "metadata": {},
   "source": [
    "Wootters comenta en éste trabajo que un algoritmo para generar a la función de Wigner para cualquier estado de dos qubits, dadas las elecciones de su artículo, es el siguiente:\n",
    "\n",
    "- Para el punto $\\alpha = (q,p) \\in \\mathbb F_4 \\times \\mathbb F_4$, la función de Wigner evaluada en el punto $\\alpha$ será $W_\\alpha = \\frac{1}{4} \\text{Tr}(\\hat{\\rho} A_\\alpha)$.\n",
    "- Los operadores puntuales $A_\\alpha$ se pueden obtener a partir del operador $A_{(0,0)}$ el cual se define como:\n",
    "\n",
    "$$\n",
    "A_{(0,0)}\n",
    "= \n",
    "\\begin{pmatrix}\n",
    "1 & (1-i)/2 \\\\\n",
    "(1+i)/2 & 0\n",
    "\\end{pmatrix}\n",
    "\\otimes\n",
    "\\begin{pmatrix}\n",
    "1 & (1+i)/2 \\\\\n",
    "(1-i)/2 & 0\n",
    "\\end{pmatrix}.\n",
    "$$\n",
    "\n",
    "- Para $\\alpha$ arbitrario tenemos operador $A_\\alpha = U_\\alpha A_{(0,0)} U_\\alpha^*$ done $U_\\alpha$ es el operador de traslación correspondiente a la traslación por el vector $\\alpha$."
   ]
  },
  {
   "cell_type": "code",
   "execution_count": 296,
   "id": "1d176ba5",
   "metadata": {},
   "outputs": [],
   "source": [
    "m1 = Matrix([[1, (1-I)/2], [(1+I)/2, 0]])\n",
    "m2 = Matrix([[1, (1+I)/2], [(1-I)/2, 0]])\n",
    "A0 = m1.tensor_product(m2)"
   ]
  },
  {
   "cell_type": "code",
   "execution_count": 297,
   "id": "27c089dd",
   "metadata": {},
   "outputs": [],
   "source": [
    "# para obtener los operadores de traslación\n",
    "# necesitamos una manera de descomponer vectores\n",
    "# (q,p) en los vectores básicos:\n",
    "# (1,0), (w,0), (0,1), (0,w)."
   ]
  },
  {
   "cell_type": "markdown",
   "id": "d27e8bdb",
   "metadata": {},
   "source": [
    "¿Se puede extender la representación del espacio de fase de Wootters a espacios de otras dimensiones? Primeramente, es necesario que los ejes tomen valores de un campo. Tenemos garantizado la existencia de una campo de $N$ elementos sí y solo si $N$ es una potencia de un primo. Así que la construcción de Wootters aplica para sistemas de $n$ qu$d$its donde $d$ es primo. Cuando los ejes son representados por los elementos del campo de cardinalidad $N$, se puede mostrar que el número de estrías es $N+1$, el número de bases ortogonales necesarios para la determinación de estados.\n",
    "\n",
    "Wootters menciona que cuando $N$ es una potencia de primo, existe una manera sistemática de asignar elementos del campo con los ejes de tal manera que su construcción siempre funciona. Es decir, los operadores de traslación asociados a una estría conmutan por lo tanto definen una base simultánea de eigenestados, los cuales son mutuamente mutuamente insesgados."
   ]
  },
  {
   "cell_type": "code",
   "execution_count": null,
   "id": "23977a3f",
   "metadata": {},
   "outputs": [],
   "source": []
  }
 ],
 "metadata": {
  "kernelspec": {
   "display_name": "SageMath 9.4",
   "language": "sage",
   "name": "sagemath"
  },
  "language_info": {
   "codemirror_mode": {
    "name": "ipython",
    "version": 3
   },
   "file_extension": ".py",
   "mimetype": "text/x-python",
   "name": "python",
   "nbconvert_exporter": "python",
   "pygments_lexer": "ipython3",
   "version": "3.9.9"
  },
  "vscode": {
   "interpreter": {
    "hash": "5e35189ad1d214f798ab5db1f3cce2aa031533808c6934ca9c116422c12d90e7"
   }
  }
 },
 "nbformat": 4,
 "nbformat_minor": 5
}
