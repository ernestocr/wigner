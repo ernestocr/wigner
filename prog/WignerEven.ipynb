{
 "cells": [
  {
   "cell_type": "code",
   "execution_count": 1,
   "metadata": {},
   "outputs": [],
   "source": [
    "from sage.all import *\n",
    "import numpy as np\n",
    "\n",
    "import matplotlib.pyplot as plt\n",
    "import matplotlib as mpl\n",
    "from matplotlib import cm"
   ]
  },
  {
   "cell_type": "code",
   "execution_count": 2,
   "metadata": {},
   "outputs": [],
   "source": [
    "def DesarguesSpread(F):\n",
    "    lines = [[(F(0),u) for u in F]]\n",
    "    for m in F:\n",
    "        lines.append([(u, m*u) for u in F])\n",
    "    return lines"
   ]
  },
  {
   "cell_type": "code",
   "execution_count": 3,
   "metadata": {},
   "outputs": [],
   "source": [
    "def toInt(e):\n",
    "    return list(F).index(e)"
   ]
  },
  {
   "cell_type": "code",
   "execution_count": 4,
   "metadata": {},
   "outputs": [
    {
     "data": {
      "text/plain": [
       "(20, 4)"
      ]
     },
     "execution_count": 4,
     "metadata": {},
     "output_type": "execute_result"
    }
   ],
   "source": [
    "mubs = np.load('MUBS/2-2-desarguesian.npy')\n",
    "mubs.shape"
   ]
  },
  {
   "cell_type": "code",
   "execution_count": 5,
   "metadata": {},
   "outputs": [
    {
     "data": {
      "text/plain": [
       "[0, a, a + 1, 1]"
      ]
     },
     "execution_count": 5,
     "metadata": {},
     "output_type": "execute_result"
    }
   ],
   "source": [
    "F = GF(2**2, 'a')\n",
    "list(F)"
   ]
  },
  {
   "cell_type": "code",
   "execution_count": 6,
   "metadata": {},
   "outputs": [],
   "source": [
    "def A_lines(x,y):\n",
    "    bs = [y - m*x for m in F]\n",
    "    lines = [[(x, u) for u in F]]\n",
    "    for i, m in enumerate(F):\n",
    "        line = [(x, m*x + bs[i]) for x in F]\n",
    "        lines.append(line)\n",
    "    return lines"
   ]
  },
  {
   "cell_type": "code",
   "execution_count": 7,
   "metadata": {},
   "outputs": [],
   "source": [
    "def affineAx(F):\n",
    "    d = F.order()\n",
    "    fig, ax = plt.subplots(figsize=(3.5,3.5))\n",
    "\n",
    "    ax.set_xticks(range(d))\n",
    "    ax.set_yticks(range(d))\n",
    "\n",
    "    # labels = ['$' + str(e) + '$' for e in F]\n",
    "    # labels = list(F)\n",
    "    labels = ['0', r'$\\alpha$', r'$\\alpha + 1$', '1']\n",
    "    ax.set_xticklabels(labels)\n",
    "    ax.set_yticklabels(labels)\n",
    "    \n",
    "    return fig, ax"
   ]
  },
  {
   "cell_type": "code",
   "execution_count": 15,
   "metadata": {},
   "outputs": [
    {
     "data": {
      "image/png": "[encoded data removed]",
      "text/plain": [
       "<Figure size 350x350 with 1 Axes>"
      ]
     },
     "metadata": {},
     "output_type": "display_data"
    }
   ],
   "source": [
    "fig, ax = affineAx(F)\n",
    "\n",
    "f = list(F)\n",
    "lines = A_lines(f[2], f[2])\n",
    "for i, line in enumerate(lines):\n",
    "    x, y = np.array(line).T\n",
    "    x = [toInt(e) for e in x]\n",
    "    y = [toInt(e) for e in y]\n",
    "\n",
    "    alpha = 0.5\n",
    "    # if i in [0,1,9,27]:\n",
    "    #     alpha = 0.9\n",
    "\n",
    "    ax.plot(\n",
    "        x, y,\n",
    "        marker='o',\n",
    "        linewidth=2,\n",
    "        markersize=9,\n",
    "        alpha=alpha\n",
    "    )"
   ]
  },
  {
   "cell_type": "code",
   "execution_count": 9,
   "metadata": {},
   "outputs": [
    {
     "data": {
      "text/plain": [
       "'module://matplotlib_inline.backend_inline'"
      ]
     },
     "execution_count": 9,
     "metadata": {},
     "output_type": "execute_result"
    }
   ],
   "source": [
    "mpl.get_backend()"
   ]
  },
  {
   "attachments": {},
   "cell_type": "markdown",
   "metadata": {},
   "source": [
    "Saving to PGF file format."
   ]
  },
  {
   "cell_type": "code",
   "execution_count": 25,
   "metadata": {},
   "outputs": [],
   "source": [
    "mpl.use(\"pgf\")\n",
    "mpl.rcParams.update({\n",
    "    \"pgf.texsystem\": \"pdflatex\",\n",
    "    'font.family': 'serif',\n",
    "    'text.usetex': True,\n",
    "    'pgf.rcfonts': False,\n",
    "})"
   ]
  },
  {
   "cell_type": "code",
   "execution_count": 27,
   "metadata": {},
   "outputs": [],
   "source": [
    "plt.savefig('../imgs/affine-desargues-2-2-Wootters.pgf')"
   ]
  },
  {
   "cell_type": "code",
   "execution_count": 16,
   "metadata": {},
   "outputs": [],
   "source": [
    "def npProj(v):\n",
    "    d = len(v)\n",
    "    return np.kron(v.reshape((d,1)), v.conj())"
   ]
  },
  {
   "cell_type": "code",
   "execution_count": 19,
   "metadata": {},
   "outputs": [],
   "source": [
    "def A(x, y, mubs):\n",
    "    d = F.order()\n",
    "    bs = [x] + [y - m*x for m in F]\n",
    "    bi = [toInt(b) for b in bs]\n",
    "    \n",
    "    op = np.zeros((d,d), dtype='complex64')\n",
    "    for k in range(d + 1):\n",
    "        B = mubs[d*k:d*(k+1),:]\n",
    "        p = npProj(B[:,bi[k]])\n",
    "        op += p\n",
    "        \n",
    "    return op - identity_matrix(d)"
   ]
  },
  {
   "cell_type": "code",
   "execution_count": 22,
   "metadata": {},
   "outputs": [
    {
     "name": "stdout",
     "output_type": "stream",
     "text": [
      "(1+0j)\n",
      "True\n"
     ]
    }
   ],
   "source": [
    "op = A(0,0,mubs) \n",
    "print(op.trace())\n",
    "print(np.all(op == op.conj().T))"
   ]
  },
  {
   "cell_type": "code",
   "execution_count": 23,
   "metadata": {},
   "outputs": [
    {
     "data": {
      "text/plain": [
       "array([[1. +0.j , 0. +0.5j, 0. +0.5j, 0. +0.5j],\n",
       "       [0. -0.5j, 0. +0.j , 0.5+0.j , 0.5+0.j ],\n",
       "       [0. -0.5j, 0.5+0.j , 0. +0.j , 0.5+0.j ],\n",
       "       [0. -0.5j, 0.5+0.j , 0.5+0.j , 0. +0.j ]])"
      ]
     },
     "execution_count": 23,
     "metadata": {},
     "output_type": "execute_result"
    }
   ],
   "source": [
    "op"
   ]
  },
  {
   "cell_type": "code",
   "execution_count": 24,
   "metadata": {},
   "outputs": [],
   "source": [
    "def Wigner(rho, x, y):\n",
    "    d = F.order()\n",
    "    return (rho @ A(x, y, mubs)).trace() / d"
   ]
  },
  {
   "cell_type": "code",
   "execution_count": 25,
   "metadata": {},
   "outputs": [],
   "source": [
    "def WignerMatrix(rho):\n",
    "    d = rho.shape[0]\n",
    "    W = np.zeros((d,d))\n",
    "    for i, x in enumerate(F):\n",
    "        for j, y in enumerate(F):\n",
    "            W[i,j] = np.real(Wigner(rho, x, y))\n",
    "    return np.rot90(W)"
   ]
  },
  {
   "cell_type": "code",
   "execution_count": 34,
   "metadata": {},
   "outputs": [
    {
     "data": {
      "text/plain": [
       "array([[0.25, 0.  , 0.  , 0.  ],\n",
       "       [0.25, 0.  , 0.  , 0.  ],\n",
       "       [0.25, 0.  , 0.  , 0.  ],\n",
       "       [0.25, 0.  , 0.  , 0.  ]])"
      ]
     },
     "execution_count": 34,
     "metadata": {},
     "output_type": "execute_result"
    }
   ],
   "source": [
    "WignerMatrix(npProj(mubs[:4,0]))"
   ]
  },
  {
   "cell_type": "code",
   "execution_count": 78,
   "metadata": {},
   "outputs": [],
   "source": [
    "def plotWigner(M, rotate=True):\n",
    "    if rotate:\n",
    "        M = np.rot90(M, -1)\n",
    "\n",
    "    n = np.size(M)\n",
    "    xpos, ypos = np.meshgrid(range(M.shape[0]), range(M.shape[1]))\n",
    "    xpos = xpos.T.flatten() - 0.5\n",
    "    ypos = ypos.T.flatten() - 0.5\n",
    "    zpos = np.zeros(n)\n",
    "    dx = dy = 0.8 * np.ones(n)\n",
    "    dz = np.real(M.flatten())\n",
    "\n",
    "    z_min = min(dz)\n",
    "    z_max = max(dz)\n",
    "    if z_min == z_max:\n",
    "        z_min -= 0.1\n",
    "        z_max += 0.1\n",
    "\n",
    "    norm = mpl.colors.Normalize(z_min, z_max)\n",
    "    cmap = mpl.colormaps['viridis']\n",
    "    colors = cmap(norm(dz))\n",
    "\n",
    "    fig = plt.figure(figsize=(4.5, 3.5))\n",
    "    # ax = fig.add_subplot(projection='3d', azim=145, elev=35)\n",
    "    ax = fig.add_subplot(projection='3d', azim=-35, elev=35)\n",
    "\n",
    "    ax.bar3d(xpos, ypos, zpos, dx, dy, dz, color=colors)\n",
    "\n",
    "    # x axis\n",
    "    ax.axes.xaxis.set_major_locator(plt.IndexLocator(1, -0.1))\n",
    "\n",
    "    # y axis\n",
    "    ax.axes.yaxis.set_major_locator(plt.IndexLocator(1, 0.5))\n",
    "    # ax.invert_yaxis()\n",
    "\n",
    "    labels_x = [r'$\\uparrow\\uparrow$',\n",
    "              r'$\\uparrow\\downarrow$',\n",
    "              r'$\\downarrow\\uparrow$',\n",
    "              r'$\\downarrow\\downarrow$']\n",
    "    labels_y = [r'$\\rightarrow\\rightarrow$',\n",
    "              r'$\\rightarrow\\leftarrow$',\n",
    "              r'$\\leftarrow\\rightarrow$',\n",
    "              r'$\\leftarrow\\leftarrow$']\n",
    "    ax.set_xticklabels(labels_x)\n",
    "    ax.set_yticklabels(labels_y)\n",
    "\n",
    "    # z axis\n",
    "    ax.axes.zaxis.set_major_locator(plt.IndexLocator(1, 0.5))\n",
    "    ax.set_zlim3d([min(z_min, 0), z_max])\n",
    "\n",
    "    cax, kw = mpl.colorbar.make_axes(ax, shrink=.75, pad=.1)\n",
    "    mpl.colorbar.ColorbarBase(cax, cmap=cmap, norm=norm)\n",
    "\n",
    "    return fig, ax"
   ]
  },
  {
   "cell_type": "code",
   "execution_count": 81,
   "metadata": {},
   "outputs": [
    {
     "name": "stderr",
     "output_type": "stream",
     "text": [
      "/var/folders/33/k06yq9x95jqcnbk_bh41j4qc0000gn/T/ipykernel_71370/605680074.py:44: UserWarning: FixedFormatter should only be used together with FixedLocator\n",
      "  ax.set_xticklabels(labels_x)\n",
      "/var/folders/33/k06yq9x95jqcnbk_bh41j4qc0000gn/T/ipykernel_71370/605680074.py:45: UserWarning: FixedFormatter should only be used together with FixedLocator\n",
      "  ax.set_yticklabels(labels_y)\n"
     ]
    },
    {
     "data": {
      "text/plain": [
       "(<Figure size 450x350 with 2 Axes>, <Axes3D: >)"
      ]
     },
     "execution_count": 81,
     "metadata": {},
     "output_type": "execute_result"
    }
   ],
   "source": [
    "plotWigner(WignerMatrix(npProj(mubs[:4,0])))"
   ]
  },
  {
   "cell_type": "code",
   "execution_count": 80,
   "metadata": {},
   "outputs": [],
   "source": [
    "mpl.use(\"pgf\")\n",
    "mpl.rcParams.update({\n",
    "    \"pgf.texsystem\": \"pdflatex\",\n",
    "    'font.family': 'serif',\n",
    "    'text.usetex': True,\n",
    "    'pgf.rcfonts': False,\n",
    "})"
   ]
  },
  {
   "cell_type": "code",
   "execution_count": 82,
   "metadata": {},
   "outputs": [],
   "source": [
    "plt.savefig('../imgs/wigner-desargues-2-2-s1.pgf')"
   ]
  },
  {
   "cell_type": "code",
   "execution_count": 97,
   "metadata": {},
   "outputs": [
    {
     "data": {
      "text/plain": [
       "array([[0.        +0.j, 0.        +0.j, 0.        +0.j, 0.        +0.j],\n",
       "       [0.        +0.j, 0.49999997+0.j, 0.49999997+0.j, 0.        +0.j],\n",
       "       [0.        +0.j, 0.49999997+0.j, 0.49999997+0.j, 0.        +0.j],\n",
       "       [0.        +0.j, 0.        +0.j, 0.        +0.j, 0.        +0.j]],\n",
       "      dtype=complex64)"
      ]
     },
     "execution_count": 97,
     "metadata": {},
     "output_type": "execute_result"
    }
   ],
   "source": [
    "s = mubs[0:4,1] + mubs[0:4,2]\n",
    "s = s / np.linalg.norm(s)\n",
    "npProj(s)"
   ]
  },
  {
   "cell_type": "code",
   "execution_count": 98,
   "metadata": {},
   "outputs": [
    {
     "name": "stderr",
     "output_type": "stream",
     "text": [
      "/var/folders/33/k06yq9x95jqcnbk_bh41j4qc0000gn/T/ipykernel_71370/605680074.py:44: UserWarning: FixedFormatter should only be used together with FixedLocator\n",
      "  ax.set_xticklabels(labels_x)\n",
      "/var/folders/33/k06yq9x95jqcnbk_bh41j4qc0000gn/T/ipykernel_71370/605680074.py:45: UserWarning: FixedFormatter should only be used together with FixedLocator\n",
      "  ax.set_yticklabels(labels_y)\n"
     ]
    },
    {
     "data": {
      "text/plain": [
       "(<Figure size 450x350 with 2 Axes>, <Axes3D: >)"
      ]
     },
     "execution_count": 98,
     "metadata": {},
     "output_type": "execute_result"
    }
   ],
   "source": [
    "plotWigner(WignerMatrix(npProj(s)))"
   ]
  },
  {
   "cell_type": "code",
   "execution_count": 99,
   "metadata": {},
   "outputs": [],
   "source": [
    "plt.savefig('../imgs/wigner-desargues-2-2-s2.pgf')"
   ]
  },
  {
   "cell_type": "code",
   "execution_count": 100,
   "metadata": {},
   "outputs": [
    {
     "data": {
      "text/plain": [
       "array([[ 0.5+0.j,  0.5+0.j,  0.5+0.j,  0.5+0.j],\n",
       "       [ 0.5+0.j,  0.5+0.j, -0.5+0.j, -0.5+0.j],\n",
       "       [ 0.5+0.j, -0.5+0.j, -0.5+0.j,  0.5+0.j],\n",
       "       [ 0.5+0.j, -0.5+0.j,  0.5+0.j, -0.5+0.j]], dtype=complex64)"
      ]
     },
     "execution_count": 100,
     "metadata": {},
     "output_type": "execute_result"
    }
   ],
   "source": [
    "mubs[4:8]"
   ]
  },
  {
   "cell_type": "code",
   "execution_count": 104,
   "metadata": {},
   "outputs": [
    {
     "data": {
      "text/plain": [
       "array([[0.  , 0.25, 0.  , 0.  ],\n",
       "       [0.  , 0.  , 0.  , 0.25],\n",
       "       [0.  , 0.  , 0.25, 0.  ],\n",
       "       [0.25, 0.  , 0.  , 0.  ]])"
      ]
     },
     "execution_count": 104,
     "metadata": {},
     "output_type": "execute_result"
    }
   ],
   "source": [
    "WignerMatrix(npProj(mubs[12:16,0]))"
   ]
  },
  {
   "cell_type": "code",
   "execution_count": 106,
   "metadata": {},
   "outputs": [],
   "source": [
    "mpl.use('module://matplotlib_inline.backend_inline')"
   ]
  },
  {
   "cell_type": "code",
   "execution_count": 107,
   "metadata": {},
   "outputs": [
    {
     "name": "stderr",
     "output_type": "stream",
     "text": [
      "/var/folders/33/k06yq9x95jqcnbk_bh41j4qc0000gn/T/ipykernel_71370/605680074.py:44: UserWarning: FixedFormatter should only be used together with FixedLocator\n",
      "  ax.set_xticklabels(labels_x)\n",
      "/var/folders/33/k06yq9x95jqcnbk_bh41j4qc0000gn/T/ipykernel_71370/605680074.py:45: UserWarning: FixedFormatter should only be used together with FixedLocator\n",
      "  ax.set_yticklabels(labels_y)\n"
     ]
    },
    {
     "data": {
      "text/plain": [
       "(<Figure size 450x350 with 2 Axes>, <Axes3D: >)"
      ]
     },
     "execution_count": 107,
     "metadata": {},
     "output_type": "execute_result"
    },
    {
     "data": {
      "image/png": "[encoded data removed]",
      "text/plain": [
       "<Figure size 450x350 with 2 Axes>"
      ]
     },
     "metadata": {},
     "output_type": "display_data"
    }
   ],
   "source": [
    "plotWigner(WignerMatrix(npProj(mubs[12:16,0])))"
   ]
  },
  {
   "cell_type": "code",
   "execution_count": null,
   "metadata": {},
   "outputs": [],
   "source": []
  }
 ],
 "metadata": {
  "kernelspec": {
   "display_name": "wigner",
   "language": "python",
   "name": "python3"
  },
  "language_info": {
   "codemirror_mode": {
    "name": "ipython",
    "version": 3
   },
   "file_extension": ".py",
   "mimetype": "text/x-python",
   "name": "python",
   "nbconvert_exporter": "python",
   "pygments_lexer": "ipython3",
   "version": "3.9.16"
  },
  "orig_nbformat": 4
 },
 "nbformat": 4,
 "nbformat_minor": 2
}
