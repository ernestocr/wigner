{
 "cells": [
  {
   "cell_type": "markdown",
   "id": "9afd62bc-7293-4784-abb6-334ea70ea95e",
   "metadata": {},
   "source": [
    "### (1,6,2) curves\n",
    "\n",
    "These curves do offer a nice paramtrization. Let's see if that fixes things."
   ]
  },
  {
   "cell_type": "code",
   "execution_count": 2,
   "id": "e176cfb2-63a8-4b81-8166-00dcc77efbda",
   "metadata": {},
   "outputs": [],
   "source": [
    "import matplotlib\n",
    "import matplotlib.pyplot as plt\n",
    "matplotlib.rcParams['figure.figsize'] = [2, 2]"
   ]
  },
  {
   "cell_type": "code",
   "execution_count": 4,
   "id": "f834c406-5bfd-4fec-852f-bce8a160433f",
   "metadata": {},
   "outputs": [],
   "source": [
    "N = 3\n",
    "d = 2^N\n",
    "F = GF(d, 'x')\n",
    "x = F.gen()"
   ]
  },
  {
   "cell_type": "code",
   "execution_count": 5,
   "id": "cc225876-b89c-4d32-af74-6b43e6138d5c",
   "metadata": {},
   "outputs": [],
   "source": [
    "def Proj(u, v=None):\n",
    "    if not v:\n",
    "        v = u\n",
    "    return u * v.conjugate_transpose()\n",
    "\n",
    "Id = identity_matrix(SR, 2**N)\n",
    "\n",
    "def toInt(k):\n",
    "    return list(F).index(k)\n",
    "\n",
    "def chi(k):\n",
    "    return exp(2 * pi * I * int(k.trace()) / 2)"
   ]
  },
  {
   "cell_type": "code",
   "execution_count": 22,
   "id": "fbb1c6f5-e91c-45dd-9b2e-38c93f1db014",
   "metadata": {},
   "outputs": [
    {
     "data": {
      "text/plain": [
       "Univariate Quotient Polynomial Ring in w over Ring of integers modulo 4 with modulus t^3 + 2*t^2 + t + 3"
      ]
     },
     "execution_count": 22,
     "metadata": {},
     "output_type": "execute_result"
    }
   ],
   "source": [
    "R = PolynomialRing(Integers(4), 't')\n",
    "t = R.gen()\n",
    "poly = t^3 + 2*t^2 + t - 1\n",
    "\n",
    "GR = R.quotient(poly, 'w')\n",
    "w = GR.gen()\n",
    "GR"
   ]
  },
  {
   "cell_type": "code",
   "execution_count": 24,
   "id": "5b750b4e-2add-41ee-ac6d-f230ccb4a932",
   "metadata": {},
   "outputs": [
    {
     "data": {
      "text/plain": [
       "[0, w, w^2, 2*w^2 + 3*w + 1, 3*w^2 + 3*w + 2, w^2 + 3*w + 3, w^2 + 2*w + 1, 1]"
      ]
     },
     "execution_count": 24,
     "metadata": {},
     "output_type": "execute_result"
    }
   ],
   "source": [
    "T = [GR(0)] + [w**j for j in range(1, 2**N - 1)] + [GR(1)]\n",
    "T"
   ]
  },
  {
   "cell_type": "code",
   "execution_count": 25,
   "id": "1bf5c229-fcb8-414c-8dd4-b8bcbb9c635b",
   "metadata": {},
   "outputs": [],
   "source": [
    "def TeichLift(k):\n",
    "    return T[toInt(k)]\n",
    "\n",
    "hat = TeichLift"
   ]
  },
  {
   "cell_type": "code",
   "execution_count": 39,
   "id": "1db19e93-d0f4-488a-8c0e-74040ff5ca2a",
   "metadata": {},
   "outputs": [],
   "source": [
    "def Fourier():\n",
    "    s = zero_matrix(SR, 2**N, 2**N)\n",
    "    for i, a in enumerate(F):\n",
    "        for j, b in enumerate(F):\n",
    "            s[i,j] = chi(a * b) / sqrt(2^N)\n",
    "    return s\n",
    "FF = Fourier()\n",
    "\n",
    "def Z(a):\n",
    "    return diagonal_matrix([chi(a * k) for k in F])\n",
    "\n",
    "def X(b):\n",
    "    return FF.conjugate_transpose() * Z(b) * FF"
   ]
  },
  {
   "cell_type": "markdown",
   "id": "d8fa527c-ded4-4c0b-90f6-cf3fa7b4e916",
   "metadata": {},
   "source": [
    "The general form of the curves is $f_\\mu(\\alpha) = \\mu \\alpha + \\alpha^2 + \\alpha^4$ where $x$ is the field generator and $\\mu = x^k$ for some $k$. In particular we will use $x = 1$. So the curves are:\n",
    "$$\n",
    "\\begin{align*}\n",
    "\\alpha &= 0 \\\\\n",
    "f_0(\\alpha) &= \\alpha^2 + \\alpha^4 \\\\\n",
    "f_\\mu(\\alpha) &= \\mu \\alpha + x \\alpha^2 + x \\alpha^4 \\\\\n",
    "f_{\\mu^2}(\\alpha) &= \\mu^2 \\alpha + \\alpha^2 + \\alpha^4 \\\\\n",
    "f_{\\mu^3}(\\alpha) &= \\mu^3 \\alpha + \\alpha^2 + \\alpha^4 \\\\\n",
    "f_{\\mu^4}(\\alpha) &= \\mu^4 \\alpha + \\alpha^2 + \\alpha^4 \\\\\n",
    "f_{\\mu^5}(\\alpha) &= \\mu^5 \\alpha + \\alpha^2 + \\alpha^4 \\\\\n",
    "f_{\\mu^6}(\\alpha) &= \\mu^6 \\alpha + \\alpha^2 + \\alpha^4 \\\\\n",
    "f_1(\\alpha) &= \\alpha + \\alpha^2 + \\alpha^4\n",
    "\\end{align*}\n",
    "$$"
   ]
  },
  {
   "cell_type": "code",
   "execution_count": 50,
   "id": "48867814-d221-4824-be52-ce37c5d657ed",
   "metadata": {},
   "outputs": [],
   "source": [
    "# (1,6,2)\n",
    "curves = [\n",
    "    lambda a: a^2 + a^4,\n",
    "    lambda a: x^1 * a + a^2 + a^4,\n",
    "    lambda a: x^2 * a + a^2 + a^4,\n",
    "    lambda a: x^3 * a + a^2 + a^4,\n",
    "    lambda a: x^4 * a + a^2 + a^4,\n",
    "    lambda a: x^5 * a + a^2 + a^4,\n",
    "    lambda a: x^6 * a + a^2 + a^4,\n",
    "    lambda a: x^0 * a + a^2 + a^4\n",
    "]\n",
    "\n",
    "# Lifted to T\n",
    "curves_T = [\n",
    "    lambda a: a^2 + a^4,\n",
    "    lambda a: w^1 * a + a^2 + a^4,\n",
    "    lambda a: w^2 * a + a^2 + a^4,\n",
    "    lambda a: w^3 * a + a^2 + a^4,\n",
    "    lambda a: w^4 * a + a^2 + a^4,\n",
    "    lambda a: w^5 * a + a^2 + a^4,\n",
    "    lambda a: w^6 * a + a^2 + a^4,\n",
    "    lambda a: w^0 * a + a^2 + a^4\n",
    "]"
   ]
  },
  {
   "cell_type": "markdown",
   "id": "8aabf510-03e5-4a1d-8516-945c98577c63",
   "metadata": {},
   "source": [
    "Let's see if the subspaces generated by the curves are totally isotropic."
   ]
  },
  {
   "cell_type": "code",
   "execution_count": 31,
   "id": "73d1e0d2-e651-4815-bd43-1f6785e2b985",
   "metadata": {},
   "outputs": [],
   "source": [
    "for j, curve in enumerate(curves):\n",
    "    subspace = [(a, curve(a)) for a in F]\n",
    "    # The curves are subspaces\n",
    "    for p1 in subspace:\n",
    "        for p2 in subspace:\n",
    "            if (p1[0] + p2[0], p1[1] + p2[1]) not in subspace:\n",
    "                raise Exception('Curve is not a subspace.', j)\n",
    "    \n",
    "    # The curves are not abelian\n",
    "    for p1 in subspace:\n",
    "        for p2 in subspace:\n",
    "            c = p1[0] * p2[1] - p1[1] * p2[0]\n",
    "            if c.trace() != 0:\n",
    "                raise Exception('Not isotropic!', j)"
   ]
  },
  {
   "cell_type": "markdown",
   "id": "8f894d0d-d110-4d1e-a79f-d38c01caa464",
   "metadata": {},
   "source": [
    "In her proof, the only thing required of the $f$ is that for all elements of the field we have\n",
    "$$\n",
    "\\chi(\\xi f(\\alpha)) = \\chi(\\alpha f(\\xi)),\n",
    "$$\n",
    "where $\\chi$ is the additive group character $\\chi(\\kappa) = \\omega^{tr(\\kappa)}$ where $\\omega$ is a primitive root of unity. This equality is true if and only if\n",
    "$$\n",
    "tr(\\xi f(\\alpha)) = tr(\\alpha f(\\xi)).\n",
    "$$\n",
    "This is true for symplectic presemifields, that is to say, presemifield operations that generate a symplectic spread. In our case the curves aren't generated by a single parameter and so can't really be seen as a binary operation and hence as a presemifield. Even so, we can test that each curve satisfies this property:"
   ]
  },
  {
   "cell_type": "code",
   "execution_count": 32,
   "id": "d07d1bb5-1aad-4e11-ad9c-1da8f5f2dc84",
   "metadata": {},
   "outputs": [],
   "source": [
    "for c in curves:\n",
    "    for alpha in F:\n",
    "        for xi in F:\n",
    "            if (alpha * c(xi)).trace() != (xi * c(alpha)).trace():\n",
    "                raise Exception('Property does not hold for curve {}'.format(c))"
   ]
  },
  {
   "cell_type": "markdown",
   "id": "cc9a8631-0c99-4611-8f91-28325a6c23d9",
   "metadata": {},
   "source": [
    "The same property should hold for the Teichmüller set according to Kanat."
   ]
  },
  {
   "cell_type": "code",
   "execution_count": 33,
   "id": "79a5b3ff-6dfa-43a4-9f17-23dd1e8df49b",
   "metadata": {},
   "outputs": [],
   "source": [
    "for c in curves_T:\n",
    "    for alpha in T:\n",
    "        for xi in T:\n",
    "            if (alpha * c(xi)).trace() != (xi * c(alpha)).trace():\n",
    "                raise Exception('Property does not hold for curve {}'.format(c))"
   ]
  },
  {
   "cell_type": "markdown",
   "id": "a533d2ff-39e4-4b59-bb55-94ee4042caf5",
   "metadata": {},
   "source": [
    "Following Sainz's proof there doesn't seem to be a reason why these curves can't be used to construct the appropriate rotation operators. But before moving on let's check to see if the curves generate an affine plain, at least in the sense that the curves only intersect at the origin."
   ]
  },
  {
   "cell_type": "code",
   "execution_count": 34,
   "id": "4b8f7bd7-d096-4ff3-886f-b63fce65156f",
   "metadata": {},
   "outputs": [],
   "source": [
    "subspaces = [[(k, f(k)) for k in F] for f in curves]\n",
    "for i, s1 in enumerate(subspaces):\n",
    "    for j, s2 in enumerate(subspaces):\n",
    "        if i != j:\n",
    "            cap = list(set(s1) & set(s2))\n",
    "            if cap != [(F(0), F(0))]:\n",
    "                raise Exception('Non trivial intersection!', i, j, cap)"
   ]
  },
  {
   "cell_type": "markdown",
   "id": "caa1e962-11d2-41ce-ac3f-9f0ef5cba210",
   "metadata": {},
   "source": [
    "All is well, this means that at a single point, there will only be $2^N+1$ curves that pass through it:"
   ]
  },
  {
   "cell_type": "code",
   "execution_count": 35,
   "id": "c7e8dd4c-bd4b-443f-8ceb-3077feab7448",
   "metadata": {},
   "outputs": [],
   "source": [
    "for alpha in F:\n",
    "    for beta in F:\n",
    "        cnt = 0\n",
    "        for f in curves:\n",
    "            for nu in F:\n",
    "                if beta == f(alpha) + nu:\n",
    "                    cnt += 1\n",
    "        if cnt != 8:\n",
    "            raise Exception('More curves passed through the point ({}, {})!'.format(alpha, beta))"
   ]
  },
  {
   "cell_type": "markdown",
   "id": "e9dea572-5db0-4b74-b641-c3e11423c1b1",
   "metadata": {},
   "source": [
    "All is well with these curves."
   ]
  },
  {
   "cell_type": "code",
   "execution_count": 40,
   "id": "3b34374e-d7d1-400b-94fc-1c6bf0d60ad8",
   "metadata": {},
   "outputs": [],
   "source": [
    "def phi(tau, nu):\n",
    "    return (I)^(int((tau * nu).trace()))\n",
    "\n",
    "def D(a, b):\n",
    "    return phi(hat(a), hat(b)) * Z(a) * X(b)\n",
    "\n",
    "def V(mu):\n",
    "    s = zero_matrix(SR, 2^N, 2^N)\n",
    "    curve = curves_T[toInt(mu)]\n",
    "    for i, k in enumerate(F):\n",
    "        a = TeichLift(k)\n",
    "        s += phi(a, curve(a)) * Proj(FF[:,i])\n",
    "    return s"
   ]
  },
  {
   "cell_type": "code",
   "execution_count": 41,
   "id": "fd91ffdb-2f0c-45e7-b2b1-e1a37c3d7f9e",
   "metadata": {},
   "outputs": [],
   "source": [
    "for k in F:\n",
    "    if V(x)[:,toInt(k)] != (V(x) * X(k) * Id[:,0]):\n",
    "        raise Exception('Ordering is not right!')"
   ]
  },
  {
   "cell_type": "code",
   "execution_count": 42,
   "id": "53717a43-fd23-430c-acb3-39dbb40fb02c",
   "metadata": {},
   "outputs": [],
   "source": [
    "# Orthonormality\n",
    "def isOrthonormal(m):\n",
    "    return m.conjugate_transpose() * m == Id\n",
    "\n",
    "# MUBs\n",
    "def isMUB(m1, m2):\n",
    "    m = (\n",
    "        m1.conjugate_transpose() * m2\n",
    "    ).apply_map(lambda t: abs(t)^2)\n",
    "    return m == ones_matrix(2^N, 2^N) / (2^N)\n",
    "\n",
    "def checkMUBs(mubs):\n",
    "    if type(mubs) != list:\n",
    "        mubs_list = []\n",
    "        for i in range(2^N+1):\n",
    "            mubs_list.append(mubs[(i*2^N):(i+1)*2^N,:])\n",
    "    else:\n",
    "        mubs_list = mubs\n",
    "            \n",
    "    for i in range(2^N+1):\n",
    "        for j in range(2^N+1):\n",
    "            if i == j:\n",
    "                if not isOrthonormal(mubs_list[i]):\n",
    "                    raise Exception(\n",
    "                        'Encountered a basis that is not orthonormal!',\n",
    "                        i\n",
    "                    )\n",
    "            else:\n",
    "                if not isMUB(mubs_list[i], mubs_list[j]):\n",
    "                    raise Exception(\n",
    "                        'Encountered non-MUB pairs of basis!',\n",
    "                        i, j\n",
    "                    )\n",
    "    return True"
   ]
  },
  {
   "cell_type": "code",
   "execution_count": 109,
   "id": "3389629b-fb47-408c-9b4a-f1143c22ae2a",
   "metadata": {},
   "outputs": [
    {
     "data": {
      "text/plain": [
       "True"
      ]
     },
     "execution_count": 109,
     "metadata": {},
     "output_type": "execute_result"
    }
   ],
   "source": [
    "mubs = [FF] + [V(mu) for mu in F]\n",
    "checkMUBs(mubs)"
   ]
  },
  {
   "cell_type": "markdown",
   "id": "6dab0ca7",
   "metadata": {},
   "source": [
    "So the set of basis are MUBs. Now let's just check that there isn't anything weird going on with the correspondence between vectors. \n",
    "\n",
    "For example, for $\\mu = 0$, we have the curve $f_0(\\alpha) = \\alpha^2 + \\alpha^4$, and so the set $V(0)$ should be invariant (modulo $\\pm 1$ phases) under all of the displacement operators of the form $D(\\alpha, f_0(\\alpha))$."
   ]
  },
  {
   "cell_type": "code",
   "execution_count": 88,
   "id": "4df8e25e",
   "metadata": {},
   "outputs": [
    {
     "data": {
      "text/plain": [
       "[ 0 -I  0  0  1  0  I  1]\n",
       "[-I  0  1  1  0  I  0  0]\n",
       "[ 0  1  0  0 -I  0  1  I]\n",
       "[ 0  1  0  0  I  0  1 -I]\n",
       "[ 1  0 -I  I  0  1  0  0]\n",
       "[ 0  I  0  0  1  0 -I  1]\n",
       "[ I  0  1  1  0 -I  0  0]\n",
       "[ 1  0  I -I  0  1  0  0]"
      ]
     },
     "execution_count": 88,
     "metadata": {},
     "output_type": "execute_result"
    }
   ],
   "source": [
    "mu = x^3\n",
    "alpha = x^1\n",
    "curve = curves[toInt(mu)]\n",
    "V(mu) * 2"
   ]
  },
  {
   "cell_type": "code",
   "execution_count": 89,
   "id": "8d92ceca",
   "metadata": {},
   "outputs": [
    {
     "data": {
      "text/plain": [
       "[ 0  I  0  0  1  0  I -1]\n",
       "[ I  0  1 -1  0  I  0  0]\n",
       "[ 0 -1  0  0 -I  0  1 -I]\n",
       "[ 0 -1  0  0  I  0  1  I]\n",
       "[-1  0 -I -I  0  1  0  0]\n",
       "[ 0 -I  0  0  1  0 -I -1]\n",
       "[-I  0  1 -1  0 -I  0  0]\n",
       "[-1  0  I  I  0  1  0  0]"
      ]
     },
     "execution_count": 89,
     "metadata": {},
     "output_type": "execute_result"
    }
   ],
   "source": [
    "D(alpha, curve(alpha)) * V(mu) * 2"
   ]
  },
  {
   "cell_type": "code",
   "execution_count": 110,
   "id": "af693c17",
   "metadata": {},
   "outputs": [],
   "source": [
    "npMUBs = [m.numpy(dtype='complex128') for m in mubs]"
   ]
  },
  {
   "cell_type": "code",
   "execution_count": 116,
   "id": "0bda1552",
   "metadata": {},
   "outputs": [],
   "source": [
    "import numpy as np\n",
    "\n",
    "def saveMUBs(mubs, name='mubs.npy'):\n",
    "    # M = mubs[0].numpy(dtype='complex128')\n",
    "    M = mubs[0]\n",
    "    for m in mubs[1:]:\n",
    "        # M = np.concatenate((M, m.numpy(dtype='complex128')))\n",
    "        M = np.concatenate((M, m))\n",
    "    np.save(name, M)"
   ]
  },
  {
   "cell_type": "code",
   "execution_count": 118,
   "id": "a3e04181",
   "metadata": {},
   "outputs": [],
   "source": [
    "saveMUBs(npMUBs, 'sainz/162.npy')"
   ]
  },
  {
   "cell_type": "markdown",
   "id": "fd7c233e-1dee-4de1-8f4a-21464063e427",
   "metadata": {},
   "source": [
    "An important step in the calculation of the inner product is the use the of the rotation operator coefficients recurence properties, in particular:\n",
    "$$\n",
    "c_{\\eta, f_x(\\eta)} c_{\\eta', f_x(\\eta')}\n",
    "= c_{\\eta-\\eta', f_x(\\eta) - f_x(\\eta')} \\chi\\left(-\\eta' f_x(\\eta - \\eta')\\right).\n",
    "$$\n",
    "Let's see if this holds for the Galois ring induced phase:\n",
    "$$\n",
    "c_{\\eta, f_x(\\eta)} = \\Phi(\\eta, f_x(\\eta)) = \\omega^{tr(\\hat{\\eta} f_x(\\hat{\\eta})}.\n",
    "$$"
   ]
  },
  {
   "cell_type": "code",
   "execution_count": 90,
   "id": "ed6efd19-0202-4309-9980-225663884834",
   "metadata": {},
   "outputs": [],
   "source": [
    "hat = TeichLift # for notation\n",
    "for j, f in enumerate(curves):\n",
    "    for eta in F:\n",
    "        for etap in F:\n",
    "            f_hat = curves_T[j]\n",
    "            l = phi(hat(eta), f_hat(hat(eta))) * phi(hat(etap), f_hat(hat(etap))).conjugate()\n",
    "            r = phi(hat(eta + etap), f_hat(hat(eta + etap))) * chi(etap * f(eta + etap))\n",
    "            if l != r:\n",
    "                raise Exception('Recurrence property is not satisfied!', j, eta, etap)"
   ]
  },
  {
   "cell_type": "markdown",
   "id": "2b8b6d39-d416-4dc0-afa3-779a45e24020",
   "metadata": {},
   "source": [
    "So the recurrence relation is satisfied appropriately and the curves satisfy the isotropic property which means Sainz's proof should be applicable. In order to computationally verify the proof we need to calculate the standard set of MUBs."
   ]
  },
  {
   "cell_type": "code",
   "execution_count": 91,
   "id": "a9ffac22-aa8e-4833-841e-2df424012594",
   "metadata": {},
   "outputs": [],
   "source": [
    "def VW(mu):\n",
    "    s = zero_matrix(SR, 2^N, 2^N)\n",
    "    for i, k in enumerate(F):\n",
    "        s += phi(TeichLift(k), TeichLift(mu * k)) * Proj(FF[:,i])\n",
    "    return s"
   ]
  },
  {
   "cell_type": "code",
   "execution_count": 92,
   "id": "aa2cf701-bfb2-443a-bd8d-7b08450ef399",
   "metadata": {},
   "outputs": [
    {
     "data": {
      "text/plain": [
       "True"
      ]
     },
     "execution_count": 92,
     "metadata": {},
     "output_type": "execute_result"
    }
   ],
   "source": [
    "mubs306 = [FF] + [VW(mu) for mu in F]\n",
    "checkMUBs(mubs306)"
   ]
  },
  {
   "cell_type": "markdown",
   "id": "d678a773-e644-4121-992d-19b486c90bc8",
   "metadata": {},
   "source": [
    "For a given point $(\\alpha,\\beta)$ we need to compute which lines are incident to it, and then obtain the associated states $|\\psi_\\nu^\\mu\\rangle$, where $\\mu$ and $\\nu$ parametrize the line."
   ]
  },
  {
   "cell_type": "code",
   "execution_count": 25,
   "id": "1de998d8-bf40-42dd-8d05-653dc14dfa99",
   "metadata": {},
   "outputs": [],
   "source": [
    "def getStateFromMu(a, b, mu, M=mubs306):\n",
    "    # non-Fourier states\n",
    "    nu = b - a * mu\n",
    "    return M[toInt(mu) + 1][:, toInt(nu)]"
   ]
  },
  {
   "cell_type": "code",
   "execution_count": 26,
   "id": "3eccf841-defe-4ee4-bc42-61d61b1a940c",
   "metadata": {},
   "outputs": [],
   "source": [
    "def getStateFromCurve(curve_param, nu, M=mubs):\n",
    "    # non-Fourier states\n",
    "    return M[toInt(curve_param) + 1][:, toInt(nu)]"
   ]
  },
  {
   "cell_type": "markdown",
   "id": "2ad14f66-c71a-4201-9379-972d1f63c1fb",
   "metadata": {},
   "source": [
    "According the calculation we have:\n",
    "$$\n",
    "|\\langle \\psi_\\nu^\\mu | \\psi_\\kappa^{f_x}\\rangle|^2\n",
    "= \\frac{1}{d} \\sum_{\\xi} c_{\\xi, f_x(\\xi)} c_{\\xi, \\xi\\mu}^* \\chi(\\xi(\\kappa + \\beta + \\mu\\alpha))\n",
    "\\delta_{\\mu\\xi, f_x(\\xi)}.\n",
    "$$\n",
    "\n",
    "Let's verify this."
   ]
  },
  {
   "cell_type": "code",
   "execution_count": 27,
   "id": "ca8e6c3b-3e24-4624-87b0-7155c5814819",
   "metadata": {},
   "outputs": [],
   "source": [
    "def inp(u, v):\n",
    "    u = vector(u)\n",
    "    v = vector(v)\n",
    "    return u.conjugate() * v"
   ]
  },
  {
   "cell_type": "code",
   "execution_count": 28,
   "id": "99129b6b-6f2b-4890-a062-f9041020e4f6",
   "metadata": {},
   "outputs": [],
   "source": [
    "hat = TeichLift\n",
    "def Sainz(a, b, mu, curve_param, k):\n",
    "    s = 0\n",
    "    for xi in F:\n",
    "        curve_idx = toInt(curve_param)\n",
    "        if mu * xi == curves[curve_idx](xi):\n",
    "            c_mu = phi(hat(xi), hat(xi * mu)).conjugate()\n",
    "            c_fx = phi(hat(xi), curves_T[curve_idx](hat(xi)))\n",
    "            char = chi(xi * (k + b + mu * a))\n",
    "            s += c_mu * c_fx * char / 2^N\n",
    "    return s"
   ]
  },
  {
   "cell_type": "code",
   "execution_count": 30,
   "id": "b375a90b-4ae3-4626-80c3-d3031a94a7bb",
   "metadata": {},
   "outputs": [],
   "source": [
    "# this takes a while, but it will verify this part\n",
    "# of the proof.\n",
    "\n",
    "for alpha in F:\n",
    "    for beta in F:\n",
    "        for curve_param in F:\n",
    "            for kappa in F:\n",
    "                for mu in F:\n",
    "                    u = getStateFromMu(alpha, beta, mu)\n",
    "                    v = getStateFromCurve(curve_param, kappa)\n",
    "                    \n",
    "                    if abs(inp(u, v))**2 != Sainz(alpha, beta, mu, curve_param, kappa):\n",
    "                        raise Exception(\n",
    "                            'Inner products do not match!',\n",
    "                            alpha, beta, mu, curve_param, kappa\n",
    "                        )"
   ]
  },
  {
   "cell_type": "markdown",
   "id": "e11c5dc6-3591-4b7f-854c-3a5dc7c220ba",
   "metadata": {},
   "source": [
    "All is well with that part! Now onto the final important part of the proof. Summing over $\\mu \\in F$ should give us:\n",
    "$$\n",
    "\\sum_\\mu\n",
    "|\\langle \\psi_\\nu^\\mu | \\psi_\\kappa^{f_x}\\rangle|^2\n",
    "= 1 + \\frac{1}{d} \\sum_{\\xi \\in F} \\chi(\\xi(\\kappa + \\beta + f_x(\\alpha))) - \\frac{1}{d}\n",
    "= 1 - \\frac{1}{d} + \\delta_{\\kappa, \\beta + f_x(\\alpha)}.\n",
    "$$"
   ]
  },
  {
   "cell_type": "code",
   "execution_count": 29,
   "id": "2a5d23b9-1d36-4b90-8730-5ccc9cbbf774",
   "metadata": {},
   "outputs": [
    {
     "data": {
      "text/html": [
       "<html>\\(\\displaystyle \\left(\\frac{11}{8}, \\frac{7}{8}\\right)\\)</html>"
      ],
      "text/latex": [
       "$\\displaystyle \\left(\\frac{11}{8}, \\frac{7}{8}\\right)$"
      ],
      "text/plain": [
       "(11/8, 7/8)"
      ]
     },
     "execution_count": 29,
     "metadata": {},
     "output_type": "execute_result"
    }
   ],
   "source": [
    "alpha = x + 1\n",
    "beta  = x\n",
    "curve_param = x^2\n",
    "kappa = x\n",
    "\n",
    "v = getStateFromCurve(curve_param, kappa)\n",
    "\n",
    "l = 0\n",
    "for mu in F:\n",
    "    u = getStateFromMu(alpha, beta, mu)\n",
    "    l += abs(inp(u, v))^2\n",
    "\n",
    "r = 1 - 1/2^N + int(kappa == beta - curves[toInt(curve_param)](alpha))\n",
    "\n",
    "l, r"
   ]
  },
  {
   "cell_type": "markdown",
   "id": "f76e4a45-94e5-49da-814e-1f1465704055",
   "metadata": {},
   "source": [
    "Again, no luck."
   ]
  },
  {
   "cell_type": "code",
   "execution_count": 52,
   "id": "023172a8-b2b3-4649-917e-3f3cc7a78dcc",
   "metadata": {},
   "outputs": [],
   "source": [
    "def Wootters(a, b):\n",
    "    op = Proj(FF[:, toInt(a)])\n",
    "    for xi in F:\n",
    "        for nu in F:\n",
    "            d = int(b == curves[toInt(xi)](a) + nu)\n",
    "            op += d * Proj(mubs[toInt(xi)+1][:, toInt(nu)])\n",
    "    return op - Id"
   ]
  },
  {
   "cell_type": "code",
   "execution_count": 33,
   "id": "44b6e32e-9f0b-40ac-a1ca-8130d93738e7",
   "metadata": {},
   "outputs": [],
   "source": [
    "for a in F:\n",
    "    for b in F:\n",
    "        op = Wootters(a,b)\n",
    "        if op != op.conjugate_transpose():\n",
    "            raise Exception('Not self-adjoint.')"
   ]
  },
  {
   "cell_type": "code",
   "execution_count": 34,
   "id": "6220452b-f1a9-42e7-abf4-e98855b1a6f0",
   "metadata": {},
   "outputs": [],
   "source": [
    "for a in F:\n",
    "    for b in F:\n",
    "        if Wootters(a, b).trace() != 1:\n",
    "            raise Exception('Not unit trace.')"
   ]
  },
  {
   "cell_type": "code",
   "execution_count": 35,
   "id": "17c2b2d6-7ae6-402b-8611-c06d017522e7",
   "metadata": {},
   "outputs": [],
   "source": [
    "for a in F:\n",
    "    for b in F:\n",
    "        op1 = Wootters(a, b)\n",
    "        for k in F:\n",
    "            for l in F:\n",
    "                op2 = Wootters(k, l)\n",
    "                if (op1 * op2.conjugate_transpose()).trace() != 2^N * int(a == k) * int(b == l):\n",
    "                    raise Exception('Not trace orthogonal.')"
   ]
  },
  {
   "cell_type": "code",
   "execution_count": 36,
   "id": "50929047-9d25-477e-bb0f-4ea32aa3471c",
   "metadata": {},
   "outputs": [],
   "source": [
    "k = x\n",
    "l = 1\n",
    "for a in F:\n",
    "    for b in F:\n",
    "        if D(k,l) * Wootters(a, b) * D(k,l).conjugate_transpose() != Wootters(a+k, b+l):\n",
    "            raise Exception('Not covariant.')"
   ]
  },
  {
   "cell_type": "code",
   "execution_count": 53,
   "id": "b854b92f-54e4-4b30-a985-5154dd903a87",
   "metadata": {},
   "outputs": [],
   "source": [
    "def WignerMatrix(state):\n",
    "    op = zero_matrix(SR, 2^N, 2^N)\n",
    "    for i, a in enumerate(F):\n",
    "        for j, b in enumerate(F):\n",
    "            op[i, j] = (state * Wootters(a, b)).trace() / 2^N\n",
    "    return op"
   ]
  },
  {
   "cell_type": "code",
   "execution_count": 54,
   "id": "f034be60-f559-4f5a-864f-504288afb473",
   "metadata": {},
   "outputs": [
    {
     "data": {
      "text/html": [
       "<html>\\(\\displaystyle \\verb|AxesImage(size=(8,|\\verb| |\\verb|8))|\\)</html>"
      ],
      "text/latex": [
       "$\\displaystyle \\verb|AxesImage(size=(8,|\\verb| |\\verb|8))|$"
      ],
      "text/plain": [
       "<matplotlib.image.AxesImage object at 0x1846c51f0>"
      ]
     },
     "execution_count": 54,
     "metadata": {},
     "output_type": "execute_result"
    },
    {
     "data": {
      "image/png": "[encoded data removed]",
      "text/plain": [
       "<Figure size 200x200 with 1 Axes>"
      ]
     },
     "metadata": {},
     "output_type": "display_data"
    }
   ],
   "source": [
    "wf = WignerMatrix(Proj((Id[:,0] + Id[:,-1])/sqrt(2)))\n",
    "plt.imshow(wf.apply_map(lambda t: float(t)).transpose(), origin='lower')"
   ]
  },
  {
   "cell_type": "markdown",
   "id": "6528b83f-5aec-4459-b849-5c402423da70",
   "metadata": {},
   "source": [
    "Let's use Sainz explicit vector construction:"
   ]
  },
  {
   "cell_type": "code",
   "execution_count": 82,
   "id": "c627bc9e-9f48-492e-a4fd-2b315be93276",
   "metadata": {},
   "outputs": [],
   "source": [
    "def SainzVector(mu, k):\n",
    "    s = zero_matrix(SR, 2^N, 1)\n",
    "    for eta in F:\n",
    "        for xi in F:\n",
    "            c = phi(TeichLift(eta), TeichLift(mu * eta))\n",
    "            char = chi(eta * (xi - k))\n",
    "            s += c * char * Id[:, toInt(xi)]\n",
    "    return s / 2^N"
   ]
  },
  {
   "cell_type": "code",
   "execution_count": 99,
   "id": "5107b82d-8c30-46f9-9b83-16d2e8cc953c",
   "metadata": {},
   "outputs": [],
   "source": [
    "for mu in F:\n",
    "    for k in F:\n",
    "        if SainzVector(mu, k) != mubs306[toInt(mu) + 1][:,toInt(k)]:\n",
    "            raise Exception('Not the same!')"
   ]
  },
  {
   "cell_type": "code",
   "execution_count": 100,
   "id": "b218b96b-b29b-4816-bb89-1db3df4bcdb4",
   "metadata": {},
   "outputs": [],
   "source": [
    "def SainzVector2(mu, k):\n",
    "    s = zero_matrix(SR, 2^N, 1)\n",
    "    for eta in F:\n",
    "        for xi in F:\n",
    "            c = phi(TeichLift(eta), curves_T[toInt(mu)](TeichLift(eta)))\n",
    "            char = chi(eta * (xi - k))\n",
    "            s += c * char * Id[:, toInt(xi)]\n",
    "    return s / 2^N"
   ]
  },
  {
   "cell_type": "code",
   "execution_count": 104,
   "id": "447532e2-4891-46bd-9559-b4879da65a69",
   "metadata": {},
   "outputs": [],
   "source": [
    "for mu in F:\n",
    "    for k in F:\n",
    "        if SainzVector2(mu, k) != mubs[toInt(mu) + 1][:,toInt(k)]:\n",
    "            raise Exception('Not the same!')"
   ]
  },
  {
   "cell_type": "code",
   "execution_count": null,
   "id": "9c5e74cd-a6dd-41e6-be39-0edc015d0b31",
   "metadata": {},
   "outputs": [],
   "source": []
  }
 ],
 "metadata": {
  "kernelspec": {
   "display_name": "SageMath 9.8",
   "language": "sage",
   "name": "sagemath"
  },
  "language_info": {
   "codemirror_mode": {
    "name": "ipython",
    "version": 3
   },
   "file_extension": ".py",
   "mimetype": "text/x-python",
   "name": "python",
   "nbconvert_exporter": "python",
   "pygments_lexer": "ipython3",
   "version": "3.9.16"
  }
 },
 "nbformat": 4,
 "nbformat_minor": 5
}
