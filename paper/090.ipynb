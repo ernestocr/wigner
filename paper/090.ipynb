{
 "cells": [
  {
   "cell_type": "markdown",
   "metadata": {},
   "source": [
    "### Busqueda de los vectores restantes para las bases (0,9,0)."
   ]
  },
  {
   "cell_type": "markdown",
   "metadata": {},
   "source": [
    "**Resumen:** Utilizando los solvers de SageMath y de Mathematica obtengo un séptimo vector ortonormal a la primera base de 6 vectores con dos grados de libertad $a$ y $b$, pero al calcular los productos internos con la primera base completa, obtuve un producto igual a cero (con el primer vector) independientemente de los valores de $a$ y $b$, por lo que el candidato no sirve. Voy a investigar como funcionan los solvers y/o hacerlo a mano para ver si hay otra forma de solución."
   ]
  },
  {
   "cell_type": "code",
   "execution_count": 1,
   "metadata": {},
   "outputs": [],
   "source": [
    "%display latex"
   ]
  },
  {
   "cell_type": "markdown",
   "metadata": {},
   "source": [
    "Usamos la extensión de Galois para construir la transformada de Fourier:"
   ]
  },
  {
   "cell_type": "code",
   "execution_count": 2,
   "metadata": {},
   "outputs": [],
   "source": [
    "p = 2\n",
    "n = 3\n",
    "dim = p**n\n",
    "FF = GF(dim, 'x')\n",
    "\n",
    "def omega(x):\n",
    "    return exp(I * 2 * pi * int(x.trace()) / p)"
   ]
  },
  {
   "cell_type": "code",
   "execution_count": 3,
   "metadata": {},
   "outputs": [
    {
     "data": {
      "text/html": [
       "<html>\\(\\displaystyle \\left(\\begin{array}{rrrrrrrr}\n",
       "1 & 1 & 1 & 1 & 1 & 1 & 1 & 1 \\\\\n",
       "1 & 1 & -1 & 1 & -1 & -1 & -1 & 1 \\\\\n",
       "1 & -1 & 1 & -1 & -1 & -1 & 1 & 1 \\\\\n",
       "1 & 1 & -1 & -1 & -1 & 1 & 1 & -1 \\\\\n",
       "1 & -1 & -1 & -1 & 1 & 1 & -1 & 1 \\\\\n",
       "1 & -1 & -1 & 1 & 1 & -1 & 1 & -1 \\\\\n",
       "1 & -1 & 1 & 1 & -1 & 1 & -1 & -1 \\\\\n",
       "1 & 1 & 1 & -1 & 1 & -1 & -1 & -1\n",
       "\\end{array}\\right)\\)</html>"
      ],
      "text/latex": [
       "$\\displaystyle \\left(\\begin{array}{rrrrrrrr}\n",
       "1 & 1 & 1 & 1 & 1 & 1 & 1 & 1 \\\\\n",
       "1 & 1 & -1 & 1 & -1 & -1 & -1 & 1 \\\\\n",
       "1 & -1 & 1 & -1 & -1 & -1 & 1 & 1 \\\\\n",
       "1 & 1 & -1 & -1 & -1 & 1 & 1 & -1 \\\\\n",
       "1 & -1 & -1 & -1 & 1 & 1 & -1 & 1 \\\\\n",
       "1 & -1 & -1 & 1 & 1 & -1 & 1 & -1 \\\\\n",
       "1 & -1 & 1 & 1 & -1 & 1 & -1 & -1 \\\\\n",
       "1 & 1 & 1 & -1 & 1 & -1 & -1 & -1\n",
       "\\end{array}\\right)$"
      ],
      "text/plain": [
       "[ 1  1  1  1  1  1  1  1]\n",
       "[ 1  1 -1  1 -1 -1 -1  1]\n",
       "[ 1 -1  1 -1 -1 -1  1  1]\n",
       "[ 1  1 -1 -1 -1  1  1 -1]\n",
       "[ 1 -1 -1 -1  1  1 -1  1]\n",
       "[ 1 -1 -1  1  1 -1  1 -1]\n",
       "[ 1 -1  1  1 -1  1 -1 -1]\n",
       "[ 1  1  1 -1  1 -1 -1 -1]"
      ]
     },
     "execution_count": 3,
     "metadata": {},
     "output_type": "execute_result"
    }
   ],
   "source": [
    "F = zero_matrix(SR, dim, dim)\n",
    "for i, m in enumerate(FF):\n",
    "    for j, n in enumerate(FF):\n",
    "        F[i,j] = omega(m * n) / sqrt(dim)\n",
    "F * sqrt(dim)"
   ]
  },
  {
   "cell_type": "code",
   "execution_count": 4,
   "metadata": {},
   "outputs": [
    {
     "data": {
      "text/html": [
       "<html>\\(\\displaystyle \\left(\\begin{array}{rrrrrr}\n",
       "-i & -i & i & -i & -1 & -1 \\\\\n",
       "1 & -1 & -1 & -1 & i & i \\\\\n",
       "1 & 1 & -1 & 1 & i & i \\\\\n",
       "i & -i & -i & -i & 1 & 1 \\\\\n",
       "-1 & 1 & -1 & -1 & -i & i \\\\\n",
       "i & i & i & -i & 1 & -1 \\\\\n",
       "i & -i & i & i & 1 & -1 \\\\\n",
       "1 & 1 & 1 & -1 & i & -i\n",
       "\\end{array}\\right)\\)</html>"
      ],
      "text/latex": [
       "$\\displaystyle \\left(\\begin{array}{rrrrrr}\n",
       "-i & -i & i & -i & -1 & -1 \\\\\n",
       "1 & -1 & -1 & -1 & i & i \\\\\n",
       "1 & 1 & -1 & 1 & i & i \\\\\n",
       "i & -i & -i & -i & 1 & 1 \\\\\n",
       "-1 & 1 & -1 & -1 & -i & i \\\\\n",
       "i & i & i & -i & 1 & -1 \\\\\n",
       "i & -i & i & i & 1 & -1 \\\\\n",
       "1 & 1 & 1 & -1 & i & -i\n",
       "\\end{array}\\right)$"
      ],
      "text/plain": [
       "[-I -I  I -I -1 -1]\n",
       "[ 1 -1 -1 -1  I  I]\n",
       "[ 1  1 -1  1  I  I]\n",
       "[ I -I -I -I  1  1]\n",
       "[-1  1 -1 -1 -I  I]\n",
       "[ I  I  I -I  1 -1]\n",
       "[ I -I  I  I  1 -1]\n",
       "[ 1  1  1 -1  I -I]"
      ]
     },
     "execution_count": 4,
     "metadata": {},
     "output_type": "execute_result"
    }
   ],
   "source": [
    "# La primera matriz con 6 columnas\n",
    "M = Matrix([\n",
    "    [-I, -I, I, -I, -1, -1],\n",
    "    [1, -1, -1, -1, I, I],\n",
    "    [1, 1, -1, 1, I, I],\n",
    "    [I, -I, -I, -I, 1, 1],\n",
    "    [-1, 1, -1, -1, -I, I],\n",
    "    [I, I, I, -I, 1, -1],\n",
    "    [I, -I, I, I, 1, -1],\n",
    "    [1, 1, 1, -1, I, -I]\n",
    "]) / sqrt(8)\n",
    "M * sqrt(8)"
   ]
  },
  {
   "cell_type": "code",
   "execution_count": 5,
   "metadata": {},
   "outputs": [],
   "source": [
    "a, b, c, d, e, f, g, h = SR.var('a b c d e f g h') # variables simbólicas"
   ]
  },
  {
   "cell_type": "markdown",
   "metadata": {},
   "source": [
    "Si $M_i$ es el $i$-ésima vector columna de $M$, entonces podemos calcular todos los $\\langle M_i|v \\rangle$ donde $v$ es el vector $v = \\begin{pmatrix}a & b & c & d & e & f & g & h\\end{pmatrix}^\\top$, haciendo la multiplicación $M^* v$. Igualando el vector a cero obtenemos un sistema de 8 variables y 6 ecuaciones:"
   ]
  },
  {
   "cell_type": "code",
   "execution_count": 6,
   "metadata": {},
   "outputs": [
    {
     "data": {
      "text/html": [
       "<html>\\(\\displaystyle \\left[\\frac{1}{4} i \\, \\sqrt{2} a + \\frac{1}{4} \\, \\sqrt{2} b + \\frac{1}{4} \\, \\sqrt{2} c - \\frac{1}{4} i \\, \\sqrt{2} d - \\frac{1}{4} \\, \\sqrt{2} e - \\frac{1}{4} i \\, \\sqrt{2} f - \\frac{1}{4} i \\, \\sqrt{2} g + \\frac{1}{4} \\, \\sqrt{2} h = 0, \\frac{1}{4} i \\, \\sqrt{2} a - \\frac{1}{4} \\, \\sqrt{2} b + \\frac{1}{4} \\, \\sqrt{2} c + \\frac{1}{4} i \\, \\sqrt{2} d + \\frac{1}{4} \\, \\sqrt{2} e - \\frac{1}{4} i \\, \\sqrt{2} f + \\frac{1}{4} i \\, \\sqrt{2} g + \\frac{1}{4} \\, \\sqrt{2} h = 0, -\\frac{1}{4} i \\, \\sqrt{2} a - \\frac{1}{4} \\, \\sqrt{2} b - \\frac{1}{4} \\, \\sqrt{2} c + \\frac{1}{4} i \\, \\sqrt{2} d - \\frac{1}{4} \\, \\sqrt{2} e - \\frac{1}{4} i \\, \\sqrt{2} f - \\frac{1}{4} i \\, \\sqrt{2} g + \\frac{1}{4} \\, \\sqrt{2} h = 0, \\frac{1}{4} i \\, \\sqrt{2} a - \\frac{1}{4} \\, \\sqrt{2} b + \\frac{1}{4} \\, \\sqrt{2} c + \\frac{1}{4} i \\, \\sqrt{2} d - \\frac{1}{4} \\, \\sqrt{2} e + \\frac{1}{4} i \\, \\sqrt{2} f - \\frac{1}{4} i \\, \\sqrt{2} g - \\frac{1}{4} \\, \\sqrt{2} h = 0, -\\frac{1}{4} \\, \\sqrt{2} a - \\frac{1}{4} i \\, \\sqrt{2} b - \\frac{1}{4} i \\, \\sqrt{2} c + \\frac{1}{4} \\, \\sqrt{2} d + \\frac{1}{4} i \\, \\sqrt{2} e + \\frac{1}{4} \\, \\sqrt{2} f + \\frac{1}{4} \\, \\sqrt{2} g - \\frac{1}{4} i \\, \\sqrt{2} h = 0, -\\frac{1}{4} \\, \\sqrt{2} a - \\frac{1}{4} i \\, \\sqrt{2} b - \\frac{1}{4} i \\, \\sqrt{2} c + \\frac{1}{4} \\, \\sqrt{2} d - \\frac{1}{4} i \\, \\sqrt{2} e - \\frac{1}{4} \\, \\sqrt{2} f - \\frac{1}{4} \\, \\sqrt{2} g + \\frac{1}{4} i \\, \\sqrt{2} h = 0\\right]\\)</html>"
      ],
      "text/latex": [
       "$\\displaystyle \\left[\\frac{1}{4} i \\, \\sqrt{2} a + \\frac{1}{4} \\, \\sqrt{2} b + \\frac{1}{4} \\, \\sqrt{2} c - \\frac{1}{4} i \\, \\sqrt{2} d - \\frac{1}{4} \\, \\sqrt{2} e - \\frac{1}{4} i \\, \\sqrt{2} f - \\frac{1}{4} i \\, \\sqrt{2} g + \\frac{1}{4} \\, \\sqrt{2} h = 0, \\frac{1}{4} i \\, \\sqrt{2} a - \\frac{1}{4} \\, \\sqrt{2} b + \\frac{1}{4} \\, \\sqrt{2} c + \\frac{1}{4} i \\, \\sqrt{2} d + \\frac{1}{4} \\, \\sqrt{2} e - \\frac{1}{4} i \\, \\sqrt{2} f + \\frac{1}{4} i \\, \\sqrt{2} g + \\frac{1}{4} \\, \\sqrt{2} h = 0, -\\frac{1}{4} i \\, \\sqrt{2} a - \\frac{1}{4} \\, \\sqrt{2} b - \\frac{1}{4} \\, \\sqrt{2} c + \\frac{1}{4} i \\, \\sqrt{2} d - \\frac{1}{4} \\, \\sqrt{2} e - \\frac{1}{4} i \\, \\sqrt{2} f - \\frac{1}{4} i \\, \\sqrt{2} g + \\frac{1}{4} \\, \\sqrt{2} h = 0, \\frac{1}{4} i \\, \\sqrt{2} a - \\frac{1}{4} \\, \\sqrt{2} b + \\frac{1}{4} \\, \\sqrt{2} c + \\frac{1}{4} i \\, \\sqrt{2} d - \\frac{1}{4} \\, \\sqrt{2} e + \\frac{1}{4} i \\, \\sqrt{2} f - \\frac{1}{4} i \\, \\sqrt{2} g - \\frac{1}{4} \\, \\sqrt{2} h = 0, -\\frac{1}{4} \\, \\sqrt{2} a - \\frac{1}{4} i \\, \\sqrt{2} b - \\frac{1}{4} i \\, \\sqrt{2} c + \\frac{1}{4} \\, \\sqrt{2} d + \\frac{1}{4} i \\, \\sqrt{2} e + \\frac{1}{4} \\, \\sqrt{2} f + \\frac{1}{4} \\, \\sqrt{2} g - \\frac{1}{4} i \\, \\sqrt{2} h = 0, -\\frac{1}{4} \\, \\sqrt{2} a - \\frac{1}{4} i \\, \\sqrt{2} b - \\frac{1}{4} i \\, \\sqrt{2} c + \\frac{1}{4} \\, \\sqrt{2} d - \\frac{1}{4} i \\, \\sqrt{2} e - \\frac{1}{4} \\, \\sqrt{2} f - \\frac{1}{4} \\, \\sqrt{2} g + \\frac{1}{4} i \\, \\sqrt{2} h = 0\\right]$"
      ],
      "text/plain": [
       "[1/4*I*sqrt(2)*a + 1/4*sqrt(2)*b + 1/4*sqrt(2)*c - 1/4*I*sqrt(2)*d - 1/4*sqrt(2)*e - 1/4*I*sqrt(2)*f - 1/4*I*sqrt(2)*g + 1/4*sqrt(2)*h == 0,\n",
       " 1/4*I*sqrt(2)*a - 1/4*sqrt(2)*b + 1/4*sqrt(2)*c + 1/4*I*sqrt(2)*d + 1/4*sqrt(2)*e - 1/4*I*sqrt(2)*f + 1/4*I*sqrt(2)*g + 1/4*sqrt(2)*h == 0,\n",
       " -1/4*I*sqrt(2)*a - 1/4*sqrt(2)*b - 1/4*sqrt(2)*c + 1/4*I*sqrt(2)*d - 1/4*sqrt(2)*e - 1/4*I*sqrt(2)*f - 1/4*I*sqrt(2)*g + 1/4*sqrt(2)*h == 0,\n",
       " 1/4*I*sqrt(2)*a - 1/4*sqrt(2)*b + 1/4*sqrt(2)*c + 1/4*I*sqrt(2)*d - 1/4*sqrt(2)*e + 1/4*I*sqrt(2)*f - 1/4*I*sqrt(2)*g - 1/4*sqrt(2)*h == 0,\n",
       " -1/4*sqrt(2)*a - 1/4*I*sqrt(2)*b - 1/4*I*sqrt(2)*c + 1/4*sqrt(2)*d + 1/4*I*sqrt(2)*e + 1/4*sqrt(2)*f + 1/4*sqrt(2)*g - 1/4*I*sqrt(2)*h == 0,\n",
       " -1/4*sqrt(2)*a - 1/4*I*sqrt(2)*b - 1/4*I*sqrt(2)*c + 1/4*sqrt(2)*d - 1/4*I*sqrt(2)*e - 1/4*sqrt(2)*f - 1/4*sqrt(2)*g + 1/4*I*sqrt(2)*h == 0]"
      ]
     },
     "execution_count": 6,
     "metadata": {},
     "output_type": "execute_result"
    }
   ],
   "source": [
    "eqns = list(M.conjugate_transpose() * vector([a,b,c,d,e,f,g,h]))\n",
    "eqns = [eqn == 0 for eqn in eqns]\n",
    "eqns"
   ]
  },
  {
   "cell_type": "markdown",
   "metadata": {},
   "source": [
    "Utilizamos el solver de SageMath y obtenemos un *supuesta* única solución."
   ]
  },
  {
   "cell_type": "code",
   "execution_count": 7,
   "metadata": {},
   "outputs": [
    {
     "data": {
      "text/html": [
       "<html>\\(\\displaystyle \\left[\\left\\{a : r_{2}, b : r_{1} r_{2}, c : -r_{1} r_{2}, d : r_{2}, e : r_{1}^{2}, f : r_{1}, g : -r_{1}, h : r_{1}^{2}\\right\\}\\right]\\)</html>"
      ],
      "text/latex": [
       "$\\displaystyle \\left[\\left\\{a : r_{2}, b : r_{1} r_{2}, c : -r_{1} r_{2}, d : r_{2}, e : r_{1}^{2}, f : r_{1}, g : -r_{1}, h : r_{1}^{2}\\right\\}\\right]$"
      ],
      "text/plain": [
       "[{a: r2, b: r1*r2, c: -r1*r2, d: r2, e: r1^2, f: r1, g: -r1, h: r1^2}]"
      ]
     },
     "execution_count": 7,
     "metadata": {},
     "output_type": "execute_result"
    }
   ],
   "source": [
    "sol = solve(eqns, [a,b,c,d,e,f,g,h], solution_dict=True, to_poly_solve='force')\n",
    "sol"
   ]
  },
  {
   "cell_type": "code",
   "execution_count": 8,
   "metadata": {},
   "outputs": [],
   "source": [
    "r1, r2 = SR.var('r1 r2')"
   ]
  },
  {
   "cell_type": "code",
   "execution_count": 9,
   "metadata": {},
   "outputs": [
    {
     "data": {
      "text/html": [
       "<html>\\(\\displaystyle \\left(r_{2},\\,r_{1} r_{2},\\,-r_{1} r_{2},\\,r_{2},\\,r_{1}^{2},\\,r_{1},\\,-r_{1},\\,r_{1}^{2}\\right)\\)</html>"
      ],
      "text/latex": [
       "$\\displaystyle \\left(r_{2},\\,r_{1} r_{2},\\,-r_{1} r_{2},\\,r_{2},\\,r_{1}^{2},\\,r_{1},\\,-r_{1},\\,r_{1}^{2}\\right)$"
      ],
      "text/plain": [
       "(r2, r1*r2, -r1*r2, r2, r1^2, r1, -r1, r1^2)"
      ]
     },
     "execution_count": 9,
     "metadata": {},
     "output_type": "execute_result"
    }
   ],
   "source": [
    "v = vector(sol[0].values())\n",
    "v"
   ]
  },
  {
   "cell_type": "markdown",
   "metadata": {},
   "source": [
    "No se que condiciones espera SageMath porque la forma de la solución no es suficiente al parecer para que el vector sea ortonormal a los 6 vectores:"
   ]
  },
  {
   "cell_type": "code",
   "execution_count": 10,
   "metadata": {},
   "outputs": [
    {
     "data": {
      "text/html": [
       "<html>\\(\\displaystyle \\left(0,\\,\\frac{1}{2} \\, \\sqrt{2} r_{1}^{2} - \\frac{1}{2} \\, \\sqrt{2} r_{1} r_{2} - \\frac{1}{2} i \\, \\sqrt{2} r_{1} + \\frac{1}{2} i \\, \\sqrt{2} r_{2},\\,0,\\,-\\frac{1}{2} \\, \\sqrt{2} r_{1}^{2} - \\frac{1}{2} \\, \\sqrt{2} r_{1} r_{2} + \\frac{1}{2} i \\, \\sqrt{2} r_{1} + \\frac{1}{2} i \\, \\sqrt{2} r_{2},\\,0,\\,0\\right)\\)</html>"
      ],
      "text/latex": [
       "$\\displaystyle \\left(0,\\,\\frac{1}{2} \\, \\sqrt{2} r_{1}^{2} - \\frac{1}{2} \\, \\sqrt{2} r_{1} r_{2} - \\frac{1}{2} i \\, \\sqrt{2} r_{1} + \\frac{1}{2} i \\, \\sqrt{2} r_{2},\\,0,\\,-\\frac{1}{2} \\, \\sqrt{2} r_{1}^{2} - \\frac{1}{2} \\, \\sqrt{2} r_{1} r_{2} + \\frac{1}{2} i \\, \\sqrt{2} r_{1} + \\frac{1}{2} i \\, \\sqrt{2} r_{2},\\,0,\\,0\\right)$"
      ],
      "text/plain": [
       "(0, 1/2*sqrt(2)*r1^2 - 1/2*sqrt(2)*r1*r2 - 1/2*I*sqrt(2)*r1 + 1/2*I*sqrt(2)*r2, 0, -1/2*sqrt(2)*r1^2 - 1/2*sqrt(2)*r1*r2 + 1/2*I*sqrt(2)*r1 + 1/2*I*sqrt(2)*r2, 0, 0)"
      ]
     },
     "execution_count": 10,
     "metadata": {},
     "output_type": "execute_result"
    }
   ],
   "source": [
    "u = (M.conjugate_transpose() * v)\n",
    "u"
   ]
  },
  {
   "cell_type": "markdown",
   "metadata": {},
   "source": [
    "Obtenemos dos componentes del vector que no son identiticamente igual a cero, resolvemos éste sistem $2 \\times 2$:"
   ]
  },
  {
   "cell_type": "code",
   "execution_count": 11,
   "metadata": {},
   "outputs": [
    {
     "data": {
      "text/html": [
       "<html>\\(\\displaystyle \\left[\\left[r_{1} = i, r_{2} = r_{3}\\right], \\left[r_{1} = 0, r_{2} = 0\\right]\\right]\\)</html>"
      ],
      "text/latex": [
       "$\\displaystyle \\left[\\left[r_{1} = i, r_{2} = r_{3}\\right], \\left[r_{1} = 0, r_{2} = 0\\right]\\right]$"
      ],
      "text/plain": [
       "[[r1 == I, r2 == r3], [r1 == 0, r2 == 0]]"
      ]
     },
     "execution_count": 11,
     "metadata": {},
     "output_type": "execute_result"
    }
   ],
   "source": [
    "solve([list(u)[1] == 0, list(u)[3] == 0], [r1, r2])"
   ]
  },
  {
   "cell_type": "markdown",
   "metadata": {},
   "source": [
    "Al parecer obtenemos un solo grado de libertad (ignorando la solución trivial), con $r_1 = i$, el vector $v$ sí es ortonormal a los 6 vectores:"
   ]
  },
  {
   "cell_type": "code",
   "execution_count": 12,
   "metadata": {},
   "outputs": [
    {
     "data": {
      "text/html": [
       "<html>\\(\\displaystyle \\left(0,\\,0,\\,0,\\,0,\\,0,\\,0\\right)\\)</html>"
      ],
      "text/latex": [
       "$\\displaystyle \\left(0,\\,0,\\,0,\\,0,\\,0,\\,0\\right)$"
      ],
      "text/plain": [
       "(0, 0, 0, 0, 0, 0)"
      ]
     },
     "execution_count": 12,
     "metadata": {},
     "output_type": "execute_result"
    }
   ],
   "source": [
    "u.subs(r1=I)"
   ]
  },
  {
   "cell_type": "code",
   "execution_count": 13,
   "metadata": {},
   "outputs": [
    {
     "data": {
      "text/html": [
       "<html>\\(\\displaystyle \\left(r_{2},\\,i \\, r_{2},\\,-i \\, r_{2},\\,r_{2},\\,-1,\\,i,\\,-i,\\,-1\\right)\\)</html>"
      ],
      "text/latex": [
       "$\\displaystyle \\left(r_{2},\\,i \\, r_{2},\\,-i \\, r_{2},\\,r_{2},\\,-1,\\,i,\\,-i,\\,-1\\right)$"
      ],
      "text/plain": [
       "(r2, I*r2, -I*r2, r2, -1, I, -I, -1)"
      ]
     },
     "execution_count": 13,
     "metadata": {},
     "output_type": "execute_result"
    }
   ],
   "source": [
    "v.subs(r1=I)"
   ]
  },
  {
   "cell_type": "markdown",
   "metadata": {},
   "source": [
    "Lo intenté con Mathematica y obtengo un vector con dos grados de libertad: $\\begin{pmatrix} a & ia & -ia & a & h & -ih & ih & h\\end{pmatrix}^\\top$. Notemos que es igual al que obtengo con SageMath pero con $h = -1$. Probando con éste vector más general efectivamente verificamos que es ortonormal:"
   ]
  },
  {
   "cell_type": "code",
   "execution_count": 14,
   "metadata": {},
   "outputs": [
    {
     "data": {
      "text/html": [
       "<html>\\(\\displaystyle \\left(0,\\,0,\\,0,\\,0,\\,0,\\,0\\right)\\)</html>"
      ],
      "text/latex": [
       "$\\displaystyle \\left(0,\\,0,\\,0,\\,0,\\,0,\\,0\\right)$"
      ],
      "text/plain": [
       "(0, 0, 0, 0, 0, 0)"
      ]
     },
     "execution_count": 14,
     "metadata": {},
     "output_type": "execute_result"
    }
   ],
   "source": [
    "u = vector([a, I*a, -I*a, a, b, -I*b, I*b, b]) \n",
    "M.conjugate_transpose() * u"
   ]
  },
  {
   "cell_type": "markdown",
   "metadata": {},
   "source": [
    "El vector $u$ es ortorgonal, la condición de normalidad no agrega información:"
   ]
  },
  {
   "cell_type": "code",
   "execution_count": 15,
   "metadata": {},
   "outputs": [
    {
     "data": {
      "text/html": [
       "<html>\\(\\displaystyle \\left(0,\\,0,\\,0,\\,0,\\,0,\\,0\\right)\\)</html>"
      ],
      "text/latex": [
       "$\\displaystyle \\left(0,\\,0,\\,0,\\,0,\\,0,\\,0\\right)$"
      ],
      "text/plain": [
       "(0, 0, 0, 0, 0, 0)"
      ]
     },
     "execution_count": 15,
     "metadata": {},
     "output_type": "execute_result"
    }
   ],
   "source": [
    "M.conjugate_transpose() * (u / norm(u))"
   ]
  },
  {
   "cell_type": "code",
   "execution_count": 16,
   "metadata": {},
   "outputs": [
    {
     "data": {
      "text/html": [
       "<html>\\(\\displaystyle 1\\)</html>"
      ],
      "text/latex": [
       "$\\displaystyle 1$"
      ],
      "text/plain": [
       "1"
      ]
     },
     "execution_count": 16,
     "metadata": {},
     "output_type": "execute_result"
    }
   ],
   "source": [
    "u = u / norm(u)\n",
    "norm(u).simplify_full()"
   ]
  },
  {
   "cell_type": "markdown",
   "metadata": {},
   "source": [
    "Entonces tenemos un vector ortonormal $u$ y deseamos que sea mutuamente insesgado con *todos* los vectores de todas las bases. Consideremos la primera base:"
   ]
  },
  {
   "cell_type": "code",
   "execution_count": 17,
   "metadata": {},
   "outputs": [
    {
     "data": {
      "text/html": [
       "<html>\\(\\displaystyle \\left(\\begin{array}{rrrrrrrr}\n",
       "i + 1 & -i + 1 & 0 & 0 & 0 & 0 & 0 & 0 \\\\\n",
       "-i + 1 & i + 1 & 0 & 0 & 0 & 0 & 0 & 0 \\\\\n",
       "0 & 0 & i + 1 & 0 & -i + 1 & 0 & 0 & 0 \\\\\n",
       "0 & 0 & 0 & i + 1 & 0 & 0 & 0 & -i + 1 \\\\\n",
       "0 & 0 & -i + 1 & 0 & i + 1 & 0 & 0 & 0 \\\\\n",
       "0 & 0 & 0 & 0 & 0 & i + 1 & -i + 1 & 0 \\\\\n",
       "0 & 0 & 0 & 0 & 0 & -i + 1 & i + 1 & 0 \\\\\n",
       "0 & 0 & 0 & -i + 1 & 0 & 0 & 0 & i + 1\n",
       "\\end{array}\\right)\\)</html>"
      ],
      "text/latex": [
       "$\\displaystyle \\left(\\begin{array}{rrrrrrrr}\n",
       "i + 1 & -i + 1 & 0 & 0 & 0 & 0 & 0 & 0 \\\\\n",
       "-i + 1 & i + 1 & 0 & 0 & 0 & 0 & 0 & 0 \\\\\n",
       "0 & 0 & i + 1 & 0 & -i + 1 & 0 & 0 & 0 \\\\\n",
       "0 & 0 & 0 & i + 1 & 0 & 0 & 0 & -i + 1 \\\\\n",
       "0 & 0 & -i + 1 & 0 & i + 1 & 0 & 0 & 0 \\\\\n",
       "0 & 0 & 0 & 0 & 0 & i + 1 & -i + 1 & 0 \\\\\n",
       "0 & 0 & 0 & 0 & 0 & -i + 1 & i + 1 & 0 \\\\\n",
       "0 & 0 & 0 & -i + 1 & 0 & 0 & 0 & i + 1\n",
       "\\end{array}\\right)$"
      ],
      "text/plain": [
       "[ I + 1 -I + 1      0      0      0      0      0      0]\n",
       "[-I + 1  I + 1      0      0      0      0      0      0]\n",
       "[     0      0  I + 1      0 -I + 1      0      0      0]\n",
       "[     0      0      0  I + 1      0      0      0 -I + 1]\n",
       "[     0      0 -I + 1      0  I + 1      0      0      0]\n",
       "[     0      0      0      0      0  I + 1 -I + 1      0]\n",
       "[     0      0      0      0      0 -I + 1  I + 1      0]\n",
       "[     0      0      0 -I + 1      0      0      0  I + 1]"
      ]
     },
     "execution_count": 17,
     "metadata": {},
     "output_type": "execute_result"
    }
   ],
   "source": [
    "Pf1 = F * diagonal_matrix([1,1,I,1,I,I,I,1]) * F.conjugate_transpose()\n",
    "Pf1 * 2"
   ]
  },
  {
   "cell_type": "markdown",
   "metadata": {},
   "source": [
    "Igualamos el cuadrado del valor absoluto de cada componente de $P_{f_1}^* u$ a $1/8$ para fijar la condición, pero nos encontramos con un problema:"
   ]
  },
  {
   "cell_type": "code",
   "execution_count": 18,
   "metadata": {},
   "outputs": [
    {
     "data": {
      "text/html": [
       "<html>\\(\\displaystyle \\left(0,\\,\\frac{\\left(i + 1\\right) \\, a}{2 \\, \\sqrt{a^{2} + b^{2}}},\\,\\frac{-\\left(i + 1\\right) \\, a + \\left(i + 1\\right) \\, b}{4 \\, \\sqrt{a^{2} + b^{2}}},\\,\\frac{-\\left(i - 1\\right) \\, a + \\left(i + 1\\right) \\, b}{4 \\, \\sqrt{a^{2} + b^{2}}},\\,\\frac{-\\left(i - 1\\right) \\, a - \\left(i - 1\\right) \\, b}{4 \\, \\sqrt{a^{2} + b^{2}}},\\,-\\frac{b}{2 \\, \\sqrt{a^{2} + b^{2}}},\\,\\frac{b}{2 \\, \\sqrt{a^{2} + b^{2}}},\\,\\frac{\\left(i + 1\\right) \\, a - \\left(i - 1\\right) \\, b}{4 \\, \\sqrt{a^{2} + b^{2}}}\\right)\\)</html>"
      ],
      "text/latex": [
       "$\\displaystyle \\left(0,\\,\\frac{\\left(i + 1\\right) \\, a}{2 \\, \\sqrt{a^{2} + b^{2}}},\\,\\frac{-\\left(i + 1\\right) \\, a + \\left(i + 1\\right) \\, b}{4 \\, \\sqrt{a^{2} + b^{2}}},\\,\\frac{-\\left(i - 1\\right) \\, a + \\left(i + 1\\right) \\, b}{4 \\, \\sqrt{a^{2} + b^{2}}},\\,\\frac{-\\left(i - 1\\right) \\, a - \\left(i - 1\\right) \\, b}{4 \\, \\sqrt{a^{2} + b^{2}}},\\,-\\frac{b}{2 \\, \\sqrt{a^{2} + b^{2}}},\\,\\frac{b}{2 \\, \\sqrt{a^{2} + b^{2}}},\\,\\frac{\\left(i + 1\\right) \\, a - \\left(i - 1\\right) \\, b}{4 \\, \\sqrt{a^{2} + b^{2}}}\\right)$"
      ],
      "text/plain": [
       "(0, (1/2*I + 1/2)*a/sqrt(a^2 + b^2), 1/4*(-(I + 1)*a + (I + 1)*b)/sqrt(a^2 + b^2), 1/4*(-(I - 1)*a + (I + 1)*b)/sqrt(a^2 + b^2), 1/4*(-(I - 1)*a - (I - 1)*b)/sqrt(a^2 + b^2), -1/2*b/sqrt(a^2 + b^2), 1/2*b/sqrt(a^2 + b^2), 1/4*((I + 1)*a - (I - 1)*b)/sqrt(a^2 + b^2))"
      ]
     },
     "execution_count": 18,
     "metadata": {},
     "output_type": "execute_result"
    }
   ],
   "source": [
    "eqns = Pf1.conjugate_transpose() * u\n",
    "# eqns = [abs(eqn)**2 == 1/8 for eqn in eqns]\n",
    "eqns.simplify_full()"
   ]
  },
  {
   "cell_type": "markdown",
   "metadata": {},
   "source": [
    "El vector $u$ es ortonormal al primer vector de la matriz $P_{f_1}$, por lo tanto independientemente de los valores de $a$ y de $b$, el vector $u$ no puede ser mutuamente insesgado a la primera base. Si la solución que obtuve (con SageMath y con Mathematica) es la *única* solución para obtener un vector ortonormal a los de $M$, entonces no hay manera de completar la base."
   ]
  },
  {
   "cell_type": "code",
   "execution_count": 24,
   "metadata": {},
   "outputs": [
    {
     "data": {
      "text/html": [
       "<html>\\(\\displaystyle \\left[b = -a, b = a\\right]\\)</html>"
      ],
      "text/latex": [
       "$\\displaystyle \\left[b = -a, b = a\\right]$"
      ],
      "text/plain": [
       "[b == -a, b == a]"
      ]
     },
     "execution_count": 24,
     "metadata": {},
     "output_type": "execute_result"
    }
   ],
   "source": [
    "solve(abs(b/(2*sqrt(a^2+b^2)))**2 == 1/8, b)"
   ]
  },
  {
   "cell_type": "code",
   "execution_count": 34,
   "metadata": {},
   "outputs": [
    {
     "data": {
      "text/html": [
       "<html>\\(\\displaystyle \\left(0,\\,\\frac{1}{4},\\,\\frac{1}{4},\\,\\frac{1}{8},\\,0,\\,\\frac{1}{8},\\,\\frac{1}{8},\\,\\frac{1}{8}\\right)\\)</html>"
      ],
      "text/latex": [
       "$\\displaystyle \\left(0,\\,\\frac{1}{4},\\,\\frac{1}{4},\\,\\frac{1}{8},\\,0,\\,\\frac{1}{8},\\,\\frac{1}{8},\\,\\frac{1}{8}\\right)$"
      ],
      "text/plain": [
       "(0, 1/4, 1/4, 1/8, 0, 1/8, 1/8, 1/8)"
      ]
     },
     "execution_count": 34,
     "metadata": {},
     "output_type": "execute_result"
    }
   ],
   "source": [
    "eqns.subs(b=-a).subs(a=I).apply_map(lambda t: abs(t)**2).simplify_full()"
   ]
  },
  {
   "cell_type": "code",
   "execution_count": null,
   "metadata": {},
   "outputs": [],
   "source": []
  }
 ],
 "metadata": {
  "kernelspec": {
   "display_name": "SageMath 9.8",
   "language": "sage",
   "name": "sagemath"
  },
  "language_info": {
   "codemirror_mode": {
    "name": "ipython",
    "version": 3
   },
   "file_extension": ".py",
   "mimetype": "text/x-python",
   "name": "python",
   "nbconvert_exporter": "python",
   "pygments_lexer": "ipython3",
   "version": "3.9.16"
  }
 },
 "nbformat": 4,
 "nbformat_minor": 2
}
