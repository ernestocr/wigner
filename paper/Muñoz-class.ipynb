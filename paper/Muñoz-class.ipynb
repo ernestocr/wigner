{
 "cells": [
  {
   "cell_type": "markdown",
   "id": "50019873-9bb0-45f3-a893-043e14e57085",
   "metadata": {},
   "source": [
    "Coded up a Wigner function class in `rotations.py` file."
   ]
  },
  {
   "cell_type": "code",
   "execution_count": 1,
   "id": "7205aa03-0a03-4d79-a4cf-bf93abc55cc8",
   "metadata": {},
   "outputs": [],
   "source": [
    "%display latex"
   ]
  },
  {
   "cell_type": "code",
   "execution_count": 2,
   "id": "e2c40622-e834-4771-b381-2d172091c70a",
   "metadata": {},
   "outputs": [],
   "source": [
    "%load_ext autoreload\n",
    "%autoreload 2"
   ]
  },
  {
   "cell_type": "code",
   "execution_count": 61,
   "id": "a17225cf-1f1c-458c-bf68-81b91ae66891",
   "metadata": {},
   "outputs": [],
   "source": [
    "from rotations import Wigner\n",
    "from utils import checkMUBs\n",
    "\n",
    "import matplotlib\n",
    "import matplotlib.pyplot as plt\n",
    "\n",
    "matplotlib.rcParams['figure.figsize'] = [2, 2]"
   ]
  },
  {
   "cell_type": "code",
   "execution_count": 62,
   "id": "6d3bf534-177b-4942-a73f-c19d86b8b133",
   "metadata": {},
   "outputs": [],
   "source": [
    "w23 = Wigner(3)"
   ]
  },
  {
   "cell_type": "code",
   "execution_count": 63,
   "id": "ea7e03d4-5e70-47c7-9e68-ae39f69e0ef1",
   "metadata": {},
   "outputs": [],
   "source": [
    "# check that base is self-dual\n",
    "for k in w23.basis:\n",
    "    for l in w23.basis:\n",
    "        if k == l:\n",
    "            if (k * l).trace() != 1:\n",
    "                raise Exception('Not self-dual!')\n",
    "        else:\n",
    "            if (k * l).trace() != 0:\n",
    "                raise Exception('Not self-dual!')"
   ]
  },
  {
   "cell_type": "markdown",
   "id": "c0efb5a2-15a5-452a-91e4-771da963ec34",
   "metadata": {},
   "source": [
    "Quick checking. First we verify that the rotation operators do indeed give us MUBs."
   ]
  },
  {
   "cell_type": "code",
   "execution_count": 64,
   "id": "ab2c6ab0-2213-4972-98c9-a578562d5252",
   "metadata": {},
   "outputs": [
    {
     "name": "stdout",
     "output_type": "stream",
     "text": [
      "MUBs are good!\n"
     ]
    }
   ],
   "source": [
    "m = checkMUBs(w23.mubs)"
   ]
  },
  {
   "cell_type": "markdown",
   "id": "fdb878e7-f719-4217-9ebb-4bff8ceb805e",
   "metadata": {},
   "source": [
    "Now let's test the kernels."
   ]
  },
  {
   "cell_type": "code",
   "execution_count": 67,
   "id": "ab2dfa75-4970-4814-b6e9-d6753353da6f",
   "metadata": {},
   "outputs": [
    {
     "data": {
      "text/html": [
       "<html>\\(\\displaystyle \\begin{array}{l}\n",
       "\\verb|[[|\\verb| |\\verb|0.125|\\verb| |\\verb|-0.|\\verb|    |\\verb|-0.|\\verb|    |\\verb|-0.|\\verb|    |\\verb|-0.|\\verb|    |\\verb|-0.|\\verb|    |\\verb|-0.|\\verb|    |\\verb|-0.|\\verb|   |\\verb|]|\\\\\n",
       "\\verb| |\\verb|[-0.|\\verb|    |\\verb|-0.|\\verb|    |\\verb|-0.|\\verb|    |\\verb|-0.|\\verb|     |\\verb|0.125|\\verb| |\\verb|-0.|\\verb|    |\\verb|-0.|\\verb|    |\\verb|-0.|\\verb|   |\\verb|]|\\\\\n",
       "\\verb| |\\verb|[-0.|\\verb|    |\\verb|-0.|\\verb|    |\\verb|-0.|\\verb|    |\\verb|-0.|\\verb|    |\\verb|-0.|\\verb|     |\\verb|0.125|\\verb| |\\verb|-0.|\\verb|    |\\verb|-0.|\\verb|   |\\verb|]|\\\\\n",
       "\\verb| |\\verb|[-0.|\\verb|    |\\verb|-0.|\\verb|    |\\verb|-0.|\\verb|    |\\verb|-0.|\\verb|    |\\verb|-0.|\\verb|    |\\verb|-0.|\\verb|     |\\verb|0.125|\\verb| |\\verb|-0.|\\verb|   |\\verb|]|\\\\\n",
       "\\verb| |\\verb|[-0.|\\verb|    |\\verb|-0.|\\verb|    |\\verb|-0.|\\verb|    |\\verb|-0.|\\verb|    |\\verb|-0.|\\verb|    |\\verb|-0.|\\verb|    |\\verb|-0.|\\verb|     |\\verb|0.125]|\\\\\n",
       "\\verb| |\\verb|[-0.|\\verb|     |\\verb|0.125|\\verb| |\\verb|-0.|\\verb|    |\\verb|-0.|\\verb|    |\\verb|-0.|\\verb|    |\\verb|-0.|\\verb|    |\\verb|-0.|\\verb|    |\\verb|-0.|\\verb|   |\\verb|]|\\\\\n",
       "\\verb| |\\verb|[-0.|\\verb|    |\\verb|-0.|\\verb|     |\\verb|0.125|\\verb| |\\verb|-0.|\\verb|    |\\verb|-0.|\\verb|    |\\verb|-0.|\\verb|    |\\verb|-0.|\\verb|    |\\verb|-0.|\\verb|   |\\verb|]|\\\\\n",
       "\\verb| |\\verb|[-0.|\\verb|    |\\verb|-0.|\\verb|    |\\verb|-0.|\\verb|     |\\verb|0.125|\\verb| |\\verb|-0.|\\verb|    |\\verb|-0.|\\verb|    |\\verb|-0.|\\verb|    |\\verb|-0.|\\verb|   |\\verb|]]|\n",
       "\\end{array}\\)</html>"
      ],
      "text/latex": [
       "$\\displaystyle \\begin{array}{l}\n",
       "\\verb|[[|\\verb| |\\verb|0.125|\\verb| |\\verb|-0.|\\verb|    |\\verb|-0.|\\verb|    |\\verb|-0.|\\verb|    |\\verb|-0.|\\verb|    |\\verb|-0.|\\verb|    |\\verb|-0.|\\verb|    |\\verb|-0.|\\verb|   |\\verb|]|\\\\\n",
       "\\verb| |\\verb|[-0.|\\verb|    |\\verb|-0.|\\verb|    |\\verb|-0.|\\verb|    |\\verb|-0.|\\verb|     |\\verb|0.125|\\verb| |\\verb|-0.|\\verb|    |\\verb|-0.|\\verb|    |\\verb|-0.|\\verb|   |\\verb|]|\\\\\n",
       "\\verb| |\\verb|[-0.|\\verb|    |\\verb|-0.|\\verb|    |\\verb|-0.|\\verb|    |\\verb|-0.|\\verb|    |\\verb|-0.|\\verb|     |\\verb|0.125|\\verb| |\\verb|-0.|\\verb|    |\\verb|-0.|\\verb|   |\\verb|]|\\\\\n",
       "\\verb| |\\verb|[-0.|\\verb|    |\\verb|-0.|\\verb|    |\\verb|-0.|\\verb|    |\\verb|-0.|\\verb|    |\\verb|-0.|\\verb|    |\\verb|-0.|\\verb|     |\\verb|0.125|\\verb| |\\verb|-0.|\\verb|   |\\verb|]|\\\\\n",
       "\\verb| |\\verb|[-0.|\\verb|    |\\verb|-0.|\\verb|    |\\verb|-0.|\\verb|    |\\verb|-0.|\\verb|    |\\verb|-0.|\\verb|    |\\verb|-0.|\\verb|    |\\verb|-0.|\\verb|     |\\verb|0.125]|\\\\\n",
       "\\verb| |\\verb|[-0.|\\verb|     |\\verb|0.125|\\verb| |\\verb|-0.|\\verb|    |\\verb|-0.|\\verb|    |\\verb|-0.|\\verb|    |\\verb|-0.|\\verb|    |\\verb|-0.|\\verb|    |\\verb|-0.|\\verb|   |\\verb|]|\\\\\n",
       "\\verb| |\\verb|[-0.|\\verb|    |\\verb|-0.|\\verb|     |\\verb|0.125|\\verb| |\\verb|-0.|\\verb|    |\\verb|-0.|\\verb|    |\\verb|-0.|\\verb|    |\\verb|-0.|\\verb|    |\\verb|-0.|\\verb|   |\\verb|]|\\\\\n",
       "\\verb| |\\verb|[-0.|\\verb|    |\\verb|-0.|\\verb|    |\\verb|-0.|\\verb|     |\\verb|0.125|\\verb| |\\verb|-0.|\\verb|    |\\verb|-0.|\\verb|    |\\verb|-0.|\\verb|    |\\verb|-0.|\\verb|   |\\verb|]]|\n",
       "\\end{array}$"
      ],
      "text/plain": [
       "array([[ 0.125, -0.   , -0.   , -0.   , -0.   , -0.   , -0.   , -0.   ],\n",
       "       [-0.   , -0.   , -0.   , -0.   ,  0.125, -0.   , -0.   , -0.   ],\n",
       "       [-0.   , -0.   , -0.   , -0.   , -0.   ,  0.125, -0.   , -0.   ],\n",
       "       [-0.   , -0.   , -0.   , -0.   , -0.   , -0.   ,  0.125, -0.   ],\n",
       "       [-0.   , -0.   , -0.   , -0.   , -0.   , -0.   , -0.   ,  0.125],\n",
       "       [-0.   ,  0.125, -0.   , -0.   , -0.   , -0.   , -0.   , -0.   ],\n",
       "       [-0.   , -0.   ,  0.125, -0.   , -0.   , -0.   , -0.   , -0.   ],\n",
       "       [-0.   , -0.   , -0.   ,  0.125, -0.   , -0.   , -0.   , -0.   ]])"
      ]
     },
     "execution_count": 67,
     "metadata": {},
     "output_type": "execute_result"
    }
   ],
   "source": [
    "w = w23.WignerMatrix(w23.Proj(w23.mubs[4][:,0]), ker='wootters')\n",
    "np.round(w, 3)"
   ]
  },
  {
   "cell_type": "markdown",
   "id": "f8c248bc-aa91-4943-844a-a1aacab684d2",
   "metadata": {},
   "source": [
    "Let's verify that the two kernels are equal."
   ]
  },
  {
   "cell_type": "code",
   "execution_count": 74,
   "id": "bead2eba-bd98-47bc-a002-56a3693e5659",
   "metadata": {},
   "outputs": [],
   "source": [
    "# this takes a while 'cause SageMath is slow...\n",
    "for k in w23.F:\n",
    "    for l in w23.F:\n",
    "        if not np.allclose(w23.Wootters(k,l), w23.Delta(k,l)):\n",
    "            raise Exception('Not the same!', k, l)"
   ]
  },
  {
   "cell_type": "code",
   "execution_count": 75,
   "id": "ba60344d-94ad-4d9c-b72e-54216e7617b2",
   "metadata": {},
   "outputs": [],
   "source": [
    "ghz = (w23.Id[:,0] + w23.Id[:,-1])/np.sqrt(2)\n",
    "w = w23.WignerMatrix(w23.Proj(ghz), ker='wootters')"
   ]
  },
  {
   "cell_type": "code",
   "execution_count": 76,
   "id": "b90383c6-b1a4-43ed-9f7a-8ea49cbf579e",
   "metadata": {},
   "outputs": [
    {
     "data": {
      "text/html": [
       "<html>\\(\\displaystyle \\verb|AxesImage(size=(8,|\\verb| |\\verb|8))|\\)</html>"
      ],
      "text/latex": [
       "$\\displaystyle \\verb|AxesImage(size=(8,|\\verb| |\\verb|8))|$"
      ],
      "text/plain": [
       "<matplotlib.image.AxesImage object at 0x183a831c0>"
      ]
     },
     "execution_count": 76,
     "metadata": {},
     "output_type": "execute_result"
    },
    {
     "data": {
      "image/png": "[encoded data removed]",
      "text/plain": [
       "<Figure size 200x200 with 1 Axes>"
      ]
     },
     "metadata": {},
     "output_type": "display_data"
    }
   ],
   "source": [
    "plt.imshow(w, origin='lower')"
   ]
  },
  {
   "cell_type": "code",
   "execution_count": null,
   "id": "1c634840-0b1d-4159-b86a-257ea5e4ee29",
   "metadata": {},
   "outputs": [],
   "source": []
  }
 ],
 "metadata": {
  "kernelspec": {
   "display_name": "SageMath 9.8",
   "language": "sage",
   "name": "sagemath"
  },
  "language_info": {
   "codemirror_mode": {
    "name": "ipython",
    "version": 3
   },
   "file_extension": ".py",
   "mimetype": "text/x-python",
   "name": "python",
   "nbconvert_exporter": "python",
   "pygments_lexer": "ipython3",
   "version": "3.9.16"
  }
 },
 "nbformat": 4,
 "nbformat_minor": 5
}
