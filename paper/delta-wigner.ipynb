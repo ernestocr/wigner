{
 "cells": [
  {
   "cell_type": "code",
   "execution_count": 1,
   "id": "0e5d007d-242c-4c98-8b97-1c81e7a9a235",
   "metadata": {},
   "outputs": [],
   "source": [
    "%display latex"
   ]
  },
  {
   "cell_type": "markdown",
   "id": "a6bcea89-4861-4b6c-afd1-4d539fcdec41",
   "metadata": {},
   "source": [
    "Let's set up everyting so we can calculate Wigner functions of eigenstates."
   ]
  },
  {
   "cell_type": "code",
   "execution_count": 2,
   "id": "16a4092a-371c-463f-acdd-d5a941a9759f",
   "metadata": {},
   "outputs": [],
   "source": [
    "N = 3\n",
    "F = GF(2^N, 'x')\n",
    "x = F.gen()"
   ]
  },
  {
   "cell_type": "code",
   "execution_count": 3,
   "id": "72fcfdad-0964-46c6-9a53-9e87b306d3b8",
   "metadata": {},
   "outputs": [],
   "source": [
    "basis = [x^3, x^5, x^6]"
   ]
  },
  {
   "cell_type": "code",
   "execution_count": 4,
   "id": "89df1694-de2a-41cd-9df5-ca8da70d97bb",
   "metadata": {},
   "outputs": [],
   "source": [
    "def toInt(k):\n",
    "    return list(F).index(k)"
   ]
  },
  {
   "cell_type": "code",
   "execution_count": 5,
   "id": "c2c134c7-f781-4deb-8038-96501c1e8a03",
   "metadata": {},
   "outputs": [],
   "source": [
    "def graph(pts):\n",
    "    m = zero_matrix(SR, 2^N, 2^N)\n",
    "    for p in pts:\n",
    "        m[toInt(p[0]), toInt(p[1])] = 1\n",
    "    return m"
   ]
  },
  {
   "cell_type": "code",
   "execution_count": 6,
   "id": "cfa08dfa-352f-42f3-955d-a4d3ca6bec99",
   "metadata": {},
   "outputs": [],
   "source": [
    "def components(k):\n",
    "    return vector([(k * b).trace() for b in basis])"
   ]
  },
  {
   "cell_type": "code",
   "execution_count": 7,
   "id": "0861ea71-76bf-4018-be57-a42b5016a2ab",
   "metadata": {},
   "outputs": [],
   "source": [
    "chi = lambda k: exp(pi * I * int(k.trace()))\n",
    "\n",
    "y = var('y')\n",
    "\n",
    "# compute the coefficients for the basis elements,\n",
    "def solve_basis(basis, curve):\n",
    "    sols = []\n",
    "    for k in basis:\n",
    "        sol = solve(chi(k * curve(k)) == y^2, y, solution_dict=True)\n",
    "        sols.append(sol[1]) # positive solutions only (choice)\n",
    "    return sols\n",
    "\n",
    "# after computing the solutions we can simply\n",
    "# get them for each basis element.\n",
    "def basis_c(a, l, sols):\n",
    "    if a == 0:\n",
    "        return 1\n",
    "    return sols[l][y]\n",
    "\n",
    "# Compute an arbitrary coefficient c_{\\alpha,f} for a \n",
    "# given curve f using the general formula.\n",
    "def c(alpha, curve, sols=None):\n",
    "    if not sols:\n",
    "        sols = solve_basis(basis, curve)\n",
    "    \n",
    "    # Expand alpha in the basis\n",
    "    comps = components(alpha)\n",
    "\n",
    "    # Apply the formula\n",
    "    s1 = 0\n",
    "    for k in range(N-1):\n",
    "        s2 = 0\n",
    "        for j in range(k+1, N):\n",
    "            s2 += comps[j] * basis[j]\n",
    "        s1 += s2 * curve(comps[k] * basis[k])\n",
    "        \n",
    "    return chi(s1) * prod([basis_c(a, l, sols) for l, a in enumerate(comps)])\n",
    "\n",
    "def sign_perm(sols, perm=None):\n",
    "    if perm:\n",
    "        for k, sol in enumerate(sols):\n",
    "            sols[k][y] = perm[k] * sols[k][y]\n",
    "    return sols\n",
    "\n",
    "def ray(mu):\n",
    "    return lambda t: mu * t\n",
    "\n",
    "def PS(curve, perms):\n",
    "    phase_space = zero_matrix(SR, 2^N, 2^N)\n",
    "    phase_space[0,:] = 1 # vertical line\n",
    "    for j, mu in enumerate(F): # iterate through the curve parametr\n",
    "        # same sign choice for a fixed curve parameter\n",
    "        sols = sign_perm(solve_basis(basis, curve(mu)), perms[j])\n",
    "        for i, a in enumerate(F):\n",
    "            # loop through alpha to obtain coefficient and\n",
    "            # corresponding point\n",
    "            coeff = c(a, curve(mu), sols)\n",
    "            b = curve(mu)(a)\n",
    "            phase_space[i, toInt(b)] = coeff\n",
    "    return phase_space"
   ]
  },
  {
   "cell_type": "code",
   "execution_count": 8,
   "id": "96afbd58-699e-44d5-945b-8f2d4e8901db",
   "metadata": {},
   "outputs": [
    {
     "data": {
      "text/html": [
       "<html>\\(\\displaystyle \\left(\\begin{array}{rrrrrrrr}\n",
       "1 & 1 & 1 & 1 & 1 & 1 & 1 & 1 \\\\\n",
       "1 & -1 & -i & 1 & -i & i & i & -1 \\\\\n",
       "1 & -i & -1 & i & -i & i & 1 & -1 \\\\\n",
       "1 & 1 & i & i & i & 1 & 1 & i \\\\\n",
       "1 & -i & -i & i & -1 & 1 & i & -1 \\\\\n",
       "1 & i & i & 1 & 1 & i & 1 & i \\\\\n",
       "1 & i & 1 & 1 & i & 1 & i & i \\\\\n",
       "1 & -1 & -1 & i & -1 & i & i & -i\n",
       "\\end{array}\\right)\\)</html>"
      ],
      "text/latex": [
       "$\\displaystyle \\left(\\begin{array}{rrrrrrrr}\n",
       "1 & 1 & 1 & 1 & 1 & 1 & 1 & 1 \\\\\n",
       "1 & -1 & -i & 1 & -i & i & i & -1 \\\\\n",
       "1 & -i & -1 & i & -i & i & 1 & -1 \\\\\n",
       "1 & 1 & i & i & i & 1 & 1 & i \\\\\n",
       "1 & -i & -i & i & -1 & 1 & i & -1 \\\\\n",
       "1 & i & i & 1 & 1 & i & 1 & i \\\\\n",
       "1 & i & 1 & 1 & i & 1 & i & i \\\\\n",
       "1 & -1 & -1 & i & -1 & i & i & -i\n",
       "\\end{array}\\right)$"
      ],
      "text/plain": [
       "[ 1  1  1  1  1  1  1  1]\n",
       "[ 1 -1 -I  1 -I  I  I -1]\n",
       "[ 1 -I -1  I -I  I  1 -1]\n",
       "[ 1  1  I  I  I  1  1  I]\n",
       "[ 1 -I -I  I -1  1  I -1]\n",
       "[ 1  I  I  1  1  I  1  I]\n",
       "[ 1  I  1  1  I  1  I  I]\n",
       "[ 1 -1 -1  I -1  I  I -I]"
      ]
     },
     "execution_count": 8,
     "metadata": {},
     "output_type": "execute_result"
    }
   ],
   "source": [
    "ps = PS(ray, [[1,1,1]] * 8)\n",
    "ps"
   ]
  },
  {
   "cell_type": "code",
   "execution_count": 9,
   "id": "0a236bf3-8fa8-4c31-95fe-f73d6ab4a2a3",
   "metadata": {},
   "outputs": [],
   "source": [
    "def Proj(u, v=None):\n",
    "    if not v:\n",
    "        v = u\n",
    "    return u.tensor_product(v.conjugate_transpose())\n",
    "\n",
    "Id = identity_matrix(2^N)\n",
    "\n",
    "def Fourier():\n",
    "    s = zero_matrix(SR, 2^N, 2^N)\n",
    "    for i, a in enumerate(F):\n",
    "        for j, b in enumerate(F):\n",
    "            s[i,j] = chi(a * b) / sqrt(2^N)\n",
    "    return s\n",
    "FF = Fourier()\n",
    "\n",
    "def phi(a, b):\n",
    "    return ps[toInt(a), toInt(b)]\n",
    "\n",
    "def Z(a):\n",
    "    return diagonal_matrix([chi(a * k) for k in F])\n",
    "\n",
    "def X(b):\n",
    "    return FF.conjugate_transpose() * Z(b) * FF\n",
    "\n",
    "def D(a, b):\n",
    "    return phi(a, b) * Z(a) * X(b)"
   ]
  },
  {
   "cell_type": "markdown",
   "id": "8155adf2-03ee-41fd-9918-fa79d48fd59c",
   "metadata": {},
   "source": [
    "So an actually valid parametrization is given by:\n",
    "$$\n",
    "\\alpha(\\tau) = \\sigma \\tau^2 + \\tau^4,\n",
    "\\quad\n",
    "\\beta(\\tau) = \\tau + \\sigma^5 \\tau^4.\n",
    "$$"
   ]
  },
  {
   "cell_type": "code",
   "execution_count": 10,
   "id": "a3674607-4fec-4ef2-9079-0cdc1be0a634",
   "metadata": {},
   "outputs": [],
   "source": [
    "param = lambda t: (x * t^2 + t^4, t + x^5 * t^4)"
   ]
  },
  {
   "cell_type": "code",
   "execution_count": 11,
   "id": "54f5568b-3f84-4f2a-a1ae-fb8b5a1ce54c",
   "metadata": {},
   "outputs": [],
   "source": [
    "def eig_proj(k):\n",
    "    eig = zero_matrix(SR, 2^N, 2^N)\n",
    "    for tau in F:\n",
    "        eig += chi(tau * k) * D(*param(tau)) / 2^N\n",
    "    return eig"
   ]
  },
  {
   "cell_type": "code",
   "execution_count": 100,
   "id": "e051631c-2074-4fac-a26f-1e6f21521dcf",
   "metadata": {},
   "outputs": [],
   "source": [
    "def Wigner(a, b):\n",
    "    op = zero_matrix(SR, 2^N, 2^N)\n",
    "    for ga in F:\n",
    "        for de in F:\n",
    "            op += chi(ga * b - de * a) * D(ga, de)\n",
    "    return op / 2^N"
   ]
  },
  {
   "cell_type": "code",
   "execution_count": 101,
   "id": "8e27f942-fcfc-447b-9d7a-7c4b3db1a326",
   "metadata": {},
   "outputs": [],
   "source": [
    "def WignerMatrix(state, kernels=None):\n",
    "    m = zero_matrix(SR, 2^N, 2^N)\n",
    "    for a in F:\n",
    "        for b in F:\n",
    "            if kernels:\n",
    "                kernel = kernels[toInt(a)][toInt(b)]\n",
    "            else:\n",
    "                kernel = Wigner(a, b)\n",
    "            m[toInt(a), toInt(b)] = (kernel * state).trace() / 2^N\n",
    "    return m"
   ]
  },
  {
   "cell_type": "code",
   "execution_count": 102,
   "id": "1d212269-ccb9-460c-b90d-e7db136e242e",
   "metadata": {},
   "outputs": [],
   "source": [
    "kernels = []\n",
    "for a in F: \n",
    "    row = [Wigner(a, b) for b in F]\n",
    "    kernels.append(row)"
   ]
  },
  {
   "cell_type": "code",
   "execution_count": 106,
   "id": "adf6c048-7a2a-4800-89e5-cf3168bd0169",
   "metadata": {},
   "outputs": [
    {
     "data": {
      "text/html": [
       "<html>\\(\\displaystyle \\left(\\begin{array}{rrrrrrrr}\n",
       "0 & 0 & 0 & 0 & 0 & 0 & 0 & 0 \\\\\n",
       "0 & \\frac{1}{4} & \\frac{1}{4} i & -\\frac{1}{4} i & 0 & 0 & -\\frac{1}{4} & 0 \\\\\n",
       "0 & -\\frac{1}{4} i & \\frac{1}{4} & -\\frac{1}{4} & 0 & 0 & \\frac{1}{4} i & 0 \\\\\n",
       "0 & \\frac{1}{4} i & -\\frac{1}{4} & \\frac{1}{4} & 0 & 0 & -\\frac{1}{4} i & 0 \\\\\n",
       "0 & 0 & 0 & 0 & 0 & 0 & 0 & 0 \\\\\n",
       "0 & 0 & 0 & 0 & 0 & 0 & 0 & 0 \\\\\n",
       "0 & -\\frac{1}{4} & -\\frac{1}{4} i & \\frac{1}{4} i & 0 & 0 & \\frac{1}{4} & 0 \\\\\n",
       "0 & 0 & 0 & 0 & 0 & 0 & 0 & 0\n",
       "\\end{array}\\right)\\)</html>"
      ],
      "text/latex": [
       "$\\displaystyle \\left(\\begin{array}{rrrrrrrr}\n",
       "0 & 0 & 0 & 0 & 0 & 0 & 0 & 0 \\\\\n",
       "0 & \\frac{1}{4} & \\frac{1}{4} i & -\\frac{1}{4} i & 0 & 0 & -\\frac{1}{4} & 0 \\\\\n",
       "0 & -\\frac{1}{4} i & \\frac{1}{4} & -\\frac{1}{4} & 0 & 0 & \\frac{1}{4} i & 0 \\\\\n",
       "0 & \\frac{1}{4} i & -\\frac{1}{4} & \\frac{1}{4} & 0 & 0 & -\\frac{1}{4} i & 0 \\\\\n",
       "0 & 0 & 0 & 0 & 0 & 0 & 0 & 0 \\\\\n",
       "0 & 0 & 0 & 0 & 0 & 0 & 0 & 0 \\\\\n",
       "0 & -\\frac{1}{4} & -\\frac{1}{4} i & \\frac{1}{4} i & 0 & 0 & \\frac{1}{4} & 0 \\\\\n",
       "0 & 0 & 0 & 0 & 0 & 0 & 0 & 0\n",
       "\\end{array}\\right)$"
      ],
      "text/plain": [
       "[     0      0      0      0      0      0      0      0]\n",
       "[     0    1/4  1/4*I -1/4*I      0      0   -1/4      0]\n",
       "[     0 -1/4*I    1/4   -1/4      0      0  1/4*I      0]\n",
       "[     0  1/4*I   -1/4    1/4      0      0 -1/4*I      0]\n",
       "[     0      0      0      0      0      0      0      0]\n",
       "[     0      0      0      0      0      0      0      0]\n",
       "[     0   -1/4 -1/4*I  1/4*I      0      0    1/4      0]\n",
       "[     0      0      0      0      0      0      0      0]"
      ]
     },
     "execution_count": 106,
     "metadata": {},
     "output_type": "execute_result"
    }
   ],
   "source": [
    "eig_proj(x^2)"
   ]
  },
  {
   "cell_type": "code",
   "execution_count": 107,
   "id": "ff4380c5-2974-444f-a94f-c278eb46d350",
   "metadata": {},
   "outputs": [
    {
     "data": {
      "text/html": [
       "<html>\\(\\displaystyle \\left(\\begin{array}{rrrrrrrr}\n",
       "1 & 0 & 0 & 0 & 0 & 1 & 0 & 0 \\\\\n",
       "0 & 0 & 0 & 0 & 0 & 0 & 0 & 0 \\\\\n",
       "0 & 0 & 0 & 0 & 0 & 0 & 0 & 0 \\\\\n",
       "0 & 0 & 0 & 0 & 1 & 0 & 0 & 1 \\\\\n",
       "1 & 0 & 0 & 0 & 0 & 1 & 0 & 0 \\\\\n",
       "0 & 0 & 0 & 0 & 0 & 0 & 0 & 0 \\\\\n",
       "0 & 0 & 0 & 0 & 1 & 0 & 0 & 1 \\\\\n",
       "0 & 0 & 0 & 0 & 0 & 0 & 0 & 0\n",
       "\\end{array}\\right)\\)</html>"
      ],
      "text/latex": [
       "$\\displaystyle \\left(\\begin{array}{rrrrrrrr}\n",
       "1 & 0 & 0 & 0 & 0 & 1 & 0 & 0 \\\\\n",
       "0 & 0 & 0 & 0 & 0 & 0 & 0 & 0 \\\\\n",
       "0 & 0 & 0 & 0 & 0 & 0 & 0 & 0 \\\\\n",
       "0 & 0 & 0 & 0 & 1 & 0 & 0 & 1 \\\\\n",
       "1 & 0 & 0 & 0 & 0 & 1 & 0 & 0 \\\\\n",
       "0 & 0 & 0 & 0 & 0 & 0 & 0 & 0 \\\\\n",
       "0 & 0 & 0 & 0 & 1 & 0 & 0 & 1 \\\\\n",
       "0 & 0 & 0 & 0 & 0 & 0 & 0 & 0\n",
       "\\end{array}\\right)$"
      ],
      "text/plain": [
       "[1 0 0 0 0 1 0 0]\n",
       "[0 0 0 0 0 0 0 0]\n",
       "[0 0 0 0 0 0 0 0]\n",
       "[0 0 0 0 1 0 0 1]\n",
       "[1 0 0 0 0 1 0 0]\n",
       "[0 0 0 0 0 0 0 0]\n",
       "[0 0 0 0 1 0 0 1]\n",
       "[0 0 0 0 0 0 0 0]"
      ]
     },
     "execution_count": 107,
     "metadata": {},
     "output_type": "execute_result"
    }
   ],
   "source": [
    "graph([param(k) for k in F])"
   ]
  },
  {
   "cell_type": "code",
   "execution_count": 108,
   "id": "d5fb295d-d17c-43c0-ab28-75984cf3df37",
   "metadata": {},
   "outputs": [
    {
     "data": {
      "text/html": [
       "<html>\\(\\displaystyle \\left(\\begin{array}{rrrrrrrr}\n",
       "0 & 0 & 0 & 0 & 0 & 0 & 0 & 0 \\\\\n",
       "0 & 0 & \\frac{1}{8} & \\frac{1}{8} & 0 & 0 & 0 & 0 \\\\\n",
       "0 & 0 & \\frac{1}{8} & \\frac{1}{8} & 0 & 0 & 0 & 0 \\\\\n",
       "0 & 0 & 0 & 0 & 0 & 0 & 0 & 0 \\\\\n",
       "0 & 0 & 0 & 0 & 0 & 0 & 0 & 0 \\\\\n",
       "0 & \\frac{1}{8} & 0 & 0 & 0 & 0 & \\frac{1}{8} & 0 \\\\\n",
       "0 & 0 & 0 & 0 & 0 & 0 & 0 & 0 \\\\\n",
       "0 & \\frac{1}{8} & 0 & 0 & 0 & 0 & \\frac{1}{8} & 0\n",
       "\\end{array}\\right)\\)</html>"
      ],
      "text/latex": [
       "$\\displaystyle \\left(\\begin{array}{rrrrrrrr}\n",
       "0 & 0 & 0 & 0 & 0 & 0 & 0 & 0 \\\\\n",
       "0 & 0 & \\frac{1}{8} & \\frac{1}{8} & 0 & 0 & 0 & 0 \\\\\n",
       "0 & 0 & \\frac{1}{8} & \\frac{1}{8} & 0 & 0 & 0 & 0 \\\\\n",
       "0 & 0 & 0 & 0 & 0 & 0 & 0 & 0 \\\\\n",
       "0 & 0 & 0 & 0 & 0 & 0 & 0 & 0 \\\\\n",
       "0 & \\frac{1}{8} & 0 & 0 & 0 & 0 & \\frac{1}{8} & 0 \\\\\n",
       "0 & 0 & 0 & 0 & 0 & 0 & 0 & 0 \\\\\n",
       "0 & \\frac{1}{8} & 0 & 0 & 0 & 0 & \\frac{1}{8} & 0\n",
       "\\end{array}\\right)$"
      ],
      "text/plain": [
       "[  0   0   0   0   0   0   0   0]\n",
       "[  0   0 1/8 1/8   0   0   0   0]\n",
       "[  0   0 1/8 1/8   0   0   0   0]\n",
       "[  0   0   0   0   0   0   0   0]\n",
       "[  0   0   0   0   0   0   0   0]\n",
       "[  0 1/8   0   0   0   0 1/8   0]\n",
       "[  0   0   0   0   0   0   0   0]\n",
       "[  0 1/8   0   0   0   0 1/8   0]"
      ]
     },
     "execution_count": 108,
     "metadata": {},
     "output_type": "execute_result"
    }
   ],
   "source": [
    "WignerMatrix(eig_proj(x^2), kernels)"
   ]
  },
  {
   "cell_type": "markdown",
   "id": "c736d9f1-e8e9-4192-9371-0c64805433e0",
   "metadata": {},
   "source": [
    "We show that for this degenerate curve the trace property does not hold:"
   ]
  },
  {
   "cell_type": "code",
   "execution_count": 18,
   "id": "22d21067-4174-4251-a51f-8e6437fa4f5e",
   "metadata": {},
   "outputs": [
    {
     "name": "stdout",
     "output_type": "stream",
     "text": [
      "0 \t|\t 0\n",
      "0 \t|\t x\n",
      "0 \t|\t x^2\n",
      "0 \t|\t x + 1\n",
      "0 \t|\t x^2 + x\n",
      "0 \t|\t x^2 + x + 1\n",
      "0 \t|\t x^2 + 1\n",
      "0 \t|\t 1\n",
      "x \t|\t 0\n",
      "x \t|\t x\n",
      "x \t|\t x^2 + x + 1\n",
      "x \t|\t x^2 + 1\n",
      "x^2 \t|\t 0\n",
      "x^2 \t|\t x^2\n",
      "x^2 \t|\t x^2 + 1\n",
      "x^2 \t|\t 1\n",
      "x + 1 \t|\t 0\n",
      "x + 1 \t|\t x + 1\n",
      "x + 1 \t|\t x^2 + x\n",
      "x + 1 \t|\t x^2 + 1\n",
      "x^2 + x \t|\t 0\n",
      "x^2 + x \t|\t x + 1\n",
      "x^2 + x \t|\t x^2 + x\n",
      "x^2 + x \t|\t x^2 + 1\n",
      "x^2 + x + 1 \t|\t 0\n",
      "x^2 + x + 1 \t|\t x\n",
      "x^2 + x + 1 \t|\t x^2 + x + 1\n",
      "x^2 + x + 1 \t|\t x^2 + 1\n",
      "x^2 + 1 \t|\t 0\n",
      "x^2 + 1 \t|\t x\n",
      "x^2 + 1 \t|\t x^2\n",
      "x^2 + 1 \t|\t x + 1\n",
      "x^2 + 1 \t|\t x^2 + x\n",
      "x^2 + 1 \t|\t x^2 + x + 1\n",
      "x^2 + 1 \t|\t x^2 + 1\n",
      "x^2 + 1 \t|\t 1\n",
      "1 \t|\t 0\n",
      "1 \t|\t x^2\n",
      "1 \t|\t x^2 + 1\n",
      "1 \t|\t 1\n"
     ]
    }
   ],
   "source": [
    "for tau in F:\n",
    "    for a in F:\n",
    "        t1 = chi(param(tau)[1] * a)\n",
    "        t2 = chi(param(a)[1] * tau)\n",
    "        if t1 == t2:\n",
    "            print(tau, '\\t|\\t', a)"
   ]
  },
  {
   "cell_type": "code",
   "execution_count": 19,
   "id": "4b43a113-123a-4632-b8d3-ad379d958ae6",
   "metadata": {},
   "outputs": [
    {
     "name": "stdout",
     "output_type": "stream",
     "text": [
      "0 \t 0\n",
      "0 \t x^2 + x + 1\n",
      "x + 1 \t x^2 + x\n",
      "x + 1 \t 1\n",
      "x^2 + x \t 0\n",
      "x^2 + x \t x^2 + x + 1\n",
      "x^2 + 1 \t x^2 + x\n",
      "x^2 + 1 \t 1\n"
     ]
    }
   ],
   "source": [
    "for a in F:\n",
    "    for b in F:\n",
    "        s = sum([chi(a * param(tau)[1] + b * param(tau)[0]) for tau in F])\n",
    "        if s != 0:\n",
    "            print(a, '\\t', b)"
   ]
  },
  {
   "cell_type": "markdown",
   "id": "8cc679ba-d147-405b-8da6-731223b36168",
   "metadata": {},
   "source": [
    "So the property holds for points on the curve. Of course this is the case becuase the curve is commutative after all."
   ]
  },
  {
   "cell_type": "code",
   "execution_count": 20,
   "id": "8a4a68be-e37b-4eb2-a011-d75d04cab44e",
   "metadata": {},
   "outputs": [],
   "source": [
    "curve = [param(tau) for tau in F]\n",
    "for p1 in curve:\n",
    "    for p2 in curve:\n",
    "        if (p1[0] * p2[1]).trace() != (p1[1] * p2[0]).trace():\n",
    "            raise Exception"
   ]
  },
  {
   "cell_type": "markdown",
   "id": "d7c8f774-d9d3-4b14-99c8-6688c7daad42",
   "metadata": {},
   "source": [
    "But what is not clear is how the sum is null for points not on the curve. For regular curves we have the property $tr(\\alpha f(\\beta) = tr(\\beta f(\\alpha))$, but this does not hold, as we have seen, for degenerate curves."
   ]
  },
  {
   "cell_type": "markdown",
   "id": "9c9502bd-bec7-4c36-aa9e-160500a294fe",
   "metadata": {},
   "source": [
    "According to some math that I'm doing, if the points $(a,b)$ of the curve satisfy:\n",
    "$$a \\sigma^5 + b + b^2 \\sigma^2 + a^4 = 0,$$\n",
    "then we can use a Lidl theorem to prove that we obtain a delta function."
   ]
  },
  {
   "cell_type": "code",
   "execution_count": 21,
   "id": "fcf9aa76-aca2-4eb7-9eee-989b24ae78af",
   "metadata": {},
   "outputs": [
    {
     "name": "stdout",
     "output_type": "stream",
     "text": [
      "0 0\n",
      "x^2 + 1 x^2 + x\n",
      "x^2 + 1 1\n",
      "x^2 + x 0\n",
      "0 x^2 + x + 1\n",
      "x + 1 1\n",
      "x^2 + x x^2 + x + 1\n",
      "x + 1 x^2 + x\n"
     ]
    }
   ],
   "source": [
    "for a, b in curve:\n",
    "    if a * x^5 + b + b^2 * x^2 + a^4 == 0:\n",
    "        print(a,b)"
   ]
  },
  {
   "cell_type": "code",
   "execution_count": 22,
   "id": "07a80681-57bf-4262-a53d-9917911ab06f",
   "metadata": {},
   "outputs": [
    {
     "name": "stdout",
     "output_type": "stream",
     "text": [
      "0 0\n",
      "0 x^2 + x + 1\n",
      "x + 1 x^2 + x\n",
      "x + 1 1\n",
      "x^2 + x 0\n",
      "x^2 + x x^2 + x + 1\n",
      "x^2 + 1 x^2 + x\n",
      "x^2 + 1 1\n"
     ]
    }
   ],
   "source": [
    "for a in F:\n",
    "    for b in F:\n",
    "        if a * x^5 + b + b^2 * x^2 + a^4 == 0:\n",
    "            print(a,b)"
   ]
  },
  {
   "cell_type": "code",
   "execution_count": 23,
   "id": "54d64231-e9e5-471c-a9f9-6ac6c9590bde",
   "metadata": {},
   "outputs": [],
   "source": [
    "def alpha(tau):\n",
    "    return x * tau^2 + tau^4\n",
    "\n",
    "def beta(tau):\n",
    "    return tau + x^5 * tau^4"
   ]
  },
  {
   "cell_type": "markdown",
   "id": "1b28b491-99eb-4997-819e-923e47646620",
   "metadata": {},
   "source": [
    "So an actually valid parametrization is given by:\n",
    "$$\n",
    "\\alpha(\\tau) = \\sigma \\tau^2 + \\tau^4,\n",
    "\\quad\n",
    "\\beta(\\tau) = \\tau + \\sigma^5 \\tau^4.\n",
    "$$"
   ]
  },
  {
   "cell_type": "markdown",
   "id": "7ad71a3c-2224-491d-a272-9f72ee63ad27",
   "metadata": {},
   "source": [
    "For our parametrization we have:\n",
    "$$\n",
    "\\alpha_0 = 0, \\alpha_1 = \\sigma, \\alpha_2 = 1,\n",
    "\\quad\n",
    "\\beta_0 = 1, \\beta_1 = 0, \\beta_2 = \\sigma^5.\n",
    "$$"
   ]
  },
  {
   "cell_type": "code",
   "execution_count": 24,
   "id": "71d9d221-7612-45d7-9122-6139275141a2",
   "metadata": {},
   "outputs": [],
   "source": [
    "alphas = [F(0), x, F(1)]\n",
    "betas  = [F(1), F(0), x^5]"
   ]
  },
  {
   "cell_type": "code",
   "execution_count": 25,
   "id": "5d146fdf-da3b-4383-9c52-eefa31ae1354",
   "metadata": {},
   "outputs": [
    {
     "data": {
      "text/html": [
       "<html>\\(\\displaystyle 0\\)</html>"
      ],
      "text/latex": [
       "$\\displaystyle 0$"
      ],
      "text/plain": [
       "0"
      ]
     },
     "execution_count": 25,
     "metadata": {},
     "output_type": "execute_result"
    }
   ],
   "source": [
    "a = alpha(tau)\n",
    "b = beta(tau)\n",
    "alphas[2] * b + betas[2] * a + alphas[1]^2 * b^2 + betas[1]^2 * a^2 + alphas[0]^4 * b^4 + betas[0]^4 * a^4"
   ]
  },
  {
   "cell_type": "code",
   "execution_count": 26,
   "id": "db0d8207-4e92-43e0-bd41-f9963b0121e1",
   "metadata": {},
   "outputs": [
    {
     "data": {
      "text/html": [
       "<html>\\(\\displaystyle 0\\)</html>"
      ],
      "text/latex": [
       "$\\displaystyle 0$"
      ],
      "text/plain": [
       "0"
      ]
     },
     "execution_count": 26,
     "metadata": {},
     "output_type": "execute_result"
    }
   ],
   "source": [
    "alphas[2] * betas[0] + betas[2] * alphas[0] + alphas[1]^2 * betas[2]^2 + betas[1]^2 * alphas[2]^2 + alphas[0]^4 * betas[1]^4 + betas[0]^4 * alphas[1]^4"
   ]
  },
  {
   "cell_type": "code",
   "execution_count": 27,
   "id": "d4f2447c-f7dd-4842-baf3-17a29391761c",
   "metadata": {},
   "outputs": [
    {
     "data": {
      "text/html": [
       "<html>\\(\\displaystyle 0\\)</html>"
      ],
      "text/latex": [
       "$\\displaystyle 0$"
      ],
      "text/plain": [
       "0"
      ]
     },
     "execution_count": 27,
     "metadata": {},
     "output_type": "execute_result"
    }
   ],
   "source": [
    "alphas[2] * betas[1] + betas[2] * alphas[1] + alphas[1]^2 * betas[0]^2 + betas[1]^2 * alphas[0]^2 + alphas[0]^4 * betas[2]^4 + betas[0]^4 * alphas[2]^4"
   ]
  },
  {
   "cell_type": "markdown",
   "id": "e364a4ee-4097-47df-a5ed-0aa1dfce1271",
   "metadata": {},
   "source": [
    "So for our parametrization it definitely works."
   ]
  },
  {
   "cell_type": "code",
   "execution_count": 28,
   "id": "79c8928e-81e4-440c-83ff-5749c5c7dc82",
   "metadata": {},
   "outputs": [
    {
     "name": "stdout",
     "output_type": "stream",
     "text": [
      "0 0\n"
     ]
    }
   ],
   "source": [
    "# linear combinations of tau^2 and tau^4\n",
    "# equal to zero.\n",
    "for c in F:\n",
    "    for d in F:\n",
    "        ze = True\n",
    "        for tau in F:\n",
    "            if c * tau^2 + d * tau^4 != 0:\n",
    "                ze = False\n",
    "                break\n",
    "        if ze:\n",
    "            print(c,d)"
   ]
  },
  {
   "cell_type": "markdown",
   "id": "a1e34b93-9051-4e23-bcd5-d3e07901bda1",
   "metadata": {},
   "source": [
    "---\n",
    "Klimov is asking if for the admissible points $(a,b)$, that is the points that satisfy \n",
    "$$\n",
    "tr(\\sigma^4 b) = 0, \\quad tr(\\sigma^5 a) = 0,\n",
    "$$\n",
    "then the trace property holds for all $\\tau \\in F$:\n",
    "$$\n",
    "tr(\\alpha(\\tau) b) = tr(\\alpha(b) \\tau),\n",
    "\\quad\n",
    "tr(\\beta(\\tau) a) = tr(\\beta(a) \\tau).\n",
    "$$\n",
    "We recall our parametrization: $\\alpha(\\tau) = \\sigma \\tau^2 + \\tau^4$ and $\\beta(\\tau) = \\tau + \\sigma^5 \\tau^4$."
   ]
  },
  {
   "cell_type": "code",
   "execution_count": 29,
   "id": "dcdfbe2c-1c26-4048-b2c4-a12811dd0b46",
   "metadata": {},
   "outputs": [],
   "source": [
    "def alpha(tau):\n",
    "    return x * tau^2 + tau^4\n",
    "\n",
    "def beta(tau):\n",
    "    return tau + x^5 * tau^4"
   ]
  },
  {
   "cell_type": "code",
   "execution_count": 30,
   "id": "aefcc45b-e9ec-4461-8f37-a4b78759cedf",
   "metadata": {},
   "outputs": [
    {
     "name": "stdout",
     "output_type": "stream",
     "text": [
      "(0, 0)\n",
      "(0, x^2 + x)\n",
      "(0, x^2 + x + 1)\n",
      "(0, 1)\n",
      "(x + 1, 0)\n",
      "(x + 1, x^2 + x)\n",
      "(x + 1, x^2 + x + 1)\n",
      "(x + 1, 1)\n",
      "(x^2 + x, 0)\n",
      "(x^2 + x, x^2 + x)\n",
      "(x^2 + x, x^2 + x + 1)\n",
      "(x^2 + x, 1)\n",
      "(x^2 + 1, 0)\n",
      "(x^2 + 1, x^2 + x)\n",
      "(x^2 + 1, x^2 + x + 1)\n",
      "(x^2 + 1, 1)\n"
     ]
    }
   ],
   "source": [
    "# admissible points\n",
    "for a in F:\n",
    "    for b in F:\n",
    "        if (x^4 * b).trace() == 0 and (x^5 * a).trace() == 0:\n",
    "            print((a,b))"
   ]
  },
  {
   "cell_type": "code",
   "execution_count": 31,
   "id": "ddedcff8-d8a8-418e-95d5-4c6c497d91af",
   "metadata": {},
   "outputs": [
    {
     "name": "stdout",
     "output_type": "stream",
     "text": [
      "0 \t 0 0\n",
      "x \t 1 0\n",
      "x^2 \t 1 0\n",
      "x + 1 \t 0 0\n",
      "x^2 + x \t 0 0\n",
      "x^2 + x + 1 \t 1 0\n",
      "x^2 + 1 \t 0 0\n",
      "1 \t 1 0\n"
     ]
    }
   ],
   "source": [
    "a = 0\n",
    "b = x^2 + x\n",
    "for tau in F:\n",
    "    print(tau, '\\t', (alpha(tau) * b).trace(), (alpha(b) * tau).trace())"
   ]
  },
  {
   "cell_type": "markdown",
   "id": "e667aea9-17dd-42be-9597-ee623491f27e",
   "metadata": {},
   "source": [
    "So the property does not hold for all $\\tau$ even for the addmissible points. For example consider the admissible point $(0,x^2+x) = (0,\\sigma^4)$ and $\\tau = x$, then we have $tr(\\alpha(\\tau) (x^2+x)) = tr(x+1) = 1$, but $tr(\\alpha(x^2+x) \\tau) = tr(0) = 0$."
   ]
  },
  {
   "cell_type": "code",
   "execution_count": 32,
   "id": "ecca11ff-d029-4616-8135-4b10ae95b9d1",
   "metadata": {},
   "outputs": [
    {
     "data": {
      "text/html": [
       "<html>\\(\\displaystyle 1\\)</html>"
      ],
      "text/latex": [
       "$\\displaystyle 1$"
      ],
      "text/plain": [
       "1"
      ]
     },
     "execution_count": 32,
     "metadata": {},
     "output_type": "execute_result"
    }
   ],
   "source": [
    "(alpha(x) * (x^2+x)).trace()"
   ]
  },
  {
   "cell_type": "code",
   "execution_count": 33,
   "id": "cb0bd57c-fe1e-44e9-910f-8788c96484e5",
   "metadata": {},
   "outputs": [
    {
     "data": {
      "text/html": [
       "<html>\\(\\displaystyle 0\\)</html>"
      ],
      "text/latex": [
       "$\\displaystyle 0$"
      ],
      "text/plain": [
       "0"
      ]
     },
     "execution_count": 33,
     "metadata": {},
     "output_type": "execute_result"
    }
   ],
   "source": [
    "(alpha(x^2+x) * x).trace()"
   ]
  },
  {
   "cell_type": "code",
   "execution_count": 34,
   "id": "91407073-082e-4166-b27d-21c438215f4b",
   "metadata": {},
   "outputs": [
    {
     "data": {
      "text/html": [
       "<html>\\(\\displaystyle x^{2} + x\\)</html>"
      ],
      "text/latex": [
       "$\\displaystyle x^{2} + x$"
      ],
      "text/plain": [
       "x^2 + x"
      ]
     },
     "execution_count": 34,
     "metadata": {},
     "output_type": "execute_result"
    }
   ],
   "source": [
    "x^4"
   ]
  },
  {
   "cell_type": "code",
   "execution_count": 35,
   "id": "f40a14e7-2a5c-4d73-af73-afef3ea0a615",
   "metadata": {},
   "outputs": [
    {
     "data": {
      "text/html": [
       "<html>\\(\\displaystyle 0\\)</html>"
      ],
      "text/latex": [
       "$\\displaystyle 0$"
      ],
      "text/plain": [
       "0"
      ]
     },
     "execution_count": 35,
     "metadata": {},
     "output_type": "execute_result"
    }
   ],
   "source": [
    "(x^4 * x^5).trace()"
   ]
  },
  {
   "cell_type": "code",
   "execution_count": 36,
   "id": "66335190-d868-48f6-9c2a-0723a4c8d840",
   "metadata": {},
   "outputs": [
    {
     "name": "stdout",
     "output_type": "stream",
     "text": [
      "(0, 0)\n",
      "(0, x^2 + x + 1)\n",
      "(x + 1, x^2 + x)\n",
      "(x + 1, 1)\n",
      "(x^2 + x, 0)\n",
      "(x^2 + x, x^2 + x + 1)\n",
      "(x^2 + 1, x^2 + x)\n",
      "(x^2 + 1, 1)\n"
     ]
    }
   ],
   "source": [
    "for a in F:\n",
    "    for b in F:\n",
    "        if b + x^5 * a + x^2 * b^2 + a^4 == 0:\n",
    "            print((a,b))"
   ]
  },
  {
   "cell_type": "code",
   "execution_count": 37,
   "id": "fa6efef8-0c39-41ca-83db-89d599db04e1",
   "metadata": {},
   "outputs": [
    {
     "data": {
      "text/html": [
       "<html>\\(\\displaystyle \\left[\\left(0, 0\\right), \\left(x^{2} + 1, x^{2} + x\\right), \\left(x^{2} + 1, 1\\right), \\left(x^{2} + x, 0\\right), \\left(0, x^{2} + x + 1\\right), \\left(x + 1, 1\\right), \\left(x^{2} + x, x^{2} + x + 1\\right), \\left(x + 1, x^{2} + x\\right)\\right]\\)</html>"
      ],
      "text/latex": [
       "$\\displaystyle \\left[\\left(0, 0\\right), \\left(x^{2} + 1, x^{2} + x\\right), \\left(x^{2} + 1, 1\\right), \\left(x^{2} + x, 0\\right), \\left(0, x^{2} + x + 1\\right), \\left(x + 1, 1\\right), \\left(x^{2} + x, x^{2} + x + 1\\right), \\left(x + 1, x^{2} + x\\right)\\right]$"
      ],
      "text/plain": [
       "[(0, 0),\n",
       " (x^2 + 1, x^2 + x),\n",
       " (x^2 + 1, 1),\n",
       " (x^2 + x, 0),\n",
       " (0, x^2 + x + 1),\n",
       " (x + 1, 1),\n",
       " (x^2 + x, x^2 + x + 1),\n",
       " (x + 1, x^2 + x)]"
      ]
     },
     "execution_count": 37,
     "metadata": {},
     "output_type": "execute_result"
    }
   ],
   "source": [
    "curve"
   ]
  },
  {
   "cell_type": "code",
   "execution_count": 38,
   "id": "ff494de7-7715-4dc6-9671-fcaf43e2f795",
   "metadata": {},
   "outputs": [],
   "source": [
    "for a in F:\n",
    "    for k in range(2^N):\n",
    "        if (a^(2^k)).trace() != a.trace():\n",
    "            raise Exception"
   ]
  },
  {
   "cell_type": "code",
   "execution_count": 39,
   "id": "eefaac16-038b-491a-bb4a-c300256b4983",
   "metadata": {},
   "outputs": [
    {
     "name": "stdout",
     "output_type": "stream",
     "text": [
      "0\n",
      "x\n",
      "x^2\n",
      "x^2 + x\n"
     ]
    }
   ],
   "source": [
    "for k in F:\n",
    "    if k.trace() == 0:\n",
    "        print(k)"
   ]
  },
  {
   "cell_type": "code",
   "execution_count": 40,
   "id": "e2619744-de50-4c4a-a027-ed342c7af7f9",
   "metadata": {},
   "outputs": [
    {
     "name": "stdout",
     "output_type": "stream",
     "text": [
      "0\n",
      "x\n",
      "x^2\n",
      "x^2 + x\n"
     ]
    }
   ],
   "source": [
    "for k in F:\n",
    "    for b in F:\n",
    "        if k == b - b^2:\n",
    "            print(k)\n",
    "            break"
   ]
  },
  {
   "cell_type": "code",
   "execution_count": 41,
   "id": "2fe3f171-be1c-41a2-b80b-78800cda832a",
   "metadata": {},
   "outputs": [
    {
     "data": {
      "text/html": [
       "<html>\\(\\displaystyle \\left[\\left(0, 0\\right), \\left(x^{2} + 1, x^{2} + x\\right), \\left(x^{2} + 1, 1\\right), \\left(x^{2} + x, 0\\right), \\left(0, x^{2} + x + 1\\right), \\left(x + 1, 1\\right), \\left(x^{2} + x, x^{2} + x + 1\\right), \\left(x + 1, x^{2} + x\\right)\\right]\\)</html>"
      ],
      "text/latex": [
       "$\\displaystyle \\left[\\left(0, 0\\right), \\left(x^{2} + 1, x^{2} + x\\right), \\left(x^{2} + 1, 1\\right), \\left(x^{2} + x, 0\\right), \\left(0, x^{2} + x + 1\\right), \\left(x + 1, 1\\right), \\left(x^{2} + x, x^{2} + x + 1\\right), \\left(x + 1, x^{2} + x\\right)\\right]$"
      ],
      "text/plain": [
       "[(0, 0),\n",
       " (x^2 + 1, x^2 + x),\n",
       " (x^2 + 1, 1),\n",
       " (x^2 + x, 0),\n",
       " (0, x^2 + x + 1),\n",
       " (x + 1, 1),\n",
       " (x^2 + x, x^2 + x + 1),\n",
       " (x + 1, x^2 + x)]"
      ]
     },
     "execution_count": 41,
     "metadata": {},
     "output_type": "execute_result"
    }
   ],
   "source": [
    "curve"
   ]
  },
  {
   "cell_type": "markdown",
   "id": "7c4ae335-918b-49f6-a900-0432e9cd1028",
   "metadata": {},
   "source": [
    "$\\alpha(\\tau) = \\sigma \\tau^2 + \\tau^4$, so $\\alpha_0 = 0, \\alpha_1 = \\sigma$ and $\\alpha_2 = 1$. And for $\\beta(\\tau) = \\tau + \\sigma^5 \\tau^4$ we have $\\beta_0 = 1, \\beta_1 = 0$ and $\\beta_2 = \\sigma^5$."
   ]
  },
  {
   "cell_type": "code",
   "execution_count": 42,
   "id": "585dd8c0-6215-4153-a43f-fb82afccb210",
   "metadata": {},
   "outputs": [
    {
     "data": {
      "text/html": [
       "<html>\\(\\displaystyle \\left[0, x, 1\\right]\\)</html>"
      ],
      "text/latex": [
       "$\\displaystyle \\left[0, x, 1\\right]$"
      ],
      "text/plain": [
       "[0, x, 1]"
      ]
     },
     "execution_count": 42,
     "metadata": {},
     "output_type": "execute_result"
    }
   ],
   "source": [
    "alphas"
   ]
  },
  {
   "cell_type": "code",
   "execution_count": 43,
   "id": "d15a0bdd-49f9-4dd0-a7b7-f1b7eb0f2ba9",
   "metadata": {},
   "outputs": [
    {
     "data": {
      "text/html": [
       "<html>\\(\\displaystyle \\left[1, 0, x^{2} + x + 1\\right]\\)</html>"
      ],
      "text/latex": [
       "$\\displaystyle \\left[1, 0, x^{2} + x + 1\\right]$"
      ],
      "text/plain": [
       "[1, 0, x^2 + x + 1]"
      ]
     },
     "execution_count": 43,
     "metadata": {},
     "output_type": "execute_result"
    }
   ],
   "source": [
    "betas"
   ]
  },
  {
   "cell_type": "code",
   "execution_count": 44,
   "id": "fb7e2b5f-a883-47f6-b21d-472d170df9a2",
   "metadata": {},
   "outputs": [
    {
     "data": {
      "text/html": [
       "<html>\\(\\displaystyle \\left(x,\\,0,\\,x^{2} + 1\\right)\\)</html>"
      ],
      "text/latex": [
       "$\\displaystyle \\left(x,\\,0,\\,x^{2} + 1\\right)$"
      ],
      "text/plain": [
       "(x, 0, x^2 + 1)"
      ]
     },
     "execution_count": 44,
     "metadata": {},
     "output_type": "execute_result"
    }
   ],
   "source": [
    "vector(betas) * x"
   ]
  },
  {
   "cell_type": "code",
   "execution_count": 45,
   "id": "cec20e28-5cf7-4fb1-b337-d32d5791292c",
   "metadata": {},
   "outputs": [],
   "source": [
    "def Lidl(a,b):\n",
    "    s = vector(alphas) * b + vector(betas) * a\n",
    "    return [k^(2^(N-1-m)) for m, k in enumerate(s)]"
   ]
  },
  {
   "cell_type": "code",
   "execution_count": 46,
   "id": "5b569b97-58de-44ca-85da-09827a9baec1",
   "metadata": {},
   "outputs": [
    {
     "name": "stdout",
     "output_type": "stream",
     "text": [
      "[0, 0, 0]\n",
      "[x + 1, x + 1, 0]\n",
      "[x + 1, x^2, x^2 + x + 1]\n",
      "[x^2, 0, x^2]\n",
      "[0, x^2 + x + 1, x^2 + x + 1]\n",
      "[x^2 + x + 1, x^2, x + 1]\n",
      "[x^2, x^2 + x + 1, x + 1]\n",
      "[x^2 + x + 1, x + 1, x^2]\n"
     ]
    }
   ],
   "source": [
    "for a, b in curve:\n",
    "    print(Lidl(a,b))"
   ]
  },
  {
   "cell_type": "markdown",
   "id": "93788bb5-6768-412d-90d7-bf24ec362fb5",
   "metadata": {},
   "source": [
    "---\n",
    "\n",
    "Let $(a,b)$ be an arbitrary point. If $\\sum_{m=0}^{n-1} tr(\\alpha_m b - \\beta_m a) = 0$, is true that $\\sum_{m=0}^{n-1} tr\\left[(\\alpha_m b - \\beta_m a) \\tau^{p^m}\\right] = 0$ for all $\\tau \\in F$?"
   ]
  },
  {
   "cell_type": "code",
   "execution_count": 73,
   "id": "08894a35-d4c3-4fdb-abff-bcb8018a6658",
   "metadata": {},
   "outputs": [],
   "source": [
    "points_to_test = []\n",
    "for a in F:\n",
    "    for b in F:\n",
    "        if sum([(alphas[N-1-i] * b - betas[N-1-i] * a)^(2^i) for i in range(N)]) == 0:\n",
    "            points_to_test.append((a,b))"
   ]
  },
  {
   "cell_type": "code",
   "execution_count": 74,
   "id": "c7606602-1d74-48e4-8682-8a163e87b1c6",
   "metadata": {},
   "outputs": [
    {
     "data": {
      "text/html": [
       "<html>\\(\\displaystyle \\mathrm{True}\\)</html>"
      ],
      "text/latex": [
       "$\\displaystyle \\mathrm{True}$"
      ],
      "text/plain": [
       "True"
      ]
     },
     "execution_count": 74,
     "metadata": {},
     "output_type": "execute_result"
    }
   ],
   "source": [
    "set(points_to_test) == set(curve)"
   ]
  },
  {
   "cell_type": "code",
   "execution_count": 75,
   "id": "1f147be2-0dac-4710-9c4e-5dc6ac51deb4",
   "metadata": {},
   "outputs": [
    {
     "name": "stdout",
     "output_type": "stream",
     "text": [
      "True\n",
      "True\n",
      "True\n",
      "True\n",
      "True\n",
      "True\n",
      "True\n",
      "True\n"
     ]
    }
   ],
   "source": [
    "for a, b in points_to_test:\n",
    "    print(sum([(alphas[i] * b - betas[i] * a).trace() for i in range(N)]) == 0)"
   ]
  },
  {
   "cell_type": "code",
   "execution_count": 86,
   "id": "374ae4df-c35e-4492-8143-f692bfbcd7ed",
   "metadata": {},
   "outputs": [],
   "source": [
    "for a, b in points_to_test:\n",
    "    for tau in F:\n",
    "        s  = [((alphas[k] * b - betas[k] * a) * tau^(2^k)).trace() for k in range(N)]\n",
    "        if sum(s) != 0:\n",
    "            raise Exception"
   ]
  },
  {
   "cell_type": "markdown",
   "id": "667f3fbf-e895-4493-a896-1dc36f477407",
   "metadata": {},
   "source": [
    "So it computationally verifies that this is true. Therefore since \n",
    "$$\n",
    "0 = \\sum_{m=0}^{n-1} tr\\left[(\\alpha_m b - \\beta_m a) \\tau^{p^m}\\right]\n",
    "= tr(\\alpha(\\tau) b - \\beta(\\tau) a),\n",
    "$$\n",
    "holds for all $\\tau \\in F$, then the point must be in curve."
   ]
  },
  {
   "cell_type": "code",
   "execution_count": 87,
   "id": "22490e56-7b7f-497b-9d78-dfd75ec2ee39",
   "metadata": {},
   "outputs": [],
   "source": [
    "points_to_test = []\n",
    "for a in F:\n",
    "    for b in F:\n",
    "        if sum([(alphas[i] * b - betas[i] * a).trace() for i in range(N)]) == 0:\n",
    "            points_to_test.append((a,b))"
   ]
  },
  {
   "cell_type": "code",
   "execution_count": 88,
   "id": "fda36066-c2fd-4165-9167-c8b9c1cceaba",
   "metadata": {},
   "outputs": [
    {
     "data": {
      "text/html": [
       "<html>\\(\\displaystyle 32\\)</html>"
      ],
      "text/latex": [
       "$\\displaystyle 32$"
      ],
      "text/plain": [
       "32"
      ]
     },
     "execution_count": 88,
     "metadata": {},
     "output_type": "execute_result"
    }
   ],
   "source": [
    "len(points_to_test)"
   ]
  },
  {
   "cell_type": "code",
   "execution_count": 90,
   "id": "a992c302-14f2-4e43-870d-9bcefb4e25bc",
   "metadata": {},
   "outputs": [
    {
     "ename": "Exception",
     "evalue": "(0, x, x)",
     "output_type": "error",
     "traceback": [
      "\u001b[0;31m---------------------------------------------------------------------------\u001b[0m",
      "\u001b[0;31mException\u001b[0m                                 Traceback (most recent call last)",
      "Cell \u001b[0;32mIn[90], line 5\u001b[0m\n\u001b[1;32m      3\u001b[0m s  \u001b[38;5;241m=\u001b[39m [((alphas[k] \u001b[38;5;241m*\u001b[39m b \u001b[38;5;241m-\u001b[39m betas[k] \u001b[38;5;241m*\u001b[39m a) \u001b[38;5;241m*\u001b[39m tau\u001b[38;5;241m*\u001b[39m\u001b[38;5;241m*\u001b[39m(Integer(\u001b[38;5;241m2\u001b[39m)\u001b[38;5;241m*\u001b[39m\u001b[38;5;241m*\u001b[39mk))\u001b[38;5;241m.\u001b[39mtrace() \u001b[38;5;28;01mfor\u001b[39;00m k \u001b[38;5;129;01min\u001b[39;00m \u001b[38;5;28mrange\u001b[39m(N)]\n\u001b[1;32m      4\u001b[0m \u001b[38;5;28;01mif\u001b[39;00m \u001b[38;5;28msum\u001b[39m(s) \u001b[38;5;241m!=\u001b[39m Integer(\u001b[38;5;241m0\u001b[39m):\n\u001b[0;32m----> 5\u001b[0m     \u001b[38;5;28;01mraise\u001b[39;00m \u001b[38;5;167;01mException\u001b[39;00m(a,b,tau)\n",
      "\u001b[0;31mException\u001b[0m: (0, x, x)"
     ]
    }
   ],
   "source": [
    "for a, b in points_to_test:\n",
    "    for tau in F:\n",
    "        s  = [((alphas[k] * b - betas[k] * a) * tau^(2^k)).trace() for k in range(N)]\n",
    "        if sum(s) != 0:\n",
    "            raise Exception(a,b,tau)"
   ]
  },
  {
   "cell_type": "code",
   "execution_count": 98,
   "id": "b211b39b-5ced-4e04-9a56-ad42f26db5b5",
   "metadata": {},
   "outputs": [
    {
     "data": {
      "text/html": [
       "<html>\\(\\displaystyle \\mathrm{True}\\)</html>"
      ],
      "text/latex": [
       "$\\displaystyle \\mathrm{True}$"
      ],
      "text/plain": [
       "True"
      ]
     },
     "execution_count": 98,
     "metadata": {},
     "output_type": "execute_result"
    }
   ],
   "source": [
    "x.trace() == (x^8).trace()"
   ]
  },
  {
   "cell_type": "code",
   "execution_count": null,
   "id": "8ad35343-c96d-4adb-be9f-c524821c2bbc",
   "metadata": {},
   "outputs": [],
   "source": []
  }
 ],
 "metadata": {
  "kernelspec": {
   "display_name": "SageMath 9.8",
   "language": "sage",
   "name": "sagemath"
  },
  "language_info": {
   "codemirror_mode": {
    "name": "ipython",
    "version": 3
   },
   "file_extension": ".py",
   "mimetype": "text/x-python",
   "name": "python",
   "nbconvert_exporter": "python",
   "pygments_lexer": "ipython3",
   "version": "3.9.16"
  }
 },
 "nbformat": 4,
 "nbformat_minor": 5
}
