{
 "cells": [
  {
   "cell_type": "markdown",
   "id": "5e5fbf30-661a-4473-9680-1636cab2faa0",
   "metadata": {},
   "source": [
    "### Wigner function positivity"
   ]
  },
  {
   "cell_type": "code",
   "execution_count": 1,
   "id": "844b3cdd-4fff-417c-afe5-cf0ed1be4ce6",
   "metadata": {},
   "outputs": [],
   "source": [
    "from sage.all import *\n",
    "import numpy as np"
   ]
  },
  {
   "cell_type": "code",
   "execution_count": 2,
   "id": "33bf18c7-bb38-40e8-af6d-d427fb806247",
   "metadata": {},
   "outputs": [],
   "source": [
    "# Build the field, the Galois ring and the Teichmüller set\n",
    "\n",
    "p = 2\n",
    "N = 3 # number of qubits\n",
    "\n",
    "F = GF(p**N, 'x')\n",
    "x = F.gen()\n",
    "\n",
    "R = PolynomialRing(Integers(4), 't')\n",
    "t = R.gen()\n",
    "\n",
    "GR = R.quotient(t**3 + 2*t**2 + t - 1, 'w')\n",
    "w = GR.gen()\n",
    "\n",
    "# Get field element index\n",
    "def toInt(k):\n",
    "    return list(F).index(k)\n",
    "\n",
    "# Teichmüller set\n",
    "T = [GR(0)] + [w**j for j in range(1, 2**N - 1)] + [GR(1)]\n",
    "\n",
    "# Lift a field element to its Teichmüller representative\n",
    "def TeichLift(k):\n",
    "    return T[toInt(k)]\n",
    "hat = TeichLift # shortcut"
   ]
  },
  {
   "cell_type": "code",
   "execution_count": 3,
   "id": "82363709-490d-4649-85e3-42963908fe04",
   "metadata": {},
   "outputs": [],
   "source": [
    "# Now build the group character and the generalized Pauli operators\n",
    "\n",
    "def chi(k):\n",
    "    return np.exp(np.pi * 1j * int(k.trace()))\n",
    "\n",
    "def Proj(u, v=None):\n",
    "    if v is None:\n",
    "        v = u\n",
    "    return np.outer(u, v.conj().T)\n",
    "\n",
    "Id = np.eye(2**N, 2**N)\n",
    "\n",
    "def Fourier():\n",
    "    s = np.zeros((2**N, 2**N), dtype='complex128')\n",
    "    for i, a in enumerate(F):\n",
    "        for j, b in enumerate(F):\n",
    "            s[i,j] = chi(a * b) / np.sqrt(2**N)\n",
    "    return s\n",
    "FF = Fourier()\n",
    "\n",
    "def Z(a):\n",
    "    return np.diag([chi(a * k) for k in F])\n",
    "\n",
    "def X(b):\n",
    "    return FF.conj().T @ Z(b) @ FF\n",
    "\n",
    "# Sainz's phase uses the Galois ring trace down to Z_4. \n",
    "# SageMath handles the 2-adic decomposition to define the trace.\n",
    "def phi(a, b):\n",
    "    if not isinstance(a, type(w)):\n",
    "        a = hat(a)\n",
    "    if not isinstance(b, type(w)):\n",
    "        b = hat(b)\n",
    "\n",
    "    return (1j)**(int((a * b).trace()))\n",
    "\n",
    "def D(a, b):\n",
    "    return phi(a, b) * (Z(a) @ X(b))"
   ]
  },
  {
   "cell_type": "code",
   "execution_count": 4,
   "id": "a6a7403e-ec04-4047-b2cc-d2b67e664521",
   "metadata": {},
   "outputs": [],
   "source": [
    "# Definiion of the rotation operators for the Desarguesian spread.\n",
    "# The function gives the full basis corresponding to a given parameter \\mu.\n",
    "def V(mu):\n",
    "    s = np.zeros((2**N, 2**N), dtype='complex128')\n",
    "    for i, k in enumerate(F):\n",
    "        s += phi(k, mu * k) * Proj(FF[:, i])\n",
    "    return s\n",
    "\n",
    "# We can obtain the whole set of MUBs, ordered\n",
    "# by the field elements in the following way:\n",
    "mubs306 = [FF] + [V(mu) for mu in F]"
   ]
  },
  {
   "cell_type": "code",
   "execution_count": 6,
   "id": "4a68095c-4689-4d8d-b17e-494f0d48f072",
   "metadata": {},
   "outputs": [],
   "source": [
    "# Wootters kernel for Desarguesian spread\n",
    "def Wootters(a, b):\n",
    "    op = Proj(mubs306[0][:, toInt(a)]) # Fourier basis\n",
    "    for xi in F:\n",
    "        # for nu in F:\n",
    "        #     d = float(b == xi * a + nu)\n",
    "        #     op += d * Proj(mubs306[toInt(xi)+1][:,toInt(nu)])\n",
    "        nu = b - xi * a\n",
    "        op += Proj(mubs306[toInt(xi)+1][:,toInt(nu)])\n",
    "    return op - Id\n",
    "\n",
    "# Definition of the Wigner function\n",
    "def Wigner(state, a, b, kernel):\n",
    "    return (state @ kernel(a, b)).trace()\n",
    "\n",
    "def WignerMatrix(state, kernel):\n",
    "    W = np.zeros((2**N, 2**N))\n",
    "    for i, a in enumerate(F):\n",
    "        for j, b in enumerate(F):\n",
    "            W[i, j] = np.real(Wigner(state, a, b, kernel)) / (2**N)\n",
    "    return W\n",
    "\n",
    "# shortcut\n",
    "def WW(state, approx=True):\n",
    "    w = WignerMatrix(Proj(state), Wootters)\n",
    "    if approx:\n",
    "        return np.round(w, 3)\n",
    "    return w\n",
    "\n",
    "# Sum the Wigner function along a given curve\n",
    "def Prob(w, curve):\n",
    "    s = 0\n",
    "    for i, a in enumerate(F):\n",
    "        for j, b in enumerate(F):\n",
    "            s += w[i,j] * float(b == curve(a))\n",
    "    return s"
   ]
  },
  {
   "cell_type": "markdown",
   "id": "dd67696a-7153-40d6-8688-4d56e5bc0cc0",
   "metadata": {},
   "source": [
    "Now let's build the MUBs for the $(1,6,2)$ factorization curves. The curves are parametrized as \n",
    "$$f_\\mu(\\alpha) = \\mu \\alpha + \\alpha^2 + \\alpha^4,$$\n",
    "for $\\mu \\in F$."
   ]
  },
  {
   "cell_type": "code",
   "execution_count": 7,
   "id": "f2879069-1524-4bf7-a98f-0cc59bfafd46",
   "metadata": {},
   "outputs": [],
   "source": [
    "def f(mu):\n",
    "    return lambda k: mu * k + k**2 + k**4"
   ]
  },
  {
   "cell_type": "code",
   "execution_count": 8,
   "id": "3226e7b0-f968-437f-a740-c42a31e02acc",
   "metadata": {},
   "outputs": [
    {
     "ename": "Exception",
     "evalue": "Curves do not distribute!",
     "output_type": "error",
     "traceback": [
      "\u001b[0;31m---------------------------------------------------------------------------\u001b[0m",
      "\u001b[0;31mException\u001b[0m                                 Traceback (most recent call last)",
      "Cell \u001b[0;32mIn[8], line 6\u001b[0m\n\u001b[1;32m      4\u001b[0m \u001b[38;5;28;01mfor\u001b[39;00m b \u001b[38;5;129;01min\u001b[39;00m F:\n\u001b[1;32m      5\u001b[0m     \u001b[38;5;28;01mif\u001b[39;00m f(mu \u001b[38;5;241m+\u001b[39m a)(b) \u001b[38;5;241m!=\u001b[39m f(mu)(b) \u001b[38;5;241m+\u001b[39m f(a)(b):\n\u001b[0;32m----> 6\u001b[0m         \u001b[38;5;28;01mraise\u001b[39;00m \u001b[38;5;167;01mException\u001b[39;00m(\u001b[38;5;124m'\u001b[39m\u001b[38;5;124mCurves do not distribute!\u001b[39m\u001b[38;5;124m'\u001b[39m)\n",
      "\u001b[0;31mException\u001b[0m: Curves do not distribute!"
     ]
    }
   ],
   "source": [
    "# distributivity\n",
    "for mu in F:\n",
    "    for a in F:\n",
    "        for b in F:\n",
    "            if f(mu + a)(b) != f(mu)(b) + f(a)(b):\n",
    "                raise Exception('Curves do not distribute!')"
   ]
  },
  {
   "cell_type": "markdown",
   "id": "b6de4788-98ee-4572-b32b-7e807cfcc810",
   "metadata": {},
   "source": [
    "Note that this curves do *not* in fact define a presemifield as left distributivity does not hold if the the operation $\\circ$ is defined as $\\mu \\circ \\alpha = f_\\mu(\\alpha)$. How does this effect the proof? It does not seem to be problematic since the main part of the proof just requires that\n",
    "$$\\chi(\\alpha f_\\mu(\\xi)) = \\chi(\\xi f_\\mu(\\alpha)),$$\n",
    "which can be shown to be true."
   ]
  },
  {
   "cell_type": "code",
   "execution_count": 9,
   "id": "0e2790f8-8f7d-4742-9509-15f751827f7e",
   "metadata": {},
   "outputs": [],
   "source": [
    "for mu in F:\n",
    "    for a in F:\n",
    "        for xi in F:\n",
    "            if chi(a * f(mu)(xi)) != chi(xi * f(mu)(a)):\n",
    "                raise Exception('Property does not hold!')"
   ]
  },
  {
   "cell_type": "markdown",
   "id": "fd394650-f0c5-4a27-85ce-809dbdf031de",
   "metadata": {},
   "source": [
    "Now we will numerically prove (for a given example of curves) Sainz's proof of the positivity of the Wigner function for eigenstates built out of rotation operators. First we must obtain the bases."
   ]
  },
  {
   "cell_type": "code",
   "execution_count": 10,
   "id": "e7913e33-9cc6-4d98-afd1-589865795ecb",
   "metadata": {},
   "outputs": [],
   "source": [
    "def f_hat(mu):\n",
    "    return lambda k: hat(mu * k) + hat(k**2) + hat(k**4)"
   ]
  },
  {
   "cell_type": "code",
   "execution_count": 11,
   "id": "2b59ceb4-1289-4679-91fb-f97a209bf282",
   "metadata": {},
   "outputs": [],
   "source": [
    "def V2(mu):\n",
    "    s = np.zeros((2**N, 2**N), dtype='complex128')\n",
    "    for i, k in enumerate(F):\n",
    "        s += phi(k, f_hat(mu)(k)) * Proj(FF[:, i])\n",
    "    return s"
   ]
  },
  {
   "cell_type": "code",
   "execution_count": 12,
   "id": "ee56c764-8c0e-4a99-add8-7c867e30cbd1",
   "metadata": {},
   "outputs": [],
   "source": [
    "mubs162 = [FF] + [V2(mu) for mu in F]"
   ]
  },
  {
   "cell_type": "markdown",
   "id": "9ea47e56-9c35-46ad-908a-469117dd9427",
   "metadata": {},
   "source": [
    "Now we try to verify the equations (40) to (42). Equation (40) gives us\n",
    "$$\n",
    "|\\langle \\psi_{\\mu, \\beta - \\mu \\alpha} | \\psi_\\kappa^{f_\\nu} \\rangle|^2\n",
    "= \\frac{1}{d} \\sum_\\xi c_{\\xi, f_\\nu(\\xi)} c_{\\xi, \\mu\\xi}^* \\chi(\\xi(-\\kappa+\\beta-\\mu\\alpha))\n",
    "\\delta_{\\mu\\xi, f_\\nu(\\xi)}.\n",
    "$$"
   ]
  },
  {
   "cell_type": "code",
   "execution_count": 13,
   "id": "d181dc6c-775f-4ed4-b6fe-8ae267b1e9f9",
   "metadata": {},
   "outputs": [
    {
     "name": "stdout",
     "output_type": "stream",
     "text": [
      "Equation (40) is valid for all (a,b) and all curves!\n"
     ]
    }
   ],
   "source": [
    "# Verification of the equation (40).\n",
    "\n",
    "for alpha in F:\n",
    "    for beta in F:\n",
    "        for s in F:        \n",
    "            for k in F:\n",
    "                for mu in F:\n",
    "                    nu = beta - mu * alpha\n",
    "    \n",
    "                    psi_mu_nu = mubs306[toInt(mu)+1][:,toInt(nu)]\n",
    "                    psi_f_k = mubs162[toInt(s)+1][:,toInt(k)]\n",
    "    \n",
    "                    inp = abs(psi_mu_nu.conj() @ psi_f_k)**2\n",
    "    \n",
    "                    ss = 0\n",
    "                    for xi in F:\n",
    "                        c_xif = phi(xi, f_hat(s)(xi))\n",
    "                        c_ximu = phi(xi, xi * mu)\n",
    "                        char = chi(xi * (-k + nu))\n",
    "                        d = int(mu * xi == f(s)(xi))\n",
    "                        ss += c_xif * conjugate(c_ximu) * char * d / (2**N)\n",
    "                    \n",
    "                    if not np.isclose(inp, ss):\n",
    "                        raise Exception('No equality!', mu, nu, s, k)\n",
    "print('Equation (40) is valid for all (a,b) and all curves!')"
   ]
  },
  {
   "cell_type": "markdown",
   "id": "5e278cd8-9ac1-433f-8eda-ee1205d91463",
   "metadata": {},
   "source": [
    "The next, and crucial part of the proof is summing over the parameter $\\mu$, which means we find all of the straight lines that pass through the point $(\\alpha, \\beta)$. Since the last equation is verified for all possible combinations of parameters, simply summing the left and right hand side of equation (40) doesn't prove much. What we need to do is sum the left hand side and show that it is equal to the right hand side of equation (42):\n",
    "$$\n",
    "\\sum_\\mu |\\langle \\psi_{\\mu, \\beta - \\mu \\alpha} | \\psi_\\kappa^{f_\\nu} \\rangle|^2\n",
    "= 1 + \\frac{1}{d} \\sum_{\\xi \\in F^*} \\chi(\\xi(-\\kappa + \\beta - f_\\nu(\\alpha))),\n",
    "$$\n",
    "where $F^* = F \\setminus \\{0\\}$. This as we shall now see, seems to fail."
   ]
  },
  {
   "cell_type": "code",
   "execution_count": 119,
   "id": "0137e4bc-2b09-4979-b125-10db7ceab6bc",
   "metadata": {},
   "outputs": [
    {
     "name": "stdout",
     "output_type": "stream",
     "text": [
      "0.875 (0.875+0j) (1.875+0j) 0 0\n"
     ]
    },
    {
     "ename": "Exception",
     "evalue": "Sums do not match!",
     "output_type": "error",
     "traceback": [
      "\u001b[0;31m---------------------------------------------------------------------------\u001b[0m",
      "\u001b[0;31mException\u001b[0m                                 Traceback (most recent call last)",
      "Cell \u001b[0;32mIn[119], line 33\u001b[0m\n\u001b[1;32m     31\u001b[0m \u001b[38;5;28mprint\u001b[39m(np\u001b[38;5;241m.\u001b[39mround(inps, \u001b[38;5;241m4\u001b[39m), np\u001b[38;5;241m.\u001b[39mround(s40, \u001b[38;5;241m4\u001b[39m), np\u001b[38;5;241m.\u001b[39mround(s42, \u001b[38;5;241m4\u001b[39m), s, k)\n\u001b[1;32m     32\u001b[0m \u001b[38;5;28;01mif\u001b[39;00m \u001b[38;5;129;01mnot\u001b[39;00m np\u001b[38;5;241m.\u001b[39misclose(inps, s42):\n\u001b[0;32m---> 33\u001b[0m     \u001b[38;5;28;01mraise\u001b[39;00m \u001b[38;5;167;01mException\u001b[39;00m(\u001b[38;5;124m'\u001b[39m\u001b[38;5;124mSums do not match!\u001b[39m\u001b[38;5;124m'\u001b[39m)\n",
      "\u001b[0;31mException\u001b[0m: Sums do not match!"
     ]
    }
   ],
   "source": [
    "# Equation (42)\n",
    "\n",
    "alpha = x\n",
    "beta  = x\n",
    "for s in F:\n",
    "    for k in F:\n",
    "        inps = 0\n",
    "        s40 = 0\n",
    "        for mu in F:\n",
    "            nu = beta - mu * alpha\n",
    "\n",
    "            # Inner product sum\n",
    "            psi_mu_nu = mubs306[toInt(mu)+1][:,toInt(nu)]\n",
    "            psi_f_k = mubs162[toInt(s)+1][:,toInt(k)]\n",
    "\n",
    "            inps += np.abs(psi_mu_nu.conj() @ psi_f_k)**2\n",
    "\n",
    "            # Right hand side of (40)\n",
    "            for xi in F:\n",
    "                c_xif = phi(hat(xi), curve_hat(xi))\n",
    "                c_ximu = phi(xi, mu * xi)\n",
    "                char = chi(xi * (-k + beta - mu * alpha))\n",
    "                d = int(mu * xi == f(s)(xi))\n",
    "                s40 += c_xif * conjugate(c_ximu) * char * d / (2**N)\n",
    "\n",
    "        # Right hand side of (42)\n",
    "        s42 = 1\n",
    "        for xi in list(F)[1:]:\n",
    "            s42 += chi(xi * (k + beta + f(s)(alpha))) / (2**N)\n",
    "        \n",
    "        print(np.round(inps, 4), np.round(s40, 4), np.round(s42, 4), s, k)\n",
    "        if not np.isclose(inps, s42):\n",
    "            raise Exception('Sums do not match!')"
   ]
  },
  {
   "cell_type": "markdown",
   "id": "f6b36cf1-53a5-49bb-ab37-2ab818d0e021",
   "metadata": {},
   "source": [
    "So the sums already fail for $\\alpha = x$, $\\beta = x$ and $s = 0$, $k = 0$. Let's investigate what is going on. Equation (40) becomes\n",
    "$$\n",
    "\\sum_\\mu |\\langle \\psi_{\\mu, x - \\mu x}|\\psi_0^{f_0}\\rangle|^2\n",
    "= \n",
    "\\frac{1}{d} \\sum_\\mu \\sum_\\xi c_{\\xi, f_0(\\xi)} c_{\\xi, \\mu\\xi}^* \\chi(\\xi(x-\\mu x))\n",
    "\\delta_{\\mu\\xi, f_0(\\xi)},\n",
    "$$\n",
    "where $f_0(k) = k^2 + k^4$. Notice that \n",
    "$$\n",
    "\\mu \\xi = f_0(\\xi) = \\xi^2 + \\xi^4\n",
    "$$\n",
    "is satisfied trivially for $\\xi = 0$, and for $\\xi \\neq 0$ it is satisfied if and only if $\\mu = \\xi + \\xi^3$. "
   ]
  },
  {
   "cell_type": "code",
   "execution_count": 122,
   "id": "87b8bd70-9ef1-4778-ac35-5550661d940b",
   "metadata": {},
   "outputs": [
    {
     "data": {
      "text/plain": [
       "(0.875+0j)"
      ]
     },
     "execution_count": 122,
     "metadata": {},
     "output_type": "execute_result"
    }
   ],
   "source": [
    "s = 0\n",
    "for mu in F:\n",
    "    for xi in F:\n",
    "        c_xif = phi(hat(xi), f_hat(F(0))(xi))\n",
    "        c_ximu = phi(xi, mu * xi)\n",
    "        char = chi(xi * (x - mu * x))\n",
    "        d = float(mu * xi == f(F(0))(xi))\n",
    "        s += c_xif * conjugate(c_ximu) * char * d / (2**N)\n",
    "s"
   ]
  },
  {
   "cell_type": "markdown",
   "id": "30af1cfe-59a8-4ef9-bee2-9b46ffcbf3dd",
   "metadata": {},
   "source": [
    "So the actual sum is right, that means the formula in equation (42) has to be wrong in some way. This is probably down to the fact that $f_\\mu$ does not produce a presemifield operation."
   ]
  },
  {
   "cell_type": "code",
   "execution_count": 127,
   "id": "ca8aefe2-9e34-4974-a589-954b614177dc",
   "metadata": {},
   "outputs": [
    {
     "name": "stdout",
     "output_type": "stream",
     "text": [
      "0 , 0\n",
      "0 , 1\n",
      "x , 0\n",
      "x^2 , 0\n",
      "x + 1 , 0\n",
      "x + 1 , x^2 + 1\n",
      "x^2 + x , 0\n",
      "x^2 + x + 1 , 0\n",
      "x^2 + x + 1 , x + 1\n",
      "x^2 + 1 , 0\n",
      "x^2 + 1 , x^2 + x + 1\n",
      "1 , 0\n",
      "1 , x\n",
      "1 , x^2\n",
      "1 , x^2 + x\n"
     ]
    }
   ],
   "source": [
    "for mu in F:\n",
    "    for xi in F:\n",
    "        if mu * xi == f(F(0))(xi):\n",
    "            print(mu, ',', xi)"
   ]
  },
  {
   "cell_type": "markdown",
   "id": "66ed769b-a2f0-40f8-ac3a-93b10026540e",
   "metadata": {},
   "source": [
    "As we can see wehave 15 possible solutions to the equation $\\mu \\xi = f_0(\\xi)$. "
   ]
  },
  {
   "cell_type": "markdown",
   "id": "4a437b28-e043-492c-a411-a07049d07c3d",
   "metadata": {},
   "source": [
    "For $\\xi = 0$ we have 8 solutions. For $\\xi \\neq 0$, we have $\\mu = \\xi + \\xi^3 = \\xi^{-1} f_0(\\xi)$. If $f_0$ were one to one, then we would have a different value for $\\mu$, but as we can verify, this equation only has 5 unique solutions:"
   ]
  },
  {
   "cell_type": "code",
   "execution_count": 137,
   "id": "9f88d602-2ed7-4136-94fa-bf7c81696681",
   "metadata": {},
   "outputs": [
    {
     "data": {
      "text/plain": [
       "[(x, 1),\n",
       " (x^2, 1),\n",
       " (x + 1, x^2 + x + 1),\n",
       " (x^2 + x, 1),\n",
       " (x^2 + x + 1, x^2 + 1),\n",
       " (x^2 + 1, x + 1),\n",
       " (1, 0)]"
      ]
     },
     "execution_count": 137,
     "metadata": {},
     "output_type": "execute_result"
    }
   ],
   "source": [
    "[(xi, xi + xi**3) for xi in list(F)[1:]]"
   ]
  },
  {
   "cell_type": "markdown",
   "id": "6921ad7e-39ef-47ee-bec2-75d0ec55886c",
   "metadata": {},
   "source": [
    "And so we obtain:\n",
    "$$\n",
    "\\begin{align*}\n",
    "\\frac{1}{d} \\sum_\\mu \\sum_\\xi c_{\\xi, f_0(\\xi)} c_{\\xi, \\mu\\xi}^* \\chi(\\xi(x-\\mu x))\n",
    "\\delta_{\\mu\\xi, f_0(\\xi)}\n",
    "&= \\frac{1}{d} \\left(\n",
    "\\sum_\\mu c_{0, f_0(0)} c_{0, 0}^* \\chi(0) \\delta_{0, f_0(0)}\n",
    "+\n",
    "\\sum_\\mu \\sum_{\\xi \\in F^*} c_{\\xi, f_0(\\xi)} c_{\\xi, \\mu\\xi}^* \\chi(\\xi(x-\\mu x))\n",
    "\\delta_{\\mu\\xi, f_0(\\xi)}\n",
    "\\right) \\\\\n",
    "&= \\frac{1}{d} \\left(\n",
    "d\n",
    "+\n",
    "\\sum_{\\xi \\in F^*} c_{\\xi, f_0(\\xi)} c_{\\xi, (\\xi+\\xi^3)\\xi}^* \\chi(\\xi(x-(\\xi+\\xi^3) x))\n",
    "\\right) \n",
    "\\end{align*}\n",
    "$$"
   ]
  },
  {
   "cell_type": "code",
   "execution_count": 161,
   "id": "800b2448-4d60-40bf-b7ff-868088e824a3",
   "metadata": {},
   "outputs": [
    {
     "name": "stdout",
     "output_type": "stream",
     "text": [
      "0 | 0 | 0 (-1+0j) (1+0j) (1+0j)\n",
      "x + 1 | x + 1 | x^2 (1+0j) (-1+0j) (1+0j)\n",
      "x^2 + x + 1 | x^2 + x + 1 | x (1+0j) (-1+0j) (1+0j)\n",
      "x^2 + 1 | x^2 + 1 | x^2 + x (1+0j) (-1+0j) (1+0j)\n",
      "1 | 1 | x (-1+0j) (-1+0j) (1+0j)\n",
      "1 | 1 | x^2 (-1+0j) (-1+0j) (1+0j)\n",
      "1 | 1 | x^2 + x (-1+0j) (-1+0j) (1+0j)\n"
     ]
    },
    {
     "data": {
      "text/plain": [
       "((1+0j), (-0.125+0j))"
      ]
     },
     "execution_count": 161,
     "metadata": {},
     "output_type": "execute_result"
    }
   ],
   "source": [
    "t1 = 0\n",
    "t2 = 0\n",
    "for mu in F:\n",
    "    c_xif = phi(F(0), f_hat(F(0))(F(0)))\n",
    "    c_ximu = phi(F(0), F(0))\n",
    "    char = chi(F(0))\n",
    "    d = int(mu * F(0) == f(F(0))(F(0)))\n",
    "    t1 += c_xif * conjugate(c_ximu) * char * d / (2**N)\n",
    "    \n",
    "    for xi in list(F)[1:]:\n",
    "        c_xif = phi(xi, f_hat(F(0))(xi))\n",
    "        c_ximu = phi(xi, mu * xi)\n",
    "        char = chi(xi * (x - mu * x))\n",
    "        d = int(mu * xi == f(F(0))(xi))\n",
    "        if d:\n",
    "            print(mu, '|', xi+xi**3, '|', f(F(0))(xi), c_xif, c_ximu, char)\n",
    "        t2 += c_xif * conjugate(c_ximu) * char * d / (2**N)\n",
    "        \n",
    "(t1, t2)"
   ]
  },
  {
   "cell_type": "markdown",
   "id": "ee91c4ea-b6fb-4eff-96fe-33f339599cc2",
   "metadata": {},
   "source": [
    "I think the problem reduces to the value $c_{\\xi, \\mu \\xi}^*$ when $\\mu = \\xi + \\xi^3$. By definition we have\n",
    "$$\n",
    "\\begin{align*}\n",
    "\\Phi(\\xi, \\mu \\xi) &= \\omega[\\hat{\\xi} \\widehat{\\mu \\xi}] \\\\\n",
    "&= \\omega[\\hat\\xi \\widehat{\\xi+\\xi^3} \\hat \\xi] \\\\\n",
    "&= \\omega[\\hat\\xi (\\hat{\\xi}+\\hat{\\xi}^3 + \\sqrt{\\hat\\xi \\hat\\xi^3}) \\hat \\xi] \\\\\n",
    "&= \\omega[\\hat\\xi (\\hat{\\xi}^2+\\hat{\\xi}^4 + \\hat\\xi^3)]\n",
    "\\end{align*}\n",
    "$$\n",
    "But by lifting the operation we have:\n",
    "$$\n",
    "\\begin{align*}\n",
    "\\Phi(\\xi, f_0(\\xi)) &= \\omega[\\hat\\xi f_{\\hat 0}(\\hat\\xi)] \\\\\n",
    "&= \\omega[\\hat\\xi (\\hat\\xi^2 + \\hat\\xi^4)]\n",
    "\\end{align*}\n",
    "$$\n",
    "And so the rotation coefficients are distinct and therefore do not cancel out by conjugation."
   ]
  },
  {
   "cell_type": "code",
   "execution_count": 169,
   "id": "e270838a-1d9b-4bef-83bf-0f45e2309fe4",
   "metadata": {},
   "outputs": [
    {
     "name": "stdout",
     "output_type": "stream",
     "text": [
      "(1+0j) (1+0j)\n",
      "(-1+0j) (-1+0j)\n",
      "(-1+0j) (-1+0j)\n",
      "(-1+0j) (1+0j)\n",
      "(-1+0j) (-1+0j)\n",
      "(-1+0j) (1+0j)\n",
      "(-1+0j) (1+0j)\n",
      "(1+0j) (-1+0j)\n"
     ]
    }
   ],
   "source": [
    "for xi in F:\n",
    "    mu = xi + xi**3\n",
    "    print(phi(xi, mu * xi), phi(xi, f_hat(0)(xi)))"
   ]
  },
  {
   "cell_type": "markdown",
   "id": "11345894-8c65-4cf3-8fce-7b1191f64ccf",
   "metadata": {},
   "source": [
    "So the problem seems to stem from the fact that although $\\mu \\xi = f_\\nu(\\xi)$ for some $\\mu, \\nu$ and $\\xi$, the phase may still be distinct since we use $f_{\\hat\\nu}(\\hat\\xi)$ and not $\\widehat{f_\\nu(\\xi)}$ to define the curve phase."
   ]
  },
  {
   "cell_type": "code",
   "execution_count": 172,
   "id": "ee5b2fc6-a463-44ca-80ee-f2623c15da7c",
   "metadata": {},
   "outputs": [],
   "source": [
    "# Kernel and Wigner function testing\n",
    "\n",
    "from utils import checkPhasePointOperators\n",
    "\n",
    "class TestSuite:\n",
    "\n",
    "    def __init__(self):\n",
    "        pass\n",
    "\n",
    "    def run(self):\n",
    "        self.RotationOperators()\n",
    "        self.RotationCoefficients()\n",
    "        self.KernelProperties()\n",
    "        self.TomographicProperties()\n",
    "        self.Covariance()\n",
    "\n",
    "        print('All tests have passed successfully!')\n",
    "\n",
    "    def RotationOperators(self):\n",
    "        try:\n",
    "            for mu in F:\n",
    "                for alpha in F:\n",
    "                    v_op = V(mu)\n",
    "                    z_op = Z(alpha)\n",
    "                    rot_op = v_op @ z_op @ v_op.conj().T\n",
    "                    disp = D(alpha, mu * alpha)\n",
    "                    if not np.all(np.isclose(rot_op, disp)):\n",
    "                        raise Exception('Rotation failed!') \n",
    "        finally:\n",
    "            print('Rotation operators work!')\n",
    "\n",
    "    def RotationCoefficients(self):\n",
    "        try:\n",
    "            for mu in F:\n",
    "                for k in F:\n",
    "                    for a in F:\n",
    "                        c_k = phi(k, k * mu)\n",
    "                        c_a = phi(a, a * mu)\n",
    "                        c_ak = phi(k + a, (k + a) * mu)\n",
    "                        char = chi(mu * a * k)\n",
    "                        if not np.isclose(c_k * c_a, c_ak * char):\n",
    "                            raise Exception(\n",
    "                                'Recurrence relation does not hold!',\n",
    "                            mu, k, a)\n",
    "        finally:\n",
    "            print('Recurrence relation holds for chosen phase!')\n",
    "\n",
    "    def KernelProperties(self):\n",
    "        ops = []\n",
    "        for a in F:\n",
    "            for b in F:\n",
    "                ops.append(Wootters(a, b))\n",
    "        \n",
    "        checkPhasePointOperators(ops)\n",
    "        \n",
    "        if np.all(np.isclose(sum(ops) / 2**N, Id)):\n",
    "            print('Kernel is normalized!')\n",
    "\n",
    "    def TomographicProperties(self):\n",
    "        try:\n",
    "            # Vertical and horizontal lines\n",
    "            for nu in F:\n",
    "                op = np.zeros((2**N, 2**N), dtype='complex128')\n",
    "                for a in F:\n",
    "                    op += Wootters(a, nu)\n",
    "                if not np.all(np.isclose(op / 2**N, Proj(Id[:, toInt(nu)]))):\n",
    "                    raise Exception('Error with Z eigenbasis!')\n",
    "                \n",
    "                op = np.zeros((2**N, 2**N), dtype='complex128')\n",
    "                for b in F:\n",
    "                    op += Wootters(nu, b)\n",
    "                if not np.all(np.isclose(op / 2**N, Proj(FF[:, toInt(nu)]))):\n",
    "                    raise Exception('Error with X eigenbasis!')\n",
    "                \n",
    "            # Arbitrary curve\n",
    "            for mu in F:\n",
    "                for nu in F:\n",
    "                    op = np.zeros((2**N, 2**N), dtype='complex128')\n",
    "                    for a in F:\n",
    "                        for b in F:\n",
    "                            op += Wootters(a, b) * float(b == mu * a + nu)\n",
    "                    v = mubs306[toInt(mu)+1][:,toInt(nu)]\n",
    "                    if not np.all(np.isclose(op / 2**N, Proj(v))):\n",
    "                        raise Exception('Error with Z_a X_f(a) eigenbasis!')\n",
    "        finally:\n",
    "            print('Tomographic properties hold!')\n",
    "    \n",
    "    def Covariance(self):\n",
    "        try:\n",
    "            for k in F:\n",
    "                for l in F:\n",
    "                    for a in F:\n",
    "                        for b in F:\n",
    "                            disp = D(k, l)\n",
    "                            disp_op = disp @ Wootters(a, b) @ disp.conj().T\n",
    "                            if not np.all(np.isclose(disp_op, Wootters(a+k, b+l))):\n",
    "                                raise Exception('Not covariant', a, b, k, l)\n",
    "        finally:\n",
    "            print('Kernel is covariant!')\n",
    "\n",
    "    # Testing tomographic probabilities\n",
    "\n",
    "    def TestProb(self, state):\n",
    "        w = WW(state, approx=False)\n",
    "        for mu in F:\n",
    "            for nu in F:\n",
    "                wigner_prob = Prob(w, lambda t: mu * t + nu)\n",
    "                trans_prob  = abs(\n",
    "                    state.conj() @ mubs306[toInt(mu)+1][:,toInt(nu)]\n",
    "                )**2\n",
    "                if not np.isclose(wigner_prob, trans_prob):\n",
    "                    raise Exception(\n",
    "                        'Probabilities do not match!',\n",
    "                        mu, nu, wigner_prob, trans_prob\n",
    "                    )\n",
    "        print('Probabilities are correct!')"
   ]
  },
  {
   "cell_type": "code",
   "execution_count": 173,
   "id": "a21b037f-2fe0-460c-aaf0-ba73e79e97b1",
   "metadata": {},
   "outputs": [
    {
     "name": "stdout",
     "output_type": "stream",
     "text": [
      "Rotation operators work!\n",
      "Recurrence relation holds for chosen phase!\n",
      "Operators are self-adjoint and unit trace!\n",
      "Operators are orthonormal!\n",
      "Kernel is normalized!\n",
      "Tomographic properties hold!\n",
      "Kernel is covariant!\n",
      "All tests have passed successfully!\n"
     ]
    }
   ],
   "source": [
    "test = TestSuite()\n",
    "test.run()"
   ]
  },
  {
   "cell_type": "code",
   "execution_count": null,
   "id": "e45498da-08e6-466a-b066-8c6433a1a5d3",
   "metadata": {},
   "outputs": [],
   "source": []
  }
 ],
 "metadata": {
  "kernelspec": {
   "display_name": "Python 3 (ipykernel)",
   "language": "python",
   "name": "python3"
  },
  "language_info": {
   "codemirror_mode": {
    "name": "ipython",
    "version": 3
   },
   "file_extension": ".py",
   "mimetype": "text/x-python",
   "name": "python",
   "nbconvert_exporter": "python",
   "pygments_lexer": "ipython3",
   "version": "3.9.16"
  }
 },
 "nbformat": 4,
 "nbformat_minor": 5
}
