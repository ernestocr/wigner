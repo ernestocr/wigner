{
 "cells": [
  {
   "cell_type": "code",
   "execution_count": 160,
   "id": "9aad7d3a-c21c-41cc-bca6-2d7767bd2813",
   "metadata": {},
   "outputs": [],
   "source": [
    "%display latex"
   ]
  },
  {
   "cell_type": "code",
   "execution_count": 161,
   "id": "b52b7363-19d0-433c-b0a6-1a50bdbe7b82",
   "metadata": {},
   "outputs": [],
   "source": [
    "p = 3\n",
    "N = 2\n",
    "\n",
    "F = GF(p^N, 'x')\n",
    "x = F.gen()"
   ]
  },
  {
   "cell_type": "code",
   "execution_count": 185,
   "id": "341c0e53-276a-481e-bc25-f76d47a40430",
   "metadata": {},
   "outputs": [],
   "source": [
    "basis = [F(1), x + 1] # almost self-dual\n",
    "\n",
    "def toInt(k):\n",
    "    return list(F).index(k)\n",
    "\n",
    "def components(k):\n",
    "    return vector([(k * b).trace() for b in basis])\n",
    "\n",
    "omega = exp(2 * pi * I / p)\n",
    "chi = lambda k: omega^int(k.trace())"
   ]
  },
  {
   "cell_type": "code",
   "execution_count": 186,
   "id": "2aed6c0d-a5b4-4955-87b1-647b7767f6b0",
   "metadata": {},
   "outputs": [
    {
     "name": "stdout",
     "output_type": "stream",
     "text": [
      "1\t 1 \t-> 2\n",
      "1\t x + 1 \t-> 0\n",
      "x + 1\t 1 \t-> 0\n",
      "x + 1\t x + 1 \t-> 1\n"
     ]
    }
   ],
   "source": [
    "for bj in basis:\n",
    "    for bk in basis:\n",
    "        print(f'{bj}\\t {bk} \\t-> {(bj * bk).trace()}')"
   ]
  },
  {
   "cell_type": "code",
   "execution_count": 187,
   "id": "3dbd894c-6e17-4c59-8aa1-97db76fcd8d5",
   "metadata": {},
   "outputs": [],
   "source": [
    "def qj(j):\n",
    "    return (F(2) - F(1)) * int(j == 0) + F(1)"
   ]
  },
  {
   "cell_type": "code",
   "execution_count": 188,
   "id": "d671a343-be6e-492c-9829-9f3b1739843c",
   "metadata": {},
   "outputs": [],
   "source": [
    "# verify that it is almost self-dual\n",
    "for i, bi in enumerate(basis):\n",
    "    for j, bj in enumerate(basis):\n",
    "        lhs = (bi * bj).trace()\n",
    "        rhs = qj(j) * F(int(i == j))\n",
    "        if lhs != rhs:\n",
    "            raise Exception(bi, bj, lhs, rhs)"
   ]
  },
  {
   "cell_type": "code",
   "execution_count": 189,
   "id": "02d03233-5dd1-4e38-9ab0-148af255088f",
   "metadata": {},
   "outputs": [],
   "source": [
    "# is the char additive?\n",
    "for j in F:\n",
    "    for k in F:\n",
    "        if chi(j) * chi(k) != chi(j + k):\n",
    "            raise Exception"
   ]
  },
  {
   "cell_type": "code",
   "execution_count": 190,
   "id": "7b2313dd-1bac-48a5-9982-f0e82000d946",
   "metadata": {},
   "outputs": [],
   "source": [
    "# factorization of the character \n",
    "for a in F:\n",
    "    for b in F:\n",
    "        ais = components(a)\n",
    "        bis = components(b)\n",
    "        lhs = chi(a * b)\n",
    "        rhs = 1\n",
    "        for i in range(N):\n",
    "            rhs *= omega^int(ais[i] * bis[i] * qj(i))\n",
    "        if lhs != rhs:\n",
    "            print(f'{lhs}\\t {rhs}')"
   ]
  },
  {
   "cell_type": "code",
   "execution_count": 191,
   "id": "697bfaf3-6da8-4f36-ace0-f7c57ded76bc",
   "metadata": {},
   "outputs": [],
   "source": [
    "def Phi(a, b):\n",
    "    return chi(-F(2)^-1 * a * b)"
   ]
  },
  {
   "cell_type": "code",
   "execution_count": 192,
   "id": "cdd23513-7437-4743-89ee-6575050a92c3",
   "metadata": {},
   "outputs": [],
   "source": [
    "def DPS(curve):\n",
    "    ps = zero_matrix(SR, p^N, p^N)\n",
    "    ps[0,:] = 1\n",
    "    for mu in F:\n",
    "        for j, a in enumerate(F):\n",
    "            b = curve(mu)(a)\n",
    "            ps[j, toInt(b)] = Phi(a, b)\n",
    "    return ps"
   ]
  },
  {
   "cell_type": "code",
   "execution_count": 193,
   "id": "3f2ea2fc-36ab-484e-86db-96d3afb1e1b8",
   "metadata": {},
   "outputs": [],
   "source": [
    "def ray(mu):\n",
    "    return lambda k: mu * k"
   ]
  },
  {
   "cell_type": "code",
   "execution_count": 194,
   "id": "5df5d1b0-5606-41e0-a439-d5054982851f",
   "metadata": {},
   "outputs": [
    {
     "data": {
      "text/html": [
       "<html>\\(\\displaystyle \\left(\\begin{array}{rrrrrrrrr}\n",
       "1 & 1 & 1 & 1 & 1 & 1 & 1 & 1 & 1 \\\\\n",
       "1 & 1 & \\frac{1}{2} i \\, \\sqrt{3} - \\frac{1}{2} & \\frac{1}{2} i \\, \\sqrt{3} - \\frac{1}{2} & {\\left(\\frac{1}{2} i \\, \\sqrt{3} - \\frac{1}{2}\\right)}^{2} & 1 & {\\left(\\frac{1}{2} i \\, \\sqrt{3} - \\frac{1}{2}\\right)}^{2} & {\\left(\\frac{1}{2} i \\, \\sqrt{3} - \\frac{1}{2}\\right)}^{2} & \\frac{1}{2} i \\, \\sqrt{3} - \\frac{1}{2} \\\\\n",
       "1 & \\frac{1}{2} i \\, \\sqrt{3} - \\frac{1}{2} & \\frac{1}{2} i \\, \\sqrt{3} - \\frac{1}{2} & {\\left(\\frac{1}{2} i \\, \\sqrt{3} - \\frac{1}{2}\\right)}^{2} & 1 & {\\left(\\frac{1}{2} i \\, \\sqrt{3} - \\frac{1}{2}\\right)}^{2} & {\\left(\\frac{1}{2} i \\, \\sqrt{3} - \\frac{1}{2}\\right)}^{2} & \\frac{1}{2} i \\, \\sqrt{3} - \\frac{1}{2} & 1 \\\\\n",
       "1 & \\frac{1}{2} i \\, \\sqrt{3} - \\frac{1}{2} & {\\left(\\frac{1}{2} i \\, \\sqrt{3} - \\frac{1}{2}\\right)}^{2} & 1 & {\\left(\\frac{1}{2} i \\, \\sqrt{3} - \\frac{1}{2}\\right)}^{2} & {\\left(\\frac{1}{2} i \\, \\sqrt{3} - \\frac{1}{2}\\right)}^{2} & \\frac{1}{2} i \\, \\sqrt{3} - \\frac{1}{2} & 1 & \\frac{1}{2} i \\, \\sqrt{3} - \\frac{1}{2} \\\\\n",
       "1 & {\\left(\\frac{1}{2} i \\, \\sqrt{3} - \\frac{1}{2}\\right)}^{2} & 1 & {\\left(\\frac{1}{2} i \\, \\sqrt{3} - \\frac{1}{2}\\right)}^{2} & {\\left(\\frac{1}{2} i \\, \\sqrt{3} - \\frac{1}{2}\\right)}^{2} & \\frac{1}{2} i \\, \\sqrt{3} - \\frac{1}{2} & 1 & \\frac{1}{2} i \\, \\sqrt{3} - \\frac{1}{2} & \\frac{1}{2} i \\, \\sqrt{3} - \\frac{1}{2} \\\\\n",
       "1 & 1 & {\\left(\\frac{1}{2} i \\, \\sqrt{3} - \\frac{1}{2}\\right)}^{2} & {\\left(\\frac{1}{2} i \\, \\sqrt{3} - \\frac{1}{2}\\right)}^{2} & \\frac{1}{2} i \\, \\sqrt{3} - \\frac{1}{2} & 1 & \\frac{1}{2} i \\, \\sqrt{3} - \\frac{1}{2} & \\frac{1}{2} i \\, \\sqrt{3} - \\frac{1}{2} & {\\left(\\frac{1}{2} i \\, \\sqrt{3} - \\frac{1}{2}\\right)}^{2} \\\\\n",
       "1 & {\\left(\\frac{1}{2} i \\, \\sqrt{3} - \\frac{1}{2}\\right)}^{2} & {\\left(\\frac{1}{2} i \\, \\sqrt{3} - \\frac{1}{2}\\right)}^{2} & \\frac{1}{2} i \\, \\sqrt{3} - \\frac{1}{2} & 1 & \\frac{1}{2} i \\, \\sqrt{3} - \\frac{1}{2} & \\frac{1}{2} i \\, \\sqrt{3} - \\frac{1}{2} & {\\left(\\frac{1}{2} i \\, \\sqrt{3} - \\frac{1}{2}\\right)}^{2} & 1 \\\\\n",
       "1 & {\\left(\\frac{1}{2} i \\, \\sqrt{3} - \\frac{1}{2}\\right)}^{2} & \\frac{1}{2} i \\, \\sqrt{3} - \\frac{1}{2} & 1 & \\frac{1}{2} i \\, \\sqrt{3} - \\frac{1}{2} & \\frac{1}{2} i \\, \\sqrt{3} - \\frac{1}{2} & {\\left(\\frac{1}{2} i \\, \\sqrt{3} - \\frac{1}{2}\\right)}^{2} & 1 & {\\left(\\frac{1}{2} i \\, \\sqrt{3} - \\frac{1}{2}\\right)}^{2} \\\\\n",
       "1 & \\frac{1}{2} i \\, \\sqrt{3} - \\frac{1}{2} & 1 & \\frac{1}{2} i \\, \\sqrt{3} - \\frac{1}{2} & \\frac{1}{2} i \\, \\sqrt{3} - \\frac{1}{2} & {\\left(\\frac{1}{2} i \\, \\sqrt{3} - \\frac{1}{2}\\right)}^{2} & 1 & {\\left(\\frac{1}{2} i \\, \\sqrt{3} - \\frac{1}{2}\\right)}^{2} & {\\left(\\frac{1}{2} i \\, \\sqrt{3} - \\frac{1}{2}\\right)}^{2}\n",
       "\\end{array}\\right)\\)</html>"
      ],
      "text/latex": [
       "$\\displaystyle \\left(\\begin{array}{rrrrrrrrr}\n",
       "1 & 1 & 1 & 1 & 1 & 1 & 1 & 1 & 1 \\\\\n",
       "1 & 1 & \\frac{1}{2} i \\, \\sqrt{3} - \\frac{1}{2} & \\frac{1}{2} i \\, \\sqrt{3} - \\frac{1}{2} & {\\left(\\frac{1}{2} i \\, \\sqrt{3} - \\frac{1}{2}\\right)}^{2} & 1 & {\\left(\\frac{1}{2} i \\, \\sqrt{3} - \\frac{1}{2}\\right)}^{2} & {\\left(\\frac{1}{2} i \\, \\sqrt{3} - \\frac{1}{2}\\right)}^{2} & \\frac{1}{2} i \\, \\sqrt{3} - \\frac{1}{2} \\\\\n",
       "1 & \\frac{1}{2} i \\, \\sqrt{3} - \\frac{1}{2} & \\frac{1}{2} i \\, \\sqrt{3} - \\frac{1}{2} & {\\left(\\frac{1}{2} i \\, \\sqrt{3} - \\frac{1}{2}\\right)}^{2} & 1 & {\\left(\\frac{1}{2} i \\, \\sqrt{3} - \\frac{1}{2}\\right)}^{2} & {\\left(\\frac{1}{2} i \\, \\sqrt{3} - \\frac{1}{2}\\right)}^{2} & \\frac{1}{2} i \\, \\sqrt{3} - \\frac{1}{2} & 1 \\\\\n",
       "1 & \\frac{1}{2} i \\, \\sqrt{3} - \\frac{1}{2} & {\\left(\\frac{1}{2} i \\, \\sqrt{3} - \\frac{1}{2}\\right)}^{2} & 1 & {\\left(\\frac{1}{2} i \\, \\sqrt{3} - \\frac{1}{2}\\right)}^{2} & {\\left(\\frac{1}{2} i \\, \\sqrt{3} - \\frac{1}{2}\\right)}^{2} & \\frac{1}{2} i \\, \\sqrt{3} - \\frac{1}{2} & 1 & \\frac{1}{2} i \\, \\sqrt{3} - \\frac{1}{2} \\\\\n",
       "1 & {\\left(\\frac{1}{2} i \\, \\sqrt{3} - \\frac{1}{2}\\right)}^{2} & 1 & {\\left(\\frac{1}{2} i \\, \\sqrt{3} - \\frac{1}{2}\\right)}^{2} & {\\left(\\frac{1}{2} i \\, \\sqrt{3} - \\frac{1}{2}\\right)}^{2} & \\frac{1}{2} i \\, \\sqrt{3} - \\frac{1}{2} & 1 & \\frac{1}{2} i \\, \\sqrt{3} - \\frac{1}{2} & \\frac{1}{2} i \\, \\sqrt{3} - \\frac{1}{2} \\\\\n",
       "1 & 1 & {\\left(\\frac{1}{2} i \\, \\sqrt{3} - \\frac{1}{2}\\right)}^{2} & {\\left(\\frac{1}{2} i \\, \\sqrt{3} - \\frac{1}{2}\\right)}^{2} & \\frac{1}{2} i \\, \\sqrt{3} - \\frac{1}{2} & 1 & \\frac{1}{2} i \\, \\sqrt{3} - \\frac{1}{2} & \\frac{1}{2} i \\, \\sqrt{3} - \\frac{1}{2} & {\\left(\\frac{1}{2} i \\, \\sqrt{3} - \\frac{1}{2}\\right)}^{2} \\\\\n",
       "1 & {\\left(\\frac{1}{2} i \\, \\sqrt{3} - \\frac{1}{2}\\right)}^{2} & {\\left(\\frac{1}{2} i \\, \\sqrt{3} - \\frac{1}{2}\\right)}^{2} & \\frac{1}{2} i \\, \\sqrt{3} - \\frac{1}{2} & 1 & \\frac{1}{2} i \\, \\sqrt{3} - \\frac{1}{2} & \\frac{1}{2} i \\, \\sqrt{3} - \\frac{1}{2} & {\\left(\\frac{1}{2} i \\, \\sqrt{3} - \\frac{1}{2}\\right)}^{2} & 1 \\\\\n",
       "1 & {\\left(\\frac{1}{2} i \\, \\sqrt{3} - \\frac{1}{2}\\right)}^{2} & \\frac{1}{2} i \\, \\sqrt{3} - \\frac{1}{2} & 1 & \\frac{1}{2} i \\, \\sqrt{3} - \\frac{1}{2} & \\frac{1}{2} i \\, \\sqrt{3} - \\frac{1}{2} & {\\left(\\frac{1}{2} i \\, \\sqrt{3} - \\frac{1}{2}\\right)}^{2} & 1 & {\\left(\\frac{1}{2} i \\, \\sqrt{3} - \\frac{1}{2}\\right)}^{2} \\\\\n",
       "1 & \\frac{1}{2} i \\, \\sqrt{3} - \\frac{1}{2} & 1 & \\frac{1}{2} i \\, \\sqrt{3} - \\frac{1}{2} & \\frac{1}{2} i \\, \\sqrt{3} - \\frac{1}{2} & {\\left(\\frac{1}{2} i \\, \\sqrt{3} - \\frac{1}{2}\\right)}^{2} & 1 & {\\left(\\frac{1}{2} i \\, \\sqrt{3} - \\frac{1}{2}\\right)}^{2} & {\\left(\\frac{1}{2} i \\, \\sqrt{3} - \\frac{1}{2}\\right)}^{2}\n",
       "\\end{array}\\right)$"
      ],
      "text/plain": [
       "[                      1                       1                       1                       1                       1                       1                       1                       1                       1]\n",
       "[                      1                       1     1/2*I*sqrt(3) - 1/2     1/2*I*sqrt(3) - 1/2 (1/2*I*sqrt(3) - 1/2)^2                       1 (1/2*I*sqrt(3) - 1/2)^2 (1/2*I*sqrt(3) - 1/2)^2     1/2*I*sqrt(3) - 1/2]\n",
       "[                      1     1/2*I*sqrt(3) - 1/2     1/2*I*sqrt(3) - 1/2 (1/2*I*sqrt(3) - 1/2)^2                       1 (1/2*I*sqrt(3) - 1/2)^2 (1/2*I*sqrt(3) - 1/2)^2     1/2*I*sqrt(3) - 1/2                       1]\n",
       "[                      1     1/2*I*sqrt(3) - 1/2 (1/2*I*sqrt(3) - 1/2)^2                       1 (1/2*I*sqrt(3) - 1/2)^2 (1/2*I*sqrt(3) - 1/2)^2     1/2*I*sqrt(3) - 1/2                       1     1/2*I*sqrt(3) - 1/2]\n",
       "[                      1 (1/2*I*sqrt(3) - 1/2)^2                       1 (1/2*I*sqrt(3) - 1/2)^2 (1/2*I*sqrt(3) - 1/2)^2     1/2*I*sqrt(3) - 1/2                       1     1/2*I*sqrt(3) - 1/2     1/2*I*sqrt(3) - 1/2]\n",
       "[                      1                       1 (1/2*I*sqrt(3) - 1/2)^2 (1/2*I*sqrt(3) - 1/2)^2     1/2*I*sqrt(3) - 1/2                       1     1/2*I*sqrt(3) - 1/2     1/2*I*sqrt(3) - 1/2 (1/2*I*sqrt(3) - 1/2)^2]\n",
       "[                      1 (1/2*I*sqrt(3) - 1/2)^2 (1/2*I*sqrt(3) - 1/2)^2     1/2*I*sqrt(3) - 1/2                       1     1/2*I*sqrt(3) - 1/2     1/2*I*sqrt(3) - 1/2 (1/2*I*sqrt(3) - 1/2)^2                       1]\n",
       "[                      1 (1/2*I*sqrt(3) - 1/2)^2     1/2*I*sqrt(3) - 1/2                       1     1/2*I*sqrt(3) - 1/2     1/2*I*sqrt(3) - 1/2 (1/2*I*sqrt(3) - 1/2)^2                       1 (1/2*I*sqrt(3) - 1/2)^2]\n",
       "[                      1     1/2*I*sqrt(3) - 1/2                       1     1/2*I*sqrt(3) - 1/2     1/2*I*sqrt(3) - 1/2 (1/2*I*sqrt(3) - 1/2)^2                       1 (1/2*I*sqrt(3) - 1/2)^2 (1/2*I*sqrt(3) - 1/2)^2]"
      ]
     },
     "execution_count": 194,
     "metadata": {},
     "output_type": "execute_result"
    }
   ],
   "source": [
    "ps = DPS(ray)\n",
    "ps"
   ]
  },
  {
   "cell_type": "code",
   "execution_count": 176,
   "id": "94848a99-bbce-41be-8bb7-ec34124b7c6b",
   "metadata": {},
   "outputs": [
    {
     "data": {
      "text/html": [
       "<html>\\(\\displaystyle \\left(\\begin{array}{rrrrrrrrr}\n",
       "1 & 1 & 1 & 1 & 1 & 1 & 1 & 1 & 1 \\\\\n",
       "1 & 1 & \\omega & \\omega & \\omega^{2} & 1 & \\omega^{2} & \\omega^{2} & \\omega \\\\\n",
       "1 & \\omega & \\omega & \\omega^{2} & 1 & \\omega^{2} & \\omega^{2} & \\omega & 1 \\\\\n",
       "1 & \\omega & \\omega^{2} & 1 & \\omega^{2} & \\omega^{2} & \\omega & 1 & \\omega \\\\\n",
       "1 & \\omega^{2} & 1 & \\omega^{2} & \\omega^{2} & \\omega & 1 & \\omega & \\omega \\\\\n",
       "1 & 1 & \\omega^{2} & \\omega^{2} & \\omega & 1 & \\omega & \\omega & \\omega^{2} \\\\\n",
       "1 & \\omega^{2} & \\omega^{2} & \\omega & 1 & \\omega & \\omega & \\omega^{2} & 1 \\\\\n",
       "1 & \\omega^{2} & \\omega & 1 & \\omega & \\omega & \\omega^{2} & 1 & \\omega^{2} \\\\\n",
       "1 & \\omega & 1 & \\omega & \\omega & \\omega^{2} & 1 & \\omega^{2} & \\omega^{2}\n",
       "\\end{array}\\right)\\)</html>"
      ],
      "text/latex": [
       "$\\displaystyle \\left(\\begin{array}{rrrrrrrrr}\n",
       "1 & 1 & 1 & 1 & 1 & 1 & 1 & 1 & 1 \\\\\n",
       "1 & 1 & \\omega & \\omega & \\omega^{2} & 1 & \\omega^{2} & \\omega^{2} & \\omega \\\\\n",
       "1 & \\omega & \\omega & \\omega^{2} & 1 & \\omega^{2} & \\omega^{2} & \\omega & 1 \\\\\n",
       "1 & \\omega & \\omega^{2} & 1 & \\omega^{2} & \\omega^{2} & \\omega & 1 & \\omega \\\\\n",
       "1 & \\omega^{2} & 1 & \\omega^{2} & \\omega^{2} & \\omega & 1 & \\omega & \\omega \\\\\n",
       "1 & 1 & \\omega^{2} & \\omega^{2} & \\omega & 1 & \\omega & \\omega & \\omega^{2} \\\\\n",
       "1 & \\omega^{2} & \\omega^{2} & \\omega & 1 & \\omega & \\omega & \\omega^{2} & 1 \\\\\n",
       "1 & \\omega^{2} & \\omega & 1 & \\omega & \\omega & \\omega^{2} & 1 & \\omega^{2} \\\\\n",
       "1 & \\omega & 1 & \\omega & \\omega & \\omega^{2} & 1 & \\omega^{2} & \\omega^{2}\n",
       "\\end{array}\\right)$"
      ],
      "text/plain": [
       "[      1       1       1       1       1       1       1       1       1]\n",
       "[      1       1   omega   omega omega^2       1 omega^2 omega^2   omega]\n",
       "[      1   omega   omega omega^2       1 omega^2 omega^2   omega       1]\n",
       "[      1   omega omega^2       1 omega^2 omega^2   omega       1   omega]\n",
       "[      1 omega^2       1 omega^2 omega^2   omega       1   omega   omega]\n",
       "[      1       1 omega^2 omega^2   omega       1   omega   omega omega^2]\n",
       "[      1 omega^2 omega^2   omega       1   omega   omega omega^2       1]\n",
       "[      1 omega^2   omega       1   omega   omega omega^2       1 omega^2]\n",
       "[      1   omega       1   omega   omega omega^2       1 omega^2 omega^2]"
      ]
     },
     "execution_count": 176,
     "metadata": {},
     "output_type": "execute_result"
    }
   ],
   "source": [
    "w = var('omega')\n",
    "\n",
    "ps = DPS(ray)\n",
    "ps"
   ]
  },
  {
   "cell_type": "code",
   "execution_count": 206,
   "id": "f00bd75d-0a05-4021-a8ce-118c05141480",
   "metadata": {},
   "outputs": [],
   "source": [
    "# verify that the phase satisfies the recurrence relation\n",
    "def VerifyRecRel(curve=ray):\n",
    "    for mu in F:\n",
    "        for t1 in F:\n",
    "            for t2 in F:\n",
    "                lhs = Phi(t1, curve(mu)(t1)) * Phi(t2, curve(mu)(t2))\n",
    "                rhs = Phi(t1 + t2, curve(mu)(t1 + t2)) * chi(t2 * curve(mu)(t1))\n",
    "                if lhs != rhs:\n",
    "                    raise Exception\n",
    "    return True"
   ]
  },
  {
   "cell_type": "code",
   "execution_count": 207,
   "id": "abd99716-ca10-4b11-8807-90b1e3e7c15e",
   "metadata": {},
   "outputs": [
    {
     "data": {
      "text/html": [
       "<html>\\(\\displaystyle \\mathrm{True}\\)</html>"
      ],
      "text/latex": [
       "$\\displaystyle \\mathrm{True}$"
      ],
      "text/plain": [
       "True"
      ]
     },
     "execution_count": 207,
     "metadata": {},
     "output_type": "execute_result"
    }
   ],
   "source": [
    "VerifyRecRel(ray)"
   ]
  },
  {
   "cell_type": "code",
   "execution_count": null,
   "id": "872ce6ec-edc3-4310-9b0a-7abfea2164eb",
   "metadata": {},
   "outputs": [],
   "source": []
  }
 ],
 "metadata": {
  "kernelspec": {
   "display_name": "SageMath 9.8",
   "language": "sage",
   "name": "sagemath"
  },
  "language_info": {
   "codemirror_mode": {
    "name": "ipython",
    "version": 3
   },
   "file_extension": ".py",
   "mimetype": "text/x-python",
   "name": "python",
   "nbconvert_exporter": "python",
   "pygments_lexer": "ipython3",
   "version": "3.9.16"
  }
 },
 "nbformat": 4,
 "nbformat_minor": 5
}
