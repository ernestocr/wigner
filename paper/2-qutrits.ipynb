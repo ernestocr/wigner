{
 "cells": [
  {
   "cell_type": "code",
   "execution_count": 1,
   "id": "9aad7d3a-c21c-41cc-bca6-2d7767bd2813",
   "metadata": {},
   "outputs": [],
   "source": [
    "%display latex"
   ]
  },
  {
   "cell_type": "code",
   "execution_count": 2,
   "id": "b52b7363-19d0-433c-b0a6-1a50bdbe7b82",
   "metadata": {},
   "outputs": [],
   "source": [
    "p = 3\n",
    "N = 2\n",
    "\n",
    "F = GF(p^N, 'x')\n",
    "x = F.gen()"
   ]
  },
  {
   "cell_type": "code",
   "execution_count": 3,
   "id": "341c0e53-276a-481e-bc25-f76d47a40430",
   "metadata": {},
   "outputs": [],
   "source": [
    "basis = [F(1), x + 1] # almost self-dual\n",
    "\n",
    "def toInt(k):\n",
    "    return list(F).index(k)\n",
    "\n",
    "def components(k):\n",
    "    return vector([(k * b).trace() for b in basis])\n",
    "\n",
    "omega = exp(2 * pi * I / p)\n",
    "chi = lambda k: omega^int(k.trace())"
   ]
  },
  {
   "cell_type": "code",
   "execution_count": 4,
   "id": "2aed6c0d-a5b4-4955-87b1-647b7767f6b0",
   "metadata": {},
   "outputs": [
    {
     "name": "stdout",
     "output_type": "stream",
     "text": [
      "1\t 1 \t-> 2\n",
      "1\t x + 1 \t-> 0\n",
      "x + 1\t 1 \t-> 0\n",
      "x + 1\t x + 1 \t-> 1\n"
     ]
    }
   ],
   "source": [
    "for bj in basis:\n",
    "    for bk in basis:\n",
    "        print(f'{bj}\\t {bk} \\t-> {(bj * bk).trace()}')"
   ]
  },
  {
   "cell_type": "code",
   "execution_count": 5,
   "id": "3dbd894c-6e17-4c59-8aa1-97db76fcd8d5",
   "metadata": {},
   "outputs": [],
   "source": [
    "def qj(j):\n",
    "    return (F(2) - F(1)) * int(j == 0) + F(1)"
   ]
  },
  {
   "cell_type": "code",
   "execution_count": 6,
   "id": "d671a343-be6e-492c-9829-9f3b1739843c",
   "metadata": {},
   "outputs": [],
   "source": [
    "# verify that it is almost self-dual\n",
    "for i, bi in enumerate(basis):\n",
    "    for j, bj in enumerate(basis):\n",
    "        lhs = (bi * bj).trace()\n",
    "        rhs = qj(j) * F(int(i == j))\n",
    "        if lhs != rhs:\n",
    "            raise Exception(bi, bj, lhs, rhs)"
   ]
  },
  {
   "cell_type": "code",
   "execution_count": 7,
   "id": "02d03233-5dd1-4e38-9ab0-148af255088f",
   "metadata": {},
   "outputs": [],
   "source": [
    "# is the char additive?\n",
    "for j in F:\n",
    "    for k in F:\n",
    "        if chi(j) * chi(k) != chi(j + k):\n",
    "            raise Exception"
   ]
  },
  {
   "cell_type": "code",
   "execution_count": 8,
   "id": "7b2313dd-1bac-48a5-9982-f0e82000d946",
   "metadata": {},
   "outputs": [],
   "source": [
    "# factorization of the character \n",
    "for a in F:\n",
    "    for b in F:\n",
    "        ais = components(a)\n",
    "        bis = components(b)\n",
    "        lhs = chi(a * b)\n",
    "        rhs = 1\n",
    "        for i in range(N):\n",
    "            rhs *= omega^int(ais[i] * bis[i] * qj(i))\n",
    "        if lhs != rhs:\n",
    "            print(f'{lhs}\\t {rhs}')"
   ]
  },
  {
   "cell_type": "markdown",
   "id": "5ce9d2d6-9cee-43bd-99b6-9ee923411c76",
   "metadata": {},
   "source": [
    "$$\\Phi(\\alpha,\\beta) = \\chi\\left(-2^{-1} \\alpha \\beta\\right)$$\n",
    "$$\\chi(\\alpha\\beta) = \\prod_i^N \\omega^{\\alpha_i \\beta_i q_j}$$"
   ]
  },
  {
   "cell_type": "code",
   "execution_count": 9,
   "id": "697bfaf3-6da8-4f36-ace0-f7c57ded76bc",
   "metadata": {},
   "outputs": [],
   "source": [
    "def Phi(a, b):\n",
    "    return chi(-F(2)^-1 * a * b)"
   ]
  },
  {
   "cell_type": "code",
   "execution_count": 10,
   "id": "cdd23513-7437-4743-89ee-6575050a92c3",
   "metadata": {},
   "outputs": [],
   "source": [
    "def DPS(curve):\n",
    "    ps = zero_matrix(SR, p^N, p^N)\n",
    "    ps[0,:] = 1\n",
    "    for mu in F:\n",
    "        for j, a in enumerate(F):\n",
    "            b = curve(mu)(a)\n",
    "            ps[j, toInt(b)] = Phi(a, b)\n",
    "    return ps"
   ]
  },
  {
   "cell_type": "code",
   "execution_count": 11,
   "id": "3f2ea2fc-36ab-484e-86db-96d3afb1e1b8",
   "metadata": {},
   "outputs": [],
   "source": [
    "def ray(mu):\n",
    "    return lambda k: mu * k"
   ]
  },
  {
   "cell_type": "code",
   "execution_count": 12,
   "id": "5df5d1b0-5606-41e0-a439-d5054982851f",
   "metadata": {},
   "outputs": [
    {
     "data": {
      "text/html": [
       "<html>\\(\\displaystyle \\left(\\begin{array}{rrrrrrrrr}\n",
       "1 & 1 & 1 & 1 & 1 & 1 & 1 & 1 & 1 \\\\\n",
       "1 & 1 & \\frac{1}{2} i \\, \\sqrt{3} - \\frac{1}{2} & \\frac{1}{2} i \\, \\sqrt{3} - \\frac{1}{2} & {\\left(\\frac{1}{2} i \\, \\sqrt{3} - \\frac{1}{2}\\right)}^{2} & 1 & {\\left(\\frac{1}{2} i \\, \\sqrt{3} - \\frac{1}{2}\\right)}^{2} & {\\left(\\frac{1}{2} i \\, \\sqrt{3} - \\frac{1}{2}\\right)}^{2} & \\frac{1}{2} i \\, \\sqrt{3} - \\frac{1}{2} \\\\\n",
       "1 & \\frac{1}{2} i \\, \\sqrt{3} - \\frac{1}{2} & \\frac{1}{2} i \\, \\sqrt{3} - \\frac{1}{2} & {\\left(\\frac{1}{2} i \\, \\sqrt{3} - \\frac{1}{2}\\right)}^{2} & 1 & {\\left(\\frac{1}{2} i \\, \\sqrt{3} - \\frac{1}{2}\\right)}^{2} & {\\left(\\frac{1}{2} i \\, \\sqrt{3} - \\frac{1}{2}\\right)}^{2} & \\frac{1}{2} i \\, \\sqrt{3} - \\frac{1}{2} & 1 \\\\\n",
       "1 & \\frac{1}{2} i \\, \\sqrt{3} - \\frac{1}{2} & {\\left(\\frac{1}{2} i \\, \\sqrt{3} - \\frac{1}{2}\\right)}^{2} & 1 & {\\left(\\frac{1}{2} i \\, \\sqrt{3} - \\frac{1}{2}\\right)}^{2} & {\\left(\\frac{1}{2} i \\, \\sqrt{3} - \\frac{1}{2}\\right)}^{2} & \\frac{1}{2} i \\, \\sqrt{3} - \\frac{1}{2} & 1 & \\frac{1}{2} i \\, \\sqrt{3} - \\frac{1}{2} \\\\\n",
       "1 & {\\left(\\frac{1}{2} i \\, \\sqrt{3} - \\frac{1}{2}\\right)}^{2} & 1 & {\\left(\\frac{1}{2} i \\, \\sqrt{3} - \\frac{1}{2}\\right)}^{2} & {\\left(\\frac{1}{2} i \\, \\sqrt{3} - \\frac{1}{2}\\right)}^{2} & \\frac{1}{2} i \\, \\sqrt{3} - \\frac{1}{2} & 1 & \\frac{1}{2} i \\, \\sqrt{3} - \\frac{1}{2} & \\frac{1}{2} i \\, \\sqrt{3} - \\frac{1}{2} \\\\\n",
       "1 & 1 & {\\left(\\frac{1}{2} i \\, \\sqrt{3} - \\frac{1}{2}\\right)}^{2} & {\\left(\\frac{1}{2} i \\, \\sqrt{3} - \\frac{1}{2}\\right)}^{2} & \\frac{1}{2} i \\, \\sqrt{3} - \\frac{1}{2} & 1 & \\frac{1}{2} i \\, \\sqrt{3} - \\frac{1}{2} & \\frac{1}{2} i \\, \\sqrt{3} - \\frac{1}{2} & {\\left(\\frac{1}{2} i \\, \\sqrt{3} - \\frac{1}{2}\\right)}^{2} \\\\\n",
       "1 & {\\left(\\frac{1}{2} i \\, \\sqrt{3} - \\frac{1}{2}\\right)}^{2} & {\\left(\\frac{1}{2} i \\, \\sqrt{3} - \\frac{1}{2}\\right)}^{2} & \\frac{1}{2} i \\, \\sqrt{3} - \\frac{1}{2} & 1 & \\frac{1}{2} i \\, \\sqrt{3} - \\frac{1}{2} & \\frac{1}{2} i \\, \\sqrt{3} - \\frac{1}{2} & {\\left(\\frac{1}{2} i \\, \\sqrt{3} - \\frac{1}{2}\\right)}^{2} & 1 \\\\\n",
       "1 & {\\left(\\frac{1}{2} i \\, \\sqrt{3} - \\frac{1}{2}\\right)}^{2} & \\frac{1}{2} i \\, \\sqrt{3} - \\frac{1}{2} & 1 & \\frac{1}{2} i \\, \\sqrt{3} - \\frac{1}{2} & \\frac{1}{2} i \\, \\sqrt{3} - \\frac{1}{2} & {\\left(\\frac{1}{2} i \\, \\sqrt{3} - \\frac{1}{2}\\right)}^{2} & 1 & {\\left(\\frac{1}{2} i \\, \\sqrt{3} - \\frac{1}{2}\\right)}^{2} \\\\\n",
       "1 & \\frac{1}{2} i \\, \\sqrt{3} - \\frac{1}{2} & 1 & \\frac{1}{2} i \\, \\sqrt{3} - \\frac{1}{2} & \\frac{1}{2} i \\, \\sqrt{3} - \\frac{1}{2} & {\\left(\\frac{1}{2} i \\, \\sqrt{3} - \\frac{1}{2}\\right)}^{2} & 1 & {\\left(\\frac{1}{2} i \\, \\sqrt{3} - \\frac{1}{2}\\right)}^{2} & {\\left(\\frac{1}{2} i \\, \\sqrt{3} - \\frac{1}{2}\\right)}^{2}\n",
       "\\end{array}\\right)\\)</html>"
      ],
      "text/latex": [
       "$\\displaystyle \\left(\\begin{array}{rrrrrrrrr}\n",
       "1 & 1 & 1 & 1 & 1 & 1 & 1 & 1 & 1 \\\\\n",
       "1 & 1 & \\frac{1}{2} i \\, \\sqrt{3} - \\frac{1}{2} & \\frac{1}{2} i \\, \\sqrt{3} - \\frac{1}{2} & {\\left(\\frac{1}{2} i \\, \\sqrt{3} - \\frac{1}{2}\\right)}^{2} & 1 & {\\left(\\frac{1}{2} i \\, \\sqrt{3} - \\frac{1}{2}\\right)}^{2} & {\\left(\\frac{1}{2} i \\, \\sqrt{3} - \\frac{1}{2}\\right)}^{2} & \\frac{1}{2} i \\, \\sqrt{3} - \\frac{1}{2} \\\\\n",
       "1 & \\frac{1}{2} i \\, \\sqrt{3} - \\frac{1}{2} & \\frac{1}{2} i \\, \\sqrt{3} - \\frac{1}{2} & {\\left(\\frac{1}{2} i \\, \\sqrt{3} - \\frac{1}{2}\\right)}^{2} & 1 & {\\left(\\frac{1}{2} i \\, \\sqrt{3} - \\frac{1}{2}\\right)}^{2} & {\\left(\\frac{1}{2} i \\, \\sqrt{3} - \\frac{1}{2}\\right)}^{2} & \\frac{1}{2} i \\, \\sqrt{3} - \\frac{1}{2} & 1 \\\\\n",
       "1 & \\frac{1}{2} i \\, \\sqrt{3} - \\frac{1}{2} & {\\left(\\frac{1}{2} i \\, \\sqrt{3} - \\frac{1}{2}\\right)}^{2} & 1 & {\\left(\\frac{1}{2} i \\, \\sqrt{3} - \\frac{1}{2}\\right)}^{2} & {\\left(\\frac{1}{2} i \\, \\sqrt{3} - \\frac{1}{2}\\right)}^{2} & \\frac{1}{2} i \\, \\sqrt{3} - \\frac{1}{2} & 1 & \\frac{1}{2} i \\, \\sqrt{3} - \\frac{1}{2} \\\\\n",
       "1 & {\\left(\\frac{1}{2} i \\, \\sqrt{3} - \\frac{1}{2}\\right)}^{2} & 1 & {\\left(\\frac{1}{2} i \\, \\sqrt{3} - \\frac{1}{2}\\right)}^{2} & {\\left(\\frac{1}{2} i \\, \\sqrt{3} - \\frac{1}{2}\\right)}^{2} & \\frac{1}{2} i \\, \\sqrt{3} - \\frac{1}{2} & 1 & \\frac{1}{2} i \\, \\sqrt{3} - \\frac{1}{2} & \\frac{1}{2} i \\, \\sqrt{3} - \\frac{1}{2} \\\\\n",
       "1 & 1 & {\\left(\\frac{1}{2} i \\, \\sqrt{3} - \\frac{1}{2}\\right)}^{2} & {\\left(\\frac{1}{2} i \\, \\sqrt{3} - \\frac{1}{2}\\right)}^{2} & \\frac{1}{2} i \\, \\sqrt{3} - \\frac{1}{2} & 1 & \\frac{1}{2} i \\, \\sqrt{3} - \\frac{1}{2} & \\frac{1}{2} i \\, \\sqrt{3} - \\frac{1}{2} & {\\left(\\frac{1}{2} i \\, \\sqrt{3} - \\frac{1}{2}\\right)}^{2} \\\\\n",
       "1 & {\\left(\\frac{1}{2} i \\, \\sqrt{3} - \\frac{1}{2}\\right)}^{2} & {\\left(\\frac{1}{2} i \\, \\sqrt{3} - \\frac{1}{2}\\right)}^{2} & \\frac{1}{2} i \\, \\sqrt{3} - \\frac{1}{2} & 1 & \\frac{1}{2} i \\, \\sqrt{3} - \\frac{1}{2} & \\frac{1}{2} i \\, \\sqrt{3} - \\frac{1}{2} & {\\left(\\frac{1}{2} i \\, \\sqrt{3} - \\frac{1}{2}\\right)}^{2} & 1 \\\\\n",
       "1 & {\\left(\\frac{1}{2} i \\, \\sqrt{3} - \\frac{1}{2}\\right)}^{2} & \\frac{1}{2} i \\, \\sqrt{3} - \\frac{1}{2} & 1 & \\frac{1}{2} i \\, \\sqrt{3} - \\frac{1}{2} & \\frac{1}{2} i \\, \\sqrt{3} - \\frac{1}{2} & {\\left(\\frac{1}{2} i \\, \\sqrt{3} - \\frac{1}{2}\\right)}^{2} & 1 & {\\left(\\frac{1}{2} i \\, \\sqrt{3} - \\frac{1}{2}\\right)}^{2} \\\\\n",
       "1 & \\frac{1}{2} i \\, \\sqrt{3} - \\frac{1}{2} & 1 & \\frac{1}{2} i \\, \\sqrt{3} - \\frac{1}{2} & \\frac{1}{2} i \\, \\sqrt{3} - \\frac{1}{2} & {\\left(\\frac{1}{2} i \\, \\sqrt{3} - \\frac{1}{2}\\right)}^{2} & 1 & {\\left(\\frac{1}{2} i \\, \\sqrt{3} - \\frac{1}{2}\\right)}^{2} & {\\left(\\frac{1}{2} i \\, \\sqrt{3} - \\frac{1}{2}\\right)}^{2}\n",
       "\\end{array}\\right)$"
      ],
      "text/plain": [
       "[                      1                       1                       1                       1                       1                       1                       1                       1                       1]\n",
       "[                      1                       1     1/2*I*sqrt(3) - 1/2     1/2*I*sqrt(3) - 1/2 (1/2*I*sqrt(3) - 1/2)^2                       1 (1/2*I*sqrt(3) - 1/2)^2 (1/2*I*sqrt(3) - 1/2)^2     1/2*I*sqrt(3) - 1/2]\n",
       "[                      1     1/2*I*sqrt(3) - 1/2     1/2*I*sqrt(3) - 1/2 (1/2*I*sqrt(3) - 1/2)^2                       1 (1/2*I*sqrt(3) - 1/2)^2 (1/2*I*sqrt(3) - 1/2)^2     1/2*I*sqrt(3) - 1/2                       1]\n",
       "[                      1     1/2*I*sqrt(3) - 1/2 (1/2*I*sqrt(3) - 1/2)^2                       1 (1/2*I*sqrt(3) - 1/2)^2 (1/2*I*sqrt(3) - 1/2)^2     1/2*I*sqrt(3) - 1/2                       1     1/2*I*sqrt(3) - 1/2]\n",
       "[                      1 (1/2*I*sqrt(3) - 1/2)^2                       1 (1/2*I*sqrt(3) - 1/2)^2 (1/2*I*sqrt(3) - 1/2)^2     1/2*I*sqrt(3) - 1/2                       1     1/2*I*sqrt(3) - 1/2     1/2*I*sqrt(3) - 1/2]\n",
       "[                      1                       1 (1/2*I*sqrt(3) - 1/2)^2 (1/2*I*sqrt(3) - 1/2)^2     1/2*I*sqrt(3) - 1/2                       1     1/2*I*sqrt(3) - 1/2     1/2*I*sqrt(3) - 1/2 (1/2*I*sqrt(3) - 1/2)^2]\n",
       "[                      1 (1/2*I*sqrt(3) - 1/2)^2 (1/2*I*sqrt(3) - 1/2)^2     1/2*I*sqrt(3) - 1/2                       1     1/2*I*sqrt(3) - 1/2     1/2*I*sqrt(3) - 1/2 (1/2*I*sqrt(3) - 1/2)^2                       1]\n",
       "[                      1 (1/2*I*sqrt(3) - 1/2)^2     1/2*I*sqrt(3) - 1/2                       1     1/2*I*sqrt(3) - 1/2     1/2*I*sqrt(3) - 1/2 (1/2*I*sqrt(3) - 1/2)^2                       1 (1/2*I*sqrt(3) - 1/2)^2]\n",
       "[                      1     1/2*I*sqrt(3) - 1/2                       1     1/2*I*sqrt(3) - 1/2     1/2*I*sqrt(3) - 1/2 (1/2*I*sqrt(3) - 1/2)^2                       1 (1/2*I*sqrt(3) - 1/2)^2 (1/2*I*sqrt(3) - 1/2)^2]"
      ]
     },
     "execution_count": 12,
     "metadata": {},
     "output_type": "execute_result"
    }
   ],
   "source": [
    "ps = DPS(ray)\n",
    "ps"
   ]
  },
  {
   "cell_type": "code",
   "execution_count": 176,
   "id": "94848a99-bbce-41be-8bb7-ec34124b7c6b",
   "metadata": {},
   "outputs": [
    {
     "data": {
      "text/html": [
       "<html>\\(\\displaystyle \\left(\\begin{array}{rrrrrrrrr}\n",
       "1 & 1 & 1 & 1 & 1 & 1 & 1 & 1 & 1 \\\\\n",
       "1 & 1 & \\omega & \\omega & \\omega^{2} & 1 & \\omega^{2} & \\omega^{2} & \\omega \\\\\n",
       "1 & \\omega & \\omega & \\omega^{2} & 1 & \\omega^{2} & \\omega^{2} & \\omega & 1 \\\\\n",
       "1 & \\omega & \\omega^{2} & 1 & \\omega^{2} & \\omega^{2} & \\omega & 1 & \\omega \\\\\n",
       "1 & \\omega^{2} & 1 & \\omega^{2} & \\omega^{2} & \\omega & 1 & \\omega & \\omega \\\\\n",
       "1 & 1 & \\omega^{2} & \\omega^{2} & \\omega & 1 & \\omega & \\omega & \\omega^{2} \\\\\n",
       "1 & \\omega^{2} & \\omega^{2} & \\omega & 1 & \\omega & \\omega & \\omega^{2} & 1 \\\\\n",
       "1 & \\omega^{2} & \\omega & 1 & \\omega & \\omega & \\omega^{2} & 1 & \\omega^{2} \\\\\n",
       "1 & \\omega & 1 & \\omega & \\omega & \\omega^{2} & 1 & \\omega^{2} & \\omega^{2}\n",
       "\\end{array}\\right)\\)</html>"
      ],
      "text/latex": [
       "$\\displaystyle \\left(\\begin{array}{rrrrrrrrr}\n",
       "1 & 1 & 1 & 1 & 1 & 1 & 1 & 1 & 1 \\\\\n",
       "1 & 1 & \\omega & \\omega & \\omega^{2} & 1 & \\omega^{2} & \\omega^{2} & \\omega \\\\\n",
       "1 & \\omega & \\omega & \\omega^{2} & 1 & \\omega^{2} & \\omega^{2} & \\omega & 1 \\\\\n",
       "1 & \\omega & \\omega^{2} & 1 & \\omega^{2} & \\omega^{2} & \\omega & 1 & \\omega \\\\\n",
       "1 & \\omega^{2} & 1 & \\omega^{2} & \\omega^{2} & \\omega & 1 & \\omega & \\omega \\\\\n",
       "1 & 1 & \\omega^{2} & \\omega^{2} & \\omega & 1 & \\omega & \\omega & \\omega^{2} \\\\\n",
       "1 & \\omega^{2} & \\omega^{2} & \\omega & 1 & \\omega & \\omega & \\omega^{2} & 1 \\\\\n",
       "1 & \\omega^{2} & \\omega & 1 & \\omega & \\omega & \\omega^{2} & 1 & \\omega^{2} \\\\\n",
       "1 & \\omega & 1 & \\omega & \\omega & \\omega^{2} & 1 & \\omega^{2} & \\omega^{2}\n",
       "\\end{array}\\right)$"
      ],
      "text/plain": [
       "[      1       1       1       1       1       1       1       1       1]\n",
       "[      1       1   omega   omega omega^2       1 omega^2 omega^2   omega]\n",
       "[      1   omega   omega omega^2       1 omega^2 omega^2   omega       1]\n",
       "[      1   omega omega^2       1 omega^2 omega^2   omega       1   omega]\n",
       "[      1 omega^2       1 omega^2 omega^2   omega       1   omega   omega]\n",
       "[      1       1 omega^2 omega^2   omega       1   omega   omega omega^2]\n",
       "[      1 omega^2 omega^2   omega       1   omega   omega omega^2       1]\n",
       "[      1 omega^2   omega       1   omega   omega omega^2       1 omega^2]\n",
       "[      1   omega       1   omega   omega omega^2       1 omega^2 omega^2]"
      ]
     },
     "execution_count": 176,
     "metadata": {},
     "output_type": "execute_result"
    }
   ],
   "source": [
    "# w = var('omega')\n",
    "\n",
    "# ps = DPS(ray)\n",
    "# ps"
   ]
  },
  {
   "cell_type": "code",
   "execution_count": 13,
   "id": "f00bd75d-0a05-4021-a8ce-118c05141480",
   "metadata": {},
   "outputs": [],
   "source": [
    "# verify that the phase satisfies the recurrence relation\n",
    "def VerifyRecRel(curve=ray):\n",
    "    for mu in F:\n",
    "        for t1 in F:\n",
    "            for t2 in F:\n",
    "                lhs = Phi(t1, curve(mu)(t1)) * Phi(t2, curve(mu)(t2))\n",
    "                rhs = Phi(t1 + t2, curve(mu)(t1 + t2)) * chi(t2 * curve(mu)(t1))\n",
    "                if lhs != rhs:\n",
    "                    raise Exception\n",
    "    return True"
   ]
  },
  {
   "cell_type": "code",
   "execution_count": 14,
   "id": "abd99716-ca10-4b11-8807-90b1e3e7c15e",
   "metadata": {},
   "outputs": [
    {
     "data": {
      "text/html": [
       "<html>\\(\\displaystyle \\mathrm{True}\\)</html>"
      ],
      "text/latex": [
       "$\\displaystyle \\mathrm{True}$"
      ],
      "text/plain": [
       "True"
      ]
     },
     "execution_count": 14,
     "metadata": {},
     "output_type": "execute_result"
    }
   ],
   "source": [
    "VerifyRecRel(ray)"
   ]
  },
  {
   "cell_type": "code",
   "execution_count": 15,
   "id": "872ce6ec-edc3-4310-9b0a-7abfea2164eb",
   "metadata": {},
   "outputs": [
    {
     "data": {
      "text/html": [
       "<html>\\(\\displaystyle 1\\)</html>"
      ],
      "text/latex": [
       "$\\displaystyle 1$"
      ],
      "text/plain": [
       "1"
      ]
     },
     "execution_count": 15,
     "metadata": {},
     "output_type": "execute_result"
    }
   ],
   "source": [
    "-F(2)^-1"
   ]
  },
  {
   "cell_type": "markdown",
   "id": "0a619e09-8582-4f41-ae07-403fc79e9df3",
   "metadata": {},
   "source": [
    "$$\\Phi(\\alpha, \\beta) = \\prod_i^N \\omega^{-2^{-1}\\alpha_i \\beta_i q_j}$$"
   ]
  },
  {
   "cell_type": "code",
   "execution_count": 16,
   "id": "332dcd5d-aee3-4aca-b46f-6b5168117171",
   "metadata": {},
   "outputs": [],
   "source": [
    "# Test factorization of the phase not just the character\n",
    "for a in F:\n",
    "    for b in F:\n",
    "        ais = components(a)\n",
    "        bis = components(b)\n",
    "        lhs = Phi(a, b)\n",
    "        rhs = 1\n",
    "        for i in range(N):\n",
    "            rhs *= omega^int(-F(2)^-1 * ais[i] * bis[i] * qj(i))\n",
    "        if lhs != rhs:\n",
    "            print(f'{lhs}\\t {rhs}')"
   ]
  },
  {
   "cell_type": "code",
   "execution_count": 17,
   "id": "fec00fc0-96cc-4e21-9169-ecb1d0cdc315",
   "metadata": {},
   "outputs": [],
   "source": [
    "w = var('omega')"
   ]
  },
  {
   "cell_type": "code",
   "execution_count": 18,
   "id": "ef2e92e8-e955-46bd-b2f6-d6c5d7207222",
   "metadata": {},
   "outputs": [
    {
     "data": {
      "text/html": [
       "<html>\\(\\displaystyle \\left(\\begin{array}{rrrrrrrrr}\n",
       "1 & 1 & 1 & 1 & 1 & 1 & 1 & 1 & 1 \\\\\n",
       "1 & \\omega^{2} & 1 & \\omega^{2} & \\omega^{2} & \\omega & 1 & \\omega & \\omega \\\\\n",
       "1 & 1 & 1 & 1 & 1 & 1 & 1 & 1 & 1 \\\\\n",
       "1 & \\omega^{2} & 1 & \\omega^{2} & \\omega^{2} & \\omega & 1 & \\omega & \\omega \\\\\n",
       "1 & \\omega^{2} & 1 & \\omega^{2} & \\omega^{2} & \\omega & 1 & \\omega & \\omega \\\\\n",
       "1 & \\omega & 1 & \\omega & \\omega & \\omega^{2} & 1 & \\omega^{2} & \\omega^{2} \\\\\n",
       "1 & 1 & 1 & 1 & 1 & 1 & 1 & 1 & 1 \\\\\n",
       "1 & \\omega & 1 & \\omega & \\omega & \\omega^{2} & 1 & \\omega^{2} & \\omega^{2} \\\\\n",
       "1 & \\omega & 1 & \\omega & \\omega & \\omega^{2} & 1 & \\omega^{2} & \\omega^{2}\n",
       "\\end{array}\\right)\\)</html>"
      ],
      "text/latex": [
       "$\\displaystyle \\left(\\begin{array}{rrrrrrrrr}\n",
       "1 & 1 & 1 & 1 & 1 & 1 & 1 & 1 & 1 \\\\\n",
       "1 & \\omega^{2} & 1 & \\omega^{2} & \\omega^{2} & \\omega & 1 & \\omega & \\omega \\\\\n",
       "1 & 1 & 1 & 1 & 1 & 1 & 1 & 1 & 1 \\\\\n",
       "1 & \\omega^{2} & 1 & \\omega^{2} & \\omega^{2} & \\omega & 1 & \\omega & \\omega \\\\\n",
       "1 & \\omega^{2} & 1 & \\omega^{2} & \\omega^{2} & \\omega & 1 & \\omega & \\omega \\\\\n",
       "1 & \\omega & 1 & \\omega & \\omega & \\omega^{2} & 1 & \\omega^{2} & \\omega^{2} \\\\\n",
       "1 & 1 & 1 & 1 & 1 & 1 & 1 & 1 & 1 \\\\\n",
       "1 & \\omega & 1 & \\omega & \\omega & \\omega^{2} & 1 & \\omega^{2} & \\omega^{2} \\\\\n",
       "1 & \\omega & 1 & \\omega & \\omega & \\omega^{2} & 1 & \\omega^{2} & \\omega^{2}\n",
       "\\end{array}\\right)$"
      ],
      "text/plain": [
       "[      1       1       1       1       1       1       1       1       1]\n",
       "[      1 omega^2       1 omega^2 omega^2   omega       1   omega   omega]\n",
       "[      1       1       1       1       1       1       1       1       1]\n",
       "[      1 omega^2       1 omega^2 omega^2   omega       1   omega   omega]\n",
       "[      1 omega^2       1 omega^2 omega^2   omega       1   omega   omega]\n",
       "[      1   omega       1   omega   omega omega^2       1 omega^2 omega^2]\n",
       "[      1       1       1       1       1       1       1       1       1]\n",
       "[      1   omega       1   omega   omega omega^2       1 omega^2 omega^2]\n",
       "[      1   omega       1   omega   omega omega^2       1 omega^2 omega^2]"
      ]
     },
     "execution_count": 18,
     "metadata": {},
     "output_type": "execute_result"
    }
   ],
   "source": [
    "dps_1comp = zero_matrix(SR, p^N, p^N)\n",
    "for i, a in enumerate(F):\n",
    "    for j, b in enumerate(F):\n",
    "        a1 = components(a)[0]\n",
    "        b1 = components(b)[0]\n",
    "        dps_1comp[i,j] = omega^int(-F(2)^-1 * a1 * b1 * qj(0))\n",
    "dps_1comp"
   ]
  },
  {
   "cell_type": "code",
   "execution_count": 19,
   "id": "cd26deec-df54-42bb-bc57-2d7d1a82b6b2",
   "metadata": {},
   "outputs": [
    {
     "data": {
      "text/html": [
       "<html>\\(\\displaystyle \\left(\\begin{array}{rrrrrrrrr}\n",
       "1 & 1 & 1 & 1 & 1 & 1 & 1 & 1 & 1 \\\\\n",
       "1 & \\omega & \\omega & \\omega^{2} & 1 & \\omega^{2} & \\omega^{2} & \\omega & 1 \\\\\n",
       "1 & \\omega & \\omega & \\omega^{2} & 1 & \\omega^{2} & \\omega^{2} & \\omega & 1 \\\\\n",
       "1 & \\omega^{2} & \\omega^{2} & \\omega & 1 & \\omega & \\omega & \\omega^{2} & 1 \\\\\n",
       "1 & 1 & 1 & 1 & 1 & 1 & 1 & 1 & 1 \\\\\n",
       "1 & \\omega^{2} & \\omega^{2} & \\omega & 1 & \\omega & \\omega & \\omega^{2} & 1 \\\\\n",
       "1 & \\omega^{2} & \\omega^{2} & \\omega & 1 & \\omega & \\omega & \\omega^{2} & 1 \\\\\n",
       "1 & \\omega & \\omega & \\omega^{2} & 1 & \\omega^{2} & \\omega^{2} & \\omega & 1 \\\\\n",
       "1 & 1 & 1 & 1 & 1 & 1 & 1 & 1 & 1\n",
       "\\end{array}\\right)\\)</html>"
      ],
      "text/latex": [
       "$\\displaystyle \\left(\\begin{array}{rrrrrrrrr}\n",
       "1 & 1 & 1 & 1 & 1 & 1 & 1 & 1 & 1 \\\\\n",
       "1 & \\omega & \\omega & \\omega^{2} & 1 & \\omega^{2} & \\omega^{2} & \\omega & 1 \\\\\n",
       "1 & \\omega & \\omega & \\omega^{2} & 1 & \\omega^{2} & \\omega^{2} & \\omega & 1 \\\\\n",
       "1 & \\omega^{2} & \\omega^{2} & \\omega & 1 & \\omega & \\omega & \\omega^{2} & 1 \\\\\n",
       "1 & 1 & 1 & 1 & 1 & 1 & 1 & 1 & 1 \\\\\n",
       "1 & \\omega^{2} & \\omega^{2} & \\omega & 1 & \\omega & \\omega & \\omega^{2} & 1 \\\\\n",
       "1 & \\omega^{2} & \\omega^{2} & \\omega & 1 & \\omega & \\omega & \\omega^{2} & 1 \\\\\n",
       "1 & \\omega & \\omega & \\omega^{2} & 1 & \\omega^{2} & \\omega^{2} & \\omega & 1 \\\\\n",
       "1 & 1 & 1 & 1 & 1 & 1 & 1 & 1 & 1\n",
       "\\end{array}\\right)$"
      ],
      "text/plain": [
       "[      1       1       1       1       1       1       1       1       1]\n",
       "[      1   omega   omega omega^2       1 omega^2 omega^2   omega       1]\n",
       "[      1   omega   omega omega^2       1 omega^2 omega^2   omega       1]\n",
       "[      1 omega^2 omega^2   omega       1   omega   omega omega^2       1]\n",
       "[      1       1       1       1       1       1       1       1       1]\n",
       "[      1 omega^2 omega^2   omega       1   omega   omega omega^2       1]\n",
       "[      1 omega^2 omega^2   omega       1   omega   omega omega^2       1]\n",
       "[      1   omega   omega omega^2       1 omega^2 omega^2   omega       1]\n",
       "[      1       1       1       1       1       1       1       1       1]"
      ]
     },
     "execution_count": 19,
     "metadata": {},
     "output_type": "execute_result"
    }
   ],
   "source": [
    "dps_2comp = zero_matrix(SR, p^N, p^N)\n",
    "for i, a in enumerate(F):\n",
    "    for j, b in enumerate(F):\n",
    "        a2 = components(a)[1]\n",
    "        b2 = components(b)[1]\n",
    "        dps_2comp[i,j] = omega^int(-F(2)^-1 * a2 * b2 * qj(1))\n",
    "dps_2comp"
   ]
  },
  {
   "cell_type": "code",
   "execution_count": 20,
   "id": "c86c6951-69fe-4aad-830b-438a81ee5176",
   "metadata": {},
   "outputs": [
    {
     "data": {
      "text/html": [
       "<html>\\(\\displaystyle \\left(\\begin{array}{rrrrrrrrr}\n",
       "1 & 1 & 1 & 1 & 1 & 1 & 1 & 1 & 1 \\\\\n",
       "1 & \\omega^{3} & \\omega & \\omega^{4} & \\omega^{2} & \\omega^{3} & \\omega^{2} & \\omega^{2} & \\omega \\\\\n",
       "1 & \\omega & \\omega & \\omega^{2} & 1 & \\omega^{2} & \\omega^{2} & \\omega & 1 \\\\\n",
       "1 & \\omega^{4} & \\omega^{2} & \\omega^{3} & \\omega^{2} & \\omega^{2} & \\omega & \\omega^{3} & \\omega \\\\\n",
       "1 & \\omega^{2} & 1 & \\omega^{2} & \\omega^{2} & \\omega & 1 & \\omega & \\omega \\\\\n",
       "1 & \\omega^{3} & \\omega^{2} & \\omega^{2} & \\omega & \\omega^{3} & \\omega & \\omega^{4} & \\omega^{2} \\\\\n",
       "1 & \\omega^{2} & \\omega^{2} & \\omega & 1 & \\omega & \\omega & \\omega^{2} & 1 \\\\\n",
       "1 & \\omega^{2} & \\omega & \\omega^{3} & \\omega & \\omega^{4} & \\omega^{2} & \\omega^{3} & \\omega^{2} \\\\\n",
       "1 & \\omega & 1 & \\omega & \\omega & \\omega^{2} & 1 & \\omega^{2} & \\omega^{2}\n",
       "\\end{array}\\right)\\)</html>"
      ],
      "text/latex": [
       "$\\displaystyle \\left(\\begin{array}{rrrrrrrrr}\n",
       "1 & 1 & 1 & 1 & 1 & 1 & 1 & 1 & 1 \\\\\n",
       "1 & \\omega^{3} & \\omega & \\omega^{4} & \\omega^{2} & \\omega^{3} & \\omega^{2} & \\omega^{2} & \\omega \\\\\n",
       "1 & \\omega & \\omega & \\omega^{2} & 1 & \\omega^{2} & \\omega^{2} & \\omega & 1 \\\\\n",
       "1 & \\omega^{4} & \\omega^{2} & \\omega^{3} & \\omega^{2} & \\omega^{2} & \\omega & \\omega^{3} & \\omega \\\\\n",
       "1 & \\omega^{2} & 1 & \\omega^{2} & \\omega^{2} & \\omega & 1 & \\omega & \\omega \\\\\n",
       "1 & \\omega^{3} & \\omega^{2} & \\omega^{2} & \\omega & \\omega^{3} & \\omega & \\omega^{4} & \\omega^{2} \\\\\n",
       "1 & \\omega^{2} & \\omega^{2} & \\omega & 1 & \\omega & \\omega & \\omega^{2} & 1 \\\\\n",
       "1 & \\omega^{2} & \\omega & \\omega^{3} & \\omega & \\omega^{4} & \\omega^{2} & \\omega^{3} & \\omega^{2} \\\\\n",
       "1 & \\omega & 1 & \\omega & \\omega & \\omega^{2} & 1 & \\omega^{2} & \\omega^{2}\n",
       "\\end{array}\\right)$"
      ],
      "text/plain": [
       "[      1       1       1       1       1       1       1       1       1]\n",
       "[      1 omega^3   omega omega^4 omega^2 omega^3 omega^2 omega^2   omega]\n",
       "[      1   omega   omega omega^2       1 omega^2 omega^2   omega       1]\n",
       "[      1 omega^4 omega^2 omega^3 omega^2 omega^2   omega omega^3   omega]\n",
       "[      1 omega^2       1 omega^2 omega^2   omega       1   omega   omega]\n",
       "[      1 omega^3 omega^2 omega^2   omega omega^3   omega omega^4 omega^2]\n",
       "[      1 omega^2 omega^2   omega       1   omega   omega omega^2       1]\n",
       "[      1 omega^2   omega omega^3   omega omega^4 omega^2 omega^3 omega^2]\n",
       "[      1   omega       1   omega   omega omega^2       1 omega^2 omega^2]"
      ]
     },
     "execution_count": 20,
     "metadata": {},
     "output_type": "execute_result"
    }
   ],
   "source": [
    "ps_prod = dps_1comp.elementwise_product(dps_2comp)\n",
    "ps_prod"
   ]
  },
  {
   "cell_type": "code",
   "execution_count": 21,
   "id": "e0e3b06e-831f-4daa-8e03-8c70903768a4",
   "metadata": {},
   "outputs": [],
   "source": [
    "for j in range(9):\n",
    "    for k in range(9):\n",
    "        if ps_prod[j,k] == w^3:\n",
    "            ps_prod[j,k] = 1\n",
    "        if ps_prod[j,k] == w^4:\n",
    "            ps_prod[j,k] = w"
   ]
  },
  {
   "cell_type": "code",
   "execution_count": 22,
   "id": "66926b73-55ed-4885-b11e-f5812a4343d3",
   "metadata": {},
   "outputs": [
    {
     "data": {
      "text/html": [
       "<html>\\(\\displaystyle \\left(\\begin{array}{rrrrrrrrr}\n",
       "1 & 1 & 1 & 1 & 1 & 1 & 1 & 1 & 1 \\\\\n",
       "1 & 1 & \\omega & \\omega & \\omega^{2} & 1 & \\omega^{2} & \\omega^{2} & \\omega \\\\\n",
       "1 & \\omega & \\omega & \\omega^{2} & 1 & \\omega^{2} & \\omega^{2} & \\omega & 1 \\\\\n",
       "1 & \\omega & \\omega^{2} & 1 & \\omega^{2} & \\omega^{2} & \\omega & 1 & \\omega \\\\\n",
       "1 & \\omega^{2} & 1 & \\omega^{2} & \\omega^{2} & \\omega & 1 & \\omega & \\omega \\\\\n",
       "1 & 1 & \\omega^{2} & \\omega^{2} & \\omega & 1 & \\omega & \\omega & \\omega^{2} \\\\\n",
       "1 & \\omega^{2} & \\omega^{2} & \\omega & 1 & \\omega & \\omega & \\omega^{2} & 1 \\\\\n",
       "1 & \\omega^{2} & \\omega & 1 & \\omega & \\omega & \\omega^{2} & 1 & \\omega^{2} \\\\\n",
       "1 & \\omega & 1 & \\omega & \\omega & \\omega^{2} & 1 & \\omega^{2} & \\omega^{2}\n",
       "\\end{array}\\right)\\)</html>"
      ],
      "text/latex": [
       "$\\displaystyle \\left(\\begin{array}{rrrrrrrrr}\n",
       "1 & 1 & 1 & 1 & 1 & 1 & 1 & 1 & 1 \\\\\n",
       "1 & 1 & \\omega & \\omega & \\omega^{2} & 1 & \\omega^{2} & \\omega^{2} & \\omega \\\\\n",
       "1 & \\omega & \\omega & \\omega^{2} & 1 & \\omega^{2} & \\omega^{2} & \\omega & 1 \\\\\n",
       "1 & \\omega & \\omega^{2} & 1 & \\omega^{2} & \\omega^{2} & \\omega & 1 & \\omega \\\\\n",
       "1 & \\omega^{2} & 1 & \\omega^{2} & \\omega^{2} & \\omega & 1 & \\omega & \\omega \\\\\n",
       "1 & 1 & \\omega^{2} & \\omega^{2} & \\omega & 1 & \\omega & \\omega & \\omega^{2} \\\\\n",
       "1 & \\omega^{2} & \\omega^{2} & \\omega & 1 & \\omega & \\omega & \\omega^{2} & 1 \\\\\n",
       "1 & \\omega^{2} & \\omega & 1 & \\omega & \\omega & \\omega^{2} & 1 & \\omega^{2} \\\\\n",
       "1 & \\omega & 1 & \\omega & \\omega & \\omega^{2} & 1 & \\omega^{2} & \\omega^{2}\n",
       "\\end{array}\\right)$"
      ],
      "text/plain": [
       "[      1       1       1       1       1       1       1       1       1]\n",
       "[      1       1   omega   omega omega^2       1 omega^2 omega^2   omega]\n",
       "[      1   omega   omega omega^2       1 omega^2 omega^2   omega       1]\n",
       "[      1   omega omega^2       1 omega^2 omega^2   omega       1   omega]\n",
       "[      1 omega^2       1 omega^2 omega^2   omega       1   omega   omega]\n",
       "[      1       1 omega^2 omega^2   omega       1   omega   omega omega^2]\n",
       "[      1 omega^2 omega^2   omega       1   omega   omega omega^2       1]\n",
       "[      1 omega^2   omega       1   omega   omega omega^2       1 omega^2]\n",
       "[      1   omega       1   omega   omega omega^2       1 omega^2 omega^2]"
      ]
     },
     "execution_count": 22,
     "metadata": {},
     "output_type": "execute_result"
    }
   ],
   "source": [
    "ps_prod"
   ]
  },
  {
   "cell_type": "code",
   "execution_count": 24,
   "id": "0c720202-8323-414b-9cb4-9e1f5a74b4a8",
   "metadata": {},
   "outputs": [
    {
     "data": {
      "text/html": [
       "<html>\\(\\displaystyle \\left(\\begin{array}{rrr}\n",
       "1 & 1 & 1 \\\\\n",
       "1 & 1 & 1 \\\\\n",
       "1 & 1 & 1\n",
       "\\end{array}\\right)\\)</html>"
      ],
      "text/latex": [
       "$\\displaystyle \\left(\\begin{array}{rrr}\n",
       "1 & 1 & 1 \\\\\n",
       "1 & 1 & 1 \\\\\n",
       "1 & 1 & 1\n",
       "\\end{array}\\right)$"
      ],
      "text/plain": [
       "[1 1 1]\n",
       "[1 1 1]\n",
       "[1 1 1]"
      ]
     },
     "execution_count": 24,
     "metadata": {},
     "output_type": "execute_result"
    }
   ],
   "source": [
    "block1 = zero_matrix(SR, p, p)\n",
    "for i, a in [F(0), F(1), F(2)]:\n",
    "    for j, b in [F(0), F(1), F(2)]:\n",
    "        block1[i,j] = Phi(a, b)\n",
    "block1"
   ]
  },
  {
   "cell_type": "markdown",
   "id": "35bf9b5e-5ac2-4255-bb48-6eed70af8394",
   "metadata": {},
   "source": [
    "Let's do a quick test with three qutrits. The phase space has to be the same. Is this the source of the factorization of the kernel?"
   ]
  },
  {
   "cell_type": "code",
   "execution_count": 12,
   "id": "9a3c4de2-f8ef-43cc-a653-38c1fe2b71fe",
   "metadata": {},
   "outputs": [],
   "source": [
    "p = 3\n",
    "N = 3\n",
    "\n",
    "F = GF(p^N, 'x')\n",
    "x = F.gen()\n",
    "\n",
    "def toInt(k):\n",
    "    return list(F).index(k)\n",
    "\n",
    "# omega = exp(2 * pi * I / p)\n",
    "w = var('omega')\n",
    "chi = lambda k: omega^int(k.trace())"
   ]
  },
  {
   "cell_type": "code",
   "execution_count": 13,
   "id": "1d11f7d9-f17c-4802-885c-29e195742106",
   "metadata": {},
   "outputs": [],
   "source": [
    "def Phi(a, b):\n",
    "    return chi(-F(2)^-1 * a * b)"
   ]
  },
  {
   "cell_type": "code",
   "execution_count": 14,
   "id": "c85e6d38-d37f-4b7c-bec6-2667b7e87015",
   "metadata": {},
   "outputs": [],
   "source": [
    "def DPS(curve):\n",
    "    ps = zero_matrix(SR, p^N, p^N)\n",
    "    ps[0,:] = 1\n",
    "    for mu in F:\n",
    "        for j, a in enumerate(F):\n",
    "            b = curve(mu)(a)\n",
    "            ps[j, toInt(b)] = Phi(a, b)\n",
    "    return ps"
   ]
  },
  {
   "cell_type": "code",
   "execution_count": 24,
   "id": "b73788f5-7390-4086-9d22-471b484b183d",
   "metadata": {},
   "outputs": [],
   "source": [
    "def ray(mu):\n",
    "    return lambda k: mu * k\n",
    "\n",
    "# Albert's twisted field\n",
    "def albert(mu):\n",
    "    return lambda k: mu * k^9 + mu^3 * k^3"
   ]
  },
  {
   "cell_type": "code",
   "execution_count": 25,
   "id": "60c732cc-6028-47ac-8155-5137771636f8",
   "metadata": {},
   "outputs": [
    {
     "data": {
      "text/html": [
       "<html>\\(\\displaystyle \\left(\\begin{array}{rrrrrrrrrrrrrrrrrrrrrrrrrrr}\n",
       "1 & 1 & 1 & 1 & 1 & 1 & 1 & 1 & 1 & 1 & 1 & 1 & 1 & 1 & 1 & 1 & 1 & 1 & 1 & 1 & 1 & 1 & 1 & 1 & 1 & 1 & 1 \\\\\n",
       "1 & \\omega^{2} & 1 & \\omega^{2} & \\omega & \\omega^{2} & \\omega^{2} & \\omega & 1 & \\omega^{2} & \\omega^{2} & \\omega^{2} & 1 & 1 & \\omega & 1 & \\omega & \\omega^{2} & \\omega & \\omega & \\omega^{2} & 1 & \\omega & \\omega & \\omega & 1 & 1 \\\\\n",
       "1 & 1 & \\omega^{2} & \\omega & \\omega^{2} & \\omega^{2} & \\omega & 1 & \\omega^{2} & \\omega^{2} & \\omega^{2} & 1 & 1 & \\omega & 1 & \\omega & \\omega^{2} & \\omega & \\omega & \\omega^{2} & 1 & \\omega & \\omega & \\omega & 1 & 1 & \\omega^{2} \\\\\n",
       "1 & \\omega^{2} & \\omega & \\omega^{2} & \\omega^{2} & \\omega & 1 & \\omega^{2} & \\omega^{2} & \\omega^{2} & 1 & 1 & \\omega & 1 & \\omega & \\omega^{2} & \\omega & \\omega & \\omega^{2} & 1 & \\omega & \\omega & \\omega & 1 & 1 & \\omega^{2} & 1 \\\\\n",
       "1 & \\omega & \\omega^{2} & \\omega^{2} & \\omega & 1 & \\omega^{2} & \\omega^{2} & \\omega^{2} & 1 & 1 & \\omega & 1 & \\omega & \\omega^{2} & \\omega & \\omega & \\omega^{2} & 1 & \\omega & \\omega & \\omega & 1 & 1 & \\omega^{2} & 1 & \\omega^{2} \\\\\n",
       "1 & \\omega^{2} & \\omega^{2} & \\omega & 1 & \\omega^{2} & \\omega^{2} & \\omega^{2} & 1 & 1 & \\omega & 1 & \\omega & \\omega^{2} & \\omega & \\omega & \\omega^{2} & 1 & \\omega & \\omega & \\omega & 1 & 1 & \\omega^{2} & 1 & \\omega^{2} & \\omega \\\\\n",
       "1 & \\omega^{2} & \\omega & 1 & \\omega^{2} & \\omega^{2} & \\omega^{2} & 1 & 1 & \\omega & 1 & \\omega & \\omega^{2} & \\omega & \\omega & \\omega^{2} & 1 & \\omega & \\omega & \\omega & 1 & 1 & \\omega^{2} & 1 & \\omega^{2} & \\omega & \\omega^{2} \\\\\n",
       "1 & \\omega & 1 & \\omega^{2} & \\omega^{2} & \\omega^{2} & 1 & 1 & \\omega & 1 & \\omega & \\omega^{2} & \\omega & \\omega & \\omega^{2} & 1 & \\omega & \\omega & \\omega & 1 & 1 & \\omega^{2} & 1 & \\omega^{2} & \\omega & \\omega^{2} & \\omega^{2} \\\\\n",
       "1 & 1 & \\omega^{2} & \\omega^{2} & \\omega^{2} & 1 & 1 & \\omega & 1 & \\omega & \\omega^{2} & \\omega & \\omega & \\omega^{2} & 1 & \\omega & \\omega & \\omega & 1 & 1 & \\omega^{2} & 1 & \\omega^{2} & \\omega & \\omega^{2} & \\omega^{2} & \\omega \\\\\n",
       "1 & \\omega^{2} & \\omega^{2} & \\omega^{2} & 1 & 1 & \\omega & 1 & \\omega & \\omega^{2} & \\omega & \\omega & \\omega^{2} & 1 & \\omega & \\omega & \\omega & 1 & 1 & \\omega^{2} & 1 & \\omega^{2} & \\omega & \\omega^{2} & \\omega^{2} & \\omega & 1 \\\\\n",
       "1 & \\omega^{2} & \\omega^{2} & 1 & 1 & \\omega & 1 & \\omega & \\omega^{2} & \\omega & \\omega & \\omega^{2} & 1 & \\omega & \\omega & \\omega & 1 & 1 & \\omega^{2} & 1 & \\omega^{2} & \\omega & \\omega^{2} & \\omega^{2} & \\omega & 1 & \\omega^{2} \\\\\n",
       "1 & \\omega^{2} & 1 & 1 & \\omega & 1 & \\omega & \\omega^{2} & \\omega & \\omega & \\omega^{2} & 1 & \\omega & \\omega & \\omega & 1 & 1 & \\omega^{2} & 1 & \\omega^{2} & \\omega & \\omega^{2} & \\omega^{2} & \\omega & 1 & \\omega^{2} & \\omega^{2} \\\\\n",
       "1 & 1 & 1 & \\omega & 1 & \\omega & \\omega^{2} & \\omega & \\omega & \\omega^{2} & 1 & \\omega & \\omega & \\omega & 1 & 1 & \\omega^{2} & 1 & \\omega^{2} & \\omega & \\omega^{2} & \\omega^{2} & \\omega & 1 & \\omega^{2} & \\omega^{2} & \\omega^{2} \\\\\n",
       "1 & 1 & \\omega & 1 & \\omega & \\omega^{2} & \\omega & \\omega & \\omega^{2} & 1 & \\omega & \\omega & \\omega & 1 & 1 & \\omega^{2} & 1 & \\omega^{2} & \\omega & \\omega^{2} & \\omega^{2} & \\omega & 1 & \\omega^{2} & \\omega^{2} & \\omega^{2} & 1 \\\\\n",
       "1 & \\omega & 1 & \\omega & \\omega^{2} & \\omega & \\omega & \\omega^{2} & 1 & \\omega & \\omega & \\omega & 1 & 1 & \\omega^{2} & 1 & \\omega^{2} & \\omega & \\omega^{2} & \\omega^{2} & \\omega & 1 & \\omega^{2} & \\omega^{2} & \\omega^{2} & 1 & 1 \\\\\n",
       "1 & 1 & \\omega & \\omega^{2} & \\omega & \\omega & \\omega^{2} & 1 & \\omega & \\omega & \\omega & 1 & 1 & \\omega^{2} & 1 & \\omega^{2} & \\omega & \\omega^{2} & \\omega^{2} & \\omega & 1 & \\omega^{2} & \\omega^{2} & \\omega^{2} & 1 & 1 & \\omega \\\\\n",
       "1 & \\omega & \\omega^{2} & \\omega & \\omega & \\omega^{2} & 1 & \\omega & \\omega & \\omega & 1 & 1 & \\omega^{2} & 1 & \\omega^{2} & \\omega & \\omega^{2} & \\omega^{2} & \\omega & 1 & \\omega^{2} & \\omega^{2} & \\omega^{2} & 1 & 1 & \\omega & 1 \\\\\n",
       "1 & \\omega^{2} & \\omega & \\omega & \\omega^{2} & 1 & \\omega & \\omega & \\omega & 1 & 1 & \\omega^{2} & 1 & \\omega^{2} & \\omega & \\omega^{2} & \\omega^{2} & \\omega & 1 & \\omega^{2} & \\omega^{2} & \\omega^{2} & 1 & 1 & \\omega & 1 & \\omega \\\\\n",
       "1 & \\omega & \\omega & \\omega^{2} & 1 & \\omega & \\omega & \\omega & 1 & 1 & \\omega^{2} & 1 & \\omega^{2} & \\omega & \\omega^{2} & \\omega^{2} & \\omega & 1 & \\omega^{2} & \\omega^{2} & \\omega^{2} & 1 & 1 & \\omega & 1 & \\omega & \\omega^{2} \\\\\n",
       "1 & \\omega & \\omega^{2} & 1 & \\omega & \\omega & \\omega & 1 & 1 & \\omega^{2} & 1 & \\omega^{2} & \\omega & \\omega^{2} & \\omega^{2} & \\omega & 1 & \\omega^{2} & \\omega^{2} & \\omega^{2} & 1 & 1 & \\omega & 1 & \\omega & \\omega^{2} & \\omega \\\\\n",
       "1 & \\omega^{2} & 1 & \\omega & \\omega & \\omega & 1 & 1 & \\omega^{2} & 1 & \\omega^{2} & \\omega & \\omega^{2} & \\omega^{2} & \\omega & 1 & \\omega^{2} & \\omega^{2} & \\omega^{2} & 1 & 1 & \\omega & 1 & \\omega & \\omega^{2} & \\omega & \\omega \\\\\n",
       "1 & 1 & \\omega & \\omega & \\omega & 1 & 1 & \\omega^{2} & 1 & \\omega^{2} & \\omega & \\omega^{2} & \\omega^{2} & \\omega & 1 & \\omega^{2} & \\omega^{2} & \\omega^{2} & 1 & 1 & \\omega & 1 & \\omega & \\omega^{2} & \\omega & \\omega & \\omega^{2} \\\\\n",
       "1 & \\omega & \\omega & \\omega & 1 & 1 & \\omega^{2} & 1 & \\omega^{2} & \\omega & \\omega^{2} & \\omega^{2} & \\omega & 1 & \\omega^{2} & \\omega^{2} & \\omega^{2} & 1 & 1 & \\omega & 1 & \\omega & \\omega^{2} & \\omega & \\omega & \\omega^{2} & 1 \\\\\n",
       "1 & \\omega & \\omega & 1 & 1 & \\omega^{2} & 1 & \\omega^{2} & \\omega & \\omega^{2} & \\omega^{2} & \\omega & 1 & \\omega^{2} & \\omega^{2} & \\omega^{2} & 1 & 1 & \\omega & 1 & \\omega & \\omega^{2} & \\omega & \\omega & \\omega^{2} & 1 & \\omega \\\\\n",
       "1 & \\omega & 1 & 1 & \\omega^{2} & 1 & \\omega^{2} & \\omega & \\omega^{2} & \\omega^{2} & \\omega & 1 & \\omega^{2} & \\omega^{2} & \\omega^{2} & 1 & 1 & \\omega & 1 & \\omega & \\omega^{2} & \\omega & \\omega & \\omega^{2} & 1 & \\omega & \\omega \\\\\n",
       "1 & 1 & 1 & \\omega^{2} & 1 & \\omega^{2} & \\omega & \\omega^{2} & \\omega^{2} & \\omega & 1 & \\omega^{2} & \\omega^{2} & \\omega^{2} & 1 & 1 & \\omega & 1 & \\omega & \\omega^{2} & \\omega & \\omega & \\omega^{2} & 1 & \\omega & \\omega & \\omega \\\\\n",
       "1 & 1 & \\omega^{2} & 1 & \\omega^{2} & \\omega & \\omega^{2} & \\omega^{2} & \\omega & 1 & \\omega^{2} & \\omega^{2} & \\omega^{2} & 1 & 1 & \\omega & 1 & \\omega & \\omega^{2} & \\omega & \\omega & \\omega^{2} & 1 & \\omega & \\omega & \\omega & 1\n",
       "\\end{array}\\right)\\)</html>"
      ],
      "text/latex": [
       "$\\displaystyle \\left(\\begin{array}{rrrrrrrrrrrrrrrrrrrrrrrrrrr}\n",
       "1 & 1 & 1 & 1 & 1 & 1 & 1 & 1 & 1 & 1 & 1 & 1 & 1 & 1 & 1 & 1 & 1 & 1 & 1 & 1 & 1 & 1 & 1 & 1 & 1 & 1 & 1 \\\\\n",
       "1 & \\omega^{2} & 1 & \\omega^{2} & \\omega & \\omega^{2} & \\omega^{2} & \\omega & 1 & \\omega^{2} & \\omega^{2} & \\omega^{2} & 1 & 1 & \\omega & 1 & \\omega & \\omega^{2} & \\omega & \\omega & \\omega^{2} & 1 & \\omega & \\omega & \\omega & 1 & 1 \\\\\n",
       "1 & 1 & \\omega^{2} & \\omega & \\omega^{2} & \\omega^{2} & \\omega & 1 & \\omega^{2} & \\omega^{2} & \\omega^{2} & 1 & 1 & \\omega & 1 & \\omega & \\omega^{2} & \\omega & \\omega & \\omega^{2} & 1 & \\omega & \\omega & \\omega & 1 & 1 & \\omega^{2} \\\\\n",
       "1 & \\omega^{2} & \\omega & \\omega^{2} & \\omega^{2} & \\omega & 1 & \\omega^{2} & \\omega^{2} & \\omega^{2} & 1 & 1 & \\omega & 1 & \\omega & \\omega^{2} & \\omega & \\omega & \\omega^{2} & 1 & \\omega & \\omega & \\omega & 1 & 1 & \\omega^{2} & 1 \\\\\n",
       "1 & \\omega & \\omega^{2} & \\omega^{2} & \\omega & 1 & \\omega^{2} & \\omega^{2} & \\omega^{2} & 1 & 1 & \\omega & 1 & \\omega & \\omega^{2} & \\omega & \\omega & \\omega^{2} & 1 & \\omega & \\omega & \\omega & 1 & 1 & \\omega^{2} & 1 & \\omega^{2} \\\\\n",
       "1 & \\omega^{2} & \\omega^{2} & \\omega & 1 & \\omega^{2} & \\omega^{2} & \\omega^{2} & 1 & 1 & \\omega & 1 & \\omega & \\omega^{2} & \\omega & \\omega & \\omega^{2} & 1 & \\omega & \\omega & \\omega & 1 & 1 & \\omega^{2} & 1 & \\omega^{2} & \\omega \\\\\n",
       "1 & \\omega^{2} & \\omega & 1 & \\omega^{2} & \\omega^{2} & \\omega^{2} & 1 & 1 & \\omega & 1 & \\omega & \\omega^{2} & \\omega & \\omega & \\omega^{2} & 1 & \\omega & \\omega & \\omega & 1 & 1 & \\omega^{2} & 1 & \\omega^{2} & \\omega & \\omega^{2} \\\\\n",
       "1 & \\omega & 1 & \\omega^{2} & \\omega^{2} & \\omega^{2} & 1 & 1 & \\omega & 1 & \\omega & \\omega^{2} & \\omega & \\omega & \\omega^{2} & 1 & \\omega & \\omega & \\omega & 1 & 1 & \\omega^{2} & 1 & \\omega^{2} & \\omega & \\omega^{2} & \\omega^{2} \\\\\n",
       "1 & 1 & \\omega^{2} & \\omega^{2} & \\omega^{2} & 1 & 1 & \\omega & 1 & \\omega & \\omega^{2} & \\omega & \\omega & \\omega^{2} & 1 & \\omega & \\omega & \\omega & 1 & 1 & \\omega^{2} & 1 & \\omega^{2} & \\omega & \\omega^{2} & \\omega^{2} & \\omega \\\\\n",
       "1 & \\omega^{2} & \\omega^{2} & \\omega^{2} & 1 & 1 & \\omega & 1 & \\omega & \\omega^{2} & \\omega & \\omega & \\omega^{2} & 1 & \\omega & \\omega & \\omega & 1 & 1 & \\omega^{2} & 1 & \\omega^{2} & \\omega & \\omega^{2} & \\omega^{2} & \\omega & 1 \\\\\n",
       "1 & \\omega^{2} & \\omega^{2} & 1 & 1 & \\omega & 1 & \\omega & \\omega^{2} & \\omega & \\omega & \\omega^{2} & 1 & \\omega & \\omega & \\omega & 1 & 1 & \\omega^{2} & 1 & \\omega^{2} & \\omega & \\omega^{2} & \\omega^{2} & \\omega & 1 & \\omega^{2} \\\\\n",
       "1 & \\omega^{2} & 1 & 1 & \\omega & 1 & \\omega & \\omega^{2} & \\omega & \\omega & \\omega^{2} & 1 & \\omega & \\omega & \\omega & 1 & 1 & \\omega^{2} & 1 & \\omega^{2} & \\omega & \\omega^{2} & \\omega^{2} & \\omega & 1 & \\omega^{2} & \\omega^{2} \\\\\n",
       "1 & 1 & 1 & \\omega & 1 & \\omega & \\omega^{2} & \\omega & \\omega & \\omega^{2} & 1 & \\omega & \\omega & \\omega & 1 & 1 & \\omega^{2} & 1 & \\omega^{2} & \\omega & \\omega^{2} & \\omega^{2} & \\omega & 1 & \\omega^{2} & \\omega^{2} & \\omega^{2} \\\\\n",
       "1 & 1 & \\omega & 1 & \\omega & \\omega^{2} & \\omega & \\omega & \\omega^{2} & 1 & \\omega & \\omega & \\omega & 1 & 1 & \\omega^{2} & 1 & \\omega^{2} & \\omega & \\omega^{2} & \\omega^{2} & \\omega & 1 & \\omega^{2} & \\omega^{2} & \\omega^{2} & 1 \\\\\n",
       "1 & \\omega & 1 & \\omega & \\omega^{2} & \\omega & \\omega & \\omega^{2} & 1 & \\omega & \\omega & \\omega & 1 & 1 & \\omega^{2} & 1 & \\omega^{2} & \\omega & \\omega^{2} & \\omega^{2} & \\omega & 1 & \\omega^{2} & \\omega^{2} & \\omega^{2} & 1 & 1 \\\\\n",
       "1 & 1 & \\omega & \\omega^{2} & \\omega & \\omega & \\omega^{2} & 1 & \\omega & \\omega & \\omega & 1 & 1 & \\omega^{2} & 1 & \\omega^{2} & \\omega & \\omega^{2} & \\omega^{2} & \\omega & 1 & \\omega^{2} & \\omega^{2} & \\omega^{2} & 1 & 1 & \\omega \\\\\n",
       "1 & \\omega & \\omega^{2} & \\omega & \\omega & \\omega^{2} & 1 & \\omega & \\omega & \\omega & 1 & 1 & \\omega^{2} & 1 & \\omega^{2} & \\omega & \\omega^{2} & \\omega^{2} & \\omega & 1 & \\omega^{2} & \\omega^{2} & \\omega^{2} & 1 & 1 & \\omega & 1 \\\\\n",
       "1 & \\omega^{2} & \\omega & \\omega & \\omega^{2} & 1 & \\omega & \\omega & \\omega & 1 & 1 & \\omega^{2} & 1 & \\omega^{2} & \\omega & \\omega^{2} & \\omega^{2} & \\omega & 1 & \\omega^{2} & \\omega^{2} & \\omega^{2} & 1 & 1 & \\omega & 1 & \\omega \\\\\n",
       "1 & \\omega & \\omega & \\omega^{2} & 1 & \\omega & \\omega & \\omega & 1 & 1 & \\omega^{2} & 1 & \\omega^{2} & \\omega & \\omega^{2} & \\omega^{2} & \\omega & 1 & \\omega^{2} & \\omega^{2} & \\omega^{2} & 1 & 1 & \\omega & 1 & \\omega & \\omega^{2} \\\\\n",
       "1 & \\omega & \\omega^{2} & 1 & \\omega & \\omega & \\omega & 1 & 1 & \\omega^{2} & 1 & \\omega^{2} & \\omega & \\omega^{2} & \\omega^{2} & \\omega & 1 & \\omega^{2} & \\omega^{2} & \\omega^{2} & 1 & 1 & \\omega & 1 & \\omega & \\omega^{2} & \\omega \\\\\n",
       "1 & \\omega^{2} & 1 & \\omega & \\omega & \\omega & 1 & 1 & \\omega^{2} & 1 & \\omega^{2} & \\omega & \\omega^{2} & \\omega^{2} & \\omega & 1 & \\omega^{2} & \\omega^{2} & \\omega^{2} & 1 & 1 & \\omega & 1 & \\omega & \\omega^{2} & \\omega & \\omega \\\\\n",
       "1 & 1 & \\omega & \\omega & \\omega & 1 & 1 & \\omega^{2} & 1 & \\omega^{2} & \\omega & \\omega^{2} & \\omega^{2} & \\omega & 1 & \\omega^{2} & \\omega^{2} & \\omega^{2} & 1 & 1 & \\omega & 1 & \\omega & \\omega^{2} & \\omega & \\omega & \\omega^{2} \\\\\n",
       "1 & \\omega & \\omega & \\omega & 1 & 1 & \\omega^{2} & 1 & \\omega^{2} & \\omega & \\omega^{2} & \\omega^{2} & \\omega & 1 & \\omega^{2} & \\omega^{2} & \\omega^{2} & 1 & 1 & \\omega & 1 & \\omega & \\omega^{2} & \\omega & \\omega & \\omega^{2} & 1 \\\\\n",
       "1 & \\omega & \\omega & 1 & 1 & \\omega^{2} & 1 & \\omega^{2} & \\omega & \\omega^{2} & \\omega^{2} & \\omega & 1 & \\omega^{2} & \\omega^{2} & \\omega^{2} & 1 & 1 & \\omega & 1 & \\omega & \\omega^{2} & \\omega & \\omega & \\omega^{2} & 1 & \\omega \\\\\n",
       "1 & \\omega & 1 & 1 & \\omega^{2} & 1 & \\omega^{2} & \\omega & \\omega^{2} & \\omega^{2} & \\omega & 1 & \\omega^{2} & \\omega^{2} & \\omega^{2} & 1 & 1 & \\omega & 1 & \\omega & \\omega^{2} & \\omega & \\omega & \\omega^{2} & 1 & \\omega & \\omega \\\\\n",
       "1 & 1 & 1 & \\omega^{2} & 1 & \\omega^{2} & \\omega & \\omega^{2} & \\omega^{2} & \\omega & 1 & \\omega^{2} & \\omega^{2} & \\omega^{2} & 1 & 1 & \\omega & 1 & \\omega & \\omega^{2} & \\omega & \\omega & \\omega^{2} & 1 & \\omega & \\omega & \\omega \\\\\n",
       "1 & 1 & \\omega^{2} & 1 & \\omega^{2} & \\omega & \\omega^{2} & \\omega^{2} & \\omega & 1 & \\omega^{2} & \\omega^{2} & \\omega^{2} & 1 & 1 & \\omega & 1 & \\omega & \\omega^{2} & \\omega & \\omega & \\omega^{2} & 1 & \\omega & \\omega & \\omega & 1\n",
       "\\end{array}\\right)$"
      ],
      "text/plain": [
       "27 x 27 dense matrix over Symbolic Ring (use the '.str()' method to see the entries)"
      ]
     },
     "execution_count": 25,
     "metadata": {},
     "output_type": "execute_result"
    }
   ],
   "source": [
    "DPS(ray)"
   ]
  },
  {
   "cell_type": "code",
   "execution_count": 26,
   "id": "4994ff18-8afc-4a53-879a-d3a71496486e",
   "metadata": {},
   "outputs": [
    {
     "data": {
      "text/html": [
       "<html>\\(\\displaystyle \\left(\\begin{array}{rrrrrrrrrrrrrrrrrrrrrrrrrrr}\n",
       "1 & 1 & 1 & 1 & 1 & 1 & 1 & 1 & 1 & 1 & 1 & 1 & 1 & 1 & 1 & 1 & 1 & 1 & 1 & 1 & 1 & 1 & 1 & 1 & 1 & 1 & 1 \\\\\n",
       "1 & \\omega^{2} & 1 & \\omega^{2} & \\omega & \\omega^{2} & \\omega^{2} & \\omega & 1 & \\omega^{2} & \\omega^{2} & \\omega^{2} & 1 & 1 & \\omega & 1 & \\omega & \\omega^{2} & \\omega & \\omega & \\omega^{2} & 1 & \\omega & \\omega & \\omega & 1 & 1 \\\\\n",
       "1 & 1 & \\omega^{2} & \\omega & \\omega^{2} & \\omega^{2} & \\omega & 1 & \\omega^{2} & \\omega^{2} & \\omega^{2} & 1 & 1 & \\omega & 1 & \\omega & \\omega^{2} & \\omega & \\omega & \\omega^{2} & 1 & \\omega & \\omega & \\omega & 1 & 1 & \\omega^{2} \\\\\n",
       "1 & \\omega^{2} & \\omega & \\omega^{2} & \\omega^{2} & \\omega & 1 & \\omega^{2} & \\omega^{2} & \\omega^{2} & 1 & 1 & \\omega & 1 & \\omega & \\omega^{2} & \\omega & \\omega & \\omega^{2} & 1 & \\omega & \\omega & \\omega & 1 & 1 & \\omega^{2} & 1 \\\\\n",
       "1 & \\omega & \\omega^{2} & \\omega^{2} & \\omega & 1 & \\omega^{2} & \\omega^{2} & \\omega^{2} & 1 & 1 & \\omega & 1 & \\omega & \\omega^{2} & \\omega & \\omega & \\omega^{2} & 1 & \\omega & \\omega & \\omega & 1 & 1 & \\omega^{2} & 1 & \\omega^{2} \\\\\n",
       "1 & \\omega^{2} & \\omega^{2} & \\omega & 1 & \\omega^{2} & \\omega^{2} & \\omega^{2} & 1 & 1 & \\omega & 1 & \\omega & \\omega^{2} & \\omega & \\omega & \\omega^{2} & 1 & \\omega & \\omega & \\omega & 1 & 1 & \\omega^{2} & 1 & \\omega^{2} & \\omega \\\\\n",
       "1 & \\omega^{2} & \\omega & 1 & \\omega^{2} & \\omega^{2} & \\omega^{2} & 1 & 1 & \\omega & 1 & \\omega & \\omega^{2} & \\omega & \\omega & \\omega^{2} & 1 & \\omega & \\omega & \\omega & 1 & 1 & \\omega^{2} & 1 & \\omega^{2} & \\omega & \\omega^{2} \\\\\n",
       "1 & \\omega & 1 & \\omega^{2} & \\omega^{2} & \\omega^{2} & 1 & 1 & \\omega & 1 & \\omega & \\omega^{2} & \\omega & \\omega & \\omega^{2} & 1 & \\omega & \\omega & \\omega & 1 & 1 & \\omega^{2} & 1 & \\omega^{2} & \\omega & \\omega^{2} & \\omega^{2} \\\\\n",
       "1 & 1 & \\omega^{2} & \\omega^{2} & \\omega^{2} & 1 & 1 & \\omega & 1 & \\omega & \\omega^{2} & \\omega & \\omega & \\omega^{2} & 1 & \\omega & \\omega & \\omega & 1 & 1 & \\omega^{2} & 1 & \\omega^{2} & \\omega & \\omega^{2} & \\omega^{2} & \\omega \\\\\n",
       "1 & \\omega^{2} & \\omega^{2} & \\omega^{2} & 1 & 1 & \\omega & 1 & \\omega & \\omega^{2} & \\omega & \\omega & \\omega^{2} & 1 & \\omega & \\omega & \\omega & 1 & 1 & \\omega^{2} & 1 & \\omega^{2} & \\omega & \\omega^{2} & \\omega^{2} & \\omega & 1 \\\\\n",
       "1 & \\omega^{2} & \\omega^{2} & 1 & 1 & \\omega & 1 & \\omega & \\omega^{2} & \\omega & \\omega & \\omega^{2} & 1 & \\omega & \\omega & \\omega & 1 & 1 & \\omega^{2} & 1 & \\omega^{2} & \\omega & \\omega^{2} & \\omega^{2} & \\omega & 1 & \\omega^{2} \\\\\n",
       "1 & \\omega^{2} & 1 & 1 & \\omega & 1 & \\omega & \\omega^{2} & \\omega & \\omega & \\omega^{2} & 1 & \\omega & \\omega & \\omega & 1 & 1 & \\omega^{2} & 1 & \\omega^{2} & \\omega & \\omega^{2} & \\omega^{2} & \\omega & 1 & \\omega^{2} & \\omega^{2} \\\\\n",
       "1 & 1 & 1 & \\omega & 1 & \\omega & \\omega^{2} & \\omega & \\omega & \\omega^{2} & 1 & \\omega & \\omega & \\omega & 1 & 1 & \\omega^{2} & 1 & \\omega^{2} & \\omega & \\omega^{2} & \\omega^{2} & \\omega & 1 & \\omega^{2} & \\omega^{2} & \\omega^{2} \\\\\n",
       "1 & 1 & \\omega & 1 & \\omega & \\omega^{2} & \\omega & \\omega & \\omega^{2} & 1 & \\omega & \\omega & \\omega & 1 & 1 & \\omega^{2} & 1 & \\omega^{2} & \\omega & \\omega^{2} & \\omega^{2} & \\omega & 1 & \\omega^{2} & \\omega^{2} & \\omega^{2} & 1 \\\\\n",
       "1 & \\omega & 1 & \\omega & \\omega^{2} & \\omega & \\omega & \\omega^{2} & 1 & \\omega & \\omega & \\omega & 1 & 1 & \\omega^{2} & 1 & \\omega^{2} & \\omega & \\omega^{2} & \\omega^{2} & \\omega & 1 & \\omega^{2} & \\omega^{2} & \\omega^{2} & 1 & 1 \\\\\n",
       "1 & 1 & \\omega & \\omega^{2} & \\omega & \\omega & \\omega^{2} & 1 & \\omega & \\omega & \\omega & 1 & 1 & \\omega^{2} & 1 & \\omega^{2} & \\omega & \\omega^{2} & \\omega^{2} & \\omega & 1 & \\omega^{2} & \\omega^{2} & \\omega^{2} & 1 & 1 & \\omega \\\\\n",
       "1 & \\omega & \\omega^{2} & \\omega & \\omega & \\omega^{2} & 1 & \\omega & \\omega & \\omega & 1 & 1 & \\omega^{2} & 1 & \\omega^{2} & \\omega & \\omega^{2} & \\omega^{2} & \\omega & 1 & \\omega^{2} & \\omega^{2} & \\omega^{2} & 1 & 1 & \\omega & 1 \\\\\n",
       "1 & \\omega^{2} & \\omega & \\omega & \\omega^{2} & 1 & \\omega & \\omega & \\omega & 1 & 1 & \\omega^{2} & 1 & \\omega^{2} & \\omega & \\omega^{2} & \\omega^{2} & \\omega & 1 & \\omega^{2} & \\omega^{2} & \\omega^{2} & 1 & 1 & \\omega & 1 & \\omega \\\\\n",
       "1 & \\omega & \\omega & \\omega^{2} & 1 & \\omega & \\omega & \\omega & 1 & 1 & \\omega^{2} & 1 & \\omega^{2} & \\omega & \\omega^{2} & \\omega^{2} & \\omega & 1 & \\omega^{2} & \\omega^{2} & \\omega^{2} & 1 & 1 & \\omega & 1 & \\omega & \\omega^{2} \\\\\n",
       "1 & \\omega & \\omega^{2} & 1 & \\omega & \\omega & \\omega & 1 & 1 & \\omega^{2} & 1 & \\omega^{2} & \\omega & \\omega^{2} & \\omega^{2} & \\omega & 1 & \\omega^{2} & \\omega^{2} & \\omega^{2} & 1 & 1 & \\omega & 1 & \\omega & \\omega^{2} & \\omega \\\\\n",
       "1 & \\omega^{2} & 1 & \\omega & \\omega & \\omega & 1 & 1 & \\omega^{2} & 1 & \\omega^{2} & \\omega & \\omega^{2} & \\omega^{2} & \\omega & 1 & \\omega^{2} & \\omega^{2} & \\omega^{2} & 1 & 1 & \\omega & 1 & \\omega & \\omega^{2} & \\omega & \\omega \\\\\n",
       "1 & 1 & \\omega & \\omega & \\omega & 1 & 1 & \\omega^{2} & 1 & \\omega^{2} & \\omega & \\omega^{2} & \\omega^{2} & \\omega & 1 & \\omega^{2} & \\omega^{2} & \\omega^{2} & 1 & 1 & \\omega & 1 & \\omega & \\omega^{2} & \\omega & \\omega & \\omega^{2} \\\\\n",
       "1 & \\omega & \\omega & \\omega & 1 & 1 & \\omega^{2} & 1 & \\omega^{2} & \\omega & \\omega^{2} & \\omega^{2} & \\omega & 1 & \\omega^{2} & \\omega^{2} & \\omega^{2} & 1 & 1 & \\omega & 1 & \\omega & \\omega^{2} & \\omega & \\omega & \\omega^{2} & 1 \\\\\n",
       "1 & \\omega & \\omega & 1 & 1 & \\omega^{2} & 1 & \\omega^{2} & \\omega & \\omega^{2} & \\omega^{2} & \\omega & 1 & \\omega^{2} & \\omega^{2} & \\omega^{2} & 1 & 1 & \\omega & 1 & \\omega & \\omega^{2} & \\omega & \\omega & \\omega^{2} & 1 & \\omega \\\\\n",
       "1 & \\omega & 1 & 1 & \\omega^{2} & 1 & \\omega^{2} & \\omega & \\omega^{2} & \\omega^{2} & \\omega & 1 & \\omega^{2} & \\omega^{2} & \\omega^{2} & 1 & 1 & \\omega & 1 & \\omega & \\omega^{2} & \\omega & \\omega & \\omega^{2} & 1 & \\omega & \\omega \\\\\n",
       "1 & 1 & 1 & \\omega^{2} & 1 & \\omega^{2} & \\omega & \\omega^{2} & \\omega^{2} & \\omega & 1 & \\omega^{2} & \\omega^{2} & \\omega^{2} & 1 & 1 & \\omega & 1 & \\omega & \\omega^{2} & \\omega & \\omega & \\omega^{2} & 1 & \\omega & \\omega & \\omega \\\\\n",
       "1 & 1 & \\omega^{2} & 1 & \\omega^{2} & \\omega & \\omega^{2} & \\omega^{2} & \\omega & 1 & \\omega^{2} & \\omega^{2} & \\omega^{2} & 1 & 1 & \\omega & 1 & \\omega & \\omega^{2} & \\omega & \\omega & \\omega^{2} & 1 & \\omega & \\omega & \\omega & 1\n",
       "\\end{array}\\right)\\)</html>"
      ],
      "text/latex": [
       "$\\displaystyle \\left(\\begin{array}{rrrrrrrrrrrrrrrrrrrrrrrrrrr}\n",
       "1 & 1 & 1 & 1 & 1 & 1 & 1 & 1 & 1 & 1 & 1 & 1 & 1 & 1 & 1 & 1 & 1 & 1 & 1 & 1 & 1 & 1 & 1 & 1 & 1 & 1 & 1 \\\\\n",
       "1 & \\omega^{2} & 1 & \\omega^{2} & \\omega & \\omega^{2} & \\omega^{2} & \\omega & 1 & \\omega^{2} & \\omega^{2} & \\omega^{2} & 1 & 1 & \\omega & 1 & \\omega & \\omega^{2} & \\omega & \\omega & \\omega^{2} & 1 & \\omega & \\omega & \\omega & 1 & 1 \\\\\n",
       "1 & 1 & \\omega^{2} & \\omega & \\omega^{2} & \\omega^{2} & \\omega & 1 & \\omega^{2} & \\omega^{2} & \\omega^{2} & 1 & 1 & \\omega & 1 & \\omega & \\omega^{2} & \\omega & \\omega & \\omega^{2} & 1 & \\omega & \\omega & \\omega & 1 & 1 & \\omega^{2} \\\\\n",
       "1 & \\omega^{2} & \\omega & \\omega^{2} & \\omega^{2} & \\omega & 1 & \\omega^{2} & \\omega^{2} & \\omega^{2} & 1 & 1 & \\omega & 1 & \\omega & \\omega^{2} & \\omega & \\omega & \\omega^{2} & 1 & \\omega & \\omega & \\omega & 1 & 1 & \\omega^{2} & 1 \\\\\n",
       "1 & \\omega & \\omega^{2} & \\omega^{2} & \\omega & 1 & \\omega^{2} & \\omega^{2} & \\omega^{2} & 1 & 1 & \\omega & 1 & \\omega & \\omega^{2} & \\omega & \\omega & \\omega^{2} & 1 & \\omega & \\omega & \\omega & 1 & 1 & \\omega^{2} & 1 & \\omega^{2} \\\\\n",
       "1 & \\omega^{2} & \\omega^{2} & \\omega & 1 & \\omega^{2} & \\omega^{2} & \\omega^{2} & 1 & 1 & \\omega & 1 & \\omega & \\omega^{2} & \\omega & \\omega & \\omega^{2} & 1 & \\omega & \\omega & \\omega & 1 & 1 & \\omega^{2} & 1 & \\omega^{2} & \\omega \\\\\n",
       "1 & \\omega^{2} & \\omega & 1 & \\omega^{2} & \\omega^{2} & \\omega^{2} & 1 & 1 & \\omega & 1 & \\omega & \\omega^{2} & \\omega & \\omega & \\omega^{2} & 1 & \\omega & \\omega & \\omega & 1 & 1 & \\omega^{2} & 1 & \\omega^{2} & \\omega & \\omega^{2} \\\\\n",
       "1 & \\omega & 1 & \\omega^{2} & \\omega^{2} & \\omega^{2} & 1 & 1 & \\omega & 1 & \\omega & \\omega^{2} & \\omega & \\omega & \\omega^{2} & 1 & \\omega & \\omega & \\omega & 1 & 1 & \\omega^{2} & 1 & \\omega^{2} & \\omega & \\omega^{2} & \\omega^{2} \\\\\n",
       "1 & 1 & \\omega^{2} & \\omega^{2} & \\omega^{2} & 1 & 1 & \\omega & 1 & \\omega & \\omega^{2} & \\omega & \\omega & \\omega^{2} & 1 & \\omega & \\omega & \\omega & 1 & 1 & \\omega^{2} & 1 & \\omega^{2} & \\omega & \\omega^{2} & \\omega^{2} & \\omega \\\\\n",
       "1 & \\omega^{2} & \\omega^{2} & \\omega^{2} & 1 & 1 & \\omega & 1 & \\omega & \\omega^{2} & \\omega & \\omega & \\omega^{2} & 1 & \\omega & \\omega & \\omega & 1 & 1 & \\omega^{2} & 1 & \\omega^{2} & \\omega & \\omega^{2} & \\omega^{2} & \\omega & 1 \\\\\n",
       "1 & \\omega^{2} & \\omega^{2} & 1 & 1 & \\omega & 1 & \\omega & \\omega^{2} & \\omega & \\omega & \\omega^{2} & 1 & \\omega & \\omega & \\omega & 1 & 1 & \\omega^{2} & 1 & \\omega^{2} & \\omega & \\omega^{2} & \\omega^{2} & \\omega & 1 & \\omega^{2} \\\\\n",
       "1 & \\omega^{2} & 1 & 1 & \\omega & 1 & \\omega & \\omega^{2} & \\omega & \\omega & \\omega^{2} & 1 & \\omega & \\omega & \\omega & 1 & 1 & \\omega^{2} & 1 & \\omega^{2} & \\omega & \\omega^{2} & \\omega^{2} & \\omega & 1 & \\omega^{2} & \\omega^{2} \\\\\n",
       "1 & 1 & 1 & \\omega & 1 & \\omega & \\omega^{2} & \\omega & \\omega & \\omega^{2} & 1 & \\omega & \\omega & \\omega & 1 & 1 & \\omega^{2} & 1 & \\omega^{2} & \\omega & \\omega^{2} & \\omega^{2} & \\omega & 1 & \\omega^{2} & \\omega^{2} & \\omega^{2} \\\\\n",
       "1 & 1 & \\omega & 1 & \\omega & \\omega^{2} & \\omega & \\omega & \\omega^{2} & 1 & \\omega & \\omega & \\omega & 1 & 1 & \\omega^{2} & 1 & \\omega^{2} & \\omega & \\omega^{2} & \\omega^{2} & \\omega & 1 & \\omega^{2} & \\omega^{2} & \\omega^{2} & 1 \\\\\n",
       "1 & \\omega & 1 & \\omega & \\omega^{2} & \\omega & \\omega & \\omega^{2} & 1 & \\omega & \\omega & \\omega & 1 & 1 & \\omega^{2} & 1 & \\omega^{2} & \\omega & \\omega^{2} & \\omega^{2} & \\omega & 1 & \\omega^{2} & \\omega^{2} & \\omega^{2} & 1 & 1 \\\\\n",
       "1 & 1 & \\omega & \\omega^{2} & \\omega & \\omega & \\omega^{2} & 1 & \\omega & \\omega & \\omega & 1 & 1 & \\omega^{2} & 1 & \\omega^{2} & \\omega & \\omega^{2} & \\omega^{2} & \\omega & 1 & \\omega^{2} & \\omega^{2} & \\omega^{2} & 1 & 1 & \\omega \\\\\n",
       "1 & \\omega & \\omega^{2} & \\omega & \\omega & \\omega^{2} & 1 & \\omega & \\omega & \\omega & 1 & 1 & \\omega^{2} & 1 & \\omega^{2} & \\omega & \\omega^{2} & \\omega^{2} & \\omega & 1 & \\omega^{2} & \\omega^{2} & \\omega^{2} & 1 & 1 & \\omega & 1 \\\\\n",
       "1 & \\omega^{2} & \\omega & \\omega & \\omega^{2} & 1 & \\omega & \\omega & \\omega & 1 & 1 & \\omega^{2} & 1 & \\omega^{2} & \\omega & \\omega^{2} & \\omega^{2} & \\omega & 1 & \\omega^{2} & \\omega^{2} & \\omega^{2} & 1 & 1 & \\omega & 1 & \\omega \\\\\n",
       "1 & \\omega & \\omega & \\omega^{2} & 1 & \\omega & \\omega & \\omega & 1 & 1 & \\omega^{2} & 1 & \\omega^{2} & \\omega & \\omega^{2} & \\omega^{2} & \\omega & 1 & \\omega^{2} & \\omega^{2} & \\omega^{2} & 1 & 1 & \\omega & 1 & \\omega & \\omega^{2} \\\\\n",
       "1 & \\omega & \\omega^{2} & 1 & \\omega & \\omega & \\omega & 1 & 1 & \\omega^{2} & 1 & \\omega^{2} & \\omega & \\omega^{2} & \\omega^{2} & \\omega & 1 & \\omega^{2} & \\omega^{2} & \\omega^{2} & 1 & 1 & \\omega & 1 & \\omega & \\omega^{2} & \\omega \\\\\n",
       "1 & \\omega^{2} & 1 & \\omega & \\omega & \\omega & 1 & 1 & \\omega^{2} & 1 & \\omega^{2} & \\omega & \\omega^{2} & \\omega^{2} & \\omega & 1 & \\omega^{2} & \\omega^{2} & \\omega^{2} & 1 & 1 & \\omega & 1 & \\omega & \\omega^{2} & \\omega & \\omega \\\\\n",
       "1 & 1 & \\omega & \\omega & \\omega & 1 & 1 & \\omega^{2} & 1 & \\omega^{2} & \\omega & \\omega^{2} & \\omega^{2} & \\omega & 1 & \\omega^{2} & \\omega^{2} & \\omega^{2} & 1 & 1 & \\omega & 1 & \\omega & \\omega^{2} & \\omega & \\omega & \\omega^{2} \\\\\n",
       "1 & \\omega & \\omega & \\omega & 1 & 1 & \\omega^{2} & 1 & \\omega^{2} & \\omega & \\omega^{2} & \\omega^{2} & \\omega & 1 & \\omega^{2} & \\omega^{2} & \\omega^{2} & 1 & 1 & \\omega & 1 & \\omega & \\omega^{2} & \\omega & \\omega & \\omega^{2} & 1 \\\\\n",
       "1 & \\omega & \\omega & 1 & 1 & \\omega^{2} & 1 & \\omega^{2} & \\omega & \\omega^{2} & \\omega^{2} & \\omega & 1 & \\omega^{2} & \\omega^{2} & \\omega^{2} & 1 & 1 & \\omega & 1 & \\omega & \\omega^{2} & \\omega & \\omega & \\omega^{2} & 1 & \\omega \\\\\n",
       "1 & \\omega & 1 & 1 & \\omega^{2} & 1 & \\omega^{2} & \\omega & \\omega^{2} & \\omega^{2} & \\omega & 1 & \\omega^{2} & \\omega^{2} & \\omega^{2} & 1 & 1 & \\omega & 1 & \\omega & \\omega^{2} & \\omega & \\omega & \\omega^{2} & 1 & \\omega & \\omega \\\\\n",
       "1 & 1 & 1 & \\omega^{2} & 1 & \\omega^{2} & \\omega & \\omega^{2} & \\omega^{2} & \\omega & 1 & \\omega^{2} & \\omega^{2} & \\omega^{2} & 1 & 1 & \\omega & 1 & \\omega & \\omega^{2} & \\omega & \\omega & \\omega^{2} & 1 & \\omega & \\omega & \\omega \\\\\n",
       "1 & 1 & \\omega^{2} & 1 & \\omega^{2} & \\omega & \\omega^{2} & \\omega^{2} & \\omega & 1 & \\omega^{2} & \\omega^{2} & \\omega^{2} & 1 & 1 & \\omega & 1 & \\omega & \\omega^{2} & \\omega & \\omega & \\omega^{2} & 1 & \\omega & \\omega & \\omega & 1\n",
       "\\end{array}\\right)$"
      ],
      "text/plain": [
       "27 x 27 dense matrix over Symbolic Ring (use the '.str()' method to see the entries)"
      ]
     },
     "execution_count": 26,
     "metadata": {},
     "output_type": "execute_result"
    }
   ],
   "source": [
    "DPS(albert)"
   ]
  },
  {
   "cell_type": "code",
   "execution_count": 27,
   "id": "815eb9bf-7a94-4659-a4fb-13c1936bcbe6",
   "metadata": {},
   "outputs": [
    {
     "data": {
      "text/html": [
       "<html>\\(\\displaystyle \\mathrm{True}\\)</html>"
      ],
      "text/latex": [
       "$\\displaystyle \\mathrm{True}$"
      ],
      "text/plain": [
       "True"
      ]
     },
     "execution_count": 27,
     "metadata": {},
     "output_type": "execute_result"
    }
   ],
   "source": [
    "DPS(ray) == DPS(albert)"
   ]
  },
  {
   "cell_type": "code",
   "execution_count": null,
   "id": "21e2fc52-8251-415e-90b9-803f0f516575",
   "metadata": {},
   "outputs": [],
   "source": []
  }
 ],
 "metadata": {
  "kernelspec": {
   "display_name": "SageMath 9.8",
   "language": "sage",
   "name": "sagemath"
  },
  "language_info": {
   "codemirror_mode": {
    "name": "ipython",
    "version": 3
   },
   "file_extension": ".py",
   "mimetype": "text/x-python",
   "name": "python",
   "nbconvert_exporter": "python",
   "pygments_lexer": "ipython3",
   "version": "3.9.16"
  }
 },
 "nbformat": 4,
 "nbformat_minor": 5
}
