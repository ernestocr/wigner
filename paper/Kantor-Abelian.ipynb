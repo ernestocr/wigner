{
 "cells": [
  {
   "cell_type": "code",
   "execution_count": 1,
   "id": "9c656b18-c4d2-454e-a57d-001d930b4d18",
   "metadata": {},
   "outputs": [],
   "source": [
    "%display latex"
   ]
  },
  {
   "cell_type": "code",
   "execution_count": 2,
   "id": "1baa827e-4ee0-4550-b2f0-96d626788e4a",
   "metadata": {},
   "outputs": [],
   "source": [
    "N = 5\n",
    "F = GF(2^N, 'x')\n",
    "x = F.gen()"
   ]
  },
  {
   "cell_type": "code",
   "execution_count": 3,
   "id": "591d41a0-1d5c-49d4-b5fb-9adbea609653",
   "metadata": {},
   "outputs": [
    {
     "data": {
      "text/html": [
       "<html>\\(\\displaystyle x^{5} + x^{2} + 1\\)</html>"
      ],
      "text/latex": [
       "$\\displaystyle x^{5} + x^{2} + 1$"
      ],
      "text/plain": [
       "x^5 + x^2 + 1"
      ]
     },
     "execution_count": 3,
     "metadata": {},
     "output_type": "execute_result"
    }
   ],
   "source": [
    "F.polynomial()"
   ]
  },
  {
   "cell_type": "code",
   "execution_count": 4,
   "id": "bff75d8f-b2c8-44e3-85c5-296447b099cb",
   "metadata": {},
   "outputs": [],
   "source": [
    "# How did I find this basis? Jungnickel's paper and brute force...\n",
    "basis = [x^3, x^5, x^11, x^22, x^24]"
   ]
  },
  {
   "cell_type": "code",
   "execution_count": 5,
   "id": "ca82f948-28f4-4d31-a5eb-ac6d857be47a",
   "metadata": {},
   "outputs": [],
   "source": [
    "def checkSelfDual(basis):\n",
    "    for a in basis:\n",
    "        for b in basis:\n",
    "            if a == b:\n",
    "                if (a * b).trace() != F(1):\n",
    "                    raise Exception(a,b)\n",
    "            else:\n",
    "                if (a * b).trace() != F(0):\n",
    "                    raise Exception(a,b)"
   ]
  },
  {
   "cell_type": "code",
   "execution_count": 6,
   "id": "a7be1346-f33f-46c1-804f-2d5944cc524f",
   "metadata": {},
   "outputs": [],
   "source": [
    "checkSelfDual(basis)"
   ]
  },
  {
   "cell_type": "code",
   "execution_count": 7,
   "id": "f7fe039e-2432-48f6-a8be-93bd7d4cf1a5",
   "metadata": {},
   "outputs": [],
   "source": [
    "# express an element as a linear combination of the basis\n",
    "components = lambda k: [(k * el).trace() for el in basis]\n",
    "\n",
    "# additive group character\n",
    "chi = lambda k: exp(pi * I * int(k.trace()))\n",
    "\n",
    "def toInt(k):\n",
    "    return list(F).index(k)"
   ]
  },
  {
   "cell_type": "code",
   "execution_count": 8,
   "id": "c381193c-9d15-4083-877a-3200c84b2558",
   "metadata": {},
   "outputs": [],
   "source": [
    "y = var('y')\n",
    "\n",
    "# compute the coefficients for the basis elements,\n",
    "def solve_basis(basis, curve):\n",
    "    sols = []\n",
    "    for k in basis:\n",
    "        sol = solve(chi(k * curve(k)) == y^2, y, solution_dict=True)\n",
    "        sols.append(sol[1]) # positive solutions only (choice)\n",
    "    return sols"
   ]
  },
  {
   "cell_type": "code",
   "execution_count": 9,
   "id": "ee5a7614-88ae-4312-abb7-c13b5a2eab0e",
   "metadata": {},
   "outputs": [],
   "source": [
    "# after computing the solutions we can simply\n",
    "# get them for each basis element.\n",
    "def basis_c(a, l, sols):\n",
    "    if a == 0:\n",
    "        return 1\n",
    "    return sols[l][y]"
   ]
  },
  {
   "cell_type": "code",
   "execution_count": 10,
   "id": "8b03f9fd-94fa-41b5-89ea-94f849665739",
   "metadata": {},
   "outputs": [],
   "source": [
    "# Compute an arbitrary coefficient c_{\\alpha,f} for a \n",
    "# given curve f using the general formula.\n",
    "def c(alpha, curve, sols=None):\n",
    "    if not sols:\n",
    "        sols = solve_basis(basis, curve)\n",
    "    \n",
    "    # Expand alpha in the basis\n",
    "    comps = components(alpha)\n",
    "\n",
    "    # Apply the formula\n",
    "    s1 = 0\n",
    "    for k in range(N-1):\n",
    "        s2 = 0\n",
    "        for j in range(k+1, N):\n",
    "            s2 += comps[j] * basis[j]\n",
    "        s1 += s2 * curve(comps[k] * basis[k])\n",
    "        \n",
    "    return chi(s1) * prod([basis_c(a, l, sols) for l, a in enumerate(comps)])"
   ]
  },
  {
   "cell_type": "code",
   "execution_count": 11,
   "id": "7ee5e634-3f02-4dad-81f9-68b8017f104c",
   "metadata": {},
   "outputs": [],
   "source": [
    "def sign_perm(sols, perm=None):\n",
    "    if perm:\n",
    "        for k, sol in enumerate(sols):\n",
    "            sols[k][y] = perm[k] * sols[k][y]\n",
    "    return sols"
   ]
  },
  {
   "cell_type": "code",
   "execution_count": 12,
   "id": "918e8cd2-41f1-49f8-833a-d2e5671d2843",
   "metadata": {},
   "outputs": [
    {
     "name": "stdout",
     "output_type": "stream",
     "text": [
      "Recurrence relation holds!\n"
     ]
    }
   ],
   "source": [
    "for mu in F:\n",
    "    curve = lambda t: mu * t # \\beta = \\mu \\alpha\n",
    "    sols = sign_perm(solve_basis(basis, curve), [1,1,1,1,1])\n",
    "    for k in F:\n",
    "        for kp in F:\n",
    "            lhs = c(k, curve, sols) * c(kp, curve, sols)\n",
    "            rhs = chi(kp * curve(k)) * c(k + kp, curve, sols)\n",
    "            if lhs != rhs:\n",
    "                raise Exception('Recurrence relation does not hold!', mu)\n",
    "print('Recurrence relation holds!')"
   ]
  },
  {
   "cell_type": "code",
   "execution_count": 13,
   "id": "3ebe8d25-531c-4278-a1e3-3711a6448817",
   "metadata": {},
   "outputs": [],
   "source": [
    "def ray(mu):\n",
    "    return lambda t: mu * t"
   ]
  },
  {
   "cell_type": "code",
   "execution_count": 14,
   "id": "f2dd1a10-868c-4d0c-9769-f0fc463bfec7",
   "metadata": {},
   "outputs": [],
   "source": [
    "def PS(curve, perms):\n",
    "    phase_space = zero_matrix(SR, 2^N, 2^N)\n",
    "    phase_space[0,:] = 1 # vertical line\n",
    "    for j, mu in enumerate(F): # iterate through the curve parametr\n",
    "        # same sign choice for a fixed curve parameter\n",
    "        sols = sign_perm(solve_basis(basis, curve(mu)), perms[j])\n",
    "        for i, a in enumerate(F):\n",
    "            # loop through alpha to obtain coefficient and\n",
    "            # corresponding point\n",
    "            coeff = c(a, curve(mu), sols)\n",
    "            b = curve(mu)(a)\n",
    "            phase_space[i, toInt(b)] = coeff\n",
    "    return phase_space"
   ]
  },
  {
   "cell_type": "code",
   "execution_count": 104,
   "id": "76aba360-0eac-4ae5-a6c7-74d8a82e56a6",
   "metadata": {},
   "outputs": [
    {
     "data": {
      "text/html": [
       "<html>\\(\\displaystyle \\left(\\begin{array}{rrrrrrrrrrrrrrrrrrrrrrrrrrrrrrrr}\n",
       "1 & 1 & 1 & 1 & 1 & 1 & 1 & 1 & 1 & 1 & 1 & 1 & 1 & 1 & 1 & 1 & 1 & 1 & 1 & 1 & 1 & 1 & 1 & 1 & 1 & 1 & 1 & 1 & 1 & 1 & 1 & 1 \\\\\n",
       "1 & -1 & -i & 1 & i & -i & -1 & -1 & i & -i & i & -i & i & -1 & 1 & -1 & -i & i & 1 & -i & i & -i & 1 & i & 1 & -i & -1 & 1 & 1 & -1 & i & -1 \\\\\n",
       "1 & -i & 1 & -i & i & 1 & -1 & -i & i & i & -i & i & -1 & 1 & -1 & i & -i & 1 & -i & i & i & 1 & i & -1 & -i & -1 & 1 & -1 & -1 & -i & -1 & 1 \\\\\n",
       "1 & 1 & i & i & 1 & 1 & i & i & i & i & i & 1 & 1 & 1 & i & i & 1 & i & i & i & 1 & i & 1 & i & 1 & 1 & 1 & 1 & i & 1 & 1 & i \\\\\n",
       "1 & -i & i & 1 & -1 & i & i & i & -i & i & 1 & 1 & -1 & -i & -i & -1 & i & -i & -i & -1 & -i & -1 & i & 1 & 1 & 1 & -1 & i & 1 & -1 & -i & -1 \\\\\n",
       "1 & i & 1 & 1 & i & i & i & i & i & 1 & 1 & 1 & i & i & 1 & i & i & i & 1 & i & 1 & i & 1 & 1 & 1 & 1 & i & 1 & 1 & i & 1 & i \\\\\n",
       "1 & 1 & -1 & -i & i & i & -i & i & -1 & -1 & 1 & i & i & 1 & i & -i & -i & -1 & -i & -1 & i & 1 & 1 & -1 & -1 & i & -1 & 1 & -i & 1 & -i & -i \\\\\n",
       "1 & -1 & i & i & -i & i & i & 1 & 1 & -1 & -i & -i & -1 & -i & -i & i & 1 & i & 1 & i & 1 & 1 & 1 & 1 & -i & 1 & 1 & -i & -1 & i & -i & 1 \\\\\n",
       "1 & i & i & -i & i & -i & -1 & -1 & -1 & -i & -i & 1 & -i & -i & i & -1 & i & -1 & -i & -1 & 1 & -1 & 1 & i & 1 & 1 & -i & 1 & i & i & 1 & -1 \\\\\n",
       "1 & i & i & i & i & -1 & -1 & -1 & -i & -i & 1 & i & i & -i & -1 & i & -1 & i & -1 & 1 & -1 & -1 & i & -1 & -1 & i & 1 & -i & i & -1 & -1 & i \\\\\n",
       "1 & -i & -i & -i & 1 & -1 & -1 & i & -i & 1 & -i & -i & -i & 1 & -i & 1 & i & 1 & 1 & -1 & 1 & i & 1 & 1 & -i & 1 & i & -i & 1 & -1 & -i & -i \\\\\n",
       "1 & i & i & 1 & 1 & 1 & i & i & 1 & i & i & i & 1 & i & 1 & i & 1 & 1 & 1 & 1 & i & 1 & 1 & i & 1 & i & i & 1 & 1 & i & i & i \\\\\n",
       "1 & -i & -1 & -1 & 1 & -i & i & 1 & i & -i & -i & 1 & -i & -1 & i & 1 & 1 & -1 & -1 & i & 1 & -1 & -i & -1 & -i & i & -1 & 1 & i & -i & i & i \\\\\n",
       "1 & 1 & 1 & 1 & i & -i & -1 & -i & -i & -i & 1 & i & 1 & -i & -1 & 1 & -1 & 1 & -i & 1 & -1 & -i & 1 & -i & -i & 1 & 1 & -i & i & -i & -i & i \\\\\n",
       "1 & 1 & -1 & i & i & 1 & -i & -i & i & -1 & -i & 1 & i & 1 & -1 & -1 & 1 & i & -1 & -1 & -i & -1 & i & -i & 1 & 1 & -i & i & i & -i & -i & -1 \\\\\n",
       "1 & -1 & -i & i & 1 & -i & -i & -i & -1 & i & 1 & i & 1 & 1 & -1 & 1 & i & -1 & 1 & i & -1 & -i & i & 1 & -1 & -i & -i & i & i & -i & -1 & -1 \\\\\n",
       "1 & i & i & 1 & -i & -i & i & -1 & -i & 1 & i & 1 & -1 & -1 & 1 & i & -1 & -1 & -i & -1 & i & -i & 1 & 1 & -i & i & i & -i & -i & -1 & 1 & -1 \\\\\n",
       "1 & i & -1 & -i & -i & -i & 1 & -i & 1 & i & -1 & 1 & 1 & -1 & -i & -1 & 1 & -i & 1 & i & i & -1 & -1 & i & -i & -i & i & i & 1 & -1 & -1 & i \\\\\n",
       "1 & 1 & i & -i & i & 1 & i & -1 & i & 1 & 1 & -1 & -1 & -i & -1 & 1 & -i & -1 & -i & -i & -1 & 1 & i & i & i & -i & i & 1 & -1 & -1 & -i & -i \\\\\n",
       "1 & i & -i & i & 1 & -i & -1 & -i & 1 & 1 & 1 & 1 & -i & 1 & -1 & -i & -1 & i & i & 1 & -1 & -i & -i & i & i & i & 1 & 1 & 1 & -i & i & 1 \\\\\n",
       "1 & i & -i & 1 & -i & -1 & -i & -1 & -1 & -1 & 1 & -i & -1 & 1 & -i & 1 & -i & -i & -1 & 1 & -i & i & i & i & i & -1 & 1 & 1 & i & i & -1 & i \\\\\n",
       "1 & i & -1 & i & -1 & i & 1 & 1 & -1 & -1 & i & 1 & -1 & i & -1 & -i & -i & 1 & 1 & -i & -i & -i & i & -i & 1 & -1 & 1 & -i & i & -1 & -i & i \\\\\n",
       "1 & 1 & i & 1 & i & 1 & 1 & 1 & 1 & i & 1 & 1 & i & 1 & i & i & 1 & 1 & i & i & i & i & i & 1 & 1 & 1 & i & i & 1 & i & i & i \\\\\n",
       "1 & i & -1 & i & 1 & 1 & -1 & -1 & i & -1 & -1 & i & 1 & i & -i & -1 & 1 & i & -i & -i & -i & -i & 1 & -1 & 1 & i & -i & 1 & i & -i & -i & -1 \\\\\n",
       "1 & 1 & i & 1 & 1 & 1 & 1 & i & 1 & 1 & i & 1 & i & i & 1 & 1 & i & i & i & i & i & 1 & 1 & 1 & i & i & 1 & i & i & i & 1 & i \\\\\n",
       "1 & -i & -1 & 1 & 1 & 1 & i & -1 & 1 & i & -1 & -i & -i & -1 & 1 & i & -i & i & i & i & -1 & 1 & 1 & i & -i & -1 & -i & -i & i & -1 & -i & -1 \\\\\n",
       "1 & -1 & -1 & -1 & -1 & -i & 1 & -1 & -i & 1 & -i & i & -1 & -1 & -i & i & -i & i & i & 1 & 1 & -1 & i & i & 1 & i & -i & i & 1 & -i & 1 & -i \\\\\n",
       "1 & 1 & -1 & 1 & i & 1 & 1 & -i & 1 & i & i & 1 & -1 & i & i & -i & i & -i & -1 & -1 & -1 & -i & -i & 1 & -i & -i & i & -1 & i & -1 & -i & -1 \\\\\n",
       "1 & 1 & -1 & i & 1 & 1 & -i & -1 & i & i & -1 & 1 & -i & -i & -i & i & i & -1 & -1 & -1 & i & -i & 1 & -i & i & -i & 1 & -i & -1 & i & 1 & -1 \\\\\n",
       "1 & -1 & i & -1 & -1 & i & -1 & -i & -i & 1 & 1 & -i & i & i & i & i & 1 & 1 & -1 & i & -i & 1 & -i & -i & -i & -1 & i & -1 & -i & 1 & 1 & -1 \\\\\n",
       "1 & i & -1 & 1 & i & 1 & -i & -i & 1 & -1 & -i & i & i & i & -i & -1 & 1 & 1 & -i & -i & -1 & -i & i & -i & 1 & i & -1 & i & 1 & -1 & -1 & -1 \\\\\n",
       "1 & 1 & 1 & -i & 1 & i & -i & -1 & 1 & i & i & -i & -i & -i & -1 & -1 & 1 & -i & i & -1 & i & -i & -i & -1 & -i & -1 & -i & -1 & -1 & -1 & -1 & i\n",
       "\\end{array}\\right)\\)</html>"
      ],
      "text/latex": [
       "$\\displaystyle \\left(\\begin{array}{rrrrrrrrrrrrrrrrrrrrrrrrrrrrrrrr}\n",
       "1 & 1 & 1 & 1 & 1 & 1 & 1 & 1 & 1 & 1 & 1 & 1 & 1 & 1 & 1 & 1 & 1 & 1 & 1 & 1 & 1 & 1 & 1 & 1 & 1 & 1 & 1 & 1 & 1 & 1 & 1 & 1 \\\\\n",
       "1 & -1 & -i & 1 & i & -i & -1 & -1 & i & -i & i & -i & i & -1 & 1 & -1 & -i & i & 1 & -i & i & -i & 1 & i & 1 & -i & -1 & 1 & 1 & -1 & i & -1 \\\\\n",
       "1 & -i & 1 & -i & i & 1 & -1 & -i & i & i & -i & i & -1 & 1 & -1 & i & -i & 1 & -i & i & i & 1 & i & -1 & -i & -1 & 1 & -1 & -1 & -i & -1 & 1 \\\\\n",
       "1 & 1 & i & i & 1 & 1 & i & i & i & i & i & 1 & 1 & 1 & i & i & 1 & i & i & i & 1 & i & 1 & i & 1 & 1 & 1 & 1 & i & 1 & 1 & i \\\\\n",
       "1 & -i & i & 1 & -1 & i & i & i & -i & i & 1 & 1 & -1 & -i & -i & -1 & i & -i & -i & -1 & -i & -1 & i & 1 & 1 & 1 & -1 & i & 1 & -1 & -i & -1 \\\\\n",
       "1 & i & 1 & 1 & i & i & i & i & i & 1 & 1 & 1 & i & i & 1 & i & i & i & 1 & i & 1 & i & 1 & 1 & 1 & 1 & i & 1 & 1 & i & 1 & i \\\\\n",
       "1 & 1 & -1 & -i & i & i & -i & i & -1 & -1 & 1 & i & i & 1 & i & -i & -i & -1 & -i & -1 & i & 1 & 1 & -1 & -1 & i & -1 & 1 & -i & 1 & -i & -i \\\\\n",
       "1 & -1 & i & i & -i & i & i & 1 & 1 & -1 & -i & -i & -1 & -i & -i & i & 1 & i & 1 & i & 1 & 1 & 1 & 1 & -i & 1 & 1 & -i & -1 & i & -i & 1 \\\\\n",
       "1 & i & i & -i & i & -i & -1 & -1 & -1 & -i & -i & 1 & -i & -i & i & -1 & i & -1 & -i & -1 & 1 & -1 & 1 & i & 1 & 1 & -i & 1 & i & i & 1 & -1 \\\\\n",
       "1 & i & i & i & i & -1 & -1 & -1 & -i & -i & 1 & i & i & -i & -1 & i & -1 & i & -1 & 1 & -1 & -1 & i & -1 & -1 & i & 1 & -i & i & -1 & -1 & i \\\\\n",
       "1 & -i & -i & -i & 1 & -1 & -1 & i & -i & 1 & -i & -i & -i & 1 & -i & 1 & i & 1 & 1 & -1 & 1 & i & 1 & 1 & -i & 1 & i & -i & 1 & -1 & -i & -i \\\\\n",
       "1 & i & i & 1 & 1 & 1 & i & i & 1 & i & i & i & 1 & i & 1 & i & 1 & 1 & 1 & 1 & i & 1 & 1 & i & 1 & i & i & 1 & 1 & i & i & i \\\\\n",
       "1 & -i & -1 & -1 & 1 & -i & i & 1 & i & -i & -i & 1 & -i & -1 & i & 1 & 1 & -1 & -1 & i & 1 & -1 & -i & -1 & -i & i & -1 & 1 & i & -i & i & i \\\\\n",
       "1 & 1 & 1 & 1 & i & -i & -1 & -i & -i & -i & 1 & i & 1 & -i & -1 & 1 & -1 & 1 & -i & 1 & -1 & -i & 1 & -i & -i & 1 & 1 & -i & i & -i & -i & i \\\\\n",
       "1 & 1 & -1 & i & i & 1 & -i & -i & i & -1 & -i & 1 & i & 1 & -1 & -1 & 1 & i & -1 & -1 & -i & -1 & i & -i & 1 & 1 & -i & i & i & -i & -i & -1 \\\\\n",
       "1 & -1 & -i & i & 1 & -i & -i & -i & -1 & i & 1 & i & 1 & 1 & -1 & 1 & i & -1 & 1 & i & -1 & -i & i & 1 & -1 & -i & -i & i & i & -i & -1 & -1 \\\\\n",
       "1 & i & i & 1 & -i & -i & i & -1 & -i & 1 & i & 1 & -1 & -1 & 1 & i & -1 & -1 & -i & -1 & i & -i & 1 & 1 & -i & i & i & -i & -i & -1 & 1 & -1 \\\\\n",
       "1 & i & -1 & -i & -i & -i & 1 & -i & 1 & i & -1 & 1 & 1 & -1 & -i & -1 & 1 & -i & 1 & i & i & -1 & -1 & i & -i & -i & i & i & 1 & -1 & -1 & i \\\\\n",
       "1 & 1 & i & -i & i & 1 & i & -1 & i & 1 & 1 & -1 & -1 & -i & -1 & 1 & -i & -1 & -i & -i & -1 & 1 & i & i & i & -i & i & 1 & -1 & -1 & -i & -i \\\\\n",
       "1 & i & -i & i & 1 & -i & -1 & -i & 1 & 1 & 1 & 1 & -i & 1 & -1 & -i & -1 & i & i & 1 & -1 & -i & -i & i & i & i & 1 & 1 & 1 & -i & i & 1 \\\\\n",
       "1 & i & -i & 1 & -i & -1 & -i & -1 & -1 & -1 & 1 & -i & -1 & 1 & -i & 1 & -i & -i & -1 & 1 & -i & i & i & i & i & -1 & 1 & 1 & i & i & -1 & i \\\\\n",
       "1 & i & -1 & i & -1 & i & 1 & 1 & -1 & -1 & i & 1 & -1 & i & -1 & -i & -i & 1 & 1 & -i & -i & -i & i & -i & 1 & -1 & 1 & -i & i & -1 & -i & i \\\\\n",
       "1 & 1 & i & 1 & i & 1 & 1 & 1 & 1 & i & 1 & 1 & i & 1 & i & i & 1 & 1 & i & i & i & i & i & 1 & 1 & 1 & i & i & 1 & i & i & i \\\\\n",
       "1 & i & -1 & i & 1 & 1 & -1 & -1 & i & -1 & -1 & i & 1 & i & -i & -1 & 1 & i & -i & -i & -i & -i & 1 & -1 & 1 & i & -i & 1 & i & -i & -i & -1 \\\\\n",
       "1 & 1 & i & 1 & 1 & 1 & 1 & i & 1 & 1 & i & 1 & i & i & 1 & 1 & i & i & i & i & i & 1 & 1 & 1 & i & i & 1 & i & i & i & 1 & i \\\\\n",
       "1 & -i & -1 & 1 & 1 & 1 & i & -1 & 1 & i & -1 & -i & -i & -1 & 1 & i & -i & i & i & i & -1 & 1 & 1 & i & -i & -1 & -i & -i & i & -1 & -i & -1 \\\\\n",
       "1 & -1 & -1 & -1 & -1 & -i & 1 & -1 & -i & 1 & -i & i & -1 & -1 & -i & i & -i & i & i & 1 & 1 & -1 & i & i & 1 & i & -i & i & 1 & -i & 1 & -i \\\\\n",
       "1 & 1 & -1 & 1 & i & 1 & 1 & -i & 1 & i & i & 1 & -1 & i & i & -i & i & -i & -1 & -1 & -1 & -i & -i & 1 & -i & -i & i & -1 & i & -1 & -i & -1 \\\\\n",
       "1 & 1 & -1 & i & 1 & 1 & -i & -1 & i & i & -1 & 1 & -i & -i & -i & i & i & -1 & -1 & -1 & i & -i & 1 & -i & i & -i & 1 & -i & -1 & i & 1 & -1 \\\\\n",
       "1 & -1 & i & -1 & -1 & i & -1 & -i & -i & 1 & 1 & -i & i & i & i & i & 1 & 1 & -1 & i & -i & 1 & -i & -i & -i & -1 & i & -1 & -i & 1 & 1 & -1 \\\\\n",
       "1 & i & -1 & 1 & i & 1 & -i & -i & 1 & -1 & -i & i & i & i & -i & -1 & 1 & 1 & -i & -i & -1 & -i & i & -i & 1 & i & -1 & i & 1 & -1 & -1 & -1 \\\\\n",
       "1 & 1 & 1 & -i & 1 & i & -i & -1 & 1 & i & i & -i & -i & -i & -1 & -1 & 1 & -i & i & -1 & i & -i & -i & -1 & -i & -1 & -i & -1 & -1 & -1 & -1 & i\n",
       "\\end{array}\\right)$"
      ],
      "text/plain": [
       "32 x 32 dense matrix over Symbolic Ring (use the '.str()' method to see the entries)"
      ]
     },
     "execution_count": 104,
     "metadata": {},
     "output_type": "execute_result"
    }
   ],
   "source": [
    "ps = PS(ray, [[1,1,1,1,1]] * 32)\n",
    "ps"
   ]
  },
  {
   "cell_type": "markdown",
   "id": "8f1ac8af-cb6d-4aca-b063-af30611f6f74",
   "metadata": {},
   "source": [
    "Kantor's spread which is not isomorphic to the Desarguesian spread is given by the opperation:\n",
    "$$\n",
    "\\alpha = 0,\n",
    "\\quad\n",
    "\\beta = m^2 \\alpha + m T(\\alpha) + T(m\\alpha),\n",
    "$$\n",
    "for $m \\in GF(2^5)$ and $T$ is the field trace function."
   ]
  },
  {
   "cell_type": "code",
   "execution_count": 16,
   "id": "c3582384-40fc-4a4d-8ac2-7d17dea80db7",
   "metadata": {},
   "outputs": [],
   "source": [
    "def Kantor(m):\n",
    "    return lambda a: m^2 * a + m * a.trace() + (m * a).trace()"
   ]
  },
  {
   "cell_type": "markdown",
   "id": "bdc22ddb-e189-4c23-b829-55f1e5e8a1bf",
   "metadata": {},
   "source": [
    "Let's verify that this operation produces an affine plane, i.e., each line is a subspace and there is no non-trivial intersection between lines."
   ]
  },
  {
   "cell_type": "code",
   "execution_count": 17,
   "id": "844a15b1-1f8e-4655-bab6-f6cbe85b4bab",
   "metadata": {},
   "outputs": [],
   "source": [
    "def checkAdditivity(points):\n",
    "    for a1, b1 in points:\n",
    "        for a2, b2 in points:\n",
    "            if (a1 + a2, b1 + b2) not in points:\n",
    "                raise Exception('Not additive!')"
   ]
  },
  {
   "cell_type": "code",
   "execution_count": 18,
   "id": "d15036da-82db-4e44-ba52-8f82a4c0387f",
   "metadata": {},
   "outputs": [],
   "source": [
    "for m in F:\n",
    "    points = [(a, Kantor(m)(a)) for a in F]\n",
    "    checkAdditivity(points)"
   ]
  },
  {
   "cell_type": "code",
   "execution_count": 19,
   "id": "ebb881a5-ab74-4e85-9a95-1a363fbb7d18",
   "metadata": {},
   "outputs": [],
   "source": [
    "for m1 in F:\n",
    "    for m2 in F:\n",
    "        if m1 != m2:\n",
    "            curve1 = [(a, Kantor(m1)(a)) for a in F]\n",
    "            curve2 = [(a, Kantor(m2)(a)) for a in F]\n",
    "            if len(list(set(curve1) & set(curve2))) != 1:\n",
    "                raise Exception('Found non-trivial intersection!')"
   ]
  },
  {
   "cell_type": "markdown",
   "id": "a832c316-2e39-47da-8121-c99dc8f67184",
   "metadata": {},
   "source": [
    "So it is defined perfectly. Now let's test to see if any of the curves are abelian given our choice of phase space $\\Gamma$."
   ]
  },
  {
   "cell_type": "code",
   "execution_count": 20,
   "id": "1c82f90d-947d-4592-9502-580c78344f83",
   "metadata": {},
   "outputs": [],
   "source": [
    "def Proj(u, v=None):\n",
    "    if not v:\n",
    "        v = u\n",
    "    return u.tensor_product(v.conjugate_transpose())\n",
    "\n",
    "Id = identity_matrix(2^N)\n",
    "\n",
    "def Fourier():\n",
    "    s = zero_matrix(SR, 2^N, 2^N)\n",
    "    for i, a in enumerate(F):\n",
    "        for j, b in enumerate(F):\n",
    "            s[i,j] = chi(a * b) / sqrt(2^N)\n",
    "    return s\n",
    "FF = Fourier()"
   ]
  },
  {
   "cell_type": "code",
   "execution_count": 21,
   "id": "d8a8becd-22b7-4c5c-b91d-a4e0752c7013",
   "metadata": {},
   "outputs": [],
   "source": [
    "def phi(a, b):\n",
    "    return ps[toInt(a), toInt(b)]\n",
    "\n",
    "def Z(a):\n",
    "    return diagonal_matrix([chi(a * k) for k in F])\n",
    "\n",
    "def X(b):\n",
    "    return FF.conjugate_transpose() * Z(b) * FF\n",
    "\n",
    "def D(a, b):\n",
    "    return phi(a, b) * Z(a) * X(b)"
   ]
  },
  {
   "cell_type": "code",
   "execution_count": 22,
   "id": "47d8f9a0-cd99-4d35-89e4-7f26a3567390",
   "metadata": {},
   "outputs": [],
   "source": [
    "def testCurve(points):\n",
    "    for p1 in points:\n",
    "        for p2 in points:\n",
    "            p_op = D(p1[0], p1[1]) @ D(p2[0], p2[1])\n",
    "            s_op = D(p1[0] + p2[0], p1[1] + p2[1]) # assuming additivity\n",
    "            if not np.allclose(p_op, s_op):\n",
    "                raise Exception(p1, p2)\n",
    "    return True"
   ]
  },
  {
   "cell_type": "markdown",
   "id": "91433118-028d-442d-8992-6ec69ef98e42",
   "metadata": {},
   "source": [
    "Takes way too long, time to bring `numpy`."
   ]
  },
  {
   "cell_type": "code",
   "execution_count": 23,
   "id": "47782396-7cf0-45e9-a034-f1a8f82e8e74",
   "metadata": {},
   "outputs": [],
   "source": [
    "import numpy as np"
   ]
  },
  {
   "cell_type": "code",
   "execution_count": 24,
   "id": "1dbd0293-e44e-44dd-bf8f-42650ae0302d",
   "metadata": {},
   "outputs": [],
   "source": [
    "chi_np = lambda k: np.exp(np.pi * 1j * int(k.trace()))\n",
    "\n",
    "def Proj(u, v=None):\n",
    "    if not v:\n",
    "        v = u\n",
    "    return np.outer(u, v.conj().T)\n",
    "\n",
    "Id = np.eye(2^N)\n",
    "\n",
    "def Fourier():\n",
    "    s = np.zeros((2^N, 2^N), dtype='complex128')\n",
    "    for i, a in enumerate(F):\n",
    "        for j, b in enumerate(F):\n",
    "            s[i,j] = chi_np(a * b) / np.sqrt(2^N)\n",
    "    return s\n",
    "FF = Fourier()\n",
    "\n",
    "def phi(a, b):\n",
    "    return complex(ps[toInt(a), toInt(b)])\n",
    "\n",
    "def Z(a):\n",
    "    return np.diag([chi_np(a * k) for k in F])\n",
    "\n",
    "def X(b):\n",
    "    return FF.conj().T @ Z(b) @ FF\n",
    "\n",
    "def D(a, b):\n",
    "    return phi(a, b) * Z(a) @ X(b)"
   ]
  },
  {
   "cell_type": "code",
   "execution_count": 24,
   "id": "3b0cd4e4-1703-4be9-8232-1b81abd4a1fa",
   "metadata": {},
   "outputs": [
    {
     "data": {
      "text/html": [
       "<html>\\(\\displaystyle \\mathrm{True}\\)</html>"
      ],
      "text/latex": [
       "$\\displaystyle \\mathrm{True}$"
      ],
      "text/plain": [
       "True"
      ]
     },
     "execution_count": 24,
     "metadata": {},
     "output_type": "execute_result"
    }
   ],
   "source": [
    "points = [(a, Kantor(F(0))(a)) for a in F]\n",
    "testCurve(points)"
   ]
  },
  {
   "cell_type": "code",
   "execution_count": 25,
   "id": "f7e9831d-7833-4c48-bc19-3b71595c3376",
   "metadata": {},
   "outputs": [
    {
     "name": "stdout",
     "output_type": "stream",
     "text": [
      "Testing with m = 0\n",
      "0 abelian\n",
      "Testing with m = x\n",
      "Testing with m = x^2\n",
      "Testing with m = x^3\n",
      "Testing with m = x^4\n",
      "Testing with m = x^2 + 1\n",
      "Testing with m = x^3 + x\n",
      "Testing with m = x^4 + x^2\n",
      "Testing with m = x^3 + x^2 + 1\n",
      "Testing with m = x^4 + x^3 + x\n",
      "Testing with m = x^4 + 1\n",
      "Testing with m = x^2 + x + 1\n",
      "Testing with m = x^3 + x^2 + x\n",
      "Testing with m = x^4 + x^3 + x^2\n",
      "Testing with m = x^4 + x^3 + x^2 + 1\n",
      "Testing with m = x^4 + x^3 + x^2 + x + 1\n",
      "Testing with m = x^4 + x^3 + x + 1\n",
      "Testing with m = x^4 + x + 1\n",
      "Testing with m = x + 1\n",
      "Testing with m = x^2 + x\n",
      "Testing with m = x^3 + x^2\n",
      "Testing with m = x^4 + x^3\n",
      "Testing with m = x^4 + x^2 + 1\n",
      "Testing with m = x^3 + x^2 + x + 1\n",
      "Testing with m = x^4 + x^3 + x^2 + x\n",
      "Testing with m = x^4 + x^3 + 1\n",
      "Testing with m = x^4 + x^2 + x + 1\n",
      "Testing with m = x^3 + x + 1\n",
      "Testing with m = x^4 + x^2 + x\n",
      "Testing with m = x^3 + 1\n",
      "Testing with m = x^4 + x\n",
      "Testing with m = 1\n",
      "1 abelian\n"
     ]
    }
   ],
   "source": [
    "for m in F:\n",
    "    print('Testing with m = {}'.format(m))\n",
    "    points = [(a, Kantor(m)(a)) for a in F]\n",
    "    try:\n",
    "        testCurve(points)\n",
    "        print(m, 'abelian')\n",
    "    except:\n",
    "        continue"
   ]
  },
  {
   "cell_type": "markdown",
   "id": "082e9029-6174-469e-a70e-d05563996e95",
   "metadata": {},
   "source": [
    "No non-trivial abelian curves found! Does this have to do with the fact that the affine planes are not inequivalent?"
   ]
  },
  {
   "cell_type": "markdown",
   "id": "dc601064-e93f-4ffb-8ec4-d5978e1e18d1",
   "metadata": {},
   "source": [
    "Let's take a non-abelian curve from the Kantor set, and switch up all the phases to see if any match."
   ]
  },
  {
   "cell_type": "code",
   "execution_count": 39,
   "id": "1c7beb09-458f-420e-b454-8c773768c0fa",
   "metadata": {},
   "outputs": [
    {
     "name": "stdout",
     "output_type": "stream",
     "text": [
      "Recurrence relation holds!\n"
     ]
    }
   ],
   "source": [
    "for mu in F:\n",
    "    curve = Kantor(mu) # \\beta = \\mu \\alpha\n",
    "    sols = sign_perm(solve_basis(basis, curve), [1,1,1,1,1])\n",
    "    for k in F:\n",
    "        for kp in F:\n",
    "            lhs = c(k, curve, sols) * c(kp, curve, sols)\n",
    "            rhs = chi(kp * curve(k)) * c(k + kp, curve, sols)\n",
    "            if lhs != rhs:\n",
    "                raise Exception('Recurrence relation does not hold!', mu)\n",
    "print('Recurrence relation holds!')"
   ]
  },
  {
   "cell_type": "code",
   "execution_count": 40,
   "id": "03fee98e-18b2-426a-b71d-473a0ffa1d91",
   "metadata": {},
   "outputs": [],
   "source": [
    "from itertools import product"
   ]
  },
  {
   "cell_type": "code",
   "execution_count": 43,
   "id": "f2c466c5-a877-4175-8313-1103a41eda72",
   "metadata": {},
   "outputs": [
    {
     "name": "stdout",
     "output_type": "stream",
     "text": [
      "Recurrence relations holds for (1, 1, 1, 1, 1)\n",
      "Recurrence relations holds for (1, 1, 1, 1, -1)\n",
      "Recurrence relations holds for (1, 1, 1, -1, 1)\n",
      "Recurrence relations holds for (1, 1, 1, -1, -1)\n",
      "Recurrence relations holds for (1, 1, -1, 1, 1)\n",
      "Recurrence relations holds for (1, 1, -1, 1, -1)\n",
      "Recurrence relations holds for (1, 1, -1, -1, 1)\n",
      "Recurrence relations holds for (1, 1, -1, -1, -1)\n",
      "Recurrence relations holds for (1, -1, 1, 1, 1)\n",
      "Recurrence relations holds for (1, -1, 1, 1, -1)\n",
      "Recurrence relations holds for (1, -1, 1, -1, 1)\n",
      "Recurrence relations holds for (1, -1, 1, -1, -1)\n",
      "Recurrence relations holds for (1, -1, -1, 1, 1)\n",
      "Recurrence relations holds for (1, -1, -1, 1, -1)\n",
      "Recurrence relations holds for (1, -1, -1, -1, 1)\n",
      "Recurrence relations holds for (1, -1, -1, -1, -1)\n",
      "Recurrence relations holds for (-1, 1, 1, 1, 1)\n",
      "Recurrence relations holds for (-1, 1, 1, 1, -1)\n",
      "Recurrence relations holds for (-1, 1, 1, -1, 1)\n",
      "Recurrence relations holds for (-1, 1, 1, -1, -1)\n",
      "Recurrence relations holds for (-1, 1, -1, 1, 1)\n",
      "Recurrence relations holds for (-1, 1, -1, 1, -1)\n",
      "Recurrence relations holds for (-1, 1, -1, -1, 1)\n",
      "Recurrence relations holds for (-1, 1, -1, -1, -1)\n",
      "Recurrence relations holds for (-1, -1, 1, 1, 1)\n",
      "Recurrence relations holds for (-1, -1, 1, 1, -1)\n",
      "Recurrence relations holds for (-1, -1, 1, -1, 1)\n",
      "Recurrence relations holds for (-1, -1, 1, -1, -1)\n",
      "Recurrence relations holds for (-1, -1, -1, 1, 1)\n",
      "Recurrence relations holds for (-1, -1, -1, 1, -1)\n",
      "Recurrence relations holds for (-1, -1, -1, -1, 1)\n",
      "Recurrence relations holds for (-1, -1, -1, -1, -1)\n"
     ]
    }
   ],
   "source": [
    "mu = x\n",
    "curve = Kantor(mu) \n",
    "for perm in product([1,-1], repeat=5):\n",
    "    sols = sign_perm(solve_basis(basis, curve), perm)\n",
    "    for k in F:\n",
    "        for kp in F:\n",
    "            lhs = c(k, curve, sols) * c(kp, curve, sols)\n",
    "            rhs = chi(kp * curve(k)) * c(k + kp, curve, sols)\n",
    "            if lhs != rhs:\n",
    "                raise Exception('Recurrence relation does not hold!', mu)\n",
    "    print('Recurrence relations holds for', perm)"
   ]
  },
  {
   "cell_type": "code",
   "execution_count": 45,
   "id": "12eab99d-7cf1-4fb5-abab-aebbda53e603",
   "metadata": {},
   "outputs": [],
   "source": [
    "mu = x\n",
    "curve = Kantor(mu)\n",
    "perm = [-1,-1,-1,-1,-1]\n",
    "sols = sign_perm(solve_basis(basis, curve), perm)\n",
    "\n",
    "def D2(a,b):\n",
    "    return complex(c(a, curve, sols)) * (Z(a) @ X(b))\n",
    "\n",
    "def testCurve(points):\n",
    "    for p1 in points:\n",
    "        for p2 in points:\n",
    "            p_op = D2(p1[0], p1[1]) @ D2(p2[0], p2[1])\n",
    "            s_op = D2(p1[0] + p2[0], p1[1] + p2[1]) # assuming additivity\n",
    "            if not np.allclose(p_op, s_op):\n",
    "                raise Exception(p1, p2)\n",
    "    return True"
   ]
  },
  {
   "cell_type": "code",
   "execution_count": 46,
   "id": "84d5bbb2-150f-4fa7-a0fd-34dfca3e5d9d",
   "metadata": {},
   "outputs": [
    {
     "data": {
      "text/html": [
       "<html>\\(\\displaystyle \\mathrm{True}\\)</html>"
      ],
      "text/latex": [
       "$\\displaystyle \\mathrm{True}$"
      ],
      "text/plain": [
       "True"
      ]
     },
     "execution_count": 46,
     "metadata": {},
     "output_type": "execute_result"
    }
   ],
   "source": [
    "testCurve([(k,curve(k)) for k in F])"
   ]
  },
  {
   "cell_type": "code",
   "execution_count": 53,
   "id": "33e27ce1-941b-4381-a266-3c5d438a8921",
   "metadata": {},
   "outputs": [],
   "source": [
    "ray_phases = [ps[toInt(k), toInt(curve(k))] for k in F]\n",
    "for perm in product([1,-1], repeat=5):\n",
    "    sols = sign_perm(solve_basis(basis, curve), perm)\n",
    "    phases = [c(k, curve, sols) for k in F]\n",
    "    if ray_phases == phases:\n",
    "        print('Permutation produces matching phases!', perm)"
   ]
  },
  {
   "cell_type": "markdown",
   "id": "0bf1b9d4-183b-4c8d-98cc-afb139f8ba7e",
   "metadata": {},
   "source": [
    "Of course since the curve is not abelian in the ray DPS, it cannot be made abelian by a different choice of signs. Now let's test some different DPS sign distributions."
   ]
  },
  {
   "cell_type": "code",
   "execution_count": 63,
   "id": "cdced849-40b7-4856-8071-56f2dc028ddc",
   "metadata": {},
   "outputs": [],
   "source": [
    "mu = x\n",
    "points = [(k, Kantor(mu)(k)) for k in F]"
   ]
  },
  {
   "cell_type": "code",
   "execution_count": 64,
   "id": "6248a536-b2b2-4138-b709-39d576058d90",
   "metadata": {},
   "outputs": [
    {
     "name": "stdout",
     "output_type": "stream",
     "text": [
      "Not abelian for permutation (1, 1, 1, 1, 1)\n",
      "Not abelian for permutation (1, 1, 1, 1, -1)\n",
      "Not abelian for permutation (1, 1, 1, -1, 1)\n",
      "Not abelian for permutation (1, 1, 1, -1, -1)\n",
      "Not abelian for permutation (1, 1, -1, 1, 1)\n",
      "Not abelian for permutation (1, 1, -1, 1, -1)\n",
      "Not abelian for permutation (1, 1, -1, -1, 1)\n",
      "Not abelian for permutation (1, 1, -1, -1, -1)\n",
      "Not abelian for permutation (1, -1, 1, 1, 1)\n",
      "Not abelian for permutation (1, -1, 1, 1, -1)\n",
      "Not abelian for permutation (1, -1, 1, -1, 1)\n",
      "Not abelian for permutation (1, -1, 1, -1, -1)\n",
      "Not abelian for permutation (1, -1, -1, 1, 1)\n",
      "Not abelian for permutation (1, -1, -1, 1, -1)\n",
      "Not abelian for permutation (1, -1, -1, -1, 1)\n",
      "Not abelian for permutation (1, -1, -1, -1, -1)\n",
      "Not abelian for permutation (-1, 1, 1, 1, 1)\n",
      "Not abelian for permutation (-1, 1, 1, 1, -1)\n",
      "Not abelian for permutation (-1, 1, 1, -1, 1)\n",
      "Not abelian for permutation (-1, 1, 1, -1, -1)\n",
      "Not abelian for permutation (-1, 1, -1, 1, 1)\n",
      "Not abelian for permutation (-1, 1, -1, 1, -1)\n",
      "Not abelian for permutation (-1, 1, -1, -1, 1)\n",
      "Not abelian for permutation (-1, 1, -1, -1, -1)\n",
      "Not abelian for permutation (-1, -1, 1, 1, 1)\n",
      "Not abelian for permutation (-1, -1, 1, 1, -1)\n",
      "Not abelian for permutation (-1, -1, 1, -1, 1)\n",
      "Not abelian for permutation (-1, -1, 1, -1, -1)\n",
      "Not abelian for permutation (-1, -1, -1, 1, 1)\n",
      "Not abelian for permutation (-1, -1, -1, 1, -1)\n",
      "Not abelian for permutation (-1, -1, -1, -1, 1)\n",
      "Not abelian for permutation (-1, -1, -1, -1, -1)\n"
     ]
    }
   ],
   "source": [
    "for pe in product([1,-1], repeat=5):\n",
    "    perm = [pe] * 32\n",
    "    ps3 = PS(ray, perm)\n",
    "    \n",
    "    def D3(a, b):\n",
    "        return complex(ps3[toInt(a), toInt(b)]) * Z(a) @ X(b)\n",
    "\n",
    "    try:\n",
    "        for p1 in points:\n",
    "            for p2 in points:\n",
    "                p_op = D3(p1[0], p1[1]) @ D3(p2[0], p2[1])\n",
    "                s_op = D3(p1[0] + p2[0], p1[1] + p2[1])\n",
    "                if not np.allclose(p_op, s_op):\n",
    "                    raise Exception(p1, p2)\n",
    "    except:\n",
    "        print('Not abelian for permutation', pe)\n",
    "        continue\n",
    "\n",
    "    print('Found abelian curve for permutation', pe)"
   ]
  },
  {
   "cell_type": "markdown",
   "id": "dee272f6-38d8-42a0-8a96-e6065bacdf33",
   "metadata": {},
   "source": [
    "Not abelian for any repeated permutation. But what about Sainz idea. By fixing the first basis solution to be positive we obtain:"
   ]
  },
  {
   "cell_type": "code",
   "execution_count": 68,
   "id": "f0d3fcb0-c2ef-4825-8984-2f50dbc8daec",
   "metadata": {},
   "outputs": [
    {
     "name": "stdout",
     "output_type": "stream",
     "text": [
      "Testing curve x\n",
      "Testing curve x^2\n",
      "Testing curve x^3\n",
      "Testing curve x^4\n",
      "Testing curve x^2 + 1\n",
      "Testing curve x^3 + x\n",
      "Testing curve x^4 + x^2\n",
      "Testing curve x^3 + x^2 + 1\n",
      "Testing curve x^4 + x^3 + x\n",
      "Testing curve x^4 + 1\n",
      "Testing curve x^2 + x + 1\n",
      "Testing curve x^3 + x^2 + x\n",
      "Testing curve x^4 + x^3 + x^2\n",
      "Testing curve x^4 + x^3 + x^2 + 1\n",
      "Testing curve x^4 + x^3 + x^2 + x + 1\n",
      "Testing curve x^4 + x^3 + x + 1\n",
      "Testing curve x^4 + x + 1\n",
      "Testing curve x + 1\n"
     ]
    },
    {
     "ename": "KeyboardInterrupt",
     "evalue": "",
     "output_type": "error",
     "traceback": [
      "\u001b[0;31m---------------------------------------------------------------------------\u001b[0m",
      "\u001b[0;31mKeyboardInterrupt\u001b[0m                         Traceback (most recent call last)",
      "File \u001b[0;32m<frozen importlib._bootstrap>:402\u001b[0m, in \u001b[0;36mparent\u001b[0;34m(self)\u001b[0m\n",
      "File \u001b[0;32msrc/cysignals/signals.pyx:310\u001b[0m, in \u001b[0;36mcysignals.signals.python_check_interrupt\u001b[0;34m()\u001b[0m\n",
      "\u001b[0;31mKeyboardInterrupt\u001b[0m: "
     ]
    },
    {
     "name": "stderr",
     "output_type": "stream",
     "text": [
      "Exception ignored in: 'sage.symbolic.expression.py_is_exact'\n",
      "Traceback (most recent call last):\n",
      "  File \"<frozen importlib._bootstrap>\", line 402, in parent\n",
      "  File \"src/cysignals/signals.pyx\", line 310, in cysignals.signals.python_check_interrupt\n",
      "KeyboardInterrupt: \n"
     ]
    },
    {
     "ename": "KeyboardInterrupt",
     "evalue": "",
     "output_type": "error",
     "traceback": [
      "\u001b[0;31m---------------------------------------------------------------------------\u001b[0m",
      "\u001b[0;31mKeyboardInterrupt\u001b[0m                         Traceback (most recent call last)",
      "Cell \u001b[0;32mIn[68], line 9\u001b[0m\n\u001b[1;32m      7\u001b[0m \u001b[38;5;28;01mfor\u001b[39;00m pe \u001b[38;5;129;01min\u001b[39;00m product([Integer(\u001b[38;5;241m1\u001b[39m),\u001b[38;5;241m-\u001b[39mInteger(\u001b[38;5;241m1\u001b[39m)], repeat\u001b[38;5;241m=\u001b[39mInteger(\u001b[38;5;241m5\u001b[39m)):\n\u001b[1;32m      8\u001b[0m     perm \u001b[38;5;241m=\u001b[39m [pe] \u001b[38;5;241m*\u001b[39m Integer(\u001b[38;5;241m32\u001b[39m)\n\u001b[0;32m----> 9\u001b[0m     ps3 \u001b[38;5;241m=\u001b[39m \u001b[43mPS\u001b[49m\u001b[43m(\u001b[49m\u001b[43mray\u001b[49m\u001b[43m,\u001b[49m\u001b[43m \u001b[49m\u001b[43mperm\u001b[49m\u001b[43m)\u001b[49m\n\u001b[1;32m     11\u001b[0m     \u001b[38;5;28;01mdef\u001b[39;00m \u001b[38;5;21mD3\u001b[39m(a, b):\n\u001b[1;32m     12\u001b[0m         \u001b[38;5;28;01mreturn\u001b[39;00m \u001b[38;5;28mcomplex\u001b[39m(ps3[toInt(a), toInt(b)]) \u001b[38;5;241m*\u001b[39m Z(a) \u001b[38;5;241m@\u001b[39m X(b)\n",
      "Cell \u001b[0;32mIn[13], line 10\u001b[0m, in \u001b[0;36mPS\u001b[0;34m(curve, perms)\u001b[0m\n\u001b[1;32m      6\u001b[0m sols \u001b[38;5;241m=\u001b[39m sign_perm(solve_basis(basis, curve(mu)), perms[j])\n\u001b[1;32m      7\u001b[0m \u001b[38;5;28;01mfor\u001b[39;00m i, a \u001b[38;5;129;01min\u001b[39;00m \u001b[38;5;28menumerate\u001b[39m(F):\n\u001b[1;32m      8\u001b[0m     \u001b[38;5;66;03m# loop through alpha to obtain coefficient and\u001b[39;00m\n\u001b[1;32m      9\u001b[0m     \u001b[38;5;66;03m# corresponding point\u001b[39;00m\n\u001b[0;32m---> 10\u001b[0m     coeff \u001b[38;5;241m=\u001b[39m \u001b[43mc\u001b[49m\u001b[43m(\u001b[49m\u001b[43ma\u001b[49m\u001b[43m,\u001b[49m\u001b[43m \u001b[49m\u001b[43mcurve\u001b[49m\u001b[43m(\u001b[49m\u001b[43mmu\u001b[49m\u001b[43m)\u001b[49m\u001b[43m,\u001b[49m\u001b[43m \u001b[49m\u001b[43msols\u001b[49m\u001b[43m)\u001b[49m\n\u001b[1;32m     11\u001b[0m     b \u001b[38;5;241m=\u001b[39m curve(mu)(a)\n\u001b[1;32m     12\u001b[0m     phase_space[i, toInt(b)] \u001b[38;5;241m=\u001b[39m coeff\n",
      "Cell \u001b[0;32mIn[36], line 15\u001b[0m, in \u001b[0;36mc\u001b[0;34m(alpha, curve, sols)\u001b[0m\n\u001b[1;32m     13\u001b[0m     s2 \u001b[38;5;241m=\u001b[39m Integer(\u001b[38;5;241m0\u001b[39m)\n\u001b[1;32m     14\u001b[0m     \u001b[38;5;28;01mfor\u001b[39;00m j \u001b[38;5;129;01min\u001b[39;00m \u001b[38;5;28mrange\u001b[39m(k\u001b[38;5;241m+\u001b[39mInteger(\u001b[38;5;241m1\u001b[39m), N):\n\u001b[0;32m---> 15\u001b[0m         s2 \u001b[38;5;241m+\u001b[39m\u001b[38;5;241m=\u001b[39m \u001b[43mcomps\u001b[49m\u001b[43m[\u001b[49m\u001b[43mj\u001b[49m\u001b[43m]\u001b[49m\u001b[43m \u001b[49m\u001b[38;5;241;43m*\u001b[39;49m\u001b[43m \u001b[49m\u001b[43mbasis\u001b[49m\u001b[43m[\u001b[49m\u001b[43mj\u001b[49m\u001b[43m]\u001b[49m\n\u001b[1;32m     16\u001b[0m     s1 \u001b[38;5;241m+\u001b[39m\u001b[38;5;241m=\u001b[39m s2 \u001b[38;5;241m*\u001b[39m curve(comps[k] \u001b[38;5;241m*\u001b[39m basis[k])\n\u001b[1;32m     18\u001b[0m \u001b[38;5;28;01mreturn\u001b[39;00m chi(s1) \u001b[38;5;241m*\u001b[39m prod([basis_c(a, l, sols) \u001b[38;5;28;01mfor\u001b[39;00m l, a \u001b[38;5;129;01min\u001b[39;00m \u001b[38;5;28menumerate\u001b[39m(comps)])\n",
      "File \u001b[0;32m~/mambaforge/envs/wigner/lib/python3.9/site-packages/sage/structure/element.pyx:1515\u001b[0m, in \u001b[0;36msage.structure.element.Element.__mul__ (build/cythonized/sage/structure/element.c:12390)\u001b[0;34m()\u001b[0m\n\u001b[1;32m   1513\u001b[0m     return (<Element>left)._mul_(right)\n\u001b[1;32m   1514\u001b[0m if BOTH_ARE_ELEMENT(cl):\n\u001b[0;32m-> 1515\u001b[0m     return coercion_model.bin_op(left, right, mul)\n\u001b[1;32m   1516\u001b[0m \n\u001b[1;32m   1517\u001b[0m cdef long value\n",
      "File \u001b[0;32m~/mambaforge/envs/wigner/lib/python3.9/site-packages/sage/structure/coerce.pyx:1200\u001b[0m, in \u001b[0;36msage.structure.coerce.CoercionModel.bin_op (build/cythonized/sage/structure/coerce.c:10795)\u001b[0;34m()\u001b[0m\n\u001b[1;32m   1198\u001b[0m # Now coerce to a common parent and do the operation there\n\u001b[1;32m   1199\u001b[0m try:\n\u001b[0;32m-> 1200\u001b[0m     xy = self.canonical_coercion(x, y)\n\u001b[1;32m   1201\u001b[0m except TypeError:\n\u001b[1;32m   1202\u001b[0m     self._record_exception()\n",
      "File \u001b[0;32m~/mambaforge/envs/wigner/lib/python3.9/site-packages/sage/structure/coerce.pyx:1311\u001b[0m, in \u001b[0;36msage.structure.coerce.CoercionModel.canonical_coercion (build/cythonized/sage/structure/coerce.c:12272)\u001b[0;34m()\u001b[0m\n\u001b[1;32m   1309\u001b[0m x_map, y_map = coercions\n\u001b[1;32m   1310\u001b[0m if x_map is not None:\n\u001b[0;32m-> 1311\u001b[0m     x_elt = (<Map>x_map)._call_(x)\n\u001b[1;32m   1312\u001b[0m else:\n\u001b[1;32m   1313\u001b[0m     x_elt = x\n",
      "File \u001b[0;32m~/mambaforge/envs/wigner/lib/python3.9/site-packages/sage/rings/finite_rings/hom_prime_finite_field.pyx:94\u001b[0m, in \u001b[0;36msage.rings.finite_rings.hom_prime_finite_field.FiniteFieldHomomorphism_prime._call_ (build/cythonized/sage/rings/finite_rings/hom_prime_finite_field.c:3885)\u001b[0;34m()\u001b[0m\n\u001b[1;32m     92\u001b[0m     Finite Field in t of size 3^5\n\u001b[1;32m     93\u001b[0m \"\"\"\n\u001b[0;32m---> 94\u001b[0m return self._codomain._element_constructor(x)\n\u001b[1;32m     95\u001b[0m \n\u001b[1;32m     96\u001b[0m \n",
      "File \u001b[0;32m~/mambaforge/envs/wigner/lib/python3.9/site-packages/sage/rings/finite_rings/finite_field_givaro.py:371\u001b[0m, in \u001b[0;36mFiniteField_givaro._element_constructor_\u001b[0;34m(self, e)\u001b[0m\n\u001b[1;32m    230\u001b[0m \u001b[38;5;28;01mdef\u001b[39;00m \u001b[38;5;21m_element_constructor_\u001b[39m(\u001b[38;5;28mself\u001b[39m, e):\n\u001b[1;32m    231\u001b[0m \u001b[38;5;250m    \u001b[39m\u001b[38;5;124;03m\"\"\"\u001b[39;00m\n\u001b[1;32m    232\u001b[0m \u001b[38;5;124;03m    Coerces several data types to ``self``.\u001b[39;00m\n\u001b[1;32m    233\u001b[0m \n\u001b[0;32m   (...)\u001b[0m\n\u001b[1;32m    369\u001b[0m \u001b[38;5;124;03m        2*a4^3 + 2*a4^2 + 1\u001b[39;00m\n\u001b[1;32m    370\u001b[0m \u001b[38;5;124;03m    \"\"\"\u001b[39;00m\n\u001b[0;32m--> 371\u001b[0m     \u001b[38;5;28;01mreturn\u001b[39;00m \u001b[38;5;28;43mself\u001b[39;49m\u001b[38;5;241;43m.\u001b[39;49m\u001b[43m_cache\u001b[49m\u001b[38;5;241;43m.\u001b[39;49m\u001b[43melement_from_data\u001b[49m(e)\n",
      "File \u001b[0;32msrc/cysignals/signals.pyx:310\u001b[0m, in \u001b[0;36mcysignals.signals.python_check_interrupt\u001b[0;34m()\u001b[0m\n",
      "\u001b[0;31mKeyboardInterrupt\u001b[0m: "
     ]
    }
   ],
   "source": [
    "for mu in list(F)[1:-2]:\n",
    "    print('Testing curve', mu)\n",
    "    curve = Kantor(mu)\n",
    "    points = [(k, curve(k)) for k in F]\n",
    "\n",
    "    # loop through 32 different DPS\n",
    "    for pe in product([1,-1], repeat=5):\n",
    "        perm = [pe] * 32\n",
    "        ps3 = PS(ray, perm)\n",
    "        \n",
    "        def D3(a, b):\n",
    "            return complex(ps3[toInt(a), toInt(b)]) * Z(a) @ X(b)\n",
    "\n",
    "        # check if the current curve is abelian in any of these\n",
    "        try:\n",
    "            for p1 in points:\n",
    "                for p2 in points:\n",
    "                    p_op = D3(p1[0], p1[1]) @ D3(p2[0], p2[1])\n",
    "                    s_op = D3(p1[0] + p2[0], p1[1] + p2[1])\n",
    "                    if not np.allclose(p_op, s_op):\n",
    "                        raise Exception(p1, p2)\n",
    "        except:\n",
    "            continue\n",
    "    \n",
    "        print('Found abelian curve for permutation', pe, mu)"
   ]
  },
  {
   "cell_type": "markdown",
   "id": "35932a7a-2a27-456b-b033-5ffda18c813e",
   "metadata": {},
   "source": [
    "---\n",
    "For Sainz"
   ]
  },
  {
   "cell_type": "code",
   "execution_count": 25,
   "id": "05390327-dd47-4307-96ec-edd9021d9b30",
   "metadata": {},
   "outputs": [],
   "source": [
    "def powers(pts):\n",
    "    return [(toInt(p[0]), toInt(p[1])) for p in pts]"
   ]
  },
  {
   "cell_type": "markdown",
   "id": "0025c990-aeba-4977-9a8c-a535eea627ab",
   "metadata": {},
   "source": [
    "Kantor's spread which is not isomorphic to the Desarguesian spread is given by the opperation:\n",
    "$$\n",
    "\\alpha = 0,\n",
    "\\quad\n",
    "\\beta = m^2 \\alpha + m T(\\alpha) + T(m\\alpha),\n",
    "$$\n",
    "for $m \\in GF(2^5)$ and $T$ is the field trace function."
   ]
  },
  {
   "cell_type": "code",
   "execution_count": 26,
   "id": "a0cabea2-59e0-425e-ae8a-b14797069730",
   "metadata": {},
   "outputs": [
    {
     "name": "stdout",
     "output_type": "stream",
     "text": [
      "(0^0, 0^0)\n",
      "(x^1, x^3)\n",
      "(x^2, x^10)\n",
      "(x^3, x^11)\n",
      "(x^4, x^27)\n",
      "(x^5, x^26)\n",
      "(x^6, x^23)\n",
      "(x^7, x^9)\n",
      "(x^8, x^4)\n",
      "(x^9, x^2)\n",
      "(x^10, x^8)\n",
      "(x^11, x^15)\n",
      "(x^12, x^24)\n",
      "(x^13, x^14)\n",
      "(x^14, x^16)\n",
      "(x^15, x^17)\n",
      "(x^16, x^1)\n",
      "(x^17, x^5)\n",
      "(x^18, x^12)\n",
      "(x^19, x^25)\n",
      "(x^20, x^28)\n",
      "(x^21, x^20)\n",
      "(x^22, x^13)\n",
      "(x^23, x^21)\n",
      "(x^24, x^22)\n",
      "(x^25, x^6)\n",
      "(x^26, x^7)\n",
      "(x^27, x^29)\n",
      "(x^28, x^30)\n",
      "(x^29, x^31)\n",
      "(x^30, x^18)\n",
      "(x^31, x^19)\n"
     ]
    }
   ],
   "source": [
    "for p in powers([(k, Kantor(x)(k)) for k in F]):\n",
    "    if p[0] == 0:\n",
    "        a = '0'\n",
    "    else:\n",
    "        a = 'x'\n",
    "    if p[1] == 0:\n",
    "        b = '0'\n",
    "    else:\n",
    "        b = 'x'\n",
    "    print('({}^{}, {}^{})'.format(a, p[0], b, p[1]))"
   ]
  },
  {
   "cell_type": "code",
   "execution_count": 27,
   "id": "ea5812eb-8534-4972-a626-1de58cc28c23",
   "metadata": {},
   "outputs": [
    {
     "data": {
      "text/html": [
       "<html>\\(\\displaystyle \\left[\\left(0, 0\\right), \\left(1, 3\\right), \\left(2, 10\\right), \\left(3, 11\\right), \\left(4, 27\\right), \\left(5, 26\\right), \\left(6, 23\\right), \\left(7, 9\\right), \\left(8, 4\\right), \\left(9, 2\\right), \\left(10, 8\\right), \\left(11, 15\\right), \\left(12, 24\\right), \\left(13, 14\\right), \\left(14, 16\\right), \\left(15, 17\\right), \\left(16, 1\\right), \\left(17, 5\\right), \\left(18, 12\\right), \\left(19, 25\\right), \\left(20, 28\\right), \\left(21, 20\\right), \\left(22, 13\\right), \\left(23, 21\\right), \\left(24, 22\\right), \\left(25, 6\\right), \\left(26, 7\\right), \\left(27, 29\\right), \\left(28, 30\\right), \\left(29, 31\\right), \\left(30, 18\\right), \\left(31, 19\\right)\\right]\\)</html>"
      ],
      "text/latex": [
       "$\\displaystyle \\left[\\left(0, 0\\right), \\left(1, 3\\right), \\left(2, 10\\right), \\left(3, 11\\right), \\left(4, 27\\right), \\left(5, 26\\right), \\left(6, 23\\right), \\left(7, 9\\right), \\left(8, 4\\right), \\left(9, 2\\right), \\left(10, 8\\right), \\left(11, 15\\right), \\left(12, 24\\right), \\left(13, 14\\right), \\left(14, 16\\right), \\left(15, 17\\right), \\left(16, 1\\right), \\left(17, 5\\right), \\left(18, 12\\right), \\left(19, 25\\right), \\left(20, 28\\right), \\left(21, 20\\right), \\left(22, 13\\right), \\left(23, 21\\right), \\left(24, 22\\right), \\left(25, 6\\right), \\left(26, 7\\right), \\left(27, 29\\right), \\left(28, 30\\right), \\left(29, 31\\right), \\left(30, 18\\right), \\left(31, 19\\right)\\right]$"
      ],
      "text/plain": [
       "[(0, 0),\n",
       " (1, 3),\n",
       " (2, 10),\n",
       " (3, 11),\n",
       " (4, 27),\n",
       " (5, 26),\n",
       " (6, 23),\n",
       " (7, 9),\n",
       " (8, 4),\n",
       " (9, 2),\n",
       " (10, 8),\n",
       " (11, 15),\n",
       " (12, 24),\n",
       " (13, 14),\n",
       " (14, 16),\n",
       " (15, 17),\n",
       " (16, 1),\n",
       " (17, 5),\n",
       " (18, 12),\n",
       " (19, 25),\n",
       " (20, 28),\n",
       " (21, 20),\n",
       " (22, 13),\n",
       " (23, 21),\n",
       " (24, 22),\n",
       " (25, 6),\n",
       " (26, 7),\n",
       " (27, 29),\n",
       " (28, 30),\n",
       " (29, 31),\n",
       " (30, 18),\n",
       " (31, 19)]"
      ]
     },
     "execution_count": 27,
     "metadata": {},
     "output_type": "execute_result"
    }
   ],
   "source": [
    "powers([(k, Kantor(x)(k)) for k in F])"
   ]
  },
  {
   "cell_type": "code",
   "execution_count": 28,
   "id": "98c0e837-07ee-4696-844e-1fa556d298c4",
   "metadata": {},
   "outputs": [
    {
     "name": "stdout",
     "output_type": "stream",
     "text": [
      "(0, 0)\n",
      "(x, x^3)\n",
      "(x^2, x^4 + 1)\n",
      "(x^3, x^2 + x + 1)\n",
      "(x^4, x^3 + x + 1)\n",
      "(x^2 + 1, x^4 + x^2 + x + 1)\n",
      "(x^3 + x, x^3 + x^2 + x + 1)\n",
      "(x^4 + x^2, x^4 + x^3 + x)\n",
      "(x^3 + x^2 + 1, x^4)\n",
      "(x^4 + x^3 + x, x^2)\n",
      "(x^4 + 1, x^3 + x^2 + 1)\n",
      "(x^2 + x + 1, x^4 + x^3 + x^2 + x + 1)\n",
      "(x^3 + x^2 + x, x^4 + x^3 + x^2 + x)\n",
      "(x^4 + x^3 + x^2, x^4 + x^3 + x^2 + 1)\n",
      "(x^4 + x^3 + x^2 + 1, x^4 + x^3 + x + 1)\n",
      "(x^4 + x^3 + x^2 + x + 1, x^4 + x + 1)\n",
      "(x^4 + x^3 + x + 1, x)\n",
      "(x^4 + x + 1, x^2 + 1)\n",
      "(x + 1, x^3 + x^2 + x)\n",
      "(x^2 + x, x^4 + x^3 + 1)\n",
      "(x^3 + x^2, x^4 + x^2 + x)\n",
      "(x^4 + x^3, x^3 + x^2)\n",
      "(x^4 + x^2 + 1, x^4 + x^3 + x^2)\n",
      "(x^3 + x^2 + x + 1, x^4 + x^3)\n",
      "(x^4 + x^3 + x^2 + x, x^4 + x^2 + 1)\n",
      "(x^4 + x^3 + 1, x^3 + x)\n",
      "(x^4 + x^2 + x + 1, x^4 + x^2)\n",
      "(x^3 + x + 1, x^3 + 1)\n",
      "(x^4 + x^2 + x, x^4 + x)\n",
      "(x^3 + 1, 1)\n",
      "(x^4 + x, x + 1)\n",
      "(1, x^2 + x)\n"
     ]
    }
   ],
   "source": [
    "for p in [(k, Kantor(x)(k)) for k in F]:\n",
    "    print(p)"
   ]
  },
  {
   "cell_type": "markdown",
   "id": "68be1176-0b05-42de-831e-c2cfccffe33c",
   "metadata": {},
   "source": [
    "Sum table."
   ]
  },
  {
   "cell_type": "code",
   "execution_count": 32,
   "id": "30bc8534-b2ce-4956-8fdd-a886dec1e213",
   "metadata": {},
   "outputs": [
    {
     "data": {
      "text/html": [
       "<html>\\(\\displaystyle \\begin{array}{l}\n",
       "\\verb|[[''|\\verb| |\\verb|'']|\\\\\n",
       "\\verb| |\\verb|[''|\\verb| |\\verb|'']]|\n",
       "\\end{array}\\)</html>"
      ],
      "text/latex": [
       "$\\displaystyle \\begin{array}{l}\n",
       "\\verb|[[''|\\verb| |\\verb|'']|\\\\\n",
       "\\verb| |\\verb|[''|\\verb| |\\verb|'']]|\n",
       "\\end{array}$"
      ],
      "text/plain": [
       "chararray([['', ''],\n",
       "           ['', '']], dtype='|S1')"
      ]
     },
     "execution_count": 32,
     "metadata": {},
     "output_type": "execute_result"
    }
   ],
   "source": [
    "np.chararray((2,2))"
   ]
  },
  {
   "cell_type": "code",
   "execution_count": 47,
   "id": "5d6852f5-bebe-46f2-9089-ff5959dce568",
   "metadata": {},
   "outputs": [
    {
     "data": {
      "text/html": [
       "<html>\\(\\displaystyle \\begin{array}{l}\n",
       "\\verb|[['0'|\\verb| |\\verb|'x^1'|\\verb| |\\verb|'x^2'|\\verb| |\\verb|...|\\verb| |\\verb|'x^29'|\\verb| |\\verb|'x^30'|\\verb| |\\verb|'x^31']|\\\\\n",
       "\\verb| |\\verb|['x^1'|\\verb| |\\verb|'0'|\\verb| |\\verb|'x^19'|\\verb| |\\verb|...|\\verb| |\\verb|'x^27'|\\verb| |\\verb|'x^4'|\\verb| |\\verb|'x^18']|\\\\\n",
       "\\verb| |\\verb|['x^2'|\\verb| |\\verb|'x^19'|\\verb| |\\verb|'0'|\\verb| |\\verb|...|\\verb| |\\verb|'x^8'|\\verb| |\\verb|'x^28'|\\verb| |\\verb|'x^5']|\\\\\n",
       "\\verb| |\\verb|...|\\\\\n",
       "\\verb| |\\verb|['x^29'|\\verb| |\\verb|'x^27'|\\verb| |\\verb|'x^8'|\\verb| |\\verb|...|\\verb| |\\verb|'0'|\\verb| |\\verb|'x^16'|\\verb| |\\verb|'x^3']|\\\\\n",
       "\\verb| |\\verb|['x^30'|\\verb| |\\verb|'x^4'|\\verb| |\\verb|'x^28'|\\verb| |\\verb|...|\\verb| |\\verb|'x^16'|\\verb| |\\verb|'0'|\\verb| |\\verb|'x^17']|\\\\\n",
       "\\verb| |\\verb|['x^31'|\\verb| |\\verb|'x^18'|\\verb| |\\verb|'x^5'|\\verb| |\\verb|...|\\verb| |\\verb|'x^3'|\\verb| |\\verb|'x^17'|\\verb| |\\verb|'0']]|\n",
       "\\end{array}\\)</html>"
      ],
      "text/latex": [
       "$\\displaystyle \\begin{array}{l}\n",
       "\\verb|[['0'|\\verb| |\\verb|'x^1'|\\verb| |\\verb|'x^2'|\\verb| |\\verb|...|\\verb| |\\verb|'x^29'|\\verb| |\\verb|'x^30'|\\verb| |\\verb|'x^31']|\\\\\n",
       "\\verb| |\\verb|['x^1'|\\verb| |\\verb|'0'|\\verb| |\\verb|'x^19'|\\verb| |\\verb|...|\\verb| |\\verb|'x^27'|\\verb| |\\verb|'x^4'|\\verb| |\\verb|'x^18']|\\\\\n",
       "\\verb| |\\verb|['x^2'|\\verb| |\\verb|'x^19'|\\verb| |\\verb|'0'|\\verb| |\\verb|...|\\verb| |\\verb|'x^8'|\\verb| |\\verb|'x^28'|\\verb| |\\verb|'x^5']|\\\\\n",
       "\\verb| |\\verb|...|\\\\\n",
       "\\verb| |\\verb|['x^29'|\\verb| |\\verb|'x^27'|\\verb| |\\verb|'x^8'|\\verb| |\\verb|...|\\verb| |\\verb|'0'|\\verb| |\\verb|'x^16'|\\verb| |\\verb|'x^3']|\\\\\n",
       "\\verb| |\\verb|['x^30'|\\verb| |\\verb|'x^4'|\\verb| |\\verb|'x^28'|\\verb| |\\verb|...|\\verb| |\\verb|'x^16'|\\verb| |\\verb|'0'|\\verb| |\\verb|'x^17']|\\\\\n",
       "\\verb| |\\verb|['x^31'|\\verb| |\\verb|'x^18'|\\verb| |\\verb|'x^5'|\\verb| |\\verb|...|\\verb| |\\verb|'x^3'|\\verb| |\\verb|'x^17'|\\verb| |\\verb|'0']]|\n",
       "\\end{array}$"
      ],
      "text/plain": [
       "chararray([['0', 'x^1', 'x^2', ..., 'x^29', 'x^30', 'x^31'],\n",
       "           ['x^1', '0', 'x^19', ..., 'x^27', 'x^4', 'x^18'],\n",
       "           ['x^2', 'x^19', '0', ..., 'x^8', 'x^28', 'x^5'],\n",
       "           ...,\n",
       "           ['x^29', 'x^27', 'x^8', ..., '0', 'x^16', 'x^3'],\n",
       "           ['x^30', 'x^4', 'x^28', ..., 'x^16', '0', 'x^17'],\n",
       "           ['x^31', 'x^18', 'x^5', ..., 'x^3', 'x^17', '0']], dtype='<U5')"
      ]
     },
     "execution_count": 47,
     "metadata": {},
     "output_type": "execute_result"
    }
   ],
   "source": [
    "sum_table = np.chararray((2^N, 2^N), unicode=True, itemsize=5)\n",
    "for a in F:\n",
    "    for b in F:\n",
    "        s = a + b\n",
    "        if s == F(0):\n",
    "            sum_table[toInt(a), toInt(b)] = '0'\n",
    "        else:\n",
    "            sum_table[toInt(a), toInt(b)] = 'x^{}'.format(toInt(s))\n",
    "sum_table"
   ]
  },
  {
   "cell_type": "code",
   "execution_count": 51,
   "id": "86dd9de8-a9a6-4a6d-bf3e-4b45eb92b21b",
   "metadata": {},
   "outputs": [],
   "source": [
    "import pandas as pd"
   ]
  },
  {
   "cell_type": "code",
   "execution_count": 52,
   "id": "8ec7759f-e7fd-4a62-9f49-baf9b29d33cf",
   "metadata": {},
   "outputs": [],
   "source": [
    "DF = pd.DataFrame(sum_table)\n",
    "DF.to_csv(\"sum_table_F_2_5.csv\")"
   ]
  },
  {
   "cell_type": "code",
   "execution_count": 64,
   "id": "9ff6a83f-bcec-4c86-8806-2e4271cae704",
   "metadata": {},
   "outputs": [
    {
     "data": {
      "text/html": [
       "<html>\\(\\displaystyle \\verb|x^24|\\)</html>"
      ],
      "text/latex": [
       "$\\displaystyle \\verb|x^24|$"
      ],
      "text/plain": [
       "'x^24'"
      ]
     },
     "execution_count": 64,
     "metadata": {},
     "output_type": "execute_result"
    }
   ],
   "source": [
    "sum_table[20, 30]"
   ]
  },
  {
   "cell_type": "code",
   "execution_count": 66,
   "id": "85fcae15-818a-446f-a81a-e90c82f68ef5",
   "metadata": {},
   "outputs": [
    {
     "data": {
      "text/html": [
       "<html>\\(\\displaystyle 24\\)</html>"
      ],
      "text/latex": [
       "$\\displaystyle 24$"
      ],
      "text/plain": [
       "24"
      ]
     },
     "execution_count": 66,
     "metadata": {},
     "output_type": "execute_result"
    }
   ],
   "source": [
    "toInt(x^20 + x^30)"
   ]
  },
  {
   "cell_type": "code",
   "execution_count": 68,
   "id": "b3c24146-a308-4f31-b8f6-93c153ebe98e",
   "metadata": {},
   "outputs": [
    {
     "data": {
      "text/html": [
       "<html>\\(\\displaystyle 30\\)</html>"
      ],
      "text/latex": [
       "$\\displaystyle 30$"
      ],
      "text/plain": [
       "30"
      ]
     },
     "execution_count": 68,
     "metadata": {},
     "output_type": "execute_result"
    }
   ],
   "source": [
    "toInt(x^10 + x^18)"
   ]
  },
  {
   "cell_type": "code",
   "execution_count": 69,
   "id": "b678b2b1-12f1-49ab-9670-0cfb2e41e71e",
   "metadata": {},
   "outputs": [
    {
     "data": {
      "text/html": [
       "<html>\\(\\displaystyle x^{4} + x\\)</html>"
      ],
      "text/latex": [
       "$\\displaystyle x^{4} + x$"
      ],
      "text/plain": [
       "x^4 + x"
      ]
     },
     "execution_count": 69,
     "metadata": {},
     "output_type": "execute_result"
    }
   ],
   "source": [
    "x^30"
   ]
  },
  {
   "cell_type": "code",
   "execution_count": 80,
   "id": "7bbbc8c0-e205-463f-b23d-1c06c34653c1",
   "metadata": {},
   "outputs": [
    {
     "name": "stdout",
     "output_type": "stream",
     "text": [
      "0 \t 0\n",
      "x^1 \t 0\n",
      "x^2 \t 0\n",
      "x^3 \t 1\n",
      "x^4 \t 0\n",
      "x^5 \t 1\n",
      "x^6 \t 1\n",
      "x^7 \t 0\n",
      "x^8 \t 0\n",
      "x^9 \t 1\n",
      "x^10 \t 1\n",
      "x^11 \t 1\n",
      "x^12 \t 1\n",
      "x^13 \t 1\n",
      "x^14 \t 0\n",
      "x^15 \t 0\n",
      "x^16 \t 0\n",
      "x^17 \t 1\n",
      "x^18 \t 1\n",
      "x^19 \t 0\n",
      "x^20 \t 1\n",
      "x^21 \t 1\n",
      "x^22 \t 1\n",
      "x^23 \t 0\n",
      "x^24 \t 1\n",
      "x^25 \t 0\n",
      "x^26 \t 1\n",
      "x^27 \t 0\n",
      "x^28 \t 0\n",
      "x^29 \t 0\n",
      "x^30 \t 0\n",
      "x^31 \t 1\n"
     ]
    }
   ],
   "source": [
    "for k in F:\n",
    "    if k == 0:\n",
    "        print(0, '\\t', F(0).trace())\n",
    "    else:\n",
    "        print('x^{}'.format(toInt(k)), '\\t', k.trace())"
   ]
  },
  {
   "cell_type": "markdown",
   "id": "c76a1177-874c-48c9-a7b6-2d0638900c69",
   "metadata": {},
   "source": [
    "Sainz wants me to change the sign for $\\sigma^5$ for $\\mu = \\sigma^{12}, \\sigma^{19}, \\sigma^{23}, \\sigma$."
   ]
  },
  {
   "cell_type": "code",
   "execution_count": 122,
   "id": "f4bd5d65-56ed-4c7f-871d-4a6ab9a45dc4",
   "metadata": {},
   "outputs": [
    {
     "name": "stdout",
     "output_type": "stream",
     "text": [
      "0 [1, 1, 1, 1, 1]\n",
      "1 [1, -1, 1, 1, 1]\n",
      "2 [1, 1, 1, 1, 1]\n",
      "3 [1, 1, 1, 1, 1]\n",
      "4 [1, 1, 1, 1, 1]\n",
      "5 [1, 1, 1, 1, 1]\n",
      "6 [1, 1, 1, 1, 1]\n",
      "7 [1, 1, 1, 1, 1]\n",
      "8 [1, 1, 1, 1, 1]\n",
      "9 [1, 1, 1, 1, 1]\n",
      "10 [1, 1, 1, 1, 1]\n",
      "11 [1, 1, 1, 1, 1]\n",
      "12 [1, -1, 1, 1, 1]\n",
      "13 [1, 1, 1, 1, 1]\n",
      "14 [1, 1, 1, 1, 1]\n",
      "15 [1, 1, 1, 1, 1]\n",
      "16 [1, 1, 1, 1, 1]\n",
      "17 [1, 1, 1, 1, 1]\n",
      "18 [1, 1, 1, 1, 1]\n",
      "19 [1, -1, 1, 1, 1]\n",
      "20 [1, 1, 1, 1, 1]\n",
      "21 [1, 1, 1, 1, 1]\n",
      "22 [1, 1, 1, 1, 1]\n",
      "23 [1, -1, 1, 1, 1]\n",
      "24 [1, 1, 1, 1, 1]\n",
      "25 [1, 1, 1, 1, 1]\n",
      "26 [1, 1, 1, 1, 1]\n",
      "27 [1, 1, 1, 1, 1]\n",
      "28 [1, 1, 1, 1, 1]\n",
      "29 [1, 1, 1, 1, 1]\n",
      "30 [1, 1, 1, 1, 1]\n",
      "31 [1, 1, 1, 1, 1]\n"
     ]
    }
   ],
   "source": [
    "perms = [[1,1,1,1,1], [1,-1,1,1,1]] + [[1,1,1,1,1]] * 10 + [[1,-1,1,1,1]] + [[1,1,1,1,1]] * 6 + [[1,-1,1,1,1]] + [[1,1,1,1,1]] * 3 + [[1,-1,1,1,1]] + [[1,1,1,1,1]] * 8\n",
    "for k, pe in enumerate(perms):\n",
    "    print(k, pe)"
   ]
  },
  {
   "cell_type": "code",
   "execution_count": 123,
   "id": "d8f7704c-dc4b-41b3-8f54-57980bdc5552",
   "metadata": {},
   "outputs": [
    {
     "data": {
      "text/html": [
       "<html>\\(\\displaystyle \\left(\\begin{array}{rrrrrrrrrrrrrrrrrrrrrrrrrrrrrrrr}\n",
       "1 & 1 & 1 & 1 & 1 & 1 & 1 & 1 & 1 & 1 & 1 & 1 & 1 & 1 & 1 & 1 & 1 & 1 & 1 & 1 & 1 & 1 & 1 & 1 & 1 & 1 & 1 & 1 & 1 & 1 & 1 & 1 \\\\\n",
       "1 & -1 & i & 1 & i & -i & -1 & -1 & i & -i & i & -i & i & 1 & 1 & -1 & -i & i & 1 & -i & -i & -i & 1 & i & -1 & -i & -1 & 1 & 1 & -1 & i & -1 \\\\\n",
       "1 & -i & 1 & -i & i & 1 & -1 & -i & i & i & -i & i & -1 & 1 & -1 & i & -i & 1 & -i & i & i & 1 & i & -1 & -i & -1 & 1 & -1 & -1 & -i & -1 & 1 \\\\\n",
       "1 & 1 & i & i & 1 & 1 & i & i & i & i & i & 1 & 1 & 1 & i & i & 1 & i & i & i & 1 & i & 1 & i & 1 & 1 & 1 & 1 & i & 1 & 1 & i \\\\\n",
       "1 & -i & i & 1 & -1 & -i & i & i & -i & i & 1 & 1 & -1 & -i & -i & -1 & -i & -i & -i & -1 & -i & -1 & i & -1 & 1 & 1 & -1 & -i & 1 & -1 & -i & -1 \\\\\n",
       "1 & i & 1 & 1 & i & i & -i & i & i & 1 & 1 & 1 & i & i & 1 & i & i & -i & 1 & i & 1 & i & 1 & 1 & -1 & 1 & i & 1 & -1 & i & 1 & i \\\\\n",
       "1 & 1 & -1 & -i & i & i & -i & -i & -1 & -1 & 1 & i & i & 1 & i & -i & -i & -1 & i & -1 & i & 1 & 1 & -1 & -1 & -i & -1 & 1 & -i & -1 & -i & -i \\\\\n",
       "1 & -1 & i & i & -i & i & i & 1 & -1 & -1 & -i & -i & -1 & -i & -i & i & 1 & i & 1 & -i & 1 & 1 & 1 & 1 & -i & 1 & -1 & -i & -1 & i & i & 1 \\\\\n",
       "1 & i & i & -i & i & -i & -1 & -1 & -1 & i & -i & 1 & -i & -i & i & -1 & i & -1 & -i & -1 & -1 & -1 & 1 & i & 1 & 1 & -i & -1 & i & i & 1 & 1 \\\\\n",
       "1 & i & i & i & i & -1 & -1 & -1 & -i & -i & 1 & i & i & -i & -1 & i & -1 & i & -1 & 1 & -1 & -1 & i & -1 & -1 & i & 1 & -i & i & -1 & -1 & i \\\\\n",
       "1 & -i & -i & -i & 1 & -1 & -1 & i & -i & 1 & -i & -i & -i & 1 & -i & 1 & i & 1 & 1 & -1 & 1 & i & 1 & 1 & -i & 1 & i & -i & 1 & -1 & -i & -i \\\\\n",
       "1 & i & i & 1 & 1 & 1 & i & i & 1 & i & i & i & 1 & i & 1 & i & 1 & 1 & 1 & 1 & i & 1 & 1 & i & 1 & i & i & 1 & 1 & i & i & i \\\\\n",
       "1 & -i & -1 & -1 & -1 & -i & i & 1 & i & -i & -i & 1 & -i & 1 & i & 1 & 1 & -1 & -1 & i & 1 & -1 & -i & -1 & i & i & -1 & 1 & i & -i & i & -i \\\\\n",
       "1 & -1 & 1 & 1 & i & i & -1 & -i & -i & -i & 1 & i & 1 & -i & 1 & 1 & -1 & 1 & -i & 1 & -1 & -i & 1 & -i & -i & -1 & 1 & -i & i & -i & -i & i \\\\\n",
       "1 & 1 & -1 & i & i & 1 & -i & -i & i & -1 & -i & 1 & i & 1 & -1 & -1 & 1 & i & -1 & -1 & -i & -1 & i & -i & 1 & 1 & -i & i & i & -i & -i & -1 \\\\\n",
       "1 & -1 & -i & -i & 1 & -i & -i & i & -1 & i & 1 & i & 1 & 1 & -1 & 1 & -i & -1 & 1 & i & -1 & -i & i & 1 & -1 & -i & -i & -i & i & -i & -1 & -1 \\\\\n",
       "1 & i & i & 1 & i & -i & i & -1 & i & 1 & i & 1 & -1 & -1 & 1 & i & -1 & 1 & -i & -1 & i & -i & 1 & 1 & -i & i & i & -i & i & -1 & 1 & -1 \\\\\n",
       "1 & i & -1 & -i & -i & i & 1 & -i & 1 & -i & -1 & 1 & 1 & -1 & -i & -1 & 1 & -i & -1 & i & i & -1 & -1 & i & -i & -i & i & i & 1 & 1 & -1 & i \\\\\n",
       "1 & 1 & i & -i & i & 1 & i & -1 & i & 1 & 1 & -1 & -1 & -i & -1 & 1 & -i & -1 & -i & -i & -1 & 1 & i & i & i & -i & i & 1 & -1 & -1 & -i & -i \\\\\n",
       "1 & i & -i & i & 1 & -i & -1 & i & 1 & 1 & 1 & -1 & -i & 1 & -1 & -i & -1 & i & i & 1 & 1 & -i & -i & i & i & i & 1 & 1 & 1 & -i & i & -1 \\\\\n",
       "1 & i & -i & 1 & -i & -1 & -i & -1 & -1 & -1 & 1 & -i & -1 & 1 & -i & 1 & -i & -i & -1 & 1 & -i & i & i & i & i & -1 & 1 & 1 & i & i & -1 & i \\\\\n",
       "1 & i & 1 & i & -1 & i & 1 & 1 & -1 & 1 & i & 1 & -1 & -i & -1 & -i & -i & 1 & 1 & -i & -i & -i & -i & -i & 1 & -1 & 1 & -i & i & -1 & -i & i \\\\\n",
       "1 & 1 & i & 1 & i & 1 & 1 & 1 & 1 & i & 1 & 1 & i & 1 & i & i & 1 & 1 & i & i & i & i & i & 1 & 1 & 1 & i & i & 1 & i & i & i \\\\\n",
       "1 & i & -1 & i & 1 & 1 & -1 & -1 & i & -1 & -1 & i & 1 & i & -i & -1 & 1 & i & -i & -i & -i & -i & 1 & -1 & 1 & i & -i & 1 & i & -i & -i & -1 \\\\\n",
       "1 & 1 & i & 1 & 1 & 1 & 1 & i & 1 & 1 & i & 1 & i & i & 1 & 1 & i & i & i & i & i & 1 & 1 & 1 & i & i & 1 & i & i & i & 1 & i \\\\\n",
       "1 & -i & -1 & 1 & 1 & 1 & i & -1 & 1 & i & -1 & -i & -i & -1 & 1 & i & -i & i & i & i & -1 & 1 & 1 & i & -i & -1 & -i & -i & i & -1 & -i & -1 \\\\\n",
       "1 & -1 & -1 & -1 & -1 & -i & 1 & 1 & -i & 1 & -i & i & -1 & -1 & i & i & -i & i & -i & 1 & 1 & -1 & i & i & 1 & i & -i & -i & 1 & -i & 1 & -i \\\\\n",
       "1 & 1 & -1 & 1 & i & 1 & 1 & -i & 1 & i & i & 1 & -1 & i & i & -i & i & -i & -1 & -1 & -1 & -i & -i & 1 & -i & -i & i & -1 & i & -1 & -i & -1 \\\\\n",
       "1 & 1 & -1 & i & 1 & 1 & -i & -1 & i & i & -1 & 1 & -i & -i & -i & i & i & -1 & -1 & -1 & i & -i & 1 & -i & i & -i & 1 & -i & -1 & i & 1 & -1 \\\\\n",
       "1 & -1 & i & -1 & -1 & i & -1 & -i & -i & 1 & -1 & -i & i & i & i & i & 1 & -1 & -1 & i & -i & -1 & -i & -i & -i & -1 & i & -1 & -i & 1 & -1 & -1 \\\\\n",
       "1 & i & -1 & 1 & i & 1 & -i & -i & 1 & -1 & -i & i & i & i & -i & -1 & 1 & 1 & -i & -i & -1 & -i & i & -i & 1 & i & -1 & i & 1 & -1 & -1 & -1 \\\\\n",
       "1 & -1 & 1 & -i & 1 & i & -i & -1 & 1 & i & i & -i & i & -i & -1 & -1 & 1 & -i & i & 1 & i & -i & -i & 1 & -i & -1 & -i & -1 & -1 & -1 & -1 & i\n",
       "\\end{array}\\right)\\)</html>"
      ],
      "text/latex": [
       "$\\displaystyle \\left(\\begin{array}{rrrrrrrrrrrrrrrrrrrrrrrrrrrrrrrr}\n",
       "1 & 1 & 1 & 1 & 1 & 1 & 1 & 1 & 1 & 1 & 1 & 1 & 1 & 1 & 1 & 1 & 1 & 1 & 1 & 1 & 1 & 1 & 1 & 1 & 1 & 1 & 1 & 1 & 1 & 1 & 1 & 1 \\\\\n",
       "1 & -1 & i & 1 & i & -i & -1 & -1 & i & -i & i & -i & i & 1 & 1 & -1 & -i & i & 1 & -i & -i & -i & 1 & i & -1 & -i & -1 & 1 & 1 & -1 & i & -1 \\\\\n",
       "1 & -i & 1 & -i & i & 1 & -1 & -i & i & i & -i & i & -1 & 1 & -1 & i & -i & 1 & -i & i & i & 1 & i & -1 & -i & -1 & 1 & -1 & -1 & -i & -1 & 1 \\\\\n",
       "1 & 1 & i & i & 1 & 1 & i & i & i & i & i & 1 & 1 & 1 & i & i & 1 & i & i & i & 1 & i & 1 & i & 1 & 1 & 1 & 1 & i & 1 & 1 & i \\\\\n",
       "1 & -i & i & 1 & -1 & -i & i & i & -i & i & 1 & 1 & -1 & -i & -i & -1 & -i & -i & -i & -1 & -i & -1 & i & -1 & 1 & 1 & -1 & -i & 1 & -1 & -i & -1 \\\\\n",
       "1 & i & 1 & 1 & i & i & -i & i & i & 1 & 1 & 1 & i & i & 1 & i & i & -i & 1 & i & 1 & i & 1 & 1 & -1 & 1 & i & 1 & -1 & i & 1 & i \\\\\n",
       "1 & 1 & -1 & -i & i & i & -i & -i & -1 & -1 & 1 & i & i & 1 & i & -i & -i & -1 & i & -1 & i & 1 & 1 & -1 & -1 & -i & -1 & 1 & -i & -1 & -i & -i \\\\\n",
       "1 & -1 & i & i & -i & i & i & 1 & -1 & -1 & -i & -i & -1 & -i & -i & i & 1 & i & 1 & -i & 1 & 1 & 1 & 1 & -i & 1 & -1 & -i & -1 & i & i & 1 \\\\\n",
       "1 & i & i & -i & i & -i & -1 & -1 & -1 & i & -i & 1 & -i & -i & i & -1 & i & -1 & -i & -1 & -1 & -1 & 1 & i & 1 & 1 & -i & -1 & i & i & 1 & 1 \\\\\n",
       "1 & i & i & i & i & -1 & -1 & -1 & -i & -i & 1 & i & i & -i & -1 & i & -1 & i & -1 & 1 & -1 & -1 & i & -1 & -1 & i & 1 & -i & i & -1 & -1 & i \\\\\n",
       "1 & -i & -i & -i & 1 & -1 & -1 & i & -i & 1 & -i & -i & -i & 1 & -i & 1 & i & 1 & 1 & -1 & 1 & i & 1 & 1 & -i & 1 & i & -i & 1 & -1 & -i & -i \\\\\n",
       "1 & i & i & 1 & 1 & 1 & i & i & 1 & i & i & i & 1 & i & 1 & i & 1 & 1 & 1 & 1 & i & 1 & 1 & i & 1 & i & i & 1 & 1 & i & i & i \\\\\n",
       "1 & -i & -1 & -1 & -1 & -i & i & 1 & i & -i & -i & 1 & -i & 1 & i & 1 & 1 & -1 & -1 & i & 1 & -1 & -i & -1 & i & i & -1 & 1 & i & -i & i & -i \\\\\n",
       "1 & -1 & 1 & 1 & i & i & -1 & -i & -i & -i & 1 & i & 1 & -i & 1 & 1 & -1 & 1 & -i & 1 & -1 & -i & 1 & -i & -i & -1 & 1 & -i & i & -i & -i & i \\\\\n",
       "1 & 1 & -1 & i & i & 1 & -i & -i & i & -1 & -i & 1 & i & 1 & -1 & -1 & 1 & i & -1 & -1 & -i & -1 & i & -i & 1 & 1 & -i & i & i & -i & -i & -1 \\\\\n",
       "1 & -1 & -i & -i & 1 & -i & -i & i & -1 & i & 1 & i & 1 & 1 & -1 & 1 & -i & -1 & 1 & i & -1 & -i & i & 1 & -1 & -i & -i & -i & i & -i & -1 & -1 \\\\\n",
       "1 & i & i & 1 & i & -i & i & -1 & i & 1 & i & 1 & -1 & -1 & 1 & i & -1 & 1 & -i & -1 & i & -i & 1 & 1 & -i & i & i & -i & i & -1 & 1 & -1 \\\\\n",
       "1 & i & -1 & -i & -i & i & 1 & -i & 1 & -i & -1 & 1 & 1 & -1 & -i & -1 & 1 & -i & -1 & i & i & -1 & -1 & i & -i & -i & i & i & 1 & 1 & -1 & i \\\\\n",
       "1 & 1 & i & -i & i & 1 & i & -1 & i & 1 & 1 & -1 & -1 & -i & -1 & 1 & -i & -1 & -i & -i & -1 & 1 & i & i & i & -i & i & 1 & -1 & -1 & -i & -i \\\\\n",
       "1 & i & -i & i & 1 & -i & -1 & i & 1 & 1 & 1 & -1 & -i & 1 & -1 & -i & -1 & i & i & 1 & 1 & -i & -i & i & i & i & 1 & 1 & 1 & -i & i & -1 \\\\\n",
       "1 & i & -i & 1 & -i & -1 & -i & -1 & -1 & -1 & 1 & -i & -1 & 1 & -i & 1 & -i & -i & -1 & 1 & -i & i & i & i & i & -1 & 1 & 1 & i & i & -1 & i \\\\\n",
       "1 & i & 1 & i & -1 & i & 1 & 1 & -1 & 1 & i & 1 & -1 & -i & -1 & -i & -i & 1 & 1 & -i & -i & -i & -i & -i & 1 & -1 & 1 & -i & i & -1 & -i & i \\\\\n",
       "1 & 1 & i & 1 & i & 1 & 1 & 1 & 1 & i & 1 & 1 & i & 1 & i & i & 1 & 1 & i & i & i & i & i & 1 & 1 & 1 & i & i & 1 & i & i & i \\\\\n",
       "1 & i & -1 & i & 1 & 1 & -1 & -1 & i & -1 & -1 & i & 1 & i & -i & -1 & 1 & i & -i & -i & -i & -i & 1 & -1 & 1 & i & -i & 1 & i & -i & -i & -1 \\\\\n",
       "1 & 1 & i & 1 & 1 & 1 & 1 & i & 1 & 1 & i & 1 & i & i & 1 & 1 & i & i & i & i & i & 1 & 1 & 1 & i & i & 1 & i & i & i & 1 & i \\\\\n",
       "1 & -i & -1 & 1 & 1 & 1 & i & -1 & 1 & i & -1 & -i & -i & -1 & 1 & i & -i & i & i & i & -1 & 1 & 1 & i & -i & -1 & -i & -i & i & -1 & -i & -1 \\\\\n",
       "1 & -1 & -1 & -1 & -1 & -i & 1 & 1 & -i & 1 & -i & i & -1 & -1 & i & i & -i & i & -i & 1 & 1 & -1 & i & i & 1 & i & -i & -i & 1 & -i & 1 & -i \\\\\n",
       "1 & 1 & -1 & 1 & i & 1 & 1 & -i & 1 & i & i & 1 & -1 & i & i & -i & i & -i & -1 & -1 & -1 & -i & -i & 1 & -i & -i & i & -1 & i & -1 & -i & -1 \\\\\n",
       "1 & 1 & -1 & i & 1 & 1 & -i & -1 & i & i & -1 & 1 & -i & -i & -i & i & i & -1 & -1 & -1 & i & -i & 1 & -i & i & -i & 1 & -i & -1 & i & 1 & -1 \\\\\n",
       "1 & -1 & i & -1 & -1 & i & -1 & -i & -i & 1 & -1 & -i & i & i & i & i & 1 & -1 & -1 & i & -i & -1 & -i & -i & -i & -1 & i & -1 & -i & 1 & -1 & -1 \\\\\n",
       "1 & i & -1 & 1 & i & 1 & -i & -i & 1 & -1 & -i & i & i & i & -i & -1 & 1 & 1 & -i & -i & -1 & -i & i & -i & 1 & i & -1 & i & 1 & -1 & -1 & -1 \\\\\n",
       "1 & -1 & 1 & -i & 1 & i & -i & -1 & 1 & i & i & -i & i & -i & -1 & -1 & 1 & -i & i & 1 & i & -i & -i & 1 & -i & -1 & -i & -1 & -1 & -1 & -1 & i\n",
       "\\end{array}\\right)$"
      ],
      "text/plain": [
       "32 x 32 dense matrix over Symbolic Ring (use the '.str()' method to see the entries)"
      ]
     },
     "execution_count": 123,
     "metadata": {},
     "output_type": "execute_result"
    }
   ],
   "source": [
    "ps2 = PS(ray, perms)\n",
    "ps2"
   ]
  },
  {
   "cell_type": "code",
   "execution_count": 124,
   "id": "74e7bd84-75d9-4e29-b37d-11d90991f3be",
   "metadata": {},
   "outputs": [
    {
     "data": {
      "text/html": [
       "<html>\\(\\displaystyle \\left[\\left(0, 0\\right), \\left(x, x^{3}\\right), \\left(x^{2}, x^{4} + 1\\right), \\left(x^{3}, x^{2} + x + 1\\right), \\left(x^{4}, x^{3} + x + 1\\right), \\left(x^{2} + 1, x^{4} + x^{2} + x + 1\\right), \\left(x^{3} + x, x^{3} + x^{2} + x + 1\\right), \\left(x^{4} + x^{2}, x^{4} + x^{3} + x\\right), \\left(x^{3} + x^{2} + 1, x^{4}\\right), \\left(x^{4} + x^{3} + x, x^{2}\\right), \\left(x^{4} + 1, x^{3} + x^{2} + 1\\right), \\left(x^{2} + x + 1, x^{4} + x^{3} + x^{2} + x + 1\\right), \\left(x^{3} + x^{2} + x, x^{4} + x^{3} + x^{2} + x\\right), \\left(x^{4} + x^{3} + x^{2}, x^{4} + x^{3} + x^{2} + 1\\right), \\left(x^{4} + x^{3} + x^{2} + 1, x^{4} + x^{3} + x + 1\\right), \\left(x^{4} + x^{3} + x^{2} + x + 1, x^{4} + x + 1\\right), \\left(x^{4} + x^{3} + x + 1, x\\right), \\left(x^{4} + x + 1, x^{2} + 1\\right), \\left(x + 1, x^{3} + x^{2} + x\\right), \\left(x^{2} + x, x^{4} + x^{3} + 1\\right), \\left(x^{3} + x^{2}, x^{4} + x^{2} + x\\right), \\left(x^{4} + x^{3}, x^{3} + x^{2}\\right), \\left(x^{4} + x^{2} + 1, x^{4} + x^{3} + x^{2}\\right), \\left(x^{3} + x^{2} + x + 1, x^{4} + x^{3}\\right), \\left(x^{4} + x^{3} + x^{2} + x, x^{4} + x^{2} + 1\\right), \\left(x^{4} + x^{3} + 1, x^{3} + x\\right), \\left(x^{4} + x^{2} + x + 1, x^{4} + x^{2}\\right), \\left(x^{3} + x + 1, x^{3} + 1\\right), \\left(x^{4} + x^{2} + x, x^{4} + x\\right), \\left(x^{3} + 1, 1\\right), \\left(x^{4} + x, x + 1\\right), \\left(1, x^{2} + x\\right)\\right]\\)</html>"
      ],
      "text/latex": [
       "$\\displaystyle \\left[\\left(0, 0\\right), \\left(x, x^{3}\\right), \\left(x^{2}, x^{4} + 1\\right), \\left(x^{3}, x^{2} + x + 1\\right), \\left(x^{4}, x^{3} + x + 1\\right), \\left(x^{2} + 1, x^{4} + x^{2} + x + 1\\right), \\left(x^{3} + x, x^{3} + x^{2} + x + 1\\right), \\left(x^{4} + x^{2}, x^{4} + x^{3} + x\\right), \\left(x^{3} + x^{2} + 1, x^{4}\\right), \\left(x^{4} + x^{3} + x, x^{2}\\right), \\left(x^{4} + 1, x^{3} + x^{2} + 1\\right), \\left(x^{2} + x + 1, x^{4} + x^{3} + x^{2} + x + 1\\right), \\left(x^{3} + x^{2} + x, x^{4} + x^{3} + x^{2} + x\\right), \\left(x^{4} + x^{3} + x^{2}, x^{4} + x^{3} + x^{2} + 1\\right), \\left(x^{4} + x^{3} + x^{2} + 1, x^{4} + x^{3} + x + 1\\right), \\left(x^{4} + x^{3} + x^{2} + x + 1, x^{4} + x + 1\\right), \\left(x^{4} + x^{3} + x + 1, x\\right), \\left(x^{4} + x + 1, x^{2} + 1\\right), \\left(x + 1, x^{3} + x^{2} + x\\right), \\left(x^{2} + x, x^{4} + x^{3} + 1\\right), \\left(x^{3} + x^{2}, x^{4} + x^{2} + x\\right), \\left(x^{4} + x^{3}, x^{3} + x^{2}\\right), \\left(x^{4} + x^{2} + 1, x^{4} + x^{3} + x^{2}\\right), \\left(x^{3} + x^{2} + x + 1, x^{4} + x^{3}\\right), \\left(x^{4} + x^{3} + x^{2} + x, x^{4} + x^{2} + 1\\right), \\left(x^{4} + x^{3} + 1, x^{3} + x\\right), \\left(x^{4} + x^{2} + x + 1, x^{4} + x^{2}\\right), \\left(x^{3} + x + 1, x^{3} + 1\\right), \\left(x^{4} + x^{2} + x, x^{4} + x\\right), \\left(x^{3} + 1, 1\\right), \\left(x^{4} + x, x + 1\\right), \\left(1, x^{2} + x\\right)\\right]$"
      ],
      "text/plain": [
       "[(0, 0),\n",
       " (x, x^3),\n",
       " (x^2, x^4 + 1),\n",
       " (x^3, x^2 + x + 1),\n",
       " (x^4, x^3 + x + 1),\n",
       " (x^2 + 1, x^4 + x^2 + x + 1),\n",
       " (x^3 + x, x^3 + x^2 + x + 1),\n",
       " (x^4 + x^2, x^4 + x^3 + x),\n",
       " (x^3 + x^2 + 1, x^4),\n",
       " (x^4 + x^3 + x, x^2),\n",
       " (x^4 + 1, x^3 + x^2 + 1),\n",
       " (x^2 + x + 1, x^4 + x^3 + x^2 + x + 1),\n",
       " (x^3 + x^2 + x, x^4 + x^3 + x^2 + x),\n",
       " (x^4 + x^3 + x^2, x^4 + x^3 + x^2 + 1),\n",
       " (x^4 + x^3 + x^2 + 1, x^4 + x^3 + x + 1),\n",
       " (x^4 + x^3 + x^2 + x + 1, x^4 + x + 1),\n",
       " (x^4 + x^3 + x + 1, x),\n",
       " (x^4 + x + 1, x^2 + 1),\n",
       " (x + 1, x^3 + x^2 + x),\n",
       " (x^2 + x, x^4 + x^3 + 1),\n",
       " (x^3 + x^2, x^4 + x^2 + x),\n",
       " (x^4 + x^3, x^3 + x^2),\n",
       " (x^4 + x^2 + 1, x^4 + x^3 + x^2),\n",
       " (x^3 + x^2 + x + 1, x^4 + x^3),\n",
       " (x^4 + x^3 + x^2 + x, x^4 + x^2 + 1),\n",
       " (x^4 + x^3 + 1, x^3 + x),\n",
       " (x^4 + x^2 + x + 1, x^4 + x^2),\n",
       " (x^3 + x + 1, x^3 + 1),\n",
       " (x^4 + x^2 + x, x^4 + x),\n",
       " (x^3 + 1, 1),\n",
       " (x^4 + x, x + 1),\n",
       " (1, x^2 + x)]"
      ]
     },
     "execution_count": 124,
     "metadata": {},
     "output_type": "execute_result"
    }
   ],
   "source": [
    "points = [(k, Kantor(x)(k)) for k in F]\n",
    "points"
   ]
  },
  {
   "cell_type": "code",
   "execution_count": 125,
   "id": "38c78e50-4965-4e3f-b10c-376a91761e79",
   "metadata": {},
   "outputs": [],
   "source": [
    "def D3(a, b):\n",
    "    return complex(ps2[toInt(a), toInt(b)]) * Z(a) @ X(b)\n",
    "\n",
    "for p1 in points:\n",
    "    for p2 in points:\n",
    "        p_op = D3(p1[0], p1[1]) @ D3(p2[0], p2[1])\n",
    "        s_op = D3(p1[0] + p2[0], p1[1] + p2[1])\n",
    "        if not np.allclose(p_op, s_op):\n",
    "            raise Exception(p1, p2)"
   ]
  },
  {
   "cell_type": "code",
   "execution_count": null,
   "id": "46db1759-e3b7-47d7-b80d-658c2b9b613e",
   "metadata": {},
   "outputs": [],
   "source": []
  }
 ],
 "metadata": {
  "kernelspec": {
   "display_name": "SageMath 9.8",
   "language": "sage",
   "name": "sagemath"
  },
  "language_info": {
   "codemirror_mode": {
    "name": "ipython",
    "version": 3
   },
   "file_extension": ".py",
   "mimetype": "text/x-python",
   "name": "python",
   "nbconvert_exporter": "python",
   "pygments_lexer": "ipython3",
   "version": "3.9.16"
  }
 },
 "nbformat": 4,
 "nbformat_minor": 5
}
