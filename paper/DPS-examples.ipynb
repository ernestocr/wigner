{
 "cells": [
  {
   "cell_type": "code",
   "execution_count": 65,
   "id": "c8b6b36c-e3e1-49c6-a7c9-9da99577742c",
   "metadata": {},
   "outputs": [],
   "source": [
    "%display latex"
   ]
  },
  {
   "cell_type": "code",
   "execution_count": 66,
   "id": "5d51b02f-535d-4dd5-b89c-4733fcbf618c",
   "metadata": {},
   "outputs": [],
   "source": [
    "import numpy as np\n",
    "from itertools import product, permutations\n",
    "\n",
    "import matplotlib.pyplot as plt\n",
    "import matplotlib.colors as colors\n",
    "import matplotlib.cm as cm\n",
    "\n",
    "plt.rc('text', usetex=True)\n",
    "plt.rc('font', family='sans serif')"
   ]
  },
  {
   "cell_type": "code",
   "execution_count": 67,
   "id": "c0f8f8b4-6b3e-4305-a66f-03d42c35790d",
   "metadata": {},
   "outputs": [],
   "source": [
    "N = 3\n",
    "F = GF(2^3, 'x')\n",
    "x = F.gen()"
   ]
  },
  {
   "cell_type": "code",
   "execution_count": 68,
   "id": "5165f9bd-9e57-42ed-a76c-9f1f60beddf3",
   "metadata": {},
   "outputs": [],
   "source": [
    "basis = [x^3, x^5, x^6]\n",
    "\n",
    "def toInt(k):\n",
    "    return list(F).index(k)\n",
    "\n",
    "def components(k):\n",
    "    return vector([(k * b).trace() for b in basis])\n",
    "\n",
    "chi = lambda k: exp(pi * I * int(k.trace()))\n",
    "\n",
    "y = var('y')\n",
    "\n",
    "# compute the coefficients for the basis elements,\n",
    "def solve_basis(basis, curve):\n",
    "    sols = []\n",
    "    for k in basis:\n",
    "        sol = solve(chi(k * curve(k)) == y^2, y, solution_dict=True)\n",
    "        sols.append(sol[1]) # positive solutions only (choice)\n",
    "    return sols\n",
    "\n",
    "# after computing the solutions we can simply\n",
    "# get them for each basis element.\n",
    "def basis_c(a, l, sols):\n",
    "    if a == 0:\n",
    "        return 1\n",
    "    return sols[l][y]\n",
    "\n",
    "# Compute an arbitrary coefficient c_{\\alpha,f} for a \n",
    "# given curve f using the general formula.\n",
    "def c(alpha, curve, sols=None):\n",
    "    if not sols:\n",
    "        sols = solve_basis(basis, curve)\n",
    "    \n",
    "    # Expand alpha in the basis\n",
    "    comps = components(alpha)\n",
    "\n",
    "    # Apply the formula\n",
    "    s1 = 0\n",
    "    for k in range(N-1):\n",
    "        s2 = 0\n",
    "        for j in range(k+1, N):\n",
    "            s2 += comps[j] * basis[j]\n",
    "        s1 += s2 * curve(comps[k] * basis[k])\n",
    "        \n",
    "    return chi(s1) * prod([basis_c(a, l, sols) for l, a in enumerate(comps)])\n",
    "\n",
    "def sign_perm(sols, perm=None):\n",
    "    if perm:\n",
    "        for k, sol in enumerate(sols):\n",
    "            sols[k][y] = perm[k] * sols[k][y]\n",
    "    return sols\n",
    "\n",
    "def ray(mu):\n",
    "    return lambda t: mu * t\n",
    "\n",
    "def PS(curve, perms):\n",
    "    phase_space = zero_matrix(SR, 2^N, 2^N)\n",
    "    phase_space[0,:] = 1 # vertical line forced by phi(0,b) = 1\n",
    "    for j, mu in enumerate(F): # iterate through the curve parametr\n",
    "        # same sign choice for a fixed curve parameter\n",
    "        sols = sign_perm(solve_basis(basis, curve(mu)), perms[j])\n",
    "        for i, a in enumerate(F):\n",
    "            # loop through alpha to obtain coefficient and\n",
    "            # corresponding point\n",
    "            coeff = c(a, curve(mu), sols)\n",
    "            b = curve(mu)(a)\n",
    "            phase_space[i, toInt(b)] = coeff\n",
    "    return phase_space"
   ]
  },
  {
   "cell_type": "code",
   "execution_count": 69,
   "id": "18ef9072-5157-48ef-8ff9-fc099619cacd",
   "metadata": {},
   "outputs": [],
   "source": [
    "# change DPS to string type\n",
    "def DPS_to_str(dps):\n",
    "    psn = np.array(dps).astype('object')\n",
    "    \n",
    "    psn[psn == 1] = '1'\n",
    "    psn[psn == -1] = '-1'\n",
    "    psn[psn == 1j] = 'i'\n",
    "    psn[psn == -1j] = '-i'\n",
    "    \n",
    "    return psn"
   ]
  },
  {
   "cell_type": "code",
   "execution_count": 70,
   "id": "1b5912ea-78f9-4958-9a52-177422418613",
   "metadata": {},
   "outputs": [],
   "source": [
    "def Partition(curves):\n",
    "    prt = zero_matrix(SR, 8, 8)\n",
    "    prt[0,:] = 8\n",
    "    for mu in F:\n",
    "        for a in F:\n",
    "            b = curves(mu)(a)\n",
    "            prt[toInt(a), toInt(b)] = toInt(mu)\n",
    "    prt[0,0] = 0\n",
    "    return prt"
   ]
  },
  {
   "cell_type": "code",
   "execution_count": 71,
   "id": "b96c7d85-6e81-4689-9b5c-420893b4a792",
   "metadata": {},
   "outputs": [
    {
     "data": {
      "text/html": [
       "<html>\\(\\displaystyle \\left(\\begin{array}{rrrrrrrr}\n",
       "1 & 1 & 1 & 1 & 1 & 1 & 1 & 1 \\\\\n",
       "1 & -1 & -i & 1 & -i & i & i & -1 \\\\\n",
       "1 & -i & -1 & i & -i & i & 1 & -1 \\\\\n",
       "1 & 1 & i & i & i & 1 & 1 & i \\\\\n",
       "1 & -i & -i & i & -1 & 1 & i & -1 \\\\\n",
       "1 & i & i & 1 & 1 & i & 1 & i \\\\\n",
       "1 & i & 1 & 1 & i & 1 & i & i \\\\\n",
       "1 & -1 & -1 & i & -1 & i & i & -i\n",
       "\\end{array}\\right)\\)</html>"
      ],
      "text/latex": [
       "$\\displaystyle \\left(\\begin{array}{rrrrrrrr}\n",
       "1 & 1 & 1 & 1 & 1 & 1 & 1 & 1 \\\\\n",
       "1 & -1 & -i & 1 & -i & i & i & -1 \\\\\n",
       "1 & -i & -1 & i & -i & i & 1 & -1 \\\\\n",
       "1 & 1 & i & i & i & 1 & 1 & i \\\\\n",
       "1 & -i & -i & i & -1 & 1 & i & -1 \\\\\n",
       "1 & i & i & 1 & 1 & i & 1 & i \\\\\n",
       "1 & i & 1 & 1 & i & 1 & i & i \\\\\n",
       "1 & -1 & -1 & i & -1 & i & i & -i\n",
       "\\end{array}\\right)$"
      ],
      "text/plain": [
       "[ 1  1  1  1  1  1  1  1]\n",
       "[ 1 -1 -I  1 -I  I  I -1]\n",
       "[ 1 -I -1  I -I  I  1 -1]\n",
       "[ 1  1  I  I  I  1  1  I]\n",
       "[ 1 -I -I  I -1  1  I -1]\n",
       "[ 1  I  I  1  1  I  1  I]\n",
       "[ 1  I  1  1  I  1  I  I]\n",
       "[ 1 -1 -1  I -1  I  I -I]"
      ]
     },
     "execution_count": 71,
     "metadata": {},
     "output_type": "execute_result"
    }
   ],
   "source": [
    "ps = PS(ray, [[1,1,1]] * 8)\n",
    "ps"
   ]
  },
  {
   "cell_type": "code",
   "execution_count": 72,
   "id": "bab22e0d-245d-4498-bfff-b6afce38b026",
   "metadata": {},
   "outputs": [],
   "source": [
    "# palettes = ['Pastel1', 'Pastel2', 'Paired', 'Accent', 'Dark2',\n",
    "#             'Set1', 'Set2', 'Set3', 'tab10', 'tab20', 'tab20b', \n",
    "#             'tab20c', 'viridis', 'gnuplot']\n",
    "def DPS_heat(curve, dps, pal='gnuplot', pal_rng=(0,1), txt_col='b'):\n",
    "    data   = np.rot90(np.array(Partition(curve), dtype='float64'), 0).T\n",
    "    labels = np.rot90(np.array(DPS_to_str(dps)), 0).T\n",
    "\n",
    "    pal_func = getattr(plt.cm, pal)\n",
    "    col_map = colors.ListedColormap(pal_func(np.linspace(*pal_rng, 2^N+1)))\n",
    "    \n",
    "    fig, ax = plt.subplots()\n",
    "    im = ax.imshow(data, cmap=col_map,\n",
    "                   vmin=np.min(data) - 0.5, \n",
    "                   vmax=np.max(data) + 0.5,\n",
    "                   origin='lower')\n",
    "    \n",
    "    F_lab = [r'$0$', r'$\\sigma$'] + [rf'$\\sigma^{k}$' for k in range(2,8)]\n",
    "    ax.set_xticks(range(8))\n",
    "    ax.set_xticklabels(F_lab)\n",
    "    ax.set_yticks(range(8))\n",
    "    ax.set_yticklabels(F_lab)\n",
    "\n",
    "    ax.set_xlabel(r'$\\alpha$')\n",
    "    ax.set_ylabel(r'$\\beta$', rotation='horizontal', labelpad=10)\n",
    "    \n",
    "    # Display the custom labels within each entry\n",
    "    for i in range(len(labels)):\n",
    "        for j in range(len(labels[0])):\n",
    "            text = ax.text(j, i, f'${labels[i][j]}$',\n",
    "                           ha=\"center\", va=\"center\", color=txt_col)\n",
    "    \n",
    "    cbar = ax.figure.colorbar(im, ax=ax,\n",
    "                              ticks=np.arange(np.min(data), np.max(data) + 1),\n",
    "                              fraction=0.05, pad=0.04)\n",
    "    cbar.ax.set_yticklabels(F_lab + [r'$\\infty$'])\n",
    "    cbar.ax.set_xlabel(r'$\\mu$', labelpad=5)\n",
    "    \n",
    "    return fig, ax"
   ]
  },
  {
   "cell_type": "code",
   "execution_count": 73,
   "id": "21ea4899-b30e-453c-95f3-c5241a74e66e",
   "metadata": {},
   "outputs": [
    {
     "data": {
      "image/png": "[encoded data removed]",
      "text/plain": [
       "<Figure size 640x480 with 2 Axes>"
      ]
     },
     "metadata": {},
     "output_type": "display_data"
    }
   ],
   "source": [
    "fig, ax = DPS_heat(ray, ps, pal='gnuplot', pal_rng=(.1,.9), txt_col='w')"
   ]
  },
  {
   "cell_type": "code",
   "execution_count": 74,
   "id": "923161a9-864d-42c8-b82b-99a9c720bf32",
   "metadata": {},
   "outputs": [],
   "source": [
    "bbox = fig.bbox_inches.from_bounds(1, 0, 5.2, 4.5)\n",
    "fig.savefig('./paper_graphs/DPS_rays_heat.eps', format='eps', bbox_inches=bbox)"
   ]
  },
  {
   "cell_type": "code",
   "execution_count": 75,
   "id": "35d79276-396c-4005-b222-014d70143f7b",
   "metadata": {},
   "outputs": [],
   "source": [
    "def DPS_line(curve, dps, pal='gnuplot'):\n",
    "    fig, ax = plt.subplots()\n",
    "    \n",
    "    F_lab = [r'$0$', r'$\\sigma$'] + [rf'$\\sigma^{k}$' for k in range(2,2^N)]\n",
    "    F_lab_ext = [r'$\\infty$'] + F_lab\n",
    "    ax.set_xticks(range(2^N))\n",
    "    ax.set_xticklabels(F_lab)\n",
    "    ax.set_yticks(range(2^N))\n",
    "    ax.set_yticklabels(F_lab)\n",
    "\n",
    "    dps_str = DPS_to_str(dps)\n",
    "    for i in range(8):\n",
    "        for j in range(8):\n",
    "            t = ax.text(i, j, f'${dps_str[i,j]}$',\n",
    "                        fontsize=12, ha='center', va='center',\n",
    "                        color='white')\n",
    "            # t.set_bbox(dict(facecolor='white', linewidth=0, alpha=0.3))\n",
    "\n",
    "    pal_func = getattr(plt.cm, pal)\n",
    "    line_colors = pal_func(np.linspace(0,0.9,2^N+1))\n",
    "\n",
    "    # Get curves\n",
    "    points = [[(0, toInt(k)) for k in F]]\n",
    "    for mu in F:\n",
    "        points.append([(toInt(k), toInt(curve(mu)(k))) for k in F])\n",
    "    \n",
    "    for i, pts in enumerate(points):\n",
    "        ax.plot(*zip(*pts),\n",
    "                alpha=0.5, zorder=-1,\n",
    "                label=F_lab_ext[i],\n",
    "                color=line_colors[i]\n",
    "               )\n",
    "        ax.scatter(*zip(*pts), marker='o', s=500,\n",
    "                   zorder=0, linewidths=2, edgecolors='white',\n",
    "                   color=line_colors[i],\n",
    "                  )\n",
    "    \n",
    "    plt.legend(loc=(1.02, 0.515))\n",
    "    \n",
    "    return fig, ax"
   ]
  },
  {
   "cell_type": "code",
   "execution_count": 76,
   "id": "b8dc9d42-bded-47d1-8b53-45803f8959e5",
   "metadata": {},
   "outputs": [
    {
     "data": {
      "text/html": [
       "<html>\\(\\displaystyle \\left(\\verb|Figure(640x480)|, \\verb|Axes(0.125,0.11;0.775x0.77)|\\right)\\)</html>"
      ],
      "text/latex": [
       "$\\displaystyle \\left(\\verb|Figure(640x480)|, \\verb|Axes(0.125,0.11;0.775x0.77)|\\right)$"
      ],
      "text/plain": [
       "(<Figure size 640x480 with 1 Axes>, <Axes: >)"
      ]
     },
     "execution_count": 76,
     "metadata": {},
     "output_type": "execute_result"
    },
    {
     "data": {
      "image/png": "[encoded data removed]",
      "text/plain": [
       "<Figure size 640x480 with 1 Axes>"
      ]
     },
     "metadata": {},
     "output_type": "display_data"
    }
   ],
   "source": [
    "DPS_line(ray, ps, 'gnuplot')"
   ]
  },
  {
   "cell_type": "code",
   "execution_count": 77,
   "id": "990dd3ba-83ff-4422-935d-bacdd3b9eaca",
   "metadata": {},
   "outputs": [],
   "source": [
    "# bbox = fig.bbox_inches.from_bounds(0.2, 0, 6.5, 4.5)\n",
    "# fig.savefig('./paper_graphs/DPS_rays.eps', format='eps', bbox_inches=bbox)"
   ]
  },
  {
   "cell_type": "markdown",
   "id": "218ac5ca-f602-4276-afd9-c12a0c6c20f5",
   "metadata": {},
   "source": [
    "---\n",
    "\n",
    "Let's now calculate the DPS for the curve given by Sainz $\\beta = \\phi_0 \\alpha + \\alpha + \\alpha^2$. This curve is not appropriate. The general form is given by\n",
    "$$\n",
    "\\beta = \\phi_0 \\alpha + \\phi^2 \\alpha^2 + \\phi \\alpha^4.\n",
    "$$"
   ]
  },
  {
   "cell_type": "code",
   "execution_count": 78,
   "id": "2c1d1823-c8de-4a88-ab7d-0348de45227c",
   "metadata": {},
   "outputs": [],
   "source": [
    "def sainz_curve(phi0):\n",
    "    # return lambda k: phi0 * k + x^2 * k^2 + x * k^4 # phi = \\sigma\n",
    "    return lambda k: phi0 * k + k^2 + k^4 # phi = 1"
   ]
  },
  {
   "cell_type": "code",
   "execution_count": 79,
   "id": "d34bb666-1fd4-44dc-81d2-9232f5f7c6fb",
   "metadata": {},
   "outputs": [
    {
     "data": {
      "text/html": [
       "<html>\\(\\displaystyle \\left(\\begin{array}{rrrrrrrr}\n",
       "0 & 8 & 8 & 8 & 8 & 8 & 8 & 8 \\\\\n",
       "7 & 0 & 3 & 6 & 1 & 5 & 4 & 2 \\\\\n",
       "7 & 2 & 0 & 3 & 6 & 1 & 5 & 4 \\\\\n",
       "5 & 0 & 1 & 4 & 6 & 3 & 2 & 7 \\\\\n",
       "7 & 5 & 4 & 2 & 0 & 3 & 6 & 1 \\\\\n",
       "6 & 4 & 3 & 1 & 0 & 2 & 5 & 7 \\\\\n",
       "3 & 5 & 0 & 6 & 2 & 4 & 1 & 7 \\\\\n",
       "0 & 1 & 2 & 3 & 4 & 5 & 6 & 7\n",
       "\\end{array}\\right)\\)</html>"
      ],
      "text/latex": [
       "$\\displaystyle \\left(\\begin{array}{rrrrrrrr}\n",
       "0 & 8 & 8 & 8 & 8 & 8 & 8 & 8 \\\\\n",
       "7 & 0 & 3 & 6 & 1 & 5 & 4 & 2 \\\\\n",
       "7 & 2 & 0 & 3 & 6 & 1 & 5 & 4 \\\\\n",
       "5 & 0 & 1 & 4 & 6 & 3 & 2 & 7 \\\\\n",
       "7 & 5 & 4 & 2 & 0 & 3 & 6 & 1 \\\\\n",
       "6 & 4 & 3 & 1 & 0 & 2 & 5 & 7 \\\\\n",
       "3 & 5 & 0 & 6 & 2 & 4 & 1 & 7 \\\\\n",
       "0 & 1 & 2 & 3 & 4 & 5 & 6 & 7\n",
       "\\end{array}\\right)$"
      ],
      "text/plain": [
       "[0 8 8 8 8 8 8 8]\n",
       "[7 0 3 6 1 5 4 2]\n",
       "[7 2 0 3 6 1 5 4]\n",
       "[5 0 1 4 6 3 2 7]\n",
       "[7 5 4 2 0 3 6 1]\n",
       "[6 4 3 1 0 2 5 7]\n",
       "[3 5 0 6 2 4 1 7]\n",
       "[0 1 2 3 4 5 6 7]"
      ]
     },
     "execution_count": 79,
     "metadata": {},
     "output_type": "execute_result"
    }
   ],
   "source": [
    "Partition(sainz_curve)"
   ]
  },
  {
   "cell_type": "code",
   "execution_count": 80,
   "id": "273aee13-0846-40b8-8918-194a05661a3f",
   "metadata": {},
   "outputs": [
    {
     "data": {
      "text/html": [
       "<html>\\(\\displaystyle \\left(\\begin{array}{rrrrrrrr}\n",
       "1 & 1 & 1 & 1 & 1 & 1 & 1 & 1 \\\\\n",
       "1 & -1 & i & 1 & i & -i & -i & -1 \\\\\n",
       "1 & i & -1 & -i & i & -i & 1 & -1 \\\\\n",
       "1 & 1 & i & i & i & 1 & 1 & i \\\\\n",
       "1 & i & i & -i & -1 & 1 & -i & -1 \\\\\n",
       "1 & i & i & 1 & 1 & i & 1 & i \\\\\n",
       "1 & i & 1 & 1 & i & 1 & i & i \\\\\n",
       "-1 & 1 & 1 & -i & 1 & -i & -i & i\n",
       "\\end{array}\\right)\\)</html>"
      ],
      "text/latex": [
       "$\\displaystyle \\left(\\begin{array}{rrrrrrrr}\n",
       "1 & 1 & 1 & 1 & 1 & 1 & 1 & 1 \\\\\n",
       "1 & -1 & i & 1 & i & -i & -i & -1 \\\\\n",
       "1 & i & -1 & -i & i & -i & 1 & -1 \\\\\n",
       "1 & 1 & i & i & i & 1 & 1 & i \\\\\n",
       "1 & i & i & -i & -1 & 1 & -i & -1 \\\\\n",
       "1 & i & i & 1 & 1 & i & 1 & i \\\\\n",
       "1 & i & 1 & 1 & i & 1 & i & i \\\\\n",
       "-1 & 1 & 1 & -i & 1 & -i & -i & i\n",
       "\\end{array}\\right)$"
      ],
      "text/plain": [
       "[ 1  1  1  1  1  1  1  1]\n",
       "[ 1 -1  I  1  I -I -I -1]\n",
       "[ 1  I -1 -I  I -I  1 -1]\n",
       "[ 1  1  I  I  I  1  1  I]\n",
       "[ 1  I  I -I -1  1 -I -1]\n",
       "[ 1  I  I  1  1  I  1  I]\n",
       "[ 1  I  1  1  I  1  I  I]\n",
       "[-1  1  1 -I  1 -I -I  I]"
      ]
     },
     "execution_count": 80,
     "metadata": {},
     "output_type": "execute_result"
    }
   ],
   "source": [
    "ps = PS(sainz_curve, [[1,1,1]] * 8)\n",
    "ps"
   ]
  },
  {
   "cell_type": "code",
   "execution_count": 81,
   "id": "5ff070e0-2e48-4365-80d6-276a60daba83",
   "metadata": {},
   "outputs": [
    {
     "name": "stdout",
     "output_type": "stream",
     "text": [
      "Recurrence relation holds!\n"
     ]
    }
   ],
   "source": [
    "for mu in F:\n",
    "    # curve = sainz_curve(mu)\n",
    "    curve = ray(mu)\n",
    "    sols = sign_perm(solve_basis(basis, curve), [1,1,1])\n",
    "    for k in F:\n",
    "        for kp in F:\n",
    "            lhs = c(k, curve, sols) * c(kp, curve, sols)\n",
    "            rhs = chi(kp * curve(k)) * c(k + kp, curve, sols)\n",
    "            if lhs != rhs:\n",
    "                raise Exception('Recurrence relation does not hold!', mu)\n",
    "print('Recurrence relation holds!')"
   ]
  },
  {
   "cell_type": "code",
   "execution_count": 82,
   "id": "31115136-29a1-40dd-a632-d651671299b3",
   "metadata": {},
   "outputs": [
    {
     "name": "stdout",
     "output_type": "stream",
     "text": [
      "Recurrence relation holds!\n"
     ]
    }
   ],
   "source": [
    "# verify recurrence relation\n",
    "for phi0 in F:\n",
    "    for t1 in F:\n",
    "        for t2 in F:\n",
    "            a1, b1 = (t1, sainz_curve(phi0)(t1))\n",
    "            a2, b2 = (t2, sainz_curve(phi0)(t2))\n",
    "            a3, b3 = (t1 + t2, sainz_curve(phi0)(t1 + t2))\n",
    "            phase1 = ps[toInt(a1), toInt(b1)]\n",
    "            phase2 = ps[toInt(a2), toInt(b2)]\n",
    "            phase3 = ps[toInt(a3), toInt(b3)]\n",
    "            if phase1 * phase2 != phase3 * chi(a2 * b1):\n",
    "                print(phi0, t1, t2)\n",
    "                print(phase1 * phase2, phase3 * chi(a2 * b1))\n",
    "                raise Exception\n",
    "print('Recurrence relation holds!')"
   ]
  },
  {
   "cell_type": "code",
   "execution_count": 83,
   "id": "23ee41ed-1c4b-4899-a7f6-15519f7c1ab0",
   "metadata": {},
   "outputs": [
    {
     "data": {
      "image/png": "[encoded data removed]",
      "text/plain": [
       "<Figure size 640x480 with 2 Axes>"
      ]
     },
     "metadata": {},
     "output_type": "display_data"
    }
   ],
   "source": [
    "fig, ax = DPS_heat(sainz_curve, ps, pal='gnuplot', pal_rng=(.1,.9), txt_col='w')"
   ]
  },
  {
   "cell_type": "code",
   "execution_count": 86,
   "id": "c8b83fe4-c9b0-4794-adbb-e925544eeee7",
   "metadata": {},
   "outputs": [],
   "source": [
    "bbox = fig.bbox_inches.from_bounds(1, 0, 5.2, 4.5)\n",
    "fig.savefig('./paper_graphs/DPS_curve_heat_correct.eps', format='eps', bbox_inches=bbox)"
   ]
  },
  {
   "cell_type": "code",
   "execution_count": 87,
   "id": "07f6dd31-66ff-4554-80a5-29827c131d65",
   "metadata": {},
   "outputs": [
    {
     "data": {
      "text/html": [
       "<html>\\(\\displaystyle \\left(\\verb|Figure(640x480)|, \\verb|Axes(0.125,0.11;0.775x0.77)|\\right)\\)</html>"
      ],
      "text/latex": [
       "$\\displaystyle \\left(\\verb|Figure(640x480)|, \\verb|Axes(0.125,0.11;0.775x0.77)|\\right)$"
      ],
      "text/plain": [
       "(<Figure size 640x480 with 1 Axes>, <Axes: >)"
      ]
     },
     "execution_count": 87,
     "metadata": {},
     "output_type": "execute_result"
    },
    {
     "data": {
      "image/png": "[encoded data removed]",
      "text/plain": [
       "<Figure size 640x480 with 1 Axes>"
      ]
     },
     "metadata": {},
     "output_type": "display_data"
    }
   ],
   "source": [
    "DPS_line(sainz_curve, ps, 'gnuplot')"
   ]
  },
  {
   "cell_type": "markdown",
   "id": "4a09567f-6b66-419f-93e3-d85158652fb7",
   "metadata": {},
   "source": [
    "---\n",
    "MUBS for Sainz.\n",
    "\n",
    "Construct the rotation operators to create MUBs."
   ]
  },
  {
   "cell_type": "code",
   "execution_count": 88,
   "id": "71aeb959-0648-452a-9f19-f4eae614a465",
   "metadata": {},
   "outputs": [],
   "source": [
    "ps = PS(ray, [[1,1,1]] * 8)"
   ]
  },
  {
   "cell_type": "code",
   "execution_count": 138,
   "id": "d7dd7d8e-1adb-4be9-ae9b-5015371dc105",
   "metadata": {},
   "outputs": [],
   "source": [
    "def Proj(u, v=None):\n",
    "    if not v:\n",
    "        v = u\n",
    "    return u.tensor_product(v.conjugate_transpose())\n",
    "\n",
    "Id = identity_matrix(2^N)\n",
    "\n",
    "def Fourier():\n",
    "    s = zero_matrix(SR, 2^N, 2^N)\n",
    "    for i, a in enumerate(F):\n",
    "        for j, b in enumerate(F):\n",
    "            s[i,j] = chi(a * b) / sqrt(2^N)\n",
    "    return s\n",
    "FF = Fourier()\n",
    "\n",
    "def phi(a, b, dps=ps):\n",
    "    return dps[toInt(a), toInt(b)]\n",
    "\n",
    "def Z(a):\n",
    "    return diagonal_matrix([chi(a * k) for k in F])\n",
    "\n",
    "def X(b):\n",
    "    return FF.conjugate_transpose() * Z(b) * FF\n",
    "\n",
    "def D(a, b):\n",
    "    return phi(a, b) * Z(a) * X(b)\n",
    "\n",
    "def V(xi, curve=None):\n",
    "    if not curve:\n",
    "        curve = lambda t: xi * t\n",
    "    sols = solve_basis(basis, curve)\n",
    "    \n",
    "    s = zero_matrix(SR, 2**N, 2**N)\n",
    "    for i, k in enumerate(F):\n",
    "        s += c(k, curve, sols) * Proj(FF[:,i])\n",
    "    return s"
   ]
  },
  {
   "cell_type": "code",
   "execution_count": 139,
   "id": "db46f75a-0e2f-4871-80d6-c65f729ae2b4",
   "metadata": {},
   "outputs": [],
   "source": [
    "mubs306 = [FF] + [V(mu) for mu in F]"
   ]
  },
  {
   "cell_type": "code",
   "execution_count": 140,
   "id": "7f7c23cb-f122-43a1-8b3e-d41903bbf224",
   "metadata": {},
   "outputs": [
    {
     "data": {
      "text/html": [
       "<html>\\(\\displaystyle \\left(\\begin{array}{rrrrrrrr}\n",
       "i - 1 & -i + 1 & -i + 1 & i + 1 & -i + 1 & i + 1 & i + 1 & -i - 1 \\\\\n",
       "-i + 1 & i - 1 & -i + 1 & -i - 1 & -i + 1 & i + 1 & i + 1 & i + 1 \\\\\n",
       "-i + 1 & -i + 1 & i - 1 & i + 1 & -i + 1 & i + 1 & -i - 1 & i + 1 \\\\\n",
       "i + 1 & -i - 1 & i + 1 & i - 1 & i + 1 & -i + 1 & -i + 1 & -i + 1 \\\\\n",
       "-i + 1 & -i + 1 & -i + 1 & i + 1 & i - 1 & -i - 1 & i + 1 & i + 1 \\\\\n",
       "i + 1 & i + 1 & i + 1 & -i + 1 & -i - 1 & i - 1 & -i + 1 & -i + 1 \\\\\n",
       "i + 1 & i + 1 & -i - 1 & -i + 1 & i + 1 & -i + 1 & i - 1 & -i + 1 \\\\\n",
       "-i - 1 & i + 1 & i + 1 & -i + 1 & i + 1 & -i + 1 & -i + 1 & i - 1\n",
       "\\end{array}\\right)\\)</html>"
      ],
      "text/latex": [
       "$\\displaystyle \\left(\\begin{array}{rrrrrrrr}\n",
       "i - 1 & -i + 1 & -i + 1 & i + 1 & -i + 1 & i + 1 & i + 1 & -i - 1 \\\\\n",
       "-i + 1 & i - 1 & -i + 1 & -i - 1 & -i + 1 & i + 1 & i + 1 & i + 1 \\\\\n",
       "-i + 1 & -i + 1 & i - 1 & i + 1 & -i + 1 & i + 1 & -i - 1 & i + 1 \\\\\n",
       "i + 1 & -i - 1 & i + 1 & i - 1 & i + 1 & -i + 1 & -i + 1 & -i + 1 \\\\\n",
       "-i + 1 & -i + 1 & -i + 1 & i + 1 & i - 1 & -i - 1 & i + 1 & i + 1 \\\\\n",
       "i + 1 & i + 1 & i + 1 & -i + 1 & -i - 1 & i - 1 & -i + 1 & -i + 1 \\\\\n",
       "i + 1 & i + 1 & -i - 1 & -i + 1 & i + 1 & -i + 1 & i - 1 & -i + 1 \\\\\n",
       "-i - 1 & i + 1 & i + 1 & -i + 1 & i + 1 & -i + 1 & -i + 1 & i - 1\n",
       "\\end{array}\\right)$"
      ],
      "text/plain": [
       "[ I - 1 -I + 1 -I + 1  I + 1 -I + 1  I + 1  I + 1 -I - 1]\n",
       "[-I + 1  I - 1 -I + 1 -I - 1 -I + 1  I + 1  I + 1  I + 1]\n",
       "[-I + 1 -I + 1  I - 1  I + 1 -I + 1  I + 1 -I - 1  I + 1]\n",
       "[ I + 1 -I - 1  I + 1  I - 1  I + 1 -I + 1 -I + 1 -I + 1]\n",
       "[-I + 1 -I + 1 -I + 1  I + 1  I - 1 -I - 1  I + 1  I + 1]\n",
       "[ I + 1  I + 1  I + 1 -I + 1 -I - 1  I - 1 -I + 1 -I + 1]\n",
       "[ I + 1  I + 1 -I - 1 -I + 1  I + 1 -I + 1  I - 1 -I + 1]\n",
       "[-I - 1  I + 1  I + 1 -I + 1  I + 1 -I + 1 -I + 1  I - 1]"
      ]
     },
     "execution_count": 140,
     "metadata": {},
     "output_type": "execute_result"
    }
   ],
   "source": [
    "mubs306[8] * 4"
   ]
  },
  {
   "cell_type": "code",
   "execution_count": 92,
   "id": "512eaae8-5f1f-45bc-bc20-e1fefb5edf32",
   "metadata": {},
   "outputs": [
    {
     "data": {
      "text/html": [
       "<html>\\(\\displaystyle \\left(\\begin{array}{rrrrrrrr}\n",
       "i - 1 & -i + 1 & -i + 1 & i + 1 & -i + 1 & i + 1 & i + 1 & -i - 1 \\\\\n",
       "-i + 1 & i - 1 & -i + 1 & -i - 1 & -i + 1 & i + 1 & i + 1 & i + 1 \\\\\n",
       "-i + 1 & -i + 1 & i - 1 & i + 1 & -i + 1 & i + 1 & -i - 1 & i + 1 \\\\\n",
       "i + 1 & -i - 1 & i + 1 & i - 1 & i + 1 & -i + 1 & -i + 1 & -i + 1 \\\\\n",
       "-i + 1 & -i + 1 & -i + 1 & i + 1 & i - 1 & -i - 1 & i + 1 & i + 1 \\\\\n",
       "i + 1 & i + 1 & i + 1 & -i + 1 & -i - 1 & i - 1 & -i + 1 & -i + 1 \\\\\n",
       "i + 1 & i + 1 & -i - 1 & -i + 1 & i + 1 & -i + 1 & i - 1 & -i + 1 \\\\\n",
       "-i - 1 & i + 1 & i + 1 & -i + 1 & i + 1 & -i + 1 & -i + 1 & i - 1\n",
       "\\end{array}\\right)\\)</html>"
      ],
      "text/latex": [
       "$\\displaystyle \\left(\\begin{array}{rrrrrrrr}\n",
       "i - 1 & -i + 1 & -i + 1 & i + 1 & -i + 1 & i + 1 & i + 1 & -i - 1 \\\\\n",
       "-i + 1 & i - 1 & -i + 1 & -i - 1 & -i + 1 & i + 1 & i + 1 & i + 1 \\\\\n",
       "-i + 1 & -i + 1 & i - 1 & i + 1 & -i + 1 & i + 1 & -i - 1 & i + 1 \\\\\n",
       "i + 1 & -i - 1 & i + 1 & i - 1 & i + 1 & -i + 1 & -i + 1 & -i + 1 \\\\\n",
       "-i + 1 & -i + 1 & -i + 1 & i + 1 & i - 1 & -i - 1 & i + 1 & i + 1 \\\\\n",
       "i + 1 & i + 1 & i + 1 & -i + 1 & -i - 1 & i - 1 & -i + 1 & -i + 1 \\\\\n",
       "i + 1 & i + 1 & -i - 1 & -i + 1 & i + 1 & -i + 1 & i - 1 & -i + 1 \\\\\n",
       "-i - 1 & i + 1 & i + 1 & -i + 1 & i + 1 & -i + 1 & -i + 1 & i - 1\n",
       "\\end{array}\\right)$"
      ],
      "text/plain": [
       "[ I - 1 -I + 1 -I + 1  I + 1 -I + 1  I + 1  I + 1 -I - 1]\n",
       "[-I + 1  I - 1 -I + 1 -I - 1 -I + 1  I + 1  I + 1  I + 1]\n",
       "[-I + 1 -I + 1  I - 1  I + 1 -I + 1  I + 1 -I - 1  I + 1]\n",
       "[ I + 1 -I - 1  I + 1  I - 1  I + 1 -I + 1 -I + 1 -I + 1]\n",
       "[-I + 1 -I + 1 -I + 1  I + 1  I - 1 -I - 1  I + 1  I + 1]\n",
       "[ I + 1  I + 1  I + 1 -I + 1 -I - 1  I - 1 -I + 1 -I + 1]\n",
       "[ I + 1  I + 1 -I - 1 -I + 1  I + 1 -I + 1  I - 1 -I + 1]\n",
       "[-I - 1  I + 1  I + 1 -I + 1  I + 1 -I + 1 -I + 1  I - 1]"
      ]
     },
     "execution_count": 92,
     "metadata": {},
     "output_type": "execute_result"
    }
   ],
   "source": [
    "# same thing so far\n",
    "s_test = zero_matrix(SR, 2**N, 2**N)\n",
    "for i, k in enumerate(F):\n",
    "    s_test += phi(k, ray(F(1))(k)) * Proj(FF[:,i])\n",
    "s_test * 4"
   ]
  },
  {
   "cell_type": "markdown",
   "id": "096d3ae2-ed5d-472e-af43-27d83d15c892",
   "metadata": {},
   "source": [
    "Before doing state tomography. Let's verify that the distinct formulas used to create the eigenstates are really equal when using the same hyperparameters (sign permutations). In particular we need to verify that for the case of the all positive solution and the rays $f(\\alpha) = \\lambda \\alpha$, the following equality holds:\n",
    "$$\n",
    "\\ket{\\psi_\\kappa^\\lambda} \\bra{\\psi_\\kappa^\\lambda}\n",
    "= \\sum_{\\tau} \\chi(\\tau \\kappa) D(\\tau, \\lambda \\tau)\n",
    "= V_\\lambda \\ket{\\kappa} \\bra{\\kappa} V_\\lambda^*\n",
    "$$\n",
    "where $V_\\lambda$ is the rotation operator corresponding to the curve parametrized by $\\lambda$:\n",
    "$$\n",
    "V_\\lambda = \\sum_{\\kappa} c(\\lambda, \\kappa) \\ket{\\tilde\\kappa} \\bra{\\tilde\\kappa}.\n",
    "$$"
   ]
  },
  {
   "cell_type": "code",
   "execution_count": 93,
   "id": "fdf42c7d-3d56-4522-96ff-95424954ee35",
   "metadata": {},
   "outputs": [],
   "source": [
    "# kappa = 0\n",
    "for k in F:\n",
    "    for l in F:\n",
    "        s_lk = zero_matrix(SR, 2^N, 2^N)\n",
    "        for t in F:\n",
    "            s_lk += chi(t * k) * D(t, ray(l)(t))\n",
    "        if s_lk != Proj(V(l)[:,toInt(k)]) * 2^N:\n",
    "            raise Exception"
   ]
  },
  {
   "cell_type": "markdown",
   "id": "d121a4cf-bbc7-445d-8327-53719bf382a5",
   "metadata": {},
   "source": [
    "Good, so the projections of MUBs, $\\ket{\\psi_\\kappa^\\lambda}\\bra{\\psi_\\kappa^\\lambda}$ generated by both manners, i.e., as a sum of displacement operators along the curve and as a rotation operator, is equal."
   ]
  },
  {
   "cell_type": "markdown",
   "id": "d7998452-1fc3-48a6-8462-d6b24dc020e2",
   "metadata": {},
   "source": [
    "One final check, Klimov wants to verify that the MUBs that I obtain using the rotation operators can be (explicitly) expressed in the following manner:\n",
    "$$\n",
    "\\ket{\\psi_\\kappa^\\lambda}\n",
    "= \\frac{1}{\\sqrt{p^n}} \\sum_{\\alpha,\\gamma \\in \\mathbb F} \\Phi(\\alpha,\\lambda\\alpha) (-1)^{\\alpha(\\kappa+\\gamma)} \\ket{\\gamma},\n",
    "$$\n",
    "and\n",
    "$$\n",
    "\\ket{\\tilde\\psi_\\kappa}\n",
    "= \\frac{1}{\\sqrt{p^n}} \\sum_{\\alpha,\\gamma \\in \\mathbb F} (-1)^{tr(\\kappa\\gamma)} \\ket{\\gamma}.\n",
    "$$"
   ]
  },
  {
   "cell_type": "code",
   "execution_count": 94,
   "id": "8db4e727-3bb7-4039-95e8-532090fbbd62",
   "metadata": {},
   "outputs": [],
   "source": [
    "# generate MUBs using the expression above\n",
    "FB = zero_matrix(SR, 2^N, 2^N)\n",
    "for k in F:\n",
    "    for g in F:\n",
    "        FB[toInt(g), toInt(k)] = (-1)^int((k * g).trace()) / sqrt(2^N)"
   ]
  },
  {
   "cell_type": "code",
   "execution_count": 95,
   "id": "30a9bc1e-0ac6-4d08-a32b-4c67e7c57e0f",
   "metadata": {},
   "outputs": [
    {
     "data": {
      "text/html": [
       "<html>\\(\\displaystyle \\mathrm{True}\\)</html>"
      ],
      "text/latex": [
       "$\\displaystyle \\mathrm{True}$"
      ],
      "text/plain": [
       "True"
      ]
     },
     "execution_count": 95,
     "metadata": {},
     "output_type": "execute_result"
    }
   ],
   "source": [
    "FF == FB"
   ]
  },
  {
   "cell_type": "code",
   "execution_count": 96,
   "id": "e3501eb9-9091-49bc-a12d-5e35417581c6",
   "metadata": {},
   "outputs": [],
   "source": [
    "for l in F:\n",
    "    Bl = zero_matrix(SR, 2^N, 2^N)\n",
    "    for k in F:\n",
    "        for a in F:\n",
    "            for g in F:\n",
    "                Bl[toInt(g), toInt(k)] += phi(a, ray(l)(a)) * (-1)^int((a * (k + g)).trace()) / 2^N\n",
    "    if Bl != V(l):\n",
    "        raise Exception"
   ]
  },
  {
   "cell_type": "markdown",
   "id": "23059f7f-c46e-4a4b-811c-9e1711b5ae6a",
   "metadata": {},
   "source": [
    "---\n",
    "\n",
    "Quantum state tomography. Simply calculate the probabilities:\n",
    "$$\n",
    "p_\\kappa^{(\\lambda)} = \\bra{\\psi_\\kappa^\\lambda} \\hat\\rho \\ket{\\psi_\\kappa^\\lambda},\n",
    "$$\n",
    "in order to express the state $\\hat\\rho$ as a decomposition of the projection operators $\\ket{\\psi_\\kappa^\\lambda}\\bra{\\psi_\\kappa^\\lambda}$:\n",
    "$$\n",
    "\\hat\\rho = \\sum_{\\kappa,\\lambda} p_\\kappa^{(\\lambda)} \\ket{\\psi_\\kappa^\\lambda}\\bra{\\psi_\\kappa^\\lambda} - \\hat I.\n",
    "$$"
   ]
  },
  {
   "cell_type": "code",
   "execution_count": 97,
   "id": "fd7d751c-19b9-47bb-915d-89de5d4d67f6",
   "metadata": {},
   "outputs": [
    {
     "data": {
      "text/html": [
       "<html>\\(\\displaystyle \\left(\\begin{array}{rrrrrrrr}\n",
       "\\frac{1}{2} & 0 & 0 & 0 & 0 & 0 & 0 & \\frac{1}{2} \\\\\n",
       "\\hline\n",
       " 0 & 0 & 0 & 0 & 0 & 0 & 0 & 0 \\\\\n",
       "\\hline\n",
       " 0 & 0 & 0 & 0 & 0 & 0 & 0 & 0 \\\\\n",
       "\\hline\n",
       " 0 & 0 & 0 & 0 & 0 & 0 & 0 & 0 \\\\\n",
       "\\hline\n",
       " 0 & 0 & 0 & 0 & 0 & 0 & 0 & 0 \\\\\n",
       "\\hline\n",
       " 0 & 0 & 0 & 0 & 0 & 0 & 0 & 0 \\\\\n",
       "\\hline\n",
       " 0 & 0 & 0 & 0 & 0 & 0 & 0 & 0 \\\\\n",
       "\\hline\n",
       " \\frac{1}{2} & 0 & 0 & 0 & 0 & 0 & 0 & \\frac{1}{2}\n",
       "\\end{array}\\right)\\)</html>"
      ],
      "text/latex": [
       "$\\displaystyle \\left(\\begin{array}{rrrrrrrr}\n",
       "\\frac{1}{2} & 0 & 0 & 0 & 0 & 0 & 0 & \\frac{1}{2} \\\\\n",
       "\\hline\n",
       " 0 & 0 & 0 & 0 & 0 & 0 & 0 & 0 \\\\\n",
       "\\hline\n",
       " 0 & 0 & 0 & 0 & 0 & 0 & 0 & 0 \\\\\n",
       "\\hline\n",
       " 0 & 0 & 0 & 0 & 0 & 0 & 0 & 0 \\\\\n",
       "\\hline\n",
       " 0 & 0 & 0 & 0 & 0 & 0 & 0 & 0 \\\\\n",
       "\\hline\n",
       " 0 & 0 & 0 & 0 & 0 & 0 & 0 & 0 \\\\\n",
       "\\hline\n",
       " 0 & 0 & 0 & 0 & 0 & 0 & 0 & 0 \\\\\n",
       "\\hline\n",
       " \\frac{1}{2} & 0 & 0 & 0 & 0 & 0 & 0 & \\frac{1}{2}\n",
       "\\end{array}\\right)$"
      ],
      "text/plain": [
       "[1/2   0   0   0   0   0   0 1/2]\n",
       "[-------------------------------]\n",
       "[  0   0   0   0   0   0   0   0]\n",
       "[-------------------------------]\n",
       "[  0   0   0   0   0   0   0   0]\n",
       "[-------------------------------]\n",
       "[  0   0   0   0   0   0   0   0]\n",
       "[-------------------------------]\n",
       "[  0   0   0   0   0   0   0   0]\n",
       "[-------------------------------]\n",
       "[  0   0   0   0   0   0   0   0]\n",
       "[-------------------------------]\n",
       "[  0   0   0   0   0   0   0   0]\n",
       "[-------------------------------]\n",
       "[1/2   0   0   0   0   0   0 1/2]"
      ]
     },
     "execution_count": 97,
     "metadata": {},
     "output_type": "execute_result"
    }
   ],
   "source": [
    "# GHZ state\n",
    "rho = Proj((Id[:,0] + Id[:,-1]) / sqrt(2))\n",
    "Matrix(rho)"
   ]
  },
  {
   "cell_type": "code",
   "execution_count": 98,
   "id": "ff72825a-1cf3-454b-94ee-3e0349448694",
   "metadata": {},
   "outputs": [],
   "source": [
    "def StateRec(rho, mubs):\n",
    "    rho_reconst = zero_matrix(SR, 2^N, 2^N)\n",
    "    for i in range(2^N+1):\n",
    "        for j in range(2^N):\n",
    "            v = mubs[i][:,j]\n",
    "            pkl = v.conjugate_transpose() * rho * v\n",
    "            # rho_reconst += pkl[0,0] * Proj(v)\n",
    "            rho_reconst += (pkl[0,0] - 1/(2^N+1)) * Proj(v)\n",
    "    # rho_reconst -= Id\n",
    "    return rho_reconst"
   ]
  },
  {
   "cell_type": "code",
   "execution_count": 99,
   "id": "c88c51b6-af36-4440-8e74-5d11cc470dd0",
   "metadata": {},
   "outputs": [
    {
     "data": {
      "text/html": [
       "<html>\\(\\displaystyle \\left(\\begin{array}{rrrrrrrr}\n",
       "\\frac{1}{2} & 0 & 0 & 0 & 0 & 0 & 0 & \\frac{1}{2} \\\\\n",
       "0 & 0 & 0 & 0 & 0 & 0 & 0 & 0 \\\\\n",
       "0 & 0 & 0 & 0 & 0 & 0 & 0 & 0 \\\\\n",
       "0 & 0 & 0 & 0 & 0 & 0 & 0 & 0 \\\\\n",
       "0 & 0 & 0 & 0 & 0 & 0 & 0 & 0 \\\\\n",
       "0 & 0 & 0 & 0 & 0 & 0 & 0 & 0 \\\\\n",
       "0 & 0 & 0 & 0 & 0 & 0 & 0 & 0 \\\\\n",
       "\\frac{1}{2} & 0 & 0 & 0 & 0 & 0 & 0 & \\frac{1}{2}\n",
       "\\end{array}\\right)\\)</html>"
      ],
      "text/latex": [
       "$\\displaystyle \\left(\\begin{array}{rrrrrrrr}\n",
       "\\frac{1}{2} & 0 & 0 & 0 & 0 & 0 & 0 & \\frac{1}{2} \\\\\n",
       "0 & 0 & 0 & 0 & 0 & 0 & 0 & 0 \\\\\n",
       "0 & 0 & 0 & 0 & 0 & 0 & 0 & 0 \\\\\n",
       "0 & 0 & 0 & 0 & 0 & 0 & 0 & 0 \\\\\n",
       "0 & 0 & 0 & 0 & 0 & 0 & 0 & 0 \\\\\n",
       "0 & 0 & 0 & 0 & 0 & 0 & 0 & 0 \\\\\n",
       "0 & 0 & 0 & 0 & 0 & 0 & 0 & 0 \\\\\n",
       "\\frac{1}{2} & 0 & 0 & 0 & 0 & 0 & 0 & \\frac{1}{2}\n",
       "\\end{array}\\right)$"
      ],
      "text/plain": [
       "[1/2   0   0   0   0   0   0 1/2]\n",
       "[  0   0   0   0   0   0   0   0]\n",
       "[  0   0   0   0   0   0   0   0]\n",
       "[  0   0   0   0   0   0   0   0]\n",
       "[  0   0   0   0   0   0   0   0]\n",
       "[  0   0   0   0   0   0   0   0]\n",
       "[  0   0   0   0   0   0   0   0]\n",
       "[1/2   0   0   0   0   0   0 1/2]"
      ]
     },
     "execution_count": 99,
     "metadata": {},
     "output_type": "execute_result"
    }
   ],
   "source": [
    "StateRec(rho, mubs306)"
   ]
  },
  {
   "cell_type": "code",
   "execution_count": 100,
   "id": "8fb98176-1453-4c89-81aa-c178b0976006",
   "metadata": {},
   "outputs": [],
   "source": [
    "def ProbMatrix(rho, mubs):\n",
    "    probs = zero_matrix(SR, 2^N+1, 2^N)\n",
    "    for i in range(2^N+1):\n",
    "        for j in range(2^N):\n",
    "            v = mubs[i][:,j]\n",
    "            pkl = v.conjugate_transpose() * rho * v\n",
    "            probs[i,j] = pkl[0,0]\n",
    "    return probs"
   ]
  },
  {
   "cell_type": "code",
   "execution_count": 101,
   "id": "d3a4856b-08fa-438f-9de8-6f1309869f8d",
   "metadata": {},
   "outputs": [
    {
     "data": {
      "text/html": [
       "<html>\\(\\displaystyle \\left(\\begin{array}{rrrrrrrr}\n",
       "\\frac{1}{4} & \\frac{1}{4} & \\frac{1}{4} & 0 & \\frac{1}{4} & 0 & 0 & 0 \\\\\n",
       "\\frac{1}{2} & 0 & 0 & 0 & 0 & 0 & 0 & \\frac{1}{2} \\\\\n",
       "\\frac{1}{8} & \\frac{1}{8} & \\frac{1}{8} & \\frac{1}{8} & \\frac{1}{8} & \\frac{1}{8} & \\frac{1}{8} & \\frac{1}{8} \\\\\n",
       "\\frac{1}{8} & \\frac{1}{8} & \\frac{1}{8} & \\frac{1}{8} & \\frac{1}{8} & \\frac{1}{8} & \\frac{1}{8} & \\frac{1}{8} \\\\\n",
       "0 & \\frac{1}{4} & \\frac{1}{4} & \\frac{1}{4} & 0 & 0 & \\frac{1}{4} & 0 \\\\\n",
       "\\frac{1}{8} & \\frac{1}{8} & \\frac{1}{8} & \\frac{1}{8} & \\frac{1}{8} & \\frac{1}{8} & \\frac{1}{8} & \\frac{1}{8} \\\\\n",
       "0 & \\frac{1}{4} & 0 & \\frac{1}{4} & \\frac{1}{4} & \\frac{1}{4} & 0 & 0 \\\\\n",
       "0 & 0 & \\frac{1}{4} & 0 & \\frac{1}{4} & \\frac{1}{4} & \\frac{1}{4} & 0 \\\\\n",
       "\\frac{1}{8} & \\frac{1}{8} & \\frac{1}{8} & \\frac{1}{8} & \\frac{1}{8} & \\frac{1}{8} & \\frac{1}{8} & \\frac{1}{8}\n",
       "\\end{array}\\right)\\)</html>"
      ],
      "text/latex": [
       "$\\displaystyle \\left(\\begin{array}{rrrrrrrr}\n",
       "\\frac{1}{4} & \\frac{1}{4} & \\frac{1}{4} & 0 & \\frac{1}{4} & 0 & 0 & 0 \\\\\n",
       "\\frac{1}{2} & 0 & 0 & 0 & 0 & 0 & 0 & \\frac{1}{2} \\\\\n",
       "\\frac{1}{8} & \\frac{1}{8} & \\frac{1}{8} & \\frac{1}{8} & \\frac{1}{8} & \\frac{1}{8} & \\frac{1}{8} & \\frac{1}{8} \\\\\n",
       "\\frac{1}{8} & \\frac{1}{8} & \\frac{1}{8} & \\frac{1}{8} & \\frac{1}{8} & \\frac{1}{8} & \\frac{1}{8} & \\frac{1}{8} \\\\\n",
       "0 & \\frac{1}{4} & \\frac{1}{4} & \\frac{1}{4} & 0 & 0 & \\frac{1}{4} & 0 \\\\\n",
       "\\frac{1}{8} & \\frac{1}{8} & \\frac{1}{8} & \\frac{1}{8} & \\frac{1}{8} & \\frac{1}{8} & \\frac{1}{8} & \\frac{1}{8} \\\\\n",
       "0 & \\frac{1}{4} & 0 & \\frac{1}{4} & \\frac{1}{4} & \\frac{1}{4} & 0 & 0 \\\\\n",
       "0 & 0 & \\frac{1}{4} & 0 & \\frac{1}{4} & \\frac{1}{4} & \\frac{1}{4} & 0 \\\\\n",
       "\\frac{1}{8} & \\frac{1}{8} & \\frac{1}{8} & \\frac{1}{8} & \\frac{1}{8} & \\frac{1}{8} & \\frac{1}{8} & \\frac{1}{8}\n",
       "\\end{array}\\right)$"
      ],
      "text/plain": [
       "[1/4 1/4 1/4   0 1/4   0   0   0]\n",
       "[1/2   0   0   0   0   0   0 1/2]\n",
       "[1/8 1/8 1/8 1/8 1/8 1/8 1/8 1/8]\n",
       "[1/8 1/8 1/8 1/8 1/8 1/8 1/8 1/8]\n",
       "[  0 1/4 1/4 1/4   0   0 1/4   0]\n",
       "[1/8 1/8 1/8 1/8 1/8 1/8 1/8 1/8]\n",
       "[  0 1/4   0 1/4 1/4 1/4   0   0]\n",
       "[  0   0 1/4   0 1/4 1/4 1/4   0]\n",
       "[1/8 1/8 1/8 1/8 1/8 1/8 1/8 1/8]"
      ]
     },
     "execution_count": 101,
     "metadata": {},
     "output_type": "execute_result"
    }
   ],
   "source": [
    "ProbMatrix(rho, mubs306)"
   ]
  },
  {
   "cell_type": "markdown",
   "id": "f0fd65c1-734c-4271-a496-cab0ab52a94a",
   "metadata": {},
   "source": [
    "Now let's reconstruct the two states in the figure of the paper."
   ]
  },
  {
   "cell_type": "code",
   "execution_count": 102,
   "id": "5432dcad-f6be-4709-8332-79ffaf40cded",
   "metadata": {},
   "outputs": [],
   "source": [
    "state1 = zero_matrix(SR, 2^N, 2^N)\n",
    "state2 = zero_matrix(SR, 2^N, 2^N)"
   ]
  },
  {
   "cell_type": "code",
   "execution_count": 103,
   "id": "dd6f0d53-623b-449e-9235-b06e72c13c08",
   "metadata": {},
   "outputs": [],
   "source": [
    "state1[:,0] = vector([1/4, 0, -I/4, 0, 0, 0, -I/4, -1/4])\n",
    "state1[:,2] = vector([1/4, 0, -I/4, 0, 0, 0, -I/4, -1/4]) * I\n",
    "state1[:,6] = vector([1/4, 0, -I/4, 0, 0, 0, -I/4, -1/4]) * I\n",
    "state1[:,7] = vector([1/4, 0, -I/4, 0, 0, 0, -I/4, -1/4]) * (-1)"
   ]
  },
  {
   "cell_type": "code",
   "execution_count": 104,
   "id": "a86b089d-e638-4c96-8217-92bec30ccae8",
   "metadata": {},
   "outputs": [
    {
     "data": {
      "text/html": [
       "<html>\\(\\displaystyle \\left(\\begin{array}{rrrrrrrr}\n",
       "\\frac{1}{4} & 0 & \\frac{1}{4} i & 0 & 0 & 0 & \\frac{1}{4} i & -\\frac{1}{4} \\\\\n",
       "0 & 0 & 0 & 0 & 0 & 0 & 0 & 0 \\\\\n",
       "-\\frac{1}{4} i & 0 & \\frac{1}{4} & 0 & 0 & 0 & \\frac{1}{4} & \\frac{1}{4} i \\\\\n",
       "0 & 0 & 0 & 0 & 0 & 0 & 0 & 0 \\\\\n",
       "0 & 0 & 0 & 0 & 0 & 0 & 0 & 0 \\\\\n",
       "0 & 0 & 0 & 0 & 0 & 0 & 0 & 0 \\\\\n",
       "-\\frac{1}{4} i & 0 & \\frac{1}{4} & 0 & 0 & 0 & \\frac{1}{4} & \\frac{1}{4} i \\\\\n",
       "-\\frac{1}{4} & 0 & -\\frac{1}{4} i & 0 & 0 & 0 & -\\frac{1}{4} i & \\frac{1}{4}\n",
       "\\end{array}\\right)\\)</html>"
      ],
      "text/latex": [
       "$\\displaystyle \\left(\\begin{array}{rrrrrrrr}\n",
       "\\frac{1}{4} & 0 & \\frac{1}{4} i & 0 & 0 & 0 & \\frac{1}{4} i & -\\frac{1}{4} \\\\\n",
       "0 & 0 & 0 & 0 & 0 & 0 & 0 & 0 \\\\\n",
       "-\\frac{1}{4} i & 0 & \\frac{1}{4} & 0 & 0 & 0 & \\frac{1}{4} & \\frac{1}{4} i \\\\\n",
       "0 & 0 & 0 & 0 & 0 & 0 & 0 & 0 \\\\\n",
       "0 & 0 & 0 & 0 & 0 & 0 & 0 & 0 \\\\\n",
       "0 & 0 & 0 & 0 & 0 & 0 & 0 & 0 \\\\\n",
       "-\\frac{1}{4} i & 0 & \\frac{1}{4} & 0 & 0 & 0 & \\frac{1}{4} & \\frac{1}{4} i \\\\\n",
       "-\\frac{1}{4} & 0 & -\\frac{1}{4} i & 0 & 0 & 0 & -\\frac{1}{4} i & \\frac{1}{4}\n",
       "\\end{array}\\right)$"
      ],
      "text/plain": [
       "[   1/4      0  1/4*I      0      0      0  1/4*I   -1/4]\n",
       "[     0      0      0      0      0      0      0      0]\n",
       "[-1/4*I      0    1/4      0      0      0    1/4  1/4*I]\n",
       "[     0      0      0      0      0      0      0      0]\n",
       "[     0      0      0      0      0      0      0      0]\n",
       "[     0      0      0      0      0      0      0      0]\n",
       "[-1/4*I      0    1/4      0      0      0    1/4  1/4*I]\n",
       "[  -1/4      0 -1/4*I      0      0      0 -1/4*I    1/4]"
      ]
     },
     "execution_count": 104,
     "metadata": {},
     "output_type": "execute_result"
    }
   ],
   "source": [
    "state1"
   ]
  },
  {
   "cell_type": "code",
   "execution_count": 105,
   "id": "d43e834c-d056-4656-b8ca-7e915ad693a1",
   "metadata": {},
   "outputs": [],
   "source": [
    "state2[:,0] = vector([1/2, -I/2, 0, 0, 0, 0, 0, 0])\n",
    "state2[:,1] = vector([1/2, -I/2, 0, 0, 0, 0, 0, 0]) * I"
   ]
  },
  {
   "cell_type": "code",
   "execution_count": 106,
   "id": "7b5b0aaf-85a5-478d-b59d-d684a904ad69",
   "metadata": {},
   "outputs": [
    {
     "data": {
      "text/html": [
       "<html>\\(\\displaystyle \\left(\\begin{array}{rrrrrrrr}\n",
       "\\frac{1}{2} & \\frac{1}{2} i & 0 & 0 & 0 & 0 & 0 & 0 \\\\\n",
       "-\\frac{1}{2} i & \\frac{1}{2} & 0 & 0 & 0 & 0 & 0 & 0 \\\\\n",
       "0 & 0 & 0 & 0 & 0 & 0 & 0 & 0 \\\\\n",
       "0 & 0 & 0 & 0 & 0 & 0 & 0 & 0 \\\\\n",
       "0 & 0 & 0 & 0 & 0 & 0 & 0 & 0 \\\\\n",
       "0 & 0 & 0 & 0 & 0 & 0 & 0 & 0 \\\\\n",
       "0 & 0 & 0 & 0 & 0 & 0 & 0 & 0 \\\\\n",
       "0 & 0 & 0 & 0 & 0 & 0 & 0 & 0\n",
       "\\end{array}\\right)\\)</html>"
      ],
      "text/latex": [
       "$\\displaystyle \\left(\\begin{array}{rrrrrrrr}\n",
       "\\frac{1}{2} & \\frac{1}{2} i & 0 & 0 & 0 & 0 & 0 & 0 \\\\\n",
       "-\\frac{1}{2} i & \\frac{1}{2} & 0 & 0 & 0 & 0 & 0 & 0 \\\\\n",
       "0 & 0 & 0 & 0 & 0 & 0 & 0 & 0 \\\\\n",
       "0 & 0 & 0 & 0 & 0 & 0 & 0 & 0 \\\\\n",
       "0 & 0 & 0 & 0 & 0 & 0 & 0 & 0 \\\\\n",
       "0 & 0 & 0 & 0 & 0 & 0 & 0 & 0 \\\\\n",
       "0 & 0 & 0 & 0 & 0 & 0 & 0 & 0 \\\\\n",
       "0 & 0 & 0 & 0 & 0 & 0 & 0 & 0\n",
       "\\end{array}\\right)$"
      ],
      "text/plain": [
       "[   1/2  1/2*I      0      0      0      0      0      0]\n",
       "[-1/2*I    1/2      0      0      0      0      0      0]\n",
       "[     0      0      0      0      0      0      0      0]\n",
       "[     0      0      0      0      0      0      0      0]\n",
       "[     0      0      0      0      0      0      0      0]\n",
       "[     0      0      0      0      0      0      0      0]\n",
       "[     0      0      0      0      0      0      0      0]\n",
       "[     0      0      0      0      0      0      0      0]"
      ]
     },
     "execution_count": 106,
     "metadata": {},
     "output_type": "execute_result"
    }
   ],
   "source": [
    "state2"
   ]
  },
  {
   "cell_type": "code",
   "execution_count": 107,
   "id": "c7a21895-17a1-4b1a-a415-e2a7a42d8f54",
   "metadata": {},
   "outputs": [
    {
     "data": {
      "text/html": [
       "<html>\\(\\displaystyle \\left(\\begin{array}{rrrrrrrr}\n",
       "\\frac{1}{4} & 0 & \\frac{1}{4} i & 0 & 0 & 0 & \\frac{1}{4} i & -\\frac{1}{4} \\\\\n",
       "0 & 0 & 0 & 0 & 0 & 0 & 0 & 0 \\\\\n",
       "-\\frac{1}{4} i & 0 & \\frac{1}{4} & 0 & 0 & 0 & \\frac{1}{4} & \\frac{1}{4} i \\\\\n",
       "0 & 0 & 0 & 0 & 0 & 0 & 0 & 0 \\\\\n",
       "0 & 0 & 0 & 0 & 0 & 0 & 0 & 0 \\\\\n",
       "0 & 0 & 0 & 0 & 0 & 0 & 0 & 0 \\\\\n",
       "-\\frac{1}{4} i & 0 & \\frac{1}{4} & 0 & 0 & 0 & \\frac{1}{4} & \\frac{1}{4} i \\\\\n",
       "-\\frac{1}{4} & 0 & -\\frac{1}{4} i & 0 & 0 & 0 & -\\frac{1}{4} i & \\frac{1}{4}\n",
       "\\end{array}\\right)\\)</html>"
      ],
      "text/latex": [
       "$\\displaystyle \\left(\\begin{array}{rrrrrrrr}\n",
       "\\frac{1}{4} & 0 & \\frac{1}{4} i & 0 & 0 & 0 & \\frac{1}{4} i & -\\frac{1}{4} \\\\\n",
       "0 & 0 & 0 & 0 & 0 & 0 & 0 & 0 \\\\\n",
       "-\\frac{1}{4} i & 0 & \\frac{1}{4} & 0 & 0 & 0 & \\frac{1}{4} & \\frac{1}{4} i \\\\\n",
       "0 & 0 & 0 & 0 & 0 & 0 & 0 & 0 \\\\\n",
       "0 & 0 & 0 & 0 & 0 & 0 & 0 & 0 \\\\\n",
       "0 & 0 & 0 & 0 & 0 & 0 & 0 & 0 \\\\\n",
       "-\\frac{1}{4} i & 0 & \\frac{1}{4} & 0 & 0 & 0 & \\frac{1}{4} & \\frac{1}{4} i \\\\\n",
       "-\\frac{1}{4} & 0 & -\\frac{1}{4} i & 0 & 0 & 0 & -\\frac{1}{4} i & \\frac{1}{4}\n",
       "\\end{array}\\right)$"
      ],
      "text/plain": [
       "[   1/4      0  1/4*I      0      0      0  1/4*I   -1/4]\n",
       "[     0      0      0      0      0      0      0      0]\n",
       "[-1/4*I      0    1/4      0      0      0    1/4  1/4*I]\n",
       "[     0      0      0      0      0      0      0      0]\n",
       "[     0      0      0      0      0      0      0      0]\n",
       "[     0      0      0      0      0      0      0      0]\n",
       "[-1/4*I      0    1/4      0      0      0    1/4  1/4*I]\n",
       "[  -1/4      0 -1/4*I      0      0      0 -1/4*I    1/4]"
      ]
     },
     "execution_count": 107,
     "metadata": {},
     "output_type": "execute_result"
    }
   ],
   "source": [
    "StateRec(state1, mubs306)"
   ]
  },
  {
   "cell_type": "code",
   "execution_count": 108,
   "id": "990f1627-e17f-401a-b792-a6efa5e3edc5",
   "metadata": {},
   "outputs": [
    {
     "data": {
      "text/html": [
       "<html>\\(\\displaystyle \\left(\\begin{array}{rrrrrrrr}\n",
       "\\frac{1}{2} & \\frac{1}{2} i & 0 & 0 & 0 & 0 & 0 & 0 \\\\\n",
       "-\\frac{1}{2} i & \\frac{1}{2} & 0 & 0 & 0 & 0 & 0 & 0 \\\\\n",
       "0 & 0 & 0 & 0 & 0 & 0 & 0 & 0 \\\\\n",
       "0 & 0 & 0 & 0 & 0 & 0 & 0 & 0 \\\\\n",
       "0 & 0 & 0 & 0 & 0 & 0 & 0 & 0 \\\\\n",
       "0 & 0 & 0 & 0 & 0 & 0 & 0 & 0 \\\\\n",
       "0 & 0 & 0 & 0 & 0 & 0 & 0 & 0 \\\\\n",
       "0 & 0 & 0 & 0 & 0 & 0 & 0 & 0\n",
       "\\end{array}\\right)\\)</html>"
      ],
      "text/latex": [
       "$\\displaystyle \\left(\\begin{array}{rrrrrrrr}\n",
       "\\frac{1}{2} & \\frac{1}{2} i & 0 & 0 & 0 & 0 & 0 & 0 \\\\\n",
       "-\\frac{1}{2} i & \\frac{1}{2} & 0 & 0 & 0 & 0 & 0 & 0 \\\\\n",
       "0 & 0 & 0 & 0 & 0 & 0 & 0 & 0 \\\\\n",
       "0 & 0 & 0 & 0 & 0 & 0 & 0 & 0 \\\\\n",
       "0 & 0 & 0 & 0 & 0 & 0 & 0 & 0 \\\\\n",
       "0 & 0 & 0 & 0 & 0 & 0 & 0 & 0 \\\\\n",
       "0 & 0 & 0 & 0 & 0 & 0 & 0 & 0 \\\\\n",
       "0 & 0 & 0 & 0 & 0 & 0 & 0 & 0\n",
       "\\end{array}\\right)$"
      ],
      "text/plain": [
       "[   1/2  1/2*I      0      0      0      0      0      0]\n",
       "[-1/2*I    1/2      0      0      0      0      0      0]\n",
       "[     0      0      0      0      0      0      0      0]\n",
       "[     0      0      0      0      0      0      0      0]\n",
       "[     0      0      0      0      0      0      0      0]\n",
       "[     0      0      0      0      0      0      0      0]\n",
       "[     0      0      0      0      0      0      0      0]\n",
       "[     0      0      0      0      0      0      0      0]"
      ]
     },
     "execution_count": 108,
     "metadata": {},
     "output_type": "execute_result"
    }
   ],
   "source": [
    "StateRec(state2, mubs306)"
   ]
  },
  {
   "cell_type": "code",
   "execution_count": 109,
   "id": "e9f0cc29-2605-4c6e-8f83-b31cd7331f4c",
   "metadata": {},
   "outputs": [
    {
     "data": {
      "text/html": [
       "<html>\\(\\displaystyle \\left(\\begin{array}{rrrrrrrr}\n",
       "\\frac{1}{8} & \\frac{1}{8} & \\frac{1}{8} & \\frac{1}{8} & \\frac{1}{8} & \\frac{1}{8} & \\frac{1}{8} & \\frac{1}{8} \\\\\n",
       "\\frac{1}{4} & 0 & \\frac{1}{4} & 0 & 0 & 0 & \\frac{1}{4} & \\frac{1}{4} \\\\\n",
       "\\frac{1}{8} & \\frac{1}{8} & \\frac{1}{8} & \\frac{1}{8} & \\frac{1}{8} & \\frac{1}{8} & \\frac{1}{8} & \\frac{1}{8} \\\\\n",
       "\\frac{1}{8} & \\frac{1}{8} & \\frac{1}{8} & \\frac{1}{8} & \\frac{1}{8} & \\frac{1}{8} & \\frac{1}{8} & \\frac{1}{8} \\\\\n",
       "\\frac{1}{4} & 0 & 0 & 0 & \\frac{1}{4} & \\frac{1}{4} & 0 & \\frac{1}{4} \\\\\n",
       "\\frac{1}{4} & 0 & 0 & \\frac{1}{4} & \\frac{1}{4} & 0 & \\frac{1}{4} & 0 \\\\\n",
       "\\frac{1}{8} & \\frac{1}{8} & \\frac{1}{8} & \\frac{1}{8} & \\frac{1}{8} & \\frac{1}{8} & \\frac{1}{8} & \\frac{1}{8} \\\\\n",
       "\\frac{1}{2} & \\frac{1}{2} & 0 & 0 & 0 & 0 & 0 & 0 \\\\\n",
       "\\frac{1}{4} & 0 & \\frac{1}{4} & \\frac{1}{4} & 0 & \\frac{1}{4} & 0 & 0\n",
       "\\end{array}\\right)\\)</html>"
      ],
      "text/latex": [
       "$\\displaystyle \\left(\\begin{array}{rrrrrrrr}\n",
       "\\frac{1}{8} & \\frac{1}{8} & \\frac{1}{8} & \\frac{1}{8} & \\frac{1}{8} & \\frac{1}{8} & \\frac{1}{8} & \\frac{1}{8} \\\\\n",
       "\\frac{1}{4} & 0 & \\frac{1}{4} & 0 & 0 & 0 & \\frac{1}{4} & \\frac{1}{4} \\\\\n",
       "\\frac{1}{8} & \\frac{1}{8} & \\frac{1}{8} & \\frac{1}{8} & \\frac{1}{8} & \\frac{1}{8} & \\frac{1}{8} & \\frac{1}{8} \\\\\n",
       "\\frac{1}{8} & \\frac{1}{8} & \\frac{1}{8} & \\frac{1}{8} & \\frac{1}{8} & \\frac{1}{8} & \\frac{1}{8} & \\frac{1}{8} \\\\\n",
       "\\frac{1}{4} & 0 & 0 & 0 & \\frac{1}{4} & \\frac{1}{4} & 0 & \\frac{1}{4} \\\\\n",
       "\\frac{1}{4} & 0 & 0 & \\frac{1}{4} & \\frac{1}{4} & 0 & \\frac{1}{4} & 0 \\\\\n",
       "\\frac{1}{8} & \\frac{1}{8} & \\frac{1}{8} & \\frac{1}{8} & \\frac{1}{8} & \\frac{1}{8} & \\frac{1}{8} & \\frac{1}{8} \\\\\n",
       "\\frac{1}{2} & \\frac{1}{2} & 0 & 0 & 0 & 0 & 0 & 0 \\\\\n",
       "\\frac{1}{4} & 0 & \\frac{1}{4} & \\frac{1}{4} & 0 & \\frac{1}{4} & 0 & 0\n",
       "\\end{array}\\right)$"
      ],
      "text/plain": [
       "[1/8 1/8 1/8 1/8 1/8 1/8 1/8 1/8]\n",
       "[1/4   0 1/4   0   0   0 1/4 1/4]\n",
       "[1/8 1/8 1/8 1/8 1/8 1/8 1/8 1/8]\n",
       "[1/8 1/8 1/8 1/8 1/8 1/8 1/8 1/8]\n",
       "[1/4   0   0   0 1/4 1/4   0 1/4]\n",
       "[1/4   0   0 1/4 1/4   0 1/4   0]\n",
       "[1/8 1/8 1/8 1/8 1/8 1/8 1/8 1/8]\n",
       "[1/2 1/2   0   0   0   0   0   0]\n",
       "[1/4   0 1/4 1/4   0 1/4   0   0]"
      ]
     },
     "execution_count": 109,
     "metadata": {},
     "output_type": "execute_result"
    }
   ],
   "source": [
    "ProbMatrix(state1, mubs306)"
   ]
  },
  {
   "cell_type": "code",
   "execution_count": 110,
   "id": "4135d583-3113-4159-9725-2d1560b18a2a",
   "metadata": {},
   "outputs": [
    {
     "data": {
      "text/html": [
       "<html>\\(\\displaystyle \\left(\\begin{array}{rrrrrrrr}\n",
       "\\frac{1}{8} & \\frac{1}{8} & \\frac{1}{8} & \\frac{1}{8} & \\frac{1}{8} & \\frac{1}{8} & \\frac{1}{8} & \\frac{1}{8} \\\\\n",
       "\\frac{1}{2} & \\frac{1}{2} & 0 & 0 & 0 & 0 & 0 & 0 \\\\\n",
       "\\frac{1}{8} & \\frac{1}{8} & \\frac{1}{8} & \\frac{1}{8} & \\frac{1}{8} & \\frac{1}{8} & \\frac{1}{8} & \\frac{1}{8} \\\\\n",
       "\\frac{1}{4} & 0 & \\frac{1}{4} & \\frac{1}{4} & 0 & \\frac{1}{4} & 0 & 0 \\\\\n",
       "\\frac{1}{4} & 0 & 0 & \\frac{1}{4} & \\frac{1}{4} & 0 & \\frac{1}{4} & 0 \\\\\n",
       "0 & \\frac{1}{4} & \\frac{1}{4} & \\frac{1}{4} & 0 & 0 & \\frac{1}{4} & 0 \\\\\n",
       "\\frac{1}{8} & \\frac{1}{8} & \\frac{1}{8} & \\frac{1}{8} & \\frac{1}{8} & \\frac{1}{8} & \\frac{1}{8} & \\frac{1}{8} \\\\\n",
       "0 & \\frac{1}{4} & 0 & \\frac{1}{4} & \\frac{1}{4} & \\frac{1}{4} & 0 & 0 \\\\\n",
       "\\frac{1}{8} & \\frac{1}{8} & \\frac{1}{8} & \\frac{1}{8} & \\frac{1}{8} & \\frac{1}{8} & \\frac{1}{8} & \\frac{1}{8}\n",
       "\\end{array}\\right)\\)</html>"
      ],
      "text/latex": [
       "$\\displaystyle \\left(\\begin{array}{rrrrrrrr}\n",
       "\\frac{1}{8} & \\frac{1}{8} & \\frac{1}{8} & \\frac{1}{8} & \\frac{1}{8} & \\frac{1}{8} & \\frac{1}{8} & \\frac{1}{8} \\\\\n",
       "\\frac{1}{2} & \\frac{1}{2} & 0 & 0 & 0 & 0 & 0 & 0 \\\\\n",
       "\\frac{1}{8} & \\frac{1}{8} & \\frac{1}{8} & \\frac{1}{8} & \\frac{1}{8} & \\frac{1}{8} & \\frac{1}{8} & \\frac{1}{8} \\\\\n",
       "\\frac{1}{4} & 0 & \\frac{1}{4} & \\frac{1}{4} & 0 & \\frac{1}{4} & 0 & 0 \\\\\n",
       "\\frac{1}{4} & 0 & 0 & \\frac{1}{4} & \\frac{1}{4} & 0 & \\frac{1}{4} & 0 \\\\\n",
       "0 & \\frac{1}{4} & \\frac{1}{4} & \\frac{1}{4} & 0 & 0 & \\frac{1}{4} & 0 \\\\\n",
       "\\frac{1}{8} & \\frac{1}{8} & \\frac{1}{8} & \\frac{1}{8} & \\frac{1}{8} & \\frac{1}{8} & \\frac{1}{8} & \\frac{1}{8} \\\\\n",
       "0 & \\frac{1}{4} & 0 & \\frac{1}{4} & \\frac{1}{4} & \\frac{1}{4} & 0 & 0 \\\\\n",
       "\\frac{1}{8} & \\frac{1}{8} & \\frac{1}{8} & \\frac{1}{8} & \\frac{1}{8} & \\frac{1}{8} & \\frac{1}{8} & \\frac{1}{8}\n",
       "\\end{array}\\right)$"
      ],
      "text/plain": [
       "[1/8 1/8 1/8 1/8 1/8 1/8 1/8 1/8]\n",
       "[1/2 1/2   0   0   0   0   0   0]\n",
       "[1/8 1/8 1/8 1/8 1/8 1/8 1/8 1/8]\n",
       "[1/4   0 1/4 1/4   0 1/4   0   0]\n",
       "[1/4   0   0 1/4 1/4   0 1/4   0]\n",
       "[  0 1/4 1/4 1/4   0   0 1/4   0]\n",
       "[1/8 1/8 1/8 1/8 1/8 1/8 1/8 1/8]\n",
       "[  0 1/4   0 1/4 1/4 1/4   0   0]\n",
       "[1/8 1/8 1/8 1/8 1/8 1/8 1/8 1/8]"
      ]
     },
     "execution_count": 110,
     "metadata": {},
     "output_type": "execute_result"
    }
   ],
   "source": [
    "ProbMatrix(state2, mubs306)"
   ]
  },
  {
   "cell_type": "code",
   "execution_count": 111,
   "id": "14ee5085-a647-41d9-8ffc-cac72ac9bbbd",
   "metadata": {},
   "outputs": [
    {
     "data": {
      "text/html": [
       "<html>\\(\\displaystyle \\left(\\begin{array}{rrrrrrrr}\n",
       "\\frac{1}{72} & \\frac{1}{72} & \\frac{1}{72} & \\frac{1}{72} & \\frac{1}{72} & \\frac{1}{72} & \\frac{1}{72} & \\frac{1}{72} \\\\\n",
       "\\frac{5}{36} & -\\frac{1}{9} & \\frac{5}{36} & -\\frac{1}{9} & -\\frac{1}{9} & -\\frac{1}{9} & \\frac{5}{36} & \\frac{5}{36} \\\\\n",
       "\\frac{1}{72} & \\frac{1}{72} & \\frac{1}{72} & \\frac{1}{72} & \\frac{1}{72} & \\frac{1}{72} & \\frac{1}{72} & \\frac{1}{72} \\\\\n",
       "\\frac{1}{72} & \\frac{1}{72} & \\frac{1}{72} & \\frac{1}{72} & \\frac{1}{72} & \\frac{1}{72} & \\frac{1}{72} & \\frac{1}{72} \\\\\n",
       "\\frac{5}{36} & -\\frac{1}{9} & -\\frac{1}{9} & -\\frac{1}{9} & \\frac{5}{36} & \\frac{5}{36} & -\\frac{1}{9} & \\frac{5}{36} \\\\\n",
       "\\frac{5}{36} & -\\frac{1}{9} & -\\frac{1}{9} & \\frac{5}{36} & \\frac{5}{36} & -\\frac{1}{9} & \\frac{5}{36} & -\\frac{1}{9} \\\\\n",
       "\\frac{1}{72} & \\frac{1}{72} & \\frac{1}{72} & \\frac{1}{72} & \\frac{1}{72} & \\frac{1}{72} & \\frac{1}{72} & \\frac{1}{72} \\\\\n",
       "\\frac{7}{18} & \\frac{7}{18} & -\\frac{1}{9} & -\\frac{1}{9} & -\\frac{1}{9} & -\\frac{1}{9} & -\\frac{1}{9} & -\\frac{1}{9} \\\\\n",
       "\\frac{5}{36} & -\\frac{1}{9} & \\frac{5}{36} & \\frac{5}{36} & -\\frac{1}{9} & \\frac{5}{36} & -\\frac{1}{9} & -\\frac{1}{9}\n",
       "\\end{array}\\right)\\)</html>"
      ],
      "text/latex": [
       "$\\displaystyle \\left(\\begin{array}{rrrrrrrr}\n",
       "\\frac{1}{72} & \\frac{1}{72} & \\frac{1}{72} & \\frac{1}{72} & \\frac{1}{72} & \\frac{1}{72} & \\frac{1}{72} & \\frac{1}{72} \\\\\n",
       "\\frac{5}{36} & -\\frac{1}{9} & \\frac{5}{36} & -\\frac{1}{9} & -\\frac{1}{9} & -\\frac{1}{9} & \\frac{5}{36} & \\frac{5}{36} \\\\\n",
       "\\frac{1}{72} & \\frac{1}{72} & \\frac{1}{72} & \\frac{1}{72} & \\frac{1}{72} & \\frac{1}{72} & \\frac{1}{72} & \\frac{1}{72} \\\\\n",
       "\\frac{1}{72} & \\frac{1}{72} & \\frac{1}{72} & \\frac{1}{72} & \\frac{1}{72} & \\frac{1}{72} & \\frac{1}{72} & \\frac{1}{72} \\\\\n",
       "\\frac{5}{36} & -\\frac{1}{9} & -\\frac{1}{9} & -\\frac{1}{9} & \\frac{5}{36} & \\frac{5}{36} & -\\frac{1}{9} & \\frac{5}{36} \\\\\n",
       "\\frac{5}{36} & -\\frac{1}{9} & -\\frac{1}{9} & \\frac{5}{36} & \\frac{5}{36} & -\\frac{1}{9} & \\frac{5}{36} & -\\frac{1}{9} \\\\\n",
       "\\frac{1}{72} & \\frac{1}{72} & \\frac{1}{72} & \\frac{1}{72} & \\frac{1}{72} & \\frac{1}{72} & \\frac{1}{72} & \\frac{1}{72} \\\\\n",
       "\\frac{7}{18} & \\frac{7}{18} & -\\frac{1}{9} & -\\frac{1}{9} & -\\frac{1}{9} & -\\frac{1}{9} & -\\frac{1}{9} & -\\frac{1}{9} \\\\\n",
       "\\frac{5}{36} & -\\frac{1}{9} & \\frac{5}{36} & \\frac{5}{36} & -\\frac{1}{9} & \\frac{5}{36} & -\\frac{1}{9} & -\\frac{1}{9}\n",
       "\\end{array}\\right)$"
      ],
      "text/plain": [
       "[1/72 1/72 1/72 1/72 1/72 1/72 1/72 1/72]\n",
       "[5/36 -1/9 5/36 -1/9 -1/9 -1/9 5/36 5/36]\n",
       "[1/72 1/72 1/72 1/72 1/72 1/72 1/72 1/72]\n",
       "[1/72 1/72 1/72 1/72 1/72 1/72 1/72 1/72]\n",
       "[5/36 -1/9 -1/9 -1/9 5/36 5/36 -1/9 5/36]\n",
       "[5/36 -1/9 -1/9 5/36 5/36 -1/9 5/36 -1/9]\n",
       "[1/72 1/72 1/72 1/72 1/72 1/72 1/72 1/72]\n",
       "[7/18 7/18 -1/9 -1/9 -1/9 -1/9 -1/9 -1/9]\n",
       "[5/36 -1/9 5/36 5/36 -1/9 5/36 -1/9 -1/9]"
      ]
     },
     "execution_count": 111,
     "metadata": {},
     "output_type": "execute_result"
    }
   ],
   "source": [
    "ProbMatrix(state1, mubs306) - 1/(2^N+1) * ones_matrix(SR, 2^N+1, 2^N)"
   ]
  },
  {
   "cell_type": "code",
   "execution_count": 112,
   "id": "06e1ccfd-b5fb-48aa-8601-1e1d1139b6e0",
   "metadata": {},
   "outputs": [
    {
     "data": {
      "text/html": [
       "<html>\\(\\displaystyle \\left(\\begin{array}{rrrrrrrr}\n",
       "\\frac{1}{72} & \\frac{1}{72} & \\frac{1}{72} & \\frac{1}{72} & \\frac{1}{72} & \\frac{1}{72} & \\frac{1}{72} & \\frac{1}{72} \\\\\n",
       "\\frac{7}{18} & \\frac{7}{18} & -\\frac{1}{9} & -\\frac{1}{9} & -\\frac{1}{9} & -\\frac{1}{9} & -\\frac{1}{9} & -\\frac{1}{9} \\\\\n",
       "\\frac{1}{72} & \\frac{1}{72} & \\frac{1}{72} & \\frac{1}{72} & \\frac{1}{72} & \\frac{1}{72} & \\frac{1}{72} & \\frac{1}{72} \\\\\n",
       "\\frac{5}{36} & -\\frac{1}{9} & \\frac{5}{36} & \\frac{5}{36} & -\\frac{1}{9} & \\frac{5}{36} & -\\frac{1}{9} & -\\frac{1}{9} \\\\\n",
       "\\frac{5}{36} & -\\frac{1}{9} & -\\frac{1}{9} & \\frac{5}{36} & \\frac{5}{36} & -\\frac{1}{9} & \\frac{5}{36} & -\\frac{1}{9} \\\\\n",
       "-\\frac{1}{9} & \\frac{5}{36} & \\frac{5}{36} & \\frac{5}{36} & -\\frac{1}{9} & -\\frac{1}{9} & \\frac{5}{36} & -\\frac{1}{9} \\\\\n",
       "\\frac{1}{72} & \\frac{1}{72} & \\frac{1}{72} & \\frac{1}{72} & \\frac{1}{72} & \\frac{1}{72} & \\frac{1}{72} & \\frac{1}{72} \\\\\n",
       "-\\frac{1}{9} & \\frac{5}{36} & -\\frac{1}{9} & \\frac{5}{36} & \\frac{5}{36} & \\frac{5}{36} & -\\frac{1}{9} & -\\frac{1}{9} \\\\\n",
       "\\frac{1}{72} & \\frac{1}{72} & \\frac{1}{72} & \\frac{1}{72} & \\frac{1}{72} & \\frac{1}{72} & \\frac{1}{72} & \\frac{1}{72}\n",
       "\\end{array}\\right)\\)</html>"
      ],
      "text/latex": [
       "$\\displaystyle \\left(\\begin{array}{rrrrrrrr}\n",
       "\\frac{1}{72} & \\frac{1}{72} & \\frac{1}{72} & \\frac{1}{72} & \\frac{1}{72} & \\frac{1}{72} & \\frac{1}{72} & \\frac{1}{72} \\\\\n",
       "\\frac{7}{18} & \\frac{7}{18} & -\\frac{1}{9} & -\\frac{1}{9} & -\\frac{1}{9} & -\\frac{1}{9} & -\\frac{1}{9} & -\\frac{1}{9} \\\\\n",
       "\\frac{1}{72} & \\frac{1}{72} & \\frac{1}{72} & \\frac{1}{72} & \\frac{1}{72} & \\frac{1}{72} & \\frac{1}{72} & \\frac{1}{72} \\\\\n",
       "\\frac{5}{36} & -\\frac{1}{9} & \\frac{5}{36} & \\frac{5}{36} & -\\frac{1}{9} & \\frac{5}{36} & -\\frac{1}{9} & -\\frac{1}{9} \\\\\n",
       "\\frac{5}{36} & -\\frac{1}{9} & -\\frac{1}{9} & \\frac{5}{36} & \\frac{5}{36} & -\\frac{1}{9} & \\frac{5}{36} & -\\frac{1}{9} \\\\\n",
       "-\\frac{1}{9} & \\frac{5}{36} & \\frac{5}{36} & \\frac{5}{36} & -\\frac{1}{9} & -\\frac{1}{9} & \\frac{5}{36} & -\\frac{1}{9} \\\\\n",
       "\\frac{1}{72} & \\frac{1}{72} & \\frac{1}{72} & \\frac{1}{72} & \\frac{1}{72} & \\frac{1}{72} & \\frac{1}{72} & \\frac{1}{72} \\\\\n",
       "-\\frac{1}{9} & \\frac{5}{36} & -\\frac{1}{9} & \\frac{5}{36} & \\frac{5}{36} & \\frac{5}{36} & -\\frac{1}{9} & -\\frac{1}{9} \\\\\n",
       "\\frac{1}{72} & \\frac{1}{72} & \\frac{1}{72} & \\frac{1}{72} & \\frac{1}{72} & \\frac{1}{72} & \\frac{1}{72} & \\frac{1}{72}\n",
       "\\end{array}\\right)$"
      ],
      "text/plain": [
       "[1/72 1/72 1/72 1/72 1/72 1/72 1/72 1/72]\n",
       "[7/18 7/18 -1/9 -1/9 -1/9 -1/9 -1/9 -1/9]\n",
       "[1/72 1/72 1/72 1/72 1/72 1/72 1/72 1/72]\n",
       "[5/36 -1/9 5/36 5/36 -1/9 5/36 -1/9 -1/9]\n",
       "[5/36 -1/9 -1/9 5/36 5/36 -1/9 5/36 -1/9]\n",
       "[-1/9 5/36 5/36 5/36 -1/9 -1/9 5/36 -1/9]\n",
       "[1/72 1/72 1/72 1/72 1/72 1/72 1/72 1/72]\n",
       "[-1/9 5/36 -1/9 5/36 5/36 5/36 -1/9 -1/9]\n",
       "[1/72 1/72 1/72 1/72 1/72 1/72 1/72 1/72]"
      ]
     },
     "execution_count": 112,
     "metadata": {},
     "output_type": "execute_result"
    }
   ],
   "source": [
    "ProbMatrix(state2, mubs306) - 1/(2^N+1) * ones_matrix(SR, 2^N+1, 2^N)"
   ]
  },
  {
   "cell_type": "code",
   "execution_count": 113,
   "id": "028aa458-dd19-450b-9c94-82d0014714cd",
   "metadata": {},
   "outputs": [
    {
     "data": {
      "text/html": [
       "<html>\\(\\displaystyle 1\\)</html>"
      ],
      "text/latex": [
       "$\\displaystyle 1$"
      ],
      "text/plain": [
       "1"
      ]
     },
     "execution_count": 113,
     "metadata": {},
     "output_type": "execute_result"
    }
   ],
   "source": [
    "sum(sum(ProbMatrix(state2, mubs306) - 1/(2^N+1) * ones_matrix(SR, 2^N+1, 2^N)))"
   ]
  },
  {
   "cell_type": "markdown",
   "id": "594764b6-4906-43fc-9737-4c66a8a98b37",
   "metadata": {},
   "source": [
    "---\n",
    "We now need to verify Sainz's claim in the paper. The paper states the following:\n",
    "\n",
    "For the primitive polynomial $\\sigma^3 + \\sigma + 1 = 0$ and the self-dual basis $\\{\\sigma^3,\\sigma^5,\\sigma^6\\}$, the regular curves $\\beta = f(\\alpha) = \\phi_0 \\alpha + \\phi^2 \\alpha^2 + \\phi \\alpha^4$ are abelian under the _positive sign election_, if the following relations hold:\n",
    "1. if $\\phi = \\sigma,\\sigma^2,\\sigma^4$ then $\\phi_0 = \\phi,\\phi^2,\\phi^3,\\phi^6$.\n",
    "2. if $\\phi = \\sigma^3,\\sigma^5,\\sigma^6$ then $\\phi_0 = 0,1$,\n",
    "3. if $\\phi = 1$, there are no $\\phi_0$ producing abelian curves.\n",
    "\n",
    "So what we need to verify is that for the fixed DPS of the rays these curves are indeed abelian."
   ]
  },
  {
   "cell_type": "code",
   "execution_count": 114,
   "id": "e3e4b16a-bfb0-484f-a073-9751e57bfc9c",
   "metadata": {},
   "outputs": [],
   "source": [
    "def testCurve(points):\n",
    "    for p1 in points:\n",
    "        for p2 in points:\n",
    "            p_op = D(*p1) * D(*p2)\n",
    "            s_op = D(p1[0] + p2[0], p1[1] + p2[1])\n",
    "            if p_op != s_op:\n",
    "                raise Exception(p1, p2)\n",
    "    return True"
   ]
  },
  {
   "cell_type": "code",
   "execution_count": 115,
   "id": "ae374eb2-231b-4ea8-aaaf-1bc6782c51d8",
   "metadata": {},
   "outputs": [],
   "source": [
    "def phi_curve(fi):\n",
    "    def phi0_curve(fi0):\n",
    "        return lambda a: fi0 * a + fi^2 * a^2 + fi * a^4\n",
    "    return phi0_curve"
   ]
  },
  {
   "cell_type": "code",
   "execution_count": 116,
   "id": "63916f4e-5b56-4ade-8539-5a518f88b162",
   "metadata": {},
   "outputs": [],
   "source": [
    "# Relation 1\n",
    "for fi in [x, x^2, x^4]:\n",
    "    for phi0 in [fi, fi^2, fi^3, fi^6]:\n",
    "        points = [(a, phi_curve(fi)(phi0)(a)) for a in F]\n",
    "        testCurve(points)"
   ]
  },
  {
   "cell_type": "code",
   "execution_count": 117,
   "id": "eb44e034-8c1d-458d-8fd1-ce53083ebc3b",
   "metadata": {},
   "outputs": [],
   "source": [
    "# Relation 2\n",
    "for fi in [x^3, x^5, x^6]:\n",
    "    for phi0 in [F(0), F(1)]:\n",
    "        points = [(a, phi_curve(fi)(phi0)(a)) for a in F]\n",
    "        testCurve(points)"
   ]
  },
  {
   "cell_type": "code",
   "execution_count": 118,
   "id": "51f02b91-146f-4d80-8816-30852e5de084",
   "metadata": {},
   "outputs": [],
   "source": [
    "# Relation 3\n",
    "fi = F(1)\n",
    "for phi0 in F:\n",
    "    points = [(a, phi_curve(fi)(phi0)(a)) for a in F]\n",
    "    try:\n",
    "        testCurve(points)\n",
    "        raise Exception('Found an abelian curve!', phi0)\n",
    "    except:\n",
    "        continue"
   ]
  },
  {
   "cell_type": "markdown",
   "id": "f6914585-5337-4f01-97f4-d0e697fc6824",
   "metadata": {},
   "source": [
    "So the statements are verified for the chosen DPS in the paper. Now for the a changed discrete phase for the rays, i.e., with different sign choices, Sainz states that the following curves become abelian:\n",
    "1. if $\\phi = \\sigma,\\sigma^2,\\sigma^4$, then $\\phi_0 = \\phi + \\phi^2$;\n",
    "2. if $\\phi = \\sigma^3,\\sigma^5,\\sigma^6$ then $\\phi_0 = \\phi + \\phi^2$;\n",
    "3. if $\\phi = 1$, then $\\phi_0 = 0$.\n",
    "\n",
    "The difficulty in verifying this is _how_ she chose the sign changes. She specifically states that the sign changes which make the above possible is $\\Phi_{\\alpha,\\mu\\alpha}(\\theta_k) = -\\sqrt{\\chi\\left(\\mu \\theta_k^2\\right)}$, although I suppose she meant $\\Phi_{\\theta_k,\\mu\\theta_k}$, for all $\\mu \\neq 0$. But she probably meant that she changed all the phases of DPS _directly_.\n",
    "\n",
    "Let me test the first change."
   ]
  },
  {
   "cell_type": "code",
   "execution_count": 137,
   "id": "f2c46edc-f9c5-41a2-a657-fec1a536c57b",
   "metadata": {},
   "outputs": [
    {
     "data": {
      "text/html": [
       "<html>\\(\\displaystyle \\left(\\begin{array}{rrrrrrrr}\n",
       "1 & 1 & 1 & 1 & 1 & 1 & 1 & 1 \\\\\n",
       "1 & -1 & -i & 1 & -i & i & i & -1 \\\\\n",
       "1 & -i & -1 & i & -i & i & 1 & -1 \\\\\n",
       "1 & -1 & -i & -i & -i & -1 & -1 & -i \\\\\n",
       "1 & -i & -i & i & -1 & 1 & i & -1 \\\\\n",
       "1 & -i & -i & -1 & -1 & -i & -1 & -i \\\\\n",
       "1 & -i & -1 & -1 & -i & -1 & -i & -i \\\\\n",
       "1 & 1 & 1 & -i & 1 & -i & -i & i\n",
       "\\end{array}\\right)\\)</html>"
      ],
      "text/latex": [
       "$\\displaystyle \\left(\\begin{array}{rrrrrrrr}\n",
       "1 & 1 & 1 & 1 & 1 & 1 & 1 & 1 \\\\\n",
       "1 & -1 & -i & 1 & -i & i & i & -1 \\\\\n",
       "1 & -i & -1 & i & -i & i & 1 & -1 \\\\\n",
       "1 & -1 & -i & -i & -i & -1 & -1 & -i \\\\\n",
       "1 & -i & -i & i & -1 & 1 & i & -1 \\\\\n",
       "1 & -i & -i & -1 & -1 & -i & -1 & -i \\\\\n",
       "1 & -i & -1 & -1 & -i & -1 & -i & -i \\\\\n",
       "1 & 1 & 1 & -i & 1 & -i & -i & i\n",
       "\\end{array}\\right)$"
      ],
      "text/plain": [
       "[ 1  1  1  1  1  1  1  1]\n",
       "[ 1 -1 -I  1 -I  I  I -1]\n",
       "[ 1 -I -1  I -I  I  1 -1]\n",
       "[ 1 -1 -I -I -I -1 -1 -I]\n",
       "[ 1 -I -I  I -1  1  I -1]\n",
       "[ 1 -I -I -1 -1 -I -1 -I]\n",
       "[ 1 -I -1 -1 -I -1 -I -I]\n",
       "[ 1  1  1 -I  1 -I -I  I]"
      ]
     },
     "execution_count": 137,
     "metadata": {},
     "output_type": "execute_result"
    }
   ],
   "source": [
    "ps = PS(ray, [[1,1,1]] + [[-1,-1,-1]] * 7)\n",
    "ps # DON'T FORGET TO RECALCULATE PHI"
   ]
  },
  {
   "cell_type": "code",
   "execution_count": 141,
   "id": "7501561e-1e7a-465d-ab26-46f2dc4a8b20",
   "metadata": {},
   "outputs": [
    {
     "name": "stdout",
     "output_type": "stream",
     "text": [
      "True\n",
      "True\n",
      "True\n"
     ]
    }
   ],
   "source": [
    "# Relation 1\n",
    "for fi in [x, x^2, x^4]:\n",
    "    phi0 = fi + fi^2\n",
    "    points = [(a, phi_curve(fi)(phi0)(a)) for a in F]\n",
    "    print(testCurve(points))"
   ]
  },
  {
   "cell_type": "code",
   "execution_count": 142,
   "id": "c52a5533-1d07-4257-9f3a-d3832bea86ea",
   "metadata": {},
   "outputs": [
    {
     "name": "stdout",
     "output_type": "stream",
     "text": [
      "True\n",
      "True\n",
      "True\n"
     ]
    }
   ],
   "source": [
    "# Relation 2\n",
    "for fi in [x^3, x^5, x^6]:\n",
    "    phi0 = fi + fi^2\n",
    "    points = [(a, phi_curve(fi)(phi0)(a)) for a in F]\n",
    "    print(testCurve(points))"
   ]
  },
  {
   "cell_type": "code",
   "execution_count": 143,
   "id": "e35a040e-a676-40d4-bb4c-b0ab62fce00e",
   "metadata": {},
   "outputs": [
    {
     "data": {
      "text/html": [
       "<html>\\(\\displaystyle \\mathrm{True}\\)</html>"
      ],
      "text/latex": [
       "$\\displaystyle \\mathrm{True}$"
      ],
      "text/plain": [
       "True"
      ]
     },
     "execution_count": 143,
     "metadata": {},
     "output_type": "execute_result"
    }
   ],
   "source": [
    "fi = F(1)\n",
    "phi0 = F(0)\n",
    "points = [(a, phi_curve(fi)(phi0)(a)) for a in F]\n",
    "testCurve(points)"
   ]
  },
  {
   "cell_type": "code",
   "execution_count": 144,
   "id": "5cbe11c5-dd39-4081-87b4-6ac0b81b3d68",
   "metadata": {},
   "outputs": [
    {
     "data": {
      "text/html": [
       "<html>\\(\\displaystyle \\left[0, 0, x, 0, x, x, x, 0\\right]\\)</html>"
      ],
      "text/latex": [
       "$\\displaystyle \\left[0, 0, x, 0, x, x, x, 0\\right]$"
      ],
      "text/plain": [
       "[0, 0, x, 0, x, x, x, 0]"
      ]
     },
     "execution_count": 144,
     "metadata": {},
     "output_type": "execute_result"
    }
   ],
   "source": [
    "curve50 = lambda a: x^2 * a + x^3 * a^2 + x^5 * a^4\n",
    "[curve50(a) for a in F]"
   ]
  },
  {
   "cell_type": "code",
   "execution_count": 145,
   "id": "900731c1-bb73-43d8-a792-46c45d522744",
   "metadata": {},
   "outputs": [
    {
     "data": {
      "text/html": [
       "<html>\\(\\displaystyle \\mathrm{True}\\)</html>"
      ],
      "text/latex": [
       "$\\displaystyle \\mathrm{True}$"
      ],
      "text/plain": [
       "True"
      ]
     },
     "execution_count": 145,
     "metadata": {},
     "output_type": "execute_result"
    }
   ],
   "source": [
    "testCurve([(a, curve50(a)) for a in F])"
   ]
  },
  {
   "cell_type": "code",
   "execution_count": null,
   "id": "5d7c17e5-0e07-4ce8-bf72-bbf6bb5c6be3",
   "metadata": {},
   "outputs": [],
   "source": []
  }
 ],
 "metadata": {
  "kernelspec": {
   "display_name": "SageMath 10.0",
   "language": "sage",
   "name": "sagemath"
  },
  "language_info": {
   "codemirror_mode": {
    "name": "ipython",
    "version": 3
   },
   "file_extension": ".py",
   "mimetype": "text/x-python",
   "name": "python",
   "nbconvert_exporter": "python",
   "pygments_lexer": "ipython3",
   "version": "3.11.7"
  }
 },
 "nbformat": 4,
 "nbformat_minor": 5
}
