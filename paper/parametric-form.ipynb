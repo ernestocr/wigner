{
 "cells": [
  {
   "cell_type": "code",
   "execution_count": 1,
   "id": "7ee8d294-9f5e-44c4-b94e-73eb7a154304",
   "metadata": {},
   "outputs": [],
   "source": [
    "N = 3\n",
    "F = GF(2^3, 'x')\n",
    "x = F.gen()\n",
    "\n",
    "basis = [x^3, x^5, x^6] # self-dual basis\n",
    "\n",
    "# express an element as a linear combination of the basis\n",
    "components = lambda k: [(k * el).trace() for el in basis]\n",
    "\n",
    "# additive group character\n",
    "chi = lambda k: exp(pi * I * int(k.trace()))\n",
    "\n",
    "def toInt(k):\n",
    "    return list(F).index(k)"
   ]
  },
  {
   "cell_type": "code",
   "execution_count": null,
   "id": "a7a34d2c-af6f-427f-ae2f-17cc3b092d7f",
   "metadata": {},
   "outputs": [],
   "source": []
  }
 ],
 "metadata": {
  "kernelspec": {
   "display_name": "SageMath 9.8",
   "language": "sage",
   "name": "sagemath"
  },
  "language_info": {
   "codemirror_mode": {
    "name": "ipython",
    "version": 3
   },
   "file_extension": ".py",
   "mimetype": "text/x-python",
   "name": "python",
   "nbconvert_exporter": "python",
   "pygments_lexer": "ipython3",
   "version": "3.9.16"
  }
 },
 "nbformat": 4,
 "nbformat_minor": 5
}
