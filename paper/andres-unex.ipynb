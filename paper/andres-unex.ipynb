{
 "cells": [
  {
   "cell_type": "code",
   "execution_count": 1,
   "id": "7ecee507-44bf-45da-a2b3-7b2000a39075",
   "metadata": {},
   "outputs": [],
   "source": [
    "%display latex"
   ]
  },
  {
   "cell_type": "code",
   "execution_count": 33,
   "id": "ba06d1fe-fac5-49e6-98f0-a8081d50fb32",
   "metadata": {},
   "outputs": [
    {
     "name": "stdout",
     "output_type": "stream",
     "text": [
      "Recurrence relation holds!\n"
     ]
    }
   ],
   "source": [
    "N = 3\n",
    "F = GF(2^3, 'x')\n",
    "x = F.gen()\n",
    "\n",
    "basis = [x^3, x^5, x^6] # self-dual basis\n",
    "\n",
    "# express an element as a linear combination of the basis\n",
    "components = lambda k: [(k * el).trace() for el in basis]\n",
    "\n",
    "# additive group character\n",
    "chi = lambda k: exp(pi * I * int(k.trace()))\n",
    "\n",
    "def toInt(k):\n",
    "    return list(F).index(k)\n",
    "\n",
    "y = var('y')\n",
    "\n",
    "# compute the coefficients for the basis elements,\n",
    "def solve_basis(basis, curve):\n",
    "    sols = []\n",
    "    for k in basis:\n",
    "        sol = solve(chi(k * curve(k)) == y^2, y, solution_dict=True)\n",
    "        sols.append(sol[1]) # positive solutions only (choice)\n",
    "    return sols\n",
    "\n",
    "# after computing the solutions we can simply\n",
    "# get them for each basis element.\n",
    "def basis_c(a, l, sols):\n",
    "    if a == 0:\n",
    "        return 1\n",
    "    return sols[l][y]\n",
    "\n",
    "# Compute an arbitrary coefficient c_{\\alpha,f} for a \n",
    "# given curve f using the general formula.\n",
    "def c(alpha, curve, sols=None):\n",
    "    if not sols:\n",
    "        sols = solve_basis(basis, curve)\n",
    "    \n",
    "    # Expand alpha in the basis\n",
    "    comps = components(alpha)\n",
    "\n",
    "    # Apply the formula\n",
    "    s1 = 0\n",
    "    for k in range(N-1):\n",
    "        s2 = 0\n",
    "        for j in range(k+1, N):\n",
    "            s2 += comps[j] * basis[j]\n",
    "        s1 += s2 * curve(comps[k] * basis[k])\n",
    "        \n",
    "    return chi(s1) * prod([basis_c(a, l, sols) for l, a in enumerate(comps)])\n",
    "\n",
    "def sign_perm(sols, perm=None):\n",
    "    if perm:\n",
    "        for k, sol in enumerate(sols):\n",
    "            sols[k][y] = perm[k] * sols[k][y]\n",
    "    return sols\n",
    "\n",
    "for mu in F:\n",
    "    curve = lambda t: mu * t # \\beta = \\mu \\alpha\n",
    "    sols = sign_perm(solve_basis(basis, curve), [1,1,1])\n",
    "    for k in F:\n",
    "        for kp in F:\n",
    "            lhs = c(k, curve, sols) * c(kp, curve, sols)\n",
    "            rhs = chi(kp * curve(k)) * c(k + kp, curve, sols)\n",
    "            if lhs != rhs:\n",
    "                raise Exception('Recurrence relation does not hold!', mu)\n",
    "print('Recurrence relation holds!')"
   ]
  },
  {
   "cell_type": "code",
   "execution_count": 34,
   "id": "22c6a3ff-98bc-467f-b0fd-9649dca1a56e",
   "metadata": {},
   "outputs": [],
   "source": [
    "def powers(pts):\n",
    "    return [(toInt(p[0]), toInt(p[1])) for p in pts]"
   ]
  },
  {
   "cell_type": "code",
   "execution_count": 35,
   "id": "e60cb7ca-1562-4b30-8d6f-431ee3f265b6",
   "metadata": {},
   "outputs": [],
   "source": [
    "def ray(mu):\n",
    "    return lambda t: mu * t\n",
    "\n",
    "def PS(curve, perms):\n",
    "    phase_space = zero_matrix(SR, 2^N, 2^N)\n",
    "    phase_space[0,:] = 1 # vertical line\n",
    "    for j, mu in enumerate(F): # iterate through the curve parametr\n",
    "        # same sign choice for a fixed curve parameter\n",
    "        sols = sign_perm(solve_basis(basis, curve(mu)), perms[j])\n",
    "        for i, a in enumerate(F):\n",
    "            # loop through alpha to obtain coefficient and\n",
    "            # corresponding point\n",
    "            coeff = c(a, curve(mu), sols)\n",
    "            b = curve(mu)(a)\n",
    "            phase_space[i, toInt(b)] = coeff\n",
    "    return phase_space"
   ]
  },
  {
   "cell_type": "code",
   "execution_count": 36,
   "id": "aa8bb6a2-34d9-40d1-97ca-b1b840c5876c",
   "metadata": {},
   "outputs": [
    {
     "data": {
      "text/html": [
       "<html>\\(\\displaystyle \\left(\\begin{array}{rrrrrrrr}\n",
       "1 & 1 & 1 & 1 & 1 & 1 & 1 & 1 \\\\\n",
       "1 & -1 & -i & 1 & -i & i & i & -1 \\\\\n",
       "1 & -i & -1 & i & -i & i & 1 & -1 \\\\\n",
       "1 & 1 & i & i & i & 1 & 1 & i \\\\\n",
       "1 & -i & -i & i & -1 & 1 & i & -1 \\\\\n",
       "1 & i & i & 1 & 1 & i & 1 & i \\\\\n",
       "1 & i & 1 & 1 & i & 1 & i & i \\\\\n",
       "1 & -1 & -1 & i & -1 & i & i & -i\n",
       "\\end{array}\\right)\\)</html>"
      ],
      "text/latex": [
       "$\\displaystyle \\left(\\begin{array}{rrrrrrrr}\n",
       "1 & 1 & 1 & 1 & 1 & 1 & 1 & 1 \\\\\n",
       "1 & -1 & -i & 1 & -i & i & i & -1 \\\\\n",
       "1 & -i & -1 & i & -i & i & 1 & -1 \\\\\n",
       "1 & 1 & i & i & i & 1 & 1 & i \\\\\n",
       "1 & -i & -i & i & -1 & 1 & i & -1 \\\\\n",
       "1 & i & i & 1 & 1 & i & 1 & i \\\\\n",
       "1 & i & 1 & 1 & i & 1 & i & i \\\\\n",
       "1 & -1 & -1 & i & -1 & i & i & -i\n",
       "\\end{array}\\right)$"
      ],
      "text/plain": [
       "[ 1  1  1  1  1  1  1  1]\n",
       "[ 1 -1 -I  1 -I  I  I -1]\n",
       "[ 1 -I -1  I -I  I  1 -1]\n",
       "[ 1  1  I  I  I  1  1  I]\n",
       "[ 1 -I -I  I -1  1  I -1]\n",
       "[ 1  I  I  1  1  I  1  I]\n",
       "[ 1  I  1  1  I  1  I  I]\n",
       "[ 1 -1 -1  I -1  I  I -I]"
      ]
     },
     "execution_count": 36,
     "metadata": {},
     "output_type": "execute_result"
    }
   ],
   "source": [
    "ps = PS(ray, [[1,1,1]] * 8)\n",
    "ps"
   ]
  },
  {
   "cell_type": "code",
   "execution_count": 37,
   "id": "0ab0f2a0-8ed6-4a56-8948-3a4c5dc436b0",
   "metadata": {},
   "outputs": [],
   "source": [
    "def Proj(u, v=None):\n",
    "    if not v:\n",
    "        v = u\n",
    "    return u.tensor_product(v.conjugate_transpose())\n",
    "\n",
    "Id = identity_matrix(2^N)\n",
    "\n",
    "def Fourier():\n",
    "    s = zero_matrix(SR, 2^N, 2^N)\n",
    "    for i, a in enumerate(F):\n",
    "        for j, b in enumerate(F):\n",
    "            s[i,j] = chi(a * b) / sqrt(2^N)\n",
    "    return s\n",
    "FF = Fourier()\n",
    "\n",
    "def phi(a, b):\n",
    "    return ps[toInt(a), toInt(b)]\n",
    "\n",
    "def Z(a):\n",
    "    return diagonal_matrix([chi(a * k) for k in F])\n",
    "\n",
    "def X(b):\n",
    "    return FF.conjugate_transpose() * Z(b) * FF\n",
    "\n",
    "def D(a, b):\n",
    "    return phi(a, b) * Z(a) * X(b)"
   ]
  },
  {
   "cell_type": "code",
   "execution_count": 38,
   "id": "527e6ecd-4974-4f3e-820b-fd9ed01d8f5b",
   "metadata": {},
   "outputs": [],
   "source": [
    "def testCurve(points):\n",
    "    for p1 in points:\n",
    "        for p2 in points:\n",
    "            p_op = D(p1[0], p1[1]) * D(p2[0], p2[1])\n",
    "            s_op = D(p1[0] + p2[0], p1[1] + p2[1]) # assuming additivity\n",
    "            if p_op != s_op:\n",
    "                raise Exception(p1, p2)\n",
    "    return True"
   ]
  },
  {
   "cell_type": "code",
   "execution_count": 39,
   "id": "c5cddc50-6f29-4dcb-a2dc-8576d379915c",
   "metadata": {},
   "outputs": [],
   "source": [
    "def checkAdditivity(points):\n",
    "    for p1 in points:\n",
    "        for p2 in points:\n",
    "            p3 = (p1[0] + p2[0], p1[1] + p2[1])\n",
    "            if p3 not in points:\n",
    "                raise Exception\n",
    "    return True\n",
    "\n",
    "def checkIsotropy(points):\n",
    "    for p1 in points:\n",
    "        for p2 in points:\n",
    "            if (p1[0]*p2[1] - p1[1]*p2[0]).trace() != 0:\n",
    "                raise Exception\n",
    "    return True"
   ]
  },
  {
   "cell_type": "markdown",
   "id": "68778c1f-0116-4afe-9a6c-9290ecfa3de7",
   "metadata": {},
   "source": [
    "We have to work backwards to obtain the curve. The first three sets of operators Andres sent us are the straight lines $\\alpha = 0$, $\\beta = 0$ and $\\beta = \\alpha$, which are trivially abelian. The fourth curve is given by the set of points:\n",
    "$$\n",
    "\\{(0,0), (x^5,x^6), (x^3+x^5,x^3), (x^3,x^3+x^6), (x^3+x^5+x^6,x^5+x^6), (x^5+x^6,x^3+x^5), \n",
    "(x^3+x^6,x^5), (x^6,x^3+x^5+x^6).\n",
    "\\}\n",
    "$$"
   ]
  },
  {
   "cell_type": "code",
   "execution_count": 8,
   "id": "94bdc2ac-a4b5-4803-b4f8-817795a53afd",
   "metadata": {},
   "outputs": [],
   "source": [
    "points = [(0,0), (x^5,x^6), (x^3+x^5,x^3), (x^3,x^3+x^6), (x^3+x^5+x^6,x^5+x^6), (x^5+x^6,x^3+x^5), \n",
    "(x^3+x^6,x^5), (x^6,x^3+x^5+x^6)]"
   ]
  },
  {
   "cell_type": "code",
   "execution_count": 9,
   "id": "99a4b432-45b1-4de6-9037-1a9b27fbb7a5",
   "metadata": {},
   "outputs": [
    {
     "data": {
      "text/html": [
       "<html>\\(\\displaystyle \\left[\\left(0, 0\\right), \\left(x^{2} + x + 1, x^{2} + 1\\right), \\left(x^{2}, x + 1\\right), \\left(x + 1, x^{2} + x\\right), \\left(1, x\\right), \\left(x, x^{2}\\right), \\left(x^{2} + x, x^{2} + x + 1\\right), \\left(x^{2} + 1, 1\\right)\\right]\\)</html>"
      ],
      "text/latex": [
       "$\\displaystyle \\left[\\left(0, 0\\right), \\left(x^{2} + x + 1, x^{2} + 1\\right), \\left(x^{2}, x + 1\\right), \\left(x + 1, x^{2} + x\\right), \\left(1, x\\right), \\left(x, x^{2}\\right), \\left(x^{2} + x, x^{2} + x + 1\\right), \\left(x^{2} + 1, 1\\right)\\right]$"
      ],
      "text/plain": [
       "[(0, 0),\n",
       " (x^2 + x + 1, x^2 + 1),\n",
       " (x^2, x + 1),\n",
       " (x + 1, x^2 + x),\n",
       " (1, x),\n",
       " (x, x^2),\n",
       " (x^2 + x, x^2 + x + 1),\n",
       " (x^2 + 1, 1)]"
      ]
     },
     "execution_count": 9,
     "metadata": {},
     "output_type": "execute_result"
    }
   ],
   "source": [
    "points"
   ]
  },
  {
   "cell_type": "code",
   "execution_count": 11,
   "id": "d15ff80c-6882-42d7-b1f8-99d68fd96127",
   "metadata": {},
   "outputs": [
    {
     "data": {
      "text/html": [
       "<html>\\(\\displaystyle \\left[\\left(0, 0\\right), \\left(5, 6\\right), \\left(2, 3\\right), \\left(3, 4\\right), \\left(7, 1\\right), \\left(1, 2\\right), \\left(4, 5\\right), \\left(6, 7\\right)\\right]\\)</html>"
      ],
      "text/latex": [
       "$\\displaystyle \\left[\\left(0, 0\\right), \\left(5, 6\\right), \\left(2, 3\\right), \\left(3, 4\\right), \\left(7, 1\\right), \\left(1, 2\\right), \\left(4, 5\\right), \\left(6, 7\\right)\\right]$"
      ],
      "text/plain": [
       "[(0, 0), (5, 6), (2, 3), (3, 4), (7, 1), (1, 2), (4, 5), (6, 7)]"
      ]
     },
     "execution_count": 11,
     "metadata": {},
     "output_type": "execute_result"
    }
   ],
   "source": [
    "powers(points)"
   ]
  },
  {
   "cell_type": "code",
   "execution_count": 13,
   "id": "7ee69b0c-7db6-4ffb-8bb4-df52b5778c5d",
   "metadata": {},
   "outputs": [
    {
     "data": {
      "text/html": [
       "<html>\\(\\displaystyle \\mathrm{True}\\)</html>"
      ],
      "text/latex": [
       "$\\displaystyle \\mathrm{True}$"
      ],
      "text/plain": [
       "True"
      ]
     },
     "execution_count": 13,
     "metadata": {},
     "output_type": "execute_result"
    }
   ],
   "source": [
    "testCurve(points)"
   ]
  },
  {
   "cell_type": "code",
   "execution_count": 14,
   "id": "83528dd4-3937-4b21-a225-f20acee6d0be",
   "metadata": {},
   "outputs": [],
   "source": [
    "def graph(points):\n",
    "    m = zero_matrix(SR, 2^N)\n",
    "    for p in points:\n",
    "        m[toInt(p[0]), toInt(p[1])] = 1\n",
    "    return m"
   ]
  },
  {
   "cell_type": "code",
   "execution_count": 15,
   "id": "8e7a1db1-6908-487a-b68a-ba7832ab0677",
   "metadata": {},
   "outputs": [
    {
     "data": {
      "text/html": [
       "<html>\\(\\displaystyle \\left(\\begin{array}{rrrrrrrr}\n",
       "1 & 0 & 0 & 0 & 0 & 0 & 0 & 0 \\\\\n",
       "0 & 0 & 1 & 0 & 0 & 0 & 0 & 0 \\\\\n",
       "0 & 0 & 0 & 1 & 0 & 0 & 0 & 0 \\\\\n",
       "0 & 0 & 0 & 0 & 1 & 0 & 0 & 0 \\\\\n",
       "0 & 0 & 0 & 0 & 0 & 1 & 0 & 0 \\\\\n",
       "0 & 0 & 0 & 0 & 0 & 0 & 1 & 0 \\\\\n",
       "0 & 0 & 0 & 0 & 0 & 0 & 0 & 1 \\\\\n",
       "0 & 1 & 0 & 0 & 0 & 0 & 0 & 0\n",
       "\\end{array}\\right)\\)</html>"
      ],
      "text/latex": [
       "$\\displaystyle \\left(\\begin{array}{rrrrrrrr}\n",
       "1 & 0 & 0 & 0 & 0 & 0 & 0 & 0 \\\\\n",
       "0 & 0 & 1 & 0 & 0 & 0 & 0 & 0 \\\\\n",
       "0 & 0 & 0 & 1 & 0 & 0 & 0 & 0 \\\\\n",
       "0 & 0 & 0 & 0 & 1 & 0 & 0 & 0 \\\\\n",
       "0 & 0 & 0 & 0 & 0 & 1 & 0 & 0 \\\\\n",
       "0 & 0 & 0 & 0 & 0 & 0 & 1 & 0 \\\\\n",
       "0 & 0 & 0 & 0 & 0 & 0 & 0 & 1 \\\\\n",
       "0 & 1 & 0 & 0 & 0 & 0 & 0 & 0\n",
       "\\end{array}\\right)$"
      ],
      "text/plain": [
       "[1 0 0 0 0 0 0 0]\n",
       "[0 0 1 0 0 0 0 0]\n",
       "[0 0 0 1 0 0 0 0]\n",
       "[0 0 0 0 1 0 0 0]\n",
       "[0 0 0 0 0 1 0 0]\n",
       "[0 0 0 0 0 0 1 0]\n",
       "[0 0 0 0 0 0 0 1]\n",
       "[0 1 0 0 0 0 0 0]"
      ]
     },
     "execution_count": 15,
     "metadata": {},
     "output_type": "execute_result"
    }
   ],
   "source": [
    "graph(points)"
   ]
  },
  {
   "cell_type": "markdown",
   "id": "58ab7a28-9e30-4072-b9f3-6933142c4155",
   "metadata": {},
   "source": [
    "As we can see this curve is also a straight line $\\beta = x \\alpha$. The fifth curve is given by:\n",
    "$$\n",
    "\\{(0,0), (x^6,x^3), (x^5,x^3+x^5), (x^5+x^6,x^5), (x^3,x^5+x^6), (x^3+x^5,x^3+x^6), (x^3+x^6,1), (1,x^6)\\}$$"
   ]
  },
  {
   "cell_type": "code",
   "execution_count": 42,
   "id": "bc54e76b-6989-4a22-b71a-639e445e5579",
   "metadata": {},
   "outputs": [],
   "source": [
    "points = [(F(0),F(0)), (x^6,x^3), (x^5,x^3+x^5), (x^5+x^6,x^5), (x^3,x^5+x^6), (x^3+x^5,x^3+x^6), (x^3+x^6,F(1)), (F(1),x^6)]"
   ]
  },
  {
   "cell_type": "code",
   "execution_count": 43,
   "id": "21a2ceba-9057-42df-b18e-275d3915674f",
   "metadata": {},
   "outputs": [
    {
     "data": {
      "text/html": [
       "<html>\\(\\displaystyle \\left[\\left(0, 0\\right), \\left(x^{2} + 1, x + 1\\right), \\left(x^{2} + x + 1, x^{2}\\right), \\left(x, x^{2} + x + 1\\right), \\left(x + 1, x\\right), \\left(x^{2}, x^{2} + x\\right), \\left(x^{2} + x, 1\\right), \\left(1, x^{2} + 1\\right)\\right]\\)</html>"
      ],
      "text/latex": [
       "$\\displaystyle \\left[\\left(0, 0\\right), \\left(x^{2} + 1, x + 1\\right), \\left(x^{2} + x + 1, x^{2}\\right), \\left(x, x^{2} + x + 1\\right), \\left(x + 1, x\\right), \\left(x^{2}, x^{2} + x\\right), \\left(x^{2} + x, 1\\right), \\left(1, x^{2} + 1\\right)\\right]$"
      ],
      "text/plain": [
       "[(0, 0),\n",
       " (x^2 + 1, x + 1),\n",
       " (x^2 + x + 1, x^2),\n",
       " (x, x^2 + x + 1),\n",
       " (x + 1, x),\n",
       " (x^2, x^2 + x),\n",
       " (x^2 + x, 1),\n",
       " (1, x^2 + 1)]"
      ]
     },
     "execution_count": 43,
     "metadata": {},
     "output_type": "execute_result"
    }
   ],
   "source": [
    "points"
   ]
  },
  {
   "cell_type": "code",
   "execution_count": 44,
   "id": "04a89d0f-bdc0-44b8-90fc-61937ebce26f",
   "metadata": {},
   "outputs": [
    {
     "data": {
      "text/html": [
       "<html>\\(\\displaystyle \\left[\\left(0, 0\\right), \\left(6, 3\\right), \\left(5, 2\\right), \\left(1, 5\\right), \\left(3, 1\\right), \\left(2, 4\\right), \\left(4, 7\\right), \\left(7, 6\\right)\\right]\\)</html>"
      ],
      "text/latex": [
       "$\\displaystyle \\left[\\left(0, 0\\right), \\left(6, 3\\right), \\left(5, 2\\right), \\left(1, 5\\right), \\left(3, 1\\right), \\left(2, 4\\right), \\left(4, 7\\right), \\left(7, 6\\right)\\right]$"
      ],
      "text/plain": [
       "[(0, 0), (6, 3), (5, 2), (1, 5), (3, 1), (2, 4), (4, 7), (7, 6)]"
      ]
     },
     "execution_count": 44,
     "metadata": {},
     "output_type": "execute_result"
    }
   ],
   "source": [
    "powers(points)"
   ]
  },
  {
   "cell_type": "code",
   "execution_count": 45,
   "id": "106f4fbe-122f-4a19-8fd6-84255885ab1a",
   "metadata": {},
   "outputs": [
    {
     "data": {
      "text/html": [
       "<html>\\(\\displaystyle \\left(\\begin{array}{rrrrrrrr}\n",
       "1 & 0 & 0 & 0 & 0 & 0 & 0 & 0 \\\\\n",
       "0 & 0 & 0 & 0 & 0 & 1 & 0 & 0 \\\\\n",
       "0 & 0 & 0 & 0 & 1 & 0 & 0 & 0 \\\\\n",
       "0 & 1 & 0 & 0 & 0 & 0 & 0 & 0 \\\\\n",
       "0 & 0 & 0 & 0 & 0 & 0 & 0 & 1 \\\\\n",
       "0 & 0 & 1 & 0 & 0 & 0 & 0 & 0 \\\\\n",
       "0 & 0 & 0 & 1 & 0 & 0 & 0 & 0 \\\\\n",
       "0 & 0 & 0 & 0 & 0 & 0 & 1 & 0\n",
       "\\end{array}\\right)\\)</html>"
      ],
      "text/latex": [
       "$\\displaystyle \\left(\\begin{array}{rrrrrrrr}\n",
       "1 & 0 & 0 & 0 & 0 & 0 & 0 & 0 \\\\\n",
       "0 & 0 & 0 & 0 & 0 & 1 & 0 & 0 \\\\\n",
       "0 & 0 & 0 & 0 & 1 & 0 & 0 & 0 \\\\\n",
       "0 & 1 & 0 & 0 & 0 & 0 & 0 & 0 \\\\\n",
       "0 & 0 & 0 & 0 & 0 & 0 & 0 & 1 \\\\\n",
       "0 & 0 & 1 & 0 & 0 & 0 & 0 & 0 \\\\\n",
       "0 & 0 & 0 & 1 & 0 & 0 & 0 & 0 \\\\\n",
       "0 & 0 & 0 & 0 & 0 & 0 & 1 & 0\n",
       "\\end{array}\\right)$"
      ],
      "text/plain": [
       "[1 0 0 0 0 0 0 0]\n",
       "[0 0 0 0 0 1 0 0]\n",
       "[0 0 0 0 1 0 0 0]\n",
       "[0 1 0 0 0 0 0 0]\n",
       "[0 0 0 0 0 0 0 1]\n",
       "[0 0 1 0 0 0 0 0]\n",
       "[0 0 0 1 0 0 0 0]\n",
       "[0 0 0 0 0 0 1 0]"
      ]
     },
     "execution_count": 45,
     "metadata": {},
     "output_type": "execute_result"
    }
   ],
   "source": [
    "graph(points)"
   ]
  },
  {
   "cell_type": "code",
   "execution_count": 22,
   "id": "182918b4-7987-4d8c-8a07-6fc5fb50ef75",
   "metadata": {},
   "outputs": [
    {
     "data": {
      "text/html": [
       "<html>\\(\\displaystyle \\mathrm{True}\\)</html>"
      ],
      "text/latex": [
       "$\\displaystyle \\mathrm{True}$"
      ],
      "text/plain": [
       "True"
      ]
     },
     "execution_count": 22,
     "metadata": {},
     "output_type": "execute_result"
    }
   ],
   "source": [
    "testCurve(points)"
   ]
  },
  {
   "cell_type": "markdown",
   "id": "617d88a2-5a00-400d-9299-551b2b433314",
   "metadata": {},
   "source": [
    "This last curve doesn't seem to be a straight line, but it is still abelian."
   ]
  },
  {
   "cell_type": "code",
   "execution_count": 27,
   "id": "4230dac7-3db8-4ee1-a5be-a9d55a235380",
   "metadata": {},
   "outputs": [
    {
     "name": "stdout",
     "output_type": "stream",
     "text": [
      "x + 1 \t x\n"
     ]
    }
   ],
   "source": [
    "for phi0 in F:\n",
    "    for phi in F:\n",
    "        pts = [(a, phi0 * a + phi^2 * a^2 + phi * a^4) for a in F]\n",
    "        if set(pts) == set(points):\n",
    "            print(phi0, '\\t', phi)\n",
    "            break"
   ]
  },
  {
   "cell_type": "code",
   "execution_count": 41,
   "id": "bf462762-ff31-4b60-9b97-920bc652f11b",
   "metadata": {},
   "outputs": [
    {
     "data": {
      "text/html": [
       "<html>\\(\\displaystyle \\left(\\begin{array}{rrrrrrrr}\n",
       "1 & 0 & 0 & 0 & 0 & 0 & 0 & 0 \\\\\n",
       "0 & 0 & 0 & 0 & 0 & 1 & 0 & 0 \\\\\n",
       "0 & 0 & 0 & 0 & 1 & 0 & 0 & 0 \\\\\n",
       "0 & 1 & 0 & 0 & 0 & 0 & 0 & 0 \\\\\n",
       "0 & 0 & 0 & 0 & 0 & 0 & 0 & 1 \\\\\n",
       "0 & 0 & 1 & 0 & 0 & 0 & 0 & 0 \\\\\n",
       "0 & 0 & 0 & 1 & 0 & 0 & 0 & 0 \\\\\n",
       "0 & 0 & 0 & 0 & 0 & 0 & 1 & 0\n",
       "\\end{array}\\right)\\)</html>"
      ],
      "text/latex": [
       "$\\displaystyle \\left(\\begin{array}{rrrrrrrr}\n",
       "1 & 0 & 0 & 0 & 0 & 0 & 0 & 0 \\\\\n",
       "0 & 0 & 0 & 0 & 0 & 1 & 0 & 0 \\\\\n",
       "0 & 0 & 0 & 0 & 1 & 0 & 0 & 0 \\\\\n",
       "0 & 1 & 0 & 0 & 0 & 0 & 0 & 0 \\\\\n",
       "0 & 0 & 0 & 0 & 0 & 0 & 0 & 1 \\\\\n",
       "0 & 0 & 1 & 0 & 0 & 0 & 0 & 0 \\\\\n",
       "0 & 0 & 0 & 1 & 0 & 0 & 0 & 0 \\\\\n",
       "0 & 0 & 0 & 0 & 0 & 0 & 1 & 0\n",
       "\\end{array}\\right)$"
      ],
      "text/plain": [
       "[1 0 0 0 0 0 0 0]\n",
       "[0 0 0 0 0 1 0 0]\n",
       "[0 0 0 0 1 0 0 0]\n",
       "[0 1 0 0 0 0 0 0]\n",
       "[0 0 0 0 0 0 0 1]\n",
       "[0 0 1 0 0 0 0 0]\n",
       "[0 0 0 1 0 0 0 0]\n",
       "[0 0 0 0 0 0 1 0]"
      ]
     },
     "execution_count": 41,
     "metadata": {},
     "output_type": "execute_result"
    }
   ],
   "source": [
    "graph([(k, x^3 * k + x^2 * k^2 + x * k^4) for k in F])"
   ]
  },
  {
   "cell_type": "code",
   "execution_count": 40,
   "id": "81b7ef8b-9dd4-4748-bdf0-b5c656b07dde",
   "metadata": {},
   "outputs": [
    {
     "data": {
      "text/html": [
       "<html>\\(\\displaystyle \\mathrm{True}\\)</html>"
      ],
      "text/latex": [
       "$\\displaystyle \\mathrm{True}$"
      ],
      "text/plain": [
       "True"
      ]
     },
     "execution_count": 40,
     "metadata": {},
     "output_type": "execute_result"
    }
   ],
   "source": [
    "testCurve([(k, x^3 * k + x^2 * k^2 + x * k^4) for k in F])"
   ]
  },
  {
   "cell_type": "code",
   "execution_count": 46,
   "id": "1775d291-f3cb-45b2-a5c1-4d14f78ccaa8",
   "metadata": {},
   "outputs": [
    {
     "data": {
      "text/html": [
       "<html>\\(\\displaystyle 0\\)</html>"
      ],
      "text/latex": [
       "$\\displaystyle 0$"
      ],
      "text/plain": [
       "0"
      ]
     },
     "execution_count": 46,
     "metadata": {},
     "output_type": "execute_result"
    }
   ],
   "source": [
    "x.trace()"
   ]
  },
  {
   "cell_type": "code",
   "execution_count": 47,
   "id": "c5577a2b-27fc-4d01-8024-f336b777d224",
   "metadata": {},
   "outputs": [],
   "source": [
    "paulis = ['1', 'Z', 'X', 'Y']"
   ]
  },
  {
   "cell_type": "code",
   "execution_count": 52,
   "id": "3a26ab30-f56e-42b0-8fa7-eb57bfc3be2f",
   "metadata": {},
   "outputs": [],
   "source": [
    "def decomposePoint(p):\n",
    "    acomps = components(p[0])\n",
    "    bcomps = components(p[1])\n",
    "    s = ''\n",
    "    for i in range(N):\n",
    "        if acomps[i] == 0 and bcomps[i] == 0:\n",
    "            s += '1'\n",
    "        elif acomps[i] == 1 and bcomps[i] == 0:\n",
    "            s += 'Z'\n",
    "        elif acomps[i] == 0 and bcomps[i] == 1:\n",
    "            s += 'X'\n",
    "        else:\n",
    "            s += 'Y'\n",
    "    return s\n",
    "\n",
    "def decomposePoints(points):\n",
    "    return [decomposePoint(p) for p in points]"
   ]
  },
  {
   "cell_type": "code",
   "execution_count": 53,
   "id": "1c789934-0b89-486b-938c-67aba697c591",
   "metadata": {},
   "outputs": [
    {
     "data": {
      "text/html": [
       "<html>\\(\\displaystyle \\left[111, \\verb|1YZ|, \\verb|YZX|, \\verb|ZXX|, \\verb|YXY|, \\verb|XY1|, \\verb|X1Z|, \\verb|ZZY|\\right]\\)</html>"
      ],
      "text/latex": [
       "$\\displaystyle \\left[111, \\verb|1YZ|, \\verb|YZX|, \\verb|ZXX|, \\verb|YXY|, \\verb|XY1|, \\verb|X1Z|, \\verb|ZZY|\\right]$"
      ],
      "text/plain": [
       "['111', '1YZ', 'YZX', 'ZXX', 'YXY', 'XY1', 'X1Z', 'ZZY']"
      ]
     },
     "execution_count": 53,
     "metadata": {},
     "output_type": "execute_result"
    }
   ],
   "source": [
    "decomposePoints([(k, x^3 * k + x^2 * k^2 + x * k^4) for k in F])"
   ]
  },
  {
   "cell_type": "code",
   "execution_count": null,
   "id": "e54911ac-8773-4c57-8ec9-6b902c1cdc56",
   "metadata": {},
   "outputs": [],
   "source": []
  }
 ],
 "metadata": {
  "kernelspec": {
   "display_name": "SageMath 9.8",
   "language": "sage",
   "name": "sagemath"
  },
  "language_info": {
   "codemirror_mode": {
    "name": "ipython",
    "version": 3
   },
   "file_extension": ".py",
   "mimetype": "text/x-python",
   "name": "python",
   "nbconvert_exporter": "python",
   "pygments_lexer": "ipython3",
   "version": "3.9.16"
  }
 },
 "nbformat": 4,
 "nbformat_minor": 5
}
